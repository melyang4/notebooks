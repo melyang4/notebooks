{
 "cells": [
  {
   "cell_type": "markdown",
   "metadata": {},
   "source": []
  },
  {
   "cell_type": "code",
   "execution_count": 1,
   "metadata": {},
   "outputs": [
    {
     "name": "stdout",
     "output_type": "stream",
     "text": [
      "Overwriting /mnt/solexa/mel_yang/BGI/mergeUPA8_BGIfreqs.py\n"
     ]
    }
   ],
   "source": [
    "%%writefile /mnt/solexa/mel_yang/BGI/mergeUPA8_BGIfreqs.py\n",
    "\n",
    "pd=\"/mnt/solexa/mel_yang/BGI/\"\n",
    "sets=[\"OnlyHan\",\"ByProvince\",\"Minority\"]\n",
    "fh=\"ind_A_v13_TBH6Afr\"\n",
    "fh2=\"HO6filt\"\n",
    "newfh=\"HO6_BGI\"\n",
    "#myfiles=[open(pd+\"UPA_all8_freqs.txt\",'r')]\n",
    "#myfiles+=[open(pd+\"%s_UPAfilt_freqs.txt\" % (name),'r') for name in sets]\n",
    "#newfile=open(pd+\"UPA8_BGI_freqs.txt\",'w')\n",
    "myfiles=[open(pd+\"%s_freqs.txt\" % fh,'r')]\n",
    "myfiles+=[open(pd+\"%s_%s_freqs.txt\" % (name,fh2),'r') for name in sets]\n",
    "newfile=open(pd+\"%s_freqs.txt\" % newfh,'w')\n",
    "\n",
    "\n",
    "num=0\n",
    "while num<556861:\n",
    "    mylines=[myfile.readline().split() for myfile in myfiles]\n",
    "    myset=mylines[0]+mylines[1][2:]+mylines[2][2:]+mylines[3][2:]\n",
    "    newfile.write('\\t'.join(myset)+'\\n')\n",
    "    num+=1\n",
    "\n",
    "for i in myfiles: i.close()\n",
    "newfile.close()"
   ]
  },
  {
   "cell_type": "code",
   "execution_count": null,
   "metadata": {
    "collapsed": true
   },
   "outputs": [],
   "source": []
  },
  {
   "cell_type": "code",
   "execution_count": 2,
   "metadata": {},
   "outputs": [
    {
     "name": "stdout",
     "output_type": "stream",
     "text": [
      "Overwriting /mnt/solexa/mel_yang/BGI/makesiteinfofile.py\n"
     ]
    }
   ],
   "source": [
    "%%writefile /mnt/solexa/mel_yang/BGI/makesiteinfofile.py \n",
    "\n",
    "############################################################################\n",
    "############## MAKE SITEINFO FILE, USING NEW FREQS FILE!! ##################\n",
    "############################################################################\n",
    "import tabix\n",
    "#fh=\"UPA_all8\"\n",
    "#newfh=\"UPAfilt\"\n",
    "fh=\"ind_A_v13_TBH6\"\n",
    "newfh=\"HO6filt\"\n",
    "\n",
    "pd=\"/mnt/solexa/mel_yang/BGI/\"\n",
    "sets=[\"OnlyHan\",\"ByProvince\",\"Minority\"]\n",
    "BGIfiles=[tabix.open(pd+\"BGI/OnlyHan_siteinfo.txt.gz\")]\n",
    "BGIfiles+=[tabix.open(pd+\"BGI/%s_freqs.txt.gz\" % (name)) for name in sets]\n",
    "\n",
    "newfiles=[open(pd+\"%s_siteinfo.txt\" % fh,'w')]\n",
    "newfiles+=[open(pd+\"%s_%s_freqs.txt\" % (name,newfh),'w') for name in sets]\n",
    "myfreqsfile=open(pd+\"%s_freqs.txt\" % fh,'r')\n",
    "for line in myfreqsfile:\n",
    "        x=line.split()\n",
    "        myqueries = [BGI.query(x[0],int(x[1])-1,int(x[1])) for BGI in BGIfiles]\n",
    "        record=[i for query in myqueries for i in query]\n",
    "        for ind,myentry in enumerate(record):\n",
    "                mystr=\"\\t\".join(myentry)\n",
    "                newfiles[ind].write(mystr+\"\\n\")\n",
    "        #break\n",
    "\n",
    "myfreqsfile.close()\n",
    "for i in newfiles: i.close()"
   ]
  },
  {
   "cell_type": "code",
   "execution_count": null,
   "metadata": {
    "collapsed": true
   },
   "outputs": [],
   "source": []
  },
  {
   "cell_type": "code",
   "execution_count": 2,
   "metadata": {
    "collapsed": true
   },
   "outputs": [],
   "source": [
    "pd=\"/mnt/solexa/mel_yang/BGI/\"\n",
    "sets=[\"OnlyHan\",\"ByProvince\",\"Minority\"]\n",
    "\n",
    "fh=\"ind_A_v13_TBH6Afr\"\n",
    "newfh=\"HO6_BGI\"\n",
    "\n",
    "myfiles=[open(pd+\"%s_nind.txt\" % fh,'r')]\n",
    "myfiles+=[open(pd+\"BGI/%s_nind.txt\" % (name),'r') for name in sets]\n",
    "addons=[\"\",\"_H\",\"_N\",\"\"]\n",
    "newfile=open(pd+\"%s_nind.txt\" % newfh,'w')\n",
    "for ind,myfile in enumerate(myfiles):\n",
    "    if ind in [0,3]:\n",
    "        for line in myfile: \n",
    "            newfile.write(line)\n",
    "    elif ind in [1,2]:\n",
    "        for line in myfile:\n",
    "            x=line.split()\n",
    "            x[0]+=addons[ind]\n",
    "            newfile.write(\"\\t\".join(x)+\"\\n\")\n",
    "for i in myfiles: i.close()\n",
    "newfile.close()"
   ]
  },
  {
   "cell_type": "code",
   "execution_count": null,
   "metadata": {
    "collapsed": true
   },
   "outputs": [],
   "source": []
  }
 ],
 "metadata": {
  "kernelspec": {
   "display_name": "Python 2",
   "language": "python",
   "name": "python2"
  },
  "language_info": {
   "codemirror_mode": {
    "name": "ipython",
    "version": 2
   },
   "file_extension": ".py",
   "mimetype": "text/x-python",
   "name": "python",
   "nbconvert_exporter": "python",
   "pygments_lexer": "ipython2",
   "version": "2.7.13"
  }
 },
 "nbformat": 4,
 "nbformat_minor": 2
}
