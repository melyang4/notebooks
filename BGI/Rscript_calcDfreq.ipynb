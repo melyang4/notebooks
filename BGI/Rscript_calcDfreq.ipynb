{
 "cells": [
  {
   "cell_type": "markdown",
   "metadata": {},
   "source": [
    "# Calculate D-statistic using frequency data\n",
    "1. Making population file, listing sets of four populations to calculate D for. \n",
    "2. R script for calculating D, modified from original script sent by Anders. \n",
    "3. Python function to turn resulting .mat file into matrix of Z-scores (Zmat) and D values (Dmat)"
   ]
  },
  {
   "cell_type": "code",
   "execution_count": 129,
   "metadata": {},
   "outputs": [
    {
     "name": "stdout",
     "output_type": "stream",
     "text": [
      "Overwriting /mnt/solexa/mel_yang/BGI/makepopfile_BGI_BGI_p3.py\n"
     ]
    }
   ],
   "source": [
    "%%writefile /mnt/solexa/mel_yang/BGI/makepopfile_BGI_BGI_p3.py\n",
    "## python makepopfile.py p3popname\n",
    "\n",
    "import sys\n",
    "import projmodules as pm\n",
    "pd=\"/mnt/solexa/mel_yang/BGI/\"\n",
    "anc=[\"Mbuti\"]\n",
    "p3s=[sys.argv[1]] #,\"Han\",\"Dai\",\"Daur\",\"Boisman_MN\",\"BoshanChineseNeolithic\",\"LiangDaoChineseNeolithic\"]\n",
    "\n",
    "minofile=open(pd+\"BGI/Minority_nind.txt\",'r')\n",
    "minopops=[line.split()[0] for line in minofile]\n",
    "minofile.close()\n",
    "\n",
    "hanfile=open(pd+\"BGI/OnlyHan_nind.txt\",'r')\n",
    "bgipops=[line.split()[0] for line in hanfile]\n",
    "hanfile.close()\n",
    "ranpops=[i+\"_N\" for i in bgipops]\n",
    "hanpops=[i+\"_H\" for i in bgipops]\n",
    "\n",
    "p1and2 = [ (i,j) for i in hanpops+ranpops+minopops for j in hanpops+ranpops+minopops ]\n",
    "\n",
    "\n",
    "pm.Dpopfile(p1and2,p3s,anc,pd+\"HO6_BGI\",\"BGI_BGI_%s_Mbuti\" % p3s[0],f4mode=False)"
   ]
  },
  {
   "cell_type": "code",
   "execution_count": 128,
   "metadata": {},
   "outputs": [
    {
     "name": "stdout",
     "output_type": "stream",
     "text": [
      "Overwriting /mnt/solexa/mel_yang/BGI/makepopfile_EAS_EAS_p3.py\n"
     ]
    }
   ],
   "source": [
    "%%writefile /mnt/solexa/mel_yang/BGI/makepopfile_EAS_EAS_p3.py\n",
    "## python makepopfile.py p3popname\n",
    "\n",
    "import sys\n",
    "import projmodules as pm\n",
    "pd=\"/mnt/solexa/mel_yang/BGI/\"\n",
    "anc=[\"Mbuti\"]\n",
    "p3s=[sys.argv[1]] #,\"Han\",\"Dai\",\"Daur\",\"Boisman_MN\",\"BoshanChineseNeolithic\",\"LiangDaoChineseNeolithic\"]\n",
    "\n",
    "eas=[\"Ami\",\"Atayal\",\"Dai\",\"Daur\",\"Han\",\"Hezhen\",\"Japanese\",\"Korean\",\"Kinh\",\n",
    "     \"Lahu\",\"Miao\",\"Naxi\",\"Oroqen\",\"She\",\"Tujia\",\"Yi\"]\n",
    "\n",
    "ancasn=[\"Tianyuan\",'Longlin','Longlin_com','Xinyi','Xinyi_other','Daxi',\n",
    "        'LiangDaoChineseNeolithic','Boisman_MN','BoshanChineseNeolithic',\n",
    "        'Bbdong','Linzi','HDYM1','HQSDW','Zongri','Pukagongma']\n",
    "\n",
    "p1and2 = [ (i,j) for i in eas+ancasn for j in eas+ancasn ]\n",
    "\n",
    "\n",
    "pm.Dpopfile(p1and2,p3s,anc,pd+\"UPA8_BGI\",\"EAS_EAS_%s_Mbuti\" % p3s[0],f4mode=False)"
   ]
  },
  {
   "cell_type": "code",
   "execution_count": 1,
   "metadata": {},
   "outputs": [
    {
     "data": {
      "text/plain": [
       "10000"
      ]
     },
     "execution_count": 1,
     "metadata": {},
     "output_type": "execute_result"
    }
   ],
   "source": [
    "import projmodules as pm\n",
    "pd=\"/mnt/solexa/mel_yang/BGI/\"\n",
    "anc=[\"Mbuti\"]\n",
    "p1s=[\"Xinyi\"] #,\"Han\",\"Dai\",\"Daur\",\"Boisman_MN\",\"BoshanChineseNeolithic\",\"LiangDaoChineseNeolithic\"]\n",
    "p1s=[\"Dai\"]\n",
    "\n",
    "minofile=open(pd+\"BGI/Minority_nind.txt\",'r')\n",
    "minopops=[line.split()[0] for line in minofile]\n",
    "minofile.close()\n",
    "\n",
    "hanfile=open(pd+\"BGI/OnlyHan_nind.txt\",'r')\n",
    "bgipops=[line.split()[0] for line in hanfile]\n",
    "hanfile.close()\n",
    "ranpops=[i+\"_N\" for i in bgipops]\n",
    "hanpops=[i+\"_H\" for i in bgipops]\n",
    "\n",
    "p3s=hanpops+ranpops+minopops\n",
    "p1and2 = [ (p1s[0],j) for j in hanpops+ranpops+minopops ]\n",
    "\n",
    "\n",
    "#pm.Dpopfile(p1and2,p3s,anc,pd+\"UPA8_BGI\",\"%s_BGI_BGI_Mbuti\" % p1s[0],f4mode=False)\n",
    "pm.Dpopfile(p1and2,p3s,anc,pd+\"HO6_BGI\",\"%s_BGI_BGI_Mbuti\" % p1s[0],f4mode=False)"
   ]
  },
  {
   "cell_type": "code",
   "execution_count": null,
   "metadata": {
    "collapsed": true
   },
   "outputs": [],
   "source": []
  },
  {
   "cell_type": "code",
   "execution_count": 30,
   "metadata": {},
   "outputs": [
    {
     "data": {
      "text/plain": [
       "210"
      ]
     },
     "execution_count": 30,
     "metadata": {},
     "output_type": "execute_result"
    }
   ],
   "source": [
    "import projmodules as pm\n",
    "pd=\"/mnt/solexa/mel_yang/BGI/\"\n",
    "anc=[\"Mbuti\"]\n",
    "p3s=[\"Xinyi\"] #,\"Han\",\"Dai\",\"Daur\",\"Boisman_MN\",\"BoshanChineseNeolithic\",\"LiangDaoChineseNeolithic\"]\n",
    "\n",
    "eup=[\"GoyetQ116-1\",\"Vestonice16\",\"Yana_old\",\"Yana_old2\",\n",
    "     \"Malta1\",'AfontovaGora3',\"ElMiron\",\"Villabruna\",\"Satsurblia\",\"Karelia\",\n",
    "     \"Loschbour\",\"LaBrana1\",\"Hungarian.KO1\",\"Stuttgart\",\"French\"]\n",
    "\n",
    "#p1and2 = [ (i,j) for i in [\"Han\",\"Ami\",\"Dai\"]+hanpops+ranpops+minopops for j in [\"Vestonice16\",\"Kostenki14\"] ]\n",
    "p1and2 = [ (i,j) for i in eup for j in eup if i!=j ]\n",
    "\n",
    "\n",
    "pm.Dpopfile(p1and2,p3s,anc,pd+\"UPA8_BGI\",\"ANCEUR_ANCEUR_%s_Mbuti\" % p3s[0],f4mode=False)"
   ]
  },
  {
   "cell_type": "markdown",
   "metadata": {},
   "source": [
    "## 2. R script to calculate D-stat using frequency data"
   ]
  },
  {
   "cell_type": "code",
   "execution_count": 8,
   "metadata": {},
   "outputs": [
    {
     "name": "stdout",
     "output_type": "stream",
     "text": [
      "Overwriting /mnt/solexa/mel_yang/BGI/Dfreq.R\n"
     ]
    }
   ],
   "source": [
    "%%writefile /mnt/solexa/mel_yang/BGI/Dfreq.R\n",
    "args <- commandArgs(trailingOnly = TRUE)\n",
    "\n",
    "if(length(args) < 2) {\n",
    "  args <- c(\"--help\")\n",
    "}\n",
    "## Help section\n",
    "if(\"--help\" %in% args) {\n",
    "  cat(\"\n",
    "      Example:\n",
    "\n",
    "      Rscript Dfreq.R  /mnt/solexa/mel_yang/BGI/ UPA8_BGI BGI_BGI_LiangDaoChineseNeolithic_Mbuti\n",
    "\n",
    "      Rscript plotPcaFromSmartpca.R  pd fh label\n",
    "      Note that fh should have an '_freqs.txt' and a '_nind.txt' file\n",
    "      The label should go with the .pop file, which should be of the form pd+fh+'.D.'+label+'.pop'\\n\\n\")\n",
    "    \n",
    "  q(save=\"no\")\n",
    "}\n",
    "\n",
    "#Frequencies for 1000 SNPs for 10 indivduals\n",
    "library(iotools)\n",
    "\n",
    "pd= args[1] #\"/mnt/solexa/mel_yang/BGI/\"\n",
    "fh=args[2] #\"UPA8_BGI\"\n",
    "label=args[3] #\"BGI_BGI_LiangDaoChineseNeolithic_Mbuti\"\n",
    "\n",
    "####### functions ################\n",
    "\n",
    "blockJackUneven<-function(dat,theta=function(x) sum(x[,1])/sum(x[,2])){\n",
    "   dat<-dat[dat[,3]>0,]\n",
    "   nblocks<-dim(dat)[1]\n",
    "\n",
    "   thetaEst<-theta(dat)\n",
    "   etai<-rep(0, nblocks)\n",
    "   blockSize<-dat[,3]\n",
    "   blockFrac<-blockSize/sum(blockSize)\n",
    "\n",
    "   for(i in 1:nblocks)\n",
    "     etai[i]<-theta(dat[-i,])\n",
    "\n",
    "   meanJack<-mean(etai)\n",
    "   jackEst<-nblocks*thetaEst-sum((1-blockFrac)*etai)\n",
    "   jackVar<-(nblocks-1)/nblocks * sum((etai-meanJack)^2)\n",
    "   jackVar<-1/nblocks * sum( 1/(1/blockFrac-1) * \n",
    "(1/blockFrac*thetaEst-(1/blockFrac-1)*etai - \n",
    "nblocks*thetaEst+sum((1-blockFrac)*etai))^2)\n",
    "\n",
    "  return(c(jackVar=jackVar,jackEst=jackEst))\n",
    "}\n",
    "\n",
    "getD<-function(x,freq,siteInfo){\n",
    "\n",
    "\n",
    "  f<-freq[,x]\n",
    "  #keep1<-rowSums(is.na(f))==0\n",
    "  keep1<-is.na(rowSums(f))==0 ##CHANGED\n",
    "\n",
    "   if(sum(keep1)<10){\n",
    "      res<-rep(NA,8)\n",
    "names(res)<-c(\"D\",\"Djack\",\"SE\",\"Z\",\"diff\",\"total\",\"Nsites\",\"Nblocks\")\n",
    "      return(res)\n",
    "\n",
    "  }\n",
    "    \n",
    "  f=freq[keep1,x] ##ADDED\n",
    "\n",
    "  n<-(f[,3]-f[,4])*(f[,2]-f[,1])\n",
    "\n",
    "  d<-(f[,3]+f[,4]-2*f[,3]*f[,4])*(f[,1]+f[,2]-2*f[,1]*f[,2])\n",
    "\n",
    "\n",
    "  res<-1\n",
    "  keep<-d>0\n",
    "  n<-n[keep]\n",
    "  d<-d[keep]\n",
    "  est<-sum(n)/sum(d)\n",
    "  nb<-ctapply(n,siteInfo$block[keep1][keep],sum)\n",
    "  db<-ctapply(d,siteInfo$block[keep1][keep],sum)\n",
    "  lb<-ctapply(d,siteInfo$block[keep1][keep],length)\n",
    "  Z<-NA\n",
    "  se<-NA\n",
    "  estJ<-NA\n",
    "\n",
    "  if(length(lb)>19){\n",
    "      jackRes<-blockJackUneven(cbind(nb,db,lb))\n",
    "      estJ<-jackRes[2]\n",
    "      se<-sqrt(jackRes[1])\n",
    "      Z<-est/se\n",
    "  }\n",
    "  res<-c(est,estJ,se,Z,sum(n),sum(d),sum(keep),length(nb))\n",
    "  names(res)<-c(\"D\",\"Djack\",\"SE\",\"Z\",\"diff\",\"total\",\"Nsites\",\"Nblocks\")\n",
    "\n",
    "  return(res)\n",
    "}\n",
    "\n",
    "#freqfile=read.table(paste(pd,\"UPA8_BGI_freqs.test\",sep=\"\"))\n",
    "freqfile=read.table(paste(pd,fh,\".noAG.noCT_freqs.txt\",sep=\"\"))\n",
    "indfile=read.table(paste(pd,fh,\"_nind.txt\",sep=\"\"))\n",
    "mypatts=read.table(paste(pd,fh,\".D.\",label,\".pop\",sep=\"\"))\n",
    "\n",
    "print (\"Read all information in!\")\n",
    "\n",
    "chr=freqfile$V1\n",
    "pos=freqfile$V2\n",
    "freqfile=freqfile[,3:ncol(freqfile)]\n",
    "freq=as.matrix(freqfile)\n",
    "\n",
    "colnames(freq) <- indfile$V1\n",
    "\n",
    "#chr <- rep(1:10,each=100)\n",
    "#pos <- unlist(lapply(1:10,function(x) sort(as.integer(runif(100)*1e8))))\n",
    "\n",
    "block<-paste(chr,cut(pos,seq(1,3e8,by=5e6))) # 5 MB blocks\n",
    "siteInfo <- data.frame(pos=pos,chr=chr,block=block)\n",
    "\n",
    "## get Dstat for tree (((pop1,pop2),pop5,pop6)\n",
    "mylabels=c()\n",
    "for (i in 1:nrow(mypatts)) {\n",
    "    y=c(as.character(mypatts[i,1]),as.character(mypatts[i,2]),as.character(mypatts[i,3]),as.character(mypatts[i,4]))\n",
    "    mylabels=c(mylabels,do.call(paste, c(as.list(y), sep=\",\")))\n",
    "    #getD(c(\"Hanzu\",\"Naxizu\",\"Yaozu\",\"Hanizu\"),freq=freq,site=siteInfo)\n",
    "    mymat=as.matrix(getD(y,freq=freq,site=siteInfo))\n",
    "    if (i==1) {\n",
    "        finmat=mymat\n",
    "    }\n",
    "    else{\n",
    "        finmat=cbind(finmat,mymat)\n",
    "    }   \n",
    "}\n",
    "colnames(finmat) = mylabels\n",
    "finmat=t(finmat)\n",
    "write.table(finmat,paste(pd,fh,\".D.\",label,\".noAG.noCT.mat\",sep=\"\"),quote=F,sep=\"\\t\")\n",
    "\n"
   ]
  },
  {
   "cell_type": "code",
   "execution_count": null,
   "metadata": {
    "collapsed": true
   },
   "outputs": [],
   "source": []
  },
  {
   "cell_type": "markdown",
   "metadata": {},
   "source": [
    "## 3. Python script to make Zmat and Dmat"
   ]
  },
  {
   "cell_type": "code",
   "execution_count": 2,
   "metadata": {},
   "outputs": [],
   "source": [
    "\n",
    "def Dfreqmatrix(pd,fh,popindex1,popindex2,ZorD=\"Z\"):\n",
    "    import numpy as np\n",
    "    \n",
    "    newfile=open(pd+fh+\".%smat.csv\" % ZorD,'w')\n",
    "    myset1,myset2=[],[]\n",
    "    myinfo={}\n",
    "    myfile=open(pd+fh+\".mat\",'r')\n",
    "    for ind,line in enumerate(myfile):\n",
    "        if ind==0: header=line.split(); continue\n",
    "        x=line.split()\n",
    "        pop1=x[0].split(',')[popindex1]\n",
    "        pop2=x[0].split(',')[popindex2]\n",
    "        if pop1 not in myset1: myset1.append(pop1)\n",
    "        if pop2 not in myset2: myset2.append(pop2)\n",
    "        statindex=header.index(ZorD)+1\n",
    "        mystat=float(x[statindex]) if x[statindex]!=\"NA\" else 0\n",
    "        myinfo[(pop1,pop2)]=mystat\n",
    "        #if mystat==\"NA\": stats.append(0)\n",
    "        #else: stats.append(float(mystat))\n",
    "    \n",
    "    myary=np.zeros((len(myset1),len(myset2)))\n",
    "    for ind1,p1 in enumerate(myset1):\n",
    "        for ind2,p2 in enumerate(myset2):\n",
    "            if p1==p2: continue\n",
    "            myary[ind1,ind2]=myinfo[(p1,p2)]\n",
    "    #myary=np.array(stats).reshape(len(myset1),len(myset2))\n",
    "    \n",
    "    newfile.write(\"%i/%i,\" % (popindex1,popindex2) +\",\".join(myset2)+'\\n')\n",
    "    for myind in range(myary.shape[0]):\n",
    "        mystr=\",\".join([\"%.3f\" % i for i in myary[myind,:]])\n",
    "        newfile.write(myset1[myind]+\",\"+mystr+\"\\n\")\n",
    "    newfile.close()\n",
    "    myfile.close()\n",
    "    \n",
    "pD=\"/mnt/solexa/mel_yang/BGI/\"\n",
    "#fh=\"UPA8_BGI.D.BGI_BGI_Dai_Mbuti\"\n",
    "fh=\"UPA8_BGI.D.Dai_BGI_BGI_Mbuti\"\n",
    "fh=\"UPA8_BGI.D.ANCEUR_ANCEUR_Tianyuan_Mbuti\"\n",
    "fh=\"UPA8_BGI.D.EAS_EAS_Ami_Mbuti\"\n",
    "Dfreqmatrix(pD,fh,0,1,'Z')"
   ]
  },
  {
   "cell_type": "code",
   "execution_count": null,
   "metadata": {
    "collapsed": true
   },
   "outputs": [],
   "source": []
  },
  {
   "cell_type": "code",
   "execution_count": null,
   "metadata": {
    "collapsed": true
   },
   "outputs": [],
   "source": []
  },
  {
   "cell_type": "code",
   "execution_count": 3,
   "metadata": {},
   "outputs": [],
   "source": [
    "\n",
    "def Dfreqmatrix(pd,fh,popindex1,popindex2,ZorD=\"Z\",fmt=\"xlsx\",newname=\"\"):\n",
    "    import numpy as np\n",
    "    \n",
    "    if newname==\"\": newfilename=pd+fh+\".%smat\" % ZorD\n",
    "    else: newfilename=pd+newname+\".%smat\" % ZorD\n",
    "        \n",
    "    if fmt==\"csv\": newfile=open(newfilename+\".csv\",'w')\n",
    "    elif fmt==\"xlsx\": \n",
    "        import xlsxwriter as xls\n",
    "        newfile=xls.Workbook(newfilename+\".xlsx\")\n",
    "        worksheet=newfile.add_worksheet(ZorD)\n",
    "        \n",
    "        mynum = newfile.add_format({'num_format': '0.0','center_across':True})\n",
    "        bold = newfile.add_format({'bold': True,'align':'center','valign':'vcenter'})\n",
    "        colheader=newfile.add_format({'bold': True,'align':'center','valign':'vcenter','rotation':90})\n",
    "        nan = newfile.add_format({'align':'center','valign':'vcenter'})\n",
    "        \n",
    "        ##SWITCHED FROM TY FORMATS BC DFREQ DOES OPPOSITE ABBA-BABA (not BABA-ABBA!)\n",
    "        l2_5 = newfile.add_format({'center_across':True,'bold':True,\n",
    "                                   'font_color':'#9C0006','bg_color':'white',\n",
    "                                   'num_format': '0.0'})\n",
    "        l3 = newfile.add_format({'center_across':True,'bold':True,'font_color':'#9C0006',\n",
    "                                   'bg_color':'#FFC7CE','num_format': '0.0'})\n",
    "        g2_5 = newfile.add_format({'center_across':True,'bold':True,'font_color':'#5B3317',\n",
    "                                   'bg_color':'white','num_format': '0.0'})\n",
    "        g3 = newfile.add_format({'center_across':True,'bold':True,'font_color':'#5B3317',\n",
    "                                   'bg_color':'#FBEFB8','num_format': '0.0'})\n",
    "        \n",
    "    else: return \"Pick fmt=csv or xlsx!\"\n",
    "    \n",
    "    myset1,myset2=[],[]\n",
    "    myinfo={}\n",
    "    myfile=open(pd+fh+\".mat\",'r')\n",
    "    for ind,line in enumerate(myfile):\n",
    "        if ind==0: header=line.split(); continue\n",
    "        x=line.split()\n",
    "        mypops=x[0].split(',')\n",
    "        pop1=mypops[popindex1]\n",
    "        pop2=mypops[popindex2]\n",
    "        mypops.remove(pop1)\n",
    "        mypops.remove(pop2)\n",
    "        if pop1 not in myset1: myset1.append(pop1)\n",
    "        if pop2 not in myset2: myset2.append(pop2)\n",
    "        statindex=header.index(ZorD)+1\n",
    "        mystat=float(x[statindex]) if x[statindex] not in [\"NA\",\"Inf\"] else float(\"nan\")\n",
    "        if pop1 in mypops or pop2 in mypops or pop1==pop2: myinfo[(pop1,pop2)]=float(\"nan\")\n",
    "        else: myinfo[(pop1,pop2)]=mystat\n",
    "        #if mystat==\"NA\": stats.append(0)\n",
    "        #else: stats.append(float(mystat))\n",
    "    \n",
    "    myary=np.zeros((len(myset1),len(myset2)))\n",
    "    for ind1,p1 in enumerate(myset1):\n",
    "        for ind2,p2 in enumerate(myset2):\n",
    "            if p1==p2: continue\n",
    "            myary[ind1,ind2]=myinfo[(p1,p2)]\n",
    "    #myary=np.array(stats).reshape(len(myset1),len(myset2))\n",
    "    if fmt==\"csv\":\n",
    "        newfile.write(\"%i/%i,\" % (popindex1,popindex2) +\",\".join(myset2)+'\\n')\n",
    "        for myind in range(myary.shape[0]):\n",
    "            mystr=\",\".join([\"%.3f\" % i for i in myary[myind,:]])\n",
    "            newfile.write(myset1[myind]+\",\"+mystr+\"\\n\")\n",
    "    elif fmt==\"xlsx\":\n",
    "        worksheet.set_column(1,len(myset2)+1,4)\n",
    "        row,col=0,0\n",
    "        worksheet.write_string(row,col,\"P%i/P%i\" % (popindex1+1,popindex2+1),bold)\n",
    "        for ind,i in enumerate(myset2): worksheet.write_string(row,col+ind+1,i,colheader)\n",
    "        for myind in range(myary.shape[0]):\n",
    "            worksheet.write_string(row+myind+1,col,myset1[myind],bold)\n",
    "            for myind2,i2 in enumerate(myary[myind,:]):\n",
    "                if str(i2)==\"nan\": \n",
    "                    worksheet.write_string(row+myind+1,col+myind2+1,\"nan\",nan)\n",
    "                else:\n",
    "                    if i2>=2.5 and i2<3: \n",
    "                        worksheet.write_number(row+myind+1,col+myind2+1,i2,g2_5)\n",
    "                    elif i2>=3:\n",
    "                        worksheet.write_number(row+myind+1,col+myind2+1,i2,g3)\n",
    "                    elif i2<=-2.5 and i2>-3:\n",
    "                        worksheet.write_number(row+myind+1,col+myind2+1,i2,l2_5)\n",
    "                    elif i2<=-3:\n",
    "                        worksheet.write_number(row+myind+1,col+myind2+1,i2,l3)\n",
    "                    else:\n",
    "                        worksheet.write_number(row+myind+1,col+myind2+1,i2,mynum)\n",
    "\n",
    "    else: return \"Pick fmt=csv or xlsx!\"\n",
    "    newfile.close()\n",
    "    myfile.close()\n",
    "    \n",
    "myset=[\"Dai\",\"Daur\",\"Ami\",\"Han\",\"LiangDaoChineseNeolithic\",\"Naxi\",\"Yi\",\"Xibo\",\"Miao\",\"Tujia\",\"She\",\"Tu\"]\n",
    "myset=[\"Dai\",\"Naxi\",\"Yi\",\"Xibo\",\"Miao\",\"Tujia\",\"She\",\"Tu\",\"Lahu\",\"Dong\",\"Li\",\"Gelao\",\"Qiang_Horpa\",\"Xibo\",\"Zhuang\"]\n",
    "pD=\"/mnt/solexa/mel_yang/BGI/\"\n",
    "#fh=\"UPA8_BGI.D.BGI_BGI_Dai_Mbuti\"\n",
    "#fh=\"UPA8_BGI.D.Dai_BGI_BGI_Mbuti\"\n",
    "#for i in myset:\n",
    "#    fh=\"UPA8_BGI.D.BGI_BGI_%s_Mbuti\" % i\n",
    "#    fh=\"HO6_BGI.D.BGI_BGI_%s_Mbuti\" % i\n",
    "#    newfh=\"\"\n",
    "#    if i ==\"LiangDaoChineseNeolithic\": newfh=\"UPA8_BGI.D.BGI_BGI_%s_Mbuti\" % \"LD\"\n",
    "#    Dfreqmatrix(pD,fh,0,1,'Z','xlsx',newfh)\n",
    "Dfreqmatrix(pD,\"UPA8_BGI.D.ANCEUR_ANCEUR_Tianyuan_Mbuti\",0,1,'Z','xlsx',\"\")"
   ]
  },
  {
   "cell_type": "code",
   "execution_count": 7,
   "metadata": {
    "collapsed": true
   },
   "outputs": [],
   "source": [
    "myset=[\"Dai\",\"Daur\",\"Ami\",\"Han\",\"LiangDaoChineseNeolithic\",\"Longlin\",\"Tianyuan\"]\n",
    "for i in myset: \n",
    "    Dfreqmatrix(pD,\"UPA8_BGI.D.EAS_EAS_%s_Mbuti\" % i,0,1,'Z','xlsx',\"\")"
   ]
  },
  {
   "cell_type": "code",
   "execution_count": null,
   "metadata": {
    "collapsed": true
   },
   "outputs": [],
   "source": []
  }
 ],
 "metadata": {
  "kernelspec": {
   "display_name": "Python 2",
   "language": "python",
   "name": "python2"
  },
  "language_info": {
   "codemirror_mode": {
    "name": "ipython",
    "version": 2
   },
   "file_extension": ".py",
   "mimetype": "text/x-python",
   "name": "python",
   "nbconvert_exporter": "python",
   "pygments_lexer": "ipython2",
   "version": "2.7.13"
  }
 },
 "nbformat": 4,
 "nbformat_minor": 2
}
