{
 "cells": [
  {
   "cell_type": "markdown",
   "metadata": {},
   "source": [
    "## Geno2freq\n",
    "1. HO data\n",
    "2. UPA8 data"
   ]
  },
  {
   "cell_type": "code",
   "execution_count": 3,
   "metadata": {},
   "outputs": [
    {
     "name": "stdout",
     "output_type": "stream",
     "text": [
      "Overwriting /mnt/solexa/mel_yang/BGI/geno2freq_HO.py\n"
     ]
    }
   ],
   "source": [
    "%%writefile /mnt/solexa/mel_yang/BGI/geno2freq_HO.py\n",
    "\n",
    "############################################################################\n",
    "############## TURNS .GENO FILE TO .FREQ FILE, BGI FORMAT ##################\n",
    "############################################################################\n",
    "\n",
    "## Freq format is chr, pos, popnfreq\n",
    "## Nind format is same order popn, followed by number of individuals\n",
    "\n",
    "import collections\n",
    "import tabix\n",
    "import itertools\n",
    "import numpy as np\n",
    "from scipy.stats import bernoulli\n",
    "from HOdata import eur,eas,allnamers,otherasia,allpacific,anceur2\n",
    "\n",
    "#pd=\"/Users/melyang/Documents/BGI_HanFreq/\"\n",
    "pd=\"/mnt/solexa/mel_yang/BGI/\"\n",
    "datpd=\"/public/adna/qiaomei_fu/HO/\"\n",
    "datpd=\"/mnt/solexa/mel_yang/BGI/\"\n",
    "fh=\"ind_A_v13_TBH6\"\n",
    "fh=\"UPA_all8\"\n",
    "\n",
    "indfile=open(datpd+fh+\".ind\",'r')\n",
    "myinds=collections.defaultdict(list)\n",
    "for ind,line in enumerate(indfile):\n",
    "    myinds[line.split()[2]].append(ind)\n",
    "indfile.close()\n",
    "print \"Read in\",datpd+fh+\".ind\"\n",
    "#print myinds.keys()\n",
    "\n",
    "ancasn1=[\"Huoshaogou\",\"Wuba\",\"Xiaoshuangqiao\",\"Guandimiao\",\"Shengedaliang\",\n",
    "         \"Muzhuzhuliang\",\"Xinhua\",\"Wuzhuangguo\",\"Shimao\",\"Tonglin\",\n",
    "         \"Dashuitian\",\"Taosi\",\"Redilong\",\n",
    "         \"Butaxiongqu\",\"Gelintang\",\"Yingpanshan\",\"Mougou\",\"Sanheyi\",\"Yusu\",\n",
    "         \"Jinchankou\",\"Jomon\"]\n",
    "ancasn=[\"Tianyuan\",'Longlin','Longlin_com','Xinyi','Daxi',\n",
    "        'LiangDaoChineseNeolithic','Boisman_MN','BoshanChineseNeolithic',\n",
    "        'Bbdong', 'Linzi','HDYM1','HQSDW','Zongri','Pukagongma',\n",
    "        'Chokhopani1','Mebrak','Samdzong']\n",
    "afr=[\"Yoruba\",\"Mandenka\",\"Mbuti\",\"Dinka\",\"Ju_hoan_North\"]\n",
    "\n",
    "popns=eur+eas+ancasn+ancasn1+allnamers+otherasia+allpacific+anceur2+afr\n",
    "popns+=[\"Israel_Natufian\",\"Chimp\",\"Altai\",\"Denisovan\"]\n",
    "\n",
    "\n",
    "upasnp=open(datpd+fh+\".snp\",\"r\")\n",
    "mysnps=[ tuple(line.split()) for line in upasnp ]\n",
    "upasnp.close()\n",
    "print \"Read in\",pd+fh+\".snp\"\n",
    "\n",
    "\n",
    "mysets=[\"BGI/OnlyHan\",\"BGI/ByProvince\",\"BGI/Minority\"]\n",
    "BGIsnpfiles=[tabix.open(pd+mysets[ind]+\"_siteinfo.txt.gz\") for ind,i in enumerate(mysets)]\n",
    "BGIfreqfiles=[tabix.open(pd+mysets[ind]+\"_freqs.txt.gz\") for ind,i in enumerate(mysets)]\n",
    "\n",
    "upaindfile=open(pd+fh+\"_2_nind.txt\",\"w\")\n",
    "for i in popns: upaindfile.write(\"%s\\t%i\\n\" % (i,len(myinds[i])))\n",
    "upaindfile.close()\n",
    "\n",
    "upafreqfile=open(pd+fh+\"_2_freqs.txt\",\"w\")\n",
    "conflictfile=open(pd+fh+\"_2_conflictwBGI.txt\",\"w\")\n",
    "\n",
    "num=0\n",
    "upageno=open(datpd+fh+\".geno\",\"r\")\n",
    "for ind,line in enumerate(upageno):\n",
    "    x=line.split()\n",
    "    snpinfo=mysnps[ind]\n",
    "    upaalleles=snpinfo[-2]+snpinfo[-1]\n",
    "    if snpinfo[1] == '23': mychrname='X'\n",
    "    elif snpinfo[1] == '24': mychrname='Y'\n",
    "    else: mychrname=snpinfo[1]\n",
    "        \n",
    "    mySNPqueries=[BGI.query(\"chr\"+mychrname,int(snpinfo[3])-1,int(snpinfo[3])) for BGI in BGIsnpfiles]\n",
    "    records=[i for i in mySNPqueries[0]]+[i for i in mySNPqueries[1]]+[i for i in mySNPqueries[2]]\n",
    "    #myfqueries=[BGI.query(\"chr\"+mychrname,int(snpinfo[3])-1,int(snpinfo[3])) for BGI in BGIfreqfiles]\n",
    "    #recordsf=[i[2:] for i in myfqueries[0]]+[i[2:] for i in myfqueries[1]]\n",
    "    #recordsf=[i if i not in [\"nan\",\"-nan\"] else 99 for i in list(itertools.chain.from_iterable(recordsf)) ]\n",
    "    #recordsf=np.array(recordsf,dtype=\"float\")\n",
    "    \n",
    "    if len(records)==0: conflictfile.write(\"noBGIrecord\\tchr%s\\t%s\\t%s\\t%s\\n\" % (mychrname,snpinfo[3],\"NA\",\"NA\")); continue\n",
    "    elif len(records) in [1,2]: conflictfile.write(\"badBGIrecord\\tchr%s\\t%s\\t%s\\t%s\\n\" % (mychrname,snpinfo[3],\"NA\",\"NA\")); continue\n",
    "    elif len(records)==3: \n",
    "        if upaalleles == records[0][-1] or upaalleles[::-1] == records[0][-1]: pass\n",
    "        else: conflictfile.write(\"badalleles\\tchr%s\\t%s\\t%s\\t%s\\n\" % (mychrname,snpinfo[3],upaalleles,records[0][-1])); continue\n",
    "        myfreqs=[]\n",
    "        for mypop in popns:\n",
    "            mygenos = np.array([line[indpos] for indpos in myinds[mypop] if line[indpos] != '9' ],dtype='int')  ##Only look at nonmissing data\n",
    "            \n",
    "            if len(mygenos)==0: myfreqs.append(\"-nan\")\n",
    "            else: \n",
    "                if upaalleles == records[0][-1]: myfreqs.append(str(1-((mygenos.sum()/2.0)/(len(mygenos)))))\n",
    "                elif upaalleles[::-1] == records[0][-1]: myfreqs.append(str((mygenos.sum()/2.0)/(len(mygenos))))\n",
    "                else: print 'what?', mychrname,snpinfo[3],upaalleles,records[0][-1]\n",
    "            if mypop==\"Dai\": print \"%s\\t%s\\t%s\\t%s\" % (\"\\t\".join(records[0]),upaalleles, mygenos, myfreqs[-1] )\n",
    "                \n",
    "        mystr='\\t'.join(myfreqs)\n",
    "        upafreqfile.write( \"chr%s\\t%s\\t%s\\n\" % (mychrname,snpinfo[3],mystr) )\n",
    "    else: conflictfile.write(\"duplicates\\tchr%s\\t%s\\t%s\\t%s\\n\" % (mychrname,snpinfo[3],upaalleles,records[0][-1])); continue\n",
    "        \n",
    "    #if num==20: break\n",
    "    num+=1\n",
    "conflictfile.close()\n",
    "upafreqfile.close()"
   ]
  },
  {
   "cell_type": "code",
   "execution_count": 8,
   "metadata": {},
   "outputs": [
    {
     "data": {
      "text/plain": [
       "452"
      ]
     },
     "execution_count": 8,
     "metadata": {},
     "output_type": "execute_result"
    }
   ],
   "source": [
    "x=\"0.727272727273\t0.939393939394\t0.857142857143\t0.727272727273\t0.772727272727\t0.777777777778\t0.774193548387\t0.75\t0.675\t0.9\t0.875\t0.75\t0.85\t0.9\t0.875\t0.772727272727\t0.775\t0.75\t0.833333333333\t0.8\t0.833333333333\t0.84\t0.9\t0.759259259259\t0.809523809524\t0.928571428571\t0.855263157895\t0.895833333333\t0.75\t0.875\t0.75\t0.666666666667\t0.785714285714\t0.888888888889\t0.916666666667\t0.6875\t0.611111111111\t0.642857142857\t0.6\t0.5\t0.9375\t0.8125\t0.75\t0.727272727273\t0.954545454545\t0.85\t0.9375\t0.75\t1.0\t0.727272727273\t0.964285714286\t0.794871794872\t0.875\t0.65\t0.77397260274\t0.933333333333\t0.625\t0.859370.85\t0.909090909091\t0.833333333333\t1.0\t0.827272727273\t0.785714285714\t0.862745098039\t0.809523809524\t0.85\t0.9\t1.0\t0.833333333333\t0.909090909091\t0.62962962963\t0.833333333333\t1.0\t0.95\t0.9\t0.9\t0.75\t0.911764705882\t0.875\t0.794117647059\t1.0\t0.958333333333\t0.666666666667\t0.863636363636\t1.0\t0.666666666667\t1.0\t0.928571428571\t0.9\t0.939393939394\t0.9\t1.0\t0.9\t0.8\t0.75\t0.875\t1.0\t1.0\t0.8125\t0.75\t0.928571428571\t0.875\t1.0\t0.9\t1.0\t0.944444444444\t0.75\t0.833333333333\t0.75\t0.9\t0.75\t0.95\t0.84375\t0.944444444444\t1.0\t0.875\t0.857142857143\t0.807692307692\t0.85\t0.875\t0.8359375\t0.916666666667\t0.867647058824\t1.0\t0.75\t0.5\t0.875\t0.85\t1.0\t0.928571428571\t0.833333333333\t0.916666666667\t0.9\t0.777777777778\t1.0\t0.9\t0.866666666667\t1.0\t0.875\t0.944444444444\t0.7\t1.0\t-nan\t-nan\t-nan\t-nan\t1.0\t-nan\t1.0\t1.0\t1.0\t1.0\t1.0\t1.0\t-nan\t1.0\t-nan\t1.0\t-nan\t0.0\t-nan\t1.0\t1.0\t-nan\t1.0\t0.5\t1.0\t-nan\t1.0\t-nan\t-nan\t-nan\t-nan\t1.0\t-nan\t-nan\t-nan\t-nan\t-nan\t0.7\t0.75\t0.852941176471\t0.944444444444\t0.8\t0.8\t1.0\t0.863636363636\t0.833333333333\t0.928571428571\t1.0\t0.9\t0.916666666667\t0.875\t0.5\t1.0\t1.0\t1.0\t0.8\t0.785714285714\t0.8\t0.9\t0.961538461538\t0.375\t0.8\t0.25\t0.958333333333\t0.791666666667\t0.75\t0.7\t1.0\t1.0\t1.0\t0.75\t0.625\t0.886363636364\t0.555555555556\t0.5\t0.5\t1.0\t0.666666666667\t0.605263157895\t0.88\t0.75\t0.796875\t0.857142857143\t0.8\t0.87037037037\t0.875\t0.86\t0.8125\t0.8\t1.0\t0.907407407407\t0.857142857143\t0.818181818182\t0.84375\t0.78125\t0.84375\t0.692307692308\t0.722222222222\t1.0\t0.8\t0.555555555556\t0.85\t0.8125\t0.875\t0.75\t0.25\t0.882352941176\t0.833333333333\t0.75\t0.7\t0.9375\t0.6\t0.944444444444\t0.3\t0.75\t0.5\t1.0\t0.7\t0.65\t1.0\t0.85\t0.8\t0.785714285714\t0.888888888889\t0.833333333333\t0.8\t1.0\t0.775\t1.0\t0.95\t0.9\t0.604166666667\t0.875\t1.0\t0.9\t0.95\t1.0\t0.916666666667\t1.0\t1.0\t0.857142857143\t0.8125\t0.9\t0.928571428571\t0.916666666667\t0.6\t0.785714285714\t0.75\t1.0\t0.5\t0.785714285714\t0.857142857143\t0.666666666667\t0.926470588235\t0.921052631579\t0.666666666667\t1.0\t1.0\t0.7\t1.0\t1.0\t0.5\t-nan\t1.0\t-nan\t-nan\t-nan\t-nan\t-nan\t-nan\t-nan\t1.0\t-nan\t1.0\t-nan\t-nan\t-nan\t0.0\t-nan\t-nan\t-nan\t-nan\t1.0\t1.0\t-nan\t-nan\t-nan\t-nan\t-nan\t1.0\t-nan\t-nan\t1.0\t1.0\t1.0\t-nan\t-nan\t-nan\t-nan\t-nan\t1.0\t-nan\t-nan\t0.0\t-nan\t0.5\t1.0\t1.0\t-nan\t0.8\t1.0\t1.0\t-nan\t-nan\t0.0\t1.0\t0.5\t1.000000\t1.000000\t1.000000\t0.500000\t1.000000\t0.250000\t0.500000\t0.666667\t0.000000\t0.200000\t0.800000\t0.833333\t0.600000\t0.333333\t0.000000\t0.666667\t0.500000\t1.000000\t0.333333\t0.000000\t1.000000\t0.500000.000000\t0.000000\t0.666667\t0.400000\t0.333333\t0.800000\t0.000000\t1.000000\t0.500000\t1.000000\t1.000000\t1.000000.500000\t1.000000\t0.250000\t0.571429\t0.666667\t0.000000\t0.200000\t0.800000\t0.833333\t0.600000\t0.333333\t0.000000.666667\t0.500000\t1.000000\t0.333333\t0.000000\t1.000000\t0.500000\t0.000000\t0.000000\t0.666667\t0.400000\t0.333330.800000\t1.000000\t1.000000\t0.500000\t0.000000\t0.000000\t0.000000\t1.000000\t0.000000\t0.000000\t0.000000\t0.000000.000000\t0.000000\t0.000000\t0.000000\t0.741935\t0.000000\t0.500000\t0.000000\t0.000000\t0.000000\t0.727273\t1.000001.000000\t0.000000\t0.000000\t0.500000\t0.000000\t0.000000\t1.000000\t0.000000\t0.500000\t0.000000\t0.000000\t0.000000.000000\t0.000000\t0.250000\t0.000000\t1.000000\t1.000000\"\n",
    "len(x.split())"
   ]
  },
  {
   "cell_type": "code",
   "execution_count": null,
   "metadata": {
    "collapsed": true
   },
   "outputs": [],
   "source": []
  },
  {
   "cell_type": "code",
   "execution_count": null,
   "metadata": {
    "collapsed": true
   },
   "outputs": [],
   "source": [
    "############################################################################\n",
    "############## TURNS .GENO FILE TO .FREQ FILE, BGI FORMAT ##################\n",
    "############################################################################\n",
    "\n",
    "## Freq format is chr, pos, popnfreq\n",
    "## Nind format is same order popn, followed by number of individuals\n",
    "\n",
    "import collections\n",
    "import tabix\n",
    "import itertools\n",
    "import numpy as np\n",
    "from scipy.stats import bernoulli\n",
    "\n",
    "#pd=\"/Users/melyang/Documents/BGI_HanFreq/\"\n",
    "pd=\"/mnt/solexa/mel_yang/BGI/\"\n",
    "fh=\"UPA_all8\"\n",
    "\n",
    "indfile=open(pd+fh+\".ind\",'r')\n",
    "myinds=collections.defaultdict(list)\n",
    "for ind,line in enumerate(indfile):\n",
    "    myinds[line.split()[2]].append(ind)\n",
    "indfile.close()\n",
    "print \"Read in\",pd+fh+\".ind\"\n",
    "#print myinds.keys()\n",
    "\n",
    "popns=['Dai','Kharia','Mebrak','Masai','Brahui','Zhougongmiao','Zongri','Daur','Bergamo','Kapu','Anatolia_N',\n",
    "       'Jarawa','Xiaoshuangqiao','Natufian','Karitiana','Houshaogou','Anhelu','Eskimo_Chaplin','Kyrgyz',\n",
    "       'AfontovaGora3','Dashuitian','Georgian','Longlin_com','Tibetan','Loschbour','Stuttgart','Pima','Yamnaya', \n",
    "       'Luhya','Pathan','UstIshim','Clovis','Motala12','Xinyi_1','Hungarian','Xinyi_2','Altai','Iran_N',\n",
    "       'Poltavka','Russian','Chukchi','Naxi','Wuzhuangguo','Bockstein_N','Basque','Saqqaq','Pukagongma',\n",
    "       'Lvyupo','Chechen','Australian','Yakut','Yi','Iranian','BoshanChineseNeolithic','Tuscan','Albanian', \n",
    "       'HQSDW','BantuTswana','Roman','Mansi','HungarianCopperAge','Jinchankou','Biaka','Japanese','Vestonice16',\n",
    "       'Denisovan','Iraqi_Jew','Balkan_Neolithic','Ulchi','Gencun','She','Eskimo_Naukan','Dinka','Kotias','BedouinB',\n",
    "       'HungarianIronAge','Minoan','Vindija','SwedishMesolithic','Taosi','Srubnaya','Uygur','Yana_old2','Longlin',\n",
    "       'Yadava','ItalianMiddleNeolithic','Yankovsky_IA','Luo','Adygei','Saami','Kurumba','Saharawi',\n",
    "       'Heshui_Mohe_Early_Medieval','Jomon','Chane','Mala','Hezhen','Even','Palestinian','Surui','LaBrana1',\n",
    "       'Tubalar','Tlingit','Maori','Igbo','Wuba','Kalash','Mixtec','Lezgin','Hengbei','HungarianNeolithic',\n",
    "       'Onge_new','Sherpa','Villabruna','Gelintang','Hetian','Xinhua','Bichon','Donghuigou','Bbdong','Satsurblia',\n",
    "       'Gambian','Thule','Samaritan','Oase1','Spain_MN','Iberian_Mesolithic','Eskimo_Sireniki',\n",
    "       'KhoesanKrauseHunter','Yahuai','Hawaiian','Samdzong','LBK_EN','Han','Relli','Unetice_EBA','Bulgarian',\n",
    "       'Yoruba','French','SwedishNeolithicHunterGatherer','Bengali','Finnish','HDYM1','Linzi','Felsdach','Oroqen',\n",
    "       'Yingpanshan','Scythian_Iron_Age','Tajik','Huoshaogou','Mongola','Karelia','Hungarian.KO1','Huiyaotian',\n",
    "       'Ju_hoan_North','Orcadian','Cree','Makrani','KhoesanLeipzigHunter','Ranchot88','Thai','Brahmin','Kinh',\n",
    "       'Burmese','JU6','Aleut','Greek','Liushui','Turkish','Miao','English','Bell_Beaker_LN','Zapotec',\n",
    "       'Bougainville','Tianluo','Kashmiri_Pandit','Onge','Itelman','Armenian','Tonglin','Tujia','Mixe','Balikun',\n",
    "       'Piapoco','LiangDaoChineseNeolithic','Butaxiongqu','Ostuni2','Ostuni1','KhoesanKrausePastoralist',\n",
    "       'Chipewyan','Esan','Somali','Balochi','Birnirk','Mozabite','Taforalt','Yemenite_Jew','Spain_EN','Nahua',\n",
    "       'Quechua', 'Khomani_San','HohleFels49','Kolyma_River','Estonian','Sanheyi','Daxi','LateDorset','Guandimiao',\n",
    "       'Xibo','Tianyuan','Seh_Gabi_Iran_Chalcolithic','Irula','Hazara','Boisman_MN','Ganj_Dareh_Iran_Neolithic',\n",
    "       'HungarianBronzeAge','Alberstedt_LN','Altaian','Khonda_Dora','Kongo','Shimao','Polish','Kostenki14',\n",
    "       'Burusho','Mayan','Lemande','Dusun','Mandenka','Muzhuzhuliang','Druze','Yana_old','Mezmaiskaya',\n",
    "       'BantuKenya','Xinyi','Corded_Ware_LN','Lahu','Punjabi','Atayal','Botocudo','Pavlov1','JU5','Igorot',\n",
    "       'Yusu','Xinyi_other','Jordanian','GoyetQ116-1','Icelandic','XianShang','Shengedaliang','Muierii2','Saxon',\n",
    "       'Sindhi','Korean','Mougou','Ami','Baojian','Kusunda','Madiga','LaRochette','Chokhopani1','Abkhasian',\n",
    "       'Levant_N','Redilong','Malta1','Czech','BantuHerero','Tu','Sardinian','ElMiron','Mende','Mbuti','Papuan',\n",
    "       'Mota','KremsWA3','Cambodian','Spanish','Crete']\n",
    "\n",
    "upasnp=open(pd+fh+\".snp\",\"r\")\n",
    "mysnps=[ tuple(line.split()) for line in upasnp ]\n",
    "upasnp.close()\n",
    "print \"Read in\",pd+fh+\".snp\"\n",
    "\n",
    "\n",
    "mysets=[\"BGI/OnlyHan\",\"BGI/ByProvince\",\"BGI/Minority\"]\n",
    "BGIsnpfiles=[tabix.open(pd+mysets[ind]+\"_siteinfo.txt.gz\") for ind,i in enumerate(mysets)]\n",
    "BGIfreqfiles=[tabix.open(pd+mysets[ind]+\"_freqs.txt.gz\") for ind,i in enumerate(mysets)]\n",
    "\n",
    "upaindfile=open(pd+fh+\"_nind.txt\",\"w\")\n",
    "for i in popns: upaindfile.write(\"%s\\t%i\\n\" % (i,len(myinds[i])))\n",
    "upaindfile.close()\n",
    "\n",
    "upafreqfile=open(pd+fh+\"_freqs.txt\",\"w\")\n",
    "conflictfile=open(pd+fh+\"_conflictwBGI.txt\",\"w\")\n",
    "\n",
    "#num=0\n",
    "upageno=open(pd+fh+\".geno\",\"r\")\n",
    "for ind,line in enumerate(upageno):\n",
    "    x=line.split()\n",
    "    snpinfo=mysnps[ind]\n",
    "    upaalleles=snpinfo[-2]+snpinfo[-1]\n",
    "    if snpinfo[1] == '23': mychrname='X'\n",
    "    elif snpinfo[1] == '24': mychrname='Y'\n",
    "    else: mychrname=snpinfo[1]\n",
    "        \n",
    "    mySNPqueries=[BGI.query(\"chr\"+mychrname,int(snpinfo[3])-1,int(snpinfo[3])) for BGI in BGIsnpfiles]\n",
    "    records=[i for i in mySNPqueries[0]]+[i for i in mySNPqueries[1]]+[i for i in mySNPqueries[2]]\n",
    "    #myfqueries=[BGI.query(\"chr\"+mychrname,int(snpinfo[3])-1,int(snpinfo[3])) for BGI in BGIfreqfiles]\n",
    "    #recordsf=[i[2:] for i in myfqueries[0]]+[i[2:] for i in myfqueries[1]]\n",
    "    #recordsf=[i if i not in [\"nan\",\"-nan\"] else 99 for i in list(itertools.chain.from_iterable(recordsf)) ]\n",
    "    #recordsf=np.array(recordsf,dtype=\"float\")\n",
    "    \n",
    "    if len(records)==0: conflictfile.write(\"noBGIrecord\\tchr%s\\t%s\\t%s\\t%s\\n\" % (mychrname,snpinfo[3],\"NA\",\"NA\")); continue\n",
    "    elif len(records) in [1,2]: conflictfile.write(\"badBGIrecord\\tchr%s\\t%s\\t%s\\t%s\\n\" % (mychrname,snpinfo[3],\"NA\",\"NA\")); continue\n",
    "    elif len(records)==3: \n",
    "        if upaalleles == records[0][-1] or upaalleles[::-1] == records[0][-1]: pass\n",
    "        else: conflictfile.write(\"badalleles\\tchr%s\\t%s\\t%s\\t%s\\n\" % (mychrname,snpinfo[3],upaalleles,records[0][-1])); continue\n",
    "        myfreqs=[]\n",
    "        for mypop in popns:\n",
    "            #print mypop\n",
    "            mygenos = np.array([line[indpos] for indpos in myinds[mypop] if line[indpos] != '9' ],dtype='int')  ##Only look at nonmissing data\n",
    "            if len(mygenos)==0: myfreqs.append(\"-nan\")\n",
    "            else: \n",
    "                if upaalleles == records[0][-1]: myfreqs.append(str(1-((mygenos.sum()/2.0)/(len(mygenos)))))\n",
    "                elif upaalleles[::-1] == records[0][-1]: myfreqs.append(str((mygenos.sum()/2.0)/(len(mygenos))))\n",
    "                else: print 'what?', mychrname,snpinfo[3],upaalleles,records[0][-1]\n",
    "                \n",
    "        mystr='\\t'.join(myfreqs)\n",
    "        upafreqfile.write( \"chr%s\\t%s\\t%s\\n\" % (mychrname,snpinfo[3],mystr) )\n",
    "    else: conflictfile.write(\"duplicates\\tchr%s\\t%s\\t%s\\t%s\\n\" % (mychrname,snpinfo[3],upaalleles,records[0][-1])); continue\n",
    "        \n",
    "    #if num==5: break\n",
    "    #num+=1\n",
    "conflictfile.close()\n",
    "upafreqfile.close()"
   ]
  },
  {
   "cell_type": "markdown",
   "metadata": {},
   "source": [
    "# Test Dai frequencies!"
   ]
  },
  {
   "cell_type": "markdown",
   "metadata": {},
   "source": [
    "```bash\n",
    "cut -f1,2,347 UPA8_BGI_freqs.txt > testDai_BGIfreqs_2.2SNPs.txt\n",
    "paste testDai_BGIfreqs_2.2SNPs.txt testDai_UPA8_geno2freqpy.txt > testDai_2.2vsBGI.txt \n",
    "```"
   ]
  },
  {
   "cell_type": "code",
   "execution_count": 16,
   "metadata": {},
   "outputs": [
    {
     "name": "stdout",
     "output_type": "stream",
     "text": [
      "AC 347 45394 0.0881829733164 0.0815176498264\n",
      "GT 392 57007 0.0996188055909 0.102372046166\n",
      "AG 1752 252411 0.445235069886 0.453274695121\n",
      "CT 1444 202049 0.366963151207 0.362835608886\n",
      "191043\n"
     ]
    },
    {
     "data": {
      "text/plain": [
       "<matplotlib.text.Text at 0x7fdc00b9bc10>"
      ]
     },
     "execution_count": 16,
     "metadata": {},
     "output_type": "execute_result"
    },
    {
     "data": {
      "image/png": "[encoded data removed]",
      "text/plain": [
       "<matplotlib.figure.Figure at 0x7fdc3f5c06d0>"
      ]
     },
     "metadata": {},
     "output_type": "display_data"
    }
   ],
   "source": [
    "%matplotlib inline\n",
    "\n",
    "import matplotlib.pyplot as plt\n",
    "import collections\n",
    "\n",
    "pd=\"/mnt/solexa/mel_yang/BGI/\"\n",
    "\n",
    "myfile=open(pd+\"testDai.txt\",'r')\n",
    "diff=[]\n",
    "locationinfo=[]\n",
    "bases=collections.defaultdict(int)\n",
    "totals=collections.defaultdict(int)\n",
    "for line in myfile: \n",
    "    x=line.strip().split('\\t')\n",
    "    freq1=float(x[2])\n",
    "    freq2=float(x[-1])\n",
    "    diff.append(freq1-freq2)\n",
    "    totals[''.join(sorted(x[5]))]+=1\n",
    "    if freq1-freq2 ==-1: #in [-1,1]:\n",
    "        locationinfo.append((x[0],x[1],x[5],x[6]))\n",
    "        bases[''.join(sorted(x[5]))]+=1\n",
    "        \n",
    "for i in bases: print i,bases[i],totals[i],float(bases[i])/sum(bases.values()),float(totals[i])/sum(totals.values())\n",
    "    \n",
    "diff=collections.Counter(diff)\n",
    "print diff[0]\n",
    "del diff[0]\n",
    "vals=[diff[i] for i in sorted(diff.keys())]\n",
    "\n",
    "fig = plt.figure(figsize=(10,3))\n",
    "ax = fig.add_subplot(1,1,1) \n",
    "ax.plot(sorted(diff.keys()),vals,'or')\n",
    "ax.set_title(\"testDai.txt, f_Daizu - f_HumanOriginsDai\")"
   ]
  },
  {
   "cell_type": "markdown",
   "metadata": {},
   "source": [
    "## Results from above\n",
    "for \"in [-1,1]\"\n",
    "AC 389 45394 0.0859858532272 0.0815176498264\n",
    "GT 460 57007 0.101679929266 0.102372046166\n",
    "AG 2029 252411 0.448496905393 0.453274695121\n",
    "CT 1646 202049 0.363837312113 0.362835608886\n",
    "\n",
    "for \"==-1\"\n",
    "AC 347 45394 0.0881829733164 0.0815176498264\n",
    "GT 392 57007 0.0996188055909 0.102372046166\n",
    "AG 1752 252411 0.445235069886 0.453274695121\n",
    "CT 1444 202049 0.366963151207 0.362835608886"
   ]
  },
  {
   "cell_type": "code",
   "execution_count": 24,
   "metadata": {},
   "outputs": [
    {
     "name": "stdout",
     "output_type": "stream",
     "text": [
      "AC 4264 290479 0.152394567548 0.149539662536\n",
      "GT 4307 295390 0.153931379557 0.152067863482\n",
      "AG 6765 477901 0.241779842745 0.24602520067\n",
      "CG 3421 250144 0.122265904217 0.128775055496\n",
      "AT 2926 196458 0.104574696212 0.101137304323\n",
      "CT 6297 432116 0.225053609721 0.222454913492\n",
      "840638\n"
     ]
    },
    {
     "data": {
      "text/plain": [
       "<matplotlib.text.Text at 0x7fdbffb6d590>"
      ]
     },
     "execution_count": 24,
     "metadata": {},
     "output_type": "execute_result"
    },
    {
     "data": {
      "image/png": "[encoded data removed]",
      "text/plain": [
       "<matplotlib.figure.Figure at 0x7fdc00262090>"
      ]
     },
     "metadata": {},
     "output_type": "display_data"
    }
   ],
   "source": [
    "%matplotlib inline\n",
    "\n",
    "import matplotlib.pyplot as plt\n",
    "import collections\n",
    "\n",
    "pd=\"/mnt/solexa/mel_yang/BGI/\"\n",
    "\n",
    "myfile=open(pd+\"testDai_2.2vsBGI.txt\",'r')\n",
    "diff=[]\n",
    "locationinfo=[]\n",
    "bases=collections.defaultdict(int)\n",
    "totals=collections.defaultdict(int)\n",
    "for line in myfile: \n",
    "    x=line.strip().split('\\t')\n",
    "    freq1=float(x[2])\n",
    "    freq2=float(x[-1])\n",
    "    diff.append(freq1-freq2)\n",
    "    totals[''.join(sorted(x[5]))]+=1\n",
    "    if freq1-freq2 ==-1: #in [-1,1]:\n",
    "        locationinfo.append((x[0],x[1],x[5],x[6]))\n",
    "        bases[''.join(sorted(x[5]))]+=1\n",
    "        \n",
    "for i in bases: print i,bases[i],totals[i],float(bases[i])/sum(bases.values()),float(totals[i])/sum(totals.values())\n",
    "    \n",
    "diff=collections.Counter(diff)\n",
    "print diff[0]\n",
    "del diff[0]\n",
    "vals=[diff[i] for i in sorted(diff.keys())]\n",
    "\n",
    "fig = plt.figure(figsize=(10,3))\n",
    "ax = fig.add_subplot(1,1,1) \n",
    "ax.plot(sorted(diff.keys()),vals,'or')\n",
    "ax.set_title(\"testDai.txt, f_Daizu - f_2.2M_Dai\")"
   ]
  },
  {
   "cell_type": "code",
   "execution_count": 23,
   "metadata": {},
   "outputs": [
    {
     "data": {
      "text/plain": [
       "<matplotlib.legend.Legend at 0x7fdc036c8e90>"
      ]
     },
     "execution_count": 23,
     "metadata": {},
     "output_type": "execute_result"
    },
    {
     "data": {
      "image/png": "[encoded data removed]",
      "text/plain": [
       "<matplotlib.figure.Figure at 0x7fdc00bbf810>"
      ]
     },
     "metadata": {},
     "output_type": "display_data"
    }
   ],
   "source": [
    "%matplotlib inline\n",
    "\n",
    "import matplotlib.pyplot as plt\n",
    "import collections\n",
    "\n",
    "pd=\"/mnt/solexa/mel_yang/BGI/\"\n",
    "\n",
    "myfile=open(pd+\"DaizuvsDai_minority_nind_Z.txt\",'r')\n",
    "nind,zscore=[],[]\n",
    "for line in myfile: \n",
    "    x=line.strip().split('\\t')\n",
    "    if x[0]==\"Daizu\": continue\n",
    "    if x[0]==\"Hanzu\": continue\n",
    "    nind.append(int(x[1]))\n",
    "    zscore.append(float(x[2]))\n",
    "myfile.close()\n",
    "\n",
    "myfile=open(pd+\"DaizuvsCDX_minority_nind_Z.txt\",'r')\n",
    "nind1KG,zscore1KG=[],[]\n",
    "for line in myfile: \n",
    "    x=line.strip().split('\\t')\n",
    "    if x[0]==\"Daizu\": continue\n",
    "    if x[0]==\"Hanzu\": continue\n",
    "    nind1KG.append(int(x[1]))\n",
    "    zscore1KG.append(float(x[2]))\n",
    "myfile.close()\n",
    "\n",
    "myfile=open(pd+\"Daizuvs2.2MDai_minority_nind_Z.txt\",'r')\n",
    "nind2,zscore2=[],[]\n",
    "for line in myfile: \n",
    "    x=line.strip().split('\\t')\n",
    "    if x[0]==\"Daizu\": continue\n",
    "    if x[0]==\"Hanzu\": continue\n",
    "    nind2.append(int(x[1]))\n",
    "    zscore2.append(float(x[2]))\n",
    "myfile.close()\n",
    "\n",
    "\n",
    "fig = plt.figure(figsize=(10,3))\n",
    "ax = fig.add_subplot(1,1,1) \n",
    "ax.plot(nind,zscore,'or',label=\"HO\")\n",
    "ax.plot(nind1KG,zscore1KG,'ob',label=\"1KG\")\n",
    "ax.plot(nind2,zscore2,'o',color=\"black\",label=\"2.2M no A/G,C/T\")\n",
    "ax.set_title(\"# Minority Group vs. Z-score in D(Daizu, X; Dai, Mbuti), excluding Hanzu/null\")\n",
    "ax.set_xlabel(\"nind\")\n",
    "ax.set_ylabel(\"Zscore\")\n",
    "ax.axhline(y=0)\n",
    "plt.legend(loc=\"lower right\")\n"
   ]
  },
  {
   "cell_type": "code",
   "execution_count": null,
   "metadata": {
    "collapsed": true
   },
   "outputs": [],
   "source": []
  }
 ],
 "metadata": {
  "kernelspec": {
   "display_name": "Python 2",
   "language": "python",
   "name": "python2"
  },
  "language_info": {
   "codemirror_mode": {
    "name": "ipython",
    "version": 2
   },
   "file_extension": ".py",
   "mimetype": "text/x-python",
   "name": "python",
   "nbconvert_exporter": "python",
   "pygments_lexer": "ipython2",
   "version": "2.7.13"
  }
 },
 "nbformat": 4,
 "nbformat_minor": 2
}
