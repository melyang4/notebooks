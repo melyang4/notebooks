{
 "cells": [
  {
   "cell_type": "code",
   "execution_count": 3,
   "metadata": {},
   "outputs": [],
   "source": [
    "##REMOVE ALL AG GA CT TC from UPA8_BGI freqs file\n",
    "\n",
    "pd=\"/mnt/solexa/mel_yang/BGI/\"\n",
    "fh1=\"UPA_all8\"\n",
    "fh2=\"UPA8_BGI\"\n",
    "\n",
    "keepset={}\n",
    "snpfile=open(pd+fh1+\"_siteinfo.txt\",'r')\n",
    "for line in snpfile: \n",
    "    x=line.split()\n",
    "    if x[2] not in [\"GA\",\"AG\",\"CT\",\"TC\"]:\n",
    "        if x[0] in keepset: keepset[x[0]].append(x[1])\n",
    "        else: keepset[x[0]]=[x[1]]\n",
    "snpfile.close()\n",
    "\n",
    "freqsfile=open(pd+fh2+\"_freqs.txt\",'r')\n",
    "newfreqsfile=open(pd+fh2+\".noAG.noCT_freqs.txt\",'w')\n",
    "for line in freqsfile:\n",
    "    x=line.split()\n",
    "    if x[1] in keepset[x[0]]: \n",
    "        newfreqsfile.write(line)\n",
    "    else: continue\n",
    "freqsfile.close()\n",
    "newfreqsfile.close()"
   ]
  },
  {
   "cell_type": "code",
   "execution_count": null,
   "metadata": {
    "collapsed": true
   },
   "outputs": [],
   "source": []
  }
 ],
 "metadata": {
  "kernelspec": {
   "display_name": "Python 2",
   "language": "python",
   "name": "python2"
  },
  "language_info": {
   "codemirror_mode": {
    "name": "ipython",
    "version": 2
   },
   "file_extension": ".py",
   "mimetype": "text/x-python",
   "name": "python",
   "nbconvert_exporter": "python",
   "pygments_lexer": "ipython2",
   "version": "2.7.13"
  }
 },
 "nbformat": 4,
 "nbformat_minor": 2
}
