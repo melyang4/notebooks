{
 "cells": [
  {
   "cell_type": "markdown",
   "metadata": {},
   "source": []
  },
  {
   "cell_type": "code",
   "execution_count": 7,
   "metadata": {},
   "outputs": [
    {
     "name": "stdout",
     "output_type": "stream",
     "text": [
      "Writing /mnt/solexa/mel_yang/BGI/mergeUPA8_BGIfreqs.py\n"
     ]
    }
   ],
   "source": [
    "%%writefile /mnt/solexa/mel_yang/BGI/mergeUPA8_BGIfreqs.py\n",
    "\n",
    "pd=\"/mnt/solexa/mel_yang/BGI/\"\n",
    "sets=[\"OnlyHan\",\"ByProvince\",\"Minority\"]\n",
    "\n",
    "myfiles=[open(pd+\"UPA_all8_freqs.txt\",'r')]\n",
    "myfiles+=[open(pd+\"%s_UPAfilt_freqs.txt\" % (name),'r') for name in sets]\n",
    "\n",
    "newfile=open(pd+\"UPA8_BGI_freqs.txt\",'w')\n",
    "while True:\n",
    "    mylines=[myfile.readline().split() for myfile in myfiles]\n",
    "    myset=mylines[0]+mylines[1][2:]+mylines[2][2:]+mylines[3][2:]\n",
    "    newfile.write('\\t'.join(myset)+'\\n')\n",
    "\n",
    "for i in myfiles: i.close()\n",
    "newfile.close()"
   ]
  },
  {
   "cell_type": "code",
   "execution_count": null,
   "metadata": {
    "collapsed": true
   },
   "outputs": [],
   "source": []
  },
  {
   "cell_type": "code",
   "execution_count": null,
   "metadata": {
    "collapsed": true
   },
   "outputs": [],
   "source": [
    "pd=\"/mnt/solexa/mel_yang/BGI/\"\n",
    "sets=[\"OnlyHan\",\"ByProvince\",\"Minority\"]\n",
    "\n",
    "myfiles=[open(pd+\"UPA_all8_nind.txt\",'r')]\n",
    "myfiles+=[open(pd+\"BGI/%s_nind.txt\" % (name),'r') for name in sets]\n",
    "\n",
    "for i in "
   ]
  }
 ],
 "metadata": {
  "kernelspec": {
   "display_name": "Python 2",
   "language": "python",
   "name": "python2"
  },
  "language_info": {
   "codemirror_mode": {
    "name": "ipython",
    "version": 2
   },
   "file_extension": ".py",
   "mimetype": "text/x-python",
   "name": "python",
   "nbconvert_exporter": "python",
   "pygments_lexer": "ipython2",
   "version": "2.7.13"
  }
 },
 "nbformat": 4,
 "nbformat_minor": 2
}
