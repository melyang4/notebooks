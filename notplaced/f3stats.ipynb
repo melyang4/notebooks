{
 "cells": [
  {
   "cell_type": "code",
   "execution_count": null,
   "metadata": {
    "collapsed": true
   },
   "outputs": [],
   "source": [
    "%%writefile /home/melinda_yang/projects/bronzeage/2.2M_analysis/calcoutf3.py\n",
    "\n",
    "import plotting_funcs as pf\n",
    "import projmodules as pm\n",
    "from subprocess import Popen, PIPE\n",
    "import HOdata\n",
    "from multiprocessing import Pool\n",
    "\n",
    "allids=[\"Oroqen\",\"Daur\",\"Hezhen\",\"Xibo\",\"Japanese\",\"Korean\",\"Tu\",\"Han\",\"Tujia\",\"Miao\",\"Yi\",\"She\",\"Naxi\",\"Atayal\",\"Ami\",\"Lahu\",\"Dai\",\"Kinh\",\"Burmese\",\"Thai\",\"Cambodian\",\n",
    "\"Clovis\",\"Pima\",\"Mayan\",\"Mixe\",\"Zapotec\",\"Piapoco\",\"Karitiana\",\"Surui\",\"Quechua\",\"Chane\",\"Tibetan\",\"Uygur\"]\n",
    "otherasia=[\"Onge\",\"Kusunda\",\"Yakut\",\"Ulchi\",\"Tubular\",\"Tlingit\",\"Mongola\",\"Mansi\",\"Kyrgyz\",\"Itelman\",\"Even\",\"Eskimo_Sireniki\",\"Eskimo_Naukan\",\"Eskimo_Chaplin\",\"Chukchi\",\"Altaian\",\"Aleut\",\"Papuan\",\"Maori\",\"Igorot\",\"Hawaiian\",\"Dusun\",\"Bougainville\",\"Australian\"]\n",
    "ancids=[\"Tianyuan\",\"Donghuigou\",\"Balikun\",'Chokhopani1', 'Mebrak', 'Samdzong', 'BoshanChineseNeolithic','Bbdong','Boisman_MN','Linzi','HDYM1','HQSDW',\n",
    "'Pukagongma','Zongri','LiangDaoChineseNeolithic','Longlin','Longlin_d','Xinyi','Xinyi_d','Yana_old','Yana_old2','Kolyma_River']\n",
    "\n",
    "eur=[\"UstIshim\",\"Oase1\",\"Kostenki14\",\"GoyetQ116-1\",\"Vestonice16\",\"Malta1\",\"AfontovaGora3\",\"ElMiron\",\"Villabruna\",\"Bichon\",\"Satsurblia\",\"Kotias\",\"Karelia\",\"Motala12\",\"Loschbour\",\"LaBrana1\",\"Hungarian.KO1\",\"Stuttgart\",\"French\",\"Sardinian\"]\n",
    "\n",
    "def dof3work(Apop):\n",
    "    #pD = \"/mnt/solexa/mel_yang/bronzeage/data/\" ##ivpp\n",
    "    #outpD = \"/home/mel_yang/projects/neolithic/f3stats/\" ##ivpp\n",
    "    pD=\"/home/melinda_yang/data/2.2M/\" ##mpi\n",
    "    outpD=\"/home/melinda_yang/projects/bronzeage/2.2M_analysis/f3stats/\" ##mpi\n",
    "    fh = 'UPA_all7'\n",
    "    subset = 'X_Mbuti_S1_%s_S2_EASEUR' % Apop\n",
    "    \n",
    "    \n",
    "    #AB = [(i,j) for i in namer+[\"Malta1\"] for j in neas+weas+seas if i != j ]\n",
    "    #Xs = neas+weas+seas\n",
    "    \n",
    "    AB = [(Apop,i) for i in allids+otherasia+ancids+eur ]\n",
    "    Xs = [\"Mbuti\"]\n",
    "    \n",
    "    pm.f3popfile(AB, Xs, pD+fh, subset)\n",
    "    pm.f3parfile(pD,fh,subset,popfh=fh)\n",
    "    outfile = open(outpD+fh+'.f3.'+subset+\".log\",'w')\n",
    "    mycommand1='mv '+pD+fh+'.f3.'+subset+'.par '+outpD+fh+'.f3.'+subset+'.par'\n",
    "    varfile = Popen(mycommand1.split())\n",
    "    varfile.communicate()\n",
    "    mycommand = 'qp3Pop -p '+outpD+fh+'.f3.'+subset+'.par'\n",
    "    print 'Running command', mycommand\n",
    "\n",
    "    varfile = Popen(mycommand.split(), stdout = outfile)\n",
    "    varfile.communicate()\n",
    "    outfile.close()\n",
    "\n",
    "ancinds=['Tianyuan',\"Longlin\",\"LiangDao\",\"Xinyi\"]\n",
    "ancinds=[\"LiangDao\"]\n",
    "ancinds=['Yana_old','Yana_old2','Kolyma_River']\n",
    "#mypool = Pool(3)\n",
    "#results = mypool.map(dof3work, ancinds)\n",
    "for i in ancinds: dof3work(i)"
   ]
  },
  {
   "cell_type": "code",
   "execution_count": 1,
   "metadata": {
    "collapsed": false
   },
   "outputs": [
    {
     "name": "stdout",
     "output_type": "stream",
     "text": [
      "Writing /home/melinda_yang/projects/bronzeage/2.2M_analysis/calcf3namer.py\n"
     ]
    }
   ],
   "source": [
    "%%writefile /home/melinda_yang/projects/bronzeage/2.2M_analysis/calcf3namer.py\n",
    "\n",
    "import plotting_funcs as pf\n",
    "import projmodules as pm\n",
    "from subprocess import Popen, PIPE\n",
    "import HOdata\n",
    "from multiprocessing import Pool\n",
    "\n",
    "#allids=[\"Oroqen\",\"Daur\",\"Hezhen\",\"Xibo\",\"Japanese\",\"Korean\",\"Tu\",\"Han\",\"Tujia\",\"Miao\",\"Yi\",\"She\",\"Naxi\",\"Atayal\",\"Ami\",\"Lahu\",\"Dai\",\"Kinh\",\"Burmese\",\"Thai\",\"Cambodian\",\n",
    "#\"Clovis\",\"Pima\",\"Mayan\",\"Mixe\",\"Zapotec\",\"Piapoco\",\"Karitiana\",\"Surui\",\"Quechua\",\"Chane\",\"Tibetan\",\"Uygur\"]\n",
    "#otherasia=[\"Onge\",\"Kusunda\",\"Yakut\",\"Ulchi\",\"Tubular\",\"Tlingit\",\"Mongola\",\"Mansi\",\"Kyrgyz\",\"Itelman\",\"Even\",\"Eskimo_Sireniki\",\"Eskimo_Naukan\",\"Eskimo_Chaplin\",\"Chukchi\",\"Altaian\",\"Aleut\",\"Papuan\",\"Maori\",\"Igorot\",\"Hawaiian\",\"Dusun\",\"Bougainville\",\"Australian\"]\n",
    "#ancids=[\"Tianyuan\",\"Donghuigou\",\"Balikun\",'Chokhopani1', 'Mebrak', 'Samdzong', 'BoshanChineseNeolithic','Bbdong','Boisman_MN','Linzi','HDYM1','HQSDW',\n",
    "#'Pukagongma','Zongri','LiangDaoChineseNeolithic','Longlin','Longlin_d','Xinyi','Xinyi_d','Yana_old','Yana_old2','Kolyma_River']\n",
    "#eur=[\"UstIshim\",\"Oase1\",\"Kostenki14\",\"GoyetQ116-1\",\"Vestonice16\",\"Malta1\",\"AfontovaGora3\",\"ElMiron\",\"Villabruna\",\"Bichon\",\"Satsurblia\",\"Kotias\",\"Karelia\",\"Motala12\",\"Loschbour\",\"LaBrana1\",\"Hungarian.KO1\",\"Stuttgart\",\"French\",\"Sardinian\"]\n",
    "\n",
    "namer=[\"Clovis\",\"Pima\",\"Mayan\",\"Mixe\",\"Zapotec\",\"Piapoco\",\n",
    "       \"Karitiana\",\"Surui\",\"Quechua\",\"Chane\"]\n",
    "namer+=[\"Yakut\",\"Ulchi\",\"Tubular\",\"Tlingit\",\"Mongola\",\"Mansi\"\n",
    "        ,\"Kyrgyz\",\"Itelman\",\"Even\",\"Eskimo_Sireniki\",\"Eskimo_Naukan\"\n",
    "        ,\"Eskimo_Chaplin\",\"Chukchi\",\"Altaian\",\"Aleut\"]\n",
    "namer+=[\"Cree\",\"Chipewyan\",\"Kolyma_River\"]\n",
    "\n",
    "anes=[\"Malta1\",\"AfontovaGora3\",\"Yana_old\",\"Yana_old2\",\n",
    "      \"Kolyma_River\",\"Kostenki14\"]\n",
    "eas=[\"Oroqen\",\"Daur\",\"Hezhen\",\"Xibo\",\"Japanese\",\"Korean\",\n",
    "     \"Tu\",\"Han\",\"Tujia\",\"Miao\",\"Yi\",\"She\",\"Naxi\",\"Atayal\",\n",
    "     \"Ami\",\"Lahu\",\"Dai\",\"Kinh\",\"Burmese\",\"Thai\",\"Cambodian\"]\n",
    "eas+=[\"Tianyuan\",\"Donghuigou\",\"Balikun\",'Chokhopani1',\n",
    "      'Mebrak','Samdzong','BoshanChineseNeolithic',\n",
    "      'Bbdong','Boisman_MN','Linzi','HDYM1','HQSDW',\n",
    "      'Pukagongma','Zongri','LiangDaoChineseNeolithic',\n",
    "      'Longlin','Longlin_d','Xinyi','Xinyi_d']\n",
    "\n",
    "pD=\"/home/melinda_yang/data/2.2M/\" ##mpi\n",
    "outpD=\"/home/melinda_yang/projects/bronzeage/2.2M_analysis/f3stats/\" ##mpi\n",
    "fh = 'UPA_all7'\n",
    "subset = 'X_NAmer_S1_ANE_S2_EAS'\n",
    "\n",
    "AB = [(i,j) for i in anes for j in eas ]\n",
    "Xs = namer\n",
    "\n",
    "pm.f3popfile(AB, Xs, pD+fh, subset)\n",
    "pm.f3parfile(pD,fh,subset,popfh=fh)\n",
    "outfile = open(outpD+fh+'.f3.'+subset+\".log\",'w')\n",
    "mycommand1='mv '+pD+fh+'.f3.'+subset+'.par '+outpD+fh+'.f3.'+subset+'.par'\n",
    "varfile = Popen(mycommand1.split())\n",
    "varfile.communicate()\n",
    "mycommand = 'qp3Pop -p '+outpD+fh+'.f3.'+subset+'.par'\n",
    "print 'Running command', mycommand\n",
    "\n",
    "varfile = Popen(mycommand.split(), stdout = outfile)\n",
    "varfile.communicate()\n",
    "outfile.close()\n"
   ]
  },
  {
   "cell_type": "code",
   "execution_count": null,
   "metadata": {
    "collapsed": true
   },
   "outputs": [],
   "source": []
  }
 ],
 "metadata": {
  "kernelspec": {
   "display_name": "Python 2",
   "language": "python",
   "name": "python2"
  },
  "language_info": {
   "codemirror_mode": {
    "name": "ipython",
    "version": 2
   },
   "file_extension": ".py",
   "mimetype": "text/x-python",
   "name": "python",
   "nbconvert_exporter": "python",
   "pygments_lexer": "ipython2",
   "version": "2.7.12"
  }
 },
 "nbformat": 4,
 "nbformat_minor": 2
}
