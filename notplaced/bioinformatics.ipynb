{
 "cells": [
  {
   "cell_type": "code",
   "execution_count": 1,
   "metadata": {
    "collapsed": false
   },
   "outputs": [
    {
     "name": "stdout",
     "output_type": "stream",
     "text": [
      "Writing /home/mel_yang/pylib/bioinformatics.py\n"
     ]
    }
   ],
   "source": [
    "%%writefile /home/mel_yang/pylib/bioinformatics.py\n",
    "#%%writefile /home/melinda_yang/pylib/bioinformatics.py\n",
    "\n",
    "def parsefasta(fastafilename):\n",
    "    fastafile=open(fastafilename,'r')\n",
    "    myseqs,myids,seq=[],[],''\n",
    "    for myline in fastafile:\n",
    "        if myline[0]==\">\": \n",
    "            myids.append(myline.strip())\n",
    "            myseqs.append(seq); seq=\"\"\n",
    "        else: seq+=myline.strip()\n",
    "    fastafile.close()\n",
    "    myseqs.append(seq) ##Add last seq\n",
    "    myseqs=myseqs[1:]  ##Remove empty first element\n",
    "    return myids,myseqs\n"
   ]
  },
  {
   "cell_type": "code",
   "execution_count": null,
   "metadata": {
    "collapsed": true
   },
   "outputs": [],
   "source": []
  }
 ],
 "metadata": {
  "kernelspec": {
   "display_name": "Python 2",
   "language": "python",
   "name": "python2"
  },
  "language_info": {
   "codemirror_mode": {
    "name": "ipython",
    "version": 2
   },
   "file_extension": ".py",
   "mimetype": "text/x-python",
   "name": "python",
   "nbconvert_exporter": "python",
   "pygments_lexer": "ipython2",
   "version": "2.7.6"
  }
 },
 "nbformat": 4,
 "nbformat_minor": 2
}
