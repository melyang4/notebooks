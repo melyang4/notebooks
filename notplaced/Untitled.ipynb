{
 "cells": [
  {
   "cell_type": "code",
   "execution_count": 10,
   "metadata": {
    "collapsed": false
   },
   "outputs": [
    {
     "name": "stdout",
     "output_type": "stream",
     "text": [
      "37\n"
     ]
    }
   ],
   "source": [
    "pD1=\"/mnt/solexa/mel_yang/allTYstuff/data/\"\n",
    "pD2=\"/mnt/solexa/mel_yang/bronzeage/data/\"\n",
    "\n",
    "myancasns = [\"Linzi\",\"Bbdong\",\"Zongri\",\"Longlin\",\"Xinyi\",\"HDYM1\",\"HQSDW\"]\n",
    "\n",
    "otherancasns = [\"Donghuigou\",\"Balikun\",\"Zhougongmiao\",\"Yaojia\",\"XianShang\",\"Houshaogou\",\n",
    " \"Huoshaogou\",\"Wuba\",\"Xiaoshuangqiao\",\"Guandimiao\",\"Shengedaliang\",\"Muzhuzhuliang\",\n",
    " \"Xinhua\",\"Wuzhuangguo\",\"Shimao\",\"Tonglin\",\"Dashuitian\",\"Taosi\",\"Pukagongma\",\n",
    " \"Redilong\",\"Butaxiongqu\",\"Gelintang\",\"Yingpanshan\",\"Mougou\",\"Sanheyi\",\"Yusu\",\n",
    " \"Jinchankou\",\"Jomon\",\"Longlin_d\",\"Xinyi_d\"]\n",
    "\n",
    "print len(myancasns+otherancasns)\n",
    "\n",
    "HOfile=open(pD2+\"ind_A_v13_TBH5.ind\",'r')\n",
    "notinUPAfile=open(pD2+\"ANCASN_not_in_UPA.ind\",'w')\n",
    "for line in HOfile: \n",
    "    x=line.split()\n",
    "    if x[2] in myancasns+otherancasns:\n",
    "        notinUPAfile.write(line)\n",
    "notinUPAfile.close()\n",
    "HOfile.close()\n"
   ]
  },
  {
   "cell_type": "code",
   "execution_count": 5,
   "metadata": {
    "collapsed": false
   },
   "outputs": [
    {
     "name": "stdout",
     "output_type": "stream",
     "text": [
      "Chokhopani\n",
      "Mebrak\n",
      "Samdzong\n",
      "Boisman_MN\n",
      "Tianyuan\n",
      "Boshan\n",
      "Donghuigou\n",
      "Balikun\n",
      "Zhougongmiao\n",
      "Yaojia\n",
      "Linzi\n",
      "XianShang\n",
      "Zongri\n",
      "Huoshaogou\n",
      "Wuba\n",
      "Xiaoshuangqiao\n",
      "Guandimiao\n",
      "Shengedaliang\n",
      "Muzhuzhuliang\n",
      "Xinhua\n",
      "Wuzhuangguo\n",
      "Shimao\n",
      "Tonglin\n",
      "Dashuitian\n",
      "Longlin\n",
      "Bbdong\n",
      "Taosi\n",
      "Xinyi\n",
      "Pukagongma\n",
      "Redilong\n",
      "Butaxiongqu\n",
      "Gelintang\n",
      "Yingpanshan\n",
      "Mougou\n",
      "Sanheyi\n",
      "Yusu\n",
      "Jinchankou\n",
      "Jomon\n",
      "EU3\n",
      "HDYM1\n",
      "HQSDW\n",
      "Liangdao\n",
      "Longlin_d\n",
      "Xinyi_d\n"
     ]
    }
   ],
   "source": [
    "anceas=['Chokhopani','Mebrak','Samdzong','Boisman_MN'] ##'DevilsGate1','DevilsGate2',\n",
    "anceas2=[\"Tianyuan\",\"Boshan\",\"Donghuigou\",\"Balikun\",\"Zhougongmiao\",\"Yaojia\",\"Linzi\",\"XianShang\",\n",
    "        \"Zongri\",\"Huoshaogou\",\"Wuba\",\"Xiaoshuangqiao\",\"Guandimiao\",\"Shengedaliang\",\n",
    "        \"Muzhuzhuliang\",\"Xinhua\",\"Wuzhuangguo\",\"Shimao\",\"Tonglin\"]\n",
    "anceas3=[\"Dashuitian\",\"Longlin\",\"Bbdong\",\"Taosi\",\"Xinyi\",\"Pukagongma\",\"Redilong\",\n",
    "         \"Butaxiongqu\",\"Gelintang\",\"Yingpanshan\",\"Mougou\",\"Sanheyi\",\"Yusu\",\n",
    "         \"Jinchankou\",\"Jomon\"]\n",
    "anceas4=[\"EU3\",\"HDYM1\",\"HQSDW\",\"Liangdao\",\"Longlin_d\",\"Xinyi_d\"]\n",
    "anceasall = anceas+anceas2+anceas3+anceas4\n",
    "for i in anceasall: print i"
   ]
  },
  {
   "cell_type": "code",
   "execution_count": null,
   "metadata": {
    "collapsed": true
   },
   "outputs": [],
   "source": []
  }
 ],
 "metadata": {
  "kernelspec": {
   "display_name": "Python 2",
   "language": "python",
   "name": "python2"
  },
  "language_info": {
   "codemirror_mode": {
    "name": "ipython",
    "version": 2
   },
   "file_extension": ".py",
   "mimetype": "text/x-python",
   "name": "python",
   "nbconvert_exporter": "python",
   "pygments_lexer": "ipython2",
   "version": "2.7.6"
  }
 },
 "nbformat": 4,
 "nbformat_minor": 2
}
