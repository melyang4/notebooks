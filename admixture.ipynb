{
 "cells": [
  {
   "cell_type": "code",
   "execution_count": 4,
   "metadata": {
    "collapsed": false
   },
   "outputs": [
    {
     "data": {
      "text/plain": [
       "'Made par file for convertf!'"
      ]
     },
     "execution_count": 4,
     "metadata": {},
     "output_type": "execute_result"
    }
   ],
   "source": [
    "import projmodules as pm\n",
    "\n",
    "namers=['Mayan','Piapoco','Xavante','Surui','Mixe','Pima','Karitiana',\n",
    "        'Chane',\"Quechua\",\"Zapotec\",\"Aymara\",\"Guarani\",\"Guarani_GN\",\"Guarani_KW\",\n",
    "        \"Cabecar\",\"Kaqchikel\",\"Wayuu\",\"Inga\",\"Ticuna\",\"Chilote\",\"Bolivian\",\n",
    "        \"Apalai\",\"Arara\",\"UrubuKaapor\",\"Zoro\",\n",
    "        \"Surui.DG\",\"Mixe.DG\",\"Pima.DG\",\"Mayan.DG\",\"Quechua.DG\",\"Zapotec.DG\",\n",
    "        \"Piapoco.DG\",\"Chane.DG\",\"Karitiana.DG\",\n",
    "        \"Mbuti\",\"Yoruba\",\"Spanish\",\"French\",\"Han_HGDP\",\"Japanese\"]\n",
    "\n",
    "baseDir = \"/home/melinda_yang/ivpp/bronzeage/\"\n",
    "fh=\"ind_A_v13_TBH\"\n",
    "newname = 'namer'\n",
    "pm.indtoignore(namers, baseDir+fh+'.ind', baseDir+fh+'.'+newname+'.ind')\n",
    "pm.convertf_par(baseDir+fh,baseDir+fh+'.'+newname+'.ped','PED',baseDir+\n",
    "                'CONVERTF.'+fh+'.'+newname+'.par',indfilename=baseDir+fh+'.'+newname)\n"
   ]
  },
  {
   "cell_type": "code",
   "execution_count": 28,
   "metadata": {
    "collapsed": false
   },
   "outputs": [],
   "source": [
    "##MAKE MAP FILE FROM SNP FILE\n",
    "pd = \"/home/melinda_yang/ivpp/bronzeage/\"\n",
    "pd = \"/home/melinda_yang/ivpp/allTYstuff/\"\n",
    "fh=\"ind_A_v13_TBH.namer_noasn.ped\"\n",
    "newfh=\"ind_A_v13_TBH.namer_noasn\"\n",
    "fh=\"ind_A_v13_TBH.namer.ped\"\n",
    "newfh=\"ind_A_v13_TBH.namer\"\n",
    "fh=\"ind_A_v13_TBH.namer_sgdp_noasn.ped\"\n",
    "newfh=\"ind_A_v13_TBH.namer_sgdp_noasn\"\n",
    "fh=\"UPA_all6.namer.ped\"\n",
    "newfh=\"UPA_all6.namer\"\n",
    "snpfile=open(pd+fh+\".snp\",'r')\n",
    "mapfile=open(pd+newfh+\".map\",'w')\n",
    "for line in snpfile:\n",
    "    x=line.split()\n",
    "    if x[2] == \"0.498278\": print x\n",
    "    newx=[x[i] for i in [0,1,2,3]]\n",
    "    mapfile.write('\\t'.join(newx)+'\\n')"
   ]
  },
  {
   "cell_type": "code",
   "execution_count": null,
   "metadata": {
    "collapsed": true
   },
   "outputs": [],
   "source": []
  },
  {
   "cell_type": "code",
   "execution_count": 1,
   "metadata": {
    "collapsed": false
   },
   "outputs": [
    {
     "data": {
      "text/plain": [
       "'Made par file for convertf!'"
      ]
     },
     "execution_count": 1,
     "metadata": {},
     "output_type": "execute_result"
    }
   ],
   "source": [
    "import projmodules as pm\n",
    "\n",
    "namers=['Mayan','Piapoco','Xavante','Surui','Mixe','Pima','Karitiana',\n",
    "        'Chane',\"Quechua\",\"Zapotec\",\"Aymara\",\"Guarani\",\"Guarani_GN\",\"Guarani_KW\",\n",
    "        \"Cabecar\",\"Kaqchikel\",\"Wayuu\",\"Inga\",\"Ticuna\",\"Chilote\",\"Bolivian\",\n",
    "        \"Apalai\",\"Arara\",\"UrubuKaapor\",\"Zoro\",\n",
    "        \"Surui.DG\",\"Mixe.DG\",\"Pima.DG\",\"Mayan.DG\",\"Quechua.DG\",\"Zapotec.DG\",\n",
    "        \"Piapoco.DG\",\"Chane.DG\",\"Karitiana.DG\",\n",
    "        \"Mbuti\",\"Yoruba\",\"Mandenka\",\"Spanish\",\"French\",\"Sardinian\"]\n",
    "\n",
    "baseDir = \"/home/melinda_yang/ivpp/bronzeage/\"\n",
    "fh=\"ind_A_v13_TBH\"\n",
    "newname = 'namer_noasn'\n",
    "pm.indtoignore(namers, baseDir+fh+'.ind', baseDir+fh+'.'+newname+'.ind')\n",
    "pm.convertf_par(baseDir+fh,baseDir+fh+'.'+newname+'.ped','PED',baseDir+\n",
    "                'CONVERTF.'+fh+'.'+newname+'.par',indfilename=baseDir+fh+'.'+newname)\n"
   ]
  },
  {
   "cell_type": "code",
   "execution_count": 9,
   "metadata": {
    "collapsed": false
   },
   "outputs": [
    {
     "data": {
      "text/plain": [
       "'Made par file for convertf!'"
      ]
     },
     "execution_count": 9,
     "metadata": {},
     "output_type": "execute_result"
    }
   ],
   "source": [
    "import projmodules as pm\n",
    "\n",
    "namers=[\"Surui.DG\",\"Mixe.DG\",\"Pima.DG\",\"Mayan.DG\",\"Quechua.DG\",\"Zapotec.DG\",\n",
    "        \"Piapoco.DG\",\"Chane.DG\",\"Karitiana.DG\",\n",
    "        \"Mbuti.DG\",\"Yoruba.DG\",\"Mandenka.DG\",\"Spanish.DG\",\"French.DG\",\"Sardinian.DG\"]\n",
    "\n",
    "baseDir = \"/home/melinda_yang/ivpp/bronzeage/\"\n",
    "fh=\"ind_A_v13_TBH\"\n",
    "newname = 'namer_sgdp_noasn'\n",
    "pm.indtoignore(namers, baseDir+fh+'.ind', baseDir+fh+'.'+newname+'.ind')\n",
    "pm.convertf_par(baseDir+fh,baseDir+fh+'.'+newname+'.ped','PED',baseDir+\n",
    "                'CONVERTF.'+fh+'.'+newname+'.par',indfilename=baseDir+fh+'.'+newname)\n"
   ]
  },
  {
   "cell_type": "code",
   "execution_count": null,
   "metadata": {
    "collapsed": true
   },
   "outputs": [],
   "source": []
  },
  {
   "cell_type": "code",
   "execution_count": null,
   "metadata": {
    "collapsed": true
   },
   "outputs": [],
   "source": []
  },
  {
   "cell_type": "code",
   "execution_count": 29,
   "metadata": {
    "collapsed": false
   },
   "outputs": [
    {
     "data": {
      "text/plain": [
       "'Made par file for convertf!'"
      ]
     },
     "execution_count": 29,
     "metadata": {},
     "output_type": "execute_result"
    }
   ],
   "source": [
    "import projmodules as pm\n",
    "\n",
    "namers=[\"Surui\",\"Mixe\",\"Pima\",\"Mayan\",\"Quechua\",\"Zapotec\",\n",
    "        \"Piapoco\",\"Chane\",\"Karitiana\",\n",
    "        \"Mbuti\",\"Yoruba\",\"Mandenka\",\"Spanish\",\"French\",\"Sardinian\"] #,\"Han\",\"Japanese\"]\n",
    "\n",
    "baseDir = \"/home/melinda_yang/ivpp/allTYstuff/\"\n",
    "fh=\"UPA_all6\"\n",
    "newname = 'namer_nbs' #nobadsnps\n",
    "pm.indtoignore(namers, baseDir+fh+'.ind', baseDir+fh+'.'+newname+'.ind')\n",
    "pm.convertf_par(baseDir+fh,baseDir+fh+'.'+newname+'.ped','PED',baseDir+\n",
    "                'CONVERTF.'+fh+'.'+newname+'.par',\n",
    "                indfilename=baseDir+fh+'.'+newname,\n",
    "               badsnpfile=baseDir+\"UPA_all6.namer.badsnps\")\n"
   ]
  },
  {
   "cell_type": "code",
   "execution_count": 24,
   "metadata": {
    "collapsed": false
   },
   "outputs": [],
   "source": [
    "\n",
    "pd=\"/home/melinda_yang/ivpp/allTYstuff/\"\n",
    "badrs=open(pd+\"UPA_all6.namer_missing.nof\",'r')\n",
    "badrsids=[line.strip() for line in badrs]\n",
    "badrs.close()\n",
    "snps=open(pd+\"UPA_all6.namer.ped.snp\",'r')\n",
    "newbad=open(pd+\"UPA_all6.namer.badsnps\",'w')\n",
    "for line in snps:\n",
    "    x=line.split()\n",
    "    if x[1] in badrsids: newbad.write('\\t'.join(x)+'\\n')\n",
    "newbad.close()\n",
    "snps.close()\n"
   ]
  },
  {
   "cell_type": "code",
   "execution_count": null,
   "metadata": {
    "collapsed": true
   },
   "outputs": [],
   "source": []
  },
  {
   "cell_type": "code",
   "execution_count": null,
   "metadata": {
    "collapsed": true
   },
   "outputs": [],
   "source": []
  },
  {
   "cell_type": "code",
   "execution_count": null,
   "metadata": {
    "collapsed": true
   },
   "outputs": [],
   "source": []
  },
  {
   "cell_type": "code",
   "execution_count": 2,
   "metadata": {
    "collapsed": false
   },
   "outputs": [
    {
     "data": {
      "text/plain": [
       "'Made par file for convertf!'"
      ]
     },
     "execution_count": 2,
     "metadata": {},
     "output_type": "execute_result"
    }
   ],
   "source": [
    "import projmodules as pm\n",
    "\n",
    "targets = ['Chane','Karitiana','Mayan','Mixe','Mixtec','Piapoco','Pima','Quechua','Surui','Zapotec','Clovis','French']\n",
    "\n",
    "baseDir = \"/home/mel_yang/projects/allTYstuff/SOMX2/\"\n",
    "fh=\"UPA_all2\"\n",
    "newname = 'namer_french'\n",
    "pm.indtoignore(targets, baseDir+fh+'.ind', baseDir+fh+'.'+newname+'.ind')\n",
    "pm.convertf_par(baseDir+fh,baseDir+fh+'.'+newname+'.ped','PED',baseDir+\n",
    "                'CONVERTF.'+fh+'.'+newname+'.par',indfilename=baseDir+fh+'.'+newname)\n"
   ]
  },
  {
   "cell_type": "code",
   "execution_count": 3,
   "metadata": {
    "collapsed": false
   },
   "outputs": [
    {
     "data": {
      "text/plain": [
       "'Made par file for convertf!'"
      ]
     },
     "execution_count": 3,
     "metadata": {},
     "output_type": "execute_result"
    }
   ],
   "source": [
    "import projmodules as pm\n",
    "\n",
    "targets = ['Ami', 'Atayal', 'Burmese', 'Cambodian', 'Dai', 'Daur', \n",
    "              'Han', 'Hezhen', 'Japanese', 'Kinh', 'Korean', 'Lahu', \n",
    "              'Miao', 'Naxi', 'Oroqen', 'She', 'Thai', 'Tu', 'Tujia', \n",
    "              'Uygur', 'Xibo', 'Yi','French']\n",
    "\n",
    "baseDir = \"/home/mel_yang/projects/allTYstuff/SOMX2/\"\n",
    "fh=\"UPA_all2\"\n",
    "newname = 'eas_french'\n",
    "pm.indtoignore(targets, baseDir+fh+'.ind', baseDir+fh+'.'+newname+'.ind')\n",
    "pm.convertf_par(baseDir+fh,baseDir+fh+'.'+newname+'.ped','PED',baseDir+\n",
    "                'CONVERTF.'+fh+'.'+newname+'.par',indfilename=baseDir+fh+'.'+newname)\n"
   ]
  },
  {
   "cell_type": "code",
   "execution_count": 8,
   "metadata": {
    "collapsed": false
   },
   "outputs": [
    {
     "ename": "TypeError",
     "evalue": "bar() takes at least 2 arguments (1 given)",
     "output_type": "error",
     "traceback": [
      "\u001b[0;31m---------------------------------------------------------------------------\u001b[0m\n\u001b[0;31mTypeError\u001b[0m                                 Traceback (most recent call last)",
      "\u001b[0;32m<ipython-input-8-82424e89d848>\u001b[0m in \u001b[0;36m<module>\u001b[0;34m()\u001b[0m\n\u001b[1;32m      9\u001b[0m \u001b[0mmydat\u001b[0m \u001b[0;34m=\u001b[0m \u001b[0mnp\u001b[0m\u001b[0;34m.\u001b[0m\u001b[0marray\u001b[0m\u001b[0;34m(\u001b[0m\u001b[0;34m[\u001b[0m\u001b[0;34m[\u001b[0m\u001b[0mfloat\u001b[0m\u001b[0;34m(\u001b[0m\u001b[0mi\u001b[0m\u001b[0;34m)\u001b[0m \u001b[0;32mfor\u001b[0m \u001b[0mi\u001b[0m \u001b[0;32min\u001b[0m \u001b[0mline\u001b[0m\u001b[0;34m.\u001b[0m\u001b[0msplit\u001b[0m\u001b[0;34m(\u001b[0m\u001b[0;34m)\u001b[0m\u001b[0;34m]\u001b[0m \u001b[0;32mfor\u001b[0m \u001b[0mline\u001b[0m \u001b[0;32min\u001b[0m \u001b[0mmydat\u001b[0m\u001b[0;34m]\u001b[0m\u001b[0;34m)\u001b[0m\u001b[0;34m\u001b[0m\u001b[0m\n\u001b[1;32m     10\u001b[0m \u001b[0;32mprint\u001b[0m \u001b[0mmydat\u001b[0m\u001b[0;34m.\u001b[0m\u001b[0mshape\u001b[0m\u001b[0;34m\u001b[0m\u001b[0m\n\u001b[0;32m---> 11\u001b[0;31m \u001b[0mplt\u001b[0m\u001b[0;34m.\u001b[0m\u001b[0mbar\u001b[0m\u001b[0;34m(\u001b[0m\u001b[0mmydat\u001b[0m\u001b[0;34m,\u001b[0m \u001b[0mcol\u001b[0m\u001b[0;34m=\u001b[0m\u001b[0;34m[\u001b[0m\u001b[0;34m'red'\u001b[0m\u001b[0;34m,\u001b[0m\u001b[0;34m'blue'\u001b[0m\u001b[0;34m,\u001b[0m\u001b[0;34m'yellow'\u001b[0m\u001b[0;34m]\u001b[0m\u001b[0;34m)\u001b[0m\u001b[0;34m\u001b[0m\u001b[0m\n\u001b[0m\u001b[1;32m     12\u001b[0m \u001b[0;31m#barplot(t(as.matrix(tbl)), col=rainbow(3),xlab=\"Individual #\", ylab=\"Ancestry\", border=NA)\u001b[0m\u001b[0;34m\u001b[0m\u001b[0;34m\u001b[0m\u001b[0m\n",
      "\u001b[0;31mTypeError\u001b[0m: bar() takes at least 2 arguments (1 given)"
     ]
    },
    {
     "name": "stdout",
     "output_type": "stream",
     "text": [
      "(24, 3)\n"
     ]
    }
   ],
   "source": [
    "%matplotlib inline\n",
    "import numpy as np\n",
    "import matplotlib.pyplot as plt\n",
    "baseDir = '/home/mel_yang/projects/allTYstuff/SOMX2/'\n",
    "fh = 'UPA_all2.namer'\n",
    "myfile = open(baseDir+fh+'.3.Q','r')\n",
    "mydat = myfile.readlines()\n",
    "myfile.close()\n",
    "mydat = np.array([[float(i) for i in line.split()] for line in mydat])\n",
    "print mydat.shape\n",
    "plt.bar( #, col=['red','blue','yellow'])\n",
    "#barplot(t(as.matrix(tbl)), col=rainbow(3),xlab=\"Individual #\", ylab=\"Ancestry\", border=NA)"
   ]
  },
  {
   "cell_type": "code",
   "execution_count": null,
   "metadata": {
    "collapsed": false
   },
   "outputs": [],
   "source": []
  }
 ],
 "metadata": {
  "kernelspec": {
   "display_name": "Python 2",
   "language": "python",
   "name": "python2"
  },
  "language_info": {
   "codemirror_mode": {
    "name": "ipython",
    "version": 2
   },
   "file_extension": ".py",
   "mimetype": "text/x-python",
   "name": "python",
   "nbconvert_exporter": "python",
   "pygments_lexer": "ipython2",
   "version": "2.7.6"
  }
 },
 "nbformat": 4,
 "nbformat_minor": 0
}
