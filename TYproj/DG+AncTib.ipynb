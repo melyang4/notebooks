{
 "cells": [
  {
   "cell_type": "code",
   "execution_count": null,
   "metadata": {
    "collapsed": true
   },
   "outputs": [],
   "source": [
    "%%writefile /home/mel_yang/projects/allTYstuff/SOMX2/calcD_01.py\n",
    "##Table1-4, transv or all\n",
    "import plotting_funcs as pf\n",
    "\n",
    "preNeoEur1 = ['Han','Ami','Malta1','Clovis','Chane','Karitiana',\n",
    "              'Mayan','Mixe','Mixtec','Piapoco', \n",
    "              'Pima','Quechua','Surui','Zapotec']\n",
    "preNeoEur1 = ['Han','Ami','Malta1','Clovis','Mixe','Surui','Saqqaq','LateDorset','MiddleDorset','Cree','Chipewyan','Thule']\n",
    "preNeoEur1 = ['Balochi', 'Bengali', 'Brahmin', 'Brahui', 'Burusho', 'Hazara', 'Irula', 'Kalash', 'Kapu', 'Khonda_Dora', 'Kusunda', 'Madiga', 'Makrani', 'Mala', 'Pathan', 'Punjabi', 'Relli', 'Sindhi', 'Yadava']\n",
    "preNeoEur1 = ['Aleut', 'Altaian', 'Chukchi', 'Eskimo_Chaplin', 'Eskimo_Naukan', 'Eskimo_Sireniki', 'Even', 'Itelman', 'Kyrgyz', 'Mansi', 'Mongola', 'Tlingit', 'Tubalar', 'Ulchi', 'Yakut']\n",
    "allids = ['Mbuti','Yoruba','TY','Han','Ami','Dai',\n",
    "             'Surui','Mixe','Clovis','Papuan',\n",
    "             'UstIshim','Oase1','Kostenki14','GoyetQ116-1',\n",
    "             'Vestonice16','KremsWA3','Ostuni1','ElMiron',\n",
    "             'Malta1','Villabruna','Bichon','Rochedane','Ranchot88',\n",
    "            'Loschbour','LaBrana1','Hungarian.KO1','Motala12',\n",
    "            'Karelia','Satsurblia','Kotias','Stuttgart','French']\n",
    "pDout = \"/home/mel_yang/projects/allTYstuff/SOMX2/\"\n",
    "pD = \"/home/mel_yang/projects/allTYstuff/mydata/\"\n",
    "fhs = ['UPA_all2','UPA_all2.transv']\n",
    "myid1 = 'CSib'\n",
    "myid2 = 'Anc'\n",
    "p3s = ['TY']\n",
    "p4s = ['Mbuti','Chimp']\n",
    "for fh in fhs:\n",
    "    for myp3 in p3s:\n",
    "        for myp4 in p4s:\n",
    "            for ind2,myset in enumerate(allids):\n",
    "                if ind2%5!=0: continue\n",
    "                ##(p1, p2, p3s, p4s)\n",
    "                p1,p2,p3,p4 = (allids[ind2:(ind2+5)],preNeoEur1,myp3,myp4)\n",
    "                subset = myid2+str(ind2)+'_'+myid1+'_'+p3+'_'+p4\n",
    "                mytups = [(i,j,p3,p4,'p1_'+i) for ind,i in enumerate(p1) for j in p2 if i != j and p3!=i and p3!=j]\n",
    "                pf.runD(p1,p2,mytups,pD,fh,subset,(0,1),(0,),fixed=(0,0,p3,p4),outpd=pDout)\n",
    "                \n",
    "                ##(p3s, p2, p3, p4s)\n",
    "                p1,p2,p3,p4 = (myp3,allids[ind2:(ind2+5)],preNeoEur1,myp4)\n",
    "                subset = p1+'_'+myid2+str(ind2)+'_'+myid1+'_'+p4\n",
    "                mytups = [(p1,i,j,p4,'p2_'+i) for ind,i in enumerate(p2) for j in p3 if i != j and p1!=i and p1!=j]\n",
    "                pf.runD(p2,p3,mytups,pD,fh,subset,(1,2),(0,),fixed=(p1,0,0,p4),outpd=pDout)\n",
    "                \n",
    "                ##(p3s, p2, p3, p4s)\n",
    "                p1,p2,p3,p4 = (myp3,preNeoEur1,allids[ind2:(ind2+5)],myp4)\n",
    "                subset = p1+'_'+myid1+'_'+myid2+str(ind2)+'_'+p4\n",
    "                mytups = [(p1,i,j,p4,'p2_'+i) for ind,i in enumerate(p2) for j in p3 if i != j and p1!=i and p1!=j]\n",
    "                pf.runD(p3,p2,mytups,pD,fh,subset,(2,1),(0,),fixed=(p1,0,0,p4),outpd=pDout)\n",
    "                "
   ]
  },
  {
   "cell_type": "code",
   "execution_count": 3,
   "metadata": {
    "collapsed": false
   },
   "outputs": [
    {
     "name": "stdout",
     "output_type": "stream",
     "text": [
      "Overwriting /mnt/solexa/mel_yang/allTYstuff/postsubmission/calcD_MOS.py\n"
     ]
    }
   ],
   "source": [
    "%%writefile /mnt/solexa/mel_yang/allTYstuff/postsubmission/calcD_MOS.py\n",
    "##Table1-4, transv or all\n",
    "import plotting_funcs as pf\n",
    "\n",
    "myanc=['UstIshim','Oase1','Kostenki14','GoyetQ116-1','Vestonice16','Malta1','ElMiron', \n",
    "       'Villabruna','Bichon','Satsurblia','Kotias','Karelia','Loschbour','LaBrana1',\n",
    "       'Hungarian.KO1','Stuttgart','French','Sardinian']\n",
    "\n",
    "allids = [\"DevilsGate1\",\"DevilsGate2\",\"MOS2\",\"MOS3\",\"MOS6\",\n",
    "          \"Chokhopani1\",\"Mebrak63\",\"Samdzong10\",\"Samdzong35\",\"Samdzong41\",\n",
    "          \"Mebrak240\",\"Mebrak344\",\"Samdzong40\"]\n",
    "\n",
    "pD = \"/mnt/solexa/mel_yang/allTYstuff/data/\"\n",
    "outpd=\"/mnt/solexa/mel_yang/allTYstuff/postsubmission/\"\n",
    "fhs = ['UPA_all6']\n",
    "myid1 = 'ANC'\n",
    "myid2 = 'MOSTIB'\n",
    "p3s = ['TY']\n",
    "p4s = ['Mbuti','Chimp']\n",
    "bsf,bsfsubset=(0,'all')\n",
    "#bsf,bsfsubset=(\"/mnt/solexa/mel_yang/allTYstuff/data/UPA_all6.transi.snp\",'tv')\n",
    "for myp4 in p4s:\n",
    "    for fh in fhs:\n",
    "        for myp3 in p3s:        \n",
    "            ##(p1, p2, p3s, p4s)\n",
    "            p1,p2,p3,p4 = (myanc,allids,myp3,myp4)\n",
    "            subset = bsfsubset+'.'+myid1+'_'+myid2+'_'+p3+'_'+p4\n",
    "            mytups = [(i,j,p3,p4,'p1_'+i) for ind,i in enumerate(p1) for j in p2 if i != j and p3!=i and p3!=j]\n",
    "            pf.runD(p1,p2,mytups,pD,fh,subset,(0,1),(0,),fixed=(0,0,p3,p4),badsnpfile=bsf,outpd=outpd)\n",
    "\n",
    "            ##(p3s, p2, p3, p4s)\n",
    "            p1,p2,p3,p4 = (myp3,myanc,allids,myp4)\n",
    "            subset = bsfsubset+'.'+p1+'_'+myid1+'_'+myid2+'_'+p4\n",
    "            mytups = [(p1,i,j,p4,'p2_'+i) for ind,i in enumerate(p2) for j in p3 if i != j and p1!=i and p1!=j]\n",
    "            pf.runD(p2,p3,mytups,pD,fh,subset,(1,2),(0,),fixed=(p1,0,0,p4),badsnpfile=bsf,outpd=outpd)\n",
    "\n",
    "            ##(p3s, p2, p3, p4s)\n",
    "            p1,p2,p3,p4 = (myp3,allids,myanc,myp4)\n",
    "            subset = bsfsubset+'.'+p1+'_'+myid2+'_'+myid1+'_'+p4\n",
    "            mytups = [(p1,i,j,p4,'p2_'+i) for ind,i in enumerate(p2) for j in p3 if i != j and p1!=i and p1!=j]\n",
    "            pf.runD(p3,p2,mytups,pD,fh,subset,(2,1),(0,),fixed=(p1,0,0,p4),badsnpfile=bsf,outpd=outpd)\n",
    "                "
   ]
  },
  {
   "cell_type": "code",
   "execution_count": null,
   "metadata": {
    "collapsed": true
   },
   "outputs": [],
   "source": []
  }
 ],
 "metadata": {
  "kernelspec": {
   "display_name": "Python 2",
   "language": "python",
   "name": "python2"
  },
  "language_info": {
   "codemirror_mode": {
    "name": "ipython",
    "version": 2
   },
   "file_extension": ".py",
   "mimetype": "text/x-python",
   "name": "python",
   "nbconvert_exporter": "python",
   "pygments_lexer": "ipython2",
   "version": "2.7.6"
  }
 },
 "nbformat": 4,
 "nbformat_minor": 2
}
