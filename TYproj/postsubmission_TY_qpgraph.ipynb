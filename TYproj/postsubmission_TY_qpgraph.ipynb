{
 "cells": [
  {
   "cell_type": "code",
   "execution_count": 15,
   "metadata": {},
   "outputs": [
    {
     "name": "stdout",
     "output_type": "stream",
     "text": [
      "Writing /home/mel_yang/projects/allTYstuff/SOMX11_AltDenPap/addPapuans/testTYSur.py\n"
     ]
    }
   ],
   "source": [
    "%%writefile /home/mel_yang/projects/allTYstuff/SOMX11_AltDenPap/addPapuans/testTYSur.py\n",
    "\n",
    "import projmodules as pm\n",
    "from subprocess import Popen, PIPE\n",
    "import glob\n",
    "from multiprocessing import Pool\n",
    "\n",
    "pD=\"/home/mel_yang/projects/allTYstuff/SOMX11_AltDenPap/addPapuans/\"\n",
    "indfh = 'UPA_all2'\n",
    "fh=\"Surui.Mixe.Ami.maingraph_removesecondPap\"\n",
    "headnode=\"SUPA1\"\n",
    "tailnode=\"SUR4\"\n",
    "labels,edges,admixes=pm.graph_readgraph(pD,fh)\n",
    "edges=[tuple(i) for i in edges]\n",
    "edgestoremove=[]\n",
    "headedgename=''\n",
    "for edge in edges: \n",
    "    if headnode in edge: \n",
    "        if headnode == edge[-1]: \n",
    "            headedge1=edge[-2]\n",
    "            headedgename+=edge[0]\n",
    "            edgestoremove.append(edge)\n",
    "        if headnode == edge[-2]: \n",
    "            headedgename+=edge[0]\n",
    "            headedge2=edge[-1]\n",
    "            edgestoremove.append(edge)\n",
    "\n",
    "newedge1=[headedgename,headedge1,headedge2]\n",
    "newedges=[list(i) for i in edges if i not in edgestoremove]\n",
    "print len(newedges)\n",
    "for ind,edge in enumerate(newedges): \n",
    "    newedge2=[edge[0]+'a',edge[1],headnode]\n",
    "    newedge3=[edge[0]+'b',headnode,edge[2]]\n",
    "    finaledges=newedges[:ind]+newedges[(ind+1):]+[newedge1,newedge2,newedge3]\n",
    "    pm.graph_mkgraph(pD,headnode+'_edge'+str(ind)+\"_\"+fh,labels,finaledges,admixes,comments='NA')\n",
    "    pm.graph_runfile(headnode+'_edge'+str(ind)+\"_\"+fh,pD,indfh,'testTYSur',outpop='Mbuti')\n",
    "    #break\n"
   ]
  },
  {
   "cell_type": "code",
   "execution_count": 19,
   "metadata": {},
   "outputs": [
    {
     "name": "stdout",
     "output_type": "stream",
     "text": [
      "/home/mel_yang/projects/allTYstuff/SOMX11_AltDenPap/addPapuans/SUPA1_edge0_Surui.Mixe.Ami.maingraph_removesecondPap.UPA_all2.testTYSur.log:worst f-stat:       Mbu        Tia        Mix        Sur       0.000059     0.005590     0.005531     0.001459     3.791 \n",
      "/home/mel_yang/projects/allTYstuff/SOMX11_AltDenPap/addPapuans/SUPA1_edge10_Surui.Mixe.Ami.maingraph_removesecondPap.UPA_all2.testTYSur.log:worst f-stat:       Mbu        Tia        Mix        Sur       0.000060     0.005590     0.005530     0.001459     3.790 \n",
      "/home/mel_yang/projects/allTYstuff/SOMX11_AltDenPap/addPapuans/SUPA1_edge11_Surui.Mixe.Ami.maingraph_removesecondPap.UPA_all2.testTYSur.log:worst f-stat:       Mbu        Tia        Mix        Sur       0.000063     0.005590     0.005527     0.001459     3.788 \n",
      "/home/mel_yang/projects/allTYstuff/SOMX11_AltDenPap/addPapuans/SUPA1_edge12_Surui.Mixe.Ami.maingraph_removesecondPap.UPA_all2.testTYSur.log:worst f-stat:       Mbu        Tia        Mix        Sur       0.000067     0.005590     0.005523     0.001459     3.785 \n",
      "/home/mel_yang/projects/allTYstuff/SOMX11_AltDenPap/addPapuans/SUPA1_edge13_Surui.Mixe.Ami.maingraph_removesecondPap.UPA_all2.testTYSur.log:worst f-stat:       Mbu        Tia        Mix        Sur       0.000059     0.005590     0.005531     0.001459     3.790 \n",
      "/home/mel_yang/projects/allTYstuff/SOMX11_AltDenPap/addPapuans/SUPA1_edge14_Surui.Mixe.Ami.maingraph_removesecondPap.UPA_all2.testTYSur.log:worst f-stat:       Mbu        Tia        Mix        Sur       0.000061     0.005590     0.005529     0.001459     3.790 \n",
      "/home/mel_yang/projects/allTYstuff/SOMX11_AltDenPap/addPapuans/SUPA1_edge15_Surui.Mixe.Ami.maingraph_removesecondPap.UPA_all2.testTYSur.log:worst f-stat:       Mbu        Tia        Mix        Sur       0.000054     0.005590     0.005536     0.001459     3.794 \n",
      "/home/mel_yang/projects/allTYstuff/SOMX11_AltDenPap/addPapuans/SUPA1_edge16_Surui.Mixe.Ami.maingraph_removesecondPap.UPA_all2.testTYSur.log:worst f-stat:       Mbu        Ust        Ami        Mix       0.000000    -0.004690    -0.004690     0.001619    -2.896 \n",
      "/home/mel_yang/projects/allTYstuff/SOMX11_AltDenPap/addPapuans/SUPA1_edge17_Surui.Mixe.Ami.maingraph_removesecondPap.UPA_all2.testTYSur.log:worst f-stat:       Mbu        Tia        Mix        Sur       0.000055     0.005590     0.005535     0.001459     3.794 \n",
      "/home/mel_yang/projects/allTYstuff/SOMX11_AltDenPap/addPapuans/SUPA1_edge18_Surui.Mixe.Ami.maingraph_removesecondPap.UPA_all2.testTYSur.log:worst f-stat:       Mbu        Tia        Mix        Sur       0.000061     0.005590     0.005529     0.001459     3.790 \n",
      "/home/mel_yang/projects/allTYstuff/SOMX11_AltDenPap/addPapuans/SUPA1_edge19_Surui.Mixe.Ami.maingraph_removesecondPap.UPA_all2.testTYSur.log:worst f-stat:       Mbu        Tia        Mix        Sur       0.000061     0.005590     0.005529     0.001459     3.790 \n",
      "/home/mel_yang/projects/allTYstuff/SOMX11_AltDenPap/addPapuans/SUPA1_edge1_Surui.Mixe.Ami.maingraph_removesecondPap.UPA_all2.testTYSur.log:worst f-stat:       Mbu        Tia        Mix        Sur       0.000062     0.005590     0.005528     0.001459     3.789 \n",
      "/home/mel_yang/projects/allTYstuff/SOMX11_AltDenPap/addPapuans/SUPA1_edge20_Surui.Mixe.Ami.maingraph_removesecondPap.UPA_all2.testTYSur.log:worst f-stat:       Mbu        Tia        Mix        Sur       0.000454     0.005590     0.005136     0.001459     3.520 \n",
      "/home/mel_yang/projects/allTYstuff/SOMX11_AltDenPap/addPapuans/SUPA1_edge21_Surui.Mixe.Ami.maingraph_removesecondPap.UPA_all2.testTYSur.log:worst f-stat:       Mbu        Tia        Mix        Sur       0.000059     0.005590     0.005531     0.001459     3.791 \n",
      "/home/mel_yang/projects/allTYstuff/SOMX11_AltDenPap/addPapuans/SUPA1_edge22_Surui.Mixe.Ami.maingraph_removesecondPap.UPA_all2.testTYSur.log:worst f-stat:       Mbu        Tia        Mix        Sur       0.000389     0.005590     0.005201     0.001459     3.565 \n",
      "/home/mel_yang/projects/allTYstuff/SOMX11_AltDenPap/addPapuans/SUPA1_edge23_Surui.Mixe.Ami.maingraph_removesecondPap.UPA_all2.testTYSur.log:worst f-stat:       Mbu        Tia        Mix        Sur       0.000051     0.005590     0.005539     0.001459     3.796 \n",
      "/home/mel_yang/projects/allTYstuff/SOMX11_AltDenPap/addPapuans/SUPA1_edge26_Surui.Mixe.Ami.maingraph_removesecondPap.UPA_all2.testTYSur.log:worst f-stat:       Mbu        Tia        Mix        Sur       0.000057     0.005590     0.005533     0.001459     3.792 \n",
      "/home/mel_yang/projects/allTYstuff/SOMX11_AltDenPap/addPapuans/SUPA1_edge27_Surui.Mixe.Ami.maingraph_removesecondPap.UPA_all2.testTYSur.log:worst f-stat:       Mbu        Tia        Mix        Sur       0.000061     0.005590     0.005529     0.001459     3.790 \n",
      "/home/mel_yang/projects/allTYstuff/SOMX11_AltDenPap/addPapuans/SUPA1_edge28_Surui.Mixe.Ami.maingraph_removesecondPap.UPA_all2.testTYSur.log:worst f-stat:       Mbu        Tia        Mix        Sur       0.000061     0.005590     0.005529     0.001459     3.789 \n",
      "/home/mel_yang/projects/allTYstuff/SOMX11_AltDenPap/addPapuans/SUPA1_edge29_Surui.Mixe.Ami.maingraph_removesecondPap.UPA_all2.testTYSur.log:worst f-stat:       Mbu        Tia        Mix        Sur       0.000068     0.005590     0.005522     0.001459     3.785 \n",
      "/home/mel_yang/projects/allTYstuff/SOMX11_AltDenPap/addPapuans/SUPA1_edge2_Surui.Mixe.Ami.maingraph_removesecondPap.UPA_all2.testTYSur.log:worst f-stat:       Mbu        Tia        Mix        Sur       0.000060     0.005590     0.005530     0.001459     3.790 \n",
      "/home/mel_yang/projects/allTYstuff/SOMX11_AltDenPap/addPapuans/SUPA1_edge30_Surui.Mixe.Ami.maingraph_removesecondPap.UPA_all2.testTYSur.log:worst f-stat:       Mbu        Tia        Mix        Sur       0.000052     0.005590     0.005538     0.001459     3.795 \n",
      "/home/mel_yang/projects/allTYstuff/SOMX11_AltDenPap/addPapuans/SUPA1_edge31_Surui.Mixe.Ami.maingraph_removesecondPap.UPA_all2.testTYSur.log:worst f-stat:       Mbu        Tia        Mix        Sur       0.000065     0.005590     0.005525     0.001459     3.786 \n",
      "/home/mel_yang/projects/allTYstuff/SOMX11_AltDenPap/addPapuans/SUPA1_edge3_Surui.Mixe.Ami.maingraph_removesecondPap.UPA_all2.testTYSur.log:worst f-stat:       Mbu        Tia        Mix        Sur       0.000056     0.005590     0.005534     0.001459     3.792 \n",
      "/home/mel_yang/projects/allTYstuff/SOMX11_AltDenPap/addPapuans/SUPA1_edge4_Surui.Mixe.Ami.maingraph_removesecondPap.UPA_all2.testTYSur.log:worst f-stat:       Mbu        Tia        Mix        Sur      -0.000106     0.005590     0.005696     0.001459     3.904 \n",
      "/home/mel_yang/projects/allTYstuff/SOMX11_AltDenPap/addPapuans/SUPA1_edge5_Surui.Mixe.Ami.maingraph_removesecondPap.UPA_all2.testTYSur.log:worst f-stat:       Mbu        Tia        Mix        Sur      -0.000029     0.005590     0.005619     0.001459     3.851 \n",
      "/home/mel_yang/projects/allTYstuff/SOMX11_AltDenPap/addPapuans/SUPA1_edge6_Surui.Mixe.Ami.maingraph_removesecondPap.UPA_all2.testTYSur.log:worst f-stat:       Mbu        Tia        Mix        Sur       0.000062     0.005590     0.005528     0.001459     3.789 \n",
      "/home/mel_yang/projects/allTYstuff/SOMX11_AltDenPap/addPapuans/SUPA1_edge7_Surui.Mixe.Ami.maingraph_removesecondPap.UPA_all2.testTYSur.log:worst f-stat:       Mbu        Tia        Mix        Sur       0.000059     0.005590     0.005531     0.001459     3.790 \n",
      "/home/mel_yang/projects/allTYstuff/SOMX11_AltDenPap/addPapuans/SUPA1_edge8_Surui.Mixe.Ami.maingraph_removesecondPap.UPA_all2.testTYSur.log:worst f-stat:       Mbu        Tia        Mix        Sur       0.000058     0.005590     0.005532     0.001459     3.791 \n",
      "/home/mel_yang/projects/allTYstuff/SOMX11_AltDenPap/addPapuans/SUPA1_edge9_Surui.Mixe.Ami.maingraph_removesecondPap.UPA_all2.testTYSur.log:worst f-stat:       Mbu        Tia        Mix        Sur       0.000060     0.005590     0.005530     0.001459     3.790 \n"
     ]
    }
   ],
   "source": [
    "%%bash\n",
    "pD=\"/home/mel_yang/projects/allTYstuff/SOMX11_AltDenPap/addPapuans/\"\n",
    "headnode=\"SUPA1\"\n",
    "indfh=\"UPA_all2\"\n",
    "fh=\"Surui.Mixe.Ami.maingraph_removesecondPap\"\n",
    "subset=\"testTYSur\"\n",
    "\n",
    "grep worst ${pD}${headnode}_edge*_${fh}.${indfh}.${subset}.log"
   ]
  },
  {
   "cell_type": "code",
   "execution_count": null,
   "metadata": {
    "collapsed": true
   },
   "outputs": [],
   "source": []
  }
 ],
 "metadata": {
  "kernelspec": {
   "display_name": "Python 2",
   "language": "python",
   "name": "python2"
  },
  "language_info": {
   "codemirror_mode": {
    "name": "ipython",
    "version": 2
   },
   "file_extension": ".py",
   "mimetype": "text/x-python",
   "name": "python",
   "nbconvert_exporter": "python",
   "pygments_lexer": "ipython2",
   "version": "2.7.13"
  }
 },
 "nbformat": 4,
 "nbformat_minor": 2
}
