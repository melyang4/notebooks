{
 "cells": [
  {
   "cell_type": "code",
   "execution_count": 80,
   "metadata": {},
   "outputs": [
    {
     "name": "stdout",
     "output_type": "stream",
     "text": [
      "Overwriting /home/mel_yang/projects/allTYstuff/TY_Treemix/maketreemixfileTYRelJ.py\n"
     ]
    }
   ],
   "source": [
    "%%writefile /home/mel_yang/projects/allTYstuff/TY_Treemix/maketreemixfileTYRelJ.py\n",
    "##REAL BTEAM!!\n",
    "from projmodules import treemix_mkinput\n",
    "\n",
    "pd='/home/mel_yang/projects/allTYstuff/TY_Treemix/'\n",
    "fh='UPA_all2.rn1.071316.transv.NJset.eigen'\n",
    "subset='TYRelJ'\n",
    "setstotry=[['Denisovan','Ju_hoan_North','Yoruba','Mandenka','Dinka','Mbuti','Sardinian','French','Papuan','Karitiana','Han','Dai','Tianyuan','UstIshim','Kostenki14','GoyetQ116-1','Vestonice16','Australian','Mixe'], ##allBteamANC\n",
    "           ['Denisovan','Ju_hoan_North','Yoruba','Mandenka','Dinka','Mbuti','Sardinian','French','Papuan','Karitiana','Han','Dai','Tianyuan','UstIshim','Kostenki14','GoyetQ116-1','Vestonice16'], ##NO AUS/MIXE\n",
    "           ['Denisovan','Ju_hoan_North','Yoruba','Mandenka','Dinka','Mbuti','Sardinian','French','Papuan','Karitiana','Han','Dai','Tianyuan'], ##fu2013   ##NO ANCEINT BUT TY, NO AUSTRAL/MIXE\n",
    "           ['Denisovan','Ju_hoan_North','Yoruba','Mandenka','Dinka','Mbuti','Sardinian','French','Papuan','Karitiana','Han','Dai','Tianyuan','Australian','Mixe'], ##allBteam  ##NO ANCEINT BUT TY\n",
    "           ['Ju_hoan_North','Yoruba','Mandenka','Dinka','Mbuti','Sardinian','French','Karitiana','Han','Dai','Tianyuan'], ##fu2013noDeniPap   ##DENI/NO AUSTRALPAPUAN/MIXE\n",
    "           ['Ju_hoan_North','Yoruba','Mandenka','Dinka','Mbuti','Sardinian','French','Karitiana','Han','Dai','Tianyuan','Mixe'], ##NO ANCEINT BUT TY/NO DENIPAPUANAUSTRAL,\n",
    "           ['Ju_hoan_North','Yoruba','Mandenka','Dinka','Mbuti','Sardinian','French','Karitiana','Han','Dai','Tianyuan','UstIshim','Kostenki14','GoyetQ116-1','Vestonice16','Australian','Mixe'], ##allBteamANCnoDeniPap\n",
    "           ['Denisovan','Ju_hoan_North','Yoruba','Mandenka','Dinka','Mbuti','Sardinian','French','Papuan','Karitiana','Han','Dai','Tianyuan','UstIshim','Kostenki14','GoyetQ116-1','Vestonice16'], ##fu2013ANC\n",
    "           ] \n",
    "for ind,i in enumerate(setstotry):\n",
    "    print ind,i\n",
    "    if ind in [2,7]: continue\n",
    "    treemix_mkinput(pd,fh,subset+str(ind),setstotry[ind])     "
   ]
  },
  {
   "cell_type": "code",
   "execution_count": 85,
   "metadata": {},
   "outputs": [
    {
     "name": "stdout",
     "output_type": "stream",
     "text": [
      "Overwriting /home/mel_yang/projects/allTYstuff/TY_Treemix/maketreemixgraphTYRelJ.sh\n"
     ]
    }
   ],
   "source": [
    "%%writefile /home/mel_yang/projects/allTYstuff/TY_Treemix/maketreemixgraphTYRelJ.sh\n",
    "pd=\"/home/mel_yang/projects/allTYstuff/TY_Treemix/\"\n",
    "tv=\"transv.\"\n",
    "tv=\"\"\n",
    "fh=\"UPA_all2.rn1.071316.\"${tv}\"NJset.eigen\"\n",
    "k=\"500\"\n",
    "myk=\"_k\"${k}\n",
    "for j in 2 7; do #`seq 0 5`; do\n",
    "    subset=\"TYRelJ${j}\"\n",
    "    gzip ${pd}${fh}.${subset}.treemix.txt\n",
    "    for i in `seq 0 5`; do \n",
    "        treemix -i ${pd}${fh}.${subset}.treemix.txt.gz -root Denisovan -o ${pd}${tv}${subset}_m${i}${myk} -k ${k} -m ${i} > \\\n",
    "            ${pd}${tv}${subset}_m${i}${myk}.log\n",
    "    done\n",
    "done\n",
    "\n",
    "##R CMD BATCH Rcode.R\n"
   ]
  },
  {
   "cell_type": "code",
   "execution_count": 3,
   "metadata": {},
   "outputs": [
    {
     "name": "stdout",
     "output_type": "stream",
     "text": [
      "Overwriting /home/mel_yang/projects/allTYstuff/TY_Treemix/Rcodeimage.R\n"
     ]
    }
   ],
   "source": [
    "%%writefile /home/mel_yang/projects/allTYstuff/TY_Treemix/Rcodeimage.R\n",
    "\n",
    "source(\"plotting_funcs_MY.R\")\n",
    "transv=\"transv.\"\n",
    "transv=\"\"\n",
    "fh=\"TYRelJ\"\n",
    "k=500\n",
    "#for (id in c(0,1,2,3,4,5,6)) {\n",
    "for (myid in c(2,7)) {\n",
    "for (m in c(0,1,2,3,4,5)) {\n",
    "#pdf(paste(transv,fh,id,'.m',m,'.pdf',sep=''))\n",
    "png(paste('imagefiles/',transv,fh,myid,'.m',m,'.k',k,'.png',sep=''),width=580,height=580)\n",
    "par(mfrow=c(2,1))\n",
    "plot_tree(paste(transv,fh,myid,\"_m\",m,\"_k\",k,sep=\"\"),cex=1,plus=0.05,ybar=0.15,xmin=-0.015)\n",
    "plot_resid(paste(transv,fh,myid,\"_m\",m,\"_k\",k,sep=\"\"),paste(fh,myid,\".popns.txt\",sep=\"\"),cex=1)\n",
    "#plot_resid(paste(transv,fh,myid,\"_m\",m,sep=\"\"),paste(fh,id,\".popns.txt\",sep=\"\"),cex=1,usemax=F,min=-0.001,max=0.001)\n",
    "dev.off()\n",
    "}\n",
    "}"
   ]
  },
  {
   "cell_type": "code",
   "execution_count": null,
   "metadata": {},
   "outputs": [],
   "source": []
  },
  {
   "cell_type": "code",
   "execution_count": 1,
   "metadata": {},
   "outputs": [
    {
     "name": "stdout",
     "output_type": "stream",
     "text": [
      "Overwriting /home/mel_yang/projects/allTYstuff/TY_Treemix/Rcodeimage.R\n"
     ]
    }
   ],
   "source": [
    "%%writefile /home/mel_yang/projects/allTYstuff/TY_Treemix/Rcodeimage.R\n",
    "\n",
    "source(\"plotting_funcs_MY.R\")\n",
    "transv=\"transv.\"\n",
    "transv=\"\"\n",
    "fh=\"TYRelJ\"\n",
    "#for (id in c(2,7)) {\n",
    "\n",
    "for (m in c(0,1,2,3,4,5)) {\n",
    "png(paste('imagefiles/',transv,fh,id,'.m',m,'.png',sep=''),width=580,height=580)\n",
    "par(mfrow=c(2,1))\n",
    "plot_tree(paste(transv,fh,id,\"_m\",m,sep=\"\"),cex=1,plus=0.05,ybar=0.15,xmin=-0.015)\n",
    "plot_resid(paste(transv,fh,id,\"_m\",m,sep=\"\"),paste(fh,id,\".popns.txt\",sep=\"\"),cex=1)\n",
    "#plot_resid(paste(transv,fh,id,\"_m\",m,sep=\"\"),paste(fh,id,\".popns.txt\",sep=\"\"),cex=1,usemax=F,min=-0.001,max=0.001)\n",
    "dev.off()\n",
    "}\n",
    "}"
   ]
  },
  {
   "cell_type": "code",
   "execution_count": 83,
   "metadata": {},
   "outputs": [
    {
     "name": "stdout",
     "output_type": "stream",
     "text": [
      "Overwriting /home/mel_yang/projects/allTYstuff/TY_Treemix/bootstrap.TYRelJ7_m1.sh\n"
     ]
    }
   ],
   "source": [
    "%%writefile /home/mel_yang/projects/allTYstuff/TY_Treemix/bootstrap.TYRelJ7_m1.sh\n",
    "##BOOTSTRAP\n",
    "pd=\"/home/mel_yang/projects/allTYstuff/TY_Treemix/\"\n",
    "tv=\"transv.\"\n",
    "#tv=\"\"\n",
    "fh=\"UPA_all2.rn1.071316.\"${tv}\"NJset.eigen\"\n",
    "subset=\"TYRelJ7\"\n",
    "mig=1\n",
    "reps=1000\n",
    "newdir=${tv}${subset}_m${mig}_reps/\n",
    "\n",
    "mkdir ${pd}${newdir}\n",
    "myk=1000\n",
    "for rep in `seq 1 ${reps}`; do\n",
    "    #echo ${rep}\n",
    "    treemix -i ${pd}${fh}.${subset}.treemix.txt.gz -root Denisovan -bootstrap -k ${myk} -q -o ${pd}${newdir}${tv}${subset}_m${mig}_k${myk}_rep${rep} -m ${mig} > \\\n",
    "            ${pd}${newdir}${tv}${subset}_m${mig}_k${myk}_rep${rep}.log\n",
    "done"
   ]
  },
  {
   "cell_type": "code",
   "execution_count": 64,
   "metadata": {},
   "outputs": [],
   "source": [
    "%%bash\n",
    "##BOOTSTRAP\n",
    "pd=\"/home/mel_yang/projects/allTYstuff/TY_Treemix/\"\n",
    "tv=\"transv.\"\n",
    "tv=\"\"\n",
    "#fh=\"UPA_all.041816.${tv}eigen\"\n",
    "subset=\"TYRelJ7\"\n",
    "myk=\"1000\"\n",
    "for mig in 0 2; do\n",
    "    reps=1000\n",
    "    newdir=${tv}${subset}_m${mig}_reps/\n",
    "    \n",
    "    ##zcat ${pd}${tv}${subset}_m${mig}.treeout.gz | head -n1 > ${pd}${newdir}${tv}${subset}_m${mig}.trees\n",
    "    echo \"\" > ${pd}${newdir}${tv}${subset}_m${mig}_k${myk}.trees\n",
    "    for rep in `seq 1 ${reps}`; do\n",
    "        zcat ${pd}${newdir}${tv}${subset}_m${mig}_k${myk}_rep${rep}.treeout.gz | head -n1 >> \\\n",
    "                ${pd}${newdir}${tv}${subset}_m${mig}_k${myk}.trees\n",
    "    done\n",
    "done"
   ]
  },
  {
   "cell_type": "code",
   "execution_count": 79,
   "metadata": {},
   "outputs": [
    {
     "name": "stdout",
     "output_type": "stream",
     "text": [
      "/home/mel_yang/projects/allTYstuff/TY_Treemix/TYRelJ7_m2_reps/outfile_TYRelJ7_m2_k1000\n"
     ]
    }
   ],
   "source": [
    "%%bash\n",
    "pd=\"/home/mel_yang/projects/allTYstuff/TY_Treemix/\"\n",
    "myid=\"TYRelJ7_m2\"\n",
    "addk=\"_k1000\"\n",
    "tv=\"transv.\"\n",
    "tv=\"\"\n",
    "newdir=${tv}${myid}_reps/\n",
    "myfile=${pd}${newdir}${tv}${myid}${addk}\".trees\"\n",
    "if test -e outfile; then rm outfile; fi\n",
    "if test -e outtree; then rm outfile; fi\n",
    "cp ${myfile} intree\n",
    "outfile=${pd}${newdir}${tv}\"BSTree_\"${myid}${addk}\n",
    "echo \"R\" > ${pd}${newdir}${tv}\"PhylipInputfile\"\n",
    "echo \"Y\" >> ${pd}${newdir}${tv}\"PhylipInputfile\"\n",
    "\n",
    "phylip consense < ${pd}${newdir}${tv}\"PhylipInputfile\" > ${outfile}\n",
    "\n",
    "mv outfile ${pd}${newdir}${tv}outfile_${myid}${addk}\n",
    "mv outtree ${pd}${newdir}${tv}outtree_${myid}${addk}\n",
    "echo ${pd}${newdir}${tv}outfile_${myid}${addk}"
   ]
  },
  {
   "cell_type": "code",
   "execution_count": null,
   "metadata": {},
   "outputs": [],
   "source": []
  },
  {
   "cell_type": "code",
   "execution_count": 125,
   "metadata": {},
   "outputs": [
    {
     "name": "stdout",
     "output_type": "stream",
     "text": [
      "Overwriting /home/mel_yang/projects/allTYstuff/TY_Treemix/bootstrap.TYRelJ7_m2.sh\n"
     ]
    }
   ],
   "source": [
    "%%writefile /home/mel_yang/projects/allTYstuff/TY_Treemix/bootstrap.TYRelJ7_m2.sh\n",
    "##BOOTSTRAP\n",
    "pd=\"/home/mel_yang/projects/allTYstuff/TY_Treemix/\"\n",
    "tv=\"transv.\"\n",
    "##tv=\"\"\n",
    "fh=\"UPA_all.041816.${tv}eigen\"\n",
    "#fh=\"UPA_all2.rn1.071316.${tv}eigen\"\n",
    "fh=\"UPA_all2.rn1.071316.\"${tv}\"NJset.eigen\"\n",
    "subset=\"TYRelJ7\"\n",
    "mig=2\n",
    "reps=1000\n",
    "newdir=${tv}${subset}_m${mig}_reps/\n",
    "\n",
    "mkdir ${pd}${newdir}\n",
    "\n",
    "for rep in `seq 1 ${reps}`; do\n",
    "    #echo ${rep}\n",
    "    treemix -i ${pd}${fh}.${subset}.treemix.txt.gz -bootstrap -k 500 -q -o ${pd}${newdir}${tv}${subset}_m${mig}_rep${rep} -m ${mig} -root Denisovan > \\\n",
    "            ${pd}${newdir}${tv}${subset}_m${mig}_rep${rep}.log\n",
    "done"
   ]
  },
  {
   "cell_type": "code",
   "execution_count": 170,
   "metadata": {},
   "outputs": [],
   "source": [
    "%%bash\n",
    "##BOOTSTRAP\n",
    "pd=\"/home/mel_yang/projects/allTYstuff/TY_Treemix/\"\n",
    "tv=\"transv.\"\n",
    "#tv=\"\"\n",
    "fh=\"UPA_all2.rn1.071316.\"${tv}\"NJset.eigen\"\n",
    "subset=\"TYRelJ2\"\n",
    "for mig in 0 1 2; do\n",
    "    reps=1000\n",
    "    newdir=${tv}${subset}_m${mig}_reps/\n",
    "    \n",
    "    ##zcat ${pd}${tv}${subset}_m${mig}.treeout.gz | head -n1 > ${pd}${newdir}${tv}${subset}_m${mig}.trees\n",
    "    echo \"\" > ${pd}${newdir}${tv}${subset}_m${mig}.trees\n",
    "    for rep in `seq 1 ${reps}`; do\n",
    "        zcat ${pd}${newdir}${tv}${subset}_m${mig}_rep${rep}.treeout.gz | head -n1 >> \\\n",
    "                ${pd}${newdir}${tv}${subset}_m${mig}.trees\n",
    "    done\n",
    "done"
   ]
  },
  {
   "cell_type": "code",
   "execution_count": 185,
   "metadata": {},
   "outputs": [
    {
     "name": "stdout",
     "output_type": "stream",
     "text": [
      "/home/mel_yang/projects/allTYstuff/TY_Treemix/TYRelJ7_m0_reps/outfile_TYRelJ7_m0\n"
     ]
    }
   ],
   "source": [
    "%%bash\n",
    "pd=\"/home/mel_yang/projects/allTYstuff/TY_Treemix/\"\n",
    "myid=\"TYRelJ7_m0\"\n",
    "tv=\"transv.\"\n",
    "tv=\"\"\n",
    "newdir=${tv}${myid}_reps/\n",
    "myfile=${pd}${newdir}${tv}${myid}\".trees\"\n",
    "if test -e outfile; then rm outfile; fi\n",
    "if test -e outtree; then rm outfile; fi\n",
    "cp ${myfile} intree\n",
    "outfile=${pd}${newdir}${tv}\"BSTree_\"${myid}\n",
    "echo \"R\" > ${pd}${newdir}${tv}\"PhylipInputfile\"\n",
    "echo \"Y\" >> ${pd}${newdir}${tv}\"PhylipInputfile\"\n",
    "\n",
    "phylip consense < ${pd}${newdir}${tv}\"PhylipInputfile\" > ${outfile}\n",
    "\n",
    "mv outfile ${pd}${newdir}${tv}outfile_${myid}\n",
    "mv outtree ${pd}${newdir}${tv}outtree_${myid}\n",
    "echo ${pd}${newdir}${tv}outfile_${myid}"
   ]
  },
  {
   "cell_type": "code",
   "execution_count": null,
   "metadata": {},
   "outputs": [],
   "source": []
  },
  {
   "cell_type": "code",
   "execution_count": null,
   "metadata": {},
   "outputs": [],
   "source": []
  },
  {
   "cell_type": "code",
   "execution_count": 3,
   "metadata": {},
   "outputs": [
    {
     "name": "stdout",
     "output_type": "stream",
     "text": [
      "Overwriting /home/mel_yang/projects/allTYstuff/TY_Treemix/maketreemixfileTYRelI.py\n"
     ]
    }
   ],
   "source": [
    "%%writefile /home/mel_yang/projects/allTYstuff/TY_Treemix/maketreemixfileTYRelI.py\n",
    "##BTEAM!!\n",
    "from projmodules import treemix_mkinput\n",
    "\n",
    "pd='/home/mel_yang/projects/allTYstuff/TY_Treemix/'\n",
    "fh='UPA_all2.rn1.071316.eigen'\n",
    "subset='TYRelI'\n",
    "setstotry=[['Khomani_San','Yoruba','Mandenka','Dinka','Mbuti','Tianyuan','Sardinian','French','Denisovan','Papuan','Karitiana','Surui','Mixe','UstIshim','Kostenki14','GoyetQ116-1','Vestonice16','Han','Ami','Dai'],\n",
    "           ['Khomani_San','Yoruba','Mandenka','Dinka','Mbuti','Tianyuan','Sardinian','French','Denisovan','Papuan','Karitiana','Surui','Mixe','UstIshim','Kostenki14','Vestonice16','Han','Ami','Dai'], ##NO Q116\n",
    "           ['Khomani_San','Yoruba','Mandenka','Dinka','Mbuti','Tianyuan','Sardinian','French','Denisovan','Papuan','Karitiana','Surui','Mixe','Han','Ami','Dai'], ##NO ANCEINT BUT TY\n",
    "           ['Khomani_San','Yoruba','Mandenka','Dinka','Mbuti','Tianyuan','Sardinian','French','Papuan','Karitiana','Surui','Mixe','Han','Ami','Dai'], ##NO DENISOVAN AND ANCIENT\n",
    "           ['Khomani_San','Yoruba','Mandenka','Dinka','Mbuti','Tianyuan','Sardinian','French','Papuan','Karitiana','Surui','Mixe','UstIshim','Kostenki14','GoyetQ116-1','Vestonice16','Han','Ami','Dai'],] ##NO DENI\n",
    "for ind,i in enumerate(setstotry):\n",
    "    print ind,i\n",
    "    treemix_mkinput(pd,fh,subset+str(ind),setstotry[ind])     "
   ]
  },
  {
   "cell_type": "code",
   "execution_count": 2,
   "metadata": {},
   "outputs": [
    {
     "name": "stdout",
     "output_type": "stream",
     "text": [
      "Writing /home/mel_yang/projects/allTYstuff/TY_Treemix/maketreemixgraphTYRelI.sh\n"
     ]
    }
   ],
   "source": [
    "%%writefile /home/mel_yang/projects/allTYstuff/TY_Treemix/maketreemixgraphTYRelI.sh\n",
    "pd=\"/home/mel_yang/projects/allTYstuff/TY_Treemix/\"\n",
    "tv=\"transv.\"\n",
    "tv=\"\"\n",
    "fh=\"UPA_all2.rn1.071316.${tv}eigen\"\n",
    "for j in `seq 0 4`; do\n",
    "    subset=\"TYRelI${j}\"\n",
    "    gzip ${pd}${fh}.${subset}.treemix.txt\n",
    "    for i in `seq 0 5`; do \n",
    "        treemix -i ${pd}${fh}.${subset}.treemix.txt.gz -root Mbuti -o ${pd}${tv}${subset}_m${i} -m ${i} > \\\n",
    "            ${pd}${tv}${subset}_m${i}.log\n",
    "    done\n",
    "done\n",
    "\n",
    "##R CMD BATCH Rcode.R\n"
   ]
  },
  {
   "cell_type": "code",
   "execution_count": null,
   "metadata": {},
   "outputs": [],
   "source": []
  },
  {
   "cell_type": "code",
   "execution_count": null,
   "metadata": {},
   "outputs": [],
   "source": []
  },
  {
   "cell_type": "code",
   "execution_count": 77,
   "metadata": {},
   "outputs": [
    {
     "name": "stdout",
     "output_type": "stream",
     "text": [
      "Overwriting /home/mel_yang/projects/allTYstuff/TY_Treemix/maketreemixfileTYRelH.py\n"
     ]
    }
   ],
   "source": [
    "%%writefile /home/mel_yang/projects/allTYstuff/TY_Treemix/maketreemixfileTYRelH.py\n",
    "from projmodules import treemix_mkinput\n",
    "\n",
    "pd='/home/mel_yang/projects/allTYstuff/TY_Treemix/'\n",
    "fh='UPA_all.041816.eigen'\n",
    "subset='TYRelH'\n",
    "setstotry=[['Mbuti','TY','Kostenki14','GoyetQ116-1','Vestonice16','Han','Ami','Atayal','Dai'],\n",
    "           ['Mbuti','TY','UstIshim','Kostenki14','GoyetQ116-1','Vestonice16','Han','Ami','Atayal','Dai'],\n",
    "           ['Mbuti','TY','Kostenki14','GoyetQ116-1','Vestonice16','ElMiron','Villabruna','Loschbour','Han','Ami','Dai','Atayal'],\n",
    "           ['Mbuti','TY','UstIshim','Kostenki14','GoyetQ116-1','Vestonice16','ElMiron','Villabruna','Loschbour','Han','Ami','Dai','Atayal']]\n",
    "for ind,i in enumerate(setstotry):\n",
    "    print ind,i\n",
    "    treemix_mkinput(pd,fh,subset+str(ind),setstotry[ind])     "
   ]
  },
  {
   "cell_type": "code",
   "execution_count": 79,
   "metadata": {},
   "outputs": [
    {
     "name": "stdout",
     "output_type": "stream",
     "text": [
      "Overwriting /home/mel_yang/projects/allTYstuff/TY_Treemix/maketreemixgraphTYRelH.sh\n"
     ]
    }
   ],
   "source": [
    "%%writefile /home/mel_yang/projects/allTYstuff/TY_Treemix/maketreemixgraphTYRelH.sh\n",
    "pd=\"/home/mel_yang/projects/allTYstuff/TY_Treemix/\"\n",
    "tv=\"transv.\"\n",
    "tv=\"\"\n",
    "fh=\"UPA_all.041816.${tv}eigen\"\n",
    "#fh=\"UPA_all2.rn1.071316.${tv}eigen\"\n",
    "for j in `seq 0 3`; do\n",
    "    subset=\"TYRelH${j}\"\n",
    "    gzip ${pd}${fh}.${subset}.treemix.txt\n",
    "    for i in `seq 0 10`; do \n",
    "        treemix -i ${pd}${fh}.${subset}.treemix.txt.gz -root Mbuti -o ${pd}${tv}${subset}_m${i} -m ${i} > \\\n",
    "            ${pd}${tv}${subset}_m${i}.log\n",
    "    done\n",
    "done\n",
    "\n",
    "##R CMD BATCH Rcode.R\n"
   ]
  },
  {
   "cell_type": "code",
   "execution_count": 230,
   "metadata": {},
   "outputs": [
    {
     "name": "stdout",
     "output_type": "stream",
     "text": [
      "Overwriting /home/mel_yang/projects/allTYstuff/TY_Treemix/maketreemixgraphTYRelH_addk1000.sh\n"
     ]
    }
   ],
   "source": [
    "%%writefile /home/mel_yang/projects/allTYstuff/TY_Treemix/maketreemixgraphTYRelH_addk1000.sh\n",
    "pd=\"/home/mel_yang/projects/allTYstuff/TY_Treemix/\"\n",
    "tv=\"transv.\"\n",
    "tv=\"\"\n",
    "fh=\"UPA_all.041816.${tv}eigen\"\n",
    "#fh=\"UPA_all2.rn1.071316.${tv}eigen\"\n",
    "for j in `seq 0 3`; do\n",
    "    subset=\"TYRelH${j}\"\n",
    "    gzip ${pd}${fh}.${subset}.treemix.txt\n",
    "    for i in `seq 0 10`; do \n",
    "        treemix -i ${pd}${fh}.${subset}.treemix.txt.gz -root Mbuti -o ${pd}${tv}${subset}_k1000_m${i} -k 1000 -m ${i} > \\\n",
    "            ${pd}${tv}${subset}_k1000_m${i}.log\n",
    "    done\n",
    "done\n",
    "\n",
    "##R CMD BATCH Rcode.R\n"
   ]
  },
  {
   "cell_type": "code",
   "execution_count": 101,
   "metadata": {},
   "outputs": [
    {
     "name": "stdout",
     "output_type": "stream",
     "text": [
      "Overwriting /home/mel_yang/projects/allTYstuff/TY_Treemix/Rcode.R\n"
     ]
    }
   ],
   "source": [
    "%%writefile /home/mel_yang/projects/allTYstuff/TY_Treemix/Rcode.R\n",
    "\n",
    "source(\"plotting_funcs_MY.R\")\n",
    "transv=\"transv.\"\n",
    "#transv=\"\"\n",
    "fh=\"TYRelH\"\n",
    "myk=1000\n",
    "for (id in c(1)) {\n",
    "for (m in c(0,1,2,3,4,5,6,7,8,9,10)) {\n",
    "#pdf(paste(transv,fh,id,'.m',m,'.pdf',sep=''))\n",
    "png(paste('imagefiles/',transv,fh,id,\"_k\",myk,'.m',m,'.png',sep=''),width=580,height=580)\n",
    "par(mfrow=c(2,1))\n",
    "plot_tree(paste(transv,fh,id,\"_k\",myk,\"_m\",m,sep=\"\"),cex=1,plus=0.05,ybar=0.15,xmin=-0.015)\n",
    "plot_resid(paste(transv,fh,id,\"_k\",myk,\"_m\",m,sep=\"\"),paste(fh,id,\".popns.txt\",sep=\"\"),cex=1)\n",
    "#plot_resid(paste(transv,fh,id,\"_m\",m,sep=\"\"),paste(fh,id,\".popns.txt\",sep=\"\"),cex=1,usemax=F,min=-0.001,max=0.001)\n",
    "dev.off()\n",
    "}\n",
    "}"
   ]
  },
  {
   "cell_type": "code",
   "execution_count": 113,
   "metadata": {},
   "outputs": [
    {
     "name": "stdout",
     "output_type": "stream",
     "text": [
      "Overwriting /home/mel_yang/projects/allTYstuff/TY_Treemix/bootstrap.TYRelH1_k500_m0.sh\n"
     ]
    }
   ],
   "source": [
    "%%writefile /home/mel_yang/projects/allTYstuff/TY_Treemix/bootstrap.TYRelH1_k500_m0.sh\n",
    "##BOOTSTRAP\n",
    "pd=\"/home/mel_yang/projects/allTYstuff/TY_Treemix/\"\n",
    "tv=\"transv.\"\n",
    "#tv=\"\"\n",
    "fh=\"UPA_all.041816.\"${tv}\"eigen\"\n",
    "#fh=\"UPA_all2.rn1.071316.${tv}eigen\"\n",
    "subset=\"TYRelH1\"\n",
    "myk=\"_k500\"\n",
    "mig=0\n",
    "reps=1000\n",
    "newdir=${tv}${subset}${myk}_m${mig}_reps/\n",
    "\n",
    "mkdir ${pd}${newdir}\n",
    "\n",
    "for rep in `seq 1 ${reps}`; do\n",
    "    #echo ${rep}\n",
    "    treemix -i ${pd}${fh}.${subset}.treemix.txt.gz -root Mbuti -bootstrap -k 500 -q -o ${pd}${newdir}${tv}${subset}${myk}_m${mig}_rep${rep} -m ${mig} > \\\n",
    "            ${pd}${newdir}${tv}${subset}${myk}_m${mig}_rep${rep}.log\n",
    "done"
   ]
  },
  {
   "cell_type": "code",
   "execution_count": 34,
   "metadata": {},
   "outputs": [
    {
     "name": "stdout",
     "output_type": "stream",
     "text": [
      "Overwriting /home/mel_yang/projects/allTYstuff/TY_Treemix/bootstrap.TYRelH3_m2.sh\n"
     ]
    }
   ],
   "source": [
    "%%writefile /home/mel_yang/projects/allTYstuff/TY_Treemix/bootstrap.TYRelH3_m2.sh\n",
    "##BOOTSTRAP\n",
    "pd=\"/home/mel_yang/projects/allTYstuff/TY_Treemix/\"\n",
    "tv=\"transv.\"\n",
    "tv=\"\"\n",
    "fh=\"UPA_all.041816.\"${tv}\"eigen\"\n",
    "#fh=\"UPA_all2.rn1.071316.${tv}eigen\"\n",
    "subset=\"TYRelH3\"\n",
    "mig=2\n",
    "reps=1000\n",
    "newdir=${tv}${subset}_m${mig}_reps/\n",
    "\n",
    "mkdir ${pd}${newdir}\n",
    "myk=1000\n",
    "for rep in `seq 475 ${reps}`; do\n",
    "    #echo ${rep}\n",
    "    treemix -i ${pd}${fh}.${subset}.treemix.txt.gz -root Mbuti -bootstrap -k ${myk} -q -o ${pd}${newdir}${tv}${subset}_m${mig}_k${myk}_rep${rep} -m ${mig} > \\\n",
    "            ${pd}${newdir}${tv}${subset}_m${mig}_k${myk}_rep${rep}.log\n",
    "done"
   ]
  },
  {
   "cell_type": "code",
   "execution_count": 181,
   "metadata": {},
   "outputs": [],
   "source": [
    "%%bash\n",
    "##BOOTSTRAP\n",
    "pd=\"/home/mel_yang/projects/allTYstuff/TY_Treemix/\"\n",
    "tv=\"transv.\"\n",
    "tv=\"\"\n",
    "#fh=\"UPA_all.041816.${tv}eigen\"\n",
    "subset=\"TYRelH1_k500\"\n",
    "for mig in 0 1 2 3; do\n",
    "    reps=1000\n",
    "    newdir=${tv}${subset}_m${mig}_reps/\n",
    "    \n",
    "    ##zcat ${pd}${tv}${subset}_m${mig}.treeout.gz | head -n1 > ${pd}${newdir}${tv}${subset}_m${mig}.trees\n",
    "    echo \"\" > ${pd}${newdir}${tv}${subset}_m${mig}.trees\n",
    "    for rep in `seq 1 ${reps}`; do\n",
    "        zcat ${pd}${newdir}${tv}${subset}_m${mig}_rep${rep}.treeout.gz | head -n1 >> \\\n",
    "                ${pd}${newdir}${tv}${subset}_m${mig}.trees\n",
    "    done\n",
    "done"
   ]
  },
  {
   "cell_type": "code",
   "execution_count": 185,
   "metadata": {},
   "outputs": [
    {
     "name": "stdout",
     "output_type": "stream",
     "text": [
      "/home/mel_yang/projects/allTYstuff/TY_Treemix/TYRelH1_k500_m0_reps/outfile_TYRelH1_k500_m0\n"
     ]
    }
   ],
   "source": [
    "%%bash\n",
    "pd=\"/home/mel_yang/projects/allTYstuff/TY_Treemix/\"\n",
    "myid=\"TYRelH1_k500_m0\"\n",
    "addk=\"\"\n",
    "tv=\"transv.\"\n",
    "tv=\"\"\n",
    "newdir=${tv}${myid}_reps/\n",
    "myfile=${pd}${newdir}${tv}${myid}${addk}\".trees\"\n",
    "if test -e outfile; then rm outfile; fi\n",
    "if test -e outtree; then rm outfile; fi\n",
    "cp ${myfile} intree\n",
    "outfile=${pd}${newdir}${tv}\"BSTree_\"${myid}${addk}\n",
    "echo \"R\" > ${pd}${newdir}${tv}\"PhylipInputfile\"\n",
    "echo \"Y\" >> ${pd}${newdir}${tv}\"PhylipInputfile\"\n",
    "\n",
    "phylip consense < ${pd}${newdir}${tv}\"PhylipInputfile\" > ${outfile}\n",
    "\n",
    "mv outfile ${pd}${newdir}${tv}outfile_${myid}${addk}\n",
    "mv outtree ${pd}${newdir}${tv}outtree_${myid}${addk}\n",
    "echo ${pd}${newdir}${tv}outfile_${myid}${addk}"
   ]
  },
  {
   "cell_type": "code",
   "execution_count": 195,
   "metadata": {},
   "outputs": [],
   "source": [
    "%%bash\n",
    "##BOOTSTRAP\n",
    "pd=\"/home/mel_yang/projects/allTYstuff/TY_Treemix/\"\n",
    "tv=\"transv.\"\n",
    "tv=\"\"\n",
    "#fh=\"UPA_all.041816.${tv}eigen\"\n",
    "subset=\"TYRelH1\"\n",
    "mig=2\n",
    "for mig in 0 2; do\n",
    "    reps=1000\n",
    "    newdir=${tv}${subset}_m${mig}_reps/\n",
    "    \n",
    "    ##zcat ${pd}${tv}${subset}_m${mig}.treeout.gz | head -n1 > ${pd}${newdir}${tv}${subset}_m${mig}.trees\n",
    "    echo \"\" > ${pd}${newdir}${tv}${subset}_m${mig}.trees\n",
    "    for rep in `seq 1 ${reps}`; do\n",
    "        zcat ${pd}${newdir}${tv}${subset}_m${mig}_rep${rep}.treeout.gz | head -n1 >> \\\n",
    "                ${pd}${newdir}${tv}${subset}_m${mig}.trees\n",
    "    done\n",
    "done"
   ]
  },
  {
   "cell_type": "code",
   "execution_count": 202,
   "metadata": {},
   "outputs": [
    {
     "name": "stdout",
     "output_type": "stream",
     "text": [
      "/home/mel_yang/projects/allTYstuff/TY_Treemix/transv.TYRelH0_m0_reps/transv.outfile_TYRelH0_m0\n"
     ]
    }
   ],
   "source": [
    "%%bash\n",
    "pd=\"/home/mel_yang/projects/allTYstuff/TY_Treemix/\"\n",
    "myid=\"TYRelH0_m0\"\n",
    "tv=\"transv.\"\n",
    "#tv=\"\"\n",
    "newdir=${tv}${myid}_reps/\n",
    "myfile=${pd}${newdir}${tv}${myid}\".trees\"\n",
    "if test -e outfile; then rm outfile; fi\n",
    "if test -e outtree; then rm outfile; fi\n",
    "cp ${myfile} intree\n",
    "outfile=${pd}${newdir}${tv}\"BSTree_\"${myid}\n",
    "echo \"R\" > ${pd}${newdir}${tv}\"PhylipInputfile\"\n",
    "echo \"Y\" >> ${pd}${newdir}${tv}\"PhylipInputfile\"\n",
    "\n",
    "phylip consense < ${pd}${newdir}${tv}\"PhylipInputfile\" > ${outfile}\n",
    "\n",
    "mv outfile ${pd}${newdir}${tv}outfile_${myid}\n",
    "mv outtree ${pd}${newdir}${tv}outtree_${myid}\n",
    "echo ${pd}${newdir}${tv}outfile_${myid}"
   ]
  },
  {
   "cell_type": "code",
   "execution_count": null,
   "metadata": {},
   "outputs": [],
   "source": []
  },
  {
   "cell_type": "code",
   "execution_count": 117,
   "metadata": {},
   "outputs": [
    {
     "name": "stdout",
     "output_type": "stream",
     "text": [
      "0.0961253 NA NA NA TY:0.120634 GoyetQ116-1:0.143707\n",
      "0.0125391 NA NA NA TY:0.120761 (Vestonice16:0.117756,GoyetQ116-1:0.117757):0.000123769\n",
      "0.146528 NA NA NA TY:0.120489 GoyetQ116-1:0.160542\n",
      "0.126586 NA NA NA TY:0.12146 GoyetQ116-1:0.15535\n",
      "0.0173115 NA NA NA TY:0.121904 GoyetQ116-1:0.12325\n",
      "0.166655 NA NA NA TY:0.120661 GoyetQ116-1:0.172657\n",
      "0.188707 NA NA NA GoyetQ116-1:0.118612 TY:0.184885\n",
      "0.146169 NA NA NA TY:0.121135 GoyetQ116-1:0.161816\n",
      "0.0158281 NA NA NA TY:0.120448 GoyetQ116-1:0.121807\n",
      "0.36858 NA NA NA ((((((Vestonice16:0.117217,Kostenki14:0.119331):0.00156247,GoyetQ116-1:0.117822):0.00758175,(Mbuti:0.0557345,TY:0.313763):0.000509304):0.00158097,UstIshim:0.00673466):0.0175272,Han:0.000560109):0.000208431,Dai:0.000839798):0.00220552 TY:0.313763\n",
      "0.175584 NA NA NA TY:0.12179 GoyetQ116-1:0.178586\n",
      "0.0926112 NA NA NA TY:0.121079 GoyetQ116-1:0.143688\n",
      "0.157302 NA NA NA GoyetQ116-1:0.117713 TY:0.172555\n",
      "0.0218247 NA NA NA TY:0.121389 GoyetQ116-1:0.124414\n",
      "0.150743 NA NA NA TY:0.120339 GoyetQ116-1:0.163839\n",
      "0.0896162 NA NA NA TY:0.120944 GoyetQ116-1:0.141198\n",
      "0.164329 NA NA NA TY:0.120358 GoyetQ116-1:0.171229\n",
      "0.0998341 NA NA NA TY:0.121395 GoyetQ116-1:0.145643\n",
      "0.11988 NA NA NA TY:0.121756 GoyetQ116-1:0.151497\n",
      "0.102278 NA NA NA TY:0.121568 GoyetQ116-1:0.148577\n",
      "0.181391 NA NA NA TY:0.120721 GoyetQ116-1:0.179527\n",
      "0.183804 NA NA NA TY:0.121461 GoyetQ116-1:0.17766\n",
      "0.104832 NA NA NA TY:0.120685 GoyetQ116-1:0.147803\n",
      "0.076131 NA NA NA TY:0.120585 GoyetQ116-1:0.139582\n",
      "0.186763 NA NA NA GoyetQ116-1:0.116383 TY:0.183917\n",
      "0.177358 NA NA NA TY:0.12096 GoyetQ116-1:0.175418\n",
      "0.123862 NA NA NA TY:0.120425 GoyetQ116-1:0.152972\n",
      "0.0136105 NA NA NA TY:0.12232 GoyetQ116-1:0.120733\n",
      "0.179914 NA NA NA TY:0.120137 GoyetQ116-1:0.1761\n",
      "0.185594 NA NA NA TY:0.119891 GoyetQ116-1:0.179151\n",
      "0.206897 NA NA NA TY:0.119612 GoyetQ116-1:0.187314\n",
      "0.19146 NA NA NA TY:0.120597 GoyetQ116-1:0.180827\n",
      "0.0159187 NA NA NA TY:0.120086 GoyetQ116-1:0.121984\n",
      "0.110425 NA NA NA TY:0.121596 GoyetQ116-1:0.151209\n",
      "0.134512 NA NA NA GoyetQ116-1:0.116297 TY:0.162964\n",
      "0.147867 NA NA NA TY:0.121282 GoyetQ116-1:0.162352\n",
      "0.0695889 NA NA NA GoyetQ116-1:0.118889 TY:0.14065\n",
      "0.208507 NA NA NA TY:0.121255 GoyetQ116-1:0.19074\n",
      "0.206909 NA NA NA TY:0.121332 GoyetQ116-1:0.191207\n",
      "0.13181 NA NA NA GoyetQ116-1:0.117829 TY:0.160844\n",
      "0.224712 NA NA NA TY:0.120941 GoyetQ116-1:0.196871\n",
      "0.173446 NA NA NA TY:0.120211 GoyetQ116-1:0.175086\n",
      "0.203467 NA NA NA TY:0.120861 GoyetQ116-1:0.187654\n",
      "0.0687539 NA NA NA TY:0.120801 GoyetQ116-1:0.135958\n",
      "0.103256 NA NA NA TY:0.121064 GoyetQ116-1:0.146608\n",
      "0.124859 NA NA NA TY:0.11982 GoyetQ116-1:0.15366\n",
      "0.129515 NA NA NA TY:0.121895 GoyetQ116-1:0.1577\n",
      "0.165649 NA NA NA TY:0.120722 GoyetQ116-1:0.171193\n",
      "0.157389 NA NA NA TY:0.120297 GoyetQ116-1:0.165247\n",
      "0.0899091 NA NA NA TY:0.121104 GoyetQ116-1:0.143151\n",
      "0.115403 NA NA NA TY:0.121108 GoyetQ116-1:0.150707\n",
      "0.0751725 NA NA NA TY:0.119926 GoyetQ116-1:0.135091\n",
      "0.0157168 NA NA NA TY:0.121972 ((GoyetQ116-1:0.117296,(Vestonice16:0.116996,Kostenki14:0.117399):0.00197351):0.00820361,Mbuti:0.0568915):0.000960779\n",
      "0.108314 NA NA NA TY:0.120822 GoyetQ116-1:0.152736\n",
      "0.1264 NA NA NA GoyetQ116-1:0.118747 TY:0.160305\n",
      "0.237491 NA NA NA TY:0.120963 GoyetQ116-1:0.205161\n",
      "0.0723558 NA NA NA TY:0.121929 GoyetQ116-1:0.138641\n",
      "0.0604252 NA NA NA GoyetQ116-1:0.117324 TY:0.139058\n",
      "0.196142 NA NA NA TY:0.121465 GoyetQ116-1:0.185383\n",
      "0.0948171 NA NA NA TY:0.120164 GoyetQ116-1:0.143704\n",
      "0.185346 NA NA NA TY:0.121138 GoyetQ116-1:0.183187\n",
      "0.232387 NA NA NA TY:0.119193 GoyetQ116-1:0.20239\n",
      "0.17862 NA NA NA TY:0.120172 GoyetQ116-1:0.179848\n",
      "0.162101 NA NA NA TY:0.119684 GoyetQ116-1:0.169662\n",
      "0.0807123 NA NA NA TY:0.121022 GoyetQ116-1:0.139758\n",
      "0.151989 NA NA NA TY:0.119568 GoyetQ116-1:0.16421\n",
      "0.095195 NA NA NA TY:0.121518 GoyetQ116-1:0.144593\n",
      "0.109719 NA NA NA TY:0.12246 GoyetQ116-1:0.150765\n",
      "0.108644 NA NA NA TY:0.121203 GoyetQ116-1:0.149603\n",
      "0.233012 NA NA NA TY:0.121293 GoyetQ116-1:0.201636\n",
      "0.129392 NA NA NA TY:0.121259 GoyetQ116-1:0.155837\n",
      "0.0529368 NA NA NA TY:0.12154 GoyetQ116-1:0.132222\n",
      "0.0178986 NA NA NA TY:0.121812 GoyetQ116-1:0.123685\n",
      "0.11103 NA NA NA TY:0.120986 GoyetQ116-1:0.148293\n",
      "0.215464 NA NA NA TY:0.120901 GoyetQ116-1:0.195165\n",
      "0.135651 NA NA NA TY:0.119498 GoyetQ116-1:0.0791715\n",
      "0.0441301 NA NA NA GoyetQ116-1:0.119186 TY:0.13398\n",
      "0.0405036 NA NA NA GoyetQ116-1:0.115212 TY:0.130872\n",
      "0.216782 NA NA NA ((Mbuti:0.0536731,(GoyetQ116-1:0.116383,(Vestonice16:0.115456,Kostenki14:0.195937):0.00342873):0.0103833):0.000433497,(((Han:0.000860587,(Ami:0.00352586,Atayal:0.0101703):0.00315533):0.000319731,Dai:0.000782823):0.0111769,TY:0.120769):0.00706063):0.00241704 Kostenki14:0.195937\n",
      "0.140009 NA NA NA TY:0.121116 GoyetQ116-1:0.157996\n",
      "0.129341 NA NA NA TY:0.119832 GoyetQ116-1:0.0782317\n",
      "0.261601 NA NA NA ((Dai:0.000515003,((Ami:0.00348577,Atayal:0.011046):0.0034695,Han:0.000460628):0.000524995):0.0117431,TY:0.121355):0.00634757 GoyetQ116-1:0.219834\n",
      "0.112708 NA NA NA TY:0.121131 GoyetQ116-1:0.149701\n",
      "0.0592448 NA NA NA TY:0.120835 GoyetQ116-1:0.13339\n",
      "0.152262 NA NA NA GoyetQ116-1:0.117811 TY:0.170491\n",
      "0.12037 NA NA NA GoyetQ116-1:0.116603 TY:0.156449\n",
      "0.221022 NA NA NA TY:0.120526 GoyetQ116-1:0.196265\n",
      "0.252001 NA NA NA ((Dai:0.000915294,((Ami:0.00418091,Atayal:0.00965407):0.00317861,Han:0.0004023):0.000482624):0.0111009,TY:0.120118):0.00719555 GoyetQ116-1:0.214613\n",
      "0.110388 NA NA NA TY:0.119804 GoyetQ116-1:0.0744778\n",
      "0.064614 NA NA NA TY:0.120139 GoyetQ116-1:0.135981\n",
      "0.148034 NA NA NA TY:0.122172 GoyetQ116-1:0.161872\n",
      "0.0661149 NA NA NA TY:0.120622 GoyetQ116-1:0.134818\n",
      "0.175887 NA NA NA TY:0.120419 GoyetQ116-1:0.177797\n",
      "0.0587239 NA NA NA TY:0.120654 GoyetQ116-1:0.13393\n",
      "0.0757241 NA NA NA TY:0.119989 GoyetQ116-1:0.1368\n",
      "0.17825 NA NA NA GoyetQ116-1:0.115474 TY:0.18195\n",
      "0.1712 NA NA NA TY:0.120245 GoyetQ116-1:0.0870574\n",
      "0.118581 NA NA NA TY:0.120993 GoyetQ116-1:0.151198\n",
      "0.0515972 NA NA NA TY:0.121675 GoyetQ116-1:0.131149\n",
      "0.17303 NA NA NA TY:0.120404 GoyetQ116-1:0.174252\n",
      "0.0846409 NA NA NA TY:0.120575 GoyetQ116-1:0.140685\n",
      "0.141897 NA NA NA TY:0.119506 GoyetQ116-1:0.158169\n",
      "0.166836 NA NA NA TY:0.120981 GoyetQ116-1:0.170593\n",
      "0.129077 NA NA NA GoyetQ116-1:0.117058 TY:0.158873\n",
      "0.10471 NA NA NA TY:0.119993 GoyetQ116-1:0.148794\n",
      "0.125559 NA NA NA GoyetQ116-1:0.117502 TY:0.158287\n",
      "0.191671 NA NA NA TY:0.121151 GoyetQ116-1:0.183379\n",
      "0.103201 NA NA NA TY:0.119914 GoyetQ116-1:0.146551\n",
      "0.065454 NA NA NA TY:0.120459 GoyetQ116-1:0.135063\n",
      "0.16384 NA NA NA TY:0.12178 GoyetQ116-1:0.171499\n",
      "0.0984778 NA NA NA GoyetQ116-1:0.118544 TY:0.149923\n",
      "0.0995124 NA NA NA TY:0.121504 GoyetQ116-1:0.0736511\n",
      "0.0134851 NA NA NA GoyetQ116-1:0.116871 (TY:0.119891,(Dai:0.000678073,(Han:0,(Atayal:0.0102697,Ami:0.00379584):0.00317592):0.000500922):0.0120767):0.00342764\n",
      "0.138167 NA NA NA TY:0.121436 GoyetQ116-1:0.160927\n",
      "0.19208 NA NA NA TY:0.119732 GoyetQ116-1:0.181665\n",
      "0.0736258 NA NA NA TY:0.120716 GoyetQ116-1:0.138545\n",
      "0.211327 NA NA NA TY:0.121147 GoyetQ116-1:0.190098\n",
      "0.128152 NA NA NA GoyetQ116-1:0.117579 TY:0.160269\n",
      "0.0862506 NA NA NA TY:0.120143 GoyetQ116-1:0.1418\n",
      "0.0387432 NA NA NA TY:0.120717 GoyetQ116-1:0.128615\n",
      "0.155117 NA NA NA TY:0.120543 GoyetQ116-1:0.168478\n",
      "0.17843 NA NA NA TY:0.119993 GoyetQ116-1:0.174264\n",
      "0.106197 NA NA NA GoyetQ116-1:0.118139 TY:0.152545\n",
      "0.105551 NA NA NA GoyetQ116-1:0.116005 TY:0.152263\n",
      "0.158317 NA NA NA TY:0.121088 GoyetQ116-1:0.168657\n",
      "0.108975 NA NA NA TY:0.120306 GoyetQ116-1:0.148183\n",
      "0.140978 NA NA NA GoyetQ116-1:0.118302 TY:0.164796\n",
      "0.255855 NA NA NA TY:0.121312 GoyetQ116-1:0.217568\n",
      "0.184915 NA NA NA TY:0.120351 GoyetQ116-1:0.179295\n",
      "0.0191064 NA NA NA TY:0.12238 GoyetQ116-1:0.122803\n",
      "0.157073 NA NA NA TY:0.119956 GoyetQ116-1:0.166666\n",
      "0.153294 NA NA NA TY:0.121248 GoyetQ116-1:0.16536\n",
      "0.0878091 NA NA NA TY:0.121169 GoyetQ116-1:0.143637\n",
      "0.216858 NA NA NA TY:0.121297 GoyetQ116-1:0.196231\n",
      "0.0742684 NA NA NA TY:0.12069 GoyetQ116-1:0.137786\n",
      "0.0101487 NA NA NA TY:0.121763 GoyetQ116-1:0.12017\n",
      "0.229085 NA NA NA TY:0.120826 GoyetQ116-1:0.20308\n",
      "0.205214 NA NA NA TY:0.120114 GoyetQ116-1:0.187906\n",
      "0.20082 NA NA NA TY:0.121788 GoyetQ116-1:0.188427\n",
      "0.065906 NA NA NA TY:0.120954 GoyetQ116-1:0.134499\n",
      "0.155007 NA NA NA TY:0.121212 GoyetQ116-1:0.166908\n",
      "0.0708771 NA NA NA TY:0.119838 GoyetQ116-1:0.13656\n",
      "0.0831687 NA NA NA TY:0.120808 GoyetQ116-1:0.139741\n",
      "0.173936 NA NA NA GoyetQ116-1:0.115744 TY:0.178204\n",
      "0.0364425 NA NA NA TY:0.121542 GoyetQ116-1:0.0630013\n",
      "0.0911593 NA NA NA TY:0.119657 GoyetQ116-1:0.143008\n",
      "0.0835071 NA NA NA GoyetQ116-1:0.117268 TY:0.143834\n",
      "0.0740223 NA NA NA TY:0.120876 GoyetQ116-1:0.0681005\n",
      "0.129154 NA NA NA TY:0.121889 GoyetQ116-1:0.157319\n",
      "0.184585 NA NA NA TY:0.120151 GoyetQ116-1:0.177315\n",
      "0.234282 NA NA NA TY:0.121365 GoyetQ116-1:0.203289\n",
      "0.157699 NA NA NA TY:0.120991 GoyetQ116-1:0.16902\n",
      "0.0182315 NA NA NA GoyetQ116-1:0.118016 TY:0.125878\n",
      "0.116239 NA NA NA TY:0.121101 GoyetQ116-1:0.153163\n",
      "0.170601 NA NA NA TY:0.119836 GoyetQ116-1:0.17234\n",
      "0.171952 NA NA NA TY:0.120475 GoyetQ116-1:0.172407\n",
      "0.176827 NA NA NA TY:0.120921 GoyetQ116-1:0.17465\n",
      "0.107287 NA NA NA TY:0.121542 GoyetQ116-1:0.149843\n",
      "0.108314 NA NA NA TY:0.122066 GoyetQ116-1:0.148646\n",
      "0.121804 NA NA NA TY:0.121176 GoyetQ116-1:0.153455\n",
      "0.200418 NA NA NA GoyetQ116-1:0.118899 TY:0.193365\n",
      "0.12205 NA NA NA GoyetQ116-1:0.116751 TY:0.156877\n",
      "0.131463 NA NA NA TY:0.119738 GoyetQ116-1:0.156176\n",
      "0.133518 NA NA NA TY:0.1194 GoyetQ116-1:0.157221\n",
      "0.242883 NA NA NA TY:0.120979 GoyetQ116-1:0.207872\n",
      "0.192501 NA NA NA TY:0.120612 GoyetQ116-1:0.182474\n",
      "0.14254 NA NA NA TY:0.11875 GoyetQ116-1:0.161601\n",
      "0.199507 NA NA NA TY:0.121519 GoyetQ116-1:0.186068\n",
      "0.118405 NA NA NA GoyetQ116-1:0.117488 TY:0.15749\n",
      "0.18824 NA NA NA TY:0.119875 GoyetQ116-1:0.178483\n",
      "0.205868 NA NA NA TY:0.118885 GoyetQ116-1:0.186189\n",
      "0.1162 NA NA NA TY:0.120071 GoyetQ116-1:0.151802\n",
      "0.162388 NA NA NA TY:0.120531 GoyetQ116-1:0.169818\n",
      "0.107781 NA NA NA TY:0.119936 GoyetQ116-1:0.148569\n",
      "0.107614 NA NA NA TY:0.120905 GoyetQ116-1:0.148506\n",
      "0.163141 NA NA NA TY:0.120297 GoyetQ116-1:0.169461\n",
      "0.242723 NA NA NA TY:0.120478 GoyetQ116-1:0.205678\n",
      "0.220508 NA NA NA TY:0.122621 GoyetQ116-1:0.197689\n",
      "0.176528 NA NA NA TY:0.119899 GoyetQ116-1:0.174575\n",
      "0.073777 NA NA NA TY:0.120811 GoyetQ116-1:0.137564\n",
      "0.100457 NA NA NA TY:0.119634 GoyetQ116-1:0.145744\n",
      "0.154961 NA NA NA TY:0.120336 GoyetQ116-1:0.165614\n",
      "0.227318 NA NA NA TY:0.121511 GoyetQ116-1:0.198975\n",
      "0.163897 NA NA NA TY:0.120977 GoyetQ116-1:0.170835\n",
      "0.155499 NA NA NA GoyetQ116-1:0.118058 TY:0.171657\n",
      "0.201644 NA NA NA TY:0.120536 GoyetQ116-1:0.188017\n",
      "0.126881 NA NA NA TY:0.120566 GoyetQ116-1:0.15313\n",
      "0.219724 NA NA NA TY:0.120776 GoyetQ116-1:0.195883\n",
      "0.20801 NA NA NA TY:0.121004 GoyetQ116-1:0.190157\n",
      "0.206918 NA NA NA TY:0.12005 GoyetQ116-1:0.187063\n",
      "0.129391 NA NA NA TY:0.121138 GoyetQ116-1:0.154203\n",
      "0.17715 NA NA NA TY:0.120102 GoyetQ116-1:0.0874881\n",
      "0.0693572 NA NA NA TY:0.121154 GoyetQ116-1:0.0687301\n",
      "0.076131 NA NA NA TY:0.121255 GoyetQ116-1:0.136925\n",
      "0.12017 NA NA NA TY:0.120525 GoyetQ116-1:0.0763922\n",
      "0.102787 NA NA NA TY:0.120798 GoyetQ116-1:0.0735547\n",
      "0.0840469 NA NA NA TY:0.120587 GoyetQ116-1:0.069598\n",
      "0.0855139 NA NA NA TY:0.12002 GoyetQ116-1:0.140904\n",
      "0.0824642 NA NA NA GoyetQ116-1:0.118115 TY:0.145143\n",
      "0.158856 NA NA NA TY:0.120854 GoyetQ116-1:0.168178\n",
      "0.0565647 NA NA NA TY:0.121835 GoyetQ116-1:0.13272\n",
      "0.128388 NA NA NA TY:0.121244 GoyetQ116-1:0.156454\n",
      "0.0655378 NA NA NA TY:0.119516 GoyetQ116-1:0.135522\n",
      "0.12877 NA NA NA TY:0.120881 GoyetQ116-1:0.158103\n",
      "0.0418439 NA NA NA GoyetQ116-1:0.117833 TY:0.131926\n",
      "0.171568 NA NA NA TY:0.116994 GoyetQ116-1:0.172464\n",
      "0.0916803 NA NA NA TY:0.120499 GoyetQ116-1:0.143318\n",
      "0.114197 NA NA NA (TY:0.119507,(Mbuti:0.0553612,(UstIshim:0.00554283,(Vestonice16:0.1171,(Kostenki14:0.118266,GoyetQ116-1:0.151206):0.000996551):0.0098157):0.000136357):0.00808771):0.0110681 GoyetQ116-1:0.151206\n",
      "0.235843 NA NA NA TY:0.11938 GoyetQ116-1:0.20289\n",
      "0.00811971 NA NA NA TY:0.120507 GoyetQ116-1:0.120907\n",
      "0.0267627 NA NA NA GoyetQ116-1:0.11799 TY:0.1274\n",
      "0.20367 NA NA NA TY:0.121948 GoyetQ116-1:0.186726\n",
      "0.224217 NA NA NA TY:0.121315 GoyetQ116-1:0.197951\n",
      "0.139756 NA NA NA TY:0.120021 GoyetQ116-1:0.158822\n",
      "0.191685 NA NA NA TY:0.119757 GoyetQ116-1:0.180792\n",
      "0.186972 NA NA NA GoyetQ116-1:0.11862 TY:0.18477\n",
      "0.208024 NA NA NA TY:0.118933 GoyetQ116-1:0.187223\n",
      "0.167848 NA NA NA TY:0.1177 GoyetQ116-1:0.167787\n",
      "0.158209 NA NA NA TY:0.120655 GoyetQ116-1:0.166642\n",
      "0.162356 NA NA NA TY:0.120356 GoyetQ116-1:0.171133\n",
      "0.214852 NA NA NA TY:0.120147 GoyetQ116-1:0.192003\n",
      "0.132095 NA NA NA TY:0.119955 GoyetQ116-1:0.158341\n",
      "0.208107 NA NA NA TY:0.120419 GoyetQ116-1:0.188041\n",
      "0.0787143 NA NA NA TY:0.121321 GoyetQ116-1:0.137631\n",
      "0.223374 NA NA NA TY:0.120602 GoyetQ116-1:0.198028\n",
      "0.191489 NA NA NA TY:0.118795 GoyetQ116-1:0.179449\n",
      "0.119205 NA NA NA TY:0.121396 GoyetQ116-1:0.155593\n",
      "0.107287 NA NA NA GoyetQ116-1:0.11684 TY:0.152073\n",
      "0.227139 NA NA NA TY:0.12017 GoyetQ116-1:0.199605\n",
      "0.0282505 NA NA NA TY:0.121671 GoyetQ116-1:0.125995\n",
      "0.191636 NA NA NA TY:0.119129 GoyetQ116-1:0.18343\n",
      "0.172138 NA NA NA TY:0.121058 GoyetQ116-1:0.086402\n",
      "0.161924 NA NA NA TY:0.121465 GoyetQ116-1:0.0846556\n",
      "0.0286704 NA NA NA TY:0.120543 GoyetQ116-1:0.126155\n",
      "0.196154 NA NA NA TY:0.119775 GoyetQ116-1:0.182935\n",
      "0.160631 NA NA NA TY:0.119738 GoyetQ116-1:0.166603\n",
      "0.122766 NA NA NA TY:0.120964 GoyetQ116-1:0.152306\n",
      "0.0803507 NA NA NA TY:0.119183 GoyetQ116-1:0.139326\n",
      "0.169039 NA NA NA TY:0.120071 GoyetQ116-1:0.171585\n",
      "0.210972 NA NA NA TY:0.120506 GoyetQ116-1:0.191394\n",
      "0.125416 NA NA NA TY:0.120687 GoyetQ116-1:0.15667\n",
      "0.149474 NA NA NA GoyetQ116-1:0.117413 TY:0.1686\n",
      "0.146744 NA NA NA TY:0.122139 GoyetQ116-1:0.163895\n",
      "0.1856 NA NA NA TY:0.120111 GoyetQ116-1:0.17973\n",
      "0.122417 NA NA NA TY:0.120698 GoyetQ116-1:0.0762355\n",
      "0.198842 NA NA NA TY:0.119885 GoyetQ116-1:0.184528\n",
      "0.15894 NA NA NA TY:0.120916 GoyetQ116-1:0.166882\n",
      "0.0515954 NA NA NA TY:0.120465 GoyetQ116-1:0.131058\n",
      "0.0727461 NA NA NA GoyetQ116-1:0.117453 TY:0.143025\n",
      "0.17712 NA NA NA TY:0.119901 GoyetQ116-1:0.173119\n",
      "0.191649 NA NA NA TY:0.119684 GoyetQ116-1:0.180958\n",
      "0.254616 NA NA NA TY:0.118721 GoyetQ116-1:0.215516\n",
      "0.201379 NA NA NA TY:0.119999 GoyetQ116-1:0.185828\n",
      "0.0886432 NA NA NA TY:0.119969 GoyetQ116-1:0.142394\n",
      "0.0547798 NA NA NA TY:0.120288 GoyetQ116-1:0.132225\n",
      "0.121213 NA NA NA TY:0.12061 GoyetQ116-1:0.151335\n",
      "0.132443 NA NA NA TY:0.121109 GoyetQ116-1:0.157235\n",
      "0.133924 NA NA NA TY:0.121914 GoyetQ116-1:0.15876\n",
      "0.139691 NA NA NA TY:0.121406 GoyetQ116-1:0.161646\n",
      "0.166249 NA NA NA TY:0.121849 GoyetQ116-1:0.17071\n",
      "0.147387 NA NA NA TY:0.120919 GoyetQ116-1:0.163955\n",
      "0.0999906 NA NA NA TY:0.121273 GoyetQ116-1:0.146731\n",
      "0.197963 NA NA NA TY:0.121718 GoyetQ116-1:0.186399\n",
      "0.178442 NA NA NA TY:0.120582 GoyetQ116-1:0.176313\n",
      "0.0168391 NA NA NA TY:0.120176 GoyetQ116-1:0.120215\n",
      "0.188381 NA NA NA TY:0.120075 GoyetQ116-1:0.182328\n",
      "0.210162 NA NA NA TY:0.122096 GoyetQ116-1:0.193221\n",
      "0.141671 NA NA NA TY:0.122305 GoyetQ116-1:0.162386\n",
      "0.0368802 NA NA NA TY:0.120724 GoyetQ116-1:0.128291\n",
      "0.0547798 NA NA NA ((Dai:0.000515789,(Han:0.000101863,((Mbuti:0.0523382,((GoyetQ116-1:0.117326,(Vestonice16:0.117126,Kostenki14:0.117521):0.0018451):0.00790514,UstIshim:0.00542161):0.00138117):0.00734938,TY:0.121075):0.0115264):0.000421429):0.00325295,Atayal:0.00911571):0.00346291 UstIshim:0.00542161\n",
      "0.186887 NA NA NA TY:0.121011 GoyetQ116-1:0.181377\n",
      "0.189294 NA NA NA TY:0.121426 GoyetQ116-1:0.182058\n",
      "0.190932 NA NA NA TY:0.121231 GoyetQ116-1:0.181456\n",
      "0.232882 NA NA NA TY:0.121518 GoyetQ116-1:0.203387\n",
      "0.136486 NA NA NA TY:0.112555 GoyetQ116-1:0.159355\n",
      "0.0171526 NA NA NA GoyetQ116-1:0.119131 TY:0.126579\n",
      "0.064748 NA NA NA GoyetQ116-1:0.116554 TY:0.138315\n",
      "0.19468 NA NA NA TY:0.120323 GoyetQ116-1:0.183236\n",
      "0.13436 NA NA NA GoyetQ116-1:0.1172 TY:0.162385\n",
      "0.254884 NA NA NA TY:0.120073 GoyetQ116-1:0.215813\n",
      "0.0171153 NA NA NA TY:0.121045 GoyetQ116-1:0.122444\n",
      "0.121459 NA NA NA TY:0.120859 GoyetQ116-1:0.154134\n",
      "0.116041 NA NA NA TY:0.119959 GoyetQ116-1:0.150862\n",
      "0.114376 NA NA NA TY:0.120511 GoyetQ116-1:0.152262\n",
      "0.196295 NA NA NA TY:0.120918 GoyetQ116-1:0.18479\n",
      "0.199979 NA NA NA TY:0.121573 GoyetQ116-1:0.187145\n",
      "0.13103 NA NA NA GoyetQ116-1:0.116673 TY:0.161357\n",
      "0.12661 NA NA NA GoyetQ116-1:0.117558 TY:0.159546\n",
      "0.0636207 NA NA NA TY:0.122396 GoyetQ116-1:0.133829\n",
      "0.178616 NA NA NA TY:0.120071 GoyetQ116-1:0.176804\n",
      "0.0971379 NA NA NA TY:0.121217 GoyetQ116-1:0.145123\n",
      "0.123046 NA NA NA TY:0.120716 GoyetQ116-1:0.156098\n",
      "0.186352 NA NA NA TY:0.122109 GoyetQ116-1:0.178194\n",
      "0.258644 NA NA NA TY:0.11962 GoyetQ116-1:0.210568\n",
      "0.0945057 NA NA NA TY:0.121647 GoyetQ116-1:0.146559\n",
      "0.0984778 NA NA NA GoyetQ116-1:0.117344 TY:0.149154\n",
      "0.115197 NA NA NA TY:0.121213 GoyetQ116-1:0.151064\n",
      "0.139508 NA NA NA TY:0.120728 GoyetQ116-1:0.0790511\n",
      "0.125301 NA NA NA TY:0.120441 GoyetQ116-1:0.153897\n",
      "0.189889 NA NA NA TY:0.119629 GoyetQ116-1:0.180084\n",
      "0.151279 NA NA NA TY:0.120861 GoyetQ116-1:0.164417\n",
      "0.230751 NA NA NA TY:0.121011 GoyetQ116-1:0.200793\n",
      "0.19736 NA NA NA TY:0.120225 GoyetQ116-1:0.0922739\n",
      "0.12338 NA NA NA TY:0.119281 GoyetQ116-1:0.15158\n",
      "0.128033 NA NA NA TY:0.120781 GoyetQ116-1:0.15456\n",
      "0.124954 NA NA NA TY:0.122195 GoyetQ116-1:0.154914\n",
      "0.170145 NA NA NA TY:0.120591 GoyetQ116-1:0.172248\n",
      "0.128697 NA NA NA TY:0.118852 GoyetQ116-1:0.153527\n",
      "0.0919398 NA NA NA TY:0.121545 GoyetQ116-1:0.145735\n",
      "0.0547798 NA NA NA GoyetQ116-1:0.119529 TY:0.135802\n",
      "0.254303 NA NA NA (((Han:0,(Ami:0.00407494,Atayal:0.0111082):0.00361483):0.000446611,Dai:0.00105871):0.0112369,TY:0.1214):0.00710688 GoyetQ116-1:0.214458\n",
      "0.141807 NA NA NA GoyetQ116-1:0.118965 TY:0.166774\n",
      "0.160302 NA NA NA TY:0.121029 GoyetQ116-1:0.167057\n",
      "0.237184 NA NA NA TY:0.121675 GoyetQ116-1:0.202773\n",
      "0.101149 NA NA NA TY:0.120834 GoyetQ116-1:0.146936\n",
      "0.18434 NA NA NA TY:0.120748 GoyetQ116-1:0.177874\n",
      "0.15632 NA NA NA TY:0.118936 GoyetQ116-1:0.165202\n",
      "0.0593684 NA NA NA GoyetQ116-1:0.118232 TY:0.136631\n",
      "0.0587239 NA NA NA TY:0.121018 GoyetQ116-1:0.134159\n",
      "0.13329 NA NA NA TY:0.121467 GoyetQ116-1:0.157055\n",
      "0.138982 NA NA NA GoyetQ116-1:0.11766 TY:0.164095\n",
      "0.0908628 NA NA NA TY:0.121646 GoyetQ116-1:0.143046\n",
      "0.0428401 NA NA NA TY:0.119703 (Vestonice16:0.117725,GoyetQ116-1:0.116039):0.000604072\n",
      "0.128126 NA NA NA TY:0.119087 GoyetQ116-1:0.152565\n",
      "0.0908628 NA NA NA TY:0.11981 GoyetQ116-1:0.141453\n",
      "0.127813 NA NA NA GoyetQ116-1:0.119813 TY:0.160518\n",
      "0.0645313 NA NA NA TY:0.120052 GoyetQ116-1:0.134895\n",
      "0.0891441 NA NA NA TY:0.122116 GoyetQ116-1:0.145372\n",
      "0.154499 NA NA NA TY:0.120963 GoyetQ116-1:0.166771\n",
      "0.177155 NA NA NA TY:0.119126 GoyetQ116-1:0.173567\n",
      "0.0547798 NA NA NA TY:0.12161 GoyetQ116-1:0.133154\n",
      "0.0369795 NA NA NA TY:0.121721 GoyetQ116-1:0.128512\n",
      "0.101849 NA NA NA TY:0.120241 GoyetQ116-1:0.146839\n",
      "0.103361 NA NA NA TY:0.12068 GoyetQ116-1:0.147102\n",
      "0.157129 NA NA NA TY:0.119942 GoyetQ116-1:0.168014\n",
      "0.0131157 NA NA NA TY:0.121964 GoyetQ116-1:0.121775\n",
      "0.160483 NA NA NA TY:0.120937 GoyetQ116-1:0.16773\n",
      "0.103713 NA NA NA TY:0.120173 GoyetQ116-1:0.148591\n",
      "0.103166 NA NA NA GoyetQ116-1:0.11868 TY:0.1513\n",
      "0.18069 NA NA NA TY:0.120514 GoyetQ116-1:0.17828\n",
      "0.199164 NA NA NA TY:0.119963 GoyetQ116-1:0.186276\n",
      "0.238478 NA NA NA TY:0.12074 GoyetQ116-1:0.207443\n",
      "0.167606 NA NA NA TY:0.120956 GoyetQ116-1:0.174242\n",
      "0.11585 NA NA NA GoyetQ116-1:0.11837 TY:0.156749\n",
      "0.106398 NA NA NA TY:0.120746 GoyetQ116-1:0.149091\n",
      "0.179564 NA NA NA TY:0.120393 GoyetQ116-1:0.176116\n",
      "0.169634 NA NA NA GoyetQ116-1:0.117838 TY:0.175716\n",
      "0.127455 NA NA NA TY:0.119413 GoyetQ116-1:0.154277\n",
      "0.14835 NA NA NA TY:0.119623 GoyetQ116-1:0.162119\n",
      "0.107251 NA NA NA TY:0.120189 GoyetQ116-1:0.14879\n",
      "0.0145015 NA NA NA TY:0.122214 GoyetQ116-1:0.122294\n",
      "0.155164 NA NA NA TY:0.121579 GoyetQ116-1:0.166855\n",
      "0.0130871 NA NA NA TY:0.121647 GoyetQ116-1:0.060552\n",
      "0.184009 NA NA NA TY:0.119799 GoyetQ116-1:0.179583\n",
      "0.153609 NA NA NA TY:0.120286 GoyetQ116-1:0.163531\n",
      "0.123452 NA NA NA GoyetQ116-1:0.119963 TY:0.15839\n",
      "0.112304 NA NA NA TY:0.120553 GoyetQ116-1:0.148007\n",
      "0.178684 NA NA NA TY:0.118188 GoyetQ116-1:0.175274\n",
      "0.161023 NA NA NA TY:0.121204 GoyetQ116-1:0.167246\n",
      "0.20177 NA NA NA TY:0.120065 GoyetQ116-1:0.188751\n",
      "0.132487 NA NA NA TY:0.121129 GoyetQ116-1:0.157692\n",
      "0.0433183 NA NA NA TY:0.119882 GoyetQ116-1:0.129237\n",
      "0.132791 NA NA NA TY:0.12119 GoyetQ116-1:0.15622\n",
      "0.132747 NA NA NA TY:0.12141 GoyetQ116-1:0.156773\n",
      "0.159552 NA NA NA TY:0.120873 GoyetQ116-1:0.167941\n",
      "0.148778 NA NA NA TY:0.118408 GoyetQ116-1:0.161868\n",
      "0.20054 NA NA NA TY:0.121024 GoyetQ116-1:0.187203\n",
      "0.183321 NA NA NA TY:0.120582 GoyetQ116-1:0.176782\n",
      "0.105352 NA NA NA TY:0.121768 GoyetQ116-1:0.147486\n",
      "0.225204 NA NA NA TY:0.12043 GoyetQ116-1:0.199988\n",
      "0.130402 NA NA NA GoyetQ116-1:0.117583 TY:0.161439\n",
      "0.130206 NA NA NA TY:0.122235 GoyetQ116-1:0.158768\n",
      "0.0826236 NA NA NA GoyetQ116-1:0.117466 TY:0.144156\n",
      "0.258185 NA NA NA TY:0.119361 GoyetQ116-1:0.216642\n",
      "0.130527 NA NA NA TY:0.119288 GoyetQ116-1:0.154842\n",
      "0.160296 NA NA NA TY:0.119895 GoyetQ116-1:0.165882\n",
      "0.207423 NA NA NA TY:0.120525 GoyetQ116-1:0.188527\n",
      "0.160853 NA NA NA TY:0.120051 GoyetQ116-1:0.16875\n",
      "0.20289 NA NA NA TY:0.119587 GoyetQ116-1:0.185227\n",
      "0.267797 NA NA NA TY:0.119138 GoyetQ116-1:0.222134\n",
      "0.223613 NA NA NA TY:0.119005 GoyetQ116-1:0.194968\n",
      "0.159002 NA NA NA GoyetQ116-1:0.11748 TY:0.1716\n",
      "0.159687 NA NA NA TY:0.121165 GoyetQ116-1:0.16827\n",
      "0.178633 NA NA NA TY:0.11965 GoyetQ116-1:0.175713\n",
      "0.134758 NA NA NA TY:0.12114 GoyetQ116-1:0.157327\n",
      "0.171403 NA NA NA TY:0.121476 GoyetQ116-1:0.174431\n",
      "0.139812 NA NA NA TY:0.12029 GoyetQ116-1:0.160439\n",
      "0.131156 NA NA NA TY:0.12133 GoyetQ116-1:0.0782382\n",
      "0.153576 NA NA NA TY:0.121245 GoyetQ116-1:0.0833069\n",
      "0.144989 NA NA NA TY:0.120257 GoyetQ116-1:0.163302\n",
      "0.178751 NA NA NA TY:0.118782 GoyetQ116-1:0.176058\n",
      "0.0896162 NA NA NA TY:0.121217 GoyetQ116-1:0.143768\n",
      "0.222276 NA NA NA TY:0.121656 GoyetQ116-1:0.198835\n",
      "0.0807803 NA NA NA GoyetQ116-1:0.110168 TY:0.143429\n",
      "0.0910459 NA NA NA TY:0.121132 GoyetQ116-1:0.0715597\n",
      "0.0878091 NA NA NA TY:0.120152 GoyetQ116-1:0.14286\n",
      "0.167424 NA NA NA GoyetQ116-1:0.119126 TY:0.176707\n",
      "0.119786 NA NA NA GoyetQ116-1:0.116842 TY:0.157383\n",
      "0.0610981 NA NA NA TY:0.120219 GoyetQ116-1:0.133466\n",
      "0.136051 NA NA NA TY:0.119969 GoyetQ116-1:0.157595\n",
      "0.0159534 NA NA NA GoyetQ116-1:0.118822 (TY:0.118742,(Han:0.000431201,(Dai:0.000758529,(Ami:0.00362463,Atayal:0.00991614):0.00336805):0.000219641):0.0114398):0.00797497\n",
      "0.193475 NA NA NA TY:0.121334 GoyetQ116-1:0.18295\n",
      "0.16325 NA NA NA TY:0.120043 GoyetQ116-1:0.167372\n",
      "0.0813143 NA NA NA TY:0.121632 GoyetQ116-1:0.137365\n",
      "0.0919398 NA NA NA TY:0.121267 GoyetQ116-1:0.142614\n",
      "0.179668 NA NA NA TY:0.120891 GoyetQ116-1:0.176189\n",
      "0.205056 NA NA NA TY:0.119578 GoyetQ116-1:0.185853\n",
      "0.0490103 NA NA NA TY:0.12156 GoyetQ116-1:0.131343\n",
      "0.116904 NA NA NA TY:0.121358 GoyetQ116-1:0.151332\n",
      "0.150453 NA NA NA TY:0.121012 GoyetQ116-1:0.164917\n",
      "0.132445 NA NA NA TY:0.120367 GoyetQ116-1:0.154303\n",
      "0.0986746 NA NA NA GoyetQ116-1:0.11854 TY:0.149664\n",
      "0.207563 NA NA NA TY:0.12197 GoyetQ116-1:0.190657\n",
      "0.154568 NA NA NA TY:0.120756 GoyetQ116-1:0.16653\n",
      "0.232573 NA NA NA TY:0.12108 GoyetQ116-1:0.204604\n",
      "0.115602 NA NA NA TY:0.121743 GoyetQ116-1:0.150387\n",
      "0.0455566 NA NA NA TY:0.121693 GoyetQ116-1:0.130422\n",
      "0.0535214 NA NA NA TY:0.121981 GoyetQ116-1:0.131989\n",
      "0.210713 NA NA NA TY:0.119529 GoyetQ116-1:0.190258\n",
      "0.0480059 NA NA NA TY:0.119166 GoyetQ116-1:0.130378\n",
      "0.171402 NA NA NA TY:0.120647 GoyetQ116-1:0.173538\n",
      "0.08148 NA NA NA TY:0.120103 GoyetQ116-1:0.140105\n",
      "0.0729883 NA NA NA GoyetQ116-1:0.11741 TY:0.141607\n",
      "0.140856 NA NA NA TY:0.119517 GoyetQ116-1:0.158523\n",
      "0.0960064 NA NA NA TY:0.120759 GoyetQ116-1:0.144681\n",
      "0.189952 NA NA NA TY:0.120802 GoyetQ116-1:0.181527\n",
      "0.168968 NA NA NA TY:0.120677 GoyetQ116-1:0.170195\n",
      "0.110053 NA NA NA TY:0.120634 GoyetQ116-1:0.148699\n",
      "0.124509 NA NA NA TY:0.121086 GoyetQ116-1:0.153559\n",
      "0.0295083 NA NA NA TY:0.122064 GoyetQ116-1:0.124876\n",
      "0.184109 NA NA NA TY:0.118938 GoyetQ116-1:0.177617\n",
      "0.222325 NA NA NA TY:0.121387 GoyetQ116-1:0.198307\n",
      "0.203676 NA NA NA TY:0.120061 GoyetQ116-1:0.0933703\n",
      "0.210574 NA NA NA TY:0.121544 GoyetQ116-1:0.192238\n",
      "0.0395894 NA NA NA TY:0.120961 GoyetQ116-1:0.0646478\n",
      "0.203291 NA NA NA TY:0.121786 GoyetQ116-1:0.188034\n",
      "0.180168 NA NA NA TY:0.119376 GoyetQ116-1:0.174097\n",
      "0.204326 NA NA NA TY:0.120038 GoyetQ116-1:0.188748\n",
      "0.100457 NA NA NA TY:0.120563 GoyetQ116-1:0.146612\n",
      "0.141282 NA NA NA TY:0.119949 GoyetQ116-1:0.159474\n",
      "0.155616 NA NA NA TY:0.11997 GoyetQ116-1:0.168204\n",
      "0.156677 NA NA NA TY:0.120502 GoyetQ116-1:0.166566\n",
      "0.109307 NA NA NA TY:0.120207 GoyetQ116-1:0.150483\n",
      "0.208682 NA NA NA TY:0.120869 GoyetQ116-1:0.192603\n",
      "0.0911593 NA NA NA GoyetQ116-1:0.117887 TY:0.148107\n",
      "0.169672 NA NA NA TY:0.12004 GoyetQ116-1:0.17164\n",
      "0.199752 NA NA NA TY:0.120087 GoyetQ116-1:0.185109\n",
      "0.138956 NA NA NA TY:0.121306 GoyetQ116-1:0.158553\n",
      "0.121685 NA NA NA TY:0.121726 GoyetQ116-1:0.154237\n",
      "0.0527749 NA NA NA TY:0.1224 (Mbuti:0.055838,((Vestonice16:0.11675,Kostenki14:0.117379):0.00306272,GoyetQ116-1:0.117165):0.00808604):0.000421812\n",
      "0.137061 NA NA NA TY:0.120127 GoyetQ116-1:0.156541\n",
      "0.196722 NA NA NA TY:0.120974 GoyetQ116-1:0.184869\n",
      "0.184043 NA NA NA TY:0.120666 GoyetQ116-1:0.178785\n",
      "0.0705785 NA NA NA TY:0.12064 GoyetQ116-1:0.135588\n",
      "0.164365 NA NA NA TY:0.1222 GoyetQ116-1:0.172578\n",
      "0.225439 NA NA NA TY:0.120956 GoyetQ116-1:0.199477\n",
      "0.0503021 NA NA NA TY:0.12153 GoyetQ116-1:0.131257\n",
      "0.179126 NA NA NA TY:0.119336 GoyetQ116-1:0.175365\n",
      "0.220368 NA NA NA TY:0.120816 GoyetQ116-1:0.195085\n",
      "0.113069 NA NA NA TY:0.12085 GoyetQ116-1:0.149486\n",
      "0.0921139 NA NA NA TY:0.12112 GoyetQ116-1:0.143709\n",
      "0.148767 NA NA NA TY:0.121135 GoyetQ116-1:0.163177\n",
      "0.0658097 NA NA NA TY:0.121925 GoyetQ116-1:0.135849\n",
      "0.181745 NA NA NA TY:0.12151 GoyetQ116-1:0.179024\n",
      "0.173013 NA NA NA TY:0.11803 GoyetQ116-1:0.177406\n",
      "0.113238 NA NA NA TY:0.120452 GoyetQ116-1:0.150635\n",
      "0.149541 NA NA NA TY:0.121979 GoyetQ116-1:0.165748\n",
      "0.0386658 NA NA NA TY:0.12056 GoyetQ116-1:0.0636547\n",
      "0.178902 NA NA NA TY:0.122877 GoyetQ116-1:0.177901\n",
      "0.107984 NA NA NA TY:0.121448 GoyetQ116-1:0.0752313\n",
      "0.150134 NA NA NA TY:0.12155 GoyetQ116-1:0.163868\n",
      "0.250364 NA NA NA TY:0.12052 GoyetQ116-1:0.211943\n",
      "0.122825 NA NA NA TY:0.119663 GoyetQ116-1:0.152744\n",
      "0.10296 NA NA NA TY:0.12151 GoyetQ116-1:0.147257\n",
      "0.183392 NA NA NA (((UstIshim:0.00425455,(Kostenki14:0.115329,(Vestonice16:0.115888,GoyetQ116-1:0.176457):0.000511566):0.0107518):0.00109306,Mbuti:0.055666):0.00732958,TY:0.121202):0.0111542 GoyetQ116-1:0.176457\n",
      "0.114937 NA NA NA TY:0.119363 GoyetQ116-1:0.152426\n",
      "0.164186 NA NA NA TY:0.120201 GoyetQ116-1:0.170094\n",
      "0.240928 NA NA NA TY:0.121017 GoyetQ116-1:0.20752\n",
      "0.14783 NA NA NA TY:0.121488 GoyetQ116-1:0.163552\n",
      "0.183622 NA NA NA TY:0.120767 GoyetQ116-1:0.174416\n",
      "0.132294 NA NA NA TY:0.119855 GoyetQ116-1:0.155857\n",
      "0.0882067 NA NA NA TY:0.121613 GoyetQ116-1:0.142318\n",
      "0.0259659 NA NA NA TY:0.121877 GoyetQ116-1:0.124727\n",
      "0.149968 NA NA NA TY:0.121405 GoyetQ116-1:0.166893\n",
      "0.223221 NA NA NA ((UstIshim:0.00744101,((Kostenki14:0.118312,(Vestonice16:0.116577,GoyetQ116-1:0.200202):0.000742983):0.0107868,Mbuti:0.054007):0.00033636):0.0061626,TY:0.122179):0.0125645 GoyetQ116-1:0.200202\n",
      "0.219335 NA NA NA TY:0.120515 GoyetQ116-1:0.195576\n",
      "0.224149 NA NA NA TY:0.119793 GoyetQ116-1:0.198876\n",
      "0.136051 NA NA NA TY:0.120134 GoyetQ116-1:0.15836\n",
      "0.0501311 NA NA NA TY:0.121393 GoyetQ116-1:0.130215\n",
      "0.0945068 NA NA NA GoyetQ116-1:0.117818 TY:0.148259\n",
      "0.163167 NA NA NA TY:0.120613 GoyetQ116-1:0.166505\n",
      "0.194751 NA NA NA TY:0.11852 GoyetQ116-1:0.183457\n",
      "0.152262 NA NA NA TY:0.120676 GoyetQ116-1:0.165807\n",
      "0.142957 NA NA NA TY:0.119835 GoyetQ116-1:0.160073\n",
      "0.0772059 NA NA NA GoyetQ116-1:0.118275 TY:0.142895\n",
      "0.181078 NA NA NA GoyetQ116-1:0.115517 TY:0.181962\n",
      "0.166273 NA NA NA TY:0.12035 GoyetQ116-1:0.171099\n",
      "0.157548 NA NA NA TY:0.121961 GoyetQ116-1:0.169179\n",
      "0.11305 NA NA NA TY:0.12078 GoyetQ116-1:0.151251\n",
      "0.0441028 NA NA NA GoyetQ116-1:0.116668 TY:0.132607\n",
      "0.213606 NA NA NA TY:0.121369 GoyetQ116-1:0.19152\n",
      "0.0435863 NA NA NA TY:0.120313 GoyetQ116-1:0.128584\n",
      "0.0799232 NA NA NA GoyetQ116-1:0.117406 TY:0.142772\n",
      "0.106696 NA NA NA TY:0.120326 GoyetQ116-1:0.148577\n",
      "0.0291977 NA NA NA TY:0.11929 GoyetQ116-1:0.0626172\n",
      "0.133393 NA NA NA TY:0.120222 GoyetQ116-1:0.155783\n",
      "0.155035 NA NA NA TY:0.122307 GoyetQ116-1:0.16798\n",
      "0.270897 NA NA NA TY:0.119718 GoyetQ116-1:0.221069\n",
      "0.237364 NA NA NA TY:0.120082 GoyetQ116-1:0.205411\n",
      "0.0859685 NA NA NA TY:0.120909 GoyetQ116-1:0.0706682\n",
      "0.142538 NA NA NA TY:0.120623 GoyetQ116-1:0.159485\n",
      "0.134118 NA NA NA TY:0.121303 GoyetQ116-1:0.158649\n",
      "0.131579 NA NA NA TY:0.119805 GoyetQ116-1:0.156985\n",
      "0.129434 NA NA NA TY:0.120034 GoyetQ116-1:0.154389\n",
      "0.151615 NA NA NA TY:0.120594 GoyetQ116-1:0.163124\n",
      "0.13181 NA NA NA GoyetQ116-1:0.116756 TY:0.160088\n",
      "0.120187 NA NA NA TY:0.120022 GoyetQ116-1:0.152185\n",
      "0.184238 NA NA NA TY:0.121388 GoyetQ116-1:0.179015\n",
      "0.164186 NA NA NA TY:0.12184 GoyetQ116-1:0.172304\n",
      "0.0999906 NA NA NA TY:0.121643 GoyetQ116-1:0.146979\n",
      "0.115634 NA NA NA TY:0.120457 GoyetQ116-1:0.150545\n",
      "0.0973607 NA NA NA TY:0.121929 GoyetQ116-1:0.146403\n",
      "0.241432 NA NA NA TY:0.119722 GoyetQ116-1:0.206935\n",
      "0.0688959 NA NA NA GoyetQ116-1:0.117719 TY:0.138051\n",
      "0.242486 NA NA NA TY:0.121985 GoyetQ116-1:0.208518\n",
      "0.2257 NA NA NA TY:0.121537 GoyetQ116-1:0.19951\n",
      "0.0878091 NA NA NA GoyetQ116-1:0.11811 TY:0.147267\n",
      "0.12338 NA NA NA GoyetQ116-1:0.115909 TY:0.156597\n",
      "0.0714655 NA NA NA GoyetQ116-1:0.118538 TY:0.141043\n",
      "0.184017 NA NA NA TY:0.119173 GoyetQ116-1:0.177271\n",
      "0.0208001 NA NA NA TY:0.120593 GoyetQ116-1:0.123169\n",
      "0.197232 NA NA NA TY:0.120663 GoyetQ116-1:0.184959\n",
      "0.184768 NA NA NA TY:0.1205 GoyetQ116-1:0.179864\n",
      "0.167596 NA NA NA TY:0.120935 GoyetQ116-1:0.169687\n",
      "0.0947654 NA NA NA TY:0.121114 GoyetQ116-1:0.144582\n",
      "0.0922821 NA NA NA TY:0.120427 GoyetQ116-1:0.142086\n",
      "0.105874 NA NA NA TY:0.121478 GoyetQ116-1:0.148554\n",
      "0.183664 NA NA NA TY:0.121046 GoyetQ116-1:0.180111\n",
      "0.135956 NA NA NA TY:0.122257 GoyetQ116-1:0.158558\n",
      "0.18026 NA NA NA TY:0.121418 GoyetQ116-1:0.177717\n",
      "0.0498925 NA NA NA TY:0.121815 GoyetQ116-1:0.131966\n",
      "0.0150139 NA NA NA TY:0.121392 GoyetQ116-1:0.121388\n",
      "0.262802 NA NA NA TY:0.11936 GoyetQ116-1:0.218233\n",
      "0.211807 NA NA NA TY:0.116759 GoyetQ116-1:0.191922\n",
      "0.177325 NA NA NA TY:0.121726 GoyetQ116-1:0.179211\n",
      "0.0812121 NA NA NA TY:0.119904 GoyetQ116-1:0.139589\n",
      "0.204155 NA NA NA TY:0.119891 GoyetQ116-1:0.187866\n",
      "0.123979 NA NA NA TY:0.121816 GoyetQ116-1:0.155466\n",
      "0.135156 NA NA NA TY:0.122107 GoyetQ116-1:0.157026\n",
      "0.175453 NA NA NA TY:0.120975 GoyetQ116-1:0.174571\n",
      "0.212564 NA NA NA TY:0.121849 GoyetQ116-1:0.191451\n",
      "0.163291 NA NA NA TY:0.118408 GoyetQ116-1:0.0844168\n",
      "0.161461 NA NA NA TY:0.121066 GoyetQ116-1:0.171615\n",
      "0.185434 NA NA NA TY:0.12182 GoyetQ116-1:0.180114\n",
      "0.169095 NA NA NA TY:0.12133 GoyetQ116-1:0.17496\n",
      "0.141439 NA NA NA GoyetQ116-1:0.118611 TY:0.166724\n",
      "0.126544 NA NA NA GoyetQ116-1:0.11838 TY:0.158154\n",
      "0.0287704 NA NA NA GoyetQ116-1:0.117259 TY:0.128474\n",
      "0.0963179 NA NA NA TY:0.121422 GoyetQ116-1:0.0726777\n",
      "0.0171153 NA NA NA TY:0.121487 GoyetQ116-1:0.123152\n",
      "0.193582 NA NA NA TY:0.121911 GoyetQ116-1:0.183212\n",
      "0.166831 NA NA NA TY:0.121215 GoyetQ116-1:0.169861\n",
      "0.137292 NA NA NA TY:0.121628 GoyetQ116-1:0.159141\n",
      "0.193523 NA NA NA GoyetQ116-1:0.117416 TY:0.188763\n",
      "0.0421458 NA NA NA TY:0.122135 GoyetQ116-1:0.128366\n",
      "0.20409 NA NA NA TY:0.120632 GoyetQ116-1:0.187547\n",
      "0.0984778 NA NA NA TY:0.121899 GoyetQ116-1:0.145876\n",
      "0.214871 NA NA NA TY:0.120873 GoyetQ116-1:0.0972884\n",
      "0.146352 NA NA NA TY:0.121788 GoyetQ116-1:0.163574\n",
      "0.132572 NA NA NA TY:0.12175 GoyetQ116-1:0.158039\n",
      "0.179152 NA NA NA TY:0.120536 GoyetQ116-1:0.175423\n",
      "0.0532284 NA NA NA TY:0.122065 GoyetQ116-1:0.132471\n",
      "0.0316837 NA NA NA TY:0.121182 GoyetQ116-1:0.0628177\n",
      "0.157475 NA NA NA TY:0.12096 GoyetQ116-1:0.166568\n",
      "0.0847828 NA NA NA TY:0.120662 GoyetQ116-1:0.140718\n",
      "0.143672 NA NA NA TY:0.121383 GoyetQ116-1:0.164812\n",
      "0.0930997 NA NA NA GoyetQ116-1:0.118183 TY:0.14848\n",
      "0.0162092 NA NA NA TY:0.122476 GoyetQ116-1:0.122777\n",
      "0.197795 NA NA NA TY:0.120412 GoyetQ116-1:0.184671\n",
      "0.219777 NA NA NA TY:0.121392 GoyetQ116-1:0.195339\n",
      "0.173142 NA NA NA TY:0.121766 GoyetQ116-1:0.174249\n",
      "0.147875 NA NA NA TY:0.121362 GoyetQ116-1:0.164034\n",
      "0.119141 NA NA NA TY:0.120689 GoyetQ116-1:0.151925\n",
      "0.144259 NA NA NA TY:0.121053 GoyetQ116-1:0.161114\n",
      "0.143259 NA NA NA TY:0.120346 GoyetQ116-1:0.162775\n",
      "0.257986 NA NA NA TY:0.120691 GoyetQ116-1:0.215968\n",
      "0.17541 NA NA NA TY:0.120134 GoyetQ116-1:0.173765\n",
      "0.142064 NA NA NA TY:0.120895 GoyetQ116-1:0.160892\n",
      "0.09816 NA NA NA TY:0.121583 GoyetQ116-1:0.0732574\n",
      "0.178134 NA NA NA TY:0.120931 GoyetQ116-1:0.175453\n",
      "0.143417 NA NA NA TY:0.121257 GoyetQ116-1:0.16288\n",
      "0.210423 NA NA NA TY:0.120684 GoyetQ116-1:0.191325\n",
      "0.180499 NA NA NA TY:0.120251 GoyetQ116-1:0.17635\n",
      "0.158738 NA NA NA TY:0.1203 GoyetQ116-1:0.167843\n",
      "0.126896 NA NA NA TY:0.120303 GoyetQ116-1:0.155756\n",
      "0.262612 NA NA NA TY:0.117548 GoyetQ116-1:0.219673\n",
      "0.18026 NA NA NA TY:0.120586 GoyetQ116-1:0.175713\n",
      "0.0228186 NA NA NA TY:0.12163 GoyetQ116-1:0.122877\n",
      "0.0228186 NA NA NA GoyetQ116-1:0.118329 TY:0.126912\n",
      "0.0759754 NA NA NA TY:0.121165 GoyetQ116-1:0.138283\n",
      "0.109883 NA NA NA GoyetQ116-1:0.115815 TY:0.152319\n",
      "0.13041 NA NA NA TY:0.120289 GoyetQ116-1:0.0778791\n",
      "0.197331 NA NA NA TY:0.121343 GoyetQ116-1:0.185454\n",
      "0.0880967 NA NA NA GoyetQ116-1:0.105196 TY:0.146744\n",
      "0.0172132 NA NA NA TY:0.121197 (Mbuti:0.056854,((Kostenki14:0.117257,Vestonice16:0.116355):0.00251009,GoyetQ116-1:0.115999):0.0080367):0.00137758\n",
      "0.0465756 NA NA NA TY:0.120417 GoyetQ116-1:0.131499\n",
      "0.111854 NA NA NA TY:0.1209 GoyetQ116-1:0.150948\n",
      "0.207361 NA NA NA TY:0.120825 GoyetQ116-1:0.187773\n",
      "0.210289 NA NA NA TY:0.121526 GoyetQ116-1:0.18996\n",
      "0.189618 NA NA NA TY:0.119784 GoyetQ116-1:0.18102\n",
      "0.239901 NA NA NA TY:0.121694 GoyetQ116-1:0.208215\n",
      "0.161461 NA NA NA TY:0.120949 GoyetQ116-1:0.168303\n",
      "0.169631 NA NA NA TY:0.120365 GoyetQ116-1:0.173779\n",
      "0.0899091 NA NA NA TY:0.12102 GoyetQ116-1:0.141924\n",
      "0.0247847 NA NA NA TY:0.121232 GoyetQ116-1:0.123314\n",
      "0.114893 NA NA NA TY:0.12027 GoyetQ116-1:0.151348\n",
      "0.197902 NA NA NA TY:0.121445 GoyetQ116-1:0.187121\n",
      "0.0689837 NA NA NA TY:0.11025 GoyetQ116-1:0.135901\n",
      "0.20305 NA NA NA TY:0.120891 GoyetQ116-1:0.187119\n",
      "0.132443 NA NA NA TY:0.121091 GoyetQ116-1:0.0788734\n",
      "0.194458 NA NA NA TY:0.121534 GoyetQ116-1:0.183311\n",
      "0.0367735 NA NA NA TY:0.121866 GoyetQ116-1:0.12752\n",
      "0.168269 NA NA NA TY:0.120415 GoyetQ116-1:0.172058\n",
      "0.196241 NA NA NA TY:0.121665 GoyetQ116-1:0.185326\n",
      "0.0977685 NA NA NA TY:0.121815 GoyetQ116-1:0.145813\n",
      "0.117514 NA NA NA TY:0.121681 GoyetQ116-1:0.152246\n",
      "0.139488 NA NA NA GoyetQ116-1:0.115544 TY:0.163105\n",
      "0.237322 NA NA NA TY:0.120122 GoyetQ116-1:0.203861\n",
      "0.229775 NA NA NA TY:0.120895 GoyetQ116-1:0.200104\n",
      "0.0230487 NA NA NA TY:0.120526 GoyetQ116-1:0.123299\n",
      "0.173661 NA NA NA TY:0.120042 GoyetQ116-1:0.172606\n",
      "0.0429873 NA NA NA GoyetQ116-1:0.117525 TY:0.13247\n",
      "0.183062 NA NA NA TY:0.121112 GoyetQ116-1:0.176764\n",
      "0.127554 NA NA NA TY:0.121126 GoyetQ116-1:0.155167\n",
      "0.15737 NA NA NA TY:0.120947 GoyetQ116-1:0.166113\n",
      "0.0922791 NA NA NA TY:0.121091 GoyetQ116-1:0.145665\n",
      "0.173446 NA NA NA TY:0.12127 GoyetQ116-1:0.173714\n",
      "0.0243544 NA NA NA TY:0.120585 GoyetQ116-1:0.122507\n",
      "0.0973324 NA NA NA TY:0.120808 GoyetQ116-1:0.144137\n",
      "0.214672 NA NA NA TY:0.120931 GoyetQ116-1:0.193292\n",
      "0.165126 NA NA NA TY:0.120177 GoyetQ116-1:0.17011\n",
      "0.279541 NA NA NA TY:0.121741 GoyetQ116-1:0.2311\n",
      "0.162963 NA NA NA TY:0.121101 GoyetQ116-1:0.169713\n",
      "0.168083 NA NA NA TY:0.12053 GoyetQ116-1:0.173262\n",
      "0.11904 NA NA NA TY:0.12015 GoyetQ116-1:0.152406\n",
      "0.109513 NA NA NA TY:0.12167 GoyetQ116-1:0.149494\n",
      "0.116551 NA NA NA GoyetQ116-1:0.117007 TY:0.156075\n",
      "0.10146 NA NA NA TY:0.120324 GoyetQ116-1:0.147252\n",
      "0.150841 NA NA NA GoyetQ116-1:0.118449 TY:0.171354\n",
      "0.0695889 NA NA NA GoyetQ116-1:0.102323 TY:0.139252\n",
      "0.153539 NA NA NA TY:0.120341 GoyetQ116-1:0.0824198\n",
      "0.07654 NA NA NA TY:0.120269 (Vestonice16:0.117563,GoyetQ116-1:0.116787):0.00126092\n",
      "0.165145 NA NA NA TY:0.120465 GoyetQ116-1:0.170463\n",
      "0.163932 NA NA NA TY:0.120165 GoyetQ116-1:0.168017\n",
      "0.180534 NA NA NA TY:0.121131 GoyetQ116-1:0.175093\n",
      "0.122376 NA NA NA TY:0.12182 GoyetQ116-1:0.0769337\n",
      "0.0955042 NA NA NA GoyetQ116-1:0.10707 TY:0.148254\n",
      "0.149968 NA NA NA TY:0.119279 GoyetQ116-1:0.16486\n",
      "0.440745 NA NA NA ((Mbuti:0.0562113,(((Kostenki14:0.116869,Vestonice16:0.115724):0.00200841,GoyetQ116-1:0.118151):0.00527714,TY:0.394952):0.00245045):0.00094533,UstIshim:0.0054379):0.0179197 TY:0.394952\n",
      "0.111817 NA NA NA TY:0.11952 GoyetQ116-1:0.15021\n",
      "0.135004 NA NA NA TY:0.121729 GoyetQ116-1:0.1598\n",
      "0.10503 NA NA NA GoyetQ116-1:0.116783 TY:0.152149\n",
      "0.0517729 NA NA NA GoyetQ116-1:0.0964189 TY:0.133433\n",
      "0.0919398 NA NA NA TY:0.121451 GoyetQ116-1:0.143304\n",
      "0.205151 NA NA NA TY:0.121895 GoyetQ116-1:0.190758\n"
     ]
    }
   ],
   "source": [
    "%%bash\n",
    "\n",
    "##Amt Malta1 Admix with EAsns and/or TY in bootstrap replicates\n",
    "for m in 0 2; do \n",
    "    pD=\"/home/mel_yang/projects/allTYstuff/TY_Treemix/\"\n",
    "    fh=\"transv.TYRelH\"${m}\"_m1_rep\"\n",
    "    inv1=\"-v \"\n",
    "    #zcat ${pD}${fh}s/${fh}*.treeout.gz| grep NA | grep GoyetQ116-1 | grep TY | wc -l\n",
    "    zcat ${pD}${fh}s/${fh}*.treeout.gz| grep NA | grep GoyetQ116-1 | grep TY \n",
    "done\n"
   ]
  },
  {
   "cell_type": "code",
   "execution_count": null,
   "metadata": {},
   "outputs": [],
   "source": []
  },
  {
   "cell_type": "code",
   "execution_count": null,
   "metadata": {},
   "outputs": [],
   "source": []
  },
  {
   "cell_type": "code",
   "execution_count": null,
   "metadata": {},
   "outputs": [],
   "source": []
  },
  {
   "cell_type": "code",
   "execution_count": null,
   "metadata": {},
   "outputs": [],
   "source": []
  },
  {
   "cell_type": "code",
   "execution_count": 35,
   "metadata": {},
   "outputs": [
    {
     "data": {
      "image/png": "[encoded data removed]",
      "text/plain": [
       "<matplotlib.figure.Figure at 0x7f9a0f7d2a10>"
      ]
     },
     "metadata": {},
     "output_type": "display_data"
    }
   ],
   "source": [
    "%matplotlib inline\n",
    "import matplotlib.pyplot as plt\n",
    "import projmodules as pm\n",
    "\n",
    "\n",
    "pD = \"/home/mel_yang/projects/allTYstuff/SOMX3_Treemix/\"\n",
    "myfile = open(pD+\"LSE_noMalta1.txt\",'r')\n",
    "for line in myfile:\n",
    "    x=line.split()\n",
    "    if len(x) == 0: continue\n",
    "    if x[0]=='Mig': \n",
    "        mydat = {}\n",
    "        for i in x[1:]: mydat[i] = []\n",
    "        mytitles = x[1:]\n",
    "    else:\n",
    "        for ind,i in enumerate(x[1:]): mydat[mytitles[ind]].append(float(i))\n",
    "titles = ['All Sites','Transversions Only']\n",
    "fig = plt.figure(figsize=(8,3))\n",
    "for mysubplot,mylabel in enumerate(['A','B']):\n",
    "    ax1=fig.add_subplot(1,2,mysubplot+1)\n",
    "    mydatrev = {}\n",
    "    myset = ['Group%s%s' % (str(i),mylabel) for i in range(1,5)]\n",
    "    mysetrev = ['Set %s' % (str(i)) for i in range(1,5)]\n",
    "    for ind,i in enumerate(myset): mydatrev[mysetrev[ind]] = mydat[i]\n",
    "    xs = range(11)\n",
    "    plt.title(titles[mysubplot])\n",
    "    #plt.axvline(x=3,color='gray')\n",
    "    #plt.axhline(y=3,color='gray')\n",
    "    plt.xlabel('# of Migration Events')\n",
    "    plt.ylabel('|LSE|')\n",
    "    #plt.axhline(y=3, color='gray',)\n",
    "    for ys in mysetrev:\n",
    "        plt.plot(xs,mydatrev[ys],label=ys)\n",
    "lg=plt.legend(bbox_to_anchor=(-1.1,-0.08,2,-0.08),ncol=4,mode=\"expand\",frameon='None')\n",
    "lg.get_frame().set_linewidth(0) "
   ]
  },
  {
   "cell_type": "code",
   "execution_count": null,
   "metadata": {},
   "outputs": [],
   "source": []
  },
  {
   "cell_type": "code",
   "execution_count": null,
   "metadata": {},
   "outputs": [],
   "source": []
  },
  {
   "cell_type": "code",
   "execution_count": null,
   "metadata": {},
   "outputs": [],
   "source": []
  },
  {
   "cell_type": "code",
   "execution_count": null,
   "metadata": {},
   "outputs": [],
   "source": []
  },
  {
   "cell_type": "code",
   "execution_count": null,
   "metadata": {},
   "outputs": [],
   "source": []
  },
  {
   "cell_type": "code",
   "execution_count": null,
   "metadata": {},
   "outputs": [],
   "source": [
    "%%writefile /home/mel_yang/projects/allTYstuff/TY_Treemix/maketreemixfileTYRelB.py\n",
    "from projmodules import treemix_mkinput\n",
    "\n",
    "##B7 and B9 are Sets 2 and 4\n",
    "pd='/home/mel_yang/projects/allTYstuff/TY_Treemix/'\n",
    "fh='UPA_all.041816.eigen'\n",
    "subset='TYRelB'\n",
    "setstotry=[['Mbuti','TY','UstIshim','Kostenki14','GoyetQ116-1','Vestonice16','Han','Ami','Atayal','Dai'],\n",
    "           ['Mbuti','TY','UstIshim','Han','Ami','Atayal','Dai'],\n",
    "           ['Mbuti','TY','Kostenki14','Han','Ami','Atayal','Dai'],\n",
    "           ['Mbuti','TY','UstIshim','Kostenki14'],\n",
    "           ['Mbuti','TY','UstIshim','Kostenki14','GoyetQ116-1'],\n",
    "           ['Mbuti','TY','UstIshim','Kostenki14','GoyetQ116-1','Vestonice16'],\n",
    "           ['Mbuti','TY','UstIshim','Kostenki14','GoyetQ116-1','Vestonice16','Malta1'],\n",
    "           ['Mbuti','TY','UstIshim','Kostenki14','GoyetQ116-1','Vestonice16','Malta1','Han','Ami','Atayal','Dai'],\n",
    "           ['Mbuti','TY','UstIshim','Kostenki14','GoyetQ116-1','Vestonice16','Malta1','ElMiron','Villabruna','Loschbour'],\n",
    "           ['Mbuti','TY','UstIshim','Kostenki14','GoyetQ116-1','Vestonice16','Malta1','ElMiron','Villabruna','Loschbour','Han','Ami','Dai','Atayal']]\n",
    "for ind,i in enumerate(setstotry):\n",
    "    ##if ind<=6: continue\n",
    "    print ind,i\n",
    "    treemix_mkinput(pd,fh,subset+str(ind),setstotry[ind])     "
   ]
  },
  {
   "cell_type": "code",
   "execution_count": null,
   "metadata": {},
   "outputs": [],
   "source": [
    "%%writefile /home/mel_yang/projects/allTYstuff/TY_Treemix/maketreemixfileTYRelD.py\n",
    "from projmodules import treemix_mkinput\n",
    "\n",
    "##D1 and D3 are Sets 1 and 3\n",
    "pd='/home/mel_yang/projects/allTYstuff/TY_Treemix/'\n",
    "fh='UPA_all.041816.transv.eigen'\n",
    "subset='TYRelD'\n",
    "setstotry=[['Mbuti','TY','Kostenki14','GoyetQ116-1','Vestonice16','Malta1'],\n",
    "           ['Mbuti','TY','Kostenki14','GoyetQ116-1','Vestonice16','Malta1','Han','Ami','Atayal','Dai'],\n",
    "           ['Mbuti','TY','Kostenki14','GoyetQ116-1','Vestonice16','Malta1','ElMiron','Villabruna','Loschbour'],\n",
    "           ['Mbuti','TY','Kostenki14','GoyetQ116-1','Vestonice16','Malta1','ElMiron','Villabruna','Loschbour','Han','Ami','Dai','Atayal']]\n",
    "for ind,i in enumerate(setstotry):\n",
    "    ##if ind<=6: continue\n",
    "    print ind,i\n",
    "    treemix_mkinput(pd,fh,subset+str(ind),setstotry[ind])     "
   ]
  },
  {
   "cell_type": "code",
   "execution_count": null,
   "metadata": {},
   "outputs": [],
   "source": [
    "%%writefile /home/mel_yang/projects/allTYstuff/TY_Treemix/maketreemixgraphTYRelG.sh\n",
    "pd=\"/home/mel_yang/projects/allTYstuff/TY_Treemix/\"\n",
    "tv=\"transv.\"\n",
    "#tv=\"\"\n",
    "fh=\"UPA_all.041816.${tv}eigen\"\n",
    "#fh=\"UPA_all2.rn1.071316.${tv}eigen\"\n",
    "for j in `seq 0 3`; do\n",
    "    #for j in 9; do\n",
    "    subset=\"TYRelG${j}\"\n",
    "    gzip ${pd}${fh}.${subset}.treemix.txt\n",
    "    for i in `seq 0 4`; do \n",
    "        treemix -i ${pd}${fh}.${subset}.treemix.txt.gz -root Mbuti -o ${pd}${tv}${subset}_m${i} -m ${i} > \\\n",
    "            ${pd}${tv}${subset}_m${i}.log\n",
    "    done\n",
    "done\n",
    "\n",
    "##R CMD BATCH Rcode.R\n"
   ]
  },
  {
   "cell_type": "code",
   "execution_count": null,
   "metadata": {},
   "outputs": [],
   "source": [
    "%%writefile /home/mel_yang/projects/allTYstuff/TY_Treemix/Rcode.R\n",
    "\n",
    "#setwd(\"C:/Users/Melinda/ivppstuff/Treemix_R\")\n",
    "source(\"plotting_funcs_MY.R\")\n",
    "transv=\"transv.\"\n",
    "#transv=\"\"\n",
    "fh=\"TYRelD\"\n",
    "for (id in c(3)) {\n",
    "#for (m in c(0,1,2,3)) {\n",
    "#for (m in c(0,1,2,3,4,5,6,7,8,9,10)) {\n",
    "for (m in c(10)) {\n",
    "#pdf(paste(transv,fh,id,'.m',m,'.pdf',sep=''))\n",
    "png(paste('imagefiles/',transv,fh,id,'.m',m,'.png',sep=''),width=580,height=580)\n",
    "par(mfrow=c(2,1))\n",
    "plot_tree(paste(transv,fh,id,\"_m\",m,sep=\"\"),cex=1,plus=0.05,ybar=0.15,xmin=-0.015)\n",
    "plot_resid(paste(transv,fh,id,\"_m\",m,sep=\"\"),paste(fh,id,\".popns.txt\",sep=\"\"),cex=1)\n",
    "#plot_resid(paste(transv,fh,id,\"_m\",m,sep=\"\"),paste(fh,id,\".popns.txt\",sep=\"\"),cex=1,usemax=F,min=-0.001,max=0.001)\n",
    "dev.off()\n",
    "}\n",
    "}"
   ]
  },
  {
   "cell_type": "code",
   "execution_count": null,
   "metadata": {},
   "outputs": [],
   "source": [
    "%%writefile /home/mel_yang/projects/allTYstuff/TY_Treemix/bootstrap.TYRelG3_m2.sh\n",
    "##BOOTSTRAP\n",
    "pd=\"/home/mel_yang/projects/allTYstuff/TY_Treemix/\"\n",
    "tv=\"transv.\"\n",
    "tv=\"\"\n",
    "fh=\"UPA_all.041816.${tv}eigen\"\n",
    "#fh=\"UPA_all2.rn1.071316.${tv}eigen\"\n",
    "subset=\"TYRelG3\"\n",
    "mig=2\n",
    "reps=1000\n",
    "newdir=${tv}${subset}_m${mig}_reps/\n",
    "\n",
    "mkdir ${pd}${newdir}\n",
    "\n",
    "for rep in `seq 1 ${reps}`; do\n",
    "    #echo ${rep}\n",
    "    treemix -i ${pd}${fh}.${subset}.treemix.txt.gz -bootstrap -k 500 -q -o ${pd}${newdir}${tv}${subset}_m${mig}_rep${rep} -m ${mig} > \\\n",
    "            ${pd}${newdir}${tv}${subset}_m${mig}_rep${rep}.log\n",
    "done"
   ]
  },
  {
   "cell_type": "code",
   "execution_count": null,
   "metadata": {},
   "outputs": [],
   "source": [
    "%%bash\n",
    "##BOOTSTRAP\n",
    "pd=\"/home/mel_yang/projects/allTYstuff/TY_Treemix/\"\n",
    "tv=\"transv.\"\n",
    "tv=\"\"\n",
    "#fh=\"UPA_all.041816.${tv}eigen\"\n",
    "subset=\"TYRelG3\"\n",
    "mig=2\n",
    "reps=1000\n",
    "newdir=${tv}${subset}_m${mig}_reps/\n",
    "\n",
    "##zcat ${pd}${tv}${subset}_m${mig}.treeout.gz | head -n1 > ${pd}${newdir}${tv}${subset}_m${mig}.trees\n",
    "echo \"\" > ${pd}${newdir}${tv}${subset}_m${mig}.trees\n",
    "for rep in `seq 1 ${reps}`; do\n",
    "    zcat ${pd}${newdir}${tv}${subset}_m${mig}_rep${rep}.treeout.gz | head -n1 >> \\\n",
    "            ${pd}${newdir}${tv}${subset}_m${mig}.trees\n",
    "done"
   ]
  },
  {
   "cell_type": "code",
   "execution_count": null,
   "metadata": {},
   "outputs": [],
   "source": [
    "%%writefile /home/mel_yang/projects/allTYstuff/TY_NA_Treemix/maketreemixfileNAmerB.py\n",
    "from projmodules import treemix_mkinput\n",
    "\n",
    "##Use B1 for NAmer\n",
    "\n",
    "pd='/home/mel_yang/projects/allTYstuff/TY_NA_Treemix/'\n",
    "fhs=['UPA_all2.rn1.071316.transv.eigen','UPA_all2.rn1.071316.eigen']\n",
    "subset='NAmerB'\n",
    "setstotry=[['Mbuti','TY','UstIshim','Kostenki14','GoyetQ116-1','Vestonice16','Malta1','Mixe','Quechua','Surui','Clovis','Karitiana','Chane'],\n",
    "           ['Mbuti','TY','UstIshim','Kostenki14','GoyetQ116-1','Vestonice16','Malta1','Han','Ami','Atayal','Dai','Mixe','Quechua','Surui','Clovis','Karitiana','Chane'],\n",
    "           ['Mbuti','TY','UstIshim','Kostenki14','GoyetQ116-1','Vestonice16','Malta1','ElMiron','Villabruna','Loschbour','Mixe','Quechua','Surui','Clovis','Karitiana','Chane'],\n",
    "           ['Mbuti','TY','UstIshim','Kostenki14','GoyetQ116-1','Vestonice16','Malta1','ElMiron','Villabruna','Loschbour','Han','Ami','Dai','Atayal','Mixe','Quechua','Surui','Clovis','Karitiana','Chane']]\n",
    "for fh in fhs:\n",
    "    for ind,i in enumerate(setstotry):\n",
    "        print ind,i\n",
    "        treemix_mkinput(pd,fh,subset+str(ind),setstotry[ind])     "
   ]
  },
  {
   "cell_type": "code",
   "execution_count": 358,
   "metadata": {},
   "outputs": [
    {
     "name": "stdout",
     "output_type": "stream",
     "text": [
      "Overwriting /home/mel_yang/projects/allTYstuff/TY_NA_Treemix/maketreemixfileNAmerBB.py\n"
     ]
    }
   ],
   "source": [
    "%%writefile /home/mel_yang/projects/allTYstuff/TY_NA_Treemix/maketreemixfileNAmerBB.py\n",
    "from projmodules import treemix_mkinput\n",
    "\n",
    "##Use B1 for NAmer\n",
    "\n",
    "pd='/home/mel_yang/projects/allTYstuff/TY_NA_Treemix/'\n",
    "fhs=['UPA_all2.rn1.071316.transv.eigen','UPA_all2.rn1.071316.eigen']\n",
    "subset='NAmerBB'\n",
    "setstotry=[['Mbuti','TY','UstIshim','Kostenki14','GoyetQ116-1','Vestonice16','Malta1','Mixe','Quechua','Surui','Anzick-1','Karitiana','Chane'],\n",
    "           ['Mbuti','TY','UstIshim','Kostenki14','GoyetQ116-1','Vestonice16','Malta1','Han','Ami','Atayal','Dai','Mixe','Quechua','Surui','Anzick-1','Karitiana','Chane'],\n",
    "           ['Mbuti','TY','UstIshim','Kostenki14','GoyetQ116-1','Vestonice16','Malta1','ElMiron','Villabruna','Loschbour','Mixe','Quechua','Surui','Anzick-1','Karitiana','Chane'],\n",
    "           ['Mbuti','TY','UstIshim','Kostenki14','GoyetQ116-1','Vestonice16','Malta1','ElMiron','Villabruna','Loschbour','Han','Ami','Dai','Atayal','Mixe','Quechua','Surui','Anzick-1','Karitiana','Chane'],\n",
    "           ['Denisovan','Papuan','Mbuti','TY','UstIshim','Kostenki14','GoyetQ116-1','Vestonice16','Malta1','Han','Ami','Atayal','Dai','Mixe','Quechua','Surui','Anzick-1','Karitiana','Chane'],]\n",
    "for fh in fhs:\n",
    "    for ind,i in enumerate(setstotry):\n",
    "        if ind <= 3: continue\n",
    "        print ind,i\n",
    "        treemix_mkinput(pd,fh,subset+str(ind),setstotry[ind])     "
   ]
  },
  {
   "cell_type": "code",
   "execution_count": 362,
   "metadata": {},
   "outputs": [
    {
     "name": "stdout",
     "output_type": "stream",
     "text": [
      "Overwriting /home/mel_yang/projects/allTYstuff/TY_NA_Treemix/maketreemixgraphNAmerBB_addk500.sh\n"
     ]
    }
   ],
   "source": [
    "%%writefile /home/mel_yang/projects/allTYstuff/TY_NA_Treemix/maketreemixgraphNAmerBB_addk500.sh\n",
    "pd=\"/home/mel_yang/projects/allTYstuff/TY_NA_Treemix/\"\n",
    "tv=\"transv.\"\n",
    "tv=\"\"\n",
    "#fh=\"UPA_all.041816.${tv}eigen\"\n",
    "fh=\"UPA_all2.rn1.071316.${tv}eigen\"\n",
    "for j in 4; do #`seq 0 3`; do\n",
    "    subset=\"NAmerBB${j}\"\n",
    "    gzip ${pd}${fh}.${subset}.treemix.txt\n",
    "    for i in `seq 0 10`; do \n",
    "        treemix -i ${pd}${fh}.${subset}.treemix.txt.gz -root Denisovan -o ${pd}${tv}${subset}_k500_m${i} -k 500 -m ${i} > \\\n",
    "            ${pd}${tv}${subset}_k500_m${i}.log\n",
    "    done\n",
    "done\n",
    "\n",
    "##R CMD BATCH Rcode.R\n"
   ]
  },
  {
   "cell_type": "code",
   "execution_count": 18,
   "metadata": {},
   "outputs": [
    {
     "name": "stdout",
     "output_type": "stream",
     "text": [
      "Overwriting /home/mel_yang/projects/allTYstuff/TY_NA_Treemix/bootstrap.NAmerBB4_k500_m0.sh\n"
     ]
    }
   ],
   "source": [
    "%%writefile /home/mel_yang/projects/allTYstuff/TY_NA_Treemix/bootstrap.NAmerBB4_k500_m0.sh\n",
    "##BOOTSTRAP\n",
    "pd=\"/home/mel_yang/projects/allTYstuff/TY_NA_Treemix/\"\n",
    "tv=\"transv.\"\n",
    "#tv=\"\"\n",
    "#fh=\"UPA_all.041816.\"${tv}\"eigen\"\n",
    "fh=\"UPA_all2.rn1.071316.${tv}eigen\"\n",
    "subset=\"NAmerBB4\"\n",
    "myk=\"_k500\"\n",
    "mig=0\n",
    "reps=1000\n",
    "newdir=${tv}${subset}${myk}_m${mig}_reps/\n",
    "\n",
    "mkdir ${pd}${newdir}\n",
    "\n",
    "#for rep in `seq 1 500`; do\n",
    "for rep in `seq 501 ${reps}`; do\n",
    "    #echo ${rep}\n",
    "    treemix -i ${pd}${fh}.${subset}.treemix.txt.gz -root Denisovan -bootstrap -k 500 -q -o ${pd}${newdir}${tv}${subset}${myk}_m${mig}_rep${rep} -m ${mig} > \\\n",
    "            ${pd}${newdir}${tv}${subset}${myk}_m${mig}_rep${rep}.log\n",
    "done"
   ]
  },
  {
   "cell_type": "code",
   "execution_count": null,
   "metadata": {},
   "outputs": [],
   "source": []
  },
  {
   "cell_type": "code",
   "execution_count": null,
   "metadata": {},
   "outputs": [],
   "source": []
  },
  {
   "cell_type": "code",
   "execution_count": 121,
   "metadata": {},
   "outputs": [
    {
     "name": "stdout",
     "output_type": "stream",
     "text": [
      "Overwriting /home/mel_yang/projects/allTYstuff/TY_NA_Treemix/maketreemixgraphNAmerBB_addk500.sh\n"
     ]
    }
   ],
   "source": [
    "%%writefile /home/mel_yang/projects/allTYstuff/TY_NA_Treemix/maketreemixgraphNAmerBB_addk500.sh\n",
    "pd=\"/home/mel_yang/projects/allTYstuff/TY_NA_Treemix/\"\n",
    "tv=\"transv.\"\n",
    "tv=\"\"\n",
    "#fh=\"UPA_all.041816.${tv}eigen\"\n",
    "fh=\"UPA_all2.rn1.071316.${tv}eigen\"\n",
    "for j in 1; do #`seq 0 3`; do\n",
    "    subset=\"NAmerBB${j}\"\n",
    "    gzip ${pd}${fh}.${subset}.treemix.txt\n",
    "    for i in `seq 0 10`; do \n",
    "        treemix -i ${pd}${fh}.${subset}.treemix.txt.gz -root Mbuti -o ${pd}${tv}${subset}_k500_m${i} -k 500 -m ${i} > \\\n",
    "            ${pd}${tv}${subset}_k500_m${i}.log\n",
    "    done\n",
    "done\n",
    "\n",
    "##R CMD BATCH Rcode.R\n"
   ]
  },
  {
   "cell_type": "code",
   "execution_count": 2,
   "metadata": {},
   "outputs": [
    {
     "name": "stdout",
     "output_type": "stream",
     "text": [
      "Overwriting /home/mel_yang/projects/allTYstuff/TY_NA_Treemix/maketreemixgraphMain.sh\n"
     ]
    }
   ],
   "source": [
    "%%writefile /home/mel_yang/projects/allTYstuff/TY_NA_Treemix/maketreemixgraphMain.sh\n",
    "pd=\"/home/mel_yang/projects/allTYstuff/TY_NA_Treemix/\"\n",
    "fh=\"MainTree\"\n",
    "\n",
    "gzip ${pd}${fh}.txt\n",
    "treemix -i ${pd}${fh}.txt.gz -root Mbuti -o ${pd}${fh} -k 500 -m 1 > \\\n",
    "    ${pd}${fh}.log\n",
    "\n",
    "##R CMD BATCH Rcode.R\n"
   ]
  },
  {
   "cell_type": "code",
   "execution_count": 3,
   "metadata": {},
   "outputs": [
    {
     "name": "stdout",
     "output_type": "stream",
     "text": [
      "Overwriting /home/mel_yang/projects/allTYstuff/TY_NA_Treemix/Rcode.R\n"
     ]
    }
   ],
   "source": [
    "%%writefile /home/mel_yang/projects/allTYstuff/TY_NA_Treemix/Rcode.R\n",
    "\n",
    "source(\"plotting_funcs_MY.R\")\n",
    "transv=\"transv.\"\n",
    "transv=\"\"\n",
    "fh=\"MainTree\"\n",
    "myk=500\n",
    "for (id in c(4)) {\n",
    "for (m in c(0)) {\n",
    "#pdf(paste(transv,fh,id,'.m',m,'.pdf',sep=''))\n",
    "png(paste('imagefiles/','MainTree.png',sep=''),width=580,height=580)\n",
    "par(mfrow=c(2,1))\n",
    "plot_tree(paste(transv,fh,sep=\"\"),cex=1,plus=0.05,ybar=0.15,xmin=-0.015)\n",
    "plot_resid(paste(transv,fh,sep=\"\"),paste(fh,id,\".popns.txt\",sep=\"\"),cex=1)\n",
    "#plot_resid(paste(transv,fh,id,\"_m\",m,sep=\"\"),paste(fh,id,\".popns.txt\",sep=\"\"),cex=1,usemax=F,min=-0.001,max=0.001)\n",
    "dev.off()\n",
    "}\n",
    "}"
   ]
  },
  {
   "cell_type": "code",
   "execution_count": 161,
   "metadata": {},
   "outputs": [
    {
     "name": "stdout",
     "output_type": "stream",
     "text": [
      "Overwriting /home/mel_yang/projects/allTYstuff/TY_NA_Treemix/bootstrap.NAmerB1_m2.sh\n"
     ]
    }
   ],
   "source": [
    "%%writefile /home/mel_yang/projects/allTYstuff/TY_NA_Treemix/bootstrap.NAmerB1_m2.sh\n",
    "##BOOTSTRAP\n",
    "pd=\"/home/mel_yang/projects/allTYstuff/TY_NA_Treemix/\"\n",
    "tv=\"transv.\"\n",
    "#tv=\"\"\n",
    "#fh=\"UPA_all.041816.${tv}eigen\"\n",
    "fh=\"UPA_all2.rn1.071316.\"${tv}\"eigen\"\n",
    "subset=\"NAmerB1\"\n",
    "mig=2\n",
    "reps=1000\n",
    "newdir=${tv}${subset}_m${mig}_reps/\n",
    "\n",
    "mkdir ${pd}${newdir}\n",
    "\n",
    "for rep in `seq 1 ${reps}`; do\n",
    "    #echo ${rep}\n",
    "    treemix -i ${pd}${fh}.${subset}.treemix.txt.gz -root Mbuti -bootstrap -k 500 -q -o ${pd}${newdir}${tv}${subset}_m${mig}_rep${rep} -m ${mig} > \\\n",
    "            ${pd}${newdir}${tv}${subset}_m${mig}_rep${rep}.log\n",
    "done"
   ]
  },
  {
   "cell_type": "code",
   "execution_count": null,
   "metadata": {},
   "outputs": [],
   "source": []
  },
  {
   "cell_type": "code",
   "execution_count": 122,
   "metadata": {},
   "outputs": [
    {
     "name": "stdout",
     "output_type": "stream",
     "text": [
      "Overwriting /home/mel_yang/projects/allTYstuff/TY_NA_Treemix/maketreemixgraphNAmerBB.sh\n"
     ]
    }
   ],
   "source": [
    "%%writefile /home/mel_yang/projects/allTYstuff/TY_NA_Treemix/maketreemixgraphNAmerBB.sh\n",
    "pd=\"/home/mel_yang/projects/allTYstuff/TY_NA_Treemix/\"\n",
    "tv=\"transv.\"\n",
    "#tv=\"\"\n",
    "fh=\"UPA_all2.rn1.071316.${tv}eigen\"\n",
    "for j in 1; do #`seq 0 3`; do\n",
    "    subset=\"NAmerBB${j}\"\n",
    "    gzip ${pd}${fh}.${subset}.treemix.txt\n",
    "    for i in `seq 4 10`; do \n",
    "        treemix -i ${pd}${fh}.${subset}.treemix.txt.gz -root Mbuti -o ${pd}${tv}${subset}_m${i} -m ${i} > \\\n",
    "            ${pd}${tv}${subset}_m${i}.log\n",
    "    done\n",
    "done\n",
    "\n",
    "##R CMD BATCH Rcode.R\n"
   ]
  },
  {
   "cell_type": "code",
   "execution_count": 53,
   "metadata": {},
   "outputs": [
    {
     "name": "stdout",
     "output_type": "stream",
     "text": [
      "Overwriting /home/mel_yang/projects/allTYstuff/TY_NA_Treemix/Rcode.R\n"
     ]
    }
   ],
   "source": [
    "%%writefile /home/mel_yang/projects/allTYstuff/TY_NA_Treemix/Rcode.R\n",
    "\n",
    "source(\"plotting_funcs_MY.R\")\n",
    "transv=\"transv.\"\n",
    "transv=\"\"\n",
    "fh=\"NAmerBB\"\n",
    "myk=500\n",
    "for (id in c(4)) {\n",
    "for (m in c(0,1,2,3,4,5,6,7,8,9,10)) {\n",
    "#pdf(paste(transv,fh,id,'.m',m,'.pdf',sep=''))\n",
    "png(paste('imagefiles/',transv,fh,id,\"_k\",myk,'.m',m,'.png',sep=''),width=580,height=580)\n",
    "par(mfrow=c(2,1))\n",
    "plot_tree(paste(transv,fh,id,\"_k\",myk,\"_m\",m,sep=\"\"),cex=1,plus=0.05,ybar=0.15,xmin=-0.015)\n",
    "plot_resid(paste(transv,fh,id,\"_k\",myk,\"_m\",m,sep=\"\"),paste(fh,id,\".popns.txt\",sep=\"\"),cex=1)\n",
    "#plot_resid(paste(transv,fh,id,\"_m\",m,sep=\"\"),paste(fh,id,\".popns.txt\",sep=\"\"),cex=1,usemax=F,min=-0.001,max=0.001)\n",
    "dev.off()\n",
    "}\n",
    "}"
   ]
  },
  {
   "cell_type": "code",
   "execution_count": null,
   "metadata": {},
   "outputs": [],
   "source": []
  },
  {
   "cell_type": "code",
   "execution_count": 48,
   "metadata": {},
   "outputs": [
    {
     "name": "stdout",
     "output_type": "stream",
     "text": [
      "Overwriting /home/mel_yang/projects/allTYstuff/TY_NA_Treemix/Rcodeimage.R\n"
     ]
    }
   ],
   "source": [
    "%%writefile /home/mel_yang/projects/allTYstuff/TY_NA_Treemix/Rcodeimage.R\n",
    "\n",
    "source(\"plotting_funcs_MY.R\")\n",
    "transv=\"transv.\"\n",
    "transv=\"\"\n",
    "fh=\"NAmerGG\"\n",
    "for (id in c(0)) {\n",
    "for (m in c(0,1,2,3,4,5,6,7,8,9,10)) {\n",
    "#pdf(paste(transv,fh,id,'.m',m,'.pdf',sep=''))\n",
    "png(paste('imagefiles/',transv,fh,id,'.m',m,'.png',sep=''),width=580,height=580)\n",
    "par(mfrow=c(2,1))\n",
    "plot_tree(paste(transv,fh,id,\"_m\",m,sep=\"\"),cex=1,plus=0.05,ybar=0.15,xmin=-0.015)\n",
    "plot_resid(paste(transv,fh,id,\"_m\",m,sep=\"\"),paste(fh,id,\".popns.txt\",sep=\"\"),cex=1)\n",
    "#plot_resid(paste(transv,fh,id,\"_m\",m,sep=\"\"),paste(fh,id,\".popns.txt\",sep=\"\"),cex=1,usemax=F,min=-0.001,max=0.001)\n",
    "dev.off()\n",
    "}\n",
    "}"
   ]
  },
  {
   "cell_type": "code",
   "execution_count": 160,
   "metadata": {},
   "outputs": [
    {
     "name": "stdout",
     "output_type": "stream",
     "text": [
      "Overwriting /home/mel_yang/projects/allTYstuff/TY_NA_Treemix/bootstrap.NAmerBB1_k500_m3.sh\n"
     ]
    }
   ],
   "source": [
    "%%writefile /home/mel_yang/projects/allTYstuff/TY_NA_Treemix/bootstrap.NAmerBB1_k500_m3.sh\n",
    "##BOOTSTRAP\n",
    "pd=\"/home/mel_yang/projects/allTYstuff/TY_NA_Treemix/\"\n",
    "tv=\"transv.\"\n",
    "#tv=\"\"\n",
    "#fh=\"UPA_all.041816.\"${tv}\"eigen\"\n",
    "fh=\"UPA_all2.rn1.071316.${tv}eigen\"\n",
    "subset=\"NAmerBB1\"\n",
    "myk=\"_k500\"\n",
    "mig=3\n",
    "reps=1000\n",
    "newdir=${tv}${subset}${myk}_m${mig}_reps/\n",
    "\n",
    "mkdir ${pd}${newdir}\n",
    "\n",
    "for rep in `seq 1 ${reps}`; do\n",
    "    #echo ${rep}\n",
    "    treemix -i ${pd}${fh}.${subset}.treemix.txt.gz -root Mbuti -bootstrap -k 500 -q -o ${pd}${newdir}${tv}${subset}${myk}_m${mig}_rep${rep} -m ${mig} > \\\n",
    "            ${pd}${newdir}${tv}${subset}${myk}_m${mig}_rep${rep}.log\n",
    "done"
   ]
  },
  {
   "cell_type": "code",
   "execution_count": null,
   "metadata": {},
   "outputs": [],
   "source": []
  },
  {
   "cell_type": "code",
   "execution_count": 83,
   "metadata": {},
   "outputs": [],
   "source": [
    "%%bash\n",
    "##BOOTSTRAP\n",
    "pd=\"/home/mel_yang/projects/allTYstuff/TY_NA_Treemix/\"\n",
    "tv=\"transv.\"\n",
    "tv=\"\"\n",
    "#fh=\"UPA_all.041816.${tv}eigen\"\n",
    "fh=\"UPA_all2.rn1.071316.${tv}eigen.mergeTib\"\n",
    "subset=\"NAmerHH0\"\n",
    "subset=\"NAmerBB1_k500\"\n",
    "subset=\"NAmerHH4\"\n",
    "#subset=\"NAmerBB4_k500\"\n",
    "mig=2\n",
    "reps=1000\n",
    "for mig in 0 1 2 3; do\n",
    "    for tv in \"transv.\" \"\"; do\n",
    "        newdir=${tv}${subset}_m${mig}_reps/\n",
    "        \n",
    "        ##zcat ${pd}${tv}${subset}_m${mig}.treeout.gz | head -n1 > ${pd}${newdir}${tv}${subset}_m${mig}.trees\n",
    "        echo \"\" > ${pd}${newdir}${tv}${subset}_m${mig}.trees\n",
    "        for rep in `seq 1 ${reps}`; do\n",
    "            zcat ${pd}${newdir}${tv}${subset}_m${mig}_rep${rep}.treeout.gz | head -n1 >> \\\n",
    "                    ${pd}${newdir}${tv}${subset}_m${mig}.trees\n",
    "        done\n",
    "    done\n",
    "done"
   ]
  },
  {
   "cell_type": "code",
   "execution_count": 87,
   "metadata": {},
   "outputs": [
    {
     "name": "stdout",
     "output_type": "stream",
     "text": [
      "/home/mel_yang/projects/allTYstuff/TY_NA_Treemix/transv.NAmerHH4_m0_reps/transv.outfile_NAmerHH4_m0\n",
      "/home/mel_yang/projects/allTYstuff/TY_NA_Treemix/NAmerHH4_m0_reps/outfile_NAmerHH4_m0\n"
     ]
    }
   ],
   "source": [
    "%%bash\n",
    "pd=\"/home/mel_yang/projects/allTYstuff/TY_NA_Treemix/\"\n",
    "myid=\"NAmerHH0_m3\"\n",
    "myid=\"NAmerGG0_k500_m1\"\n",
    "myid=\"NAmerBB4_k500_m2\"\n",
    "myid=\"NAmerHH4_m0\"\n",
    "addk=\"\"\n",
    "\n",
    "for tv in \"transv.\" \"\"; do\n",
    "    #newdir=${tv}${myid}_noroot_reps/\n",
    "    newdir=${tv}${myid}_reps/\n",
    "    myfile=${pd}${newdir}${tv}${myid}${addk}\".trees\"\n",
    "    if test -e outfile; then rm outfile; fi\n",
    "    if test -e outtree; then rm outfile; fi\n",
    "    cp ${myfile} intree\n",
    "    outfile=${pd}${newdir}${tv}\"BSTree_\"${myid}${addk}\n",
    "    echo \"R\" > ${pd}${newdir}${tv}\"PhylipInputfile\"\n",
    "    echo \"Y\" >> ${pd}${newdir}${tv}\"PhylipInputfile\"\n",
    "    phylip consense < ${pd}${newdir}${tv}\"PhylipInputfile\" > ${outfile}\n",
    "    \n",
    "    mv outfile ${pd}${newdir}${tv}outfile_${myid}${addk}\n",
    "    mv outtree ${pd}${newdir}${tv}outtree_${myid}${addk}\n",
    "    echo ${pd}${newdir}${tv}outfile_${myid}${addk}\n",
    "done"
   ]
  },
  {
   "cell_type": "code",
   "execution_count": 227,
   "metadata": {},
   "outputs": [
    {
     "name": "stdout",
     "output_type": "stream",
     "text": [
      "Overwriting /home/mel_yang/projects/allTYstuff/TY_NA_Treemix/bootstrap.NAmerGG0_k500_m3.sh\n"
     ]
    }
   ],
   "source": [
    "%%writefile /home/mel_yang/projects/allTYstuff/TY_NA_Treemix/bootstrap.NAmerGG0_k500_m3.sh\n",
    "##BOOTSTRAP\n",
    "pd=\"/home/mel_yang/projects/allTYstuff/TY_NA_Treemix/\"\n",
    "tv=\"transv.\"\n",
    "tv=\"\"\n",
    "#fh=\"UPA_all.041816.\"${tv}\"eigen\"\n",
    "fh=\"UPA_all2.rn1.071316.${tv}eigen\"\n",
    "subset=\"NAmerGG0\"\n",
    "myk=\"_k500\"\n",
    "mig=3\n",
    "reps=1000\n",
    "newdir=${tv}${subset}${myk}_m${mig}_noroot_reps/\n",
    "\n",
    "mkdir ${pd}${newdir}\n",
    "\n",
    "for rep in `seq 1 ${reps}`; do\n",
    "    #echo ${rep}\n",
    "    treemix -i ${pd}${fh}.${subset}.treemix.txt.gz -bootstrap -k 500 -q -o ${pd}${newdir}${tv}${subset}${myk}_m${mig}_rep${rep} -m ${mig} > \\\n",
    "            ${pd}${newdir}${tv}${subset}${myk}_m${mig}_rep${rep}.log\n",
    "done"
   ]
  },
  {
   "cell_type": "code",
   "execution_count": 25,
   "metadata": {},
   "outputs": [],
   "source": [
    "%%bash\n",
    "##BOOTSTRAP\n",
    "pd=\"/home/mel_yang/projects/allTYstuff/TY_NA_Treemix/\"\n",
    "tv=\"transv.\"\n",
    "#tv=\"\"\n",
    "#fh=\"UPA_all.041816.${tv}eigen\"\n",
    "fh=\"UPA_all2.rn1.071316.${tv}eigen.mergeTib\"\n",
    "subset=\"NAmerHH0\"\n",
    "subset=\"NAmerGG0_k500\"\n",
    "subset=\"NAmerHH2\"\n",
    "subset=\"NAmerII0\"\n",
    "mig=1\n",
    "reps=1000\n",
    "for mig in 0 1 2 3; do\n",
    "    for tv in \"transv.\" \"\"; do\n",
    "        newdir=${tv}${subset}_m${mig}_noroot_reps/\n",
    "        #newdir=${tv}${subset}_m${mig}_reps/\n",
    "        ##zcat ${pd}${tv}${subset}_m${mig}.treeout.gz | head -n1 > ${pd}${newdir}${tv}${subset}_m${mig}.trees\n",
    "        echo \"\" > ${pd}${newdir}${tv}${subset}_m${mig}.trees\n",
    "        for rep in `seq 1 ${reps}`; do\n",
    "            zcat ${pd}${newdir}${tv}${subset}_m${mig}_noroot_rep${rep}.treeout.gz | head -n1 >> \\\n",
    "                    ${pd}${newdir}${tv}${subset}_m${mig}.trees\n",
    "        done\n",
    "    done\n",
    "done"
   ]
  },
  {
   "cell_type": "code",
   "execution_count": 40,
   "metadata": {},
   "outputs": [
    {
     "name": "stdout",
     "output_type": "stream",
     "text": [
      "/home/mel_yang/projects/allTYstuff/TY_NA_Treemix/transv.NAmerII0_m3_noroot_reps/transv.outfile_NAmerII0_m3\n",
      "/home/mel_yang/projects/allTYstuff/TY_NA_Treemix/NAmerII0_m3_noroot_reps/outfile_NAmerII0_m3\n"
     ]
    }
   ],
   "source": [
    "%%bash\n",
    "pd=\"/home/mel_yang/projects/allTYstuff/TY_NA_Treemix/\"\n",
    "myid=\"NAmerHH0_m3\"\n",
    "myid=\"NAmerGG0_k500_m1\"\n",
    "myid=\"NAmerII0_m3\"\n",
    "addk=\"\"\n",
    "tv=\"transv.\"\n",
    "tv=\"\"\n",
    "for tv in \"transv.\" \"\"; do\n",
    "    newdir=${tv}${myid}_noroot_reps/\n",
    "    #newdir=${tv}${myid}_reps/\n",
    "    myfile=${pd}${newdir}${tv}${myid}${addk}\".trees\"\n",
    "    if test -e outfile; then rm outfile; fi\n",
    "    if test -e outtree; then rm outfile; fi\n",
    "    cp ${myfile} intree\n",
    "    outfile=${pd}${newdir}${tv}\"BSTree_\"${myid}${addk}\n",
    "    echo \"Y\" > ${pd}${newdir}${tv}\"PhylipInputfile\"\n",
    "    #echo \"R\" > ${pd}${newdir}${tv}\"PhylipInputfile\"\n",
    "    #echo \"N\" >> ${pd}${newdir}${tv}\"PhylipInputfile\"\n",
    "    #phylip consense > ${outfile}\n",
    "    phylip consense < ${pd}${newdir}${tv}\"PhylipInputfile\" > ${outfile}\n",
    "    \n",
    "    mv outfile ${pd}${newdir}${tv}outfile_${myid}${addk}\n",
    "    mv outtree ${pd}${newdir}${tv}outtree_${myid}${addk}\n",
    "    echo ${pd}${newdir}${tv}outfile_${myid}${addk}\n",
    "done"
   ]
  },
  {
   "cell_type": "code",
   "execution_count": 316,
   "metadata": {},
   "outputs": [
    {
     "name": "stdout",
     "output_type": "stream",
     "text": [
      "('Han', 'TY') 1\n",
      "('GoyetQ116-1', '(UstIshim') 1\n",
      "('Vestonice16', 'UstIshim') 2\n",
      "('Vestonice16', 'Mbuti') 3\n",
      "('Ami', 'Han') 8\n",
      "('GoyetQ116-1', 'UstIshim') 1\n",
      "('Mbuti', '(Kostenki14') 31\n",
      "('Kostenki14', 'Mbuti') 48\n",
      "('GoyetQ116-1', '(Vestonice16') 7\n",
      "('Mbuti', 'Atayal') 3\n",
      "('Vestonice16', 'Atayal') 7\n",
      "('Ami', 'Dai') 2\n",
      "('GoyetQ116-1', '(Kostenki14') 3\n",
      "('((((Han', 'Dai') 1\n",
      "('Atayal', 'Ami') 1\n",
      "('Atayal', 'GoyetQ116-1') 1\n",
      "('Kostenki14', 'UstIshim') 3\n",
      "('Mbuti', '(Vestonice16') 77\n",
      "('GoyetQ116-1', 'Atayal') 2\n",
      "('UstIshim', '(Dai') 1\n",
      "('Mbuti', 'Kostenki14') 83\n",
      "('UstIshim', 'GoyetQ116-1') 1\n",
      "('TY', 'Han') 1\n",
      "('Kostenki14', 'Dai') 3\n",
      "('GoyetQ116-1', 'TY') 28\n",
      "('Ami', 'UstIshim') 4\n",
      "('GoyetQ116-1', 'Dai') 1\n",
      "('((TY', 'Kostenki14') 1\n",
      "('TY', 'Mbuti') 1\n",
      "('UstIshim', 'Kostenki14') 2\n",
      "('TY', 'GoyetQ116-1') 668\n",
      "('GoyetQ116-1', '(TY') 3\n",
      "('TY', 'Atayal') 1\n"
     ]
    }
   ],
   "source": [
    "import collections\n",
    "pd=\"/home/mel_yang/projects/allTYstuff/TY_Treemix/\"\n",
    "myfile = open(pd+\"TYRelH1_k500_m1_reps/admix.txt\",'r')\n",
    "mytups=collections.defaultdict(int)\n",
    "for line in myfile:\n",
    "    x = line.split()\n",
    "    #print x[-2].split(':',1)[0],x[-1].split(':',1)[0]\n",
    "    mytups[(x[-2].split(':',1)[0],x[-1].split(':',1)[0])]+=1\n",
    "\n",
    "\n",
    "for i in mytups: print i, mytups[i]"
   ]
  },
  {
   "cell_type": "code",
   "execution_count": null,
   "metadata": {},
   "outputs": [],
   "source": [
    "uniqset=collections.Counter"
   ]
  },
  {
   "cell_type": "code",
   "execution_count": null,
   "metadata": {},
   "outputs": [],
   "source": []
  },
  {
   "cell_type": "code",
   "execution_count": 206,
   "metadata": {},
   "outputs": [
    {
     "name": "stdout",
     "output_type": "stream",
     "text": [
      "/home/mel_yang/projects/allTYstuff/TY_NA_Treemix/transv.NAmerBB1_k500_m3_reps/transv.outfile_NAmerBB1_k500_m3\n",
      "/home/mel_yang/projects/allTYstuff/TY_NA_Treemix/NAmerBB1_k500_m3_reps/outfile_NAmerBB1_k500_m3\n"
     ]
    }
   ],
   "source": [
    "%%bash\n",
    "pd=\"/home/mel_yang/projects/allTYstuff/TY_NA_Treemix/\"\n",
    "myid=\"NAmerHH0_m3\"\n",
    "myid=\"NAmerBB1_k500_m3\"\n",
    "addk=\"\"\n",
    "tv=\"transv.\"\n",
    "tv=\"\"\n",
    "for tv in \"transv.\" \"\"; do\n",
    "    newdir=${tv}${myid}_reps/\n",
    "    myfile=${pd}${newdir}${tv}${myid}${addk}\".trees\"\n",
    "    if test -e outfile; then rm outfile; fi\n",
    "    if test -e outtree; then rm outfile; fi\n",
    "    cp ${myfile} intree\n",
    "    outfile=${pd}${newdir}${tv}\"BSTree_\"${myid}${addk}\n",
    "    echo \"R\" > ${pd}${newdir}${tv}\"PhylipInputfile\"\n",
    "    echo \"Y\" >> ${pd}${newdir}${tv}\"PhylipInputfile\"\n",
    "    \n",
    "    phylip consense < ${pd}${newdir}${tv}\"PhylipInputfile\" > ${outfile}\n",
    "    \n",
    "    mv outfile ${pd}${newdir}${tv}outfile_${myid}${addk}\n",
    "    mv outtree ${pd}${newdir}${tv}outtree_${myid}${addk}\n",
    "    echo ${pd}${newdir}${tv}outfile_${myid}${addk}\n",
    "done"
   ]
  },
  {
   "cell_type": "code",
   "execution_count": null,
   "metadata": {},
   "outputs": [],
   "source": []
  },
  {
   "cell_type": "code",
   "execution_count": 131,
   "metadata": {},
   "outputs": [
    {
     "data": {
      "text/plain": [
       "'Made par file for convertf!'"
      ]
     },
     "execution_count": 131,
     "metadata": {},
     "output_type": "execute_result"
    }
   ],
   "source": [
    "import projmodules as pm\n",
    "fh = 'UPA_all2.rn1.071316.transv.eigen'\n",
    "subsetname = 'mergeTib'\n",
    "pd=\"/home/mel_yang/projects/allTYstuff/TY_NA_Treemix/\"\n",
    "pm.convertf_par(pd+fh,pd+fh+'.'+subsetname,'EIGENSTRAT',pd+'CONVERTF.EIG.'+fh+subsetname+'.par',indfilename=pd+fh+'.'+subsetname)\n"
   ]
  },
  {
   "cell_type": "code",
   "execution_count": 70,
   "metadata": {},
   "outputs": [
    {
     "name": "stdout",
     "output_type": "stream",
     "text": [
      "Overwriting /home/mel_yang/projects/allTYstuff/TY_NA_Treemix/maketreemixfileNAmerHH.py\n"
     ]
    }
   ],
   "source": [
    "%%writefile /home/mel_yang/projects/allTYstuff/TY_NA_Treemix/maketreemixfileNAmerHH.py\n",
    "from projmodules import treemix_mkinput\n",
    "\n",
    "##Use B1 for NAmer\n",
    "\n",
    "pd='/home/mel_yang/projects/allTYstuff/TY_NA_Treemix/'\n",
    "fhs=['UPA_all2.rn1.071316.transv.eigen.mergeTib' ,'UPA_all2.rn1.071316.eigen.mergeTib']\n",
    "subset='NAmerHH'\n",
    "setstotry=[['Mbuti','TY','UstIshim','Kostenki14','GoyetQ116-1','Vestonice16','Malta1','Mixe',\n",
    "            'Quechua','Surui','Anzick-1','Karitiana','Chane','Han','Ami','Atayal','Dai',\n",
    "            'AncTib'],\n",
    "           ['Mbuti','TY','UstIshim','Kostenki14','GoyetQ116-1','Vestonice16','Malta1','Mixe',\n",
    "            'Quechua','Surui','Anzick-1','Karitiana','Chane','Han','Ami','Atayal','Dai',\n",
    "            'AncTib','Tibetan'],\n",
    "           ['Mbuti','TY','UstIshim','Kostenki14','GoyetQ116-1','Vestonice16','Malta1','Mixe',\n",
    "            'Quechua','Surui','Anzick-1','Karitiana','Chane','Han','Ami','Atayal','Dai',\n",
    "           'Tibetan'],\n",
    "           ['Mbuti','TY','UstIshim','Kostenki14','GoyetQ116-1','Vestonice16','Malta1','Mixe',\n",
    "            'Quechua','Surui','Anzick-1','Karitiana','Chane','Han','Ami','Atayal','Dai',\n",
    "           'Tibetan','Papuan','Onge','Denisovan'],\n",
    "           ['Mbuti','TY','UstIshim','Kostenki14','GoyetQ116-1','Vestonice16','Malta1','Mixe',\n",
    "            'Quechua','Surui','Anzick-1','Karitiana','Chane','Han','Ami','Atayal','Dai',\n",
    "           'AncTib','Papuan','Onge','Denisovan'],\n",
    "           ]\n",
    "for fh in fhs:\n",
    "    for ind,i in enumerate(setstotry):\n",
    "        if ind <= 3: continue\n",
    "        print ind,i\n",
    "        treemix_mkinput(pd,fh,subset+str(ind),setstotry[ind])     "
   ]
  },
  {
   "cell_type": "code",
   "execution_count": 272,
   "metadata": {},
   "outputs": [
    {
     "name": "stdout",
     "output_type": "stream",
     "text": [
      "Overwriting /home/mel_yang/projects/allTYstuff/TY_NA_Treemix/maketreemixfileNAmerII.py\n"
     ]
    }
   ],
   "source": [
    "%%writefile /home/mel_yang/projects/allTYstuff/TY_NA_Treemix/maketreemixfileNAmerII.py\n",
    "from projmodules import treemix_mkinput\n",
    "\n",
    "##Use B1 for NAmer\n",
    "\n",
    "pd='/home/mel_yang/projects/allTYstuff/TY_NA_Treemix/'\n",
    "fhs=['UPA_all2.rn1.071316.transv.eigen.mergeTib' ,'UPA_all2.rn1.071316.eigen.mergeTib']\n",
    "subset='NAmerII'\n",
    "setstotry=[['Mbuti','TY','UstIshim','Kostenki14','Malta1','Mixe',\n",
    "            'Surui','Ami','Papuan','Denisovan','Altai']]\n",
    "for fh in fhs:\n",
    "    for ind,i in enumerate(setstotry):\n",
    "        #if ind == 0: continue\n",
    "        print ind,i\n",
    "        treemix_mkinput(pd,fh,subset+str(ind),setstotry[ind])     "
   ]
  },
  {
   "cell_type": "code",
   "execution_count": 72,
   "metadata": {},
   "outputs": [
    {
     "name": "stdout",
     "output_type": "stream",
     "text": [
      "Overwriting /home/mel_yang/projects/allTYstuff/TY_NA_Treemix/maketreemixgraphNAmerHH_addk500.sh\n"
     ]
    }
   ],
   "source": [
    "%%writefile /home/mel_yang/projects/allTYstuff/TY_NA_Treemix/maketreemixgraphNAmerHH_addk500.sh\n",
    "pd=\"/home/mel_yang/projects/allTYstuff/TY_NA_Treemix/\"\n",
    "tv=\"transv.\"\n",
    "#tv=\"\"\n",
    "#fh=\"UPA_all.041816.${tv}eigen.mergeTib\"\n",
    "fh=\"UPA_all2.rn1.071316.${tv}eigen.mergeTib\"\n",
    "for j in 4; do #`seq 0 3`; do\n",
    "    subset=\"NAmerHH${j}\"\n",
    "    gzip ${pd}${fh}.${subset}.treemix.txt\n",
    "    for i in `seq 0 10`; do \n",
    "        treemix -i ${pd}${fh}.${subset}.treemix.txt.gz -root Denisovan -o ${pd}${tv}${subset}_k500_rD_m${i} -k 500 -m ${i} > \\\n",
    "            ${pd}${tv}${subset}_k500_rD_m${i}.log\n",
    "    done\n",
    "done\n",
    "\n",
    "##R CMD BATCH Rcode.R\n"
   ]
  },
  {
   "cell_type": "code",
   "execution_count": 356,
   "metadata": {},
   "outputs": [
    {
     "name": "stdout",
     "output_type": "stream",
     "text": [
      "Overwriting /home/mel_yang/projects/allTYstuff/TY_NA_Treemix/maketreemixgraphNAmerII_addk500.sh\n"
     ]
    }
   ],
   "source": [
    "%%writefile /home/mel_yang/projects/allTYstuff/TY_NA_Treemix/maketreemixgraphNAmerII_addk500.sh\n",
    "pd=\"/home/mel_yang/projects/allTYstuff/TY_NA_Treemix/\"\n",
    "tv=\"transv.\"\n",
    "#tv=\"\"\n",
    "#fh=\"UPA_all.041816.${tv}eigen.mergeTib\"\n",
    "fh=\"UPA_all2.rn1.071316.${tv}eigen.mergeTib\"\n",
    "for j in 0; do #`seq 0 3`; do\n",
    "    subset=\"NAmerII${j}\"\n",
    "    gzip ${pd}${fh}.${subset}.treemix.txt\n",
    "    for i in 3; do #`seq 0 10`; do \n",
    "        treemix -i ${pd}${fh}.${subset}.treemix.txt.gz -root Altai,Denisovan -o ${pd}${tv}${subset}_k500_rDA_m${i} -k 500 -m ${i} > \\\n",
    "            ${pd}${tv}${subset}_k500_rDA_m${i}.log\n",
    "    done\n",
    "done\n",
    "\n",
    "##R CMD BATCH Rcode.R\n"
   ]
  },
  {
   "cell_type": "code",
   "execution_count": 333,
   "metadata": {},
   "outputs": [
    {
     "name": "stdout",
     "output_type": "stream",
     "text": [
      "Overwriting /home/mel_yang/projects/allTYstuff/TY_NA_Treemix/maketreemixgraphNAmerII_addk500.sh\n"
     ]
    }
   ],
   "source": [
    "%%writefile /home/mel_yang/projects/allTYstuff/TY_NA_Treemix/maketreemixgraphNAmerII_addk500.sh\n",
    "pd=\"/home/mel_yang/projects/allTYstuff/TY_NA_Treemix/\"\n",
    "tv=\"transv.\"\n",
    "#tv=\"\"\n",
    "#fh=\"UPA_all.041816.${tv}eigen.mergeTib\"\n",
    "fh=\"UPA_all2.rn1.071316.${tv}eigen.mergeTib\"\n",
    "for j in 0; do #`seq 0 3`; do\n",
    "    subset=\"NAmerII${j}\"\n",
    "    gzip ${pd}${fh}.${subset}.treemix.txt\n",
    "    for i in `seq 0 10`; do \n",
    "        treemix -i ${pd}${fh}.${subset}.treemix.txt.gz -o ${pd}${tv}${subset}_k500_noroot_m${i} -k 500 -m ${i} > \\\n",
    "            ${pd}${tv}${subset}_k500_noroot_m${i}.log\n",
    "    done\n",
    "done\n",
    "\n",
    "##R CMD BATCH Rcode.R\n"
   ]
  },
  {
   "cell_type": "code",
   "execution_count": 329,
   "metadata": {},
   "outputs": [
    {
     "name": "stdout",
     "output_type": "stream",
     "text": [
      "Overwriting /home/mel_yang/projects/allTYstuff/TY_NA_Treemix/bootstrap.TYRelII0_m3.sh\n"
     ]
    }
   ],
   "source": [
    "%%writefile /home/mel_yang/projects/allTYstuff/TY_NA_Treemix/bootstrap.TYRelII0_m3.sh\n",
    "##BOOTSTRAP\n",
    "pd=\"/home/mel_yang/projects/allTYstuff/TY_NA_Treemix/\"\n",
    "tv=\"transv.\"\n",
    "#tv=\"\"\n",
    "#fh=\"UPA_all.041816.${tv}eigen\"\n",
    "fh=\"UPA_all2.rn1.071316.\"${tv}\"eigen.mergeTib\"\n",
    "subset=\"NAmerII0\"\n",
    "mig=3\n",
    "reps=1000\n",
    "newdir=${tv}${subset}_m${mig}_reps/\n",
    "\n",
    "mkdir ${pd}${newdir}\n",
    "\n",
    "for rep in `seq 1 ${reps}`; do\n",
    "    #echo ${rep}\n",
    "    treemix -i ${pd}${fh}.${subset}.treemix.txt.gz -root Mbuti -bootstrap -k 500 -q -o ${pd}${newdir}${tv}${subset}_m${mig}_rep${rep} -m ${mig} > \\\n",
    "            ${pd}${newdir}${tv}${subset}_m${mig}_rep${rep}.log\n",
    "done"
   ]
  },
  {
   "cell_type": "code",
   "execution_count": 80,
   "metadata": {},
   "outputs": [
    {
     "name": "stdout",
     "output_type": "stream",
     "text": [
      "Overwriting /home/mel_yang/projects/allTYstuff/TY_NA_Treemix/bootstrap.TYRelHH4_m0.sh\n"
     ]
    }
   ],
   "source": [
    "%%writefile /home/mel_yang/projects/allTYstuff/TY_NA_Treemix/bootstrap.TYRelHH4_m0.sh\n",
    "##BOOTSTRAP\n",
    "pd=\"/home/mel_yang/projects/allTYstuff/TY_NA_Treemix/\"\n",
    "tv=\"transv.\"\n",
    "#tv=\"\"\n",
    "#fh=\"UPA_all.041816.${tv}eigen\"\n",
    "fh=\"UPA_all2.rn1.071316.\"${tv}\"eigen.mergeTib\"\n",
    "subset=\"NAmerHH4\"\n",
    "mig=0\n",
    "reps=1000\n",
    "newdir=${tv}${subset}_m${mig}_reps/\n",
    "\n",
    "mkdir ${pd}${newdir}\n",
    "\n",
    "for rep in `seq 1 ${reps}`; do\n",
    "    #echo ${rep}\n",
    "    treemix -i ${pd}${fh}.${subset}.treemix.txt.gz -root Denisovan -bootstrap -k 500 -q -o ${pd}${newdir}${tv}${subset}_m${mig}_rep${rep} -m ${mig} > \\\n",
    "            ${pd}${newdir}${tv}${subset}_m${mig}_rep${rep}.log\n",
    "done"
   ]
  },
  {
   "cell_type": "code",
   "execution_count": null,
   "metadata": {},
   "outputs": [],
   "source": []
  },
  {
   "cell_type": "code",
   "execution_count": 296,
   "metadata": {},
   "outputs": [
    {
     "name": "stdout",
     "output_type": "stream",
     "text": [
      "Overwriting /home/mel_yang/projects/allTYstuff/TY_NA_Treemix/maketreemixgraphNAmerHH_addk500.sh\n"
     ]
    }
   ],
   "source": [
    "%%writefile /home/mel_yang/projects/allTYstuff/TY_NA_Treemix/maketreemixgraphNAmerHH_addk500.sh\n",
    "pd=\"/home/mel_yang/projects/allTYstuff/TY_NA_Treemix/\"\n",
    "tv=\"transv.\"\n",
    "tv=\"\"\n",
    "#fh=\"UPA_all.041816.${tv}eigen.mergeTib\"\n",
    "fh=\"UPA_all2.rn1.071316.${tv}eigen.mergeTib\"\n",
    "for j in 2; do #`seq 0 3`; do\n",
    "    subset=\"NAmerHH${j}\"\n",
    "    gzip ${pd}${fh}.${subset}.treemix.txt\n",
    "    for i in `seq 0 10`; do \n",
    "        treemix -i ${pd}${fh}.${subset}.treemix.txt.gz -root Mbuti -o ${pd}${tv}${subset}_k500_m${i} -k 500 -m ${i} > \\\n",
    "            ${pd}${tv}${subset}_k500_m${i}.log\n",
    "    done\n",
    "done\n",
    "\n",
    "##R CMD BATCH Rcode.R\n"
   ]
  },
  {
   "cell_type": "code",
   "execution_count": 82,
   "metadata": {},
   "outputs": [
    {
     "name": "stdout",
     "output_type": "stream",
     "text": [
      "Overwriting /home/mel_yang/projects/allTYstuff/TY_NA_Treemix/Rcode.R\n"
     ]
    }
   ],
   "source": [
    "%%writefile /home/mel_yang/projects/allTYstuff/TY_NA_Treemix/Rcode.R\n",
    "\n",
    "source(\"plotting_funcs_MY.R\")\n",
    "transv=\"transv.\"\n",
    "#transv=\"\"\n",
    "fh=\"NAmerHH\"\n",
    "myk=500\n",
    "for (id in c(4)) {\n",
    "for (m in c(0,1,2,3,4,5,6,7,8,9,10)) {\n",
    "#pdf(paste(transv,fh,id,'.m',m,'.pdf',sep=''))\n",
    "png(paste('imagefiles/',transv,fh,id,\"_k\",myk,'_rD.m',m,'.png',sep=''),width=580,height=580)\n",
    "par(mfrow=c(2,1))\n",
    "plot_tree(paste(transv,fh,id,\"_k\",myk,\"_rD_m\",m,sep=\"\"),cex=1,plus=0.05,ybar=0.15,xmin=-0.015)\n",
    "plot_resid(paste(transv,fh,id,\"_k\",myk,\"_rD_m\",m,sep=\"\"),paste(fh,id,\".popns.txt\",sep=\"\"),cex=1)\n",
    "#plot_resid(paste(transv,fh,id,\"_m\",m,sep=\"\"),paste(fh,id,\".popns.txt\",sep=\"\"),cex=1,usemax=F,min=-0.001,max=0.001)\n",
    "dev.off()\n",
    "}\n",
    "}"
   ]
  },
  {
   "cell_type": "code",
   "execution_count": 268,
   "metadata": {},
   "outputs": [
    {
     "name": "stdout",
     "output_type": "stream",
     "text": [
      "Overwriting /home/mel_yang/projects/allTYstuff/TY_NA_Treemix/bootstrap.TYRelHH1_m0.sh\n"
     ]
    }
   ],
   "source": [
    "%%writefile /home/mel_yang/projects/allTYstuff/TY_NA_Treemix/bootstrap.TYRelHH1_m0.sh\n",
    "##BOOTSTRAP\n",
    "pd=\"/home/mel_yang/projects/allTYstuff/TY_NA_Treemix/\"\n",
    "tv=\"transv.\"\n",
    "#tv=\"\"\n",
    "#fh=\"UPA_all.041816.${tv}eigen\"\n",
    "fh=\"UPA_all2.rn1.071316.\"${tv}\"eigen.mergeTib\"\n",
    "subset=\"NAmerHH1\"\n",
    "mig=0\n",
    "reps=1000\n",
    "newdir=${tv}${subset}_m${mig}_reps/\n",
    "\n",
    "mkdir ${pd}${newdir}\n",
    "\n",
    "for rep in `seq 1 ${reps}`; do\n",
    "    #echo ${rep}\n",
    "    treemix -i ${pd}${fh}.${subset}.treemix.txt.gz -root Mbuti -bootstrap -k 500 -q -o ${pd}${newdir}${tv}${subset}_m${mig}_rep${rep} -m ${mig} > \\\n",
    "            ${pd}${newdir}${tv}${subset}_m${mig}_rep${rep}.log\n",
    "done"
   ]
  },
  {
   "cell_type": "code",
   "execution_count": 349,
   "metadata": {},
   "outputs": [
    {
     "name": "stdout",
     "output_type": "stream",
     "text": [
      "Overwriting /home/mel_yang/projects/allTYstuff/TY_NA_Treemix/bootstrap.TYRelII0_m3.sh\n"
     ]
    }
   ],
   "source": [
    "%%writefile /home/mel_yang/projects/allTYstuff/TY_NA_Treemix/bootstrap.TYRelII0_m3.sh\n",
    "##BOOTSTRAP\n",
    "pd=\"/home/mel_yang/projects/allTYstuff/TY_NA_Treemix/\"\n",
    "tv=\"transv.\"\n",
    "#tv=\"\"\n",
    "#fh=\"UPA_all.041816.${tv}eigen\"\n",
    "fh=\"UPA_all2.rn1.071316.\"${tv}\"eigen.mergeTib\"\n",
    "subset=\"NAmerII0\"\n",
    "mig=3\n",
    "reps=1000\n",
    "newdir=${tv}${subset}_m${mig}_noroot_reps/\n",
    "\n",
    "mkdir ${pd}${newdir}\n",
    "\n",
    "for rep in `seq 1 500`; do\n",
    "#for rep in `seq 501 1000`; do\n",
    "    #echo ${rep}\n",
    "    treemix -i ${pd}${fh}.${subset}.treemix.txt.gz -bootstrap -k 500 -q -o ${pd}${newdir}${tv}${subset}_m${mig}_noroot_rep${rep} -m ${mig} > \\\n",
    "            ${pd}${newdir}${tv}${subset}_m${mig}_noroot_rep${rep}.log\n",
    "done"
   ]
  },
  {
   "cell_type": "code",
   "execution_count": null,
   "metadata": {},
   "outputs": [],
   "source": []
  },
  {
   "cell_type": "code",
   "execution_count": 47,
   "metadata": {},
   "outputs": [
    {
     "name": "stdout",
     "output_type": "stream",
     "text": [
      "Overwriting /home/mel_yang/projects/allTYstuff/TY_NA_Treemix/maketreemixfileNAmerGG.py\n"
     ]
    }
   ],
   "source": [
    "%%writefile /home/mel_yang/projects/allTYstuff/TY_NA_Treemix/maketreemixfileNAmerGG.py\n",
    "from projmodules import treemix_mkinput\n",
    "\n",
    "##Use B1 for NAmer\n",
    "\n",
    "pd='/home/mel_yang/projects/allTYstuff/TY_NA_Treemix/'\n",
    "fhs=['UPA_all2.rn1.071316.eigen'] #,'UPA_all2.rn1.071316.eigen']\n",
    "subset='NAmerGG'\n",
    "setstotry=[['Mbuti','TY','UstIshim','Kostenki14','GoyetQ116-1','Vestonice16','Malta1','Mixe',\n",
    "            'Quechua','Surui','Anzick-1','Karitiana','Chane','Han','Ami','Atayal','Dai',\n",
    "            'Chokhopani1','Mebrak63','Samdzong10','Samdzong35','Samdzong41'],]\n",
    "for fh in fhs:\n",
    "    for ind,i in enumerate(setstotry):\n",
    "        print ind,i\n",
    "        treemix_mkinput(pd,fh,subset+str(ind),setstotry[ind])     "
   ]
  },
  {
   "cell_type": "code",
   "execution_count": 119,
   "metadata": {},
   "outputs": [
    {
     "name": "stdout",
     "output_type": "stream",
     "text": [
      "Overwriting /home/mel_yang/projects/allTYstuff/TY_NA_Treemix/maketreemixgraphNAmerGG_addk500.sh\n"
     ]
    }
   ],
   "source": [
    "%%writefile /home/mel_yang/projects/allTYstuff/TY_NA_Treemix/maketreemixgraphNAmerGG_addk500.sh\n",
    "pd=\"/home/mel_yang/projects/allTYstuff/TY_NA_Treemix/\"\n",
    "tv=\"transv.\"\n",
    "#tv=\"\"\n",
    "#fh=\"UPA_all.041816.${tv}eigen\"\n",
    "fh=\"UPA_all2.rn1.071316.${tv}eigen\"\n",
    "for j in 0; do #`seq 0 3`; do\n",
    "    subset=\"NAmerGG${j}\"\n",
    "    gzip ${pd}${fh}.${subset}.treemix.txt\n",
    "    for i in `seq 0 10`; do \n",
    "        treemix -i ${pd}${fh}.${subset}.treemix.txt.gz -root Mbuti -o ${pd}${tv}${subset}_k500_m${i} -k 500 -m ${i} > \\\n",
    "            ${pd}${tv}${subset}_k500_m${i}.log\n",
    "    done\n",
    "done\n",
    "\n",
    "##R CMD BATCH Rcode.R\n"
   ]
  },
  {
   "cell_type": "code",
   "execution_count": 60,
   "metadata": {},
   "outputs": [
    {
     "name": "stdout",
     "output_type": "stream",
     "text": [
      "Overwriting /home/mel_yang/projects/allTYstuff/TY_NA_Treemix/maketreemixgraphNAmerGG.sh\n"
     ]
    }
   ],
   "source": [
    "%%writefile /home/mel_yang/projects/allTYstuff/TY_NA_Treemix/maketreemixgraphNAmerGG.sh\n",
    "pd=\"/home/mel_yang/projects/allTYstuff/TY_NA_Treemix/\"\n",
    "tv=\"transv.\"\n",
    "tv=\"\"\n",
    "fh=\"UPA_all2.rn1.071316.${tv}eigen\"\n",
    "for j in 0; do #`seq 0 3`; do\n",
    "    subset=\"NAmerGG${j}\"\n",
    "    gzip ${pd}${fh}.${subset}.treemix.txt\n",
    "    for i in `seq 4 10`; do #`seq 0 3`; do \n",
    "        treemix -i ${pd}${fh}.${subset}.treemix.txt.gz -root Mbuti -o ${pd}${tv}${subset}_m${i} -m ${i} > \\\n",
    "            ${pd}${tv}${subset}_m${i}.log\n",
    "    done\n",
    "done\n",
    "\n",
    "##R CMD BATCH Rcode.R\n"
   ]
  },
  {
   "cell_type": "code",
   "execution_count": null,
   "metadata": {},
   "outputs": [],
   "source": []
  },
  {
   "cell_type": "code",
   "execution_count": 218,
   "metadata": {},
   "outputs": [
    {
     "name": "stdout",
     "output_type": "stream",
     "text": [
      "Overwriting /home/mel_yang/projects/allTYstuff/TY_NA_Treemix/bootstrap.TYRelGG0_m2.sh\n"
     ]
    }
   ],
   "source": [
    "%%writefile /home/mel_yang/projects/allTYstuff/TY_NA_Treemix/bootstrap.TYRelGG0_m2.sh\n",
    "##BOOTSTRAP\n",
    "pd=\"/home/mel_yang/projects/allTYstuff/TY_NA_Treemix/\"\n",
    "tv=\"transv.\"\n",
    "tv=\"\"\n",
    "#fh=\"UPA_all.041816.${tv}eigen\"\n",
    "fh=\"UPA_all2.rn1.071316.\"${tv}\"eigen\"\n",
    "subset=\"NAmerGG0\"\n",
    "mig=2\n",
    "reps=1000\n",
    "newdir=${tv}${subset}_m${mig}_reps/\n",
    "\n",
    "mkdir ${pd}${newdir}\n",
    "\n",
    "for rep in `seq 1 ${reps}`; do\n",
    "    #echo ${rep}\n",
    "    treemix -i ${pd}${fh}.${subset}.treemix.txt.gz -root Mbuti -bootstrap -k 500 -q -o ${pd}${newdir}${tv}${subset}_m${mig}_rep${rep} -m ${mig} > \\\n",
    "            ${pd}${newdir}${tv}${subset}_m${mig}_rep${rep}.log\n",
    "done"
   ]
  },
  {
   "cell_type": "code",
   "execution_count": 219,
   "metadata": {},
   "outputs": [
    {
     "name": "stdout",
     "output_type": "stream",
     "text": [
      "Overwriting /home/mel_yang/projects/allTYstuff/TY_NA_Treemix/bootstrap.TYRelGG0_m2.sh\n"
     ]
    }
   ],
   "source": []
  },
  {
   "cell_type": "code",
   "execution_count": 214,
   "metadata": {},
   "outputs": [],
   "source": [
    "%%bash\n",
    "##BOOTSTRAP\n",
    "pd=\"/home/mel_yang/projects/allTYstuff/TY_NA_Treemix/\"\n",
    "tv=\"transv.\"\n",
    "tv=\"\"\n",
    "fh=\"UPA_all2.rn1.071316.${tv}eigen.\"\n",
    "subset=\"NAmerG0\"\n",
    "mig=1\n",
    "reps=1000\n",
    "newdir=${tv}${subset}_m${mig}_reps/\n",
    "\n",
    "##zcat ${pd}${tv}${subset}_m${mig}.treeout.gz | head -n1 > ${pd}${newdir}${tv}${subset}_m${mig}.trees\n",
    "echo \"\" > ${pd}${newdir}${tv}${subset}_m${mig}.trees\n",
    "for rep in `seq 1 ${reps}`; do\n",
    "    zcat ${pd}${newdir}${fh}${subset}_m${mig}_rep${rep}.treeout.gz | head -n1 >> \\\n",
    "            ${pd}${newdir}${tv}${subset}_m${mig}.trees\n",
    "done"
   ]
  },
  {
   "cell_type": "code",
   "execution_count": 216,
   "metadata": {},
   "outputs": [
    {
     "name": "stdout",
     "output_type": "stream",
     "text": [
      "/home/mel_yang/projects/allTYstuff/TY_NA_Treemix/NAmerG0_m1_reps/outfile_NAmerG0_m1\n"
     ]
    }
   ],
   "source": [
    "%%bash\n",
    "pd=\"/home/mel_yang/projects/allTYstuff/TY_NA_Treemix/\"\n",
    "myid=\"NAmerG0_m1\"\n",
    "tv=\"transv.\"\n",
    "tv=\"\"\n",
    "newdir=${tv}${myid}_reps/\n",
    "myfile=${pd}${newdir}${tv}${myid}\".trees\"\n",
    "if test -e outfile; then rm outfile; fi\n",
    "if test -e outtree; then rm outfile; fi\n",
    "cp ${myfile} intree\n",
    "outfile=${pd}${newdir}${tv}\"BSTree_\"${myid}\n",
    "echo \"R\" > ${pd}${newdir}${tv}\"PhylipInputfile\"\n",
    "echo \"Y\" >> ${pd}${newdir}${tv}\"PhylipInputfile\"\n",
    "\n",
    "phylip consense < ${pd}${newdir}${tv}\"PhylipInputfile\" > ${outfile}\n",
    "\n",
    "mv outfile ${pd}${newdir}${tv}outfile_${myid}\n",
    "mv outtree ${pd}${newdir}${tv}outtree_${myid}\n",
    "echo ${pd}${newdir}${tv}outfile_${myid}"
   ]
  },
  {
   "cell_type": "code",
   "execution_count": null,
   "metadata": {},
   "outputs": [],
   "source": [
    "%%writefile /home/mel_yang/projects/allTYstuff/TY_NA_Treemix/maketreemixfileNAmerG.py\n",
    "from projmodules import treemix_mkinput\n",
    "\n",
    "##Use G0 for Anc Tib + NAmer\n",
    "\n",
    "pd=\"/home/mel_yang/projects/allTYstuff/TY_NA_Treemix/\"\n",
    "fhs=['UPA_all2.rn1.071316.transv.eigen','UPA_all2.rn1.071316.eigen']\n",
    "subset='NAmerG'\n",
    "setstotry=[['Mbuti','TY','UstIshim','Kostenki14','GoyetQ116-1','Malta1','Mixe',\n",
    "            'Quechua','Surui','Clovis','Karitiana','Chane','Han','Ami','Atayal','Dai',\n",
    "            'Chokhopani1','Mebrak63','Samdzong10','Samdzong35','Samdzong41'],]\n",
    "for fh in fhs:\n",
    "    for ind,i in enumerate(setstotry):\n",
    "        print ind,i\n",
    "        treemix_mkinput(pd,fh,subset+str(ind),setstotry[ind])     "
   ]
  },
  {
   "cell_type": "code",
   "execution_count": null,
   "metadata": {},
   "outputs": [],
   "source": []
  },
  {
   "cell_type": "code",
   "execution_count": null,
   "metadata": {},
   "outputs": [],
   "source": []
  },
  {
   "cell_type": "code",
   "execution_count": 234,
   "metadata": {},
   "outputs": [
    {
     "data": {
      "image/png": "[encoded data removed]",
      "text/plain": [
       "<matplotlib.figure.Figure at 0x7fae751fa7d0>"
      ]
     },
     "metadata": {},
     "output_type": "display_data"
    }
   ],
   "source": [
    "%matplotlib inline\n",
    "import matplotlib.pyplot as plt\n",
    "import projmodules as pm\n",
    "\n",
    "\n",
    "pD = \"/home/mel_yang/projects/allTYstuff/SOMX3_Treemix/\"\n",
    "myfile = open(pD+\"LSE_110216.txt\",'r')\n",
    "for line in myfile:\n",
    "    x=line.split()\n",
    "    if len(x) == 0: continue\n",
    "    if x[0]=='allA': \n",
    "        mydat = {}\n",
    "        for i in x[1:]: mydat[i] = []\n",
    "        mytitles = x[1:]\n",
    "    else:\n",
    "        for ind,i in enumerate(x[1:]): mydat[mytitles[ind]].append(float(i))\n",
    "titles = ['All Sites','Transversions Only']\n",
    "fig = plt.figure(figsize=(4,3))\n",
    "for mysubplot,mylabel in enumerate(['A','B']):\n",
    "    #ax1=fig.add_subplot(1,2,mysubplot+1)\n",
    "    mydatrev = {}\n",
    "    myset = ['GG0%s' % (mylabel) for i in range(1)]\n",
    "    mysetrev = ['GG0' for i in range(1)]\n",
    "    for ind,i in enumerate(myset): mydatrev[mysetrev[ind]] = mydat[i]\n",
    "    xs = range(11)\n",
    "    #plt.title(titles[mysubplot])\n",
    "    #plt.axvline(x=3,color='gray')\n",
    "    plt.xlabel('# of Migration Events')\n",
    "    plt.ylabel('|LSE|')\n",
    "    plt.ylim((0,13))\n",
    "    for ys in mysetrev:\n",
    "        plt.plot(xs,mydatrev[ys],label=titles[mysubplot])\n",
    "    lg=plt.legend()\n",
    "    lg.get_frame().set_linewidth(0) "
   ]
  },
  {
   "cell_type": "code",
   "execution_count": null,
   "metadata": {},
   "outputs": [],
   "source": []
  },
  {
   "cell_type": "code",
   "execution_count": null,
   "metadata": {},
   "outputs": [],
   "source": []
  },
  {
   "cell_type": "code",
   "execution_count": null,
   "metadata": {},
   "outputs": [],
   "source": []
  },
  {
   "cell_type": "code",
   "execution_count": null,
   "metadata": {},
   "outputs": [],
   "source": []
  },
  {
   "cell_type": "code",
   "execution_count": null,
   "metadata": {},
   "outputs": [],
   "source": []
  },
  {
   "cell_type": "code",
   "execution_count": 104,
   "metadata": {},
   "outputs": [
    {
     "data": {
      "image/png": "[encoded data removed]",
      "text/plain": [
       "<matplotlib.figure.Figure at 0x7fdb4fcf4710>"
      ]
     },
     "metadata": {},
     "output_type": "display_data"
    }
   ],
   "source": [
    "%matplotlib inline\n",
    "import TY_maindata as md\n",
    "import matplotlib.pyplot as plt\n",
    "import projmodules as pm\n",
    "\n",
    "\n",
    "pD = \"/home/mel_yang/projects/allTYstuff/SOMX3_Treemix/\"\n",
    "myfile = open(pD+\"LSE_noMalta1.txt\",'r')\n",
    "for line in myfile:\n",
    "    x=line.split()\n",
    "    if len(x) == 0: continue\n",
    "    if x[0]=='Mig': \n",
    "        mydat = {}\n",
    "        for i in x[1:]: mydat[i] = []\n",
    "        mytitles = x[1:]\n",
    "    else:\n",
    "        for ind,i in enumerate(x[1:]): mydat[mytitles[ind]].append(float(i))\n",
    "titles = ['All Sites','Transversions Only']\n",
    "fig = plt.figure(figsize=(8,3))\n",
    "for mysubplot,mylabel in enumerate(['A','B']):\n",
    "    ax1=fig.add_subplot(1,2,mysubplot+1)\n",
    "    mydatrev = {}\n",
    "    myset = ['Group%s%s' % (str(i),mylabel) for i in range(1,5)]\n",
    "    mysetrev = ['Set %s' % (str(i)) for i in range(1,5)]\n",
    "    for ind,i in enumerate(myset): mydatrev[mysetrev[ind]] = mydat[i]\n",
    "    xs = range(11)\n",
    "    plt.title(titles[mysubplot])\n",
    "    #plt.axvline(x=3,color='gray')\n",
    "    #plt.axhline(y=3,color='gray')\n",
    "    plt.xlabel('# of Migration Events')\n",
    "    plt.ylabel('|LSE|')\n",
    "    for ys in mysetrev:\n",
    "        plt.plot(xs,mydatrev[ys],label=ys)\n",
    "lg=plt.legend(bbox_to_anchor=(-1.1,-0.08,2,-0.08),ncol=4,mode=\"expand\",frameon='None')\n",
    "lg.get_frame().set_linewidth(0) "
   ]
  },
  {
   "cell_type": "code",
   "execution_count": 46,
   "metadata": {},
   "outputs": [
    {
     "data": {
      "image/png": "[encoded data removed]",
      "text/plain": [
       "<matplotlib.figure.Figure at 0x7fdb505d5f10>"
      ]
     },
     "metadata": {},
     "output_type": "display_data"
    }
   ],
   "source": [
    "%matplotlib inline\n",
    "import TY_maindata as md\n",
    "import matplotlib.pyplot as plt\n",
    "import projmodules as pm\n",
    "\n",
    "\n",
    "pD = \"/home/mel_yang/projects/allTYstuff/SOMX3_Treemix/\"\n",
    "myfile = open(pD+\"LSE.txt\",'r')\n",
    "for line in myfile:\n",
    "    x=line.split()\n",
    "    if len(x) == 0: continue\n",
    "    if x[0]=='Mig': \n",
    "        mydat = {}\n",
    "        for i in x[1:]: mydat[i] = []\n",
    "        mytitles = x[1:]\n",
    "    else:\n",
    "        for ind,i in enumerate(x[1:]): mydat[mytitles[ind]].append(float(i))\n",
    "titles = ['All Sites','Transversions Only']\n",
    "fig = plt.figure(figsize=(8,3))\n",
    "for mysubplot,mylabel in enumerate(['A','B']):\n",
    "    ax1=fig.add_subplot(1,2,mysubplot+1)\n",
    "    mydatrev = {}\n",
    "    myset = ['Group%s%s' % (str(i),mylabel) for i in range(1,5)]\n",
    "    mysetrev = ['Set %s' % (str(i)) for i in range(1,5)]\n",
    "    for ind,i in enumerate(myset): mydatrev[mysetrev[ind]] = mydat[i]\n",
    "    xs = range(11)\n",
    "    plt.title(titles[mysubplot])\n",
    "    #plt.axvline(x=3,color='gray')\n",
    "    plt.xlabel('# of Migration Events')\n",
    "    plt.ylabel('|LSE|')\n",
    "    for ys in mysetrev:\n",
    "        plt.plot(xs,mydatrev[ys],label=ys)\n",
    "lg=plt.legend(bbox_to_anchor=(-1.1,-0.08,2,-0.08),ncol=4,mode=\"expand\",frameon='None')\n",
    "lg.get_frame().set_linewidth(0) "
   ]
  },
  {
   "cell_type": "code",
   "execution_count": 65,
   "metadata": {},
   "outputs": [
    {
     "data": {
      "image/png": "[encoded data removed]",
      "text/plain": [
       "<matplotlib.figure.Figure at 0x7f9a0f2bb590>"
      ]
     },
     "metadata": {},
     "output_type": "display_data"
    }
   ],
   "source": [
    "%matplotlib inline\n",
    "import matplotlib.pyplot as plt\n",
    "import projmodules as pm\n",
    "\n",
    "\n",
    "pD = \"/home/mel_yang/projects/allTYstuff/SOMX3_Treemix/\"\n",
    "myfile = open(pD+\"updated_LSE_noMalta1.txt\",'r')\n",
    "for line in myfile:\n",
    "    x=line.split()\n",
    "    if len(x) == 0: continue\n",
    "    if x[0]=='Mig': \n",
    "        mydat = {}\n",
    "        for i in x[1:]: mydat[i] = []\n",
    "        mytitles = x[1:]\n",
    "    else:\n",
    "        for ind,i in enumerate(x[1:]): mydat[mytitles[ind]].append(float(i))\n",
    "titles = ['All Sites','Transversions Only']\n",
    "fig = plt.figure(figsize=(4,3))\n",
    "for mysubplot,mylabel in enumerate(['A','B']):\n",
    "    #ax1=fig.add_subplot(1,2,mysubplot+1)\n",
    "    mydatrev = {}\n",
    "    myset = ['NAmer%s' % (mylabel) for i in range(1)]\n",
    "    mysetrev = ['NAmer' for i in range(1)]\n",
    "    for ind,i in enumerate(myset): mydatrev[mysetrev[ind]] = mydat[i]\n",
    "    xs = range(11)\n",
    "    #plt.title(titles[mysubplot])\n",
    "    #plt.axvline(x=3,color='gray')\n",
    "    plt.xlabel('# of Migration Events')\n",
    "    plt.ylabel('|LSE|')\n",
    "    for ys in mysetrev:\n",
    "        plt.plot(xs,mydatrev[ys],label=titles[mysubplot])\n",
    "    lg=plt.legend()\n",
    "    lg.get_frame().set_linewidth(0) "
   ]
  },
  {
   "cell_type": "code",
   "execution_count": 71,
   "metadata": {},
   "outputs": [
    {
     "name": "stdout",
     "output_type": "stream",
     "text": [
      "66\n",
      "15\n",
      "12\n",
      "0\n",
      "8\n",
      "23\n",
      "0\n",
      "0\n",
      "1\n",
      "0\n",
      "0\n",
      "0\n",
      "0\n",
      "0\n",
      "0\n",
      "0\n",
      "0\n",
      "0\n",
      "0\n",
      "0\n",
      "0\n",
      "0\n",
      "0\n",
      "0\n",
      "0\n",
      "0\n",
      "1\n",
      "0\n"
     ]
    }
   ],
   "source": [
    "%%bash\n",
    "\n",
    "##Amt Malta1 Admix with EAsns and/or TY in bootstrap replicates\n",
    "pD=\"/home/mel_yang/projects/allTYstuff/TY_Treemix/\"\n",
    "fh=\"transv.TYRelD3_m2_rep\"\n",
    "inv1=\"-v \"\n",
    "zcat ${pD}${fh}s/${fh}*.treeout.gz| grep NA | grep Malta1 | grep Ami | grep Han | grep Dai | grep Atayal | grep TY | wc -l\n",
    "zcat ${pD}${fh}s/${fh}*.treeout.gz| grep NA | grep Malta1 | grep Ami | grep Han | grep Dai | grep Atayal | grep -v TY | wc -l\n",
    "zcat ${pD}${fh}s/${fh}*.treeout.gz| grep NA | grep Malta1 | grep Ami | grep -v Han | grep -v Dai | grep -v Atayal | grep -v TY | wc -l\n",
    "zcat ${pD}${fh}s/${fh}*.treeout.gz| grep NA | grep Malta1 | grep -v Ami | grep Han | grep -v Dai | grep -v Atayal | grep -v TY | wc -l\n",
    "zcat ${pD}${fh}s/${fh}*.treeout.gz| grep NA | grep Malta1 | grep -v Ami | grep -v Han | grep Dai | grep -v Atayal | grep -v TY | wc -l\n",
    "zcat ${pD}${fh}s/${fh}*.treeout.gz| grep NA | grep Malta1 | grep -v Ami | grep -v Han | grep -v Dai | grep Atayal | grep -v TY | wc -l\n",
    "\n",
    "zcat ${pD}${fh}s/${fh}*.treeout.gz| grep NA | grep Malta1 | grep Ami | grep Han | grep -v Dai | grep -v Atayal | grep -v TY | wc -l\n",
    "zcat ${pD}${fh}s/${fh}*.treeout.gz| grep NA | grep Malta1 | grep Ami | grep -v Han | grep Dai | grep -v Atayal | grep -v TY | wc -l\n",
    "zcat ${pD}${fh}s/${fh}*.treeout.gz| grep NA | grep Malta1 | grep Ami | grep -v Han | grep -v Dai | grep Atayal | grep -v TY | wc -l\n",
    "zcat ${pD}${fh}s/${fh}*.treeout.gz| grep NA | grep Malta1 | grep -v Ami | grep Han | grep Dai | grep -v Atayal | grep -v TY | wc -l\n",
    "zcat ${pD}${fh}s/${fh}*.treeout.gz| grep NA | grep Malta1 | grep -v Ami | grep Han | grep -v Dai | grep Atayal | grep -v TY | wc -l\n",
    "zcat ${pD}${fh}s/${fh}*.treeout.gz| grep NA | grep Malta1 | grep -v Ami | grep -v Han | grep Dai | grep Atayal | grep -v TY | wc -l\n",
    "\n",
    "zcat ${pD}${fh}s/${fh}*.treeout.gz| grep NA | grep Malta1 | grep Ami | grep Han | grep Dai | grep -v Atayal | grep -v TY | wc -l\n",
    "zcat ${pD}${fh}s/${fh}*.treeout.gz| grep NA | grep Malta1 | grep Ami | grep Han | grep -v Dai | grep Atayal | grep -v TY | wc -l\n",
    "zcat ${pD}${fh}s/${fh}*.treeout.gz| grep NA | grep Malta1 | grep -v Ami | grep Han | grep Dai | grep Atayal | grep -v TY | wc -l\n",
    "\n",
    "zcat ${pD}${fh}s/${fh}*.treeout.gz| grep NA | grep Malta1 | grep Ami | grep -v Han | grep -v Dai | grep -v Atayal | grep TY | wc -l\n",
    "zcat ${pD}${fh}s/${fh}*.treeout.gz| grep NA | grep Malta1 | grep -v Ami | grep Han | grep -v Dai | grep -v Atayal | grep TY | wc -l\n",
    "zcat ${pD}${fh}s/${fh}*.treeout.gz| grep NA | grep Malta1 | grep -v Ami | grep -v Han | grep Dai | grep -v Atayal | grep TY | wc -l\n",
    "zcat ${pD}${fh}s/${fh}*.treeout.gz| grep NA | grep Malta1 | grep -v Ami | grep -v Han | grep -v Dai | grep Atayal | grep TY | wc -l\n",
    "\n",
    "zcat ${pD}${fh}s/${fh}*.treeout.gz| grep NA | grep Malta1 | grep Ami | grep Han | grep -v Dai | grep -v Atayal | grep TY | wc -l\n",
    "zcat ${pD}${fh}s/${fh}*.treeout.gz| grep NA | grep Malta1 | grep Ami | grep -v Han | grep Dai | grep -v Atayal | grep TY | wc -l\n",
    "zcat ${pD}${fh}s/${fh}*.treeout.gz| grep NA | grep Malta1 | grep Ami | grep -v Han | grep -v Dai | grep Atayal | grep TY | wc -l\n",
    "zcat ${pD}${fh}s/${fh}*.treeout.gz| grep NA | grep Malta1 | grep -v Ami | grep Han | grep Dai | grep -v Atayal | grep TY | wc -l\n",
    "zcat ${pD}${fh}s/${fh}*.treeout.gz| grep NA | grep Malta1 | grep -v Ami | grep Han | grep -v Dai | grep Atayal | grep TY | wc -l\n",
    "zcat ${pD}${fh}s/${fh}*.treeout.gz| grep NA | grep Malta1 | grep -v Ami | grep -v Han | grep Dai | grep Atayal | grep TY | wc -l\n",
    "\n",
    "zcat ${pD}${fh}s/${fh}*.treeout.gz| grep NA | grep Malta1 | grep Ami | grep Han | grep Dai | grep -v Atayal | grep TY | wc -l\n",
    "zcat ${pD}${fh}s/${fh}*.treeout.gz| grep NA | grep Malta1 | grep Ami | grep Han | grep -v Dai | grep Atayal | grep TY | wc -l\n",
    "zcat ${pD}${fh}s/${fh}*.treeout.gz| grep NA | grep Malta1 | grep -v Ami | grep Han | grep Dai | grep Atayal | grep TY | wc -l"
   ]
  },
  {
   "cell_type": "code",
   "execution_count": 73,
   "metadata": {},
   "outputs": [
    {
     "name": "stdout",
     "output_type": "stream",
     "text": [
      "0.00045789\n",
      "0.000462528\n",
      "0.000519456\n",
      "0.000523477\n"
     ]
    }
   ],
   "source": [
    "%%bash\n",
    "pD=\"/home/mel_yang/projects/allTYstuff/TY_Treemix/\"\n",
    "fh=\"transv.TYRelD3_m2\"\n",
    "for fh in D1_m0 B7_m0 D3_m0 B9_m0; do\n",
    "    zcat ${pD}transv.TYRel${fh}.covse.gz | head -n12 | tail -n1 | cut -d' ' -f5\n",
    "done\n"
   ]
  },
  {
   "cell_type": "code",
   "execution_count": null,
   "metadata": {},
   "outputs": [],
   "source": []
  }
 ],
 "metadata": {
  "kernelspec": {
   "display_name": "Python 2",
   "language": "python",
   "name": "python2"
  },
  "language_info": {
   "codemirror_mode": {
    "name": "ipython",
    "version": 2
   },
   "file_extension": ".py",
   "mimetype": "text/x-python",
   "name": "python",
   "nbconvert_exporter": "python",
   "pygments_lexer": "ipython2",
   "version": "2.7.13"
  }
 },
 "nbformat": 4,
 "nbformat_minor": 1
}
