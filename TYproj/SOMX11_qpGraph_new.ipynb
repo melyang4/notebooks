{
 "cells": [
  {
   "cell_type": "code",
   "execution_count": 1,
   "metadata": {},
   "outputs": [
    {
     "name": "stdout",
     "output_type": "stream",
     "text": [
      "Writing /home/mel_yang/projects/allTYstuff/SOMX11_qpGraph/A2begin.py\n"
     ]
    }
   ],
   "source": [
    "%%writefile /home/mel_yang/projects/allTYstuff/SOMX11_qpGraph/A2begin.py\n",
    "import TY_maindata as md\n",
    "import projmodules as pm\n",
    "import multiprocessing\n",
    "from multiprocessing import Pool\n",
    "\n",
    "\n",
    "def do_work(myvars):\n",
    "    pD,fh,subset,pop1,basegraphname=myvars\n",
    "    wanttoadd = [pop1,pop1]\n",
    "    pm.graph_addnode_uniq(pD,fh,subset,basegraphname,wanttoadd,comments='NA')\n",
    "    pm.graph_addadmix_uniq(pD,fh,subset,basegraphname,wanttoadd,comments='NA')\n",
    "    return \"done \"+basegraphname\n",
    "\n",
    "pD = \"/home/mel_yang/projects/allTYstuff/SOMX11_qpGraph/\"\n",
    "fh = 'UPA_all2'\n",
    "subset='mTY'\n",
    "basegraphname,pop1 = ('A2','Tianyuan')\n",
    "pm.graph_addnode_uniq(pD,fh,subset,basegraphname,[pop1,pop1],comments='NA')\n",
    "#pm.graph_addadmix_uniq(pD,fh,subset,basegraphname,[pop1,pop1],comments='NA')"
   ]
  },
  {
   "cell_type": "code",
   "execution_count": 135,
   "metadata": {},
   "outputs": [
    {
     "name": "stdout",
     "output_type": "stream",
     "text": [
      "Overwriting /home/mel_yang/projects/allTYstuff/SOMX11_qpGraph/A2_oneattime.py\n"
     ]
    }
   ],
   "source": [
    "%%writefile /home/mel_yang/projects/allTYstuff/SOMX11_qpGraph/A2_oneattime.py\n",
    "#import TY_maindata as md\n",
    "import projmodules as pm\n",
    "import multiprocessing\n",
    "from multiprocessing import Pool\n",
    "\n",
    "\n",
    "def do_work(myvars):\n",
    "    pD,fh,subset,pop1,basegraphname=myvars\n",
    "    wanttoadd = [pop1,pop1]\n",
    "    pm.graph_addnode_uniq(pD,fh,subset,basegraphname,wanttoadd,comments='NA')\n",
    "    pm.graph_addadmix_uniq(pD,fh,subset,basegraphname,wanttoadd,comments='NA')\n",
    "    return \"done \"+basegraphname\n",
    "\n",
    "pD = \"/home/mel_yang/projects/allTYstuff/SOMX11_qpGraph/\"\n",
    "fh = 'UPA_all2'\n",
    "subset='mTY'\n",
    "basegraphname,pop1 = ('A2','Tianyuan')\n",
    "basegraphname,pop1 = ('Tianyuan.A2_n1','GoyetQ116-1')\n",
    "basegraphname,pop1 = ('Tianyuan.A2_n2','GoyetQ116-1')\n",
    "basegraphname,pop1 = ('Tianyuan.A2_n3','GoyetQ116-1')\n",
    "basegraphname,pop1 = ('GoyetQ116-1.Tianyuan.A2_n1_f11','Malta1')\n",
    "basegraphname,pop1 = ('GoyetQ116-1.Tianyuan.A2_n2_f9','Malta1')\n",
    "basegraphname,pop1 = ('GoyetQ116-1.Tianyuan.A2_n2_f10','Malta1')\n",
    "basegraphname,pop1 = ('GoyetQ116-1.Tianyuan.A2_n2_f11','Malta1')\n",
    "basegraphname,pop1 = ('GoyetQ116-1.Tianyuan.A2_n3_f14','Malta1')\n",
    "basegraphname,pop1 = ('GoyetQ116-1.Tianyuan.A2_n3_f14','Ami')\n",
    "basegraphname,pop1 = ('Ami.Malta1.GoyetQ116-1.Tianyuan.A2_n3_f14_f25_f44','Han')\n",
    "basegraphname,pop1 = ('Han.Ami.Malta1.GoyetQ116-1.Tianyuan.A2_n3_f14_f25_f44_n14','Mixe')\n",
    "\n",
    "##RUN OVERNIGHT (GIVE EACH 3 cores, then can run 8 total)\n",
    "basegraphname,pop1 = (\"Malta1.Ami.GoyetQ116-1.Tianyuan.A2_n3_f14_f22_f44\",'Han')\n",
    "basegraphname,pop1 = (\"Malta1.Ami.GoyetQ116-1.Tianyuan.A2_n3_f14_f22_f44\",'Surui')\n",
    "basegraphname,pop1 = (\"Ami.GoyetQ116-1.Tianyuan.A2_n3_f14_n5\",'Han')\n",
    "basegraphname,pop1 = (\"Ami.GoyetQ116-1.Tianyuan.A2_n3_f14_n5\",'Malta1')\n",
    "basegraphname,pop1 = ('Han.Malta1.GoyetQ116-1.Tianyuan.A2_n3_f14_f35_n5','Ami')\n",
    "basegraphname,pop1 = ('Han.Malta1.GoyetQ116-1.Tianyuan.A2_n3_f14_f35_n5','Surui')\n",
    "basegraphname,pop1 = ('Han.Malta1.GoyetQ116-1.Tianyuan.A2_n3_f14_f29_f44','Ami')\n",
    "basegraphname,pop1 = ('Han.Malta1.GoyetQ116-1.Tianyuan.A2_n3_f14_f29_f44','Surui')\n",
    "basegraphname,pop1 = ('Ami.Malta1.GoyetQ116-1.Tianyuan.A2_n3_f14_n4_f39','Han')\n",
    "basegraphname,pop1 = ('Ami.Malta1.GoyetQ116-1.Tianyuan.A2_n3_f14_n4_f39','Surui')\n",
    "basegraphname,pop1 = ('Han.Malta1.GoyetQ116-1.Tianyuan.A2_n3_f14_n4_f39','Ami')\n",
    "basegraphname,pop1 = ('Han.Ami.Malta1.GoyetQ116-1.Tianyuan.A2_n3_f14_f25_f44_n14','Surui')\n",
    "basegraphname,pop1 = ('Surui.Han.Ami.Malta1.GoyetQ116-1.Tianyuan.A2_n3_f14_f25_f44_n14_f125','Mixe')\n",
    "basegraphname,pop1 = ('Ami.Han.Malta1.GoyetQ116-1.Tianyuan.A2_n3_f14_f29_f44_n14','Mixe')\n",
    "basegraphname,pop1 = ('Han.Ami.GoyetQ116-1.Tianyuan.A2_n3_f14_n5_n10','Malta1')\n",
    "basegraphname,pop1 = ('Ami.Han.Malta1.GoyetQ116-1.Tianyuan.A2_n3_f14_n4_f39_n13','Mixe')\n",
    "\n",
    "basegraphname,pop1 = ('Malta1.Han.Ami.GoyetQ116-1.Tianyuan.A2_n3_f14_n5_n10_f52','Mixe')\n",
    "basegraphname,pop1 = ('Ami.Malta1.GoyetQ116-1.Tianyuan.A2_n3_f14_f14_f44','Han')\n",
    "basegraphname,pop1 = ('Mixe.Ami.Han.Malta1.GoyetQ116-1.Tianyuan.A2_n3_f14_n4_f39_n13_f107','Surui')\n",
    "basegraphname,pop1 = ('Malta1.Ami.GoyetQ116-1.Tianyuan.A2_n3_f14_n5_f44','Mixe')\n",
    "basegraphname,pop1 = ('Ami.Han.Malta1.GoyetQ116-1.Tianyuan.A2_n3_f14_f35_n5_n13','Mixe')\n",
    "basegraphname,pop1 = ('Malta1.Han.Ami.GoyetQ116-1.Tianyuan.A2_n3_f14_n5_n10_f54','Mixe')\n",
    "basegraphname,pop1 = ('Tianyuan.A2_n3','Malta1')\n",
    "basegraphname,pop1 = ('Tianyuan.A2_n3','Ami')\n",
    "basegraphname,pop1 = ('Han.Ami.Malta1.GoyetQ116-1.Tianyuan.A2_n3_f14_f14_f44_n14','Mixe')\n",
    "\n",
    "\n",
    "basegraphname,pop1 = ('Mixe.Malta1.Han.Ami.GoyetQ116-1.Tianyuan.A2_n3_f14_n5_n10_f54_f104','Surui')\n",
    "basegraphname,pop1 = ('Mixe.Malta1.Ami.GoyetQ116-1.Tianyuan.A2_n3_f14_n5_f44_f90','Surui')\n",
    "basegraphname,pop1 = ('Ami.Malta1.GoyetQ116-1.Tianyuan.A2_n3_f14_f28_f44','Mixe')\n",
    "basegraphname,pop1 = ('Malta1.Tianyuan.A2_n3_n4','Ami')\n",
    "\n",
    "basegraphname,pop1,mypool = ('Ami.GoyetQ116-1.Tianyuan.A2_n3_f14_n7','Han',1)\n",
    "basegraphname,pop1,mypool = ('Malta1.Han.Ami.GoyetQ116-1.Tianyuan.A2_n3_f14_n5_n10_f52','Surui',2)\n",
    "basegraphname,pop1,mypool = ('Malta1.Han.Ami.GoyetQ116-1.Tianyuan.A2_n3_f14_n5_n10_f47','Mixe',2)\n",
    "basegraphname,pop1,mypool = ('Malta1.Tianyuan.A2_n3_f14','Ami',1)\n",
    "basegraphname,pop1,mypool = ('Ami.Tianyuan.A2_n3_n5','Malta1',1)\n",
    "basegraphname,pop1,mypool = ('Ami.Tianyuan.A2_n3_f11','Malta1',1)\n",
    "\n",
    "basegraphname,pop1,mypool = ('Surui.Han.Malta1.GoyetQ116-1.Tianyuan.A2_n3_f14_f29_f44_f101','Mixe',3)\n",
    "basegraphname,pop1,mypool = ('Han.Ami.Malta1.GoyetQ116-1.Tianyuan.A2_n3_f14_f14_f44_n14','Mixe',3)\n",
    "basegraphname,pop1,mypool = ('Surui.Han.Ami.Malta1.GoyetQ116-1.Tianyuan.A2_n3_f14_f25_f44_n14_f123','Mixe',4)\n",
    "basegraphname,pop1,mypool = ('Mixe.Ami.Malta1.GoyetQ116-1.Tianyuan.A2_n3_f14_f28_f44_f101','Surui',2)\n",
    "\n",
    "basegraphname,pop1,mypool = ('Ami.Han.Malta1.GoyetQ116-1.Tianyuan.A2_n3_f14_f35_n5_n13','Surui',3)\n",
    "basegraphname,pop1,mypool = ('Malta1.Ami.GoyetQ116-1.Tianyuan.A2_n3_f14_n5_f44','Surui',2)\n",
    "basegraphname,pop1,mypool = ('Malta1.Ami.GoyetQ116-1.Tianyuan.A2_n3_f14_n5_f39','Mixe',2)\n",
    "basegraphname,pop1,mypool = ('Malta1.Han.Ami.GoyetQ116-1.Tianyuan.A2_n3_f14_n5_n10_f54','Surui',3)\n",
    "basegraphname,pop1,mypool = ('Ami.Malta1.Tianyuan.A2_n3_n4_f24','Mixe',1)\n",
    "basegraphname,pop1,mypool = ('Ami.Malta1.Tianyuan.A2_n3_n4_f24','Han',1)\n",
    "\n",
    "basegraphname,pop1,mypool = ('Han.Ami.Malta1.Tianyuan.A2_n3_n4_f24_n10','Mixe',20)\n",
    "basegraphname,pop1,mypool = ('Mixe.Ami.Malta1.Tianyuan.A2_n3_n4_f24_f51','Surui',2)\n",
    "basegraphname,pop1,mypool = ('Mixe.Ami.Malta1.Tianyuan.A2_n3_n4_f24_f54','Surui',2)\n",
    "basegraphname,pop1,mypool = ('Malta1.Ami.Tianyuan.A2_n3_f11_f25','Mixe',2)\n",
    "basegraphname,pop1,mypool = ('Malta1.Ami.Tianyuan.A2_n3_f11_f25','Han',2)\n",
    "basegraphname,pop1,mypool = ('Malta1.Ami.Tianyuan.A2_n3_n5_f24','Han',2)\n",
    "basegraphname,pop1,mypool = ('Malta1.Ami.Tianyuan.A2_n3_n5_f24','Mixe',2)\n",
    "\n",
    "basegraphname,pop1,mypool = ('Ami.Malta1.Tianyuan.A2_n3_f14_n7','Mixe',2)\n",
    "basegraphname,pop1,mypool = ('Ami.Malta1.Tianyuan.A2_n3_f14_n7','Han',2)\n",
    "basegraphname,pop1,mypool = ('Surui.Malta1.Han.Ami.GoyetQ116-1.Tianyuan.A2_n3_f14_n5_n10_f54_f119','Mixe',2)\n",
    "basegraphname,pop1,mypool = ('Surui.Malta1.Ami.GoyetQ116-1.Tianyuan.A2_n3_f14_n5_f44_f90','Mixe',2)\n",
    "basegraphname,pop1,mypool = ('Mixe.Malta1.Ami.GoyetQ116-1.Tianyuan.A2_n3_f14_n5_f39_f90','Surui',2)\n",
    "\n",
    "basegraphname,pop1,mypool = ('Han.Ami.GoyetQ116-1.Tianyuan.A2_n3_f14_n7_n10','Malta1',2)\n",
    "basegraphname,pop1,mypool = ('Mixe.Malta1.Han.Ami.GoyetQ116-1.Tianyuan.A2_n3_f14_n5_n10_f47_f116','Surui',2)\n",
    "basegraphname,pop1,mypool = ('Surui.Malta1.Han.Ami.GoyetQ116-1.Tianyuan.A2_n3_f14_n5_n10_f52_f98','Mixe',2)\n",
    "basegraphname,pop1,mypool = ('Mixe.Han.Ami.Malta1.Tianyuan.A2_n3_n4_f24_n10_f73','Surui',2)\n",
    "\n",
    "basegraphname,pop1,mypool = ('Malta1.Ami.Tianyuan.A2_n3_n5_f22','Han',1)\n",
    "basegraphname,pop1,mypool = ('Malta1.Ami.Tianyuan.A2_n3_n5_f22','Mixe',1)\n",
    "basegraphname,pop1,mypool = ('Malta1.Ami.Tianyuan.A2_n3_n5_f23','Han',1)\n",
    "basegraphname,pop1,mypool = ('Malta1.Ami.Tianyuan.A2_n3_n5_f23','Mixe',1)\n",
    "\n",
    "basegraphname,pop1,mypool = ('Han.Malta1.Ami.Tianyuan.A2_n3_n5_f24_n9','Mixe',7)\n",
    "basegraphname,pop1,mypool = ('Han.Ami.Malta1.Tianyuan.A2_n3_f14_n7_n10','Mixe',1)\n",
    "basegraphname,pop1,mypool = ('Mixe.Ami.Malta1.Tianyuan.A2_n3_f14_n7_f51','Surui',1)\n",
    "basegraphname,pop1,mypool = ('Mixe.Malta1.Ami.Tianyuan.A2_n3_n5_f24_f51','Surui',1)\n",
    "\n",
    "\n",
    "basegraphname,pop1,mypool = ('Mixe.Malta1.Ami.Tianyuan.A2_n3_f11_f25_f65','Surui',1)\n",
    "basegraphname,pop1,mypool = ('Han.Malta1.Ami.Tianyuan.A2_n3_f11_f25_n10','Mixe',1)\n",
    "\n",
    "basegraphname,pop1,mypool = ('Surui.Mixe.Ami.Malta1.Tianyuan.A2_n3_n4_f24_f51_f75','Han',2)\n",
    "basegraphname,pop1,mypool = ('Mixe.Han.Malta1.Ami.Tianyuan.A2_n3_n5_f24_n9_f72','Surui',2)\n",
    "basegraphname,pop1,mypool = ('Surui.Mixe.Ami.Malta1.Tianyuan.A2_n3_n4_f24_f54_f80','Han',3)\n",
    "basegraphname,pop1,mypool = ('Mixe.Malta1.Ami.Tianyuan.A2_n3_n5_f23_f44','Surui',1)\n",
    "\n",
    "basegraphname,pop1,mypool = ('Malta1.Han.Ami.GoyetQ116-1.Tianyuan.A2_n3_f14_n7_n10_f63','Mixe',2)\n",
    "basegraphname,pop1,mypool = ('Surui.Mixe.Han.Ami.Malta1.Tianyuan.A2_n3_n4_f24_n10_f73_f98','GoyetQ116-1',3)\n",
    "basegraphname,pop1,mypool = ('Surui.Mixe.Ami.Malta1.Tianyuan.A2_n3_n4_f24_f51_f75','GoyetQ116-1',3)\n",
    "basegraphname,pop1,mypool = ('Surui.Mixe.Ami.Malta1.Tianyuan.A2_n3_n4_f24_f54_f80','GoyetQ116-1',3)\n",
    "\n",
    "basegraphname,pop1,mypool = ('Han.Malta1.Ami.Tianyuan.A2_n3_f11_f25_n10','Surui',2)\n",
    "basegraphname,pop1,mypool = ('Malta1.Ami.Tianyuan.A2_n3_f11_f22','Mixe',2)\n",
    "basegraphname,pop1,mypool = ('Malta1.Ami.Tianyuan.A2_n3_f11_f24','Han',2)\n",
    "basegraphname,pop1,mypool = ('Surui.Mixe.Ami.Malta1.Tianyuan.A2_n3_n4_f24_f54_f80','Loschbour',2)\n",
    "\n",
    "basegraphname,pop1,mypool = ('Han.Surui.Mixe.Ami.Malta1.Tianyuan.A2_n3_n4_f24_f51_f75_n9','GoyetQ116-1',20)\n",
    "basegraphname,pop1,mypool = ('Han.Surui.Mixe.Ami.Malta1.Tianyuan.A2_n3_n4_f24_f51_f75_n9','Loschbour',12)\n",
    "\n",
    "basegraphname,pop1,mypool = ('Mixe.Han.Ami.Malta1.Tianyuan.A2_n3_f14_n7_n10_f65','Surui',11)\n",
    "basegraphname,pop1,mypool = ('Mixe.Han.Malta1.Ami.Tianyuan.A2_n3_f11_f25_n10_f85','Surui',11)\n",
    "basegraphname,pop1,mypool = ('Ami.Tianyuan.A2_n3_f13','Malta1',11)\n",
    "basegraphname,pop1,mypool = ('Mixe.Malta1.Ami.Tianyuan.A2_n3_n5_f22_f44','Surui',11)\n",
    "basegraphname,pop1,mypool = ('Mixe.Malta1.Ami.Tianyuan.A2_n3_f11_f22_f55','Surui',11)\n",
    "\n",
    "basegraphname,pop1,mypool = ('Mixe.Malta1.Ami.Tianyuan.A2_n3_n5_f24_f54','Surui',11)\n",
    "basegraphname,pop1,mypool = ('Mixe.Malta1.Ami.Tianyuan.A2_n3_n5_f22_f44','Surui',11)\n",
    "basegraphname,pop1,mypool = ('Surui.Mixe.Malta1.Ami.Tianyuan.A2_n3_f11_f25_f65_f59','Han',11)\n",
    "basegraphname,pop1,mypool = ('Surui.Mixe.Malta1.Ami.Tianyuan.A2_n3_f11_f25_f65_f76','GoyetQ116-1',11)\n",
    "basegraphname,pop1,mypool = ('Tianyuan.A2_n2','Malta1',2)\n",
    "\n",
    "basegraphname,pop1,mypool = ('Surui.Mixe.Malta1.Ami.Tianyuan.A2_n3_f11_f25_f65_f76','Han',11)\n",
    "\n",
    "basegraphname,pop1,mypool = ('Tianyuan.A2_n2','Ami',11)\n",
    "basegraphname,pop1,mypool = ('Malta1.Tianyuan.A2_n2_n2','Ami',11)\n",
    "basegraphname,pop1,mypool = ('Malta1.Tianyuan.A2_n2_f11','Ami',11)\n",
    "\n",
    "basegraphname,pop1,mypool = ('Ami.Tianyuan.A2_n2_n5','Malta1',11)\n",
    "basegraphname,pop1,mypool = ('Ami.Tianyuan.A2_n2_f13','Malta1',11)\n",
    "basegraphname,pop1,mypool = ('Ami.Malta1.Tianyuan.A2_n3_f14_n5','Mixe',2)\n",
    "basegraphname,pop1,mypool = ('Ami.Malta1.Tianyuan.A2_n3_f14_f32','Mixe',2)\n",
    "basegraphname,pop1,mypool = ('Surui.Mixe.Malta1.Ami.Tianyuan.A2_n3_f11_f25_f65_f59','GoyetQ116-1',3)\n",
    "basegraphname,pop1,mypool = ('Surui.Mixe.Malta1.Ami.Tianyuan.A2_n3_n5_f24_f51_f62','GoyetQ116-1',3)\n",
    "basegraphname,pop1,mypool = ('Surui.Mixe.Ami.Malta1.Tianyuan.A2_n3_f14_n7_f51_f80','GoyetQ116-1',3)\n",
    "basegraphname,pop1,mypool = ('Surui.Mixe.Ami.Malta1.Tianyuan.A2_n3_f14_n7_f51_f80','Han',2)\n",
    "\n",
    "basegraphname,pop1,mypool = ('Ami.Malta1.Tianyuan.A2_n2_f11_n7','Mixe',1)\n",
    "basegraphname,pop1,mypool = ('Ami.Malta1.Tianyuan.A2_n2_f11_f24','Mixe',1)\n",
    "basegraphname,pop1,mypool = ('Ami.Malta1.Tianyuan.A2_n2_n2_f24','Mixe',1)\n",
    "basegraphname,pop1,mypool = ('Malta1.Ami.Tianyuan.A2_n2_n5_f17','Mixe',1)\n",
    "basegraphname,pop1,mypool = ('Malta1.Ami.Tianyuan.A2_n2_f13_f20','Mixe',1)\n",
    "\n",
    "basegraphname,pop1,mypool = ('Surui.Mixe.Malta1.Ami.Tianyuan.A2_n3_n5_f24_f51_f62','Han',2)\n",
    "basegraphname,pop1,mypool = ('Surui.Han.Malta1.Ami.Tianyuan.A2_n3_f11_f25_n10_f85','Mixe',2)\n",
    "basegraphname,pop1,mypool = ('Surui.Mixe.Han.Malta1.Ami.Tianyuan.A2_n3_n5_f24_n9_f72_f74','GoyetQ116-1',2)\n",
    "\n",
    "basegraphname,pop1,mypool = ('Mixe.Ami.Malta1.Tianyuan.A2_n2_n2_f24_f51','Surui',11)\n",
    "basegraphname,pop1,mypool = ('Mixe.Malta1.Ami.Tianyuan.A2_n2_n5_f17_f54','Surui',20)\n",
    "basegraphname,pop1,mypool = ('Mixe.Ami.Malta1.Tianyuan.A2_n2_f11_n7_f51','Surui',11)\n",
    "\n",
    "basegraphname,pop1,mypool = ('Surui.Mixe.Ami.Malta1.Tianyuan.A2_n2_n2_f24_f51_f75','GoyetQ116-1',3)\n",
    "basegraphname,pop1,mypool = ('Surui.Mixe.Ami.Malta1.Tianyuan.A2_n2_n2_f24_f51_f75','Han',3)\n",
    "basegraphname,pop1,mypool = ('Surui.Mixe.Malta1.Ami.Tianyuan.A2_n2_n5_f17_f54_f62','GoyetQ116-1',3)\n",
    "basegraphname,pop1,mypool = ('Mixe.Malta1.Ami.Tianyuan.A2_n2_f13_f20_f65','Surui',2)\n",
    "\n",
    "basegraphname,pop1,mypool = ('Mixe.Ami.Malta1.Tianyuan.A2_n2_f11_f24_f55','Surui',2)\n",
    "basegraphname,pop1,mypool = ('Surui.Mixe.Malta1.Ami.Tianyuan.A2_n2_n5_f17_f54_f62','Han',2)\n",
    "basegraphname,pop1,mypool = ('Surui.Mixe.Ami.Malta1.Tianyuan.A2_n2_f11_n7_f51_f80','Han',2)\n",
    "basegraphname,pop1,mypool = ('Surui.Mixe.Ami.Malta1.Tianyuan.A2_n2_f11_n7_f51_f80','GoyetQ116-1',3)\n",
    "basegraphname,pop1,mypool = ('Surui.Mixe.Malta1.Ami.Tianyuan.A2_n3_n5_f24_f54_f62','Han',11) ##ONLY FOR NODE\n",
    "\n",
    "\n",
    "basegraphname,pop1,mypool = ('Surui.Mixe.Malta1.Ami.Tianyuan.A2_n2_f13_f20_f65_f76','Han',6)\n",
    "basegraphname,pop1,mypool = ('Surui.Mixe.Ami.Malta1.Tianyuan.A2_n2_f11_f24_f55_f94','Han',6)\n",
    "\n",
    "basegraphname,pop1,mypool = ('Surui.Mixe.Malta1.Ami.Tianyuan.A2_n2_f13_f20_f65_f76','GoyetQ116-1',5)\n",
    "basegraphname,pop1,mypool = ('Surui.Mixe.Ami.Malta1.Tianyuan.A2_n2_f11_f24_f55_f94','GoyetQ116-1',5)\n",
    "basegraphname,pop1,mypool = ('Han.Surui.Mixe.Ami.Malta1.Tianyuan.A2_n3_n4_f24_f51_f75_n11','Dai',5)\n",
    "basegraphname,pop1,mypool = ('Han.Surui.Mixe.Malta1.Ami.Tianyuan.A2_n3_f11_f25_f65_f76_n11','Dai',5)\n",
    "\n",
    "pm.graph_addnode_uniq(pD,fh,subset,basegraphname,[pop1,pop1],comments='NA',pool=mypool)\n",
    "pm.graph_addadmix_uniq(pD,fh,subset,basegraphname,[pop1,pop1],comments='NA',pool=mypool)"
   ]
  },
  {
   "cell_type": "code",
   "execution_count": 10,
   "metadata": {},
   "outputs": [],
   "source": []
  },
  {
   "cell_type": "code",
   "execution_count": 169,
   "metadata": {},
   "outputs": [
    {
     "name": "stdout",
     "output_type": "stream",
     "text": [
      "8\n",
      "f143 3.990\n",
      "f52 3.610\n",
      "f110 3.695\n",
      "f68 3.610\n",
      "f35 3.830\n",
      "f167 3.968\n",
      "f97 3.609\n",
      "f83 3.721\n"
     ]
    }
   ],
   "source": [
    "import projmodules as pm\n",
    "pd=\"/home/mel_yang/projects/allTYstuff/SOMX11_qpGraph/\"  \n",
    "subset=\"mTY\"\n",
    "fh=\"UPA_all2\"\n",
    "\n",
    "myname=\"Dai.Han.Surui.Mixe.Malta1.Ami.Tianyuan.A2_n3_f11_f25_f65_f76_n11\"\n",
    "\n",
    "\n",
    "mydat = pm.graph_getidsig(pd,myname,zscorecutoff=4) \n",
    "print len(mydat)\n",
    "for i in mydat: \n",
    "    print i[0], i[1]\n",
    "    if 'n' in i[0]: pm.graph_retrieveinfo(i,pd,subset,fh,myname)      \n",
    "    "
   ]
  },
  {
   "cell_type": "code",
   "execution_count": 159,
   "metadata": {},
   "outputs": [],
   "source": []
  },
  {
   "cell_type": "code",
   "execution_count": null,
   "metadata": {},
   "outputs": [],
   "source": []
  },
  {
   "cell_type": "code",
   "execution_count": null,
   "metadata": {},
   "outputs": [],
   "source": []
  },
  {
   "cell_type": "code",
   "execution_count": null,
   "metadata": {},
   "outputs": [],
   "source": []
  },
  {
   "cell_type": "code",
   "execution_count": null,
   "metadata": {},
   "outputs": [],
   "source": []
  },
  {
   "cell_type": "code",
   "execution_count": 16,
   "metadata": {},
   "outputs": [
    {
     "name": "stdout",
     "output_type": "stream",
     "text": [
      "Overwriting /home/mel_yang/projects/allTYstuff/SOMX11_qpGraph/A2.py\n"
     ]
    }
   ],
   "source": [
    "%%writefile /home/mel_yang/projects/allTYstuff/SOMX11_qpGraph/A2.py\n",
    "import TY_maindata as md\n",
    "import projmodules as pm\n",
    "import multiprocessing\n",
    "from multiprocessing import Pool\n",
    "\n",
    "def do_work(myvars):\n",
    "    pD,fh,subset,pop1,basegraphname=myvars\n",
    "    pm.graph_addnode_uniq(pD,fh,subset,basegraphname,[pop1,pop1],comments='NA')\n",
    "    pm.graph_addadmix_uniq(pD,fh,subset,basegraphname,[pop1,pop1],comments='NA')\n",
    "    return \"done \"+basegraphname\n",
    "\n",
    "pD = \"/home/mel_yang/projects/allTYstuff/SOMX11_qpGraph/\"\n",
    "bg = \"Malta1.GoyetQ116-1.Tianyuan.A2_n3_f14\"\n",
    "bg = \"Ami.GoyetQ116-1.Tianyuan.A2_n3_f14\"\n",
    "fh = 'UPA_all2'\n",
    "subset='mTY'\n",
    "mygoodset = pm.graph_getidsig(pD,bg)\n",
    "addind = \"Han\"\n",
    "addind = \"Malta1\"\n",
    "#addind = \"Ami\"\n",
    "mygood = []\n",
    "for i in mygoodset:\n",
    "    mygood.append((pD,fh,subset,addind,bg+\"_\"+i[0]))\n",
    "\n",
    "print len(mygood), mygood\n",
    "\n",
    "pool = Pool(6)\n",
    "results = pool.map(do_work, mygood)\n"
   ]
  },
  {
   "cell_type": "code",
   "execution_count": null,
   "metadata": {},
   "outputs": [],
   "source": []
  },
  {
   "cell_type": "code",
   "execution_count": null,
   "metadata": {},
   "outputs": [],
   "source": []
  },
  {
   "cell_type": "code",
   "execution_count": 12,
   "metadata": {},
   "outputs": [
    {
     "name": "stdout",
     "output_type": "stream",
     "text": [
      "Overwriting /home/mel_yang/projects/allTYstuff/SOMX11_qpGraph/A2_subEAs.py\n"
     ]
    }
   ],
   "source": [
    "%%writefile /home/mel_yang/projects/allTYstuff/SOMX11_qpGraph/A2_subEAs.py\n",
    "import TY_maindata as md\n",
    "import projmodules as pm\n",
    "pD = \"/home/mel_yang/projects/allTYstuff/SOMX11_qpGraph/\"\n",
    "fh = 'UPA_all2'\n",
    "eas = ['Ami', 'Atayal', 'Burmese', 'Cambodian', 'Dai', 'Daur', \n",
    "              'Han', 'Hezhen', 'Japanese', 'Kinh', 'Korean', 'Lahu', \n",
    "              'Miao', 'Naxi', 'Oroqen', 'She', 'Thai', 'Tu', 'Tujia', \n",
    "              'Uygur', 'Xibo', 'Yi','Dusun','Igorot','Mongola','Tibetan']\n",
    "subpop='Ami'\n",
    "for newpop in eas:\n",
    "    if newpop == subpop: continue\n",
    "    subset = \"mTY\"\n",
    "    #pm.graph_substitute_uniq(pD,fh,subset,basegraphnameA,pop1A,newpop,comments='NA',)\n",
    "    #basegraphname,pop1 = ('Mixe.Ami.Malta1.Tianyuan.A2_n3_n4_f24_f51','Ami')\n",
    "    basegraphname,pop1 = ('Han.Surui.Mixe.Ami.Malta1.Tianyuan.A2_n3_n4_f24_f51_f75_n11',subpop)\n",
    "    \n",
    "    pm.graph_substitute_uniq(pD,fh,subset,basegraphname,pop1,newpop,comments='NA',)\n"
   ]
  },
  {
   "cell_type": "code",
   "execution_count": 22,
   "metadata": {},
   "outputs": [
    {
     "name": "stdout",
     "output_type": "stream",
     "text": [
      "Overwriting /home/mel_yang/projects/allTYstuff/SOMX11_qpGraph/A2_subNAmer.py\n"
     ]
    }
   ],
   "source": [
    "%%writefile /home/mel_yang/projects/allTYstuff/SOMX11_qpGraph/A2_subNAmer.py\n",
    "import TY_maindata as md\n",
    "import projmodules as pm\n",
    "pD = \"/home/mel_yang/projects/allTYstuff/SOMX11_qpGraph/\"\n",
    "fh = 'UPA_all2'\n",
    "namers = ['Chane','Karitiana','Mayan','Mixe','Piapoco','Pima','Quechua','Surui','Zapotec','Clovis','Mixtec']\n",
    "subpop='Mixe'\n",
    "for newpop in namers:\n",
    "    if newpop == subpop: continue\n",
    "    subset = \"mTY\"\n",
    "    #pm.graph_substitute_uniq(pD,fh,subset,basegraphnameA,pop1A,newpop,comments='NA',)\n",
    "    #basegraphname,pop1 = ('Mixe.Ami.Malta1.Tianyuan.A2_n3_n4_f24_f51','Mixe')\n",
    "    basegraphname,pop1 = ('Han.Surui.Mixe.Ami.Malta1.Tianyuan.A2_n3_n4_f24_f51_f75_n11',subpop)\n",
    "    pm.graph_substitute_uniq(pD,fh,subset,basegraphname,pop1,newpop,comments='NA',)\n"
   ]
  },
  {
   "cell_type": "code",
   "execution_count": 53,
   "metadata": {},
   "outputs": [
    {
     "name": "stdout",
     "output_type": "stream",
     "text": [
      "Overwriting /home/mel_yang/projects/allTYstuff/SOMX11_qpGraph/A2_subsubNAmer.py\n"
     ]
    }
   ],
   "source": [
    "%%writefile /home/mel_yang/projects/allTYstuff/SOMX11_qpGraph/A2_subsubNAmer.py\n",
    "import TY_maindata as md\n",
    "import projmodules as pm\n",
    "pD = \"/home/mel_yang/projects/allTYstuff/SOMX11_qpGraph/\"\n",
    "fh = 'UPA_all2'\n",
    "namers = ['Chane','Karitiana','Mayan','Mixe','Piapoco','Pima','Quechua','Surui','Zapotec','Clovis','Mixtec']\n",
    "subset = \"mTY\"\n",
    "'''\n",
    "for newerpop in namers:\n",
    "    subpop='Surui'\n",
    "    for newpop in namers:\n",
    "        if newpop == newerpop: continue\n",
    "        if newpop == subpop: continue\n",
    "        if newerpop == subpop: continue\n",
    "        basegraphname,pop1 = ('Han.Surui.sub%s.Ami.Malta1.Tianyuan.A2_n3_n4_f24_f51_f75_n11' % newpop,subpop)\n",
    "        pm.graph_substitute_uniq(pD,fh,subset,basegraphname,pop1,newerpop,comments='NA',)\n",
    "'''\n",
    "for i in namers:\n",
    "    if i in ['Surui','Mixe']: continue\n",
    "    basegraphname,pop1 = ('Han.sub%s.subMixe.Ami.Malta1.Tianyuan.A2_n3_n4_f24_f51_f75_n11' % i,'Mixe')\n",
    "    pm.graph_substitute_uniq(pD,fh,subset,basegraphname,pop1,'Surui',comments='NA',)\n",
    "##NEED TO TAKE subMixe.subChane and add Surui where Chane is! AND THEN CHANGE subsubSurui to subSurui!"
   ]
  },
  {
   "cell_type": "code",
   "execution_count": null,
   "metadata": {},
   "outputs": [],
   "source": []
  },
  {
   "cell_type": "code",
   "execution_count": 155,
   "metadata": {},
   "outputs": [
    {
     "name": "stdout",
     "output_type": "stream",
     "text": [
      "Writing /home/mel_yang/projects/allTYstuff/SOMX11_qpGraph/A2_subEAspooled.py\n"
     ]
    }
   ],
   "source": [
    "%%writefile /home/mel_yang/projects/allTYstuff/SOMX11_qpGraph/A2_subEAspooled.py\n",
    "from multiprocessing import Pool\n",
    "import projmodules as pm\n",
    "pD = \"/home/mel_yang/projects/allTYstuff/SOMX11_qpGraph/\"\n",
    "fh = 'UPA_all2'\n",
    "subset = \"mTY\"\n",
    "eas = ['Ami', 'Atayal', 'Burmese', 'Cambodian', 'Dai', 'Daur', \n",
    "              'Han', 'Hezhen', 'Japanese', 'Kinh', 'Korean', 'Lahu', \n",
    "              'Miao', 'Naxi', 'Oroqen', 'She', 'Thai', 'Tu', 'Tujia', \n",
    "              'Uygur', 'Xibo', 'Yi','Dusun','Igorot','Mongola','Tibetan']\n",
    "def dowork(mytups):\n",
    "    pd,fh,subset,basegraphname,oldpop,newpop=mytups\n",
    "    pm.graph_substitute_uniq(pD,fh,subset,basegraphname,oldpop,newpop,comments='NA',)\n",
    "    \n",
    "getrid=['Ami','Han']\n",
    "myinputs = [(pD,fh,subset,\"Han.Surui.Mixe.Malta1.Ami.Tianyuan.A2_n3_n5_f24_f54_f62_n10\",getrid[0],i) for i in eas if i not in getrid]\n",
    "\n",
    "mypool = Pool(24)\n",
    "results = mypool.map(dowork, myinputs)\n"
   ]
  },
  {
   "cell_type": "code",
   "execution_count": 160,
   "metadata": {},
   "outputs": [],
   "source": [
    "%%bash\n",
    "pd=\"/home/mel_yang/projects/allTYstuff/SOMX11_qpGraph/\"\n",
    "fh=\"UPA_all2\"\n",
    "subset=\"mTY\"\n",
    "endpdf=\".\"${fh}\".\"${subset}\".log\"\n",
    "endpdf=\"\"\n",
    "cp ${pd}Han.Surui.Mixe.Malta1.Ami.Tianyuan.A2_n3_n5_f24_f54_f62_n10${endpdf} ${pd}Han.Surui.subMixe.Malta1.Ami.Tianyuan.A2_n3_n5_f24_f54_f62_n10${endpdf}\n",
    "cp ${pd}Han.Surui.Mixe.Malta1.Ami.Tianyuan.A2_n3_n5_f24_f54_f62_n10${endpdf} ${pd}Han.Surui.Mixe.Malta1.subAmi.Tianyuan.A2_n3_n5_f24_f54_f62_n10${endpdf}"
   ]
  },
  {
   "cell_type": "code",
   "execution_count": 162,
   "metadata": {},
   "outputs": [
    {
     "name": "stdout",
     "output_type": "stream",
     "text": [
      "Overwriting /home/mel_yang/projects/allTYstuff/SOMX11_qpGraph/A2_subsubEAspooled.py\n"
     ]
    }
   ],
   "source": [
    "%%writefile /home/mel_yang/projects/allTYstuff/SOMX11_qpGraph/A2_subsubEAspooled.py\n",
    "from multiprocessing import Pool\n",
    "import projmodules as pm\n",
    "pD = \"/home/mel_yang/projects/allTYstuff/SOMX11_qpGraph/\"\n",
    "fh = 'UPA_all2'\n",
    "subset = \"mTY\"\n",
    "eas = ['Ami', 'Atayal', 'Burmese', 'Cambodian', 'Dai', 'Daur', \n",
    "              'Han', 'Hezhen', 'Japanese', 'Kinh', 'Korean', 'Lahu', \n",
    "              'Miao', 'Naxi', 'Oroqen', 'She', 'Thai', 'Tu', 'Tujia', \n",
    "              'Uygur', 'Xibo', 'Yi','Dusun','Igorot','Mongola','Tibetan']\n",
    "def dowork(mytups):\n",
    "    pd,fh,subset,basegraphname,oldpop,newpop=mytups\n",
    "    pm.graph_substitute_uniq(pD,fh,subset,basegraphname,oldpop,newpop,comments='NA',)\n",
    "    \n",
    "getrid=['Ami','Han']\n",
    "for newsub in eas:\n",
    "    print newsub\n",
    "    myinputs = [(pD,fh,subset,\"Han.Surui.Mixe.Malta1.sub%s.Tianyuan.A2_n3_n5_f24_f54_f62_n10\" % newsub,getrid[1],i) for i in eas if i not in [getrid[1],newsub]]\n",
    "    mypool = Pool(24)\n",
    "    results = mypool.map(dowork, myinputs)\n",
    "\n",
    "#myinputs = [(pD,fh,subset,\"sub%s.Surui.Mixe.Malta1.subAtayal.Tianyuan.A2_n3_n5_f24_f54_f62_n10\" % i,'Atayal','Han') for i in eas if i not in [getrid[1],'Atayal']]\n",
    "#mypool = Pool(24)\n",
    "#results = mypool.map(dowork, myinputs)\n",
    "#dowork(pD,fh,subset,\"subAtayal.Surui.Mixe.Malta1.subAmi.Tianyuan.A2_n3_n5_f24_f54_f62_n10\",'Ami','Han')\n",
    "\n"
   ]
  },
  {
   "cell_type": "code",
   "execution_count": null,
   "metadata": {},
   "outputs": [],
   "source": []
  },
  {
   "cell_type": "code",
   "execution_count": 172,
   "metadata": {},
   "outputs": [
    {
     "name": "stdout",
     "output_type": "stream",
     "text": [
      "Overwriting /home/mel_yang/projects/allTYstuff/SOMX11_qpGraph/A2_subNAmerpooled.py\n"
     ]
    }
   ],
   "source": [
    "%%writefile /home/mel_yang/projects/allTYstuff/SOMX11_qpGraph/A2_subNAmerpooled.py\n",
    "from multiprocessing import Pool\n",
    "import projmodules as pm\n",
    "pD = \"/home/mel_yang/projects/allTYstuff/SOMX11_qpGraph/\"\n",
    "fh = 'UPA_all2'\n",
    "subset = \"mTY\"\n",
    "namers = ['Clovis','Chane','Karitiana','Mayan','Mixe','Mixtec','Piapoco','Pima','Quechua','Surui','Zapotec']\n",
    "def dowork(mytups):\n",
    "    pd,fh,subset,basegraphname,oldpop,newpop=mytups\n",
    "    pm.graph_substitute_uniq(pD,fh,subset,basegraphname,oldpop,newpop,comments='NA',)\n",
    "mymodel=\"Han.Surui.Mixe.Malta1.Ami.Tianyuan.A2_n3_n5_f24_f54_f62_n10\"\n",
    "mymodel=\"Han.Surui.Mixe.Malta1.Ami.Tianyuan.A2_n3_f11_f25_f65_f76_n11\"\n",
    "getrid=['Mixe','Surui']\n",
    "myinputs = [(pD,fh,subset,mymodel,getrid[0],i) for i in namers if i not in getrid]\n",
    "\n",
    "mypool = Pool(10)\n",
    "results = mypool.map(dowork, myinputs)\n"
   ]
  },
  {
   "cell_type": "code",
   "execution_count": 179,
   "metadata": {},
   "outputs": [
    {
     "name": "stdout",
     "output_type": "stream",
     "text": [
      "Overwriting /home/mel_yang/projects/allTYstuff/SOMX11_qpGraph/A2_subNAmerpooledfixes.py\n"
     ]
    }
   ],
   "source": [
    "%%writefile /home/mel_yang/projects/allTYstuff/SOMX11_qpGraph/A2_subNAmerpooledfixes.py\n",
    "from multiprocessing import Pool\n",
    "import projmodules as pm\n",
    "pD = \"/home/mel_yang/projects/allTYstuff/SOMX11_qpGraph/\"\n",
    "fh = 'UPA_all2'\n",
    "subset = \"mTY\"\n",
    "namers = ['Clovis','Chane','Karitiana','Mayan','Mixe','Mixtec','Piapoco','Pima','Quechua','Surui','Zapotec']\n",
    "def dowork(mytups):\n",
    "    pd,fh,subset,basegraphname,oldpop,newpop=mytups\n",
    "    pm.graph_substitute_uniq(pD,fh,subset,basegraphname,oldpop,newpop,comments='NA',)\n",
    "mymodel=\"Han.Surui.Mixe.Ami.Malta1.Tianyuan.A2_n3_n4_f24_f51_f75_n11\"\n",
    "mymodel=\"Han.Surui.Mixe.Malta1.Ami.Tianyuan.A2_n3_n5_f24_f54_f62_n10\"\n",
    "mymodel=\"Han.Surui.Mixe.Malta1.Ami.Tianyuan.A2_n3_f11_f25_f65_f76_n11\"\n",
    "getrid=['Mixe','Surui']\n",
    "myinputs = [(pD,fh,subset,\"Han.sub%s.subMixe.Malta1.Ami.Tianyuan.A2_n3_n5_f24_f54_f62_n10\" % i,getrid[0],'Surui') for i in namers if i not in getrid and i != 'Surui']\n",
    "\n",
    "mypool = Pool(10)\n",
    "results = mypool.map(dowork, myinputs)\n"
   ]
  },
  {
   "cell_type": "code",
   "execution_count": 1,
   "metadata": {},
   "outputs": [
    {
     "name": "stdout",
     "output_type": "stream",
     "text": [
      "Overwriting /home/mel_yang/projects/allTYstuff/SOMX11_qpGraph/A2_subsubNAmerpooled.py\n"
     ]
    }
   ],
   "source": [
    "%%writefile /home/mel_yang/projects/allTYstuff/SOMX11_qpGraph/A2_subsubNAmerpooled.py\n",
    "from multiprocessing import Pool\n",
    "import projmodules as pm\n",
    "pD = \"/home/mel_yang/projects/allTYstuff/SOMX11_qpGraph/\"\n",
    "fh = 'UPA_all2'\n",
    "subset = \"mTY\"\n",
    "namers = ['Clovis','Chane','Karitiana','Mayan','Mixe','Mixtec','Piapoco','Pima','Quechua','Surui','Zapotec']\n",
    "def dowork(mytups):\n",
    "    pd,fh,subset,basegraphname,oldpop,newpop=mytups\n",
    "    pm.graph_substitute_uniq(pD,fh,subset,basegraphname,oldpop,newpop,comments='NA',)\n",
    "    \n",
    "mymodel=\"Tianyuan.A2_n3_f11_f25_f65_f76_n11\"\n",
    "getrid=['Mixe','Surui']\n",
    "for newsub in namers:\n",
    "    print newsub\n",
    "    myinputs = [(pD,fh,subset,\"Han.Surui.sub%s.Malta1.Ami.%s\" % (newsub,mymodel),getrid[1],i) for i in namers if i not in [getrid[1],newsub]]\n",
    "    mypool = Pool(12)\n",
    "    results = mypool.map(dowork, myinputs)\n",
    "\n",
    "#myinputs = [(pD,fh,subset,\"sub%s.Surui.Mixe.Malta1.subAtayal.Tianyuan.A2_n3_n5_f24_f54_f62_n10\" % i,'Atayal','Han') for i in eas if i not in [getrid[1],'Atayal']]\n",
    "#mypool = Pool(12)\n",
    "#results = mypool.map(dowork, myinputs)\n",
    "#dowork(pD,fh,subset,\"subAtayal.Surui.Mixe.Malta1.subAmi.Tianyuan.A2_n3_n5_f24_f54_f62_n10\",'Ami','Han')"
   ]
  },
  {
   "cell_type": "code",
   "execution_count": 14,
   "metadata": {},
   "outputs": [
    {
     "name": "stdout",
     "output_type": "stream",
     "text": [
      "qpGraph -p /home/mel_yang/projects/allTYstuff/SOMX11_qpGraph/UPA_all2.graph.mTY.par -g /home/mel_yang/projects/allTYstuff/SOMX11_qpGraph/Han.subKaritiana.subsubChane.Malta1.Ami.Tianyuan.A2_n3_n5_f24_f54_f62_n10 -o /home/mel_yang/projects/allTYstuff/SOMX11_qpGraph/Han.subKaritiana.subsubChane.Malta1.Ami.Tianyuan.A2_n3_n5_f24_f54_f62_n10.UPA_all2.mTY.out -d /home/mel_yang/projects/allTYstuff/SOMX11_qpGraph/Han.subKaritiana.subsubChane.Malta1.Ami.Tianyuan.A2_n3_n5_f24_f54_f62_n10.UPA_all2.mTY.dot\n"
     ]
    },
    {
     "data": {
      "text/plain": [
       "'Substituted a label!!'"
      ]
     },
     "execution_count": 14,
     "metadata": {},
     "output_type": "execute_result"
    }
   ],
   "source": [
    "import projmodules as pm\n",
    "pD = \"/home/mel_yang/projects/allTYstuff/SOMX11_qpGraph/\"\n",
    "fh = 'UPA_all2'\n",
    "subset = \"mTY\"\n",
    "basegraphname=\"Han.subKaritiana.subPima.Malta1.Ami.Tianyuan.A2_n3_n5_f24_f54_f62_n10\"\n",
    "oldpop=\"Pima\"\n",
    "newpop=\"Chane\"\n",
    "pm.graph_substitute_uniq(pD,fh,subset,basegraphname,oldpop,newpop,comments='NA',)"
   ]
  },
  {
   "cell_type": "code",
   "execution_count": 25,
   "metadata": {},
   "outputs": [],
   "source": [
    "%%bash\n",
    "pd=\"/home/mel_yang/projects/allTYstuff/SOMX11_qpGraph/\"\n",
    "fh=\"UPA_all2\"\n",
    "subset=\"mTY\"\n",
    "endpdf=\".\"${fh}\".\"${subset}\".out\"\n",
    "endpdf=\"\"\n",
    "mymodel=\"Tianyuan.A2_n3_n4_f24_f51_f75_n11\"\n",
    "mymodel=\"Tianyuan.A2_n3_n5_f24_f54_f62_n10\"\n",
    "mymodel=\"Tianyuan.A2_n3_f11_f25_f65_f76_n11\"\n",
    "MA=\"Malta1.Ami.\" ##or Ami.Malta1.\n",
    "##Malta1.Ami\n",
    "cp ${pd}Han.Surui.Mixe.${MA}${mymodel}${endpdf} ${pd}Han.Surui.subMixe.${MA}${mymodel}${endpdf}\n",
    "\n",
    "#for i in Chane Karitiana Mayan Mixe Piapoco Pima Quechua Zapotec Clovis; do\n",
    "#    cp ${pd}Han.sub${i}.subsubSurui.${MA}${mymodel}${endpdf} ${pd}Han.sub${i}.subSurui.${MA}${mymodel}${endpdf}\n",
    "#done\n",
    "\n",
    "#for i in Chane Karitiana Mayan Mixe Piapoco Pima Quechua Zapotec Clovis; do\n",
    "#    cp ${pd}Han.Surui.sub${i}.${MA}${mymodel}${endpdf} ${pd}Han.subSurui.sub${i}.${MA}${mymodel}${endpdf}\n",
    "#done\n",
    "\n",
    "\n",
    "#cp ${pd}Han.Surui.Mixe.${MA}${mymodel}${endpdf} ${pd}Han.Surui.Mixe.Malta1.subAmi.${mymodel}${endpdf}\n",
    "##Ami.Malta1\n",
    "#cp ${pd}Han.Surui.Mixe.${MA}${mymodel}${endpdf} ${pd}Han.Surui.subMixe.${MA}${mymodel}${endpdf}\n",
    "#cp ${pd}Han.Surui.Mixe.${MA}${mymodel}${endpdf} ${pd}Han.Surui.Mixe.subAmi.Malta1.${mymodel}${endpdf}\n"
   ]
  },
  {
   "cell_type": "code",
   "execution_count": 68,
   "metadata": {},
   "outputs": [
    {
     "name": "stdout",
     "output_type": "stream",
     "text": [
      "Overwriting /home/mel_yang/projects/allTYstuff/SOMX11_qpGraph/A2_subsubEAsfaster.py\n"
     ]
    }
   ],
   "source": [
    "%%writefile /home/mel_yang/projects/allTYstuff/SOMX11_qpGraph/A2_subsubEAsfaster.py\n",
    "import TY_maindata as md\n",
    "import projmodules as pm\n",
    "pD = \"/home/mel_yang/projects/allTYstuff/SOMX11_qpGraph/\"\n",
    "fh = 'UPA_all2'\n",
    "eas = ['Ami', 'Atayal', 'Burmese', 'Cambodian', 'Dai', 'Daur', \n",
    "              'Han', 'Hezhen', 'Japanese', 'Kinh', 'Korean', 'Lahu', \n",
    "              'Miao', 'Naxi', 'Oroqen', 'She', 'Thai', 'Tu', 'Tujia', \n",
    "              'Uygur', 'Xibo', 'Yi','Dusun','Igorot','Mongola','Tibetan']\n",
    "#eas = ['Yi','Dusun','Igorot','Mongola','Tibetan']\n",
    "newerpop='Tibetan'\n",
    "subpop='Han'\n",
    "for newpop in eas:\n",
    "    if newpop == newerpop: continue\n",
    "    if newpop == subpop: continue\n",
    "    if newerpop == subpop: continue\n",
    "    subset = \"mTY\"\n",
    "    basegraphname,pop1 = ('Han.Surui.Mixe.sub%s.Malta1.Tianyuan.A2_n3_n4_f24_f51_f75_n11' % newpop,subpop)\n",
    "    pm.graph_substitute_uniq(pD,fh,subset,basegraphname,pop1,newerpop,comments='NA',)\n",
    "\n",
    "##basegraphname,pop1 = ('subAmi.Surui.Mixe.subAtayal.Malta1.Tianyuan.A2_n3_n4_f24_f51_f75_n11','Atayal')\n",
    "##pm.graph_substitute_uniq(pD,fh,subset,basegraphname,pop1,'Han',comments='NA',)\n",
    "##NEED TO TAKE subAmi....subAtayal and add Han where Atayal is! AND THEN CHANGE subsubHan to subHan!"
   ]
  },
  {
   "cell_type": "code",
   "execution_count": 63,
   "metadata": {},
   "outputs": [
    {
     "name": "stdout",
     "output_type": "stream",
     "text": [
      "Overwriting /home/mel_yang/projects/allTYstuff/SOMX11_qpGraph/A2_subsubEAs.py\n"
     ]
    }
   ],
   "source": [
    "%%writefile /home/mel_yang/projects/allTYstuff/SOMX11_qpGraph/A2_subsubEAs.py\n",
    "import TY_maindata as md\n",
    "import projmodules as pm\n",
    "pD = \"/home/mel_yang/projects/allTYstuff/SOMX11_qpGraph/\"\n",
    "fh = 'UPA_all2'\n",
    "subset = \"mTY\"\n",
    "eas = ['Ami', 'Atayal', 'Burmese', 'Cambodian', 'Dai', 'Daur', \n",
    "              'Han', 'Hezhen', 'Japanese', 'Kinh', 'Korean', 'Lahu', \n",
    "              'Miao', 'Naxi', 'Oroqen', 'She', 'Thai', 'Tu', 'Tujia', \n",
    "              'Uygur', 'Xibo', 'Yi','Dusun','Igorot','Mongola','Tibetan']\n",
    "'''\n",
    "for newerpop in eas:\n",
    "    subpop='Han'\n",
    "    for newpop in eas:\n",
    "        if newpop == newerpop: continue\n",
    "        if newpop == subpop: continue\n",
    "        if newerpop == subpop: continue\n",
    "        \n",
    "        basegraphname,pop1 = ('Han.Surui.Mixe.sub%s.Malta1.Tianyuan.A2_n3_n4_f24_f51_f75_n11' % newpop,subpop)\n",
    "        pm.graph_substitute_uniq(pD,fh,subset,basegraphname,pop1,newerpop,comments='NA',)\n",
    "'''\n",
    "for i in eas:\n",
    "    if i in ['Ami','Han']: continue\n",
    "    basegraphname,pop1 = ('sub%s.Surui.Mixe.subAmi.Malta1.Tianyuan.A2_n3_n4_f24_f51_f75_n11' % i,'Ami')\n",
    "    pm.graph_substitute_uniq(pD,fh,subset,basegraphname,pop1,'Han',comments='NA',)\n",
    "        \n",
    "#basegraphname,pop1 = ('subAmi.Surui.Mixe.subAtayal.Malta1.Tianyuan.A2_n3_n4_f24_f51_f75_n11','Atayal')\n",
    "#pm.graph_substitute_uniq(pD,fh,subset,basegraphname,pop1,'Han',comments='NA',)\n",
    "##NEED TO TAKE subAmi....subAtayal and add Han where Atayal is! AND THEN CHANGE subsubHan to subHan!"
   ]
  },
  {
   "cell_type": "code",
   "execution_count": 69,
   "metadata": {},
   "outputs": [
    {
     "name": "stdout",
     "output_type": "stream",
     "text": [
      "Chane Karitiana Mayan Mixe Piapoco Pima Quechua Surui Zapotec\n",
      "Ami Atayal Burmese Cambodian Dai Daur Han Hezhen Japanese Kinh Korean Lahu Miao Naxi Oroqen She Thai Tu Tujia Uygur Xibo Yi Dusun Igorot Mongola Tibetan\n"
     ]
    }
   ],
   "source": [
    "namers = ['Chane','Karitiana','Mayan','Mixe','Piapoco','Pima','Quechua','Surui','Zapotec']\n",
    "print ' '.join(namers)\n",
    "eas = ['Ami', 'Atayal', 'Burmese', 'Cambodian', 'Dai', 'Daur', \n",
    "              'Han', 'Hezhen', 'Japanese', 'Kinh', 'Korean', 'Lahu', \n",
    "              'Miao', 'Naxi', 'Oroqen', 'She', 'Thai', 'Tu', 'Tujia', \n",
    "              'Uygur', 'Xibo', 'Yi','Dusun','Igorot','Mongola','Tibetan']\n",
    "print ' '.join(eas)"
   ]
  },
  {
   "cell_type": "code",
   "execution_count": 41,
   "metadata": {},
   "outputs": [],
   "source": [
    "%%bash\n",
    "pd=\"/home/mel_yang/projects/allTYstuff/SOMX11_qpGraph/\"\n",
    "fh=\"UPA_all2\"\n",
    "subset=\"mTY\"\n",
    "endpdf=\".\"${fh}\".\"${subset}\".out\"\n",
    "cp ${pd}Han.Surui.Mixe.Ami.Malta1.Tianyuan.A2_n3_n4_f24_f51_f75_n11${endpdf} ${pd}Han.Surui.subMixe.Ami.Malta1.Tianyuan.A2_n3_n4_f24_f51_f75_n11${endpdf}\n",
    "cp ${pd}Han.Surui.Mixe.Ami.Malta1.Tianyuan.A2_n3_n4_f24_f51_f75_n11${endpdf} ${pd}Han.Surui.Mixe.subAmi.Malta1.Tianyuan.A2_n3_n4_f24_f51_f75_n11${endpdf}"
   ]
  },
  {
   "cell_type": "code",
   "execution_count": 58,
   "metadata": {},
   "outputs": [],
   "source": [
    "%%bash\n",
    "pd=\"/home/mel_yang/projects/allTYstuff/SOMX11_qpGraph/\"\n",
    "fh=\"UPA_all2\"\n",
    "subset=\"mTY\"\n",
    "endpdf=\".\"${fh}\".\"${subset}\".out\"\n",
    "\n",
    "for i in Chane Karitiana Mayan Mixe Piapoco Pima Quechua Zapotec Clovis; do\n",
    "    cp ${pd}Han.sub${i}.subsubSurui.Ami.Malta1.Tianyuan.A2_n3_n4_f24_f51_f75_n11${endpdf} ${pd}Han.sub${i}.subSurui.Ami.Malta1.Tianyuan.A2_n3_n4_f24_f51_f75_n11${endpdf}\n",
    "done\n",
    "\n",
    "for i in Chane Karitiana Mayan Mixe Piapoco Pima Quechua Zapotec Clovis; do\n",
    "    cp ${pd}Han.Surui.sub${i}.Ami.Malta1.Tianyuan.A2_n3_n4_f24_f51_f75_n11${endpdf} ${pd}Han.subSurui.sub${i}.Ami.Malta1.Tianyuan.A2_n3_n4_f24_f51_f75_n11${endpdf}\n",
    "done"
   ]
  },
  {
   "cell_type": "code",
   "execution_count": 71,
   "metadata": {},
   "outputs": [
    {
     "name": "stderr",
     "output_type": "stream",
     "text": [
      "cp: cannot stat ‘/home/mel_yang/projects/allTYstuff/SOMX11_qpGraph/subHan.Surui.Mixe.subsubHan.Malta1.Tianyuan.A2_n3_n4_f24_f51_f75_n11.UPA_all2.mTY.log’: No such file or directory\n"
     ]
    }
   ],
   "source": [
    "\n",
    "%%bash\n",
    "pd=\"/home/mel_yang/projects/allTYstuff/SOMX11_qpGraph/\"\n",
    "fh=\"UPA_all2\"\n",
    "subset=\"mTY\"\n",
    "endpdf=\".\"${fh}\".\"${subset}\".log\"\n",
    "\n",
    "for i in Ami Atayal Burmese Cambodian Dai Daur Han Hezhen Japanese Kinh Korean Lahu Miao Naxi Oroqen She Thai Tu Tujia Uygur Xibo Yi Dusun Igorot Mongola Tibetan; do\n",
    "    cp ${pd}sub${i}.Surui.Mixe.subsubHan.Malta1.Tianyuan.A2_n3_n4_f24_f51_f75_n11${endpdf} ${pd}sub${i}.Surui.Mixe.subHan.Malta1.Tianyuan.A2_n3_n4_f24_f51_f75_n11${endpdf}\n",
    "\n",
    "    cp ${pd}Han.Surui.Mixe.sub${i}.Malta1.Tianyuan.A2_n3_n4_f24_f51_f75_n11${endpdf} ${pd}subHan.Surui.Mixe.sub${i}.Malta1.Tianyuan.A2_n3_n4_f24_f51_f75_n11${endpdf}\n",
    "done"
   ]
  },
  {
   "cell_type": "code",
   "execution_count": null,
   "metadata": {},
   "outputs": [],
   "source": [
    "%%bash\n",
    "pd=\"/home/mel_yang/projects/allTYstuff/SOMX11_qpGraph/\"\n",
    "fh=\"UPA_all2\"\n",
    "subset=\"mTY\"\n",
    "endpdf=\".\"${fh}\".\"${subset}\".out\"\n",
    "\n",
    "for i in Chane Karitiana Mayan Mixe Piapoco Pima Quechua Zapotec Clovis; do\n",
    "    cp ${pd}Han.sub${i}.subsubSurui.Ami.Malta1.Tianyuan.A2_n3_n4_f24_f51_f75_n11${endpdf} ${pd}Han.sub${i}.subSurui.Ami.Malta1.Tianyuan.A2_n3_n4_f24_f51_f75_n11${endpdf}\n",
    "done\n",
    "\n",
    "for i in Chane Karitiana Mayan Mixe Piapoco Pima Quechua Zapotec Clovis; do\n",
    "    cp ${pd}Han.Surui.sub${i}.Ami.Malta1.Tianyuan.A2_n3_n4_f24_f51_f75_n11${endpdf} ${pd}Han.subSurui.sub${i}.Ami.Malta1.Tianyuan.A2_n3_n4_f24_f51_f75_n11${endpdf}\n",
    "done"
   ]
  },
  {
   "cell_type": "code",
   "execution_count": 23,
   "metadata": {},
   "outputs": [
    {
     "name": "stdout",
     "output_type": "stream",
     "text": [
      "Chane\n",
      "Karitiana\n",
      "Mayan\n",
      "Mixe\n",
      "Piapoco\n",
      "Pima\n",
      "Quechua\n",
      "Surui\n",
      "Zapotec\n",
      "Chane Karitiana Mayan Mixe Piapoco Pima Quechua Surui Zapotec\n"
     ]
    }
   ],
   "source": [
    "\n",
    "import projmodules as pm\n",
    "import numpy as np\n",
    "\n",
    "pD = \"/home/mel_yang/projects/allTYstuff/SOMX11_qpGraph/\"\n",
    "fh = 'UPA_all2'\n",
    "subset = 'mTY'\n",
    "\n",
    "mymodel,newname=(\"Tianyuan.A2_n3_n4_f24_f51_f75_n11\",\"subAmerSCsubAmerSC7A\")\n",
    "mymodel,newname=(\"Tianyuan.A2_n3_n5_f24_f54_f62_n10\",\"subAmerSCsubAmerSC7B\")\n",
    "\n",
    "mypops = ['Chane','Karitiana','Mayan','Mixe','Piapoco','Pima','Quechua','Surui','Zapotec']\n",
    "\n",
    "maxZ=np.zeros((len(mypops),len(mypops)))\n",
    "fary=np.zeros((len(mypops),len(mypops)))\n",
    "dist=np.zeros((len(mypops),len(mypops)))\n",
    "for ind1,vilpop in enumerate(mypops):\n",
    "    #print vilpop\n",
    "    print vilpop\n",
    "    for ind2,epop in enumerate(mypops):\n",
    "        if vilpop==epop: continue\n",
    "        middlestuff=\"Han.sub%s.sub%s.Malta1.Ami.%s\" % (vilpop, epop,mymodel)\n",
    "        #print vilpop, epop\n",
    "        myfile = open(pD+\"%s.%s.%s.log\" % (middlestuff,fh,subset),'r')\n",
    "        myfile1 = open(pD+\"%s.%s.%s.out\" % (middlestuff,fh,subset),'r')\n",
    "        lines = myfile.readlines()\n",
    "        lines1 = myfile1.readlines()\n",
    "        fstat = lines1[-1].split()[-2]\n",
    "        #print vilpop[:3].upper()+'0', epop[:3].upper()+'0'\n",
    "        #print lines1\n",
    "        #print [line for line in lines1 if vilpop[:3].upper()+'0' in line and epop[:3].upper()+'0' in line]\n",
    "        #distval = [line for line in lines1 if vilpop[:3].upper()+'0' in line and epop[:3].upper()+'0' in line][0].split()[-1]\n",
    "        #distval = [line for line in lines1 if 'HAN'+'0' in line and epop[:3].upper()+'0' in line][0].split()[-1]\n",
    "        distval = [line for line in lines1 if 'AMI'+'0' in line and vilpop[:3].upper()+'0' in line][0].split()[-1]\n",
    "        myfile.close(); myfile1.close()\n",
    "        #print ind2, vilpop, epop, keep, \"sub%s.sub%s.%s.%s.%s.log\" % (epop,vilpop,middlestuff,fh,subset)\n",
    "        #keep=[line for line in lines if 'worst' in line][0].split()[-1] ##FIG7A\n",
    "        #print \"Han.sub%s.sub%s.Malta1.Ami.%s\" % (vilpop, epop,mymodel),[line for line in lines if 'worst' in line]\n",
    "        keep=[line for line in lines if 'worst' in line][0].split()[-1] ##FIG7B\n",
    "        #print ind2,keep\n",
    "        maxZ[ind2,ind1]=keep\n",
    "        dist[ind2,ind1]=distval\n",
    "        fary[ind2,ind1]=fstat\n",
    "        #print epop+'\\t'+keep+'\\t'+fstat\n",
    "print ' '.join(mypops)\n",
    "np.savetxt(pD+newname+'.'+fh+'.'+subset+'.maxZ', maxZ, fmt='%1.3f')\n",
    "np.savetxt(pD+newname+'.'+fh+'.'+subset+'.fary', 1-fary, fmt='%.3f')\n",
    "np.savetxt(pD+newname+'.'+fh+'.'+subset+'.dist', dist, fmt='%.3f')\n",
    "#print maxZ\n",
    "#print 1-fary"
   ]
  },
  {
   "cell_type": "code",
   "execution_count": 76,
   "metadata": {},
   "outputs": [
    {
     "name": "stdout",
     "output_type": "stream",
     "text": [
      "Ami\n",
      "Atayal\n",
      "Burmese\n",
      "Cambodian\n",
      "Dai\n",
      "Daur\n",
      "Han\n",
      "Hezhen\n",
      "Japanese\n",
      "Kinh\n",
      "Korean\n",
      "Lahu\n",
      "Miao\n",
      "Naxi\n",
      "Oroqen\n",
      "She\n",
      "Thai\n",
      "Tu\n",
      "Tujia\n",
      "Uygur\n",
      "Xibo\n",
      "Yi\n",
      "Dusun\n",
      "Igorot\n",
      "Mongola\n",
      "Tibetan\n",
      "Ami Atayal Burmese Cambodian Dai Daur Han Hezhen Japanese Kinh Korean Lahu Miao Naxi Oroqen She Thai Tu Tujia Uygur Xibo Yi Dusun Igorot Mongola Tibetan\n"
     ]
    }
   ],
   "source": [
    "import TY_maindata as md\n",
    "import projmodules as pm\n",
    "import numpy as np\n",
    "\n",
    "pD = \"/home/mel_yang/projects/allTYstuff/SOMX11_qpGraph/\"\n",
    "fh = 'UPA_all2'\n",
    "subset = 'mTY'\n",
    "\n",
    "newname=\"subEASsubEAS7A\"\n",
    "\n",
    "mypops = ['Ami', 'Atayal', 'Burmese', 'Cambodian', 'Dai', 'Daur', \n",
    "              'Han', 'Hezhen', 'Japanese', 'Kinh', 'Korean', 'Lahu', \n",
    "              'Miao', 'Naxi', 'Oroqen', 'She', 'Thai', 'Tu', 'Tujia', \n",
    "              'Uygur', 'Xibo', 'Yi','Dusun','Igorot','Mongola','Tibetan']\n",
    "\n",
    "maxZ=np.zeros((len(mypops),len(mypops)))\n",
    "fary=np.zeros((len(mypops),len(mypops)))\n",
    "dist=np.zeros((len(mypops),len(mypops)))\n",
    "for ind1,vilpop in enumerate(mypops):\n",
    "    #print vilpop\n",
    "    print vilpop\n",
    "    for ind2,epop in enumerate(mypops):\n",
    "        if vilpop==epop: continue\n",
    "        middlestuff=\"sub%s.Surui.Mixe.sub%s.Malta1.Tianyuan.A2_n3_n4_f24_f51_f75_n11\" % (vilpop, epop)\n",
    "        #print vilpop, epop\n",
    "        myfile = open(pD+\"%s.%s.%s.log\" % (middlestuff,fh,subset),'r')\n",
    "        myfile1 = open(pD+\"%s.%s.%s.out\" % (middlestuff,fh,subset),'r')\n",
    "        lines = myfile.readlines()\n",
    "        lines1 = myfile1.readlines()\n",
    "        fstat = lines1[-1].split()[-2]\n",
    "        #print vilpop[:3].upper()+'0', epop[:3].upper()+'0'\n",
    "        #print lines1\n",
    "        #print [line for line in lines1 if vilpop[:3].upper()+'0' in line and epop[:3].upper()+'0' in line]\n",
    "        #distval = [line for line in lines1 if vilpop[:3].upper()+'0' in line and epop[:3].upper()+'0' in line][0].split()[-1]\n",
    "        #distval = [line for line in lines1 if 'HAN'+'0' in line and epop[:3].upper()+'0' in line][0].split()[-1]\n",
    "        myfile.close(); myfile1.close()\n",
    "        #print ind2, vilpop, epop, keep, \"sub%s.sub%s.%s.%s.%s.log\" % (epop,vilpop,middlestuff,fh,subset)\n",
    "        keep=[line for line in lines if 'worst' in line][0].split()[-1]\n",
    "        #print ind2,keep\n",
    "        maxZ[ind2,ind1]=keep\n",
    "        #dist[ind2,ind1]=distval\n",
    "        fary[ind2,ind1]=fstat\n",
    "        #print epop+'\\t'+keep+'\\t'+fstat\n",
    "print ' '.join(mypops)\n",
    "np.savetxt(pD+newname+'.'+fh+'.'+subset+'.maxZ', maxZ, fmt='%1.3f')\n",
    "np.savetxt(pD+newname+'.'+fh+'.'+subset+'.fary', 1-fary, fmt='%.3f')\n",
    "#np.savetxt(pD+newname+'.'+fh+'.'+subset+'.dist', dist, fmt='%.3f')\n",
    "#print maxZ\n",
    "#print 1-fary"
   ]
  },
  {
   "cell_type": "code",
   "execution_count": null,
   "metadata": {},
   "outputs": [],
   "source": []
  }
 ],
 "metadata": {
  "kernelspec": {
   "display_name": "Python 2",
   "language": "python",
   "name": "python2"
  },
  "language_info": {
   "codemirror_mode": {
    "name": "ipython",
    "version": 2
   },
   "file_extension": ".py",
   "mimetype": "text/x-python",
   "name": "python",
   "nbconvert_exporter": "python",
   "pygments_lexer": "ipython2",
   "version": "2.7.13"
  }
 },
 "nbformat": 4,
 "nbformat_minor": 1
}
