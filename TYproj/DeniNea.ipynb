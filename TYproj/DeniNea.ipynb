{
 "cells": [
  {
   "cell_type": "code",
   "execution_count": 2,
   "metadata": {},
   "outputs": [
    {
     "name": "stdout",
     "output_type": "stream",
     "text": [
      "Overwriting /mnt/solexa/mel_yang/allTYstuff/postsubmission/calcD_testArc.py\n"
     ]
    }
   ],
   "source": [
    "%%writefile /mnt/solexa/mel_yang/allTYstuff/postsubmission/calcD_testArc.py\n",
    "import plotting_funcs as pf\n",
    "\n",
    "eas=['Ami', 'Atayal', 'Burmese', 'Cambodian', 'Dai', 'Daur', \n",
    "              'Han', 'Hezhen', 'Japanese', 'Kinh', 'Korean', 'Lahu', \n",
    "              'Miao', 'Naxi', 'Oroqen', 'She', 'Thai', 'Tu', 'Tujia', \n",
    "              'Uygur', 'Xibo', 'Yi','Ulchi',\"Tianyuan\",'Boisman_MN',\n",
    "             \"BoshanChineseNeolithic\",'Chokhopani','Mbuti']\n",
    "\n",
    "west=['UstIshim',\"Kostenki14\",\"Vestonice16\",\"GoyetQ116-1\",'Pavlov1','KremsWA3','Ostuni1','HohleFels49',\n",
    "      \"ElMiron\",\"Malta1\",\"Villabruna\",'Bichon','Rochedane_N','Ranchot88',\n",
    "      \"Loschbour\",'LaBrana1','Hungarian.KO1','Motala12','Karelia','LaRochette',\n",
    "      \"Stuttgart\",\"Satsurblia\",\"Sardinian\",\"French\"]\n",
    "\n",
    "\n",
    "pD = \"/mnt/solexa/mel_yang/data/2.2M/\"\n",
    "outpd=\"/mnt/solexa/mel_yang/allTYstuff/postsubmission/\"\n",
    "fhs = ['UPA16']\n",
    "myid2 = 'NEA'\n",
    "myid3 = 'MH'\n",
    "archaics = ['Denisovan','Vindija','Mezmaiskaya']\n",
    "p1s = [\"Altai\"]\n",
    "p4s = ['Chimp'] \n",
    "bsf,bsfsubset=(0,'all')\n",
    "\n",
    "for fh in fhs:\n",
    "    for myp1 in p1s:\n",
    "        for myp4 in p4s:\n",
    "            p1,p2,p3,p4 = (myp1,archaics,eas+west,myp4)\n",
    "            subset = bsfsubset+'.'+p1+'_'+myid2+'_'+myid3+'_'+p4\n",
    "            mytups = [(p1,i,j,p4,'p1_'+i) for ind,i in enumerate(p2) for j in p3 if i != j and p1!=i and p1!=j]\n",
    "            pf.runD(p2,p3,mytups,pD,fh,subset,(1,2),(0,),fixed=(p1,0,0,p4),badsnpfile=bsf,outpd=outpd)"
   ]
  },
  {
   "cell_type": "code",
   "execution_count": null,
   "metadata": {
    "collapsed": true
   },
   "outputs": [],
   "source": []
  }
 ],
 "metadata": {
  "kernelspec": {
   "display_name": "Python 2",
   "language": "python",
   "name": "python2"
  },
  "language_info": {
   "codemirror_mode": {
    "name": "ipython",
    "version": 2
   },
   "file_extension": ".py",
   "mimetype": "text/x-python",
   "name": "python",
   "nbconvert_exporter": "python",
   "pygments_lexer": "ipython2",
   "version": "2.7.13"
  }
 },
 "nbformat": 4,
 "nbformat_minor": 2
}
