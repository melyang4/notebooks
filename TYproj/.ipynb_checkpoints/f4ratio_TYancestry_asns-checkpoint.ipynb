{
 "cells": [
  {
   "cell_type": "code",
   "execution_count": 6,
   "metadata": {
    "collapsed": false
   },
   "outputs": [
    {
     "name": "stdout",
     "output_type": "stream",
     "text": [
      "Overwriting /mnt/solexa/mel_yang/bronzeage/f4ratio/calcf4TY.py\n"
     ]
    }
   ],
   "source": [
    "%%writefile /mnt/solexa/mel_yang/bronzeage/f4ratio/calcf4TY.py\n",
    "##also do several SGDP indivs!\n",
    "import plotting_funcs as pf\n",
    "import projmodules as pm\n",
    "from subprocess import Popen, PIPE\n",
    "import HOdata\n",
    "easinds=HOdata.alleas\n",
    "outmost=\"Mbuti\"\n",
    "pD = '/mnt/solexa/mel_yang/bronzeage/data/'\n",
    "outpd=\"/mnt/solexa/mel_yang/bronzeage/f4ratio/\"\n",
    "fh = 'ind_A_v13_TBH5'\n",
    "\n",
    "for myreg2 in [\"Onge\"]+easinds:\n",
    "    subset = 'targetXEAS_CTY_A%s_E%s' % (myreg2,outmost)\n",
    "    Xs = easinds\n",
    "    ABCs = [(myreg2,myreg1,'Tianyuan') for myreg1 in easinds if myreg1 not in [myreg2,\"Tianyuan\"]]\n",
    "    out = [outmost]\n",
    "    pm.f4runitall(ABCs, Xs, out, pD, fh, subset,outpd=outpd)"
   ]
  },
  {
   "cell_type": "code",
   "execution_count": 8,
   "metadata": {
    "collapsed": false
   },
   "outputs": [
    {
     "name": "stdout",
     "output_type": "stream",
     "text": [
      "Overwriting /mnt/solexa/mel_yang/bronzeage/f4ratio/calcf4K14_Ust.py\n"
     ]
    }
   ],
   "source": [
    "%%writefile /mnt/solexa/mel_yang/bronzeage/f4ratio/calcf4K14_Ust.py\n",
    "##also do several SGDP indivs!\n",
    "import plotting_funcs as pf\n",
    "import projmodules as pm\n",
    "from subprocess import Popen, PIPE\n",
    "import HOdata\n",
    "easinds=HOdata.alleas\n",
    "outmost=\"Mbuti\"\n",
    "pD = '/mnt/solexa/mel_yang/bronzeage/data/'\n",
    "outpd=\"/mnt/solexa/mel_yang/bronzeage/f4ratio/\"\n",
    "fh = 'ind_A_v13_TBH5'\n",
    "myC=\"UstIshim\"\n",
    "for myreg2 in [\"Onge\"]+easinds:\n",
    "    subset = 'targetXEAS_C%s_A%s_E%s' % (myC,myreg2,outmost)\n",
    "    Xs = easinds\n",
    "    ABCs = [(myreg2,myreg1,myC) for myreg1 in easinds if myreg1 not in [myreg2,myC]]\n",
    "    out = [outmost]\n",
    "    pm.f4runitall(ABCs, Xs, out, pD, fh, subset,outpd=outpd)"
   ]
  },
  {
   "cell_type": "code",
   "execution_count": null,
   "metadata": {
    "collapsed": true
   },
   "outputs": [],
   "source": []
  }
 ],
 "metadata": {
  "kernelspec": {
   "display_name": "Python 2",
   "language": "python",
   "name": "python2"
  },
  "language_info": {
   "codemirror_mode": {
    "name": "ipython",
    "version": 2
   },
   "file_extension": ".py",
   "mimetype": "text/x-python",
   "name": "python",
   "nbconvert_exporter": "python",
   "pygments_lexer": "ipython2",
   "version": "2.7.6"
  }
 },
 "nbformat": 4,
 "nbformat_minor": 2
}
