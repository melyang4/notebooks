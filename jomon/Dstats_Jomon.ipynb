{
 "cells": [
  {
   "cell_type": "code",
   "execution_count": 17,
   "metadata": {},
   "outputs": [
    {
     "name": "stdout",
     "output_type": "stream",
     "text": [
      "Jomon\n",
      "JomonM\n"
     ]
    }
   ],
   "source": [
    "import fstat_funcs as ff\n",
    "import numpy as np\n",
    "pD=\"/mnt/solexa/mel_yang/early_CN/\"\n",
    "outpd=\"/mnt/solexa/mel_yang/early_CN/xlsx_D2/\"\n",
    "fh=\"F4.list.F42\"\n",
    "mylst=[line.strip() for line in open(pD+\"list\",\"r\")]\n",
    "out=\"Mbuti\"        \n",
    "published=[\"Tianyuan\",\"Jomon\",\"JomonM\",\"DevilsGate\",\"Shamanka_EN\"]\n",
    "western=[\"ZongriM297\",\"Hejiatai\",\"PukagongmaM5\",\"Jinchankou0\",\"Chokhopani\",\"Mebrak\",\"Samdzong\"] #\"Zrongri\",\n",
    "aseas=[\"La368_G1\",\"Nui_Nap\",\"Vt719_G3_1\",\"Vt777_G3\",\"Ma555_G6\",\n",
    "       \"Oakaie1\",\"Man_Bac\",\"Ban_Chiang\",\n",
    "       \"Vt833_G2\",\"Vt880_G2\",\"La727_G2\",\"Ma912_G2\",\"Th521_G4\",\"In662_G5\"] #\"Phl534_G6\",\"Vat_Komnou\",\n",
    "\n",
    "seas=[\"Ami\",\"Atayal\",\"Dai\",\"Kinh\",\"Lahu\"]\n",
    "ceas=[\"Han\",\"Japanese\",\"Korean\",\"Miao\",\"She\",\"Tujia\"]\n",
    "weas=[\"Tibetan_ShannanX\",\"Tibetan_ChamdoX\",\"Naxi\",\"Yi\"]\n",
    "neas=[\"Daur\",\"Hezhen\",\"Oroqen\",\"Xibo\"]\n",
    "amer=[\"Surui\",\"Mixe\",\"Karitiana\",\"Pima\",\"Chane\",\"Onge\",\"Papuan\"]\n",
    "eas=neas+ceas+seas+weas\n",
    "\n",
    "mylst1= amer #aseas #western #published\n",
    "mylst2=eas\n",
    "varies=[\"Jomon\",\"JomonM\"]\n",
    "\n",
    "#for myind in [\"Bbdong\",\"Bbdong_sg\",\"XJS\",\"XJS_F\",\"Qihe\",\"Qihe_d\",\"Donghulin\",\"Zhaoguo\",\n",
    "#              \"Zongri-a\",\"Tianyuan\",\"La368_G1\",\"JomonM\",\"Oakaie1\",\"Ma912_G2\",\n",
    "#              \"Longlin\",\"Dushandong\",\"Baojianshan\",\"Baojianshan_d\"]:\n",
    "for myind in varies:\n",
    "    print myind\n",
    "    pops=[out,mylst1,myind,mylst2]\n",
    "    ff.Dmat2xlsx(ff.Dmkary(pD,fh,pops,\"Z\"),outpd+\"published.D1_\"+myind+\".ANCS_A.\"+fh,ff.Dmklabel(pops),mylst1,mylst2)\n",
    "    pops=[out,mylst2,myind,mylst1]\n",
    "    ff.Dmat2xlsx(ff.Dmkary(pD,fh,pops,\"Z\"),outpd+\"published.D2_\"+myind+\".ANCS_A.\"+fh,ff.Dmklabel(pops),mylst2,mylst1)\n",
    "    pops=[out,myind,mylst1,mylst2]\n",
    "    ff.Dmat2xlsx(ff.Dmkary(pD,fh,pops,\"Z\"),outpd+\"published.D3_\"+myind+\".ANCS_A.\"+fh,ff.Dmklabel(pops),mylst1,mylst2)\n"
   ]
  },
  {
   "cell_type": "code",
   "execution_count": 4,
   "metadata": {
    "collapsed": true
   },
   "outputs": [],
   "source": [
    "ff.Dmat2xlsx??"
   ]
  },
  {
   "cell_type": "code",
   "execution_count": null,
   "metadata": {
    "collapsed": true
   },
   "outputs": [],
   "source": []
  },
  {
   "cell_type": "code",
   "execution_count": null,
   "metadata": {
    "collapsed": true
   },
   "outputs": [],
   "source": []
  },
  {
   "cell_type": "code",
   "execution_count": 3,
   "metadata": {},
   "outputs": [
    {
     "name": "stdout",
     "output_type": "stream",
     "text": [
      "Overwriting /mnt/solexa/mel_yang/jomon/Dstats/calc_D_Jomon_v_aEA.py\n"
     ]
    }
   ],
   "source": [
    "%%writefile /mnt/solexa/mel_yang/jomon/Dstats/calc_D_Jomon_v_aEA.py\n",
    "##Regular NAmer, NAmer\n",
    "import plotting_funcs as pf\n",
    "\n",
    "aEA=[\"Boisman_MN\",\"HDYM1\",\"HQSDW\",\"Bbdong\",\"BoshanChineseNeolithic\",\"Linzi\",\n",
    "     \"Jomon\",\"Zongri-a\",\"Chokhopani\",\"LiangDaoChineseNeolithic\",\n",
    "    \"Longlin_com\",\"Longlin\",\"Daxi\",\"Xinyi_1\",\"Xinyi_2\",\"Xinyi_3\"]\n",
    "aASN=[\"Malta1\",\"Yana_old\",\"Yana_old2\",\"Kolyma_River\",\"MOS5\",\n",
    "      \"Clovis\",\"Tianyuan\",\"La368_G1\",\"Oakaie1\",\"Nui_Nap\"]\n",
    "EA = [\"Han\",\"Dai\",\"Ami\",\"Atayal\",\"Korean\",\"Japanese\",\"Papuan\",\"Onge\",\"French\",\"Sardinian\",\"Mixe\",\"Surui\"]\n",
    "asns=aEA+EA+aASN\n",
    "outs = [\"Mbuti\",\"Chimp\"]\n",
    "pD=\"/mnt/solexa/mel_yang/data/2.2M/\"\n",
    "outpd=\"/mnt/solexa/mel_yang/jomon/Dstats/\"\n",
    "fh=\"UPA17\"\n",
    "p3s = ['IK002_Jomon']\n",
    "\n",
    "for myp4 in outs:\n",
    "    for myp3 in p3s: \n",
    "        #D(X, Y; Jomon, Out)\n",
    "        p1,p2,p3,p4 = (asns,asns,myp3,myp4)\n",
    "        subset = \"ASN\"+'_'+\"ASN\"+'_'+p3+'_'+p4\n",
    "        mytups = [(i,j,p3,p4,'p2_'+i) for i in p1 for j in p2]\n",
    "        pf.runD(p1,p2,mytups,pD,fh,subset,(0,1),(0,),fixed=(0,0,p3,p4),outpd=outpd)\n",
    "        \n",
    "        \n",
    "        #D(X, Jomon; Y, Out)\n",
    "        p1,p2,p3,p4 = (asns,myp3,asns,myp4)\n",
    "        subset = \"ASN\"+'_'+p2+'_'+\"ASN\"+'_'+p4\n",
    "        mytups = [(i,p2,j,p4,'p2_'+i) for i in p1 for j in p3]\n",
    "        pf.runD(p1,p3,mytups,pD,fh,subset,(0,2),(1,),fixed=(0,p2,0,p4),outpd=outpd)\n",
    "        "
   ]
  },
  {
   "cell_type": "code",
   "execution_count": 1,
   "metadata": {},
   "outputs": [
    {
     "name": "stdout",
     "output_type": "stream",
     "text": [
      "Overwriting /mnt/solexa/mel_yang/jomon/Dstats/calc_D_Jomon_v_aEA_HO.py\n"
     ]
    }
   ],
   "source": [
    "%%writefile /mnt/solexa/mel_yang/jomon/Dstats/calc_D_Jomon_v_aEA_HO.py\n",
    "##Regular NAmer, NAmer\n",
    "import plotting_funcs as pf\n",
    "\n",
    "aEA=[\"Boisman_MN\",\"HDYM1\",\"HQSDW\",\"Bbdong\",\"BoshanChineseNeolithic\",\"Linzi\",\n",
    "     \"Jomon\",\"Zongri-a\",\"Chokhopani\",\"LiangDaoM\",\"LiangDaoF\",\n",
    "    \"Longlin_com\",\"Longlin\",\"Xinyi_1\",\"Xinyi_2\",\"Xinyi_3\"] #\"Daxi\",\n",
    "aASN=[\"Malta1\",\"Yana_old\",\"Yana_old2\",\"Kolyma_River\",\"MOS5\",\n",
    "      \"Clovis\",\"Tianyuan\",\"La368_G1\",\"Oakaie1\",\"Nui_Nap\"]\n",
    "EA = [\"Han\",\"Dai\",\"Ami\",\"Atayal\",\"Korean\",\"Japanese\",\"Ainu\",\"Papuan\",\"Onge\",\"French\",\"Sardinian\",\"Mixe\",\"Surui\"]\n",
    "asns=aEA+EA+aASN\n",
    "outs = [\"Mbuti\",\"Chimp\"]\n",
    "pD=\"/mnt/solexa/mel_yang/data/HO/\"\n",
    "outpd=\"/mnt/solexa/mel_yang/jomon/Dstats/\"\n",
    "fh=\"TBH15\"\n",
    "p3s = ['IK002_Jomon']\n",
    "\n",
    "for myp4 in outs:\n",
    "    for myp3 in p3s: \n",
    "        #D(X, Y; Jomon, Out)\n",
    "        p1,p2,p3,p4 = (asns,asns,myp3,myp4)\n",
    "        subset = \"ASN\"+'_'+\"ASN\"+'_'+p3+'_'+p4\n",
    "        mytups = [(i,j,p3,p4,'p2_'+i) for i in p1 for j in p2]\n",
    "        pf.runD(p1,p2,mytups,pD,fh,subset,(0,1),(0,),fixed=(0,0,p3,p4),outpd=outpd)\n",
    "        \n",
    "        \n",
    "        #D(X, Jomon; Y, Out)\n",
    "        p1,p2,p3,p4 = (asns,myp3,asns,myp4)\n",
    "        subset = \"ASN\"+'_'+p2+'_'+\"ASN\"+'_'+p4\n",
    "        mytups = [(i,p2,j,p4,'p2_'+i) for i in p1 for j in p3]\n",
    "        pf.runD(p1,p3,mytups,pD,fh,subset,(0,2),(1,),fixed=(0,p2,0,p4),outpd=outpd)\n",
    "        "
   ]
  },
  {
   "cell_type": "code",
   "execution_count": 1,
   "metadata": {
    "collapsed": true
   },
   "outputs": [],
   "source": []
  },
  {
   "cell_type": "code",
   "execution_count": 1,
   "metadata": {},
   "outputs": [
    {
     "name": "stdout",
     "output_type": "stream",
     "text": [
      "Made /mnt/solexa/mel_yang/jomon/Dstats/TBH15.D.ASN_IK002_Jomon_ASN_Mbuti!\n",
      "Made /mnt/solexa/mel_yang/jomon/Dstats/TBH15.D.ASN_ASN_IK002_Jomon_Mbuti!\n"
     ]
    }
   ],
   "source": [
    "import numpy as np\n",
    "import plateaumodules as pm\n",
    "\n",
    "aEA=[\"Boisman_MN\",\"HDYM1\",\"HQSDW\",\"Bbdong\",\"BoshanChineseNeolithic\",\"Linzi\",\n",
    "     \"Jomon\",\"Zongri-a\",\"Chokhopani\",\"LiangDaoChineseNeolithic\",\n",
    "    \"Longlin_com\",\"Longlin\",\"Daxi\",\"Xinyi_1\",\"Xinyi_2\",\"Xinyi_3\"]\n",
    "aASN=[\"Malta1\",\"Yana_old\",\"Yana_old2\",\"Kolyma_River\",\"MOS5\",\n",
    "      \"Clovis\",\"Tianyuan\",\"La368_G1\",\"Oakaie1\",\"Nui_Nap\"]\n",
    "EA = [\"Han\",\"Dai\",\"Ami\",\"Atayal\",\"Korean\",\"Japanese\",\"Papuan\",\"Onge\",\"French\",\"Sardinian\",\"Mixe\",\"Surui\"]\n",
    "asns=aEA+EA+aASN\n",
    "outs = [\"Mbuti\",\"Chimp\"]\n",
    "pD=\"/mnt/solexa/mel_yang/data/2.2M/\"\n",
    "outpd=\"/mnt/solexa/mel_yang/jomon/Dstats/\"\n",
    "fh=\"TBH15\"\n",
    "tv=\"\"\n",
    "DorZ=\"Z\"\n",
    "p3s = ['IK002_Jomon']\n",
    "out=\"Mbuti\"\n",
    "\n",
    "popA=asns\n",
    "popB=asns\n",
    "thirdpops=p3s\n",
    "for myind in thirdpops:\n",
    "    mypops1=[popA,myind,popB,out]\n",
    "    mypops2=[popA,popB,myind,out]\n",
    "    DorZ=\"Z\"\n",
    "    newfh1=fh+\".D.\"+\"ASN_%s_ASN_%s\" % (myind,out)\n",
    "    newfh2=fh+\".D.\"+\"ASN_ASN_%s_%s\" % (myind,out)\n",
    "    Zary = pm.mkDary(outpd,newfh1+\".log\",mypops1,(1,3),(0,2),DorZ,sd='True')    \n",
    "    print pm.Zmat2xlsx(Zary,outpd+newfh1,popA,popB,0,2)\n",
    "\n",
    "    Zary = pm.mkDary(outpd,newfh2+\".log\",mypops2,(2,3),(0,1),DorZ,sd='True')   \n",
    "    print pm.Zmat2xlsx(Zary,outpd+newfh2,popA,popB,0,1)"
   ]
  },
  {
   "cell_type": "code",
   "execution_count": 4,
   "metadata": {
    "collapsed": true
   },
   "outputs": [],
   "source": [
    "import plateaumodules as pm\n",
    "pm.mkDary??"
   ]
  },
  {
   "cell_type": "code",
   "execution_count": null,
   "metadata": {
    "collapsed": true
   },
   "outputs": [],
   "source": [
    "import numpy as np\n",
    "import plateaumodules as pm\n",
    "\n",
    "datpd=\"/mnt/solexa/mel_yang/aPlateau/update051518/\"\n",
    "outpd=\"/mnt/solexa/mel_yang/aPlateau/rev_072418/D_SI_AA/\"\n",
    "fh,tv,out=(\"complete2.dstat.log\",\"\",\"Mbuti\")\n",
    "#fh,tv=(\"complete.tv.dstat.log\",\".tv\")\n",
    "\n",
    "low=[\"Zongri-a\",\"Zongri-b\",\"Zongri-c\",\"ZongriM32\",\"ZongriM40\",#\"ZongriM78\",\n",
    "     \"Daxiang0\",\"Hedong6\",\"Hejiatai\",\"LiuwanQH-1\",\"XiahaishiM9\",#\"XiahaishiM22\",\n",
    "     \"Hupo-a\",\"Sanheyi11\",  #\"Hupo14\",\"Shangluzhuang0\",\n",
    "     \"Wuba\",\"HuoshaogouM117\",\n",
    "     \"Jinchankou0\",\"QijiapingM108-2\",\"QijiapingM89-2\",\"QijiapingM104-2\", #\"Wenpuju03\",\n",
    "     \"Lajigai-a\",\"Lierbao0\"] #\"Qunke1\",\"Hupo8\",\"Lajigai2\",\"Hedong4\",\n",
    "high=[\"PukagongmaM1\",\"PukagongmaM5\", #\"PukagongmaM2\",\"PukagongmaM3\",\n",
    "     \"Butaxiongqu\",\"RedilongM3\",\"XiaoendaM2\", #\"XiaoendaM1\",\n",
    "     \"Chokhopani\",\"Mebrak\",\"Samdzong\",\"CaixiutangJ2-13\",\"YushuSGZ-1\"]\n",
    "eas=[\"Oroqen\",\"Hezhen\",\"Daur\",\"Xibo\",\"Japanese\",\"Korean\",\"Han\",\"She\",\"Miao\",\"Tujia\",\n",
    "    \"Dai\",\"Kinh\",\"Lahu\",\"Ami\",\"Atayal\",\"Naxi\",\"Yi\",\"Tu\",\"Tibetan\",\"Sherpa\"]\n",
    "tib=[\"Tibetan_ChamdoX\",\"Tibetan_LhasaX\",\"Tibetan_NagquX\",\n",
    "     \"Tibetan_ShannanX\",\"Tibetan_ShigatseX\",\"Sherpa_ShigatseX\"]\n",
    "eas=[\"Daur\",\"Han\",\"Dai\",\"Ami\",\"Naxi\",\"Yi\",\"Tu\",\"Sherpa\",\n",
    "     \"Tibetan\",\"Tibetan_ChamdoX\",\"Tibetan_ShannanX\",\"Tibetan_ShigatseX\"]\n",
    "eas=[\"Dai\",\"Tu\",\"Daur\",\"Han\",\"Naxi\",\"Yi\",\"Sherpa\",\n",
    "     \"Tibetan\",\"Tibetan_ChamdoX\",\"Tibetan_ShannanX\"]\n",
    "others=[\"UstIshim\",\"GoyetQ116-1\",\"Vestonice16\",\"Natufian\",\"Malta1\",\"Tianyuan\",\n",
    "       \"French\",\"Papuan\",\"Onge\",\"Mixe\",\"Anzick-1\"]\n",
    "#agq=[\"Zongri1a\",\"Zongri23\",\"Shangluzhuang\",\"Heodong\"]\n",
    "popA=low+high+eas\n",
    "popB=low+high+eas\n",
    "thirdpops=others\n",
    "for myind in thirdpops:\n",
    "    #mypops1=[popA,myind,popB,out]\n",
    "    mypops2=[popA,popB,myind,out]\n",
    "    DorZ=\"Z\"\n",
    "\n",
    "    #newfh1=fh.split(\".\")[0]+tv+DorZ+\".\"+\"aTib_%s_aTib_%s\" % (myind,out)\n",
    "    newfh2=fh.split(\".\")[0]+tv+DorZ+\".\"+\"aTibEA_aTibEA_%s_%s\" % (myind,out)\n",
    "    #Zary = pm.mkDary(datpd,fh,mypops1,(1,3),(0,2),DorZ)    \n",
    "    #print pm.Zmat2xlsx(Zary,outpd+newfh1,popA,popB,0,2)\n",
    "\n",
    "    Zary = pm.mkDary(datpd,fh,mypops2,(2,3),(0,1),DorZ)   \n",
    "    print pm.Zmat2xlsx(Zary,outpd+newfh2,popA,popB,0,1)"
   ]
  }
 ],
 "metadata": {
  "kernelspec": {
   "display_name": "Python 2",
   "language": "python",
   "name": "python2"
  },
  "language_info": {
   "codemirror_mode": {
    "name": "ipython",
    "version": 2
   },
   "file_extension": ".py",
   "mimetype": "text/x-python",
   "name": "python",
   "nbconvert_exporter": "python",
   "pygments_lexer": "ipython2",
   "version": "2.7.13"
  }
 },
 "nbformat": 4,
 "nbformat_minor": 2
}
