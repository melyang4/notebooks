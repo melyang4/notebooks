{
 "cells": [
  {
   "cell_type": "code",
   "execution_count": 1,
   "metadata": {
    "collapsed": true
   },
   "outputs": [],
   "source": [
    "pd=\"/mnt/solexa/mel_yang/data/Haak2015PublicData/\"\n",
    "indfile=open(pd+\"data.eigen.ind\",'r')\n",
    "myinds=[line.split()[2] for line in indfile]\n",
    "indfile.close()"
   ]
  },
  {
   "cell_type": "code",
   "execution_count": 2,
   "metadata": {},
   "outputs": [
    {
     "name": "stdout",
     "output_type": "stream",
     "text": [
      "2071\n"
     ]
    }
   ],
   "source": [
    "print len(myinds)"
   ]
  },
  {
   "cell_type": "code",
   "execution_count": 6,
   "metadata": {},
   "outputs": [
    {
     "name": "stdout",
     "output_type": "stream",
     "text": [
      "['MA1', 'LBK_EN', 'Estonian', 'Han', 'Kyrgyz', 'Yoruba', 'Iraqi_Jew', 'LateDorset', 'Ukrainian', 'Bulgarian', 'HungaryGamba_IA', 'RR', 'Xibo', 'Georgian_Jew', 'Pathan', 'Turkish', 'Dai', 'French', 'SwedenSkoglund_NHG', 'Armenian', 'Mezmaiskaya', 'Alberstedt_LN', 'Italian_South', 'Bergamo', 'Finnish', 'Iranian', 'Albanian', 'Esperstedt_MN', 'Maltese', 'She', 'Oroqen', 'Spanish_North', 'Yemen', 'Athabascan', 'Ulchi', 'Altaian', 'LBKT_EN', 'Greenland', 'BedouinA', 'BedouinB', 'Motala_HG', 'Denisovan', 'Vindija', 'Scottish', 'Kostenki14', 'AG2', 'Kumyk', 'Mongola', 'Khomani', 'Burusho', 'Karitiana', 'Stuttgart', 'Mayan', 'Mordovian', 'BantuSA', 'Aleutian', 'Brahui', 'Ju_hoan_North', 'Cochin_Jew', 'Mozabite', 'Makrani', 'Luo', 'Zapotec', 'Mandenka', 'Mbuti', 'Dolgan', 'Druze', 'Iranian_Jew', 'Georgian', 'Adygei', 'Unetice_EBA', 'BantuKenya', 'Norwegian', 'HungaryGamba_BA', 'Thai', 'Loschbour', 'Turkmen', 'Corded_Ware_LN', 'Ami', 'Saharawi', 'HungaryGamba_HG', 'Lahu', 'Uzbek', 'Punjabi', 'Kinh', 'Atayal', 'Greek', 'MiddleDorset', 'Aleut', 'Pima', 'Botocudo', 'SwedenSkoglund_MHG', 'Luhya', 'Croatian', 'Hadza', 'Ust_Ishim', 'Nogai', 'Orang', 'SwedenSkoglund_MN', 'Yakut', 'Hezhen', 'Saami_WGA', 'Jordanian', 'HungaryGamba_CA', 'Mansi', 'Syrian', 'Masai', 'Spain_EN', 'Even', 'Lithuanian', 'Palestinian', 'Surui', 'Miao', 'English', 'LaBrana1', 'Tubalar', 'Bell_Beaker_LN', 'Clovis', 'Ashkenazi_Jew', 'Ancient_Neandertal', 'Sindhi', 'Korean', 'North_Ossetian', 'Spain_EN_relative_of_I0410', 'Tlingit', 'Chuvash', 'Kusunda', 'Hungarian', 'SwedenSkoglund_MN_lessThan20K', 'Turkish_Jew', 'Hazara', 'Tunisian_Jew', 'Altai', 'Starcevo_EN', 'Nivkh', 'Bolivian', 'GujaratiB', 'Halberstadt_LBA', 'Uygur', 'Russian', 'Eskimo', 'Yukagir', 'Moroccan_Jew', 'Bengali', 'Datog', 'Han_NChina', 'Selkup', 'Abkhasian', 'Tujia', 'Balkar', 'Mixtec', 'Chukchi', 'Lezgin', 'GujaratiC', 'Karelia_HG', 'Saudi', 'Libyan_Jew', 'Mixe', 'Kalash', 'Daur', 'Sicilian', 'Cypriot', 'Naxi', 'Czech', 'Piapoco', 'Yemenite_Jew', 'Belarusian', 'Orcadian', 'Ancient_Denisova', 'Basque', 'Saqqaq', 'HungaryGamba_EN', 'Esan', 'Tunisian', 'Tu', 'Sardinian', 'Unetice_EBA_relative_of_I0117', 'Chechen', 'Somali', 'Icelandic', 'Australian', 'Bougainville', 'Yi', 'Balochi', 'Tajik_Pomiri', 'Biaka', 'Egyptian', 'SwedenSkoglund_NHG_lessThan20K', 'Birnirk', 'Itelmen', 'Tuvinian', 'Mende', 'Tuscan', 'AA', 'Lebanese', 'GujaratiA', 'Gambian', 'Algerian', 'GujaratiD', 'Spanish', 'Samara_HG', 'Marmoset', 'Gorilla', 'French_South', 'Spain_MN', 'Papuan', 'Karsdorf_LN', 'hg19ref', 'Macaque', 'Ethiopian_Jew', 'Baalberge_MN', 'Canary_Islanders', 'Nganasan', 'Kalmyk', 'Chimp', 'Japanese', 'Kikuyu', 'Cambodian', 'Quechua', 'Yamnaya', 'Koryak', 'BenzigerodeHeimburg_LN', 'Thule', 'Iceman']\n"
     ]
    }
   ],
   "source": [
    "mysets=list(set(myinds))\n",
    "print mysets"
   ]
  },
  {
   "cell_type": "code",
   "execution_count": 9,
   "metadata": {},
   "outputs": [
    {
     "name": "stdout",
     "output_type": "stream",
     "text": [
      "Overwriting /mnt/solexa/mel_yang/masterlogfiles/Haaketal2015/makeInternal_D_log.py\n"
     ]
    }
   ],
   "source": [
    "%%writefile /mnt/solexa/mel_yang/masterlogfiles/Haaketal2015/makeInternal_D_log.py\n",
    "import projmodules as pm\n",
    "from subprocess import Popen, PIPE\n",
    "import sys\n",
    "pd=\"/mnt/solexa/mel_yang/data/Haak2015PublicData/\"\n",
    "outpd=\"/mnt/solexa/mel_yang/masterlogfiles/Haaketal2015/\"\n",
    "fh=\"data.eigen\"\n",
    "#myfilename=sys.argv[1]\n",
    "outs=[\"Mbuti\",\"Chimp\"]\n",
    "##'RR', 'Mezmaiskaya', 'Vindija', 'Denisovan', 'Ancient_Neandertal', 'Ancient_Denisova', 'hg19ref', 'Chimp', 'Macaque', 'Gorilla', 'SwedenSkoglund_NHG_lessThan20K', 'Unetice_EBA_relative_of_I0117', 'Spain_EN_relative_of_I0410', 'SwedenSkoglund_MN_lessThan20K', \n",
    "anc=['MA1', 'LBK_EN', 'LateDorset', 'HungaryGamba_IA', 'SwedenSkoglund_NHG', 'Alberstedt_LN', 'Esperstedt_MN', \n",
    "    'LBKT_EN', 'Motala_HG', 'Kostenki14', 'AG2', 'Unetice_EBA', 'HungaryGamba_BA', 'HungaryGamba_HG', 'Loschbour', \n",
    "    'Corded_Ware_LN', 'Stuttgart','MiddleDorset', 'SwedenSkoglund_MHG', 'Ust_Ishim', 'SwedenSkoglund_MN', \n",
    "    'HungaryGamba_CA', 'Spain_EN', 'LaBrana1', 'Bell_Beaker_LN', 'Clovis', 'Halberstadt_LBA', \n",
    "    'Saqqaq', 'HungaryGamba_EN', 'Starcevo_EN', 'Karelia_HG', 'Samara_HG', 'Spain_MN', 'Karsdorf_LN', \n",
    "    'Baalberge_MN', 'Yamnaya', 'BenzigerodeHeimburg_LN', 'Iceman']\n",
    "afr=['Yoruba', 'Khomani', 'BantuSA', 'Ju_hoan_North', 'Mozabite', 'Mandenka', 'Mbuti', 'BantuKenya', \n",
    "    'Saharawi', 'Luhya', 'Hadza', 'Masai', 'Esan', 'Tunisian', 'Somali', 'Biaka', 'Egyptian', 'Mende']\n",
    "nonafr=['Estonian', 'Han', 'Kyrgyz', 'Iraqi_Jew', 'Ukrainian', 'Bulgarian', 'Xibo', 'Georgian_Jew', \n",
    "        'Pathan', 'Turkish', 'Dai', 'French', 'Armenian', 'Italian_South', 'Bergamo', 'Finnish', 'Iranian', \n",
    "        'Albanian', 'Maltese', 'She', 'Oroqen', 'Spanish_North', 'Yemen', 'Athabascan', 'Ulchi', 'Altaian', \n",
    "        'Greenland', 'BedouinA', 'BedouinB', 'Scottish', 'Kumyk', 'Mongola', 'Burusho', 'Karitiana',  \n",
    "        'Mayan', 'Mordovian', 'Aleutian', 'Brahui', 'Cochin_Jew', 'Makrani', 'Luo', 'Zapotec', 'Dolgan', \n",
    "        'Druze', 'Iranian_Jew', 'Georgian', 'Adygei', 'Norwegian', 'Thai', 'Turkmen', 'Ami', 'Lahu', 'Uzbek', \n",
    "        'Punjabi', 'Kinh', 'Atayal', 'Greek', 'Aleut', 'Pima', 'Botocudo', 'Croatian', 'Nogai', 'Orang', \n",
    "        'Yakut', 'Hezhen', 'Saami_WGA', 'Jordanian', 'Mansi', 'Syrian', 'Even', 'Lithuanian', 'Palestinian', \n",
    "        'Surui', 'Miao', 'English', 'Tubalar', 'Ashkenazi_Jew', 'Sindhi', 'Korean', 'North_Ossetian', 'Tlingit', \n",
    "        'Chuvash', 'Kusunda', 'Hungarian', 'Turkish_Jew', 'Hazara', 'Tunisian_Jew', 'Altai', 'Nivkh', 'Bolivian', \n",
    "        'GujaratiB', 'Uygur', 'Russian', 'Eskimo', 'Yukagir', 'Moroccan_Jew', 'Bengali', 'Datog', \n",
    "        'Han_NChina', 'Selkup', 'Abkhasian', 'Tujia', 'Balkar', 'Mixtec', 'Chukchi', 'Lezgin', 'GujaratiC', \n",
    "        'Saudi', 'Libyan_Jew', 'Mixe', 'Kalash', 'Daur', 'Sicilian', 'Cypriot', 'Naxi', 'Czech', 'Piapoco', \n",
    "        'Yemenite_Jew', 'Belarusian', 'Orcadian', 'Basque', 'Tu', 'Sardinian', 'Chechen', 'Icelandic', \n",
    "        'Australian', 'Bougainville', 'Yi', 'Balochi', 'Tajik_Pomiri', 'Birnirk', 'Itelmen', 'Tuvinian', 'Tuscan', \n",
    "        'Lebanese', 'GujaratiA', 'GujaratiD', 'Spanish', 'Marmoset', 'French_South', 'Papuan', 'Canary_Islanders', \n",
    "        'Nganasan', 'Kalmyk', 'Japanese', 'Kikuyu', 'Cambodian', 'Quechua', 'Koryak', 'Thule']\n",
    "myinds=anc+nonafr\n",
    "bsf,bsfsubset=(0,'all')\n",
    "subset=\"Internal_\"+\"all\" #myfilename\n",
    "pm.Dpopfile_master(myinds,outs,outpd,fh,subset)\n",
    "\n",
    "##Make qpDstat files\n",
    "print 'Made popfile, calculating D...'\n",
    "\n",
    "print pm.Dparfile(pd,fh,subset,bsf,outpd=outpd)\n",
    "\n",
    "if outpd=='': mypd=pd\n",
    "else: mypd=outpd\n",
    "outfile = open(mypd+fh+'.D.'+subset+\".log\",'w')\n",
    "mycommand = 'qpDstat -p '+mypd+fh+'.D.'+subset+'.par'\n",
    "print 'Running command', mycommand\n",
    "\n",
    "varfile = Popen(mycommand.split(), stdout = outfile)\n",
    "varfile.communicate()\n",
    "outfile.close()\n"
   ]
  },
  {
   "cell_type": "code",
   "execution_count": 7,
   "metadata": {},
   "outputs": [
    {
     "name": "stdout",
     "output_type": "stream",
     "text": [
      "150\n"
     ]
    }
   ],
   "source": [
    "nonafr=['Estonian', 'Han', 'Kyrgyz', 'Iraqi_Jew', 'Ukrainian', 'Bulgarian', 'Xibo', 'Georgian_Jew', \n",
    "        'Pathan', 'Turkish', 'Dai', 'French', 'Armenian', 'Italian_South', 'Bergamo', 'Finnish', 'Iranian', \n",
    "        'Albanian', 'Maltese', 'She', 'Oroqen', 'Spanish_North', 'Yemen', 'Athabascan', 'Ulchi', 'Altaian', \n",
    "        'Greenland', 'BedouinA', 'BedouinB', 'Scottish', 'Kumyk', 'Mongola', 'Burusho', 'Karitiana',  \n",
    "        'Mayan', 'Mordovian', 'Aleutian', 'Brahui', 'Cochin_Jew', 'Makrani', 'Luo', 'Zapotec', 'Dolgan', \n",
    "        'Druze', 'Iranian_Jew', 'Georgian', 'Adygei', 'Norwegian', 'Thai', 'Turkmen', 'Ami', 'Lahu', 'Uzbek', \n",
    "        'Punjabi', 'Kinh', 'Atayal', 'Greek', 'Aleut', 'Pima', 'Botocudo', 'Croatian', 'Nogai', 'Orang', \n",
    "        'Yakut', 'Hezhen', 'Saami_WGA', 'Jordanian', 'Mansi', 'Syrian', 'Even', 'Lithuanian', 'Palestinian', \n",
    "        'Surui', 'Miao', 'English', 'Tubalar', 'Ashkenazi_Jew', 'Sindhi', 'Korean', 'North_Ossetian', 'Tlingit', \n",
    "        'Chuvash', 'Kusunda', 'Hungarian', 'Turkish_Jew', 'Hazara', 'Tunisian_Jew', 'Altai', 'Nivkh', 'Bolivian', \n",
    "        'GujaratiB', 'Uygur', 'Russian', 'Eskimo', 'Yukagir', 'Moroccan_Jew', 'Bengali', 'Datog', \n",
    "        'Han_NChina', 'Selkup', 'Abkhasian', 'Tujia', 'Balkar', 'Mixtec', 'Chukchi', 'Lezgin', 'GujaratiC', \n",
    "        'Saudi', 'Libyan_Jew', 'Mixe', 'Kalash', 'Daur', 'Sicilian', 'Cypriot', 'Naxi', 'Czech', 'Piapoco', \n",
    "        'Yemenite_Jew', 'Belarusian', 'Orcadian', 'Basque', 'Tu', 'Sardinian', 'Chechen', 'Icelandic', \n",
    "        'Australian', 'Bougainville', 'Yi', 'Balochi', 'Tajik_Pomiri', 'Birnirk', 'Itelmen', 'Tuvinian', 'Tuscan', \n",
    "        'Lebanese', 'GujaratiA', 'GujaratiD', 'Spanish', 'Marmoset', 'French_South', 'Papuan', 'Canary_Islanders', \n",
    "        'Nganasan', 'Kalmyk', 'Japanese', 'Kikuyu', 'Cambodian', 'Quechua', 'Koryak', 'Thule']\n",
    "print len(nonafr)"
   ]
  },
  {
   "cell_type": "code",
   "execution_count": 8,
   "metadata": {},
   "outputs": [
    {
     "name": "stdout",
     "output_type": "stream",
     "text": [
      "Made /mnt/solexa/mel_yang/teaching/haak2015/haakdat.Z.Haak_Han_EUR_Mbuti!\n",
      "Made /mnt/solexa/mel_yang/teaching/haak2015/haakdat.Z.EUR_Han_Haak_Mbuti!\n",
      "Made /mnt/solexa/mel_yang/teaching/haak2015/haakdat.Z.Haak_EUR_Han_Mbuti!\n"
     ]
    }
   ],
   "source": [
    "import numpy as np\n",
    "import plateaumodules as pm\n",
    "\n",
    "pDin=\"/mnt/solexa/mel_yang/masterlogfiles/Haaketal2015/\"\n",
    "pDout=\"/mnt/solexa/mel_yang/teaching/haak2015/\"\n",
    "fh,tv=(\"data.eigen.D.Internal_all.log\",\"\")\n",
    "#fh,tv=(\"complete.tv.dstat.log\",\".tv\")\n",
    "newfh=\"haakdat\"+tv\n",
    "eur=[\"Kostenki14\",\"Loschbour\",\"Stuttgart\",\"French\",\"Sardinian\",\"English\"]\n",
    "haakdat=[\"Halberstadt_LBA\",\"Unetice_EBA\",\"Alberstedt_LN\",\"BenzigerodeHeimburg_LN\",\n",
    "        \"Bell_Beaker_LN\",\"Karsdorf_LN\",\"Corded_Ware_LN\",\"Yamnaya\",\"Esperstedt_MN\",\n",
    "        \"Baalberge_MN\",\"LBKT_EN\",\"LBK_EN\",\"Starcevo_EN\",\"Motala_HG\",\"Karelia_HG\",\n",
    "        \"Samara_HG\"]\n",
    "haakdat=[\"Halberstadt_LBA\",\"Unetice_EBA\",\"Alberstedt_LN\",\"BenzigerodeHeimburg_LN\",\n",
    "        \"Bell_Beaker_LN\",\"Karsdorf_LN\",\"Corded_Ware_LN\",\"Yamnaya\",\"Esperstedt_MN\",\n",
    "        \"Baalberge_MN\",\"Spain_MN\",\"LBKT_EN\",\"LBK_EN\",\"Starcevo_EN\",\"Spain_EN\",\"Motala_HG\",\"Karelia_HG\",\n",
    "        \"Samara_HG\"]\n",
    "popA,popB,thirdpops,out=(haakdat,eur,[\"Han\"],\"Mbuti\")\n",
    "\n",
    "for myind in thirdpops:\n",
    "    mypops1a=[popA,myind,popB,out]\n",
    "    mypops1b=[popB,myind,popA,out]\n",
    "    \n",
    "    DorZ=\"Z\"\n",
    "\n",
    "    newfh1a=pDout+newfh+\".\"+DorZ+\".\"+\"Haak_%s_EUR_%s\" % (myind,out)\n",
    "    Zary = pm.mkDary(pDin,fh,mypops1a,(1,3),(0,2),DorZ,sd=\"True\")   \n",
    "    print pm.Zmat2xlsx(Zary,newfh1a,popA,popB,0,2)\n",
    "    \n",
    "    newfh1b=pDout+newfh+\".\"+DorZ+\".\"+\"EUR_%s_Haak_%s\" % (myind,out)\n",
    "    Zary = np.transpose(pm.mkDary(pDin,fh,mypops1b,(1,3),(0,2),DorZ,sd=\"True\"))   \n",
    "    print pm.Zmat2xlsx(Zary,newfh1b,popA,popB,0,2)\n",
    "    \n",
    "    mypops2=[popA,popB,myind,out]\n",
    "    newfh2=pDout+newfh+\".\"+DorZ+\".\"+\"Haak_EUR_%s_%s\" % (myind,out)\n",
    "    Zary = pm.mkDary(pDin,fh,mypops2,(2,3),(0,1),DorZ,sd=\"True\")    \n",
    "    print pm.Zmat2xlsx(Zary,newfh2,popA,popB,0,1)"
   ]
  },
  {
   "cell_type": "code",
   "execution_count": null,
   "metadata": {
    "collapsed": true
   },
   "outputs": [],
   "source": [
    "print 'ho'"
   ]
  },
  {
   "cell_type": "code",
   "execution_count": 7,
   "metadata": {},
   "outputs": [
    {
     "name": "stdout",
     "output_type": "stream",
     "text": [
      "Made /mnt/solexa/mel_yang/teaching/haak2015/haakdat.Z.EUR_Halberstadt_LBA_EUR_Mbuti!\n",
      "Made /mnt/solexa/mel_yang/teaching/haak2015/haakdat.Z.EUR_EUR_Halberstadt_LBA_Mbuti!\n",
      "Made /mnt/solexa/mel_yang/teaching/haak2015/haakdat.Z.EUR_Unetice_EBA_EUR_Mbuti!\n",
      "Made /mnt/solexa/mel_yang/teaching/haak2015/haakdat.Z.EUR_EUR_Unetice_EBA_Mbuti!\n",
      "Made /mnt/solexa/mel_yang/teaching/haak2015/haakdat.Z.EUR_Alberstedt_LN_EUR_Mbuti!\n",
      "Made /mnt/solexa/mel_yang/teaching/haak2015/haakdat.Z.EUR_EUR_Alberstedt_LN_Mbuti!\n",
      "Made /mnt/solexa/mel_yang/teaching/haak2015/haakdat.Z.EUR_BenzigerodeHeimburg_LN_EUR_Mbuti!\n",
      "Made /mnt/solexa/mel_yang/teaching/haak2015/haakdat.Z.EUR_EUR_BenzigerodeHeimburg_LN_Mbuti!\n",
      "Made /mnt/solexa/mel_yang/teaching/haak2015/haakdat.Z.EUR_Bell_Beaker_LN_EUR_Mbuti!\n",
      "Made /mnt/solexa/mel_yang/teaching/haak2015/haakdat.Z.EUR_EUR_Bell_Beaker_LN_Mbuti!\n",
      "Made /mnt/solexa/mel_yang/teaching/haak2015/haakdat.Z.EUR_Karsdorf_LN_EUR_Mbuti!\n",
      "Made /mnt/solexa/mel_yang/teaching/haak2015/haakdat.Z.EUR_EUR_Karsdorf_LN_Mbuti!\n",
      "Made /mnt/solexa/mel_yang/teaching/haak2015/haakdat.Z.EUR_Corded_Ware_LN_EUR_Mbuti!\n",
      "Made /mnt/solexa/mel_yang/teaching/haak2015/haakdat.Z.EUR_EUR_Corded_Ware_LN_Mbuti!\n",
      "Made /mnt/solexa/mel_yang/teaching/haak2015/haakdat.Z.EUR_Yamnaya_EUR_Mbuti!\n",
      "Made /mnt/solexa/mel_yang/teaching/haak2015/haakdat.Z.EUR_EUR_Yamnaya_Mbuti!\n",
      "Made /mnt/solexa/mel_yang/teaching/haak2015/haakdat.Z.EUR_Esperstedt_MN_EUR_Mbuti!\n",
      "Made /mnt/solexa/mel_yang/teaching/haak2015/haakdat.Z.EUR_EUR_Esperstedt_MN_Mbuti!\n",
      "Made /mnt/solexa/mel_yang/teaching/haak2015/haakdat.Z.EUR_Baalberge_MN_EUR_Mbuti!\n",
      "Made /mnt/solexa/mel_yang/teaching/haak2015/haakdat.Z.EUR_EUR_Baalberge_MN_Mbuti!\n",
      "Made /mnt/solexa/mel_yang/teaching/haak2015/haakdat.Z.EUR_Spain_MN_EUR_Mbuti!\n",
      "Made /mnt/solexa/mel_yang/teaching/haak2015/haakdat.Z.EUR_EUR_Spain_MN_Mbuti!\n",
      "Made /mnt/solexa/mel_yang/teaching/haak2015/haakdat.Z.EUR_LBKT_EN_EUR_Mbuti!\n",
      "Made /mnt/solexa/mel_yang/teaching/haak2015/haakdat.Z.EUR_EUR_LBKT_EN_Mbuti!\n",
      "Made /mnt/solexa/mel_yang/teaching/haak2015/haakdat.Z.EUR_LBK_EN_EUR_Mbuti!\n",
      "Made /mnt/solexa/mel_yang/teaching/haak2015/haakdat.Z.EUR_EUR_LBK_EN_Mbuti!\n",
      "Made /mnt/solexa/mel_yang/teaching/haak2015/haakdat.Z.EUR_Starcevo_EN_EUR_Mbuti!\n",
      "Made /mnt/solexa/mel_yang/teaching/haak2015/haakdat.Z.EUR_EUR_Starcevo_EN_Mbuti!\n",
      "Made /mnt/solexa/mel_yang/teaching/haak2015/haakdat.Z.EUR_Spain_EN_EUR_Mbuti!\n",
      "Made /mnt/solexa/mel_yang/teaching/haak2015/haakdat.Z.EUR_EUR_Spain_EN_Mbuti!\n",
      "Made /mnt/solexa/mel_yang/teaching/haak2015/haakdat.Z.EUR_Motala_HG_EUR_Mbuti!\n",
      "Made /mnt/solexa/mel_yang/teaching/haak2015/haakdat.Z.EUR_EUR_Motala_HG_Mbuti!\n",
      "Made /mnt/solexa/mel_yang/teaching/haak2015/haakdat.Z.EUR_Karelia_HG_EUR_Mbuti!\n",
      "Made /mnt/solexa/mel_yang/teaching/haak2015/haakdat.Z.EUR_EUR_Karelia_HG_Mbuti!\n",
      "Made /mnt/solexa/mel_yang/teaching/haak2015/haakdat.Z.EUR_Samara_HG_EUR_Mbuti!\n",
      "Made /mnt/solexa/mel_yang/teaching/haak2015/haakdat.Z.EUR_EUR_Samara_HG_Mbuti!\n"
     ]
    }
   ],
   "source": [
    "import numpy as np\n",
    "import plateaumodules as pm\n",
    "\n",
    "pDin=\"/mnt/solexa/mel_yang/masterlogfiles/Haaketal2015/\"\n",
    "pDout=\"/mnt/solexa/mel_yang/teaching/haak2015/\"\n",
    "fh,tv=(\"data.eigen.D.Internal_all.log\",\"\")\n",
    "#fh,tv=(\"complete.tv.dstat.log\",\".tv\")\n",
    "newfh=\"haakdat\"+tv\n",
    "eur=[\"Kostenki14\",\"Loschbour\",\"Stuttgart\",\"French\",\"Sardinian\",\"English\"]\n",
    "haakonlydat=[\"Halberstadt_LBA\",\"Unetice_EBA\",\"Alberstedt_LN\",\"BenzigerodeHeimburg_LN\",\n",
    "        \"Bell_Beaker_LN\",\"Karsdorf_LN\",\"Corded_Ware_LN\",\"Yamnaya\",\"Esperstedt_MN\",\n",
    "        \"Baalberge_MN\",\"Spain_MN\",\"LBKT_EN\",\"LBK_EN\",\"Starcevo_EN\",\"Spain_EN\",\"Motala_HG\",\"Karelia_HG\",\n",
    "        \"Samara_HG\"]\n",
    "haakdat=[\"French\",\"Sardinian\",\"English\",\"HungaryGamba_IA\",\n",
    "         \"Halberstadt_LBA\",\"HungaryGamba_BA\",\"Unetice_EBA\",\n",
    "         \"Alberstedt_LN\",\"BenzigerodeHeimburg_LN\",\"Bell_Beaker_LN\",\n",
    "         \"Karsdorf_LN\",\"Corded_Ware_LN\",\"HungaryGamba_CA\",\"Yamnaya\",\n",
    "         \"SwedenSkoglund_NHG\",\"SwedenSkoglund_MN\",\n",
    "         \"Iceman\",\"Esperstedt_MN\",\"Baalberge_MN\",\"Spain_MN\",\"Stuttgart\",\n",
    "         \"LBKT_EN\",\"LBK_EN\",\"HungaryGamba_EN\",\"Starcevo_EN\",\"Spain_EN\",\n",
    "         \"Loschbour\",\"SwedenSkoglund_MHG\",\"LaBrana1\",\"HungaryGamba_HG\",\n",
    "         \"Motala_HG\",\"Karelia_HG\",\"Samara_HG\",\"MA1\",\"Kostenki14\",\"Ust_Ishim\"]\n",
    "\n",
    "popA,popB,thirdpops,out=(haakdat,haakdat,haakonlydat,\"Mbuti\")\n",
    "\n",
    "for myind in thirdpops:\n",
    "    mypops1a=[popA,myind,popB,out]\n",
    "    mypops1b=[popB,myind,popA,out]\n",
    "    \n",
    "    DorZ=\"Z\"\n",
    "\n",
    "    newfh1a=pDout+newfh+\".\"+DorZ+\".\"+\"EUR_%s_EUR_%s\" % (myind,out)\n",
    "    Zary = pm.mkDary(pDin,fh,mypops1a,(1,3),(0,2),DorZ,sd=\"True\")   \n",
    "    print pm.Zmat2xlsx(Zary,newfh1a,popA,popB,0,2)\n",
    "    \n",
    "    #newfh1b=pDout+newfh+\".\"+DorZ+\".\"+\"EUR_%s_Haak_%s\" % (myind,out)\n",
    "    #Zary = np.transpose(pm.mkDary(pDin,fh,mypops1b,(1,3),(0,2),DorZ,sd=\"True\"))   \n",
    "    #print pm.Zmat2xlsx(Zary,newfh1b,popA,popB,0,2)\n",
    "    \n",
    "    mypops2=[popA,popB,myind,out]\n",
    "    newfh2=pDout+newfh+\".\"+DorZ+\".\"+\"EUR_EUR_%s_%s\" % (myind,out)\n",
    "    Zary = pm.mkDary(pDin,fh,mypops2,(2,3),(0,1),DorZ,sd=\"True\")    \n",
    "    print pm.Zmat2xlsx(Zary,newfh2,popA,popB,0,1)"
   ]
  },
  {
   "cell_type": "code",
   "execution_count": 2,
   "metadata": {
    "collapsed": true
   },
   "outputs": [],
   "source": [
    "import plateaumodules as pm\n",
    "\n",
    "pm.Zmat2xlsx??"
   ]
  },
  {
   "cell_type": "code",
   "execution_count": null,
   "metadata": {
    "collapsed": true
   },
   "outputs": [],
   "source": [
    "def Zmat2xlsx(myary,newfh,rownames,colnames,popindex1,popindex2):\n",
    "    import xlsxwriter as xls\n",
    "    newfile=xls.Workbook(newfh+\".xlsx\")\n",
    "    worksheet=newfile.add_worksheet()\n",
    "    \n",
    "    mynum = newfile.add_format({'num_format': '0.0','center_across':True})\n",
    "    bold = newfile.add_format({'bold': True,'align':'center','valign':'vcenter'})\n",
    "    colheader=newfile.add_format({'bold': True,'align':'center','valign':'vcenter','rotation':90})\n",
    "    nan = newfile.add_format({'align':'center','valign':'vcenter'})\n",
    "    \n",
    "    ##SWITCHED FROM TY FORMATS BC DFREQ DOES OPPOSITE ABBA-BABA (not BABA-ABBA!)\n",
    "    g2_5 = newfile.add_format({'center_across':True,'bold':True,\n",
    "                               'font_color':'#9C0006','bg_color':'white',\n",
    "                               'num_format': '0.0'})\n",
    "    g3 = newfile.add_format({'center_across':True,'bold':True,'font_color':'#9C0006',\n",
    "                               'bg_color':'#FFC7CE','num_format': '0.0'})\n",
    "    l2_5 = newfile.add_format({'center_across':True,'bold':True,'font_color':'#000080',\n",
    "                               'bg_color':'white','num_format': '0.0'})\n",
    "    l3 = newfile.add_format({'center_across':True,'bold':True,'font_color':'#000080',\n",
    "                               'bg_color':'#83CFF6','num_format': '0.0'})\n",
    "    \n",
    "    worksheet.set_column(1,len(colnames)+1,4)\n",
    "    worksheet.set_column(0,0,8)\n",
    "    row,col=0,0\n",
    "    worksheet.write_string(row,col,\"P%i/P%i\" % (popindex1+1,popindex2+1),bold)\n",
    "    for ind,i in enumerate(colnames): worksheet.write_string(row,col+ind+1,i,colheader)\n",
    "    for myind in range(myary.shape[0]):\n",
    "        #print rownames[myind]\n",
    "        worksheet.write_string(row+myind+1,col,rownames[myind],bold)\n",
    "        for myind2,i2 in enumerate(myary[myind,:]):\n",
    "            if str(i2)==\"nan\": \n",
    "                worksheet.write_string(row+myind+1,col+myind2+1,\"nan\",nan)\n",
    "            else:\n",
    "                if i2>=2.5 and i2<2.95: \n",
    "                    worksheet.write_number(row+myind+1,col+myind2+1,i2,mynum) #,g2_5)\n",
    "                elif i2>=2.95:\n",
    "                    worksheet.write_number(row+myind+1,col+myind2+1,i2,g3)\n",
    "                elif i2<=-2.5 and i2>-2.95:\n",
    "                    worksheet.write_number(row+myind+1,col+myind2+1,i2,mynum) #,l2_5)\n",
    "                elif i2<=-2.95:\n",
    "                    worksheet.write_number(row+myind+1,col+myind2+1,i2,l3)\n",
    "                else:\n",
    "                    worksheet.write_number(row+myind+1,col+myind2+1,i2,mynum)    \n",
    "    newfile.close()\n",
    "    return \"Made %s!\" % newfh"
   ]
  },
  {
   "cell_type": "code",
   "execution_count": 6,
   "metadata": {
    "collapsed": true
   },
   "outputs": [],
   "source": [
    "import xlsxwriter as xls\n",
    "newfile=xls.Workbook(\"/mnt/solexa/mel_yang/teaching/haak2015/test.xlsx\")\n",
    "worksheet=newfile.add_worksheet()\n",
    "\n",
    "format1 = newfile.add_format({'center_across':True,'bold':True,'font_color':'#9C0006',\n",
    "                           'bg_color':'white','num_format': '0.0'})\n",
    "format2=newfile.add_format({'bold': True,'align':'center','valign':'vcenter','rotation':90})\n",
    "format3 = newfile.add_format({'bold': True,'align':'center','valign':'vcenter'})\n",
    "worksheet.set_column(1,1,4)\n",
    "worksheet.set_column(0,0,8)\n",
    "row,col=0,0\n",
    "worksheet.write_string(0,0,\"X/Y\",format3)\n",
    "worksheet.write_number(1,1,5,format1)\n",
    "worksheet.write_string(0,1,\"Name\",format2)\n",
    "newfile.close()"
   ]
  },
  {
   "cell_type": "markdown",
   "metadata": {},
   "source": [
    "## Get Transitions only SNP file!"
   ]
  },
  {
   "cell_type": "code",
   "execution_count": 4,
   "metadata": {
    "collapsed": true
   },
   "outputs": [],
   "source": [
    "pd=\"/mnt/solexa/mel_yang/data/Haak2015PublicData/\"\n",
    "snpfile=open(pd+\"data.eigen.snp\",'r')\n",
    "newsnpfile=open(pd+\"data.eigen.transi.snp\",'w')\n",
    "for line in snpfile:\n",
    "    x=line.split()\n",
    "    if x[4]+x[5] in [\"AG\",\"GA\",\"CT\",\"TC\"]:\n",
    "        newsnpfile.write(line)\n",
    "    else: continue\n",
    "newsnpfile.close()\n",
    "snpfile.close()"
   ]
  },
  {
   "cell_type": "code",
   "execution_count": null,
   "metadata": {
    "collapsed": true
   },
   "outputs": [],
   "source": []
  },
  {
   "cell_type": "markdown",
   "metadata": {},
   "source": [
    "## Outgroup f3 statistic"
   ]
  },
  {
   "cell_type": "code",
   "execution_count": 1,
   "metadata": {},
   "outputs": [
    {
     "name": "stdout",
     "output_type": "stream",
     "text": [
      "Writing /mnt/solexa/mel_yang/teaching/haak2015/calcoutf3.py\n"
     ]
    }
   ],
   "source": [
    "%%writefile /mnt/solexa/mel_yang/teaching/haak2015/calcoutf3.py\n",
    "\n",
    "import projmodules as pm\n",
    "from subprocess import Popen, PIPE\n",
    "from multiprocessing import Pool\n",
    "\n",
    "anc=['MA1', 'LBK_EN', 'LateDorset', 'HungaryGamba_IA', 'SwedenSkoglund_NHG', 'Alberstedt_LN', 'Esperstedt_MN', \n",
    "    'LBKT_EN', 'Motala_HG', 'Kostenki14', 'AG2', 'Unetice_EBA', 'HungaryGamba_BA', 'HungaryGamba_HG', 'Loschbour', \n",
    "    'Corded_Ware_LN', 'Stuttgart','MiddleDorset', 'SwedenSkoglund_MHG', 'Ust_Ishim', 'SwedenSkoglund_MN', \n",
    "    'HungaryGamba_CA', 'Spain_EN', 'LaBrana1', 'Bell_Beaker_LN', 'Clovis', 'Halberstadt_LBA', \n",
    "    'Saqqaq', 'HungaryGamba_EN', 'Starcevo_EN', 'Karelia_HG', 'Samara_HG', 'Spain_MN', 'Karsdorf_LN', \n",
    "    'Baalberge_MN', 'Yamnaya', 'BenzigerodeHeimburg_LN', 'Iceman']\n",
    "afr=['Yoruba', 'Khomani', 'BantuSA', 'Ju_hoan_North', 'Mozabite', 'Mandenka', 'Mbuti', 'BantuKenya', \n",
    "    'Saharawi', 'Luhya', 'Hadza', 'Masai', 'Esan', 'Tunisian', 'Somali', 'Biaka', 'Egyptian', 'Mende']\n",
    "nonafr=['Estonian', 'Han', 'Kyrgyz', 'Iraqi_Jew', 'Ukrainian', 'Bulgarian', 'Xibo', 'Georgian_Jew', \n",
    "        'Pathan', 'Turkish', 'Dai', 'French', 'Armenian', 'Italian_South', 'Bergamo', 'Finnish', 'Iranian', \n",
    "        'Albanian', 'Maltese', 'She', 'Oroqen', 'Spanish_North', 'Yemen', 'Athabascan', 'Ulchi', 'Altaian', \n",
    "        'Greenland', 'BedouinA', 'BedouinB', 'Scottish', 'Kumyk', 'Mongola', 'Burusho', 'Karitiana',  \n",
    "        'Mayan', 'Mordovian', 'Aleutian', 'Brahui', 'Cochin_Jew', 'Makrani', 'Luo', 'Zapotec', 'Dolgan', \n",
    "        'Druze', 'Iranian_Jew', 'Georgian', 'Adygei', 'Norwegian', 'Thai', 'Turkmen', 'Ami', 'Lahu', 'Uzbek', \n",
    "        'Punjabi', 'Kinh', 'Atayal', 'Greek', 'Aleut', 'Pima', 'Botocudo', 'Croatian', 'Nogai', 'Orang', \n",
    "        'Yakut', 'Hezhen', 'Saami_WGA', 'Jordanian', 'Mansi', 'Syrian', 'Even', 'Lithuanian', 'Palestinian', \n",
    "        'Surui', 'Miao', 'English', 'Tubalar', 'Ashkenazi_Jew', 'Sindhi', 'Korean', 'North_Ossetian', 'Tlingit', \n",
    "        'Chuvash', 'Kusunda', 'Hungarian', 'Turkish_Jew', 'Hazara', 'Tunisian_Jew', 'Altai', 'Nivkh', 'Bolivian', \n",
    "        'GujaratiB', 'Uygur', 'Russian', 'Eskimo', 'Yukagir', 'Moroccan_Jew', 'Bengali', 'Datog', \n",
    "        'Han_NChina', 'Selkup', 'Abkhasian', 'Tujia', 'Balkar', 'Mixtec', 'Chukchi', 'Lezgin', 'GujaratiC', \n",
    "        'Saudi', 'Libyan_Jew', 'Mixe', 'Kalash', 'Daur', 'Sicilian', 'Cypriot', 'Naxi', 'Czech', 'Piapoco', \n",
    "        'Yemenite_Jew', 'Belarusian', 'Orcadian', 'Basque', 'Tu', 'Sardinian', 'Chechen', 'Icelandic', \n",
    "        'Australian', 'Bougainville', 'Yi', 'Balochi', 'Tajik_Pomiri', 'Birnirk', 'Itelmen', 'Tuvinian', 'Tuscan', \n",
    "        'Lebanese', 'GujaratiA', 'GujaratiD', 'Spanish', 'Marmoset', 'French_South', 'Papuan', 'Canary_Islanders', \n",
    "        'Nganasan', 'Kalmyk', 'Japanese', 'Kikuyu', 'Cambodian', 'Quechua', 'Koryak', 'Thule']\n",
    "\n",
    "def dof3work(allids,name,tv=\"\"):\n",
    "    pD=\"/mnt/solexa/mel_yang/data/Haak2015PublicData/\"\n",
    "    outpD=\"/mnt/solexa/mel_yang/teaching/haak2015/\"\n",
    "    fh = 'data.eigen'\n",
    "    if tv==\"tv\": subset = 'transv.X_Mbuti_S1_%s_S2_%s' % (name,name)\n",
    "    else: subset = 'X_Mbuti_S1_%s_S2_%s' % (name,name)\n",
    "    \n",
    "    AB = [(i,j) for i in allids for j in allids if i != j ]\n",
    "    Xs = [\"Mbuti\"]\n",
    "    \n",
    "    pm.f3popfile(AB, Xs, pD+fh, subset)\n",
    "    if tv==\"tv\": pm.f3parfile(pD,fh,subset,popfh=fh,badsnp=\"%s.transi.snp\" % fh)\n",
    "    else: pm.f3parfile(pD,fh,subset,popfh=fh)\n",
    "    outfile = open(outpD+fh+'.f3.'+subset+\".log\",'w')\n",
    "    mycommand1='mv '+pD+fh+'.f3.'+subset+'.par '+outpD+fh+'.f3.'+subset+'.par'\n",
    "    varfile = Popen(mycommand1.split())\n",
    "    varfile.communicate()\n",
    "    mycommand = 'qp3Pop -p '+outpD+fh+'.f3.'+subset+'.par'\n",
    "    print 'Running command', mycommand\n",
    "\n",
    "    varfile = Popen(mycommand.split(), stdout = outfile)\n",
    "    varfile.communicate()\n",
    "    outfile.close()\n",
    "\n",
    "dof3work(anc+nonafr+afr,'Haak') #,tv=\"tv\"\n"
   ]
  },
  {
   "cell_type": "code",
   "execution_count": null,
   "metadata": {
    "collapsed": true
   },
   "outputs": [],
   "source": []
  }
 ],
 "metadata": {
  "kernelspec": {
   "display_name": "Python 2",
   "language": "python",
   "name": "python2"
  },
  "language_info": {
   "codemirror_mode": {
    "name": "ipython",
    "version": 2
   },
   "file_extension": ".py",
   "mimetype": "text/x-python",
   "name": "python",
   "nbconvert_exporter": "python",
   "pygments_lexer": "ipython2",
   "version": "2.7.13"
  }
 },
 "nbformat": 4,
 "nbformat_minor": 2
}
