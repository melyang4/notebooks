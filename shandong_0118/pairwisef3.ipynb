{
 "cells": [
  {
   "cell_type": "code",
   "execution_count": 3,
   "metadata": {},
   "outputs": [
    {
     "name": "stdout",
     "output_type": "stream",
     "text": [
      "Overwriting /mnt/solexa/mel_yang/shandong_0118/pairwisef3/calcf3_UPA_ASNANC_target.py\n"
     ]
    }
   ],
   "source": [
    "%%writefile /mnt/solexa/mel_yang/shandong_0118/pairwisef3/calcf3_UPA_ASNANC_target.py\n",
    "\n",
    "import sys\n",
    "import plotting_funcs as pf\n",
    "import projmodules as pm\n",
    "from subprocess import Popen, PIPE\n",
    "from multiprocessing import Pool\n",
    "\n",
    "fh=sys.argv[1]\n",
    "mainind=sys.argv[2]\n",
    "\n",
    "##Use SGDP with longitude > 60 deg\n",
    "sgdp=open(\"/mnt/solexa/mel_yang/data/GPS/SGDP.GPS\",'r')\n",
    "sgdp=[line.split()[0] for line in sgdp if float(line.split()[2])>=60 ]\n",
    "\n",
    "allids=['UstIshim','Oase1','Kostenki14','GoyetQ116-1','Sunghir','Vestonice16',\n",
    "        'Yana_old','Yana_old2','Malta1','AfontovaGora3','ElMiron','Villabruna',\n",
    "        'Bichon','Satsurblia','Kotias','Karelia','Motala12','Loschbour','LaBrana1',\n",
    "        'Hungarian.KO1','Stuttgart','French','Sardinian','Natufian',\"Mbuti\"]\n",
    "allids+=[\"Tianyuan\",'Longlin','Longlin_com','Xinyi',\n",
    "        'Xinyi_other','Daxi','LiangDaoChineseNeolithic','Boisman_MN',\n",
    "        'BoshanChineseNeolithic','Bbdong','Linzi','HDYM1','HQSDW','DevilsGate',\n",
    "        'Zongri','Pukagongma','Chokhopani1','Mebrak','Samdzong','Jomon','Kolyma_River']\n",
    "allids+=sgdp\n",
    "if mainind in allids: allids.remove(mainind)\n",
    "\n",
    "pD=\"/mnt/solexa/mel_yang/data/2.2M/\" ##ivpp\n",
    "outpD=\"/mnt/solexa/mel_yang/shandong_0118/pairwisef3/\" ##ivpp\n",
    "#fh = 'UPA_all9'\n",
    "out=\"OUT\"\n",
    "subset = 'X_%s_S1_ASNANC_S2_ASNANC' % (mainind)\n",
    "\n",
    "#AB = [(i,j) for i in [sys.argv[1]] for j in allids ]\n",
    "AB = [(i,j) for ind1,i in enumerate(allids) for ind2,j in enumerate(allids) if ind1<ind2 ]\n",
    "Xs = [mainind]\n",
    "\n",
    "pm.f3popfile(AB, Xs, outpD+fh, subset)\n",
    "pm.f3parfile(pD,fh,subset,outpd=outpD)\n",
    "outfile = open(outpD+fh+'.f3.'+subset+\".log\",'w')\n",
    "#mycommand1='mv '+pD+fh+'.f3.'+subset+'.par '+outpD+fh+'.f3.'+subset+'.par'\n",
    "#print mycommand1\n",
    "#varfile = Popen(mycommand1.split())\n",
    "#varfile.communicate()\n",
    "mycommand = 'qp3Pop -p '+outpD+fh+'.f3.'+subset+'.par'\n",
    "print 'Running command', mycommand\n",
    "\n",
    "varfile = Popen(mycommand.split(), stdout = outfile)\n",
    "varfile.communicate()\n",
    "outfile.close()\n"
   ]
  },
  {
   "cell_type": "code",
   "execution_count": 4,
   "metadata": {},
   "outputs": [
    {
     "name": "stdout",
     "output_type": "stream",
     "text": [
      "Overwriting /mnt/solexa/mel_yang/shandong_0118/pairwisef3/calcf3_UPA_ASNANC_source1.py\n"
     ]
    }
   ],
   "source": [
    "%%writefile /mnt/solexa/mel_yang/shandong_0118/pairwisef3/calcf3_UPA_ASNANC_source1.py\n",
    "\n",
    "import sys\n",
    "import plotting_funcs as pf\n",
    "import projmodules as pm\n",
    "from subprocess import Popen, PIPE\n",
    "from multiprocessing import Pool\n",
    "\n",
    "fh=sys.argv[1]\n",
    "mainind=sys.argv[2]\n",
    "\n",
    "##Use SGDP with longitude > 60 deg\n",
    "sgdp=open(\"/mnt/solexa/mel_yang/data/GPS/SGDP.GPS\",'r')\n",
    "sgdp=[line.split()[0] for line in sgdp if float(line.split()[2])>=60 ]\n",
    "\n",
    "allids=['UstIshim','Oase1','Kostenki14','GoyetQ116-1','Sunghir','Vestonice16',\n",
    "        'Yana_old','Yana_old2','Malta1','AfontovaGora3','ElMiron','Villabruna',\n",
    "        'Bichon','Satsurblia','Kotias','Karelia','Motala12','Loschbour','LaBrana1',\n",
    "        'Hungarian.KO1','Stuttgart','French','Sardinian','Natufian',\"Mbuti\"]\n",
    "allids+=[\"Tianyuan\",'Longlin','Longlin_com','Xinyi',\n",
    "        'Xinyi_other','Daxi','LiangDaoChineseNeolithic','Boisman_MN',\n",
    "        'BoshanChineseNeolithic','Bbdong','Linzi','HDYM1','HQSDW','DevilsGate',\n",
    "        'Zongri','Pukagongma','Chokhopani1','Mebrak','Samdzong','Jomon','Kolyma_River']\n",
    "allids+=sgdp\n",
    "if mainind in allids: allids.remove(mainind)\n",
    "\n",
    "pD=\"/mnt/solexa/mel_yang/data/2.2M/\" ##ivpp\n",
    "outpD=\"/mnt/solexa/mel_yang/shandong_0118/pairwisef3/\" ##ivpp\n",
    "#fh = 'UPA_all9.transv'\n",
    "out=\"OUT\"\n",
    "subset = 'X_ASNANC_S1_%s_S2_ASNANC' % (mainind)\n",
    "\n",
    "#AB = [(i,j) for i in [sys.argv[1]] for j in allids ]\n",
    "AB = [(mainind,i) for ind1,i in enumerate(allids)]\n",
    "Xs = allids\n",
    "\n",
    "pm.f3popfile(AB, Xs, outpD+fh, subset)\n",
    "pm.f3parfile(pD,fh,subset,outpd=outpD)\n",
    "outfile = open(outpD+fh+'.f3.'+subset+\".log\",'w')\n",
    "#mycommand1='mv '+pD+fh+'.f3.'+subset+'.par '+outpD+fh+'.f3.'+subset+'.par'\n",
    "#print mycommand1\n",
    "#varfile = Popen(mycommand1.split())\n",
    "#varfile.communicate()\n",
    "mycommand = 'qp3Pop -p '+outpD+fh+'.f3.'+subset+'.par'\n",
    "print 'Running command', mycommand\n",
    "\n",
    "varfile = Popen(mycommand.split(), stdout = outfile)\n",
    "varfile.communicate()\n",
    "outfile.close()\n"
   ]
  },
  {
   "cell_type": "code",
   "execution_count": 11,
   "metadata": {},
   "outputs": [
    {
     "name": "stdout",
     "output_type": "stream",
     "text": [
      "python calcf3_UPA_ASNANC_target.py UPA_all9.transv Kolyma_River &\n",
      "python calcf3_UPA_ASNANC_target.py UPA_all9.transv Jomon &\n",
      "python calcf3_UPA_ASNANC_target.py UPA_all9.transv DevilsGate &\n",
      "python calcf3_UPA_ASNANC_target.py UPA_all9.transv Bbdong &\n",
      "python calcf3_UPA_ASNANC_target.py UPA_all9.transv HDYM1 &\n",
      "python calcf3_UPA_ASNANC_target.py UPA_all9.transv BoshanChineseNeolithic &\n",
      "python calcf3_UPA_ASNANC_target.py UPA_all9.transv LiangDaoChineseNeolithic &\n",
      "python calcf3_UPA_ASNANC_target.py UPA_all9.transv HQSDW &\n",
      "python calcf3_UPA_ASNANC_target.py UPA_all9.transv Linzi &\n",
      "python calcf3_UPA_ASNANC_target.py UPA_all9.transv Boisman_MN &\n",
      "python calcf3_UPA_ASNANC_target.py UPA_all9.transv Daur &\n",
      "python calcf3_UPA_ASNANC_target.py UPA_all9.transv Oroqen &\n",
      "python calcf3_UPA_ASNANC_target.py UPA_all9.transv Korean &\n",
      "python calcf3_UPA_ASNANC_target.py UPA_all9.transv Hezhen &\n",
      "python calcf3_UPA_ASNANC_target.py UPA_all9.transv Japanese &\n",
      "python calcf3_UPA_ASNANC_target.py UPA_all9.transv Ami &\n",
      "python calcf3_UPA_ASNANC_target.py UPA_all9.transv Han &\n",
      "python calcf3_UPA_ASNANC_target.py UPA_all9.transv Dai &\n",
      "python calcf3_UPA_ASNANC_target.py UPA_all9.transv Itelman &\n"
     ]
    }
   ],
   "source": [
    "%%bash\n",
    "for i in Kolyma_River Jomon DevilsGate Bbdong HDYM1 BoshanChineseNeolithic LiangDaoChineseNeolithic HQSDW Linzi Boisman_MN Daur Oroqen Korean Hezhen Japanese Ami Han Dai Itelman;\n",
    "    do echo \"python calcf3_UPA_ASNANC_target.py UPA_all9.transv ${i} &\"\n",
    "done"
   ]
  },
  {
   "cell_type": "code",
   "execution_count": 15,
   "metadata": {},
   "outputs": [],
   "source": [
    "%%bash\n",
    "pd=\"/mnt/solexa/mel_yang/shandong_0118/pairwisef3/\"\n",
    "python ${pd}makexlsx.py ${pd} UPA9.transv.X_ALL_S1_ASNANC_S2_ASNANC.log"
   ]
  },
  {
   "cell_type": "code",
   "execution_count": null,
   "metadata": {
    "collapsed": true
   },
   "outputs": [],
   "source": []
  }
 ],
 "metadata": {
  "kernelspec": {
   "display_name": "Python 2",
   "language": "python",
   "name": "python2"
  },
  "language_info": {
   "codemirror_mode": {
    "name": "ipython",
    "version": 2
   },
   "file_extension": ".py",
   "mimetype": "text/x-python",
   "name": "python",
   "nbconvert_exporter": "python",
   "pygments_lexer": "ipython2",
   "version": "2.7.13"
  }
 },
 "nbformat": 4,
 "nbformat_minor": 2
}
