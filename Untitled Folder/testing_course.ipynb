{
 "cells": [
  {
   "cell_type": "code",
   "execution_count": null,
   "metadata": {
    "collapsed": true
   },
   "outputs": [],
   "source": [
    "import sequence_tools\n",
    "\n",
    "pD=\"/Users/melyang/Desktop/PythonBootcamp2017/resources/\"\n",
    "myfilename=pD+\"seq.fasta\"\n",
    "genes = sequence_tools.fastaparser(myfilename)\n",
    "\n",
    "orfs={}\n",
    "for gene in genes:\n",
    "    startindex=[]\n",
    "    mygene=genes[gene]\n",
    "    removed=0\n",
    "    while \"ATG\" in mygene:\n",
    "        oneindex=removed+mygene.find(\"ATG\")\n",
    "        startindex.append(oneindex)\n",
    "        mygene=genes[gene][(removed+oneindex+3):]\n",
    "        removed+=oneindex+3\n",
    "    \n",
    "    endindex=[]\n",
    "    for stopcodon in [\"TAG\",\"TAA\",\"TGA\"]:\n",
    "        removed=0\n",
    "        mygene=genes[gene]\n",
    "        while stopcodon in mygene:\n",
    "            oneindex=mygene.find(stopcodon)\n",
    "            endindex.append(removed+oneindex)\n",
    "            mygene=genes[gene][(removed+oneindex+3):]\n",
    "            removed+=(oneindex+3)\n",
    "\n",
    "    startindex.sort()\n",
    "    endindex.sort()\n",
    "\n",
    "    possibleorfs=[]\n",
    "    for start in startindex:\n",
    "        for end in endindex:\n",
    "            if start<end: \n",
    "                possibleorf=genes[gene][start:(end+3)]\n",
    "                if len(possibleorf)%3==0:\n",
    "                    if len(possibleorf)>6:\n",
    "                        possibleorfs.append(possibleorf)\n",
    "                        break\n",
    "                    else: break\n",
    "    if len(possibleorfs)==0: orfs[gene]=\"N/A\"\n",
    "    else: orfs[gene]=possibleorfs\n",
    "    \n",
    "print orfs"
   ]
  },
  {
   "cell_type": "code",
   "execution_count": 10,
   "metadata": {},
   "outputs": [
    {
     "name": "stdout",
     "output_type": "stream",
     "text": [
      "oneindex 2\n",
      "CCGATGCCATGCCCATG\n",
      "removed 5\n",
      "oneindex 3\n",
      "CCATGCCCATG\n",
      "removed 11\n",
      "oneindex 2\n",
      "CCCATG\n",
      "removed 16\n",
      "oneindex 3\n",
      "\n",
      "removed 22\n",
      "[2, 8, 13, 19]\n"
     ]
    }
   ],
   "source": [
    "\n",
    "genes={\"gene1\":\"AAATGCCGATGCCATGCCCATG\"}\n",
    "for gene in genes:\n",
    "    startindex=[]\n",
    "    mygene=genes[gene]\n",
    "    removed=0\n",
    "    while \"ATG\" in mygene:\n",
    "        oneindex=mygene.find(\"ATG\")\n",
    "        print 'oneindex', oneindex\n",
    "        startindex.append(removed+oneindex)\n",
    "        mygene=genes[gene][(removed+oneindex+3):]\n",
    "        print mygene\n",
    "        removed+=oneindex+3\n",
    "        print 'removed',removed\n",
    "print startindex"
   ]
  },
  {
   "cell_type": "code",
   "execution_count": null,
   "metadata": {
    "collapsed": true
   },
   "outputs": [],
   "source": []
  }
 ],
 "metadata": {
  "kernelspec": {
   "display_name": "Python 2",
   "language": "python",
   "name": "python2"
  },
  "language_info": {
   "codemirror_mode": {
    "name": "ipython",
    "version": 2
   },
   "file_extension": ".py",
   "mimetype": "text/x-python",
   "name": "python",
   "nbconvert_exporter": "python",
   "pygments_lexer": "ipython2",
   "version": "2.7.13"
  }
 },
 "nbformat": 4,
 "nbformat_minor": 2
}
