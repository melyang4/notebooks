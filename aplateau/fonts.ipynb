{
 "cells": [
  {
   "cell_type": "code",
   "execution_count": null,
   "metadata": {},
   "outputs": [],
   "source": [
    "import numpy as np\n",
    "import matplotlib.pyplot as plt\n",
    "from matplotlib import rcParams\n",
    "import matplotlib\n",
    "from matplotlib import rc\n",
    "#rcParams['font.family'] = 'Abyssinica SIL'\n",
    "plt.rc('font',family='Helvetica-Normal')\n",
    "fig = plt.figure(figsize=(12,2),facecolor='white')\n",
    "ax1=fig.add_subplot(1,1,1)\n",
    "ax1.text(0.5,0.5,'hi',fontsize=30) \n",
    "\n",
    "plt.show()"
   ]
  },
  {
   "cell_type": "code",
   "execution_count": 4,
   "metadata": {},
   "outputs": [
    {
     "data": {
      "text/html": [
       "<div style='column-count: 2;'><p>Abyssinica SIL: <span style='font-family:Abyssinica SIL; font-size: 24px;'>Abyssinica SIL</p>\n",
       "<p>Caladea: <span style='font-family:Caladea; font-size: 24px;'>Caladea</p>\n",
       "<p>Carlito: <span style='font-family:Carlito; font-size: 24px;'>Carlito</p>\n",
       "<p>DejaVu LGC Sans Mono: <span style='font-family:DejaVu LGC Sans Mono; font-size: 24px;'>DejaVu LGC Sans Mono</p>\n",
       "<p>DejaVu Sans: <span style='font-family:DejaVu Sans; font-size: 24px;'>DejaVu Sans</p>\n",
       "<p>DejaVu Sans Display: <span style='font-family:DejaVu Sans Display; font-size: 24px;'>DejaVu Sans Display</p>\n",
       "<p>DejaVu Sans Mono: <span style='font-family:DejaVu Sans Mono; font-size: 24px;'>DejaVu Sans Mono</p>\n",
       "<p>DejaVu Serif: <span style='font-family:DejaVu Serif; font-size: 24px;'>DejaVu Serif</p>\n",
       "<p>DejaVu Serif Display: <span style='font-family:DejaVu Serif Display; font-size: 24px;'>DejaVu Serif Display</p>\n",
       "<p>Jomolhari: <span style='font-family:Jomolhari; font-size: 24px;'>Jomolhari</p>\n",
       "<p>Khmer OS: <span style='font-family:Khmer OS; font-size: 24px;'>Khmer OS</p>\n",
       "<p>Khmer OS Content: <span style='font-family:Khmer OS Content; font-size: 24px;'>Khmer OS Content</p>\n",
       "<p>Khmer OS System: <span style='font-family:Khmer OS System; font-size: 24px;'>Khmer OS System</p>\n",
       "<p>LKLUG: <span style='font-family:LKLUG; font-size: 24px;'>LKLUG</p>\n",
       "<p>Liberation Mono: <span style='font-family:Liberation Mono; font-size: 24px;'>Liberation Mono</p>\n",
       "<p>Liberation Sans: <span style='font-family:Liberation Sans; font-size: 24px;'>Liberation Sans</p>\n",
       "<p>Liberation Serif: <span style='font-family:Liberation Serif; font-size: 24px;'>Liberation Serif</p>\n",
       "<p>Lohit Assamese: <span style='font-family:Lohit Assamese; font-size: 24px;'>Lohit Assamese</p>\n",
       "<p>Lohit Bengali: <span style='font-family:Lohit Bengali; font-size: 24px;'>Lohit Bengali</p>\n",
       "<p>Lohit Devanagari: <span style='font-family:Lohit Devanagari; font-size: 24px;'>Lohit Devanagari</p>\n",
       "<p>Lohit Gujarati: <span style='font-family:Lohit Gujarati; font-size: 24px;'>Lohit Gujarati</p>\n",
       "<p>Lohit Kannada: <span style='font-family:Lohit Kannada; font-size: 24px;'>Lohit Kannada</p>\n",
       "<p>Lohit Oriya: <span style='font-family:Lohit Oriya; font-size: 24px;'>Lohit Oriya</p>\n",
       "<p>Lohit Punjabi: <span style='font-family:Lohit Punjabi; font-size: 24px;'>Lohit Punjabi</p>\n",
       "<p>Lohit Tamil: <span style='font-family:Lohit Tamil; font-size: 24px;'>Lohit Tamil</p>\n",
       "<p>Lohit Telugu: <span style='font-family:Lohit Telugu; font-size: 24px;'>Lohit Telugu</p>\n",
       "<p>Madan2: <span style='font-family:Madan2; font-size: 24px;'>Madan2</p>\n",
       "<p>Meera: <span style='font-family:Meera; font-size: 24px;'>Meera</p>\n",
       "<p>OpenSymbol: <span style='font-family:OpenSymbol; font-size: 24px;'>OpenSymbol</p>\n",
       "<p>Padauk: <span style='font-family:Padauk; font-size: 24px;'>Padauk</p>\n",
       "<p>PakTypeNaqsh: <span style='font-family:PakTypeNaqsh; font-size: 24px;'>PakTypeNaqsh</p>\n",
       "<p>PakTypeTehreer: <span style='font-family:PakTypeTehreer; font-size: 24px;'>PakTypeTehreer</p>\n",
       "<p>STIXGeneral: <span style='font-family:STIXGeneral; font-size: 24px;'>STIXGeneral</p>\n",
       "<p>STIXNonUnicode: <span style='font-family:STIXNonUnicode; font-size: 24px;'>STIXNonUnicode</p>\n",
       "<p>STIXSizeFiveSym: <span style='font-family:STIXSizeFiveSym; font-size: 24px;'>STIXSizeFiveSym</p>\n",
       "<p>STIXSizeFourSym: <span style='font-family:STIXSizeFourSym; font-size: 24px;'>STIXSizeFourSym</p>\n",
       "<p>STIXSizeOneSym: <span style='font-family:STIXSizeOneSym; font-size: 24px;'>STIXSizeOneSym</p>\n",
       "<p>STIXSizeThreeSym: <span style='font-family:STIXSizeThreeSym; font-size: 24px;'>STIXSizeThreeSym</p>\n",
       "<p>STIXSizeTwoSym: <span style='font-family:STIXSizeTwoSym; font-size: 24px;'>STIXSizeTwoSym</p>\n",
       "<p>Tibetan Machine Uni: <span style='font-family:Tibetan Machine Uni; font-size: 24px;'>Tibetan Machine Uni</p>\n",
       "<p>UnDotum: <span style='font-family:UnDotum; font-size: 24px;'>UnDotum</p>\n",
       "<p>Unikurd Web: <span style='font-family:Unikurd Web; font-size: 24px;'>Unikurd Web</p>\n",
       "<p>VL Gothic: <span style='font-family:VL Gothic; font-size: 24px;'>VL Gothic</p>\n",
       "<p>Waree: <span style='font-family:Waree; font-size: 24px;'>Waree</p>\n",
       "<p>cmb10: <span style='font-family:cmb10; font-size: 24px;'>cmb10</p>\n",
       "<p>cmex10: <span style='font-family:cmex10; font-size: 24px;'>cmex10</p>\n",
       "<p>cmmi10: <span style='font-family:cmmi10; font-size: 24px;'>cmmi10</p>\n",
       "<p>cmr10: <span style='font-family:cmr10; font-size: 24px;'>cmr10</p>\n",
       "<p>cmss10: <span style='font-family:cmss10; font-size: 24px;'>cmss10</p>\n",
       "<p>cmsy10: <span style='font-family:cmsy10; font-size: 24px;'>cmsy10</p>\n",
       "<p>cmtt10: <span style='font-family:cmtt10; font-size: 24px;'>cmtt10</p></div>"
      ],
      "text/plain": [
       "<IPython.core.display.HTML object>"
      ]
     },
     "execution_count": 4,
     "metadata": {},
     "output_type": "execute_result"
    }
   ],
   "source": [
    "import matplotlib.font_manager\n",
    "from IPython.core.display import HTML\n",
    "\n",
    "def make_html(fontname):\n",
    "    return \"<p>{font}: <span style='font-family:{font}; font-size: 24px;'>{font}</p>\".format(font=fontname)\n",
    "\n",
    "code = \"\\n\".join([make_html(font) for font in sorted(set([f.name for f in matplotlib.font_manager.fontManager.ttflist]))])\n",
    "\n",
    "HTML(\"<div style='column-count: 2;'>{}</div>\".format(code))"
   ]
  },
  {
   "cell_type": "code",
   "execution_count": 7,
   "metadata": {},
   "outputs": [
    {
     "data": {
      "image/png": "[encoded data removed]",
      "text/plain": [
       "<matplotlib.figure.Figure at 0x7fef9db30950>"
      ]
     },
     "metadata": {},
     "output_type": "display_data"
    }
   ],
   "source": [
    "import matplotlib.pyplot as plt\n",
    "from matplotlib import rcParams\n",
    "#rcParams['font.family'] = 'Helvetica-Normal'\n",
    "plt.rc('font',family='Helvetica-Normal')\n",
    "fig = plt.figure(figsize=(12,2),facecolor='white')\n",
    "ax1=fig.add_subplot(1,1,1)\n",
    "ax1.text(0.5,0.5,'hi',fontsize=30) \n",
    "plt.show()"
   ]
  },
  {
   "cell_type": "code",
   "execution_count": null,
   "metadata": {
    "collapsed": true
   },
   "outputs": [],
   "source": []
  }
 ],
 "metadata": {
  "kernelspec": {
   "display_name": "Python 3",
   "language": "python",
   "name": "python3"
  },
  "language_info": {
   "codemirror_mode": {
    "name": "ipython",
    "version": 2
   },
   "file_extension": ".py",
   "mimetype": "text/x-python",
   "name": "python",
   "nbconvert_exporter": "python",
   "pygments_lexer": "ipython2",
   "version": "2.7.13"
  }
 },
 "nbformat": 4,
 "nbformat_minor": 2
}
