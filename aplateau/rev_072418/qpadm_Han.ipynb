{
 "cells": [
  {
   "cell_type": "code",
   "execution_count": 2,
   "metadata": {},
   "outputs": [
    {
     "data": {
      "text/plain": [
       "'Made /mnt/solexa/mel_yang/early_CN/qpadm_han/UPA19_3.out0 file'"
      ]
     },
     "execution_count": 2,
     "metadata": {},
     "output_type": "execute_result"
    }
   ],
   "source": [
    "import fstats_funcs as ff\n",
    "\n",
    "pD=\"/mnt/solexa/mel_yang/early_CN/qpadm_han/\"\n",
    "\n",
    "outgroups=[\"UstIshim\",\"Mbuti\",\"Ju_hoan_North\",\"Papuan\",\"Kostenki14\",\"Onge\",\"Tianyuan\",\"Malta1\",\"Natufian\",\n",
    "          \"Kolyma_River\",\"Yana_old\",\"Yana_old2\",\"Mixe\",\"Surui\",\"La368_G1\"]\n",
    "fh=\"UPA19_3\"\n",
    "ff.mklst(pD,fh,\"out0\",outgroups)"
   ]
  },
  {
   "cell_type": "code",
   "execution_count": 10,
   "metadata": {},
   "outputs": [
    {
     "data": {
      "text/plain": [
       "'Made /mnt/solexa/mel_yang/early_CN/qpadm_han/UPA19_3.out1 file'"
      ]
     },
     "execution_count": 10,
     "metadata": {},
     "output_type": "execute_result"
    }
   ],
   "source": [
    "import fstats_funcs as ff\n",
    "\n",
    "pD=\"/mnt/solexa/mel_yang/early_CN/qpadm_han/\"\n",
    "\n",
    "outgroups=[\"UstIshim\",\"Ju_hoan_North\",\"Papuan\",\"Kostenki14\",\"Onge\",\"Tianyuan\",\"Malta1\",\"Natufian\",\n",
    "          \"Kolyma_River\",\"Yana_old\",\"Surui\",\"La368_G1\",\"ZongriM297\",\"Shamanka_EN\"]\n",
    "fh=\"UPA19_3\"\n",
    "ff.mklst(pD,fh,\"out1\",outgroups)"
   ]
  },
  {
   "cell_type": "code",
   "execution_count": 13,
   "metadata": {},
   "outputs": [
    {
     "data": {
      "text/plain": [
       "'Made /mnt/solexa/mel_yang/early_CN/qpadm_han/UPA19_3.out2 file'"
      ]
     },
     "execution_count": 13,
     "metadata": {},
     "output_type": "execute_result"
    }
   ],
   "source": [
    "import fstats_funcs as ff\n",
    "\n",
    "pD=\"/mnt/solexa/mel_yang/early_CN/qpadm_han/\"\n",
    "\n",
    "outgroups=[\"UstIshim\",\"Yana_old\",\"Papuan\",\"Onge\",\"Tianyuan\",\"Kolyma_River\",\"Sherpa\",\n",
    "           \"Baojianshan\",\"Bbdong\",\"Qihe\",\"Surui\",\"La368_G1\"]\n",
    "fh=\"UPA19_3\"\n",
    "ff.mklst(pD,fh,\"out2\",outgroups)"
   ]
  },
  {
   "cell_type": "code",
   "execution_count": 7,
   "metadata": {},
   "outputs": [
    {
     "data": {
      "text/plain": [
       "'Made /mnt/solexa/mel_yang/early_CN/qpadm_han/UPA19_3.out3 file'"
      ]
     },
     "execution_count": 7,
     "metadata": {},
     "output_type": "execute_result"
    }
   ],
   "source": [
    "import fstats_funcs as ff\n",
    "\n",
    "pD=\"/mnt/solexa/mel_yang/early_CN/qpadm_han/\"\n",
    "\n",
    "outgroups=[\"UstIshim\",\"Yana_old\",\"Papuan\",\"Onge\",\"Tianyuan\",\"Kolyma_River\",\"Sherpa\",\n",
    "           \"Baojianshan\",\"Surui\",\"La368_G1\"]\n",
    "fh=\"UPA19_3\"\n",
    "ff.mklst(pD,fh,\"out3\",outgroups)"
   ]
  },
  {
   "cell_type": "code",
   "execution_count": 8,
   "metadata": {},
   "outputs": [
    {
     "name": "stdout",
     "output_type": "stream",
     "text": [
      "qpAdm -p UPA19_3.adm.A_Oroqen_SourceSet4_out3.par > UPA19_3.adm.A_Oroqen_SourceSet4_out3.log &\n",
      "qpAdm -p UPA19_3.adm.A_Daur_SourceSet4_out3.par > UPA19_3.adm.A_Daur_SourceSet4_out3.log &\n",
      "qpAdm -p UPA19_3.adm.A_Hezhen_SourceSet4_out3.par > UPA19_3.adm.A_Hezhen_SourceSet4_out3.log &\n",
      "qpAdm -p UPA19_3.adm.A_Xibo_SourceSet4_out3.par > UPA19_3.adm.A_Xibo_SourceSet4_out3.log &\n",
      "qpAdm -p UPA19_3.adm.A_Japanese_SourceSet4_out3.par > UPA19_3.adm.A_Japanese_SourceSet4_out3.log &\n",
      "qpAdm -p UPA19_3.adm.A_Korean_SourceSet4_out3.par > UPA19_3.adm.A_Korean_SourceSet4_out3.log &\n",
      "qpAdm -p UPA19_3.adm.A_Han_SourceSet4_out3.par > UPA19_3.adm.A_Han_SourceSet4_out3.log &\n",
      "qpAdm -p UPA19_3.adm.A_Tujia_SourceSet4_out3.par > UPA19_3.adm.A_Tujia_SourceSet4_out3.log &\n",
      "qpAdm -p UPA19_3.adm.A_She_SourceSet4_out3.par > UPA19_3.adm.A_She_SourceSet4_out3.log &\n",
      "qpAdm -p UPA19_3.adm.A_Miao_SourceSet4_out3.par > UPA19_3.adm.A_Miao_SourceSet4_out3.log &\n",
      "qpAdm -p UPA19_3.adm.A_Naxi_SourceSet4_out3.par > UPA19_3.adm.A_Naxi_SourceSet4_out3.log &\n",
      "qpAdm -p UPA19_3.adm.A_Yi_SourceSet4_out3.par > UPA19_3.adm.A_Yi_SourceSet4_out3.log &\n",
      "qpAdm -p UPA19_3.adm.A_Dai_SourceSet4_out3.par > UPA19_3.adm.A_Dai_SourceSet4_out3.log &\n",
      "qpAdm -p UPA19_3.adm.A_Kinh_SourceSet4_out3.par > UPA19_3.adm.A_Kinh_SourceSet4_out3.log &\n",
      "qpAdm -p UPA19_3.adm.A_Lahu_SourceSet4_out3.par > UPA19_3.adm.A_Lahu_SourceSet4_out3.log &\n",
      "qpAdm -p UPA19_3.adm.A_Ami_SourceSet4_out3.par > UPA19_3.adm.A_Ami_SourceSet4_out3.log &\n",
      "qpAdm -p UPA19_3.adm.A_Atayal_SourceSet4_out3.par > UPA19_3.adm.A_Atayal_SourceSet4_out3.log &\n"
     ]
    }
   ],
   "source": [
    "import fstats_funcs as ff\n",
    "\n",
    "pD=\"/mnt/solexa/mel_yang/data/2.2M/\" \n",
    "outpd=\"/mnt/solexa/mel_yang/early_CN/qpadm_han/\"\n",
    "fh=\"UPA19_3\"\n",
    "name=\"A\"\n",
    "pt=[\"wave\",\"Wave\"]\n",
    "pt=[\"adm\",\"Adm\"]\n",
    "out=\"out3\"\n",
    "south=[\"Suogang\",\"Qihe\",\"Qihe_d\",\"LiangDaoF\",\"LiangDaoM\",\"Ma555_G6\"]\n",
    "north=[\"JomonM\",\"ZongriM297\",\"Hejiatai\",\"PukagongmaM5\",\"Chokhopani\",\n",
    "       \"Kolyma_River\",\"Shamanka_EN\",\"HDYM1\",\n",
    "       \"DevilsGate\",\"Boisman_MN\",\"Bbdong\",\"Boshan\",\"Xiaogao\",\"XJS\",\"XJS_F\" ]        \n",
    "central=[\"Longlin\",\"Baojianshan\",\"Dushan\",\n",
    "         \"ZhaoguoM2\",\"Daxi\",\"Dashuitian\",\n",
    "         \"DonghulinM1\",\"Jiahu_M52_I2\",\"Tianluoshan\",\"Liangzhu_T4620\"]\n",
    "seas=[\"Ma912_G2\",\"La727_G2\",\"Vt880_G2\",\"Vt833_G2\",\"Man_Bac\",\"Nui_Nap\",\n",
    "      \"Vt719_G3_1\",\"Vt777_G3\",\"Th521_G4\",\"Oakaie1\"]\n",
    "pdeas=[\"Oroqen\",\"Daur\",\"Hezhen\",\"Xibo\",\"Japanese\",\"Korean\",\"Han\",\"Tujia\",\"She\",\"Miao\",\n",
    "      \"Naxi\",\"Yi\",\"Dai\",\"Kinh\",\"Lahu\",\"Ami\",\"Atayal\"]\n",
    "set1=(\"ZongriM297\",\"Shamanka_EN\",\"LiangDaoF\",\"Bbdong\")\n",
    "set2=(\"Xinyi\",\"HDYM1\",\"LiangDaoF\",\"Bbdong\")\n",
    "set3=(\"Xinyi\",\"HDYM1\",\"LiangDaoF\",\"Xiaogao\")\n",
    "set4=(\"ZongriM297\",\"HDYM1\",\"LiangDaoF\",\"Xiaogao\")\n",
    "s1,s2,s3,s4=set4\n",
    "targets=pdeas\n",
    "for target in targets:\n",
    "    if s1==target: continue\n",
    "    label=\"%s_%s_%s_%s\" % (name,target,\"SourceSet4\",out)\n",
    "    ff.parfile(pD,fh,pt[0],label,outpd=outpd,outgroup=fh+\".\"+out)\n",
    "    ff.mklst(outpd,fh,pt[0]+\".\"+label,[target,s1,s2,s3,s4],suffix=\"leftpop\")\n",
    "    \n",
    "    mytuple=(fh,pt[0],label)\n",
    "    print \"qpAdm -p {0}.{1}.{2}.par > {0}.{1}.{2}.log &\".format(*mytuple) \n"
   ]
  },
  {
   "cell_type": "code",
   "execution_count": 3,
   "metadata": {
    "scrolled": true
   },
   "outputs": [
    {
     "name": "stdout",
     "output_type": "stream",
     "text": [
      "qpAdm -p UPA19_3.adm.A_3S_Qihe_SourceSet5_out3.par > UPA19_3.adm.A_3S_Qihe_SourceSet5_out3.log &\n"
     ]
    }
   ],
   "source": [
    "import fstats_funcs as ff\n",
    "\n",
    "pD=\"/mnt/solexa/mel_yang/data/2.2M/\" \n",
    "outpd=\"/mnt/solexa/mel_yang/early_CN/qpadm_han/\"\n",
    "fh=\"UPA19_3\"\n",
    "name=\"A_3S\"\n",
    "pt=[\"wave\",\"qpWave\"]\n",
    "pt=[\"adm\",\"qpAdm\"]\n",
    "out=\"out3\"\n",
    "south=[\"Suogang\",\"Qihe\",\"Qihe_d\",\"LiangDaoF\",\"LiangDaoM\",\"Ma555_G6\"]\n",
    "north=[\"JomonM\",\"ZongriM297\",\"Hejiatai\",\"PukagongmaM5\",\"Chokhopani\",\n",
    "       \"Kolyma_River\",\"Shamanka_EN\",\"HDYM1\",\n",
    "       \"DevilsGate\",\"Boisman_MN\",\"Bbdong\",\"Boshan\",\"Xiaogao\",\"XJS\",\"XJS_F\" ]        \n",
    "central=[\"Longlin\",\"Baojianshan\",\"Dushan\",\n",
    "         \"ZhaoguoM2\",\"Daxi\",\"Dashuitian\",\n",
    "         \"DonghulinM1\",\"Jiahu_M52_I2\",\"Tianluoshan\",\"Liangzhu_T4620\"]\n",
    "seas=[\"Ma912_G2\",\"La727_G2\",\"Vt880_G2\",\"Vt833_G2\",\"Man_Bac\",\"Nui_Nap\",\n",
    "      \"Vt719_G3_1\",\"Vt777_G3\",\"Th521_G4\",\"Oakaie1\"]\n",
    "pdeas=[\"Oroqen\",\"Daur\",\"Hezhen\",\"Xibo\",\"Japanese\",\"Korean\",\"Han\",\"Tujia\",\"She\",\"Miao\",\n",
    "      \"Naxi\",\"Yi\",\"Dai\",\"Kinh\",\"Lahu\",\"Ami\",\"Atayal\"]\n",
    "anc=[\"Tianluoshan\",\"Liangzhu_T4620\",\"XJS\",\"XJS_F\",\"LiangDaoF\",\"LiangDaoM\",\"Suogang\",\n",
    "    \"Xinyi\",\"Linzi\",\"Dushan\",\"HDYM1\",\"Ma555_G6\"]\n",
    "set1=(\"ZongriM297\",\"Xiaogao\",\"LiangDaoF\")\n",
    "set2=(\"Qihe\",\"Bbdong\",\"ZongriM297\")\n",
    "set3=(\"Qihe\",\"Bbdong\",\"Han\")\n",
    "set4=(\"Qihe\",\"Han\",\"ZongriM297\")\n",
    "set5=(\"Han\",\"Bbdong\",\"ZongriM297\")\n",
    "s1,s2,s3=set5\n",
    "targets=anc\n",
    "targets=[\"Qihe\"]\n",
    "for target in targets:\n",
    "    if s1==target: continue\n",
    "    label=\"%s_%s_%s_%s\" % (name,target,\"SourceSet5\",out)\n",
    "    ff.parfile(pD,fh,pt[0],label,outpd=outpd,outgroup=fh+\".\"+out)\n",
    "    ff.mklst(outpd,fh,pt[0]+\".\"+label,[target,s1,s2,s3],suffix=\"leftpop\")\n",
    "    \n",
    "    mytuple=(fh,pt[0],label)\n",
    "    print pt[1]+\" -p {0}.{1}.{2}.par > {0}.{1}.{2}.log &\".format(*mytuple) \n"
   ]
  },
  {
   "cell_type": "code",
   "execution_count": null,
   "metadata": {
    "collapsed": true
   },
   "outputs": [],
   "source": []
  }
 ],
 "metadata": {
  "kernelspec": {
   "display_name": "Python 2",
   "language": "python",
   "name": "python2"
  },
  "language_info": {
   "codemirror_mode": {
    "name": "ipython",
    "version": 2
   },
   "file_extension": ".py",
   "mimetype": "text/x-python",
   "name": "python",
   "nbconvert_exporter": "python",
   "pygments_lexer": "ipython2",
   "version": "2.7.13"
  }
 },
 "nbformat": 4,
 "nbformat_minor": 2
}
