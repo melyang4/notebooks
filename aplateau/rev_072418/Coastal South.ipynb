{
 "cells": [
  {
   "cell_type": "code",
   "execution_count": 9,
   "metadata": {},
   "outputs": [
    {
     "data": {
      "text/plain": [
       "'Made f4 PAR file /mnt/solexa/mel_yang/early_CN/UPA19_3.f4.Ma554P2b.par'"
      ]
     },
     "execution_count": 9,
     "metadata": {},
     "output_type": "execute_result"
    }
   ],
   "source": [
    "import fstat_funcs as ff\n",
    "\n",
    "pD=\"/mnt/solexa/mel_yang/data/2.2M/\"\n",
    "outpd=\"/mnt/solexa/mel_yang/early_CN/\"\n",
    "fh=\"UPA19_3\"\n",
    "popfile=open(outpd+\"list2\")\n",
    "poplist=[line.strip() for line in popfile]\n",
    "popfile.close()\n",
    "ff.Df4pop(pD,fh,\"f4\",\"Ma554P3\",[\"Mbuti\",\"Chimp\"],[\"Ma554_G6\"],poplist,poplist,outpd=outpd)\n",
    "ff.Df4pop(pD,fh,\"f4\",\"Ma554P2a\",[\"Mbuti\",\"Chimp\"],poplist,[\"Ma554_G6\"],poplist,outpd=outpd)\n",
    "ff.Df4pop(pD,fh,\"f4\",\"Ma554P2b\",[\"Mbuti\",\"Chimp\"],poplist,poplist,[\"Ma554_G6\"],outpd=outpd)\n",
    "ff.parfile(pD,fh,\"f4\",\"Ma554P3\",outpd=outpd)\n",
    "ff.parfile(pD,fh,\"f4\",\"Ma554P2a\",outpd=outpd)\n",
    "ff.parfile(pD,fh,\"f4\",\"Ma554P2b\",outpd=outpd)"
   ]
  },
  {
   "cell_type": "code",
   "execution_count": 11,
   "metadata": {},
   "outputs": [
    {
     "name": "stdout",
     "output_type": "stream",
     "text": [
      "qpDstat -p UPA19_3.f4.Ma554P3.par > UPA19_3.f4.Ma554P3.log\n",
      "qpDstat -p UPA19_3.f4.Ma554P2a.par > UPA19_3.f4.Ma554P2a.log\n",
      "qpDstat -p UPA19_3.f4.Ma554P2b.par > UPA19_3.f4.Ma554P2b.log\n"
     ]
    }
   ],
   "source": [
    "mylst=[\"P3\",\"P2a\",\"P2b\"]\n",
    "fh=\"UPA19_3\"\n",
    "for i in mylst:\n",
    "    print \"qpDstat -p %s.f4.Ma554%s.par > %s.f4.Ma554%s.log\" % (fh,i,fh,i)"
   ]
  },
  {
   "cell_type": "code",
   "execution_count": 12,
   "metadata": {},
   "outputs": [
    {
     "name": "stdout",
     "output_type": "stream",
     "text": [
      "P1\tP2\tP3\tP4\tf4\tZ\tN\n",
      "Mbuti\tShamanka_EN\tAmi\tLiangDaoF\t-0.001852\t-5.059\t879294\n",
      "Mbuti\tShamanka_EN\tAmi\tLiangDaoM\t-0.001457\t-3.558\t384005\n",
      "Mbuti\tShamanka_EN\tAmi\tQihe\t-0.002370\t-6.183\t361045\n",
      "Mbuti\tShamanka_EN\tAtayal\tLiangDaoF\t-0.001195\t-2.930\t879178\n",
      "Mbuti\tShamanka_EN\tAtayal\tQihe\t-0.001509\t-3.355\t361002\n",
      "Mbuti\tXiaogao\tSuogang\tLiangDaoF\t-0.002370\t-2.502\t106943\n",
      "Mbuti\tXiaogao\tSuogang\tLiangDaoM\t-0.004073\t-4.021\t72453\n",
      "Mbuti\tXiaogao\tSuogang\tMa555_G6\t-0.003834\t-3.045\t42649\n",
      "Mbuti\tXiaogao\tAmi\tLiangDaoF\t-0.001270\t-2.594\t667994\n",
      "Mbuti\tBbdong\tAmi\tLiangDaoF\t-0.001384\t-2.673\t676270\n",
      "Mbuti\tBbdong\tAmi\tQihe\t-0.001864\t-3.449\t317367\n",
      "Mbuti\tBoshan\tAmi\tLiangDaoF\t-0.001619\t-3.289\t1048840\n",
      "Mbuti\tBoshan\tAmi\tQihe\t-0.002525\t-4.749\t365929\n",
      "Mbuti\tBoshan\tAmi\tMa555_G6\t-0.001571\t-3.128\t516388\n",
      "Mbuti\tBoshan\tAtayal\tQihe\t-0.002065\t-3.399\t365876\n",
      "Mbuti\tXJS_F\tSuogang\tLiangDaoF\t-0.003083\t-3.425\t88754\n",
      "Mbuti\tXJS_F\tSuogang\tLiangDaoM\t-0.004026\t-4.219\t63386\n",
      "Mbuti\tXJS_F\tSuogang\tAmi\t-0.001997\t-2.671\t89920\n",
      "Mbuti\tXJS_F\tSuogang\tAtayal\t-0.003070\t-3.759\t89917\n",
      "Mbuti\tHDYM1\tAmi\tLiangDaoF\t-0.001263\t-2.562\t849959\n",
      "Mbuti\tHDYM1\tAmi\tQihe\t-0.001636\t-2.928\t350123\n",
      "Mbuti\tHDYM1\tAmi\tAtayal\t-0.001335\t-2.893\t1028803\n",
      "Mbuti\tZongriM297\tSuogang\tLiangDaoF\t-0.002587\t-2.760\t96011\n",
      "Mbuti\tZongriM297\tSuogang\tAtayal\t-0.002257\t-2.798\t97698\n",
      "Mbuti\tZongriM297\tAmi\tAtayal\t-0.001230\t-2.584\t598958\n",
      "Mbuti\tChokhopani\tMa555_G6\tLiangDaoM\t-0.002109\t-2.599\t159719\n",
      "Mbuti\tChokhopani\tMa555_G6\tQihe\t-0.002965\t-3.598\t149908\n",
      "Mbuti\tChokhopani\tAmi\tLiangDaoF\t-0.001819\t-4.254\t1200252\n",
      "Mbuti\tChokhopani\tAmi\tLiangDaoM\t-0.002039\t-3.859\t399927\n",
      "Mbuti\tChokhopani\tAmi\tQihe\t-0.002595\t-4.992\t377786\n",
      "Mbuti\tChokhopani\tAmi\tSuogang\t-0.001853\t-2.673\t119875\n",
      "Mbuti\tChokhopani\tAtayal\tLiangDaoF\t-0.001668\t-3.329\t1199934\n",
      "Mbuti\tChokhopani\tAtayal\tLiangDaoM\t-0.001752\t-2.831\t399852\n",
      "Mbuti\tChokhopani\tAtayal\tQihe\t-0.002360\t-3.779\t377728\n"
     ]
    }
   ],
   "source": [
    "pd=\"/mnt/solexa/mel_yang/early_CN/\"\n",
    "\n",
    "innerN=[\"HDYM1\",\"ZongriM297\",\"Hejiatai\",\"Chokhopani\",\"Shamanka_EN\"]\n",
    "coastN=[\"Bbdong\",\"Boshan\",\"XJS_F\",\"Xiaogao\"] #\"XJS\",\n",
    "coastSo=[\"Qihe\",\"LiangDaoF\",\"LiangDaoM\"]\n",
    "coastSy=[\"Suogang\",\"Ma555_G6\",\"Ami\",\"Atayal\"]\n",
    "anc=[\"Tianyuan\",\"Group1\",\"JomonM\",\"Kolyma\",\"DevilsGate\"]\n",
    "seasia=[\"Man_Bac\",\"Nui_Nap\",\"Oakaie1\",\"Ban_Chiang\",\"Vt833_G2\",\"Vt880_G2\",\n",
    "        \"La727_G2\",\"Ma912_G2\",\"Th521_G4\",\"Vt777_G3\"]\n",
    "others=[\"Mixe\",\"Surui\",\"Papuan\",\"Onge\"]\n",
    "neas=[\"Oroqen\",\"Xibo\",\"Daur\",\"Hezhen\",\"Tu\",\"Uygur\"]\n",
    "ceas=[\"Japanese\",\"Korean\",\"Han\",\"She\",\"Miao\",\"Tujia\",\n",
    "      \"Han_ShandongX\",\"Han_GansuX\",\"Han_GuangdongX\",\n",
    "      \"Han_HenanX\",\"Han_JiangsuX\",\"Han_SichuanX\"]\n",
    "seas=[\"Lahu\",\"Dai\",\"Ami\",\"Atayal\"]\n",
    "weas=[\"Naxi\",\"Yi\",\"Tibetan_ShannanX\",\"Tibetan_LhasaX\",\"Tibetan_NagquX\",\n",
    "       \"Tibetan_ShigatseX\",\"Tibetan_ChamdoX\",\"Tibetan\",\"Sherpa\",\"Sherpa_ShigatseX\"]\n",
    "sea=[\"Kinh\",\"Htin_Mal\",\"Mlabri\",\"Cambodian\",\"Thai\",\"Burmese\"]\n",
    "\n",
    "pdeas=neas+ceas+seas+weas+sea\n",
    "aeas=anc+innerN+coastN+coastSo+coastSy+seasia+others\n",
    "p1s,p2s,p3s,p4s=([\"Mbuti\"],coastN+innerN,coastSo+coastSy,coastSo+coastSy)\n",
    "myfile=open(pd+\"F4.list.F4\")\n",
    "print \"P1\\tP2\\tP3\\tP4\\tf4\\tZ\\tN\"\n",
    "for line in myfile:\n",
    "    x=line.split()\n",
    "    p1,p2,p3,p4=tuple(x[1:5])\n",
    "    \n",
    "    if p1 not in p1s: continue\n",
    "    if p2 not in p2s: continue\n",
    "    if p3 not in p3s: continue\n",
    "    if p4 not in p4s: continue\n",
    "    Z=float(x[6])\n",
    "    if Z>-2.5: continue\n",
    "    print '\\t'.join(x[1:7]+[x[-1]])\n",
    "    #break\n",
    "myfile.close()"
   ]
  },
  {
   "cell_type": "code",
   "execution_count": null,
   "metadata": {
    "collapsed": true
   },
   "outputs": [],
   "source": []
  }
 ],
 "metadata": {
  "kernelspec": {
   "display_name": "Python 2",
   "language": "python",
   "name": "python2"
  },
  "language_info": {
   "codemirror_mode": {
    "name": "ipython",
    "version": 2
   },
   "file_extension": ".py",
   "mimetype": "text/x-python",
   "name": "python",
   "nbconvert_exporter": "python",
   "pygments_lexer": "ipython2",
   "version": "2.7.13"
  }
 },
 "nbformat": 4,
 "nbformat_minor": 2
}
