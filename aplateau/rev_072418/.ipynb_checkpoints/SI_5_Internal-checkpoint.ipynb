{
 "cells": [
  {
   "cell_type": "code",
   "execution_count": null,
   "metadata": {
    "collapsed": true
   },
   "outputs": [],
   "source": []
  },
  {
   "cell_type": "code",
   "execution_count": 1,
   "metadata": {
    "collapsed": true
   },
   "outputs": [],
   "source": [
    "import numpy as np\n",
    "import matplotlib.pyplot as plt\n",
    "import pandas as pd\n",
    "import plateaumodules as pm\n",
    "\n",
    "workdir=\"/mnt/solexa/mel_yang/aPlateau/rev_072418/outf3/\"\n",
    "low=[\"Zongri-a\",\"Zongri-b\",\"Zongri-c\",\"ZongriM32\",\"ZongriM40\",\"ZongriM78\",\n",
    "     \"Daxiang0\",\"Hedong6\",\"Hejiatai\",\"LiuwanQH-1\",\"XiahaishiM9\",\"XiahaishiM22\",\n",
    "     \"Hupo14\",\"Hupo-a\",\"Shangluzhuang0\",\"Sanheyi11\", \n",
    "     \"Wuba\",\"HuoshaogouM117\",\n",
    "     \"Jinchankou0\",\"Wenpuju03\",\"QijiapingM108-2\",\"QijiapingM89-2\",\"QijiapingM104-2\",\n",
    "     \"Hupo8\",\"Lajigai2\",\"Lajigai-a\",\"Qunke1\",\"Lierbao0\",\"Hedong4\"]\n",
    "high=[\"PukagongmaM1\",\"PukagongmaM2\",\"PukagongmaM3\",\"PukagongmaM5\",\n",
    "     \"Butaxiongqu\",\"RedilongM3\",\"XiaoendaM1\",\"XiaoendaM2\",\n",
    "     \"Chokhopani\",\"Mebrak\",\"Samdzong\",\"CaixiutangJ2-13\",\"YushuSGZ-1\"]\n",
    "eas=[\"Oroqen\",\"Hezhen\",\"Daur\",\"Xibo\",\"Japanese\",\"Korean\",\"Han\",\"She\",\"Miao\",\"Tujia\",\n",
    "    \"Dai\",\"Kinh\",\"Lahu\",\"Ami\",\"Atayal\",\"Naxi\",\"Yi\",\"Tu\",\"Tibetan\",\"Sherpa\"]\n",
    "tib=[\"Tibetan_ChamdoX\",\"Tibetan_LhasaX\",\"Tibetan_NagquX\",\n",
    "     \"Tibetan_ShannanX\",\"Tibetan_ShigatseX\",\"Sherpa_ShigatseX\"]\n",
    "pops=low+high#+eas+tib\n",
    "fh=\"UPA16.f3.T_Mbuti_S1_aTib+More_S2_aTib+More.log\"\n",
    "\n",
    "name=\"aTib\"\n",
    "out=\"Mbuti\"\n",
    "mypops1=[pops,pops,out]\n",
    "DorZ=\"f3\"\n",
    "\n",
    "\n",
    "newfh1=fh.split(\".\")[0]+\".\"+DorZ+\".\"+\"%s_%s_%s\" % (name,name,out)\n",
    "f3ary = pm.mkf3ary(workdir,fh,mypops1,2,(0,1),DorZ)    \n",
    "\n",
    "f3dat=pd.DataFrame(f3ary)\n",
    "rownames={ind:pops[ind] for ind in range(len(pops))}\n",
    "f3dat=f3dat.rename(rownames, axis='columns')\n",
    "f3dat=f3dat.rename(rownames, axis='index')\n",
    "\n",
    "f3dat.to_csv(workdir+newfh1+\".csv\", sep='\\t')"
   ]
  },
  {
   "cell_type": "code",
   "execution_count": 4,
   "metadata": {},
   "outputs": [
    {
     "name": "stdout",
     "output_type": "stream",
     "text": [
      "Overwriting /mnt/solexa/mel_yang/aPlateau/rev_072418/outf3/makeheatmap.R\n"
     ]
    }
   ],
   "source": [
    "%%writefile /mnt/solexa/mel_yang/aPlateau/rev_072418/outf3/makeheatmap.R\n",
    "\n",
    "\n",
    "library(gplots)\n",
    "pd=\"/mnt/solexa/mel_yang/aPlateau/rev_072418/outf3/\"\n",
    "fh=\"UPA16.f3.\"\n",
    "name=\"aTib+EA_aTib+EA_Mbuti\"\n",
    "myfile=read.csv(paste(pd,fh,name,\".csv\",sep=\"\"),sep=\"\\t\",header=T)\n",
    "\n",
    "mydat=subset(myfile, select = -c(X) )\n",
    "rownames(mydat)=colnames(mydat)\n",
    "png(paste(workdir,fh,name,\".png\",sep=\"\"))\n",
    "#mydat[is.na(mydat)] <- 0\n",
    "mydat=data.matrix(mydat)\n",
    "heatmap.2(mydat,symkey=FALSE, trace=\"none\", cexRow=0.4)\n",
    "dev.off()"
   ]
  },
  {
   "cell_type": "code",
   "execution_count": 5,
   "metadata": {
    "collapsed": true
   },
   "outputs": [],
   "source": [
    "%%bash\n",
    "R CMD BATCH /mnt/solexa/mel_yang/aPlateau/rev_072418/outf3/makeheatmap.R"
   ]
  },
  {
   "cell_type": "code",
   "execution_count": null,
   "metadata": {
    "collapsed": true
   },
   "outputs": [],
   "source": [
    "from IPython.display import Image\n",
    "Image(\"/mnt/solexa/mel_yang/aPlateau/rev_072418/outf3/.png\")"
   ]
  }
 ],
 "metadata": {
  "kernelspec": {
   "display_name": "Python 2",
   "language": "python",
   "name": "python2"
  },
  "language_info": {
   "codemirror_mode": {
    "name": "ipython",
    "version": 2
   },
   "file_extension": ".py",
   "mimetype": "text/x-python",
   "name": "python",
   "nbconvert_exporter": "python",
   "pygments_lexer": "ipython2",
   "version": "2.7.13"
  }
 },
 "nbformat": 4,
 "nbformat_minor": 2
}
