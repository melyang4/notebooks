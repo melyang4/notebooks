{
 "cells": [
  {
   "cell_type": "code",
   "execution_count": null,
   "metadata": {
    "collapsed": true
   },
   "outputs": [],
   "source": [
    "\n",
    "library(gplots)\n",
    "\n",
    "myfile=read.csv(\"/public/adna/student/2018class/yang_mel/outf3_Mbuti.csv\",sep=\"\\t\",header=T)\n",
    "\n",
    "mydat=subset(myfile, select = -c(X) )\n",
    "rownames(mydat)=colnames(mydat)\n",
    "\n",
    "#mydat[is.na(mydat)] <- 0\n",
    "mydat=data.matrix(mydat)\n",
    "heatmap.2(mydat,symkey=FALSE, trace=\"none\", cexRow=0.6)"
   ]
  }
 ],
 "metadata": {
  "kernelspec": {
   "display_name": "R",
   "language": "R",
   "name": "ir"
  }
 },
 "nbformat": 4,
 "nbformat_minor": 2
}
