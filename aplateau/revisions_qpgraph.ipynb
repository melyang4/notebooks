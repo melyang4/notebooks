{
 "cells": [
  {
   "cell_type": "code",
   "execution_count": 1,
   "metadata": {},
   "outputs": [
    {
     "name": "stdout",
     "output_type": "stream",
     "text": [
      "27\n"
     ]
    }
   ],
   "source": [
    "import projmodules as pm\n",
    "pd=\"/mnt/solexa/mel_yang/aPlateau/qpgraph/modelA/A11/\"  \n",
    "outpd=\"/mnt/solexa/mel_yang/data/2.2M/\"\n",
    "subset='mEA'\n",
    "fh=\"UPA16\"\n",
    "\n",
    "myname=\"Zongri-a.A11\"\n",
    "myname=\"Daxiang0.Zongri-a.A11_n5\"\n",
    "myname=\"XiahaishiM9.Daxiang0.Zongri-a.A11_n5_n7\"\n",
    "myname=\"Jinchankou0.XiahaishiM9.Daxiang0.Zongri-a.A11_n5_n7_n9\"\n",
    "#myname=\"XiahaishiM9.Daxiang0.Zongri-a.A11_n5_f27\"\n",
    "myname=\"Daxiang0.Zongri-a.A11_n5\"\n",
    "myname=\"Chokhopani.Jinchankou0.XiahaishiM9.Daxiang0.Zongri-a.A11_n5_n7_n9_f55\"\n",
    "myname=\"Butaxiongqu.Chokhopani.Jinchankou0.XiahaishiM9.Daxiang0.Zongri-a.A11_n5_n7_n9_f53_n6\"\n",
    "myname=\"CaixiutangJ2-13.Butaxiongqu.Chokhopani.Jinchankou0.XiahaishiM9.Daxiang0.Zongri-a.A11_n5_n7_n9_f53_n6_n15\"\n",
    "#myname=\"Jinchankou0.XiahaishiM9.Daxiang0.Zongri-a.A11_n5_f27_n10\"\n",
    "#myname=\"Butaxiongqu.Chokhopani.Jinchankou0.XiahaishiM9.Daxiang0.Zongri-a.A11_n5_n7_n9_f55_f76\"\n",
    "myname=\"Jinchankou0.XiahaishiM9.Daxiang0.Zongri-a.A11_n5_f27_f9\"\n",
    "myname=\"Jinchankou0.XiahaishiM9.Daxiang0.Zongri-a.A11_n5_n7_f8\"\n",
    "\n",
    "myname=\"Chokhopani.Jinchankou0.XiahaishiM9.Daxiang0.Zongri-a.A11_n5_f27_n10_f60\"\n",
    "myname=\"Butaxiongqu.Chokhopani.Jinchankou0.XiahaishiM9.Daxiang0.Zongri-a.A11_n5_n7_n9_f53_f38\"\n",
    "myname=\"CaixiutangJ2-13.Butaxiongqu.Chokhopani.Jinchankou0.XiahaishiM9.Daxiang0.Zongri-a.A11_n5_n7_n9_f53_n6_f98\"\n",
    "myname=\"Chokhopani.Jinchankou0.XiahaishiM9.Daxiang0.Zongri-a.A11_n5_f27_f51_f75\"\n",
    "myname=\"CaixiutangJ2-13.Butaxiongqu.Chokhopani.Jinchankou0.XiahaishiM9.Daxiang0.Zongri-a.A11_n5_n7_n9_f55_f76_f116\"\n",
    "myname=\"RedilongM3.Chokhopani.Jinchankou0.XiahaishiM9.Daxiang0.Zongri-a.A11_n5_n7_n9_f53_n6\"\n",
    "myname=\"Chokhopani.Jinchankou0.XiahaishiM9.Daxiang0.Zongri-a.A11_n5_n7_f23_f56\"\n",
    "\n",
    "myname=\"RedilongM3.Chokhopani.Jinchankou0.XiahaishiM9.Daxiang0.Zongri-a.A11_n5_n7_n9_f53_f26\"\n",
    "#myname=\"RedilongM3.Chokhopani.Jinchankou0.XiahaishiM9.Daxiang0.Zongri-a.A11_n5_n7_n9_f53_f13\"\n",
    "#myname=\"RedilongM3.Chokhopani.Jinchankou0.XiahaishiM9.Daxiang0.Zongri-a.A11_n5_n7_n9_f53_f38\"\n",
    "#myname=\"RedilongM3.Chokhopani.Jinchankou0.XiahaishiM9.Daxiang0.Zongri-a.A11_n5_n7_n9_f53_f49\"\n",
    "myname=\"RedilongM3.Chokhopani.Jinchankou0.XiahaishiM9.Daxiang0.Zongri-a.A11_n5_n7_n9_f53_f76\"\n",
    "myname=\"RedilongM3.Chokhopani.Jinchankou0.XiahaishiM9.Daxiang0.Zongri-a.A11_n5_n7_n9_f53_f59\"\n",
    "myname=\"RedilongM3.Chokhopani.Jinchankou0.XiahaishiM9.Daxiang0.Zongri-a.A11_n5_n7_n9_f55_f76\"\n",
    "\n",
    "#myname=\"Butaxiongqu.RedilongM3.Chokhopani.Jinchankou0.XiahaishiM9.Daxiang0.Zongri-a.A11_n5_n7_n9_f53_n6_f66\"\n",
    "#myname=\"Butaxiongqu.RedilongM3.Chokhopani.Jinchankou0.XiahaishiM9.Daxiang0.Zongri-a.A11_n5_n7_n9_f53_n6_f131\"\n",
    "myname=\"RedilongM3.Chokhopani.Jinchankou0.XiahaishiM9.Daxiang0.Zongri-a.A11_n5_n7_n9\"\n",
    "\n",
    "myname=\"RedilongM3.Chokhopani.Jinchankou0.XiahaishiM9.Daxiang0.Zongri-a.A11_n5_n7_f43_f62_f91\"\n",
    "myname=\"Tibetan_ShannanX.RedilongM3.Chokhopani.Jinchankou0.XiahaishiM9.Daxiang0.Zongri-a.A11_n5_n7_n9_f53_f76_f122\"\n",
    "myname=\"CaixiutangJ2-13.RedilongM3.Chokhopani.Jinchankou0.XiahaishiM9.Daxiang0.Zongri-a.A11_n5_n7_n9_f53_f76_f122\"\n",
    "myname=\"Sherpa_ShigatseX.CaixiutangJ2-13.RedilongM3.Chokhopani.Jinchankou0.XiahaishiM9.Daxiang0.Zongri-a.A11_n5_n7_n9_f53_f76_f147_f199\"\n",
    "myname=\"Tibetan_ShannanX.CaixiutangJ2-13.RedilongM3.Chokhopani.Jinchankou0.XiahaishiM9.Daxiang0.Zongri-a.A11_n5_n7_n9_f53_f76_f147_f199\"\n",
    "myname=\"Sherpa_ShigatseX.CaixiutangJ2-13.RedilongM3.Chokhopani.Jinchankou0.XiahaishiM9.Daxiang0.Zongri-a.A11_n5_n7_n9_f53_f76_f147_f199\"\n",
    "myname=\"Sherpa_ShigatseX.CaixiutangJ2-13.RedilongM3.Chokhopani.Jinchankou0.XiahaishiM9.Daxiang0.Zongri-a.A11_n5_n7_n9_f53_f76_f147_n20\"\n",
    "myname=\"Sherpa_ShigatseX.CaixiutangJ2-13.RedilongM3.Chokhopani.Jinchankou0.XiahaishiM9.Daxiang0.Zongri-a.A11_n5_n7_n9_f53_f76_f122_f199\"\n",
    "myname=\"Sherpa_ShigatseX.CaixiutangJ2-13.RedilongM3.Chokhopani.Jinchankou0.XiahaishiM9.Daxiang0.Zongri-a.A11_n5_n7_n9_f53_f76_f122_f188\"\n",
    "myname=\"Sherpa_ShigatseX.RedilongM3.Chokhopani.Jinchankou0.XiahaishiM9.Daxiang0.Zongri-a.A11_n5_n7_n9_f53_f76_f122\"\n",
    "myname=\"Tibetan_ShannanX.Sherpa_ShigatseX.CaixiutangJ2-13.RedilongM3.Chokhopani.Jinchankou0.XiahaishiM9.Daxiang0.Zongri-a.A11_n5_n7_n9_f53_f76_f147\"\n",
    "\n",
    "myname=\"Sherpa_ShigatseX.Tibetan_ShannanX.CaixiutangJ2-13.RedilongM3.Chokhopani.Jinchankou0.XiahaishiM9.Daxiang0.Zongri-a.A11_n5_n7_n9_f53_f76\"\n",
    "myname=\"Miao.Sherpa_ShigatseX.Tibetan_ShannanX.CaixiutangJ2-13.RedilongM3.Chokhopani.Jinchankou0.XiahaishiM9.Daxiang0.Zongri-a.A11_n5_n7_n9_f53_f76_f122_f199_f274\"\n",
    "myname=\"IK002_Jomon.Sherpa_ShigatseX.Tibetan_ShannanX.CaixiutangJ2-13.RedilongM3.Chokhopani.Jinchankou0.XiahaishiM9.Daxiang0.Zongri-a.A11_n5_n7_n9_f53_f76_f122_f199_f274\"\n",
    "myname=\"Sherpa_ShigatseX.Tibetan_ShannanX.CaixiutangJ2-13.RedilongM3.Chokhopani.Jinchankou0.XiahaishiM9.Daxiang0.Zongri-a.A11_n5_n7_n9_f53_f76_f147\"\n",
    "\n",
    "mydat = pm.graph_getidsig(pd,myname,zscorecutoff=3) \n",
    "#mydat = pm.graph_getidsig(pd,myname,zscorecutoff=2.5) \n",
    "print len(mydat)\n",
    "for i in mydat: \n",
    "    mystat=pm.graph_retrieveinfo(i,pd,subset,fh,myname)   \n",
    "    if mystat in ['branch 0\\t','100%\\t']: continue\n",
    "    print i[0], i[1],  mystat\n",
    "    "
   ]
  },
  {
   "cell_type": "markdown",
   "metadata": {},
   "source": [
    "fh=\"A11_3S_mod1_CHOCXT_SHE\"\n",
    "qpGraph -p A11.par -g ${fh} -o ${fh}.out -d ${fh}.dot > ${fh}.log"
   ]
  },
  {
   "cell_type": "code",
   "execution_count": 10,
   "metadata": {},
   "outputs": [
    {
     "name": "stdout",
     "output_type": "stream",
     "text": [
      "Overwriting /mnt/solexa/mel_yang/aPlateau/qpgraph/modelA/A11_oneattime.py\n"
     ]
    }
   ],
   "source": [
    "%%writefile /mnt/solexa/mel_yang/aPlateau/qpgraph/modelA/A11_oneattime.py\n",
    "#import TY_maindata as md\n",
    "import projmodules as pm\n",
    "import multiprocessing\n",
    "from multiprocessing import Pool\n",
    "\n",
    "\n",
    "def do_work(myvars):\n",
    "    pD,fh,subset,pop1,basegraphname=myvars\n",
    "    wanttoadd = [pop1,pop1]\n",
    "    pm.graph_addnode_uniq(pD,fh,subset,basegraphname,wanttoadd,comments='NA')\n",
    "    pm.graph_addadmix_uniq(pD,fh,subset,basegraphname,wanttoadd,comments='NA')\n",
    "    return \"done \"+basegraphname\n",
    "\n",
    "pD = \"/mnt/solexa/mel_yang/aPlateau/qpgraph/modelA/A11/\"\n",
    "outpd=\"/mnt/solexa/mel_yang/data/2.2M/\"\n",
    "fh = 'UPA16'\n",
    "subset='mEA'\n",
    "\n",
    "##Added K14, TY, Ami continued from qpgraph3.ipynb\n",
    "\n",
    "basegraphname,pop1,mypool = ('RedilongM3.Chokhopani.Jinchankou0.XiahaishiM9.Daxiang0.Zongri-a.A11_n5_n7_n9_f53_f76_f122',\"Sherpa_ShigatseX\",20)\n",
    "#basegraphname,pop1,mypool = ('RedilongM3.Chokhopani.Jinchankou0.XiahaishiM9.Daxiang0.Zongri-a.A11_n5_n7_n9_f53_f76_f147',\"Sherpa_ShigatseX\",20)\n",
    "basegraphname,pop1,mypool = ('CaixiutangJ2-13.RedilongM3.Chokhopani.Jinchankou0.XiahaishiM9.Daxiang0.Zongri-a.A11_n5_n7_n9_f53_f76_f147_f199',\"Sherpa_ShigatseX\",20) ##Tibetan_ShannanX\n",
    "#basegraphname,pop1,mypool = ('CaixiutangJ2-13.RedilongM3.Chokhopani.Jinchankou0.XiahaishiM9.Daxiang0.Zongri-a.A11_n5_n7_n9_f53_f76_f147_n20',\"Sherpa_ShigatseX\",20) ##Tibetan_ShannanX\n",
    "basegraphname,pop1,mypool = ('CaixiutangJ2-13.RedilongM3.Chokhopani.Jinchankou0.XiahaishiM9.Daxiang0.Zongri-a.A11_n5_n7_n9_f53_f76_f122_f199',\"Tibetan_ShannanX\",20) ##Tibetan_ShannanX\n",
    "basegraphname,pop1,mypool = ('CaixiutangJ2-13.RedilongM3.Chokhopani.Jinchankou0.XiahaishiM9.Daxiang0.Zongri-a.A11_n5_n7_n9_f53_f76_f122_f188',\"Sherpa_ShigatseX\",20) ##Tibetan_ShannanX\n",
    "\n",
    "basegraphname,pop1,mypool = ('Sherpa_ShigatseX.CaixiutangJ2-13.RedilongM3.Chokhopani.Jinchankou0.XiahaishiM9.Daxiang0.Zongri-a.A11_n5_n7_n9_f53_f76_f147_f199_f40',\"Tibetan_ShannanX\",20)\n",
    "basegraphname,pop1,mypool = ('Sherpa_ShigatseX.CaixiutangJ2-13.RedilongM3.Chokhopani.Jinchankou0.XiahaishiM9.Daxiang0.Zongri-a.A11_n5_n7_n9_f53_f76_f147_f199_f18',\"Tibetan_ShannanX\",20)\n",
    "basegraphname,pop1,mypool = ('Sherpa_ShigatseX.CaixiutangJ2-13.RedilongM3.Chokhopani.Jinchankou0.XiahaishiM9.Daxiang0.Zongri-a.A11_n5_n7_n9_f53_f76_f147_n20_f35',\"Tibetan_ShannanX\",20)\n",
    "basegraphname,pop1,mypool = ('Sherpa_ShigatseX.CaixiutangJ2-13.RedilongM3.Chokhopani.Jinchankou0.XiahaishiM9.Daxiang0.Zongri-a.A11_n5_n7_n9_f53_f76_f147_n20_f14',\"Tibetan_ShannanX\",20)\n",
    "basegraphname,pop1,mypool = ('Sherpa_ShigatseX.CaixiutangJ2-13.RedilongM3.Chokhopani.Jinchankou0.XiahaishiM9.Daxiang0.Zongri-a.A11_n5_n7_n9_f53_f76_f147_f199_f40',\"Han\",20)\n",
    "\n",
    "basegraphname,pop1,mypool = ('Tibetan_ShannanX.CaixiutangJ2-13.RedilongM3.Chokhopani.Jinchankou0.XiahaishiM9.Daxiang0.Zongri-a.A11_n5_n7_n9_f53_f76_f147_n20_f230',\"Sherpa_ShigatseX\",20)\n",
    "#basegraphname,pop1,mypool = ('Tibetan_ShannanX.CaixiutangJ2-13.RedilongM3.Chokhopani.Jinchankou0.XiahaishiM9.Daxiang0.Zongri-a.A11_n5_n7_n9_f53_f76_f147_n20_f231',\"Sherpa_ShigatseX\",20)\n",
    "#basegraphname,pop1,mypool = ('Tibetan_ShannanX.CaixiutangJ2-13.RedilongM3.Chokhopani.Jinchankou0.XiahaishiM9.Daxiang0.Zongri-a.A11_n5_n7_n9_f53_f76_f147_f199_f274',\"Sherpa_ShigatseX\",20)\n",
    "#basegraphname,pop1,mypool = ('Tibetan_ShannanX.CaixiutangJ2-13.RedilongM3.Chokhopani.Jinchankou0.XiahaishiM9.Daxiang0.Zongri-a.A11_n5_n7_n9_f53_f76_f122_f199_f274',\"Sherpa_ShigatseX\",20)\n",
    "#basegraphname,pop1,mypool = ('Tibetan_ShannanX.CaixiutangJ2-13.RedilongM3.Chokhopani.Jinchankou0.XiahaishiM9.Daxiang0.Zongri-a.A11_n5_n7_n9_f53_f76_f122_f199_f269',\"Sherpa_ShigatseX\",20)\n",
    "\n",
    "basegraphname,pop1,mypool = ('Sherpa_ShigatseX.Tibetan_ShannanX.CaixiutangJ2-13.RedilongM3.Chokhopani.Jinchankou0.XiahaishiM9.Daxiang0.Zongri-a.A11_n5_n7_n9_f53_f76_f122_f199_f274_f25',\"Han\",20)\n",
    "#basegraphname,pop1,mypool = ('Sherpa_ShigatseX.Tibetan_ShannanX.CaixiutangJ2-13.RedilongM3.Chokhopani.Jinchankou0.XiahaishiM9.Daxiang0.Zongri-a.A11_n5_n7_n9_f53_f76_f122_f199_f274_f50',\"Han\",20)\n",
    "#basegraphname,pop1,mypool = ('Sherpa_ShigatseX.Tibetan_ShannanX.CaixiutangJ2-13.RedilongM3.Chokhopani.Jinchankou0.XiahaishiM9.Daxiang0.Zongri-a.A11_n5_n7_n9_f53_f76_f122_f199_f274_f25',\"Miao\",20)\n",
    "#basegraphname,pop1,mypool = ('Sherpa_ShigatseX.Tibetan_ShannanX.CaixiutangJ2-13.RedilongM3.Chokhopani.Jinchankou0.XiahaishiM9.Daxiang0.Zongri-a.A11_n5_n7_n9_f53_f76_f122_f199_f274_f50',\"Miao\",20)\n",
    "basegraphname,pop1,mypool = ('Sherpa_ShigatseX.Tibetan_ShannanX.CaixiutangJ2-13.RedilongM3.Chokhopani.Jinchankou0.XiahaishiM9.Daxiang0.Zongri-a.A11_n5_n7_n9_f53_f76_f122_f199_f274_f25',\"IK002_Jomon\",20)\n",
    "basegraphname,pop1,mypool = ('Sherpa_ShigatseX.Tibetan_ShannanX.CaixiutangJ2-13.RedilongM3.Chokhopani.Jinchankou0.XiahaishiM9.Daxiang0.Zongri-a.A11_n5_n7_n9_f53_f76_f122_f199_f274_f50',\"IK002_Jomon\",20)\n",
    "\n",
    "basegraphname,pop1,mypool = ('CaixiutangJ2-13.RedilongM3.Chokhopani.Jinchankou0.XiahaishiM9.Daxiang0.Zongri-a.A11_n5_n7_n9_f53_f76_f147_f19',\"Tibetan_ShannanX\",20)\n",
    "#basegraphname,pop1,mypool = ('CaixiutangJ2-13.RedilongM3.Chokhopani.Jinchankou0.XiahaishiM9.Daxiang0.Zongri-a.A11_n5_n7_n9_f53_f76_f147_f56',\"Tibetan_ShannanX\",20)\n",
    "#basegraphname,pop1,mypool = ('CaixiutangJ2-13.RedilongM3.Chokhopani.Jinchankou0.XiahaishiM9.Daxiang0.Zongri-a.A11_n5_n7_n9_f53_f76_f147_f38',\"Tibetan_ShannanX\",20)\n",
    "#basegraphname,pop1,mypool = ('CaixiutangJ2-13.RedilongM3.Chokhopani.Jinchankou0.XiahaishiM9.Daxiang0.Zongri-a.A11_n5_n7_n9_f53_f76_f147_f73',\"Tibetan_ShannanX\",20)\n",
    "#basegraphname,pop1,mypool = ('CaixiutangJ2-13.RedilongM3.Chokhopani.Jinchankou0.XiahaishiM9.Daxiang0.Zongri-a.A11_n5_n7_n9_f53_f76_f147_f154',\"Tibetan_ShannanX\",20)\n",
    "#basegraphname,pop1,mypool = ('CaixiutangJ2-13.RedilongM3.Chokhopani.Jinchankou0.XiahaishiM9.Daxiang0.Zongri-a.A11_n5_n7_n9_f53_f76_f147_f131',\"Tibetan_ShannanX\",20)\n",
    "#basegraphname,pop1,mypool = ('CaixiutangJ2-13.RedilongM3.Chokhopani.Jinchankou0.XiahaishiM9.Daxiang0.Zongri-a.A11_n5_n7_n9_f53_f76_f147_f143',\"Tibetan_ShannanX\",20)\n",
    "#basegraphname,pop1,mypool = ('CaixiutangJ2-13.RedilongM3.Chokhopani.Jinchankou0.XiahaishiM9.Daxiang0.Zongri-a.A11_n5_n7_n9_f53_f76_f147_f140',\"Tibetan_ShannanX\",20)\n",
    "#basegraphname,pop1,mypool = ('CaixiutangJ2-13.RedilongM3.Chokhopani.Jinchankou0.XiahaishiM9.Daxiang0.Zongri-a.A11_n5_n7_n9_f53_f76_f147_f195',\"Tibetan_ShannanX\",20)\n",
    "#basegraphname,pop1,mypool = ('CaixiutangJ2-13.RedilongM3.Chokhopani.Jinchankou0.XiahaishiM9.Daxiang0.Zongri-a.A11_n5_n7_n9_f53_f76_f147_f200',\"Tibetan_ShannanX\",20)\n",
    "\n",
    "basegraphname,pop1,mypool = ('Tibetan_ShannanX.CaixiutangJ2-13.RedilongM3.Chokhopani.Jinchankou0.XiahaishiM9.Daxiang0.Zongri-a.A11_n5_n7_n9_f53_f76_f147_f143_f238',\"Sherpa_ShigatseX\",20)\n",
    "#basegraphname,pop1,mypool = ('Tibetan_ShannanX.CaixiutangJ2-13.RedilongM3.Chokhopani.Jinchankou0.XiahaishiM9.Daxiang0.Zongri-a.A11_n5_n7_n9_f53_f76_f147_f56_f238',\"Sherpa_ShigatseX\",20)\n",
    "#basegraphname,pop1,mypool = ('Tibetan_ShannanX.CaixiutangJ2-13.RedilongM3.Chokhopani.Jinchankou0.XiahaishiM9.Daxiang0.Zongri-a.A11_n5_n7_n9_f53_f76_f147_f140_f239',\"Sherpa_ShigatseX\",20)\n",
    "#basegraphname,pop1,mypool = ('Tibetan_ShannanX.CaixiutangJ2-13.RedilongM3.Chokhopani.Jinchankou0.XiahaishiM9.Daxiang0.Zongri-a.A11_n5_n7_n9_f53_f76_f147_f131_f239',\"Sherpa_ShigatseX\",20)\n",
    "#basegraphname,pop1,mypool = ('Tibetan_ShannanX.CaixiutangJ2-13.RedilongM3.Chokhopani.Jinchankou0.XiahaishiM9.Daxiang0.Zongri-a.A11_n5_n7_n9_f53_f76_f147_f154_f239',\"Sherpa_ShigatseX\",20)\n",
    "#basegraphname,pop1,mypool = ('Tibetan_ShannanX.CaixiutangJ2-13.RedilongM3.Chokhopani.Jinchankou0.XiahaishiM9.Daxiang0.Zongri-a.A11_n5_n7_n9_f53_f76_f147_f56_f239',\"Sherpa_ShigatseX\",20)\n",
    "#basegraphname,pop1,mypool = ('Tibetan_ShannanX.CaixiutangJ2-13.RedilongM3.Chokhopani.Jinchankou0.XiahaishiM9.Daxiang0.Zongri-a.A11_n5_n7_n9_f53_f76_f147_f195_f274',\"Sherpa_ShigatseX\",20)\n",
    "#basegraphname,pop1,mypool = ('Tibetan_ShannanX.CaixiutangJ2-13.RedilongM3.Chokhopani.Jinchankou0.XiahaishiM9.Daxiang0.Zongri-a.A11_n5_n7_n9_f53_f76_f147_f200_f247',\"Sherpa_ShigatseX\",20)\n",
    "\n",
    "\n",
    "pm.graph_addnode_uniq(pD,fh,subset,basegraphname,[pop1,pop1],comments='NA',pool=mypool,outpop=\"Mbuti\",outpd=outpd)\n",
    "pm.graph_addadmix_uniq(pD,fh,subset,basegraphname,[pop1,pop1],comments='NA',pool=mypool,outpop=\"Mbuti\",outpd=outpd)"
   ]
  },
  {
   "cell_type": "code",
   "execution_count": null,
   "metadata": {
    "collapsed": true
   },
   "outputs": [],
   "source": []
  },
  {
   "cell_type": "code",
   "execution_count": 3,
   "metadata": {},
   "outputs": [],
   "source": [
    "%%bash\n",
    "\n",
    "#for i in 19 56 38 73 154 199 131 143 140 195 200; do\n",
    "\n",
    "\n",
    "#for i in f199_f40_f20 f199_f40_f336 n20_f35_f313 n20_f14_f313; do\n",
    "#for i in f147_n20_f230 f147_n20_f231 f122_f199_f269 f147_f199_f274 f122_f199_f274; do \n",
    "for i in f122_f199_f274_f25 f122_f199_f274_f50; do\n",
    "pd=\"/mnt/solexa/mel_yang/aPlateau/qpgraph/modelA/A11/\"\n",
    "fh=\"Tibetan_ShannanX.RedilongM3.Chokhopani.Jinchankou0.XiahaishiM9.Daxiang0.Zongri-a.A11_n5_n7_n9_f53_f76_f147_f168.UPA16.mEA\"\n",
    "fh=\"CaixiutangJ2-13.RedilongM3.Chokhopani.Jinchankou0.XiahaishiM9.Daxiang0.Zongri-a.A11_n5_n7_n9_f53_f76_f147_n20.UPA16.mEA\"\n",
    "fh=\"Sherpa_ShigatseX.CaixiutangJ2-13.RedilongM3.Chokhopani.Jinchankou0.XiahaishiM9.Daxiang0.Zongri-a.A11_n5_n7_n9_f53_f76_f147_f199_f${i}.UPA16.mEA\"\n",
    "fh=\"Sherpa_ShigatseX.CaixiutangJ2-13.RedilongM3.Chokhopani.Jinchankou0.XiahaishiM9.Daxiang0.Zongri-a.A11_n5_n7_n9_f53_f76_f147_n20_f${i}.UPA16.mEA\"\n",
    "fh=\"Sherpa_ShigatseX.RedilongM3.Chokhopani.Jinchankou0.XiahaishiM9.Daxiang0.Zongri-a.A11_n5_n7_n9_f53_f76_f122_f${i}.UPA16.mEA\"\n",
    "fh=\"Tibetan_ShannanX.Sherpa_ShigatseX.CaixiutangJ2-13.RedilongM3.Chokhopani.Jinchankou0.XiahaishiM9.Daxiang0.Zongri-a.A11_n5_n7_n9_f53_f76_f147_${i}.UPA16.mEA\"\n",
    "fh=\"Sherpa_ShigatseX.Tibetan_ShannanX.CaixiutangJ2-13.RedilongM3.Chokhopani.Jinchankou0.XiahaishiM9.Daxiang0.Zongri-a.A11_n5_n7_n9_f53_f76_${i}.UPA16.mEA\"\n",
    "\n",
    "ps2pdf ${pd}${fh}.ps ${pd}${fh}.pdf\n",
    "done"
   ]
  },
  {
   "cell_type": "code",
   "execution_count": null,
   "metadata": {
    "collapsed": true
   },
   "outputs": [],
   "source": []
  },
  {
   "cell_type": "code",
   "execution_count": null,
   "metadata": {
    "collapsed": true
   },
   "outputs": [],
   "source": [
    "n20 -2.396 \n",
    "f19 -2.514 \n",
    "f56 -2.420 \n",
    "f38 -2.521 \n",
    "f73 -2.525 \n",
    "#f199 -2.622 \n",
    "f154 -2.563 \n",
    "f131 -2.388 \n",
    "f143 -2.395 \n",
    "f140 2.754 \n",
    "f195 2.751 \n",
    "f200 -2.609 "
   ]
  },
  {
   "cell_type": "markdown",
   "metadata": {},
   "source": [
    "## Try to make CXT mixture of three ancestries: JCK, RDL, CHO"
   ]
  },
  {
   "cell_type": "code",
   "execution_count": 17,
   "metadata": {},
   "outputs": [
    {
     "name": "stdout",
     "output_type": "stream",
     "text": [
      "Overwriting /mnt/solexa/mel_yang/aPlateau/qpgraph/modelA/rA11/threesourceCXT_A11_f122\n"
     ]
    }
   ],
   "source": [
    "%%writefile /mnt/solexa/mel_yang/aPlateau/qpgraph/modelA/rA11/threesourceCXT_A11_f122\n",
    "root    R\n",
    "label   Mbuti   Mbuti   \n",
    "label   Kostenki14      Kostenki14\n",
    "label   Tianyuan        Tianyuan\n",
    "label   Ami     Ami\n",
    "label   Zongri-a        Zongri-a\n",
    "label   Daxiang0        Daxiang0\n",
    "label   XiahaishiM9     XiahaishiM9\n",
    "label   Jinchankou0     Jinchankou0\n",
    "label   Chokhopani      Chokhopani\n",
    "label   RedilongM3      RedilongM3\n",
    "label   CaixiutangJ2-13 CaixiutangJ2-13\n",
    "edge    rm      R       Mbuti\n",
    "edge    rn      R       NA\n",
    "edge    nk      NA      Kostenki14\n",
    "edge    ne      NA      EA\n",
    "edge    et      EA      Tianyuan\n",
    "edge    ea1     EA      ZONI-A0\n",
    "edge    ea32    DAXNG00 Zongri-a\n",
    "edge    ea332   XIAIM90 Daxiang0\n",
    "edge    ea333   XIAIM90 XiahaishiM9\n",
    "edge    ea3311  DAXNG00 JINOU01\n",
    "edge    ea22    JINOU00 Ami\n",
    "edge    ea3312  JINOU01 XIAIM90\n",
    "edge    ea311   ZONI-A0 CHOANI0\n",
    "edge    ea2ea331a2      CHOANI1 Jinchankou0\n",
    "edge    ea31ea2ea331aa  CHOANI2 C2\n",
    "edge    man2    C2      Chokhopani\n",
    "edge    ea211   ZONI-A0 REDGM30\n",
    "edge    ea3121  CHOANI0 REDGM31\n",
    "edge    ea212   REDGM30 JINOU00\n",
    "edge    ea3122  REDGM31 DAXNG00\n",
    "edge    ea2ea331a11     JINOU02 CAI-130\n",
    "edge    ea21ea312a1     REDGM32 CAI-131\n",
    "edge    ea2ea331a12     CAI-130 CHOANI1\n",
    "edge    ea21ea312a2     CAI-131 RedilongM3\n",
    "edge    ea2ea331a1ea21ea312aa   CAI-132 C1\n",
    "edge    man1    C3      CaixiutangJ2-13\n",
    "admix   JINOU02 JINOU00 JINOU01\n",
    "admix   CHOANI2 CHOANI0 CHOANI1\n",
    "admix   REDGM32 REDGM30 REDGM31\n",
    "admix   CAI-132 CAI-130 CAI-131\n",
    "admix   C3      C1      C2"
   ]
  },
  {
   "cell_type": "code",
   "execution_count": 16,
   "metadata": {},
   "outputs": [],
   "source": [
    "import projmodules as pm\n",
    "pm.graph_runfile??"
   ]
  },
  {
   "cell_type": "code",
   "execution_count": null,
   "metadata": {
    "collapsed": true
   },
   "outputs": [],
   "source": []
  }
 ],
 "metadata": {
  "kernelspec": {
   "display_name": "Python 2",
   "language": "python",
   "name": "python2"
  },
  "language_info": {
   "codemirror_mode": {
    "name": "ipython",
    "version": 2
   },
   "file_extension": ".py",
   "mimetype": "text/x-python",
   "name": "python",
   "nbconvert_exporter": "python",
   "pygments_lexer": "ipython2",
   "version": "2.7.13"
  }
 },
 "nbformat": 4,
 "nbformat_minor": 2
}
