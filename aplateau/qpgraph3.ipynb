{
 "cells": [
  {
   "cell_type": "markdown",
   "metadata": {},
   "source": [
    "## For Han"
   ]
  },
  {
   "cell_type": "code",
   "execution_count": 8,
   "metadata": {},
   "outputs": [
    {
     "name": "stdout",
     "output_type": "stream",
     "text": [
      "Overwriting /mnt/solexa/mel_yang/aPlateau/qpgraph/modelA/A12_oneattime.py\n"
     ]
    }
   ],
   "source": [
    "%%writefile /mnt/solexa/mel_yang/aPlateau/qpgraph/modelA/A12_oneattime.py\n",
    "#import TY_maindata as md\n",
    "import projmodules as pm\n",
    "import multiprocessing\n",
    "from multiprocessing import Pool\n",
    "\n",
    "\n",
    "def do_work(myvars):\n",
    "    pD,fh,subset,pop1,basegraphname=myvars\n",
    "    wanttoadd = [pop1,pop1]\n",
    "    pm.graph_addnode_uniq(pD,fh,subset,basegraphname,wanttoadd,comments='NA')\n",
    "    pm.graph_addadmix_uniq(pD,fh,subset,basegraphname,wanttoadd,comments='NA')\n",
    "    return \"done \"+basegraphname\n",
    "\n",
    "pD = \"/mnt/solexa/mel_yang/aPlateau/qpgraph/modelA/A12/\"\n",
    "outpd=\"/mnt/solexa/mel_yang/data/2.2M/\"\n",
    "fh = 'UPA16'\n",
    "subset='mEA'\n",
    "\n",
    "##Added K14, TY, Han\n",
    "\n",
    "basegraphname,pop1,mypool = ('A12',\"Zongri-a\",20)\n",
    "basegraphname,pop1,mypool = ('Zongri-a.A12_n5',\"Daxiang0\",15)\n",
    "\n",
    "pm.graph_addnode_uniq(pD,fh,subset,basegraphname,[pop1,pop1],comments='NA',pool=mypool,outpop=\"Mbuti\",outpd=outpd)\n",
    "pm.graph_addadmix_uniq(pD,fh,subset,basegraphname,[pop1,pop1],comments='NA',pool=mypool,outpop=\"Mbuti\",outpd=outpd)"
   ]
  },
  {
   "cell_type": "code",
   "execution_count": 13,
   "metadata": {},
   "outputs": [
    {
     "name": "stdout",
     "output_type": "stream",
     "text": [
      "6\n",
      "n5 -0.888\n",
      "f4 -1.292\n",
      "f8 -1.094\n",
      "f11 -0.937\n",
      "f13 0.847\n",
      "f14 -0.880\n"
     ]
    }
   ],
   "source": [
    "import projmodules as pm\n",
    "pd=\"/mnt/solexa/mel_yang/aPlateau/qpgraph/modelA/A12/\"  \n",
    "outpd=\"/mnt/solexa/mel_yang/data/2.2M/\"\n",
    "subset='mEA'\n",
    "fh=\"UPA16\"\n",
    "\n",
    "myname=\"Zongri-a.A12\"\n",
    "\n",
    "\n",
    "mydat = pm.graph_getidsig(pd,myname,zscorecutoff=2.95) \n",
    "print len(mydat)\n",
    "for i in mydat: \n",
    "    print i[0], i[1]\n",
    "    if 'n' in i[0]: pm.graph_retrieveinfo(i,pd,subset,fh,myname)      \n",
    "    "
   ]
  },
  {
   "cell_type": "code",
   "execution_count": null,
   "metadata": {
    "collapsed": true
   },
   "outputs": [],
   "source": []
  },
  {
   "cell_type": "markdown",
   "metadata": {},
   "source": [
    "## For Ami"
   ]
  },
  {
   "cell_type": "code",
   "execution_count": 23,
   "metadata": {},
   "outputs": [
    {
     "name": "stdout",
     "output_type": "stream",
     "text": [
      "Overwriting /mnt/solexa/mel_yang/aPlateau/qpgraph/modelA/A11_oneattime.py\n"
     ]
    }
   ],
   "source": [
    "%%writefile /mnt/solexa/mel_yang/aPlateau/qpgraph/modelA/A11_oneattime.py\n",
    "#import TY_maindata as md\n",
    "import projmodules as pm\n",
    "import multiprocessing\n",
    "from multiprocessing import Pool\n",
    "\n",
    "\n",
    "def do_work(myvars):\n",
    "    pD,fh,subset,pop1,basegraphname=myvars\n",
    "    wanttoadd = [pop1,pop1]\n",
    "    pm.graph_addnode_uniq(pD,fh,subset,basegraphname,wanttoadd,comments='NA')\n",
    "    pm.graph_addadmix_uniq(pD,fh,subset,basegraphname,wanttoadd,comments='NA')\n",
    "    return \"done \"+basegraphname\n",
    "\n",
    "pD = \"/mnt/solexa/mel_yang/aPlateau/qpgraph/modelA/A11/\"\n",
    "outpd=\"/mnt/solexa/mel_yang/data/2.2M/\"\n",
    "fh = 'UPA16'\n",
    "subset='mEA'\n",
    "\n",
    "##Added K14, TY, Ami\n",
    "\n",
    "basegraphname,pop1,mypool = ('A11',\"Zongri-a\",20)\n",
    "basegraphname,pop1,mypool = ('Zongri-a.A11_n5',\"Daxiang0\",15)\n",
    "basegraphname,pop1,mypool = ('Daxiang0.Zongri-a.A11_n5_n7',\"XiahaishiM9\",20)\n",
    "basegraphname,pop1,mypool = ('XiahaishiM9.Daxiang0.Zongri-a.A11_n5_n7_n9',\"Jinchankou0\",20)\n",
    "basegraphname,pop1,mypool = ('Daxiang0.Zongri-a.A11_n5_f27',\"XiahaishiM9\",20)\n",
    "basegraphname,pop1,mypool = ('XiahaishiM9.Daxiang0.Zongri-a.A11_n5_n7_f43',\"Jinchankou0\",4)\n",
    "#basegraphname,pop1,mypool = ('XiahaishiM9.Daxiang0.Zongri-a.A11_n5_n7_f38',\"Jinchankou0\",4)\n",
    "#basegraphname,pop1,mypool = ('XiahaishiM9.Daxiang0.Zongri-a.A11_n5_n7_f23',\"Jinchankou0\",4)\n",
    "#basegraphname,pop1,mypool = ('XiahaishiM9.Daxiang0.Zongri-a.A11_n5_n7_f8',\"Jinchankou0\",3)\n",
    "\n",
    "basegraphname,pop1,mypool = ('Jinchankou0.XiahaishiM9.Daxiang0.Zongri-a.A11_n5_n7_n9_f55',\"Chokhopani\",20)\n",
    "#basegraphname,pop1,mypool = ('Jinchankou0.XiahaishiM9.Daxiang0.Zongri-a.A11_n5_n7_n9_f53',\"Chokhopani\",20)\n",
    "\n",
    "basegraphname,pop1,mypool = ('XiahaishiM9.Daxiang0.Zongri-a.A11_n5_f27_n10',\"Jinchankou0\",7)\n",
    "#basegraphname,pop1,mypool = ('XiahaishiM9.Daxiang0.Zongri-a.A11_n5_f27_f51',\"Jinchankou0\",4)\n",
    "#basegraphname,pop1,mypool = ('XiahaishiM9.Daxiang0.Zongri-a.A11_n5_f27_f44',\"Jinchankou0\",4)\n",
    "#basegraphname,pop1,mypool = ('XiahaishiM9.Daxiang0.Zongri-a.A11_n5_f27_f9',\"Jinchankou0\",4)\n",
    "#basegraphname,pop1,mypool = ('XiahaishiM9.Daxiang0.Zongri-a.A11_n5_f27_f26',\"Jinchankou0\",3)\n",
    "\n",
    "basegraphname,pop1,mypool = ('Chokhopani.Jinchankou0.XiahaishiM9.Daxiang0.Zongri-a.A11_n5_n7_n9_f53_n6',\"Butaxiongqu\",10)\n",
    "basegraphname,pop1,mypool = ('Chokhopani.Jinchankou0.XiahaishiM9.Daxiang0.Zongri-a.A11_n5_n7_n9_f53_f72',\"Butaxiongqu\",10)\n",
    "\n",
    "basegraphname,pop1,mypool = ('Chokhopani.Jinchankou0.XiahaishiM9.Daxiang0.Zongri-a.A11_n5_n7_n9_f53_f26',\"Butaxiongqu\",20)\n",
    "#basegraphname,pop1,mypool = ('Chokhopani.Jinchankou0.XiahaishiM9.Daxiang0.Zongri-a.A11_n5_n7_n9_f53_f13',\"Butaxiongqu\",20)\n",
    "#basegraphname,pop1,mypool = ('Chokhopani.Jinchankou0.XiahaishiM9.Daxiang0.Zongri-a.A11_n5_n7_n9_f53_f38',\"Butaxiongqu\",20)\n",
    "#basegraphname,pop1,mypool = ('Chokhopani.Jinchankou0.XiahaishiM9.Daxiang0.Zongri-a.A11_n5_n7_n9_f53_f49',\"Butaxiongqu\",20)\n",
    "#basegraphname,pop1,mypool = ('Chokhopani.Jinchankou0.XiahaishiM9.Daxiang0.Zongri-a.A11_n5_n7_n9_f53_f76',\"Butaxiongqu\",20)\n",
    "#basegraphname,pop1,mypool = ('Chokhopani.Jinchankou0.XiahaishiM9.Daxiang0.Zongri-a.A11_n5_n7_n9_f53_f59',\"Butaxiongqu\",20)\n",
    "\n",
    "#basegraphname,pop1,mypool = ('Butaxiongqu.Chokhopani.Jinchankou0.XiahaishiM9.Daxiang0.Zongri-a.A11_n5_n7_n9_f53_n6_n15',\"CaixiutangJ2-13\",7)\n",
    "#basegraphname,pop1,mypool = ('Butaxiongqu.Chokhopani.Jinchankou0.XiahaishiM9.Daxiang0.Zongri-a.A11_n5_n7_n9_f53_n6_n15',\"Tibetan_ShannanX\",7)\n",
    "#basegraphname,pop1,mypool = ('Chokhopani.Jinchankou0.XiahaishiM9.Daxiang0.Zongri-a.A11_n5_n7_n9_f55_f76',\"Butaxiongqu\",4)\n",
    "basegraphname,pop1,mypool = ('Butaxiongqu.Chokhopani.Jinchankou0.XiahaishiM9.Daxiang0.Zongri-a.A11_n5_n7_n9_f53_n6_f98',\"CaixiutangJ2-13\",20)\n",
    "basegraphname,pop1,mypool = ('Butaxiongqu.Chokhopani.Jinchankou0.XiahaishiM9.Daxiang0.Zongri-a.A11_n5_n7_n9_f55_f76_f107',\"CaixiutangJ2-13\",20)\n",
    "#basegraphname,pop1,mypool = ('Butaxiongqu.Chokhopani.Jinchankou0.XiahaishiM9.Daxiang0.Zongri-a.A11_n5_n7_n9_f55_f76_f116',\"CaixiutangJ2-13\",20)\n",
    "\n",
    "basegraphname,pop1,mypool = ('Chokhopani.Jinchankou0.XiahaishiM9.Daxiang0.Zongri-a.A11_n5_n7_n9_f53_n6',\"RedilongM3\",20)\n",
    "\n",
    "basegraphname,pop1,mypool = ('Jinchankou0.XiahaishiM9.Daxiang0.Zongri-a.A11_n5_f27_n10_f60',\"Chokhopani\",20)\n",
    "#basegraphname,pop1,mypool = ('Jinchankou0.XiahaishiM9.Daxiang0.Zongri-a.A11_n5_f27_f51_f69',\"Chokhopani\",20)\n",
    "#basegraphname,pop1,mypool = ('Jinchankou0.XiahaishiM9.Daxiang0.Zongri-a.A11_n5_f27_f44_f59',\"Chokhopani\",20)\n",
    "#basegraphname,pop1,mypool = ('Jinchankou0.XiahaishiM9.Daxiang0.Zongri-a.A11_n5_f27_f9_f62',\"Chokhopani\",20)\n",
    "#basegraphname,pop1,mypool = ('Jinchankou0.XiahaishiM9.Daxiang0.Zongri-a.A11_n5_f27_f26_f62',\"Chokhopani\",20)\n",
    "\n",
    "basegraphname,pop1,mypool = ('Jinchankou0.XiahaishiM9.Daxiang0.Zongri-a.A11_n5_n7_f43_f62',\"Chokhopani\",20)\n",
    "#basegraphname,pop1,mypool = ('Jinchankou0.XiahaishiM9.Daxiang0.Zongri-a.A11_n5_n7_f38_f53',\"Chokhopani\",20)\n",
    "#basegraphname,pop1,mypool = ('Jinchankou0.XiahaishiM9.Daxiang0.Zongri-a.A11_n5_n7_f23_f53',\"Chokhopani\",20)\n",
    "#basegraphname,pop1,mypool = ('Jinchankou0.XiahaishiM9.Daxiang0.Zongri-a.A11_n5_n7_f23_f56',\"Chokhopani\",20)\n",
    "\n",
    "basegraphname,pop1,mypool = ('Chokhopani.Jinchankou0.XiahaishiM9.Daxiang0.Zongri-a.A11_n5_n7_n9_f53_f72',\"RedilongM3\",20)\n",
    "#basegraphname,pop1,mypool = ('Chokhopani.Jinchankou0.XiahaishiM9.Daxiang0.Zongri-a.A11_n5_n7_n9_f53_f26',\"RedilongM3\",20)\n",
    "#basegraphname,pop1,mypool = ('Chokhopani.Jinchankou0.XiahaishiM9.Daxiang0.Zongri-a.A11_n5_n7_n9_f53_f13',\"RedilongM3\",20)\n",
    "#basegraphname,pop1,mypool = ('Chokhopani.Jinchankou0.XiahaishiM9.Daxiang0.Zongri-a.A11_n5_n7_n9_f53_f38',\"RedilongM3\",20)\n",
    "#basegraphname,pop1,mypool = ('Chokhopani.Jinchankou0.XiahaishiM9.Daxiang0.Zongri-a.A11_n5_n7_n9_f53_f49',\"RedilongM3\",20)\n",
    "#basegraphname,pop1,mypool = ('Chokhopani.Jinchankou0.XiahaishiM9.Daxiang0.Zongri-a.A11_n5_n7_n9_f53_f76',\"RedilongM3\",20)\n",
    "#basegraphname,pop1,mypool = ('Chokhopani.Jinchankou0.XiahaishiM9.Daxiang0.Zongri-a.A11_n5_n7_n9_f53_f59',\"RedilongM3\",20)\n",
    "#basegraphname,pop1,mypool = ('Chokhopani.Jinchankou0.XiahaishiM9.Daxiang0.Zongri-a.A11_n5_n7_n9_f55_f76',\"RedilongM3\",20)\n",
    "\n",
    "basegraphname,pop1,mypool = ('RedilongM3.Chokhopani.Jinchankou0.XiahaishiM9.Daxiang0.Zongri-a.A11_n5_n7_n9_f53_n6_f66',\"Butaxiongqu\",20)\n",
    "#basegraphname,pop1,mypool = ('RedilongM3.Chokhopani.Jinchankou0.XiahaishiM9.Daxiang0.Zongri-a.A11_n5_n7_n9_f53_n6_f131',\"Butaxiongqu\",20)\n",
    "\n",
    "###basegraphname,pop1,mypool = ('Chokhopani.Jinchankou0.XiahaishiM9.Daxiang0.Zongri-a.A11_n5_n7_f38_f53_n5',\"RedilongM3\",20)\n",
    "###basegraphname,pop1,mypool = ('Chokhopani.Jinchankou0.XiahaishiM9.Daxiang0.Zongri-a.A11_n5_n7_f38_f53_f70',\"RedilongM3\",20)\n",
    "###basegraphname,pop1,mypool = ('Chokhopani.Jinchankou0.XiahaishiM9.Daxiang0.Zongri-a.A11_n5_n7_f38_f53_f74',\"RedilongM3\",20)\n",
    "#basegraphname,pop1,mypool = ('Chokhopani.Jinchankou0.XiahaishiM9.Daxiang0.Zongri-a.A11_n5_n7_f23_f53_n5',\"RedilongM3\",20)\n",
    "#basegraphname,pop1,mypool = ('Chokhopani.Jinchankou0.XiahaishiM9.Daxiang0.Zongri-a.A11_n5_n7_f23_f53_f68',\"RedilongM3\",20)\n",
    "#basegraphname,pop1,mypool = ('Chokhopani.Jinchankou0.XiahaishiM9.Daxiang0.Zongri-a.A11_n5_n7_f23_f53_f70',\"RedilongM3\",20)\n",
    "#basegraphname,pop1,mypool = ('Chokhopani.Jinchankou0.XiahaishiM9.Daxiang0.Zongri-a.A11_n5_n7_f23_f56_f74',\"RedilongM3\",20)\n",
    "#basegraphname,pop1,mypool = ('Chokhopani.Jinchankou0.XiahaishiM9.Daxiang0.Zongri-a.A11_n5_n7_f43_f62_f91',\"RedilongM3\",20)\n",
    "\n",
    "basegraphname,pop1,mypool = ('RedilongM3.Chokhopani.Jinchankou0.XiahaishiM9.Daxiang0.Zongri-a.A11_n5_n7_n9_f53_f76_f122',\"Butaxiongqu\",20)\n",
    "#basegraphname,pop1,mypool = ('RedilongM3.Chokhopani.Jinchankou0.XiahaishiM9.Daxiang0.Zongri-a.A11_n5_n7_n9_f53_f76_f147',\"Butaxiongqu\",20)\n",
    "\n",
    "basegraphname,pop1,mypool = ('RedilongM3.Chokhopani.Jinchankou0.XiahaishiM9.Daxiang0.Zongri-a.A11_n5_n7_n9_f53_f76_f122',\"CaixiutangJ2-13\",20)\n",
    "basegraphname,pop1,mypool = ('RedilongM3.Chokhopani.Jinchankou0.XiahaishiM9.Daxiang0.Zongri-a.A11_n5_n7_n9_f53_f76_f147',\"CaixiutangJ2-13\",20)\n",
    "\n",
    "basegraphname,pop1,mypool = ('RedilongM3.Chokhopani.Jinchankou0.XiahaishiM9.Daxiang0.Zongri-a.A11_n5_n7_n9_f53_f76_f122',\"Tibetan_ShannanX\",20)\n",
    "basegraphname,pop1,mypool = ('RedilongM3.Chokhopani.Jinchankou0.XiahaishiM9.Daxiang0.Zongri-a.A11_n5_n7_n9_f53_f76_f147',\"Tibetan_ShannanX\",20)\n",
    "\n",
    "basegraphname,pop1,mypool = ('RedilongM3.Chokhopani.Jinchankou0.XiahaishiM9.Daxiang0.Zongri-a.A11_n5_n7_n9_f53_f76_f122',\"PukagongmaM5\",20)\n",
    "#basegraphname,pop1,mypool = ('RedilongM3.Chokhopani.Jinchankou0.XiahaishiM9.Daxiang0.Zongri-a.A11_n5_n7_n9_f53_f76_f147',\"PukagongmaM5\",20)\n",
    "#basegraphname,pop1,mypool = ('RedilongM3.Chokhopani.Jinchankou0.XiahaishiM9.Daxiang0.Zongri-a.A11_n5_n7_n9_f53_f76_f122',\"La368_G1\",20)\n",
    "#basegraphname,pop1,mypool = ('RedilongM3.Chokhopani.Jinchankou0.XiahaishiM9.Daxiang0.Zongri-a.A11_n5_n7_n9_f53_f76_f147',\"La368_G1\",20)\n",
    "#basegraphname,pop1,mypool = ('RedilongM3.Chokhopani.Jinchankou0.XiahaishiM9.Daxiang0.Zongri-a.A11_n5_n7_n9_f53_f76_f122',\"IK002_Jomon\",20)\n",
    "#basegraphname,pop1,mypool = ('RedilongM3.Chokhopani.Jinchankou0.XiahaishiM9.Daxiang0.Zongri-a.A11_n5_n7_n9_f53_f76_f147',\"IK002_Jomon\",20)\n",
    "#basegraphname,pop1,mypool = ('RedilongM3.Chokhopani.Jinchankou0.XiahaishiM9.Daxiang0.Zongri-a.A11_n5_n7_n9_f53_f76_f122',\"HuoshaogouM117\",20)\n",
    "#basegraphname,pop1,mypool = ('RedilongM3.Chokhopani.Jinchankou0.XiahaishiM9.Daxiang0.Zongri-a.A11_n5_n7_n9_f53_f76_f147',\"HuoshaogouM117\",20)\n",
    "\n",
    "basegraphname,pop1,mypool = ('RedilongM3.Chokhopani.Jinchankou0.XiahaishiM9.Daxiang0.Zongri-a.A11_n5_n7_n9_f53_f76_f122',\"Sherpa_ShigatseX\",20)\n",
    "#basegraphname,pop1,mypool = ('RedilongM3.Chokhopani.Jinchankou0.XiahaishiM9.Daxiang0.Zongri-a.A11_n5_n7_n9_f53_f76_f147',\"Sherpa_ShigatseX\",20)\n",
    "basegraphname,pop1,mypool = ('CaixiutangJ2-13.RedilongM3.Chokhopani.Jinchankou0.XiahaishiM9.Daxiang0.Zongri-a.A11_n5_n7_n9_f53_f76_f147_f199',\"Sherpa_ShigatseX\",20) ##Tibetan_ShannanX\n",
    "#basegraphname,pop1,mypool = ('CaixiutangJ2-13.RedilongM3.Chokhopani.Jinchankou0.XiahaishiM9.Daxiang0.Zongri-a.A11_n5_n7_n9_f53_f76_f147_n20',\"Sherpa_ShigatseX\",20) ##Tibetan_ShannanX\n",
    "basegraphname,pop1,mypool = ('CaixiutangJ2-13.RedilongM3.Chokhopani.Jinchankou0.XiahaishiM9.Daxiang0.Zongri-a.A11_n5_n7_n9_f53_f76_f122_f199',\"Tibetan_ShannanX\",20) ##Tibetan_ShannanX\n",
    "basegraphname,pop1,mypool = ('CaixiutangJ2-13.RedilongM3.Chokhopani.Jinchankou0.XiahaishiM9.Daxiang0.Zongri-a.A11_n5_n7_n9_f53_f76_f122_f188',\"Sherpa_ShigatseX\",20) ##Tibetan_ShannanX\n",
    "\n",
    "\n",
    "pm.graph_addnode_uniq(pD,fh,subset,basegraphname,[pop1,pop1],comments='NA',pool=mypool,outpop=\"Mbuti\",outpd=outpd)\n",
    "pm.graph_addadmix_uniq(pD,fh,subset,basegraphname,[pop1,pop1],comments='NA',pool=mypool,outpop=\"Mbuti\",outpd=outpd)"
   ]
  },
  {
   "cell_type": "code",
   "execution_count": 14,
   "metadata": {},
   "outputs": [
    {
     "name": "stdout",
     "output_type": "stream",
     "text": [
      "138\n",
      "f199 -2.672 \n",
      "f188 2.335 \n"
     ]
    }
   ],
   "source": [
    "import projmodules as pm\n",
    "pd=\"/mnt/solexa/mel_yang/aPlateau/qpgraph/modelA/A11/\"  \n",
    "outpd=\"/mnt/solexa/mel_yang/data/2.2M/\"\n",
    "subset='mEA'\n",
    "fh=\"UPA16\"\n",
    "\n",
    "myname=\"Zongri-a.A11\"\n",
    "myname=\"Daxiang0.Zongri-a.A11_n5\"\n",
    "myname=\"XiahaishiM9.Daxiang0.Zongri-a.A11_n5_n7\"\n",
    "myname=\"Jinchankou0.XiahaishiM9.Daxiang0.Zongri-a.A11_n5_n7_n9\"\n",
    "#myname=\"XiahaishiM9.Daxiang0.Zongri-a.A11_n5_f27\"\n",
    "myname=\"Daxiang0.Zongri-a.A11_n5\"\n",
    "myname=\"Chokhopani.Jinchankou0.XiahaishiM9.Daxiang0.Zongri-a.A11_n5_n7_n9_f55\"\n",
    "myname=\"Butaxiongqu.Chokhopani.Jinchankou0.XiahaishiM9.Daxiang0.Zongri-a.A11_n5_n7_n9_f53_n6\"\n",
    "myname=\"CaixiutangJ2-13.Butaxiongqu.Chokhopani.Jinchankou0.XiahaishiM9.Daxiang0.Zongri-a.A11_n5_n7_n9_f53_n6_n15\"\n",
    "#myname=\"Jinchankou0.XiahaishiM9.Daxiang0.Zongri-a.A11_n5_f27_n10\"\n",
    "#myname=\"Butaxiongqu.Chokhopani.Jinchankou0.XiahaishiM9.Daxiang0.Zongri-a.A11_n5_n7_n9_f55_f76\"\n",
    "myname=\"Jinchankou0.XiahaishiM9.Daxiang0.Zongri-a.A11_n5_f27_f9\"\n",
    "myname=\"Jinchankou0.XiahaishiM9.Daxiang0.Zongri-a.A11_n5_n7_f8\"\n",
    "\n",
    "myname=\"Chokhopani.Jinchankou0.XiahaishiM9.Daxiang0.Zongri-a.A11_n5_f27_n10_f60\"\n",
    "myname=\"Butaxiongqu.Chokhopani.Jinchankou0.XiahaishiM9.Daxiang0.Zongri-a.A11_n5_n7_n9_f53_f38\"\n",
    "myname=\"CaixiutangJ2-13.Butaxiongqu.Chokhopani.Jinchankou0.XiahaishiM9.Daxiang0.Zongri-a.A11_n5_n7_n9_f53_n6_f98\"\n",
    "myname=\"Chokhopani.Jinchankou0.XiahaishiM9.Daxiang0.Zongri-a.A11_n5_f27_f51_f75\"\n",
    "myname=\"CaixiutangJ2-13.Butaxiongqu.Chokhopani.Jinchankou0.XiahaishiM9.Daxiang0.Zongri-a.A11_n5_n7_n9_f55_f76_f116\"\n",
    "myname=\"RedilongM3.Chokhopani.Jinchankou0.XiahaishiM9.Daxiang0.Zongri-a.A11_n5_n7_n9_f53_n6\"\n",
    "myname=\"Chokhopani.Jinchankou0.XiahaishiM9.Daxiang0.Zongri-a.A11_n5_n7_f23_f56\"\n",
    "\n",
    "myname=\"RedilongM3.Chokhopani.Jinchankou0.XiahaishiM9.Daxiang0.Zongri-a.A11_n5_n7_n9_f53_f26\"\n",
    "#myname=\"RedilongM3.Chokhopani.Jinchankou0.XiahaishiM9.Daxiang0.Zongri-a.A11_n5_n7_n9_f53_f13\"\n",
    "#myname=\"RedilongM3.Chokhopani.Jinchankou0.XiahaishiM9.Daxiang0.Zongri-a.A11_n5_n7_n9_f53_f38\"\n",
    "#myname=\"RedilongM3.Chokhopani.Jinchankou0.XiahaishiM9.Daxiang0.Zongri-a.A11_n5_n7_n9_f53_f49\"\n",
    "myname=\"RedilongM3.Chokhopani.Jinchankou0.XiahaishiM9.Daxiang0.Zongri-a.A11_n5_n7_n9_f53_f76\"\n",
    "myname=\"RedilongM3.Chokhopani.Jinchankou0.XiahaishiM9.Daxiang0.Zongri-a.A11_n5_n7_n9_f53_f59\"\n",
    "myname=\"RedilongM3.Chokhopani.Jinchankou0.XiahaishiM9.Daxiang0.Zongri-a.A11_n5_n7_n9_f55_f76\"\n",
    "\n",
    "#myname=\"Butaxiongqu.RedilongM3.Chokhopani.Jinchankou0.XiahaishiM9.Daxiang0.Zongri-a.A11_n5_n7_n9_f53_n6_f66\"\n",
    "#myname=\"Butaxiongqu.RedilongM3.Chokhopani.Jinchankou0.XiahaishiM9.Daxiang0.Zongri-a.A11_n5_n7_n9_f53_n6_f131\"\n",
    "myname=\"RedilongM3.Chokhopani.Jinchankou0.XiahaishiM9.Daxiang0.Zongri-a.A11_n5_n7_n9\"\n",
    "\n",
    "myname=\"RedilongM3.Chokhopani.Jinchankou0.XiahaishiM9.Daxiang0.Zongri-a.A11_n5_n7_f43_f62_f91\"\n",
    "myname=\"Tibetan_ShannanX.RedilongM3.Chokhopani.Jinchankou0.XiahaishiM9.Daxiang0.Zongri-a.A11_n5_n7_n9_f53_f76_f122\"\n",
    "myname=\"CaixiutangJ2-13.RedilongM3.Chokhopani.Jinchankou0.XiahaishiM9.Daxiang0.Zongri-a.A11_n5_n7_n9_f53_f76_f122\"\n",
    "\n",
    "mydat = pm.graph_getidsig(pd,myname,zscorecutoff=3) \n",
    "#mydat = pm.graph_getidsig(pd,myname,zscorecutoff=2.5) \n",
    "print len(mydat)\n",
    "for i in mydat: \n",
    "    mystat=pm.graph_retrieveinfo(i,pd,subset,fh,myname)   \n",
    "    if mystat in ['branch 0\\t','100%\\t']: continue\n",
    "    print i[0], i[1],  mystat\n",
    "    "
   ]
  },
  {
   "cell_type": "code",
   "execution_count": 84,
   "metadata": {
    "collapsed": true
   },
   "outputs": [],
   "source": [
    "%%bash\n",
    "pd=\"/mnt/solexa/mel_yang/aPlateau/qpgraph/modelA/A11/\"\n",
    "fh=\"Zongri-a.A11_n5\"\n",
    "fh=\"Daxiang0.Zongri-a.A11_n5_f27\"\n",
    "fh=\"XiahaishiM9.Daxiang0.Zongri-a.A11_n5_n7_f8\"\n",
    "fh=\"Jinchankou0.XiahaishiM9.Daxiang0.Zongri-a.A11_n5_n7_n9_f55\"\n",
    "fh=\"Chokhopani.Jinchankou0.XiahaishiM9.Daxiang0.Zongri-a.A11_n5_n7_n9_f55_f76\"\n",
    "fh=\"Chokhopani.Jinchankou0.XiahaishiM9.Daxiang0.Zongri-a.A11_n5_n7_f43_f62_f91\"\n",
    "fh=\"RedilongM3.Chokhopani.Jinchankou0.XiahaishiM9.Daxiang0.Zongri-a.A11_n5_n7_n9_f53_f76_f147\"\n",
    "sed -i 's/Zongri_a/ZongriM297/g' ${pd}${fh}.UPA16.mEA.dot\n",
    "#sed -i 's/La368_G1/La368/g' ${pd}${fh}.UPA16.mEA.dot\n",
    "##Need to vim and backspace fifth line"
   ]
  },
  {
   "cell_type": "code",
   "execution_count": 86,
   "metadata": {},
   "outputs": [
    {
     "name": "stdout",
     "output_type": "stream",
     "text": [
      "before setwt numsnps: 2144502  outpop: Mbuti\n",
      "setwt numsnps: 149302\n",
      "worst f-stat:       Kos        Red        Tia        Jin       0.041976     0.032101    -0.009875     0.003946    -2.502 \n"
     ]
    }
   ],
   "source": [
    "%%bash\n",
    "pd=\"/mnt/solexa/mel_yang/aPlateau/qpgraph/modelA/A11/\"\n",
    "fh=\"Zongri-a.A11_n5\"\n",
    "fh=\"Daxiang0.Zongri-a.A11_n5_f27\"\n",
    "fh=\"XiahaishiM9.Daxiang0.Zongri-a.A11_n5_n7_n9\"\n",
    "fh=\"Jinchankou0.XiahaishiM9.Daxiang0.Zongri-a.A11_n5_n7_f23_f56\"\n",
    "fh=\"Chokhopani.Jinchankou0.XiahaishiM9.Daxiang0.Zongri-a.A11_n5_n7_n9_f53_n6\"\n",
    "fh=\"RedilongM3.Chokhopani.Jinchankou0.XiahaishiM9.Daxiang0.Zongri-a.A11_n5_n7_n9_f53_f76_f147\"\n",
    "dot -Tps ${pd}${fh}.UPA16.mEA.dot > ${pd}${fh}.UPA16.mEA.rev.ps\n",
    "ps2pdf ${pd}${fh}.UPA16.mEA.rev.ps ${pd}${fh}.UPA16.mEA.rev.pdf\n",
    "#pdfcrop ${pd}${fh}.UPA16.mEA.rev.pdf ${pd}${fh}.UPA16.mEA.rev.pdf\n",
    "grep numsnps ${pd}${fh}.UPA16.mEA.log\n",
    "grep \"worst f-stat\" ${pd}${fh}.UPA16.mEA.log"
   ]
  },
  {
   "cell_type": "code",
   "execution_count": null,
   "metadata": {
    "collapsed": true
   },
   "outputs": [],
   "source": []
  }
 ],
 "metadata": {
  "kernelspec": {
   "display_name": "Python 2",
   "language": "python",
   "name": "python2"
  },
  "language_info": {
   "codemirror_mode": {
    "name": "ipython",
    "version": 2
   },
   "file_extension": ".py",
   "mimetype": "text/x-python",
   "name": "python",
   "nbconvert_exporter": "python",
   "pygments_lexer": "ipython2",
   "version": "2.7.13"
  }
 },
 "nbformat": 4,
 "nbformat_minor": 2
}
