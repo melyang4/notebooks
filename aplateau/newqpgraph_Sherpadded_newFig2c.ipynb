{
 "cells": [
  {
   "cell_type": "code",
   "execution_count": 5,
   "metadata": {},
   "outputs": [
    {
     "name": "stdout",
     "output_type": "stream",
     "text": [
      "Overwriting /mnt/solexa/mel_yang/aPlateau/qpgraph/modelA/MainFig2B.dot\n"
     ]
    }
   ],
   "source": [
    "%%writefile /mnt/solexa/mel_yang/aPlateau/qpgraph/modelA/MainFig2B.dot\n",
    "\n",
    "\n",
    "digraph G { \n",
    "size = \"7.5,10\" ;\n",
    "       Mbuti  [ label = \"Mbuti\", style=\"filled\" ,fillcolor=\"#e0e0e0\",fontname=\"Helvetica\",fontsize=20 ] ; \n",
    "  Kostenki14  [ label = \"Kostenki14\" , style=\"filled\" ,fillcolor=\"#f9f9f9\",fontname=\"Helvetica\",fontsize=20] ; \n",
    "Sherpa_ShigatseX  [ label = \"Sherpa\", style=\"filled\" ,fillcolor=\"#fff5a0\",fontname=\"Helvetica\",fontsize=20] ; \n",
    "    Tianyuan  [ label = \"Tianyuan\" , style=\"filled\" ,fillcolor=\"#f9f9f9\",fontname=\"Helvetica\",fontsize=20] ; \n",
    "         Ami  [ label = \"Ami\", style=\"filled\" ,fillcolor=\"#c6e9af\",fontname=\"Helvetica\",fontsize=20 ] ; \n",
    "    Zongri_a  [ label = \"ZongriM297\" , style=\"filled\" ,fillcolor=\"#b0dff2\",fontname=\"Helvetica\",fontsize=20] ; \n",
    "  RedilongM3  [ label = \"RedilongM3\" , style=\"filled\" ,fillcolor=\"#fff5a0\",fontname=\"Helvetica\",fontsize=20] ; \n",
    " Jinchankou0  [ label = \"Jinchankou0\" , style=\"filled\" ,fillcolor=\"#b0dff2\",fontname=\"Helvetica\",fontsize=20] ; \n",
    "  Chokhopani  [ label = \"Chokhopani\" , style=\"filled\" ,fillcolor=\"#fff5a0\",fontname=\"Helvetica\",fontsize=20] ; \n",
    "    Daxiang0  [ label = \"Dazhuang0\" , style=\"filled\" ,fillcolor=\"#b0dff2\",fontname=\"Helvetica\",fontsize=20] ; \n",
    " XiahaishiM9  [ label = \"XiahaishiM9\" , style=\"filled\" ,fillcolor=\"#b0dff2\",fontname=\"Helvetica\",fontsize=20] ; \n",
    "CaixiutangJ2_13  [ label = \"ChaxiutangJ2_13\" , style=\"filled\" ,fillcolor=\"#fff5a0\",fontname=\"Helvetica\",fontsize=20] ; \n",
    "Tibetan_ShannanX  [ label = \"Tibetan\", style=\"filled\" ,fillcolor=\"#fff5a0\",fontname=\"Helvetica\",fontsize=20 ] ; \n",
    "  \n",
    "Amir  [ style=invis ] ;    \n",
    "Amir -> Ami  [ label = \"Chokhopani\", style=\"filled\" ,fillcolor=\"aliceblue\",style=invis  ] ;     \n",
    "    \n",
    "R -> Mbuti [  label = \" 80\" ,fontcolor=\"gray66\",penwidth=3 ,arrowhead=\"none\",fontname=\"Helvetica\"] ; \n",
    "R -> SHESEX0 [  label = \"80\" ,fontcolor=\"gray66\",penwidth=3 ,arrowhead=\"none\",fontname=\"Helvetica\"] ; \n",
    "SHESEX0 -> NA [  label = \"15\" ,fontcolor=\"gray66\",penwidth=3 ,arrowhead=\"none\",fontname=\"Helvetica\"] ; \n",
    "NA -> Kostenki14 [  label = \"  521\" ,fontcolor=\"gray66\",penwidth=3 ,arrowhead=\"none\",fontname=\"Helvetica\"] ; \n",
    "NA -> EA [  label = \"27\" ,fontcolor=\"gray66\",penwidth=3 ,arrowhead=\"none\",fontname=\"Helvetica\"] ; \n",
    "EA -> Tianyuan [  label = \" 490\" ,fontcolor=\"gray66\",penwidth=3 ,arrowhead=\"none\",fontname=\"Helvetica\"] ; \n",
    "R [ fillcolor=\"black\" , style=\"filled\", label=\"\", width=0.05,height=0.05]\n",
    "NA [ fillcolor=\"black\" , style=\"filled\", label=\"\", width=0.05,height=0.05]\n",
    "EA [ fillcolor=\"black\", style=\"filled\", label=\"\", width=0.05,height=0.05] \n",
    "SHESEX0 [ fillcolor=\"black\", style=\"filled\", label=\"\", width=0.05,height=0.05]     \n",
    "    \n",
    "#WP\n",
    "ZONI_A0 -> CHOANI0 [  label = \"1\" , color=\"#fc8d62\",fontcolor=\"gray66\",penwidth=3 ,arrowhead=\"none\",fontname=\"Helvetica\"] ; \n",
    "CHOANI2 -> CAI_130 [  label = \"1\" , color=\"#fc8d62\",fontcolor=\"gray66\",penwidth=3 ,arrowhead=\"none\",fontname=\"Helvetica\"] ; \n",
    "CAI_130 -> TIBANX0 [  label = \" 11\" , color=\"#fc8d62\",fontcolor=\"gray66\",penwidth=3 ,arrowhead=\"none\",fontname=\"Helvetica\"] ; \n",
    "TIBANX0 -> Chokhopani [  label = \" 450\" , color=\"#fc8d62\",fontcolor=\"gray66\",penwidth=3 ,arrowhead=\"none\",fontname=\"Helvetica\"] ;\n",
    "TIBANX2 -> SHESEX1 [  label = \"1\" , color=\"#fc8d62\",fontcolor=\"gray66\",penwidth=3 ,arrowhead=\"none\",fontname=\"Helvetica\"] ; \n",
    "SHESEX1 -> Tibetan_ShannanX [  label = \" 1\" , color=\"#fc8d62\",fontcolor=\"gray66\",penwidth=3 ,arrowhead=\"none\",fontname=\"Helvetica\"] ;  \n",
    "SHESEX2 -> Sherpa_ShigatseX [  label = \" 8\" , color=\"#fc8d62\",fontcolor=\"gray66\",penwidth=3 ,arrowhead=\"none\",fontname=\"Helvetica\"] ; \n",
    "CAI_130 -> CAI_132 [ style=dotted,  label = \"48%\" , color=\"#fc8d62\" ,fontcolor=\"gray66\",penwidth=3,arrowhead=\"none\",fontname=\"Helvetica\"] ; \n",
    "SHESEX1 -> SHESEX2 [ style=dotted,  label = \"92%\" , color=\"#fc8d62\" ,fontcolor=\"gray66\",penwidth=3,arrowhead=\"none\",fontname=\"Helvetica\"] ; \n",
    "TIBANX0 -> TIBANX2 [ style=dotted,  label = \"51%\" , color=\"#fc8d62\" ,fontcolor=\"gray66\",penwidth=3,arrowhead=\"none\",fontname=\"Helvetica\"] ; \n",
    "CHOANI0 -> CHOANI2 [ style=dotted,  label = \" 67%\" , color=\"#fc8d62\" ,fontcolor=\"gray66\",penwidth=3,arrowhead=\"none\",fontname=\"Helvetica\"] ;     \n",
    "CHOANI0 [ fillcolor=\"#fc8d62\" , color=\"#fc8d62\", style=\"filled\", label=\"\", width=0.05,height=0.05]\n",
    "CHOANI2 [ fillcolor=\"#fc8d62\" , color=\"#fc8d62\", style=\"filled\", label=\"\", width=0.05,height=0.05]\n",
    "CAI_130 [ fillcolor=\"#fc8d62\" , color=\"#fc8d62\", style=\"filled\", label=\"\", width=0.05,height=0.05]\n",
    "TIBANX0 [ fillcolor=\"#fc8d62\" , color=\"#fc8d62\", style=\"filled\", label=\"\", width=0.05,height=0.05]\n",
    "TIBANX2 [ fillcolor=\"#fc8d62\" , color=\"#fc8d62\", style=\"filled\", label=\"\", width=0.05,height=0.05]\n",
    "SHESEX1 [ fillcolor=\"#fc8d62\" , color=\"#fc8d62\", style=\"filled\", label=\"\", width=0.05,height=0.05]\n",
    "SHESEX2 [ fillcolor=\"#fc8d62\" , color=\"#fc8d62\", style=\"filled\", label=\"\", width=0.05,height=0.05]  \n",
    "    \n",
    "#EA\n",
    "EA -> ZONI_A0 [  label = \"32\" , color=\"#c6e9af\",fontcolor=\"gray66\",penwidth=3 ,arrowhead=\"none\",fontname=\"Helvetica\"] ; \n",
    "ZONI_A0 -> REDGM30 [  label = \" 25\" , color=\"#c6e9af\",fontcolor=\"gray66\",penwidth=3 ,arrowhead=\"none\",fontname=\"Helvetica\"] ; \n",
    "REDGM30 -> JINOU00 [  label = \"7\" , color=\"#c6e9af\",fontcolor=\"gray66\",penwidth=3 ,arrowhead=\"none\",fontname=\"Helvetica\"] ;\n",
    "JINOU00 -> Ami [  label = \"11\" , color=\"#c6e9af\",fontcolor=\"gray66\",penwidth=3 ,arrowhead=\"none\",fontname=\"Helvetica\"] ; \n",
    "JINOU00 -> JINOU02 [ style=dotted,  label = \"27%\" , color=\"#c6e9af\",fontcolor=\"gray66\",penwidth=3,arrowhead=\"none\",fontname=\"Helvetica\"] ; \n",
    "REDGM30 -> REDGM32 [ style=dotted,  label = \" 16%\" , color=\"#c6e9af\",fontcolor=\"gray66\",penwidth=3,arrowhead=\"none\",fontname=\"Helvetica\"] ;    \n",
    "ZONI_A0 [ fillcolor=\"#c6e9af\" , color=\"#c6e9af\", style=\"filled\", label=\"\", width=0.05,height=0.05]\n",
    "JINOU02 [ fillcolor=\"#c6e9af\" , color=\"#c6e9af\", style=\"filled\", label=\"\", width=0.05,height=0.05]\n",
    "REDGM30 [ fillcolor=\"#c6e9af\" , color=\"#c6e9af\", style=\"filled\", label=\"\", width=0.05,height=0.05]\n",
    "JINOU00 [ fillcolor=\"#c6e9af\" , color=\"#c6e9af\", style=\"filled\", label=\"\", width=0.05,height=0.05]\n",
    "    \n",
    "#EP\n",
    "CAI_132 -> TIBANX1 [  label = \" 8\" , color=\"#916edc\",fontcolor=\"gray66\",penwidth=3 ,arrowhead=\"none\",fontname=\"Helvetica\"] ;     \n",
    "TIBANX1 -> CaixiutangJ2_13 [  label = \"445\" , color=\"#916edc\",fontcolor=\"gray66\",penwidth=3 ,arrowhead=\"none\",fontname=\"Helvetica\"] ;     \n",
    "CHOANI0 -> DAXNG00 [  label = \" 12\" , color=\"#916edc\",fontcolor=\"gray66\",penwidth=3 ,arrowhead=\"none\",fontname=\"Helvetica\"] ; \n",
    "REDGM32 -> CAI_131 [  label = \" 8\" , color=\"#916edc\",fontcolor=\"gray66\",penwidth=3 ,arrowhead=\"none\",fontname=\"Helvetica\"] ; \n",
    "JINOU01 -> XIAIM90 [  label = \" 11\" , color=\"#916edc\",fontcolor=\"gray66\",penwidth=3 ,arrowhead=\"none\",fontname=\"Helvetica\"] ; \n",
    "DAXNG00 -> JINOU01 [  label = \"4\" , color=\"#916edc\",fontcolor=\"gray66\",penwidth=3 ,arrowhead=\"none\",fontname=\"Helvetica\"] ; \n",
    "DAXNG00 -> Zongri_a [  label = \" 444\" , color=\"#916edc\",fontcolor=\"gray66\",penwidth=3 ,arrowhead=\"none\",fontname=\"Helvetica\"] ;\n",
    "JINOU02 -> CHOANI1 [  label = \" 20\" , color=\"#916edc\",fontcolor=\"gray66\",penwidth=3 ,arrowhead=\"none\",fontname=\"Helvetica\"] ; \n",
    "CHOANI1 -> Jinchankou0 [  label = \"429\" , color=\"#916edc\",fontcolor=\"gray66\",penwidth=3 ,arrowhead=\"none\",fontname=\"Helvetica\"] ; \n",
    "XIAIM90 -> Daxiang0 [  label = \"431\" , color=\"#916edc\",fontcolor=\"gray66\",penwidth=3 ,arrowhead=\"none\",fontname=\"Helvetica\"] ; \n",
    "XIAIM90 -> XiahaishiM9 [  label = \"428\" , color=\"#916edc\",fontcolor=\"gray66\",penwidth=3 ,arrowhead=\"none\",fontname=\"Helvetica\"] ; \n",
    "CAI_131 -> RedilongM3 [  label = \"438\" , color=\"#916edc\",fontcolor=\"gray66\",penwidth=3 ,arrowhead=\"none\",fontname=\"Helvetica\"] ; \n",
    "DAXNG00 -> REDGM32 [ style=dotted,  label = \"84%\" , color=\"#916edc\",fontcolor=\"gray66\",penwidth=3,arrowhead=\"none\",fontname=\"Helvetica\"] ; \n",
    "CHOANI1 -> CHOANI2 [ style=dotted,  label = \"33%\" , color=\"#916edc\",fontcolor=\"gray66\",penwidth=3,arrowhead=\"none\",fontname=\"Helvetica\"] ; \n",
    "JINOU01 -> JINOU02 [ style=dotted,  label = \"73%\" , color=\"#916edc\",fontcolor=\"gray66\",penwidth=3,arrowhead=\"none\",fontname=\"Helvetica\"] ; \n",
    "TIBANX1 -> TIBANX2 [ style=dotted,  label = \" 49%\" , color=\"#916edc\",fontcolor=\"gray66\",penwidth=3,arrowhead=\"none\",fontname=\"Helvetica\"] ; \n",
    "CAI_131 -> CAI_132 [ style=dotted,  label = \" 52%\" , color=\"#916edc\",fontcolor=\"gray66\",penwidth=3,arrowhead=\"none\",fontname=\"Helvetica\"] ; \n",
    "DAXNG00 [ fillcolor=\"#916edc\" , color=\"#916edc\", style=\"filled\", label=\"\", width=0.05,height=0.05]\n",
    "JINOU01 [ fillcolor=\"#916edc\" , color=\"#916edc\", style=\"filled\", label=\"\", width=0.05,height=0.05]\n",
    "XIAIM90 [ fillcolor=\"#916edc\" , color=\"#916edc\", style=\"filled\", label=\"\", width=0.05,height=0.05]\n",
    "REDGM32 [ fillcolor=\"#916edc\" , color=\"#916edc\", style=\"filled\", label=\"\", width=0.05,height=0.05]  \n",
    "CAI_132 [ fillcolor=\"#916edc\" , color=\"#916edc\", style=\"filled\", label=\"\", width=0.05,height=0.05]\n",
    "CAI_131 [ fillcolor=\"#916edc\" , color=\"#916edc\", style=\"filled\", label=\"\", width=0.05,height=0.05]\n",
    "CHOANI1 [ fillcolor=\"#916edc\" , color=\"#916edc\", style=\"filled\", label=\"\", width=0.05,height=0.05]\n",
    "JINOU02 [ fillcolor=\"#916edc\" , color=\"#916edc\", style=\"filled\", label=\"\", width=0.05,height=0.05]\n",
    "TIBANX1 [ fillcolor=\"#916edc\" , color=\"#916edc\", style=\"filled\", label=\"\", width=0.05,height=0.05]\n",
    "    \n",
    "SHESEX0 -> SHESEX2 [ style=dotted,  label = \" 8%\" , color=\"black\",fontcolor=\"gray66\",penwidth=3,arrowhead=\"none\",fontname=\"Helvetica\"] ; \n",
    "\n",
    "}"
   ]
  },
  {
   "cell_type": "code",
   "execution_count": 6,
   "metadata": {
    "collapsed": true
   },
   "outputs": [],
   "source": [
    "%%bash \n",
    "pd=\"/mnt/solexa/mel_yang/aPlateau/qpgraph/modelA/\"\n",
    "fh=\"MainFig2B\"\n",
    "dot -Tps ${pd}${fh}.dot > ${pd}${fh}.rev1.ps\n",
    "ps2pdf ${pd}${fh}.rev1.ps ${pd}${fh}.rev1.pdf"
   ]
  },
  {
   "cell_type": "code",
   "execution_count": null,
   "metadata": {
    "collapsed": true
   },
   "outputs": [],
   "source": []
  }
 ],
 "metadata": {
  "kernelspec": {
   "display_name": "Python 2",
   "language": "python",
   "name": "python2"
  },
  "language_info": {
   "codemirror_mode": {
    "name": "ipython",
    "version": 2
   },
   "file_extension": ".py",
   "mimetype": "text/x-python",
   "name": "python",
   "nbconvert_exporter": "python",
   "pygments_lexer": "ipython2",
   "version": "2.7.13"
  }
 },
 "nbformat": 4,
 "nbformat_minor": 2
}
