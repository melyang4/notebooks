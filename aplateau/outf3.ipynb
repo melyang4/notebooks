{
 "cells": [
  {
   "cell_type": "code",
   "execution_count": 6,
   "metadata": {},
   "outputs": [
    {
     "name": "stdout",
     "output_type": "stream",
     "text": [
      "Overwriting /mnt/solexa/mel_yang/aPlateau/outf3/calcoutf3.py\n"
     ]
    }
   ],
   "source": [
    "%%writefile /mnt/solexa/mel_yang/aPlateau/outf3/calcoutf3.py\n",
    "\n",
    "import projmodules as pm\n",
    "from subprocess import Popen, PIPE\n",
    "import HOdata\n",
    "from multiprocessing import Pool\n",
    "\n",
    "agq=[\"Zongri1a\",\"Zongri23\",\"Shangluzhuang\",\"Hejiatai\",\"Heodong\",\"Daxiang\",\"Xiahaishi\",\n",
    "     \"Hupo\",\"Sanheyi\",\"Qunke\",\"Lajigai\",\"Wenpuju\",\"Jinchankou\",\"Qijiaping\",\n",
    "     \"Wuba\",\"Huoshaogou\",\"Lierbao\",\"Shannashuzha\",]\n",
    "\n",
    "def dof3work(allids,name,tv=\"\"):\n",
    "    pD=\"/mnt/solexa/mel_yang/data/2.2M/\"\n",
    "    outpD=\"/mnt/solexa/mel_yang/aPlateau/outf3/\"\n",
    "    fh = 'UPA_all12'\n",
    "    if tv==\"tv\": subset = 'transv.X_Mbuti_S1_%s_S2_%s' % (name,name)\n",
    "    else: subset = 'X_Mbuti_S1_%s_S2_%s' % (name,name)\n",
    "    \n",
    "    AB = [(i,j) for i in allids for j in allids if i != j ]\n",
    "    Xs = [\"Mbuti\"]\n",
    "    \n",
    "    pm.f3popfile(AB, Xs, pD+fh, subset)\n",
    "    if tv==\"tv\": pm.f3parfile(pD,fh,subset,popfh=fh,badsnp=\"%s.transi.snp\" % fh)\n",
    "    else: pm.f3parfile(pD,fh,subset,popfh=fh)\n",
    "    outfile = open(outpD+fh+'.f3.'+subset+\".log\",'w')\n",
    "    mycommand1='mv '+pD+fh+'.f3.'+subset+'.par '+outpD+fh+'.f3.'+subset+'.par'\n",
    "    varfile = Popen(mycommand1.split())\n",
    "    varfile.communicate()\n",
    "    mycommand = 'qp3Pop -p '+outpD+fh+'.f3.'+subset+'.par'\n",
    "    print 'Running command', mycommand\n",
    "\n",
    "    varfile = Popen(mycommand.split(), stdout = outfile)\n",
    "    varfile.communicate()\n",
    "    outfile.close()\n",
    "\n",
    "dof3work(agq,'aGQ',tv=\"tv\")\n"
   ]
  },
  {
   "cell_type": "code",
   "execution_count": 8,
   "metadata": {},
   "outputs": [
    {
     "name": "stdout",
     "output_type": "stream",
     "text": [
      "Made /mnt/solexa/mel_yang/aPlateau/outf3/aNX-aNX-mbuti.f3.f3.aNX_aNX_Mbuti!\n"
     ]
    }
   ],
   "source": [
    "import numpy as np\n",
    "import plateaumodules as pm\n",
    "\n",
    "pD=\"/mnt/solexa/mel_yang/aPlateau/outf3/\"\n",
    "fh=\"aGQ-aGQ-mbuti.f3.log\"\n",
    "fh=\"aNX-aNX-mbuti.f3.log\"\n",
    "\n",
    "agq=[\"Zongri1a\",\"Zongri23\",\"Shangluzhuang\",\"Hejiatai\",\"Heodong\",\"Daxiang\",\"Xiahaishi\",\n",
    "     \"Hupo\",\"Sanheyi\",\"Qunke\",\"Lajigai\",\"Wenpuju\",\"Jinchankou\",\"Qijiaping\",\n",
    "     \"Wuba\",\"Huoshaogou\",\"Lierbao\",\"Shannashuzha\",]\n",
    "anx=[\"Pukagongma\",\"Pukagongma7\",\"Yushu\",\"Redilong\",\"Xiaoenda\",\"Butaxiongqu\",\"Caixiutang\",\n",
    "    \"Chokhopani\",\"Mebrak\",\"Samdzong\"]\n",
    "pops,name=anx,\"aNX\"\n",
    "out=\"Mbuti\"\n",
    "mypops1=[pops,pops,out]\n",
    "DorZ=\"f3\"\n",
    "\n",
    "newfh1=fh.split(\".log\")[0]+\".\"+DorZ+\".\"+\"%s_%s_%s\" % (name,name,out)\n",
    "f3ary = pm.mkf3ary(pD,fh,mypops1,2,(0,1),DorZ)    \n",
    "print pm.Zmat2xlsx(f3ary,pD+newfh1,pops,pops,0,1)\n"
   ]
  },
  {
   "cell_type": "code",
   "execution_count": 1,
   "metadata": {},
   "outputs": [
    {
     "name": "stdout",
     "output_type": "stream",
     "text": [
      "\"\"\"\n",
      "==================\n",
      "Colormap reference\n",
      "==================\n",
      "\n",
      "Reference for colormaps included with Matplotlib.\n",
      "\n",
      "This reference example shows all colormaps included with Matplotlib. Note that\n",
      "any colormap listed here can be reversed by appending \"_r\" (e.g., \"pink_r\").\n",
      "These colormaps are divided into the following categories:\n",
      "\n",
      "Sequential:\n",
      "    These colormaps are approximately monochromatic colormaps varying smoothly\n",
      "    between two color tones---usually from low saturation (e.g. white) to high\n",
      "    saturation (e.g. a bright blue). Sequential colormaps are ideal for\n",
      "    representing most scientific data since they show a clear progression from\n",
      "    low-to-high values.\n",
      "\n",
      "Diverging:\n",
      "    These colormaps have a median value (usually light in color) and vary\n",
      "    smoothly to two different color tones at high and low values. Diverging\n",
      "    colormaps are ideal when your data has a median value that is significant\n",
      "    (e.g.  0, such that positive and negative values are represented by\n",
      "    different colors of the colormap).\n",
      "\n",
      "Qualitative:\n",
      "    These colormaps vary rapidly in color. Qualitative colormaps are useful for\n",
      "    choosing a set of discrete colors. For example::\n",
      "\n",
      "        color_list = plt.cm.Set3(np.linspace(0, 1, 12))\n",
      "\n",
      "    gives a list of RGB colors that are good for plotting a series of lines on\n",
      "    a dark background.\n",
      "\n",
      "Miscellaneous:\n",
      "    Colormaps that don't fit into the categories above.\n",
      "\n",
      "\"\"\"\n",
      "import numpy as np\n",
      "import matplotlib.pyplot as plt\n",
      "\n",
      "\n",
      "# Have colormaps separated into categories:\n",
      "# http://matplotlib.org/examples/color/colormaps_reference.html\n",
      "cmaps = [('Perceptually Uniform Sequential', [\n",
      "            'viridis', 'plasma', 'inferno', 'magma']),\n",
      "         ('Sequential', [\n",
      "            'Greys', 'Purples', 'Blues', 'Greens', 'Oranges', 'Reds',\n",
      "            'YlOrBr', 'YlOrRd', 'OrRd', 'PuRd', 'RdPu', 'BuPu',\n",
      "            'GnBu', 'PuBu', 'YlGnBu', 'PuBuGn', 'BuGn', 'YlGn']),\n",
      "         ('Sequential (2)', [\n",
      "            'binary', 'gist_yarg', 'gist_gray', 'gray', 'bone', 'pink',\n",
      "            'spring', 'summer', 'autumn', 'winter', 'cool', 'Wistia',\n",
      "            'hot', 'afmhot', 'gist_heat', 'copper']),\n",
      "         ('Diverging', [\n",
      "            'PiYG', 'PRGn', 'BrBG', 'PuOr', 'RdGy', 'RdBu',\n",
      "            'RdYlBu', 'RdYlGn', 'Spectral', 'coolwarm', 'bwr', 'seismic']),\n",
      "         ('Qualitative', [\n",
      "            'Pastel1', 'Pastel2', 'Paired', 'Accent',\n",
      "            'Dark2', 'Set1', 'Set2', 'Set3',\n",
      "            'tab10', 'tab20', 'tab20b', 'tab20c']),\n",
      "         ('Miscellaneous', [\n",
      "            'flag', 'prism', 'ocean', 'gist_earth', 'terrain', 'gist_stern',\n",
      "            'gnuplot', 'gnuplot2', 'CMRmap', 'cubehelix', 'brg', 'hsv',\n",
      "            'gist_rainbow', 'rainbow', 'jet', 'nipy_spectral', 'gist_ncar'])]\n",
      "\n",
      "\n",
      "nrows = max(len(cmap_list) for cmap_category, cmap_list in cmaps)\n",
      "gradient = np.linspace(0, 1, 256)\n",
      "gradient = np.vstack((gradient, gradient))\n",
      "\n",
      "\n",
      "def plot_color_gradients(cmap_category, cmap_list, nrows):\n",
      "    fig, axes = plt.subplots(nrows=nrows)\n",
      "    fig.subplots_adjust(top=0.95, bottom=0.01, left=0.2, right=0.99)\n",
      "    axes[0].set_title(cmap_category + ' colormaps', fontsize=14)\n",
      "\n",
      "    for ax, name in zip(axes, cmap_list):\n",
      "        ax.imshow(gradient, aspect='auto', cmap=plt.get_cmap(name))\n",
      "        pos = list(ax.get_position().bounds)\n",
      "        x_text = pos[0] - 0.01\n",
      "        y_text = pos[1] + pos[3]/2.\n",
      "        fig.text(x_text, y_text, name, va='center', ha='right', fontsize=10)\n",
      "\n",
      "    # Turn off *all* ticks & spines, not just the ones with colormaps.\n",
      "    for ax in axes:\n",
      "        ax.set_axis_off()\n",
      "\n",
      "\n",
      "for cmap_category, cmap_list in cmaps:\n",
      "    plot_color_gradients(cmap_category, cmap_list, nrows)\n",
      "\n",
      "plt.show()\n"
     ]
    }
   ],
   "source": [
    "%%bash\n",
    "\n",
    "pD=\"/mnt/solexa/mel_yang/aPlateau/outf3/\"\n",
    "less ${pD}colormaps_reference.py"
   ]
  },
  {
   "cell_type": "code",
   "execution_count": null,
   "metadata": {
    "collapsed": true
   },
   "outputs": [],
   "source": []
  }
 ],
 "metadata": {
  "kernelspec": {
   "display_name": "Python 2",
   "language": "python",
   "name": "python2"
  },
  "language_info": {
   "codemirror_mode": {
    "name": "ipython",
    "version": 2
   },
   "file_extension": ".py",
   "mimetype": "text/x-python",
   "name": "python",
   "nbconvert_exporter": "python",
   "pygments_lexer": "ipython2",
   "version": "2.7.13"
  }
 },
 "nbformat": 4,
 "nbformat_minor": 2
}
