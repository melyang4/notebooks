{
 "cells": [
  {
   "cell_type": "code",
   "execution_count": 2,
   "metadata": {
    "collapsed": false
   },
   "outputs": [
    {
     "name": "stdout",
     "output_type": "stream",
     "text": [
      "Overwriting /mnt/solexa/mel_yang/bronzeage/Dstats/D_TYaffs/calcD_TYaff.py\n"
     ]
    }
   ],
   "source": [
    "%%writefile /mnt/solexa/mel_yang/bronzeage/Dstats/D_TYaffs/calcD_TYaff.py\n",
    "\n",
    "import plotting_funcs as pf\n",
    "#import HOdata\n",
    "\n",
    "#pD=\"/mnt/solexa/mel_yang/bronzeage/data/\" #ivpp\n",
    "#outpd=\"/mnt/solexa/mel_yang/bronzeage/Dstats/D_TYaffs/\" #ivpp\n",
    "pD=\"/home/melinda_yang/data/HO_bronzeage/\" #mpi\n",
    "outpd=\"/home/melinda_yang/projects/bronzeage/TY_Dstats/D_neolithic/\" #mpi\n",
    "fh=\"ind_A_v13_TBH5\"\n",
    "outs=[\"Mbuti\"]\n",
    "#anceas=HOdata.anceas2+HOdata.anceas\n",
    "eas=['Daur', 'Hezhen', 'Mongola', 'Naxi', 'Oroqen', 'Ulchi', 'Xibo', 'Dai', 'Dong', \n",
    "     'Gelao', 'Lahu', 'Li', 'Maonan', 'Miao', 'Mulam', 'She', 'Tujia', 'Yi', 'Zhuang', \n",
    "     'Cambodian', 'Han_Chongqing', 'Han_Fujian', 'Han_Guandong', 'Han_Henan', 'Han_HGDP', \n",
    "     'Han_Hubei', 'Han_Jiangsu', 'Han_NChina', 'Han_Shandong', 'Han_Shanghai', 'Han_Shanxi', \n",
    "     'Han_Sichuan', 'Han_Zhejiang', 'Kinh_Vietnam_KHV', 'Korean', 'Thai', 'Qiang_Horpa', \n",
    "     'Tibetan_Chamdo', 'Tibetan_Gangcha', 'Tibetan_Gannan', 'Tibetan_Lhasa', 'Tibetan_Nagqu', \n",
    "     'Tibetan_Shannan', 'Tibetan_Shigatse', 'Tibetan_Xinlong', 'Tibetan_Xunhua', \n",
    "     'Tibetan_Yajiang', 'Japanese', 'Ami_Stoneking', 'Atayal_Stoneking', 'Tu', 'Dongxiang', \n",
    "     'Kyrgyz_China', 'Kyrgyz', 'Kazakh_China', 'Kazakh', 'Uygur', 'Mongol', 'Tibetan_Yunnan', \n",
    "     'Bunun', 'Tao', 'Burmese', 'Vietnamese', 'Paiwan', 'Rukai', 'Hakka', 'Minnan', 'Pingpu', \n",
    "     'Atayal_Coriell', 'Ami_Coriell', 'Bonan', 'Yugur_Eastern', 'Yugur_Western', 'Salar', \n",
    "     'Malay', 'Malayan', 'Chokhopani', 'Mebrak', 'Samdzong', 'Boisman_MN', 'Tianyuan', \n",
    "     'Boshan', 'Donghuigou', 'Balikun', 'Zhougongmiao', 'Yaojia', 'Linzi', 'XianShang', \n",
    "     'Zongri', 'Huoshaogou', 'Wuba', 'Xiaoshuangqiao', 'Guandimiao', 'Shengedaliang', \n",
    "     'Muzhuzhuliang', 'Xinhua', 'Wuzhuangguo', 'Shimao', 'Tonglin', 'Dashuitian', 'Longlin', \n",
    "     'Bbdong', 'Taosi', 'Xinyi', 'Pukagongma', 'Redilong', 'Butaxiongqu', 'Gelintang', \n",
    "     'Yingpanshan', 'Mougou', 'Sanheyi', 'Yusu', 'Jinchankou', 'Jomon', 'HDYM1', 'HQSDW', 'LiangDao']\n",
    "     \n",
    "anc=[\"Tianyuan\",\"Boshan\",\"Boisman_MN\",\"Bbdong\",\"Linzi\",\"HDYM1\",\"Zongri\",\"LiangDao\",\"Longlin\"]\n",
    "bsf,bsfsubset=(0,'all')\n",
    "\n",
    "for myp4 in outs:\n",
    "    for myanc in [\"Boshan\",\"Linzi\",\"Tianyuan\",\"Boisman_MN\",\"Longlin\"]:\n",
    "        for ind3,myset3 in enumerate(eas):\n",
    "            if ind3%15!=0: continue\n",
    "            p1,p2,p3,p4 = (eas[ind3:(ind3+15)],anc,myanc,myp4)\n",
    "            subset = bsfsubset+'.'+\"EAS\"+str(ind3)+'_'+\"ANCsubset\"+'_'+p3+'_'+p4\n",
    "            mytups = [(i,j,p3,p4,'p2_'+i) for ind,i in enumerate(p1) for j in p2 if i != j and p3!=i and p3!=j]\n",
    "            pf.runD(p1,p2,mytups,pD,fh,subset,(0,1),(0,),fixed=(0,0,p3,p4),badsnpfile=bsf,outpd=outpd) \n",
    "\n",
    "            p1,p2,p3,p4 = (myanc, anc, eas[ind3:(ind3+15)],myp4)\n",
    "            subset = bsfsubset+'.'+p1+\"_\"+\"ANCsubset\"+'_'+\"EAS\"+str(ind3)+'_'+p4\n",
    "            mytups = [(p1,i,j,p4,'p2_'+i) for ind,i in enumerate(p2) for j in p3 if i != j and p1!=i and p1!=j]\n",
    "            pf.runD(p3,p2,mytups,pD,fh,subset,(2,1),(0,),fixed=(p1,0,0,p4),badsnpfile=bsf,outpd=outpd) \n",
    "\n",
    "            p1,p2,p3,p4 = (myanc, eas[ind3:(ind3+15)], anc, myp4)\n",
    "            subset = bsfsubset+'.'+p1+\"_\"+\"EAS\"+str(ind3)+'_'+\"ANCsubset\"+'_'+p4\n",
    "            mytups = [(p1,i,j,p4,'p2_'+i) for ind,i in enumerate(p2) for j in p3 if i != j and p1!=i and p1!=j]\n",
    "            pf.runD(p2,p3,mytups,pD,fh,subset,(1,2),(0,),fixed=(p1,0,0,p4),badsnpfile=bsf,outpd=outpd) \n"
   ]
  },
  {
   "cell_type": "code",
   "execution_count": null,
   "metadata": {
    "collapsed": true
   },
   "outputs": [],
   "source": []
  },
  {
   "cell_type": "code",
   "execution_count": null,
   "metadata": {
    "collapsed": true
   },
   "outputs": [],
   "source": []
  },
  {
   "cell_type": "code",
   "execution_count": null,
   "metadata": {
    "collapsed": true
   },
   "outputs": [],
   "source": []
  },
  {
   "cell_type": "code",
   "execution_count": 1,
   "metadata": {
    "collapsed": false
   },
   "outputs": [
    {
     "name": "stdout",
     "output_type": "stream",
     "text": [
      "['Daur', 'Hezhen', 'Mongola', 'Naxi', 'Oroqen', 'Ulchi', 'Xibo', 'Dai', 'Dong', 'Gelao', 'Lahu', 'Li', 'Maonan', 'Miao', 'Mulam', 'She', 'Tujia', 'Yi', 'Zhuang', 'Cambodian', 'Han_Chongqing', 'Han_Fujian', 'Han_Guandong', 'Han_Henan', 'Han_HGDP', 'Han_Hubei', 'Han_Jiangsu', 'Han_NChina', 'Han_Shandong', 'Han_Shanghai', 'Han_Shanxi', 'Han_Sichuan', 'Han_Zhejiang', 'Kinh_Vietnam_KHV', 'Korean', 'Thai', 'Qiang_Horpa', 'Tibetan_Chamdo', 'Tibetan_Gangcha', 'Tibetan_Gannan', 'Tibetan_Lhasa', 'Tibetan_Nagqu', 'Tibetan_Shannan', 'Tibetan_Shigatse', 'Tibetan_Xinlong', 'Tibetan_Xunhua', 'Tibetan_Yajiang', 'Japanese', 'Ami_Stoneking', 'Atayal_Stoneking', 'Tu', 'Dongxiang', 'Kyrgyz_China', 'Kyrgyz', 'Kazakh_China', 'Kazakh', 'Uygur', 'Mongol', 'Tibetan_Yunnan', 'Bunun', 'Tao', 'Burmese', 'Vietnamese', 'Paiwan', 'Rukai', 'Hakka', 'Minnan', 'Pingpu', 'Atayal_Coriell', 'Ami_Coriell', 'Bonan', 'Yugur_Eastern', 'Yugur_Western', 'Salar', 'Malay', 'Malayan', 'Chokhopani', 'Mebrak', 'Samdzong', 'Boisman_MN', 'Tianyuan', 'Boshan', 'Donghuigou', 'Balikun', 'Zhougongmiao', 'Yaojia', 'Linzi', 'XianShang', 'Zongri', 'Huoshaogou', 'Wuba', 'Xiaoshuangqiao', 'Guandimiao', 'Shengedaliang', 'Muzhuzhuliang', 'Xinhua', 'Wuzhuangguo', 'Shimao', 'Tonglin', 'Dashuitian', 'Longlin', 'Bbdong', 'Taosi', 'Xinyi', 'Pukagongma', 'Redilong', 'Butaxiongqu', 'Gelintang', 'Yingpanshan', 'Mougou', 'Sanheyi', 'Yusu', 'Jinchankou', 'Jomon', 'EU3', 'HDYM1', 'HQSDW', 'Liangdao', 'Longlin_d', 'Xinyi_d']\n",
      "120\n"
     ]
    }
   ],
   "source": [
    "import HOdata\n",
    "eas=HOdata.alleas\n",
    "print eas\n",
    "print len(eas)"
   ]
  },
  {
   "cell_type": "code",
   "execution_count": null,
   "metadata": {
    "collapsed": true
   },
   "outputs": [],
   "source": []
  }
 ],
 "metadata": {
  "kernelspec": {
   "display_name": "Python 2",
   "language": "python",
   "name": "python2"
  },
  "language_info": {
   "codemirror_mode": {
    "name": "ipython",
    "version": 2
   },
   "file_extension": ".py",
   "mimetype": "text/x-python",
   "name": "python",
   "nbconvert_exporter": "python",
   "pygments_lexer": "ipython2",
   "version": "2.7.6"
  }
 },
 "nbformat": 4,
 "nbformat_minor": 2
}
