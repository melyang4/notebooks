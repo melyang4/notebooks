{
 "cells": [
  {
   "cell_type": "code",
   "execution_count": 2,
   "metadata": {
    "collapsed": false
   },
   "outputs": [
    {
     "name": "stdout",
     "output_type": "stream",
     "text": [
      "Overwriting /home/mel_yang/projects/bronzeage/f3stats/calcf_zhoushang.py\n"
     ]
    }
   ],
   "source": [
    "%%writefile /home/mel_yang/projects/bronzeage/f3stats/calcf_zhoushang.py\n",
    "##f3 relationships where check to see if any other popns are mixture of ancient pop and something else\n",
    "import plotting_funcs as pf\n",
    "import projmodules as pm\n",
    "from subprocess import Popen, PIPE\n",
    "import HOdata\n",
    "from multiprocessing import Pool\n",
    "\n",
    "def dof3work(Apop):\n",
    "    pD = \"/home/mel_yang/projects/bronzeage/\"\n",
    "    outpD = \"/home/mel_yang/projects/bronzeage/f3stats/\"\n",
    "    fh = 'ind_A_v13_TBH4'\n",
    "    fhind= 'ind_A_v13_TBH4'\n",
    "    subset = 'pdmix1_'+Apop\n",
    "\n",
    "    allinds=HOdata.allHOiwant\n",
    "    \n",
    "\n",
    "    AB = [(Apop,ind) for ind in allinds]\n",
    "    Xs = allinds\n",
    "    pm.f3popfile(AB, Xs, outpD+fh, subset)\n",
    "    pm.f3parfile(pD+fh,subset,popfh=outpD+fh)\n",
    "    outfile = open(outpD+fh+'.f3.'+subset+\".log\",'w')\n",
    "    mycommand = 'qp3Pop -p '+outpD+fh+'.f3.'+subset+'.par'\n",
    "    print 'Running command', mycommand\n",
    "\n",
    "    varfile = Popen(mycommand.split(), stdout = outfile)\n",
    "    varfile.communicate()\n",
    "    outfile.close()\n",
    "ancinds=['Balikun','Donghuigou','XianShang','Zhougongmiao','Yaojia',\n",
    "         'Tonglin','Linzi','Xiaoshuangqiao','Guandimiao','Tianyuan',\n",
    "         'Han_NChina','Dai']\n",
    "ancinds=['Guandimiao']\n",
    "mypool = Pool(12)\n",
    "results = mypool.map(dof3work, ancinds)"
   ]
  },
  {
   "cell_type": "code",
   "execution_count": 1,
   "metadata": {
    "collapsed": false
   },
   "outputs": [
    {
     "name": "stdout",
     "output_type": "stream",
     "text": [
      "513\n",
      "74\n"
     ]
    }
   ],
   "source": [
    "import HOdata\n",
    "allinds=HOdata.allHOiwant\n",
    "print len(allinds)\n",
    "print allinds.index(\"Dong\")"
   ]
  },
  {
   "cell_type": "code",
   "execution_count": 6,
   "metadata": {
    "collapsed": false
   },
   "outputs": [
    {
     "name": "stdout",
     "output_type": "stream",
     "text": [
      "21\n",
      "['Mebrak', 'Samdzong', 'Boisman_MN', 'Tianyuan', 'Boshan', 'Donghuigou', 'Balikun', 'Zhougongmiao', 'Yaojia', 'Linzi', 'XianShang', 'Zongri', 'Huoshaogou', 'Wuba', 'Xiaoshuangqiao', 'Guandimiao', 'Shengedaliang', 'Muzhuzhuliang', 'Xinhua', 'Wuzhuangguo', 'Shimao']\n"
     ]
    },
    {
     "ename": "ValueError",
     "evalue": "list.remove(x): x not in list",
     "output_type": "error",
     "traceback": [
      "\u001b[0;31m---------------------------------------------------------------------------\u001b[0m",
      "\u001b[0;31mValueError\u001b[0m                                Traceback (most recent call last)",
      "\u001b[0;32m<ipython-input-6-2fd1e8251cd8>\u001b[0m in \u001b[0;36m<module>\u001b[0;34m()\u001b[0m\n\u001b[1;32m      1\u001b[0m \u001b[0;32mprint\u001b[0m \u001b[0mlen\u001b[0m\u001b[0;34m(\u001b[0m\u001b[0mancinds\u001b[0m\u001b[0;34m)\u001b[0m\u001b[0;34m\u001b[0m\u001b[0m\n\u001b[1;32m      2\u001b[0m \u001b[0;32mprint\u001b[0m \u001b[0mancinds\u001b[0m\u001b[0;34m\u001b[0m\u001b[0m\n\u001b[0;32m----> 3\u001b[0;31m \u001b[0mancinds\u001b[0m\u001b[0;34m.\u001b[0m\u001b[0mremove\u001b[0m\u001b[0;34m(\u001b[0m\u001b[0;34m'Chokhopani'\u001b[0m\u001b[0;34m)\u001b[0m\u001b[0;34m\u001b[0m\u001b[0m\n\u001b[0m",
      "\u001b[0;31mValueError\u001b[0m: list.remove(x): x not in list"
     ]
    }
   ],
   "source": [
    "print len(ancinds)\n",
    "print ancinds\n",
    "ancinds.remove('Chokhopani')"
   ]
  },
  {
   "cell_type": "code",
   "execution_count": null,
   "metadata": {
    "collapsed": true
   },
   "outputs": [],
   "source": []
  }
 ],
 "metadata": {
  "kernelspec": {
   "display_name": "Python 2",
   "language": "python",
   "name": "python2"
  },
  "language_info": {
   "codemirror_mode": {
    "name": "ipython",
    "version": 2
   },
   "file_extension": ".py",
   "mimetype": "text/x-python",
   "name": "python",
   "nbconvert_exporter": "python",
   "pygments_lexer": "ipython2",
   "version": "2.7.6"
  }
 },
 "nbformat": 4,
 "nbformat_minor": 2
}
