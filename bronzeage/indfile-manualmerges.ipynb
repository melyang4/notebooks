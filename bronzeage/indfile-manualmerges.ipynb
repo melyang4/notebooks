{
 "cells": [
  {
   "cell_type": "code",
   "execution_count": 1,
   "metadata": {
    "collapsed": true
   },
   "outputs": [],
   "source": [
    "##MANUAL MERGE Shang/Zhou\n",
    "\n",
    "pd=\"/mnt/solexa/mel_yang/bronzeage/data/\"\n",
    "fh=\"ind_A_v13_TBH5\"\n",
    "subset=\"ShangZhou\"\n",
    "\n",
    "switch={}\n",
    "switch[\"Guandimiao\"]=\"Shang\"\n",
    "switch[\"Xiaoshuangqiao\"]=\"Shang\"\n",
    "\n",
    "switch[\"Yaojia\"]=\"Zhou\"\n",
    "switch[\"Zhougongmiao\"]=\"Zhou\"\n",
    "switch[\"Linzi\"]=\"Zhou\"\n",
    "\n",
    "\n",
    "indfile=open(pd+fh+\".ind\",'r')\n",
    "newfile=open(pd+fh+\"_\"+subset+\".ind\",'w')\n",
    "for line in indfile:\n",
    "    x=line.split()\n",
    "    if x[2] in switch: newfile.write(x[0]+'\\t'+x[1]+'\\t'+switch[x[2]]+'\\n')\n",
    "    else: newfile.write(line)\n",
    "    #break\n",
    "indfile.close()\n",
    "newfile.close()\n"
   ]
  },
  {
   "cell_type": "code",
   "execution_count": null,
   "metadata": {
    "collapsed": true
   },
   "outputs": [],
   "source": []
  }
 ],
 "metadata": {
  "kernelspec": {
   "display_name": "Python 2",
   "language": "python",
   "name": "python2"
  },
  "language_info": {
   "codemirror_mode": {
    "name": "ipython",
    "version": 2
   },
   "file_extension": ".py",
   "mimetype": "text/x-python",
   "name": "python",
   "nbconvert_exporter": "python",
   "pygments_lexer": "ipython2",
   "version": "2.7.6"
  }
 },
 "nbformat": 4,
 "nbformat_minor": 2
}
