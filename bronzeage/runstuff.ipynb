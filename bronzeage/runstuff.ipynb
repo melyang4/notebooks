{
 "cells": [
  {
   "cell_type": "code",
   "execution_count": 3,
   "metadata": {
    "collapsed": false
   },
   "outputs": [
    {
     "data": {
      "text/plain": [
       "'Made par file for convertf!'"
      ]
     },
     "execution_count": 3,
     "metadata": {},
     "output_type": "execute_result"
    }
   ],
   "source": [
    "import projmodules as pm\n",
    "\n",
    "pdeas=['Daur','Hezhen','Mongola','Naxi','Oroqen','Ulchi','Xibo','Dai','Dong','Gelao',\n",
    "        'Lahu','Li','Maonan','Miao','Mulam','She','Tujia','Yi','Zhuang','Cambodian',\n",
    "        'Han_Chongqing','Han_Fujian','Han_Guandong','Han_Henan','Han_HGDP','Han_Hubei',\n",
    "        'Han_Jiangsu','Han_NChina','Han_Shandong','Han_Shanghai','Han_Shanxi',\n",
    "        'Han_Sichuan','Han_Zhejiang','Kinh_Vietnam_KHV','Korean','Thai','Qiang_Horpa',\n",
    "        'Tibetan_Chamdo','Tibetan_Gangcha','Tibetan_Gannan','Tibetan_Lhasa',\n",
    "        'Tibetan_Nagqu','Tibetan_Shannan','Tibetan_Shigatse','Tibetan_Xinlong',\n",
    "        'Tibetan_Xunhua','Tibetan_Yajiang','Japanese','Ami_Stoneking','Atayal_Stoneking',\n",
    "        'Tu','Dongxiang','Kyrgyz_China','Kyrgyz','Kazakh_China','Kazakh','Uygur','Mongol',\n",
    "        'Tibetan_Yunnan','Bunun','Tao','Burmese','Vietnamese','Paiwan','Rukai','Hakka',\n",
    "        'Minnan','Pingpu','Atayal_Coriell','Ami_Coriell','Bonan','Yugur_Eastern',\n",
    "        'Yugur_Western','Salar']\n",
    "pdeur=[\"French\",'Sardinian']\n",
    "\n",
    "baseDir = \"/home/mel_yang/projects/bronzeage/\"\n",
    "fh=\"ind_A_v13_TBH\"\n",
    "newname = 'allpdeas_weurFS'\n",
    "pm.indtoignore(pdeas+pdeur, baseDir+fh+'.ind', baseDir+fh+'.'+newname+'.ind')\n",
    "pm.convertf_par(baseDir+fh,baseDir+fh+'.'+newname+'.ped','PED',baseDir+\n",
    "                'CONVERTF.'+fh+'.'+newname+'.par',indfilename=baseDir+fh+'.'+newname)\n"
   ]
  },
  {
   "cell_type": "code",
   "execution_count": 8,
   "metadata": {
    "collapsed": false
   },
   "outputs": [
    {
     "name": "stdout",
     "output_type": "stream",
     "text": [
      "74\n",
      "832\n"
     ]
    }
   ],
   "source": [
    "##CHECK ALL PDEAS LABELS ARE SPELLED RIGHT\n",
    "pdeas=['Daur','Hezhen','Mongola','Naxi','Oroqen','Ulchi','Xibo','Dai','Dong','Gelao',\n",
    "        'Lahu','Li','Maonan','Miao','Mulam','She','Tujia','Yi','Zhuang','Cambodian',\n",
    "        'Han_Chongqing','Han_Fujian','Han_Guandong','Han_Henan','Han_HGDP','Han_Hubei',\n",
    "        'Han_Jiangsu','Han_NChina','Han_Shandong','Han_Shanghai','Han_Shanxi',\n",
    "        'Han_Sichuan','Han_Zhejiang','Kinh_Vietnam_KHV','Korean','Thai','Qiang_Horpa',\n",
    "        'Tibetan_Chamdo','Tibetan_Gangcha','Tibetan_Gannan','Tibetan_Lhasa',\n",
    "        'Tibetan_Nagqu','Tibetan_Shannan','Tibetan_Shigatse','Tibetan_Xinlong',\n",
    "        'Tibetan_Xunhua','Tibetan_Yajiang','Japanese','Ami_Stoneking','Atayal_Stoneking',\n",
    "        'Tu','Dongxiang','Kyrgyz_China','Kyrgyz','Kazakh_China','Kazakh','Uygur','Mongol',\n",
    "        'Tibetan_Yunnan','Bunun','Tao','Burmese','Vietnamese','Paiwan','Rukai','Hakka',\n",
    "        'Minnan','Pingpu','Atayal_Coriell','Ami_Coriell','Bonan','Yugur_Eastern',\n",
    "        'Yugur_Western','Salar']\n",
    "print len(pdeas)\n",
    "pd=\"/home/mel_yang/projects/bronzeage/\"\n",
    "indfile=open(pd+\"ind_A_v13_TBH.ind\",'r')\n",
    "mytotalpdeas=0\n",
    "for line in indfile: \n",
    "    x=line.split()\n",
    "    if x[2] in pdeas: mytotalpdeas+=1 #pdeas.remove(x[2])\n",
    "    else: continue\n",
    "print mytotalpdeas"
   ]
  },
  {
   "cell_type": "code",
   "execution_count": 16,
   "metadata": {
    "collapsed": false
   },
   "outputs": [
    {
     "name": "stdout",
     "output_type": "stream",
     "text": [
      "\n",
      "@----------------------------------------------------------@\n",
      "|        PLINK!       |     v1.06      |   24/Apr/2009     |\n",
      "|----------------------------------------------------------|\n",
      "|  (C) 2009 Shaun Purcell, GNU General Public License, v2  |\n",
      "|----------------------------------------------------------|\n",
      "|  For documentation, citation & bug-report instructions:  |\n",
      "|        http://pngu.mgh.harvard.edu/purcell/plink/        |\n",
      "@----------------------------------------------------------@\n",
      "\n",
      "Skipping web check... [ --noweb ] \n",
      "Writing this text to log file [ /mnt/solexa/mel_yang/bronzeage/admixture/ind_A_v13_TBH.allpdeas_weurFS_pruned.200_25_0.5.log ]\n",
      "Analysis started: Thu Mar  9 08:49:41 2017\n",
      "\n",
      "Options in effect:\n",
      "\t--noweb\n",
      "\t--bfile /mnt/solexa/mel_yang/bronzeage/admixture/ind_A_v13_TBH.allpdeas_weurFS\n",
      "\t--extract /mnt/solexa/mel_yang/bronzeage/admixture/plink.200_25_0.5.prune.in\n",
      "\t--make-bed\n",
      "\t--out /mnt/solexa/mel_yang/bronzeage/admixture/ind_A_v13_TBH.allpdeas_weurFS_pruned.200_25_0.5\n",
      "\n",
      "** For gPLINK compatibility, do not use '.' in --out **\n",
      "Reading map (extended format) from [ /mnt/solexa/mel_yang/bronzeage/admixture/ind_A_v13_TBH.allpdeas_weurFS.bim ] \n",
      "597573 markers to be included from [ /mnt/solexa/mel_yang/bronzeage/admixture/ind_A_v13_TBH.allpdeas_weurFS.bim ]\n",
      "Reading pedigree information from [ /mnt/solexa/mel_yang/bronzeage/admixture/ind_A_v13_TBH.allpdeas_weurFS.fam ] \n",
      "920 individuals read from [ /mnt/solexa/mel_yang/bronzeage/admixture/ind_A_v13_TBH.allpdeas_weurFS.fam ] \n",
      "920 individuals with nonmissing phenotypes\n",
      "Assuming a disease phenotype (1=unaff, 2=aff, 0=miss)\n",
      "Missing phenotype value is also -9\n",
      "0 cases, 920 controls and 0 missing\n",
      "647 males, 272 females, and 1 of unspecified sex\n",
      "Warning, found 1 individuals with ambiguous sex codes\n",
      "Writing list of these individuals to [ /mnt/solexa/mel_yang/bronzeage/admixture/ind_A_v13_TBH.allpdeas_weurFS_pruned.200_25_0.5.nosex ]\n",
      "Reading genotype bitfile from [ /mnt/solexa/mel_yang/bronzeage/admixture/ind_A_v13_TBH.allpdeas_weurFS.bed ] \n",
      "Detected that binary PED file is v1.00 SNP-major mode\n",
      "Reading list of SNPs to extract [ /mnt/solexa/mel_yang/bronzeage/admixture/plink.200_25_0.5.prune.in ] ... 216958 read\n",
      "Before frequency and genotyping pruning, there are 216958 SNPs\n",
      "920 founders and 0 non-founders found\n",
      "Total genotyping rate in remaining individuals is 0.993372\n",
      "0 SNPs failed missingness test ( GENO > 1 )\n",
      "0 SNPs failed frequency test ( MAF < 0 )\n",
      "After frequency and genotyping pruning, there are 216958 SNPs\n",
      "After filtering, 0 cases, 920 controls and 0 missing\n",
      "After filtering, 647 males, 272 females, and 1 of unspecified sex\n",
      "Writing pedigree information to [ /mnt/solexa/mel_yang/bronzeage/admixture/ind_A_v13_TBH.allpdeas_weurFS_pruned.200_25_0.5.fam ] \n",
      "Writing map (extended format) information to [ /mnt/solexa/mel_yang/bronzeage/admixture/ind_A_v13_TBH.allpdeas_weurFS_pruned.200_25_0.5.bim ] \n",
      "Writing genotype bitfile to [ /mnt/solexa/mel_yang/bronzeage/admixture/ind_A_v13_TBH.allpdeas_weurFS_pruned.200_25_0.5.bed ] \n",
      "Using (default) SNP-major mode\n",
      "\n",
      "Analysis finished: Thu Mar  9 08:50:18 2017\n",
      "\n"
     ]
    }
   ],
   "source": [
    "%%bash\n",
    "pd=\"/mnt/solexa/mel_yang/bronzeage/admixture/\"\n",
    "fh=\"ind_A_v13_TBH.allpdeas_weurFS\"\n",
    "idp=\".200_25_0.5\"\n",
    "#cp ${pd}${fh}.ped.geno ${pd}${fh}.ped\n",
    "#cp ${pd}${fh}.ped.ind ${pd}${fh}.pedind\n",
    "#cut -c1-41 ${pd}${fh}.ped.snp > ${pd}${fh}.map\n",
    "\n",
    "#plink --noweb --file ${pd}${fh} --make-bed --out ${pd}${fh} --geno 0.999\n",
    "\n",
    "##plink --noweb --bfile ${pd}${fh} --indep-pairwise 50 10 0.1  ##Prune dataset, using 50 SNP windows, step 10 SNPs, remove SNP pairs with R^2>0.1\n",
    "##mv plink* .\n",
    "\n",
    "#echo \"plink --noweb --bfile ${pd}${fh} --indep-pairwise 200 25 0.5 --out ${pd}plink${idp}\"\n",
    "plink --noweb --bfile ${pd}${fh} --extract ${pd}plink${idp}.prune.in --make-bed --out ${pd}${fh}_pruned${idp}  ##Keep set of untargeted SNPs from above"
   ]
  },
  {
   "cell_type": "code",
   "execution_count": 18,
   "metadata": {
    "collapsed": false
   },
   "outputs": [
    {
     "name": "stdout",
     "output_type": "stream",
     "text": [
      "Overwriting /mnt/solexa/mel_yang/bronzeage/admixture/runadmixturecv.sh\n"
     ]
    }
   ],
   "source": [
    "%%writefile /mnt/solexa/mel_yang/bronzeage/admixture/runadmixturecv.sh\n",
    "#%%bash\n",
    "pd=\"/mnt/solexa/mel_yang/bronzeage/admixture/\"\n",
    "fh=\"ind_A_v13_TBH.allpdeas_weurFS_pruned.200_25_0.5\"\n",
    "for K in `seq 2 10`; do \n",
    "    admixture --cv ${pd}${fh}.bed ${K} > ${pd}${fh}.admix.log${K}.out &\n",
    "    #admixture ${pd}${fh}.bed ${K} > ${pd}${fh}.admix.${K}.out &\n",
    "    #admixture --cv ${pd}${fh}.bed ${K} | tee ${pd}${fh}.admix.log${K}.out\n",
    "    #echo \"admixture --cv ${pd}${fh}.bed ${K} > ${pd}${fh}.admix.log${K}.out\"\n",
    "    #echo \"admixture ${pd}${fh}.bed ${K} > ${pd}${fh}.admix.${K}.out\"\n",
    "done\n",
    "\n",
    "#grep -h CV ${pd}${fh}.admix.log*out > ${pd}${fh}.admix.CVerror ##get CVerrors"
   ]
  },
  {
   "cell_type": "code",
   "execution_count": null,
   "metadata": {
    "collapsed": true
   },
   "outputs": [],
   "source": []
  },
  {
   "cell_type": "code",
   "execution_count": null,
   "metadata": {
    "collapsed": true
   },
   "outputs": [],
   "source": []
  }
 ],
 "metadata": {
  "kernelspec": {
   "display_name": "Python 2",
   "language": "python",
   "name": "python2"
  },
  "language_info": {
   "codemirror_mode": {
    "name": "ipython",
    "version": 2
   },
   "file_extension": ".py",
   "mimetype": "text/x-python",
   "name": "python",
   "nbconvert_exporter": "python",
   "pygments_lexer": "ipython2",
   "version": "2.7.6"
  }
 },
 "nbformat": 4,
 "nbformat_minor": 2
}
