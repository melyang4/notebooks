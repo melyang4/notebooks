{
 "cells": [
  {
   "cell_type": "code",
   "execution_count": 12,
   "metadata": {
    "collapsed": false
   },
   "outputs": [],
   "source": [
    "##MAKE .pop file for ADMIXTURE -- set certain reference popns for supervised Admixture analysis\n",
    "\n",
    "pd=\"/mnt/solexa/mel_yang/bronzeage/admixture/\"\n",
    "fh=\"ind_A_v13_TBH.allpdeas_weurFS\"\n",
    "newfh=\"ind_A_v13_TBH.allpdeas_weurFS_pruned.200_25_0.5\"\n",
    "\n",
    "#indfile=open(pd+fh+\"_pruned.200_25_0.5.noIgnore.ind\",'r')\n",
    "indfile=open(pd+fh+\".noIgnore.ind\",'r')\n",
    "newfile=open(pd+newfh+\".pop\",'w')\n",
    "for line in indfile: \n",
    "    x=line.split()\n",
    "    if x[2] in [\"French\",\"Sardinian\"]: newfile.write(\"EUR\\n\")\n",
    "    elif x[2] in [\"Han_HGDP\"]: newfile.write(\"CHB\\n\")\n",
    "    else: newfile.write(\"-\\n\")\n",
    "indfile.close()\n",
    "newfile.close()"
   ]
  },
  {
   "cell_type": "code",
   "execution_count": 17,
   "metadata": {
    "collapsed": false
   },
   "outputs": [
    {
     "name": "stdout",
     "output_type": "stream",
     "text": [
      "Overwriting /mnt/solexa/mel_yang/bronzeage/admixture/runsupervisedadmixture.sh\n"
     ]
    }
   ],
   "source": [
    "%%writefile /mnt/solexa/mel_yang/bronzeage/admixture/runsupervisedadmixture.sh\n",
    "##also do cv at runadmixturecv.sh\n",
    "\n",
    "pd=\"/mnt/solexa/mel_yang/bronzeage/admixture/\"\n",
    "fh=\"ind_A_v13_TBH.allpdeas_weurFS_pruned.200_25_0.5\"\n",
    "subset=\"refHan_HGDP_eurFS\"\n",
    "for K in `seq 2 7`; do \n",
    "    echo ${K}\n",
    "    #admixture --cv ${pd}${fh}.bed ${K} > ${pd}${fh}.admix.log${K}.out\n",
    "    admixture --supervised ${pd}${fh}.bed ${K} > ${pd}${fh}.ref${subset}.${K}.out &\n",
    "done\n",
    "\n",
    "#grep -h CV ${pd}${fh}.admix.log*out > ${pd}${fh}.admix.CVerror ##get CVerrors\n"
   ]
  },
  {
   "cell_type": "code",
   "execution_count": null,
   "metadata": {
    "collapsed": true
   },
   "outputs": [],
   "source": []
  }
 ],
 "metadata": {
  "kernelspec": {
   "display_name": "Python 2",
   "language": "python",
   "name": "python2"
  },
  "language_info": {
   "codemirror_mode": {
    "name": "ipython",
    "version": 2
   },
   "file_extension": ".py",
   "mimetype": "text/x-python",
   "name": "python",
   "nbconvert_exporter": "python",
   "pygments_lexer": "ipython2",
   "version": "2.7.6"
  }
 },
 "nbformat": 4,
 "nbformat_minor": 2
}
