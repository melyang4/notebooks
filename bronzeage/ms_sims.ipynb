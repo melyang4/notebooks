{
 "cells": [
  {
   "cell_type": "code",
   "execution_count": 30,
   "metadata": {
    "collapsed": false
   },
   "outputs": [
    {
     "name": "stdout",
     "output_type": "stream",
     "text": [
      "Total mutations =  3\n",
      "0 5 0.0\n",
      "1 6 0.0\n",
      "2 5 0.0\n",
      "3 8 0.0\n",
      "4 6 500.0\n",
      "5 7 153.555438635\n",
      "6 7 634.899335059\n",
      "7 8 708.930745645\n",
      "8 -1 1678.33973311\n",
      "9 -1 0.0\n",
      "0 5 0.0\n",
      "1 6 0.0\n",
      "2 5 0.0\n",
      "3 9 0.0\n",
      "4 6 500.0\n",
      "5 7 153.555438635\n",
      "6 7 634.899335059\n",
      "7 9 708.930745645\n",
      "8 -1 0.0\n",
      "9 -1 8980.32445045\n",
      "0 2235.21030098 [1 1 1 0 1]\n",
      "1 6029.72759632 [0 1 0 0 0]\n",
      "2 9456.65122402 [0 0 0 1 0]\n"
     ]
    }
   ],
   "source": [
    "import msprime\n",
    "pd=\"/mnt/solexa/mel_yang/bronzeage/mssims/\"\n",
    "samples=[(0,0) for i in range(4)]\n",
    "samples.append((0,500))\n",
    "tree_sequence = msprime.simulate(samples=samples, Ne=1000, length=1e4,\n",
    "                recombination_rate=2e-8,mutation_rate=2e-8)\n",
    "print \"Total mutations = \", tree_sequence.get_num_mutations()\n",
    "#tree=next(tree_sequence.trees())\n",
    "common_mutations=[]\n",
    "num=0\n",
    "#for ind,tree in enumerate(tree_sequence.trees()):\n",
    "#    for mutation in tree.mutations():\n",
    "#        p = tree.get_num_leaves(mutation.node) / float(tree.get_sample_size())\n",
    "#        if p >= 0.5: common_mutations.append(mutation)\n",
    "#tree_sequence.set_mutations(common_mutations)\n",
    "#print \"Reduced to \", tree_sequence.get_num_mutations(), \"common mutations\"\n",
    "for ind,tree in enumerate(tree_sequence.trees()):\n",
    "    tree.draw(pd+\"test%i.svg\" % ind)\n",
    "    for u in range(tree_sequence.get_num_nodes()):\n",
    "        print u, tree.get_parent(u), tree.get_time(u)\n",
    "\n",
    "for variant in tree_sequence.variants():\n",
    "    print variant.index, variant.position, variant.genotypes\n",
    "    "
   ]
  },
  {
   "cell_type": "code",
   "execution_count": 31,
   "metadata": {
    "collapsed": false
   },
   "outputs": [],
   "source": [
    "%%bash\n",
    "pD=\"/mnt/solexa/mel_yang/bronzeage/mssims/\"\n",
    "for i in 0 1 2; do convert ${pD}test${i}.svg ${pD}test${i}.png; done"
   ]
  },
  {
   "cell_type": "code",
   "execution_count": 32,
   "metadata": {
    "collapsed": false
   },
   "outputs": [
    {
     "data": {
      "image/png": "[encoded data removed]",
      "text/plain": [
       "<IPython.core.display.Image object>"
      ]
     },
     "execution_count": 32,
     "metadata": {},
     "output_type": "execute_result"
    }
   ],
   "source": [
    "from IPython.display import Image\n",
    "pD=\"/mnt/solexa/mel_yang/bronzeage/mssims/\"\n",
    "#for ind in range(3): \n",
    "ind=0\n",
    "Image(filename=pD+\"test%i.png\" % ind) "
   ]
  },
  {
   "cell_type": "code",
   "execution_count": null,
   "metadata": {
    "collapsed": true
   },
   "outputs": [],
   "source": []
  }
 ],
 "metadata": {
  "kernelspec": {
   "display_name": "Python 2",
   "language": "python",
   "name": "python2"
  },
  "language_info": {
   "codemirror_mode": {
    "name": "ipython",
    "version": 2
   },
   "file_extension": ".py",
   "mimetype": "text/x-python",
   "name": "python",
   "nbconvert_exporter": "python",
   "pygments_lexer": "ipython2",
   "version": "2.7.6"
  }
 },
 "nbformat": 4,
 "nbformat_minor": 2
}
