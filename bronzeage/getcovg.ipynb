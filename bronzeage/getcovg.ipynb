{
 "cells": [
  {
   "cell_type": "code",
   "execution_count": 29,
   "metadata": {
    "collapsed": false
   },
   "outputs": [
    {
     "name": "stdout",
     "output_type": "stream",
     "text": [
      "Overwriting /mnt/solexa/mel_yang/bronzeage/jda/jda_getcovg.py\n"
     ]
    }
   ],
   "source": [
    "%%writefile /mnt/solexa/mel_yang/bronzeage/jda/jda_getcovg.py\n",
    "\n",
    "import numpy as np\n",
    "\n",
    "pD2=\"/mnt/solexa/mel_yang/bronzeage/jda/\"\n",
    "readcountfilename=\"jda_anceas_switchanc.readcount\"\n",
    "readcountfile=open(pD2+readcountfilename,'r')\n",
    "\n",
    "for ind,line in enumerate(readcountfile):\n",
    "    if line[0] == \"L\": header=[i.split('_')[0] for indi,i in enumerate(line.split()) if indi%3==0]; continue\n",
    "    x=[float(i) for i in line.split()]\n",
    "    x=np.array([i+x[indi+1]+x[indi+2] for indi,i in enumerate(x) if indi%3==0])\n",
    "    if ind==1: myreadcount=x\n",
    "    else:myreadcount=np.vstack((myreadcount,x))\n",
    "    #if ind==10000: break\n",
    "\n",
    "mytotalreads=np.sum(myreadcount,axis=0)\n",
    "covg=mytotalreads/myreadcount.shape[0]\n",
    "for ind,indiv in enumerate(header):\n",
    "    print indiv, covg[ind]\n"
   ]
  },
  {
   "cell_type": "code",
   "execution_count": null,
   "metadata": {
    "collapsed": true
   },
   "outputs": [],
   "source": [
    "%%bash\n",
    "pd=\"/mnt/solexa/mel_yang/bronzeage/data/\""
   ]
  }
 ],
 "metadata": {
  "kernelspec": {
   "display_name": "Python 2",
   "language": "python",
   "name": "python2"
  },
  "language_info": {
   "codemirror_mode": {
    "name": "ipython",
    "version": 2
   },
   "file_extension": ".py",
   "mimetype": "text/x-python",
   "name": "python",
   "nbconvert_exporter": "python",
   "pygments_lexer": "ipython2",
   "version": "2.7.6"
  }
 },
 "nbformat": 4,
 "nbformat_minor": 2
}
