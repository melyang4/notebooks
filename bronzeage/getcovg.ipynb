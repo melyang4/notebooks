{
 "cells": [
  {
   "cell_type": "code",
   "execution_count": 26,
   "metadata": {
    "collapsed": false
   },
   "outputs": [
    {
     "name": "stdout",
     "output_type": "stream",
     "text": [
      "L0554 0.4548\n",
      "R2039 2.25\n",
      "R2142 0.4127\n",
      "L0597 0.2408\n",
      "R2096 5.0448\n",
      "R2148 0.1686\n",
      "R2038 0.3752\n",
      "R2099 2.7716\n",
      "TY 8.5453\n",
      "M11 0.0\n",
      "M12 0.0\n",
      "M819 0.0\n",
      "M820 0.0\n",
      "M827 0.0\n",
      "M9JM6-1 0.0\n",
      "L0729 0.0\n"
     ]
    }
   ],
   "source": [
    "%%writefile /mnt/solexa/mel_yang/bronzeage/jda/jda_getcovg.py\n",
    "\n",
    "import numpy as np\n",
    "\n",
    "pD2=\"/mnt/solexa/mel_yang/bronzeage/jda/\"\n",
    "readcountfilename=\"jda_anceas_switchanc.readcount\"\n",
    "readcountfile=open(pD2+readcountfilename,'r')\n",
    "\n",
    "for ind,line in enumerate(readcountfile):\n",
    "    if line[0] == \"L\": header=[i.split('_')[0] for indi,i in enumerate(line.split()) if indi%3==0]; continue\n",
    "    x=[float(i) for i in line.split()]\n",
    "    x=np.array([i+x[indi+1]+x[indi+2] for indi,i in enumerate(x) if indi%3==0])\n",
    "    if ind==1: myreadcount=x\n",
    "    else:myreadcount=np.vstack((myreadcount,x))\n",
    "    if ind==10000: break\n",
    "\n",
    "mytotalreads=np.sum(myreadcount,axis=0)\n",
    "covg=mytotalreads/myreadcount.shape[0]\n",
    "for ind,indiv in enumerate(header):\n",
    "    print indiv, covg[ind]\n"
   ]
  },
  {
   "cell_type": "code",
   "execution_count": null,
   "metadata": {
    "collapsed": true
   },
   "outputs": [],
   "source": []
  }
 ],
 "metadata": {
  "kernelspec": {
   "display_name": "Python 2",
   "language": "python",
   "name": "python2"
  },
  "language_info": {
   "codemirror_mode": {
    "name": "ipython",
    "version": 2
   },
   "file_extension": ".py",
   "mimetype": "text/x-python",
   "name": "python",
   "nbconvert_exporter": "python",
   "pygments_lexer": "ipython2",
   "version": "2.7.6"
  }
 },
 "nbformat": 4,
 "nbformat_minor": 2
}
