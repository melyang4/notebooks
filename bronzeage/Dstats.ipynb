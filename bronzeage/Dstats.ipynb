{
 "cells": [
  {
   "cell_type": "code",
   "execution_count": 63,
   "metadata": {},
   "outputs": [
    {
     "name": "stdout",
     "output_type": "stream",
     "text": [
      "Boshan\n",
      "Zhougongmiao\n",
      "Yaojia\n",
      "Linzi\n",
      "XianShang\n",
      "Xiaoshuangqiao\n",
      "Guandimiao\n",
      "Tonglin\n"
     ]
    }
   ],
   "source": [
    "import numpy as np\n",
    "pd=\"/mnt/solexa/mel_yang/bronzeage/Dstats/\"\n",
    "fh=\"ind_A_v13_TBH5\"\n",
    "easname=\"EASALL\"\n",
    "p4=\"Mbuti\"\n",
    "dir1=\"D_ANC_EAS_EAS_P4/\"\n",
    "dir2=\"D_EAS_EAS_ANC_P4/\"\n",
    "newsubset=\"noadmixed_tib\"\n",
    "newsubset=\"allasn\"\n",
    "ancinds=['Boshan','Zhougongmiao','Yaojia','Linzi','XianShang','Xiaoshuangqiao','Guandimiao','Tonglin']\n",
    "potentialadmixed=[\"Cambodian\",\"Thai\",\"Dongxiang\",\"Kyrgyz_China\",\"Kyrgyz\",\"Kazakh_China\",\n",
    "                  \"Kazakh\",\"Uygur\",\"Mongol\",\"Burmese\",\"Bonan\",\"Salar\",\"Malay\",\"Malayan\",\n",
    "                  \"Tianyuan\",\"Donghuigou\",\"Balikun\"]\n",
    "tibetans=[\"Tibetan_Chamdo\",\"Tibetan_Gangcha\",\"Tibetan_Gannan\",\"Tibetan_Lhasa\",\n",
    "          \"Tibetan_Nagqu\",\"Tibetan_Shannan\",\"Tibetan_Shigatse\",\"Tibetan_Xunhua\",\n",
    "          \"Tibetan_Yajiang\",\"Yugur_Eastern\",\"Yugur_Western\",\"Chokhopani\",\"Mebrak\",\"Samdzong\"]\n",
    "\n",
    "for ancind in ancinds:\n",
    "    print ancind\n",
    "    anc3file=open(\"%s%s%s.D.ALL.%s_%s_%s_%s.Zmat\" % (pd,dir2,fh,easname,easname,ancind,p4),'r')\n",
    "    anc1file=open(\"%s%s%s.D.ALL.%s_%s_%s_%s.Zmat\" % (pd,dir1,fh,ancind,easname,easname,p4),'r')\n",
    "    anc3lines=anc3file.readlines()\n",
    "    anc1lines=anc1file.readlines()\n",
    "    anc3file.close()\n",
    "    anc1file.close()\n",
    "    myrefs=anc3lines[0].strip().split('\\t')[1:]\n",
    "    myaryp3=np.zeros((len(myrefs),len(myrefs)))\n",
    "    num=0\n",
    "    for ind,vals in enumerate(anc3lines):\n",
    "        xp3=vals.strip().split()\n",
    "        xp1=anc1lines[ind].strip().split()\n",
    "        if xp3[0]==\"Pops\": continue\n",
    "        myref=x[0]\n",
    "        myZsp3=[i for i in xp3 if i != xp3[0]]\n",
    "        myZsp3=np.array([float(i) if i != 'nan' else np.nan for i in myZsp3])\n",
    "        myZsp1=[i for i in xp1 if i != xp1[0]]\n",
    "        myZsp1=np.array([float(i) if i != 'nan' else np.nan for i in myZsp1])\n",
    "        if num==0: \n",
    "            myaryp3=myZsp3\n",
    "            myaryp1=myZsp1\n",
    "            num +=1\n",
    "        else: \n",
    "            myaryp3=np.vstack((myaryp3,myZsp3))\n",
    "            myaryp1=np.vstack((myaryp1,myZsp1))\n",
    "    myrefs=[i for i in myrefs if i!='Pops']\n",
    "    newfile=open(\"%s%s%s.%s.closetoanc_%s_out%s.txt\" % (pd,dir2,fh,newsubset,ancind,p4),'w')\n",
    "    newfile.write(\"Anc\\tX\\tY\\tZ_Ancp3\\tZ_Ancp1\\n\")\n",
    "    for ind1,refpop1 in enumerate(myrefs):\n",
    "        #print '----'+refpop1+'----'\n",
    "        for ind2,refpop2 in enumerate(myrefs):\n",
    "            #if refpop2 in potentialadmixed: continue\n",
    "            #if refpop2 in tibetans: continue\n",
    "            if refpop1==refpop2: continue\n",
    "            #print myaryp3[ind1,ind2],myaryp1[ind2,ind1]\n",
    "            if myaryp3[ind1,ind2]>3 and myaryp1[ind2,ind1]>3: \n",
    "                newfile.write(\"%s\\t%s\\t%s\\t%.1f\\t%.1f\\n\" % (ancind,refpop1,refpop2,myaryp3[ind1,ind2],myaryp1[ind2,ind1]))\n",
    "    newfile.close()"
   ]
  },
  {
   "cell_type": "code",
   "execution_count": 165,
   "metadata": {},
   "outputs": [
    {
     "name": "stdout",
     "output_type": "stream",
     "text": [
      "Boisman_MN\n",
      "Daur\n",
      "Guandimiao\n",
      "Hezhen\n",
      "Japanese\n",
      "Korean\n",
      "Linzi\n",
      "Oroqen\n",
      "Shengedaliang\n",
      "Shimao\n",
      "Ulchi\n",
      "Wuzhuangguo\n",
      "XianShang\n",
      "Xinhua\n"
     ]
    }
   ],
   "source": [
    "##Explores what populations are closest (xs) to which anc indiv \n",
    "##relative to which eas popns (keys of mycount)\n",
    "\n",
    "\n",
    "pd=\"/mnt/solexa/mel_yang/bronzeage/Dstats/\"\n",
    "fh=\"ind_A_v13_TBH5\"\n",
    "easname=\"EASALL\"\n",
    "p4=\"Mbuti\"\n",
    "dir1=\"D_ANC_EAS_EAS_P4/\"\n",
    "dir2=\"D_EAS_EAS_ANC_P4/\"\n",
    "newsubset=\"allasn\"\n",
    "ancinds=[\"Boshan\"]\n",
    "for ancind in ancinds:\n",
    "    myfile=open(\"%s%s%s.%s.closetoanc_%s_out%s.txt\" % (pd,dir2,fh,newsubset,ancind,p4),'r')\n",
    "    mylines=myfile.readlines()\n",
    "    myfile.close()\n",
    "    mycount={}\n",
    "    for line in mylines:\n",
    "        x=line.split()\n",
    "        if x[2] in mycount: mycount[x[2]].add(x[1])\n",
    "        else: mycount[x[2]]=set([x[1]])\n",
    "#print mycount.keys()\n",
    "\n",
    "potentialadmixed=[\"Cambodian\",\"Thai\",\"Dongxiang\",\"Kyrgyz_China\",\"Kyrgyz\",\"Kazakh_China\",\n",
    "                  \"Kazakh\",\"Uygur\",\"Mongol\",\"Burmese\",\"Bonan\",\"Salar\",\"Malay\",\"Malayan\",\n",
    "                  \"Tianyuan\",\"Donghuigou\",\"Balikun\",\"Tu\"]\n",
    "tibetans=[\"Tibetan_Chamdo\",\"Tibetan_Gangcha\",\"Tibetan_Gannan\",\"Tibetan_Lhasa\",\n",
    "          \"Tibetan_Nagqu\",\"Tibetan_Shannan\",\"Tibetan_Shigatse\",\"Tibetan_Xunhua\",\n",
    "          \"Tibetan_Yajiang\",\"Chokhopani\",\"Mebrak\",\"Samdzong\"] #\"Tibetan_Yunnan\",\n",
    "tibetans2=[\"Tibetan_Chamdo\",\"Tibetan_Gangcha\",\"Tibetan_Lhasa\",\n",
    "          \"Tibetan_Nagqu\",\"Tibetan_Shannan\",\"Tibetan_Shigatse\",\"Tibetan_Xunhua\"]\n",
    "nchina1=[\"Hezhen\",\"Daur\",\"Ulchi\",\"Oroqen\",\"Mongola\",\"Xibo\"]\n",
    "nchina2=[\"Hezhen\",\"Daur\",\"Ulchi\",\"Oroqen\"]\n",
    "schina=[\"Dai\",\"Thai\",\"Lahu\",\"Vietnamese\",\"Kinh_Vietnam_KHV\"]\n",
    "schina2=[\"Dai\",\"Thai\",\"Lahu\"]\n",
    "##Is Shengedaliang Zhou?\n",
    "otherchina=[\"Tu\"]\n",
    "mylst=schina\n",
    "for ind,i in enumerate(mylst[:-1]):\n",
    "    if ind==0: xs=mycount[i].intersection(mycount[mylst[ind+1]])\n",
    "    else: xs=xs.intersection(mycount[mylst[ind+1]])\n",
    "\n",
    "print '\\n'.join(sorted(list(xs)))\n",
    "\n"
   ]
  },
  {
   "cell_type": "code",
   "execution_count": null,
   "metadata": {
    "collapsed": true
   },
   "outputs": [],
   "source": []
  },
  {
   "cell_type": "code",
   "execution_count": 167,
   "metadata": {},
   "outputs": [
    {
     "name": "stdout",
     "output_type": "stream",
     "text": [
      "Writing /mnt/solexa/mel_yang/bronzeage/Dstats/D_ShangZhou_merged/calcD_ShangZhou.py\n"
     ]
    }
   ],
   "source": [
    "%%writefile /mnt/solexa/mel_yang/bronzeage/Dstats/D_ShangZhou_merged/calcD_ShangZhou.py\n",
    "\n",
    "import plotting_funcs as pf\n",
    "#import HOdata\n",
    "\n",
    "pD=\"/mnt/solexa/mel_yang/bronzeage/data/\" #ivpp\n",
    "outpd=\"/mnt/solexa/mel_yang/bronzeage/Dstats/D_ShangZhou_merged/\" #ivpp\n",
    "#pD=\"/home/melinda_yang/data/HO_bronzeage/\" #mpi\n",
    "#outpd=\"/home/melinda_yang/projects/bronzeage/TY_Dstats/D_AncEAS_AncEAS_P3_P4/\" #mpi\n",
    "fh=\"ind_A_v13_TBH5\"\n",
    "outs=[\"Mbuti\",\"Tianyuan\",\"Chimp\"]\n",
    "#anceas=HOdata.anceas2+HOdata.anceas\n",
    "eas=['Daur','Hezhen','Naxi','Oroqen','Ulchi','Xibo','Dai','Lahu','Miao','She','Tujia','Yi','Zhuang','Han_Henan',\n",
    "    'Han_NChina','Han_Shandong','Han_Shanxi','Han_Sichuan','Han_Zhejiang','Kinh_Vietnam_KHV','Korean','Thai',\n",
    "    'Tibetan_Chamdo','Tibetan_Shannan','Japanese','Ami_Stoneking','Atayal_Stoneking']\n",
    "anc=[\"Zhou\",\"Zongri\",\"Shimao\",\"XianShang\",\"Huoshaogou\"]\n",
    "bsf,bsfsubset=(0,'all')\n",
    "\n",
    "for myp4 in outs:\n",
    "    '''\n",
    "    p1,p2,p3,p4 = (anc,eas,\"Shang\",myp4)\n",
    "    subset = bsfsubset+'.'+\"AncEAS\"+'_'+\"EAS\"+'_'+p3+'_'+p4\n",
    "    mytups = [(i,j,p3,p4,'p2_'+i) for ind,i in enumerate(p1) for j in p2 if i != j and p3!=i and p3!=j]\n",
    "    pf.runD(p1,p2,mytups,pD,fh,subset,(0,1),(0,),fixed=(0,0,p3,p4),badsnpfile=bsf,outpd=outpd,indfilename=fh+\"_ShangZhou\") \n",
    "\n",
    "    p1,p2,p3,p4 = (\"Shang\",anc,eas,myp4)\n",
    "    subset = bsfsubset+'.'+p1+'_'+\"AncEAS\"+'_'+\"EAS\"+'_'+p4\n",
    "    mytups = [(p1,i,j,p4,'p2_'+i) for ind,i in enumerate(p2) for j in p3 if i != j and p1!=i and p1!=j]\n",
    "    pf.runD(p2,p3,mytups,pD,fh,subset,(1,2),(0,),fixed=(p1,0,0,p4),badsnpfile=bsf,outpd=outpd,indfilename=fh+\"_ShangZhou\") \n",
    "\n",
    "    p1,p2,p3,p4 = (\"Shang\",eas,anc,myp4)\n",
    "    subset = bsfsubset+'.'+p1+'_'+\"EAS\"+'_'+\"AncEAS\"+'_'+p4\n",
    "    mytups = [(p1,i,j,p4,'p2_'+i) for ind,i in enumerate(p3) for j in p2 if i != j and p1!=i and p1!=j]\n",
    "    pf.runD(p3,p2,mytups,pD,fh,subset,(2,1),(0,),fixed=(p1,0,0,p4),badsnpfile=bsf,outpd=outpd,indfilename=fh+\"_ShangZhou\")\n",
    "    '''\n",
    "    p1,p2,p3,p4 = (eas,eas,\"Shang\",myp4)\n",
    "    subset = bsfsubset+'.'+\"EAS\"+'_'+\"EAS\"+'_'+p3+'_'+p4\n",
    "    mytups = [(i,j,p3,p4,'p2_'+i) for ind,i in enumerate(p1) for j in p2 if i != j and p3!=i and p3!=j]\n",
    "    pf.runD(p1,p2,mytups,pD,fh,subset,(0,1),(0,),fixed=(0,0,p3,p4),badsnpfile=bsf,outpd=outpd,indfilename=fh+\"_ShangZhou\") \n",
    "\n",
    "    p1,p2,p3,p4 = (\"Shang\",eas,eas,myp4)\n",
    "    subset = bsfsubset+'.'+p1+'_'+\"EAS\"+'_'+\"EAS\"+'_'+p4\n",
    "    mytups = [(p1,i,j,p4,'p2_'+i) for ind,i in enumerate(p2) for j in p3 if i != j and p1!=i and p1!=j]\n",
    "    pf.runD(p2,p3,mytups,pD,fh,subset,(1,2),(0,),fixed=(p1,0,0,p4),badsnpfile=bsf,outpd=outpd,indfilename=fh+\"_ShangZhou\") \n"
   ]
  },
  {
   "cell_type": "code",
   "execution_count": null,
   "metadata": {
    "collapsed": true
   },
   "outputs": [],
   "source": [
    "%%writefile /mnt/solexa/mel_yang/bronzeage/Dstats/calcD_Zhuang.py\n",
    "\n",
    "import plotting_funcs as pf\n",
    "#import HOdata\n",
    "\n",
    "#pD=\"/mnt/solexa/mel_yang/bronzeage/data/\" #ivpp\n",
    "#outpd=\"/mnt/solexa/mel_yang/bronzeage/Dstats/D_ShangZhou_merged/\" #ivpp\n",
    "pD=\"/home/melinda_yang/data/HO_bronzeage/\" #mpi\n",
    "outpd=\"/home/melinda_yang/projects/bronzeage/TY_Dstats/D_EAS_EAS_Tianyuan_Mbuti/\" #mpi\n",
    "\n",
    "fh=\"ind_A_v13_TBH5\"\n",
    "outs=[\"Mbuti\"]\n",
    "#anceas=HOdata.anceas2+HOdata.anceas\n",
    "eas=['Daur', 'Hezhen', 'Mongola', 'Naxi', 'Oroqen', 'Ulchi', 'Xibo', 'Dai', 'Dong', 'Gelao', 'Lahu', 'Li', \n",
    "    'Maonan', 'Miao', 'Mulam', 'She', 'Tujia', 'Yi', 'Cambodian', 'Han_Chongqing', 'Han_Fujian', \n",
    "    'Han_Guandong', 'Han_Henan', 'Han_HGDP', 'Han_Hubei', 'Han_Jiangsu', 'Han_NChina', 'Han_Shandong', \n",
    "    'Han_Shanghai', 'Han_Shanxi', 'Han_Sichuan', 'Han_Zhejiang', 'Kinh_Vietnam_KHV', 'Korean', 'Thai', \n",
    "    'Japanese', 'Boisman_MN', 'Tianyuan', 'Boshan', 'Zhougongmiao', 'Linzi', 'XianShang', 'Zongri', \n",
    "    'Huoshaogou', 'Wuba', 'Xiaoshuangqiao', 'Guandimiao', 'Shengedaliang', 'Muzhuzhuliang', 'Xinhua', \n",
    "    'Wuzhuangguo', 'Shimao', 'Tonglin', 'Dashuitian', 'Longlin', 'Bbdong', 'Taosi', 'Xinyi', 'Pukagongma', \n",
    "    'Redilong', 'Butaxiongqu', 'Gelintang', 'Yingpanshan', 'Mougou', 'Sanheyi', 'Yusu', 'Jinchankou', 'Jomon']\n",
    "west=[\"UstIshim\",\"Kostenki14\",\"GoyetQ116-1\",\"Vestonice16\",\"ElMiron\",\"Malta1\",\"Villabruna\",\n",
    "     \"Loschbour\",\"Stuttgart\",\"Satsurblia\",\"Sardinian\",\"French\"]\n",
    "bsf,bsfsubset=(0,'all')\n",
    "\n",
    "for myp4 in outs:\n",
    "    p1,p2,p3,p4 = (\"Zhuang\",eas,west,myp4)\n",
    "    subset = bsfsubset+'.'+p1+'_'+\"EAS\"+'_'+\"WEur\"+'_'+p4\n",
    "    mytups = [(p1,i,j,p4,'p2_'+i) for ind,i in enumerate(p2) for j in p3 if i != j and p1!=i and p1!=j]\n",
    "    pf.runD(p2,p3,mytups,pD,fh,subset,(1,2),(0,),fixed=(p1,0,0,p4),badsnpfile=bsf,outpd=outpd) \n"
   ]
  },
  {
   "cell_type": "code",
   "execution_count": null,
   "metadata": {
    "collapsed": true
   },
   "outputs": [],
   "source": [
    "%%writefile /mnt/solexa/mel_yang/bronzeage/Dstats/calcD_WEur.py\n",
    "\n",
    "import plotting_funcs as pf\n",
    "#import HOdata\n",
    "\n",
    "#pD=\"/mnt/solexa/mel_yang/bronzeage/data/\" #ivpp\n",
    "#outpd=\"/mnt/solexa/mel_yang/bronzeage/Dstats/D_ShangZhou_merged/\" #ivpp\n",
    "pD=\"/home/melinda_yang/data/HO_bronzeage/\" #mpi\n",
    "outpd=\"/home/melinda_yang/projects/bronzeage/TY_Dstats/D_EUR_EUR_EAS_MBU/\" #mpi\n",
    "\n",
    "fh=\"ind_A_v13_TBH5\"\n",
    "outs=[\"Mbuti\"]\n",
    "#anceas=HOdata.anceas2+HOdata.anceas\n",
    "eas=['Daur', 'Hezhen', 'Mongola', 'Naxi', 'Oroqen', 'Ulchi', 'Xibo', 'Dai', 'Dong', 'Gelao', 'Lahu', 'Li', \n",
    "    'Maonan', 'Miao', 'Mulam', 'She', 'Tujia', 'Yi', 'Cambodian', 'Han_Chongqing', 'Han_Fujian', \n",
    "    'Han_Guandong', 'Han_Henan', 'Han_HGDP', 'Han_Hubei', 'Han_Jiangsu', 'Han_NChina', 'Han_Shandong', \n",
    "    'Han_Shanghai', 'Han_Shanxi', 'Han_Sichuan', 'Han_Zhejiang', 'Kinh_Vietnam_KHV', 'Korean', 'Thai', \n",
    "    'Japanese', 'Boisman_MN', 'Tianyuan', 'Boshan', 'Zhougongmiao', 'Linzi', 'XianShang', 'Zongri', \n",
    "    'Huoshaogou', 'Wuba', 'Xiaoshuangqiao', 'Guandimiao', 'Shengedaliang', 'Muzhuzhuliang', 'Xinhua', \n",
    "    'Wuzhuangguo', 'Shimao', 'Tonglin', 'Dashuitian', 'Longlin', 'Bbdong', 'Taosi', 'Xinyi', 'Pukagongma', \n",
    "    'Redilong', 'Butaxiongqu', 'Gelintang', 'Yingpanshan', 'Mougou', 'Sanheyi', 'Yusu', 'Jinchankou', 'Jomon']\n",
    "west=[\"Kostenki14\",\"GoyetQ116-1\",\"ElMiron\",\"Malta1\",\"Villabruna\",\n",
    "     \"Loschbour\",\"Stuttgart\",\"Satsurblia\",\"Sardinian\",\"French\"]\n",
    "west=['UstIshim','Pavlov1','KremsWA3','Ostuni1','HohleFels49','Bichon','Rochedane','Ranchot88',\n",
    "        'LaBrana1','Koros_Hungary_EN_HG.SG','Motala_HG','Karelia','LaRochette']\n",
    "bsf,bsfsubset=(0,'all')\n",
    "\n",
    "for myp4 in outs:\n",
    "    p1,p2,p3,p4 = (\"Vestonice16\",west,eas,myp4)\n",
    "    subset = bsfsubset+'.'+p1+'_'+\"WEur\"+'_'+\"EAS\"+'_'+p4\n",
    "    mytups = [(p1,i,j,p4,'p2_'+i) for ind,i in enumerate(p2) for j in p3 if i != j and p1!=i and p1!=j]\n",
    "    pf.runD(p2,p3,mytups,pD,fh,subset,(1,2),(0,),fixed=(p1,0,0,p4),badsnpfile=bsf,outpd=outpd) \n"
   ]
  },
  {
   "cell_type": "code",
   "execution_count": 2,
   "metadata": {},
   "outputs": [
    {
     "name": "stdout",
     "output_type": "stream",
     "text": [
      "['Daur', 'Hezhen', 'Mongola', 'Naxi', 'Oroqen', 'Ulchi', 'Xibo', 'Dai', 'Dong', 'Gelao', 'Lahu', 'Li', 'Maonan', 'Miao', 'Mulam', 'She', 'Tujia', 'Yi', 'Zhuang', 'Cambodian', 'Han_Chongqing', 'Han_Fujian', 'Han_Guandong', 'Han_Henan', 'Han_HGDP', 'Han_Hubei', 'Han_Jiangsu', 'Han_NChina', 'Han_Shandong', 'Han_Shanghai', 'Han_Shanxi', 'Han_Sichuan', 'Han_Zhejiang', 'Kinh_Vietnam_KHV', 'Korean', 'Thai', 'Qiang_Horpa', 'Tibetan_Chamdo', 'Tibetan_Gangcha', 'Tibetan_Gannan', 'Tibetan_Lhasa', 'Tibetan_Nagqu', 'Tibetan_Shannan', 'Tibetan_Shigatse', 'Tibetan_Xinlong', 'Tibetan_Xunhua', 'Tibetan_Yajiang', 'Japanese', 'Ami_Stoneking', 'Atayal_Stoneking', 'Tu', 'Dongxiang', 'Kyrgyz_China', 'Kyrgyz', 'Kazakh_China', 'Kazakh', 'Uygur', 'Mongol', 'Tibetan_Yunnan', 'Bunun', 'Tao', 'Burmese', 'Vietnamese', 'Paiwan', 'Rukai', 'Hakka', 'Minnan', 'Pingpu', 'Atayal_Coriell', 'Ami_Coriell', 'Bonan', 'Yugur_Eastern', 'Yugur_Western', 'Salar', 'Malay', 'Malayan', 'Chokhopani', 'Mebrak', 'Samdzong', 'Boisman_MN', 'Tianyuan', 'Boshan', 'Donghuigou', 'Balikun', 'Zhougongmiao', 'Yaojia', 'Linzi', 'XianShang', 'Zongri', 'Huoshaogou', 'Wuba', 'Xiaoshuangqiao', 'Guandimiao', 'Shengedaliang', 'Muzhuzhuliang', 'Xinhua', 'Wuzhuangguo', 'Shimao', 'Tonglin', 'Dashuitian', 'Longlin', 'Bbdong', 'Taosi', 'Xinyi', 'Pukagongma', 'Redilong', 'Butaxiongqu', 'Gelintang', 'Yingpanshan', 'Mougou', 'Sanheyi', 'Yusu', 'Jinchankou', 'Jomon']\n"
     ]
    }
   ],
   "source": [
    "import HOdata\n",
    "print HOdata.alleas\n",
    "xx=['Daur', 'Hezhen', 'Mongola', 'Naxi', 'Oroqen', 'Ulchi', 'Xibo', 'Dai', 'Dong', 'Gelao', 'Lahu', 'Li', \n",
    "    'Maonan', 'Miao', 'Mulam', 'She', 'Tujia', 'Yi', 'Cambodian', 'Han_Chongqing', 'Han_Fujian', \n",
    "    'Han_Guandong', 'Han_Henan', 'Han_HGDP', 'Han_Hubei', 'Han_Jiangsu', 'Han_NChina', 'Han_Shandong', \n",
    "    'Han_Shanghai', 'Han_Shanxi', 'Han_Sichuan', 'Han_Zhejiang', 'Kinh_Vietnam_KHV', 'Korean', 'Thai', \n",
    "    'Japanese', 'Boisman_MN', 'Tianyuan', 'Boshan', 'Zhougongmiao', 'Linzi', 'XianShang', 'Zongri', \n",
    "    'Huoshaogou', 'Wuba', 'Xiaoshuangqiao', 'Guandimiao', 'Shengedaliang', 'Muzhuzhuliang', 'Xinhua', \n",
    "    'Wuzhuangguo', 'Shimao', 'Tonglin', 'Dashuitian', 'Longlin', 'Bbdong', 'Taosi', 'Xinyi', 'Pukagongma', \n",
    "    'Redilong', 'Butaxiongqu', 'Gelintang', 'Yingpanshan', 'Mougou', 'Sanheyi', 'Yusu', 'Jinchankou', 'Jomon']"
   ]
  },
  {
   "cell_type": "code",
   "execution_count": null,
   "metadata": {
    "collapsed": true
   },
   "outputs": [],
   "source": []
  },
  {
   "cell_type": "code",
   "execution_count": null,
   "metadata": {
    "collapsed": true
   },
   "outputs": [],
   "source": []
  },
  {
   "cell_type": "code",
   "execution_count": null,
   "metadata": {
    "collapsed": true
   },
   "outputs": [],
   "source": []
  },
  {
   "cell_type": "code",
   "execution_count": null,
   "metadata": {
    "collapsed": true
   },
   "outputs": [],
   "source": []
  },
  {
   "cell_type": "code",
   "execution_count": null,
   "metadata": {
    "collapsed": true
   },
   "outputs": [],
   "source": [
    "%%writefile /home/melinda_yang/projects/bronzeage/TY_Dstats/calcD_anceas.py\n",
    "#%%writefile /home/mel_yang/projects/bronzeage/calcD_anceas.py\n",
    "import plotting_funcs as pf\n",
    "import HOdata\n",
    "\n",
    "#pD=\"/home/mel_yang/projects/bronzeage/\" #ivpp\n",
    "#outpd=\"/mnt/solexa/mel_yang/bronzeage/Dstats/D_AncEAS_AncEAS_P3_P4/\" #ivpp\n",
    "pD=\"/home/melinda_yang/data/HO_bronzeage/\" #mpi\n",
    "outpd=\"/home/melinda_yang/projects/bronzeage/TY_Dstats/D_AncEAS_AncEAS_P3_P4/\" #mpi\n",
    "fh=\"ind_A_v13_TBH5\"\n",
    "outs=[\"Mbuti\",\"French\"]\n",
    "#anceas=HOdata.anceas2+HOdata.anceas\n",
    "anceas=['Tianyuan', 'Donghuigou', 'Balikun', 'Boshan', 'Zhougongmiao', 'Yaojia', 'Linzi', \n",
    "        'XianShang', 'Xiaoshuangqiao', 'Guandimiao', 'Guandimiao_d','Tonglin', 'Zongri', \n",
    "        'Huoshaogou', 'Wuba', 'Shengedaliang', 'Muzhuzhuliang', 'Xinhua', 'Wuzhuangguo', \n",
    "        'Shimao', 'Boisman_MN', 'Chokhopani', 'Mebrak', 'Samdzong']\n",
    "pdeas=HOdata.alleas\n",
    "bsf,bsfsubset=(0,'all')\n",
    "\n",
    "for myp4 in outs:\n",
    "    for myind in pdeas:\n",
    "        p1,p2,p3,p4 = (anceas,anceas,myind,myp4)\n",
    "        subset = bsfsubset+'.'+\"AncEAS\"+'_'+\"AncEAS\"+'_'+p3+'_'+p4\n",
    "        mytups = [(i,j,p3,p4,'p2_'+i) for ind,i in enumerate(p1) for j in p2 if i != j and p3!=i and p3!=j]\n",
    "        pf.runD(p1,p2,mytups,pD,fh,subset,(0,1),(0,),fixed=(0,0,p3,p4),badsnpfile=bsf,outpd=outpd) ##indfilename=fh+\".hgdplabeled\"  \n"
   ]
  },
  {
   "cell_type": "code",
   "execution_count": 1,
   "metadata": {},
   "outputs": [
    {
     "name": "stdout",
     "output_type": "stream",
     "text": [
      "Overwriting /home/melinda_yang/projects/bronzeage/TY_Dstats/calcD_EAS_EAS_TY_P4.py\n"
     ]
    }
   ],
   "source": [
    "%%writefile /home/melinda_yang/projects/bronzeage/TY_Dstats/calcD_EAS_EAS_EUR_P4.py\n",
    "##%%writefile /home/melinda_yang/projects/bronzeage/TY_Dstats/calcD_EAS_EAS_TY_P4.py\n",
    "##HO data, D(EAS, EAS, TY, Mbuti)\n",
    "import plotting_funcs as pf\n",
    "#import HOdata\n",
    "allids=['Daur', 'Hezhen', 'Mongola', 'Naxi', 'Oroqen', 'Ulchi', 'Xibo', 'Dai', 'Dong', \n",
    "     'Gelao', 'Lahu', 'Li', 'Maonan', 'Miao', 'Mulam', 'She', 'Tujia', 'Yi', 'Zhuang', \n",
    "     'Cambodian', 'Han_Chongqing', 'Han_Fujian', 'Han_Guandong', 'Han_Henan', 'Han_HGDP', \n",
    "     'Han_Hubei', 'Han_Jiangsu', 'Han_NChina', 'Han_Shandong', 'Han_Shanghai', 'Han_Shanxi', \n",
    "     'Han_Sichuan', 'Han_Zhejiang', 'Kinh_Vietnam_KHV', 'Korean', 'Thai', 'Qiang_Horpa', \n",
    "     'Tibetan_Chamdo', 'Tibetan_Gangcha', 'Tibetan_Gannan', 'Tibetan_Lhasa', 'Tibetan_Nagqu', \n",
    "     'Tibetan_Shannan', 'Tibetan_Shigatse', 'Tibetan_Xinlong', 'Tibetan_Xunhua', \n",
    "     'Tibetan_Yajiang', 'Japanese', 'Ami_Stoneking', 'Atayal_Stoneking', 'Tu', 'Dongxiang', \n",
    "     'Kyrgyz_China', 'Kyrgyz', 'Kazakh_China', 'Kazakh', 'Uygur', 'Mongol', 'Tibetan_Yunnan', \n",
    "     'Bunun', 'Tao', 'Burmese', 'Vietnamese', 'Paiwan', 'Rukai', 'Hakka', 'Minnan', 'Pingpu', \n",
    "     'Atayal_Coriell', 'Ami_Coriell', 'Bonan', 'Yugur_Eastern', 'Yugur_Western', 'Salar', \n",
    "     'Malay', 'Malayan', 'Chokhopani', 'Mebrak', 'Samdzong', 'Boisman_MN', 'Tianyuan', \n",
    "     'Boshan', 'Donghuigou', 'Balikun', 'Zhougongmiao', 'Yaojia', 'Linzi', 'XianShang', \n",
    "     'Zongri', 'Huoshaogou', 'Wuba', 'Xiaoshuangqiao', 'Guandimiao', 'Shengedaliang', \n",
    "     'Muzhuzhuliang', 'Xinhua', 'Wuzhuangguo', 'Shimao', 'Tonglin', 'Dashuitian', 'Longlin', \n",
    "     'Bbdong', 'Taosi', 'Xinyi', 'Pukagongma', 'Redilong', 'Butaxiongqu', 'Gelintang', \n",
    "     'Yingpanshan', 'Mougou', 'Sanheyi', 'Yusu', 'Jinchankou', 'Jomon', 'HDYM1', 'HQSDW', 'LiangDao']\n",
    "\n",
    "#pD=\"/home/mel_yang/projects/bronzeage/\"\n",
    "#outpd=\"/mnt/solexa/mel_yang/bronzeage/Dstats/D_EAS_EAS_Tianyuan_P4/\"\n",
    "pD=\"/home/melinda_yang/data/HO_bronzeage/\"\n",
    "#outpd=\"/home/melinda_yang/projects/bronzeage/TY_Dstats/D_EAS_EAS_Tianyuan_Mbuti/\"\n",
    "outpd=\"/home/melinda_yang/projects/bronzeage/TY_Dstats/D_EAS_EAS_EUR_P4/\"\n",
    "fh=\"ind_A_v13_TBH5\"\n",
    "p4s=[\"Mbuti\"]\n",
    "myid = 'EAS'\n",
    "p3s = ['Tianyuan']\n",
    "p3s=[\"French\",\"GoyetQ116-1\",\"Villabruna\",\"Malta1\",\"Loschbour\"]\n",
    "##Already did \"Kostenki14\",\"Vestonice16\",\"ElMiron\",\"Stuttgart\",\"Sardinian\",\"Satsurblia\"\n",
    "#bsf,bsfsubset=(pD+fh+\".transi.snp\",'transv')\n",
    "bsf,bsfsubset=(0,'all')\n",
    "\n",
    "for myp3 in p3s:\n",
    "    for myp4 in p4s:\n",
    "        for ind2,myset in enumerate(allids):\n",
    "            for ind3,myset3 in enumerate(allids):\n",
    "                if ind3%11!=0: continue\n",
    "                if ind2%11!=0: continue\n",
    "                ##(p1, p2, p3s, p4s)\n",
    "                p1,p2,p3,p4 = (allids[ind2:(ind2+11)],allids[ind3:(ind3+11)],myp3,myp4)\n",
    "                subset = bsfsubset+'.'+myid+str(ind2)+'_'+myid+str(ind3)+'_'+p3+'_'+p4\n",
    "                mytups = [(i,j,p3,p4,'p1_'+i) for ind,i in enumerate(p1) for j in p2 if i != j and p3!=i and p3!=j]\n",
    "                pf.runD(p1,p2,mytups,pD,fh,subset,(0,1),(0,),fixed=(0,0,p3,p4),outpd=outpd,badsnpfile=bsf)"
   ]
  },
  {
   "cell_type": "code",
   "execution_count": null,
   "metadata": {
    "collapsed": true
   },
   "outputs": [],
   "source": []
  },
  {
   "cell_type": "code",
   "execution_count": 2,
   "metadata": {},
   "outputs": [
    {
     "name": "stdout",
     "output_type": "stream",
     "text": [
      "Writing /home/melinda_yang/projects/bronzeage/TY_Dstats/calcD_EUR_EUR_EAS_P4.py\n"
     ]
    },
    {
     "ename": "IOError",
     "evalue": "[Errno 2] No such file or directory: '/home/melinda_yang/projects/bronzeage/TY_Dstats/calcD_EUR_EUR_EAS_P4.py'",
     "output_type": "error",
     "traceback": [
      "\u001b[0;31m---------------------------------------------------------------------------\u001b[0m",
      "\u001b[0;31mIOError\u001b[0m                                   Traceback (most recent call last)",
      "\u001b[0;32m<ipython-input-2-1243272f4210>\u001b[0m in \u001b[0;36m<module>\u001b[0;34m()\u001b[0m\n\u001b[0;32m----> 1\u001b[0;31m \u001b[0mget_ipython\u001b[0m\u001b[0;34m(\u001b[0m\u001b[0;34m)\u001b[0m\u001b[0;34m.\u001b[0m\u001b[0mrun_cell_magic\u001b[0m\u001b[0;34m(\u001b[0m\u001b[0;34mu'writefile'\u001b[0m\u001b[0;34m,\u001b[0m \u001b[0;34mu'/home/melinda_yang/projects/bronzeage/TY_Dstats/calcD_EUR_EUR_EAS_P4.py'\u001b[0m\u001b[0;34m,\u001b[0m \u001b[0;34mu'##%%writefile /home/melinda_yang/projects/bronzeage/TY_Dstats/calcD_EAS_EAS_TY_P4.py\\n##HO data, D(EAS, EAS, TY, Mbuti)\\nimport plotting_funcs as pf\\n#import HOdata\\n\\np3s=[\\'Daur\\', \\'Hezhen\\', \\'Mongola\\',\\'Naxi\\', \\'Oroqen\\', \\'Ulchi\\',\\'Dai\\', \\'Li\\', \\'Maonan\\', \\'Miao\\', \\n      \\'Ami_Stoneking\\', \\'Tibetan_Shannan\\', \\'Han_NChina\\', \\'Han_Shandong\\', \\'Han_HGDP\\']\\n#pD=\"/home/mel_yang/projects/bronzeage/\"\\n#outpd=\"/mnt/solexa/mel_yang/bronzeage/Dstats/D_EAS_EAS_Tianyuan_P4/\"\\npD=\"/home/melinda_yang/data/HO_bronzeage/\"\\n#outpd=\"/home/melinda_yang/projects/bronzeage/TY_Dstats/D_EAS_EAS_Tianyuan_Mbuti/\"\\noutpd=\"/home/melinda_yang/projects/bronzeage/TY_Dstats/D_EUR_EUR_EAS_MBU/\"\\nfh=\"ind_A_v13_TBH5\"\\np4s=[\"Mbuti\"]\\nmyid = \\'EUR\\'\\n#p3s = [\\'Tianyuan\\']\\neur=[\"Kostenki14\",\"GoyetQ116-1\",\"Vestonice16\",\"Malta1\",\"ElMiron\",\"Villabruna\",\"Loschbour\",\"Stuttgart\",\"Satsurblia\",\"Sardinian\",\"French\"]\\n#bsf,bsfsubset=(pD+fh+\".transi.snp\",\\'transv\\')\\nbsf,bsfsubset=(0,\\'all\\')\\n\\nfor myp3 in p3s:\\n    for myp4 in p4s:\\n        ##(p1, p2, p3s, p4s)\\n        p1,p2,p3,p4 = (eur,eur,myp3,myp4)\\n        subset = bsfsubset+\\'.\\'+myid+\\'_\\'+myid+\\'_\\'+p3+\\'_\\'+p4\\n        mytups = [(i,j,p3,p4,\\'p1_\\'+i) for ind,i in enumerate(p1) for j in p2 if i != j and p3!=i and p3!=j]\\n        pf.runD(p1,p2,mytups,pD,fh,subset,(0,1),(0,),fixed=(0,0,p3,p4),outpd=outpd,badsnpfile=bsf)'\u001b[0m\u001b[0;34m)\u001b[0m\u001b[0;34m\u001b[0m\u001b[0m\n\u001b[0m",
      "\u001b[0;32m/usr/local/lib/python2.7/dist-packages/IPython/core/interactiveshell.pyc\u001b[0m in \u001b[0;36mrun_cell_magic\u001b[0;34m(self, magic_name, line, cell)\u001b[0m\n\u001b[1;32m   2113\u001b[0m             \u001b[0mmagic_arg_s\u001b[0m \u001b[0;34m=\u001b[0m \u001b[0mself\u001b[0m\u001b[0;34m.\u001b[0m\u001b[0mvar_expand\u001b[0m\u001b[0;34m(\u001b[0m\u001b[0mline\u001b[0m\u001b[0;34m,\u001b[0m \u001b[0mstack_depth\u001b[0m\u001b[0;34m)\u001b[0m\u001b[0;34m\u001b[0m\u001b[0m\n\u001b[1;32m   2114\u001b[0m             \u001b[0;32mwith\u001b[0m \u001b[0mself\u001b[0m\u001b[0;34m.\u001b[0m\u001b[0mbuiltin_trap\u001b[0m\u001b[0;34m:\u001b[0m\u001b[0;34m\u001b[0m\u001b[0m\n\u001b[0;32m-> 2115\u001b[0;31m                 \u001b[0mresult\u001b[0m \u001b[0;34m=\u001b[0m \u001b[0mfn\u001b[0m\u001b[0;34m(\u001b[0m\u001b[0mmagic_arg_s\u001b[0m\u001b[0;34m,\u001b[0m \u001b[0mcell\u001b[0m\u001b[0;34m)\u001b[0m\u001b[0;34m\u001b[0m\u001b[0m\n\u001b[0m\u001b[1;32m   2116\u001b[0m             \u001b[0;32mreturn\u001b[0m \u001b[0mresult\u001b[0m\u001b[0;34m\u001b[0m\u001b[0m\n\u001b[1;32m   2117\u001b[0m \u001b[0;34m\u001b[0m\u001b[0m\n",
      "\u001b[0;32m/usr/local/lib/python2.7/dist-packages/IPython/core/magics/osm.pyc\u001b[0m in \u001b[0;36mwritefile\u001b[0;34m(self, line, cell)\u001b[0m\n",
      "\u001b[0;32m/usr/local/lib/python2.7/dist-packages/IPython/core/magic.pyc\u001b[0m in \u001b[0;36m<lambda>\u001b[0;34m(f, *a, **k)\u001b[0m\n\u001b[1;32m    186\u001b[0m     \u001b[0;31m# but it's overkill for just that one bit of state.\u001b[0m\u001b[0;34m\u001b[0m\u001b[0;34m\u001b[0m\u001b[0m\n\u001b[1;32m    187\u001b[0m     \u001b[0;32mdef\u001b[0m \u001b[0mmagic_deco\u001b[0m\u001b[0;34m(\u001b[0m\u001b[0marg\u001b[0m\u001b[0;34m)\u001b[0m\u001b[0;34m:\u001b[0m\u001b[0;34m\u001b[0m\u001b[0m\n\u001b[0;32m--> 188\u001b[0;31m         \u001b[0mcall\u001b[0m \u001b[0;34m=\u001b[0m \u001b[0;32mlambda\u001b[0m \u001b[0mf\u001b[0m\u001b[0;34m,\u001b[0m \u001b[0;34m*\u001b[0m\u001b[0ma\u001b[0m\u001b[0;34m,\u001b[0m \u001b[0;34m**\u001b[0m\u001b[0mk\u001b[0m\u001b[0;34m:\u001b[0m \u001b[0mf\u001b[0m\u001b[0;34m(\u001b[0m\u001b[0;34m*\u001b[0m\u001b[0ma\u001b[0m\u001b[0;34m,\u001b[0m \u001b[0;34m**\u001b[0m\u001b[0mk\u001b[0m\u001b[0;34m)\u001b[0m\u001b[0;34m\u001b[0m\u001b[0m\n\u001b[0m\u001b[1;32m    189\u001b[0m \u001b[0;34m\u001b[0m\u001b[0m\n\u001b[1;32m    190\u001b[0m         \u001b[0;32mif\u001b[0m \u001b[0mcallable\u001b[0m\u001b[0;34m(\u001b[0m\u001b[0marg\u001b[0m\u001b[0;34m)\u001b[0m\u001b[0;34m:\u001b[0m\u001b[0;34m\u001b[0m\u001b[0m\n",
      "\u001b[0;32m/usr/local/lib/python2.7/dist-packages/IPython/core/magics/osm.pyc\u001b[0m in \u001b[0;36mwritefile\u001b[0;34m(self, line, cell)\u001b[0m\n\u001b[1;32m    787\u001b[0m \u001b[0;34m\u001b[0m\u001b[0m\n\u001b[1;32m    788\u001b[0m         \u001b[0mmode\u001b[0m \u001b[0;34m=\u001b[0m \u001b[0;34m'a'\u001b[0m \u001b[0;32mif\u001b[0m \u001b[0margs\u001b[0m\u001b[0;34m.\u001b[0m\u001b[0mappend\u001b[0m \u001b[0;32melse\u001b[0m \u001b[0;34m'w'\u001b[0m\u001b[0;34m\u001b[0m\u001b[0m\n\u001b[0;32m--> 789\u001b[0;31m         \u001b[0;32mwith\u001b[0m \u001b[0mio\u001b[0m\u001b[0;34m.\u001b[0m\u001b[0mopen\u001b[0m\u001b[0;34m(\u001b[0m\u001b[0mfilename\u001b[0m\u001b[0;34m,\u001b[0m \u001b[0mmode\u001b[0m\u001b[0;34m,\u001b[0m \u001b[0mencoding\u001b[0m\u001b[0;34m=\u001b[0m\u001b[0;34m'utf-8'\u001b[0m\u001b[0;34m)\u001b[0m \u001b[0;32mas\u001b[0m \u001b[0mf\u001b[0m\u001b[0;34m:\u001b[0m\u001b[0;34m\u001b[0m\u001b[0m\n\u001b[0m\u001b[1;32m    790\u001b[0m             \u001b[0mf\u001b[0m\u001b[0;34m.\u001b[0m\u001b[0mwrite\u001b[0m\u001b[0;34m(\u001b[0m\u001b[0mcell\u001b[0m\u001b[0;34m)\u001b[0m\u001b[0;34m\u001b[0m\u001b[0m\n",
      "\u001b[0;31mIOError\u001b[0m: [Errno 2] No such file or directory: '/home/melinda_yang/projects/bronzeage/TY_Dstats/calcD_EUR_EUR_EAS_P4.py'"
     ]
    }
   ],
   "source": [
    "%%writefile /home/melinda_yang/projects/bronzeage/TY_Dstats/calcD_EUR_EUR_EAS_P4.py\n",
    "##%%writefile /home/melinda_yang/projects/bronzeage/TY_Dstats/calcD_EAS_EAS_TY_P4.py\n",
    "##HO data, D(EAS, EAS, TY, Mbuti)\n",
    "import plotting_funcs as pf\n",
    "#import HOdata\n",
    "\n",
    "p3s=['Daur', 'Hezhen', 'Mongola','Naxi', 'Oroqen', 'Ulchi','Dai', 'Li', 'Maonan', 'Miao', \n",
    "      'Ami_Stoneking', 'Tibetan_Shannan', 'Han_NChina', 'Han_Shandong', 'Han_HGDP']\n",
    "p3s=[\"Boshan\",\"Bbdong\",\"HDYM1\",\"Boisman_MN\",\"Linzi\",\"Longlin\",\"Zongri\",\"LiangDao\",\"Tianyuan\"]\n",
    "#pD=\"/home/mel_yang/projects/bronzeage/\"\n",
    "#outpd=\"/mnt/solexa/mel_yang/bronzeage/Dstats/D_EAS_EAS_Tianyuan_P4/\"\n",
    "pD=\"/home/melinda_yang/data/HO_bronzeage/\"\n",
    "#outpd=\"/home/melinda_yang/projects/bronzeage/TY_Dstats/D_EAS_EAS_Tianyuan_Mbuti/\"\n",
    "outpd=\"/home/melinda_yang/projects/bronzeage/TY_Dstats/D_EUR_EUR_EAS_MBU/\"\n",
    "fh=\"ind_A_v13_TBH5\"\n",
    "p4s=[\"Mbuti\"]\n",
    "myid = 'EUR'\n",
    "#p3s = ['Tianyuan']\n",
    "eur=[\"Kostenki14\",\"GoyetQ116-1\",\"Vestonice16\",\"Malta1\",\"ElMiron\",\"Villabruna\",\"Loschbour\",\"Stuttgart\",\"Satsurblia\",\"Sardinian\",\"French\"]\n",
    "#bsf,bsfsubset=(pD+fh+\".transi.snp\",'transv')\n",
    "bsf,bsfsubset=(0,'all')\n",
    "\n",
    "for myp3 in p3s:\n",
    "    for myp4 in p4s:\n",
    "        ##(p1, p2, p3s, p4s)\n",
    "        p1,p2,p3,p4 = (eur,eur,myp3,myp4)\n",
    "        subset = bsfsubset+'.'+myid+'_'+myid+'_'+p3+'_'+p4\n",
    "        mytups = [(i,j,p3,p4,'p1_'+i) for ind,i in enumerate(p1) for j in p2 if i != j and p3!=i and p3!=j]\n",
    "        pf.runD(p1,p2,mytups,pD,fh,subset,(0,1),(0,),fixed=(0,0,p3,p4),outpd=outpd,badsnpfile=bsf)"
   ]
  },
  {
   "cell_type": "code",
   "execution_count": null,
   "metadata": {
    "collapsed": true
   },
   "outputs": [],
   "source": []
  },
  {
   "cell_type": "code",
   "execution_count": null,
   "metadata": {
    "collapsed": true
   },
   "outputs": [],
   "source": [
    "%%writefile /mnt/solexa/mel_yang/bronzeage/Dstats/calcD_Longlin_X_X_Mbuti.py\n",
    "\n",
    "import plotting_funcs as pf\n",
    "#import HOdata\n",
    "\n",
    "#pD=\"/mnt/solexa/mel_yang/bronzeage/data/\" #ivpp\n",
    "#outpd=\"/mnt/solexa/mel_yang/bronzeage/Dstats/D_ShangZhou_merged/\" #ivpp\n",
    "pD=\"/home/melinda_yang/data/HO_bronzeage/\" #mpi\n",
    "outpd=\"/home/melinda_yang/projects/bronzeage/TY_Dstats/D_Longlin_X_X_Mbuti/\" #mpi\n",
    "\n",
    "fh=\"ind_A_v13_TBH5\"\n",
    "outs=[\"Mbuti\"]\n",
    "#anceas=HOdata.anceas2+HOdata.anceas\n",
    "eas=['Mamanwa', 'Mamanwa1', 'Semende', 'Borneo', 'Tongan', 'Rennell_and_Bellona', 'Tikopia', 'Ontong_Java', 'Santa_Isabel', 'Nasioi', 'Choiseul', 'Nggela', 'Kolombangara', 'Makira', 'Malaita', 'Ranongga', 'Russell', 'Santa_Cruz', 'Savo', 'Vella_Lavella', 'Papuan', 'New_Guinea', 'Papuan_Gulf', 'Papuan_Central', 'Australian', 'Australian_WGA']\n",
    "west=[\"Tianyuan\",\"UstIshim\",\"Kostenki14\",\"LiangDao\",\"Boisman_MN\",\"Han_HGDP\"]\n",
    "bsf,bsfsubset=(0,'all')\n",
    "\n",
    "p1s=[\"Han_HGDP\",\"Boshan\",\"Linzi\",\"Dai\",\"Daur\",\"Boisman_MN\",\"Bbdong\",\"HDYM1\",\"LiangDao\"] ##Longlin\n",
    "for myp1 in p1s:\n",
    "    for myp4 in outs:\n",
    "        p1,p2,p3,p4 = (myp1,west,eas,myp4)\n",
    "        subset = bsfsubset+'.'+p1+'_'+\"WEur\"+'_'+\"PAC\"+'_'+p4\n",
    "        mytups = [(p1,i,j,p4,'p2_'+i) for ind,i in enumerate(p2) for j in p3 if i != j and p1!=i and p1!=j]\n",
    "        pf.runD(p2,p3,mytups,pD,fh,subset,(1,2),(0,),fixed=(p1,0,0,p4),badsnpfile=bsf,outpd=outpd) \n"
   ]
  },
  {
   "cell_type": "code",
   "execution_count": 7,
   "metadata": {},
   "outputs": [
    {
     "name": "stdout",
     "output_type": "stream",
     "text": [
      "['Mamanwa', 'Mamanwa1', 'Semende', 'Borneo', 'Tongan', 'Rennell_and_Bellona', 'Tikopia', 'Ontong_Java', 'Santa_Isabel', 'Nasioi', 'Choiseul', 'Nggela', 'Kolombangara', 'Makira', 'Malaita', 'Ranongga', 'Russell', 'Santa_Cruz', 'Savo', 'Vella_Lavella', 'Papuan', 'New_Guinea', 'Papuan_Gulf', 'Papuan_Central', 'Australian', 'Australian_WGA']\n"
     ]
    }
   ],
   "source": [
    "import HOdata\n",
    "print HOdata.morepacific\n"
   ]
  },
  {
   "cell_type": "code",
   "execution_count": 15,
   "metadata": {},
   "outputs": [
    {
     "name": "stdout",
     "output_type": "stream",
     "text": [
      "Overwriting /home/mel_yang/projects/bronzeage/calcD_anceas.py\n"
     ]
    }
   ],
   "source": [
    "%%writefile /home/mel_yang/projects/bronzeage/calcD_anceas.py\n",
    "##HO data, D(EAS, EAS, TY, Mbuti)\n",
    "import plotting_funcs as pf\n",
    "#import HOdata\n",
    "allids=['Daur', 'Hezhen', 'Mongola', 'Naxi', 'Oroqen', 'Ulchi', 'Xibo', 'Dai', 'Dong', 'Gelao', 'Lahu', 'Li', 'Maonan', 'Miao', 'Mulam', 'She', 'Tujia', 'Yi', 'Zhuang', 'Cambodian', 'Han_Chongqing', 'Han_Fujian', 'Han_Guandong', 'Han_Henan', 'Han_HGDP', 'Han_Hubei', 'Han_Jiangsu', 'Han_NChina', 'Han_Shandong', 'Han_Shanghai', 'Han_Shanxi', 'Han_Sichuan', 'Han_Zhejiang', 'Kinh_Vietnam_KHV', 'Korean', 'Thai', 'Qiang_Horpa', 'Tibetan_Chamdo', 'Tibetan_Gangcha', 'Tibetan_Gannan', 'Tibetan_Lhasa', 'Tibetan_Nagqu', 'Tibetan_Shannan', 'Tibetan_Shigatse', 'Tibetan_Xinlong', 'Tibetan_Xunhua', 'Tibetan_Yajiang', 'Japanese', 'Ami_Stoneking', 'Atayal_Stoneking', 'Tu', 'Dongxiang', 'Kyrgyz_China', 'Kyrgyz', 'Kazakh_China', 'Kazakh', 'Uygur', 'Mongol', 'Tibetan_Yunnan', 'Bunun', 'Tao', 'Burmese', 'Vietnamese', 'Paiwan', 'Rukai', 'Hakka', 'Minnan', 'Pingpu', 'Atayal_Coriell', 'Ami_Coriell', 'Bonan', 'Yugur_Eastern', 'Yugur_Western', 'Salar', 'Malay', 'Malayan', 'Chokhopani', 'Mebrak', 'Samdzong', 'Boisman_MN', 'Tianyuan', 'Boshan', 'Donghuigou', 'Balikun', 'Zhougongmiao', 'Yaojia', 'Linzi', 'XianShang', 'Zongri', 'Huoshaogou', 'Wuba', 'Xiaoshuangqiao', 'Guandimiao', 'Shengedaliang', 'Muzhuzhuliang', 'Xinhua', 'Wuzhuangguo', 'Shimao', 'Tonglin']\n",
    "\n",
    "#pD=\"/home/mel_yang/projects/bronzeage/\"\n",
    "#outpd=\"/mnt/solexa/mel_yang/bronzeage/Dstats/D_EAS_EAS_Tianyuan_P4/\"\n",
    "pD=\"/home/melinda_yang/data/HO_bronzeage/\"\n",
    "outpd=\"/home/melinda_yang/projects/bronzeage/TY_Dstats/\"\n",
    "fh=\"ind_A_v13_TBH4\"\n",
    "p4s=[\"Mbuti\"]\n",
    "myid = 'EAS'\n",
    "p3s = ['Tianyuan']\n",
    "\n",
    "\n",
    "for myp3 in p3s:\n",
    "    for myp4 in p4s:\n",
    "        for ind2,myset in enumerate(allids):\n",
    "            for ind3,myset3 in enumerate(allids):\n",
    "                if ind3%5!=0: continue\n",
    "                if ind2%5!=0: continue\n",
    "                ##(p1, p2, p3s, p4s)\n",
    "                p1,p2,p3,p4 = (allids[ind2:(ind2+5)],allids[ind3:(ind3+5)],myp3,myp4)\n",
    "                subset = myid+str(ind2)+'_'+myid+str(ind3)+'_'+p3+'_'+p4\n",
    "                mytups = [(i,j,p3,p4,'p1_'+i) for ind,i in enumerate(p1) for j in p2 if i != j and p3!=i and p3!=j]\n",
    "                pf.runD(p1,p2,mytups,pD,fh,subset,(0,1),(0,),fixed=(0,0,p3,p4),outpd=outpd)\n"
   ]
  },
  {
   "cell_type": "code",
   "execution_count": null,
   "metadata": {
    "collapsed": true
   },
   "outputs": [],
   "source": []
  },
  {
   "cell_type": "code",
   "execution_count": null,
   "metadata": {
    "collapsed": true
   },
   "outputs": [],
   "source": []
  },
  {
   "cell_type": "code",
   "execution_count": null,
   "metadata": {
    "collapsed": true
   },
   "outputs": [],
   "source": []
  },
  {
   "cell_type": "code",
   "execution_count": 16,
   "metadata": {},
   "outputs": [
    {
     "name": "stdout",
     "output_type": "stream",
     "text": [
      "['Daur', 'Hezhen', 'Mongola', 'Naxi', 'Oroqen', 'Ulchi', 'Xibo', 'Dai', 'Dong', 'Gelao', 'Lahu', 'Li', 'Maonan', 'Miao', 'Mulam', 'She', 'Tujia', 'Yi', 'Zhuang', 'Cambodian', 'Han_Chongqing', 'Han_Fujian', 'Han_Guandong', 'Han_Henan', 'Han_HGDP', 'Han_Hubei', 'Han_Jiangsu', 'Han_NChina', 'Han_Shandong', 'Han_Shanghai', 'Han_Shanxi', 'Han_Sichuan', 'Han_Zhejiang', 'Kinh_Vietnam_KHV', 'Korean', 'Thai', 'Qiang_Horpa', 'Tibetan_Chamdo', 'Tibetan_Gangcha', 'Tibetan_Gannan', 'Tibetan_Lhasa', 'Tibetan_Nagqu', 'Tibetan_Shannan', 'Tibetan_Shigatse', 'Tibetan_Xinlong', 'Tibetan_Xunhua', 'Tibetan_Yajiang', 'Japanese', 'Ami_Stoneking', 'Atayal_Stoneking', 'Tu', 'Dongxiang', 'Kyrgyz_China', 'Kyrgyz', 'Kazakh_China', 'Kazakh', 'Uygur', 'Mongol', 'Tibetan_Yunnan', 'Bunun', 'Tao', 'Burmese', 'Vietnamese', 'Paiwan', 'Rukai', 'Hakka', 'Minnan', 'Pingpu', 'Atayal_Coriell', 'Ami_Coriell', 'Bonan', 'Yugur_Eastern', 'Yugur_Western', 'Salar', 'Malay', 'Malayan', 'Chokhopani', 'Mebrak', 'Samdzong', 'Boisman_MN', 'Tianyuan', 'Boshan', 'Donghuigou', 'Balikun', 'Zhougongmiao', 'Yaojia', 'Linzi', 'XianShang', 'Zongri', 'Huoshaogou', 'Wuba', 'Xiaoshuangqiao', 'Guandimiao', 'Shengedaliang', 'Muzhuzhuliang', 'Xinhua', 'Wuzhuangguo', 'Shimao', 'Tonglin']\n",
      "99\n"
     ]
    }
   ],
   "source": [
    "import HOdata\n",
    "print HOdata.alleas\n",
    "print len(HOdata.alleas)"
   ]
  },
  {
   "cell_type": "code",
   "execution_count": null,
   "metadata": {
    "collapsed": true
   },
   "outputs": [],
   "source": []
  },
  {
   "cell_type": "code",
   "execution_count": null,
   "metadata": {
    "collapsed": true
   },
   "outputs": [],
   "source": []
  },
  {
   "cell_type": "code",
   "execution_count": null,
   "metadata": {
    "collapsed": true
   },
   "outputs": [],
   "source": []
  },
  {
   "cell_type": "code",
   "execution_count": null,
   "metadata": {
    "collapsed": true
   },
   "outputs": [],
   "source": []
  },
  {
   "cell_type": "code",
   "execution_count": null,
   "metadata": {
    "collapsed": true
   },
   "outputs": [],
   "source": [
    "%%writefile /home/mel_yang/projects/bronzeage/calcTibD001.py\n",
    "import plotting_funcs as pf\n",
    "\n",
    "eas = [\"Han_Chongqing\",\"Han_Fujian\",\"Han_Guandong\",\"Han_Henan\",\n",
    "          \"Han_HGDP\",\"Han_Hubei\",\"Han_Jiangsu\",\"Han_NChina\",\"Han_Shandong\",\"Han_Shanghai\",\n",
    "          \"Han_Shanxi\",\"Han_Sichuan\",\"Han_Zhejiang\",\"Korean\",\"Japanese\",\"Ulchi\",\"Xibo\"]\n",
    "tib=[\"Tibetan_Chamdo\",\"Tibetan_Gangcha\",\"Tibetan_Gannan\",\"Tibetan_Lhasa\",\n",
    "          \"Tibetan_Nagqu\",\"Tibetan_Shannan\",\"Tibetan_Shigatse\",\"Tibetan_Xinlong\",\n",
    "          \"Tibetan_Xunhua\"]\n",
    "allids=[\"Ami_Coriell\"]#\"Onge\",\n",
    "outs = [\"Mbuti\",\"Chimp\"]\n",
    "\n",
    "pD=\"/home/mel_yang/projects/bronzeage/\"\n",
    "fh=\"ind_A_v13_TBH\"\n",
    "\n",
    "for myp4 in outs:\n",
    "    for myancind in allids:\n",
    "        p1,p2,p3,p4 = (tib,eas,myancind,myp4)\n",
    "        subset = \"TIB\"+'_'+\"NHAN\"+'_'+p3+'_'+p4\n",
    "        mytups = [(i,j,p3,p4,'p2_'+i) for ind,i in enumerate(p1) for j in p2 if i != j and p3!=i and p3!=j]\n",
    "        pf.runD(p1,p2,mytups,pD,fh,subset,(0,1),(0,),fixed=(0,0,p3,p4))   "
   ]
  },
  {
   "cell_type": "code",
   "execution_count": 11,
   "metadata": {},
   "outputs": [
    {
     "name": "stdout",
     "output_type": "stream",
     "text": [
      "Overwriting /home/mel_yang/projects/bronzeage/qpGraph_oneattime.py\n"
     ]
    }
   ],
   "source": [
    "%%writefile /home/mel_yang/projects/bronzeage/qpGraph_oneattime.py\n",
    "#import TY_maindata as md\n",
    "import projmodules as pm\n",
    "import multiprocessing\n",
    "from multiprocessing import Pool\n",
    "\n",
    "pD=\"/home/mel_yang/projects/bronzeage/\"  \n",
    "subset=\"mEAS\"\n",
    "fh=\"ind_A_v13_TBH\"\n",
    "\n",
    "basegraphname,pop1,mypool = ('A0EAS','Tibetan_Shannan',1)\n",
    "pm.graph_addadmix_uniq(pD,fh,subset,basegraphname,[pop1,pop1],comments='NA',pool=mypool)\n",
    "pm.graph_addnode_uniq(pD,fh,subset,basegraphname,[pop1,pop1],comments='NA',pool=mypool)\n"
   ]
  },
  {
   "cell_type": "code",
   "execution_count": null,
   "metadata": {
    "collapsed": true
   },
   "outputs": [],
   "source": []
  }
 ],
 "metadata": {
  "kernelspec": {
   "display_name": "Python 2",
   "language": "python",
   "name": "python2"
  },
  "language_info": {
   "codemirror_mode": {
    "name": "ipython",
    "version": 2
   },
   "file_extension": ".py",
   "mimetype": "text/x-python",
   "name": "python",
   "nbconvert_exporter": "python",
   "pygments_lexer": "ipython2",
   "version": "2.7.13"
  }
 },
 "nbformat": 4,
 "nbformat_minor": 2
}
