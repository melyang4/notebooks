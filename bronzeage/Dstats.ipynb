{
 "cells": [
  {
   "cell_type": "code",
   "execution_count": 9,
   "metadata": {
    "collapsed": false
   },
   "outputs": [
    {
     "name": "stdout",
     "output_type": "stream",
     "text": [
      "Overwriting /home/mel_yang/projects/bronzeage/calcD_anceas.py\n"
     ]
    }
   ],
   "source": [
    "%%writefile /home/mel_yang/projects/bronzeage/calcD_anceas.py\n",
    "import plotting_funcs as pf\n",
    "import HOdata\n",
    "\n",
    "pD=\"/home/mel_yang/projects/bronzeage/\"\n",
    "outpd=\"/mnt/solexa/mel_yang/bronzeage/Dstats/D_AncEAS_AncEAS_P3_P4/\"\n",
    "fh=\"ind_A_v13_TBH4\"\n",
    "outs=[\"Mbuti\",\"French\"]\n",
    "anceas=HOdata.anceas2+HOdata.anceas\n",
    "anceas=['Tianyuan', 'Donghuigou', 'Balikun', 'Boshan', 'Zhougongmiao', 'Yaojia', 'Linzi', 'XianShang', 'Xiaoshuangqiao', 'Guandimiao', 'Tonglin', 'Zongri', 'Huoshaogou', 'Wuba', 'Shengedaliang', 'Muzhuzhuliang', 'Xinhua', 'Wuzhuangguo', 'Shimao', 'Boisman_MN', 'Chokhopani', 'Mebrak', 'Samdzong']\n",
    "pdeas=HOdata.alleas\n",
    "bsf,bsfsubset=(0,'all')\n",
    "\n",
    "for myp4 in outs:\n",
    "    for myind in pdeas:\n",
    "        p1,p2,p3,p4 = (anceas,anceas,myind,myp4)\n",
    "        subset = bsfsubset+'.'+\"AncEAS\"+'_'+\"AncEAS\"+'_'+p3+'_'+p4\n",
    "        mytups = [(i,j,p3,p4,'p2_'+i) for ind,i in enumerate(p1) for j in p2 if i != j and p3!=i and p3!=j]\n",
    "        pf.runD(p1,p2,mytups,pD,fh,subset,(0,1),(0,),fixed=(0,0,p3,p4),badsnpfile=bsf,outpd=outpd) ##indfilename=fh+\".hgdplabeled\"  \n"
   ]
  },
  {
   "cell_type": "code",
   "execution_count": 15,
   "metadata": {
    "collapsed": false
   },
   "outputs": [
    {
     "name": "stdout",
     "output_type": "stream",
     "text": [
      "Overwriting /home/mel_yang/projects/bronzeage/calcD_anceas.py\n"
     ]
    }
   ],
   "source": [
    "%%writefile /home/mel_yang/projects/bronzeage/calcD_anceas.py\n",
    "##HO data, D(EAS, EAS, TY, Mbuti)\n",
    "import plotting_funcs as pf\n",
    "#import HOdata\n",
    "allids=['Daur', 'Hezhen', 'Mongola', 'Naxi', 'Oroqen', 'Ulchi', 'Xibo', 'Dai', 'Dong', 'Gelao', 'Lahu', 'Li', 'Maonan', 'Miao', 'Mulam', 'She', 'Tujia', 'Yi', 'Zhuang', 'Cambodian', 'Han_Chongqing', 'Han_Fujian', 'Han_Guandong', 'Han_Henan', 'Han_HGDP', 'Han_Hubei', 'Han_Jiangsu', 'Han_NChina', 'Han_Shandong', 'Han_Shanghai', 'Han_Shanxi', 'Han_Sichuan', 'Han_Zhejiang', 'Kinh_Vietnam_KHV', 'Korean', 'Thai', 'Qiang_Horpa', 'Tibetan_Chamdo', 'Tibetan_Gangcha', 'Tibetan_Gannan', 'Tibetan_Lhasa', 'Tibetan_Nagqu', 'Tibetan_Shannan', 'Tibetan_Shigatse', 'Tibetan_Xinlong', 'Tibetan_Xunhua', 'Tibetan_Yajiang', 'Japanese', 'Ami_Stoneking', 'Atayal_Stoneking', 'Tu', 'Dongxiang', 'Kyrgyz_China', 'Kyrgyz', 'Kazakh_China', 'Kazakh', 'Uygur', 'Mongol', 'Tibetan_Yunnan', 'Bunun', 'Tao', 'Burmese', 'Vietnamese', 'Paiwan', 'Rukai', 'Hakka', 'Minnan', 'Pingpu', 'Atayal_Coriell', 'Ami_Coriell', 'Bonan', 'Yugur_Eastern', 'Yugur_Western', 'Salar', 'Malay', 'Malayan', 'Chokhopani', 'Mebrak', 'Samdzong', 'Boisman_MN', 'Tianyuan', 'Boshan', 'Donghuigou', 'Balikun', 'Zhougongmiao', 'Yaojia', 'Linzi', 'XianShang', 'Zongri', 'Huoshaogou', 'Wuba', 'Xiaoshuangqiao', 'Guandimiao', 'Shengedaliang', 'Muzhuzhuliang', 'Xinhua', 'Wuzhuangguo', 'Shimao', 'Tonglin']\n",
    "\n",
    "#pD=\"/home/mel_yang/projects/bronzeage/\"\n",
    "#outpd=\"/mnt/solexa/mel_yang/bronzeage/Dstats/D_EAS_EAS_Tianyuan_P4/\"\n",
    "pD=\"/home/melinda_yang/data/HO_bronzeage/\"\n",
    "outpd=\"/home/melinda_yang/projects/bronzeage/TY_Dstats/\"\n",
    "fh=\"ind_A_v13_TBH4\"\n",
    "p4s=[\"Mbuti\"]\n",
    "myid = 'EAS'\n",
    "p3s = ['Tianyuan']\n",
    "\n",
    "\n",
    "for myp3 in p3s:\n",
    "    for myp4 in p4s:\n",
    "        for ind2,myset in enumerate(allids):\n",
    "            for ind3,myset3 in enumerate(allids):\n",
    "                if ind3%5!=0: continue\n",
    "                if ind2%5!=0: continue\n",
    "                ##(p1, p2, p3s, p4s)\n",
    "                p1,p2,p3,p4 = (allids[ind2:(ind2+5)],allids[ind3:(ind3+5)],myp3,myp4)\n",
    "                subset = myid+str(ind2)+'_'+myid+str(ind3)+'_'+p3+'_'+p4\n",
    "                mytups = [(i,j,p3,p4,'p1_'+i) for ind,i in enumerate(p1) for j in p2 if i != j and p3!=i and p3!=j]\n",
    "                pf.runD(p1,p2,mytups,pD,fh,subset,(0,1),(0,),fixed=(0,0,p3,p4),outpd=outpd)\n"
   ]
  },
  {
   "cell_type": "code",
   "execution_count": null,
   "metadata": {
    "collapsed": true
   },
   "outputs": [],
   "source": []
  },
  {
   "cell_type": "code",
   "execution_count": null,
   "metadata": {
    "collapsed": true
   },
   "outputs": [],
   "source": []
  },
  {
   "cell_type": "code",
   "execution_count": null,
   "metadata": {
    "collapsed": true
   },
   "outputs": [],
   "source": []
  },
  {
   "cell_type": "code",
   "execution_count": 16,
   "metadata": {
    "collapsed": false
   },
   "outputs": [
    {
     "name": "stdout",
     "output_type": "stream",
     "text": [
      "['Daur', 'Hezhen', 'Mongola', 'Naxi', 'Oroqen', 'Ulchi', 'Xibo', 'Dai', 'Dong', 'Gelao', 'Lahu', 'Li', 'Maonan', 'Miao', 'Mulam', 'She', 'Tujia', 'Yi', 'Zhuang', 'Cambodian', 'Han_Chongqing', 'Han_Fujian', 'Han_Guandong', 'Han_Henan', 'Han_HGDP', 'Han_Hubei', 'Han_Jiangsu', 'Han_NChina', 'Han_Shandong', 'Han_Shanghai', 'Han_Shanxi', 'Han_Sichuan', 'Han_Zhejiang', 'Kinh_Vietnam_KHV', 'Korean', 'Thai', 'Qiang_Horpa', 'Tibetan_Chamdo', 'Tibetan_Gangcha', 'Tibetan_Gannan', 'Tibetan_Lhasa', 'Tibetan_Nagqu', 'Tibetan_Shannan', 'Tibetan_Shigatse', 'Tibetan_Xinlong', 'Tibetan_Xunhua', 'Tibetan_Yajiang', 'Japanese', 'Ami_Stoneking', 'Atayal_Stoneking', 'Tu', 'Dongxiang', 'Kyrgyz_China', 'Kyrgyz', 'Kazakh_China', 'Kazakh', 'Uygur', 'Mongol', 'Tibetan_Yunnan', 'Bunun', 'Tao', 'Burmese', 'Vietnamese', 'Paiwan', 'Rukai', 'Hakka', 'Minnan', 'Pingpu', 'Atayal_Coriell', 'Ami_Coriell', 'Bonan', 'Yugur_Eastern', 'Yugur_Western', 'Salar', 'Malay', 'Malayan', 'Chokhopani', 'Mebrak', 'Samdzong', 'Boisman_MN', 'Tianyuan', 'Boshan', 'Donghuigou', 'Balikun', 'Zhougongmiao', 'Yaojia', 'Linzi', 'XianShang', 'Zongri', 'Huoshaogou', 'Wuba', 'Xiaoshuangqiao', 'Guandimiao', 'Shengedaliang', 'Muzhuzhuliang', 'Xinhua', 'Wuzhuangguo', 'Shimao', 'Tonglin']\n",
      "99\n"
     ]
    }
   ],
   "source": [
    "import HOdata\n",
    "print HOdata.alleas\n",
    "print len(HOdata.alleas)"
   ]
  },
  {
   "cell_type": "code",
   "execution_count": null,
   "metadata": {
    "collapsed": true
   },
   "outputs": [],
   "source": []
  },
  {
   "cell_type": "code",
   "execution_count": null,
   "metadata": {
    "collapsed": true
   },
   "outputs": [],
   "source": []
  },
  {
   "cell_type": "code",
   "execution_count": null,
   "metadata": {
    "collapsed": true
   },
   "outputs": [],
   "source": []
  },
  {
   "cell_type": "code",
   "execution_count": null,
   "metadata": {
    "collapsed": true
   },
   "outputs": [],
   "source": []
  },
  {
   "cell_type": "code",
   "execution_count": null,
   "metadata": {
    "collapsed": true
   },
   "outputs": [],
   "source": [
    "%%writefile /home/mel_yang/projects/bronzeage/calcTibD001.py\n",
    "import plotting_funcs as pf\n",
    "\n",
    "eas = [\"Han_Chongqing\",\"Han_Fujian\",\"Han_Guandong\",\"Han_Henan\",\n",
    "          \"Han_HGDP\",\"Han_Hubei\",\"Han_Jiangsu\",\"Han_NChina\",\"Han_Shandong\",\"Han_Shanghai\",\n",
    "          \"Han_Shanxi\",\"Han_Sichuan\",\"Han_Zhejiang\",\"Korean\",\"Japanese\",\"Ulchi\",\"Xibo\"]\n",
    "tib=[\"Tibetan_Chamdo\",\"Tibetan_Gangcha\",\"Tibetan_Gannan\",\"Tibetan_Lhasa\",\n",
    "          \"Tibetan_Nagqu\",\"Tibetan_Shannan\",\"Tibetan_Shigatse\",\"Tibetan_Xinlong\",\n",
    "          \"Tibetan_Xunhua\"]\n",
    "allids=[\"Ami_Coriell\"]#\"Onge\",\n",
    "outs = [\"Mbuti\",\"Chimp\"]\n",
    "\n",
    "pD=\"/home/mel_yang/projects/bronzeage/\"\n",
    "fh=\"ind_A_v13_TBH\"\n",
    "\n",
    "for myp4 in outs:\n",
    "    for myancind in allids:\n",
    "        p1,p2,p3,p4 = (tib,eas,myancind,myp4)\n",
    "        subset = \"TIB\"+'_'+\"NHAN\"+'_'+p3+'_'+p4\n",
    "        mytups = [(i,j,p3,p4,'p2_'+i) for ind,i in enumerate(p1) for j in p2 if i != j and p3!=i and p3!=j]\n",
    "        pf.runD(p1,p2,mytups,pD,fh,subset,(0,1),(0,),fixed=(0,0,p3,p4))   "
   ]
  },
  {
   "cell_type": "code",
   "execution_count": 11,
   "metadata": {
    "collapsed": false
   },
   "outputs": [
    {
     "name": "stdout",
     "output_type": "stream",
     "text": [
      "Overwriting /home/mel_yang/projects/bronzeage/qpGraph_oneattime.py\n"
     ]
    }
   ],
   "source": [
    "%%writefile /home/mel_yang/projects/bronzeage/qpGraph_oneattime.py\n",
    "#import TY_maindata as md\n",
    "import projmodules as pm\n",
    "import multiprocessing\n",
    "from multiprocessing import Pool\n",
    "\n",
    "pD=\"/home/mel_yang/projects/bronzeage/\"  \n",
    "subset=\"mEAS\"\n",
    "fh=\"ind_A_v13_TBH\"\n",
    "\n",
    "basegraphname,pop1,mypool = ('A0EAS','Tibetan_Shannan',1)\n",
    "pm.graph_addadmix_uniq(pD,fh,subset,basegraphname,[pop1,pop1],comments='NA',pool=mypool)\n",
    "pm.graph_addnode_uniq(pD,fh,subset,basegraphname,[pop1,pop1],comments='NA',pool=mypool)\n"
   ]
  },
  {
   "cell_type": "code",
   "execution_count": null,
   "metadata": {
    "collapsed": true
   },
   "outputs": [],
   "source": []
  }
 ],
 "metadata": {
  "kernelspec": {
   "display_name": "Python 2",
   "language": "python",
   "name": "python2"
  },
  "language_info": {
   "codemirror_mode": {
    "name": "ipython",
    "version": 2
   },
   "file_extension": ".py",
   "mimetype": "text/x-python",
   "name": "python",
   "nbconvert_exporter": "python",
   "pygments_lexer": "ipython2",
   "version": "2.7.6"
  }
 },
 "nbformat": 4,
 "nbformat_minor": 2
}
