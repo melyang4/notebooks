{
 "cells": [
  {
   "cell_type": "code",
   "execution_count": 2,
   "metadata": {
    "collapsed": false
   },
   "outputs": [
    {
     "name": "stdout",
     "output_type": "stream",
     "text": [
      "['Chokhopani', 'Mebrak', 'Samdzong', 'Boisman_MN', 'Tianyuan', 'Boshan', 'Donghuigou', 'Balikun', 'Zhougongmiao', 'Yaojia', 'Linzi', 'XianShang', 'Zongri', 'Huoshaogou', 'Wuba', 'Xiaoshuangqiao', 'Guandimiao', 'Shengedaliang', 'Muzhuzhuliang', 'Xinhua', 'Wuzhuangguo', 'Shimao', 'Tonglin', 'Dashuitian', 'Longlin', 'Bbdong', 'Taosi', 'Xinyi', 'Pukagongma', 'Redilong', 'Butaxiongqu', 'Gelintang', 'Yingpanshan', 'Mougou', 'Sanheyi', 'Yusu', 'Jinchankou', 'Jomon']\n"
     ]
    },
    {
     "data": {
      "text/plain": [
       "'Made par file for convertf!'"
      ]
     },
     "execution_count": 2,
     "metadata": {},
     "output_type": "execute_result"
    }
   ],
   "source": [
    "import HOdata\n",
    "import projmodules as pm\n",
    "pdeas=HOdata.anceas+HOdata.anceas2+HOdata.anceas3\n",
    "print pdeas\n",
    "baseDir = \"/mnt/solexa/mel_yang/bronzeage/data/\"\n",
    "fh=\"ind_A_v13_TBH5\"\n",
    "newname = 'ancEAS'\n",
    "pm.indtoignore(pdeas, baseDir+fh+'.ind', baseDir+fh+'.'+newname+'.ind')\n",
    "pm.convertf_par(baseDir+fh,baseDir+fh+'.'+newname+'.ped','PED',baseDir+\n",
    "                'CONVERTF.'+fh+'.'+newname+'.par',indfilename=baseDir+fh+'.'+newname)"
   ]
  },
  {
   "cell_type": "code",
   "execution_count": 149,
   "metadata": {
    "collapsed": false
   },
   "outputs": [
    {
     "name": "stdout",
     "output_type": "stream",
     "text": [
      "plink --noweb --bfile /mnt/solexa/mel_yang/bronzeage/admixture/ind_A_v13_TBH5.ancEAS --extract /mnt/solexa/mel_yang/bronzeage/admixture/plink.200_25_0.5.prune.in --make-bed --out /mnt/solexa/mel_yang/bronzeage/admixture/ind_A_v13_TBH5.ancEAS.pdEASsnps\n"
     ]
    }
   ],
   "source": [
    "%%bash\n",
    "pd=\"/mnt/solexa/mel_yang/bronzeage/admixture/\" #NEED TO MOVE TO admixture/ FIRST\n",
    "fh=\"ind_A_v13_TBH5.ancEAS\"\n",
    "idp=\".200_25_0.5\"\n",
    "#cp ${pd}${fh}.ped.geno ${pd}${fh}.ped\n",
    "#cp ${pd}${fh}.ped.ind ${pd}${fh}.pedind\n",
    "#cut -c1-41 ${pd}${fh}.ped.snp > ${pd}${fh}.map\n",
    "\n",
    "#echo \"plink --noweb --file ${pd}${fh} --make-bed --out ${pd}${fh} --geno 0.999\"\n",
    "#echo \"plink --noweb --file ${pd}${fh} --make-bed --out ${pd}${fh}\"\n",
    "#echo \"plink --noweb --bfile ${pd}${fh} --indep-pairwise 200 25 0.5 --out ${pd}plink${idp}\" ##Prune dataset, using 200 SNP windows, step 25 SNPs, remove SNP pairs with R^2>0.5\n",
    "#echo \"plink --noweb --bfile ${pd}${fh} --extract ${pd}plink${idp}.prune.in --make-bed --out ${pd}${fh}_pruned${idp}\"  ##Keep set of untargeted SNPs from above\n",
    "\n",
    "echo \"plink --noweb --bfile ${pd}${fh} --extract ${pd}plink${idp}.prune.in --make-bed --out ${pd}${fh}.pdEASsnps\" ##Project pd SNPs onto anc "
   ]
  },
  {
   "cell_type": "code",
   "execution_count": 147,
   "metadata": {
    "collapsed": false
   },
   "outputs": [
    {
     "name": "stdout",
     "output_type": "stream",
     "text": [
      "Overwriting /mnt/solexa/mel_yang/bronzeage/admixture/runadmixture.sh\n"
     ]
    }
   ],
   "source": [
    "%%writefile /mnt/solexa/mel_yang/bronzeage/admixture/runadmixture.sh\n",
    "#%%bash\n",
    "##also do cv at runadmixturecv.sh\n",
    "\n",
    "pd=\"/mnt/solexa/mel_yang/bronzeage/admixture/\"\n",
    "fh=\"ind_A_v13_TBH5.pdEAS_pruned.200_25_0.5\"\n",
    "fh=\"ind_A_v13_TBH5.ancEAS.pdEASsnps\"\n",
    "for K in `seq 2 10`; do \n",
    "    #admixture --cv ${pd}${fh}.bed ${K} > ${pd}${fh}.admix.log${K}.out\n",
    "    admixture -P ${pd}${fh}.bed ${K} > ${pd}${fh}.admix.log${K}.out\n",
    "    #admixture ${pd}${fh}.bed ${K} > ${pd}${fh}.admix.${K}.out &\n",
    "    #admixture --cv ${pd}${fh}.bed ${K} | tee ${pd}${fh}.admix.log${K}.out\n",
    "    #echo \"admixture --cv ${pd}${fh}.bed ${K} > ${pd}${fh}.admix.log${K}.out\"\n",
    "    #echo \"admixture ${pd}${fh}.bed ${K} > ${pd}${fh}.admix.${K}.out\"\n",
    "done\n",
    "\n",
    "#grep -h CV ${pd}${fh}.admix.log*out > ${pd}${fh}.admix.CVerror ##get CVerrors"
   ]
  },
  {
   "cell_type": "code",
   "execution_count": 143,
   "metadata": {
    "collapsed": false
   },
   "outputs": [],
   "source": [
    "##Get same SNPs in anc for projection\n",
    "pd=\"/mnt/solexa/mel_yang/bronzeage/admixture/\"\n",
    "fh1=\"ind_A_v13_TBH5.pdEAS\"\n",
    "fh2=\"ind_A_v13_TBH5.ancEAS\"\n",
    "subset=\"_pruned.200_25_0.5\"\n",
    "pdfile=open(pd+fh1+subset+\".bim\",'r')\n",
    "snps=[line.split()[1] for line in pdfile]\n",
    "pdfile.close()\n",
    "ancfile=open(pd+fh2+\".bim\",'r')\n",
    "newfile=open(pd+fh2+\".pdEASsnps.bim\",'w')\n",
    "for line in ancfile: \n",
    "    if line.split()[1] in snps: newfile.write(line)\n",
    "    else: continue\n",
    "ancfile.close()\n",
    "newfile.close()"
   ]
  },
  {
   "cell_type": "code",
   "execution_count": 150,
   "metadata": {
    "collapsed": false
   },
   "outputs": [
    {
     "name": "stdout",
     "output_type": "stream",
     "text": [
      "Overwriting /mnt/solexa/mel_yang/bronzeage/admixture/admixtureplot.R\n"
     ]
    }
   ],
   "source": [
    "%%writefile /mnt/solexa/mel_yang/bronzeage/admixture/admixtureplot.R\n",
    "##MAKE ADMIXTURE PLOT\n",
    "pd=\"/mnt/solexa/mel_yang/bronzeage/admixture/\"\n",
    "fh=\"ind_A_v13_TBH5.ancEAS.pdEASsnps\"\n",
    "mypops=c('Daur', 'Hezhen', 'Mongola', 'Naxi', 'Oroqen', 'Ulchi', 'Xibo', \n",
    "         'Dai', 'Dong', 'Gelao', 'Lahu', 'Li', 'Maonan', 'Miao', 'Mulam', \n",
    "         'She', 'Tujia', 'Yi', 'Zhuang', 'Cambodian', 'Han_Chongqing', \n",
    "         'Han_Fujian', 'Han_Guandong', 'Han_Henan', 'Han_HGDP', 'Han_Hubei', \n",
    "         'Han_Jiangsu', 'Han_NChina', 'Han_Shandong', 'Han_Shanghai', \n",
    "         'Han_Shanxi', 'Han_Sichuan', 'Han_Zhejiang', 'Kinh_Vietnam_KHV', \n",
    "         'Korean', 'Thai', 'Qiang_Horpa', 'Tibetan_Chamdo', 'Tibetan_Gangcha', \n",
    "         'Tibetan_Gannan', 'Tibetan_Lhasa', 'Tibetan_Nagqu', 'Tibetan_Shannan', \n",
    "         'Tibetan_Shigatse', 'Tibetan_Xinlong', 'Tibetan_Xunhua', \n",
    "         'Tibetan_Yajiang', 'Japanese', 'Ami_Stoneking', 'Atayal_Stoneking', \n",
    "         'Tu', 'Dongxiang', 'Kyrgyz_China', 'Kyrgyz', 'Kazakh_China', 'Kazakh', \n",
    "         'Uygur', 'Mongol', 'Tibetan_Yunnan', 'Bunun', 'Tao', 'Burmese', \n",
    "         'Vietnamese', 'Paiwan', 'Rukai', 'Hakka', 'Minnan', 'Pingpu', \n",
    "         'Atayal_Coriell', 'Ami_Coriell', 'Bonan', 'Yugur_Eastern', \n",
    "         'Yugur_Western', 'Salar', 'Malay', 'Malayan') \n",
    "mypops=c('Chokhopani', 'Mebrak', 'Samdzong', 'Boisman_MN', 'Tianyuan', 'Boshan', \n",
    "         'Donghuigou', 'Balikun', 'Zhougongmiao', 'Yaojia', 'Linzi', 'XianShang', \n",
    "         'Zongri', 'Huoshaogou', 'Wuba', 'Xiaoshuangqiao', 'Guandimiao', 'Shengedaliang', \n",
    "         'Muzhuzhuliang', 'Xinhua', 'Wuzhuangguo', 'Shimao', 'Tonglin', 'Dashuitian', \n",
    "         'Longlin', 'Bbdong', 'Taosi', 'Xinyi', 'Pukagongma', 'Redilong', 'Butaxiongqu', \n",
    "         'Gelintang', 'Yingpanshan', 'Mougou', 'Sanheyi', 'Yusu', 'Jinchankou', 'Jomon')\n",
    "subset='anc_proj_pd'\n",
    "num=5\n",
    "for (K in c(num)) {\n",
    "    tbl=read.table(paste(pd,fh,\".\",K,\".wID.Q\",sep=\"\"))\n",
    "    #print (tbl)\n",
    "    #tbl=tbl[with(tbl,order(tbl[,K+3],tbl[,4],tbl[,1],tbl[,2],tbl[,3])),] ##4\n",
    "    #tbl=tbl[with(tbl,order(tbl[,K+3],tbl[,1],tbl[,2])),] ##2\n",
    "    tbl=tbl[with(tbl,order(tbl[,K+3],tbl[,5],tbl[,4],tbl[,2],tbl[,3],tbl[,1])),] ##5\n",
    "    if (K==num){\n",
    "       tblnames=c()\n",
    "        for (i in tbl[,K+3]) {\n",
    "        \tif (i %in% mypops) {\n",
    "                 if (i %in% tblnames==TRUE) {\n",
    "                    tblnames=c(tblnames,\" \")\n",
    "                }\n",
    "                else {\n",
    "                    tblnames=c(tblnames,i)\n",
    "                }        \n",
    "            }\n",
    "        } \n",
    "    }\n",
    "    print (tblnames)\n",
    "    png(paste(pd,\"images/\",fh,\".\",subset,\".\",K,\".png\",sep=\"\"),width=2400,height=600)\n",
    "    #subtbl=subset(tbl,V7%in%mypops)[,1:4] ##4\n",
    "    #subtbl=subset(tbl,V5%in%mypops)[,1:4] ##2\n",
    "    subtbl=subset(tbl,V8%in%mypops)[,1:4] ##5\n",
    "\n",
    "    barplot(t(as.matrix(subtbl)), col=rainbow(K-1),xlab=\"Individual #\", ylab=\"Ancestry\", border=NA,names.arg=tblnames,las=2,cex.names=0.7)\n",
    "    dev.off()   \n",
    "}"
   ]
  },
  {
   "cell_type": "code",
   "execution_count": 151,
   "metadata": {
    "collapsed": true
   },
   "outputs": [],
   "source": [
    "%%bash\n",
    "pd=\"/mnt/solexa/mel_yang/bronzeage/admixture/\"\n",
    "indfh=\"ind_A_v13_TBH5.ancEAS\"\n",
    "Qfh=\"ind_A_v13_TBH5.ancEAS.pdEASsnps\"\n",
    "K=2\n",
    "for K in 5; do # 5 6 7 8 9 10; do \n",
    "    grep -v Ignore ${pd}${indfh}.ind > ${pd}${indfh}.noIgnore.ind\n",
    "    paste ${pd}${Qfh}.${K}.Q ${pd}${indfh}.noIgnore.ind > ${pd}${Qfh}.${K}.wID.Q\n",
    "done"
   ]
  },
  {
   "cell_type": "code",
   "execution_count": 152,
   "metadata": {
    "collapsed": true
   },
   "outputs": [],
   "source": [
    "%%bash\n",
    "R CMD BATCH /mnt/solexa/mel_yang/bronzeage/admixture/admixtureplot.R\n",
    "mv /home/mel_yang/notebooks/bronzeage/admixtureplot.Rout /mnt/solexa/mel_yang/bronzeage/admixture/"
   ]
  },
  {
   "cell_type": "code",
   "execution_count": 155,
   "metadata": {
    "collapsed": false
   },
   "outputs": [
    {
     "data": {
      "image/png": "[encoded data removed]",
      "text/plain": [
       "<IPython.core.display.Image object>"
      ]
     },
     "execution_count": 155,
     "metadata": {},
     "output_type": "execute_result"
    }
   ],
   "source": [
    "from IPython.core.display import Image \n",
    "pd=\"/mnt/solexa/mel_yang/bronzeage/admixture/images/\"\n",
    "#fh=\"ind_A_v13_TBH5.pdEAS_pruned.200_25_0.5\"\n",
    "fh=\"ind_A_v13_TBH5.ancEAS.pdEASsnps\"\n",
    "#subset=\"pd.\"\n",
    "subset=\"anc_proj_pd.\"\n",
    "K=5\n",
    "Image(pd+fh+\".\"+subset+str(K)+\".png\") "
   ]
  },
  {
   "cell_type": "code",
   "execution_count": null,
   "metadata": {
    "collapsed": true
   },
   "outputs": [],
   "source": []
  },
  {
   "cell_type": "code",
   "execution_count": null,
   "metadata": {
    "collapsed": true
   },
   "outputs": [],
   "source": []
  },
  {
   "cell_type": "code",
   "execution_count": null,
   "metadata": {
    "collapsed": true
   },
   "outputs": [],
   "source": []
  },
  {
   "cell_type": "code",
   "execution_count": null,
   "metadata": {
    "collapsed": true
   },
   "outputs": [],
   "source": []
  },
  {
   "cell_type": "code",
   "execution_count": 12,
   "metadata": {
    "collapsed": false
   },
   "outputs": [],
   "source": [
    "##MAKE .pop file for ADMIXTURE -- set certain reference popns for supervised Admixture analysis\n",
    "\n",
    "pd=\"/mnt/solexa/mel_yang/bronzeage/admixture/\"\n",
    "fh=\"ind_A_v13_TBH.allpdeas_weurFS\"\n",
    "newfh=\"ind_A_v13_TBH.allpdeas_weurFS_pruned.200_25_0.5\"\n",
    "\n",
    "#indfile=open(pd+fh+\"_pruned.200_25_0.5.noIgnore.ind\",'r')\n",
    "indfile=open(pd+fh+\".noIgnore.ind\",'r')\n",
    "newfile=open(pd+newfh+\".pop\",'w')\n",
    "for line in indfile: \n",
    "    x=line.split()\n",
    "    if x[2] in [\"French\",\"Sardinian\"]: newfile.write(\"EUR\\n\")\n",
    "    elif x[2] in [\"Han_HGDP\"]: newfile.write(\"CHB\\n\")\n",
    "    else: newfile.write(\"-\\n\")\n",
    "indfile.close()\n",
    "newfile.close()"
   ]
  },
  {
   "cell_type": "code",
   "execution_count": null,
   "metadata": {
    "collapsed": true
   },
   "outputs": [],
   "source": []
  },
  {
   "cell_type": "code",
   "execution_count": null,
   "metadata": {
    "collapsed": true
   },
   "outputs": [],
   "source": []
  },
  {
   "cell_type": "code",
   "execution_count": 17,
   "metadata": {
    "collapsed": false
   },
   "outputs": [
    {
     "name": "stdout",
     "output_type": "stream",
     "text": [
      "Overwriting /mnt/solexa/mel_yang/bronzeage/admixture/runsupervisedadmixture.sh\n"
     ]
    }
   ],
   "source": [
    "%%writefile /mnt/solexa/mel_yang/bronzeage/admixture/runsupervisedadmixture.sh\n",
    "##also do cv at runadmixturecv.sh\n",
    "\n",
    "pd=\"/mnt/solexa/mel_yang/bronzeage/admixture/\"\n",
    "fh=\"ind_A_v13_TBH.allpdeas_weurFS_pruned.200_25_0.5\"\n",
    "subset=\"refHan_HGDP_eurFS\"\n",
    "for K in `seq 2 7`; do \n",
    "    echo ${K}\n",
    "    #admixture --cv ${pd}${fh}.bed ${K} > ${pd}${fh}.admix.log${K}.out\n",
    "    admixture --supervised ${pd}${fh}.bed ${K} > ${pd}${fh}.ref${subset}.${K}.out &\n",
    "done\n",
    "\n",
    "#grep -h CV ${pd}${fh}.admix.log*out > ${pd}${fh}.admix.CVerror ##get CVerrors\n"
   ]
  },
  {
   "cell_type": "code",
   "execution_count": null,
   "metadata": {
    "collapsed": true
   },
   "outputs": [],
   "source": []
  }
 ],
 "metadata": {
  "kernelspec": {
   "display_name": "Python 2",
   "language": "python",
   "name": "python2"
  },
  "language_info": {
   "codemirror_mode": {
    "name": "ipython",
    "version": 2
   },
   "file_extension": ".py",
   "mimetype": "text/x-python",
   "name": "python",
   "nbconvert_exporter": "python",
   "pygments_lexer": "ipython2",
   "version": "2.7.6"
  }
 },
 "nbformat": 4,
 "nbformat_minor": 2
}
