{
 "cells": [
  {
   "cell_type": "code",
   "execution_count": 8,
   "metadata": {
    "collapsed": false
   },
   "outputs": [
    {
     "name": "stdout",
     "output_type": "stream",
     "text": [
      "Overwriting /home/melinda_yang/ivpp/bronzeage/calcdadilik.py\n"
     ]
    }
   ],
   "source": [
    "%%writefile /home/melinda_yang/ivpp/bronzeage/calcdadilik.py\n",
    "from dadi import Numerics , PhiManip , Integration , Spectrum, Misc, Inference\n",
    "\n",
    "pd=\"/home/melinda_yang/ivpp/bronzeage/\"\n",
    "fh=\"ind_A_v13_TBH\"\n",
    "datdict=Misc.make_data_dict(pd+fh+\".dadisnp\")\n",
    "popids=[\"Yoruba\",\"French\",\"Han_HGDP\"]\n",
    "popss=[5,5,5]\n",
    "ss=5\n",
    "fs=Spectrum.from_data_dict(datdict,popids,[ss,ss,ss])\n",
    "data=fs\n",
    "ns=fs.sample_sizes\n",
    "print \n",
    "def OutOfAfrica ((nuAf,nuB,nuEu0,nuEu,nuAs0,nuAs,mAfB,mAfEu,mAfAs,mEuAs,TAf,TB,TEuAs),\n",
    "                 (n1,n2,n3),pts):\n",
    "    xx = Numerics.default_grid(pts)\n",
    "    phi = PhiManip.phi_1D(xx)\n",
    "    phi = Integration.one_pop(phi,xx,TAf,nu=nuAf)\n",
    "    phi = PhiManip.phi_1D_to_2D(xx,phi)\n",
    "    phi = Integration.two_pops(phi,xx,TB,nu1=nuAf,nu2=nuB,m12=mAfB,m21=mAfB)\n",
    "    phi = PhiManip.phi_2D_to_3D_split_2 ( xx , phi )\n",
    "    nuEu_func = lambda t : nuEu0 *( nuEu / nuEu0 )**( t / TEuAs )\n",
    "    nuAs_func = lambda t : nuAs0 *( nuAs / nuAs0 )**( t / TEuAs )\n",
    "    phi = Integration.three_pops(phi,xx,TEuAs,nu1 = nuAf,nu2=nuEu_func,nu3=nuAs_func,\n",
    "                                 m12=mAfEu,m13=mAfAs,m21=mAfEu,m23=mEuAs,m31=mAfAs,m32=mEuAs)\n",
    "    fs = Spectrum.from_phi(phi,(n1,n2,n3),(xx,xx,xx))\n",
    "    return fs\n",
    "\n",
    "pts_l=[40,50,60]\n",
    "func=OutOfAfrica\n",
    "##(nuAf,nuB,nuEu0,nuEu,nuAs0,nuAs,mAfB,mAfEu,mAfAs,mEuAs,TAf,TB,TEuAs)\n",
    "upper_bound=[100,100,100,100,100,100,10,10,10,10,3,3,3]\n",
    "lower_bound=[1e-2,1e-2,1e-2,1e-2,1e-2,1e-2,0,0,0,0,0,0,0]\n",
    "p0=[2,2,2,2,2,2,1,1,1,1,1,1,1]\n",
    "func_ex = Numerics.make_extrap_log_func(func)\n",
    "p0 = Misc.perturb_params(p0,fold=1,upper_bound=upper_bound,lower_bound=lower_bound)\n",
    "print('Beginning optimization ************************************************')\n",
    "popt = Inference.optimize_log(p0, data, func_ex, pts_l, \n",
    "                                   lower_bound=lower_bound,\n",
    "                                   upper_bound=upper_bound,\n",
    "                                   verbose=len(p0), maxiter=3)\n",
    "print('Finshed optimization **************************************************')\n",
    "print('Best-fit parameters: {0}'.format(popt))\n",
    "# Calculate the best-fit model AFS.\n",
    "model = func_ex(popt, ns, pts_l)\n",
    "# Likelihood of the data given the model AFS.\n",
    "ll_model = Inference.ll_multinom(model, data)\n",
    "print('Maximum log composite likelihood: {0}'.format(ll_model))\n",
    "# The optimal value of theta given the model.\n",
    "theta = Inference.optimal_sfs_scaling(model, data)\n",
    "print('Optimal value of theta: {0}'.format(theta))\n"
   ]
  },
  {
   "cell_type": "code",
   "execution_count": 7,
   "metadata": {
    "collapsed": false
   },
   "outputs": [
    {
     "name": "stdout",
     "output_type": "stream",
     "text": [
      "[5 5 5]\n"
     ]
    }
   ],
   "source": [
    "from dadi import Numerics , PhiManip , Integration , Spectrum, Misc, Inference\n",
    "\n",
    "pd=\"/home/melinda_yang/ivpp/bronzeage/\"\n",
    "fh=\"ind_A_v13_TBH\"\n",
    "datdict=Misc.make_data_dict(pd+fh+\".dadisnp\")\n",
    "popids=[\"Yoruba\",\"French\",\"Han_HGDP\"]\n",
    "\n",
    "ss=5\n",
    "fs=Spectrum.from_data_dict(datdict,popids,[ss,ss,ss])\n",
    "data=fs\n",
    "print fs.sample_sizes"
   ]
  },
  {
   "cell_type": "code",
   "execution_count": 18,
   "metadata": {
    "collapsed": false
   },
   "outputs": [],
   "source": [
    "##Make SNP file in dadi format\n",
    "##| Human | Chimp | Allele1 | YRI | CEU | Allele2 | YRI | CEU |  Gene | Position |\n",
    "import collections\n",
    "import gzip\n",
    "import numpy as np\n",
    "import itertools\n",
    "\n",
    "pd=\"/home/melinda_yang/ivpp/bronzeage/\"\n",
    "fh=\"ind_A_v13_TBH\"\n",
    "\n",
    "popns=[\"French\",\"Han_HGDP\",\"Yoruba\"]\n",
    "\n",
    "newfile=open(pd+fh+\".dadisnp\",'w')\n",
    "header=[\"Ref\",\"Chimp\",\"Allele1\"] + popns+ [\"Allele2\"] + popns+ [\"rsID\",\"Chr\",\"Pos\"]\n",
    "newfile.write('\\t'.join(header)+'\\n')\n",
    "\n",
    "myinds=collections.defaultdict(list)\n",
    "indfile=open(pd+fh+\".ind\",'r')\n",
    "for ind,line in enumerate(indfile):\n",
    "    x=line.split()\n",
    "    if x[2] in popns: myinds[x[2]].append(ind)\n",
    "    if x[2] == \"Chimp\": ancind=ind\n",
    "indfile.close()\n",
    "\n",
    "snpfile=open(pd+fh+\".snp\",'r')\n",
    "mysnpinfo=[line.split() for line in snpfile]\n",
    "snpfile.close()\n",
    "\n",
    "genofile=gzip.open(pd+fh+\".geno.gz\",'r')\n",
    "num=0\n",
    "for ind,line in enumerate(genofile):\n",
    "    mygenos=[[int(line[popind]) for popind in myinds[myset]] for myset in popns]\n",
    "    if 9 in list(itertools.chain(*mygenos)): continue\n",
    "    allele1,allele2=tuple(snpinfo[4:])\n",
    "    chimpgeno=line[ancind]\n",
    "    if chimpgeno == '2': chimpallele=\"-%s-\" % allele2\n",
    "    elif chimpgeno == '0': chimpallele=\"-%s-\" % allele1\n",
    "    else: print 'chimpgeno',chimpgeno\n",
    "    snpinfo = mysnpinfo[ind]\n",
    "    #print snpinfo\n",
    "    allele2sum=[sum(i) for i in mygenos]\n",
    "    allele1sum=[str(2*len(myinds[myset])-allele2sum[ind1]) for ind1,myset in enumerate(popns)]\n",
    "    allele2sum=[str(i) for i in allele2sum]\n",
    "    ref=\"-%s-\" % snpinfo[4]\n",
    "    rsid,chrom,pos=tuple(snpinfo[0:2]+[snpinfo[3]])\n",
    "    newformat=[ref,chimpallele,allele1]+allele1sum+[allele2]+allele2sum+[rsid,chrom,pos]\n",
    "    newfile.write('\\t'.join(newformat) + '\\n')\n",
    "    #print allele1sum, allele2sum\n",
    "    if num == 100: break\n",
    "    num += 1\n",
    "#print myinds\n",
    "#print ancind\n",
    "\n",
    "newfile.close()\n"
   ]
  },
  {
   "cell_type": "code",
   "execution_count": null,
   "metadata": {
    "collapsed": false
   },
   "outputs": [],
   "source": [
    "\n"
   ]
  },
  {
   "cell_type": "code",
   "execution_count": null,
   "metadata": {
    "collapsed": true
   },
   "outputs": [],
   "source": []
  }
 ],
 "metadata": {
  "kernelspec": {
   "display_name": "Python 2",
   "language": "python",
   "name": "python2"
  },
  "language_info": {
   "codemirror_mode": {
    "name": "ipython",
    "version": 2
   },
   "file_extension": ".py",
   "mimetype": "text/x-python",
   "name": "python",
   "nbconvert_exporter": "python",
   "pygments_lexer": "ipython2",
   "version": "2.7.6"
  }
 },
 "nbformat": 4,
 "nbformat_minor": 2
}
