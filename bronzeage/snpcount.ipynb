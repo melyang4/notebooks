{
 "cells": [
  {
   "cell_type": "code",
   "execution_count": null,
   "metadata": {
    "collapsed": true
   },
   "outputs": [],
   "source": []
  },
  {
   "cell_type": "code",
   "execution_count": 2,
   "metadata": {
    "collapsed": false
   },
   "outputs": [
    {
     "name": "stdout",
     "output_type": "stream",
     "text": [
      "HDYM1 11095 492977\n",
      "Chokhopani 105 596337\n",
      "Mebrak 106 392186\n",
      "Samdzong 107,108,109 597293\n",
      "Boisman_MN 10059,10060,10061,10062,10064,10065,10620 504771\n",
      "Tianyuan 11062 518505\n",
      "Boshan 9680 562772\n",
      "Donghuigou 11089,11090,11091,11092,11093,11094 538031\n",
      "Balikun 11081 64318\n",
      "Zhougongmiao 11050 476648\n",
      "Yaojia 11078 101942\n",
      "Linzi 11047,11048,11051 510623\n",
      "XianShang 11057,11060 180274\n",
      "Zongri 68,69,11052,11053,11054,11055,11056,11058,11059,11079,11080 560078\n",
      "Huoshaogou 70 158926\n",
      "Wuba 38,71,72 418919\n",
      "Xiaoshuangqiao 77 141644\n",
      "Guandimiao 78,79,81 387676\n",
      "Shengedaliang 82,93 418887\n",
      "Muzhuzhuliang 83,84,94 223756\n",
      "Xinhua 85,95,96,97 558430\n",
      "Wuzhuangguo 86,87,88 500832\n",
      "Shimao 89,90,91,92,11049,11061 549675\n",
      "Tonglin 11073 135245\n",
      "Dashuitian 31,32,33,34 18336\n",
      "Longlin 40 65884\n",
      "Bbdong 42 229635\n",
      "Taosi 57 26043\n",
      "Xinyi 60 56349\n",
      "Pukagongma 11068,11069,11070,11071 306794\n",
      "Redilong 11063,11067 261696\n",
      "Butaxiongqu 11064 221252\n",
      "Gelintang 11065 272986\n",
      "Yingpanshan 11066,11072 207968\n",
      "Mougou 11074,11076 202911\n",
      "Sanheyi 11082 32822\n",
      "Yusu 11083,11084 84675\n",
      "Jinchankou 11085 40444\n",
      "Jomon 11086,11087,11088 27302\n"
     ]
    }
   ],
   "source": [
    "%%bash\n",
    "pd=\"/mnt/solexa/mel_yang/bronzeage/data/\"\n",
    "fh=\"ind_A_v13_TBH5\"\n",
    "for i in HDYM1 Chokhopani Mebrak Samdzong Boisman_MN Tianyuan Boshan Donghuigou Balikun Zhougongmiao Yaojia Linzi XianShang Zongri Huoshaogou Wuba Xiaoshuangqiao Guandimiao Shengedaliang Muzhuzhuliang Xinhua Wuzhuangguo Shimao Tonglin Dashuitian Longlin Bbdong Taosi Xinyi Pukagongma Redilong Butaxiongqu Gelintang Yingpanshan Mougou Sanheyi Yusu Jinchankou Jomon; do\n",
    "    myindex=$(cat ${pd}${fh}.ind | grep -n ${i}$ | cut -d\":\" -f1)\n",
    "    mypop=$(cat ${pd}${fh}.ind | grep -n ${i}$ | cut -d\" \" -f3)\n",
    "    myindices=$(sed -e \"s/ /,/g\" <<< ${myindex})\n",
    "    myct=$(cut -c ${myindices} ${pd}${fh}.geno | egrep '0|1|2' | wc -l)\n",
    "    popname=$(cut -d' ' -f1 <<< ${mypop})\n",
    "    echo ${popname}' '${myindices}' '${myct}\n",
    "    #echo ${myct}\n",
    "    #echo ${myct0}\" \"${myct1}\" \"${myct2}\" \"\n",
    "    #echo ${myindex}\n",
    "done\n",
    "#cat ${pd}${fh}.ind | grep -n Linzi\n",
    "\n",
    "#cut -c11047,11048,11050,11051 ${pd}${fh}.geno | grep -v 9 | wc -l ##Zhougongmiao, Linzi103677\n",
    "#cut -c 77-79,81 ${pd}${fh}.geno | grep -v 9 | wc -l ##Guandimiao, Xiaoshuangqiao, 9688 \n",
    "#cut -c 77-79,81,11047,11048,11050,11051 ${pd}${fh}.geno | grep -v 9 | wc -l ##3562\n",
    "#cut -c 78-79,81 ${pd}${fh}.geno | grep -v 9 | wc -l ##Guandimiao, 24797\n"
   ]
  },
  {
   "cell_type": "code",
   "execution_count": null,
   "metadata": {
    "collapsed": true
   },
   "outputs": [],
   "source": []
  },
  {
   "cell_type": "code",
   "execution_count": 2,
   "metadata": {
    "collapsed": false
   },
   "outputs": [
    {
     "name": "stdout",
     "output_type": "stream",
     "text": [
      "Chokhopani Mebrak Samdzong Boisman_MN Tianyuan Boshan Donghuigou Balikun Zhougongmiao Yaojia Linzi XianShang Zongri Huoshaogou Wuba Xiaoshuangqiao Guandimiao Shengedaliang Muzhuzhuliang Xinhua Wuzhuangguo Shimao Tonglin Dashuitian Longlin Bbdong Taosi Xinyi Pukagongma Redilong Butaxiongqu Gelintang Yingpanshan Mougou Sanheyi Yusu Jinchankou Jomon\n"
     ]
    }
   ],
   "source": [
    "import HOdata\n",
    "\n",
    "x=[i for i in HOdata.alleas if i not in HOdata.eas]\n",
    "print ' '.join(x)"
   ]
  },
  {
   "cell_type": "code",
   "execution_count": 40,
   "metadata": {
    "collapsed": true
   },
   "outputs": [],
   "source": [
    "import plotting_funcs as pf\n",
    "pf.runD??"
   ]
  },
  {
   "cell_type": "code",
   "execution_count": null,
   "metadata": {
    "collapsed": true
   },
   "outputs": [],
   "source": []
  }
 ],
 "metadata": {
  "kernelspec": {
   "display_name": "Python 2",
   "language": "python",
   "name": "python2"
  },
  "language_info": {
   "codemirror_mode": {
    "name": "ipython",
    "version": 2
   },
   "file_extension": ".py",
   "mimetype": "text/x-python",
   "name": "python",
   "nbconvert_exporter": "python",
   "pygments_lexer": "ipython2",
   "version": "2.7.6"
  }
 },
 "nbformat": 4,
 "nbformat_minor": 2
}
