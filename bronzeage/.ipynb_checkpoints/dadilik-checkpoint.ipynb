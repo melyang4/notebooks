{
 "cells": [
  {
   "cell_type": "code",
   "execution_count": 39,
   "metadata": {
    "collapsed": false
   },
   "outputs": [
    {
     "name": "stdout",
     "output_type": "stream",
     "text": [
      "32\n",
      "(114, 6)\n",
      "0.0676801353125 0.022245357674\n",
      "0.232356415625 0.768633988578\n",
      "0.03768775875 0.0390308933687\n",
      "3.66675174188 3.759031815\n",
      "0.013161951875 0.00585094122649\n",
      "0.0072221153125 0.00347475406833\n"
     ]
    },
    {
     "data": {
      "image/png": "[encoded data removed]",
      "text/plain": [
       "<matplotlib.figure.Figure at 0x7f51b8262450>"
      ]
     },
     "metadata": {},
     "output_type": "display_data"
    }
   ],
   "source": [
    "%matplotlib inline\n",
    "import numpy as np\n",
    "import matplotlib.pyplot as plt\n",
    "pd=\"/mnt/solexa/mel_yang/bronzeage/dadilik/\"\n",
    "myfile=open(pd+\"dl4_vals.log\",'r')\n",
    "mylines=myfile.readlines()\n",
    "myfile.close()\n",
    "for num,line in enumerate(mylines):\n",
    "    if num%4!=0: continue\n",
    "    x1=line.strip().split(':') \n",
    "    x2=mylines[num+1].strip().split(':') \n",
    "    x3=mylines[num+2].strip().split(':') \n",
    "\n",
    "    myinit=[float(i) for i in x1[1][3:-1].split()]\n",
    "    mylst=[float(i) for i in x2[1][3:-1].split()]\n",
    "\n",
    "    if len(mylst) < 6: continue\n",
    "    \n",
    "    if num==0: \n",
    "        myinitary=np.array(mylst)\n",
    "        myary=np.array(mylst)\n",
    "        llik=[float(x3[1][1:])]\n",
    "    else: \n",
    "        myinitary=np.vstack((myinitary,np.array(myinit)))\n",
    "        myary=np.vstack((myary,np.array(mylst)))\n",
    "        llik.append(float(x3[1][1:]))\n",
    "\n",
    "wantedllik=[(ind,i) for ind,i in enumerate(llik) if i > -50000]\n",
    "ub = [100, 100, 100, 10, 3, 3]\n",
    "lb = [1e-2, 1e-2, 1e-2, 0, 0, 0]\n",
    "popt = [1.881, 0.0710, 1.845, 0.911, 0.355, 0.111] ##unfolded\n",
    "#popt = [1.907,  0.073,  1.830,  0.899,  0.425,  0.113] ##folded\n",
    "print len(wantedllik)\n",
    "print myary.shape\n",
    "fig=plt.figure()\n",
    "for i in range(6):\n",
    "    ax=fig.add_subplot(2,3,i+1)\n",
    "    wanteddat=myary[[mytup[0] for mytup in wantedllik],i]\n",
    "    wantedinit=myinitary[[mytup[0] for mytup in wantedllik],i]\n",
    "    if i in [0,1,2]: \n",
    "        ax.hist(wantedinit,color='gray')\n",
    "        ax.hist(wanteddat,color='blue')\n",
    "        ax.axvline(x=popt[i],color='red')\n",
    "        ax.set_xscale('log')\n",
    "    else: \n",
    "        ax.hist(wantedinit,color='gray')\n",
    "        ax.hist(wanteddat,color='blue')\n",
    "        ax.axvline(x=popt[i],color='red')\n",
    "    ax.set_xlim((lb[i],ub[i]))\n",
    "    print np.mean(wanteddat), np.std(wanteddat)\n",
    "    \n",
    "    \n",
    "plt.tight_layout()\n",
    "\n"
   ]
  },
  {
   "cell_type": "code",
   "execution_count": 11,
   "metadata": {
    "collapsed": false
   },
   "outputs": [],
   "source": [
    "from dadi import Numerics , PhiManip , Integration , Spectrum, Misc, Inference\n",
    "Inference.optimize_log??"
   ]
  },
  {
   "cell_type": "code",
   "execution_count": 37,
   "metadata": {
    "collapsed": false
   },
   "outputs": [
    {
     "name": "stdout",
     "output_type": "stream",
     "text": [
      "Overwriting /mnt/solexa/mel_yang/bronzeage/dadilik/calcdadilik_twopop.py\n"
     ]
    }
   ],
   "source": [
    "%%writefile /mnt/solexa/mel_yang/bronzeage/dadilik/calcdadilik_twopop.py\n",
    "##ivpp above mpi below\n",
    "#%%writefile /home/melinda_yang/projects/bronzeage/calcdadilik_twopop.py\n",
    "##Send to /mnt/solexa/mel_yang/bronzeage/dadilik/dl3_twopop_1000reps_maxiter40.log \n",
    "#dl2_twopop_1000reps.log ##dl_twopop_1000reps.log\n",
    "from dadi import Numerics , PhiManip , Integration , Spectrum, Misc, Inference\n",
    "\n",
    "#pd=\"/home/melinda_yang/projects/bronzeage/\" #mpi\n",
    "pd=\"/mnt/solexa/mel_yang/bronzeage/dadilik/\" #ivpp\n",
    "fh=\"ind_A_v13_TBH5\"\n",
    "datdict=Misc.make_data_dict(pd+fh+\".dadisnp\")\n",
    "popids=[\"Yoruba\",\"French\"]\n",
    "ss=120\n",
    "fs=Spectrum.from_data_dict(datdict,popids,[ss,ss])\n",
    "data=fs\n",
    "#print data\n",
    "ns=fs.sample_sizes\n",
    "#print \n",
    "def prior_onegrow_mig((nu1F, nu2B, nu2F, m, Tp, T), (n1,n2), pts):\n",
    "    xx = yy = Numerics.default_grid(pts)\n",
    "    phi = PhiManip.phi_1D(xx)\n",
    "    phi = Integration.one_pop(phi, xx, Tp, nu=nu1F)\n",
    "    phi = PhiManip.phi_1D_to_2D(xx, phi)\n",
    "    nu2_func = lambda t: nu2B*(nu2F/nu2B)**(t/T)\n",
    "    phi = Integration.two_pops(phi, xx, T, nu1=nu1F, nu2=nu2_func, \n",
    "                                    m12=m, m21=m)\n",
    "    sfs = Spectrum.from_phi(phi, (n1,n2), (xx,yy))\n",
    "    return sfs\n",
    "\n",
    "reps=1000\n",
    "for i in range(reps):\n",
    "    pts_l=[40,50,60]\n",
    "    func=prior_onegrow_mig\n",
    "    ##(nu1F, nu2B, nu2F, m, Tp, T)\n",
    "    upper_bound = [100, 100, 100, 10, 3, 3]\n",
    "    lower_bound = [1e-2, 1e-2, 1e-2, 0, 0, 0]\n",
    "    p0 = [2,0.1,2,1,0.2,0.2]\n",
    "    func_ex = Numerics.make_extrap_log_func(func)\n",
    "    p0 = Misc.perturb_params(p0,fold=1,upper_bound=upper_bound,lower_bound=lower_bound)\n",
    "    print('Beginning optimization ************************************************')\n",
    "    popt = Inference.optimize_log(p0, data, func_ex, pts_l, \n",
    "                                       lower_bound=lower_bound,\n",
    "                                       upper_bound=upper_bound,\n",
    "                                       verbose=len(p0), maxiter=40)\n",
    "    print('Finshed optimization **************************************************')\n",
    "    print('Rep'+str(reps)+'Initial parameters: {0}'.format(p0))\n",
    "    print('Rep'+str(reps)+'Best-fit parameters: {0}'.format(popt))\n",
    "    # Calculate the best-fit model AFS.\n",
    "    model = func_ex(popt, ns, pts_l)\n",
    "    # Likelihood of the data given the model AFS.\n",
    "    ll_model = Inference.ll_multinom(model, data)\n",
    "    print('Rep'+str(reps)+'Maximum log composite likelihood: {0}'.format(ll_model))\n",
    "    # The optimal value of theta given the model.\n",
    "    theta = Inference.optimal_sfs_scaling(model, data)\n",
    "    print('Rep'+str(reps)+'Optimal value of theta: {0}'.format(theta))\n"
   ]
  },
  {
   "cell_type": "code",
   "execution_count": null,
   "metadata": {
    "collapsed": true
   },
   "outputs": [],
   "source": []
  },
  {
   "cell_type": "code",
   "execution_count": null,
   "metadata": {
    "collapsed": false
   },
   "outputs": [],
   "source": []
  },
  {
   "cell_type": "code",
   "execution_count": 27,
   "metadata": {
    "collapsed": false
   },
   "outputs": [
    {
     "name": "stdout",
     "output_type": "stream",
     "text": [
      "10 293085.064611\n",
      "20 317397.572048\n",
      "30 327345.532243\n",
      "40 332974.003468\n",
      "50 336680.613222\n",
      "60 339350.515063\n"
     ]
    }
   ],
   "source": [
    "from dadi import Numerics , PhiManip , Integration , Spectrum, Misc, Inference\n",
    "\n",
    "pd=\"/home/melinda_yang/projects/bronzeage/\" #mpi\n",
    "pd=\"/mnt/solexa/mel_yang/bronzeage/dadilik/\" #ivpp\n",
    "fh=\"ind_A_v13_TBH\"\n",
    "datdict=Misc.make_data_dict(pd+fh+\".dadisnp\")\n",
    "popids=[\"French\",\"Yoruba\"] \n",
    "##French=122,Han_HGDP=66,Yoruba=140\n",
    "ss=10\n",
    "for ss in [10,20,30,40,50,60]:\n",
    "    fs=Spectrum.from_data_dict(datdict,popids,[ss,ss])\n",
    "    ns=fs.sample_sizes\n",
    "    print ss, fs.S()"
   ]
  },
  {
   "cell_type": "code",
   "execution_count": 28,
   "metadata": {
    "collapsed": false
   },
   "outputs": [],
   "source": [
    "Inference.optimize_log??"
   ]
  },
  {
   "cell_type": "code",
   "execution_count": null,
   "metadata": {
    "collapsed": true
   },
   "outputs": [],
   "source": [
    "%%writefile /home/melinda_yang/ivpp/bronzeage/calcdadilik.py\n",
    "from dadi import Numerics , PhiManip , Integration , Spectrum, Misc, Inference\n",
    "\n",
    "pd=\"/home/melinda_yang/ivpp/bronzeage/\"\n",
    "fh=\"ind_A_v13_TBH\"\n",
    "datdict=Misc.make_data_dict(pd+fh+\".dadisnp\")\n",
    "popids=[\"Yoruba\",\"French\",\"Han_HGDP\"]\n",
    "popss=[5,5,5]\n",
    "ss=5\n",
    "fs=Spectrum.from_data_dict(datdict,popids,[ss,ss,ss])\n",
    "data=fs\n",
    "ns=fs.sample_sizes\n",
    "print \n",
    "def OutOfAfrica ((nuAf,nuB,nuEu0,nuEu,nuAs0,nuAs,mAfB,mAfEu,mAfAs,mEuAs,TAf,TB,TEuAs),\n",
    "                 (n1,n2,n3),pts):\n",
    "    xx = Numerics.default_grid(pts)\n",
    "    phi = PhiManip.phi_1D(xx)\n",
    "    phi = Integration.one_pop(phi,xx,TAf,nu=nuAf)\n",
    "    phi = PhiManip.phi_1D_to_2D(xx,phi)\n",
    "    phi = Integration.two_pops(phi,xx,TB,nu1=nuAf,nu2=nuB,m12=mAfB,m21=mAfB)\n",
    "    phi = PhiManip.phi_2D_to_3D_split_2 ( xx , phi )\n",
    "    nuEu_func = lambda t : nuEu0 *( nuEu / nuEu0 )**( t / TEuAs )\n",
    "    nuAs_func = lambda t : nuAs0 *( nuAs / nuAs0 )**( t / TEuAs )\n",
    "    phi = Integration.three_pops(phi,xx,TEuAs,nu1 = nuAf,nu2=nuEu_func,nu3=nuAs_func,\n",
    "                                 m12=mAfEu,m13=mAfAs,m21=mAfEu,m23=mEuAs,m31=mAfAs,m32=mEuAs)\n",
    "    fs = Spectrum.from_phi(phi,(n1,n2,n3),(xx,xx,xx))\n",
    "    return fs\n",
    "\n",
    "pts_l=[40,50,60]\n",
    "func=OutOfAfrica\n",
    "##(nuAf,nuB,nuEu0,nuEu,nuAs0,nuAs,mAfB,mAfEu,mAfAs,mEuAs,TAf,TB,TEuAs)\n",
    "upper_bound=[100,100,100,100,100,100,10,10,10,10,3,3,3]\n",
    "lower_bound=[1e-2,1e-2,1e-2,1e-2,1e-2,1e-2,0,0,0,0,0,0,0]\n",
    "p0=[2,2,2,2,2,2,1,1,1,1,1,1,1]\n",
    "func_ex = Numerics.make_extrap_log_func(func)\n",
    "p0 = Misc.perturb_params(p0,fold=1,upper_bound=upper_bound,lower_bound=lower_bound)\n",
    "print('Beginning optimization ************************************************')\n",
    "popt = Inference.optimize_log(p0, data, func_ex, pts_l, \n",
    "                                   lower_bound=lower_bound,\n",
    "                                   upper_bound=upper_bound,\n",
    "                                   verbose=len(p0), maxiter=3)\n",
    "print('Finshed optimization **************************************************')\n",
    "print('Best-fit parameters: {0}'.format(popt))\n",
    "# Calculate the best-fit model AFS.\n",
    "model = func_ex(popt, ns, pts_l)\n",
    "# Likelihood of the data given the model AFS.\n",
    "ll_model = Inference.ll_multinom(model, data)\n",
    "print('Maximum log composite likelihood: {0}'.format(ll_model))\n",
    "# The optimal value of theta given the model.\n",
    "theta = Inference.optimal_sfs_scaling(model, data)\n",
    "print('Optimal value of theta: {0}'.format(theta))\n"
   ]
  },
  {
   "cell_type": "code",
   "execution_count": 16,
   "metadata": {
    "collapsed": false
   },
   "outputs": [
    {
     "ename": "IOError",
     "evalue": "[Errno 2] No such file or directory: '/home/melinda_yang/projects/bronzeage/ind_A_v13_TBH.dadisnp'",
     "output_type": "error",
     "traceback": [
      "\u001b[0;31m---------------------------------------------------------------------------\u001b[0m",
      "\u001b[0;31mIOError\u001b[0m                                   Traceback (most recent call last)",
      "\u001b[0;32m<ipython-input-16-fb76eaa09c6d>\u001b[0m in \u001b[0;36m<module>\u001b[0;34m()\u001b[0m\n\u001b[1;32m      3\u001b[0m \u001b[0mpd\u001b[0m\u001b[0;34m=\u001b[0m\u001b[0;34m\"/home/melinda_yang/projects/bronzeage/\"\u001b[0m\u001b[0;34m\u001b[0m\u001b[0m\n\u001b[1;32m      4\u001b[0m \u001b[0mfh\u001b[0m\u001b[0;34m=\u001b[0m\u001b[0;34m\"ind_A_v13_TBH\"\u001b[0m\u001b[0;34m\u001b[0m\u001b[0m\n\u001b[0;32m----> 5\u001b[0;31m \u001b[0mdatdict\u001b[0m\u001b[0;34m=\u001b[0m\u001b[0mMisc\u001b[0m\u001b[0;34m.\u001b[0m\u001b[0mmake_data_dict\u001b[0m\u001b[0;34m(\u001b[0m\u001b[0mpd\u001b[0m\u001b[0;34m+\u001b[0m\u001b[0mfh\u001b[0m\u001b[0;34m+\u001b[0m\u001b[0;34m\".dadisnp\"\u001b[0m\u001b[0;34m)\u001b[0m\u001b[0;34m\u001b[0m\u001b[0m\n\u001b[0m\u001b[1;32m      6\u001b[0m \u001b[0mpopids\u001b[0m\u001b[0;34m=\u001b[0m\u001b[0;34m[\u001b[0m\u001b[0;34m\"Yoruba\"\u001b[0m\u001b[0;34m,\u001b[0m\u001b[0;34m\"French\"\u001b[0m\u001b[0;34m,\u001b[0m\u001b[0;34m\"Han_HGDP\"\u001b[0m\u001b[0;34m]\u001b[0m\u001b[0;34m\u001b[0m\u001b[0m\n\u001b[1;32m      7\u001b[0m \u001b[0;34m\u001b[0m\u001b[0m\n",
      "\u001b[0;32m/usr/local/lib/python2.7/dist-packages/dadi-1.6.3-py2.7-linux-x86_64.egg/dadi/Misc.pyc\u001b[0m in \u001b[0;36mmake_data_dict\u001b[0;34m(filename)\u001b[0m\n\u001b[1;32m    242\u001b[0m         \u001b[0mf\u001b[0m \u001b[0;34m=\u001b[0m \u001b[0marchive\u001b[0m\u001b[0;34m.\u001b[0m\u001b[0mopen\u001b[0m\u001b[0;34m(\u001b[0m\u001b[0mnamelist\u001b[0m\u001b[0;34m[\u001b[0m\u001b[0;36m0\u001b[0m\u001b[0;34m]\u001b[0m\u001b[0;34m)\u001b[0m\u001b[0;34m\u001b[0m\u001b[0m\n\u001b[1;32m    243\u001b[0m     \u001b[0;32melse\u001b[0m\u001b[0;34m:\u001b[0m\u001b[0;34m\u001b[0m\u001b[0m\n\u001b[0;32m--> 244\u001b[0;31m         \u001b[0mf\u001b[0m \u001b[0;34m=\u001b[0m \u001b[0mopen\u001b[0m\u001b[0;34m(\u001b[0m\u001b[0mfilename\u001b[0m\u001b[0;34m)\u001b[0m\u001b[0;34m\u001b[0m\u001b[0m\n\u001b[0m\u001b[1;32m    245\u001b[0m \u001b[0;34m\u001b[0m\u001b[0m\n\u001b[1;32m    246\u001b[0m     \u001b[0;31m# Skip to the header\u001b[0m\u001b[0;34m\u001b[0m\u001b[0;34m\u001b[0m\u001b[0m\n",
      "\u001b[0;31mIOError\u001b[0m: [Errno 2] No such file or directory: '/home/melinda_yang/projects/bronzeage/ind_A_v13_TBH.dadisnp'"
     ]
    }
   ],
   "source": [
    "from dadi import Numerics , PhiManip , Integration , Spectrum, Misc, Inference\n",
    "\n",
    "pd=\"/home/melinda_yang/projects/bronzeage/\"\n",
    "fh=\"ind_A_v13_TBH\"\n",
    "datdict=Misc.make_data_dict(pd+fh+\".dadisnp\")\n",
    "popids=[\"Yoruba\",\"French\",\"Han_HGDP\"]\n",
    "\n",
    "ss=5\n",
    "fs=Spectrum.from_data_dict(datdict,popids,[122,66,140])\n",
    "data=fs\n",
    "print fs.sample_sizes"
   ]
  },
  {
   "cell_type": "code",
   "execution_count": 8,
   "metadata": {
    "collapsed": false
   },
   "outputs": [],
   "source": [
    "##Make SNP file in dadi format\n",
    "##| Human | Chimp | Allele1 | YRI | CEU | Allele2 | YRI | CEU |  Gene | Position |\n",
    "import collections\n",
    "import gzip\n",
    "import numpy as np\n",
    "import itertools\n",
    "\n",
    "pd=\"/mnt/solexa/mel_yang/bronzeage/data/\"\n",
    "outpd=\"/mnt/solexa/mel_yang/bronzeage/dadilik/\"\n",
    "##pd=\"/home/melinda_yang/ivpp/bronzeage/\" ##mpi\n",
    "fh=\"ind_A_v13_TBH5\"\n",
    "\n",
    "popns=[\"French\",\"Han_HGDP\",\"Yoruba\"]\n",
    "\n",
    "newfile=open(outpd+fh+\".dadisnp\",'w')\n",
    "header=[\"Ref\",\"Chimp\",\"Allele1\"] + popns+ [\"Allele2\"] + popns+ [\"rsID\",\"Chr\",\"Pos\"]\n",
    "newfile.write('\\t'.join(header)+'\\n')\n",
    "\n",
    "myinds=collections.defaultdict(list)\n",
    "indfile=open(pd+fh+\".ind\",'r')\n",
    "for ind,line in enumerate(indfile):\n",
    "    x=line.split()\n",
    "    if x[2] in popns: myinds[x[2]].append(ind)\n",
    "    if x[2] == \"Chimp\": ancind=ind\n",
    "indfile.close()\n",
    "\n",
    "snpfile=open(pd+fh+\".snp\",'r')\n",
    "mysnpinfo=[line.split() for line in snpfile]\n",
    "snpfile.close()ls *dadisnp\n",
    "\n",
    "genofile=open(pd+fh+\".geno\",'r')\n",
    "num=0\n",
    "for ind,line in enumerate(genofile):\n",
    "    #print num\n",
    "    mygenos=[[int(line[popind]) for popind in myinds[myset]] for myset in popns]\n",
    "    if 9 in list(itertools.chain(*mygenos)): continue\n",
    "        \n",
    "    snpinfo = mysnpinfo[ind]\n",
    "    allele1,allele2=tuple(snpinfo[4:])\n",
    "    chimpgeno=line[ancind]\n",
    "    if chimpgeno == '2': chimpallele=\"-%s-\" % allele1\n",
    "    elif chimpgeno == '0': chimpallele=\"-%s-\" % allele2\n",
    "    else: print 'chimpgeno',chimpgeno\n",
    "    \n",
    "    allele1sum=[sum(i) for i in mygenos]\n",
    "    allele2sum=[str(2*len(myinds[myset])-allele1sum[ind1]) for ind1,myset in enumerate(popns)]\n",
    "    allele1sum=[str(i) for i in allele1sum]\n",
    "    ref=\"-%s-\" % snpinfo[4]\n",
    "    rsid,chrom,pos=tuple(snpinfo[0:2]+[snpinfo[3]])\n",
    "    newformat=[ref,chimpallele,allele1]+allele1sum+[allele2]+allele2sum+[rsid,chrom,pos]\n",
    "    #print newformat\n",
    "    newfile.write('\\t'.join(newformat) + '\\n')\n",
    "    #print allele1sum, allele2sum\n",
    "    #if num == 100: break\n",
    "    num += 1\n",
    "#print myinds\n",
    "#print ancind\n",
    "\n",
    "newfile.close()\n"
   ]
  },
  {
   "cell_type": "code",
   "execution_count": null,
   "metadata": {
    "collapsed": false
   },
   "outputs": [],
   "source": [
    "\n"
   ]
  },
  {
   "cell_type": "code",
   "execution_count": 1,
   "metadata": {
    "collapsed": false
   },
   "outputs": [
    {
     "data": {
      "text/plain": [
       "22595"
      ]
     },
     "execution_count": 1,
     "metadata": {},
     "output_type": "execute_result"
    }
   ],
   "source": [
    "67787/3"
   ]
  },
  {
   "cell_type": "code",
   "execution_count": null,
   "metadata": {
    "collapsed": true
   },
   "outputs": [],
   "source": []
  }
 ],
 "metadata": {
  "kernelspec": {
   "display_name": "Python 2",
   "language": "python",
   "name": "python2"
  },
  "language_info": {
   "codemirror_mode": {
    "name": "ipython",
    "version": 2
   },
   "file_extension": ".py",
   "mimetype": "text/x-python",
   "name": "python",
   "nbconvert_exporter": "python",
   "pygments_lexer": "ipython2",
   "version": "2.7.6"
  }
 },
 "nbformat": 4,
 "nbformat_minor": 2
}
