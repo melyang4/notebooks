{
 "cells": [
  {
   "cell_type": "code",
   "execution_count": 31,
   "metadata": {
    "collapsed": false
   },
   "outputs": [
    {
     "data": {
      "text/plain": [
       "'Made par file for convertf!'"
      ]
     },
     "execution_count": 31,
     "metadata": {},
     "output_type": "execute_result"
    }
   ],
   "source": [
    "import projmodules as pm\n",
    "\n",
    "pdeas=['Daur','Hezhen','Mongola','Naxi','Oroqen','Ulchi','Xibo','Dai','Dong','Gelao',\n",
    "        'Lahu','Li','Maonan','Miao','Mulam','She','Tujia','Yi','Zhuang','Cambodian',\n",
    "        'Han_Chongqing','Han_Fujian','Han_Guandong','Han_Henan','Han_HGDP','Han_Hubei',\n",
    "        'Han_Jiangsu','Han_NChina','Han_Shangdong','Han_Shanghai','Han_Shanxi',\n",
    "        'Han_Sichuan','Han_Zhejiang','Kinh_Vietnam_KHV','Korean','Thai','Qiang_Horpa',\n",
    "        'Tibetan_Chamdo','Tibetan_Gangcha','Tibetan_Gannan','Tibetan_Lhasa',\n",
    "        'Tibetan_Nagqu','Tibetan_Shannan','Tibetan_Shigatse','Tibetan_Xinlong',\n",
    "        'Tibetan_Xunhua','Tibetan_Yajiang','Japanese','Ami_Stoneking','Atayal_Stoneking']\n",
    "pdeur=[\"French\",'Sardinian']\n",
    "\n",
    "baseDir = \"/home/mel_yang/projects/bronzeage/\"\n",
    "fh=\"ind_A_v13_TBH\"\n",
    "newname = 'pdeas_weurFS'\n",
    "pm.indtoignore(pdeas+pdeur, baseDir+fh+'.ind', baseDir+fh+'.'+newname+'.ind')\n",
    "pm.convertf_par(baseDir+fh,baseDir+fh+'.'+newname+'.ped','PED',baseDir+\n",
    "                'CONVERTF.'+fh+'.'+newname+'.par',indfilename=baseDir+fh+'.'+newname)\n"
   ]
  },
  {
   "cell_type": "code",
   "execution_count": 92,
   "metadata": {
    "collapsed": false
   },
   "outputs": [
    {
     "name": "stdout",
     "output_type": "stream",
     "text": [
      "\n",
      "@----------------------------------------------------------@\n",
      "|        PLINK!       |     v1.06      |   24/Apr/2009     |\n",
      "|----------------------------------------------------------|\n",
      "|  (C) 2009 Shaun Purcell, GNU General Public License, v2  |\n",
      "|----------------------------------------------------------|\n",
      "|  For documentation, citation & bug-report instructions:  |\n",
      "|        http://pngu.mgh.harvard.edu/purcell/plink/        |\n",
      "@----------------------------------------------------------@\n",
      "\n",
      "Skipping web check... [ --noweb ] \n",
      "Writing this text to log file [ /mnt/solexa/mel_yang/bronzeage/admixture/ind_A_v13_TBH.pdeas_weurFS_pruned.200_25_0.5.log ]\n",
      "Analysis started: Tue Mar  7 20:52:15 2017\n",
      "\n",
      "Options in effect:\n",
      "\t--noweb\n",
      "\t--bfile /mnt/solexa/mel_yang/bronzeage/admixture/ind_A_v13_TBH.pdeas_weurFS\n",
      "\t--extract /mnt/solexa/mel_yang/bronzeage/admixture/plink.200_25_0.5.prune.in\n",
      "\t--make-bed\n",
      "\t--out /mnt/solexa/mel_yang/bronzeage/admixture/ind_A_v13_TBH.pdeas_weurFS_pruned.200_25_0.5\n",
      "\n",
      "** For gPLINK compatibility, do not use '.' in --out **\n",
      "Reading map (extended format) from [ /mnt/solexa/mel_yang/bronzeage/admixture/ind_A_v13_TBH.pdeas_weurFS.bim ] \n",
      "597573 markers to be included from [ /mnt/solexa/mel_yang/bronzeage/admixture/ind_A_v13_TBH.pdeas_weurFS.bim ]\n",
      "Reading pedigree information from [ /mnt/solexa/mel_yang/bronzeage/admixture/ind_A_v13_TBH.pdeas_weurFS.fam ] \n",
      "606 individuals read from [ /mnt/solexa/mel_yang/bronzeage/admixture/ind_A_v13_TBH.pdeas_weurFS.fam ] \n",
      "606 individuals with nonmissing phenotypes\n",
      "Assuming a disease phenotype (1=unaff, 2=aff, 0=miss)\n",
      "Missing phenotype value is also -9\n",
      "0 cases, 606 controls and 0 missing\n",
      "373 males, 232 females, and 1 of unspecified sex\n",
      "Warning, found 1 individuals with ambiguous sex codes\n",
      "Writing list of these individuals to [ /mnt/solexa/mel_yang/bronzeage/admixture/ind_A_v13_TBH.pdeas_weurFS_pruned.200_25_0.5.nosex ]\n",
      "Reading genotype bitfile from [ /mnt/solexa/mel_yang/bronzeage/admixture/ind_A_v13_TBH.pdeas_weurFS.bed ] \n",
      "Detected that binary PED file is v1.00 SNP-major mode\n",
      "Reading list of SNPs to extract [ /mnt/solexa/mel_yang/bronzeage/admixture/plink.200_25_0.5.prune.in ] ... 205874 read\n",
      "Before frequency and genotyping pruning, there are 205874 SNPs\n",
      "606 founders and 0 non-founders found\n",
      "Total genotyping rate in remaining individuals is 0.994951\n",
      "0 SNPs failed missingness test ( GENO > 1 )\n",
      "0 SNPs failed frequency test ( MAF < 0 )\n",
      "After frequency and genotyping pruning, there are 205874 SNPs\n",
      "After filtering, 0 cases, 606 controls and 0 missing\n",
      "After filtering, 373 males, 232 females, and 1 of unspecified sex\n",
      "Writing pedigree information to [ /mnt/solexa/mel_yang/bronzeage/admixture/ind_A_v13_TBH.pdeas_weurFS_pruned.200_25_0.5.fam ] \n",
      "Writing map (extended format) information to [ /mnt/solexa/mel_yang/bronzeage/admixture/ind_A_v13_TBH.pdeas_weurFS_pruned.200_25_0.5.bim ] \n",
      "Writing genotype bitfile to [ /mnt/solexa/mel_yang/bronzeage/admixture/ind_A_v13_TBH.pdeas_weurFS_pruned.200_25_0.5.bed ] \n",
      "Using (default) SNP-major mode\n",
      "\n",
      "Analysis finished: Tue Mar  7 20:52:40 2017\n",
      "\n"
     ]
    }
   ],
   "source": [
    "%%bash\n",
    "pd=\"/mnt/solexa/mel_yang/bronzeage/admixture/\"\n",
    "fh=\"ind_A_v13_TBH.pdeas_weurFS\"\n",
    "idp=\".200_25_0.5\"\n",
    "#cp ${pd}${fh}.ped.geno ${pd}${fh}.ped\n",
    "#cp ${pd}${fh}.ped.ind ${pd}${fh}.pedind\n",
    "#cut -c1-41 ${pd}${fh}.ped.snp > ${pd}${fh}.map\n",
    "\n",
    "#plink --noweb --file ${pd}${fh} --make-bed --out ${pd}${fh} --geno 0.999\n",
    "##plink --noweb --bfile ${pd}${fh} --indep-pairwise 50 10 0.1  ##Prune dataset, using 50 SNP windows, step 10 SNPs, remove SNP pairs with R^2>0.1\n",
    "##mv plink* .\n",
    "\n",
    "#plink --noweb --bfile ${pd}${fh} --indep-pairwise 200 25 0.5 --out ${pd}plink${idp}\n",
    "plink --noweb --bfile ${pd}${fh} --extract ${pd}plink${idp}.prune.in --make-bed --out ${pd}${fh}_pruned${idp}  ##Keep set of untargeted SNPs from above"
   ]
  },
  {
   "cell_type": "code",
   "execution_count": 94,
   "metadata": {
    "collapsed": false
   },
   "outputs": [
    {
     "name": "stdout",
     "output_type": "stream",
     "text": [
      "Writing /mnt/solexa/mel_yang/bronzeage/admixture/runadmixture.sh\n"
     ]
    }
   ],
   "source": [
    "%%writefile /mnt/solexa/mel_yang/bronzeage/admixture/runadmixture.sh\n",
    "#%%bash\n",
    "pd=\"/mnt/solexa/mel_yang/bronzeage/admixture/\"\n",
    "fh=\"ind_A_v13_TBH.pdeas_weurFS_pruned.200_25_0.5\"\n",
    "for K in `seq 2 10`; do \n",
    "    #admixture --cv ${pd}${fh}.bed ${K} > ${pd}${fh}.admix.log${K}.out\n",
    "    admixture ${pd}${fh}.bed ${K} > ${pd}${fh}.admix.${K}.out\n",
    "    #admixture --cv ${pd}${fh}.bed ${K} | tee ${pd}${fh}.admix.log${K}.out\n",
    "    #echo \"admixture --cv ${pd}${fh}.bed ${K} > ${pd}${fh}.admix.log${K}.out\"\n",
    "    #echo \"admixture ${pd}${fh}.bed ${K} > ${pd}${fh}.admix.${K}.out\"\n",
    "done"
   ]
  },
  {
   "cell_type": "code",
   "execution_count": 32,
   "metadata": {
    "collapsed": false
   },
   "outputs": [],
   "source": [
    "%%bash\n",
    "pd=\"/mnt/solexa/mel_yang/bronzeage/admixture/\"\n",
    "indfh=\"ind_A_v13_TBH.pdeas_eurFS\"\n",
    "Qfh=\"ind_A_v13_TBH.pdeas_eurFS_pruned.200_25_0.5\"\n",
    "K=2\n",
    "for K in 3 4 5 6 7; do \n",
    "    grep -v Ignore ${pd}${indfh}.ind > ${pd}${indfh}.noIgnore.ind\n",
    "    paste ${pd}${Qfh}.${K}.Q ${pd}${indfh}.noIgnore.ind > ${pd}${Qfh}.${K}.wID.Q\n",
    "done"
   ]
  },
  {
   "cell_type": "code",
   "execution_count": 82,
   "metadata": {
    "collapsed": false
   },
   "outputs": [
    {
     "name": "stdout",
     "output_type": "stream",
     "text": [
      "Overwriting /mnt/solexa/mel_yang/bronzeage/admixture/admixtureplot.R\n"
     ]
    }
   ],
   "source": [
    "%%writefile /mnt/solexa/mel_yang/bronzeage/admixture/admixtureplot.R\n",
    "##MAKE ADMIXTURE PLOT\n",
    "pd=\"/mnt/solexa/mel_yang/bronzeage/admixture/\"\n",
    "fh=\"ind_A_v13_TBH.pdeas_eurFS_pruned.200_25_0.5\"\n",
    "for (K in c(2,3,4,5,6,7)) {\n",
    "    tbl=read.table(paste(pd,fh,\".\",K,\".wID.Q\",sep=\"\"))\n",
    "    tbl=tbl[with(tbl,order(V5)),]\n",
    "    if (K==2){\n",
    "       tblnames=c()\n",
    "        for (i in tbl$V5) {\n",
    "            if (i %in% tblnames==TRUE) {\n",
    "                tblnames=c(tblnames,\" \")\n",
    "            }\n",
    "            else {\n",
    "                tblnames=c(tblnames,i)\n",
    "            }\n",
    "        } \n",
    "    }\n",
    "    \n",
    "    png(paste(pd,\"images/\",fh,\".\",K,\".png\",sep=\"\"),width=2400,height=600)\n",
    "    barplot(t(as.matrix(tbl)), col=rainbow(K),xlab=\"Individual #\", ylab=\"Ancestry\", border=NA,names.arg=tblnames,las=2,cex.names=0.7)\n",
    "    dev.off()\n",
    "}\n"
   ]
  },
  {
   "cell_type": "code",
   "execution_count": 83,
   "metadata": {
    "collapsed": false
   },
   "outputs": [],
   "source": [
    "%%bash\n",
    "R CMD BATCH /mnt/solexa/mel_yang/bronzeage/admixture/admixtureplot.R\n",
    "mv /home/mel_yang/notebooks/bronzeage/admixtureplot.Rout /mnt/solexa/mel_yang/bronzeage/admixture/"
   ]
  },
  {
   "cell_type": "code",
   "execution_count": 88,
   "metadata": {
    "collapsed": false
   },
   "outputs": [
    {
     "data": {
      "image/png": "[encoded data removed]",
      "text/plain": [
       "<IPython.core.display.Image object>"
      ]
     },
     "execution_count": 88,
     "metadata": {},
     "output_type": "execute_result"
    }
   ],
   "source": [
    "from IPython.core.display import Image \n",
    "pd=\"/mnt/solexa/mel_yang/bronzeage/admixture/images/\"\n",
    "fh=\"ind_A_v13_TBH.pdeas_eurFS_pruned.200_25_0.5\"\n",
    "K=8\n",
    "Image(pd+fh+\".\"+str(K)+\".png\") "
   ]
  },
  {
   "cell_type": "code",
   "execution_count": null,
   "metadata": {
    "collapsed": true
   },
   "outputs": [],
   "source": [
    "import projmodules as pm\n",
    "\n",
    "namers=['Mayan','Piapoco','Xavante','Surui','Mixe','Pima','Karitiana',\n",
    "        'Chane',\"Quechua\",\"Zapotec\",\"Aymara\",\"Guarani\",\"Guarani_GN\",\"Guarani_KW\",\n",
    "        \"Cabecar\",\"Kaqchikel\",\"Wayuu\",\"Inga\",\"Ticuna\",\"Chilote\",\"Bolivian\",\n",
    "        \"Apalai\",\"Arara\",\"UrubuKaapor\",\"Zoro\",\n",
    "        \"Surui.DG\",\"Mixe.DG\",\"Pima.DG\",\"Mayan.DG\",\"Quechua.DG\",\"Zapotec.DG\",\n",
    "        \"Piapoco.DG\",\"Chane.DG\",\"Karitiana.DG\",\n",
    "        \"Mbuti\",\"Yoruba\",\"Spanish\",\"French\",\"Han_HGDP\",\"Japanese\"]\n",
    "\n",
    "baseDir = \"/home/melinda_yang/ivpp/bronzeage/\"\n",
    "fh=\"ind_A_v13_TBH\"\n",
    "newname = 'namer'\n",
    "pm.indtoignore(namers, baseDir+fh+'.ind', baseDir+fh+'.'+newname+'.ind')\n",
    "pm.convertf_par(baseDir+fh,baseDir+fh+'.'+newname+'.ped','PED',baseDir+\n",
    "                'CONVERTF.'+fh+'.'+newname+'.par',indfilename=baseDir+fh+'.'+newname)\n"
   ]
  },
  {
   "cell_type": "code",
   "execution_count": 28,
   "metadata": {
    "collapsed": false
   },
   "outputs": [],
   "source": [
    "##MAKE MAP FILE FROM SNP FILE\n",
    "pd = \"/home/melinda_yang/ivpp/bronzeage/\"\n",
    "pd = \"/home/melinda_yang/ivpp/allTYstuff/\"\n",
    "fh=\"ind_A_v13_TBH.namer_noasn.ped\"\n",
    "newfh=\"ind_A_v13_TBH.namer_noasn\"\n",
    "fh=\"ind_A_v13_TBH.namer.ped\"\n",
    "newfh=\"ind_A_v13_TBH.namer\"\n",
    "fh=\"ind_A_v13_TBH.namer_sgdp_noasn.ped\"\n",
    "newfh=\"ind_A_v13_TBH.namer_sgdp_noasn\"\n",
    "fh=\"UPA_all6.namer.ped\"\n",
    "newfh=\"UPA_all6.namer\"\n",
    "snpfile=open(pd+fh+\".snp\",'r')\n",
    "mapfile=open(pd+newfh+\".map\",'w')\n",
    "for line in snpfile:\n",
    "    x=line.split()\n",
    "    if x[2] == \"0.498278\": print x\n",
    "    newx=[x[i] for i in [0,1,2,3]]\n",
    "    mapfile.write('\\t'.join(newx)+'\\n')"
   ]
  },
  {
   "cell_type": "code",
   "execution_count": null,
   "metadata": {
    "collapsed": true
   },
   "outputs": [],
   "source": []
  },
  {
   "cell_type": "code",
   "execution_count": 1,
   "metadata": {
    "collapsed": false
   },
   "outputs": [
    {
     "data": {
      "text/plain": [
       "'Made par file for convertf!'"
      ]
     },
     "execution_count": 1,
     "metadata": {},
     "output_type": "execute_result"
    }
   ],
   "source": [
    "import projmodules as pm\n",
    "\n",
    "namers=['Mayan','Piapoco','Xavante','Surui','Mixe','Pima','Karitiana',\n",
    "        'Chane',\"Quechua\",\"Zapotec\",\"Aymara\",\"Guarani\",\"Guarani_GN\",\"Guarani_KW\",\n",
    "        \"Cabecar\",\"Kaqchikel\",\"Wayuu\",\"Inga\",\"Ticuna\",\"Chilote\",\"Bolivian\",\n",
    "        \"Apalai\",\"Arara\",\"UrubuKaapor\",\"Zoro\",\n",
    "        \"Surui.DG\",\"Mixe.DG\",\"Pima.DG\",\"Mayan.DG\",\"Quechua.DG\",\"Zapotec.DG\",\n",
    "        \"Piapoco.DG\",\"Chane.DG\",\"Karitiana.DG\",\n",
    "        \"Mbuti\",\"Yoruba\",\"Mandenka\",\"Spanish\",\"French\",\"Sardinian\"]\n",
    "\n",
    "baseDir = \"/home/melinda_yang/ivpp/bronzeage/\"\n",
    "fh=\"ind_A_v13_TBH\"\n",
    "newname = 'namer_noasn'\n",
    "pm.indtoignore(namers, baseDir+fh+'.ind', baseDir+fh+'.'+newname+'.ind')\n",
    "pm.convertf_par(baseDir+fh,baseDir+fh+'.'+newname+'.ped','PED',baseDir+\n",
    "                'CONVERTF.'+fh+'.'+newname+'.par',indfilename=baseDir+fh+'.'+newname)\n"
   ]
  },
  {
   "cell_type": "code",
   "execution_count": 9,
   "metadata": {
    "collapsed": false
   },
   "outputs": [
    {
     "data": {
      "text/plain": [
       "'Made par file for convertf!'"
      ]
     },
     "execution_count": 9,
     "metadata": {},
     "output_type": "execute_result"
    }
   ],
   "source": [
    "import projmodules as pm\n",
    "\n",
    "namers=[\"Surui.DG\",\"Mixe.DG\",\"Pima.DG\",\"Mayan.DG\",\"Quechua.DG\",\"Zapotec.DG\",\n",
    "        \"Piapoco.DG\",\"Chane.DG\",\"Karitiana.DG\",\n",
    "        \"Mbuti.DG\",\"Yoruba.DG\",\"Mandenka.DG\",\"Spanish.DG\",\"French.DG\",\"Sardinian.DG\"]\n",
    "\n",
    "baseDir = \"/home/melinda_yang/ivpp/bronzeage/\"\n",
    "fh=\"ind_A_v13_TBH\"\n",
    "newname = 'namer_sgdp_noasn'\n",
    "pm.indtoignore(namers, baseDir+fh+'.ind', baseDir+fh+'.'+newname+'.ind')\n",
    "pm.convertf_par(baseDir+fh,baseDir+fh+'.'+newname+'.ped','PED',baseDir+\n",
    "                'CONVERTF.'+fh+'.'+newname+'.par',indfilename=baseDir+fh+'.'+newname)\n"
   ]
  },
  {
   "cell_type": "code",
   "execution_count": null,
   "metadata": {
    "collapsed": true
   },
   "outputs": [],
   "source": []
  },
  {
   "cell_type": "code",
   "execution_count": null,
   "metadata": {
    "collapsed": true
   },
   "outputs": [],
   "source": []
  },
  {
   "cell_type": "code",
   "execution_count": 29,
   "metadata": {
    "collapsed": false
   },
   "outputs": [
    {
     "data": {
      "text/plain": [
       "'Made par file for convertf!'"
      ]
     },
     "execution_count": 29,
     "metadata": {},
     "output_type": "execute_result"
    }
   ],
   "source": [
    "import projmodules as pm\n",
    "\n",
    "namers=[\"Surui\",\"Mixe\",\"Pima\",\"Mayan\",\"Quechua\",\"Zapotec\",\n",
    "        \"Piapoco\",\"Chane\",\"Karitiana\",\n",
    "        \"Mbuti\",\"Yoruba\",\"Mandenka\",\"Spanish\",\"French\",\"Sardinian\"] #,\"Han\",\"Japanese\"]\n",
    "\n",
    "baseDir = \"/home/melinda_yang/ivpp/allTYstuff/\"\n",
    "fh=\"UPA_all6\"\n",
    "newname = 'namer_nbs' #nobadsnps\n",
    "pm.indtoignore(namers, baseDir+fh+'.ind', baseDir+fh+'.'+newname+'.ind')\n",
    "pm.convertf_par(baseDir+fh,baseDir+fh+'.'+newname+'.ped','PED',baseDir+\n",
    "                'CONVERTF.'+fh+'.'+newname+'.par',\n",
    "                indfilename=baseDir+fh+'.'+newname,\n",
    "               badsnpfile=baseDir+\"UPA_all6.namer.badsnps\")\n"
   ]
  },
  {
   "cell_type": "code",
   "execution_count": 24,
   "metadata": {
    "collapsed": false
   },
   "outputs": [],
   "source": [
    "\n",
    "pd=\"/home/melinda_yang/ivpp/allTYstuff/\"\n",
    "badrs=open(pd+\"UPA_all6.namer_missing.nof\",'r')\n",
    "badrsids=[line.strip() for line in badrs]\n",
    "badrs.close()\n",
    "snps=open(pd+\"UPA_all6.namer.ped.snp\",'r')\n",
    "newbad=open(pd+\"UPA_all6.namer.badsnps\",'w')\n",
    "for line in snps:\n",
    "    x=line.split()\n",
    "    if x[1] in badrsids: newbad.write('\\t'.join(x)+'\\n')\n",
    "newbad.close()\n",
    "snps.close()\n"
   ]
  },
  {
   "cell_type": "code",
   "execution_count": null,
   "metadata": {
    "collapsed": true
   },
   "outputs": [],
   "source": []
  },
  {
   "cell_type": "code",
   "execution_count": null,
   "metadata": {
    "collapsed": true
   },
   "outputs": [],
   "source": []
  },
  {
   "cell_type": "code",
   "execution_count": null,
   "metadata": {
    "collapsed": true
   },
   "outputs": [],
   "source": []
  },
  {
   "cell_type": "code",
   "execution_count": 2,
   "metadata": {
    "collapsed": false
   },
   "outputs": [
    {
     "data": {
      "text/plain": [
       "'Made par file for convertf!'"
      ]
     },
     "execution_count": 2,
     "metadata": {},
     "output_type": "execute_result"
    }
   ],
   "source": [
    "import projmodules as pm\n",
    "\n",
    "targets = ['Chane','Karitiana','Mayan','Mixe','Mixtec','Piapoco','Pima','Quechua','Surui','Zapotec','Clovis','French']\n",
    "\n",
    "baseDir = \"/home/mel_yang/projects/allTYstuff/SOMX2/\"\n",
    "fh=\"UPA_all2\"\n",
    "newname = 'namer_french'\n",
    "pm.indtoignore(targets, baseDir+fh+'.ind', baseDir+fh+'.'+newname+'.ind')\n",
    "pm.convertf_par(baseDir+fh,baseDir+fh+'.'+newname+'.ped','PED',baseDir+\n",
    "                'CONVERTF.'+fh+'.'+newname+'.par',indfilename=baseDir+fh+'.'+newname)\n"
   ]
  },
  {
   "cell_type": "code",
   "execution_count": 3,
   "metadata": {
    "collapsed": false
   },
   "outputs": [
    {
     "data": {
      "text/plain": [
       "'Made par file for convertf!'"
      ]
     },
     "execution_count": 3,
     "metadata": {},
     "output_type": "execute_result"
    }
   ],
   "source": [
    "import projmodules as pm\n",
    "\n",
    "targets = ['Ami', 'Atayal', 'Burmese', 'Cambodian', 'Dai', 'Daur', \n",
    "              'Han', 'Hezhen', 'Japanese', 'Kinh', 'Korean', 'Lahu', \n",
    "              'Miao', 'Naxi', 'Oroqen', 'She', 'Thai', 'Tu', 'Tujia', \n",
    "              'Uygur', 'Xibo', 'Yi','French']\n",
    "\n",
    "baseDir = \"/home/mel_yang/projects/allTYstuff/SOMX2/\"\n",
    "fh=\"UPA_all2\"\n",
    "newname = 'eas_french'\n",
    "pm.indtoignore(targets, baseDir+fh+'.ind', baseDir+fh+'.'+newname+'.ind')\n",
    "pm.convertf_par(baseDir+fh,baseDir+fh+'.'+newname+'.ped','PED',baseDir+\n",
    "                'CONVERTF.'+fh+'.'+newname+'.par',indfilename=baseDir+fh+'.'+newname)\n"
   ]
  },
  {
   "cell_type": "code",
   "execution_count": 8,
   "metadata": {
    "collapsed": false
   },
   "outputs": [
    {
     "ename": "TypeError",
     "evalue": "bar() takes at least 2 arguments (1 given)",
     "output_type": "error",
     "traceback": [
      "\u001b[0;31m---------------------------------------------------------------------------\u001b[0m\n\u001b[0;31mTypeError\u001b[0m                                 Traceback (most recent call last)",
      "\u001b[0;32m<ipython-input-8-82424e89d848>\u001b[0m in \u001b[0;36m<module>\u001b[0;34m()\u001b[0m\n\u001b[1;32m      9\u001b[0m \u001b[0mmydat\u001b[0m \u001b[0;34m=\u001b[0m \u001b[0mnp\u001b[0m\u001b[0;34m.\u001b[0m\u001b[0marray\u001b[0m\u001b[0;34m(\u001b[0m\u001b[0;34m[\u001b[0m\u001b[0;34m[\u001b[0m\u001b[0mfloat\u001b[0m\u001b[0;34m(\u001b[0m\u001b[0mi\u001b[0m\u001b[0;34m)\u001b[0m \u001b[0;32mfor\u001b[0m \u001b[0mi\u001b[0m \u001b[0;32min\u001b[0m \u001b[0mline\u001b[0m\u001b[0;34m.\u001b[0m\u001b[0msplit\u001b[0m\u001b[0;34m(\u001b[0m\u001b[0;34m)\u001b[0m\u001b[0;34m]\u001b[0m \u001b[0;32mfor\u001b[0m \u001b[0mline\u001b[0m \u001b[0;32min\u001b[0m \u001b[0mmydat\u001b[0m\u001b[0;34m]\u001b[0m\u001b[0;34m)\u001b[0m\u001b[0;34m\u001b[0m\u001b[0m\n\u001b[1;32m     10\u001b[0m \u001b[0;32mprint\u001b[0m \u001b[0mmydat\u001b[0m\u001b[0;34m.\u001b[0m\u001b[0mshape\u001b[0m\u001b[0;34m\u001b[0m\u001b[0m\n\u001b[0;32m---> 11\u001b[0;31m \u001b[0mplt\u001b[0m\u001b[0;34m.\u001b[0m\u001b[0mbar\u001b[0m\u001b[0;34m(\u001b[0m\u001b[0mmydat\u001b[0m\u001b[0;34m,\u001b[0m \u001b[0mcol\u001b[0m\u001b[0;34m=\u001b[0m\u001b[0;34m[\u001b[0m\u001b[0;34m'red'\u001b[0m\u001b[0;34m,\u001b[0m\u001b[0;34m'blue'\u001b[0m\u001b[0;34m,\u001b[0m\u001b[0;34m'yellow'\u001b[0m\u001b[0;34m]\u001b[0m\u001b[0;34m)\u001b[0m\u001b[0;34m\u001b[0m\u001b[0m\n\u001b[0m\u001b[1;32m     12\u001b[0m \u001b[0;31m#barplot(t(as.matrix(tbl)), col=rainbow(3),xlab=\"Individual #\", ylab=\"Ancestry\", border=NA)\u001b[0m\u001b[0;34m\u001b[0m\u001b[0;34m\u001b[0m\u001b[0m\n",
      "\u001b[0;31mTypeError\u001b[0m: bar() takes at least 2 arguments (1 given)"
     ]
    },
    {
     "name": "stdout",
     "output_type": "stream",
     "text": [
      "(24, 3)\n"
     ]
    }
   ],
   "source": [
    "%matplotlib inline\n",
    "import numpy as np\n",
    "import matplotlib.pyplot as plt\n",
    "baseDir = '/home/mel_yang/projects/allTYstuff/SOMX2/'\n",
    "fh = 'UPA_all2.namer'\n",
    "myfile = open(baseDir+fh+'.3.Q','r')\n",
    "mydat = myfile.readlines()\n",
    "myfile.close()\n",
    "mydat = np.array([[float(i) for i in line.split()] for line in mydat])\n",
    "print mydat.shape\n",
    "plt.bar( #, col=['red','blue','yellow'])\n",
    "#barplot(t(as.matrix(tbl)), col=rainbow(3),xlab=\"Individual #\", ylab=\"Ancestry\", border=NA)"
   ]
  },
  {
   "cell_type": "code",
   "execution_count": null,
   "metadata": {
    "collapsed": false
   },
   "outputs": [],
   "source": []
  }
 ],
 "metadata": {
  "kernelspec": {
   "display_name": "Python 2",
   "language": "python",
   "name": "python2"
  },
  "language_info": {
   "codemirror_mode": {
    "name": "ipython",
    "version": 2
   },
   "file_extension": ".py",
   "mimetype": "text/x-python",
   "name": "python",
   "nbconvert_exporter": "python",
   "pygments_lexer": "ipython2",
   "version": "2.7.6"
  }
 },
 "nbformat": 4,
 "nbformat_minor": 0
}
