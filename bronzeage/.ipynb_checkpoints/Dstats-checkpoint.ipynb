{
 "cells": [
  {
   "cell_type": "code",
   "execution_count": 41,
   "metadata": {
    "collapsed": false
   },
   "outputs": [
    {
     "name": "stdout",
     "output_type": "stream",
     "text": [
      "Boshan\n",
      "107\n",
      "0\n",
      "0\n",
      "1\n",
      "2\n",
      "Mongola\n",
      "3\n",
      "Naxi\n",
      "4\n",
      "5\n",
      "6\n",
      "Xibo\n",
      "7\n",
      "Dai\n",
      "8\n",
      "Dong\n",
      "9\n",
      "Gelao\n",
      "10\n",
      "Lahu\n",
      "11\n",
      "Pops\n",
      "12\n",
      "Li\n",
      "13\n",
      "14\n",
      "Miao\n",
      "15\n",
      "16\n",
      "17\n",
      "Tujia\n",
      "18\n",
      "Yi\n",
      "19\n",
      "Zhuang\n",
      "20\n",
      "21\n",
      "22\n",
      "23\n",
      "24\n",
      "25\n",
      "26\n",
      "27\n",
      "28\n",
      "29\n",
      "30\n",
      "31\n",
      "32\n",
      "33\n",
      "Han_Sichuan\n",
      "34\n",
      "35\n",
      "Pops\n",
      "36\n",
      "Kinh_Vietnam_KHV\n",
      "37\n",
      "Korean\n",
      "38\n",
      "Thai\n",
      "39\n",
      "Qiang_Horpa\n",
      "40\n",
      "Tibetan_Chamdo\n",
      "41\n",
      "Tibetan_Gangcha\n",
      "42\n",
      "Tibetan_Gannan\n",
      "43\n",
      "Tibetan_Lhasa\n",
      "44\n",
      "Tibetan_Nagqu\n",
      "45\n",
      "Tibetan_Shannan\n",
      "46\n",
      "Tibetan_Shigatse\n",
      "47\n",
      "48\n",
      "Tibetan_Xinlong\n",
      "49\n",
      "Tibetan_Xunhua\n",
      "50\n",
      "Tibetan_Yajiang\n",
      "51\n",
      "Japanese\n",
      "52\n",
      "Ami_Stoneking\n",
      "53\n",
      "Atayal_Stoneking\n",
      "54\n",
      "Tu\n",
      "55\n",
      "Dongxiang\n",
      "56\n",
      "Kyrgyz_China\n",
      "57\n",
      "Kyrgyz\n",
      "58\n",
      "Kazakh_China\n",
      "59\n",
      "Pops\n",
      "60\n",
      "Kazakh\n",
      "61\n",
      "Uygur\n",
      "62\n",
      "Mongol\n",
      "63\n",
      "Tibetan_Yunnan\n",
      "64\n",
      "Bunun\n",
      "65\n",
      "66\n",
      "67\n",
      "Vietnamese\n",
      "68\n",
      "Paiwan\n",
      "69\n",
      "Rukai\n",
      "70\n",
      "Hakka\n",
      "71\n",
      "Pops\n",
      "72\n",
      "73\n",
      "Pingpu\n",
      "74\n",
      "Atayal_Coriell\n",
      "75\n",
      "Ami_Coriell\n",
      "76\n",
      "Bonan\n",
      "77\n",
      "Yugur_Eastern\n",
      "78\n",
      "Yugur_Western\n",
      "79\n",
      "80\n",
      "Malay\n",
      "81\n",
      "82\n",
      "Chokhopani\n",
      "83\n",
      "Pops\n",
      "84\n",
      "85\n",
      "86\n",
      "87\n",
      "88\n",
      "Boshan\n",
      "89\n",
      "90\n",
      "Balikun\n",
      "91\n",
      "92\n",
      "93\n",
      "94\n",
      "95\n",
      "96\n",
      "97\n",
      "98\n",
      "99\n"
     ]
    },
    {
     "ename": "IndexError",
     "evalue": "index 99 is out of bounds for axis 1 with size 99",
     "output_type": "error",
     "traceback": [
      "\u001b[0;31m---------------------------------------------------------------------------\u001b[0m",
      "\u001b[0;31mIndexError\u001b[0m                                Traceback (most recent call last)",
      "\u001b[0;32m<ipython-input-41-22bb92f0777f>\u001b[0m in \u001b[0;36m<module>\u001b[0;34m()\u001b[0m\n\u001b[1;32m     41\u001b[0m         \u001b[0;32mprint\u001b[0m \u001b[0mind2\u001b[0m\u001b[0;34m\u001b[0m\u001b[0m\n\u001b[1;32m     42\u001b[0m         \u001b[0;32mif\u001b[0m \u001b[0mrefpop1\u001b[0m\u001b[0;34m==\u001b[0m\u001b[0mrefpop2\u001b[0m\u001b[0;34m:\u001b[0m \u001b[0;32mcontinue\u001b[0m\u001b[0;34m\u001b[0m\u001b[0m\n\u001b[0;32m---> 43\u001b[0;31m         \u001b[0;32mif\u001b[0m \u001b[0mmyaryp3\u001b[0m\u001b[0;34m[\u001b[0m\u001b[0mind1\u001b[0m\u001b[0;34m,\u001b[0m\u001b[0mind2\u001b[0m\u001b[0;34m]\u001b[0m\u001b[0;34m>\u001b[0m\u001b[0;36m0\u001b[0m \u001b[0;32mand\u001b[0m \u001b[0mmyaryp1\u001b[0m\u001b[0;34m[\u001b[0m\u001b[0mind2\u001b[0m\u001b[0;34m,\u001b[0m\u001b[0mind1\u001b[0m\u001b[0;34m]\u001b[0m\u001b[0;34m>\u001b[0m\u001b[0;36m0\u001b[0m\u001b[0;34m:\u001b[0m \u001b[0;32mprint\u001b[0m \u001b[0mrefpop2\u001b[0m\u001b[0;34m\u001b[0m\u001b[0m\n\u001b[0m",
      "\u001b[0;31mIndexError\u001b[0m: index 99 is out of bounds for axis 1 with size 99"
     ]
    }
   ],
   "source": [
    "import numpy as np\n",
    "pd=\"/mnt/solexa/mel_yang/bronzeage/Dstats/\"\n",
    "fh=\"ind_A_v13_TBH5\"\n",
    "easname=\"EASALL\"\n",
    "p4=\"Mbuti\"\n",
    "dir1=\"D_ANC_EAS_EAS_P4/\"\n",
    "dir2=\"D_EAS_EAS_ANC_P4/\"\n",
    "\n",
    "ancinds=[\"Boshan\"]\n",
    "for ancind in ancinds:\n",
    "    print ancind\n",
    "    anc3file=open(\"%s%s%s.D.ALL.%s_%s_%s_%s.Zmat\" % (pd,dir2,fh,easname,easname,ancind,p4),'r')\n",
    "    anc1file=open(\"%s%s%s.D.ALL.%s_%s_%s_%s.Zmat\" % (pd,dir1,fh,ancind,easname,easname,p4),'r')\n",
    "    anc3lines=anc3file.readlines()\n",
    "    anc1lines=anc1file.readlines()\n",
    "    anc3file.close()\n",
    "    anc1file.close()\n",
    "    myrefs=anc3lines[0].strip().split('\\t')[1:]\n",
    "    myaryp3=np.zeros((len(myrefs),len(myrefs)))\n",
    "    num=0\n",
    "    for ind,vals in enumerate(anc3lines):\n",
    "        xp3=vals.strip().split()\n",
    "        xp1=anc1lines[ind].strip().split()\n",
    "        if xp3[0]==\"Pops\": continue\n",
    "        myref=x[0]\n",
    "        myZsp3=[i for i in xp3 if i != xp3[0]]\n",
    "        myZsp3=np.array([float(i) if i != 'nan' else np.nan for i in myZsp3])\n",
    "        myZsp1=[i for i in xp1 if i != xp1[0]]\n",
    "        myZsp1=np.array([float(i) if i != 'nan' else np.nan for i in myZsp1])\n",
    "        if num==0: \n",
    "            myaryp3=myZsp3\n",
    "            myaryp1=myZsp1\n",
    "            num +=1\n",
    "        else: \n",
    "            myaryp3=np.vstack((myaryp3,myZsp3))\n",
    "            myaryp1=np.vstack((myaryp1,myZsp1))\n",
    "print len(myrefs)\n",
    "for ind1,refpop1 in enumerate(myrefs):\n",
    "    print ind1\n",
    "    for ind2,refpop2 in enumerate(myrefs):\n",
    "        print ind2\n",
    "        if refpop1==refpop2: continue\n",
    "        if myaryp3[ind1,ind2]>0 and myaryp1[ind2,ind1]>0: print refpop2"
   ]
  },
  {
   "cell_type": "code",
   "execution_count": null,
   "metadata": {
    "collapsed": true
   },
   "outputs": [],
   "source": []
  },
  {
   "cell_type": "code",
   "execution_count": null,
   "metadata": {
    "collapsed": true
   },
   "outputs": [],
   "source": []
  },
  {
   "cell_type": "code",
   "execution_count": null,
   "metadata": {
    "collapsed": true
   },
   "outputs": [],
   "source": []
  },
  {
   "cell_type": "code",
   "execution_count": null,
   "metadata": {
    "collapsed": true
   },
   "outputs": [],
   "source": [
    "%%writefile /home/melinda_yang/projects/bronzeage/TY_Dstats/calcD_anceas.py\n",
    "#%%writefile /home/mel_yang/projects/bronzeage/calcD_anceas.py\n",
    "import plotting_funcs as pf\n",
    "import HOdata\n",
    "\n",
    "#pD=\"/home/mel_yang/projects/bronzeage/\" #ivpp\n",
    "#outpd=\"/mnt/solexa/mel_yang/bronzeage/Dstats/D_AncEAS_AncEAS_P3_P4/\" #ivpp\n",
    "pD=\"/home/melinda_yang/data/HO_bronzeage/\" #mpi\n",
    "outpd=\"/home/melinda_yang/projects/bronzeage/TY_Dstats/D_AncEAS_AncEAS_P3_P4/\" #mpi\n",
    "fh=\"ind_A_v13_TBH5\"\n",
    "outs=[\"Mbuti\",\"French\"]\n",
    "#anceas=HOdata.anceas2+HOdata.anceas\n",
    "anceas=['Tianyuan', 'Donghuigou', 'Balikun', 'Boshan', 'Zhougongmiao', 'Yaojia', 'Linzi', \n",
    "        'XianShang', 'Xiaoshuangqiao', 'Guandimiao', 'Guandimiao_d','Tonglin', 'Zongri', \n",
    "        'Huoshaogou', 'Wuba', 'Shengedaliang', 'Muzhuzhuliang', 'Xinhua', 'Wuzhuangguo', \n",
    "        'Shimao', 'Boisman_MN', 'Chokhopani', 'Mebrak', 'Samdzong']\n",
    "pdeas=HOdata.alleas\n",
    "bsf,bsfsubset=(0,'all')\n",
    "\n",
    "for myp4 in outs:\n",
    "    for myind in pdeas:\n",
    "        p1,p2,p3,p4 = (anceas,anceas,myind,myp4)\n",
    "        subset = bsfsubset+'.'+\"AncEAS\"+'_'+\"AncEAS\"+'_'+p3+'_'+p4\n",
    "        mytups = [(i,j,p3,p4,'p2_'+i) for ind,i in enumerate(p1) for j in p2 if i != j and p3!=i and p3!=j]\n",
    "        pf.runD(p1,p2,mytups,pD,fh,subset,(0,1),(0,),fixed=(0,0,p3,p4),badsnpfile=bsf,outpd=outpd) ##indfilename=fh+\".hgdplabeled\"  \n"
   ]
  },
  {
   "cell_type": "code",
   "execution_count": 1,
   "metadata": {
    "collapsed": false
   },
   "outputs": [
    {
     "name": "stdout",
     "output_type": "stream",
     "text": [
      "Overwriting /home/melinda_yang/projects/bronzeage/TY_Dstats/calcD_EAS_EAS_TY_P4.py\n"
     ]
    }
   ],
   "source": [
    "%%writefile /home/melinda_yang/projects/bronzeage/TY_Dstats/calcD_EAS_EAS_TY_P4.py\n",
    "##HO data, D(EAS, EAS, TY, Mbuti)\n",
    "import plotting_funcs as pf\n",
    "#import HOdata\n",
    "allids=['Daur', 'Hezhen', 'Mongola', 'Naxi', 'Oroqen', 'Ulchi', 'Xibo', 'Dai', 'Dong', 'Gelao', 'Lahu', 'Li', 'Maonan', 'Miao', 'Mulam', 'She', 'Tujia', 'Yi', 'Zhuang', 'Cambodian', 'Han_Chongqing', 'Han_Fujian', 'Han_Guandong', 'Han_Henan', 'Han_HGDP', 'Han_Hubei', 'Han_Jiangsu', 'Han_NChina', 'Han_Shandong', 'Han_Shanghai', 'Han_Shanxi', 'Han_Sichuan', 'Han_Zhejiang', 'Kinh_Vietnam_KHV', 'Korean', 'Thai', 'Qiang_Horpa', 'Tibetan_Chamdo', 'Tibetan_Gangcha', 'Tibetan_Gannan', 'Tibetan_Lhasa', 'Tibetan_Nagqu', 'Tibetan_Shannan', 'Tibetan_Shigatse', 'Tibetan_Xinlong', 'Tibetan_Xunhua', 'Tibetan_Yajiang', 'Japanese', 'Ami_Stoneking', 'Atayal_Stoneking', 'Tu', 'Dongxiang', 'Kyrgyz_China', 'Kyrgyz', 'Kazakh_China', 'Kazakh', 'Uygur', 'Mongol', 'Tibetan_Yunnan', 'Bunun', 'Tao', 'Burmese', 'Vietnamese', 'Paiwan', 'Rukai', 'Hakka', 'Minnan', 'Pingpu', 'Atayal_Coriell', 'Ami_Coriell', 'Bonan', 'Yugur_Eastern', 'Yugur_Western', 'Salar', 'Malay', 'Malayan', 'Chokhopani', 'Mebrak', 'Samdzong', 'Boisman_MN', 'Tianyuan', 'Boshan', 'Donghuigou', 'Balikun', 'Zhougongmiao', 'Yaojia', 'Linzi', 'XianShang', 'Zongri', 'Huoshaogou', 'Wuba', 'Xiaoshuangqiao', 'Guandimiao', 'Shengedaliang', 'Muzhuzhuliang', 'Xinhua', 'Wuzhuangguo', 'Shimao', 'Tonglin']\n",
    "\n",
    "#pD=\"/home/mel_yang/projects/bronzeage/\"\n",
    "#outpd=\"/mnt/solexa/mel_yang/bronzeage/Dstats/D_EAS_EAS_Tianyuan_P4/\"\n",
    "pD=\"/home/melinda_yang/data/HO_bronzeage/\"\n",
    "outpd=\"/home/melinda_yang/projects/bronzeage/TY_Dstats/D_EAS_EAS_Tianyuan_Mbuti/\"\n",
    "fh=\"ind_A_v13_TBH5\"\n",
    "p4s=[\"Mbuti\"]\n",
    "myid = 'EAS'\n",
    "p3s = ['Tianyuan']\n",
    "bsf,bsfsubset=(pD+fh+\".transi.snp\",'transv')\n",
    "\n",
    "for myp3 in p3s:\n",
    "    for myp4 in p4s:\n",
    "        for ind2,myset in enumerate(allids):\n",
    "            for ind3,myset3 in enumerate(allids):\n",
    "                if ind3%11!=0: continue\n",
    "                if ind2%11!=0: continue\n",
    "                ##(p1, p2, p3s, p4s)\n",
    "                p1,p2,p3,p4 = (allids[ind2:(ind2+11)],allids[ind3:(ind3+11)],myp3,myp4)\n",
    "                subset = bsfsubset+'.'+myid+str(ind2)+'_'+myid+str(ind3)+'_'+p3+'_'+p4\n",
    "                mytups = [(i,j,p3,p4,'p1_'+i) for ind,i in enumerate(p1) for j in p2 if i != j and p3!=i and p3!=j]\n",
    "                pf.runD(p1,p2,mytups,pD,fh,subset,(0,1),(0,),fixed=(0,0,p3,p4),outpd=outpd,badsnpfile=bsf)"
   ]
  },
  {
   "cell_type": "code",
   "execution_count": 15,
   "metadata": {
    "collapsed": false
   },
   "outputs": [
    {
     "name": "stdout",
     "output_type": "stream",
     "text": [
      "Overwriting /home/mel_yang/projects/bronzeage/calcD_anceas.py\n"
     ]
    }
   ],
   "source": [
    "%%writefile /home/mel_yang/projects/bronzeage/calcD_anceas.py\n",
    "##HO data, D(EAS, EAS, TY, Mbuti)\n",
    "import plotting_funcs as pf\n",
    "#import HOdata\n",
    "allids=['Daur', 'Hezhen', 'Mongola', 'Naxi', 'Oroqen', 'Ulchi', 'Xibo', 'Dai', 'Dong', 'Gelao', 'Lahu', 'Li', 'Maonan', 'Miao', 'Mulam', 'She', 'Tujia', 'Yi', 'Zhuang', 'Cambodian', 'Han_Chongqing', 'Han_Fujian', 'Han_Guandong', 'Han_Henan', 'Han_HGDP', 'Han_Hubei', 'Han_Jiangsu', 'Han_NChina', 'Han_Shandong', 'Han_Shanghai', 'Han_Shanxi', 'Han_Sichuan', 'Han_Zhejiang', 'Kinh_Vietnam_KHV', 'Korean', 'Thai', 'Qiang_Horpa', 'Tibetan_Chamdo', 'Tibetan_Gangcha', 'Tibetan_Gannan', 'Tibetan_Lhasa', 'Tibetan_Nagqu', 'Tibetan_Shannan', 'Tibetan_Shigatse', 'Tibetan_Xinlong', 'Tibetan_Xunhua', 'Tibetan_Yajiang', 'Japanese', 'Ami_Stoneking', 'Atayal_Stoneking', 'Tu', 'Dongxiang', 'Kyrgyz_China', 'Kyrgyz', 'Kazakh_China', 'Kazakh', 'Uygur', 'Mongol', 'Tibetan_Yunnan', 'Bunun', 'Tao', 'Burmese', 'Vietnamese', 'Paiwan', 'Rukai', 'Hakka', 'Minnan', 'Pingpu', 'Atayal_Coriell', 'Ami_Coriell', 'Bonan', 'Yugur_Eastern', 'Yugur_Western', 'Salar', 'Malay', 'Malayan', 'Chokhopani', 'Mebrak', 'Samdzong', 'Boisman_MN', 'Tianyuan', 'Boshan', 'Donghuigou', 'Balikun', 'Zhougongmiao', 'Yaojia', 'Linzi', 'XianShang', 'Zongri', 'Huoshaogou', 'Wuba', 'Xiaoshuangqiao', 'Guandimiao', 'Shengedaliang', 'Muzhuzhuliang', 'Xinhua', 'Wuzhuangguo', 'Shimao', 'Tonglin']\n",
    "\n",
    "#pD=\"/home/mel_yang/projects/bronzeage/\"\n",
    "#outpd=\"/mnt/solexa/mel_yang/bronzeage/Dstats/D_EAS_EAS_Tianyuan_P4/\"\n",
    "pD=\"/home/melinda_yang/data/HO_bronzeage/\"\n",
    "outpd=\"/home/melinda_yang/projects/bronzeage/TY_Dstats/\"\n",
    "fh=\"ind_A_v13_TBH4\"\n",
    "p4s=[\"Mbuti\"]\n",
    "myid = 'EAS'\n",
    "p3s = ['Tianyuan']\n",
    "\n",
    "\n",
    "for myp3 in p3s:\n",
    "    for myp4 in p4s:\n",
    "        for ind2,myset in enumerate(allids):\n",
    "            for ind3,myset3 in enumerate(allids):\n",
    "                if ind3%5!=0: continue\n",
    "                if ind2%5!=0: continue\n",
    "                ##(p1, p2, p3s, p4s)\n",
    "                p1,p2,p3,p4 = (allids[ind2:(ind2+5)],allids[ind3:(ind3+5)],myp3,myp4)\n",
    "                subset = myid+str(ind2)+'_'+myid+str(ind3)+'_'+p3+'_'+p4\n",
    "                mytups = [(i,j,p3,p4,'p1_'+i) for ind,i in enumerate(p1) for j in p2 if i != j and p3!=i and p3!=j]\n",
    "                pf.runD(p1,p2,mytups,pD,fh,subset,(0,1),(0,),fixed=(0,0,p3,p4),outpd=outpd)\n"
   ]
  },
  {
   "cell_type": "code",
   "execution_count": null,
   "metadata": {
    "collapsed": true
   },
   "outputs": [],
   "source": []
  },
  {
   "cell_type": "code",
   "execution_count": null,
   "metadata": {
    "collapsed": true
   },
   "outputs": [],
   "source": []
  },
  {
   "cell_type": "code",
   "execution_count": null,
   "metadata": {
    "collapsed": true
   },
   "outputs": [],
   "source": []
  },
  {
   "cell_type": "code",
   "execution_count": 16,
   "metadata": {
    "collapsed": false
   },
   "outputs": [
    {
     "name": "stdout",
     "output_type": "stream",
     "text": [
      "['Daur', 'Hezhen', 'Mongola', 'Naxi', 'Oroqen', 'Ulchi', 'Xibo', 'Dai', 'Dong', 'Gelao', 'Lahu', 'Li', 'Maonan', 'Miao', 'Mulam', 'She', 'Tujia', 'Yi', 'Zhuang', 'Cambodian', 'Han_Chongqing', 'Han_Fujian', 'Han_Guandong', 'Han_Henan', 'Han_HGDP', 'Han_Hubei', 'Han_Jiangsu', 'Han_NChina', 'Han_Shandong', 'Han_Shanghai', 'Han_Shanxi', 'Han_Sichuan', 'Han_Zhejiang', 'Kinh_Vietnam_KHV', 'Korean', 'Thai', 'Qiang_Horpa', 'Tibetan_Chamdo', 'Tibetan_Gangcha', 'Tibetan_Gannan', 'Tibetan_Lhasa', 'Tibetan_Nagqu', 'Tibetan_Shannan', 'Tibetan_Shigatse', 'Tibetan_Xinlong', 'Tibetan_Xunhua', 'Tibetan_Yajiang', 'Japanese', 'Ami_Stoneking', 'Atayal_Stoneking', 'Tu', 'Dongxiang', 'Kyrgyz_China', 'Kyrgyz', 'Kazakh_China', 'Kazakh', 'Uygur', 'Mongol', 'Tibetan_Yunnan', 'Bunun', 'Tao', 'Burmese', 'Vietnamese', 'Paiwan', 'Rukai', 'Hakka', 'Minnan', 'Pingpu', 'Atayal_Coriell', 'Ami_Coriell', 'Bonan', 'Yugur_Eastern', 'Yugur_Western', 'Salar', 'Malay', 'Malayan', 'Chokhopani', 'Mebrak', 'Samdzong', 'Boisman_MN', 'Tianyuan', 'Boshan', 'Donghuigou', 'Balikun', 'Zhougongmiao', 'Yaojia', 'Linzi', 'XianShang', 'Zongri', 'Huoshaogou', 'Wuba', 'Xiaoshuangqiao', 'Guandimiao', 'Shengedaliang', 'Muzhuzhuliang', 'Xinhua', 'Wuzhuangguo', 'Shimao', 'Tonglin']\n",
      "99\n"
     ]
    }
   ],
   "source": [
    "import HOdata\n",
    "print HOdata.alleas\n",
    "print len(HOdata.alleas)"
   ]
  },
  {
   "cell_type": "code",
   "execution_count": null,
   "metadata": {
    "collapsed": true
   },
   "outputs": [],
   "source": []
  },
  {
   "cell_type": "code",
   "execution_count": null,
   "metadata": {
    "collapsed": true
   },
   "outputs": [],
   "source": []
  },
  {
   "cell_type": "code",
   "execution_count": null,
   "metadata": {
    "collapsed": true
   },
   "outputs": [],
   "source": []
  },
  {
   "cell_type": "code",
   "execution_count": null,
   "metadata": {
    "collapsed": true
   },
   "outputs": [],
   "source": []
  },
  {
   "cell_type": "code",
   "execution_count": null,
   "metadata": {
    "collapsed": true
   },
   "outputs": [],
   "source": [
    "%%writefile /home/mel_yang/projects/bronzeage/calcTibD001.py\n",
    "import plotting_funcs as pf\n",
    "\n",
    "eas = [\"Han_Chongqing\",\"Han_Fujian\",\"Han_Guandong\",\"Han_Henan\",\n",
    "          \"Han_HGDP\",\"Han_Hubei\",\"Han_Jiangsu\",\"Han_NChina\",\"Han_Shandong\",\"Han_Shanghai\",\n",
    "          \"Han_Shanxi\",\"Han_Sichuan\",\"Han_Zhejiang\",\"Korean\",\"Japanese\",\"Ulchi\",\"Xibo\"]\n",
    "tib=[\"Tibetan_Chamdo\",\"Tibetan_Gangcha\",\"Tibetan_Gannan\",\"Tibetan_Lhasa\",\n",
    "          \"Tibetan_Nagqu\",\"Tibetan_Shannan\",\"Tibetan_Shigatse\",\"Tibetan_Xinlong\",\n",
    "          \"Tibetan_Xunhua\"]\n",
    "allids=[\"Ami_Coriell\"]#\"Onge\",\n",
    "outs = [\"Mbuti\",\"Chimp\"]\n",
    "\n",
    "pD=\"/home/mel_yang/projects/bronzeage/\"\n",
    "fh=\"ind_A_v13_TBH\"\n",
    "\n",
    "for myp4 in outs:\n",
    "    for myancind in allids:\n",
    "        p1,p2,p3,p4 = (tib,eas,myancind,myp4)\n",
    "        subset = \"TIB\"+'_'+\"NHAN\"+'_'+p3+'_'+p4\n",
    "        mytups = [(i,j,p3,p4,'p2_'+i) for ind,i in enumerate(p1) for j in p2 if i != j and p3!=i and p3!=j]\n",
    "        pf.runD(p1,p2,mytups,pD,fh,subset,(0,1),(0,),fixed=(0,0,p3,p4))   "
   ]
  },
  {
   "cell_type": "code",
   "execution_count": 11,
   "metadata": {
    "collapsed": false
   },
   "outputs": [
    {
     "name": "stdout",
     "output_type": "stream",
     "text": [
      "Overwriting /home/mel_yang/projects/bronzeage/qpGraph_oneattime.py\n"
     ]
    }
   ],
   "source": [
    "%%writefile /home/mel_yang/projects/bronzeage/qpGraph_oneattime.py\n",
    "#import TY_maindata as md\n",
    "import projmodules as pm\n",
    "import multiprocessing\n",
    "from multiprocessing import Pool\n",
    "\n",
    "pD=\"/home/mel_yang/projects/bronzeage/\"  \n",
    "subset=\"mEAS\"\n",
    "fh=\"ind_A_v13_TBH\"\n",
    "\n",
    "basegraphname,pop1,mypool = ('A0EAS','Tibetan_Shannan',1)\n",
    "pm.graph_addadmix_uniq(pD,fh,subset,basegraphname,[pop1,pop1],comments='NA',pool=mypool)\n",
    "pm.graph_addnode_uniq(pD,fh,subset,basegraphname,[pop1,pop1],comments='NA',pool=mypool)\n"
   ]
  },
  {
   "cell_type": "code",
   "execution_count": null,
   "metadata": {
    "collapsed": true
   },
   "outputs": [],
   "source": []
  }
 ],
 "metadata": {
  "kernelspec": {
   "display_name": "Python 2",
   "language": "python",
   "name": "python2"
  },
  "language_info": {
   "codemirror_mode": {
    "name": "ipython",
    "version": 2
   },
   "file_extension": ".py",
   "mimetype": "text/x-python",
   "name": "python",
   "nbconvert_exporter": "python",
   "pygments_lexer": "ipython2",
   "version": "2.7.6"
  }
 },
 "nbformat": 4,
 "nbformat_minor": 2
}
