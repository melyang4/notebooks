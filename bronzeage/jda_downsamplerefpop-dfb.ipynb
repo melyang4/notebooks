{
 "cells": [
  {
   "cell_type": "code",
   "execution_count": 3,
   "metadata": {
    "collapsed": false
   },
   "outputs": [
    {
     "name": "stdout",
     "output_type": "stream",
     "text": [
      "Overwriting /mnt/solexa/mel_yang/bronzeage/jda/jda_getpd_dfreq_downsample.py\n"
     ]
    }
   ],
   "source": [
    "%%writefile /mnt/solexa/mel_yang/bronzeage/jda/jda_getpd_dfreq_downsample.py\n",
    "##Make frequency and read file, oriented by ancestry (allele in chimp)\n",
    "\n",
    "import collections\n",
    "import numpy as np\n",
    "import sys\n",
    "import random\n",
    "#moderneas=\"Japanese\"\n",
    "moderneas=sys.argv[1]\n",
    "\n",
    "pD1=\"/mnt/solexa/mel_yang/bronzeage/data/\"\n",
    "pD2=\"/mnt/solexa/mel_yang/bronzeage/jda_dfb/\"\n",
    "fh=\"ind_A_v13_TBH\"\n",
    "#indfilename=\"ind_A_v13_TBH_manualpdeasmerge\"\n",
    "indfilename=\"ind_A_v13_TBH_mergeHanALL\"\n",
    "indfile=open(pD1+indfilename+\".ind\",'r')\n",
    "pdeasall=[]\n",
    "for ind,line in enumerate(indfile):\n",
    "    x = line.split()\n",
    "    if x[2] == moderneas: pdeasall.append(ind)\n",
    "    if x[2] == \"Chimp\": ancind=ind ##ONLY 0/2, no heterozygotes\n",
    "indfile.close()\n",
    "\n",
    "print len(pdeasall)\n",
    "for howmany in [10,25,40,50,75,100,111]: #[5,10,15,20,25,30]:\n",
    "    pdeas=sorted(random.sample(pdeasall,howmany))\n",
    "\n",
    "    newfile=open(pD2+indfilename+\".pdEAS_dfb1.\"+moderneas+\".ss\"+str(howmany)+\".dfreq\",'w')\n",
    "    #newfile.write(moderneas+\".ss\"+str(howmany)+'\\n')\n",
    "    newfile.write('kref\\tnref\\n')\n",
    "    genofile=open(pD1+fh+\".geno\",'r')\n",
    "    num=0\n",
    "    for line in genofile:\n",
    "        num+=1\n",
    "        #if num==10: break\n",
    "        ancgeno=int(line[ancind])\n",
    "\n",
    "        easgeno=[int(line[ind]) for ind in pdeas]\n",
    "        if 9 in easgeno: mydfreq=-5\n",
    "        else: \n",
    "            total=2.0*len(easgeno)\n",
    "            secondallele=np.sum(easgeno)\n",
    "            if ancgeno==0: mydfreq= secondallele #secondallele/total\n",
    "            elif ancgeno==2: mydfreq=total-secondallele #1-(secondallele/total)\n",
    "            else: print \"ancgeno is\", ancgeno\n",
    "        dfreqs=mydfreq\n",
    "        #if indiv==\"Han_HGDP\": print easgeno, ancgeno, mydfreq,mydfreq*66\n",
    "        newfile.write(\"%i\\t%i\" % (dfreqs,total) + '\\n')\n",
    "        #newfile.write(\"%.4f\" % dfreqs + '\\n')\n",
    "\n",
    "    newfile.close()\n",
    "\n",
    "  \n",
    "    "
   ]
  },
  {
   "cell_type": "code",
   "execution_count": 27,
   "metadata": {
    "collapsed": false
   },
   "outputs": [
    {
     "name": "stdout",
     "output_type": "stream",
     "text": [
      "Overwriting /mnt/solexa/mel_yang/bronzeage/jda/jda_getpd_dfreq_downsample_noAFR.py\n"
     ]
    }
   ],
   "source": [
    "%%writefile /mnt/solexa/mel_yang/bronzeage/jda/jda_getpd_dfreq_downsample_noAFR.py\n",
    "##Make frequency and read file, oriented by ancestry (allele in chimp)\n",
    "##Treat sites fixed in Africans (Yoruba, Mandenka, Mbuti, Ju_hoan_North) as missing data - filter out!\n",
    "\n",
    "import collections\n",
    "import numpy as np\n",
    "import sys\n",
    "import random\n",
    "#moderneas=\"Japanese\"\n",
    "moderneas=sys.argv[1]\n",
    "\n",
    "pD1=\"/mnt/solexa/mel_yang/bronzeage/data/\"\n",
    "pD2=\"/mnt/solexa/mel_yang/bronzeage/jda_dfb/\"\n",
    "fh=\"ind_A_v13_TBH\"\n",
    "subset=\"fixedAfr_dfb1\"\n",
    "#indfilename=\"ind_A_v13_TBH_manualpdeasmerge\"\n",
    "indfilename=\"ind_A_v13_TBH_mergeHanALL\"\n",
    "indfile=open(pD1+indfilename+\".ind\",'r')\n",
    "africans=[\"Yoruba\", \"Mandenka\", \"Mbuti\", \"Ju_hoan_North\"]\n",
    "pdeasall,africanall=[],[]\n",
    "for ind,line in enumerate(indfile):\n",
    "    x = line.split()\n",
    "    if x[2] == moderneas: pdeasall.append(ind)\n",
    "    if x[2] in africans: africanall.append(ind)\n",
    "    if x[2] == \"Chimp\": ancind=ind ##ONLY 0/2, no heterozygotes\n",
    "indfile.close()\n",
    "print len(africanall)\n",
    "print len(pdeasall)\n",
    "for howmany in [10,25,40,50,75,100,111]: #[5,10,15,20,25,30]:\n",
    "    pdeas=sorted(random.sample(pdeasall,howmany))\n",
    "\n",
    "    newfile=open(pD2+indfilename+\".pdEAS_\"+subset+\".\"+moderneas+\".ss\"+str(howmany)+\".dfreq\",'w')\n",
    "    #newfile.write(moderneas+\".ss\"+str(howmany)+'\\n')\n",
    "    newfile.write('kref\\tnref\\n')\n",
    "    genofile=open(pD1+fh+\".geno\",'r')\n",
    "    num=0\n",
    "    for line in genofile:\n",
    "        num+=1\n",
    "        #if num==10: break\n",
    "        ancgeno=int(line[ancind])\n",
    "        easgeno=[int(line[ind]) for ind in pdeas]\n",
    "        afrgeno=''.join([str(i) for i in list(set([int(line[ind]) for ind in africanall]))])\n",
    "        if afrgeno in ['09','90','29','92']: mydfreq=-5\n",
    "        else: \n",
    "            if 9 in easgeno: mydfreq=-5\n",
    "            else: \n",
    "                total=2.0*len(easgeno)\n",
    "                secondallele=np.sum(easgeno)\n",
    "                if ancgeno==0: mydfreq= secondallele #secondallele/total\n",
    "                elif ancgeno==2: mydfreq=total-secondallele #1-(secondallele/total)\n",
    "                else: print \"ancgeno is\", ancgeno\n",
    "        dfreqs=mydfreq\n",
    "        #if indiv==\"Han_HGDP\": print easgeno, ancgeno, mydfreq,mydfreq*66\n",
    "        newfile.write(\"%i\\t%i\" % (dfreqs,total) + '\\n')\n",
    "        #newfile.write(\"%.4f\" % dfreqs + '\\n')\n",
    "\n",
    "    newfile.close()\n",
    "\n",
    "  \n",
    "    "
   ]
  },
  {
   "cell_type": "code",
   "execution_count": null,
   "metadata": {
    "collapsed": true
   },
   "outputs": [],
   "source": []
  },
  {
   "cell_type": "code",
   "execution_count": 53,
   "metadata": {
    "collapsed": false
   },
   "outputs": [
    {
     "name": "stdout",
     "output_type": "stream",
     "text": [
      "33\n"
     ]
    }
   ],
   "source": []
  },
  {
   "cell_type": "code",
   "execution_count": 28,
   "metadata": {
    "collapsed": false
   },
   "outputs": [],
   "source": [
    "%%bash\n",
    "pD=\"/mnt/solexa/mel_yang/bronzeage/jda/\"\n",
    "pD2=\"/mnt/solexa/mel_yang/bronzeage/jda_dfb/\"\n",
    "fh=\"ind_A_v13_TBH_mergeHanALL\"\n",
    "subset=\"_dfb1\"\n",
    "subset=\"_fixedAfr_dfb1\"\n",
    "addon=\"_switchanc\"\n",
    "ref=\"HanALL\"\n",
    "for ss in 10 25 40 50 75 100 111; \n",
    "do\n",
    "    paste ${pD}jda_anceas${addon}.chrompos ${pD2}${fh}.pdEAS${subset}.${ref}.ss${ss}.dfreq ${pD}jda_anceas${addon}.readcount > ${pD2}jda${subset}_anceas${addon}_${ref}.ss${ss}.comb\n",
    "    #_nomissfixed.comb\n",
    "done"
   ]
  },
  {
   "cell_type": "code",
   "execution_count": 12,
   "metadata": {
    "collapsed": false
   },
   "outputs": [],
   "source": [
    "pD2=\"/mnt/solexa/mel_yang/bronzeage/jda_dfb/\"\n",
    "orderednames=['L0554','R2039','R2142','L0597','R2096','R2148',\n",
    "              'R2038','R2099','TY','M11','M12','M819','M820',\n",
    "              'M827','M9JM6-1','L0729','D1965','D1968','D5602',\n",
    "              'D5604','D5605','D5607','D5608']\n",
    "mypops=[\"Tonglin\",\"Linzi\",\"XianShang\",\"Yaojia\",\"Zhougongmiao\",\n",
    "       \"XianShang\",\"Linzi\",\"Linzi\",\"Tianyuan\",\"Donghuigou\",\n",
    "       \"Donghuigou\",\"Donghuigou\",\"Donghuigou\",\"Donghuigou\",\n",
    "        \"Donghuigou\",\"Balikun\",\"Xiaoshuangqiao\",\"Xiaoshuangqiao\",\n",
    "        \"Xiaoshuangqiao\",\"Guandimiao\",\"Guandimiao\",\n",
    "       \"Guandimiao_contaminated\",\"Guandimiao\"]\n",
    "newindfile=open(pD2+\"ancindivs.ind\",'w')\n",
    "for ind,i in enumerate(orderednames):\n",
    "    newindfile.write(\"%s\\tU\\t%s\\n\" % (i,mypops[ind]) )\n",
    "newindfile.close()"
   ]
  },
  {
   "cell_type": "code",
   "execution_count": 29,
   "metadata": {
    "collapsed": false
   },
   "outputs": [],
   "source": [
    "##Remove missing or fixed data\n",
    "##Remove \n",
    "\n",
    "pD2=\"/mnt/solexa/mel_yang/bronzeage/jda_dfb/\"\n",
    "addon=\"_switchanc\"\n",
    "subset1=\"dfb1_\"\n",
    "subset1=\"fixedAfr_dfb1_\"\n",
    "subset2=subset1#+\"df5co_\"\n",
    "#subset2=subset1 #+\"manualmerge_\"\n",
    "ref=\"HanALL\"\n",
    "ss=30\n",
    "for ss in [10,25,40,50,75,100,111]:\n",
    "#for ref in [\"Japanese\",\"French\",\"Han_NChina\",\"Han_SChina\",\"Kazakh\",\n",
    "#            \"TibetanSW\",\"She_Miao_Tujia\",\"Thai_Dai\",\"Spanish\",\"Yoruba\"]:\n",
    "    combfile=open(pD2+\"jda_\"+subset1+\"anceas\"+addon+\"_\"+ref+\".ss\"+str(ss)+\".comb\",'r')\n",
    "    newcombfile=open(pD2+\"jda_\"+subset2+\"anceas\"+addon+\"_\"+ref+\".ss\"+str(ss)+\"_nomissfixed.comb\",'w')\n",
    "    for line in combfile:\n",
    "        x=line.split()\n",
    "        if x[0] == \"Chrom\": newcombfile.write(line); continue\n",
    "        if x[2] == '0' or x[2] == x[3] or x[2] == \"-5\": continue\n",
    "        #myfreq=float(x[2])/float(x[3])\n",
    "        #if myfreq<0.05 or myfreq>0.95: continue\n",
    "        #if myfreq<0.025 or myfreq>0.975: continue\n",
    "        newcombfile.write(line)\n",
    "    combfile.close()\n",
    "    newcombfile.close()"
   ]
  },
  {
   "cell_type": "code",
   "execution_count": null,
   "metadata": {
    "collapsed": false
   },
   "outputs": [],
   "source": []
  },
  {
   "cell_type": "code",
   "execution_count": 31,
   "metadata": {
    "collapsed": false
   },
   "outputs": [
    {
     "name": "stdout",
     "output_type": "stream",
     "text": [
      "Overwriting /home/mel_yang/projects/bronzeage/continuity/run_mel_job_all_HanALLss_dfb1_testbeta0.py\n"
     ]
    }
   ],
   "source": [
    "%%writefile /home/mel_yang/projects/bronzeage/continuity/run_mel_job_all_HanALLss_dfb1_testbeta0.py\n",
    "from ancient_genotypes import *\n",
    "from numpy import *\n",
    "import pandas\n",
    "import cPickle\n",
    "pD=\"/mnt/solexa/mel_yang/bronzeage/jda_dfb/\"\n",
    "addon=\"_switchanc\"\n",
    "refpop=\"HanALL\"\n",
    "myss=[10,25,40,50,75,100,111]\n",
    "#subset1=\"dfb1_df5co\"\n",
    "subset1=\"dfb1\"\n",
    "subset1=\"fixedAfr_dfb1\"\n",
    "#subset1=\"dfb1_manualmerge_beta1\"\n",
    "subset2=subset1+\"_beta0\"\n",
    "#subset2=subset1\n",
    "indfile=pD+\"ancindivs.ind\"\n",
    "#newfile=open(pD+refpop+\".\"+subset2+\"alphabetadiffrefpops.txt\",'w')\n",
    "#for ss in myss:\n",
    "#    myref=refpop+\".ss\"+str(ss)\n",
    "#    readfile=pD+\"jda_\"+subset1+\"_anceas\"+addon+\"_\"+myref+\"_nomissfixed.comb\"\n",
    "#    unique_pops, inds, label, pops, freqs, read_lists = parse_reads_by_pop(readfile,indfile,cutoff=0)\n",
    "#    alpha, beta = get_beta_params(freqs,read_lists)\n",
    "#    newfile.write(\"%s\\t%.4f\\t%.4f\\n\" % (refpop,alpha,beta))\n",
    "#newfile.close()\n",
    "alpha,beta=(0.5,0.5)\n",
    "for ss in myss:\n",
    "    myref=refpop+\".ss\"+str(ss)\n",
    "    readfile=pD+\"jda_\"+subset1+\"_anceas\"+addon+\"_\"+myref+\"_nomissfixed.comb\"\n",
    "    \n",
    "    unique_pops, inds, label, pops, freqs, read_lists = parse_reads_by_pop(readfile,indfile,cutoff=0)\n",
    "\n",
    "    params_pops = optimize_pop_params_error_parallel(freqs,read_lists,num_core=10,detail=0,alpha=alpha,beta=beta,continuity=False)\n",
    "    cPickle.dump(params_pops,open(pD+subset2+\"_ind_A_v13_TBH\"+addon+\".\"+myref+\"_contFalse.pickle\",\"w\"))\n",
    "    params_pops = optimize_pop_params_error_parallel(freqs,read_lists,num_core=10,detail=0,alpha=alpha,beta=beta,continuity=True)\n",
    "    cPickle.dump(params_pops,open(pD+subset2+\"_ind_A_v13_TBH\"+addon+\".\"+myref+\"_contTrue.pickle\",\"w\"))\n"
   ]
  },
  {
   "cell_type": "code",
   "execution_count": 5,
   "metadata": {
    "collapsed": false
   },
   "outputs": [
    {
     "name": "stdout",
     "output_type": "stream",
     "text": [
      "Overwriting /home/mel_yang/projects/bronzeage/continuity/run_mel_job_all_ancpopns.py\n"
     ]
    }
   ],
   "source": [
    "%%writefile /home/mel_yang/projects/bronzeage/continuity/run_mel_job_all_ancpopns.py\n",
    "from ancient_genotypes import *\n",
    "from numpy import *\n",
    "import pandas\n",
    "import cPickle\n",
    "pD=\"/mnt/solexa/mel_yang/bronzeage/jda_dfb/\"\n",
    "addon=\"_switchanc\"\n",
    "refpop=\"HanALL\"\n",
    "myss=[10,25,40,50,75,100,111]\n",
    "myss=[10]\n",
    "subset1=\"dfb1\"\n",
    "subset1=\"fixedAfr_dfb1\"\n",
    "\n",
    "subset2=subset1+\"_beta0\"\n",
    "\n",
    "indfile=pD+\"ancindivs.ind\"\n",
    "\n",
    "alpha,beta=(0.5,0.5)\n",
    "for ss in myss:\n",
    "    myref=refpop+\".ss\"+str(ss)\n",
    "    readfile=pD+\"jda_\"+subset1+\"_anceas\"+addon+\"_\"+myref+\"_nomissfixed.comb\"\n",
    "    \n",
    "    unique_pops, inds, label, pops, freqs, read_lists = parse_reads_by_pop(readfile,indfile,cutoff=0)\n",
    "    print inds\n",
    "    print pops\n",
    "    print label"
   ]
  },
  {
   "cell_type": "code",
   "execution_count": 6,
   "metadata": {
    "collapsed": false
   },
   "outputs": [
    {
     "name": "stdout",
     "output_type": "stream",
     "text": [
      "L0554\tU\tTonglin\n",
      "R2039\tU\tLinzi\n",
      "R2142\tU\tXianShang\n",
      "L0597\tU\tYaojia\n",
      "R2096\tU\tZhougongmiao\n",
      "R2148\tU\tXianShang\n",
      "R2038\tU\tLinzi\n",
      "R2099\tU\tLinzi\n",
      "TY\tU\tTianyuan\n",
      "M11\tU\tDonghuigou\n",
      "M12\tU\tDonghuigou\n",
      "M819\tU\tDonghuigou\n",
      "M820\tU\tDonghuigou\n",
      "M827\tU\tDonghuigou\n",
      "M9JM6-1\tU\tDonghuigou\n",
      "L0729\tU\tBalikun\n",
      "D1965\tU\tXiaoshuangqiao\n",
      "D1968\tU\tXiaoshuangqiao\n",
      "D5602\tU\tXiaoshuangqiao\n",
      "D5604\tU\tGuandimiao\n",
      "D5605\tU\tGuandimiao\n",
      "D5607\tU\tGuandimiao_contaminated\n",
      "D5608\tU\tGuandimiao\n"
     ]
    }
   ],
   "source": [
    "%%bash\n",
    "\n",
    "pD=\"/mnt/solexa/mel_yang/bronzeage/jda_dfb/\"\n",
    "\n",
    "cat ${pD}\"ancindivs.ind\""
   ]
  },
  {
   "cell_type": "code",
   "execution_count": 33,
   "metadata": {
    "collapsed": false
   },
   "outputs": [
    {
     "name": "stdout",
     "output_type": "stream",
     "text": [
      "Writing /home/mel_yang/projects/bronzeage/continuity/run_mel_job_all_HanALLss.py\n"
     ]
    }
   ],
   "source": [
    "%%writefile /home/mel_yang/projects/bronzeage/continuity/run_mel_job_all_HanALLss.py\n",
    "from ancient_genotypes import *\n",
    "from numpy import *\n",
    "import pandas\n",
    "import cPickle\n",
    "pD=\"/mnt/solexa/mel_yang/bronzeage/jda_dfb/\"\n",
    "addon=\"_switchanc\"\n",
    "refpop=\"HanALL\"\n",
    "myss=[10,25,40,50,75,100,111]\n",
    "\n",
    "subset1=\"dfb1\"\n",
    "subset1=\"fixedAfr_dfb1\"\n",
    "subset2=subset1+\"nobeta\"\n",
    "\n",
    "for ss in myss:\n",
    "    myref=refpop+\".ss\"+str(ss)\n",
    "    readfile=pD+\"jda_\"+subset1+\"_anceas\"+addon+\"_\"+myref+\"_nomissfixed.comb\"\n",
    "    freq, reads, inds = parse_reads(readfile,cutoff=0)\n",
    "    ##Tonglin, Linzi, XianShang, Yaojia/ZGM, TY, DHG, BLK, XSQ, ZGM, ZGM_cont\n",
    "    pops=[[0],[1,6,7],[2,5],[3],[4],[8],[9,10,11,12,13,14],[15],[16,17,18],[19,20,22],[21]]\n",
    "    params_pops = optimize_pop_params_error_parallel(freq,reads,pops,detail=False,num_core=8,continuity=False)\n",
    "    cPickle.dump(params_pops,open(pD+subset2+\"_ind_A_v13_TBH\"+addon+\".\"+myref+\"_contFalse.pickle\",\"w\"))\n",
    "    params_pops = optimize_pop_params_error_parallel(freq,reads,pops,detail=False,num_core=8,continuity=True)\n",
    "    cPickle.dump(params_pops,open(pD+subset2+\"_ind_A_v13_TBH\"+addon+\".\"+myref+\"_contTrue.pickle\",\"w\"))"
   ]
  },
  {
   "cell_type": "code",
   "execution_count": null,
   "metadata": {
    "collapsed": false
   },
   "outputs": [],
   "source": []
  },
  {
   "cell_type": "code",
   "execution_count": 4,
   "metadata": {
    "collapsed": false
   },
   "outputs": [
    {
     "name": "stdout",
     "output_type": "stream",
     "text": [
      "['Tonglin', 'Linzi', 'XianShang', 'Yaojia', 'Zhougongmiao', 'Tianyuan', 'Donghuigou', 'Balikun', 'Xiaoshuangqiao', 'Guandimiao', 'Guandimiao_contaminated']\n",
      "['Balikun', 'Donghuigou', 'Guandimiao', 'Guandimiao_contaminated', 'Linzi', 'Tianyuan', 'Tonglin', 'XianShang', 'Xiaoshuangqiao', 'Yaojia', 'Zhougongmiao']\n",
      "XianShang\n",
      "-------HanALL.ss10-------\n",
      "False XianShang 76679.4309627 [0.024323223495952527, 0.067866665411844745, 0.033017950620698171, 0.028243489229165777]\n",
      "True XianShang 76705.3588471 [0.029802955261483143, 0.02991062594219206, 0.025503484255599378]\n",
      "25.9278843973\n",
      "XianShang\n",
      "-------HanALL.ss25-------\n",
      "False XianShang 76618.9888126 [0.010822769328247448, 0.029971332032857966, 0.021132785135763773, 0.016735549563565488]\n",
      "True XianShang 76625.4954012 [0.013159855657024273, 0.019950140583578007, 0.015815538330153468]\n",
      "6.50658861645\n",
      "XianShang\n",
      "-------HanALL.ss40-------\n",
      "False XianShang 75194.2741093 [0.0049737342084186665, 0.028983113627577349, 0.020527358967345932, 0.016249550659978348]\n",
      "True XianShang 75200.4237509 [0.0070970594400647895, 0.019481831642786555, 0.015470653845430922]\n",
      "6.14964159556\n",
      "XianShang\n",
      "-------HanALL.ss50-------\n",
      "False XianShang 73248.460589 [0.0037568331492193914, 0.021823838732609322, 0.017776918836016217, 0.015392601106640726]\n",
      "True XianShang 73251.9867098 [0.0053572793904956362, 0.017020436731022631, 0.014830113074269244]\n",
      "3.52612074098\n",
      "XianShang\n",
      "-------HanALL.ss75-------\n",
      "False XianShang 73328.6711504 [0.0022948501993645051, 0.017707473313712301, 0.017361443419144966, 0.012254833721266307]\n",
      "True XianShang 73331.0885052 [0.0035759459838114066, 0.016773675272315786, 0.011808300016154136]\n",
      "2.417354816\n",
      "XianShang\n",
      "-------HanALL.ss100-------\n",
      "False XianShang 71219.1222591 [0.0013837613532172316, 0.016190943487790693, 0.016563732026323243, 0.011827209049448]\n",
      "True XianShang 71221.1211074 [0.0025238676331853266, 0.016053497743826053, 0.011458463512724674]\n",
      "1.9988483484\n",
      "XianShang\n",
      "-------HanALL.ss111-------\n",
      "False XianShang 70098.7819263 [0.0014685763615876182, 0.015465688451295279, 0.016292876781758101, 0.011940668019463623]\n",
      "True XianShang 70100.5871063 [0.0025423848146791704, 0.015822743898622441, 0.011584412313773267]\n",
      "1.80517997028\n"
     ]
    },
    {
     "data": {
      "image/png": "[encoded data removed]",
      "text/plain": [
       "<matplotlib.figure.Figure at 0x7efe542ff990>"
      ]
     },
     "metadata": {},
     "output_type": "display_data"
    }
   ],
   "source": [
    "%matplotlib inline\n",
    "\n",
    "import cPickle\n",
    "import matplotlib.pyplot as plt\n",
    "pD=\"/mnt/solexa/mel_yang/bronzeage/jda_dfb/\"\n",
    "addon=\"_switchanc\"\n",
    "#subset=\"dfb1_df5co_beta1_\"\n",
    "subset=\"dfb1_beta1_\"\n",
    "#subset=\"fixedAfr_nobeta_\"\n",
    "#subset=\"fixedAfr_dfb1_beta1_\"\n",
    "subset=\"nobeta_\" #df5co_\"\n",
    "#subset=\"\"\n",
    "myss=[10,25,40,50,75,100,111] #[5,10,15,20,25,30] #\n",
    "refpops=[\"HanALL.ss%i\" % i for i in myss]\n",
    "#refpops=[\"Han_HGDP\"]\n",
    "\n",
    "mypops=[]\n",
    "indfile=open(pD+\"ancindivs.ind\",'r')\n",
    "for line in indfile: \n",
    "    x=line.split()\n",
    "    if x[2] in mypops: continue\n",
    "    else: mypops.append(x[2])\n",
    "print mypops\n",
    "mypops=sorted(mypops)\n",
    "print mypops\n",
    "ancpop=\"XianShang\"\n",
    "#fig = plt.figure()\n",
    "for myind,popiwant in enumerate(mypops):\n",
    "    if popiwant!=ancpop: continue\n",
    "    fig = plt.figure(figsize=(8,3))\n",
    "    #if myind!=4: continue\n",
    "    #ax = fig.add_subplot(4,2,myind+1)\n",
    "    \n",
    "    t1f,t2f,t1t,t2t=[],[],[],[]\n",
    "    for refpop in refpops:\n",
    "        #print \"_______________________\"\n",
    "        #print refpop\n",
    "        falsefile=open(pD+subset+\"ind_A_v13_TBH\"+addon+\".\"+refpop+\"_contFalse.pickle\",'r')\n",
    "        falsedat=cPickle.load(falsefile)\n",
    "        truefile=open(pD+subset+\"ind_A_v13_TBH\"+addon+\".\"+refpop+\"_contTrue.pickle\",'r')\n",
    "        truedat=cPickle.load(truefile)\n",
    "        #print falsedat[0][0]\n",
    "\n",
    "        for ind,mypop in enumerate(falsedat):\n",
    "            #print mypop\n",
    "            #if ind in [0,2,3,4]: continue\n",
    "            #if ind in [0,1,2,3]: continue\n",
    "            if mypops[ind] == popiwant:\n",
    "                print mypops[ind]\n",
    "                if mypops[ind]==ancpop:\n",
    "                    print \"-------\"+refpop+\"-------\"\n",
    "                    print \"False\", mypops[ind],mypop[1], list(mypop[0])\n",
    "                    print \"True\", mypops[ind],truedat[ind][1],list(truedat[ind][0])\n",
    "                    print truedat[ind][1]-mypop[1]\n",
    "                t1f.append(mypop[0][0])\n",
    "                t2f.append(mypop[0][1])\n",
    "                t1t.append(truedat[ind][0][0])\n",
    "                t2t.append(truedat[ind][0][1])\n",
    "\n",
    "\n",
    "    colors=[\"purple\",\"blue\",\"green\",\"yellow\",\"orange\",\"red\",\"brown\",\n",
    "            \"gray\",\"black\",\"lavender\",\"fuchsia\",\"goldenrod\",\"peachpuff\",\"cyan\",\n",
    "            \"lawngreen\",\"mediumslateblue\",\"cadetblue\",\"pink\",\"tan\",\"lavenderblush\",\n",
    "            \"sage\",\"peru\",\"gainsboro\"]\n",
    "    #print t1f\n",
    "    ax1 = fig.add_subplot(1,2,1)\n",
    "    ax2 = fig.add_subplot(1,2,2)\n",
    "    for i in range(len(t1f)):\n",
    "        #handles.append(ax.scatter(t1f[i],t2f[i],c=colors[i],label=refpops[i]))\n",
    "        #ax.scatter(t1f[i],t2f[i],label=refpops[i],c=colors[i],s=70)\n",
    "        ax1.scatter(myss[i],t1f[i],label=refpops[i],c=colors[i],s=70) #/t2f[i]\n",
    "        ax2.scatter(myss[i],t2f[i],label=refpops[i],c=colors[i],s=70) #/t2f[i]\n",
    "    #print t1f\n",
    "    #ax.set_xlim((0,0.13))\n",
    "    #ax.set_ylim((0,0.35))\n",
    "    ax1.set_xlabel(\"ss\")\n",
    "    ax1.set_ylabel(\"t1, \"+popiwant)\n",
    "    ax1.axhline(y=0)\n",
    "    ax1.axvline(x=0)\n",
    "    ax2.set_xlabel(\"ss\")\n",
    "    ax2.set_ylabel(\"t2, \"+popiwant)\n",
    "    ax2.axhline(y=0)\n",
    "    ax2.axvline(x=0)\n",
    "    fig.tight_layout()\n",
    "#ax.legend(fontsize=10,bbox_to_anchor=(1.1, -0.1),ncol=4, fancybox=True, shadow=True)\n"
   ]
  },
  {
   "cell_type": "code",
   "execution_count": 37,
   "metadata": {
    "collapsed": false
   },
   "outputs": [
    {
     "name": "stdout",
     "output_type": "stream",
     "text": [
      "11\n"
     ]
    }
   ],
   "source": [
    "falsefile=open(pD+\"dfb_ind_A_v13_TBH\"+addon+\".\"+refpop+\"_contFalse.pickle\",'r')\n",
    "falsedat=cPickle.load(falsefile)\n",
    "print len(falsedat)\n",
    "\n"
   ]
  },
  {
   "cell_type": "code",
   "execution_count": null,
   "metadata": {
    "collapsed": true
   },
   "outputs": [],
   "source": [
    "False Zhougongmiao 523646.34879 [0.0096042502591904104, 0.00049267449430023108, 0.0089989540789301662, 0.016607875066723239, 0.0085094593332150619]\n",
    "True Zhougongmiao 523646.404288 [0.0097633460839480803, 0.0089872715439000966, 0.016563269467803225, 0.0085014817635390341]\n",
    "\n",
    "False Zhougongmiao 552963.16715 [0.0096960997523576169, 0.0003998186715441196, 0.0090712054736462339, 0.016332835545118024, 0.0085620301406886066]\n",
    "True Zhougongmiao 552963.206228 [0.0098184386134607705, 0.0090611425470862126, 0.016299802014087473, 0.0085552978241993215]"
   ]
  }
 ],
 "metadata": {
  "kernelspec": {
   "display_name": "Python 2",
   "language": "python",
   "name": "python2"
  },
  "language_info": {
   "codemirror_mode": {
    "name": "ipython",
    "version": 2
   },
   "file_extension": ".py",
   "mimetype": "text/x-python",
   "name": "python",
   "nbconvert_exporter": "python",
   "pygments_lexer": "ipython2",
   "version": "2.7.6"
  }
 },
 "nbformat": 4,
 "nbformat_minor": 2
}
