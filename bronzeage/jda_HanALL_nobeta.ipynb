{
 "cells": [
  {
   "cell_type": "code",
   "execution_count": 32,
   "metadata": {
    "collapsed": false
   },
   "outputs": [
    {
     "name": "stdout",
     "output_type": "stream",
     "text": [
      "Overwriting /mnt/solexa/mel_yang/bronzeage/jda/jda_getpd_dfreq_downsample_noAFR.py\n"
     ]
    }
   ],
   "source": [
    "%%writefile /mnt/solexa/mel_yang/bronzeage/jda/jda_getpd_dfreq_downsample_noAFR.py\n",
    "##Make frequency and read file, oriented by ancestry (allele in chimp)\n",
    "##Treat sites fixed in Africans (Yoruba, Mandenka, Mbuti, Ju_hoan_North) as missing data - filter out!\n",
    "\n",
    "import collections\n",
    "import numpy as np\n",
    "import sys\n",
    "import random\n",
    "#moderneas=\"Japanese\"\n",
    "moderneas=sys.argv[1]\n",
    "\n",
    "pD1=\"/mnt/solexa/mel_yang/bronzeage/data/\"\n",
    "pD2=\"/mnt/solexa/mel_yang/bronzeage/jda_dfb/\"\n",
    "fh=\"ind_A_v13_TBH\"\n",
    "subset=\"fixedAfr_nobeta\"\n",
    "#subset=\"nobeta\"\n",
    "#indfilename=\"ind_A_v13_TBH_manualpdeasmerge\"\n",
    "indfilename=\"ind_A_v13_TBH_mergeHanALL\"\n",
    "indfile=open(pD1+indfilename+\".ind\",'r')\n",
    "africans=[\"Yoruba\", \"Mandenka\", \"Mbuti\", \"Ju_hoan_North\"]\n",
    "pdeasall,africanall=[],[]\n",
    "for ind,line in enumerate(indfile):\n",
    "    x = line.split()\n",
    "    if x[2] == moderneas: pdeasall.append(ind)\n",
    "    if x[2] in africans: africanall.append(ind)\n",
    "    if x[2] == \"Chimp\": ancind=ind ##ONLY 0/2, no heterozygotes\n",
    "indfile.close()\n",
    "print len(africanall)\n",
    "print len(pdeasall)\n",
    "for howmany in [10,25,40,50,75,100,111]: #[5,10,15,20,25,30]:\n",
    "    pdeas=sorted(random.sample(pdeasall,howmany))\n",
    "\n",
    "    newfile=open(pD2+indfilename+\".pdEAS_\"+subset+\".\"+moderneas+\".ss\"+str(howmany)+\".dfreq\",'w')\n",
    "    #newfile.write(moderneas+\".ss\"+str(howmany)+'\\n')\n",
    "    #newfile.write('kref\\tnref\\n')\n",
    "    #newfile.write('%s.ss%i\\n' % (moderneas,howmany))\n",
    "    newfile.write('AF\\n')\n",
    "    genofile=open(pD1+fh+\".geno\",'r')\n",
    "    num=0\n",
    "    for line in genofile:\n",
    "        num+=1\n",
    "        #if num==10: break\n",
    "        ancgeno=int(line[ancind])\n",
    "        easgeno=[int(line[ind]) for ind in pdeas]\n",
    "        afrgeno=''.join([str(i) for i in list(set([int(line[ind]) for ind in africanall]))])\n",
    "        #afrgeno='00'\n",
    "        if afrgeno in ['09','90','29','92']: mydfreq=-5\n",
    "        else: \n",
    "            if 9 in easgeno: mydfreq=-5\n",
    "            else: \n",
    "                total=2.0*len(easgeno)\n",
    "                secondallele=np.sum(easgeno)\n",
    "                if ancgeno==0: mydfreq= secondallele/total\n",
    "                elif ancgeno==2: mydfreq=1-(secondallele/total)\n",
    "                else: print \"ancgeno is\", ancgeno\n",
    "        dfreqs=mydfreq\n",
    "        #if indiv==\"Han_HGDP\": print easgeno, ancgeno, mydfreq,mydfreq*66\n",
    "        #newfile.write(\"%i\\t%i\" % (dfreqs,total) + '\\n')\n",
    "        newfile.write(\"%.4f\" % dfreqs + '\\n')\n",
    "\n",
    "    newfile.close()\n"
   ]
  },
  {
   "cell_type": "code",
   "execution_count": 41,
   "metadata": {
    "collapsed": true
   },
   "outputs": [],
   "source": [
    "%%bash\n",
    "pD=\"/mnt/solexa/mel_yang/bronzeage/jda/\"\n",
    "pD2=\"/mnt/solexa/mel_yang/bronzeage/jda_dfb/\"\n",
    "fh=\"ind_A_v13_TBH_mergeHanALL\"\n",
    "#subset=\"_nobeta\"\n",
    "subset=\"_fixedAfr_nobeta\"\n",
    "addon=\"_switchanc\"\n",
    "ref=\"HanALL\"\n",
    "for ss in 10 25 40 50 75 100 111; \n",
    "do\n",
    "    paste ${pD}jda_anceas${addon}.chrompos ${pD2}${fh}.pdEAS${subset}.${ref}.ss${ss}.dfreq ${pD}jda_anceas${addon}.readcount > ${pD2}jda${subset}_anceas${addon}_${ref}.ss${ss}.comb\n",
    "    #_nomissfixed.comb\n",
    "done"
   ]
  },
  {
   "cell_type": "code",
   "execution_count": 42,
   "metadata": {
    "collapsed": false
   },
   "outputs": [],
   "source": [
    "##Remove missing or fixed data\n",
    "##Remove \n",
    "\n",
    "pD2=\"/mnt/solexa/mel_yang/bronzeage/jda_dfb/\"\n",
    "addon=\"_switchanc\"\n",
    "#subset1=\"nobeta_\"\n",
    "subset1=\"fixedAfr_nobeta_\"\n",
    "subset2=subset1 #+\"df5co_\"\n",
    "#subset2=subset1 #+\"manualmerge_\"\n",
    "ref=\"HanALL\"\n",
    "ss=30\n",
    "for ss in [10,25,40,50,75,100,111]:\n",
    "#for ref in [\"Japanese\",\"French\",\"Han_NChina\",\"Han_SChina\",\"Kazakh\",\n",
    "#            \"TibetanSW\",\"She_Miao_Tujia\",\"Thai_Dai\",\"Spanish\",\"Yoruba\"]:\n",
    "    combfile=open(pD2+\"jda_\"+subset1+\"anceas\"+addon+\"_\"+ref+\".ss\"+str(ss)+\".comb\",'r')\n",
    "    newcombfile=open(pD2+\"jda_\"+subset2+\"anceas\"+addon+\"_\"+ref+\".ss\"+str(ss)+\"_nomissfixed.comb\",'w')\n",
    "    for line in combfile:\n",
    "        x=line.split()\n",
    "        if x[0] == \"Chrom\": newcombfile.write(line); continue\n",
    "        if x[2] in ['0.0000',\"-5.0000\",\"1.0000\"]: continue\n",
    "        myfreq=float(x[2])\n",
    "        if myfreq<0.05 or myfreq>0.95: continue\n",
    "        #if myfreq<0.025 or myfreq>0.975: continue\n",
    "        newcombfile.write(line)\n",
    "    combfile.close()\n",
    "    newcombfile.close()"
   ]
  },
  {
   "cell_type": "code",
   "execution_count": 45,
   "metadata": {
    "collapsed": false
   },
   "outputs": [
    {
     "name": "stdout",
     "output_type": "stream",
     "text": [
      "Overwriting /home/mel_yang/projects/bronzeage/continuity/run_mel_job_all_HanALLss.py\n"
     ]
    }
   ],
   "source": [
    "%%writefile /home/mel_yang/projects/bronzeage/continuity/run_mel_job_all_HanALLss.py\n",
    "from ancient_genotypes import *\n",
    "from numpy import *\n",
    "import pandas\n",
    "import cPickle\n",
    "\n",
    "pD=\"/mnt/solexa/mel_yang/bronzeage/jda_dfb/\"\n",
    "addon=\"_switchanc\"\n",
    "#refpop=\"HanALL\"\n",
    "refpop=\"Han_HGDP\"\n",
    "myss=[10,25,40,50,75,100,111]\n",
    "myss=[10]\n",
    "#subset1=\"nobeta\"\n",
    "#subset1=\"nobeta_df5co\"\n",
    "#subset1=\"fixedAfr_nobeta\"\n",
    "subset1=\"\"\n",
    "subset2=subset1\n",
    "\n",
    "\n",
    "indfile=pD+\"ancindivs.ind\"\n",
    "for ss in myss:\n",
    "    myref=refpop\n",
    "    #myref=refpop+\".ss\"+str(ss)\n",
    "    readfile=pD+\"jda\"+subset1+\"_anceas\"+addon+\"_\"+myref+\"_nomissfixed.comb\"\n",
    "    \n",
    "    unique_pops, inds, label, pops, freqs, read_lists = parse_reads_by_pop(readfile,indfile,cutoff=0)\n",
    "\n",
    "    params_pops = optimize_pop_params_error_parallel(freqs,read_lists,num_core=10,detail=0,continuity=False)\n",
    "    cPickle.dump(params_pops,open(pD+subset2+\"ind_A_v13_TBH\"+addon+\".\"+myref+\"_contFalse.pickle\",\"w\"))\n",
    "    params_pops = optimize_pop_params_error_parallel(freqs,read_lists,num_core=10,detail=0,continuity=True)\n",
    "    cPickle.dump(params_pops,open(pD+subset2+\"ind_A_v13_TBH\"+addon+\".\"+myref+\"_contTrue.pickle\",\"w\"))\n"
   ]
  },
  {
   "cell_type": "code",
   "execution_count": null,
   "metadata": {
    "collapsed": false
   },
   "outputs": [],
   "source": []
  },
  {
   "cell_type": "code",
   "execution_count": 65,
   "metadata": {
    "collapsed": false
   },
   "outputs": [
    {
     "name": "stdout",
     "output_type": "stream",
     "text": [
      "_______________________\n",
      "HanALL.ss111\n",
      "False Balikun 22976.5994796 [0.021642133169830841, 9.9999879656705755, 0.06176097070896875]\n",
      "True Balikun 23056.8543678 [0.036643978496937943, 0.039956429837976905]\n",
      "_______________________\n",
      "HanALL.ss111\n",
      "False Donghuigou 431336.852629 [0.032492770504045719, 0.088348670547781574, 0.028803378301641969, 0.022809655463085946, 0.04097553695252442, 0.055129268232076284, 0.035049658519964992, 0.025465770905245034]\n",
      "True Donghuigou 432255.862982 [0.055422965238470429, 0.022778840417843987, 0.018985937433454246, 0.03608243125657877, 0.050267787357985719, 0.036074292862301918, 0.02118279597072267]\n",
      "_______________________\n",
      "HanALL.ss111\n",
      "False Guandimiao 267925.367725 [1e-10, 0.030212726063273569, 0.012508813761115171, 0.012505105887537409, 0.01757905611236173]\n",
      "True Guandimiao 268020.783626 [0.0032630446348638079, 0.011489922453623739, 0.011636656838370773, 0.016366755190189528]\n",
      "_______________________\n",
      "HanALL.ss111\n",
      "False Guandimiao_contaminated 26252.1925512 [1e-10, 9.7649284032094688, 0.056484044818063142]\n",
      "True Guandimiao_contaminated 26011.9165926 [0.0082738306567110564, 0.016959696029189147]\n",
      "_______________________\n",
      "HanALL.ss111\n",
      "False Linzi 490782.800784 [1e-10, 0.0066904916242712725, 0.0082650365449018753, 0.014295749090839532, 0.0079680903559442937]\n",
      "True Linzi 490798.977773 [0.0002164002214198659, 0.0081426156053151701, 0.014056296100759855, 0.0078812859658489078]\n",
      "_______________________\n",
      "HanALL.ss111\n",
      "False Tianyuan 413069.287081 [0.063472948988681083, 0.1370114926825251, 0.0046307926524045973]\n",
      "True Tianyuan 414329.496295 [0.087410135840674572, 0.0042497031458187161]\n",
      "_______________________\n",
      "HanALL.ss111\n",
      "False Tonglin 50939.9657164 [1e-10, 9.9999234944554996, 0.068718443542997554]\n",
      "True Tonglin 49276.2326978 [0.001963960109050129, 0.0081844784847562059]\n",
      "_______________________\n",
      "HanALL.ss111\n",
      "False XianShang 70103.092885 [1e-10, 0.0083363510411749719, 0.014181674983977119, 0.0093406334147032484]\n",
      "True XianShang 70103.6864002 [6.5302164708548401e-05, 0.013971131395715632, 0.0092073411017418241]\n",
      "_______________________\n",
      "HanALL.ss111\n",
      "False Xiaoshuangqiao 98286.4391955 [1e-10, 0.01875554503247908, 0.017321993249655106, 0.0090893850998893088, 0.019844201421429404]\n",
      "True Xiaoshuangqiao 98292.4207681 [1e-10, 0.017456515399800945, 0.008866217406665924, 0.01928198779904455]\n",
      "_______________________\n",
      "HanALL.ss111\n",
      "False Yaojia 33602.3327092 [1e-10, 0.10673884980620187, 0.0081327252111332571]\n",
      "True Yaojia 33610.7271115 [0.00041753563241375772, 0.0065469648440159983]\n",
      "_______________________\n",
      "HanALL.ss111\n",
      "False Zhougongmiao 293802.683819 [1e-10, 1e-10, 0.0063581991681152285]\n",
      "True Zhougongmiao 293802.683819 [1e-10, 0.0063582003597108588]\n"
     ]
    },
    {
     "data": {
      "image/png": "[encoded data removed]",
      "text/plain": [
       "<matplotlib.figure.Figure at 0x7f2d4cfb0690>"
      ]
     },
     "metadata": {},
     "output_type": "display_data"
    }
   ],
   "source": [
    "%matplotlib inline\n",
    "\n",
    "import cPickle\n",
    "import matplotlib.pyplot as plt\n",
    "pD=\"/mnt/solexa/mel_yang/bronzeage/jda_dfb/\"\n",
    "addon=\"_switchanc\"\n",
    "subset=\"nobeta_\"\n",
    "subset=\"dfb1_beta1_\"\n",
    "refpops=[\"Han_HGDP\"]\n",
    "refpops=[\"HanALL.ss111\"]\n",
    "mypops=[]\n",
    "indfile=open(pD+\"ancindivs.ind\",'r')\n",
    "for line in indfile: \n",
    "    x=line.split()\n",
    "    if x[2] in mypops: continue\n",
    "    else: mypops.append(x[2])\n",
    "        \n",
    "mypops=sorted(mypops)\n",
    "\n",
    "popiwant=\"Zhougongmiao\"\n",
    "fig = plt.figure()\n",
    "ax = fig.add_subplot(1,1,1)\n",
    "for myind,popiwant in enumerate(mypops):\n",
    "    \n",
    "    t1f,t2f,t1t,t2t=[],[],[],[]\n",
    "    for refpop in refpops:\n",
    "        print \"_______________________\"\n",
    "        print refpop\n",
    "        falsefile=open(pD+subset+\"ind_A_v13_TBH\"+addon+\".\"+refpop+\"_contFalse.pickle\",'r')\n",
    "        falsedat=cPickle.load(falsefile)\n",
    "        truefile=open(pD+subset+\"ind_A_v13_TBH\"+addon+\".\"+refpop+\"_contTrue.pickle\",'r')\n",
    "        truedat=cPickle.load(truefile)\n",
    "        #print falsedat\n",
    "\n",
    "        for ind,mypop in enumerate(falsedat):\n",
    "            #if ind in [0,2,3,4]: continue\n",
    "            #if ind in [0,1,2,3]: continue\n",
    "            if mypops[ind] == popiwant:\n",
    "                print \"False\", mypops[ind],mypop[1], list(mypop[0])\n",
    "                print \"True\", mypops[ind],truedat[ind][1],list(truedat[ind][0])\n",
    "                t1f.append(mypop[0][0])\n",
    "                t2f.append(mypop[0][1])\n",
    "                t1t.append(truedat[ind][0][0])\n",
    "                t2t.append(truedat[ind][0][1])\n",
    "\n",
    "\n",
    "    colors=[\"purple\",\"blue\",\"green\",\"yellow\",\"orange\",\"red\",\"brown\",\n",
    "            \"gray\",\"black\",\"lavender\",\"fuchsia\",\"goldenrod\",\"peachpuff\",\"cyan\",\n",
    "            \"lawngreen\",\"mediumslateblue\"]\n",
    "    #print t1f\n",
    "    #for i in range(len(t1f)):\n",
    "        #handles.append(ax.scatter(t1f[i],t2f[i],c=colors[i],label=refpops[i]))\n",
    "    i=0\n",
    "    ax.scatter(t1f[i],t2f[i],label=mypops[myind],c=colors[myind],s=70)\n",
    "    \n",
    "    ax.set_xlim((0,0.08))\n",
    "    ax.set_ylim((0,0.15))\n",
    "    ax.set_xlabel(\"t1\")\n",
    "    ax.set_ylabel(\"t2 \") #+popiwant)\n",
    "ax.legend(fontsize=10,bbox_to_anchor=(1, -0.1),ncol=3, fancybox=True, shadow=True)\n",
    "ax.axhline(y=0)\n",
    "ax.axvline(x=0)\n",
    "fig.tight_layout()"
   ]
  },
  {
   "cell_type": "code",
   "execution_count": null,
   "metadata": {
    "collapsed": true
   },
   "outputs": [],
   "source": []
  }
 ],
 "metadata": {
  "kernelspec": {
   "display_name": "Python 2",
   "language": "python",
   "name": "python2"
  },
  "language_info": {
   "codemirror_mode": {
    "name": "ipython",
    "version": 2
   },
   "file_extension": ".py",
   "mimetype": "text/x-python",
   "name": "python",
   "nbconvert_exporter": "python",
   "pygments_lexer": "ipython2",
   "version": "2.7.6"
  }
 },
 "nbformat": 4,
 "nbformat_minor": 2
}
