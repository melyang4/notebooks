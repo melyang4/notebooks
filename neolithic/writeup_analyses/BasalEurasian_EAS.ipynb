{
 "cells": [
  {
   "cell_type": "markdown",
   "metadata": {},
   "source": [
    "## Tests to explore whether present-day Asians have something extra not in more ancient ones\n",
    "1. D(ASN, ASN; PPNB/PPNC/Israel_Natufian, Mbuti)"
   ]
  },
  {
   "cell_type": "code",
   "execution_count": null,
   "metadata": {
    "collapsed": false
   },
   "outputs": [],
   "source": [
    "##Copy/pasted into bionc12  -- /home/melinda_yang/projects/neolithic/D_NE_vsALLEAS.py\n",
    "\n",
    "import plotting_funcs as pf\n",
    "#import HOdata\n",
    "\n",
    "#pD=\"/mnt/solexa/mel_yang/bronzeage/data/\" #ivpp\n",
    "#outpd=\"/mnt/solexa/mel_yang/bronzeage/Dstats/D_ShangZhou_merged/\" #ivpp\n",
    "pD=\"/home/melinda_yang/data/HO_bronzeage/\" #mpi\n",
    "outpd=\"/home/melinda_yang/projects/neolithic/D_BEA_EAS/\" #mpi\n",
    "\n",
    "weas=['Tibetan_Shannan','Tibetan_Chamdo','Tibetan_Gangcha','Zongri', 'Chokhopani', 'Mebrak', 'Samdzong']\n",
    "neas=['HDYM1','Boisman_MN','Bbdong','Boshan','Linzi','Daur','Hezhen','Mongola','Ulchi','Xibo']\n",
    "seas=['Tianyuan','LiangDao','Longlin','Xinyi',\"Vietnam_Pre_Neolithic\",\"Vietnam_Neolithic\",\"Vietnam_BA\",\n",
    "      'Japanese','Korean','Han_NChina','Han_Shandong','Han_HGDP','Dai','Li','Maonan','Miao','She',\n",
    "      'Zhuang','Ami_Stoneking','Atayal_Stoneking','Kinh_Vietnam_KHV','Yi']\n",
    "\n",
    "pdeas=neas+weas+seas\n",
    "west=['UstIshim',\"Kostenki14\",\"Vestonice16\",\"GoyetQ116-1\",'Pavlov1','KremsWA3','Ostuni1','HohleFels49',\n",
    "      \"ElMiron\",\"Malta1\",\"Villabruna\",'Bichon','Rochedane','Ranchot88',\n",
    "      \"Loschbour\",'LaBrana1','Koros_Hungary_EN_HG.SG','Motala_HG','Karelia_HG','LaRochette',\n",
    "      \"Stuttgart\",\"Satsurblia\",\"Kotias\",\"Sardinian\",\"French\"]\n",
    "west=[\"PPNB\",\"PPNC\",\"Israel_Natufian\"]\n",
    "fh=\"ind_A_v13_TBH5\"\n",
    "outs=[\"Mbuti\"]\n",
    "\n",
    "bsf,bsfsubset=(pD+fh+\".transi.snp\",'transv')\n",
    "bsf,bsfsubset=(0,'all')\n",
    "\n",
    "p1s=west\n",
    "for myp1 in p1s:\n",
    "    for myp4 in outs:\n",
    "        ##D(X, Y; LL, Mbuti)\n",
    "        p1,p2,p3,p4 = (pdeas,pdeas,myp1,myp4)\n",
    "        subset = bsfsubset+'.'+\"ALLEAS\"+'_'+\"ALLEAS\"+'_'+p3+'_'+p4\n",
    "        mytups = [(i,j,p3,p4,'p2_'+i) for ind,i in enumerate(p1) for j in p2 if i != j and p3!=i and p3!=j]\n",
    "        pf.runD(p1,p2,mytups,pD,fh,subset,(0,1),(0,),fixed=(0,0,p3,p4),badsnpfile=bsf,outpd=outpd) "
   ]
  },
  {
   "cell_type": "code",
   "execution_count": 3,
   "metadata": {
    "collapsed": false
   },
   "outputs": [
    {
     "name": "stdout",
     "output_type": "stream",
     "text": [
      "hi\n"
     ]
    }
   ],
   "source": [
    "print 'hi'"
   ]
  },
  {
   "cell_type": "markdown",
   "metadata": {},
   "source": [
    "## Relationship between East, West and NearEast"
   ]
  },
  {
   "cell_type": "code",
   "execution_count": null,
   "metadata": {
    "collapsed": true
   },
   "outputs": [],
   "source": [
    "##Copy/pasted into bionc12  -- /home/melinda_yang/projects/neolithic/D_NE_vsALLEAS_vsALLEUR.py\n",
    "\n",
    "import plotting_funcs as pf\n",
    "#import HOdata\n",
    "\n",
    "#pD=\"/mnt/solexa/mel_yang/bronzeage/data/\" #ivpp\n",
    "#outpd=\"/mnt/solexa/mel_yang/bronzeage/Dstats/D_ShangZhou_merged/\" #ivpp\n",
    "pD=\"/home/melinda_yang/data/HO_bronzeage/\" #mpi\n",
    "outpd=\"/home/melinda_yang/projects/neolithic/D_BEA_EAS/\" #mpi\n",
    "\n",
    "weas=['Tibetan_Shannan','Tibetan_Chamdo','Tibetan_Gangcha','Zongri', 'Chokhopani', 'Mebrak', 'Samdzong']\n",
    "neas=['HDYM1','Boisman_MN','Bbdong','Boshan','Linzi','Daur','Hezhen','Mongola','Ulchi','Xibo']\n",
    "seas=['Tianyuan','LiangDao','Longlin','Xinyi',\"Vietnam_Pre_Neolithic\",\"Vietnam_Neolithic\",\"Vietnam_BA\",\n",
    "      'Japanese','Korean','Han_NChina','Han_Shandong','Han_HGDP','Dai','Li','Maonan','Miao','She',\n",
    "      'Zhuang','Ami_Stoneking','Atayal_Stoneking','Kinh_Vietnam_KHV','Yi']\n",
    "\n",
    "pdeas=neas+weas+seas\n",
    "west=['UstIshim',\"Kostenki14\",\"Vestonice16\",\"GoyetQ116-1\",'Pavlov1','KremsWA3','Ostuni1','HohleFels49',\n",
    "      \"ElMiron\",\"Malta1\",\"Villabruna\",'Bichon','Rochedane','Ranchot88',\n",
    "      \"Loschbour\",'LaBrana1','Koros_Hungary_EN_HG.SG','Motala_HG','Karelia_HG','LaRochette',\n",
    "      \"Stuttgart\",\"Satsurblia\",\"Kotias\",\"Sardinian\",\"French\"]\n",
    "ne=[\"PPNB\",\"PPNC\",\"Israel_Natufian\",\"Ganj_Dareh_Iran_Neolithic\",\"Iran_Neolithic_Hajji_Firuz\"]\n",
    "fh=\"ind_A_v13_TBH5\"\n",
    "outs=[\"Mbuti\",\"Chimp\",\"Mota.SG\",\"Denisovan\",\"Altai.DG\",\"Denisovan.DG\"]\n",
    "\n",
    "bsf,bsfsubset=(pD+fh+\".transi.snp\",'transv')\n",
    "bsf,bsfsubset=(0,'all')\n",
    "\n",
    "p1s=ne\n",
    "for myp1 in p1s:\n",
    "    for myp4 in outs:\n",
    "        ##D(X, Y; LL, Mbuti)\n",
    "        p1,p2,p3,p4 = (pdeas,west,myp1,myp4)\n",
    "        subset = bsfsubset+'.'+\"ALLEAS\"+'_'+\"ALLEUR\"+'_'+p3+'_'+p4\n",
    "        mytups = [(i,j,p3,p4,'p2_'+i) for ind,i in enumerate(p1) for j in p2 if i != j and p3!=i and p3!=j]\n",
    "        pf.runD(p1,p2,mytups,pD,fh,subset,(0,1),(0,),fixed=(0,0,p3,p4),badsnpfile=bsf,outpd=outpd) \n",
    "        \n",
    "        p1,p2,p3,p4 = (myp1,pdeas,west,myp4)\n",
    "        subset = bsfsubset+'.'+p1+'_'+\"ALLEAS\"+'_'+\"ALLEUR\"+'_'+p4\n",
    "        mytups = [(p1,i,j,p4,'p2_'+i) for ind,i in enumerate(p2) for j in p3 if i != j and p1!=i and p1!=j]\n",
    "        pf.runD(p2,p3,mytups,pD,fh,subset,(1,2),(0,),fixed=(p1,0,0,p4),badsnpfile=bsf,outpd=outpd) \n",
    "        \n",
    "        p1,p2,p3,p4 = (myp1,pdeas,west,myp4)\n",
    "        subset = bsfsubset+'.'+p1+'_'+\"ALLEUR\"+'_'+\"ALLEAS\"+'_'+p4\n",
    "        mytups = [(p1,i,j,p4,'p2_'+i) for ind,i in enumerate(p2) for j in p3 if i != j and p1!=i and p1!=j]\n",
    "        pf.runD(p3,p2,mytups,pD,fh,subset,(2,1),(0,),fixed=(p1,0,0,p4),badsnpfile=bsf,outpd=outpd) "
   ]
  }
 ],
 "metadata": {
  "kernelspec": {
   "display_name": "Python 2",
   "language": "python",
   "name": "python2"
  },
  "language_info": {
   "codemirror_mode": {
    "name": "ipython",
    "version": 2
   },
   "file_extension": ".py",
   "mimetype": "text/x-python",
   "name": "python",
   "nbconvert_exporter": "python",
   "pygments_lexer": "ipython2",
   "version": "2.7.6"
  }
 },
 "nbformat": 4,
 "nbformat_minor": 2
}
