{
 "cells": [
  {
   "cell_type": "markdown",
   "metadata": {},
   "source": [
    "## qpAdm for determining whether LiangDao is inside or outside of Native American separation\n",
    "\n",
    "Combinations I want to consider are: (X, S1, S2)\n",
    "\n",
    "1. Native Americans, Malta1, Longlin, asn+LiangDao\n",
    "2. Native Americans, Malta1, LiangDao, asn\n"
   ]
  },
  {
   "cell_type": "code",
   "execution_count": 36,
   "metadata": {
    "collapsed": false
   },
   "outputs": [
    {
     "name": "stdout",
     "output_type": "stream",
     "text": [
      "Overwriting /home/mel_yang/projects/neolithic/qpwave_seas_aff.py\n"
     ]
    }
   ],
   "source": [
    "%%writefile /home/mel_yang/projects/neolithic/qpwave_seas_aff.py\n",
    "import projmodules as pm\n",
    "from multiprocessing import Pool\n",
    "import itertools\n",
    "\n",
    "neas=['HDYM1','Boisman_MN','Bbdong','Boshan','Linzi','Daur','Hezhen','Mongola','Ulchi','Xibo']\n",
    "seas=['Japanese','Korean','Han_NChina','Han_Shandong','Han_HGDP','Dai','Li','Maonan','Miao','She',\n",
    "       'Zhuang','Ami_Stoneking','Atayal_Stoneking','Kinh_Vietnam_KHV']\n",
    "seas=seas[::-1]\n",
    "pubanceas=['Longlin', 'LiangDao']\n",
    "\n",
    "#left=[[i, j, \"Longlin\"] for i in seas for j in neas if i != j]\n",
    "#left=[[i, \"LiangDao\", \"Longlin\"] for i in seas]\n",
    "#left+=[[\"LiangDao\", j, \"Longlin\"] for j in neas]\n",
    "#left+=[[\"Longlin\", j, \"LiangDao\"] for j in neas]\n",
    "left=[[i, j, \"LiangDao\"] for i in seas for j in neas if i != j]\n",
    "\n",
    "def dowork(mytup):\n",
    "    myleft,myleftid=mytup\n",
    "    pD=\"/mnt/solexa/mel_yang/bronzeage/data/\"\n",
    "    fh=\"ind_A_v13_TBH5\"\n",
    "    \n",
    "    outs=[[\"Yoruba\",\"Ju_hoan_North\",\"Dinka\",\"Mbuti\"], #0\n",
    "          [\"Yoruba\",\"Ju_hoan_North\",\"Dinka\",\"Mbuti\",\"Onge\"], #1\n",
    "          [\"Yoruba\",\"Ju_hoan_North\",\"Dinka\",\"Mbuti\",\"Onge\",\"Kostenki14\"], #2\n",
    "          [\"Yoruba\",\"Ju_hoan_North\",\"Dinka\",\"Mbuti\",\"Onge\",\"Kostenki14\",\"UstIshim\"], #3\n",
    "          [\"Yoruba\",\"Ju_hoan_North\",\"Dinka\",\"Mbuti\",\"Onge\",\"Kostenki14\",\"Vestonice16\",\"UstIshim\"], #4\n",
    "          [\"Yoruba\",\"Ju_hoan_North\",\"Dinka\",\"Mbuti\",\"Onge\",\"Papuan\",\"Kostenki14\",\"Vestonice16\",\"UstIshim\"], #5\n",
    "          [\"Yoruba\",\"Ju_hoan_North\",\"Dinka\",\"Mbuti\",\"UstIshim\"], #6\n",
    "          [\"Yoruba\",\"Ju_hoan_North\",\"Dinka\",\"Mbuti\",\"Kostenki14\",\"Vestonice16\",\"UstIshim\"], #7\n",
    "          [\"Yoruba\",\"Ju_hoan_North\",\"Dinka\",\"Mbuti\",\"Kostenki14\",\"Vestonice16\"], #8\n",
    "          [\"Yoruba\",\"Ju_hoan_North\",\"Dinka\",\"Mbuti\",\"Papuan\",\"Kostenki14\",\"Vestonice16\",\"UstIshim\"], #9\n",
    "          [\"Yoruba\",\"Ju_hoan_North\",\"Dinka\",\"Mbuti\",\"Papuan\",\"Onge\"], #10\n",
    "          [\"Yoruba\",\"Ju_hoan_North\",\"Dinka\",\"Mbuti\",\"Papuan\",\"Onge\",\"UstIshim\"], #11\n",
    "          [\"Yoruba\",\"Ju_hoan_North\",\"Dinka\",\"Mbuti\",\"Onge\",\"Papuan\",\"Kostenki14\",\"Vestonice16\",\"UstIshim\",\"Tianyuan\"], #12\n",
    "          [\"Yoruba\",\"Ju_hoan_North\",\"Dinka\",\"Mbuti\",\"Kostenki14\",\"Vestonice16\",\"UstIshim\",\"Tianyuan\"]] #13\n",
    "\n",
    "    for outid,out in enumerate(outs):\n",
    "        if outid not in [5]: continue #[5,7,12,13]: continue\n",
    "        bck = 'X_%s_S1_%s_S2_%s_out%i' % tuple(myleft+[outid])\n",
    "        pm.wave_run(myleft, out, pD, fh, bck)\n",
    "        pm.wave_adm_run(myleft, out, pD, fh, bck)\n",
    "myinputs=[(myleft,ind,) for ind,myleft in enumerate(left)] \n",
    "print len(myinputs)\n",
    "mypool = Pool(7)\n",
    "results = mypool.map(dowork, myinputs)"
   ]
  },
  {
   "cell_type": "code",
   "execution_count": null,
   "metadata": {
    "collapsed": true
   },
   "outputs": [],
   "source": []
  },
  {
   "cell_type": "markdown",
   "metadata": {},
   "source": [
    "## See results for qpWave"
   ]
  },
  {
   "cell_type": "code",
   "execution_count": 28,
   "metadata": {
    "collapsed": false
   },
   "outputs": [
    {
     "name": "stdout",
     "output_type": "stream",
     "text": [
      "------------HDYM1--------------\n",
      "f4rank: 0 tail: 0.16000087\n",
      "f4rank: 1 tail: 0.371727942\n",
      "f4rank: 2 tail: 1\n",
      "------------Boisman_MN--------------\n",
      "f4rank: 0 tail: 0.141553769\n",
      "f4rank: 1 tail: 0.555750461\n",
      "f4rank: 2 tail: 1\n",
      "------------Bbdong--------------\n",
      "f4rank: 0 tail: 0.0158817194\n",
      "f4rank: 1 tail: 0.193410406\n",
      "f4rank: 2 tail: 1\n",
      "------------Boshan--------------\n",
      "f4rank: 0 tail: 0.200033733\n",
      "f4rank: 1 tail: 0.605342054\n",
      "f4rank: 2 tail: 1\n",
      "------------Linzi--------------\n",
      "f4rank: 0 tail: 0.390626321\n",
      "f4rank: 1 tail: 0.840969114\n",
      "f4rank: 2 tail: 1\n",
      "------------Daur--------------\n",
      "f4rank: 0 tail: 0.0753362156\n",
      "f4rank: 1 tail: 0.145793056\n",
      "f4rank: 2 tail: 1\n",
      "------------Hezhen--------------\n",
      "f4rank: 0 tail: 0.25329595\n",
      "f4rank: 1 tail: 0.491740104\n",
      "f4rank: 2 tail: 1\n",
      "------------Mongola--------------\n",
      "f4rank: 0 tail: 0.0834601767\n",
      "f4rank: 1 tail: 0.262152543\n",
      "f4rank: 2 tail: 1\n",
      "------------Ulchi--------------\n",
      "f4rank: 0 tail: 0.221783256\n",
      "f4rank: 1 tail: 0.380569915\n",
      "f4rank: 2 tail: 1\n",
      "------------Xibo--------------\n",
      "f4rank: 0 tail: 0.180413738\n",
      "f4rank: 1 tail: 0.484439004\n",
      "f4rank: 2 tail: 1\n"
     ]
    }
   ],
   "source": [
    "pd=\"/mnt/solexa/mel_yang/bronzeage/data/\"\n",
    "\n",
    "seas=['Japanese','Korean','Han_NChina','Han_Shandong','Han_HGDP','Dai','Li','Maonan','Miao','She',\n",
    "       'Zhuang','Ami_Stoneking','Atayal_Stoneking','Kinh_Vietnam_KHV']\n",
    "neas=['HDYM1','Boisman_MN','Bbdong','Boshan','Linzi','Daur','Hezhen','Mongola','Ulchi','Xibo']\n",
    "X=\"LiangDao\"\n",
    "S1=\"HDYM1\"\n",
    "S2=\"Longlin\"\n",
    "outids=[5,7,12,13]\n",
    "outid=12\n",
    "\n",
    "for S1 in neas:\n",
    "    print '------------%s--------------' % S1\n",
    "    myfile=open(pd+\"ind_A_v13_TBH5.wave.X_%s_S1_%s_S2_%s_out%i.log\" % (X,S1,S2,outid),'r')\n",
    "    for line in myfile:\n",
    "        if 'f4rank' not in line: continue\n",
    "        x=line.split()\n",
    "        print ' '.join([x[ind] for ind in [0,1,6,7]])"
   ]
  },
  {
   "cell_type": "markdown",
   "metadata": {},
   "source": [
    "## Bash script\n",
    "This is a good script to copy/paste into terminal to grab relevant information from qpAdm."
   ]
  },
  {
   "cell_type": "code",
   "execution_count": 33,
   "metadata": {
    "collapsed": false
   },
   "outputs": [
    {
     "name": "stdout",
     "output_type": "stream",
     "text": [
      "\n",
      "----------------/mnt/solexa/mel_yang/bronzeage/data/ind_A_v13_TBH5.adm.X_LiangDao_S1_Bbdong_S2_Longlin_out5.log--------------------\n",
      "Jackknife mean:      1.044041542    -0.044041542 \n",
      "      std. errors:     0.081     0.081 \n",
      "\n",
      "error covariance (* 1000000)\n",
      "      6640      -6640 \n",
      "     -6640       6640 \n",
      "\n",
      "\n",
      "summ: LiangDao    2      0.117584     1.044    -0.044  6640 -6640  6640 \n",
      "\n",
      "    fixed pat  wt  dof     chisq       tail prob\n",
      "           00  0     7    11.518        0.117584     1.067    -0.067  infeasible\n",
      "           01  1     8    14.055       0.0803475     1.000     0.000 \n",
      "           10  1     8    23.124      0.00320872     0.000     1.000 \n",
      "best pat:           00                0              -  -\n",
      "best pat:           01        0.0803475  chi(nested):     2.537 p-value for nested model:        0.111185\n",
      "\n",
      "----------------/mnt/solexa/mel_yang/bronzeage/data/ind_A_v13_TBH5.adm.X_Korean_S1_Bbdong_S2_Longlin_out5.log--------------------\n",
      "Jackknife mean:      0.922410084     0.077589916 \n",
      "      std. errors:     0.110     0.110 \n",
      "\n",
      "error covariance (* 1000000)\n",
      "     12185     -12185 \n",
      "    -12185      12185 \n",
      "\n",
      "\n",
      "summ: Korean    2      0.146516     0.922     0.078 12185 -12185 12185 \n",
      "\n",
      "    fixed pat  wt  dof     chisq       tail prob\n",
      "           00  0     7    10.823        0.146516     1.026    -0.026  infeasible\n",
      "           01  1     8    11.108        0.195653     1.000     0.000 \n",
      "           10  1     8    16.879       0.0313942     0.000     1.000 \n",
      "best pat:           00                0              -  -\n",
      "best pat:           01         0.195653  chi(nested):     0.285 p-value for nested model:        0.593592\n",
      "\n",
      "----------------/mnt/solexa/mel_yang/bronzeage/data/ind_A_v13_TBH5.adm.X_Han_Shandong_S1_Bbdong_S2_Longlin_out5.log--------------------\n",
      "Jackknife mean:      0.994484311     0.005515689 \n",
      "      std. errors:     0.087     0.087 \n",
      "\n",
      "error covariance (* 1000000)\n",
      "      7509      -7509 \n",
      "     -7509       7509 \n",
      "\n",
      "\n",
      "summ: Han_Shandong    2      0.112911     0.994     0.006  7509 -7509  7509 \n",
      "\n",
      "    fixed pat  wt  dof     chisq       tail prob\n",
      "           00  0     7    11.643        0.112911     1.052    -0.052  infeasible\n",
      "           01  1     8    13.342        0.100597     1.000     0.000 \n",
      "           10  1     8    19.029       0.0147078     0.000     1.000 \n",
      "best pat:           00                0              -  -\n",
      "best pat:           01         0.100597  chi(nested):     1.699 p-value for nested model:        0.192414\n",
      "\n",
      "----------------/mnt/solexa/mel_yang/bronzeage/data/ind_A_v13_TBH5.adm.X_Japanese_S1_Bbdong_S2_Longlin_out5.log--------------------\n",
      "Jackknife mean:      0.927796345     0.072203655 \n",
      "      std. errors:     0.137     0.137 \n",
      "\n",
      "error covariance (* 1000000)\n",
      "     18674     -18674 \n",
      "    -18674      18674 \n",
      "\n",
      "\n",
      "summ: Japanese    2      0.105009     0.928     0.072 18674 -18674 18674 \n",
      "\n",
      "    fixed pat  wt  dof     chisq       tail prob\n",
      "           00  0     7    11.867        0.105009     1.071    -0.071  infeasible\n",
      "           01  1     8    14.103       0.0791208     1.000     0.000 \n",
      "           10  1     8    19.091       0.0143786     0.000     1.000 \n",
      "best pat:           00                0              -  -\n",
      "best pat:           01        0.0791208  chi(nested):     2.236 p-value for nested model:        0.134856\n"
     ]
    }
   ],
   "source": [
    "%%bash\n",
    "pd=\"/mnt/solexa/mel_yang/bronzeage/data/\"\n",
    "X=\"Korean\"\n",
    "S1=\"Bbdong\"\n",
    "S2=\"Longlin\"\n",
    "outid=5\n",
    "for X in LiangDao Korean Han_Shandong Japanese; do \n",
    "    myf=\"${pd}ind_A_v13_TBH5.adm.X_${X}_S1_${S1}_S2_${S2}_out${outid}.log\" ;\n",
    "    echo \"\";\n",
    "    echo \"----------------\"${myf}\"--------------------\"; \n",
    "    myind=$(grep -n \"Jackknife mean:\" ${myf} | cut -d\":\" -f1); \n",
    "    step=15;   ##3 popns\n",
    "    #step=22;   ##4 popns\n",
    "    #step=32;    ##5 popns\n",
    "    myind2=$(echo $((${myind}+${step}))); \n",
    "    head -n ${myind2} ${myf} | tail -n16; ##3 popns\n",
    "    #head -n ${myind2} ${myf} | tail -n23;  ##4 popns\n",
    "    #head -n ${myind2} ${myf} | tail -n33; ##5 popns\n",
    "    done"
   ]
  },
  {
   "cell_type": "code",
   "execution_count": null,
   "metadata": {
    "collapsed": true
   },
   "outputs": [],
   "source": []
  }
 ],
 "metadata": {
  "kernelspec": {
   "display_name": "Python 2",
   "language": "python",
   "name": "python2"
  },
  "language_info": {
   "codemirror_mode": {
    "name": "ipython",
    "version": 2
   },
   "file_extension": ".py",
   "mimetype": "text/x-python",
   "name": "python",
   "nbconvert_exporter": "python",
   "pygments_lexer": "ipython2",
   "version": "2.7.6"
  }
 },
 "nbformat": 4,
 "nbformat_minor": 2
}
