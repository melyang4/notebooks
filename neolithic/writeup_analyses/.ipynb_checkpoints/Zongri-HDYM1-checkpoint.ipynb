{
 "cells": [
  {
   "cell_type": "markdown",
   "metadata": {},
   "source": [
    "## Investigating the connection between Zongri and HDYM1\n",
    "1. D(HDYM1, LiangDao; Tibetans, Mbuti) and D(HDYM1, Boisman; Tibetans, Mbuti)\n",
    "2. qpAdm of (S1,S2; Target)=(AncNorth, Tibetans; HDYM1) or (Tibetans, AncNorth; Zongri)\n",
    "3. Treemix Analysis"
   ]
  },
  {
   "cell_type": "markdown",
   "metadata": {},
   "source": [
    "### 1. D(HDYM1, LiangDao; Tibetans, Mbuti) and D(HDYM1, Boisman; Tibetans, Mbuti)"
   ]
  },
  {
   "cell_type": "code",
   "execution_count": null,
   "metadata": {
    "collapsed": true
   },
   "outputs": [],
   "source": [
    "##Copy/pasted into bionc12  -- /home/melinda_yang/projects/neolithic/D_HDYM1.py\n",
    "\n",
    "import plotting_funcs as pf\n",
    "#import HOdata\n",
    "\n",
    "#pD=\"/mnt/solexa/mel_yang/bronzeage/data/\" #ivpp\n",
    "#outpd=\"/mnt/solexa/mel_yang/bronzeage/Dstats/D_ShangZhou_merged/\" #ivpp\n",
    "pD=\"/home/melinda_yang/data/HO_bronzeage/\" #mpi\n",
    "outpd=\"/home/melinda_yang/projects/neolithic/D_WEur/\" #mpi\n",
    "\n",
    "anceas=[\"Tianyuan\",\"Longlin\",\"LiangDao\",\"Taosi\",\"Xinyi\",'HDYM1','Boisman_MN',\"Boshan\",\"Bbdong\",\n",
    "        \"Linzi\",\"XianShang\",\"Xiaoshuangqiao\",\"Guandimiao\",\"Zhougongmiao\",\"Yaojia\",\"Tonglin\",\n",
    "        'Chokhopani','Mebrak','Samdzong',\"Zongri\",\"Pukagongma\",\"Redilong\",\"Butaxiongqu\",\"Gelintang\", ##'DevilsGate1','DevilsGate2',\n",
    "        \"Yingpanshan\",\"Mougou\",\"Sanheyi\",\"Yusu\",\"Jinchankou\",\"Jomon\",    \n",
    "        \"Donghuigou\",\"Balikun\",\"Huoshaogou\",\"Wuba\",\"Shengedaliang\",\n",
    "        \"Muzhuzhuliang\",\"Xinhua\",\"Wuzhuangguo\",\"Shimao\",\"Dashuitian\",\"HQSDW\"]\n",
    "\n",
    "ancnorth=['HDYM1','Boisman_MN',\"Boshan\",\"Bbdong\",\"Linzi\"]\n",
    "\n",
    "fh=\"ind_A_v13_TBH5\"\n",
    "outs=[\"Mbuti\"]\n",
    "\n",
    "bsf,bsfsubset=(pD+fh+\".transi.snp\",'transv')\n",
    "bsf,bsfsubset=(0,'all')\n",
    "\n",
    "p2s=[\"LiangDao\",'Boisman_MN',\"Boshan\",\"Bbdong\",\"Linzi\",\"HDYM1\"]\n",
    "for myp2 in p2s:\n",
    "    for myp4 in outs:\n",
    "        ##D(X, Y; LL, Mbuti)\n",
    "        p1,p2,p3,p4 = (ancnorth,myp2,anceas,myp4)\n",
    "        subset = bsfsubset+'.'+\"ANCNORTH\"+'_'+p2+'_'+\"ANCEAS\"+'_'+p4\n",
    "        mytups = [(i,p2,j,p4,'p2_'+i) for ind,i in enumerate(p1) for j in p3 if i != j and p2!=i and p2!=j]\n",
    "        pf.runD(p3,p1,mytups,pD,fh,subset,(2,0),(0,),fixed=(0,p2,0,p4),badsnpfile=bsf,outpd=outpd) \n",
    "        \n",
    "        p1,p2,p3,p4 = (anceas,myp2,ancnorth,myp4)\n",
    "        subset = bsfsubset+'.'+\"ANCEAS\"+'_'+p2+'_'+\"ANCNORTH\"+'_'+p4\n",
    "        mytups = [(i,p2,j,p4,'p2_'+i) for ind,i in enumerate(p1) for j in p3 if i != j and p2!=i and p2!=j]\n",
    "        pf.runD(p1,p3,mytups,pD,fh,subset,(0,2),(0,),fixed=(0,p2,0,p4),badsnpfile=bsf,outpd=outpd) \n",
    "        \n",
    "        p1,p2,p3,p4 = (anceas,ancnorth,myp2,myp4)\n",
    "        subset = bsfsubset+'.'+\"ANCEAS\"+'_'+\"ANCNORTH\"+'_'+p3+'_'+p4\n",
    "        mytups = [(i,j,p3,p4,'p2_'+i) for ind,i in enumerate(p1) for j in p2 if i != j and p3!=i and p3!=j]\n",
    "        pf.runD(p1,p2,mytups,pD,fh,subset,(0,1),(0,),fixed=(0,0,p3,p4),badsnpfile=bsf,outpd=outpd) \n",
    "        "
   ]
  },
  {
   "cell_type": "markdown",
   "metadata": {},
   "source": [
    "### 2. qpAdm of (S1,S2; Target)=(AncNorth, Tibetans; HDYM1) or (Tibetans, AncNorth; Zongri)"
   ]
  },
  {
   "cell_type": "code",
   "execution_count": 3,
   "metadata": {
    "collapsed": false
   },
   "outputs": [
    {
     "name": "stdout",
     "output_type": "stream",
     "text": [
      "Overwriting /mnt/solexa/mel_yang/neolithic/qpwaveadm/HDYM1_Zongri/qpwave_HDYM1_Zongri.py\n"
     ]
    }
   ],
   "source": [
    "%%writefile /mnt/solexa/mel_yang/neolithic/qpwaveadm/HDYM1_Zongri/qpwave_HDYM1_Zongri.py\n",
    "import projmodules as pm\n",
    "from multiprocessing import Pool\n",
    "import itertools\n",
    "\n",
    "weas=['Zongri','Pukagongma','Gelintang','Chokhopani','Mebrak','Samdzong','Tibetan_Shannan','Tibetan_Chamdo','Tibetan_Gangcha']\n",
    "neas=['HDYM1','Boisman_MN','Bbdong','Boshan','Linzi','Daur','Hezhen','Mongola','Ulchi','Xibo']\n",
    "\n",
    "#left=[[\"HDYM1\",i, j] for i in weas for j in neas+[\"LiangDao\"] if j != \"HDYM1\"] \n",
    "#left+=[[\"Boisman_MN\",i, j] for i in weas for j in neas+[\"LiangDao\"] if j != \"Boisman_MN\"]\n",
    "\n",
    "left=[[\"Zongri\",i, j] for i in weas for j in neas+[\"LiangDao\"] if i != \"Zongri\"] \n",
    "left+=[[\"Pukagongma\",i, j] for j in weas+[\"LiangDao\"] for i in neas if i != \"Pukagongma\"]\n",
    "\n",
    "def dowork(mytup):\n",
    "    myleft,myleftid=mytup\n",
    "    outpD=\"/mnt/solexa/mel_yang/neolithic/qpwaveadm/\"\n",
    "    pD=\"/mnt/solexa/mel_yang/bronzeage/data/\"\n",
    "    fh=\"ind_A_v13_TBH5\"\n",
    "    \n",
    "    outs=[[\"Yoruba\",\"Ju_hoan_North\",\"Dinka\",\"Mbuti\",\"Onge\",\"Papuan\",\"Kostenki14\",\"Vestonice16\",\"UstIshim\"],] #0\n",
    "\n",
    "    for outid,out in enumerate(outs):\n",
    "        if outid not in [0]: continue \n",
    "        bck = 'X_%s_S1_%s_S2_%s_out%i' % tuple(myleft+[outid])\n",
    "        pm.wave_run(myleft, out, pD, fh, bck, outpd=outpD)\n",
    "        pm.wave_adm_run(myleft, out, pD, fh, bck, outpd=outpD)\n",
    "myinputs=[(myleft,ind,) for ind,myleft in enumerate(left)] \n",
    "print len(myinputs)\n",
    "mypool = Pool(14)\n",
    "results = mypool.map(dowork, myinputs)"
   ]
  },
  {
   "cell_type": "markdown",
   "metadata": {},
   "source": [
    "### 3. Treemix Analysis"
   ]
  },
  {
   "cell_type": "code",
   "execution_count": 3,
   "metadata": {
    "collapsed": false
   },
   "outputs": [
    {
     "name": "stdout",
     "output_type": "stream",
     "text": [
      "Overwriting /mnt/solexa/mel_yang/neolithic/treemix/ANCASN/maketreemixfile_ANCASN.py\n"
     ]
    }
   ],
   "source": [
    "%%writefile /mnt/solexa/mel_yang/neolithic/treemix/ANCASN/maketreemixfile_ANCASN.py\n",
    "from projmodules import treemix_mkinput\n",
    "\n",
    "pd=\"/mnt/solexa/mel_yang/bronzeage/data/\"\n",
    "#outpD=\"/mnt/solexa/mel_yang/neolithic/qpwaveadm/\"\n",
    "fh=\"ind_A_v13_TBH5\"\n",
    "subset='ANCASN'\n",
    "\n",
    "setstotry=[['Mbuti','Tianyuan','UstIshim','Kostenki14','Vestonice16','Malta1',\n",
    "            'LiangDao','HDYM1','Zongri','Pukagongma','Boshan','Boisman',\n",
    "            'Daur','Hezhen','Ulchi','Oroqen',\n",
    "            'Japanese','Han_NChina','She','Miao','Dai','Li',\n",
    "            'Ami_Stoneking','Atayal_Stoneking','Maonan','Paiwan','Rukai','Tao'], ##0 NORTH AND SOUTH AND CENTRAL + ANC\n",
    "           ['Mbuti','Tianyuan','UstIshim','Kostenki14','Vestonice16','Malta1',\n",
    "            'Daur','Hezhen','Ulchi','Oroqen',\n",
    "            'Japanese','Han_NChina','She','Miao','Dai','Li',\n",
    "            'Ami_Stoneking','Atayal_Stoneking','Maonan','Paiwan','Rukai','Tao'], ##1 NORTH AND SOUTH AND CENTRAL noANC\n",
    "           ['Mbuti','Tianyuan','UstIshim','Kostenki14','Vestonice16','Malta1',\n",
    "            'LiangDao','HDYM1','Zongri','Pukagongma','Boshan','Boisman'],        ##2 ANC ONLY\n",
    "           ['Mbuti','Tianyuan','UstIshim','Kostenki14','Vestonice16','Malta1',\n",
    "            'LiangDao','HDYM1','Zongri','Pukagongma','Boshan','Boisman',\n",
    "            'Japanese','Han_NChina','She','Miao','Dai','Li',\n",
    "            'Ami_Stoneking','Atayal_Stoneking','Maonan','Paiwan','Rukai','Tao'], ##3 SOUTH AND CENTRAL + ANC\n",
    "           ['Mbuti','Tianyuan','UstIshim','Kostenki14','Vestonice16','Malta1',\n",
    "            'LiangDao','HDYM1','Zongri','Pukagongma','Boshan','Boisman',\n",
    "            'Ami_Stoneking','Atayal_Stoneking','Maonan','Paiwan','Rukai','Tao'], ##4 SOUTH + ANC\n",
    "           ['Mbuti','Tianyuan','UstIshim','Kostenki14','Vestonice16','Malta1',\n",
    "            'LiangDao','HDYM1','Zongri','Pukagongma','Boshan','Boisman',\n",
    "            'Japanese','Han_NChina','She','Miao','Dai','Li'],                    ##5 CENTRAL + ANC\n",
    "           ['Mbuti','Tianyuan','UstIshim','Kostenki14','Vestonice16','Malta1',\n",
    "            'LiangDao','HDYM1','Zongri','Pukagongma','Boshan','Boisman',\n",
    "            'Daur','Hezhen','Ulchi','Oroqen'],                                   ##6 NORTH + ANC\n",
    "           ['Mbuti','Tianyuan','UstIshim','Kostenki14','Vestonice16','Malta1',\n",
    "            'LiangDao','HDYM1','Zongri','Pukagongma','Boshan','Boisman',\n",
    "            'Daur','Hezhen','Japanese','Han_NChina','Dai',\n",
    "            'Atayal_Stoneking','Maonan'],                                        ##7 subset NORTH AND SOUTH AND CENTRAL + ANC\n",
    "          ] \n",
    "for ind,i in enumerate(setstotry):\n",
    "    print ind,i\n",
    "    if ind not in [0]: continue\n",
    "    treemix_mkinput(pd,fh,subset+str(ind),setstotry[ind],indfilename=fh+'.sepBois')    "
   ]
  },
  {
   "cell_type": "code",
   "execution_count": 6,
   "metadata": {
    "collapsed": false
   },
   "outputs": [
    {
     "name": "stdout",
     "output_type": "stream",
     "text": [
      "Overwriting /mnt/solexa/mel_yang/neolithic/treemix/ANCASN/maketreemixfile_ANCASN_rd.py\n"
     ]
    }
   ],
   "source": [
    "%%writefile /mnt/solexa/mel_yang/neolithic/treemix/ANCASN/maketreemixfile_ANCASN_rd.py\n",
    "from projmodules import treemix_mkinput\n",
    "\n",
    "pd=\"/mnt/solexa/mel_yang/bronzeage/data/\"\n",
    "#outpD=\"/mnt/solexa/mel_yang/neolithic/qpwaveadm/\"\n",
    "fh=\"ind_A_v13_TBH5\"\n",
    "subset='ANCASN_rd'\n",
    "\n",
    "setstotry=[['Mbuti','Tianyuan','UstIshim','Kostenki14','Vestonice16','Malta1',\n",
    "            'LiangDao','HDYM1','Zongri','Pukagongma','Boshan','Boisman_MN',\n",
    "            'Daur','Hezhen','Ulchi','Oroqen',\n",
    "            'Japanese','Han_NChina','She','Miao','Dai','Li',\n",
    "            'Ami_Stoneking','Atayal_Stoneking','Maonan','Paiwan','Rukai','Tao'], ##0 NORTH AND SOUTH AND CENTRAL + ANC\n",
    "           ['Mbuti','Tianyuan','UstIshim','Kostenki14','Vestonice16','Malta1',\n",
    "            'Daur','Hezhen','Ulchi','Oroqen',\n",
    "            'Japanese','Han_NChina','She','Miao','Dai','Li',\n",
    "            'Ami_Stoneking','Atayal_Stoneking','Maonan','Paiwan','Rukai','Tao'], ##1 NORTH AND SOUTH AND CENTRAL noANC\n",
    "           ['Mbuti','Tianyuan','UstIshim','Kostenki14','Vestonice16','Malta1',\n",
    "            'LiangDao','HDYM1','Zongri','Pukagongma','Boshan','Boisman_MN'],        ##2 ANC ONLY\n",
    "           ['Mbuti','Tianyuan','UstIshim','Kostenki14','Vestonice16','Malta1',\n",
    "            'LiangDao','HDYM1','Zongri','Pukagongma','Boshan','Boisman_MN',\n",
    "            'Japanese','Han_NChina','She','Miao','Dai','Li',\n",
    "            'Ami_Stoneking','Atayal_Stoneking','Maonan','Paiwan','Rukai','Tao'], ##3 SOUTH AND CENTRAL + ANC\n",
    "           ['Mbuti','Tianyuan','UstIshim','Kostenki14','Vestonice16','Malta1',\n",
    "            'LiangDao','HDYM1','Zongri','Pukagongma','Boshan','Boisman_MN',\n",
    "            'Ami_Stoneking','Atayal_Stoneking','Maonan','Paiwan','Rukai','Tao'], ##4 SOUTH + ANC\n",
    "           ['Mbuti','Tianyuan','UstIshim','Kostenki14','Vestonice16','Malta1',\n",
    "            'LiangDao','HDYM1','Zongri','Pukagongma','Boshan','Boisman_MN',\n",
    "            'Japanese','Han_NChina','She','Miao','Dai','Li'],                    ##5 CENTRAL + ANC\n",
    "           ['Mbuti','Tianyuan','UstIshim','Kostenki14','Vestonice16','Malta1',\n",
    "            'LiangDao','HDYM1','Zongri','Pukagongma','Boshan','Boisman_MN',\n",
    "            'Daur','Hezhen','Ulchi','Oroqen'],                                   ##6 NORTH + ANC\n",
    "           ['Mbuti','Tianyuan','UstIshim','Kostenki14','Vestonice16','Malta1',\n",
    "            'LiangDao','HDYM1','Zongri','Pukagongma','Boshan','Boisman_MN',\n",
    "            'Daur','Hezhen','Japanese','Han_NChina','Dai',\n",
    "            'Atayal_Stoneking','Maonan'],                                        ##7 subset NORTH AND SOUTH AND CENTRAL + ANC\n",
    "          ] \n",
    "for ind,i in enumerate(setstotry):\n",
    "    print ind,i\n",
    "    #if ind not in [0]: continue\n",
    "    treemix_mkinput(pd,fh,subset+str(ind),setstotry[ind],includemissing=True)    "
   ]
  },
  {
   "cell_type": "code",
   "execution_count": 10,
   "metadata": {
    "collapsed": false
   },
   "outputs": [
    {
     "name": "stdout",
     "output_type": "stream",
     "text": [
      "Overwriting /mnt/solexa/mel_yang/neolithic/treemix/ANCASN/maketreemixgraphANCASN.sh\n"
     ]
    }
   ],
   "source": [
    "%%writefile /mnt/solexa/mel_yang/neolithic/treemix/ANCASN/maketreemixgraphANCASN.sh\n",
    "pd=\"/mnt/solexa/mel_yang/neolithic/treemix/ANCASN/\"\n",
    "tv=\"\"\n",
    "fh=\"ind_A_v13_TBH5\"\n",
    "#fh=\"UPA_all6\"\n",
    "k=\"500\"\n",
    "myk=\"_k\"${k}\n",
    "for j in 0; do #`seq 0 9`; do\n",
    "    subset=\"ANCASN_rd\"${j}\n",
    "    #subset=\"LLLD_NAmer\"${j}\n",
    "    gzip ${pd}${fh}.${subset}.treemix.txt\n",
    "    for i in `seq 0 5`; do \n",
    "        treemix -i ${pd}${fh}.${subset}.treemix.txt.gz -root Mbuti -o ${pd}${tv}${subset}_m${i}${myk} -k ${k} -m ${i} > \\\n",
    "            ${pd}${tv}${subset}_m${i}${myk}.log\n",
    "    done\n",
    "done\n",
    "\n",
    "##R CMD BATCH Rcode.R\n"
   ]
  },
  {
   "cell_type": "code",
   "execution_count": null,
   "metadata": {
    "collapsed": true
   },
   "outputs": [],
   "source": [
    "%%bash\n",
    "pd=\"/mnt/solexa/mel_yang/neolithic/treemix/\"\n",
    "subset=\"ANCASN_rd\"\n",
    "#subset=\"UPANAmer\"\n",
    "#subset=\"LLLD_NAmer\"\n",
    "for id in 0; do\n",
    "    for mig in 0 1 2 3 4 5; do\n",
    "        Rscript ${pd}Rcodeimage.R ${pd} ${subset} ${id} ${mig}\n",
    "    done\n",
    "done"
   ]
  },
  {
   "cell_type": "code",
   "execution_count": null,
   "metadata": {
    "collapsed": true
   },
   "outputs": [],
   "source": [
    "from IPython.display import Image\n",
    "pD=\"/mnt/solexa/mel_yang/neolithic/treemix/imagefiles/\"\n",
    "outname=\"ANCASN_rd0_0_k500\"\n",
    "\n",
    "Image(filename=pD+outname+'.png')"
   ]
  },
  {
   "cell_type": "code",
   "execution_count": null,
   "metadata": {
    "collapsed": true
   },
   "outputs": [],
   "source": []
  }
 ],
 "metadata": {
  "kernelspec": {
   "display_name": "Python 2",
   "language": "python",
   "name": "python2"
  },
  "language_info": {
   "codemirror_mode": {
    "name": "ipython",
    "version": 2
   },
   "file_extension": ".py",
   "mimetype": "text/x-python",
   "name": "python",
   "nbconvert_exporter": "python",
   "pygments_lexer": "ipython2",
   "version": "2.7.6"
  }
 },
 "nbformat": 4,
 "nbformat_minor": 2
}
