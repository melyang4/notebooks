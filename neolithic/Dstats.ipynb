{
 "cells": [
  {
   "cell_type": "code",
   "execution_count": null,
   "metadata": {
    "collapsed": true
   },
   "outputs": [],
   "source": [
    "%%writefile /mnt/solexa/mel_yang/neolithic/Dstats/calcD_Zhuang.py\n",
    "\n",
    "import plotting_funcs as pf\n",
    "#import HOdata\n",
    "\n",
    "#pD=\"/mnt/solexa/mel_yang/bronzeage/data/\" #ivpp\n",
    "#outpd=\"/mnt/solexa/mel_yang/bronzeage/Dstats/D_ShangZhou_merged/\" #ivpp\n",
    "pD=\"/home/melinda_yang/data/HO_bronzeage/\" #mpi\n",
    "outpd=\"/home/melinda_yang/projects/bronzeage/TY_Dstats/D_EAS_EAS_Tianyuan_Mbuti/\" #mpi\n",
    "\n",
    "fh=\"ind_A_v13_TBH5\"\n",
    "outs=[\"Mbuti\"]\n",
    "#anceas=HOdata.anceas2+HOdata.anceas\n",
    "eas=['Daur', 'Hezhen', 'Mongola', 'Naxi', 'Oroqen', 'Ulchi', 'Xibo', 'Dai', 'Dong', 'Gelao', 'Lahu', 'Li', \n",
    "    'Maonan', 'Miao', 'Mulam', 'She', 'Tujia', 'Yi', 'Cambodian', 'Han_Chongqing', 'Han_Fujian', \n",
    "    'Han_Guandong', 'Han_Henan', 'Han_HGDP', 'Han_Hubei', 'Han_Jiangsu', 'Han_NChina', 'Han_Shandong', \n",
    "    'Han_Shanghai', 'Han_Shanxi', 'Han_Sichuan', 'Han_Zhejiang', 'Kinh_Vietnam_KHV', 'Korean', 'Thai', \n",
    "    'Japanese', 'Boisman_MN', 'Tianyuan', 'Boshan', 'Zhougongmiao', 'Linzi', 'XianShang', 'Zongri', \n",
    "    'Huoshaogou', 'Wuba', 'Xiaoshuangqiao', 'Guandimiao', 'Shengedaliang', 'Muzhuzhuliang', 'Xinhua', \n",
    "    'Wuzhuangguo', 'Shimao', 'Tonglin', 'Dashuitian', 'Longlin', 'Bbdong', 'Taosi', 'Xinyi', 'Pukagongma', \n",
    "    'Redilong', 'Butaxiongqu', 'Gelintang', 'Yingpanshan', 'Mougou', 'Sanheyi', 'Yusu', 'Jinchankou', 'Jomon']\n",
    "west=[\"UstIshim\",\"Kostenki14\",\"GoyetQ116-1\",\"Vestonice16\",\"ElMiron\",\"Malta1\",\"Villabruna\",\n",
    "     \"Loschbour\",\"Stuttgart\",\"Satsurblia\",\"Sardinian\",\"French\"]\n",
    "bsf,bsfsubset=(0,'all')\n",
    "\n",
    "for myp4 in outs:\n",
    "    p1,p2,p3,p4 = (\"Zhuang\",eas,west,myp4)\n",
    "    subset = bsfsubset+'.'+p1+'_'+\"EAS\"+'_'+\"WEur\"+'_'+p4\n",
    "    mytups = [(p1,i,j,p4,'p2_'+i) for ind,i in enumerate(p2) for j in p3 if i != j and p1!=i and p1!=j]\n",
    "    pf.runD(p2,p3,mytups,pD,fh,subset,(1,2),(0,),fixed=(p1,0,0,p4),badsnpfile=bsf,outpd=outpd) \n"
   ]
  }
 ],
 "metadata": {
  "kernelspec": {
   "display_name": "Python 2",
   "language": "python",
   "name": "python2"
  },
  "language_info": {
   "codemirror_mode": {
    "name": "ipython",
    "version": 2
   },
   "file_extension": ".py",
   "mimetype": "text/x-python",
   "name": "python",
   "nbconvert_exporter": "python",
   "pygments_lexer": "ipython2",
   "version": "2.7.6"
  }
 },
 "nbformat": 4,
 "nbformat_minor": 2
}
