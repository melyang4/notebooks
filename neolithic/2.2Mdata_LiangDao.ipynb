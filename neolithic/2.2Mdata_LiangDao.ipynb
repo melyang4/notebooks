{
 "cells": [
  {
   "cell_type": "code",
   "execution_count": 1,
   "metadata": {
    "collapsed": false
   },
   "outputs": [
    {
     "name": "stdout",
     "output_type": "stream",
     "text": [
      "Overwriting /mnt/solexa/mel_yang/neolithic/Dstats/2.2M/calcD_LD.py\n"
     ]
    }
   ],
   "source": [
    "%%writefile /mnt/solexa/mel_yang/neolithic/Dstats/2.2M/calcD_LD.py\n",
    "import plotting_funcs as pf\n",
    "\n",
    "eas=[\"Tianyuan\",'Uygur','Burmese','Cambodian','Boisman_MN',\"BoshanChineseNeolithic\",'Chokhopani1',\n",
    "     'Oroqen','Daur','Hezhen','Xibo','Ulchi','Tu','Naxi','Yi','Japanese','Korean','Lahu','She','Miao',\n",
    "    'Tujia','Han','Dai','Kinh','Thai','Ami','Atayal',\"LiangDao1\",\"LiangDao2\"]\n",
    "\n",
    "eas=[\"Tianyuan\",'Uygur','Burmese','Cambodian','Boisman_MN',\"BoshanChineseNeolithic\",'Chokhopani1',\n",
    "     'Oroqen','Daur','Hezhen','Xibo','Ulchi','Tu','Naxi','Yi','Japanese','Korean','Lahu','She','Miao',\n",
    "    'Tujia','Han','Dai','Kinh','Thai','Ami','Atayal',\"LiangDaoChineseNeolithic\"]\n",
    "\n",
    "west=['UstIshim',\"Kostenki14\",\"Vestonice16\",\"GoyetQ116-1\",'Pavlov1','KremsWA3','Ostuni1','HohleFels49',\n",
    "      \"ElMiron\",\"Malta1\",\"Villabruna\",'Bichon','Rochedane_N','Ranchot88',\n",
    "      \"Loschbour\",'LaBrana1','Hungarian.KO1','Motala12','Karelia','LaRochette',\n",
    "      \"Stuttgart\",\"Satsurblia\",\"Sardinian\",\"French\"]\n",
    "\n",
    "west=[\"Kostenki14\",\"Vestonice16\",\"GoyetQ116-1\",'KremsWA3','Ostuni1','HohleFels49',\n",
    "      \"ElMiron\",\"Malta1\",\"Villabruna\",'Bichon','Rochedane_N','Ranchot88',\n",
    "      \"Loschbour\",'LaBrana1','Hungarian.KO1']\n",
    "\n",
    "west=[\"Kostenki14\",\"Vestonice16\",\"GoyetQ116-1\",'KremsWA3','Ostuni1',\n",
    "      \"ElMiron\",\"Villabruna\",'Rochedane_N','Ranchot88']\n",
    "\n",
    "pD=\"/home/melinda_yang/data/2.2M/\" ##mpi\n",
    "outpd=\"/home/melinda_yang/projects/neolithic/2.2M/\" ##mpi\n",
    "\n",
    "pD = \"/mnt/solexa/mel_yang/allTYstuff/data/\" ##ivpp\n",
    "outpd=\"/mnt/solexa/mel_yang/neolithic/Dstats/2.2M/\" #ivpp\n",
    "\n",
    "fhs = ['UPA_all6']\n",
    "myid1 = 'EAS'\n",
    "myid2 = 'EAS'\n",
    "myid3 = \"subEUR\"\n",
    "p3s = ['LiangDaoChineseNeolithic']\n",
    "#p3s=[\"LiangDao1\",\"LiangDao2\",\"BoshanChineseNeolithic\"]\n",
    "p3s=[\"BoshanChineseNeolithic\"]\n",
    "p4s = ['Mbuti'] \n",
    "p4s=['Mbuti','Chimp'] #,\n",
    "bsf,bsfsubset,ifn=(0,'all','None')\n",
    "bsf,bsfsubset,ifn=(pD+fhs[0]+\".transi.snp\",'transv','None')\n",
    "bsf,bsfsubset,ifn=(0,'all',fhs[0]+\".splitLD\")\n",
    "bsf,bsfsubset,ifn=(pD+fhs[0]+\".transi.snp\",'transv.splitLD',fhs[0]+\".splitLD\")\n",
    "bsf,bsfsubset,ifn=(pD+fhs[0]+\".transi.snp\",'transv.mergeAfr',fhs[0]+\".mergeAfr\")\n",
    "bsf,bsfsubset,ifn=(0,'all.mergeAfr',fhs[0]+\".mergeAfr\")\n",
    "bsf,bsfsubset,ifn=(0,'all','None')\n",
    "\n",
    "for fh in fhs:\n",
    "    for myp3 in p3s:\n",
    "        for myp4 in p4s:\n",
    "            ##(p1, p2, p3s, p4s)\n",
    "            #p1,p2,p3,p4 = (eas,eas,myp3,myp4)\n",
    "            #subset = bsfsubset+'.'+myid1+'_'+myid2+'_'+p3+'_'+p4\n",
    "            #mytups = [(i,j,p3,p4,'p1_'+i) for ind,i in enumerate(p1) for j in p2 if i != j and p3!=i and p3!=j]\n",
    "            #pf.runD(p1,p2,mytups,pD,fh,subset,(0,1),(0,),fixed=(0,0,p3,p4),badsnpfile=bsf,outpd=outpd,indfilename=ifn)\n",
    "\n",
    "            #p1,p2,p3,p4 = (west,west,myp3,myp4)\n",
    "            #subset = bsfsubset+'.'+myid3+'_'+myid3+'_'+p3+'_'+p4\n",
    "            #mytups = [(i,j,p3,p4,'p1_'+i) for ind,i in enumerate(p1) for j in p2 if i != j and p3!=i and p3!=j]\n",
    "            #pf.runD(p1,p2,mytups,pD,fh,subset,(0,1),(0,),fixed=(0,0,p3,p4),badsnpfile=bsf,outpd=outpd,indfilename=ifn)\n",
    "            \n",
    "            p1,p2,p3,p4 = (myp3,eas,west,myp4)\n",
    "            subset = bsfsubset+'.'+p1+'_'+myid2+'_'+myid3+'_'+p4\n",
    "            mytups = [(p1,i,j,p4,'p1_'+i) for ind,i in enumerate(p2) for j in p3 if i != j and p1!=i and p1!=j]\n",
    "            pf.runD(p2,p3,mytups,pD,fh,subset,(1,2),(0,),fixed=(p1,0,0,p4),badsnpfile=bsf,outpd=outpd,indfilename=ifn)\n",
    "\n",
    "            #for ind3,myset3 in enumerate(west):\n",
    "            #    if ind3%8!=0: continue\n",
    "            # \n",
    "            #    p1,p2,p3,p4 = (myp3,eas,west[ind3:(ind3+8)],myp4)\n",
    "            #    subset = bsfsubset+'.'+p1+'_'+myid2+'_'+myid3+str(ind3)+'_'+p4\n",
    "            #    mytups = [(p1,i,j,p4,'p1_'+i) for ind,i in enumerate(p2) for j in p3 if i != j and p1!=i and p1!=j]\n",
    "            #    pf.runD(p2,p3,mytups,pD,fh,subset,(1,2),(0,),fixed=(p1,0,0,p4),badsnpfile=bsf,outpd=outpd,indfilename=ifn)"
   ]
  },
  {
   "cell_type": "code",
   "execution_count": 2,
   "metadata": {
    "collapsed": false
   },
   "outputs": [],
   "source": [
    "import plotting_funcs as pf\n",
    "import projmodules as pm\n",
    "pm.Dparfile??"
   ]
  },
  {
   "cell_type": "code",
   "execution_count": null,
   "metadata": {
    "collapsed": true
   },
   "outputs": [],
   "source": []
  }
 ],
 "metadata": {
  "kernelspec": {
   "display_name": "Python 2",
   "language": "python",
   "name": "python2"
  },
  "language_info": {
   "codemirror_mode": {
    "name": "ipython",
    "version": 2
   },
   "file_extension": ".py",
   "mimetype": "text/x-python",
   "name": "python",
   "nbconvert_exporter": "python",
   "pygments_lexer": "ipython2",
   "version": "2.7.6"
  }
 },
 "nbformat": 4,
 "nbformat_minor": 2
}
