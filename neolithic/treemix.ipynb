{
 "cells": [
  {
   "cell_type": "markdown",
   "metadata": {},
   "source": [
    "## Make Treemix with Longlin, NAsns, and SAsns and NAmers\n",
    "Do we see Longlin admixture into SAsns or NAmer admixture into NAsns?"
   ]
  },
  {
   "cell_type": "code",
   "execution_count": 1,
   "metadata": {},
   "outputs": [
    {
     "name": "stdout",
     "output_type": "stream",
     "text": [
      "Overwriting /mnt/solexa/mel_yang/neolithic/treemix/maketreemixfile_LLA.py\n"
     ]
    }
   ],
   "source": [
    "%%writefile /mnt/solexa/mel_yang/neolithic/treemix/maketreemixfile_LLA.py\n",
    "from projmodules import treemix_mkinput\n",
    "\n",
    "pd=\"/mnt/solexa/mel_yang/bronzeage/data/\"\n",
    "#outpD=\"/mnt/solexa/mel_yang/neolithic/qpwaveadm/\"\n",
    "fh=\"ind_A_v13_TBH5\"\n",
    "subset='LLA'\n",
    "setstotry=[['Tianyuan','UstIshim','Kostenki14','Vestonice16','Malta1','Longlin',\n",
    "            'Daur','Hezhen','Boshan','Atayal_Coriell','Maonan','Paiwan','Rukai','Tao',\n",
    "            'LiangDao','Mixe','Surui','Mbuti'], \n",
    "           ['Tianyuan','UstIshim','Kostenki14','Vestonice16','Malta1','Longlin',\n",
    "            'Daur','Atayal_Coriell','LiangDao','Surui','Mbuti'], \n",
    "           ['Tianyuan','UstIshim','Kostenki14','Vestonice16','Malta1','Longlin',\n",
    "            'Daur','Hezhen','Boshan','Atayal_Coriell','Maonan','Paiwan','Rukai','Tao',\n",
    "            'LiangDao','Mixe','Surui','Onge','Mbuti'], \n",
    "           ['Tianyuan','UstIshim','Kostenki14','Vestonice16','Malta1','Longlin',\n",
    "            'Daur','Atayal_Coriell','LiangDao','Surui','Onge','Mbuti']\n",
    "           ] \n",
    "for ind,i in enumerate(setstotry):\n",
    "    print ind,i\n",
    "    #if ind in [2,7]: continue\n",
    "    treemix_mkinput(pd,fh,subset+str(ind),setstotry[ind])    "
   ]
  },
  {
   "cell_type": "code",
   "execution_count": 4,
   "metadata": {},
   "outputs": [],
   "source": [
    "%%bash\n",
    "pd=\"/mnt/solexa/mel_yang/bronzeage/data/\"\n",
    "fh=\"ind_A_v13_TBH5\"\n",
    "subset='LLA'\n",
    "outpD=\"/mnt/solexa/mel_yang/neolithic/treemix/\"\n",
    "for i in 0 1 2 3; do \n",
    "    mv ${pd}${fh}.${subset}${i}.treemix.txt ${outpD}\n",
    "done"
   ]
  },
  {
   "cell_type": "code",
   "execution_count": 12,
   "metadata": {},
   "outputs": [
    {
     "name": "stdout",
     "output_type": "stream",
     "text": [
      "Overwriting /mnt/solexa/mel_yang/neolithic/treemix/maketreemixgraphLLA.sh\n"
     ]
    }
   ],
   "source": [
    "%%writefile /mnt/solexa/mel_yang/neolithic/treemix/maketreemixgraphLLA.sh\n",
    "pd=\"/mnt/solexa/mel_yang/neolithic/treemix/\"\n",
    "tv=\"\"\n",
    "fh=\"ind_A_v13_TBH5\"\n",
    "k=\"500\"\n",
    "myk=\"_k\"${k}\n",
    "for j in 1 2; do #`seq 0 5`; do\n",
    "    subset=\"LLA\"${j}\n",
    "    gzip ${pd}${fh}.${subset}.treemix.txt\n",
    "    for i in `seq 0 5`; do \n",
    "        treemix -i ${pd}${fh}.${subset}.treemix.txt.gz -root Mbuti -o ${pd}${tv}${subset}_m${i}${myk} -k ${k} -m ${i} > \\\n",
    "            ${pd}${tv}${subset}_m${i}${myk}.log\n",
    "    done\n",
    "done\n",
    "\n",
    "##R CMD BATCH Rcode.R\n"
   ]
  },
  {
   "cell_type": "code",
   "execution_count": 19,
   "metadata": {},
   "outputs": [
    {
     "name": "stderr",
     "output_type": "stream",
     "text": [
      "\n",
      "gzip: stdout: Broken pipe\n",
      "\n",
      "gzip: stdout: Broken pipe\n",
      "\n",
      "gzip: stdout: Broken pipe\n",
      "\n",
      "gzip: stdout: Broken pipe\n"
     ]
    }
   ],
   "source": [
    "%%bash\n",
    "pd=\"/mnt/solexa/mel_yang/neolithic/treemix/\"\n",
    "tv=\"\"\n",
    "fh=\"ind_A_v13_TBH5\"\n",
    "k=\"500\"\n",
    "myk=\"_k\"${k}\n",
    "for j in 0 1 2 3; do #`seq 0 5`; do\n",
    "    subset=\"LLA\"${j}\n",
    "    zcat ${pd}${fh}.${subset}.treemix.txt.gz | head -n1 | tr ' ' '\\n' > ${pd}${tv}${subset}.popns.txt\n",
    "done\n"
   ]
  },
  {
   "cell_type": "code",
   "execution_count": 35,
   "metadata": {},
   "outputs": [
    {
     "name": "stdout",
     "output_type": "stream",
     "text": [
      "Overwriting /mnt/solexa/mel_yang/neolithic/treemix/Rcodeimage.R\n"
     ]
    }
   ],
   "source": [
    "%%writefile /mnt/solexa/mel_yang/neolithic/treemix/Rcodeimage.R\n",
    "args=commandArgs(TRUE)\n",
    "MYPD = as.character(args[1]) ##project directory\n",
    "PREFIX = as.character(args[2]) ##subset name of file\n",
    "MYID = as.numeric(args[3])  ##ID Number\n",
    "MYMIG = as.numeric(args[4])  ##Mig Number\n",
    "setwd(MYPD)\n",
    "source(\"plotting_funcs_MY.R\")\n",
    "tv=\"\"\n",
    "fh=PREFIX ##LLA\n",
    "k=500\n",
    "#for (id in c(0,1,2,3,4,5,6)) {\n",
    "for (myid in c(MYID)) {\n",
    "for (m in c(MYMIG)) {\n",
    "    #pdf(paste(tv,fh,id,'.m',m,'.pdf',sep=''))\n",
    "    png(paste(MYPD,'imagefiles/',tv,fh,myid,'_m',m,'_k',k,'.png',sep=''),width=580,height=580)\n",
    "    par(mfrow=c(2,1))\n",
    "    plot_tree(paste(MYPD,tv,fh,myid,\"_m\",m,\"_k\",k,sep=\"\"),cex=1,plus=0.05,ybar=0.15,xmin=-0.015)\n",
    "    plot_resid(paste(MYPD,tv,fh,myid,\"_m\",m,\"_k\",k,sep=\"\"),paste(fh,myid,\".popns.txt\",sep=\"\"),cex=1)\n",
    "    #plot_resid(paste(tv,fh,myid,\"_m\",m,sep=\"\"),paste(fh,id,\".popns.txt\",sep=\"\"),cex=1,usemax=F,min=-0.001,max=0.001)\n",
    "    dev.off()\n",
    "    }\n",
    "}"
   ]
  },
  {
   "cell_type": "code",
   "execution_count": 32,
   "metadata": {},
   "outputs": [
    {
     "name": "stdout",
     "output_type": "stream",
     "text": [
      "Overwriting /mnt/solexa/mel_yang/neolithic/treemix/bootstrap.LLA1_m1.sh\n"
     ]
    }
   ],
   "source": [
    "%%writefile /mnt/solexa/mel_yang/neolithic/treemix/bootstrap.LLA1_m1.sh\n",
    "##BOOTSTRAP\n",
    "pd=\"/mnt/solexa/mel_yang/neolithic/treemix/\"\n",
    "tv=\"\"\n",
    "fh=\"ind_A_v13_TBH5\"\n",
    "\n",
    "subset=\"LLA1\"\n",
    "mig=1\n",
    "\n",
    "reps=1000\n",
    "newdir=${tv}${subset}_m${mig}_reps/\n",
    "\n",
    "mkdir ${pd}${newdir}\n",
    "myk=500\n",
    "for rep in `seq 1 ${reps}`; do\n",
    "    #echo ${rep}\n",
    "    treemix -i ${pd}${fh}.${subset}.treemix.txt.gz -root Mbuti -bootstrap -k ${myk} -q -o ${pd}${newdir}${tv}${subset}_m${mig}_k${myk}_rep${rep} -m ${mig} > \\\n",
    "            ${pd}${newdir}${tv}${subset}_m${mig}_k${myk}_rep${rep}.log\n",
    "done"
   ]
  },
  {
   "cell_type": "code",
   "execution_count": null,
   "metadata": {
    "collapsed": true
   },
   "outputs": [],
   "source": []
  }
 ],
 "metadata": {
  "kernelspec": {
   "display_name": "Python 2",
   "language": "python",
   "name": "python2"
  },
  "language_info": {
   "codemirror_mode": {
    "name": "ipython",
    "version": 2
   },
   "file_extension": ".py",
   "mimetype": "text/x-python",
   "name": "python",
   "nbconvert_exporter": "python",
   "pygments_lexer": "ipython2",
   "version": "2.7.13"
  }
 },
 "nbformat": 4,
 "nbformat_minor": 2
}
