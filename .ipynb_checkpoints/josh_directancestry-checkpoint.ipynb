{
 "cells": [
  {
   "cell_type": "code",
   "execution_count": 74,
   "metadata": {
    "collapsed": false
   },
   "outputs": [
    {
     "name": "stdout",
     "output_type": "stream",
     "text": [
      "Overwriting /home/melinda_yang/ivpp/bronzeage/jda_calcreads.py\n"
     ]
    }
   ],
   "source": [
    "%%writefile /home/melinda_yang/ivpp/bronzeage/jda_calcreads.py\n",
    "\n",
    "##Call reads from bam file, aligns to snpfile fed into script\n",
    "##Needs indexed bam file\n",
    "import argparse\n",
    "import pysam\n",
    "\n",
    "\n",
    "parser = argparse.ArgumentParser(\"Get counts of reads from bam file\")\n",
    "\n",
    "parser.add_argument(\"-p\", type=str, default=\"/home/melinda_yang/bamfiles/\",  help = \"bamfile folder, default: /mnt/solexa/mel_yang/bamfiles/\")\n",
    "parser.add_argument(\"-q\", type=str, default=\"/home/melinda_yang/ivpp/bronzeage/\",  help = \"snpfile folder, default: /home/mel_yang/projects/bronzeage/\")\n",
    "parser.add_argument(\"-b\", type=str, default=\"L0554.mapping.sorted.uniq.L35MQ30\",  help = \"bamfilename, default: L0554.mapping.sorted.uniq.L35MQ30\")\n",
    "parser.add_argument(\"-s\", type=str, default=\"ind_A_v13_TBH\",  help = \"snpfilename, default: ind_A_v13_TBH\")\n",
    "\n",
    "args=parser.parse_args()\n",
    "\n",
    "pD1,pD2,bamfilename,snpfilename=(args.p,args.q,args.b,args.s)\n",
    "\n",
    "snpdat=[]\n",
    "snpfile=open(pD2+snpfilename+\".snp\",'r')\n",
    "for line in snpfile:\n",
    "    x=line.split()\n",
    "    snpdat.append((int(x[1]),int(x[3]),x[4],x[5]))\n",
    "snpfile.close()\n",
    "snp1pos = [i[1] for i in snpdat if i[0]==1]\n",
    "\n",
    "newfilename=\"jda_\"+bamfilename+\"_\"+snpfilename+\".readcount\"\n",
    "newfile=open(pD2+newfilename,'w')\n",
    "\n",
    "bamfile=pysam.AlignmentFile(pD1+bamfilename+\".bam\",'rb')\n",
    "num=0\n",
    "for ind,snpinfo in enumerate(snpdat):\n",
    "    #print snpinfo\n",
    "    #if ind==100: break\n",
    "    chrom,pos,b1,b2=snpinfo\n",
    "    b1count,b2count,ocount=0,0,0\n",
    "    try:\n",
    "        pileup=bamfile.pileup(str(chrom),pos-1,pos)\n",
    "        num+=1\n",
    "    except ValueError:\n",
    "        newfile.write(\"%.0f\\t%.0f\\t%s\\t%s\\t%d\\t%d\\t%d\\n\" % (chrom,pos,b1,b2,b1count,b2count,ocount))\n",
    "        continue\n",
    "    #print pileup\n",
    "    for pileupcolumn in pileup:\n",
    "        if pileupcolumn.pos != pos: continue\n",
    "        for pileupread in pileupcolumn.pileups:\n",
    "            if pileupread.is_del or pileupread.is_refskip: continue\n",
    "            base = pileupread.alignment.query_sequence[pileupread.query_position-1]\n",
    "            if base==b1: b1count+=1\n",
    "            elif base==b2: b2count+=1\n",
    "            else: ocount+=1\n",
    "    newfile.write(\"%.0f\\t%.0f\\t%s\\t%s\\t%d\\t%d\\t%d\\n\" % (chrom,pos,b1,b2,b1count,b2count,ocount))\n",
    "newfile.close()\n",
    "                \n",
    "#print num    \n",
    "    "
   ]
  },
  {
   "cell_type": "code",
   "execution_count": 12,
   "metadata": {
    "collapsed": false
   },
   "outputs": [
    {
     "name": "stdout",
     "output_type": "stream",
     "text": [
      "Overwriting /home/melinda_yang/ivpp/bronzeage/jda_getpd_dfreq.py\n"
     ]
    }
   ],
   "source": [
    "%%writefile /home/melinda_yang/ivpp/bronzeage/jda_getpd_dfreq.py\n",
    "##Make frequency and read file, oriented by ancestry (allele in chimp)\n",
    "\n",
    "import collections\n",
    "import numpy as np\n",
    "import sys\n",
    "\n",
    "moderneas=[\"Daur\",\"Hezhen\",\"Mongola\",\"Naxi\",\"Oroqen\",\"Ulchi\",\"Xibo\",\"Dai\",\"Dong\",\n",
    "          \"Gelao\",\"Lahu\",\"Li\",\"Maonan\",\"Miao\",\"Mulam\",\"She\",\"Tujia\",\"Yi\",\"Zhuang\",\n",
    "          \"Cambodian\",\"Han_Chongqing\",\"Han_Fujian\",\"Han_Guandong\",\"Han_Henan\",\n",
    "          \"Han_HGDP\",\"Han_Hubei\",\"Han_Jiangsu\",\"Han_NChina\",\"Han_Shandong\",\"Han_Shanghai\",\n",
    "          \"Han_Shanxi\",\"Han_Sichuan\",\"Han_Zhejiang\",\"Kinh_Vietnam_KHV\",\"Korean\",\"Thai\",\n",
    "          \"Qiang_Horpa\",\"Tibetan_Chamdo\",\"Tibetan_Gangcha\",\"Tibetan_Gannan\",\"Tibetan_Lhasa\",\n",
    "          \"Tibetan_Nagqu\",\"Tibetan_Shannan\",\"Tibetan_Shigatse\",\"Tibetan_Xinlong\",\n",
    "          \"Tibetan_Xunhua\",\"Tibetan_Yajiang\",\"Japanese\",\"Ami_Stoneking\",\"Atayal_Stoneking\"]\n",
    "moderneas=[\"Han_HGDP\"]\n",
    "moderneas=[\"She\"]\n",
    "moderneas=[\"Li\"]\n",
    "moderneas=[\"Japanese\"]\n",
    "moderneas=[sys.argv[1]]\n",
    "\n",
    "pD2=\"/home/melinda_yang/ivpp/bronzeage/\"\n",
    "indfilename=\"ind_A_v13_TBH\"\n",
    "indfile=open(pD2+indfilename+\".ind\",'r')\n",
    "pdeas=collections.defaultdict(list)\n",
    "for ind,line in enumerate(indfile):\n",
    "    x = line.split()\n",
    "    if x[2] in moderneas: pdeas[x[2]].append(ind)\n",
    "    if x[2] == \"Chimp\": ancind=ind ##ONLY 0/2, no heterozygotes\n",
    "indfile.close()\n",
    "#print pdeas[\"Han_HGDP\"]\n",
    "newfile=open(pD2+indfilename+\".pdEAS.\"+'_'.join(pdeas.keys())+\".dfreq\",'w')\n",
    "newfile.write('\\t'.join([i for i in pdeas])+'\\n')\n",
    "\n",
    "genofile=open(pD2+indfilename+\".geno\",'r')\n",
    "num=0\n",
    "for line in genofile:\n",
    "    num+=1\n",
    "    #if num==10: break\n",
    "    ancgeno=int(line[ancind])\n",
    "    dfreqs=[]\n",
    "    for indiv in pdeas:\n",
    "        easgeno=[int(line[ind]) for ind in pdeas[indiv]]\n",
    "        if 9 in easgeno: dfreqs.append(-5); continue\n",
    "        total=2.0*(len(easgeno)-easgeno.count(9))\n",
    "        #if total == 0: dfreqs.append(-5); continue\n",
    "        secondallele=(np.sum(easgeno)-9*easgeno.count(9))\n",
    "        if ancgeno==0: mydfreq=secondallele/total\n",
    "        elif ancgeno==2: mydfreq=1-(secondallele/total)\n",
    "        else: print \"ancgeno is\", ancgeno\n",
    "        dfreqs.append(mydfreq)\n",
    "        #if indiv==\"Han_HGDP\": print easgeno, ancgeno, mydfreq,mydfreq*66\n",
    "    newfile.write('\\t'.join([\"%.4f\" % i for i in dfreqs]) + '\\n')\n",
    "    \n",
    "newfile.close()\n",
    "\n",
    "#for i in pdeas: print \"%s----------%d\" % (i,len(pdeas[i]))\n",
    "  \n",
    "    "
   ]
  },
  {
   "cell_type": "code",
   "execution_count": 7,
   "metadata": {
    "collapsed": false
   },
   "outputs": [
    {
     "data": {
      "text/plain": [
       "'Daur Hezhen Mongola Naxi Oroqen Ulchi Xibo Dai Dong Gelao Lahu Li Maonan Miao Mulam She Tujia Yi Zhuang Cambodian Han_Chongqing Han_Fujian Han_Guandong Han_Henan Han_HGDP Han_Hubei Han_Jiangsu Han_NChina Han_Shandong Han_Shanghai Han_Shanxi Han_Sichuan Han_Zhejiang Kinh_Vietnam_KHV Korean Thai Qiang_Horpa Tibetan_Chamdo Tibetan_Gangcha Tibetan_Gannan Tibetan_Lhasa Tibetan_Nagqu Tibetan_Shannan Tibetan_Shigatse Tibetan_Xinlong Tibetan_Xunhua Tibetan_Yajiang Japanese Ami_Stoneking Atayal_Stoneking'"
      ]
     },
     "execution_count": 7,
     "metadata": {},
     "output_type": "execute_result"
    }
   ],
   "source": [
    "' '.join([\"Daur\",\"Hezhen\",\"Mongola\",\"Naxi\",\"Oroqen\",\"Ulchi\",\"Xibo\",\"Dai\",\"Dong\",\n",
    "          \"Gelao\",\"Lahu\",\"Li\",\"Maonan\",\"Miao\",\"Mulam\",\"She\",\"Tujia\",\"Yi\",\"Zhuang\",\n",
    "          \"Cambodian\",\"Han_Chongqing\",\"Han_Fujian\",\"Han_Guandong\",\"Han_Henan\",\n",
    "          \"Han_HGDP\",\"Han_Hubei\",\"Han_Jiangsu\",\"Han_NChina\",\"Han_Shandong\",\"Han_Shanghai\",\n",
    "          \"Han_Shanxi\",\"Han_Sichuan\",\"Han_Zhejiang\",\"Kinh_Vietnam_KHV\",\"Korean\",\"Thai\",\n",
    "          \"Qiang_Horpa\",\"Tibetan_Chamdo\",\"Tibetan_Gangcha\",\"Tibetan_Gannan\",\"Tibetan_Lhasa\",\n",
    "          \"Tibetan_Nagqu\",\"Tibetan_Shannan\",\"Tibetan_Shigatse\",\"Tibetan_Xinlong\",\n",
    "          \"Tibetan_Xunhua\",\"Tibetan_Yajiang\",\"Japanese\",\"Ami_Stoneking\",\"Atayal_Stoneking\"])"
   ]
  },
  {
   "cell_type": "code",
   "execution_count": 18,
   "metadata": {
    "collapsed": false
   },
   "outputs": [
    {
     "name": "stdout",
     "output_type": "stream",
     "text": [
      "Daur\n",
      "10\n",
      "Hezhen\n",
      "11\n",
      "Mongola\n",
      "13\n",
      "Naxi\n",
      "12\n",
      "Oroqen\n",
      "11\n",
      "Ulchi\n",
      "35\n",
      "Xibo\n",
      "11\n",
      "Dai\n",
      "15\n",
      "Dong\n",
      "40\n",
      "Gelao\n",
      "10\n",
      "Lahu\n",
      "10\n",
      "Li\n",
      "51\n",
      "Maonan\n",
      "17\n",
      "Miao\n",
      "12\n",
      "Mulam\n",
      "17\n",
      "She\n",
      "91\n",
      "Tujia\n",
      "12\n",
      "Yi\n",
      "14\n",
      "Zhuang\n",
      "22\n",
      "Cambodian\n",
      "12\n",
      "Han_Chongqing\n",
      "3\n",
      "Han_Fujian\n",
      "5\n",
      "Han_Guandong\n",
      "7\n",
      "Han_Henan\n",
      "5\n",
      "Han_HGDP\n",
      "33\n",
      "Han_Hubei\n",
      "5\n",
      "Han_Jiangsu\n",
      "7\n",
      "Han_NChina\n",
      "10\n",
      "Han_Shandong\n",
      "10\n",
      "Han_Shanghai\n",
      "2\n",
      "Han_Shanxi\n",
      "8\n",
      "Han_Sichuan\n",
      "7\n",
      "Han_Zhejiang\n",
      "5\n",
      "Kinh_Vietnam_KHV\n",
      "8\n",
      "Korean\n",
      "8\n",
      "Thai\n",
      "24\n",
      "Qiang_Horpa\n",
      "20\n",
      "Tibetan_Chamdo\n",
      "12\n",
      "Tibetan_Gangcha\n",
      "20\n",
      "Tibetan_Gannan\n",
      "5\n",
      "Tibetan_Lhasa\n",
      "9\n",
      "Tibetan_Nagqu\n",
      "8\n",
      "Tibetan_Shannan\n",
      "9\n",
      "Tibetan_Shigatse\n",
      "10\n",
      "Tibetan_Xinlong\n",
      "10\n",
      "Tibetan_Xunhua\n",
      "4\n",
      "Tibetan_Yajiang\n",
      "10\n",
      "Japanese\n",
      "32\n",
      "Ami_Stoneking\n",
      "9\n",
      "Atayal_Stoneking\n",
      "6\n"
     ]
    }
   ],
   "source": [
    "%%bash\n",
    "pd=\"/home/melinda_yang/ivpp/bronzeage/\"\n",
    "for i in Daur Hezhen Mongola Naxi Oroqen Ulchi Xibo Dai Dong Gelao Lahu Li Maonan Miao Mulam She Tujia Yi Zhuang Cambodian Han_Chongqing Han_Fujian Han_Guandong Han_Henan Han_HGDP Han_Hubei Han_Jiangsu Han_NChina Han_Shandong Han_Shanghai Han_Shanxi Han_Sichuan Han_Zhejiang Kinh_Vietnam_KHV Korean Thai Qiang_Horpa Tibetan_Chamdo Tibetan_Gangcha Tibetan_Gannan Tibetan_Lhasa Tibetan_Nagqu Tibetan_Shannan Tibetan_Shigatse Tibetan_Xinlong Tibetan_Xunhua Tibetan_Yajiang Japanese Ami_Stoneking Atayal_Stoneking; do    \n",
    "    echo ${i}\n",
    "    grep ${i} ${pd}ind_A_v13_TBH.ind | wc -l\n",
    "done"
   ]
  },
  {
   "cell_type": "code",
   "execution_count": null,
   "metadata": {
    "collapsed": false
   },
   "outputs": [],
   "source": []
  },
  {
   "cell_type": "code",
   "execution_count": 5,
   "metadata": {
    "collapsed": false
   },
   "outputs": [
    {
     "name": "stdout",
     "output_type": "stream",
     "text": [
      "Writing /home/melinda_yang/ivpp/bronzeage/mergereadcountfiles.py\n"
     ]
    }
   ],
   "source": [
    "%%writefile /home/melinda_yang/ivpp/bronzeage/mergereadcountfiles.py\n",
    "##Merge readcount files for ancinet individuals\n",
    "\n",
    "pD2=\"/home/melinda_yang/ivpp/bronzeage/\"\n",
    "readcountfilenames=[\"jda_L0554.mapping.sorted.uniq.L35MQ30_ind_A_v13_TBH.readcount\",\n",
    "    \"jda_R2039.rd_ind_A_v13_TBH.readcount\",\n",
    "    \"jda_R2142.rd_ind_A_v13_TBH.readcount\",\n",
    "    \"jda_L0597.mapping.sorted.uniq.L35MQ30_ind_A_v13_TBH.readcount\",\n",
    "    \"jda_R2096.rd_ind_A_v13_TBH.readcount\",\n",
    "    \"jda_R2148.rd_ind_A_v13_TBH.readcount\",\n",
    "    \"jda_R2038.rd_ind_A_v13_TBH.readcount\",\n",
    "    \"jda_R2099.rd_ind_A_v13_TBH.readcount\",\n",
    "    \"jda_TY_ind_A_v13_TBH.readcount\"]\n",
    "\n",
    "chimpfile=open(pD2+\"Chimp.geno\",'r')\n",
    "chimpgeno=chimpfile.readlines()\n",
    "chimpfile.close()\n",
    "readcountfiles=[open(pD2+i,'r') for i in readcountfilenames]\n",
    "\n",
    "newfile=open(pD2+\"jda_anceas.readcount\",'w')\n",
    "newfile2=open(pD2+\"jda_anceas.chrompos\",'w')\n",
    "newfile2.write('Chrom\\tPos\\n')\n",
    "for i in readcountfilenames:\n",
    "    myname=i.split('.')[0].split('_')[1]\n",
    "    newfile.write(\"%s_der\\t%s_anc\\t%s_other\\t\" % tuple([myname]*3))\n",
    "newfile.write('\\n')\n",
    "num=0\n",
    "for chimpline in chimpgeno:\n",
    "    ancgeno=chimpline.strip()\n",
    "    #print ancgeno\n",
    "    mycounts=[]\n",
    "    for ind,readcountfile in enumerate(readcountfiles):\n",
    "        myreadline=readcountfile.readline()\n",
    "        #print myreadline.strip()\n",
    "        mylst=myreadline.split()\n",
    "        if ind==0: beg=\"\\t\".join(mylst[:2])\n",
    "        mylst=mylst[4:]\n",
    "        if ancgeno=='2': mycounts+=mylst ##THIS IS WRONG??? IF ANCGENO is 2, then that means second column is ancestral, so\n",
    "        elif ancgeno=='0': \n",
    "            mylst[0],mylst[1]=mylst[1],mylst[0]\n",
    "            mycounts+=mylst\n",
    "        else: print 'bad ancgeno',ancgeno\n",
    "    #print len(mycounts)\n",
    "    #print mycounts\n",
    "    #break\n",
    "    newfile.write('\\t'.join(mycounts)+'\\n')\n",
    "    newfile2.write(beg+'\\n')\n",
    "newfile2.close()\n",
    "newfile.close()"
   ]
  },
  {
   "cell_type": "code",
   "execution_count": 13,
   "metadata": {
    "collapsed": false
   },
   "outputs": [],
   "source": [
    "%%bash\n",
    "pD=\"/home/melinda_yang/ivpp/bronzeage/\"\n",
    "myref=\"Japanese\"\n",
    "for myref in Mongola Ulchi Dai Dong Maonan Miao Mulam Tujia Yi Zhuang Thai Tibetan_Gangcha; \n",
    "do\n",
    "    paste ${pD}jda_anceas.chrompos ${pD}ind_A_v13_TBH.pdEAS.${myref}.dfreq ${pD}jda_anceas.readcount > ${pD}jda_anceas_${myref}.comb\n",
    "    grep -v \"-\" ${pD}jda_anceas_${myref}.comb | grep -v \"0.0000\" | grep -v \"1.0000\"> ${pD}jda_anceas_${myref}_nomissfixed.comb\n",
    "done"
   ]
  },
  {
   "cell_type": "code",
   "execution_count": 15,
   "metadata": {
    "collapsed": false
   },
   "outputs": [
    {
     "name": "stdout",
     "output_type": "stream",
     "text": [
      "Overwriting /home/melinda_yang/software/continuity/run_mel_job_all.py\n"
     ]
    }
   ],
   "source": [
    "%%writefile /home/melinda_yang/software/continuity/run_mel_job_all.py\n",
    "from ancient_genotypes import *\n",
    "from numpy import *\n",
    "import pandas\n",
    "import cPickle\n",
    "myref=\"Japanese\"\n",
    "for myref in [\"She\",\"Li\",\"Japanese\",\"Mongola\", \"Ulchi\", \"Dai\", \"Dong\", \"Maonan\", \"Miao\", \n",
    "              \"Mulam\", \"Tujia\", \"Yi\", \"Zhuang\", \"Thai\", \"Tibetan_Gangcha\"]:\n",
    "    freq, reads, inds = parse_reads(\"/home/melinda_yang/ivpp/bronzeage/jda_anceas_\"+myref+\"_nomissfixed.comb\",cutoff=0)\n",
    "    ##Tonglin, Linzi, XianShang, Yaojia/ZGM, TY\n",
    "    pops=[[0],[1,6,7],[2,5],[3,4],[8]]\n",
    "    params_pops = optimize_pop_params_error_parallel(freq,reads,pops,detail=False,num_core=5,continuity=False)\n",
    "    cPickle.dump(params_pops,open(\"ind_A_v13_TBH.\"+myref+\"_contFalse.pickle\",\"w\"))\n",
    "    params_pops = optimize_pop_params_error_parallel(freq,reads,pops,detail=False,num_core=5,continuity=True)\n",
    "    cPickle.dump(params_pops,open(\"ind_A_v13_TBH.\"+myref+\"_contTrue.pickle\",\"w\"))"
   ]
  },
  {
   "cell_type": "code",
   "execution_count": 5,
   "metadata": {
    "collapsed": false
   },
   "outputs": [
    {
     "name": "stdout",
     "output_type": "stream",
     "text": [
      "Overwriting /home/melinda_yang/software/continuity/run_mel_job_true.py\n"
     ]
    }
   ],
   "source": [
    "%%writefile /home/melinda_yang/software/continuity/run_mel_job_true.py\n",
    "from ancient_genotypes import *\n",
    "from numpy import *\n",
    "import pandas\n",
    "import cPickle\n",
    "\n",
    "freq, reads, inds = parse_reads(\"/home/melinda_yang/ivpp/bronzeage/jda_anceas_Han_HGDP_nomissfixed.comb\",cutoff=0)\n",
    "##Tonglin, Linzi, XianShang, Yaojia/ZGM, TY\n",
    "pops=[[0],[1,6,7],[2,5],[3,4],[8]]\n",
    "params_pops = optimize_pop_params_error_parallel(freq,reads,pops,detail=False,num_core=5,continuity=True)\n",
    "cPickle.dump(params_pops,open(\"ind_A_v13_TBH.Han_HGDP_contTrue.pickle\",\"w\"))"
   ]
  },
  {
   "cell_type": "code",
   "execution_count": null,
   "metadata": {
    "collapsed": true
   },
   "outputs": [],
   "source": []
  },
  {
   "cell_type": "code",
   "execution_count": null,
   "metadata": {
    "collapsed": true
   },
   "outputs": [],
   "source": []
  },
  {
   "cell_type": "code",
   "execution_count": null,
   "metadata": {
    "collapsed": true
   },
   "outputs": [],
   "source": []
  },
  {
   "cell_type": "code",
   "execution_count": 49,
   "metadata": {
    "collapsed": false
   },
   "outputs": [
    {
     "name": "stdout",
     "output_type": "stream",
     "text": [
      "Overwriting /home/melinda_yang/ivpp/bronzeage/jda_getcovg.py\n"
     ]
    }
   ],
   "source": [
    "%%writefile /home/melinda_yang/ivpp/bronzeage/jda_getcovg.py\n",
    "\n",
    "import numpy as np\n",
    "\n",
    "pD2=\"/home/melinda_yang/ivpp/bronzeage/\"\n",
    "readcountfilenames=[\"jda_anceas.readcount\"]\n",
    "readcountfiles=[open(pD2+i,'r') for i in readcountfilenames]\n",
    "for ind0,myfile in enumerate(readcountfiles):\n",
    "    for ind,line in enumerate(myfile):\n",
    "        if line[0] == \"L\": continue\n",
    "        x=line.split()\n",
    "        if ind==0: myreadcount=np.array([int(i) for i in x[4:]])\n",
    "        else: myreadcount=np.vstack((myreadcount,np.array([int(i) for i in x[4:]])))\n",
    "        #if ind==1000: break\n",
    "    mytotalreads=float(np.sum(myreadcount))\n",
    "    covg=mytotalreads/myreadcount.shape[0]\n",
    "    print readcountfilenames[ind0].split('.')[0].split('_')[1], covg\n",
    "    #break"
   ]
  },
  {
   "cell_type": "code",
   "execution_count": null,
   "metadata": {
    "collapsed": true
   },
   "outputs": [],
   "source": []
  },
  {
   "cell_type": "code",
   "execution_count": null,
   "metadata": {
    "collapsed": true
   },
   "outputs": [],
   "source": []
  },
  {
   "cell_type": "code",
   "execution_count": 73,
   "metadata": {
    "collapsed": false
   },
   "outputs": [
    {
     "data": {
      "image/png": "[encoded data removed]",
      "text/plain": [
       "<matplotlib.figure.Figure at 0x7fa3a7c3e350>"
      ]
     },
     "metadata": {},
     "output_type": "display_data"
    }
   ],
   "source": [
    "%matplotlib inline\n",
    "\n",
    "import cPickle\n",
    "import matplotlib.pyplot as plt\n",
    "pD=\"/home/melinda_yang/software/continuity/\"\n",
    "\n",
    "refpops=[\"Han_HGDP\",\"She\",\"Li\",\"Japanese\",\"Mongola\", \"Ulchi\", \"Dai\", \"Dong\", \"Maonan\", \"Miao\", \n",
    "              \"Mulam\", \"Tujia\", \"Yi\", \"Zhuang\", \"Thai\", \"Tibetan_Gangcha\"]\n",
    "mypops=[\"Tonglin\", \"Linzi\", \"XianShang\", \"Yaojia/ZGM\", \"TY\"]\n",
    "popiwant=\"TY\"\n",
    "fig = plt.figure(figsize=(15,10))\n",
    "for myind,popiwant in enumerate(mypops):\n",
    "    ax = fig.add_subplot(3,2,myind+1)\n",
    "    t1f,t2f,t1t,t2t=[],[],[],[]\n",
    "    for refpop in refpops:\n",
    "        #print \"_______________________\"\n",
    "        #print refpop\n",
    "        falsefile=open(pD+\"ind_A_v13_TBH.\"+refpop+\"_contFalse.pickle\",'r')\n",
    "        falsedat=cPickle.load(falsefile)\n",
    "        truefile=open(pD+\"ind_A_v13_TBH.\"+refpop+\"_contTrue.pickle\",'r')\n",
    "        truedat=cPickle.load(truefile)\n",
    "        #print falsedat\n",
    "\n",
    "        for ind,mypop in enumerate(falsedat):\n",
    "            #if ind in [0,2,3,4]: continue\n",
    "            #if ind in [0,1,2,3]: continue\n",
    "            if mypops[ind] == popiwant:\n",
    "                #print \"False\", mypops[ind],mypop[1], list(mypop[0])\n",
    "                #print \"True\", mypops[ind],truedat[ind][1],list(truedat[ind][0])\n",
    "                t1f.append(mypop[0][0])\n",
    "                t2f.append(mypop[0][1])\n",
    "                t1t.append(truedat[ind][0][0])\n",
    "                t2t.append(truedat[ind][0][1])\n",
    "\n",
    "\n",
    "    colors=[\"purple\",\"blue\",\"green\",\"yellow\",\"orange\",\"red\",\"brown\",\n",
    "            \"gray\",\"black\",\"lavender\",\"fuchsia\",\"goldenrod\",\"peachpuff\",\"cyan\",\n",
    "            \"lawngreen\",\"mediumslateblue\"]\n",
    "    #print t1f\n",
    "    for i in range(len(t1f)):\n",
    "        #handles.append(ax.scatter(t1f[i],t2f[i],c=colors[i],label=refpops[i]))\n",
    "        ax.plot(t1f[i],t2f[i],'o',label=refpops[i],c=colors[i])\n",
    "    \n",
    "    ax.set_xlim((0.1,0.25))\n",
    "    ax.set_ylim((0.6,1.1))\n",
    "    ax.set_xlabel(\"t1\")\n",
    "    ax.set_ylabel(\"t2 \"+popiwant)\n",
    "ax.legend(fontsize=6)\n",
    "fig.tight_layout()"
   ]
  },
  {
   "cell_type": "code",
   "execution_count": null,
   "metadata": {
    "collapsed": false
   },
   "outputs": [],
   "source": []
  },
  {
   "cell_type": "code",
   "execution_count": null,
   "metadata": {
    "collapsed": true
   },
   "outputs": [],
   "source": []
  }
 ],
 "metadata": {
  "kernelspec": {
   "display_name": "Python 2",
   "language": "python",
   "name": "python2"
  },
  "language_info": {
   "codemirror_mode": {
    "name": "ipython",
    "version": 2
   },
   "file_extension": ".py",
   "mimetype": "text/x-python",
   "name": "python",
   "nbconvert_exporter": "python",
   "pygments_lexer": "ipython2",
   "version": "2.7.6"
  }
 },
 "nbformat": 4,
 "nbformat_minor": 2
}
