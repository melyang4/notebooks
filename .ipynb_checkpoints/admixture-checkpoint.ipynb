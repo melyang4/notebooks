{
 "cells": [
  {
   "cell_type": "code",
   "execution_count": 1,
   "metadata": {
    "collapsed": false
   },
   "outputs": [
    {
     "ename": "ImportError",
     "evalue": "No module named projmodules",
     "output_type": "error",
     "traceback": [
      "\u001b[0;31m---------------------------------------------------------------------------\u001b[0m",
      "\u001b[0;31mImportError\u001b[0m                               Traceback (most recent call last)",
      "\u001b[0;32m<ipython-input-1-deecbc63ad1e>\u001b[0m in \u001b[0;36m<module>\u001b[0;34m()\u001b[0m\n\u001b[0;32m----> 1\u001b[0;31m \u001b[0;32mimport\u001b[0m \u001b[0mprojmodules\u001b[0m \u001b[0;32mas\u001b[0m \u001b[0mpm\u001b[0m\u001b[0;34m\u001b[0m\u001b[0m\n\u001b[0m\u001b[1;32m      2\u001b[0m \u001b[0;34m\u001b[0m\u001b[0m\n\u001b[1;32m      3\u001b[0m namers=['Mayan','Piapoco','Xavante','Surui','Mixe','Pima','Karitiana',\n\u001b[1;32m      4\u001b[0m         \u001b[0;34m'Chane'\u001b[0m\u001b[0;34m,\u001b[0m\u001b[0;34m\"Quechua\"\u001b[0m\u001b[0;34m,\u001b[0m\u001b[0;34m\"Aymara\"\u001b[0m\u001b[0;34m,\u001b[0m\u001b[0;34m\"Guarani\"\u001b[0m\u001b[0;34m,\u001b[0m\u001b[0;34m\"Guarani_GN\"\u001b[0m\u001b[0;34m,\u001b[0m\u001b[0;34m\"Guarani_KW\"\u001b[0m\u001b[0;34m,\u001b[0m\u001b[0;34m\u001b[0m\u001b[0m\n\u001b[1;32m      5\u001b[0m         \u001b[0;34m\"Cabecar\"\u001b[0m\u001b[0;34m,\u001b[0m\u001b[0;34m\"Kaqchikel\"\u001b[0m\u001b[0;34m,\u001b[0m\u001b[0;34m\"Wayuu\"\u001b[0m\u001b[0;34m,\u001b[0m\u001b[0;34m\"Inga\"\u001b[0m\u001b[0;34m,\u001b[0m\u001b[0;34m\"Ticuna\"\u001b[0m\u001b[0;34m,\u001b[0m\u001b[0;34m\"Chilote\"\u001b[0m\u001b[0;34m,\u001b[0m\u001b[0;34m\"Bolivian\"\u001b[0m\u001b[0;34m,\u001b[0m\u001b[0;34m\u001b[0m\u001b[0m\n",
      "\u001b[0;31mImportError\u001b[0m: No module named projmodules"
     ]
    }
   ],
   "source": [
    "import projmodules as pm\n",
    "\n",
    "namers=['Mayan','Piapoco','Xavante','Surui','Mixe','Pima','Karitiana',\n",
    "        'Chane',\"Quechua\",\"Aymara\",\"Guarani\",\"Guarani_GN\",\"Guarani_KW\",\n",
    "        \"Cabecar\",\"Kaqchikel\",\"Wayuu\",\"Inga\",\"Ticuna\",\"Chilote\",\"Bolivian\",\n",
    "        \"Apalai\",\"Arara\",\"UrubuKaapor\",\"Zoro\",\n",
    "        \"Mbuti\",\"Yoruba\",\"Spanish\",\"French\",\"Han_HGDP\",\"Japanese\"]\n",
    "\n",
    "baseDir = \"/home/melinda_yang/projects/bronzeage/\"\n",
    "fh=\"ind_A_v13_TBH\"\n",
    "newname = 'namer'\n",
    "pm.indtoignore(targets, baseDir+fh+'.ind', baseDir+fh+'.'+newname+'.ind')\n",
    "pm.convertf_par(baseDir+fh,baseDir+fh+'.'+newname+'.ped','PED',baseDir+\n",
    "                'CONVERTF.'+fh+'.'+newname+'.par',indfilename=baseDir+fh+'.'+newname)\n"
   ]
  },
  {
   "cell_type": "code",
   "execution_count": 2,
   "metadata": {
    "collapsed": false
   },
   "outputs": [
    {
     "data": {
      "text/plain": [
       "'Made par file for convertf!'"
      ]
     },
     "execution_count": 2,
     "metadata": {},
     "output_type": "execute_result"
    }
   ],
   "source": [
    "import projmodules as pm\n",
    "\n",
    "targets = ['Chane','Karitiana','Mayan','Mixe','Mixtec','Piapoco','Pima','Quechua','Surui','Zapotec','Clovis','French']\n",
    "\n",
    "baseDir = \"/home/mel_yang/projects/allTYstuff/SOMX2/\"\n",
    "fh=\"UPA_all2\"\n",
    "newname = 'namer_french'\n",
    "pm.indtoignore(targets, baseDir+fh+'.ind', baseDir+fh+'.'+newname+'.ind')\n",
    "pm.convertf_par(baseDir+fh,baseDir+fh+'.'+newname+'.ped','PED',baseDir+\n",
    "                'CONVERTF.'+fh+'.'+newname+'.par',indfilename=baseDir+fh+'.'+newname)\n"
   ]
  },
  {
   "cell_type": "code",
   "execution_count": 3,
   "metadata": {
    "collapsed": false
   },
   "outputs": [
    {
     "data": {
      "text/plain": [
       "'Made par file for convertf!'"
      ]
     },
     "execution_count": 3,
     "metadata": {},
     "output_type": "execute_result"
    }
   ],
   "source": [
    "import projmodules as pm\n",
    "\n",
    "targets = ['Ami', 'Atayal', 'Burmese', 'Cambodian', 'Dai', 'Daur', \n",
    "              'Han', 'Hezhen', 'Japanese', 'Kinh', 'Korean', 'Lahu', \n",
    "              'Miao', 'Naxi', 'Oroqen', 'She', 'Thai', 'Tu', 'Tujia', \n",
    "              'Uygur', 'Xibo', 'Yi','French']\n",
    "\n",
    "baseDir = \"/home/mel_yang/projects/allTYstuff/SOMX2/\"\n",
    "fh=\"UPA_all2\"\n",
    "newname = 'eas_french'\n",
    "pm.indtoignore(targets, baseDir+fh+'.ind', baseDir+fh+'.'+newname+'.ind')\n",
    "pm.convertf_par(baseDir+fh,baseDir+fh+'.'+newname+'.ped','PED',baseDir+\n",
    "                'CONVERTF.'+fh+'.'+newname+'.par',indfilename=baseDir+fh+'.'+newname)\n"
   ]
  },
  {
   "cell_type": "code",
   "execution_count": 8,
   "metadata": {
    "collapsed": false
   },
   "outputs": [
    {
     "ename": "TypeError",
     "evalue": "bar() takes at least 2 arguments (1 given)",
     "output_type": "error",
     "traceback": [
      "\u001b[0;31m---------------------------------------------------------------------------\u001b[0m\n\u001b[0;31mTypeError\u001b[0m                                 Traceback (most recent call last)",
      "\u001b[0;32m<ipython-input-8-82424e89d848>\u001b[0m in \u001b[0;36m<module>\u001b[0;34m()\u001b[0m\n\u001b[1;32m      9\u001b[0m \u001b[0mmydat\u001b[0m \u001b[0;34m=\u001b[0m \u001b[0mnp\u001b[0m\u001b[0;34m.\u001b[0m\u001b[0marray\u001b[0m\u001b[0;34m(\u001b[0m\u001b[0;34m[\u001b[0m\u001b[0;34m[\u001b[0m\u001b[0mfloat\u001b[0m\u001b[0;34m(\u001b[0m\u001b[0mi\u001b[0m\u001b[0;34m)\u001b[0m \u001b[0;32mfor\u001b[0m \u001b[0mi\u001b[0m \u001b[0;32min\u001b[0m \u001b[0mline\u001b[0m\u001b[0;34m.\u001b[0m\u001b[0msplit\u001b[0m\u001b[0;34m(\u001b[0m\u001b[0;34m)\u001b[0m\u001b[0;34m]\u001b[0m \u001b[0;32mfor\u001b[0m \u001b[0mline\u001b[0m \u001b[0;32min\u001b[0m \u001b[0mmydat\u001b[0m\u001b[0;34m]\u001b[0m\u001b[0;34m)\u001b[0m\u001b[0;34m\u001b[0m\u001b[0m\n\u001b[1;32m     10\u001b[0m \u001b[0;32mprint\u001b[0m \u001b[0mmydat\u001b[0m\u001b[0;34m.\u001b[0m\u001b[0mshape\u001b[0m\u001b[0;34m\u001b[0m\u001b[0m\n\u001b[0;32m---> 11\u001b[0;31m \u001b[0mplt\u001b[0m\u001b[0;34m.\u001b[0m\u001b[0mbar\u001b[0m\u001b[0;34m(\u001b[0m\u001b[0mmydat\u001b[0m\u001b[0;34m,\u001b[0m \u001b[0mcol\u001b[0m\u001b[0;34m=\u001b[0m\u001b[0;34m[\u001b[0m\u001b[0;34m'red'\u001b[0m\u001b[0;34m,\u001b[0m\u001b[0;34m'blue'\u001b[0m\u001b[0;34m,\u001b[0m\u001b[0;34m'yellow'\u001b[0m\u001b[0;34m]\u001b[0m\u001b[0;34m)\u001b[0m\u001b[0;34m\u001b[0m\u001b[0m\n\u001b[0m\u001b[1;32m     12\u001b[0m \u001b[0;31m#barplot(t(as.matrix(tbl)), col=rainbow(3),xlab=\"Individual #\", ylab=\"Ancestry\", border=NA)\u001b[0m\u001b[0;34m\u001b[0m\u001b[0;34m\u001b[0m\u001b[0m\n",
      "\u001b[0;31mTypeError\u001b[0m: bar() takes at least 2 arguments (1 given)"
     ]
    },
    {
     "name": "stdout",
     "output_type": "stream",
     "text": [
      "(24, 3)\n"
     ]
    }
   ],
   "source": [
    "%matplotlib inline\n",
    "import numpy as np\n",
    "import matplotlib.pyplot as plt\n",
    "baseDir = '/home/mel_yang/projects/allTYstuff/SOMX2/'\n",
    "fh = 'UPA_all2.namer'\n",
    "myfile = open(baseDir+fh+'.3.Q','r')\n",
    "mydat = myfile.readlines()\n",
    "myfile.close()\n",
    "mydat = np.array([[float(i) for i in line.split()] for line in mydat])\n",
    "print mydat.shape\n",
    "plt.bar( #, col=['red','blue','yellow'])\n",
    "#barplot(t(as.matrix(tbl)), col=rainbow(3),xlab=\"Individual #\", ylab=\"Ancestry\", border=NA)"
   ]
  },
  {
   "cell_type": "code",
   "execution_count": null,
   "metadata": {
    "collapsed": false
   },
   "outputs": [],
   "source": []
  }
 ],
 "metadata": {
  "kernelspec": {
   "display_name": "Python 2",
   "language": "python",
   "name": "python2"
  },
  "language_info": {
   "codemirror_mode": {
    "name": "ipython",
    "version": 2
   },
   "file_extension": ".py",
   "mimetype": "text/x-python",
   "name": "python",
   "nbconvert_exporter": "python",
   "pygments_lexer": "ipython2",
   "version": "2.7.6"
  }
 },
 "nbformat": 4,
 "nbformat_minor": 0
}
