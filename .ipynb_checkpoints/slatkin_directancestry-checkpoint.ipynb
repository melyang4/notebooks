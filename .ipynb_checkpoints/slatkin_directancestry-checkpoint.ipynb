{
 "cells": [
  {
   "cell_type": "code",
   "execution_count": 20,
   "metadata": {
    "collapsed": false
   },
   "outputs": [
    {
     "name": "stdout",
     "output_type": "stream",
     "text": [
      "Overwriting /home/melinda_yang/ivpp/bronzeage/slatkin_getgenocounts.py\n"
     ]
    }
   ],
   "source": [
    "%%writefile /home/melinda_yang/ivpp/bronzeage/slatkin_getgenocounts.py\n",
    "\n",
    "import numpy as np\n",
    "import random\n",
    "\n",
    "pD=\"/home/melinda_yang/ivpp/bronzeage/\"\n",
    "fh=\"ind_A_v13_TBH\"\n",
    "subsetind=\".single\"\n",
    "\n",
    "anc=[\"Zhougongmiao\",\"XianShang_R2142\",\"XianShang_R2148\",\n",
    "    \"Linzi_R2038\", \"Linzi_R2039\",\"Linzi_R2099\",\"Tonglin\",\n",
    "    \"Balikun\",\"DHG_M11\",\"DHG_M12\",\"DHG_M819\",\"DHG_M820\",\"DHG_M827\",\"DHG_M9JM6\"]\n",
    "\n",
    "dhg=[\"DHG_M11\",\"DHG_M12\",\"DHG_M819\",\"DHG_M820\",\"DHG_M827\",\"DHG_M9JM6\"]\n",
    "linzi=[\"Linzi_R2038\", \"Linzi_R2039\",\"Linzi_R2099\"]\n",
    "xshang=[\"XianShang_R2142\",\"XianShang_R2148\"]\n",
    "africans=[\"Yoruba\",\"Mbuti\",\"Mandenka\",\"Ju_hoan_North\"]\n",
    "myanc=xshang\n",
    "#myanc=linzi\n",
    "\n",
    "myhans=[\"HGDP00774\",\"A_Han-4\",\"GN01\",\"T_Tibetan-1\",\"S_Miao-1\",\"HGDP01189\",\n",
    "        \"S_Dai-1\",\"S_Cambodian-1\",\n",
    "        \"S_Korean-2\",\"S_Japanese-3\",\"S_Yi-2\",\"S_Naxi-1\",\"S_Ami-2\",\"S_Lahu-1\"]\n",
    "ancind,afrind=[],[]\n",
    "easinds=[]\n",
    "indfile=open(pD+fh+subsetind+\".ind\",'r')\n",
    "for ind,line in enumerate(indfile):\n",
    "    x = line.split()\n",
    "    if x[2] in myanc: ancind.append(ind)\n",
    "    if x[2] in africans: afrind.append(ind)\n",
    "    if x[0] in myhans: easinds.append(ind)\n",
    "indfile.close()\n",
    "\n",
    "num=0\n",
    "fixedafr=0\n",
    "ptype=[[0,0,0] for i in easinds]\n",
    "genofile=open(pD+fh+\".geno\",'r')\n",
    "for ind,line in enumerate(genofile):\n",
    "    if ind%10000==0: print ind\n",
    "    afralleles=set([geno for base,geno in enumerate(line) if base in afrind and geno != '9'])\n",
    "    if len(afralleles) == 1: fixedafr+=1; continue\n",
    "    ancalleles=[geno for base,geno in enumerate(line) if base in ancind and geno != '9']\n",
    "    \n",
    "    #print ancalleles\n",
    "    if len(ancalleles)<2: continue\n",
    "    elif len(ancalleles)==2: ancalleles=''.join(ancalleles)\n",
    "    else: ancalleles=''.join(random.sample(ancalleles,2))\n",
    "    for ind2,easind in enumerate(easinds): \n",
    "        easgeno=line[easind]\n",
    "        if easgeno == '9': continue\n",
    "        elif easgeno == '0': easallele='0'\n",
    "        elif easgeno == '1': easallele=random.choice(['0','2'])\n",
    "        elif easgeno == '2': easallele='2'\n",
    "        else: \"easgeno??\", easgeno\n",
    "        #print easallele, ancalleles\n",
    "        allalleles=easallele+ancalleles\n",
    "        if allalleles in ['000','222']: ptype[ind2][0]+=1\n",
    "        elif allalleles in ['022','200']: ptype[ind2][2]+=1\n",
    "        elif allalleles in ['002','202','020','220']: ptype[ind2][1]+=1\n",
    "        else: print 'whaaa', allalleles; break\n",
    "    num+=1\n",
    "    #if num==1000: break\n",
    "\n",
    "ptype=np.array(ptype)\n",
    "#print ptype\n",
    "#np.savetxt(pD+\"sda_\"+fh+\".XS.genos\",ptype)\n",
    "#print ptype\n",
    "#for myrow in range(ptype.shape[0]):\n",
    "#    my0 = (ptype[myrow,:]==0).sum()\n",
    "#    my1 = (ptype[myrow,:]==1).sum()\n",
    "#    my2 = (ptype[myrow,:]==2).sum()\n",
    "#    if myrow==0: mysets=np.array([my0,my1,my2])\n",
    "#    else: mysets=np.vstack((mysets,np.array([my0,my1,my2])))\n",
    "#print mysets\n",
    "mycomments=\"anc:\"+','.join(myanc)+'\\npd:'+','.join(myhans)\n",
    "np.savetxt(pD+\"sda_\"+fh+\".XS.genocount\",ptype,fmt=\"%i\",header=mycomments,comments=\"#\")\n",
    "#pcounts=[[ptypeone.count(i) for i in set(ptypeone)] for ptypeone in ptype]\n",
    "#newfile=open(pD+\"sda_\"+fh+\".XS.genocount\",'w')\n",
    "#for ind,ptype in enumerate(pcounts): \n",
    "#    newfile.write(myhans[ind]+'\\t'+'\\t'.join([str(i) for i in ptype]+'\\n'))\n",
    "#newfile.close()\n",
    "genofile.close()"
   ]
  },
  {
   "cell_type": "code",
   "execution_count": 12,
   "metadata": {
    "collapsed": true
   },
   "outputs": [],
   "source": [
    "import numpy as np\n",
    "np.savetxt??"
   ]
  },
  {
   "cell_type": "code",
   "execution_count": 35,
   "metadata": {
    "collapsed": false
   },
   "outputs": [
    {
     "name": "stdout",
     "output_type": "stream",
     "text": [
      "[14770, 5097, 2764]\n"
     ]
    }
   ],
   "source": [
    "print [ptype.count(i) for i in set(ptype)]"
   ]
  },
  {
   "cell_type": "code",
   "execution_count": 9,
   "metadata": {
    "collapsed": false
   },
   "outputs": [
    {
     "name": "stdout",
     "output_type": "stream",
     "text": [
      "None\n",
      "[1, 2, 2]\n"
     ]
    }
   ],
   "source": [
    "import random\n",
    "x=[2,1,2]\n",
    "print random.shuffle(x)\n",
    "print x"
   ]
  },
  {
   "cell_type": "code",
   "execution_count": 40,
   "metadata": {
    "collapsed": false
   },
   "outputs": [],
   "source": [
    "import scipy.optimize as op\n",
    "from scipy.special import gammaln\n",
    "import numpy as np\n",
    "import random\n",
    "from lmfit import minimize, Parameters\n",
    "reps=range(1000)\n",
    "xs=[14770, 5097, 2764]\n",
    "xs=[13306, 4927, 2642]\n",
    "pD=\"/home/melinda_yang/ivpp/bronzeage/sda/\"\n",
    "fh=\"testresults\"\n",
    "\n",
    "##ptype is vector of a/aa, A/AA (p0), a/Aa, A/Aa, a/aA, A/aA (p1) and a/AA, A/aa (p2)\n",
    "def log_factorial(x):\n",
    "    \"\"\"Returns the logarithm of x!\n",
    "    Also accepts lists and NumPy arrays in place of x.\"\"\"\n",
    "    return gammaln(np.array(x)+1)\n",
    "\n",
    "def lnlik(varyparams,n0,n1,n2):\n",
    "    c=varyparams['c']\n",
    "    k1=varyparams['k1']\n",
    "    #print c, k1\n",
    "    counts=np.array([n0,n1,n2])\n",
    "    k0=1.0-k1\n",
    "    p0=k0+k1/3.0\n",
    "    p1=(2/3.0)*(1-c)*k1\n",
    "    p2=(k1/3.0)*(c+1)\n",
    "    ps=np.array([p0,p1,p2])\n",
    "    ##didn't add factorial parts because not varying\n",
    "    result = counts * np.log(ps)\n",
    "    return result\n",
    "\n",
    "for ind,rep in enumerate(reps):\n",
    "    #print '-----------'+str(rep)+'------------'\n",
    "    params=Parameters()\n",
    "    params.add('c',value=random.uniform(0,1),min=0,max=1)\n",
    "    params.add('k1',value=random.uniform(0,1),min=0,max=1)\n",
    "    mylst=[params['c'].value, params['k1'].value]\n",
    "    result = minimize(lnlik,params,args=(xs[0],xs[1],xs[2]),method='nelder')\n",
    "    mylst+=[result.params['c'].value, result.params['k1'].value,result.chisqr]\n",
    "    newfile.write(init+'\\t'+final+'\\t'+\"%.4f\" % result.chisqr + '\\n')\n",
    "    if ind==0: myresults=np.array(mylst)\n",
    "    else: myresults=np.vstack((myresults,np.array(mylst)))\n",
    "np.savetxt(pD+fh+\".reps\",myresults,fmt=\"%.4e\",comments=\"#\",header=\"c_init,k1_init,c_final,k1_final,chisqr\") "
   ]
  },
  {
   "cell_type": "code",
   "execution_count": 62,
   "metadata": {
    "collapsed": false
   },
   "outputs": [
    {
     "name": "stdout",
     "output_type": "stream",
     "text": [
      "\n"
     ]
    },
    {
     "data": {
      "image/png": "[encoded data removed]",
      "text/plain": [
       "<matplotlib.figure.Figure at 0x7ff639fe5b90>"
      ]
     },
     "metadata": {},
     "output_type": "display_data"
    }
   ],
   "source": [
    "%matplotlib inline\n",
    "import numpy\n",
    "import matplotlib.pyplot as plt\n",
    "pD=\"/home/melinda_yang/ivpp/bronzeage/sda/\"\n",
    "fh=\"testresults\"\n",
    "myresults=np.loadtxt(pD+fh+\".reps\")\n",
    "#print myresults\n",
    "fig = plt.figure(figsize=(10,3))\n",
    "ax1 = fig.add_subplot(1,2,1)\n",
    "ax2 = fig.add_subplot(1,2,2)\n",
    "ax1.hist(myresults[:,0])\n",
    "ax1.hist(myresults[:,2])\n",
    "ax1.set_xscale('log')\n",
    "ax1.set_title('c')\n",
    "ax2.hist(myresults[:,1])\n",
    "ax2.hist(myresults[:,3])\n",
    "ax2.set_xscale('log')\n",
    "ax2.set_title('k1')\n",
    "print "
   ]
  },
  {
   "cell_type": "code",
   "execution_count": null,
   "metadata": {
    "collapsed": true
   },
   "outputs": [],
   "source": []
  },
  {
   "cell_type": "code",
   "execution_count": null,
   "metadata": {
    "collapsed": true
   },
   "outputs": [],
   "source": []
  }
 ],
 "metadata": {
  "kernelspec": {
   "display_name": "Python 2",
   "language": "python",
   "name": "python2"
  },
  "language_info": {
   "codemirror_mode": {
    "name": "ipython",
    "version": 2
   },
   "file_extension": ".py",
   "mimetype": "text/x-python",
   "name": "python",
   "nbconvert_exporter": "python",
   "pygments_lexer": "ipython2",
   "version": "2.7.6"
  }
 },
 "nbformat": 4,
 "nbformat_minor": 2
}
