{
 "cells": [
  {
   "cell_type": "code",
   "execution_count": 3,
   "metadata": {
    "collapsed": false
   },
   "outputs": [
    {
     "name": "stdout",
     "output_type": "stream",
     "text": [
      "Writing /home/melinda_yang/greatapes/makebed_rand1000.py\n"
     ]
    }
   ],
   "source": [
    "%%writefile /home/melinda_yang/greatapes/makebed_rand1000.py\n",
    "##Choose random 100,000 SNPs in bed file for analysis\n",
    "import random\n",
    "##From wc -l Intersect_filtered_cov8.bed, 58590226 lines\n",
    "#randomlines=range(700123)\n",
    "#random.shuffle(randomlines)\n",
    "#randomlines=randomlines[:100000]\n",
    "#randomlines.sort()\n",
    "#while len(randomlines) < 100000:\n",
    "#    randset=set([random.randint(0,58590226) for i in range(100000)])\n",
    "#    randomlines=randomlines.union(randset)\n",
    "#    \n",
    "#randomlines=list(randomlines)[0:100000]\n",
    "\n",
    "randomlines=range(100000)\n",
    "random.shuffle(randomlines)\n",
    "randomlines=randomlines[:1000]\n",
    "randomlines.sort()\n",
    "\n",
    "pD=\"/home/melinda_yang/greatapes/\"\n",
    "#bedfile=open(pD+\"Intersect_filtered_cov8_chr21.bed\",'r')\n",
    "#newfile=open(pD+\"Intersect_filtered_cov8_chr21_rand100000.bed\",'w')\n",
    "bedfile=open(pD+\"Intersect_filtered_cov8_chr21_rand100000.bed\",'r')\n",
    "newfile=open(pD+\"Intersect_filtered_cov8_chr21_rand1000.bed\",'w')\n",
    "for ind,line in enumerate(bedfile):\n",
    "    if ind not in randomlines: continue\n",
    "    else: newfile.write(line)\n",
    "        \n",
    "bedfile.close()\n",
    "newfile.close()\n"
   ]
  },
  {
   "cell_type": "code",
   "execution_count": 5,
   "metadata": {
    "collapsed": false
   },
   "outputs": [
    {
     "name": "stdout",
     "output_type": "stream",
     "text": [
      "[3, 1, 2]\n",
      "[1, 2, 3]\n"
     ]
    }
   ],
   "source": [
    "import random\n",
    "x=[1,2,3]\n",
    "random.shuffle(x)\n",
    "print x\n",
    "x.sort()\n",
    "print x"
   ]
  },
  {
   "cell_type": "raw",
   "metadata": {},
   "source": []
  },
  {
   "cell_type": "code",
   "execution_count": 3,
   "metadata": {
    "collapsed": false
   },
   "outputs": [
    {
     "name": "stdout",
     "output_type": "stream",
     "text": [
      "[4, 3, 1, 2]\n"
     ]
    }
   ],
   "source": [
    "%%writefile /home/melinda_yang/greatapes/makegeno_cov8_rand100000.py\n",
    "##Make geno file to put in diff() in R\n",
    "from pysam import VariantFile\n",
    "import pysam\n",
    "import numpy as np\n",
    "\n",
    "pD=\"/home/melinda_yang/greatapes/\"\n",
    "mysets=\"greatapes\"\n",
    "\n",
    "bedfile=open(pD+\"Intersect_filtered_cov8_rand100000.bed\",'r')\n",
    "vcfin=VariantFile(pD+mysets+\".vcf.gz\")\n",
    "mychr=\"chr21\"\n",
    "header = list(vcfin.header.samples)\n",
    "mydiff=np.zeros((len(header),len(header)))\n",
    "mygenos={\"1/1\":'2',\"0/0\":'0',\"1/0\":'1',\"0/1\":'1',\"./.\":'2'}\n",
    "genofile=open(pD+mysets+\".\"+mychr+\".geno\",'w')\n",
    "genofile.write(' '.join(header)+'\\n')\n",
    "snpfile=open(pD+mysets+\".\"+mychr+\".snp\",'w')\n",
    "\n",
    "for ind,line in enumerate(bedfile):\n",
    "    x=line.split()\n",
    "    #if x[0] != mychr: continue\n",
    "    if ind%100000==0: print line\n",
    "    for pos in range(int(x[1]),int(x[2])):\n",
    "        for entry in vcfin.fetch(x[0],pos-1,pos):\n",
    "            alleles=list(entry.alleles)\n",
    "            if len(alleles) != 2: continue\n",
    "            genos=[mygenos[geno.split(':')[0]] for geno in str(entry).split('\\t')[9:]]\n",
    "            if len(set(genos)) == 1: continue\n",
    "            genofile.write(' '.join(genos)+'\\n')\n",
    "            snpfile.write(x[0]+'\\t'+str(pos)+'\\n')\n",
    "    #if num == 10: break\n",
    "            #print mydiff\n",
    "            #if num == 10: break\n",
    "    \n",
    "#np.savetxt(pD+mysets+\"cov8.fixedalt.\"+mychr,mydiff,fmt=\"%.1f\",comments=\"#\".join(header))     "
   ]
  },
  {
   "cell_type": "code",
   "execution_count": 6,
   "metadata": {
    "collapsed": false
   },
   "outputs": [
    {
     "name": "stdout",
     "output_type": "stream",
     "text": [
      "Overwriting /home/melinda_yang/greatapes/sandpi.py\n"
     ]
    }
   ],
   "source": [
    "%%writefile /home/melinda_yang/greatapes/sandpi.py\n",
    "##sandpi.py\n",
    "\n",
    "##DETERMINE S and PI\n",
    "\n",
    "from pysam import VariantFile\n",
    "import pysam\n",
    "import numpy as np\n",
    "import random\n",
    "pD=\"/home/melinda_yang/greatapes/\"\n",
    "mysets=\"greatapes.fixedchr21\"\n",
    "\n",
    "##CAVEAT: ./. has same meaning as 0/0, see problem __ for why\n",
    "##Give heterozygotes a count of 0.5--pretend each individual is haploid\n",
    "\n",
    "mygenos={\"1/1\":1,\"0/0\":0,\"1/0\":0.5,\"0/1\":0.5,\"./.\":0}\n",
    "\n",
    "bedfile=open(pD+\"Intersect_filtered_cov8_chr21_rand1000.bed\",'r')\n",
    "vcfin=VariantFile(pD+mysets+\".vcf.gz\")\n",
    "mychr=\"chr21\"\n",
    "header = list(vcfin.header.samples)\n",
    "seqary=np.zeros((1,len(header))) ##EACH ROW IS A SNP, EACH COLUMN IS AN INDIVIDUAL\n",
    "\n",
    "num=0\n",
    "for ind,line in enumerate(bedfile):\n",
    "    x=line.split()\n",
    "    if ind%100==0: print ind\n",
    "    #if ind==100: break\n",
    "    for pos in range(int(x[1]),int(x[2])):\n",
    "        for entry in vcfin.fetch(x[0],pos-1,pos):\n",
    "            if len(entry.alleles) != 2: continue  #print \"Not BIALLELIC!\";  ##Check if biallelic\n",
    "            ref,alt=tuple(entry.alleles)\n",
    "            genos=[mygenos[geno.split(':')[0]] for geno in str(entry).split('\\t')[9:]]\n",
    "            genos=[random.choice([0,1]) if i == 0.5 else i for i in genos]\n",
    "            genos=np.array(genos)\n",
    "            if num==0: seqary=genos\n",
    "            else: seqary=np.vstack((seqary,genos))\n",
    "            num+=1\n",
    "np.savetxt(pD+\"greatapes_Spi.txt\",seqary,fmt=\"%.1f\",comments=\"#\".join(header))\n",
    "#print header\n",
    "\n",
    "#genera=[\"Gorilla\",\"Homo\",\"Pan\",\"Pongo\"]\n",
    "#myapeinds=[sorted(random.sample([ind for ind,i in enumerate(header) if myspecies in i],9)) for myspecies in genera]\n",
    "genera=['beringei','gorilla','sapiens','paniscus','troglodytes','abelii','pygmaeus']\n",
    "myapeinds=[[ind for ind,i in enumerate(header) if myspecies in i] for myspecies in genera]\n",
    "\n",
    "for ind,myape in enumerate(myapeinds):\n",
    "    myary=seqary[:,myape]\n",
    "\n",
    "    S = sum([1 for i in np.sum(myary,axis=1) if i not in [0,myary.shape[1]]]) ##Find sites where all fixed ref or alt\n",
    "    pairdiff=[]\n",
    "    for myind1 in range(myary.shape[1]):\n",
    "        for myind2 in range(myary.shape[1]):\n",
    "            if myind1>=myind2: continue\n",
    "            else: pairdiff.append(np.sum(np.count_nonzero(myary[:,myind1]-myary[:,myind2])))\n",
    "    pi = sum(pairdiff)/float(len(pairdiff))\n",
    "    \n",
    "    print genera[ind], S, pi\n",
    "\n"
   ]
  },
  {
   "cell_type": "code",
   "execution_count": null,
   "metadata": {
    "collapsed": true
   },
   "outputs": [],
   "source": []
  }
 ],
 "metadata": {
  "kernelspec": {
   "display_name": "Python 2",
   "language": "python",
   "name": "python2"
  },
  "language_info": {
   "codemirror_mode": {
    "name": "ipython",
    "version": 2
   },
   "file_extension": ".py",
   "mimetype": "text/x-python",
   "name": "python",
   "nbconvert_exporter": "python",
   "pygments_lexer": "ipython2",
   "version": "2.7.6"
  }
 },
 "nbformat": 4,
 "nbformat_minor": 2
}
