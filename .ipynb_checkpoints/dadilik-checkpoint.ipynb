{
 "cells": [
  {
   "cell_type": "code",
   "execution_count": 2,
   "metadata": {
    "collapsed": false
   },
   "outputs": [
    {
     "name": "stderr",
     "output_type": "stream",
     "text": [
      "/usr/local/lib/python2.7/dist-packages/matplotlib/font_manager.py:273: UserWarning: Matplotlib is building the font cache using fc-list. This may take a moment.\n",
      "  warnings.warn('Matplotlib is building the font cache using fc-list. This may take a moment.')\n"
     ]
    }
   ],
   "source": [
    "import dadi"
   ]
  },
  {
   "cell_type": "code",
   "execution_count": 24,
   "metadata": {
    "collapsed": false
   },
   "outputs": [
    {
     "name": "stdout",
     "output_type": "stream",
     "text": [
      "[101, 59, 120]\n",
      "defaultdict(<type 'list'>, {'Yoruba': [4307, 4308, 4309, 4310, 4312, 4313, 4314, 4315, 4316, 4317, 4318, 4319, 4320, 4321, 4322, 4323, 4324, 4325, 4326, 4327, 4328, 5081, 5083, 5084, 5086, 5087, 5089, 5090, 5092, 5094, 5095, 5097, 5098, 5100, 5101, 5103, 5104, 5106, 5107, 5113, 5115, 5116, 5118, 5119, 5121, 5122, 5124, 5125, 5127, 5128, 5130, 5131, 5134, 5136, 5137, 5139, 5140, 5142, 5146, 5149, 5151, 5152, 5153, 5154, 5156, 5157, 5160, 5161, 5162, 5163], 'Han_HGDP': [4199, 4200, 4201, 4202, 4204, 4205, 4206, 4207, 4208, 4209, 4210, 4211, 4229, 4230, 4231, 4232, 4233, 4234, 4235, 4236, 4237, 4238, 4239, 4355, 4356, 4357, 4358, 4359, 4360, 4361, 4384, 4385, 4386], 'French': [3964, 3965, 3966, 3967, 3968, 3969, 3970, 3971, 3972, 3975, 3976, 3977, 3978, 3979, 3980, 3981, 3982, 3984, 3985, 3986, 3987, 3988, 3989, 3990, 3991, 6200, 6217, 6220, 6246, 6268, 6307, 6327, 7820, 7821, 7822, 7823, 7824, 7825, 7826, 7827, 7829, 7830, 7831, 7832, 7833, 7834, 7835, 7836, 7837, 7838, 7839, 7840, 7841, 7842, 7843, 7844, 7845, 7846, 7847, 7848, 7849]})\n",
      "4682\n"
     ]
    }
   ],
   "source": [
    "##Make SNP file in dadi format\n",
    "##| Human | Chimp | Allele1 | YRI | CEU | Allele2 | YRI | CEU |  Gene | Position |\n",
    "import collections\n",
    "import gzip\n",
    "import numpy as np\n",
    "import itertools\n",
    "\n",
    "pd=\"/home/melinda_yang/ivpp/bronzeage/\"\n",
    "fh=\"ind_A_v13_TBH\"\n",
    "\n",
    "popns=[\"French\",\"Han_HGDP\",\"Yoruba\"]\n",
    "\n",
    "newfile=open(pd+fh+\".dadisnp\",'w')\n",
    "header=[\"Ref\",\"Chimp\",\"Allele1\"] + popns+ [\"Allele2\"] + popns+ [\"rsID\",\"Chr\",\"Pos\"]\n",
    "newfile.write('\\t'.join(header)+'\\n')\n",
    "\n",
    "myinds=collections.defaultdict(list)\n",
    "indfile=open(pd+fh+\".ind\",'r')\n",
    "for ind,line in enumerate(indfile):\n",
    "    x=line.split()\n",
    "    if x[2] in popns: myinds[x[2]].append(ind)\n",
    "    if x[2] == \"Chimp\": ancind=ind\n",
    "indfile.close()\n",
    "\n",
    "snpfile=open(pd+fh+\".snp\",'r')\n",
    "mysnpinfo=[line.split() for line in snpfile]\n",
    "snpfile.close()\n",
    "\n",
    "genofile=gzip.open(pd+fh+\".geno.gz\",'r')\n",
    "num=0\n",
    "for ind,line in enumerate(genofile):\n",
    "    chimpgeno=line[ancind]\n",
    "\n",
    "    mygenos=[[int(line[popind]) for popind in myinds[myset]] for myset in popns]\n",
    "    if 9 in list(itertools.chain(*mygenos)): continue\n",
    "    mygenosum=[sum(i) for i in mygenos]\n",
    "    print mygenosum\n",
    "    break\n",
    "print myinds\n",
    "print ancind\n",
    "\n",
    "newfile.close()\n"
   ]
  },
  {
   "cell_type": "code",
   "execution_count": null,
   "metadata": {
    "collapsed": false
   },
   "outputs": [],
   "source": [
    "\n"
   ]
  },
  {
   "cell_type": "code",
   "execution_count": null,
   "metadata": {
    "collapsed": true
   },
   "outputs": [],
   "source": []
  }
 ],
 "metadata": {
  "kernelspec": {
   "display_name": "Python 2",
   "language": "python",
   "name": "python2"
  }
 },
 "nbformat": 4,
 "nbformat_minor": 2
}
