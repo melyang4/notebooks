{
 "cells": [
  {
   "cell_type": "markdown",
   "metadata": {},
   "source": [
    "# PCA\n",
    "0. SGDP files\n",
    "1. Get par file\n",
    "2. Make evec file\n"
   ]
  },
  {
   "cell_type": "markdown",
   "metadata": {},
   "source": [
    "## 0. SGDP files\n",
    "\n",
    "```bash\n",
    "cut -f9,10 sgdp_2016_info.txt | egrep -e 'WestEurasia' | cut -f1 | sort -u | SGDP.WestEurasia.txt\n",
    "cut -f9,10 sgdp_2016_info.txt | egrep -e 'EastAsia|CentralAsiaSiberia' | cut -f1 | sort -u | SGDP.Asia.txt\n",
    "cut -f9,10 sgdp_2016_info.txt | egrep -e 'EastAsia|CentralAsiaSiberia|SouthAsia' | cut -f1 | sort -u > SGDP.AllAsia.txt\n",
    "cut -f9,10 sgdp_2016_info.txt | egrep -e 'EastAsia|CentralAsiaSiberia|Oceania' | cut -f1 | sort -u > SGDP.AsnPac.txt\n",
    "cut -f9,10 sgdp_2016_info.txt | egrep -e 'EastAsia|CentralAsiaSiberia|SouthAsia|Oceania' | cut -f1 | sort -u > SGDP.AsiaPac.txt\n",
    "```"
   ]
  },
  {
   "cell_type": "code",
   "execution_count": null,
   "metadata": {
    "collapsed": true
   },
   "outputs": [],
   "source": []
  },
  {
   "cell_type": "markdown",
   "metadata": {},
   "source": [
    "## 1. Get par file\n",
    "Do for all SGDP"
   ]
  },
  {
   "cell_type": "code",
   "execution_count": 12,
   "metadata": {},
   "outputs": [
    {
     "data": {
      "text/plain": [
       "'Made par file for smartpca!'"
      ]
     },
     "execution_count": 12,
     "metadata": {},
     "output_type": "execute_result"
    }
   ],
   "source": [
    "import projmodules as pm\n",
    "\n",
    "datpD=\"/mnt/solexa/mel_yang/data/2.2M/\"\n",
    "pD=\"/mnt/solexa/mel_yang/2.2_neolithic/pca/\"\n",
    "fh=\"UPA_all8\"\n",
    "subset=\"SGDPAsiaPac\"\n",
    "\n",
    "pm.smartpca_par(pD,fh,subset,datpd=datpD,newfilename=pD+fh+\".\"+subset,lsqproject=True,poplistname=pD+\"SGDP.AsiaPac.txt\")"
   ]
  },
  {
   "cell_type": "markdown",
   "metadata": {},
   "source": [
    "## Make evecfile"
   ]
  },
  {
   "cell_type": "code",
   "execution_count": 75,
   "metadata": {},
   "outputs": [],
   "source": [
    "pD=\"/mnt/solexa/mel_yang/2.2_neolithic/pca/HOset/\"\n",
    "fh=\"UPA_all8\"\n",
    "fh=\"ind_A_v13_TBH6\"\n",
    "subset= \"HOPDWORLD\" #\"SGDPAllAsia\" #\"SGDPEAS\" #\"SGDPALL\" \n",
    "subsetmega=\"HOWORLDANC\"\n",
    "\n",
    "megafile=open(pD+subsetmega+\".megaGroup\",'r')\n",
    "mypops=[line.split()[0] for line in megafile]\n",
    "megafile.close()\n",
    "\n",
    "evecfile=open(pD+fh+\".\"+subset+\".evec\",'r')\n",
    "newfile=open(pD+fh+\".\"+subset+\".\"+subsetmega.split('.')[-1]+\".evec\",'w')\n",
    "newfilelines=[]\n",
    "for line in evecfile: \n",
    "    x=line.split()\n",
    "    if x[0]==\"#eigvals:\": \n",
    "        newfile.write(line)\n",
    "        continue\n",
    "    if x[-1] in mypops: newfilelines.append(line)\n",
    "    else: continue\n",
    "for pop in mypops[::-1]:\n",
    "    for line in newfilelines: \n",
    "        x=line.split()\n",
    "        if x[-1]==pop: newfile.write(line)\n",
    "\n",
    "evecfile.close()\n",
    "newfile.close()"
   ]
  },
  {
   "cell_type": "markdown",
   "metadata": {},
   "source": [
    "## Script to make plot\n",
    "```bash\n",
    "Rscript plotPcaFromSmartpca.R UPA_all8.SGDPASIA.EAS_ANCASN.evec EAS_ANCASN.megaGroup 8 SGDPASIA.EAS_ANCASN 1 2 topleft\n",
    "```"
   ]
  },
  {
   "cell_type": "code",
   "execution_count": 87,
   "metadata": {},
   "outputs": [
    {
     "name": "stdout",
     "output_type": "stream",
     "text": [
      "null device \n",
      "          1 \n"
     ]
    }
   ],
   "source": [
    "%%bash\n",
    "RpD=\"/mnt/solexa/mel_yang/2.2_neolithic/pca/\"\n",
    "pD=\"/mnt/solexa/mel_yang/2.2_neolithic/pca/HOset/\"\n",
    "fh=\"UPA_all8\"\n",
    "fh=\"ind_A_v13_TBH6\"\n",
    "subset=\"HOPDWORLD\" #\"SGDPAllAsia\" #\"SGDPEAS\" #\"SGDPALL\" \n",
    "subsetmega=\"HOWORLDANC\"\n",
    "pos=\"topleft\"\n",
    "myevec=${pD}${fh}.${subset}.${subsetmega}.evec\n",
    "#Rscript ${RpD}plotPcaFromSmartpca.R ${myevec} ${pD}${subsetmega}.megaGroup 8 ${pD}${subset}.${subsetmega} 1 2 ${pos}\n",
    "Rscript ${RpD}plotancientgray_Pca.R ${myevec} ${pD}${subsetmega}.megaGroup 8 ${pD}${subset}.${subsetmega} 1 2 ${pos}\n"
   ]
  },
  {
   "cell_type": "code",
   "execution_count": null,
   "metadata": {
    "collapsed": true
   },
   "outputs": [],
   "source": []
  },
  {
   "cell_type": "code",
   "execution_count": 11,
   "metadata": {},
   "outputs": [
    {
     "name": "stdout",
     "output_type": "stream",
     "text": [
      "UstIshim\n",
      "Oase1\n",
      "Kostenki14\n",
      "GoyetQ116-1\n",
      "KremsWA3\n",
      "Vestonice16\n",
      "Yana_old\n",
      "Yana_old2\n",
      "Ostuni1\n",
      "HohleFels49_N\n",
      "Malta1\n",
      "AfontovaGora3\n",
      "ElMiron\n",
      "Villabruna\n",
      "Bichon\n",
      "Rochedane_N\n",
      "Ranchot88_N\n",
      "Satsurblia\n",
      "Kotias\n",
      "Karelia\n",
      "Motala_HG\n",
      "Loschbour\n",
      "LaBrana1\n",
      "Hungarian.KO1\n",
      "Stuttgart\n",
      "Anatolia_N\n",
      "Iran_N\n",
      "Levant_N\n",
      "Natufian\n",
      "Mota\n",
      "Clovis\n",
      "Saqqaq\n"
     ]
    }
   ],
   "source": [
    "myset=\"AA, Algonquin, Ami, Atayal, Basque, BedouinB, Biaka, Bougainville, Brahui, Cabecar, Chipewyan, Chukchi, Damara, Datog, Dinka, Esan, Eskimo, Georgian, Gui, GujaratiD, Hadza, Han, Itelmen, Ju_hoan_North, Kalash, Karitiana, Kharia, Korean, Koryak, LaBrana, Lahu, Lodhi, Loschbour, MA1, Mala, Mandenka, Masai, Mbuti, Mozabite, Naxi, Nganasan, Onge, Papuan, Pima, Sandawe, Sardinian, She, Somali, Stuttgart, Surui, Tubalar, Ulchi, Vishwabrahmin, Yoruba\"\n",
    "myset=[i.strip() for i in myset.split(',')]\n",
    "#print myset, len(myset)\n",
    "\n",
    "mydict={}\n",
    "indfile=open(\"/mnt/solexa/mel_yang/data/HO/ind_A_v13_TBH6.ind\",'r')\n",
    "for line in indfile:\n",
    "    x=line.split()\n",
    "    if x[2] in myset and x[2] not in mydict: mydict[x[2]]=1\n",
    "    elif x[2] in myset and x[2] in mydict: mydict[x[2]]+=1\n",
    "    else: continue\n",
    "#for i in myset: print i#, mydict[i]\n",
    "#print set(myset).difference(set(mydict.keys()))\n",
    "\n",
    "ancpub=[\"UstIshim\",\"Oase1\",\"Kostenki14\",\"GoyetQ116-1\",\"KremsWA3\",\n",
    "     \"Vestonice16\",\"Yana_old\",\"Yana_old2\",\"Ostuni1\",\"HohleFels49_N\",\n",
    "     \"Malta1\",'AfontovaGora3',\"ElMiron\",\"Villabruna\",\"Bichon\",\"Rochedane_N\",\"Ranchot88_N\",\n",
    "     \"Satsurblia\",\"Kotias\",\"Karelia\",\"Motala_HG\",\"Loschbour\",\"LaBrana1\",\n",
    "     \"Hungarian.KO1\",\"Stuttgart\",\"Anatolia_N\",\"Iran_N\",\"Levant_N\",\"Natufian\",\"Mota\",\"Clovis\",\"Saqqaq\"]\n",
    "for i in ancpub: print i"
   ]
  },
  {
   "cell_type": "code",
   "execution_count": null,
   "metadata": {
    "collapsed": true
   },
   "outputs": [],
   "source": []
  }
 ],
 "metadata": {
  "kernelspec": {
   "display_name": "Python 2",
   "language": "python",
   "name": "python2"
  },
  "language_info": {
   "codemirror_mode": {
    "name": "ipython",
    "version": 2
   },
   "file_extension": ".py",
   "mimetype": "text/x-python",
   "name": "python",
   "nbconvert_exporter": "python",
   "pygments_lexer": "ipython2",
   "version": "2.7.13"
  }
 },
 "nbformat": 4,
 "nbformat_minor": 2
}
