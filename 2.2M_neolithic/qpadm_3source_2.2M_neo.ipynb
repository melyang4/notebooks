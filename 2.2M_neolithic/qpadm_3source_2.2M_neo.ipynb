{
 "cells": [
  {
   "cell_type": "code",
   "execution_count": 9,
   "metadata": {},
   "outputs": [
    {
     "name": "stdout",
     "output_type": "stream",
     "text": [
      "Overwriting /mnt/solexa/mel_yang/2.2_neolithic/qpAdm/S3_CaseA.py\n"
     ]
    }
   ],
   "source": [
    "%%writefile /mnt/solexa/mel_yang/2.2_neolithic/qpAdm/S3_CaseA.py\n",
    "import projmodules as pm\n",
    "from multiprocessing import Pool\n",
    "import os\n",
    "import subprocess as sp\n",
    "\n",
    "sib=[\"Altaian\",\"Eskimo_Sireniki\",\"Even\",\"Itelman\",\"Mongola\",\"Tubalar\",\"Ulchi\",\"Yakut\",\"Kolyma_River\"]\n",
    "eas=[\"Ami\",\"Atayal\",\"Dai\",\"Daur\",\"Han\",\"Hezhen\",\"Japanese\",\"Korean\",\"Kinh\",\"Lahu\",\"Miao\",\"Naxi\",\"Oroqen\",\"She\",\"Tujia\",\"Yi\"]\n",
    "ancasn=[\"Tianyuan\",'Longlin','Longlin_com','Xinyi','Xinyi_other','Daxi','LiangDaoChineseNeolithic','Boisman_MN','BoshanChineseNeolithic','Bbdong','Linzi','HDYM1','HQSDW','Zongri','Pukagongma']\n",
    "eup=[\"GoyetQ116-1\",\"Vestonice16\",\"Yana_old\",\"Yana_old2\",\"Malta1\",'AfontovaGora3',\"ElMiron\",\"Villabruna\",\"Satsurblia\",\"Karelia\",\"Loschbour\",\"LaBrana1\",\"Hungarian.KO1\",\"Stuttgart\",\"French\"]\n",
    "aneas=['Boisman_MN','BoshanChineseNeolithic','HDYM1','HQSDW','Bbdong','Linzi']\n",
    "aseas=['Xinyi','Xinyi_other','Daxi','LiangDaoChineseNeolithic',\"Longlin\",\"Longlin_com\"]\n",
    "aweas=['Zongri','Pukagongma',\"Chokhopani1\",\"Mebrak\",\"Samdzong\"]\n",
    "cseas=[\"Ami\",\"Atayal\",\"Dai\",\"Han\",\"She\",\"Tujia\"] #'Xinyi','Longlin','LiangDaoChineseNeolithic']\n",
    "shandong=['BoshanChineseNeolithic','Bbdong','Linzi']\n",
    "seleup=[\"AfontovaGora3\",\"ElMiron\",\"Villabruna\",\"Loschbour\",\"Stuttgart\",\"Natufian\"]\n",
    "neas=[\"Korean\",\"Japanese\",\"Daur\",\"Han\",\"Hezhen\",\"Oroqen\"]\n",
    "ceas=[\"Han\",\"Japanese\",\"Korean\",\"Miao\",\"Naxi\",\"She\",\"Tujia\",\"Yi\"]\n",
    "seas=[\"Ami\",\"Atayal\",\"Dai\",\"Kinh\",\"Lahu\"]\n",
    "seasn=[\"Cambodian\",\"Burmese\",\"Thai\"]\n",
    "oldasn=[\"Tianyuan\",\"Papuan\",\"Onge\",\"Longlin\",\"Longlin_com\"]\n",
    "\n",
    "s1s,s2s,s3s,targets=(oldasn, [\"Cambodian\"],aneas+aseas,seas+aseas) #neas+ceas\n",
    "s1s,s2s,s3s,targets=(aneas+aseas, [\"LiangDao\"],aneas+seas+[\"Cambodian\",\"Papuan\"],seas) \n",
    "s1s,s2s,s3s,targets=(aneas, [\"Bbdong\"],aseas+ceas+seas,ceas) \n",
    "s1s,s2s,s3s,targets=(aseas, aseas,aseas,aseas) \n",
    "s1s,s2s,s3s,targets=([\"Kolyma_River\"],aweas,aseas,aneas) \n",
    "\n",
    "##left=[[target, s1, s2]]\n",
    "left=[[k, i, j, l] for i in s1s for j in s2s for k in targets for l in s3s if len(list(set([i,j,k,l])))==4] \n",
    "#left=[[k, i, j, l] for i in s1s for jind,j in enumerate(s2s) for k in targets for lind,l in enumerate(s3s) if lind>jind and len(list(set([i,j,k,l])))==4] \n",
    "print len(left)\n",
    "\n",
    "def dowork(mytup):\n",
    "    myleft,myleftid=mytup\n",
    "    outpD=\"/mnt/solexa/mel_yang/2.2_neolithic/qpAdm/3popCaseA/\"\n",
    "    pD=\"/mnt/solexa/mel_yang/data/2.2M/\"\n",
    "    fh=\"UPA_all8\"\n",
    "    baseoutgroup=[\"Yoruba\",\"Ju_hoan_North\",\"Dinka\",\"Mbuti\",\"UstIshim\"]\n",
    "    outs=[baseoutgroup, #0\n",
    "          baseoutgroup+[\"Kostenki14\",\"Vestonice16\",\"Tianyuan\",\"Longlin\",\"Onge\",\"Papuan\"], #1\n",
    "          baseoutgroup+[\"Kostenki14\",\"Vestonice16\"], #2\n",
    "          baseoutgroup+[\"Kostenki14\",\"Vestonice16\",\"Onge\",\"Papuan\"], #3\n",
    "          baseoutgroup+[\"Kostenki14\",\"Vestonice16\",\"Tianyuan\",\"Onge\",\"Papuan\"], #4\n",
    "          baseoutgroup+[\"Kostenki14\",\"Vestonice16\",\"Tianyuan\",\"Onge\",\"Papuan\",\"Yana_old\",\"Yana_old2\",\"Malta1\"], #5\n",
    "          baseoutgroup+[\"Kostenki14\",\"Vestonice16\",\"Tianyuan\",\"Onge\",\"Papuan\",\"Yana_old\",\"Yana_old2\",\"Natufian\"], #6\n",
    "          baseoutgroup+[\"Kostenki14\",\"Vestonice16\",\"Tianyuan\",\"Onge\",\"Papuan\",\"Yana_old\",\"Yana_old2\"],  #7\n",
    "          baseoutgroup+[\"Kostenki14\",\"Vestonice16\",\"Tianyuan\",\"Yana_old\",\"Yana_old2\",\"Malta1\",\"Natufian\"],  #8\n",
    "          [\"Mota\",\"UstIshim\",\"Kostenki14\",\"Vestonice16\",\"Tianyuan\",\"Onge\",\"Papuan\",\"Yana_old\",\"Yana_old2\",\"Malta1\"], #9\n",
    "          baseoutgroup+[\"Kostenki14\",\"Vestonice16\",\"Yana_old\",\"Yana_old2\"], #10 \n",
    "          baseoutgroup+[\"Kostenki14\",\"Vestonice16\",\"Tianyuan\",\"Yana_old\",\"Yana_old2\",\"Malta1\"]] #11\n",
    "    for outid,out in enumerate(outs):\n",
    "        if outid not in [5,10]: continue \n",
    "        #if myleft[2] in ancasn and myleft[0] in eas and outid==1: continue ##THOSE ALREADY DONE!\n",
    "        if myleft[0] in out or myleft[1] in out or myleft[2] in out or myleft[3] in out: continue\n",
    "        bck = 'X_%s_S1_%s_S2_%s_S3_%s_out%i' % tuple(myleft+[outid])\n",
    "        #pm.wave_run(myleft, out, pD, fh, bck, outpd=outpD)\n",
    "        pm.wave_adm_run(myleft, out, pD, fh, bck, outpd=outpD)\n",
    "        \n",
    "myinputs=[(myleft,ind,) for ind,myleft in enumerate(left)] \n",
    "print len(myinputs)\n",
    "mypool = Pool(20)\n",
    "results = mypool.map(dowork, myinputs)"
   ]
  },
  {
   "cell_type": "code",
   "execution_count": null,
   "metadata": {
    "collapsed": true
   },
   "outputs": [],
   "source": []
  }
 ],
 "metadata": {
  "kernelspec": {
   "display_name": "Python 2",
   "language": "python",
   "name": "python2"
  },
  "language_info": {
   "codemirror_mode": {
    "name": "ipython",
    "version": 2
   },
   "file_extension": ".py",
   "mimetype": "text/x-python",
   "name": "python",
   "nbconvert_exporter": "python",
   "pygments_lexer": "ipython2",
   "version": "2.7.13"
  }
 },
 "nbformat": 4,
 "nbformat_minor": 2
}
