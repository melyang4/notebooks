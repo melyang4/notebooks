{
 "cells": [
  {
   "cell_type": "code",
   "execution_count": 27,
   "metadata": {},
   "outputs": [
    {
     "name": "stdout",
     "output_type": "stream",
     "text": [
      "[130706.0] [552958.0] {('L0972.3lib_0', 'L2008_0'): 0.23637599962384123}\n"
     ]
    }
   ],
   "source": [
    "pd=\"/mnt/solexa/mel_yang/data/2.2M/\"\n",
    "fh=\"UPA_all8\"\n",
    "p1,p2=(\"Longlin\",\"Longlin_com\")\n",
    "p1,p2=(\"Longlin\",\"LiangDaoChineseNeolithic\")\n",
    "p1,p2=(\"I0879\",\"I0906\") #LD\n",
    "p1,p2=(\"L2012\",\"L2039\") #Daxi\n",
    "p1,p2=(\"L0972.3lib\",\"L2008\") #XY\n",
    "p1ind,p2ind=([],[])\n",
    "bypop=False\n",
    "indfile=open(pd+fh+\".ind\",'r')\n",
    "for ind,line in enumerate(indfile):\n",
    "    x=line.split()\n",
    "    if bypop==True:\n",
    "        if x[-1] == p1: p1ind.append(ind)\n",
    "        elif x[-1] == p2: p2ind.append(ind)\n",
    "        else: continue\n",
    "    if bypop==False:\n",
    "        if x[0] == p1: p1ind.append(ind)\n",
    "        elif x[0] == p2: p2ind.append(ind)\n",
    "        else: continue\n",
    "indfile.close()\n",
    "\n",
    "combos=[\"00\",\"01\",\"02\",\"09\",\"11\",\"12\",\"19\",\"22\",\"29\",\"99\"]\n",
    "totalvals=[1,1,1,0,1,1,0,1,0,0]\n",
    "countvals=[0,0.5,1,0,0.5,0.5,0,0,0,0]\n",
    "diffvals={i:(totalvals[ind],countvals[ind]) for ind,i in enumerate(combos)}\n",
    "#print diffvals\n",
    "\n",
    "mynames=[(\"%s_%i\" % (p1,ind1), \"%s_%i\" % (p2,ind2)) for ind1,i in enumerate(p1ind) for ind2,i in enumerate(p2ind)]\n",
    "totals=[0.0 for i in mynames]\n",
    "counts=[0.0 for i in mynames]\n",
    "\n",
    "genofile=open(pd+fh+\".geno\",'r')\n",
    "for pos,line in enumerate(genofile):\n",
    "    p1genos=[line[i] for i in p1ind]\n",
    "    p2genos=[line[i] for i in p2ind]\n",
    "    num=0\n",
    "    for p1geno in p1genos:\n",
    "        for p2geno in p2genos:\n",
    "            myset=''.join(sorted(p1geno+p2geno))\n",
    "            totals[num]+=diffvals[myset][0]\n",
    "            counts[num]+=diffvals[myset][1]\n",
    "            num+=1\n",
    "            #print myset, totals,counts\n",
    "    #if pos==100: break\n",
    "genofile.close()\n",
    "\n",
    "freqs=[i/totals[ind] for ind,i in enumerate(counts)]\n",
    "print counts, totals, {i:freqs[ind] for ind,i in enumerate(mynames)}"
   ]
  },
  {
   "cell_type": "markdown",
   "metadata": {},
   "source": [
    "### Results from Above\n",
    "\n",
    "[6647.0] [140850.0] {('Longlin_0', 'Longlin_com_0'): 0.04719204827831026}\n",
    "\n",
    "[83850.0] [382053.0] {('I0879_0', 'I0906_0'): 0.21947216747414625} #within LiangDao\n",
    "\n",
    "[9626.0] [43426.0] {('L2012_0', 'L2039_0'): 0.22166444065767052} ##within Daxi\n",
    "\n",
    "[130706.0] [552958.0] {('L0972.3lib_0', 'L2008_0'): 0.23637599962384123} ##within Xinyi\n",
    "\n",
    "[17834.0, 32317.0] [74509.0, 132454.0] {('Longlin_0', 'LiangDaoChineseNeolithic_1'): 0.24398659157141347, ('Longlin_0', 'LiangDaoChineseNeolithic_0'): 0.2393536351313264}\n",
    "\n",
    "Xinyi/Xinyi2 = 723842 SNPs/790502 SNPs\n",
    "Daxi = 132525/"
   ]
  },
  {
   "cell_type": "code",
   "execution_count": 30,
   "metadata": {},
   "outputs": [
    {
     "name": "stdout",
     "output_type": "stream",
     "text": [
      "0.212063686581\n",
      "0.198438611855\n",
      "0.199616974011\n",
      "0.202765956852\n",
      "0.050232329739\n"
     ]
    }
   ],
   "source": [
    "#Han\n",
    "print 454771/2144502.0\n",
    "print 425552/2144502.0\n",
    "print 428079/2144502.0\n",
    "print 434832/2144502.0\n",
    "\n",
    "#Altai\n",
    "print 105976/2109717.0"
   ]
  },
  {
   "cell_type": "code",
   "execution_count": null,
   "metadata": {
    "collapsed": true
   },
   "outputs": [],
   "source": []
  }
 ],
 "metadata": {
  "kernelspec": {
   "display_name": "Python 2",
   "language": "python",
   "name": "python2"
  },
  "language_info": {
   "codemirror_mode": {
    "name": "ipython",
    "version": 2
   },
   "file_extension": ".py",
   "mimetype": "text/x-python",
   "name": "python",
   "nbconvert_exporter": "python",
   "pygments_lexer": "ipython2",
   "version": "2.7.13"
  }
 },
 "nbformat": 4,
 "nbformat_minor": 2
}
