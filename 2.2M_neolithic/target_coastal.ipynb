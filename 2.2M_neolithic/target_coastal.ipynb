{
 "cells": [
  {
   "cell_type": "code",
   "execution_count": 24,
   "metadata": {},
   "outputs": [
    {
     "name": "stdout",
     "output_type": "stream",
     "text": [
      "Overwriting /mnt/solexa/mel_yang/coastal_neolithic/D_Coastal_2.2M.py\n"
     ]
    }
   ],
   "source": [
    "%%writefile /mnt/solexa/mel_yang/coastal_neolithic/D_Coastal_2.2M.py\n",
    "import plotting_funcs as pf\n",
    "#import HOdata\n",
    "\n",
    "eas=[\"Ulchi\",\"Itelman\",\"Oroqen\",\"Daur\",\"Hezhen\",\"Japanese\",\"Korean\",\"Han\",\"She\",\"Tujia\",\n",
    "     \"Miao\",\"Dai\",\"Kinh\",\"Lahu\",\"Naxi\",\"Yi\",\"Ami\",\"Atayal\"]\n",
    "\n",
    "ancasn=[\"Tianyuan\",'Longlin','Longlin_com','Xinyi','Xinyi_other','Daxi',\n",
    "        'LiangDaoChineseNeolithic','Boisman_MN','BoshanChineseNeolithic',\n",
    "        'Bbdong','Linzi','HDYM1','HQSDW','Zongri','Pukagongma']\n",
    "aneas=['Boisman_MN','BoshanChineseNeolithic','Bbdong','Linzi','HDYM1','HQSDW',\"DevilsGate\",\"Jomon\"]\n",
    "aseas=['Xinyi','Xinyi_other','Daxi','LiangDaoChineseNeolithic']\n",
    "aweas=['Zongri','Pukagongma','Chokhopani1','Mebrak','Samdzong']\n",
    "\n",
    "pD=\"/mnt/solexa/mel_yang/data/2.2M/\"\n",
    "outpd=\"/mnt/solexa/mel_yang/coastal_neolithic/\"\n",
    "fh=\"UPA_all8\"\n",
    "\n",
    "p4s=[\"Mbuti\"] #,\"Chimp\"]\n",
    "\n",
    "myid1= 'aNWEAS'\n",
    "myid2= \"SEASaSEAS\"\n",
    "pop1=aneas+aweas\n",
    "pop2=aseas+eas[::-1]\n",
    "\n",
    "#p3s=aneas\n",
    "p3s=['BoshanChineseNeolithic','Bbdong','Linzi']\n",
    "\n",
    "#bsf,bsfsubset=(pD+fh+\".transi.snp\",'transv')\n",
    "bsf,bsfsubset=(0,'all')\n",
    "for myp3 in p3s:\n",
    "    for myp4 in p4s:\n",
    "        #p1,p2,p3,p4 = (myp3,pop1,pop2,myp4)\n",
    "        #subset = bsfsubset+'.'+p1+'_'+myid1+'_'+myid2+'_'+p4\n",
    "        #mytups = [(p1,i,j,p4,'p1_'+i) for ind,i in enumerate(p2) for j in p3 if i != j and p1!=i and p1!=j]\n",
    "        #pf.runD(p2,p3,mytups,pD,fh,subset,(1,2),(0,),fixed=(p1,0,0,p4),outpd=outpd,badsnpfile=bsf)\n",
    "\n",
    "        p1,p2,p3,p4 = (myp3,pop2,pop1,myp4)\n",
    "        subset = bsfsubset+'.'+p1+'_'+myid2+'_'+myid1+'_'+p4\n",
    "        mytups = [(p1,i,j,p4,'p1_'+i) for ind,i in enumerate(p3) for j in p2 if i != j and p1!=i and p1!=j]\n",
    "        pf.runD(p3,p2,mytups,pD,fh,subset,(2,1),(0,),fixed=(p1,0,0,p4),outpd=outpd,badsnpfile=bsf)\n",
    "\n",
    "        p1,p2,p3,p4 = (myp3,pop1,pop2,myp4)\n",
    "        subset = bsfsubset+'.'+myid1+'_'+myid2+'_'+p3+'_'+p4\n",
    "        mytups = [(i,j,p3,p4,'p1_'+i) for ind,i in enumerate(p1) for j in p1 if i != j and p3!=i and p3!=j]\n",
    "        pf.runD(p1,p2,mytups,pD,fh,subset,(0,1),(0,),fixed=(0,0,p3,p4),outpd=outpd,badsnpfile=bsf)\n"
   ]
  },
  {
   "cell_type": "code",
   "execution_count": null,
   "metadata": {
    "collapsed": true
   },
   "outputs": [],
   "source": []
  },
  {
   "cell_type": "code",
   "execution_count": 12,
   "metadata": {},
   "outputs": [
    {
     "name": "stdout",
     "output_type": "stream",
     "text": [
      "Overwriting /mnt/solexa/mel_yang/coastal_neolithic/D_Coastal_HO.py\n"
     ]
    }
   ],
   "source": [
    "%%writefile /mnt/solexa/mel_yang/coastal_neolithic/D_Coastal_HO.py\n",
    "import plotting_funcs as pf\n",
    "\n",
    "eas=['Daur','Hezhen','Naxi','Oroqen','Ulchi','Xibo','Dai','Dong','Gelao',\n",
    "    'Lahu','Li','Maonan','Miao','Mulam','She','Tujia','Yi','Zhuang','Cambodian',\n",
    "    'Han_Chongqing','Han_Fujian','Han_Guandong','Han_Henan','Han_HGDP','Han_Hubei',\n",
    "    'Han_Jiangsu','Han_NChina','Han_Shandong','Han_Shanghai','Han_Shanxi',\n",
    "    'Han_Sichuan','Han_Zhejiang','Kinh_Vietnam_KHV','Korean','Thai','Qiang_Horpa',\n",
    "    'Tibetan_Chamdo','Tibetan_Gangcha','Tibetan_Gannan','Tibetan_Lhasa',\n",
    "    'Tibetan_Nagqu','Tibetan_Shannan','Tibetan_Shigatse','Tibetan_Xinlong',\n",
    "    'Tibetan_Xunhua','Tibetan_Yajiang','Japanese','Ami_Stoneking','Atayal_Stoneking', ##where ended originally\n",
    "    'Tu','Dongxiang','Kyrgyz_China','Kyrgyz','Kazakh_China','Kazakh','Uygur','Mongol',\n",
    "    'Tibetan_Yunnan','Bunun','Tao','Burmese','Vietnamese','Paiwan','Rukai','Hakka',\n",
    "    'Minnan','Pingpu','Atayal_Coriell','Ami_Coriell','Bonan','Yugur_Eastern',\n",
    "    'Yugur_Western','Salar',\"Malay\",\"Malayan\"]\n",
    "ancasn=[\"Tianyuan\",'Longlin','Longlin_com','Xinyi','Xinyi_other','Daxi',\n",
    "        'LiangDaoChineseNeolithic','Boisman_MN','BoshanChineseNeolithic',\n",
    "        'Bbdong','Linzi','HDYM1','HQSDW','Zongri','Pukagongma']\n",
    "aneas=['Boisman_MN','BoshanChineseNeolithic','Bbdong','Linzi','HDYM1','HQSDW',\"DevilsGate\",\"Jomon\"]\n",
    "aseas=['Xinyi','Xinyi_other','Daxi','LiangDaoChineseNeolithic']\n",
    "aweas=['Zongri','Pukagongma','Chokhopani1','Mebrak','Samdzong']\n",
    "\n",
    "pD=\"/mnt/solexa/mel_yang/data/HO/\"\n",
    "outpd=\"/mnt/solexa/mel_yang/coastal_neolithic/\"\n",
    "fh=\"ind_A_v13_TBH6\"\n",
    "\n",
    "p4s=[\"Mbuti\",\"Chimp\"]\n",
    "\n",
    "myid1= 'aNWEAS'\n",
    "myid2= \"EASaSEAS\"\n",
    "pop1=aneas+aweas\n",
    "pop2=aseas+eas\n",
    "\n",
    "p3s=aneas\n",
    "\n",
    "#bsf,bsfsubset=(pD+fh+\".transi.snp\",'transv')\n",
    "bsf,bsfsubset=(0,'all')\n",
    "for myp3 in p3s:\n",
    "    for myp4 in p4s:\n",
    "        p1,p2,p3,p4 = (myp3,pop1,pop2,myp4)\n",
    "        subset = bsfsubset+'.'+p1+'_'+myid1+'_'+myid2+'_'+p4\n",
    "        mytups = [(p1,i,j,p4,'p1_'+i) for ind,i in enumerate(p2) for j in p3 if i != j and p1!=i and p1!=j]\n",
    "        pf.runD(p2,p3,mytups,pD,fh,subset,(1,2),(0,),fixed=(p1,0,0,p4),outpd=outpd,badsnpfile=bsf)\n"
   ]
  },
  {
   "cell_type": "code",
   "execution_count": 22,
   "metadata": {},
   "outputs": [
    {
     "name": "stdout",
     "output_type": "stream",
     "text": [
      "/mnt/solexa/mel_yang/coastal_neolithic/ind_A_v13_TBH6.D.all.Boisman_MN_aNWEAS_EASaSEAS_Mbuti.Zmat\n",
      "/mnt/solexa/mel_yang/coastal_neolithic/ind_A_v13_TBH6.D.all.BoshanChineseNeolithic_aNWEAS_EASaSEAS_Mbuti.Zmat\n",
      "/mnt/solexa/mel_yang/coastal_neolithic/ind_A_v13_TBH6.D.all.Bbdong_aNWEAS_EASaSEAS_Mbuti.Zmat\n",
      "/mnt/solexa/mel_yang/coastal_neolithic/ind_A_v13_TBH6.D.all.Linzi_aNWEAS_EASaSEAS_Mbuti.Zmat\n",
      "/mnt/solexa/mel_yang/coastal_neolithic/ind_A_v13_TBH6.D.all.HDYM1_aNWEAS_EASaSEAS_Mbuti.Zmat\n",
      "/mnt/solexa/mel_yang/coastal_neolithic/ind_A_v13_TBH6.D.all.HQSDW_aNWEAS_EASaSEAS_Mbuti.Zmat\n",
      "/mnt/solexa/mel_yang/coastal_neolithic/ind_A_v13_TBH6.D.all.DevilsGate_aNWEAS_EASaSEAS_Mbuti.Zmat\n",
      "/mnt/solexa/mel_yang/coastal_neolithic/ind_A_v13_TBH6.D.all.Jomon_aNWEAS_EASaSEAS_Mbuti.Zmat\n"
     ]
    }
   ],
   "source": [
    "import makexlsx \n",
    "\n",
    "import numpy as np\n",
    "\n",
    "eas=['Daur','Hezhen','Naxi','Oroqen','Ulchi','Xibo','Dai','Dong','Gelao',\n",
    "    'Lahu','Li','Maonan','Miao','Mulam','She','Tujia','Yi','Zhuang','Cambodian',\n",
    "    'Han_Chongqing','Han_Fujian','Han_Guandong','Han_Henan','Han_HGDP','Han_Hubei',\n",
    "    'Han_Jiangsu','Han_NChina','Han_Shandong','Han_Shanghai','Han_Shanxi',\n",
    "    'Han_Sichuan','Han_Zhejiang','Kinh_Vietnam_KHV','Korean','Thai','Qiang_Horpa',\n",
    "    'Tibetan_Chamdo','Tibetan_Gangcha','Tibetan_Gannan','Tibetan_Lhasa',\n",
    "    'Tibetan_Nagqu','Tibetan_Shannan','Tibetan_Shigatse','Tibetan_Xinlong',\n",
    "    'Tibetan_Xunhua','Tibetan_Yajiang','Japanese','Ami_Stoneking','Atayal_Stoneking', ##where ended originally\n",
    "    'Tu','Dongxiang','Kyrgyz_China','Kyrgyz','Kazakh_China','Kazakh','Uygur','Mongol',\n",
    "    'Tibetan_Yunnan','Bunun','Tao','Burmese','Vietnamese','Paiwan','Rukai','Hakka',\n",
    "    'Minnan','Pingpu','Atayal_Coriell','Ami_Coriell','Bonan','Yugur_Eastern',\n",
    "    'Yugur_Western','Salar',\"Malay\",\"Malayan\"]\n",
    "ancasn=[\"Tianyuan\",'Longlin','Longlin_com','Xinyi','Xinyi_other','Daxi',\n",
    "        'LiangDaoChineseNeolithic','Boisman_MN','BoshanChineseNeolithic',\n",
    "        'Bbdong','Linzi','HDYM1','HQSDW','Zongri','Pukagongma']\n",
    "aneas=['Boisman_MN','BoshanChineseNeolithic','Bbdong','Linzi','HDYM1','HQSDW',\"DevilsGate\",\"Jomon\"]\n",
    "aseas=['Xinyi','Xinyi_other','Daxi','LiangDaoChineseNeolithic']\n",
    "aweas=['Zongri','Pukagongma','Chokhopani1','Mebrak','Samdzong']\n",
    "\n",
    "myset=aneas\n",
    "for pop in myset:\n",
    "    pd=\"/mnt/solexa/mel_yang/coastal_neolithic/\"\n",
    "    fh=\"ind_A_v13_TBH6\"\n",
    "    label=\"%s_aNWEAS_EASaSEAS_Mbuti\" % pop\n",
    "    tv=\"all\"\n",
    "    myfile=open(pd+fh+\".D.%s.\" % tv+label+\".Zmat\",'r')\n",
    "    print pd+fh+\".D.%s.\" % tv+label+\".Zmat\"\n",
    "    myrows=[]\n",
    "    for row,line in enumerate(myfile): \n",
    "        x=line.split()\n",
    "        if x[0]==\"Pops\": mycols=x[1:]; continue\n",
    "        myrows.append(x[0])\n",
    "        mystats=[float(i) for i in x[1:]]\n",
    "        if row==1: myary=np.array(mystats)\n",
    "        else: myary=np.vstack((myary,np.array(mystats)))\n",
    "    myfile.close()\n",
    "\n",
    "    newfh=pd+fh+\".D.%s.\" % tv+label\n",
    "    makexlsx.Zmat2xlsx(myary,newfh,myrows,mycols,1,2)\n"
   ]
  },
  {
   "cell_type": "code",
   "execution_count": 21,
   "metadata": {},
   "outputs": [
    {
     "name": "stdout",
     "output_type": "stream",
     "text": [
      "/mnt/solexa/mel_yang/coastal_neolithic/UPA_all8.D.all.Tianyuan_subaNWEAS_subaNWEAS_Mbuti.Zmat\n",
      "/mnt/solexa/mel_yang/coastal_neolithic/UPA_all8.D.all.Ulchi_subaNWEAS_subaNWEAS_Mbuti.Zmat\n",
      "/mnt/solexa/mel_yang/coastal_neolithic/UPA_all8.D.all.Itelman_subaNWEAS_subaNWEAS_Mbuti.Zmat\n",
      "/mnt/solexa/mel_yang/coastal_neolithic/UPA_all8.D.all.Oroqen_subaNWEAS_subaNWEAS_Mbuti.Zmat\n",
      "/mnt/solexa/mel_yang/coastal_neolithic/UPA_all8.D.all.Daur_subaNWEAS_subaNWEAS_Mbuti.Zmat\n",
      "/mnt/solexa/mel_yang/coastal_neolithic/UPA_all8.D.all.Hezhen_subaNWEAS_subaNWEAS_Mbuti.Zmat\n",
      "/mnt/solexa/mel_yang/coastal_neolithic/UPA_all8.D.all.Japanese_subaNWEAS_subaNWEAS_Mbuti.Zmat\n",
      "/mnt/solexa/mel_yang/coastal_neolithic/UPA_all8.D.all.Korean_subaNWEAS_subaNWEAS_Mbuti.Zmat\n",
      "/mnt/solexa/mel_yang/coastal_neolithic/UPA_all8.D.all.Han_subaNWEAS_subaNWEAS_Mbuti.Zmat\n",
      "/mnt/solexa/mel_yang/coastal_neolithic/UPA_all8.D.all.She_subaNWEAS_subaNWEAS_Mbuti.Zmat\n",
      "/mnt/solexa/mel_yang/coastal_neolithic/UPA_all8.D.all.Tujia_subaNWEAS_subaNWEAS_Mbuti.Zmat\n",
      "/mnt/solexa/mel_yang/coastal_neolithic/UPA_all8.D.all.Miao_subaNWEAS_subaNWEAS_Mbuti.Zmat\n",
      "/mnt/solexa/mel_yang/coastal_neolithic/UPA_all8.D.all.Dai_subaNWEAS_subaNWEAS_Mbuti.Zmat\n",
      "/mnt/solexa/mel_yang/coastal_neolithic/UPA_all8.D.all.Kinh_subaNWEAS_subaNWEAS_Mbuti.Zmat\n",
      "/mnt/solexa/mel_yang/coastal_neolithic/UPA_all8.D.all.Lahu_subaNWEAS_subaNWEAS_Mbuti.Zmat\n",
      "/mnt/solexa/mel_yang/coastal_neolithic/UPA_all8.D.all.Naxi_subaNWEAS_subaNWEAS_Mbuti.Zmat\n",
      "/mnt/solexa/mel_yang/coastal_neolithic/UPA_all8.D.all.Yi_subaNWEAS_subaNWEAS_Mbuti.Zmat\n",
      "/mnt/solexa/mel_yang/coastal_neolithic/UPA_all8.D.all.Ami_subaNWEAS_subaNWEAS_Mbuti.Zmat\n",
      "/mnt/solexa/mel_yang/coastal_neolithic/UPA_all8.D.all.Atayal_subaNWEAS_subaNWEAS_Mbuti.Zmat\n",
      "/mnt/solexa/mel_yang/coastal_neolithic/UPA_all8.D.all.Itelman_subaNWEAS_subaNWEAS_Mbuti.Zmat\n",
      "/mnt/solexa/mel_yang/coastal_neolithic/UPA_all8.D.all.Even_subaNWEAS_subaNWEAS_Mbuti.Zmat\n",
      "/mnt/solexa/mel_yang/coastal_neolithic/UPA_all8.D.all.Eskimo_Sireniki_subaNWEAS_subaNWEAS_Mbuti.Zmat\n",
      "/mnt/solexa/mel_yang/coastal_neolithic/UPA_all8.D.all.Yakut_subaNWEAS_subaNWEAS_Mbuti.Zmat\n",
      "/mnt/solexa/mel_yang/coastal_neolithic/UPA_all8.D.all.Ulchi_subaNWEAS_subaNWEAS_Mbuti.Zmat\n"
     ]
    }
   ],
   "source": [
    "import makexlsx \n",
    "\n",
    "import numpy as np\n",
    "\n",
    "aneas=['Boisman_MN','BoshanChineseNeolithic','Bbdong','Linzi','HDYM1','HQSDW',\"DevilsGate\",\"Jomon\"]\n",
    "eas=[\"Ulchi\",\"Itelman\",\"Oroqen\",\"Daur\",\"Hezhen\",\"Japanese\",\"Korean\",\"Han\",\"She\",\"Tujia\",\n",
    "     \"Miao\",\"Dai\",\"Kinh\",\"Lahu\",\"Naxi\",\"Yi\",\"Ami\",\"Atayal\"]\n",
    "myset=[\"Tianyuan\"]+eas+[\"Itelman\",\"Even\",\"Eskimo_Sireniki\",\"Yakut\",\"Ulchi\"]\n",
    "for pop in myset:\n",
    "    pd=\"/mnt/solexa/mel_yang/coastal_neolithic/\"\n",
    "    fh=\"UPA_all8\"\n",
    "    #label=\"%s_aNWEAS_SEASaSEAS_Mbuti\" % pop\n",
    "    #label=\"subaNWEAS_subaNWEAS_%s_Mbuti\" % pop\n",
    "    label=\"%s_subaNWEAS_subaNWEAS_Mbuti\" % pop\n",
    "    tv=\"all\"\n",
    "    myfile=open(pd+fh+\".D.%s.\" % tv+label+\".Zmat\",'r')\n",
    "    print pd+fh+\".D.%s.\" % tv+label+\".Zmat\"\n",
    "    myrows=[]\n",
    "    for row,line in enumerate(myfile): \n",
    "        x=line.split()\n",
    "        if x[0]==\"Pops\": mycols=x[1:]; continue\n",
    "        myrows.append(x[0])\n",
    "        mystats=[float(i) for i in x[1:]]\n",
    "        if row==1: myary=np.array(mystats)\n",
    "        else: myary=np.vstack((myary,np.array(mystats)))\n",
    "    myfile.close()\n",
    "\n",
    "    newfh=pd+fh+\".D.%s.\" % tv+label\n",
    "    makexlsx.Zmat2xlsx(myary,newfh,myrows,mycols,1,2)\n"
   ]
  },
  {
   "cell_type": "code",
   "execution_count": null,
   "metadata": {
    "collapsed": true
   },
   "outputs": [],
   "source": []
  },
  {
   "cell_type": "markdown",
   "metadata": {},
   "source": [
    "## Cladal relationship between aNEAS?"
   ]
  },
  {
   "cell_type": "code",
   "execution_count": 35,
   "metadata": {},
   "outputs": [
    {
     "name": "stdout",
     "output_type": "stream",
     "text": [
      "Overwriting /mnt/solexa/mel_yang/coastal_neolithic/D_aneasclade.py\n"
     ]
    }
   ],
   "source": [
    "%%writefile /mnt/solexa/mel_yang/coastal_neolithic/D_aneasclade.py\n",
    "import plotting_funcs as pf\n",
    "#import HOdata\n",
    "\n",
    "\n",
    "easall=[\"Ulchi\",\"Itelman\",\"Oroqen\",\"Daur\",\"Hezhen\",\"Japanese\",\"Korean\",\"Han\",\"She\",\"Tujia\",\n",
    "     \"Miao\",\"Dai\",\"Kinh\",\"Lahu\",\"Naxi\",\"Yi\",\"Ami\",\"Atayal\"]\n",
    "aneas=[\"Jomon\",\"DevilsGate\",'Bbdong','BoshanChineseNeolithic','Linzi','HDYM1','Chokhopani1',\"Mebrak\",\"Samdzong\"]\n",
    "eas=[\"LiangDaoChineseNeolithic\",\"Korean\",\"Han\",\"Dai\",\"Ami\",\"Atayal\"]\n",
    "pD=\"/mnt/solexa/mel_yang/data/2.2M/\"\n",
    "outpd=\"/mnt/solexa/mel_yang/coastal_neolithic/\"\n",
    "fh=\"UPA_all8\"\n",
    "\n",
    "p4s=[\"Mbuti\"] #,\"Chimp\"]\n",
    "\n",
    "myid1= 'subaNWEAS'\n",
    "myid2= \"subaNWEAS\"\n",
    "pop1=aneas+eas\n",
    "pop2=aneas+eas\n",
    "\n",
    "p3s=[\"Tianyuan\",\"Itelman\",\"Jomon\",\"Even\"] #+eas+[\"Itelman\",\"Even\",\"Eskimo_Sireniki\",\"Yakut\",\"Tubular\",\"Ulchi\"]\n",
    "p3s=[\"Chokhopani1\"]\n",
    "#p3s=easall\n",
    "#p3s=[\"Jomon\"]\n",
    "#p3s=[\"LiangDaoChineseNeolithic\"]\n",
    "#bsf,bsfsubset=(pD+fh+\".transi.snp\",'transv')\n",
    "bsf,bsfsubset=(0,'all')\n",
    "for myp3 in p3s:\n",
    "    for myp4 in p4s:\n",
    "        p1,p2,p3,p4 = (myp3,pop1,pop2,myp4)\n",
    "        subset = bsfsubset+'.'+p1+'_'+myid1+'_'+myid2+'_'+p4\n",
    "        mytups = [(p1,i,j,p4,'p1_'+i) for ind,i in enumerate(p2) for j in p3 if i != j and p1!=i and p1!=j]\n",
    "        pf.runD(p2,p3,mytups,pD,fh,subset,(1,2),(0,),fixed=(p1,0,0,p4),outpd=outpd,badsnpfile=bsf)\n",
    "\n",
    "        p1,p2,p3,p4 = (pop1,pop2,myp3,myp4)\n",
    "        subset = bsfsubset+'.'+myid1+'_'+myid2+'_'+p3+'_'+p4\n",
    "        mytups = [(i,j,p3,p4,'p1_'+i) for ind,i in enumerate(p1) for j in p2 if i != j and p3!=i and p3!=j]\n",
    "        pf.runD(p1,p2,mytups,pD,fh,subset,(0,1),(0,),fixed=(0,0,p3,p4),outpd=outpd,badsnpfile=bsf)\n"
   ]
  },
  {
   "cell_type": "code",
   "execution_count": null,
   "metadata": {
    "collapsed": true
   },
   "outputs": [],
   "source": []
  }
 ],
 "metadata": {
  "kernelspec": {
   "display_name": "Python 2",
   "language": "python",
   "name": "python2"
  },
  "language_info": {
   "codemirror_mode": {
    "name": "ipython",
    "version": 2
   },
   "file_extension": ".py",
   "mimetype": "text/x-python",
   "name": "python",
   "nbconvert_exporter": "python",
   "pygments_lexer": "ipython2",
   "version": "2.7.13"
  }
 },
 "nbformat": 4,
 "nbformat_minor": 2
}
