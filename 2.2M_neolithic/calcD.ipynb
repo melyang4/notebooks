{
 "cells": [
  {
   "cell_type": "code",
   "execution_count": 3,
   "metadata": {},
   "outputs": [
    {
     "name": "stdout",
     "output_type": "stream",
     "text": [
      "Overwriting /mnt/solexa/mel_yang/2.2_neolithic/Dstats/UPA9/calcD_giveP3.py\n"
     ]
    }
   ],
   "source": [
    "%%writefile /mnt/solexa/mel_yang/2.2_neolithic/Dstats/UPA9/calcD_giveP3.py\n",
    "\n",
    "import plotting_funcs as pf\n",
    "import sys\n",
    "\n",
    "eas=[\"Oroqen\",\"Daur\",\"Hezhen\",\"Xibo\",\"Japanese\",\"Korean\",\n",
    "        \"Tu\",\"Han\",\"Tujia\",\"Miao\",\"Yi\",\"She\",\"Naxi\",\"Atayal\",\n",
    "        \"Ami\",\"Lahu\",\"Dai\",\"Kinh\",\"Burmese\",\"Thai\",\"Cambodian\",\"Tibetan\",\"Uygur\"]\n",
    "samer=[\"Clovis\",\"Pima\",\"Mayan\",\"Mixe\",\"Zapotec\",\"Piapoco\",\n",
    "        \"Karitiana\",\"Surui\",\"Quechua\",\"Chane\",\"Nahua\",\n",
    "        \"Cree\",\"Chipewyan\",'Saqqaq']\n",
    "sib=[\"Aleut\",\"Tlingit\",\"Mansi\",\"Chukchi\",\"Tubalar\",\"Kyrgyz\",\"Ulchi\",\n",
    "    \"Mongola\",\"Altaian\",\"Even\",\"Yakut\",\"Itelman\",\n",
    "    \"Eskimo_Sireniki\",\"Eskimo_Naukan\",\"Eskimo_Chaplin\"]\n",
    "pacific=[\"Onge\",\"Papuan\",\"Maori\",\"Igorot\",\"Hawaiian\",\n",
    "         \"Dusun\",\"Bougainville\",\"Australian\"]\n",
    "oasia=[\"Sherpa\",\"Kusunda\"]\n",
    "ancids=['Yana_old','Yana_old2',\"Tianyuan\",'Longlin','Longlin_com','Xinyi',\n",
    "        'Xinyi_other','Daxi','LiangDaoChineseNeolithic','Boisman_MN',\n",
    "        'BoshanChineseNeolithic','Bbdong','Linzi','HDYM1','HQSDW',\n",
    "        'Zongri','Pukagongma','Chokhopani1','Mebrak','Samdzong',\n",
    "        'Kolyma_River',\"Donghuigou\",\"Balikun\"]\n",
    "eup=[\"UstIshim\",\"Oase1\",\"Kostenki14\",\"GoyetQ116-1\",\"Sunghir\",\n",
    "     \"Vestonice16\",\"Yana_old\",\"Yana_old2\",\n",
    "     \"Malta1\",'AfontovaGora3',\"ElMiron\",\"Villabruna\",\"Bichon\",\n",
    "     \"Satsurblia\",\"Kotias\",\"Karelia\",\"Motala12\",\"Loschbour\",\"LaBrana1\",\n",
    "     \"Hungarian.KO1\",\"Stuttgart\",\"French\",\"Sardinian\",\"Natufian\"]\n",
    "allids=eup+eas+ancids+samer+sib+pacific+oasia+[\"Mbuti\",\"Yoruba\"]\n",
    "\n",
    "pD=\"/mnt/solexa/mel_yang/data/2.2M/\"\n",
    "outpd=\"/mnt/solexa/mel_yang/2.2_neolithic/Dstats/UPA9/\"\n",
    "fh=\"UPA_all9\"\n",
    "\n",
    "p4s=[\"Mbuti\",\"Chimp\"]\n",
    "\n",
    "myid1= 'EUPASNAMER'\n",
    "myid2= \"EUPASNAMER\"\n",
    "\n",
    "p3s=['Longlin','Longlin_com','Xinyi','Xinyi_other','Tianyuan','Bbdong']\n",
    "p3s=['LiangDaoChineseNeolithic','Boisman_MN','BoshanChineseNeolithic','Linzi','HDYM1','HQSDW']\n",
    "p3s=['Xinyi_other']\n",
    "p3s=['Bbdong']\n",
    "p3s=[\"Xinyi\"]\n",
    "p3s=[\"Tianyuan\",\"Altai\",\"Denisovan\"]\n",
    "p3s=[\"Zongri\",\"Pukagongma\"]\n",
    "p3s=[\"Daxi\"]\n",
    "p3s=[\"Altai\",\"Denisovan\"]\n",
    "p3s=[\"Han\",\"Ami\",\"Dai\"]\n",
    "\n",
    "p3s=sys.argv[1].split(',')\n",
    "\n",
    "\n",
    "comparingpop=allids\n",
    "\n",
    "bsf,bsfsubset=(pD+fh+\".transi.snp\",'transv')\n",
    "for myp3 in p3s:\n",
    "    for myp4 in p4s:\n",
    "        p1,p2,p3,p4 = (myp3,comparingpop,comparingpop,myp4)\n",
    "        subset = bsfsubset+'.'+p1+'_'+myid1+'_'+myid2+'_'+p4\n",
    "        mytups = [(p1,i,j,p4,'p1_'+i) for ind,i in enumerate(p2) for j in p3 if i != j and p1!=i and p1!=j]\n",
    "        pf.runD(p2,p3,mytups,pD,fh,subset,(1,2),(0,),fixed=(p1,0,0,p4),outpd=outpd,badsnpfile=bsf)\n",
    "\n",
    "        p1,p2,p3,p4 = (comparingpop,comparingpop,myp3,myp4)\n",
    "        subset = bsfsubset+'.'+myid1+'_'+myid2+'_'+p3+'_'+p4\n",
    "        mytups = [(i,j,p3,p4,'p1_'+i) for ind,i in enumerate(p1) for j in p2 if i != j and p3!=i and p3!=j]\n",
    "        pf.runD(p1,p2,mytups,pD,fh,subset,(0,1),(0,),fixed=(0,0,p3,p4),outpd=outpd,badsnpfile=bsf)\n",
    "print 'Done tv'\n",
    "\n",
    "bsf,bsfsubset=(0,'all')\n",
    "for myp3 in p3s:\n",
    "    for myp4 in p4s:\n",
    "        p1,p2,p3,p4 = (myp3,comparingpop,comparingpop,myp4)\n",
    "        subset = bsfsubset+'.'+p1+'_'+myid1+'_'+myid2+'_'+p4\n",
    "        mytups = [(p1,i,j,p4,'p1_'+i) for ind,i in enumerate(p2) for j in p3 if i != j and p1!=i and p1!=j]\n",
    "        pf.runD(p2,p3,mytups,pD,fh,subset,(1,2),(0,),fixed=(p1,0,0,p4),outpd=outpd,badsnpfile=bsf)\n",
    "\n",
    "        p1,p2,p3,p4 = (comparingpop,comparingpop,myp3,myp4)\n",
    "        subset = bsfsubset+'.'+myid1+'_'+myid2+'_'+p3+'_'+p4\n",
    "        mytups = [(i,j,p3,p4,'p1_'+i) for ind,i in enumerate(p1) for j in p2 if i != j and p3!=i and p3!=j]\n",
    "        pf.runD(p1,p2,mytups,pD,fh,subset,(0,1),(0,),fixed=(0,0,p3,p4),outpd=outpd,badsnpfile=bsf)\n",
    "print 'Done all'        \n"
   ]
  },
  {
   "cell_type": "code",
   "execution_count": null,
   "metadata": {
    "collapsed": true
   },
   "outputs": [],
   "source": []
  }
 ],
 "metadata": {
  "kernelspec": {
   "display_name": "Python 2",
   "language": "python",
   "name": "python2"
  },
  "language_info": {
   "codemirror_mode": {
    "name": "ipython",
    "version": 2
   },
   "file_extension": ".py",
   "mimetype": "text/x-python",
   "name": "python",
   "nbconvert_exporter": "python",
   "pygments_lexer": "ipython2",
   "version": "2.7.13"
  }
 },
 "nbformat": 4,
 "nbformat_minor": 2
}
