{
 "cells": [
  {
   "cell_type": "code",
   "execution_count": 16,
   "metadata": {},
   "outputs": [
    {
     "name": "stdout",
     "output_type": "stream",
     "text": [
      "Overwriting /mnt/solexa/mel_yang/2.2_neolithic/qpAdm/UPA9/CaseA_EUP_in_ASN.py\n"
     ]
    }
   ],
   "source": [
    "%%writefile /mnt/solexa/mel_yang/2.2_neolithic/qpAdm/UPA9/CaseA_EUP_in_ASN.py\n",
    "import projmodules as pm\n",
    "from multiprocessing import Pool\n",
    "import os\n",
    "import subprocess as sp\n",
    "\n",
    "\n",
    "sib=[\"Altaian\",\"Eskimo_Sireniki\",\"Even\",\"Itelman\",\"Mongola\",\"Tubalar\",\n",
    "     \"Ulchi\",\"Yakut\",\"Kolyma_River\"]\n",
    "\n",
    "eas1=[\"Ami\",\"Atayal\",\"Dai\",\"Daur\",\"Han\",\"Hezhen\",\"Japanese\",\"Korean\"]\n",
    "eas2=[\"Kinh\",\"Lahu\",\"Miao\",\"Naxi\",\"Oroqen\",\"She\",\"Tujia\",\"Yi\"]\n",
    "\n",
    "ancasn=[\"Tianyuan\",'Longlin','Longlin_com','Xinyi','Xinyi_other','Daxi',\n",
    "        'LiangDaoChineseNeolithic','Boisman_MN','BoshanChineseNeolithic',\n",
    "        'Bbdong','Linzi','HDYM1','HQSDW','Zongri','Pukagongma']\n",
    "\n",
    "eup=[\"GoyetQ116-1\",\"Malta1\",'AfontovaGora3',\"ElMiron\",\"Villabruna\",\"Satsurblia\",\"Loschbour\",] \n",
    "     #\"Karelia\",\"LaBrana1\",\"Hungarian.KO1\",\"Stuttgart\",\"French\"\n",
    "eup=[\"GoyetQ116-1\"]\n",
    "othereur=[\"Vestonice16\",\"ElMiron\",\"Villabruna\"]\n",
    "whg=[\"Loschbour\",\"LaBrana1\",\"Hungarian.KO1\",\"Bichon\",\"Malta1\",\"AfontovaGora3\"]\n",
    "aeas=['Xinyi','Xinyi_other','LiangDaoChineseNeolithic','Boisman_MN','BoshanChineseNeolithic',\n",
    "        'Bbdong','Linzi','HDYM1','HQSDW','Zongri','Pukagongma']\n",
    "##left=[[target, s1, s2]]\n",
    "#left=[[k, i, j] for i in eup for j in ancasn for k in eas+ancasn if i!=j and i!=k and j!=k] \n",
    "left=[[k, i, j] for i in othereur+whg for j in aeas for k in eas2 if i!=j and i!=k and j!=k] \n",
    "print len(left)\n",
    "\n",
    "def dowork(mytup):\n",
    "    myleft,myleftid=mytup\n",
    "    outpD=\"/mnt/solexa/mel_yang/2.2_neolithic/qpAdm/UPA9/CaseA/\"\n",
    "    pD=\"/mnt/solexa/mel_yang/data/2.2M/\"\n",
    "    fh=\"UPA_all9\"\n",
    "    baseoutgroup=[\"Yoruba\",\"Ju_hoan_North\",\"Dinka\",\"Mbuti\",\"UstIshim\"]\n",
    "    outs=[baseoutgroup+[\"Kostenki14\",\"Sunghir\",\"Vestonice16\",\"Onge\",\"Papuan\"], #0\n",
    "          baseoutgroup+[\"Kostenki14\",\"Sunghir\",\"Vestonice16\",\"Onge\",\"Papuan\",\"Yana_old\",\"Yana_old2\"], #1\n",
    "         baseoutgroup+[\"Kostenki14\",\"Tianyuan\",\"Papuan\",\"Mota\"],] #2\n",
    "    \n",
    "    for outid,out in enumerate(outs):\n",
    "        if outid not in [2]: continue #[5,7,12,13]: continue\n",
    "        if myleft[0] in out or myleft[1] in out or myleft[2] in out: continue\n",
    "        bck = 'X_%s_S1_%s_S2_%s_out%i' % tuple(myleft+[outid])\n",
    "        pm.wave_run(myleft, out, pD, fh, bck, outpd=outpD)\n",
    "        pm.wave_adm_run(myleft, out, pD, fh, bck, outpd=outpD)\n",
    "        \n",
    "myinputs=[(myleft,ind,) for ind,myleft in enumerate(left)] \n",
    "print len(myinputs)\n",
    "mypool = Pool(20)\n",
    "results = mypool.map(dowork, myinputs)"
   ]
  },
  {
   "cell_type": "code",
   "execution_count": 9,
   "metadata": {},
   "outputs": [
    {
     "name": "stdout",
     "output_type": "stream",
     "text": [
      "Writing /mnt/solexa/mel_yang/2.2_neolithic/qpAdm/UPA9/CaseB_ASN_in_EUP.py\n"
     ]
    }
   ],
   "source": [
    "%%writefile /mnt/solexa/mel_yang/2.2_neolithic/qpAdm/UPA9/CaseB_ASN_in_EUP.py\n",
    "import projmodules as pm\n",
    "from multiprocessing import Pool\n",
    "import os\n",
    "import subprocess as sp\n",
    "\n",
    "\n",
    "sib=[\"Altaian\",\"Eskimo_Sireniki\",\"Even\",\"Itelman\",\"Mongola\",\"Tubalar\",\n",
    "     \"Ulchi\",\"Yakut\",\"Kolyma_River\"]\n",
    "\n",
    "eas=[\"Ami\",\"Atayal\",\"Dai\",\"Daur\",\"Han\",\"Hezhen\",\"Japanese\",\"Korean\",\"Kinh\",\n",
    "     \"Lahu\",\"Miao\",\"Naxi\",\"Oroqen\",\"She\",\"Tujia\",\"Yi\"]\n",
    "\n",
    "ancasn=[\"Tianyuan\",'Longlin','Longlin_com','Xinyi','Xinyi_other','Daxi',\n",
    "        'LiangDaoChineseNeolithic','Boisman_MN','BoshanChineseNeolithic',\n",
    "        'Bbdong','Linzi','HDYM1','HQSDW','Zongri','Pukagongma']\n",
    "\n",
    "eup=[\"GoyetQ116-1\",\"Malta1\",'AfontovaGora3',\"ElMiron\",\"Villabruna\",\"Satsurblia\",\"Loschbour\",] \n",
    "     #\"Karelia\",\"LaBrana1\",\"Hungarian.KO1\",\"Stuttgart\",\"French\"\n",
    "eup=[\"GoyetQ116-1\"]\n",
    "\n",
    "othereur=[\"Vestonice16\",\"ElMiron\",\"Villabruna\"]\n",
    "whg=[\"Loschbour\",\"LaBrana1\",\"Hungarian.KO1\",\"Bichon\",\"Malta1\",\"AfontovaGora3\"]\n",
    "\n",
    "##left=[[target, s1, s2]]\n",
    "left=[[k, i, j] for i in othereur for j in eas+ancasn for k in whg if i!=j and i!=k and j!=k] \n",
    "print len(left)\n",
    "\n",
    "def dowork(mytup):\n",
    "    myleft,myleftid=mytup\n",
    "    outpD=\"/mnt/solexa/mel_yang/2.2_neolithic/qpAdm/UPA9/CaseB/\"\n",
    "    pD=\"/mnt/solexa/mel_yang/data/2.2M/\"\n",
    "    fh=\"UPA_all9\"\n",
    "    baseoutgroup=[\"Yoruba\",\"Ju_hoan_North\",\"Dinka\",\"Mbuti\",\"UstIshim\"]\n",
    "    outs=[baseoutgroup+[\"Kostenki14\",\"Sunghir\",\"Vestonice16\",\"Onge\",\"Papuan\"], #0\n",
    "          baseoutgroup+[\"Kostenki14\",\"Sunghir\",\"Vestonice16\",\"Onge\",\"Papuan\",\"Yana_old\",\"Yana_old2\"], #1\n",
    "         baseoutgroup+[\"Kostenki14\",\"Tianyuan\",\"Papuan\",\"Mota\"],] #2\n",
    "     \n",
    "    for outid,out in enumerate(outs):\n",
    "        if outid not in [2]: continue #[5,7,12,13]: continue\n",
    "        if myleft[0] in out or myleft[1] in out or myleft[2] in out: continue\n",
    "        bck = 'X_%s_S1_%s_S2_%s_out%i' % tuple(myleft+[outid])\n",
    "        pm.wave_run(myleft, out, pD, fh, bck, outpd=outpD)\n",
    "        pm.wave_adm_run(myleft, out, pD, fh, bck, outpd=outpD)\n",
    "        \n",
    "myinputs=[(myleft,ind,) for ind,myleft in enumerate(left)] \n",
    "print len(myinputs)\n",
    "mypool = Pool(20)\n",
    "results = mypool.map(dowork, myinputs)"
   ]
  },
  {
   "cell_type": "code",
   "execution_count": 5,
   "metadata": {},
   "outputs": [
    {
     "name": "stdout",
     "output_type": "stream",
     "text": [
      "Made /mnt/solexa/mel_yang/2.2_neolithic/qpAdm/UPA9/CaseB/UPA_all9.adm_EUP_EASaEAS_EUP.out2.tab\n",
      "\n"
     ]
    }
   ],
   "source": [
    "##EXTRACT RELEVANT DATA FROM QPADM\n",
    "import projmodules as pm\n",
    "\n",
    "##OUTGROUPS\n",
    "baseoutgroup=[\"Yoruba\",\"Ju_hoan_North\",\"Dinka\",\"Mbuti\",\"UstIshim\"]\n",
    "outs=[baseoutgroup+[\"Kostenki14\",\"Sunghir\",\"Vestonice16\",\"Onge\",\"Papuan\"], #0\n",
    "          baseoutgroup+[\"Kostenki14\",\"Sunghir\",\"Vestonice16\",\"Onge\",\"Papuan\",\"Yana_old\",\"Yana_old2\"], #1\n",
    "         baseoutgroup+[\"Kostenki14\",\"Tianyuan\",\"Papuan\",\"Mota\"],] #2\n",
    "\n",
    "eas1=[\"Ami\",\"Atayal\",\"Dai\",\"Daur\",\"Han\",\"Hezhen\",\"Japanese\",\"Korean\"]\n",
    "eas2=[\"Kinh\",\"Lahu\",\"Miao\",\"Naxi\",\"Oroqen\",\"She\",\"Tujia\",\"Yi\"]\n",
    "\n",
    "ancasn=[\"Tianyuan\",'Longlin','Longlin_com','Xinyi','Xinyi_other','Daxi',\n",
    "        'LiangDaoChineseNeolithic','Boisman_MN','BoshanChineseNeolithic',\n",
    "        'Bbdong','Linzi','HDYM1','HQSDW','Zongri','Pukagongma']\n",
    "\n",
    "eup=[\"GoyetQ116-1\",\"Malta1\",'AfontovaGora3',\"ElMiron\",\"Villabruna\",\"Satsurblia\",\"Loschbour\",] \n",
    "     #\"Karelia\",\"LaBrana1\",\"Hungarian.KO1\",\"Stuttgart\",\"French\"\n",
    "eup=[\"GoyetQ116-1\"]\n",
    "othereur=[\"Vestonice16\",\"ElMiron\",\"Villabruna\"]\n",
    "whg=[\"Loschbour\",\"LaBrana1\",\"Hungarian.KO1\",\"Bichon\",\"Malta1\",\"AfontovaGora3\"]\n",
    "aeas=['Xinyi','Xinyi_other','LiangDaoChineseNeolithic','Boisman_MN','BoshanChineseNeolithic',\n",
    "        'Bbdong','Linzi','HDYM1','HQSDW','Zongri','Pukagongma']\n",
    "\n",
    "fh=\"UPA_all9\"\n",
    "\n",
    "##CASE A: (EUP, aEAS; aEAS+EAS) -- EUP ancestry in EAS?\n",
    "#pD=\"/mnt/solexa/mel_yang/2.2_neolithic/qpAdm/UPA9/CaseA/\"\n",
    "#targets,s1s,s2s=(eas1+eas2+aeas,othereur+whg,aeas)\n",
    "#newname,myoutind = ('adm_EUP_aEAS_EASaEAS',2) \n",
    "#myoutgroups=outs[myoutind]\n",
    "#print pm.qpadm_tab_2source(pD,fh,newname,myoutind,myoutgroups,s1s,s2s,targets)\n",
    "\n",
    "##CASE A: (EUP, aEAS; aEAS+EAS) -- EUP ancestry in EAS?\n",
    "pD=\"/mnt/solexa/mel_yang/2.2_neolithic/qpAdm/UPA9/CaseB/\"\n",
    "targets,s1s,s2s=(whg,othereur,eas1+eas2+aeas)\n",
    "newname,myoutind = ('adm_EUP_EASaEAS_EUP',2) \n",
    "myoutgroups=outs[myoutind]\n",
    "print pm.qpadm_tab_2source(pD,fh,newname,myoutind,myoutgroups,s1s,s2s,targets)\n",
    "\n",
    "\n",
    "print"
   ]
  },
  {
   "cell_type": "code",
   "execution_count": 7,
   "metadata": {},
   "outputs": [],
   "source": [
    "%%bash\n",
    "pD=\"/mnt/solexa/mel_yang/2.2_neolithic/qpAdm/UPA9/CaseB/\"\n",
    "fh=\"UPA_all9\"\n",
    "label=\"adm_EUP_aEAS_EASaEAS\"\n",
    "label=\"adm_EUP_EASaEAS_EUP\"\n",
    "for outind in 2; do \n",
    "    python ~/bin/qpadm_makexlsx_twosources.py ${pD} ${fh} ${label} ${outind}\n",
    "done"
   ]
  },
  {
   "cell_type": "code",
   "execution_count": null,
   "metadata": {
    "collapsed": true
   },
   "outputs": [],
   "source": []
  }
 ],
 "metadata": {
  "kernelspec": {
   "display_name": "Python 2",
   "language": "python",
   "name": "python2"
  },
  "language_info": {
   "codemirror_mode": {
    "name": "ipython",
    "version": 2
   },
   "file_extension": ".py",
   "mimetype": "text/x-python",
   "name": "python",
   "nbconvert_exporter": "python",
   "pygments_lexer": "ipython2",
   "version": "2.7.13"
  }
 },
 "nbformat": 4,
 "nbformat_minor": 2
}
