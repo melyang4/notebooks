{
 "cells": [
  {
   "cell_type": "code",
   "execution_count": 13,
   "metadata": {},
   "outputs": [
    {
     "data": {
      "text/plain": [
       "'Made par file for convertf!'"
      ]
     },
     "execution_count": 13,
     "metadata": {},
     "output_type": "execute_result"
    }
   ],
   "source": [
    "##SGDP\n",
    "\n",
    "import projmodules as pm\n",
    "\n",
    "pd=\"/mnt/solexa/mel_yang/2.2_neolithic/admixture/\"\n",
    "sgdpfile=open(pd+\"SGDP_ALL.txt\",'r')\n",
    "sgdp=[line.strip() for line in sgdpfile]\n",
    "sgdpfile.close()\n",
    "\n",
    "ancasn=[\"Tianyuan\",'Longlin','Longlin_com','Xinyi',\n",
    "        'Xinyi_other','Daxi','LiangDaoChineseNeolithic','Boisman_MN',\n",
    "        'BoshanChineseNeolithic','Bbdong','Linzi','HDYM1','HQSDW',\n",
    "        'Zongri','Pukagongma','Chokhopani1','Mebrak','Samdzong',\n",
    "        'Kolyma_River',\"Donghuigou\",\"Balikun\"]\n",
    "ancpub=[\"UstIshim\",\"Oase1\",\"Kostenki14\",\"GoyetQ116-1\",\"KremsWA3\",\n",
    "     \"Vestonice16\",\"Yana_old\",\"Yana_old2\",\"Ostuni1\",\"HohleFels49\",\n",
    "     \"Malta1\",'AfontovaGora3',\"ElMiron\",\"Villabruna\",\"Bichon\",\"Rochedane\",\"Ranchot88\",\n",
    "     \"Satsurblia\",\"Kotias\",\"Karelia\",\"Motala12\",\"Loschbour\",\"LaBrana1\",\n",
    "     \"Hungarian.KO1\",\"Stuttgart\",\"Anatolia_N\",\"Iran_N\",\"Levant_N\",\"Natufian\",\"Mota\",\"Clovis\",\"Saqqaq\"]\n",
    "inds=ancasn+ancpub+sgdp\n",
    "\n",
    "datpd = \"/mnt/solexa/mel_yang/data/2.2M/\"\n",
    "fh=\"UPA_all8\"\n",
    "newname = 'ADMIXALL_102417'\n",
    "pm.indtoignore(inds, datpd+fh+'.ind', datpd+fh+'.'+newname+'.ind')\n",
    "pm.convertf_par(datpd+fh,pd+fh+'.'+newname+'.ped','PED',pd+\n",
    "                'CONVERTF.'+fh+'.'+newname+'.par',indfilename=datpd+fh+'.'+newname)\n"
   ]
  },
  {
   "cell_type": "code",
   "execution_count": 12,
   "metadata": {},
   "outputs": [
    {
     "data": {
      "text/plain": [
       "'Made par file for convertf!'"
      ]
     },
     "execution_count": 12,
     "metadata": {},
     "output_type": "execute_result"
    }
   ],
   "source": [
    "##HO\n",
    "\n",
    "import projmodules as pm\n",
    "import HOdata\n",
    "\n",
    "pd=\"/mnt/solexa/mel_yang/2.2_neolithic/admixture/\"\n",
    "hodat=HOdata.pdpops\n",
    "\n",
    "ancasn=[\"Tianyuan\",'Longlin','Longlin_com','Xinyi','Daxi','LiangDaoChineseNeolithic','Boisman_MN',\n",
    "        'BoshanChineseNeolithic','Bbdong','Linzi','HDYM1','HQSDW',\n",
    "        'Zongri','Pukagongma','Chokhopani1','Mebrak','Samdzong',\n",
    "        'Kolyma_River',\"Donghuigou\",\"Balikun\"]\n",
    "ancpub=[\"UstIshim\",\"Oase1\",\"Kostenki14\",\"GoyetQ116-1\",\"KremsWA3\",\n",
    "     \"Vestonice16\",\"Yana_old\",\"Yana_old2\",\"Ostuni1\",\"HohleFels49_N\",\n",
    "     \"Malta1\",'AfontovaGora3',\"ElMiron\",\"Villabruna\",\"Bichon\",\"Rochedane_N\",\"Ranchot88_N\",\n",
    "     \"Satsurblia\",\"Kotias\",\"Karelia\",\"Motala_HG\",\"Loschbour\",\"LaBrana1\",\n",
    "     \"Hungarian.KO1\",\"Stuttgart\",\"Anatolia_N\",\"Iran_N\",\"Levant_N\",\"Natufian\",\"Mota\",\"Clovis\",\"Saqqaq\"]\n",
    "inds=ancasn+ancpub+hodat\n",
    "\n",
    "datpd = \"/mnt/solexa/mel_yang/data/HO/\"\n",
    "fh=\"ind_A_v13_TBH6\"\n",
    "newname = 'ADMIX_noAFR_102417'\n",
    "pm.indtoignore(inds, datpd+fh+'.ind', datpd+fh+'.'+newname+'.ind')\n",
    "pm.convertf_par(datpd+fh,pd+fh+'.'+newname+'.ped','PED',pd+\n",
    "                'CONVERTF.'+fh+'.'+newname+'.par',indfilename=datpd+fh+'.'+newname)\n"
   ]
  },
  {
   "cell_type": "code",
   "execution_count": 20,
   "metadata": {},
   "outputs": [
    {
     "name": "stdout",
     "output_type": "stream",
     "text": [
      "plink --noweb --file /mnt/solexa/mel_yang/2.2_neolithic/admixture/ind_A_v13_TBH6.ADMIX_noAFR_102417 --make-bed --out /mnt/solexa/mel_yang/2.2_neolithic/admixture/ind_A_v13_TBH6.ADMIX_noAFR_102417 --geno 0.999\n",
      "plink --noweb --bfile /mnt/solexa/mel_yang/2.2_neolithic/admixture/ind_A_v13_TBH6.ADMIX_noAFR_102417 --indep-pairwise 200 25 0.4 --out /mnt/solexa/mel_yang/2.2_neolithic/admixture/ind_A_v13_TBH6.ADMIX_noAFR_102417_plink.200_25_0.4\n",
      "plink --noweb --bfile /mnt/solexa/mel_yang/2.2_neolithic/admixture/ind_A_v13_TBH6.ADMIX_noAFR_102417 --extract /mnt/solexa/mel_yang/2.2_neolithic/admixture/ind_A_v13_TBH6.ADMIX_noAFR_102417_plink.200_25_0.4.prune.in --make-bed --out /mnt/solexa/mel_yang/2.2_neolithic/admixture/ind_A_v13_TBH6.ADMIX_noAFR_102417_pruned.200_25_0.4\n"
     ]
    }
   ],
   "source": [
    "%%bash\n",
    "pd=\"/mnt/solexa/mel_yang/2.2_neolithic/admixture/\" #NEED TO MOVE TO admixture/ FIRST\n",
    "#fh=\"UPA_all8.ADMIX_102417\"\n",
    "fh=\"ind_A_v13_TBH6.ADMIX_noAFR_102417\"\n",
    "idp=\".200_25_0.4\"\n",
    "mv ${pd}${fh}.ped.geno ${pd}${fh}.ped\n",
    "mv ${pd}${fh}.ped.ind ${pd}${fh}.pedind\n",
    "cut -c1-41 ${pd}${fh}.ped.snp > ${pd}${fh}.map\n",
    "\n",
    "echo \"plink --noweb --file ${pd}${fh} --make-bed --out ${pd}${fh} --geno 0.999\"\n",
    "\n",
    "\n",
    "##Prune dataset, using 50 SNP windows, step 10 SNPs, remove SNP pairs with R^2>0.1\n",
    "echo \"plink --noweb --bfile ${pd}${fh} --indep-pairwise 200 25 0.4 --out ${pd}${fh}_plink${idp}\" \n",
    "\n",
    "##Keep set of untargeted SNPs from above\n",
    "echo \"plink --noweb --bfile ${pd}${fh} --extract ${pd}${fh}_plink${idp}.prune.in --make-bed --out ${pd}${fh}_pruned${idp}\"  "
   ]
  },
  {
   "cell_type": "markdown",
   "metadata": {},
   "source": [
    "## Actual admixture runs! (w/CV)"
   ]
  },
  {
   "cell_type": "code",
   "execution_count": 28,
   "metadata": {},
   "outputs": [
    {
     "name": "stdout",
     "output_type": "stream",
     "text": [
      "admixture --cv /mnt/solexa/mel_yang/2.2_neolithic/admixture/ind_A_v13_TBH6.ADMIX_noAFR_102417_pruned.200_25_0.4.bed 2 > /mnt/solexa/mel_yang/2.2_neolithic/admixture/ind_A_v13_TBH6.ADMIX_noAFR_102417_pruned.200_25_0.4.admix.log2.out &\n",
      "admixture --cv /mnt/solexa/mel_yang/2.2_neolithic/admixture/ind_A_v13_TBH6.ADMIX_noAFR_102417_pruned.200_25_0.4.bed 3 > /mnt/solexa/mel_yang/2.2_neolithic/admixture/ind_A_v13_TBH6.ADMIX_noAFR_102417_pruned.200_25_0.4.admix.log3.out &\n",
      "admixture --cv /mnt/solexa/mel_yang/2.2_neolithic/admixture/ind_A_v13_TBH6.ADMIX_noAFR_102417_pruned.200_25_0.4.bed 4 > /mnt/solexa/mel_yang/2.2_neolithic/admixture/ind_A_v13_TBH6.ADMIX_noAFR_102417_pruned.200_25_0.4.admix.log4.out &\n",
      "admixture --cv /mnt/solexa/mel_yang/2.2_neolithic/admixture/ind_A_v13_TBH6.ADMIX_noAFR_102417_pruned.200_25_0.4.bed 5 > /mnt/solexa/mel_yang/2.2_neolithic/admixture/ind_A_v13_TBH6.ADMIX_noAFR_102417_pruned.200_25_0.4.admix.log5.out &\n",
      "admixture --cv /mnt/solexa/mel_yang/2.2_neolithic/admixture/ind_A_v13_TBH6.ADMIX_noAFR_102417_pruned.200_25_0.4.bed 6 > /mnt/solexa/mel_yang/2.2_neolithic/admixture/ind_A_v13_TBH6.ADMIX_noAFR_102417_pruned.200_25_0.4.admix.log6.out &\n",
      "admixture --cv /mnt/solexa/mel_yang/2.2_neolithic/admixture/ind_A_v13_TBH6.ADMIX_noAFR_102417_pruned.200_25_0.4.bed 7 > /mnt/solexa/mel_yang/2.2_neolithic/admixture/ind_A_v13_TBH6.ADMIX_noAFR_102417_pruned.200_25_0.4.admix.log7.out &\n",
      "admixture --cv /mnt/solexa/mel_yang/2.2_neolithic/admixture/ind_A_v13_TBH6.ADMIX_noAFR_102417_pruned.200_25_0.4.bed 8 > /mnt/solexa/mel_yang/2.2_neolithic/admixture/ind_A_v13_TBH6.ADMIX_noAFR_102417_pruned.200_25_0.4.admix.log8.out &\n",
      "admixture --cv /mnt/solexa/mel_yang/2.2_neolithic/admixture/ind_A_v13_TBH6.ADMIX_noAFR_102417_pruned.200_25_0.4.bed 9 > /mnt/solexa/mel_yang/2.2_neolithic/admixture/ind_A_v13_TBH6.ADMIX_noAFR_102417_pruned.200_25_0.4.admix.log9.out &\n",
      "admixture --cv /mnt/solexa/mel_yang/2.2_neolithic/admixture/ind_A_v13_TBH6.ADMIX_noAFR_102417_pruned.200_25_0.4.bed 10 > /mnt/solexa/mel_yang/2.2_neolithic/admixture/ind_A_v13_TBH6.ADMIX_noAFR_102417_pruned.200_25_0.4.admix.log10.out &\n",
      "admixture --cv /mnt/solexa/mel_yang/2.2_neolithic/admixture/ind_A_v13_TBH6.ADMIX_noAFR_102417_pruned.200_25_0.4.bed 11 > /mnt/solexa/mel_yang/2.2_neolithic/admixture/ind_A_v13_TBH6.ADMIX_noAFR_102417_pruned.200_25_0.4.admix.log11.out &\n",
      "admixture --cv /mnt/solexa/mel_yang/2.2_neolithic/admixture/ind_A_v13_TBH6.ADMIX_noAFR_102417_pruned.200_25_0.4.bed 12 > /mnt/solexa/mel_yang/2.2_neolithic/admixture/ind_A_v13_TBH6.ADMIX_noAFR_102417_pruned.200_25_0.4.admix.log12.out &\n",
      "admixture --cv /mnt/solexa/mel_yang/2.2_neolithic/admixture/ind_A_v13_TBH6.ADMIX_noAFR_102417_pruned.200_25_0.4.bed 13 > /mnt/solexa/mel_yang/2.2_neolithic/admixture/ind_A_v13_TBH6.ADMIX_noAFR_102417_pruned.200_25_0.4.admix.log13.out &\n",
      "admixture --cv /mnt/solexa/mel_yang/2.2_neolithic/admixture/ind_A_v13_TBH6.ADMIX_noAFR_102417_pruned.200_25_0.4.bed 14 > /mnt/solexa/mel_yang/2.2_neolithic/admixture/ind_A_v13_TBH6.ADMIX_noAFR_102417_pruned.200_25_0.4.admix.log14.out &\n",
      "admixture --cv /mnt/solexa/mel_yang/2.2_neolithic/admixture/ind_A_v13_TBH6.ADMIX_noAFR_102417_pruned.200_25_0.4.bed 15 > /mnt/solexa/mel_yang/2.2_neolithic/admixture/ind_A_v13_TBH6.ADMIX_noAFR_102417_pruned.200_25_0.4.admix.log15.out &\n",
      "admixture --cv /mnt/solexa/mel_yang/2.2_neolithic/admixture/ind_A_v13_TBH6.ADMIX_noAFR_102417_pruned.200_25_0.4.bed 16 > /mnt/solexa/mel_yang/2.2_neolithic/admixture/ind_A_v13_TBH6.ADMIX_noAFR_102417_pruned.200_25_0.4.admix.log16.out &\n",
      "admixture --cv /mnt/solexa/mel_yang/2.2_neolithic/admixture/ind_A_v13_TBH6.ADMIX_noAFR_102417_pruned.200_25_0.4.bed 17 > /mnt/solexa/mel_yang/2.2_neolithic/admixture/ind_A_v13_TBH6.ADMIX_noAFR_102417_pruned.200_25_0.4.admix.log17.out &\n",
      "admixture --cv /mnt/solexa/mel_yang/2.2_neolithic/admixture/ind_A_v13_TBH6.ADMIX_noAFR_102417_pruned.200_25_0.4.bed 18 > /mnt/solexa/mel_yang/2.2_neolithic/admixture/ind_A_v13_TBH6.ADMIX_noAFR_102417_pruned.200_25_0.4.admix.log18.out &\n",
      "admixture --cv /mnt/solexa/mel_yang/2.2_neolithic/admixture/ind_A_v13_TBH6.ADMIX_noAFR_102417_pruned.200_25_0.4.bed 19 > /mnt/solexa/mel_yang/2.2_neolithic/admixture/ind_A_v13_TBH6.ADMIX_noAFR_102417_pruned.200_25_0.4.admix.log19.out &\n",
      "admixture --cv /mnt/solexa/mel_yang/2.2_neolithic/admixture/ind_A_v13_TBH6.ADMIX_noAFR_102417_pruned.200_25_0.4.bed 20 > /mnt/solexa/mel_yang/2.2_neolithic/admixture/ind_A_v13_TBH6.ADMIX_noAFR_102417_pruned.200_25_0.4.admix.log20.out &\n"
     ]
    }
   ],
   "source": [
    "%%bash\n",
    "#%%writefile /mnt/solexa/mel_yang/2.2_neolithic/admixture/runadmixtureCV.sh\n",
    "\n",
    "##also do cv at runadmixturecv.sh\n",
    "\n",
    "pd=\"/mnt/solexa/mel_yang/2.2_neolithic/admixture/\"\n",
    "fh=\"ind_A_v13_TBH6.ADMIX_noAFR_102417_pruned.200_25_0.4\"\n",
    "for K in `seq 2 20`; do \n",
    "    echo \"admixture --cv ${pd}${fh}.bed ${K} > ${pd}${fh}.admix.log${K}.out &\"\n",
    "    #admixture ${pd}${fh}.bed ${K} > ${pd}${fh}.admix.${K}.out &\n",
    "    #admixture --cv ${pd}${fh}.bed ${K} | tee ${pd}${fh}.admix.log${K}.out\n",
    "    #echo \"admixture --cv ${pd}${fh}.bed ${K} > ${pd}${fh}.admix.log${K}.out\"\n",
    "    #echo \"admixture ${pd}${fh}.bed ${K} > ${pd}${fh}.admix.${K}.out\"\n",
    "done\n",
    "\n",
    "#grep -h CV ${pd}${fh}.admix.log*out > ${pd}${fh}.admix.CVerror ##get CVerrors"
   ]
  },
  {
   "cell_type": "markdown",
   "metadata": {},
   "source": [
    "## Get CV!"
   ]
  },
  {
   "cell_type": "code",
   "execution_count": 29,
   "metadata": {},
   "outputs": [],
   "source": [
    "%%bash\n",
    "pd=\"/mnt/solexa/mel_yang/2.2_neolithic/admixture/\"\n",
    "fh=\"UPA_all8.ADMIX_102417_pruned.200_25_0.4\"\n",
    "\n",
    "grep -h CV ${pd}${fh}.admix.log*out > ${pd}${fh}.admix.CVerror ##get CVerrors"
   ]
  },
  {
   "cell_type": "markdown",
   "metadata": {},
   "source": [
    "## Get set of population names to make \".wID.Q\""
   ]
  },
  {
   "cell_type": "code",
   "execution_count": null,
   "metadata": {
    "collapsed": true
   },
   "outputs": [],
   "source": [
    "%%bash\n",
    "pd=\"/mnt/solexa/mel_yang/2.2_neolithic/admixture/\"\n",
    "datpd=\"/mnt/solexa/mel_yang/data/2.2M/\"\n",
    "fh=\"UPA_all8.ADMIX_102417\"\n",
    "grep -v Ignore ${datpd}${fh}.ind > ${pd}${fh}.noIgnore.ind"
   ]
  },
  {
   "cell_type": "code",
   "execution_count": 49,
   "metadata": {},
   "outputs": [
    {
     "name": "stderr",
     "output_type": "stream",
     "text": [
      "paste: /mnt/solexa/mel_yang/2.2_neolithic/admixture/UPA_all8.ADMIX_102417_pruned.200_25_0.4.18.Q: No such file or directory\n"
     ]
    }
   ],
   "source": [
    "%%bash\n",
    "pd=\"/mnt/solexa/mel_yang/2.2_neolithic/admixture/\"\n",
    "indfh=\"UPA_all8.ADMIX_102417\"\n",
    "Qfh=\"UPA_all8.ADMIX_102417_pruned.200_25_0.4\"\n",
    "K=2\n",
    "for K in 2 3 4 5 6 7 8 9 10 11 12 13 14 15 16 17 18 19; do \n",
    "    paste ${pd}${Qfh}.${K}.Q ${pd}${indfh}.noIgnore.ind > ${pd}${Qfh}.${K}.wID.Q\n",
    "done"
   ]
  },
  {
   "cell_type": "markdown",
   "metadata": {},
   "source": [
    "## Admixture Plot"
   ]
  },
  {
   "cell_type": "code",
   "execution_count": 48,
   "metadata": {},
   "outputs": [
    {
     "name": "stdout",
     "output_type": "stream",
     "text": [
      "Overwriting /mnt/solexa/mel_yang/2.2_neolithic/admixture/admixtureplot.R\n"
     ]
    }
   ],
   "source": [
    "%%writefile /mnt/solexa/mel_yang/2.2_neolithic/admixture/admixtureplot.R\n",
    "##MAKE ADMIXTURE PLOT\n",
    "\n",
    "args <- commandArgs(trailingOnly = TRUE)\n",
    "\n",
    "if(length(args) < 2) {\n",
    "  args <- c(\"--help\")\n",
    "}\n",
    "\n",
    "## Help section\n",
    "if(\"--help\" %in% args) {\n",
    "  cat(\"Example:\\n\n",
    "      Rscript admixtureplot.R PD FH SORTORDER LABEL K\\n\n",
    "      PD=project directory\\n\n",
    "      FH = filehandle with ending '.wID.Q', '.pops'\\n\n",
    "      SORTORDER = sortorder of different K, if '0' then default order, otherwise separate by commas, index from 1, no larger than K\\n\n",
    "      LABEL = new name to add on\\n\n",
    "      K = number cluster to do\\n\n",
    "      EX. Rscript admixtureplot.R  /mnt/solexa/mel_yang/2.2_neolithic/admixture/ UPA_all8.ADMIX_102417_pruned.200_25_0.4 1,2,3 4\\n\n",
    "          Notes:\\n\n",
    "          (1) EX TO MAKE POP FILE: cat UPA_all8.ADMIX_102417_pruned.200_25_0.4.2.wID.Q | awk '{print $5}' | sort -u > UPA_all8.ADMIX_102417_pruned.200_25_0.4.pops\\n\n",
    "          (2) No more than four numbers in order.\\n\\n\")\n",
    "\n",
    "  q(save=\"no\")\n",
    "}\n",
    "\n",
    "\n",
    "\n",
    "pd=args[1] #\"/mnt/solexa/mel_yang/2.2_neolithic/admixture/\"\n",
    "fh=args[2] #\"UPA_all8.ADMIX_102417_pruned.200_25_0.4\"\n",
    "order=strsplit(args[3],\",\")[[1]]\n",
    "mypops=read.table(paste(pd,fh,\".pops\",sep=\"\"))$V1\n",
    "subset=args[4]\n",
    "for (K in c(as.numeric(args[5]))) {\n",
    "    tbl=read.table(paste(pd,fh,\".\",K,\".wID.Q\",sep=\"\"))\n",
    "    #tbl=tbl[with(tbl,order(tbl[,K+3],tbl[,4],tbl[,1],tbl[,2],tbl[,3])),]\n",
    "    tbl=tbl[with(tbl,order(tbl[,K+3])),]\n",
    "    for (i in 1:length(order)) {\n",
    "        #print (as.numeric(order[i]))\n",
    "        tbl=tbl[with(tbl,order(tbl[,as.numeric(order[i])])),]\n",
    "        \n",
    "    }\n",
    "    #tbl=tbl[with(tbl,order(tbl[,4],tbl[,1],tbl[,2],tbl[,3])),]\n",
    "    #if (K==4){\n",
    "    tblnames=c()\n",
    "    for (i in tbl[,K+3]) {\n",
    "        if (i %in% mypops) {\n",
    "             if (i %in% tblnames==TRUE) {\n",
    "                tblnames=c(tblnames,\" \")\n",
    "            }\n",
    "            else {\n",
    "                tblnames=c(tblnames,i)\n",
    "            }        \n",
    "        }\n",
    "    } \n",
    "    mycolnames=c()\n",
    "    for (i in 1:ncol(tbl)) {\n",
    "        if (i<=K) { mycolnames=c(mycolnames,i)}\n",
    "    }\n",
    "    mycolnames=c(mycolnames,\"Ind\",\"Sex\",\"Pop\")\n",
    "    colnames(tbl) = mycolnames\n",
    "    #}\n",
    "    #print (tbl)\n",
    "    png(paste(pd,\"images/\",fh,\".\",subset,\".\",K,\".png\",sep=\"\"),width=2400,height=600)\n",
    "    subtbl=subset(tbl,Pop%in%mypops)[,1:4]\n",
    "    #mynames=rep(\"\",nrow(subtbl))\n",
    "    mynames=subtbl$Pop\n",
    "    \n",
    "    barplot(t(as.matrix(subtbl)), col=rainbow(K),xlab=\"Individual #\", ylab=\"Ancestry\", border=NA,names.arg=tblnames,las=2,cex.names=0.7)\n",
    "    dev.off()\n",
    "    #for (mypop in mypops) {\n",
    "    #\tpng(paste(pd,\"images/\",fh,\".\",mypop,\".\",K,\".png\",sep=\"\")) #,width=2400,height=600)\n",
    "    #\tsubtbl=subset(tbl,V7==mypop)[,1:4]\n",
    "    #\tmynames=rep(\"\",nrow(subtbl))\n",
    "    #\tbarplot(t(as.matrix(subtbl)), col=rainbow(K),xlab=\"Individual #\", ylab=\"Ancestry\", border=NA,names.arg=mynames,las=2,cex.names=0.7)\n",
    "\t#\tdev.off()\n",
    "    #}\n",
    "    \n",
    "}"
   ]
  },
  {
   "cell_type": "code",
   "execution_count": null,
   "metadata": {
    "collapsed": true
   },
   "outputs": [],
   "source": []
  }
 ],
 "metadata": {
  "kernelspec": {
   "display_name": "Python 2",
   "language": "python",
   "name": "python2"
  },
  "language_info": {
   "codemirror_mode": {
    "name": "ipython",
    "version": 2
   },
   "file_extension": ".py",
   "mimetype": "text/x-python",
   "name": "python",
   "nbconvert_exporter": "python",
   "pygments_lexer": "ipython2",
   "version": "2.7.13"
  }
 },
 "nbformat": 4,
 "nbformat_minor": 2
}
