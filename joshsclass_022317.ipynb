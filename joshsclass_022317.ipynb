{
 "cells": [
  {
   "cell_type": "code",
   "execution_count": 3,
   "metadata": {
    "collapsed": false
   },
   "outputs": [
    {
     "name": "stdout",
     "output_type": "stream",
     "text": [
      "Writing /home/melinda_yang/greatapes/makebed_rand1000.py\n"
     ]
    }
   ],
   "source": [
    "%%writefile /home/melinda_yang/greatapes/makebed_rand1000.py\n",
    "##Choose random 100,000 SNPs in bed file for analysis\n",
    "import random\n",
    "##From wc -l Intersect_filtered_cov8.bed, 58590226 lines\n",
    "#randomlines=range(700123)\n",
    "#random.shuffle(randomlines)\n",
    "#randomlines=randomlines[:100000]\n",
    "#randomlines.sort()\n",
    "#while len(randomlines) < 100000:\n",
    "#    randset=set([random.randint(0,58590226) for i in range(100000)])\n",
    "#    randomlines=randomlines.union(randset)\n",
    "#    \n",
    "#randomlines=list(randomlines)[0:100000]\n",
    "\n",
    "randomlines=range(100000)\n",
    "random.shuffle(randomlines)\n",
    "randomlines=randomlines[:1000]\n",
    "randomlines.sort()\n",
    "\n",
    "pD=\"/home/melinda_yang/greatapes/\"\n",
    "#bedfile=open(pD+\"Intersect_filtered_cov8_chr21.bed\",'r')\n",
    "#newfile=open(pD+\"Intersect_filtered_cov8_chr21_rand100000.bed\",'w')\n",
    "bedfile=open(pD+\"Intersect_filtered_cov8_chr21_rand100000.bed\",'r')\n",
    "newfile=open(pD+\"Intersect_filtered_cov8_chr21_rand1000.bed\",'w')\n",
    "for ind,line in enumerate(bedfile):\n",
    "    if ind not in randomlines: continue\n",
    "    else: newfile.write(line)\n",
    "        \n",
    "bedfile.close()\n",
    "newfile.close()\n"
   ]
  },
  {
   "cell_type": "code",
   "execution_count": 5,
   "metadata": {
    "collapsed": false
   },
   "outputs": [
    {
     "name": "stdout",
     "output_type": "stream",
     "text": [
      "[3, 1, 2]\n",
      "[1, 2, 3]\n"
     ]
    }
   ],
   "source": [
    "import random\n",
    "x=[1,2,3]\n",
    "random.shuffle(x)\n",
    "print x\n",
    "x.sort()\n",
    "print x"
   ]
  },
  {
   "cell_type": "raw",
   "metadata": {},
   "source": []
  },
  {
   "cell_type": "code",
   "execution_count": 3,
   "metadata": {
    "collapsed": false
   },
   "outputs": [
    {
     "name": "stdout",
     "output_type": "stream",
     "text": [
      "[4, 3, 1, 2]\n"
     ]
    }
   ],
   "source": [
    "%%writefile /home/melinda_yang/greatapes/makegeno_cov8_rand100000.py\n",
    "##Make geno file to put in diff() in R\n",
    "from pysam import VariantFile\n",
    "import pysam\n",
    "import numpy as np\n",
    "\n",
    "pD=\"/home/melinda_yang/greatapes/\"\n",
    "mysets=\"greatapes\"\n",
    "\n",
    "bedfile=open(pD+\"Intersect_filtered_cov8_rand100000.bed\",'r')\n",
    "vcfin=VariantFile(pD+mysets+\".vcf.gz\")\n",
    "mychr=\"chr21\"\n",
    "header = list(vcfin.header.samples)\n",
    "mydiff=np.zeros((len(header),len(header)))\n",
    "mygenos={\"1/1\":'2',\"0/0\":'0',\"1/0\":'1',\"0/1\":'1',\"./.\":'2'}\n",
    "genofile=open(pD+mysets+\".\"+mychr+\".geno\",'w')\n",
    "genofile.write(' '.join(header)+'\\n')\n",
    "snpfile=open(pD+mysets+\".\"+mychr+\".snp\",'w')\n",
    "\n",
    "for ind,line in enumerate(bedfile):\n",
    "    x=line.split()\n",
    "    #if x[0] != mychr: continue\n",
    "    if ind%100000==0: print line\n",
    "    for pos in range(int(x[1]),int(x[2])):\n",
    "        for entry in vcfin.fetch(x[0],pos-1,pos):\n",
    "            alleles=list(entry.alleles)\n",
    "            if len(alleles) != 2: continue\n",
    "            genos=[mygenos[geno.split(':')[0]] for geno in str(entry).split('\\t')[9:]]\n",
    "            if len(set(genos)) == 1: continue\n",
    "            genofile.write(' '.join(genos)+'\\n')\n",
    "            snpfile.write(x[0]+'\\t'+str(pos)+'\\n')\n",
    "    #if num == 10: break\n",
    "            #print mydiff\n",
    "            #if num == 10: break\n",
    "    \n",
    "#np.savetxt(pD+mysets+\"cov8.fixedalt.\"+mychr,mydiff,fmt=\"%.1f\",comments=\"#\".join(header))     "
   ]
  },
  {
   "cell_type": "code",
   "execution_count": 6,
   "metadata": {
    "collapsed": false
   },
   "outputs": [
    {
     "name": "stdout",
     "output_type": "stream",
     "text": [
      "Overwriting /home/melinda_yang/greatapes/sandpi.py\n"
     ]
    }
   ],
   "source": [
    "%%writefile /home/melinda_yang/greatapes/sandpi.py\n",
    "##sandpi.py\n",
    "\n",
    "##DETERMINE S and PI\n",
    "\n",
    "from pysam import VariantFile\n",
    "import pysam\n",
    "import numpy as np\n",
    "import random\n",
    "pD=\"/home/melinda_yang/greatapes/\"\n",
    "mysets=\"greatapes.fixedchr21\"\n",
    "\n",
    "##CAVEAT: ./. has same meaning as 0/0, see problem __ for why\n",
    "##Give heterozygotes a count of 0.5--pretend each individual is haploid\n",
    "\n",
    "mygenos={\"1/1\":1,\"0/0\":0,\"1/0\":0.5,\"0/1\":0.5,\"./.\":0} \n",
    "\n",
    "bedfile=open(pD+\"Intersect_filtered_cov8_chr21_rand1000.bed\",'r')\n",
    "vcfin=VariantFile(pD+mysets+\".vcf.gz\")\n",
    "mychr=\"chr21\"\n",
    "header = list(vcfin.header.samples)\n",
    "seqary=np.zeros((1,len(header))) ##EACH ROW IS A SNP, EACH COLUMN IS AN INDIVIDUAL\n",
    "\n",
    "num=0\n",
    "for ind,line in enumerate(bedfile):\n",
    "    x=line.split()\n",
    "    if ind%100==0: print ind\n",
    "    #if ind==100: break\n",
    "    for pos in range(int(x[1]),int(x[2])):\n",
    "        for entry in vcfin.fetch(x[0],pos-1,pos):\n",
    "            if len(entry.alleles) != 2: continue  #print \"Not BIALLELIC!\";  ##Check if biallelic\n",
    "            ref,alt=tuple(entry.alleles)\n",
    "            genos=[mygenos[geno.split(':')[0]] for geno in str(entry).split('\\t')[9:]]\n",
    "            genos=[random.choice([0,1]) if i == 0.5 else i for i in genos]\n",
    "            genos=np.array(genos)\n",
    "            if num==0: seqary=genos\n",
    "            else: seqary=np.vstack((seqary,genos))\n",
    "            num+=1\n",
    "np.savetxt(pD+\"greatapes_Spi.txt\",seqary,fmt=\"%.1f\",comments=\"#\".join(header))\n",
    "#print header\n",
    "\n",
    "#genera=[\"Gorilla\",\"Homo\",\"Pan\",\"Pongo\"]\n",
    "#myapeinds=[sorted(random.sample([ind for ind,i in enumerate(header) if myspecies in i],9)) for myspecies in genera]\n",
    "genera=['beringei','gorilla','sapiens','paniscus','troglodytes','abelii','pygmaeus']\n",
    "myapeinds=[[ind for ind,i in enumerate(header) if myspecies in i] for myspecies in genera]\n",
    "\n",
    "for ind,myape in enumerate(myapeinds):\n",
    "    myary=seqary[:,myape]\n",
    "\n",
    "    S = sum([1 for i in np.sum(myary,axis=1) if i not in [0,myary.shape[1]]]) ##Find sites where all fixed ref or alt\n",
    "    pairdiff=[]\n",
    "    for myind1 in range(myary.shape[1]):\n",
    "        for myind2 in range(myary.shape[1]):\n",
    "            if myind1>=myind2: continue\n",
    "            else: pairdiff.append(np.sum(np.count_nonzero(myary[:,myind1]-myary[:,myind2])))\n",
    "    pi = sum(pairdiff)/float(len(pairdiff))\n",
    "    \n",
    "    print genera[ind], S, pi\n",
    "\n"
   ]
  },
  {
   "cell_type": "code",
   "execution_count": 24,
   "metadata": {
    "collapsed": false
   },
   "outputs": [
    {
     "name": "stdout",
     "output_type": "stream",
     "text": [
      "Overwriting /home/melinda_yang/greatapes/sandpi.py\n"
     ]
    }
   ],
   "source": [
    "%%writefile /home/melinda_yang/greatapes/sandpi.py\n",
    "##sandpi.py\n",
    "##Answer for Class\n",
    "\n",
    "##DETERMINE S and PI\n",
    "##input number of samples and a list of genera (separated by ',') to include for the genus\n",
    "##EXAMPLE python sandpi.py 5 Homo,Gorilla\n",
    "\n",
    "import sys\n",
    "import pysam\n",
    "import numpy as np\n",
    "import random\n",
    "\n",
    "pD=\"/home/melinda_yang/greatapes/\" ##Set this to whatever directory your data is in\n",
    "samplecount,genera=int(sys.argv[1]),sys.argv[2].split(',') ##Read input options into variables\n",
    "bedfile=open(pD+\"Intersect_filtered_cov8_chr21_rand1000.bed\",'r') ##BED FILE\n",
    "vcfin=pysam.VariantFile(pD+\"greatapes.fixedchr21.vcf.gz\") ##VCF FILE\n",
    "header = list(vcfin.header.samples)  ##Get list of all IDs in header\n",
    "\n",
    "#####      MAKE GENOTYPE ARRAY FOR ALL INDIVIDUALS\n",
    "seqary=np.zeros((1,len(header))) ##EACH ROW IS A SNP, EACH COLUMN IS AN INDIVIDUAL\n",
    "num=0 ##Index to count number of SNPs that we wanted to keep for analysis \n",
    "for ind,line in enumerate(bedfile): ##Loop over every set of SNPs in BED file\n",
    "    x=line.split()\n",
    "    ##if ind%100==0: print ind  ##A way I check to see how long it's taking to go through bed file\n",
    "    for pos in range(int(x[1]),int(x[2])):\n",
    "        for entry in vcfin.fetch(x[0],pos-1,pos): ##Use .fetch (pysam method) to run through and grab the line for each position in the VCF\n",
    "            if len(entry.alleles) != 2: continue ##Check if biallelic; continue if not\n",
    "            ref,alt=tuple(entry.alleles) ##Not necessary for computation, but way to call alleles in vcf\n",
    "            ##Grab genotypes for all individuals, marking them as 0 or 1 depending on genotype\n",
    "            genos=[] \n",
    "            for geno in str(entry).split('\\t')[9:]:\n",
    "                vcfgeno=geno.split(':')[0]\n",
    "                if vcfgeno in ['1/1']: genos.append(1)\n",
    "                elif vcfgeno in ['0/0','./.']: genos.append(0) ##Treat ./. as fixed for reference allele\n",
    "                elif vcfgeno in ['1/0','0/1']: genos.append(random.choice([0,1])) ##Randomly choose allele for heterozygotes\n",
    "                else: print 'what is vcfgeno?',vcfgeno ##Just a check to make sure I don't miss anything\n",
    "            genos=np.array(genos)\n",
    "            if num==0: seqary=genos ##Create array of genotypes at first line with information\n",
    "            else: seqary=np.vstack((seqary,genos)) ##Add new genotypes for next line to array of genotypes\n",
    "            num+=1 ##Keeping track of every SNP we used in analysis\n",
    "##Save all genotype information into an array using np.savetxt (use np.loadtxt to retrieve)\n",
    "np.savetxt(pD+\"greatapes_genos.txt\",seqary,fmt=\"%.1f\",comments=\"#\".join(header)) \n",
    "#####\n",
    "\n",
    "##If you do not want to make the genotype array every run, you can comment out everything\n",
    "##included in the ##### above\n",
    "seqary=np.loadtxt(pD+\"greatapes_genos.txt\") ##Loads genotype array if you ran the part in #####\n",
    "\n",
    "##Find random set of indices (with count based on \"samplecount\") for each genera included.\n",
    "##Add these indices to dictionary with keys as each genera\n",
    "myapeinds={}\n",
    "for ind,speciesind in enumerate(header):\n",
    "    genusname=speciesind.split('_')[0] ##Grab the genus from the entire individual's ID\n",
    "    if genusname not in myapeinds: myapeinds[genusname]=[ind] ##Initialize each dictionary entry\n",
    "    else: myapeinds[genusname].append(ind) ##Add new indices to correct dictionary entry\n",
    "\n",
    "##Get random sample of each genus\n",
    "for mygenus in genera: myapeinds[mygenus]=sorted(random.sample(myapeinds[mygenus],samplecount))\n",
    "print myapeinds  ##Dictionary of indices for each genus wanted      \n",
    "\n",
    "##This for loop goes through the genotype array and picks out the columns \n",
    "##including the individuals I want to calculate S and pi\n",
    "for myape in myapeinds: \n",
    "    myary=seqary[:,myapeinds[myape]] ##Get array of genotypes for individuals you want\n",
    "    ##Find S: Add 1 for each site that is not fixed reference or fixed alternative\n",
    "    S=0\n",
    "    for i in np.sum(myary,axis=1):\n",
    "        if i not in [0,myary.shape[1]]: S+=1\n",
    "        \n",
    "    #Calculate pi: For every pair of individuals, subtract their array of sites and find all \n",
    "    ##non-zero entries (where the two individuals are dissimilar). These are given a value of 1\n",
    "    ##using np.count_nonzero. Thus, summing across the new array of differences, gives the total \n",
    "    ##number of differences between those two individuals, which are added to a list, for which \n",
    "    ##calculate the average.\n",
    "    pairdiff=[]\n",
    "    for myind1 in range(myary.shape[1]):\n",
    "        for myind2 in range(myary.shape[1]):\n",
    "            if myind1>=myind2: continue ##Don't accidentally include a pair more than once!\n",
    "            else: pairdiff.append(np.sum(np.count_nonzero(myary[:,myind1]-myary[:,myind2])))\n",
    "    pi = sum(pairdiff)/float(len(pairdiff)) #Get average for pi\n",
    "    \n",
    "    print myape, S, pi\n",
    "\n"
   ]
  },
  {
   "cell_type": "code",
   "execution_count": null,
   "metadata": {
    "collapsed": true
   },
   "outputs": [],
   "source": []
  }
 ],
 "metadata": {
  "kernelspec": {
   "display_name": "Python 2",
   "language": "python",
   "name": "python2"
  },
  "language_info": {
   "codemirror_mode": {
    "name": "ipython",
    "version": 2
   },
   "file_extension": ".py",
   "mimetype": "text/x-python",
   "name": "python",
   "nbconvert_exporter": "python",
   "pygments_lexer": "ipython2",
   "version": "2.7.6"
  }
 },
 "nbformat": 4,
 "nbformat_minor": 2
}
