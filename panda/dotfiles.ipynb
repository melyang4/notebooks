{
 "cells": [
  {
   "cell_type": "code",
   "execution_count": 7,
   "metadata": {},
   "outputs": [
    {
     "name": "stderr",
     "output_type": "stream",
     "text": [
      "Warning: /mnt/solexa/mel_yang/panda/grLS2Sichuan_MINW1e6.Y1e6.dot:4: string ran past end of line\n",
      "Warning: /mnt/solexa/mel_yang/panda/grLS2Sichuan_MINW1e6.Y1e6.dot:5: string ran past end of line\n"
     ]
    }
   ],
   "source": [
    "%%bash \n",
    "pd=\"/mnt/solexa/mel_yang/panda/\"\n",
    "fh=\"grLS2Sichuan_MINW1e6.Y1e6\"\n",
    "#fh=\"grLS2Sichuan_MINY1e0.Y1e3\"\n",
    "#fh=\"grLS2Sichuan_MINY1e0.Y1e6\"\n",
    "#fh=\"grLS2Sichuan_MINY1e2.Y1e3\"\n",
    "#fh=\"grMIN1Sichuan_LSY1Y1.Y1e2\"\n",
    "#fh=\"grMIN1XSJa2.Y1e4\"\n",
    "#fh=\"grMIN3Sichuan_LSY1e0.Y1e3\"\n",
    "dot -Tps ${pd}${fh}.dot > ${pd}${fh}.ps\n",
    "ps2pdf ${pd}${fh}.ps ${pd}${fh}.pdf"
   ]
  },
  {
   "cell_type": "code",
   "execution_count": null,
   "metadata": {
    "collapsed": true
   },
   "outputs": [],
   "source": []
  }
 ],
 "metadata": {
  "kernelspec": {
   "display_name": "Python 2",
   "language": "python",
   "name": "python2"
  },
  "language_info": {
   "codemirror_mode": {
    "name": "ipython",
    "version": 2
   },
   "file_extension": ".py",
   "mimetype": "text/x-python",
   "name": "python",
   "nbconvert_exporter": "python",
   "pygments_lexer": "ipython2",
   "version": "2.7.13"
  }
 },
 "nbformat": 4,
 "nbformat_minor": 2
}
