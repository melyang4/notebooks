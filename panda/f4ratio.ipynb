{
 "cells": [
  {
   "cell_type": "code",
   "execution_count": 4,
   "metadata": {},
   "outputs": [
    {
     "name": "stdout",
     "output_type": "stream",
     "text": [
      "Overwriting /mnt/solexa/mel_yang/panda/calcf4ratio.py\n"
     ]
    }
   ],
   "source": [
    "%%writefile /mnt/solexa/mel_yang/panda/calcf4ratio.py\n",
    "##also do several SGDP indivs!\n",
    "import plotting_funcs as pf\n",
    "import projmodules as pm\n",
    "from subprocess import Popen, PIPE\n",
    "\n",
    "pD = '/public/adna/qiaomei_fu/panda/geno/F4.mask0.9_random_25K8K_noO_2ind/'\n",
    "outpd=\"/mnt/solexa/mel_yang/panda/f4ratio/\"\n",
    "fh = 'data'\n",
    "\n",
    "outs=[\"polarbear\"]\n",
    "pdp=[\"Shaanxi_QIN\",\"Gansu_MIN\",\"Sichuan_MIN\",\"Sichuan_QIO\",\n",
    "     \"Sichuan_DXL\",\"Sichuan_XXL\",\"Sichuan_LS\"]\n",
    "\n",
    "\n",
    "subset = 'X_PDP_C_XSJ_A_CZT_B_QIN'\n",
    "Xs = pdp\n",
    "ABCs = [(\"25K\",\"Shaanxi_QIN\",'8K')]\n",
    "out = [\"polarbear\"]\n",
    "pm.f4runitall(ABCs, Xs, out, pD, fh, subset,outpd=outpd)"
   ]
  },
  {
   "cell_type": "code",
   "execution_count": null,
   "metadata": {
    "collapsed": true
   },
   "outputs": [],
   "source": []
  }
 ],
 "metadata": {
  "kernelspec": {
   "display_name": "Python 2",
   "language": "python",
   "name": "python2"
  },
  "language_info": {
   "codemirror_mode": {
    "name": "ipython",
    "version": 2
   },
   "file_extension": ".py",
   "mimetype": "text/x-python",
   "name": "python",
   "nbconvert_exporter": "python",
   "pygments_lexer": "ipython2",
   "version": "2.7.13"
  }
 },
 "nbformat": 4,
 "nbformat_minor": 2
}
