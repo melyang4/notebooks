{
 "cells": [
  {
   "cell_type": "code",
   "execution_count": 29,
   "metadata": {},
   "outputs": [
    {
     "name": "stdout",
     "output_type": "stream",
     "text": [
      "grx2Sichuan_LSY1e0.Y1e5.png 1 1.698\n",
      "grx2Sichuan_LSY1e4.Y1e5.png 1 -1.547\n",
      "grx2Sichuan_LSY1e5.Y1e6.png 1 -1.548\n",
      "grx4MINY1e2.Y1e6.png 1 -1.69\n",
      "grx5MINY1e2.Y1e5.png 1 1.698\n",
      "grx5MINY1e2.Y1e6.png 1 -1.694\n",
      "grx5MINY1e4.Y1e5.png 1 -1.547\n",
      "grx10Sichuan_LSW1W1.Y1e6.png 1 1.179\n",
      "grx11Sichuan_LSY1e3.Y1e4.png 1 -1.721\n",
      "grx13Sichuan_LSY1e2.Y1e6.png 1 1.475\n",
      "grx13Sichuan_LSY1e4.Y1e5.png 1 1.527\n",
      "grx13Sichuan_LSY1e4.Y1e6.png 1 -1.538\n",
      "grx13Sichuan_LSY1Y1.Y1e4.png 1 1.7\n",
      "grx15MINW1W1.Y1e5.png 1 -0.964\n",
      "grx15MINY1Y1.Y1e4.png 1 -1.721\n",
      "grx15MINY1Y1.Y1e6.png 1 -1.72\n",
      "grx18MINW1e2.Y1e5.png 1 -1.466\n",
      "grx18MINY1e0.Y1e5.png 1 -1.465\n",
      "grx18MINY1e2.Y1e5.png 1 -1.496\n",
      "grx18MINY1e3.Y1e4.png 1 1.7\n",
      "grx18MINY1e3.Y1e6.png 1 -1.688\n",
      "grx18MINY1e4.Y1e5.png 1 -1.527\n",
      "grx18MINY1Y1.Y1e4.png 1 1.528\n",
      "grx19Sichuan_LSb2.W1e6.png 1 -1.254\n",
      "grx19Sichuan_LSW1e2.Y1e3.png 1 1.322\n",
      "grx19Sichuan_LSW1W1.W1e6.png 1 1.179\n",
      "grx20Sichuan_LSb2.W1e6.png 1 -1.32\n",
      "grx20Sichuan_LSW1e2.W1e6.png 1 1.379\n",
      "grx20Sichuan_LSW1W1.Y1e3.png 1 -1.394\n",
      "grx24Shaanxi_QINW1e3.W1e4.png 1 -1.32\n"
     ]
    }
   ],
   "source": [
    "## Grab all the best trees, |maxZ|<2.5, no 100% admix, minimizing 0 branches\n",
    "\n",
    "from os import listdir\n",
    "from os import popen\n",
    "\n",
    "pd=\"/public/adna/qiaomei_fu/panda/geno/test_tped/CZT_C_XSJ_34/qpgraph/add_one/add_one/\"\n",
    "\n",
    "for i in range(1,39):\n",
    "    bestpng=listdir(pd+\"grx_%i\" % i)\n",
    "    for png in bestpng:\n",
    "        outfilename=pd+png[:-3]+\"out\"\n",
    "        z=float([j for j in popen('grep \"worst f-stat:\" '+outfilename,'r',1)][0].split()[-1])\n",
    "        if z>2.5 or z<-2.5: continue   #print outfilename,z;       \n",
    "        name=pd+png[:-3]+\"ggg\"\n",
    "        labels,vertices,ledges,redges,admixes=([],[],[],[],[])\n",
    "        for line in open(name,'r'):\n",
    "            x=line.split()\n",
    "            if 'label' in x: labels.append(x); continue\n",
    "            if 'vertex' in x: vertices.append(x); continue\n",
    "            if 'ledge' in x: ledges.append(x); continue\n",
    "            if 'redge' in x: redges.append(x); continue\n",
    "            if 'admix' in x: admixes.append(x); continue\n",
    "        if len(labels)!=6: continue\n",
    "        if sum( [1 for j in admixes if float(j[-1]) > 0.995 or float(j[-1])<0.005 ] ) > 0: continue\n",
    "        numzeros = sum( [1 for j in ledges+redges if float(j[-1]) > 0.9995 or float(j[-1])<0.0005 ] )\n",
    "        \n",
    "        if numzeros == 1: print png, numzeros, z\n"
   ]
  },
  {
   "cell_type": "code",
   "execution_count": 36,
   "metadata": {
    "scrolled": true
   },
   "outputs": [
    {
     "name": "stdout",
     "output_type": "stream",
     "text": [
      "sed \"5d\" grx2Sichuan_LSY1e3.Y1e4.dot | sed \"4d\" | sed \"s/polarbear/PolarBear/g\" | sed \"s/Shaanxi_QIN/QIN/g\" | sed \"s/Sichuan_LS/LS/g\" > rev_grx2Sichuan_LSY1e3.Y1e4.dot\n",
      "dot -Tps rev_grx2Sichuan_LSY1e3.Y1e4.dot > rev_grx2Sichuan_LSY1e3.Y1e4.ps\n",
      "ps2pdf rev_grx2Sichuan_LSY1e3.Y1e4.ps rev_grx2Sichuan_LSY1e3.Y1e4.pdf\n",
      "sed \"5d\" grx2Sichuan_LSY1e3.Y1e6.dot | sed \"4d\" | sed \"s/polarbear/PolarBear/g\" | sed \"s/Shaanxi_QIN/QIN/g\" | sed \"s/Sichuan_LS/LS/g\" > rev_grx2Sichuan_LSY1e3.Y1e6.dot\n",
      "dot -Tps rev_grx2Sichuan_LSY1e3.Y1e6.dot > rev_grx2Sichuan_LSY1e3.Y1e6.ps\n",
      "ps2pdf rev_grx2Sichuan_LSY1e3.Y1e6.ps rev_grx2Sichuan_LSY1e3.Y1e6.pdf\n",
      "sed \"5d\" grx10Sichuan_LSb2.Y1e6.dot | sed \"4d\" | sed \"s/polarbear/PolarBear/g\" | sed \"s/Shaanxi_QIN/QIN/g\" | sed \"s/Sichuan_LS/LS/g\" > rev_grx10Sichuan_LSb2.Y1e6.dot\n",
      "dot -Tps rev_grx10Sichuan_LSb2.Y1e6.dot > rev_grx10Sichuan_LSb2.Y1e6.ps\n",
      "ps2pdf rev_grx10Sichuan_LSb2.Y1e6.ps rev_grx10Sichuan_LSb2.Y1e6.pdf\n",
      "sed \"5d\" grx10Sichuan_LSY1e2.Y1e6.dot | sed \"4d\" | sed \"s/polarbear/PolarBear/g\" | sed \"s/Shaanxi_QIN/QIN/g\" | sed \"s/Sichuan_LS/LS/g\" > rev_grx10Sichuan_LSY1e2.Y1e6.dot\n",
      "dot -Tps rev_grx10Sichuan_LSY1e2.Y1e6.dot > rev_grx10Sichuan_LSY1e2.Y1e6.ps\n",
      "ps2pdf rev_grx10Sichuan_LSY1e2.Y1e6.ps rev_grx10Sichuan_LSY1e2.Y1e6.pdf\n",
      "sed \"5d\" grx18MINW1W1.Y1e5.dot | sed \"4d\" | sed \"s/polarbear/PolarBear/g\" | sed \"s/Shaanxi_QIN/QIN/g\" | sed \"s/Sichuan_LS/LS/g\" > rev_grx18MINW1W1.Y1e5.dot\n",
      "dot -Tps rev_grx18MINW1W1.Y1e5.dot > rev_grx18MINW1W1.Y1e5.ps\n",
      "ps2pdf rev_grx18MINW1W1.Y1e5.ps rev_grx18MINW1W1.Y1e5.pdf\n",
      "sed \"5d\" grx21Shaanxi_QINa1.Y1Y1.dot | sed \"4d\" | sed \"s/polarbear/PolarBear/g\" | sed \"s/Shaanxi_QIN/QIN/g\" | sed \"s/Sichuan_LS/LS/g\" > rev_grx21Shaanxi_QINa1.Y1Y1.dot\n",
      "dot -Tps rev_grx21Shaanxi_QINa1.Y1Y1.dot > rev_grx21Shaanxi_QINa1.Y1Y1.ps\n",
      "ps2pdf rev_grx21Shaanxi_QINa1.Y1Y1.ps rev_grx21Shaanxi_QINa1.Y1Y1.pdf\n",
      "sed \"5d\" grx21Shaanxi_QINW1e0.Y1Y1.dot | sed \"4d\" | sed \"s/polarbear/PolarBear/g\" | sed \"s/Shaanxi_QIN/QIN/g\" | sed \"s/Sichuan_LS/LS/g\" > rev_grx21Shaanxi_QINW1e0.Y1Y1.dot\n",
      "dot -Tps rev_grx21Shaanxi_QINW1e0.Y1Y1.dot > rev_grx21Shaanxi_QINW1e0.Y1Y1.ps\n",
      "ps2pdf rev_grx21Shaanxi_QINW1e0.Y1Y1.ps rev_grx21Shaanxi_QINW1e0.Y1Y1.pdf\n",
      "sed \"5d\" grx24Shaanxi_QINa1.W1e5.dot | sed \"4d\" | sed \"s/polarbear/PolarBear/g\" | sed \"s/Shaanxi_QIN/QIN/g\" | sed \"s/Sichuan_LS/LS/g\" > rev_grx24Shaanxi_QINa1.W1e5.dot\n",
      "dot -Tps rev_grx24Shaanxi_QINa1.W1e5.dot > rev_grx24Shaanxi_QINa1.W1e5.ps\n",
      "ps2pdf rev_grx24Shaanxi_QINa1.W1e5.ps rev_grx24Shaanxi_QINa1.W1e5.pdf\n"
     ]
    }
   ],
   "source": [
    "pd=\"/mnt/solexa/mel_yang/panda/\"\n",
    "myfile=open(pd+\"qpgraph_best0.txt\",\"r\")\n",
    "for line in myfile:\n",
    "    if line[0]==\"#\": continue\n",
    "    x=line.split()\n",
    "    if int(x[1])==0: \n",
    "        #print x[0][:-4]+\".dot\"\n",
    "        #print \"scp -r mel_yang@comput14:/public/adna/qiaomei_fu/panda/geno/test_tped/CZT_C_XSJ_34/qpgraph/add_one/add_one/%s . \\n\" % (x[0][:-4]+\".png\")\n",
    "        dfs=x[0][:-4]\n",
    "        #print \"cp %s /mnt/solexa/mel_yang/panda/qpgraph/\" % (dfs + \".dot\")\n",
    "        \n",
    "        print 'sed \"5d\" %s | sed \"4d\" | sed \"s/polarbear/PolarBear/g\" | sed \"s/Shaanxi_QIN/QIN/g\" | sed \"s/Sichuan_LS/LS/g\" > rev_%s' % (dfs+\".dot\",dfs+\".dot\")\n",
    "        print 'dot -Tps rev_%s > rev_%s' % (dfs+\".dot\",dfs+\".ps\")\n",
    "        print 'ps2pdf rev_%s rev_%s' % (dfs+\".ps\",dfs+\".pdf\")"
   ]
  },
  {
   "cell_type": "code",
   "execution_count": null,
   "metadata": {
    "collapsed": true
   },
   "outputs": [],
   "source": []
  }
 ],
 "metadata": {
  "kernelspec": {
   "display_name": "Python 2",
   "language": "python",
   "name": "python2"
  },
  "language_info": {
   "codemirror_mode": {
    "name": "ipython",
    "version": 2
   },
   "file_extension": ".py",
   "mimetype": "text/x-python",
   "name": "python",
   "nbconvert_exporter": "python",
   "pygments_lexer": "ipython2",
   "version": "2.7.13"
  }
 },
 "nbformat": 4,
 "nbformat_minor": 2
}
