{
 "cells": [
  {
   "cell_type": "code",
   "execution_count": 1,
   "metadata": {
    "collapsed": false
   },
   "outputs": [
    {
     "data": {
      "text/plain": [
       "'Made par file for convertf!'"
      ]
     },
     "execution_count": 1,
     "metadata": {},
     "output_type": "execute_result"
    }
   ],
   "source": [
    "import projmodules as pm\n",
    "\n",
    "eas=[\"Oroqen\",\"Daur\",\"Hezhen\",\"Xibo\",\"Japanese\",\"Korean\",\n",
    "        \"Tu\",\"Han\",\"Tujia\",\"Miao\",\"Yi\",\"She\",\"Naxi\",\"Atayal\",\n",
    "        \"Ami\",\"Lahu\",\"Dai\",\"Kinh\",\"Burmese\",\"Thai\",\"Cambodian\",\"Tibetan\",\"Uygur\"]\n",
    "samer=[\"Clovis\",\"Pima\",\"Mayan\",\"Mixe\",\"Zapotec\",\"Piapoco\",\n",
    "        \"Karitiana\",\"Surui\",\"Quechua\",\"Chane\",\"Nahua\",\n",
    "        \"Cree\",\"Chipewyan\",'Saqqaq']\n",
    "sib=[\"Aleut\",\"Tlingit\",\"Mansi\",\"Chukchi\",\"Tubalar\",\"Kyrgyz\",\"Ulchi\",\n",
    "    \"Mongola\",\"Altaian\",\"Even\",\"Yakut\",\"Itelman\",\n",
    "    \"Eskimo_Sireniki\",\"Eskimo_Naukan\",\"Eskimo_Chaplin\"]\n",
    "pacific=[\"Onge\",\"Papuan\",\"Maori\",\"Igorot\",\"Hawaiian\",\n",
    "         \"Dusun\",\"Bougainville\",\"Australian\"]\n",
    "oasia=[\"Sherpa\",\"Kusunda\"]\n",
    "ancids=['Yana_old','Yana_old2',\"Tianyuan\",'Longlin','Longlin_com','Xinyi',\n",
    "        'Xinyi_other','LiangDaoChineseNeolithic','Boisman_MN',\n",
    "        'BoshanChineseNeolithic','Bbdong','Linzi','HDYM1','HQSDW',\n",
    "        'Zongri','Pukagongma','Chokhopani1','Mebrak','Samdzong',\n",
    "        'Kolyma_River',\"Donghuigou\",\"Balikun\"]\n",
    "eup=[\"UstIshim\",\"Oase1\",\"Tianyuan\",\"Kostenki14\",\"GoyetQ116-1\",\n",
    "     \"Vestonice16\",\"Yana_old\",\"Yana_old2\",\n",
    "     \"Malta1\",'AfontovaGora3',\"ElMiron\",\"Villabruna\",\"Bichon\",\n",
    "     \"Satsurblia\",\"Kotias\",\"Karelia\",\"Motala12\",\"Loschbour\",\"LaBrana1\",\n",
    "     \"Hungarian.KO1\",\"Stuttgart\",\"French\",\"Sardinian\",\"Saami\"]\n",
    "allids=eup+eas+ancids+samer+sib+pacific+oasia\n",
    "\n",
    "baseDir = \"/home/melinda_yang/data/2.2M/\"\n",
    "fh=\"UPA_all8\"\n",
    "newname = 'ALL01'\n",
    "pm.indtoignore(allids, baseDir+fh+'.ind', baseDir+fh+'.'+newname+'.ind')\n",
    "pm.convertf_par(baseDir+fh,baseDir+fh+'.'+newname+'.ped','PED',baseDir+\n",
    "                'CONVERTF.'+fh+'.'+newname+'.par',indfilename=baseDir+fh+'.'+newname)\n"
   ]
  },
  {
   "cell_type": "code",
   "execution_count": 1,
   "metadata": {
    "collapsed": false
   },
   "outputs": [
    {
     "name": "stdout",
     "output_type": "stream",
     "text": [
      "plink --noweb --bfile /home/melinda_yang/projects/bronzeage/2.2M_analysis/admixture/UPA_all8.ALL01 --extract /home/melinda_yang/projects/bronzeage/2.2M_analysis/admixture/UPA_all8.ALL01_plink.200_25_0.5.prune.in --make-bed --out /home/melinda_yang/projects/bronzeage/2.2M_analysis/admixture/UPA_all8.ALL01_plink.200_25_0.5\n"
     ]
    }
   ],
   "source": [
    "%%bash\n",
    "pd=\"/home/melinda_yang/projects/bronzeage/2.2M_analysis/admixture/\" #NEED TO MOVE TO admixture/ FIRST\n",
    "fh=\"UPA_all8.ALL01\"\n",
    "idp=\".200_25_0.5\"\n",
    "#cp ${pd}${fh}.ped.geno ${pd}${fh}.ped\n",
    "#cp ${pd}${fh}.ped.ind ${pd}${fh}.pedind\n",
    "#cut -c1-41 ${pd}${fh}.ped.snp > ${pd}${fh}.map\n",
    "\n",
    "#echo \"plink --noweb --file ${pd}${fh} --make-bed --out ${pd}${fh} --geno 0.999\"\n",
    "\n",
    "\n",
    "\n",
    "#echo \"plink --noweb --bfile ${pd}${fh} --indep-pairwise 200 25 0.5 --out ${pd}${fh}_plink${idp}\"\n",
    "\n",
    "echo \"plink --noweb --bfile ${pd}${fh} --extract ${pd}${fh}_plink${idp}.prune.in --make-bed --out ${pd}${fh}_plink${idp}\"  ##Keep set of untargeted SNPs from above\n",
    "\n",
    "##plink --noweb --bfile ${pd}${fh} --indep-pairwise 50 10 0.1  ##Prune dataset, using 50 SNP windows, step 10 SNPs, remove SNP pairs with R^2>0.1\n",
    "##mv plink* .\n",
    "#plink --noweb --bfile ${pd}${fh} --indep-pairwise 200 25 0.5 --out ${pd}plink${idp}\n",
    "#plink --noweb --bfile ${pd}${fh} --extract ${pd}plink${idp}.prune.in --make-bed --out ${pd}${fh}_pruned${idp}  ##Keep set of untargeted SNPs from above"
   ]
  },
  {
   "cell_type": "code",
   "execution_count": 2,
   "metadata": {
    "collapsed": false
   },
   "outputs": [
    {
     "name": "stdout",
     "output_type": "stream",
     "text": [
      "Writing /home/melinda_yang/projects/bronzeage/2.2M_analysis/admixture/UPA_all8.ALL01_runadmixture.sh\n"
     ]
    }
   ],
   "source": [
    "%%writefile /home/melinda_yang/projects/bronzeage/2.2M_analysis/admixture/UPA_all8.ALL01_runadmixture.sh\n",
    "#%%bash\n",
    "##also do cv at runadmixturecv.sh\n",
    "\n",
    "pd=\"/home/melinda_yang/projects/bronzeage/2.2M_analysis/admixture/\"\n",
    "fh=\"UPA_all8.ALL01_plink.200_25_0.5\"\n",
    "for K in `seq 2 10`; do \n",
    "    admixture --cv ${pd}${fh}.bed ${K} > ${pd}${fh}.admix.log${K}.out\n",
    "    #admixture ${pd}${fh}.bed ${K} > ${pd}${fh}.admix.${K}.out &\n",
    "    #admixture --cv ${pd}${fh}.bed ${K} | tee ${pd}${fh}.admix.log${K}.out\n",
    "    #echo \"admixture --cv ${pd}${fh}.bed ${K} > ${pd}${fh}.admix.log${K}.out\"\n",
    "    #echo \"admixture ${pd}${fh}.bed ${K} > ${pd}${fh}.admix.${K}.out\"\n",
    "done\n",
    "\n",
    "grep -h CV ${pd}${fh}.admix.log*out > ${pd}${fh}.admix.CVerror ##get CVerrors"
   ]
  },
  {
   "cell_type": "code",
   "execution_count": 13,
   "metadata": {
    "collapsed": false
   },
   "outputs": [
    {
     "name": "stdout",
     "output_type": "stream",
     "text": [
      "Overwriting /mnt/solexa/mel_yang/bronzeage/admixture/admixtureplot.R\n"
     ]
    }
   ],
   "source": [
    "%%writefile /mnt/solexa/mel_yang/bronzeage/admixture/admixtureplot.R\n",
    "##MAKE ADMIXTURE PLOT\n",
    "pd=\"/mnt/solexa/mel_yang/bronzeage/admixture/\"\n",
    "fh=\"ind_A_v13_TBH4.HOanceas_wEur_pruned.200_25_0.5\"\n",
    "mypops=c(\"Tianyuan\",\"Boshan\",\"Donghuigou\",\"Balikun\",\"Zhougongmiao\",\"Yaojia\",\"Linzi\",\"XianShang\",\n",
    "        \"Zongri\",\"Huoshaogou\",\"Wuba\",\"Xiaoshuangqiao\",\"Guandimiao\",\"Shengedaliang\",\n",
    "        \"Muzhuzhuliang\",\"Xinhua\",\"Wuzhuangguo\",\"Shimao\",\"Tonglin\",\"French\",\"Han_NChina\")\n",
    "#for (K in c(2,3,4,5,6,7,8,9,10)) {\n",
    "for (K in c(2,3,4)) {\n",
    "    tbl=read.table(paste(pd,fh,\".\",K,\".wID.Q\",sep=\"\"))\n",
    "    tbl=tbl[with(tbl,order(tbl[,K+3],tbl[,3],tbl[,1],tbl[,2],tbl[,4])),]\n",
    "    if (K==2){\n",
    "       tblnames=c()\n",
    "        for (i in tbl[,K+3]) {\n",
    "            if (i %in% tblnames==TRUE) {\n",
    "                tblnames=c(tblnames,\" \")\n",
    "            }\n",
    "            else {\n",
    "                tblnames=c(tblnames,i)\n",
    "            }\n",
    "        } \n",
    "    }\n",
    "    #png(paste(pd,\"images/\",fh,\".\",K,\".png\",sep=\"\"),width=2400,height=600)\n",
    "    #barplot(t(as.matrix(tbl)), col=rainbow(K),xlab=\"Individual #\", ylab=\"Ancestry\", border=NA,names.arg=tblnames,las=2,cex.names=0.7)\n",
    "    #dev.off()\n",
    "    for (mypop in mypops) {\n",
    "    \tpng(paste(pd,\"images/\",fh,\".\",mypop,\".\",K,\".png\",sep=\"\")) #,width=2400,height=600)\n",
    "    \tsubtbl=subset(tbl,tbl[,K+3]==mypop)[,1:4]\n",
    "    \tmynames=rep(\"\",nrow(subtbl))\n",
    "    \tbarplot(t(as.matrix(subtbl)), col=rainbow(K),xlab=\"Individual #\", ylab=\"Ancestry\", border=NA,names.arg=mynames,las=2,cex.names=0.7)\n",
    "\t\tdev.off()\n",
    "        }\n",
    "    \n",
    "    \n",
    "}\n"
   ]
  },
  {
   "cell_type": "code",
   "execution_count": 51,
   "metadata": {
    "collapsed": false
   },
   "outputs": [
    {
     "name": "stdout",
     "output_type": "stream",
     "text": [
      "Overwriting /mnt/solexa/mel_yang/bronzeage/admixture/admixtureplot.R\n"
     ]
    }
   ],
   "source": [
    "%%writefile /mnt/solexa/mel_yang/bronzeage/admixture/admixtureplot.R\n",
    "##MAKE ADMIXTURE PLOT\n",
    "pd=\"/mnt/solexa/mel_yang/bronzeage/admixture/\"\n",
    "fh=\"ind_A_v13_TBH4.HOanceas_wEur_pruned.200_25_0.5\"\n",
    "mypops=c(\"Tianyuan\",\"Boshan\",\"Donghuigou\",\"Balikun\",\"Zhougongmiao\",\"Yaojia\",\"Linzi\",\"XianShang\",\n",
    "        \"Zongri\",\"Huoshaogou\",\"Wuba\",\"Xiaoshuangqiao\",\"Guandimiao\",\"Shengedaliang\",\n",
    "        \"Muzhuzhuliang\",\"Xinhua\",\"Wuzhuangguo\",\"Shimao\",\"Tonglin\") #,\"French\",\"Han_NChina\",\"Han_Shandong\",\n",
    "        #\"Dai\",\"Ulchi\")\n",
    "subset='anc'\n",
    "for (K in c(4)) {\n",
    "    tbl=read.table(paste(pd,fh,\".\",K,\".wID.Q\",sep=\"\"))\n",
    "    tbl=tbl[with(tbl,order(tbl[,K+3],tbl[,4],tbl[,1],tbl[,2],tbl[,3])),]\n",
    "    if (K==4){\n",
    "       tblnames=c()\n",
    "        for (i in tbl[,K+3]) {\n",
    "        \tif (i %in% mypops) {\n",
    "                 if (i %in% tblnames==TRUE) {\n",
    "                    tblnames=c(tblnames,\" \")\n",
    "                }\n",
    "                else {\n",
    "                    tblnames=c(tblnames,i)\n",
    "                }        \n",
    "            }\n",
    "        } \n",
    "    }\n",
    "    png(paste(pd,\"images/\",fh,\".\",subset,\".\",K,\".png\",sep=\"\"),width=2400,height=600)\n",
    "    subtbl=subset(tbl,V7%in%mypops)[,1:4]\n",
    "    #mynames=rep(\"\",nrow(subtbl))\n",
    "    mynames=subtbl$V7\n",
    "    barplot(t(as.matrix(subtbl)), col=rainbow(K),xlab=\"Individual #\", ylab=\"Ancestry\", border=NA,names.arg=tblnames,las=2,cex.names=0.7)\n",
    "    dev.off()\n",
    "    #for (mypop in mypops) {\n",
    "    #\tpng(paste(pd,\"images/\",fh,\".\",mypop,\".\",K,\".png\",sep=\"\")) #,width=2400,height=600)\n",
    "    #\tsubtbl=subset(tbl,V7==mypop)[,1:4]\n",
    "    #\tmynames=rep(\"\",nrow(subtbl))\n",
    "    #\tbarplot(t(as.matrix(subtbl)), col=rainbow(K),xlab=\"Individual #\", ylab=\"Ancestry\", border=NA,names.arg=mynames,las=2,cex.names=0.7)\n",
    "\t#\tdev.off()\n",
    "    #}\n",
    "    \n",
    "}"
   ]
  },
  {
   "cell_type": "code",
   "execution_count": null,
   "metadata": {
    "collapsed": true
   },
   "outputs": [],
   "source": [
    "%%bash\n",
    "pd=\"/mnt/solexa/mel_yang/bronzeage/admixture/\"\n",
    "indfh=\"ind_A_v13_TBH4.HOanceas_wEur\"\n",
    "Qfh=\"ind_A_v13_TBH4.HOanceas_wEur_pruned.200_25_0.5\"\n",
    "K=2\n",
    "for K in 2 3 4; do # 5 6 7 8 9 10; do \n",
    "    grep -v Ignore ${pd}${indfh}.ind > ${pd}${indfh}.noIgnore.ind\n",
    "    paste ${pd}${Qfh}.${K}.Q ${pd}${indfh}.noIgnore.ind > ${pd}${Qfh}.${K}.wID.Q\n",
    "done"
   ]
  },
  {
   "cell_type": "code",
   "execution_count": 52,
   "metadata": {
    "collapsed": true
   },
   "outputs": [],
   "source": [
    "%%bash\n",
    "R CMD BATCH /mnt/solexa/mel_yang/bronzeage/admixture/admixtureplot.R\n",
    "mv /home/mel_yang/notebooks/bronzeage/admixtureplot.Rout /mnt/solexa/mel_yang/bronzeage/admixture/"
   ]
  },
  {
   "cell_type": "code",
   "execution_count": 53,
   "metadata": {
    "collapsed": false
   },
   "outputs": [
    {
     "data": {
      "image/png": "[encoded data removed]",
      "text/plain": [
       "<IPython.core.display.Image object>"
      ]
     },
     "execution_count": 53,
     "metadata": {},
     "output_type": "execute_result"
    }
   ],
   "source": [
    "from IPython.core.display import Image \n",
    "pd=\"/mnt/solexa/mel_yang/bronzeage/admixture/images/\"\n",
    "fh=\"ind_A_v13_TBH4.HOanceas_wEur_pruned.200_25_0.5\"\n",
    "subset=\"anc.\"\n",
    "K=4\n",
    "Image(pd+fh+\".\"+subset+str(K)+\".png\") "
   ]
  },
  {
   "cell_type": "code",
   "execution_count": null,
   "metadata": {
    "collapsed": true
   },
   "outputs": [],
   "source": []
  },
  {
   "cell_type": "code",
   "execution_count": null,
   "metadata": {
    "collapsed": true
   },
   "outputs": [],
   "source": []
  },
  {
   "cell_type": "code",
   "execution_count": null,
   "metadata": {
    "collapsed": true
   },
   "outputs": [],
   "source": []
  },
  {
   "cell_type": "code",
   "execution_count": null,
   "metadata": {
    "collapsed": true
   },
   "outputs": [],
   "source": []
  },
  {
   "cell_type": "code",
   "execution_count": null,
   "metadata": {
    "collapsed": true
   },
   "outputs": [],
   "source": []
  },
  {
   "cell_type": "code",
   "execution_count": null,
   "metadata": {
    "collapsed": true
   },
   "outputs": [],
   "source": [
    "import projmodules as pm\n",
    "\n",
    "pdeas=['Daur','Hezhen','Mongola','Naxi','Oroqen','Ulchi','Xibo','Dai','Dong','Gelao',\n",
    "        'Lahu','Li','Maonan','Miao','Mulam','She','Tujia','Yi','Zhuang','Cambodian',\n",
    "        'Han_Chongqing','Han_Fujian','Han_Guandong','Han_Henan','Han_HGDP','Han_Hubei',\n",
    "        'Han_Jiangsu','Han_NChina','Han_Shandong','Han_Shanghai','Han_Shanxi',\n",
    "        'Han_Sichuan','Han_Zhejiang','Kinh_Vietnam_KHV','Korean','Thai','Qiang_Horpa',\n",
    "        'Tibetan_Chamdo','Tibetan_Gangcha','Tibetan_Gannan','Tibetan_Lhasa',\n",
    "        'Tibetan_Nagqu','Tibetan_Shannan','Tibetan_Shigatse','Tibetan_Xinlong',\n",
    "        'Tibetan_Xunhua','Tibetan_Yajiang','Japanese','Ami_Stoneking','Atayal_Stoneking', ##where ended originally\n",
    "        'Tu','Dongxiang','Kyrgyz_China','Kyrgyz','Kazakh_China','Kazakh','Uygur','Mongol',\n",
    "        'Tibetan_Yunnan','Bunun','Tao','Burmese','Vietnamese','Paiwan','Rukai','Hakka',\n",
    "        'Minnan','Pingpu','Atayal_Coriell','Ami_Coriell','Bonan','Yugur_Eastern',\n",
    "        'Yugur_Western','Salar']\n",
    "pdeur=[\"French\",'Sardinian']\n",
    "\n",
    "baseDir = \"/home/mel_yang/projects/bronzeage/\"\n",
    "fh=\"ind_A_v13_TBH\"\n",
    "newname = 'allpdeas_weurFS'\n",
    "pm.indtoignore(pdeas+pdeur, baseDir+fh+'.ind', baseDir+fh+'.'+newname+'.ind')\n",
    "pm.convertf_par(baseDir+fh,baseDir+fh+'.'+newname+'.ped','PED',baseDir+\n",
    "                'CONVERTF.'+fh+'.'+newname+'.par',indfilename=baseDir+fh+'.'+newname)\n"
   ]
  },
  {
   "cell_type": "code",
   "execution_count": null,
   "metadata": {
    "collapsed": false
   },
   "outputs": [],
   "source": [
    "%%bash\n",
    "pd=\"/mnt/solexa/mel_yang/bronzeage/admixture/\"\n",
    "fh=\"ind_A_v13_TBH.allpdeas_weurFS\"\n",
    "idp=\".200_25_0.5\"\n",
    "#cp ${pd}${fh}.ped.geno ${pd}${fh}.ped\n",
    "#cp ${pd}${fh}.ped.ind ${pd}${fh}.pedind\n",
    "#cut -c1-41 ${pd}${fh}.ped.snp > ${pd}${fh}.map\n",
    "\n",
    "plink --noweb --file ${pd}${fh} --make-bed --out ${pd}${fh} --geno 0.999\n",
    "\n",
    "##plink --noweb --bfile ${pd}${fh} --indep-pairwise 50 10 0.1  ##Prune dataset, using 50 SNP windows, step 10 SNPs, remove SNP pairs with R^2>0.1\n",
    "##mv plink* .\n",
    "\n",
    "#echo \"plink --noweb --bfile ${pd}${fh} --indep-pairwise 200 25 0.5 --out ${pd}plink${idp}\"\n",
    "\n",
    "#plink --noweb --bfile ${pd}${fh} --indep-pairwise 200 25 0.5 --out ${pd}plink${idp}\n",
    "#plink --noweb --bfile ${pd}${fh} --extract ${pd}plink${idp}.prune.in --make-bed --out ${pd}${fh}_pruned${idp}  ##Keep set of untargeted SNPs from above"
   ]
  },
  {
   "cell_type": "code",
   "execution_count": null,
   "metadata": {
    "collapsed": false
   },
   "outputs": [],
   "source": [
    "%%bash\n",
    "#%%writefile /mnt/solexa/mel_yang/bronzeage/admixture/runadmixture.sh\n",
    "##also do cv at runadmixturecv.sh\n",
    "\n",
    "pd=\"/mnt/solexa/mel_yang/bronzeage/admixture/\"\n",
    "fh=\"ind_A_v13_TBH.allpdeas_weurFS_pruned.200_25_0.5\"\n",
    "#for K in `seq 2 10`; do \n",
    "    #admixture --cv ${pd}${fh}.bed ${K} > ${pd}${fh}.admix.log${K}.out\n",
    "    #admixture ${pd}${fh}.bed ${K} > ${pd}${fh}.admix.${K}.out &\n",
    "    #admixture --cv ${pd}${fh}.bed ${K} | tee ${pd}${fh}.admix.log${K}.out\n",
    "    #echo \"admixture --cv ${pd}${fh}.bed ${K} > ${pd}${fh}.admix.log${K}.out\"\n",
    "    #echo \"admixture ${pd}${fh}.bed ${K} > ${pd}${fh}.admix.${K}.out\"\n",
    "#done\n",
    "\n",
    "grep -h CV ${pd}${fh}.admix.log*out > ${pd}${fh}.admix.CVerror ##get CVerrors"
   ]
  },
  {
   "cell_type": "code",
   "execution_count": null,
   "metadata": {
    "collapsed": true
   },
   "outputs": [],
   "source": []
  },
  {
   "cell_type": "code",
   "execution_count": null,
   "metadata": {
    "collapsed": false
   },
   "outputs": [],
   "source": [
    "%matplotlib inline\n",
    "import matplotlib.pyplot as plt\n",
    "pd=\"/mnt/solexa/mel_yang/bronzeage/admixture/\"\n",
    "fh=\"ind_A_v13_TBH.allpdeas_weurFS_pruned.200_25_0.5\"\n",
    "CVfile=open(pd+fh+\".admix.CVerror\",'r')\n",
    "K_CVs=[]\n",
    "for line in CVfile:\n",
    "    x=line.split()\n",
    "    K_CVs.append((int(x[2][3:-2]),float(x[3])))\n",
    "\n",
    "K_CVs.sort(key=lambda K_CVs: K_CVs[0])\n",
    "Ks,CVs=[list(t) for t in zip(*K_CVs)] \n",
    "for K, CV in K_CVs:\n",
    "    print K, CV\n",
    "fig=plt.figure()\n",
    "ax=fig.add_subplot(1,1,1)\n",
    "ax.plot(Ks,CVs,'-o')"
   ]
  },
  {
   "cell_type": "code",
   "execution_count": null,
   "metadata": {
    "collapsed": false
   },
   "outputs": [],
   "source": [
    "%%writefile /mnt/solexa/mel_yang/bronzeage/admixture/admixtureplot.R\n",
    "##MAKE ADMIXTURE PLOT\n",
    "pd=\"/mnt/solexa/mel_yang/bronzeage/admixture/\"\n",
    "fh=\"ind_A_v13_TBH.allpdeas_weurFS_pruned.200_25_0.5\"\n",
    "#for (K in c(2,3,4,5,6,7,8,9,10)) {\n",
    "for (K in c(2,3,4,5)) {\n",
    "    tbl=read.table(paste(pd,fh,\".\",K,\".wID.Q\",sep=\"\"))\n",
    "    tbl=tbl[with(tbl,order(tbl[,K+3],tbl[,3],tbl[,1],tbl[,2],tbl[,4])),]\n",
    "    if (K==2){\n",
    "       tblnames=c()\n",
    "        for (i in tbl[,K+3]) {\n",
    "            if (i %in% tblnames==TRUE) {\n",
    "                tblnames=c(tblnames,\" \")\n",
    "            }\n",
    "            else {\n",
    "                tblnames=c(tblnames,i)\n",
    "            }\n",
    "        } \n",
    "    }\n",
    "    png(paste(pd,\"images/\",fh,\".\",K,\".png\",sep=\"\"),width=2400,height=600)\n",
    "    barplot(t(as.matrix(tbl)), col=rainbow(K),xlab=\"Individual #\", ylab=\"Ancestry\", border=NA,names.arg=tblnames,las=2,cex.names=0.7)\n",
    "    dev.off()\n",
    "}\n"
   ]
  },
  {
   "cell_type": "code",
   "execution_count": null,
   "metadata": {
    "collapsed": false
   },
   "outputs": [],
   "source": [
    "%%bash\n",
    "pd=\"/mnt/solexa/mel_yang/bronzeage/admixture/\"\n",
    "indfh=\"ind_A_v13_TBH.allpdeas_weurFS\"\n",
    "Qfh=\"ind_A_v13_TBH.allpdeas_weurFS_pruned.200_25_0.5\"\n",
    "K=2\n",
    "for K in 2 3 4 5 6 7 8 9 10; do \n",
    "    grep -v Ignore ${pd}${indfh}.ind > ${pd}${indfh}.noIgnore.ind\n",
    "    paste ${pd}${Qfh}.${K}.Q ${pd}${indfh}.noIgnore.ind > ${pd}${Qfh}.${K}.wID.Q\n",
    "done"
   ]
  },
  {
   "cell_type": "code",
   "execution_count": null,
   "metadata": {
    "collapsed": false
   },
   "outputs": [],
   "source": [
    "%%bash\n",
    "R CMD BATCH /mnt/solexa/mel_yang/bronzeage/admixture/admixtureplot.R\n",
    "mv /home/mel_yang/notebooks/bronzeage/admixtureplot.Rout /mnt/solexa/mel_yang/bronzeage/admixture/"
   ]
  },
  {
   "cell_type": "code",
   "execution_count": null,
   "metadata": {
    "collapsed": false
   },
   "outputs": [],
   "source": [
    "from IPython.core.display import Image \n",
    "pd=\"/mnt/solexa/mel_yang/bronzeage/admixture/images/\"\n",
    "fh=\"ind_A_v13_TBH.allpdeas_weurFS_pruned.200_25_0.5\"\n",
    "K=5\n",
    "Image(pd+fh+\".\"+str(K)+\".png\") "
   ]
  },
  {
   "cell_type": "code",
   "execution_count": null,
   "metadata": {
    "collapsed": false
   },
   "outputs": [],
   "source": [
    "pd=\"/mnt/solexa/mel_yang/bronzeage/admixture/\"\n",
    "fh=\"ind_A_v13_TBH.allpdeas_weurFS_pruned.200_25_0.5\"\n",
    "K=4\n",
    "Qfile=open(pd+fh+\".\"+str(K)+\".wID.Q\",'r')\n",
    "myKs=[]\n",
    "for line in Qfile: myKs.append(tuple([float(i) if ind in [0,1,2,3] else i for ind,i in enumerate(line.split())]))\n",
    "Qfile.close()\n",
    "#myKs.sort(key=lambda myKs: myKs[0])\n",
    "K1,K2,K4,K3,IDs,sex,Pop=[list(t) for t in zip(*myKs)] \n",
    "K1pops = [Pop[ind] for ind,i in enumerate(K1) if i>0.99] ##red Tibetan\n",
    "K2pops = [Pop[ind] for ind,i in enumerate(K2) if i>0.99] ##green Ulchi\n",
    "K3pops = [Pop[ind] for ind,i in enumerate(K3) if i>0.99] ##EUR\n",
    "K4pops = [Pop[ind] for ind,i in enumerate(K4) if i>0.99] ##blue South China\n",
    "K1K2pops=[Pop[ind] for ind,i in enumerate(K1) if i>0.1 and K2[ind]>0.1 and K4[ind]<0.05 and K3[ind]<0.05]\n",
    "K1K4pops=[Pop[ind] for ind,i in enumerate(K1) if i>0.1 and K2[ind]<0.05 and K4[ind]>0.1 and K3[ind]<0.05]\n",
    "K2K4pops=[Pop[ind] for ind,i in enumerate(K1) if i<0.05 and K2[ind]>0.1 and K4[ind]>0.1 and K3[ind]<0.05]\n",
    "K1K2K4pops=[Pop[ind] for ind,i in enumerate(K1) if i>0.1 and K2[ind]>0.1 and K4[ind]>0.1 and K3[ind]<0.05]\n",
    "print len(K1pops), len(K2pops), len(K4pops), len(K1K2pops), len(K1K4pops), len(K2K4pops), len(K1K2K4pops)\n",
    "print \"K1\\t%i\\t\" % len(K1pops), ' '.join(K1pops)\n",
    "print \"K2\\t%i\\t\" % len(K2pops), ' '.join(K2pops)\n",
    "print \"K4\\t%i\\t\" % len(K4pops), ' '.join(K4pops)\n",
    "print \"K1K2\\t%i\\t\" % len(K1K2pops), ' '.join(K1K2pops)\n",
    "print \"K1K4\\t%i\\t\" % len(K1K4pops), ' '.join(K1K4pops)\n",
    "print \"K2K4\\t%i\\t\" % len(K2K4pops), ' '.join(K2K4pops)\n",
    "print \"K1K2K4\\t%i\\t\" % len(K1K2K4pops), ' '.join(K1K2K4pops), len([i for i in K1K2K4pops if i==\"Japanese\"])"
   ]
  },
  {
   "cell_type": "code",
   "execution_count": null,
   "metadata": {
    "collapsed": false
   },
   "outputs": [],
   "source": [
    "pd=\"/mnt/solexa/mel_yang/bronzeage/admixture/\"\n",
    "subdir=\"allpdeas_weurFS_pruned.200_25_0.5_NOREF/\"\n",
    "fh=\"ind_A_v13_TBH.allpdeas_weurFS_pruned.200_25_0.5\"\n",
    "K=5\n",
    "Qfile=open(pd+subdir+fh+\".\"+str(K)+\".wID.Q\",'r')\n",
    "print pd+subdir+fh+\".\"+str(K)+\".wID.Q\"\n",
    "myKs=[]\n",
    "for line in Qfile: myKs.append(tuple([float(i) if ind in [0,1,2,3,4] else i for ind,i in enumerate(line.split())]))\n",
    "Qfile.close()\n",
    "co1K=0.95\n",
    "coin=0.1\n",
    "coex=0.05\n",
    "K1,K2,K4,K3,K5,IDs,sex,Pop=[list(t) for t in zip(*myKs)] \n",
    "K1pops = [IDs[ind] for ind,i in enumerate(K1) if K1[ind]>co1K] ##Atayal\n",
    "K2pops = [IDs[ind] for ind,i in enumerate(K2) if K2[ind]>co1K] ##Maonan/Gelao/Zhuang\n",
    "K3pops = [IDs[ind] for ind,i in enumerate(K3) if K3[ind]>co1K] ##EUR\n",
    "K4pops = [IDs[ind] for ind,i in enumerate(K4) if K4[ind]>co1K] ##Tibetan\n",
    "K5pops = [IDs[ind] for ind,i in enumerate(K5) if K5[ind]>co1K] ##Ulchi\n",
    "K1K2pops=[IDs[ind] for ind,i in enumerate(K1) if K1[ind]>coin and K2[ind]>coin and K4[ind]<coex and K5[ind]<coex and K3[ind]<coex]\n",
    "K1K4pops=[IDs[ind] for ind,i in enumerate(K1) if K1[ind]>coin and K2[ind]<coex and K4[ind]>coin and K5[ind]<coex and K3[ind]<coex]\n",
    "K1K5pops=[IDs[ind] for ind,i in enumerate(K1) if K1[ind]>coin and K2[ind]<coex and K4[ind]<coex and K5[ind]>coin and K3[ind]<coex]\n",
    "K2K4pops=[IDs[ind] for ind,i in enumerate(K1) if K1[ind]<coex and K2[ind]>coin and K4[ind]>coin and K5[ind]<coex and K3[ind]<coex]\n",
    "K2K5pops=[IDs[ind] for ind,i in enumerate(K1) if K1[ind]<coex and K2[ind]>coin and K4[ind]<coex and K5[ind]>coin and K3[ind]<coex]\n",
    "K4K5pops=[IDs[ind] for ind,i in enumerate(K1) if K1[ind]<coex and K2[ind]<coex and K4[ind]>coin and K5[ind]>coin and K3[ind]<coex]\n",
    "K1K2K4pops=[IDs[ind] for ind,i in enumerate(K1) if K1[ind]>coin and K2[ind]>coin and K4[ind]>coin and K5[ind]<coex and K3[ind]<coex]\n",
    "K1K2K5pops=[IDs[ind] for ind,i in enumerate(K1) if K1[ind]>coin and K2[ind]>coin and K4[ind]<coex and K5[ind]>coin and K3[ind]<coex]\n",
    "K2K4K5pops=[IDs[ind] for ind,i in enumerate(K1) if K1[ind]<coex and K2[ind]>coin and K4[ind]>coin and K5[ind]>coin and K3[ind]<coex]\n",
    "K1K2K4K5pops=[IDs[ind] for ind,i in enumerate(K1) if K1[ind]>coin and K2[ind]>coin and K4[ind]>coin and K5[ind]>coin and K3[ind]<coex]\n",
    "mylst=[K1pops,K2pops,K4pops,K5pops,K1K2pops,K1K4pops,K1K5pops,K2K4pops,K2K5pops,K4K5pops,K1K2K4pops,K1K2K5pops,K2K4K5pops,K1K2K4K5pops]\n",
    "mynames=[\"K1\",\"K2\",\"K4\",\"K5\",\"K1K2\",\"K1K4\",\"K1K5\",\"K2K4\",\"K2K5\",\"K4K5\",\"K1K2K4\",\"K1K2K5\",\"K1K2K4K5\"]\n",
    "mynames2=[\"AtayalSet\",\"SAsiaSet\",\"TibetanSet\",\"UlchiSet\",\"AmiSet\",\"None\",\"None\",\"NWChinaSet\",\n",
    "          \"None\",\"Tibetan_GangchaSet\",\"PingpuHakkaSet\",\"None\",\"NEChinaSet\"]\n",
    "mynames2=[i+\"_\"+mynames[ind] for ind,i in enumerate(mynames2)]\n",
    "print ' '.join([str(len(i)) for i in mylst])\n",
    "for ind,myK in enumerate(mynames):\n",
    "    #print \"%s\\t%i\\t%s\" % (myK, len(mylst[ind]), ','.join(mylst[ind]))\n",
    "    print \"%s\\t%i\\t%s\" % (myK, len(mylst[ind]), mynames2[ind])\n",
    "\n",
    "    \n",
    "##Make new ind file with labels in mynames2\n",
    "pd=\"/home/mel_yang/projects/bronzeage/\"\n",
    "fh=\"ind_A_v13_TBH\"\n",
    "newsubset=\"allpdeas_weurFS_pruned.200_25_0.5\"\n",
    "indfile=open(pd+fh+\".ind\",'r')\n",
    "newindfile=open(pd+fh+\".\"+newsubset+\".ind\",'w')\n",
    "for ind,line in enumerate(indfile):\n",
    "    x=line.split()\n",
    "    myindex=-5\n",
    "    for Kind,Kset in enumerate(mylst):\n",
    "        if x[0] in Kset: myindex=Kind\n",
    "    if myindex==-5: newindfile.write('\\t'.join(x)+'\\n')\n",
    "    else: newindfile.write(x[0]+'\\t'+x[1]+'\\t'+mynames2[myindex]+'\\n')\n",
    "indfile.close()\n",
    "newindfile.close()\n",
    "##coin=0.1   ===>   17 67 88 64 26 33 0 0 78 0 2 5 0 137 0\n",
    "##coin=0.15  ===>   17 67 88 64 26 24 0 0 65 0 0 1 0 102 0\n",
    "##coin=0.2   ===>   17 67 88 64 26 10 0 0 50 0 0 0 0 23 0"
   ]
  },
  {
   "cell_type": "code",
   "execution_count": null,
   "metadata": {
    "collapsed": false
   },
   "outputs": [],
   "source": [
    "pd=\"/mnt/solexa/mel_yang/bronzeage/admixture/\"\n",
    "subdir=\"allpdeas_weurFS_pruned.200_25_0.5_NOREF/\"\n",
    "fh=\"ind_A_v13_TBH.allpdeas_weurFS_pruned.200_25_0.5\"\n",
    "K=5\n",
    "Qfile=open(pd+subdir+fh+\".\"+str(K)+\".wID.Q\",'r')\n",
    "print pd+subdir+fh+\".\"+str(K)+\".wID.Q\"\n",
    "myKs=[]\n",
    "for line in Qfile: myKs.append(tuple([float(i) if ind in [0,1,2,3,4] else i for ind,i in enumerate(line.split())]))\n",
    "Qfile.close()\n",
    "K1,K2,K4,K3,K5,IDs,sex,Pop=[list(t) for t in zip(*myKs)] \n",
    "K1pops = [Pop[ind] for ind,i in enumerate(K1) if K1[ind]>0.95] ##Atayal\n",
    "K2pops = [Pop[ind] for ind,i in enumerate(K2) if K2[ind]>0.95] ##Maonan/Gelao/Zhuang\n",
    "K3pops = [Pop[ind] for ind,i in enumerate(K3) if K3[ind]>0.95] ##EUR\n",
    "K4pops = [Pop[ind] for ind,i in enumerate(K4) if K4[ind]>0.95] ##Tibetan\n",
    "K5pops = [Pop[ind] for ind,i in enumerate(K5) if K5[ind]>0.95] ##Ulchi\n",
    "K1K2pops=[Pop[ind] for ind,i in enumerate(K1) if K1[ind]>0.1 and K2[ind]>0.1 and K4[ind]<0.05 and K5[ind]<0.05 and K3[ind]<0.05]\n",
    "K1K4pops=[Pop[ind] for ind,i in enumerate(K1) if K1[ind]>0.1 and K2[ind]<0.05 and K4[ind]>0.1 and K5[ind]<0.05 and K3[ind]<0.05]\n",
    "K1K5pops=[Pop[ind] for ind,i in enumerate(K1) if K1[ind]>0.1 and K2[ind]<0.05 and K4[ind]<0.05 and K5[ind]>0.1 and K3[ind]<0.05]\n",
    "K2K4pops=[Pop[ind] for ind,i in enumerate(K1) if K1[ind]<0.05 and K2[ind]>0.1 and K4[ind]>0.1 and K5[ind]<0.05 and K3[ind]<0.05]\n",
    "K2K5pops=[Pop[ind] for ind,i in enumerate(K1) if K1[ind]<0.05 and K2[ind]>0.1 and K4[ind]<0.05 and K5[ind]>0.1 and K3[ind]<0.05]\n",
    "K4K5pops=[Pop[ind] for ind,i in enumerate(K1) if K1[ind]<0.05 and K2[ind]<0.05 and K4[ind]>0.1 and K5[ind]>0.1 and K3[ind]<0.05]\n",
    "K1K2K4pops=[Pop[ind] for ind,i in enumerate(K1) if K1[ind]>0.1 and K2[ind]>0.1 and K4[ind]>0.1 and K5[ind]<0.05 and K3[ind]<0.05]\n",
    "K1K2K5pops=[Pop[ind] for ind,i in enumerate(K1) if K1[ind]>0.1 and K2[ind]>0.1 and K4[ind]<0.05 and K5[ind]>0.1 and K3[ind]<0.05]\n",
    "K2K4K5pops=[Pop[ind] for ind,i in enumerate(K1) if K1[ind]<0.05 and K2[ind]>0.1 and K4[ind]>0.1 and K5[ind]>0.1 and K3[ind]<0.05]\n",
    "K1K2K4K5pops=[Pop[ind] for ind,i in enumerate(K1) if K1[ind]>0.1 and K2[ind]>0.1 and K4[ind]>0.1 and K5[ind]>0.1 and K3[ind]<0.05]\n",
    "mylst=[K1pops,K2pops,K3pops,K4pops,K5pops,K1K2pops,K1K4pops,K1K5pops,K2K4pops,K2K5pops,K4K5pops,K1K2K4pops,K1K2K5pops,K2K4K5pops,K1K2K4K5pops]\n",
    "mynames=[\"K1\",\"K2\",\"K3\",\"K4\",\"K5\",\"K1K2\",\"K1K4\",\"K1K5\",\"K2K4\",\"K2K5\",\"K4K5\",\"K1K2K4\",\"K1K2K5\",\"K1K2K4K5\"]\n",
    "mynames2=[\"AtayalSet\",\"MaonanSet\",\"EURSet\",\"TibetanSet\",\"UlchiSet\",\"AmiSet\",\"None\",\"None\",\"NWChinaSet\",\n",
    "          \"None\",\"Tibetan_GangchaSet\",\"PingpuHakkaSet\",\"None\",\"NEChinaSet\"]\n",
    "print ' '.join([str(len(i)) for i in mylst])\n",
    "for ind,myK in enumerate(mynames):\n",
    "    print \"%s\\t%i\\t%s\" % (myK, len(mylst[ind]), ','.join(mylst[ind]))\n",
    "    #print \"%s\\t%i\\t%s\" % (myK, len(mylst[ind]), mynames2[ind])\n"
   ]
  },
  {
   "cell_type": "code",
   "execution_count": null,
   "metadata": {
    "collapsed": false
   },
   "outputs": [],
   "source": [
    "set(mylst[0]+mylst[1]+mylst[2]+mylst[3]+\n",
    "    mylst[4]+mylst[5]+mylst[6]+mylst[7]+\n",
    "    mylst[8]+mylst[9]+mylst[10]+mylst[11]\n",
    "    +mylst[12]+mylst[13]).intersection(mylst[14])"
   ]
  },
  {
   "cell_type": "code",
   "execution_count": null,
   "metadata": {
    "collapsed": false
   },
   "outputs": [],
   "source": [
    "pdeas=['Daur','Hezhen','Mongola','Naxi','Oroqen','Ulchi','Xibo','Dai','Dong','Gelao',\n",
    "        'Lahu','Li','Maonan','Miao','Mulam','She','Tujia','Yi','Zhuang','Cambodian',\n",
    "        'Han_Chongqing','Han_Fujian','Han_Guandong','Han_Henan','Han_HGDP','Han_Hubei',\n",
    "        'Han_Jiangsu','Han_NChina','Han_Shandong','Han_Shanghai','Han_Shanxi',\n",
    "        'Han_Sichuan','Han_Zhejiang','Kinh_Vietnam_KHV','Korean','Thai','Qiang_Horpa',\n",
    "        'Tibetan_Chamdo','Tibetan_Gangcha','Tibetan_Gannan','Tibetan_Lhasa',\n",
    "        'Tibetan_Nagqu','Tibetan_Shannan','Tibetan_Shigatse','Tibetan_Xinlong',\n",
    "        'Tibetan_Xunhua','Tibetan_Yajiang','Japanese','Ami_Stoneking','Atayal_Stoneking']\n",
    "latlong=[0 for i in pdeas]\n",
    "HOannofile=open(\"/home/mel_yang/data/HO/v12.1_HO.anno\")\n",
    "for ind,line in enumerate(HOannofile):\n",
    "    x=line.split('\\t')\n",
    "    #print x[4],x[5],x[11],x[12]\n",
    "    if x[5] in pdeas and x[5] != 'Thai': ##indexing off for Thai \n",
    "        latlong[pdeas.index(x[5])] = (float(x[11]),float(x[12]))\n",
    "        #print x[5],x[11],x[12]\n",
    "    #if ind==2: break\n",
    "    \n",
    "latlong[pdeas.index(\"Thai\")]=(13.8,100.5)\n",
    "latlong[pdeas.index(\"Han_NChina\")]=(32.26566812,114)\n",
    "latlong[pdeas.index(\"Ami_Stoneking\")]=(22.843145,121.185356)\n",
    "latlong[pdeas.index(\"Atayal_Stoneking\")]=(24.611712,121.296444)\n",
    "newfile=open(\"/mnt/solexa/mel_yang/bronzeage/admixture/pdeas.GPS\",'w')\n",
    "for ind,i in enumerate(pdeas):\n",
    "    newfile.write(\"%s\\t%.2f\\t%.2f\\n\" % (i, latlong[ind][0], latlong[ind][1]))\n",
    "newfile.close()"
   ]
  },
  {
   "cell_type": "code",
   "execution_count": null,
   "metadata": {
    "collapsed": false
   },
   "outputs": [],
   "source": [
    "%%writefile /mnt/solexa/mel_yang/bronzeage/admixture/admixture_2Dmap_pie.R\n",
    "##Make map of Asia with ADMIXTURE components plotted in pie chart at GPS locations\n",
    "pd=\"/mnt/solexa/mel_yang/bronzeage/admixture/\"\n",
    "fh=\"ind_A_v13_TBH.pdeas_weurFS_pruned.200_25_0.5\"\n",
    "K=4\n",
    "mydat=read.table(paste(pd,fh,\".\",K,\".wID.Q\",sep=\"\"))  \n",
    "location<-read.table(paste(pd,'pdeas.GPS',sep=\"\"))\n",
    "\n",
    "Longitude=location$V3\n",
    "Latitude=location$V2\n",
    "minLong <- 80\n",
    "maxLong <- 145\n",
    "minLat <- 10\n",
    "maxLat <- 60\n",
    "\n",
    "library(mapdata)\n",
    "library(maps)\n",
    "library(maptools)\n",
    "library(mapplots)\n",
    "png(paste(pd,\"images/\",fh,\".\",K,\".asia.png\",sep=\"\"),width=2400,height=2400)    \n",
    "map(database='worldHires', fill=TRUE,xlim=c(minLong,maxLong),ylim=c(minLat,maxLat),col='lightgray',boundary=FALSE)\n",
    "#points(Longitude,Latitude,pch=21,bg=\"black\",col=\"black\",cex=3)\n",
    "for (i in 1:nrow(location)) {\n",
    "    text(Longitude[i],Latitude[i],location$V1[i],cex=1.5)\n",
    "}\n",
    "\n",
    "#mysubdat <- as.data.frame(matrix(seq(nrow(location)*(K)),nrow=nrow(location),ncol=K))\n",
    "#width=c()\n",
    "#height=c()\n",
    "#for (myrow in 1:nrow(location)){\n",
    "#    z=subset(tbl,tbl$V7==as.character(location$V1[myrow]))[1,]\n",
    "#    mysubdat[myrow,]=z[,1:K]\n",
    "#    width=c(width,1)\n",
    "#    height=c(height,1)\n",
    "#    #z=t(as.matrix(z))\n",
    "#    #draw.barplot2D(location$V3[myrow], location$V2[myrow], z,1,1,col=rainbow(K))\n",
    "#}\n",
    "#nrow(mysubdat)\n",
    "#length(Longitude)\n",
    "#length(Latitude)\n",
    "#xyz <- make.xyz(Longitude,Latitude,t(mysubdat),as.factor(location$V1))\n",
    "#draw.barplot2D(xyz$x, xyz$y, xyz$z,width,height,col=rainbow(K))\n",
    "\n",
    "\n",
    "dev.off()"
   ]
  },
  {
   "cell_type": "code",
   "execution_count": null,
   "metadata": {
    "collapsed": true
   },
   "outputs": [],
   "source": [
    "%%bash\n",
    "Rfunc=\"admixture_2Dmap_pie\"\n",
    "pd1=\"/mnt/solexa/mel_yang/bronzeage/admixture/\"\n",
    "R CMD BATCH ${pd1}${Rfunc}.R\n",
    "mv /home/mel_yang/notebooks/bronzeage/${Rfunc}.Rout ${pd1}"
   ]
  },
  {
   "cell_type": "code",
   "execution_count": null,
   "metadata": {
    "collapsed": false
   },
   "outputs": [],
   "source": [
    "from IPython.core.display import Image \n",
    "pd=\"/mnt/solexa/mel_yang/bronzeage/admixture/images/\"\n",
    "fh=\"ind_A_v13_TBH.pdeas_weurFS_pruned.200_25_0.5\"\n",
    "K=4\n",
    "Image(pd+fh+\".\"+str(K)+\".asia.png\") "
   ]
  },
  {
   "cell_type": "code",
   "execution_count": null,
   "metadata": {
    "collapsed": true
   },
   "outputs": [],
   "source": []
  },
  {
   "cell_type": "code",
   "execution_count": null,
   "metadata": {
    "collapsed": true
   },
   "outputs": [],
   "source": []
  },
  {
   "cell_type": "code",
   "execution_count": null,
   "metadata": {
    "collapsed": true
   },
   "outputs": [],
   "source": []
  },
  {
   "cell_type": "code",
   "execution_count": null,
   "metadata": {
    "collapsed": true
   },
   "outputs": [],
   "source": []
  },
  {
   "cell_type": "code",
   "execution_count": null,
   "metadata": {
    "collapsed": true
   },
   "outputs": [],
   "source": [
    "import projmodules as pm\n",
    "\n",
    "namers=['Mayan','Piapoco','Xavante','Surui','Mixe','Pima','Karitiana',\n",
    "        'Chane',\"Quechua\",\"Zapotec\",\"Aymara\",\"Guarani\",\"Guarani_GN\",\"Guarani_KW\",\n",
    "        \"Cabecar\",\"Kaqchikel\",\"Wayuu\",\"Inga\",\"Ticuna\",\"Chilote\",\"Bolivian\",\n",
    "        \"Apalai\",\"Arara\",\"UrubuKaapor\",\"Zoro\",\n",
    "        \"Surui.DG\",\"Mixe.DG\",\"Pima.DG\",\"Mayan.DG\",\"Quechua.DG\",\"Zapotec.DG\",\n",
    "        \"Piapoco.DG\",\"Chane.DG\",\"Karitiana.DG\",\n",
    "        \"Mbuti\",\"Yoruba\",\"Spanish\",\"French\",\"Han_HGDP\",\"Japanese\"]\n",
    "\n",
    "baseDir = \"/home/melinda_yang/ivpp/bronzeage/\"\n",
    "fh=\"ind_A_v13_TBH\"\n",
    "newname = 'namer'\n",
    "pm.indtoignore(namers, baseDir+fh+'.ind', baseDir+fh+'.'+newname+'.ind')\n",
    "pm.convertf_par(baseDir+fh,baseDir+fh+'.'+newname+'.ped','PED',baseDir+\n",
    "                'CONVERTF.'+fh+'.'+newname+'.par',indfilename=baseDir+fh+'.'+newname)\n"
   ]
  },
  {
   "cell_type": "code",
   "execution_count": null,
   "metadata": {
    "collapsed": false
   },
   "outputs": [],
   "source": [
    "##MAKE MAP FILE FROM SNP FILE\n",
    "pd = \"/home/melinda_yang/ivpp/bronzeage/\"\n",
    "pd = \"/home/melinda_yang/ivpp/allTYstuff/\"\n",
    "fh=\"ind_A_v13_TBH.namer_noasn.ped\"\n",
    "newfh=\"ind_A_v13_TBH.namer_noasn\"\n",
    "fh=\"ind_A_v13_TBH.namer.ped\"\n",
    "newfh=\"ind_A_v13_TBH.namer\"\n",
    "fh=\"ind_A_v13_TBH.namer_sgdp_noasn.ped\"\n",
    "newfh=\"ind_A_v13_TBH.namer_sgdp_noasn\"\n",
    "fh=\"UPA_all6.namer.ped\"\n",
    "newfh=\"UPA_all6.namer\"\n",
    "snpfile=open(pd+fh+\".snp\",'r')\n",
    "mapfile=open(pd+newfh+\".map\",'w')\n",
    "for line in snpfile:\n",
    "    x=line.split()\n",
    "    if x[2] == \"0.498278\": print x\n",
    "    newx=[x[i] for i in [0,1,2,3]]\n",
    "    mapfile.write('\\t'.join(newx)+'\\n')"
   ]
  },
  {
   "cell_type": "code",
   "execution_count": null,
   "metadata": {
    "collapsed": true
   },
   "outputs": [],
   "source": []
  },
  {
   "cell_type": "code",
   "execution_count": null,
   "metadata": {
    "collapsed": false
   },
   "outputs": [],
   "source": [
    "import projmodules as pm\n",
    "\n",
    "namers=['Mayan','Piapoco','Xavante','Surui','Mixe','Pima','Karitiana',\n",
    "        'Chane',\"Quechua\",\"Zapotec\",\"Aymara\",\"Guarani\",\"Guarani_GN\",\"Guarani_KW\",\n",
    "        \"Cabecar\",\"Kaqchikel\",\"Wayuu\",\"Inga\",\"Ticuna\",\"Chilote\",\"Bolivian\",\n",
    "        \"Apalai\",\"Arara\",\"UrubuKaapor\",\"Zoro\",\n",
    "        \"Surui.DG\",\"Mixe.DG\",\"Pima.DG\",\"Mayan.DG\",\"Quechua.DG\",\"Zapotec.DG\",\n",
    "        \"Piapoco.DG\",\"Chane.DG\",\"Karitiana.DG\",\n",
    "        \"Mbuti\",\"Yoruba\",\"Mandenka\",\"Spanish\",\"French\",\"Sardinian\"]\n",
    "\n",
    "baseDir = \"/home/melinda_yang/ivpp/bronzeage/\"\n",
    "fh=\"ind_A_v13_TBH\"\n",
    "newname = 'namer_noasn'\n",
    "pm.indtoignore(namers, baseDir+fh+'.ind', baseDir+fh+'.'+newname+'.ind')\n",
    "pm.convertf_par(baseDir+fh,baseDir+fh+'.'+newname+'.ped','PED',baseDir+\n",
    "                'CONVERTF.'+fh+'.'+newname+'.par',indfilename=baseDir+fh+'.'+newname)\n"
   ]
  },
  {
   "cell_type": "code",
   "execution_count": null,
   "metadata": {
    "collapsed": false
   },
   "outputs": [],
   "source": [
    "import projmodules as pm\n",
    "\n",
    "namers=[\"Surui.DG\",\"Mixe.DG\",\"Pima.DG\",\"Mayan.DG\",\"Quechua.DG\",\"Zapotec.DG\",\n",
    "        \"Piapoco.DG\",\"Chane.DG\",\"Karitiana.DG\",\n",
    "        \"Mbuti.DG\",\"Yoruba.DG\",\"Mandenka.DG\",\"Spanish.DG\",\"French.DG\",\"Sardinian.DG\"]\n",
    "\n",
    "baseDir = \"/home/melinda_yang/ivpp/bronzeage/\"\n",
    "fh=\"ind_A_v13_TBH\"\n",
    "newname = 'namer_sgdp_noasn'\n",
    "pm.indtoignore(namers, baseDir+fh+'.ind', baseDir+fh+'.'+newname+'.ind')\n",
    "pm.convertf_par(baseDir+fh,baseDir+fh+'.'+newname+'.ped','PED',baseDir+\n",
    "                'CONVERTF.'+fh+'.'+newname+'.par',indfilename=baseDir+fh+'.'+newname)\n"
   ]
  },
  {
   "cell_type": "code",
   "execution_count": null,
   "metadata": {
    "collapsed": true
   },
   "outputs": [],
   "source": []
  },
  {
   "cell_type": "code",
   "execution_count": null,
   "metadata": {
    "collapsed": true
   },
   "outputs": [],
   "source": []
  },
  {
   "cell_type": "code",
   "execution_count": null,
   "metadata": {
    "collapsed": false
   },
   "outputs": [],
   "source": [
    "import projmodules as pm\n",
    "\n",
    "namers=[\"Surui\",\"Mixe\",\"Pima\",\"Mayan\",\"Quechua\",\"Zapotec\",\n",
    "        \"Piapoco\",\"Chane\",\"Karitiana\",\n",
    "        \"Mbuti\",\"Yoruba\",\"Mandenka\",\"Spanish\",\"French\",\"Sardinian\"] #,\"Han\",\"Japanese\"]\n",
    "\n",
    "baseDir = \"/home/melinda_yang/ivpp/allTYstuff/\"\n",
    "fh=\"UPA_all6\"\n",
    "newname = 'namer_nbs' #nobadsnps\n",
    "pm.indtoignore(namers, baseDir+fh+'.ind', baseDir+fh+'.'+newname+'.ind')\n",
    "pm.convertf_par(baseDir+fh,baseDir+fh+'.'+newname+'.ped','PED',baseDir+\n",
    "                'CONVERTF.'+fh+'.'+newname+'.par',\n",
    "                indfilename=baseDir+fh+'.'+newname,\n",
    "               badsnpfile=baseDir+\"UPA_all6.namer.badsnps\")\n"
   ]
  },
  {
   "cell_type": "code",
   "execution_count": null,
   "metadata": {
    "collapsed": false
   },
   "outputs": [],
   "source": [
    "\n",
    "pd=\"/home/melinda_yang/ivpp/allTYstuff/\"\n",
    "badrs=open(pd+\"UPA_all6.namer_missing.nof\",'r')\n",
    "badrsids=[line.strip() for line in badrs]\n",
    "badrs.close()\n",
    "snps=open(pd+\"UPA_all6.namer.ped.snp\",'r')\n",
    "newbad=open(pd+\"UPA_all6.namer.badsnps\",'w')\n",
    "for line in snps:\n",
    "    x=line.split()\n",
    "    if x[1] in badrsids: newbad.write('\\t'.join(x)+'\\n')\n",
    "newbad.close()\n",
    "snps.close()\n"
   ]
  },
  {
   "cell_type": "code",
   "execution_count": null,
   "metadata": {
    "collapsed": true
   },
   "outputs": [],
   "source": []
  },
  {
   "cell_type": "code",
   "execution_count": null,
   "metadata": {
    "collapsed": true
   },
   "outputs": [],
   "source": []
  },
  {
   "cell_type": "code",
   "execution_count": null,
   "metadata": {
    "collapsed": true
   },
   "outputs": [],
   "source": []
  },
  {
   "cell_type": "code",
   "execution_count": null,
   "metadata": {
    "collapsed": false
   },
   "outputs": [],
   "source": [
    "import projmodules as pm\n",
    "\n",
    "targets = ['Chane','Karitiana','Mayan','Mixe','Mixtec','Piapoco','Pima','Quechua','Surui','Zapotec','Clovis','French']\n",
    "\n",
    "baseDir = \"/home/mel_yang/projects/allTYstuff/SOMX2/\"\n",
    "fh=\"UPA_all2\"\n",
    "newname = 'namer_french'\n",
    "pm.indtoignore(targets, baseDir+fh+'.ind', baseDir+fh+'.'+newname+'.ind')\n",
    "pm.convertf_par(baseDir+fh,baseDir+fh+'.'+newname+'.ped','PED',baseDir+\n",
    "                'CONVERTF.'+fh+'.'+newname+'.par',indfilename=baseDir+fh+'.'+newname)\n"
   ]
  },
  {
   "cell_type": "code",
   "execution_count": null,
   "metadata": {
    "collapsed": false
   },
   "outputs": [],
   "source": [
    "import projmodules as pm\n",
    "\n",
    "targets = ['Ami', 'Atayal', 'Burmese', 'Cambodian', 'Dai', 'Daur', \n",
    "              'Han', 'Hezhen', 'Japanese', 'Kinh', 'Korean', 'Lahu', \n",
    "              'Miao', 'Naxi', 'Oroqen', 'She', 'Thai', 'Tu', 'Tujia', \n",
    "              'Uygur', 'Xibo', 'Yi','French']\n",
    "\n",
    "baseDir = \"/home/mel_yang/projects/allTYstuff/SOMX2/\"\n",
    "fh=\"UPA_all2\"\n",
    "newname = 'eas_french'\n",
    "pm.indtoignore(targets, baseDir+fh+'.ind', baseDir+fh+'.'+newname+'.ind')\n",
    "pm.convertf_par(baseDir+fh,baseDir+fh+'.'+newname+'.ped','PED',baseDir+\n",
    "                'CONVERTF.'+fh+'.'+newname+'.par',indfilename=baseDir+fh+'.'+newname)\n"
   ]
  },
  {
   "cell_type": "code",
   "execution_count": null,
   "metadata": {
    "collapsed": false
   },
   "outputs": [],
   "source": [
    "%matplotlib inline\n",
    "import numpy as np\n",
    "import matplotlib.pyplot as plt\n",
    "baseDir = '/home/mel_yang/projects/allTYstuff/SOMX2/'\n",
    "fh = 'UPA_all2.namer'\n",
    "myfile = open(baseDir+fh+'.3.Q','r')\n",
    "mydat = myfile.readlines()\n",
    "myfile.close()\n",
    "mydat = np.array([[float(i) for i in line.split()] for line in mydat])\n",
    "print mydat.shape\n",
    "plt.bar( #, col=['red','blue','yellow'])\n",
    "#barplot(t(as.matrix(tbl)), col=rainbow(3),xlab=\"Individual #\", ylab=\"Ancestry\", border=NA)"
   ]
  },
  {
   "cell_type": "code",
   "execution_count": null,
   "metadata": {
    "collapsed": false
   },
   "outputs": [],
   "source": []
  }
 ],
 "metadata": {
  "kernelspec": {
   "display_name": "Python 2",
   "language": "python",
   "name": "python2"
  },
  "language_info": {
   "codemirror_mode": {
    "name": "ipython",
    "version": 2
   },
   "file_extension": ".py",
   "mimetype": "text/x-python",
   "name": "python",
   "nbconvert_exporter": "python",
   "pygments_lexer": "ipython2",
   "version": "2.7.12"
  }
 },
 "nbformat": 4,
 "nbformat_minor": 0
}
