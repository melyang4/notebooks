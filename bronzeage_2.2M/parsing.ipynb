{
 "cells": [
  {
   "cell_type": "code",
   "execution_count": 23,
   "metadata": {
    "collapsed": false
   },
   "outputs": [
    {
     "name": "stdout",
     "output_type": "stream",
     "text": [
      "Pops\tLiangDaoChineseNeolithic\tLonglin\tZongri\tLiangDaoChineseNeolithic\tLonglin\tZongri\tLiangDaoChineseNeolithic\tLonglin\tZongri\n",
      "UstIshim\t3.719\t3.868\t4.724\t1.108\t3.607\t1.464\t-2.512\t-0.487\t-2.822\n",
      "Tianyuan\t-7.23\t-4.414\t-8.779\t-6.94\t-3.784\t-7.177\t0.104\t0.696\t1.082\n",
      "Kostenki14\t4.379\t2.405\t4.619\t9.311\t7.253\t10.637\t5.051\t4.611\t5.456\n",
      "GoyetQ116-1\t1.505\t0.656\t1.44\t7.884\t6.615\t9.115\t6.875\t5.628\t7.794\n",
      "Vestonice16\t3.16\t3.732\t4.71\t8.855\t7.728\t10.717\t5.352\t4.125\t6.324\n",
      "Malta1\t1.513\t0.396\t0.743\t8.531\t6.061\t8.779\t7.077\t5.178\t7.974\n",
      "AfontovaGora3\t-0.328\t1.698\t0.152\t5.01\t3.949\t5.723\t5.16\t2.395\t5.431\n",
      "ElMiron\t1.328\t1.455\t2.788\t6.605\t4.483\t8.849\t5.104\t3.012\t6.068\n",
      "Villabruna\t2.221\t2.854\t2.822\t5.714\t5.639\t6.579\t3.323\t2.85\t3.828\n",
      "Bichon\t2.77\t2.29\t3.321\t8.28\t5.852\t9.034\t5.703\t3.583\t6.175\n",
      "Satsurblia\t4.666\t3.716\t5.997\t2.361\t3.993\t3.509\t-2.309\t-0.146\t-2.346\n",
      "Kotias\t5.26\t4.451\t6.061\t5.476\t5.096\t6.136\t0.082\t0.534\t0.132\n",
      "Karelia\t0.447\t-0.635\t-0.375\t6.366\t4.855\t6.289\t5.852\t5.357\t6.503\n",
      "Motala12\t2.471\t1.878\t2.662\t6.773\t6.145\t7.654\t4.428\t3.982\t5.267\n",
      "Loschbour\t1.746\t2.753\t2.52\t7.657\t8.024\t8.927\t6.043\t4.753\t6.365\n",
      "LaBrana1\t1.91\t2.464\t2.567\t7.139\t6.532\t8.089\t5.118\t3.773\t5.552\n",
      "Hungarian.KO1\t2.494\t2.735\t2.711\t7.707\t5.165\t7.613\t5.395\t2.365\t5.273\n",
      "Stuttgart\t5.721\t5.016\t7.257\t4.683\t5.062\t5.444\t-1.126\t-0.317\t-1.586\n"
     ]
    }
   ],
   "source": [
    "%%bash\n",
    "\n",
    "pD=\"/home/melinda_yang/projects/bronzeage/2.2M_analysis/D_EarlyUP/\"\n",
    "front=\"UPA_all7.D.all\"\n",
    "end=\"Zmat\"\n",
    "\n",
    "X=\"Yana_old\"\n",
    "Y=\"EUP\"\n",
    "Out=\"Mbuti\"\n",
    "Z=\"SELANCEAS2\"\n",
    "\n",
    "subset1=\"${pD}${front}.${X}_${Y}_${Z}_${Out}.${end}\"\n",
    "subset2=\"${pD}${front}.${X}_${Z}_${Y}_${Out}.${end}\"\n",
    "subset3=\"${pD}${front}.${Y}_${Z}_${X}_${Out}.${end}\"\n",
    "\n",
    "paste ${subset1} ${subset2} ${subset3} | cut -f1-4,6-8,10-12"
   ]
  },
  {
   "cell_type": "code",
   "execution_count": null,
   "metadata": {
    "collapsed": true
   },
   "outputs": [],
   "source": [
    "%%bash\n",
    "pop=\"SELPDEAS\"\n",
    "for i in Yana_old Yana_old2 Kolyma_River Malta1 AfontovaGora3; do\n",
    "    paste UPA_all7.D.all.${i}_EUP_${pop}_Mbuti.Zmat UPA_all7.D.all.${i}_${pop}_EUP_Mbuti.Zmat UPA_all7.D.all.EUP_${pop}_${i}_Mbuti.Zmat\n",
    "done"
   ]
  },
  {
   "cell_type": "code",
   "execution_count": null,
   "metadata": {
    "collapsed": true
   },
   "outputs": [],
   "source": []
  }
 ],
 "metadata": {
  "kernelspec": {
   "display_name": "Python 2",
   "language": "python",
   "name": "python2"
  },
  "language_info": {
   "codemirror_mode": {
    "name": "ipython",
    "version": 2
   },
   "file_extension": ".py",
   "mimetype": "text/x-python",
   "name": "python",
   "nbconvert_exporter": "python",
   "pygments_lexer": "ipython2",
   "version": "2.7.12"
  }
 },
 "nbformat": 4,
 "nbformat_minor": 2
}
