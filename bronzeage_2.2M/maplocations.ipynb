{
 "cells": [
  {
   "cell_type": "markdown",
   "metadata": {},
   "source": [
    "## Map of Location of Individuals"
   ]
  },
  {
   "cell_type": "code",
   "execution_count": null,
   "metadata": {
    "collapsed": true
   },
   "outputs": [],
   "source": [
    "%%writefile /mnt/solexa/mel_yang/bronzeage/2.2M_analysis/plotpdeas.R\n",
    "##Make map of Asia with ADMIXTURE components plotted in pie chart at GPS locations\n",
    "pd=\"/mnt/solexa/mel_yang/bronzeage/admixture/\" \n",
    "location<-read.table(paste(pd,'allpdeas_ADMIXTURE_v12anno.latlong',sep=\"\"))\n",
    "\n",
    "Longitude=location$V3\n",
    "Latitude=location$V2\n",
    "names=location$V1\n",
    "count=location$V4\n",
    "colors=location$V5\n",
    "minLong <- 80\n",
    "maxLong <- 145\n",
    "minLat <- 10\n",
    "maxLat <- 60\n",
    "\n",
    "library(mapdata)\n",
    "library(maps)\n",
    "library(maptools)\n",
    "\n",
    "png(paste(pd,\"images/\",\"allpdeas_ADMIXTURE_v12anno.png\",sep=\"\"),width=2400,height=2400)    \n",
    "map(database='worldHires', fill=TRUE,xlim=c(minLong,maxLong),ylim=c(minLat,maxLat),col='lightgray',boundary=FALSE)\n",
    "ll=points(Longitude,Latitude,pch=21,bg=names,col='black',cex=count)\n",
    "legend(130,25,legend = levels(names), col = 1:length(names),pch=16,cex=3)\n",
    "#legend(130,25,unique(names),pch=21,col=\"black\",bg=ll,cex=3)\n",
    "dev.off()"
   ]
  }
 ],
 "metadata": {
  "kernelspec": {
   "display_name": "Python 2",
   "language": "python",
   "name": "python2"
  },
  "language_info": {
   "codemirror_mode": {
    "name": "ipython",
    "version": 2
   },
   "file_extension": ".py",
   "mimetype": "text/x-python",
   "name": "python",
   "nbconvert_exporter": "python",
   "pygments_lexer": "ipython2",
   "version": "2.7.12"
  }
 },
 "nbformat": 4,
 "nbformat_minor": 2
}
