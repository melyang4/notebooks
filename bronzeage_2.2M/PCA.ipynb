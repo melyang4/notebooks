{
 "cells": [
  {
   "cell_type": "markdown",
   "metadata": {},
   "source": [
    "# Make PCA Using all modern SGDP as base"
   ]
  },
  {
   "cell_type": "code",
   "execution_count": 3,
   "metadata": {},
   "outputs": [
    {
     "data": {
      "text/plain": [
       "'Made par file for smartpca!'"
      ]
     },
     "execution_count": 3,
     "metadata": {},
     "output_type": "execute_result"
    }
   ],
   "source": [
    "## Get all SGDP individuals\n",
    "import projmodules as pm\n",
    "\n",
    "datpD=\"/home/melinda_yang/data/2.2M/\"\n",
    "pD=\"/home/melinda_yang/projects/bronzeage/2.2M_analysis/pca/\"\n",
    "fh=\"UPA_all8\"\n",
    "subset=\"SGDP\"\n",
    "outlier=0\n",
    "\n",
    "sgdp,pops=[],[]\n",
    "firstletter=[]\n",
    "indfile=open(datpD+fh+\".ind\",'r')\n",
    "for line in indfile:\n",
    "    x=line.split()\n",
    "    if x[0][1]==\"_\": \n",
    "        sgdp.append(x[0])\n",
    "        if x[2] not in pops: pops.append(x[2])\n",
    "        firstletter.append(x[0][0])\n",
    "indfile.close()\n",
    "\n",
    "myset=pops\n",
    "pcapopfile=open(pD+fh+\".\"+subset+\".pop\",'w')\n",
    "pcapopfile.write('\\n'.join(myset))\n",
    "pcapopfile.close()\n",
    "\n",
    "pm.smartpca_par(pD,fh,subset,datpd=datpD,outlier=outlier,newfilename=pD+fh+\".\"+subset,\n",
    "                lsqproject=True,poplistname=pD+fh+\".\"+subset+\".pop\")"
   ]
  },
  {
   "cell_type": "code",
   "execution_count": null,
   "metadata": {
    "collapsed": true
   },
   "outputs": [],
   "source": []
  },
  {
   "cell_type": "markdown",
   "metadata": {},
   "source": [
    "## Make PCA using Asian SGDP as base"
   ]
  },
  {
   "cell_type": "code",
   "execution_count": 4,
   "metadata": {},
   "outputs": [
    {
     "data": {
      "text/plain": [
       "'Made par file for smartpca!'"
      ]
     },
     "execution_count": 4,
     "metadata": {},
     "output_type": "execute_result"
    }
   ],
   "source": [
    "## Get only Asian SGDP individuals\n",
    "import projmodules as pm\n",
    "\n",
    "datpD=\"/home/melinda_yang/data/2.2M/\"\n",
    "fh=\"UPA_all8\"\n",
    "subset=\"PDASN\"\n",
    "outlier=0\n",
    "\n",
    "\n",
    "eas=[\"Oroqen\",\"Daur\",\"Hezhen\",\"Xibo\",\"Japanese\",\"Korean\",\n",
    "        \"Tu\",\"Han\",\"Tujia\",\"Miao\",\"Yi\",\"She\",\"Naxi\",\"Atayal\",\n",
    "        \"Ami\",\"Lahu\",\"Dai\",\"Kinh\",\"Burmese\",\"Thai\",\"Cambodian\",\"Tibetan\",\"Uygur\"]\n",
    "samer=[\"Clovis\",\"Pima\",\"Mayan\",\"Mixe\",\"Zapotec\",\"Piapoco\",\n",
    "        \"Karitiana\",\"Surui\",\"Quechua\",\"Chane\",\"Nahua\",\n",
    "        \"Cree\",\"Chipewyan\",'Saqqaq']\n",
    "sib=[\"Aleut\",\"Tlingit\",\"Mansi\",\"Chukchi\",\"Tubalar\",\"Kyrgyz\",\"Ulchi\",\n",
    "    \"Mongola\",\"Altaian\",\"Even\",\"Yakut\",\"Itelman\",\n",
    "    \"Eskimo_Sireniki\",\"Eskimo_Naukan\",\"Eskimo_Chaplin\"]\n",
    "pacific=[\"Onge\",\"Papuan\",\"Maori\",\"Igorot\",\"Hawaiian\",\n",
    "         \"Dusun\",\"Bougainville\",\"Australian\"]\n",
    "oasia=[\"Sherpa\",\"Kusunda\"]\n",
    "\n",
    "myset=eas+samer+sib+pacific+oasia\n",
    "pcapopfile=open(pD+fh+\".\"+subset+\".pop\",'w')\n",
    "pcapopfile.write('\\n'.join(myset))\n",
    "pcapopfile.close()\n",
    "\n",
    "pm.smartpca_par(pD,fh,subset,datpd=datpD,outlier=outlier,newfilename=pD+fh+\".\"+subset,\n",
    "                lsqproject=True,poplistname=pD+fh+\".\"+subset+\".pop\")"
   ]
  },
  {
   "cell_type": "markdown",
   "metadata": {},
   "source": [
    "## Make PCA using PDEAS SGDP as base"
   ]
  },
  {
   "cell_type": "code",
   "execution_count": 5,
   "metadata": {},
   "outputs": [
    {
     "data": {
      "text/plain": [
       "'Made par file for smartpca!'"
      ]
     },
     "execution_count": 5,
     "metadata": {},
     "output_type": "execute_result"
    }
   ],
   "source": [
    "## Get only Asian SGDP individuals\n",
    "import projmodules as pm\n",
    "\n",
    "pD=\"/home/melinda_yang/projects/bronzeage/2.2M_analysis/pca/\"\n",
    "datpD=\"/home/melinda_yang/data/2.2M/\"\n",
    "fh=\"UPA_all8\"\n",
    "subset=\"PDEAS\"\n",
    "outlier=0\n",
    "\n",
    "eas=[\"Oroqen\",\"Daur\",\"Hezhen\",\"Xibo\",\"Japanese\",\"Korean\",\n",
    "        \"Tu\",\"Han\",\"Tujia\",\"Miao\",\"Yi\",\"She\",\"Naxi\",\"Atayal\",\n",
    "        \"Ami\",\"Lahu\",\"Dai\",\"Kinh\",\"Burmese\",\"Thai\",\"Cambodian\",\"Tibetan\",\"Uygur\"]\n",
    "\n",
    "myset=eas\n",
    "pcapopfile=open(pD+fh+\".\"+subset+\".pop\",'w')\n",
    "pcapopfile.write('\\n'.join(myset))\n",
    "pcapopfile.close()\n",
    "\n",
    "pm.smartpca_par(pD,fh,subset,datpd=datpD,outlier=outlier,newfilename=pD+fh+\".\"+subset,\n",
    "                lsqproject=True,poplistname=pD+fh+\".\"+subset+\".pop\")"
   ]
  },
  {
   "cell_type": "code",
   "execution_count": null,
   "metadata": {
    "collapsed": true
   },
   "outputs": [],
   "source": []
  },
  {
   "cell_type": "code",
   "execution_count": 6,
   "metadata": {},
   "outputs": [],
   "source": [
    "\n",
    "pD=\"/home/melinda_yang/projects/bronzeage/2.2M_analysis/pca/\"\n",
    "datpD=\"/home/melinda_yang/data/2.2M/\"\n",
    "fh=\"UPA_all8\"\n",
    "outlier=0\n",
    "#subset1=\"PDASN\"\n",
    "#subset1=\"SGDP\"\n",
    "subset1=\"PDEAS\"\n",
    "subset2=\"EASSIBANC\"\n",
    "\n",
    "eas=[\"Oroqen\",\"Daur\",\"Hezhen\",\"Xibo\",\"Japanese\",\"Korean\",\n",
    "        \"Tu\",\"Tibetan\",\"Han\",\"Tujia\",\"Miao\",\"Yi\",\"She\",\"Naxi\",\"Atayal\",\n",
    "        \"Ami\",\"Lahu\",\"Dai\",\"Kinh\",\"Burmese\",\"Thai\",\"Cambodian\"] #,\"Uygur\"]\n",
    "sib=[\"Aleut\",\"Tlingit\",\"Mansi\",\"Chukchi\",\"Tubalar\",\"Kyrgyz\",\"Ulchi\",\n",
    "    \"Mongola\",\"Altaian\",\"Even\",\"Yakut\",\"Itelman\",\n",
    "    \"Eskimo_Sireniki\",\"Eskimo_Naukan\",\"Eskimo_Chaplin\"]\n",
    "ancids=[\"Tianyuan\",'Longlin','Longlin_com','Xinyi',\n",
    "        'Xinyi_other','LiangDaoChineseNeolithic','Boisman_MN',\n",
    "        'BoshanChineseNeolithic','Bbdong','Linzi','HDYM1','HQSDW',\n",
    "        'Zongri','Pukagongma','Chokhopani1','Mebrak','Samdzong',\n",
    "        'Kolyma_River']\n",
    "\n",
    "ancnames=[\"Tianyuan\",'Longlin','Longlin','Xinyi',\n",
    "        'Xinyi','LiangDao','Boisman',\n",
    "        'Boshan','Bbdong','Linzi','HDYM1','HQSDW',\n",
    "        'Zongri','Pukagongma','AncTib','AncTib','AncTib',\n",
    "        'Kolyma']\n",
    "\n",
    "mycat=[\"N/WChina\"]*8+[\"SChina\"]*14+[\"Sib\"]*15+[\"OLD\"]*3+[\"ANC_SEAsn\"]*3+[\"ANC+NAsn\"]*12\n",
    "mypops=eas+sib+ancids\n",
    "\n",
    "megafile=open(pD+fh+\".\"+subset1+\".\"+subset2+\".popset.megaGroup\",'w')\n",
    "for ind,i in enumerate(mypops):\n",
    "    megafile.write(\"%s\\t%s\\n\" % (i,mycat[ind])) \n",
    "megafile.close()\n",
    "\n",
    "evecfile=open(pD+fh+\".\"+subset1+\".evec\",'r')\n",
    "newevecfile=open(pD+fh+\".\"+subset1+\".\"+subset2+\".popset.evec\",'w')\n",
    "for line in evecfile:\n",
    "    if \"#eigvals\" in line: newevecfile.write(line)\n",
    "    x=line.split()\n",
    "    if x[-1] in mypops: newevecfile.write(line)\n",
    "    else: continue\n",
    "evecfile.close()\n",
    "newevecfile.close()\n"
   ]
  },
  {
   "cell_type": "code",
   "execution_count": 7,
   "metadata": {
    "collapsed": true
   },
   "outputs": [],
   "source": [
    "\n",
    "pD=\"/home/melinda_yang/projects/bronzeage/2.2M_analysis/pca/\"\n",
    "datpD=\"/home/melinda_yang/data/2.2M/\"\n",
    "fh=\"UPA_all8\"\n",
    "outlier=0\n",
    "#subset1=\"PDASN\"\n",
    "#subset1=\"SGDP\"\n",
    "subset1=\"PDEAS\"\n",
    "subset2=\"EASANC\"\n",
    "\n",
    "eas=[\"Oroqen\",\"Daur\",\"Hezhen\",\"Xibo\",\"Japanese\",\"Korean\",\n",
    "        \"Tu\",\"Tibetan\",\"Han\",\"Tujia\",\"Miao\",\"Yi\",\"She\",\"Naxi\",\"Atayal\",\n",
    "        \"Ami\",\"Lahu\",\"Dai\",\"Kinh\",\"Burmese\",\"Thai\",\"Cambodian\"] #,\"Uygur\"]\n",
    "ancids=[\"Tianyuan\",'Longlin','Longlin_com','Xinyi',\n",
    "        'Xinyi_other','LiangDaoChineseNeolithic','Boisman_MN',\n",
    "        'BoshanChineseNeolithic','Bbdong','Linzi','HDYM1','HQSDW',\n",
    "        'Zongri','Pukagongma','Chokhopani1','Mebrak','Samdzong']\n",
    "#        'Kolyma_River']\n",
    "\n",
    "ancnames=[\"Tianyuan\",'Longlin','Longlin','Xinyi',\n",
    "        'Xinyi','LiangDao','Boisman',\n",
    "        'Boshan','Bbdong','Linzi','HDYM1','HQSDW',\n",
    "        'Zongri','Pukagongma','AncTib','AncTib','AncTib']\n",
    "#        'Kolyma']\n",
    "\n",
    "mycat=[\"N/WChina\"]*8+[\"SChina\"]*14+[\"OLD\"]*3+[\"ANC_SEAsn\"]*3+[\"ANC+NAsn\"]*11\n",
    "mypops=eas+ancids\n",
    "\n",
    "megafile=open(pD+fh+\".\"+subset1+\".\"+subset2+\".popset.megaGroup\",'w')\n",
    "for ind,i in enumerate(mypops):\n",
    "    megafile.write(\"%s\\t%s\\n\" % (i,mycat[ind])) \n",
    "megafile.close()\n",
    "\n",
    "evecfile=open(pD+fh+\".\"+subset1+\".evec\",'r')\n",
    "newevecfile=open(pD+fh+\".\"+subset1+\".\"+subset2+\".popset.evec\",'w')\n",
    "for line in evecfile:\n",
    "    if \"#eigvals\" in line: newevecfile.write(line)\n",
    "    x=line.split()\n",
    "    if x[-1] in mypops: newevecfile.write(line)\n",
    "    else: continue\n",
    "evecfile.close()\n",
    "newevecfile.close()\n"
   ]
  },
  {
   "cell_type": "code",
   "execution_count": null,
   "metadata": {
    "collapsed": true
   },
   "outputs": [],
   "source": []
  },
  {
   "cell_type": "code",
   "execution_count": null,
   "metadata": {
    "collapsed": true
   },
   "outputs": [],
   "source": []
  },
  {
   "cell_type": "code",
   "execution_count": 1,
   "metadata": {},
   "outputs": [
    {
     "data": {
      "text/plain": [
       "'Made par file for smartpca!'"
      ]
     },
     "execution_count": 1,
     "metadata": {},
     "output_type": "execute_result"
    }
   ],
   "source": [
    "##MAKE EVEC\n",
    "\n",
    "import plotting_funcs as pf\n",
    "import projmodules as pm\n",
    "\n",
    "pD=\"/home/melinda_yang/projects/bronzeage/2.2M_analysis/pca/\"\n",
    "datpD=\"/home/melinda_yang/data/2.2M/\"\n",
    "fh=\"UPA_all8\"\n",
    "outlier=0\n",
    "subset=\"ASN01_o\"+str(outlier)\n",
    "\n",
    "eas=[\"Oroqen\",\"Daur\",\"Hezhen\",\"Xibo\",\"Japanese\",\"Korean\",\n",
    "        \"Tu\",\"Han\",\"Tujia\",\"Miao\",\"Yi\",\"She\",\"Naxi\",\"Atayal\",\n",
    "        \"Ami\",\"Lahu\",\"Dai\",\"Kinh\",\"Burmese\",\"Thai\",\"Cambodian\",\"Tibetan\",\"Uygur\"]\n",
    "samer=[\"Clovis\",\"Pima\",\"Mayan\",\"Mixe\",\"Zapotec\",\"Piapoco\",\n",
    "        \"Karitiana\",\"Surui\",\"Quechua\",\"Chane\",\"Nahua\",\n",
    "        \"Cree\",\"Chipewyan\",'Saqqaq']\n",
    "sib=[\"Aleut\",\"Tlingit\",\"Mansi\",\"Chukchi\",\"Tubalar\",\"Kyrgyz\",\"Ulchi\",\n",
    "    \"Mongola\",\"Altaian\",\"Even\",\"Yakut\",\"Itelman\",\n",
    "    \"Eskimo_Sireniki\",\"Eskimo_Naukan\",\"Eskimo_Chaplin\"]\n",
    "pacific=[\"Onge\",\"Papuan\",\"Maori\",\"Igorot\",\"Hawaiian\",\n",
    "         \"Dusun\",\"Bougainville\",\"Australian\"]\n",
    "oasia=[\"Sherpa\",\"Kusunda\"]\n",
    "ancids=[\"Tianyuan\",'Longlin','Longlin_com','Xinyi',\n",
    "        'Xinyi_other','LiangDaoChineseNeolithic','Boisman_MN',\n",
    "        'BoshanChineseNeolithic','Bbdong','Linzi','HDYM1','HQSDW',\n",
    "        'Zongri','Pukagongma','Chokhopani1','Mebrak','Samdzong',\n",
    "        'Kolyma_River'] ##'Yana_old','Yana_old2',\"Donghuigou\",\"Balikun\"\n",
    "#eup=[\"UstIshim\",\"Oase1\",\"Tianyuan\",\"Kostenki14\",\"GoyetQ116-1\",\n",
    "#     \"Vestonice16\",\"Yana_old\",\"Yana_old2\",\n",
    "#     \"Malta1\",'AfontovaGora3',\"ElMiron\",\"Villabruna\",\"Bichon\",\n",
    "#     \"Satsurblia\",\"Kotias\",\"Karelia\",\"Motala12\",\"Loschbour\",\"LaBrana1\",\n",
    "#     \"Hungarian.KO1\",\"Stuttgart\",\"French\",\"Sardinian\",\"Saami\"]\n",
    "asian=eas+ancids+samer+sib+pacific+oasia\n",
    "\n",
    "myset=asian\n",
    "\n",
    "pcapopfile=open(pD+fh+\".\"+subset+\".pop\",'w')\n",
    "pcapopfile.write('\\n'.join(myset))\n",
    "pcapopfile.close()\n",
    "\n",
    "pm.smartpca_par(pD,fh,subset,datpd=datpD,outlier=outlier,newfilename=pD+fh+\".\"+subset,\n",
    "                lsqproject=True,poplistname=pD+fh+\".\"+subset+\".pop\")"
   ]
  },
  {
   "cell_type": "markdown",
   "metadata": {},
   "source": [
    "## Separate our evec file to wanted populations"
   ]
  },
  {
   "cell_type": "code",
   "execution_count": 6,
   "metadata": {
    "collapsed": true
   },
   "outputs": [],
   "source": [
    "\n",
    "pD=\"/home/melinda_yang/projects/bronzeage/2.2M_analysis/pca/\"\n",
    "datpD=\"/home/melinda_yang/data/2.2M/\"\n",
    "fh=\"UPA_all8\"\n",
    "outlier=0\n",
    "subset=\"ASN01_o\"+str(outlier)\n",
    "\n",
    "popfilename=open(pD+fh+\".\"+subset+\".pop\",'r')\n",
    "mypops=[i.strip() for i in popfilename]\n",
    "popfilename.close()\n",
    "\n",
    "evecfile=open(pD+fh+\".\"+subset+\".evec\",'r')\n",
    "newevecfile=open(pD+fh+\".\"+subset+\".popset.evec\",'w')\n",
    "for line in evecfile:\n",
    "    if \"#eigvals\" in line: newevecfile.write(line)\n",
    "    x=line.split()\n",
    "    if x[-1] in mypops: newevecfile.write(line)\n",
    "    else: continue\n",
    "evecfile.close()\n",
    "newevecfile.close()\n"
   ]
  },
  {
   "cell_type": "markdown",
   "metadata": {},
   "source": [
    "## Separate our evec file to wanted populations, only EAS"
   ]
  },
  {
   "cell_type": "code",
   "execution_count": 9,
   "metadata": {
    "collapsed": true
   },
   "outputs": [],
   "source": [
    "\n",
    "pD=\"/home/melinda_yang/projects/bronzeage/2.2M_analysis/pca/\"\n",
    "datpD=\"/home/melinda_yang/data/2.2M/\"\n",
    "fh=\"UPA_all8\"\n",
    "outlier=0\n",
    "subset=\"ASN01_o\"+str(outlier)\n",
    "\n",
    "eas=[\"Oroqen\",\"Daur\",\"Hezhen\",\"Xibo\",\"Japanese\",\"Korean\",\n",
    "        \"Tu\",\"Han\",\"Tujia\",\"Miao\",\"Yi\",\"She\",\"Naxi\",\"Atayal\",\n",
    "        \"Ami\",\"Lahu\",\"Dai\",\"Kinh\",\"Burmese\",\"Thai\",\"Cambodian\",\"Tibetan\"] #,\"Uygur\"\n",
    "\n",
    "ancids=[\"Tianyuan\",'Longlin','Longlin_com','Xinyi',\n",
    "        'Xinyi_other','LiangDaoChineseNeolithic','Boisman_MN',\n",
    "        'BoshanChineseNeolithic','Bbdong','Linzi','HDYM1','HQSDW',\n",
    "        'Zongri','Pukagongma','Chokhopani1','Mebrak','Samdzong'] \n",
    "        ##'Yana_old','Yana_old2',\"Donghuigou\",\"Balikun\",'Kolyma_River'\n",
    "\n",
    "ancnames=[\"Tianyuan\",'Longlin','Longlin','Xinyi',\n",
    "        'Xinyi','LiangDao','Boisman',\n",
    "        'Boshan','Bbdong','Linzi','HDYM1','HQSDW',\n",
    "        'Zongri','Pukagongma','AncTib','AncTib','AncTib'] \n",
    "mycat=[\"NChina\"]*7+[\"SChina\"]*14+[\"WChina\"]+ancnames\n",
    "mypops=eas+ancids\n",
    "\n",
    "\n",
    "evecfile=open(pD+fh+\".\"+subset+\".evec\",'r')\n",
    "newevecfile=open(pD+fh+\".\"+subset+\".ANCPDEAS.evec\",'w')\n",
    "for line in evecfile:\n",
    "    if \"#eigvals\" in line: newevecfile.write(line)\n",
    "    x=line.split()\n",
    "    if x[-1] in mypops: newevecfile.write(line)\n",
    "    else: continue\n",
    "evecfile.close()\n",
    "newevecfile.close()\n"
   ]
  },
  {
   "cell_type": "markdown",
   "metadata": {},
   "source": [
    "## R Script from Hongru"
   ]
  },
  {
   "cell_type": "code",
   "execution_count": 9,
   "metadata": {},
   "outputs": [
    {
     "name": "stdout",
     "output_type": "stream",
     "text": [
      "Overwriting /home/melinda_yang/projects/bronzeage/2.2M_analysis/pca/plotPcaFromSmartpca.R\n"
     ]
    }
   ],
   "source": [
    "%%writefile /home/melinda_yang/projects/bronzeage/2.2M_analysis/pca/plotPcaFromSmartpca.R\n",
    "args <- commandArgs(trailingOnly = TRUE)\n",
    "\n",
    "if(length(args) < 1) {\n",
    "  args <- c(\"--help\")\n",
    "}\n",
    " \n",
    "## Help section\n",
    "if(\"--help\" %in% args) {\n",
    "  cat(\"\n",
    "      Example:\n",
    "      Rscript plotPcaFromSmartpca.R  /home/hongru/work/project/aDNA/tibetan/pca/modernEastAsian.pca.evec /home/hongru/work/project/aDNA/tibetan/pca/modernEastAsian.pca.megaGroup 8 modernEastAsian\n",
    "    \n",
    "      evec file should already have the individual name and population name. See the example.\n",
    "      megaGroup.file: the populations are assigned to larger megaGroup\n",
    "      seed: random integer, will change the color assignment.\n",
    "      Rscript plotPcaFromSmartpca.R  smartpca.output.evec megaGroup.file seed output.name\n",
    "      For adjusting, please go to plateau.ipynb.\n",
    "\t  Notes:\n",
    "\t  (1) if do not want to assign megaGroup, just one pop one megaGroup\n",
    "\t  (2) One megaGroup will get a color, within the megaGroup, each population will get a shape.\\n\\n\")\n",
    "    \n",
    "  q(save=\"no\")\n",
    "}\n",
    "\n",
    "##########################################################################\n",
    "##\n",
    "## Read in pca matrix and merge it with megaGroup.\n",
    "##\n",
    "##########################################################################\n",
    "library(RColorBrewer)\n",
    "library(scales)\n",
    "\n",
    "pca = read.table(args[1], header=F)\n",
    "megaGroup = read.table(args[2], header=F)\n",
    "names(pca)[1] = c(\"indName\")\n",
    "names(pca)[12] = c(\"popName\")\n",
    "names(megaGroup) = c(\"popName\", \"megaGroupName\")\n",
    "pca.comb = merge (pca, megaGroup, by=\"popName\", all.x=T)\n",
    "##########################################################################\n",
    "##\n",
    "## Get the color and shape box ready.\n",
    "##\n",
    "##########################################################################\n",
    "col.number = length(unique(sort(pca.comb$megaGroupName)))  ## 13 is the number of color to use\n",
    "pch.number = max(table(megaGroup$megaGroupName))  ## 13 is the number of shapes to use.\n",
    "col.box = c()\n",
    "if (col.number>11){\n",
    "    col.box=brewer.pal(11, \"Spectral\")\n",
    "    col.box = colorRampPalette(col.box)(col.number) \n",
    "} else {\n",
    "    col.box = brewer.pal(col.number, \"Spectral\")\n",
    "}\n",
    "set.seed(args[3])\n",
    "col.box = sample(col.box)\n",
    "pch.box = c(16,15,17,4:14,22,2,1)\n",
    "##########################################################################\n",
    "##\n",
    "## Fix the pch index\n",
    "##\n",
    "##########################################################################\n",
    "pca.comb$pchIndex = c(\"NA\")\n",
    "for (g in unique(sort(pca.comb$megaGroup))){\n",
    "    pca.comb[pca.comb$megaGroup==g,]$pchIndex = as.numeric(as.factor(as.character(pca.comb[pca.comb$megaGroup==g,]$popName)))\n",
    "    ## Under each megaGroup, make each population have factor assigned from 1.\n",
    "}\n",
    "\n",
    "##########################################################################\n",
    "##\n",
    "## Order the matrix\n",
    "## Mel: Added write to table line\n",
    "## Important for df.legend to make sense.\n",
    "##\n",
    "##########################################################################\n",
    "pca.comb = pca.comb[with(pca.comb, order(megaGroupName, popName)), ]   ## Sort the dataframe\n",
    "write.table(pca.comb,row.names=TRUE,col.names=TRUE,quote=FALSE)\n",
    "\n",
    "##########################################################################\n",
    "##\n",
    "## Now do the plot\n",
    "##\n",
    "##########################################################################\n",
    "pdf(file = paste(args[4],\".pdf\", sep=\"\"), paper=\"us\" )\n",
    "par(mar=c(5,4,4,2))\n",
    "\n",
    "xmin = min(pca.comb$V2)*1.3\n",
    "xmax = max(pca.comb$V2)*1.1\n",
    "ymin = min(pca.comb$V3)*1.5\n",
    "ymax = max(pca.comb$V3)*1.1   ### Adjust to leave more space for legend plotting.\n",
    "print (xmin)\n",
    "print (pca.comb$V3)\n",
    "print (max(pca.comb$V3))\n",
    "print (min(pca.comb$V3))\n",
    "plot(pca.comb$V2, pca.comb$V3, xlim=c(xmin, xmax), ylim=c(ymin, ymax), col='white')\n",
    "df.legend = read.table(text = \"\", col.names = c(\"group\",\"color\",\"index\"),colClasses = c(\"character\",\"numeric\",\"numeric\"))\n",
    "\n",
    "for(i in 1:dim(pca.comb)[1]){    \n",
    "    col.index = as.numeric(pca.comb$megaGroupName[i])%%(col.number+1) \n",
    "    ch.index = as.numeric(pca.comb$pchIndex[i])%%(length(pch.box)+1) \n",
    "    #ch.index = 1\n",
    "    df.legend[i,1] = as.character(pca.comb$popName[i])\n",
    "    df.legend[i,2] = col.index\n",
    "    df.legend[i,3] = ch.index\n",
    "    points(pca.comb$V2[i], pca.comb$V3[i], cex=0.7, col = alpha(col.box[col.index],0.99), pch = pch.box[ch.index])\n",
    "}\n",
    "\n",
    "\n",
    "##########################################################################\n",
    "##\n",
    "## Add the legend\n",
    "##\n",
    "##########################################################################\n",
    "\n",
    "df.legend = unique(df.legend)\n",
    "names(df.legend) = c(\"group\",\"color\",\"index\")\n",
    "\n",
    "legend(\"bottomleft\", \n",
    "       legend=df.legend$group, \n",
    "       cex=0.5,\n",
    "       title=\"Modern East Asian\",\n",
    "       title.adj=0.01,\n",
    "       pch = pch.box[df.legend$index], \n",
    "       col = col.box[df.legend$color], \n",
    "       ncol=5)\n",
    "dev.off()\n",
    "\n"
   ]
  },
  {
   "cell_type": "code",
   "execution_count": null,
   "metadata": {
    "collapsed": true
   },
   "outputs": [],
   "source": []
  },
  {
   "cell_type": "code",
   "execution_count": null,
   "metadata": {
    "collapsed": true
   },
   "outputs": [],
   "source": []
  },
  {
   "cell_type": "code",
   "execution_count": null,
   "metadata": {
    "collapsed": true
   },
   "outputs": [],
   "source": []
  },
  {
   "cell_type": "code",
   "execution_count": 2,
   "metadata": {},
   "outputs": [
    {
     "name": "stdout",
     "output_type": "stream",
     "text": [
      "## number of fields: 12\n",
      "## pops: Oroqen:Daur:Hezhen:Xibo:Japanese:Korean:Tu:Han:Tujia:Miao:Yi:She:Naxi:Atayal:Ami:Lahu:Dai:Kinh:Burmese:Thai:Cambodian:Tibetan:Uygur:Tianyuan:Longlin:Longlin_com:Xinyi:Xinyi_other:LiangDaoChineseNeolithic:Boisman_MN:BoshanChineseNeolithic:Bbdong:Linzi:HDYM1:HQSDW:Zongri:Pukagongma:Chokhopani1:Mebrak:Samdzong:Kolyma_River:Clovis:Pima:Mayan:Mixe:Zapotec:Piapoco:Karitiana:Surui:Quechua:Chane:Nahua:Cree:Chipewyan:Saqqaq:Aleut:Tlingit:Mansi:Chukchi:Tubalar:Kyrgyz:Ulchi:Mongola:Altaian:Even:Yakut:Itelman:Eskimo_Sireniki:Eskimo_Naukan:Eskimo_Chaplin:Onge:Papuan:Maori:Igorot:Hawaiian:Dusun:Bougainville:Australian:Sherpa:Kusunda\n",
      "UPA_all8.ASN01_o0.pop\n"
     ]
    },
    {
     "name": "stderr",
     "output_type": "stream",
     "text": [
      "         line 0: warning: Skipping data file with no valid points\n",
      "         line 0: warning: Skipping data file with no valid points\n",
      "         line 0: warning: Skipping data file with no valid points\n",
      "         line 0: warning: Skipping data file with no valid points\n",
      "         line 0: warning: Skipping data file with no valid points\n",
      "         line 0: warning: Skipping data file with no valid points\n",
      "         line 0: warning: Skipping data file with no valid points\n",
      "         line 0: warning: Skipping data file with no valid points\n",
      "         line 0: warning: Skipping data file with no valid points\n",
      "         line 0: warning: Skipping data file with no valid points\n",
      "         line 0: warning: Warning - difficulty fitting plot titles into key\n",
      "Error: /undefinedfilename in (UPA_all8.ASN01_o0.ps)\n",
      "Operand stack:\n",
      "\n",
      "Execution stack:\n",
      "   %interp_exit   .runexec2   --nostringval--   --nostringval--   --nostringval--   2   %stopped_push   --nostringval--   --nostringval--   --nostringval--   false   1   %stopped_push\n",
      "Dictionary stack:\n",
      "   --dict:1198/1684(ro)(G)--   --dict:0/20(G)--   --dict:78/200(L)--\n",
      "Current allocation mode is local\n",
      "Last OS error: No such file or directory\n",
      "GPL Ghostscript 9.18: Unrecoverable error, exit code 1\n"
     ]
    }
   ],
   "source": [
    "%%bash\n",
    "pD=\"/home/melinda_yang/projects/bronzeage/2.2M_analysis/pca/\"\n",
    "fh=\"UPA_all8\"\n",
    "subset=\"ASN01_o0\"\n",
    "editsub=\"ancpdEAS\"\n",
    "\n",
    "#cut -c141- ${newdir}${fh}.${subset}.evec | sort | uniq > ${newdir}${fh}.${subset}.evec.pop\n",
    "#ploteig -i ${fh}.${subset}.evec -p ${pD}${fh}.${editsub}.pop -c 1:2 -x -k -o ${fh}.${subset}.${editsub}.xtxt\n",
    "#ps2pdf ${fh}.${subset}.${editsub}.ps ${fh}.${subset}.${editsub}.pdf\n",
    "\n",
    "ploteig -i ${pD}${fh}.${subset}.evec -p ${pD}${fh}.${subset}.pop -c 1:2 -x -k -o ${pD}${fh}.${subset}.xtxt\n",
    "ps2pdf ${fh}.${subset}.ps ${fh}.${subset}.pdf"
   ]
  },
  {
   "cell_type": "code",
   "execution_count": null,
   "metadata": {
    "collapsed": true
   },
   "outputs": [],
   "source": [
    "%%bash\n",
    "\n",
    "pD=\"/home/melinda_yang/projects/bronzeage/2.2M_analysis/pca/\"\n",
    "fh=\"UPA_all8\"\n",
    "subset=\"ASN01_o0\"\n",
    "editsub=\"ancpdEAS\"\n",
    "newdir=${pD}pcastuff/${subset}/\n",
    "\n",
    "#gnuplot ${newdir}mod_${fh}.${subset}.xtxt > ${newdir}mod_${fh}.${subset}.ps\n",
    "#ps2pdf ${newdir}mod_${fh}.${subset}.ps ${newdir}mod_${fh}.${subset}.pdf\n",
    "\n",
    "gnuplot ${newdir}mod_${fh}.${subset}.${editsub}.xtxt > ${newdir}mod_${fh}.${subset}.${editsub}.ps\n",
    "ps2pdf ${newdir}mod_${fh}.${subset}.${editsub}.ps ${newdir}mod_${fh}.${subset}.${editsub}.pdf"
   ]
  }
 ],
 "metadata": {
  "kernelspec": {
   "display_name": "Python 2",
   "language": "python",
   "name": "python2"
  },
  "language_info": {
   "codemirror_mode": {
    "name": "ipython",
    "version": 2
   },
   "file_extension": ".py",
   "mimetype": "text/x-python",
   "name": "python",
   "nbconvert_exporter": "python",
   "pygments_lexer": "ipython2",
   "version": "2.7.13"
  }
 },
 "nbformat": 4,
 "nbformat_minor": 2
}
