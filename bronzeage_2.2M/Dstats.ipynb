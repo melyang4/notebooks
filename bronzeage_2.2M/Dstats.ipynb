{
 "cells": [
  {
   "cell_type": "code",
   "execution_count": 25,
   "metadata": {
    "collapsed": false
   },
   "outputs": [
    {
     "name": "stdout",
     "output_type": "stream",
     "text": [
      "Overwriting /home/melinda_yang/projects/bronzeage/2.2M_analysis/D_EUP.py\n"
     ]
    }
   ],
   "source": [
    "%%writefile /home/melinda_yang/projects/bronzeage/2.2M_analysis/D_EUP.py\n",
    "import plotting_funcs as pf\n",
    "#import HOdata\n",
    "allids=[\"Oroqen\",\"Daur\",\"Hezhen\",\"Xibo\",\"Japanese\",\"Korean\",\n",
    "        \"Tu\",\"Han\",\"Tujia\",\"Miao\",\"Yi\",\"She\",\"Naxi\",\"Atayal\",\n",
    "        \"Ami\",\"Lahu\",\"Dai\",\"Kinh\",\"Burmese\",\"Thai\",\"Cambodian\",\n",
    "        \"Clovis\",\"Pima\",\"Mayan\",\"Mixe\",\"Zapotec\",\"Piapoco\",\n",
    "        \"Karitiana\",\"Surui\",\"Quechua\",\"Chane\",\"Tibetan\",\"Uygur\"]\n",
    "ancids=[\"Tianyuan\",\"Donghuigou\",\"Balikun\",'Chokhopani1','Mebrak',\n",
    "        'Samdzong','BoshanChineseNeolithic','Bbdong','Boisman_MN',\n",
    "        'Linzi','HDYM1','HQSDW','Pukagongma','Zongri',\n",
    "        'LiangDaoChineseNeolithic','Longlin','Longlin_d','Xinyi',\n",
    "        'Xinyi_d','Yana_old','Yana_old2','Kolyma_River']\n",
    "otherasia=[\"Onge\",\"Kusunda\",\"Yakut\",\"Ulchi\",\"Tubalar\",\"Tlingit\",\n",
    "           \"Mongola\",\"Mansi\",\"Kyrgyz\",\"Itelman\",\"Even\",\n",
    "           \"Eskimo_Sireniki\",\"Eskimo_Naukan\",\"Eskimo_Chaplin\",\n",
    "           \"Chukchi\",\"Altaian\",\"Aleut\",\"Papuan\",\"Maori\",\"Igorot\",\n",
    "           \"Hawaiian\",\"Dusun\",\"Bougainville\",\"Australian\"]\n",
    "otherasia2=[\"Cree\",\"Chipewyan\",\"Saami\",\"Nahua\",\"Yakut\",\"Sherpa\",\"Saqqaq\"]\n",
    "eup=[\"UstIshim\",\"Oase1\",\"Tianyuan\",\"Kostenki14\",\"GoyetQ116-1\",\n",
    "     \"Vestonice16\",\"Yana_old\",\"Yana_old2\",\n",
    "     \"Malta1\",'AfontovaGora3',\"ElMiron\",\"Villabruna\",\"Bichon\",\n",
    "     \"Satsurblia\",\"Kotias\",\"Karelia\",\"Motala12\",\"Loschbour\",\"LaBrana1\",\n",
    "     \"Hungarian.KO1\",\"Stuttgart\"]\n",
    "#eup=[\"UstIshim\",\"Oase1\",\"Kostenki14\",\"GoyetQ116-1\",\n",
    "#     \"Vestonice16\",\n",
    "#     \"Malta1\",\"ElMiron\",\"Villabruna\",\"Bichon\",\n",
    "#     \"Satsurblia\",\"Kotias\",\"Karelia\",\"Loschbour\",\"LaBrana1\",\n",
    "#     \"Hungarian.KO1\",\"Stuttgart\",'French','Sardinian',\n",
    "#     'AfontovaGora3',\"Motala12\"]\n",
    "#eup=[\"UstIshim\",\"Oase1\",\"Tianyuan\",\"Kostenki14\",\"GoyetQ116-1\",\n",
    "#     \"Vestonice16\",\"Malta1\",'AfontovaGora3',\"ElMiron\"]\n",
    "\n",
    "pD=\"/home/melinda_yang/data/2.2M/\"\n",
    "outpd=\"/home/melinda_yang/projects/bronzeage/2.2M_analysis/D_EarlyUP/\"\n",
    "outpd=\"/home/melinda_yang/projects/bronzeage/2.2M_analysis/D_P1_ALLEAS_ALLEUR_Mbuti/\"\n",
    "fh=\"UPA_all7\"\n",
    "\n",
    "p4s=[\"Mbuti\",\"Chimp\"]\n",
    "\n",
    "#myid1= 'OTHER2ASN'\n",
    "#myid2= \"ALLEUR\"\n",
    "\n",
    "myid1= 'EUP1'\n",
    "myid2= \"EUP1\"\n",
    "\n",
    "p3s=['Yana_old','Yana_old2','Kolyma_River']\n",
    "p3s=[\"Kolyma_River\"]\n",
    "\n",
    "\n",
    "comparingpop=eup\n",
    "#bsf,bsfsubset=(pD+fh+\".transi.snp\",'transv')\n",
    "bsf,bsfsubset=(0,'all')\n",
    "for myp3 in p3s:\n",
    "    for myp4 in p4s:\n",
    "        p1,p2,p3,p4 = (myp3,comparingpop,eup,myp4)\n",
    "        subset = bsfsubset+'.'+p1+'_'+myid1+'_'+myid2+'_'+p4\n",
    "        mytups = [(p1,i,j,p4,'p1_'+i) for ind,i in enumerate(p2) for j in p3 if i != j and p1!=i and p1!=j]\n",
    "        pf.runD(p2,p3,mytups,pD,fh,subset,(1,2),(0,),fixed=(p1,0,0,p4),outpd=outpd,badsnpfile=bsf)\n",
    "\n",
    "        #p1,p2,p3,p4 = (myp3,comparingpop,otherasia2, myp4)\n",
    "        #subset = bsfsubset+'.'+p1+'_'+myid2+'_'+myid1+'_'+p4\n",
    "        #mytups = [(p1,i,j,p4,'p1_'+i) for ind,i in enumerate(p2) for j in p3 if i != j and p1!=i and p1!=j]\n",
    "        #pf.runD(p3,p2,mytups,pD,fh,subset,(2,1),(0,),fixed=(p1,0,0,p4),outpd=outpd,badsnpfile=bsf)\n",
    "\n",
    "        p1,p2,p3,p4 = (comparingpop,eup,myp3,myp4)\n",
    "        subset = bsfsubset+'.'+myid1+'_'+myid2+'_'+p3+'_'+p4\n",
    "        mytups = [(i,j,p3,p4,'p1_'+i) for ind,i in enumerate(p1) for j in p2 if i != j and p3!=i and p3!=j]\n",
    "        pf.runD(p1,p2,mytups,pD,fh,subset,(0,1),(0,),fixed=(0,0,p3,p4),outpd=outpd,badsnpfile=bsf)\n",
    "\n"
   ]
  },
  {
   "cell_type": "code",
   "execution_count": 6,
   "metadata": {
    "collapsed": false
   },
   "outputs": [],
   "source": [
    "pD=\"/home/melinda_yang/data/2.2M/\"\n",
    "snpfile=open(pD+\"UPA_all7.snp\",'r')\n",
    "newsnpfile=open(pD+\"UPA_all7.transi.snp\",'w')\n",
    "transitions=[\"AG\",\"GA\",\"CT\",\"TC\"]\n",
    "\n",
    "for line in snpfile: \n",
    "    x=line.split()\n",
    "    if ''.join(x[4:]) in transitions: \n",
    "        newsnpfile.write(line)\n",
    "        \n",
    "snpfile.close()\n",
    "newsnpfile.close()"
   ]
  },
  {
   "cell_type": "code",
   "execution_count": 14,
   "metadata": {
    "collapsed": false
   },
   "outputs": [
    {
     "name": "stdout",
     "output_type": "stream",
     "text": [
      "Overwriting /home/melinda_yang/projects/bronzeage/2.2M_analysis/D_EUP_ASNAMER.py\n"
     ]
    }
   ],
   "source": [
    "%%writefile /home/melinda_yang/projects/bronzeage/2.2M_analysis/D_EUP_ASNAMER.py\n",
    "import plotting_funcs as pf\n",
    "#import HOdata\n",
    "allids=[\"Oroqen\",\"Daur\",\"Hezhen\",\"Xibo\",\"Japanese\",\"Korean\",\n",
    "        \"Tu\",\"Han\",\"Tujia\",\"Miao\",\"Yi\",\"She\",\"Naxi\",\"Atayal\",\n",
    "        \"Ami\",\"Lahu\",\"Dai\",\"Kinh\",\"Burmese\",\"Thai\",\"Cambodian\",\n",
    "        \"Clovis\",\"Pima\",\"Mayan\",\"Mixe\",\"Zapotec\",\"Piapoco\",\n",
    "        \"Karitiana\",\"Surui\",\"Quechua\",\"Chane\",\"Tibetan\",\"Uygur\"]\n",
    "ancids=[\"Tianyuan\",\"Donghuigou\",\"Balikun\",'Chokhopani1','Mebrak',\n",
    "        'Samdzong','BoshanChineseNeolithic','Bbdong','Boisman_MN',\n",
    "        'Linzi','HDYM1','HQSDW','Pukagongma','Zongri',\n",
    "        'LiangDaoChineseNeolithic','Longlin','Longlin_d','Xinyi',\n",
    "        'Xinyi_d','Yana_old','Yana_old2','Kolyma_River']\n",
    "otherasia=[\"Onge\",\"Kusunda\",\"Yakut\",\"Ulchi\",\"Tubalar\",\"Tlingit\",\n",
    "           \"Mongola\",\"Mansi\",\"Kyrgyz\",\"Itelman\",\"Even\",\n",
    "           \"Eskimo_Sireniki\",\"Eskimo_Naukan\",\"Eskimo_Chaplin\",\n",
    "           \"Chukchi\",\"Altaian\",\"Aleut\",\"Papuan\",\"Maori\",\"Igorot\",\n",
    "           \"Hawaiian\",\"Dusun\",\"Bougainville\",\"Australian\"]\n",
    "\n",
    "\n",
    "eup=[\"UstIshim\",\"Tianyuan\",\"Kostenki14\",\"GoyetQ116-1\",\"Vestonice16\",\n",
    "     \"Malta1\",'AfontovaGora3',\"ElMiron\",\"Villabruna\",\"Bichon\",\n",
    "     \"Karelia\",\"Loschbour\",\"LaBrana1\",\"Hungarian.KO1\",\n",
    "     \"Motala12\",\"Satsurblia\",\"Kotias\",\"Stuttgart\"]\n",
    "\n",
    "#eup=[\"UstIshim\",\"Oase1\",\"Tianyuan\",\"Kostenki14\",\"GoyetQ116-1\",\n",
    "#     \"Vestonice16\",\"Malta1\",'AfontovaGora3',\"ElMiron\"]\n",
    "\n",
    "pD=\"/home/melinda_yang/data/2.2M/\"\n",
    "outpd=\"/home/melinda_yang/projects/bronzeage/2.2M_analysis/D_EarlyUP/\"\n",
    "fh=\"UPA_all7\"\n",
    "\n",
    "p4s=[\"Mbuti\",\"Chimp\"]\n",
    "mysets=[]\n",
    "mysets.append(([\"Clovis\",\"Surui\",\"Karitiana\",\"Mixe\"],'SELAMER'))\n",
    "mysets.append(([\"Tlingit\",\"Cree\",\"Aleut\",\"Chukchi\"],'SELSIB1'))\n",
    "mysets.append(([\"Eskimo_Sireniki\",\"Itelman\",\"Even\",\"Yakut\"],'SELSIB2'))\n",
    "mysets.append(([\"Ami\",\"Dai\",\"Han\",\"Japanese\"],'SELPDEAS'))\n",
    "mysets.append(([\"BoshanChineseNeolithic\",\"Boisman_MN\",\"HDYM1\",\"HQSDW\"],'SELANCEAS1'))\n",
    "mysets.append(([\"LiangDaoChineseNeolithic\",\"Longlin\",\"Zongri\",\"Pukagongma\"],'SELANCEAS2'))\n",
    "mysets.append(([\"Oroqen\",\"Hezhen\",\"Daur\",\"XIBO\"],'SELPDEAS2'))\n",
    "print mysets\n",
    "myid2= \"EUP\"\n",
    "\n",
    "p3s=['Yana_old','Yana_old2','Kolyma_River',\"Malta1\",\"AfontovaGora3\"]\n",
    "\n",
    "#bsf,bsfsubset=(pD+fh+\".transi.snp\",'transv')\n",
    "bsf,bsfsubset=(0,'all')\n",
    "\n",
    "for myinds,myid1 in mysets:\n",
    "    if myid1!=\"SELPDEAS2\": continue\n",
    "    for myp3 in p3s:\n",
    "        for myp4 in p4s:\n",
    "            p1,p2,p3,p4 = (myp3,myinds,eup,myp4)\n",
    "            subset = bsfsubset+'.'+p1+'_'+myid1+'_'+myid2+'_'+p4\n",
    "            mytups = [(p1,i,j,p4,'p1_'+i) for ind,i in enumerate(p2) for j in p3 if i != j and p1!=i and p1!=j]\n",
    "            pf.runD(p3,p2,mytups,pD,fh,subset,(2,1),(0,),fixed=(p1,0,0,p4),outpd=outpd,badsnpfile=bsf)\n",
    "\n",
    "            p1,p2,p3,p4 = (myp3,eup,myinds, myp4)\n",
    "            subset = bsfsubset+'.'+p1+'_'+myid2+'_'+myid1+'_'+p4\n",
    "            mytups = [(p1,i,j,p4,'p1_'+i) for ind,i in enumerate(p2) for j in p3 if i != j and p1!=i and p1!=j]\n",
    "            pf.runD(p2,p3,mytups,pD,fh,subset,(1,2),(0,),fixed=(p1,0,0,p4),outpd=outpd,badsnpfile=bsf)\n",
    "\n",
    "            p1,p2,p3,p4 = (eup,myinds,myp3,myp4)\n",
    "            subset = bsfsubset+'.'+myid2+'_'+myid1+'_'+p3+'_'+p4\n",
    "            mytups = [(i,j,p3,p4,'p1_'+i) for ind,i in enumerate(p1) for j in p2 if i != j and p3!=i and p3!=j]\n",
    "            pf.runD(p1,p2,mytups,pD,fh,subset,(0,1),(0,),fixed=(0,0,p3,p4),outpd=outpd,badsnpfile=bsf)\n",
    "\n"
   ]
  },
  {
   "cell_type": "code",
   "execution_count": null,
   "metadata": {
    "collapsed": true
   },
   "outputs": [],
   "source": []
  },
  {
   "cell_type": "code",
   "execution_count": 1,
   "metadata": {
    "collapsed": false
   },
   "outputs": [
    {
     "name": "stdout",
     "output_type": "stream",
     "text": [
      "Writing /home/melinda_yang/projects/bronzeage/2.2M_analysis/D_vsAFR.py\n"
     ]
    }
   ],
   "source": [
    "%%writefile /home/melinda_yang/projects/bronzeage/2.2M_analysis/D_vsAFR.py\n",
    "import plotting_funcs as pf\n",
    "#import HOdata\n",
    "allids=[\"Oroqen\",\"Daur\",\"Hezhen\",\"Xibo\",\"Japanese\",\"Korean\",\n",
    "        \"Tu\",\"Han\",\"Tujia\",\"Miao\",\"Yi\",\"She\",\"Naxi\",\"Atayal\",\n",
    "        \"Ami\",\"Lahu\",\"Dai\",\"Kinh\",\"Burmese\",\"Thai\",\"Cambodian\",\n",
    "        \"Clovis\",\"Pima\",\"Mayan\",\"Mixe\",\"Zapotec\",\"Piapoco\",\n",
    "        \"Karitiana\",\"Surui\",\"Quechua\",\"Chane\",\"Tibetan\",\"Uygur\"]\n",
    "ancids=[\"Tianyuan\",\"Donghuigou\",\"Balikun\",'Chokhopani1','Mebrak',\n",
    "        'Samdzong','BoshanChineseNeolithic','Bbdong','Boisman_MN',\n",
    "        'Linzi','HDYM1','HQSDW','Pukagongma','Zongri',\n",
    "        'LiangDaoChineseNeolithic','Longlin','Longlin_d','Xinyi',\n",
    "        'Xinyi_d','Yana_old','Yana_old2','Kolyma_River']\n",
    "otherasia=[\"Onge\",\"Kusunda\",\"Yakut\",\"Ulchi\",\"Tubalar\",\"Tlingit\",\n",
    "           \"Mongola\",\"Mansi\",\"Kyrgyz\",\"Itelman\",\"Even\",\n",
    "           \"Eskimo_Sireniki\",\"Eskimo_Naukan\",\"Eskimo_Chaplin\",\n",
    "           \"Chukchi\",\"Altaian\",\"Aleut\",\"Papuan\",\"Maori\",\"Igorot\",\n",
    "           \"Hawaiian\",\"Dusun\",\"Bougainville\",\"Australian\"]\n",
    "otherasia2=[\"Cree\",\"Chipewyan\",\"Saami\",\"Nahua\",\"Yakut\",\"Sherpa\",\"Saqqaq\"]\n",
    "eup=[\"UstIshim\",\"Oase1\",\"Tianyuan\",\"Kostenki14\",\"GoyetQ116-1\",\n",
    "     \"Vestonice16\",\"Malta1\",'AfontovaGora3',\"ElMiron\",\"Villabruna\",\"Bichon\",\n",
    "     \"Satsurblia\",\"Kotias\",\"Karelia\",\"Motala12\",\"Loschbour\",\"LaBrana1\",\n",
    "     \"Hungarian.KO1\",\"Stuttgart\"]\n",
    "\n",
    "anc=ancids+eup\n",
    "pd=allids\n",
    "\n",
    "pD=\"/home/melinda_yang/data/2.2M/\"\n",
    "outpd=\"/home/melinda_yang/projects/bronzeage/2.2M_analysis/D_ANC_PDEAS_AFR_OUT/\"\n",
    "fh=\"UPA_all7\"\n",
    "\n",
    "p4s=[\"Chimp\"]\n",
    "\n",
    "myid1= 'ANCASN'\n",
    "myid2= \"PDEAS\"\n",
    "\n",
    "p3s=[\"Mbuti\",\"Yoruba\",\"Ju_hoan_North\",\"Mota\"]\n",
    "\n",
    "\n",
    "comparingpop=eup\n",
    "#bsf,bsfsubset=(pD+fh+\".transi.snp\",'transv')\n",
    "bsf,bsfsubset=(0,'all')\n",
    "for myp3 in p3s:\n",
    "    for myp4 in p4s:\n",
    "        p1,p2,p3,p4 = (anc,pd,myp3,myp4)\n",
    "        subset = bsfsubset+'.'+myid1+'_'+myid2+'_'+p3+'_'+p4\n",
    "        mytups = [(i,j,p3,p4,'p1_'+i) for ind,i in enumerate(p1) for j in p2 if i != j and p3!=i and p3!=j]\n",
    "        pf.runD(p1,p2,mytups,pD,fh,subset,(0,1),(0,),fixed=(0,0,p3,p4),outpd=outpd,badsnpfile=bsf)\n",
    "\n"
   ]
  },
  {
   "cell_type": "markdown",
   "metadata": {
    "collapsed": true
   },
   "source": [
    "## Comparing Kolyma to SIB/AMER"
   ]
  },
  {
   "cell_type": "markdown",
   "metadata": {},
   "source": [
    "### SIBAMER vs ANCEAS"
   ]
  },
  {
   "cell_type": "code",
   "execution_count": 9,
   "metadata": {
    "collapsed": false
   },
   "outputs": [
    {
     "name": "stdout",
     "output_type": "stream",
     "text": [
      "Overwriting /home/melinda_yang/projects/bronzeage/2.2M_analysis/D_SIBAMER_ANCEAS.py\n"
     ]
    }
   ],
   "source": [
    "%%writefile /home/melinda_yang/projects/bronzeage/2.2M_analysis/D_SIBAMER_ANCEAS.py\n",
    "import plotting_funcs as pf\n",
    "\n",
    "pD=\"/home/melinda_yang/data/2.2M/\"\n",
    "outpd=\"/home/melinda_yang/projects/bronzeage/2.2M_analysis/D_SIBAMER/\"\n",
    "fh=\"UPA_all7\"\n",
    "\n",
    "sibamer=[\"Ulchi\",\"Mongola\",\"Clovis\",\"Pima\",\"Mayan\",\"Mixe\",\"Zapotec\",\n",
    " \"Piapoco\",\"Karitiana\",\"Surui\",\"Quechua\",\"Chane\",\"Chipewyan\",\n",
    " \"Saqqaq\",\"Nahua\",\"Cree\",\"Aleut\",\"Mansi\",\"Chukchi\",\"Tlingit\",\n",
    " \"Tubalar\",\"Kyrgyz\",\"Altaian\",\"Even\",\"Yakut\",\"Itelman\",\n",
    " \"Eskimo_Sireniki\",\"Eskimo_Chaplin\",\"Eskimo_Naukan\",\"Saami\",\n",
    " \"Kolyma_River\"]\n",
    "\n",
    "pdeas=[\"Oroqen\",\"Daur\",\"Hezhen\",\"Xibo\",\"Japanese\",\"Korean\",\n",
    "        \"Tu\",\"Han\",\"Tujia\",\"Miao\",\"Yi\",\"She\",\"Naxi\",\"Atayal\",\n",
    "        \"Ami\",\"Lahu\",\"Dai\",\"Kinh\",\"Burmese\",\"Thai\",\"Cambodian\",\n",
    "        \"Tibetan\",\"Uygur\"]\n",
    "\n",
    "anceas=[\"Tianyuan\",\"Donghuigou\",\"Balikun\",'Chokhopani1','Mebrak',\n",
    "        'Samdzong','BoshanChineseNeolithic','Bbdong','Boisman_MN',\n",
    "        'Linzi','HDYM1','HQSDW','Pukagongma','Zongri',\n",
    "        'LiangDaoChineseNeolithic','Longlin','Longlin_d','Xinyi',\n",
    "        'Xinyi_d','Yana_old','Yana_old2']\n",
    "\n",
    "p4s=[\"Mbuti\",\"Chimp\"]\n",
    "\n",
    "myid1= 'SIBAMER'\n",
    "myid2= \"ANCEAS\"\n",
    "\n",
    "p3s=['Kolyma_River','Yana_old','Yana_old2',\n",
    "     'Malta1',\"AfontovaGora3\",\"Karelia\"]\n",
    "\n",
    "comparingpop1=sibamer\n",
    "comparingpop2=anceas\n",
    "#bsf,bsfsubset=(pD+fh+\".transi.snp\",'transv')\n",
    "bsf,bsfsubset=(0,'all')\n",
    "for myp3 in p3s:\n",
    "    for myp4 in p4s:\n",
    "        '''\n",
    "        p1,p2,p3,p4 = (myp3,comparingpop1,comparingpop2,myp4)\n",
    "        subset = bsfsubset+'.'+p1+'_'+myid1+'_'+myid2+'_'+p4\n",
    "        mytups = [(p1,i,j,p4,'p1_'+i) for ind,i in enumerate(p2) for j in p3 if i != j and p1!=i and p1!=j]\n",
    "        pf.runD(p2,p3,mytups,pD,fh,subset,(1,2),(0,),fixed=(p1,0,0,p4),outpd=outpd,badsnpfile=bsf)\n",
    "\n",
    "        p1,p2,p3,p4 = (comparingpop1,comparingpop2,myp3,myp4)\n",
    "        subset = bsfsubset+'.'+myid1+'_'+myid2+'_'+p3+'_'+p4\n",
    "        mytups = [(i,j,p3,p4,'p1_'+i) for ind,i in enumerate(p1) for j in p2 if i != j and p3!=i and p3!=j]\n",
    "        pf.runD(p1,p2,mytups,pD,fh,subset,(0,1),(0,),fixed=(0,0,p3,p4),outpd=outpd,badsnpfile=bsf)\n",
    "        '''\n",
    "        p1,p2,p3,p4 = (myp3,comparingpop2,comparingpop1,myp4)\n",
    "        subset = bsfsubset+'.'+p1+'_'+myid2+'_'+myid1+'_'+p4\n",
    "        mytups = [(p1,i,j,p4,'p1_'+i) for ind,i in enumerate(p2) for j in p3 if i != j and p1!=i and p1!=j]\n",
    "        pf.runD(p3,p2,mytups,pD,fh,subset,(2,1),(0,),fixed=(p1,0,0,p4),outpd=outpd,badsnpfile=bsf)\n"
   ]
  },
  {
   "cell_type": "markdown",
   "metadata": {},
   "source": [
    "### SIBAMER vs PDEAS"
   ]
  },
  {
   "cell_type": "code",
   "execution_count": 8,
   "metadata": {
    "collapsed": false
   },
   "outputs": [
    {
     "name": "stdout",
     "output_type": "stream",
     "text": [
      "Overwriting /home/melinda_yang/projects/bronzeage/2.2M_analysis/D_SIBAMER_PDEAS.py\n"
     ]
    }
   ],
   "source": [
    "%%writefile /home/melinda_yang/projects/bronzeage/2.2M_analysis/D_SIBAMER_PDEAS.py\n",
    "import plotting_funcs as pf\n",
    "\n",
    "pD=\"/home/melinda_yang/data/2.2M/\"\n",
    "outpd=\"/home/melinda_yang/projects/bronzeage/2.2M_analysis/D_SIBAMER/\"\n",
    "fh=\"UPA_all7\"\n",
    "\n",
    "sibamer=[\"Ulchi\",\"Mongola\",\"Clovis\",\"Pima\",\"Mayan\",\"Mixe\",\"Zapotec\",\n",
    " \"Piapoco\",\"Karitiana\",\"Surui\",\"Quechua\",\"Chane\",\"Chipewyan\",\n",
    " \"Saqqaq\",\"Nahua\",\"Cree\",\"Aleut\",\"Mansi\",\"Chukchi\",\"Tlingit\",\n",
    " \"Tubalar\",\"Kyrgyz\",\"Altaian\",\"Even\",\"Yakut\",\"Itelman\",\n",
    " \"Eskimo_Sireniki\",\"Eskimo_Chaplin\",\"Eskimo_Naukan\",\"Saami\",\n",
    " \"Kolyma_River\"]\n",
    "\n",
    "pdeas=[\"Oroqen\",\"Daur\",\"Hezhen\",\"Xibo\",\"Japanese\",\"Korean\",\n",
    "        \"Tu\",\"Han\",\"Tujia\",\"Miao\",\"Yi\",\"She\",\"Naxi\",\"Atayal\",\n",
    "        \"Ami\",\"Lahu\",\"Dai\",\"Kinh\",\"Burmese\",\"Thai\",\"Cambodian\",\n",
    "        \"Tibetan\",\"Uygur\"]\n",
    "\n",
    "p4s=[\"Mbuti\",\"Chimp\"]\n",
    "\n",
    "myid1= 'SIBAMER'\n",
    "myid2= \"PDEAS\"\n",
    "\n",
    "p3s=['Kolyma_River','Yana_old','Yana_old2',\n",
    "     'Malta1',\"AfontovaGora3\",\"Karelia\"]\n",
    "\n",
    "comparingpop1=sibamer\n",
    "comparingpop2=pdeas\n",
    "#bsf,bsfsubset=(pD+fh+\".transi.snp\",'transv')\n",
    "bsf,bsfsubset=(0,'all')\n",
    "for myp3 in p3s:\n",
    "    for myp4 in p4s:\n",
    "        '''\n",
    "        p1,p2,p3,p4 = (myp3,comparingpop1,comparingpop2,myp4)\n",
    "        subset = bsfsubset+'.'+p1+'_'+myid1+'_'+myid2+'_'+p4\n",
    "        mytups = [(p1,i,j,p4,'p1_'+i) for ind,i in enumerate(p2) for j in p3 if i != j and p1!=i and p1!=j]\n",
    "        pf.runD(p2,p3,mytups,pD,fh,subset,(1,2),(0,),fixed=(p1,0,0,p4),outpd=outpd,badsnpfile=bsf)\n",
    "\n",
    "        p1,p2,p3,p4 = (comparingpop1,comparingpop2,myp3,myp4)\n",
    "        subset = bsfsubset+'.'+myid1+'_'+myid2+'_'+p3+'_'+p4\n",
    "        mytups = [(i,j,p3,p4,'p1_'+i) for ind,i in enumerate(p1) for j in p2 if i != j and p3!=i and p3!=j]\n",
    "        pf.runD(p1,p2,mytups,pD,fh,subset,(0,1),(0,),fixed=(0,0,p3,p4),outpd=outpd,badsnpfile=bsf)\n",
    "        '''\n",
    "        p1,p2,p3,p4 = (myp3,comparingpop2,comparingpop1,myp4)\n",
    "        subset = bsfsubset+'.'+p1+'_'+myid2+'_'+myid1+'_'+p4\n",
    "        mytups = [(p1,i,j,p4,'p1_'+i) for ind,i in enumerate(p2) for j in p3 if i != j and p1!=i and p1!=j]\n",
    "        pf.runD(p3,p2,mytups,pD,fh,subset,(2,1),(0,),fixed=(p1,0,0,p4),outpd=outpd,badsnpfile=bsf)\n"
   ]
  },
  {
   "cell_type": "markdown",
   "metadata": {},
   "source": [
    "### SIBAMER vs SIBAMER"
   ]
  },
  {
   "cell_type": "code",
   "execution_count": 13,
   "metadata": {
    "collapsed": false
   },
   "outputs": [
    {
     "name": "stdout",
     "output_type": "stream",
     "text": [
      "Overwriting /home/melinda_yang/projects/bronzeage/2.2M_analysis/D_SIBAMER.py\n"
     ]
    }
   ],
   "source": [
    "%%writefile /home/melinda_yang/projects/bronzeage/2.2M_analysis/D_SIBAMER.py\n",
    "\n",
    "import plotting_funcs as pf\n",
    "\n",
    "pD=\"/home/melinda_yang/data/2.2M/\"\n",
    "outpd=\"/home/melinda_yang/projects/bronzeage/2.2M_analysis/D_SIBAMER/\"\n",
    "fh=\"UPA_all7\"\n",
    "\n",
    "sibamer=[\"Ulchi\",\"Mongola\",\"Clovis\",\"Pima\",\"Mayan\",\"Mixe\",\"Zapotec\",\n",
    " \"Piapoco\",\"Karitiana\",\"Surui\",\"Quechua\",\"Chane\",\"Chipewyan\",\n",
    " \"Saqqaq\",\"Nahua\",\"Cree\",\"Aleut\",\"Mansi\",\"Chukchi\",\"Tlingit\",\n",
    " \"Tubalar\",\"Kyrgyz\",\"Altaian\",\"Even\",\"Yakut\",\"Itelman\",\n",
    " \"Eskimo_Sireniki\",\"Eskimo_Chaplin\",\"Eskimo_Naukan\",\"Saami\",\n",
    " \"Kolyma_River\"]\n",
    "\n",
    "p4s=[\"Mbuti\",\"Chimp\"]\n",
    "\n",
    "myid1= 'SIBAMER'\n",
    "myid2= \"SIBAMER\"\n",
    "\n",
    "p3s=['Kolyma_River','Yana_old','Yana_old2',\n",
    "     'Malta1',\"AfontovaGora3\",\"Karelia\"]\n",
    "\n",
    "comparingpop=sibamer\n",
    "bsf,bsfsubset=(pD+fh+\".transi.snp\",'transv')\n",
    "#bsf,bsfsubset=(0,'all')\n",
    "for myp3 in p3s:\n",
    "    for myp4 in p4s:\n",
    "        p1,p2,p3,p4 = (myp3,comparingpop,comparingpop,myp4)\n",
    "        subset = bsfsubset+'.'+p1+'_'+myid1+'_'+myid2+'_'+p4\n",
    "        mytups = [(p1,i,j,p4,'p1_'+i) for ind,i in enumerate(p2) for j in p3 if i != j and p1!=i and p1!=j]\n",
    "        pf.runD(p2,p3,mytups,pD,fh,subset,(1,2),(0,),fixed=(p1,0,0,p4),outpd=outpd,badsnpfile=bsf)\n",
    "\n",
    "        p1,p2,p3,p4 = (comparingpop,comparingpop,myp3,myp4)\n",
    "        subset = bsfsubset+'.'+myid1+'_'+myid2+'_'+p3+'_'+p4\n",
    "        mytups = [(i,j,p3,p4,'p1_'+i) for ind,i in enumerate(p1) for j in p2 if i != j and p3!=i and p3!=j]\n",
    "        pf.runD(p1,p2,mytups,pD,fh,subset,(0,1),(0,),fixed=(0,0,p3,p4),outpd=outpd,badsnpfile=bsf)"
   ]
  },
  {
   "cell_type": "markdown",
   "metadata": {},
   "source": [
    "### EAS vs EAS"
   ]
  },
  {
   "cell_type": "code",
   "execution_count": 12,
   "metadata": {
    "collapsed": false
   },
   "outputs": [
    {
     "name": "stdout",
     "output_type": "stream",
     "text": [
      "Writing /home/melinda_yang/projects/bronzeage/2.2M_analysis/D_ALLEAS.py\n"
     ]
    }
   ],
   "source": [
    "%%writefile /home/melinda_yang/projects/bronzeage/2.2M_analysis/D_ALLEAS.py\n",
    "\n",
    "import plotting_funcs as pf\n",
    "\n",
    "pD=\"/home/melinda_yang/data/2.2M/\"\n",
    "outpd=\"/home/melinda_yang/projects/bronzeage/2.2M_analysis/D_SIBAMER/\"\n",
    "fh=\"UPA_all7\"\n",
    "\n",
    "anceas=[\"Tianyuan\",\"Donghuigou\",\"Balikun\",'Chokhopani1','Mebrak',\n",
    "        'Samdzong','BoshanChineseNeolithic','Bbdong','Boisman_MN',\n",
    "        'Linzi','HDYM1','HQSDW','Pukagongma','Zongri',\n",
    "        'LiangDaoChineseNeolithic','Longlin','Longlin_d','Xinyi',\n",
    "        'Xinyi_d','Yana_old','Yana_old2']\n",
    "pdeas=[\"Oroqen\",\"Daur\",\"Hezhen\",\"Xibo\",\"Japanese\",\"Korean\",\n",
    "        \"Tu\",\"Han\",\"Tujia\",\"Miao\",\"Yi\",\"She\",\"Naxi\",\"Atayal\",\n",
    "        \"Ami\",\"Lahu\",\"Dai\",\"Kinh\",\"Burmese\",\"Thai\",\"Cambodian\",\n",
    "        \"Tibetan\",\"Uygur\"]\n",
    "alleas=pdeas+anceas\n",
    "\n",
    "p4s=[\"Mbuti\",\"Chimp\"]\n",
    "\n",
    "myid1= 'PDANCEAS'\n",
    "myid2= \"PDANCEAS\"\n",
    "\n",
    "p3s=['Kolyma_River','Yana_old','Yana_old2',\n",
    "     'Malta1',\"AfontovaGora3\",\"Karelia\"]\n",
    "\n",
    "comparingpop=alleas\n",
    "#bsf,bsfsubset=(pD+fh+\".transi.snp\",'transv')\n",
    "bsf,bsfsubset=(0,'all')\n",
    "for myp3 in p3s:\n",
    "    for myp4 in p4s:\n",
    "        p1,p2,p3,p4 = (myp3,comparingpop,comparingpop,myp4)\n",
    "        subset = bsfsubset+'.'+p1+'_'+myid1+'_'+myid2+'_'+p4\n",
    "        mytups = [(p1,i,j,p4,'p1_'+i) for ind,i in enumerate(p2) for j in p3 if i != j and p1!=i and p1!=j]\n",
    "        pf.runD(p2,p3,mytups,pD,fh,subset,(1,2),(0,),fixed=(p1,0,0,p4),outpd=outpd,badsnpfile=bsf)\n",
    "\n",
    "        p1,p2,p3,p4 = (comparingpop,comparingpop,myp3,myp4)\n",
    "        subset = bsfsubset+'.'+myid1+'_'+myid2+'_'+p3+'_'+p4\n",
    "        mytups = [(i,j,p3,p4,'p1_'+i) for ind,i in enumerate(p1) for j in p2 if i != j and p3!=i and p3!=j]\n",
    "        pf.runD(p1,p2,mytups,pD,fh,subset,(0,1),(0,),fixed=(0,0,p3,p4),outpd=outpd,badsnpfile=bsf)"
   ]
  },
  {
   "cell_type": "code",
   "execution_count": null,
   "metadata": {
    "collapsed": true
   },
   "outputs": [],
   "source": []
  }
 ],
 "metadata": {
  "kernelspec": {
   "display_name": "Python 2",
   "language": "python",
   "name": "python2"
  },
  "language_info": {
   "codemirror_mode": {
    "name": "ipython",
    "version": 2
   },
   "file_extension": ".py",
   "mimetype": "text/x-python",
   "name": "python",
   "nbconvert_exporter": "python",
   "pygments_lexer": "ipython2",
   "version": "2.7.12"
  }
 },
 "nbformat": 4,
 "nbformat_minor": 2
}
