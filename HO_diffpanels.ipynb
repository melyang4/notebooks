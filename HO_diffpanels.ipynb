{
 "cells": [
  {
   "cell_type": "code",
   "execution_count": 5,
   "metadata": {
    "collapsed": false
   },
   "outputs": [
    {
     "name": "stdout",
     "output_type": "stream",
     "text": [
      "Overwriting /home/melinda_yang/ivpp/bronzeage/removebadsnps.py\n"
     ]
    }
   ],
   "source": [
    "%%writefile /home/melinda_yang/ivpp/bronzeage/removebadsnps.py\n",
    "\n",
    "##REMOVE BAD SNPS\n",
    "import sys\n",
    "\n",
    "##Main File [1], file of wanted snps [2], newfilename of badsnps [3]\n",
    "\n",
    "wantedfile=open(sys.argv[2],'r')\n",
    "wantedsnps=[tuple(line.split()[3:5]) for line in wantedfile]\n",
    "wantedfile.close()\n",
    "\n",
    "newfile=open(sys.argv[3],'w')\n",
    "print wantedsnps\n",
    "mainfile=open(sys.argv[1],'r')\n",
    "for ind,line in enumerate(mainfile):\n",
    "    x=line.split()\n",
    "    if tuple(x[3:5]) not in wantedsnps: print x[3:5]; newfile.write(line)\n",
    "    else: continue\n",
    "mainfile.close()\n",
    "newfile.close()"
   ]
  },
  {
   "cell_type": "code",
   "execution_count": null,
   "metadata": {
    "collapsed": true
   },
   "outputs": [],
   "source": [
    "%%writefile /home/melinda_yang/ivpp/allTYstuff/calcD_HOdiffpanels.py\n",
    "import plotting_funcs as pf\n",
    "\n",
    "namers=['Surui','Karitiana','Chane','Piapoco','Xavante','Pima']\n",
    "\n",
    "pD = \"/home/melinda_yang/ivpp/bronzeage/\"\n",
    "outpd=\"/home/melinda_yang/ivpp/allTYstuff/\"\n",
    "fh ='ind_A_v13_TBH'\n",
    "myid1 = 'HGDP_NAmer'\n",
    "myid2 = 'HGDP_NAmer'\n",
    "p3s = ['Tianyuan','Papuan','Papuan.DG','Onge','Onge.DG']\n",
    "p4s = ['Mbuti','Chimp']\n",
    "\n",
    "\n",
    "for panelnum in range(1,13):\n",
    "    bsf,bsfsubset=(pD+fh+\".panel\"+str(panelnum)+\"bad.snp\",'all')\n",
    "    for myp3 in p3s:\n",
    "        for myp4 in p4s:\n",
    "            ##(p1, p2, p3s, p4s)\n",
    "            p1,p2,p3,p4 = (namers,\"Mixe\",p3s,myp4)\n",
    "            subset = bsfsubset+'.'+myid1+'_'+myid2+'_'+p3+'_'+p4\n",
    "            mytups = [(i,j,p3,p4,'p1_'+i) for ind,i in enumerate(p1) for j in p2 if i != j and p3!=i and p3!=j]\n",
    "            pf.runD(p1,p2,mytups,pD,fh,subset,(0,1),(0,),fixed=(0,0,p3,p4),badsnpfile=bsf,outpd=outpd,indfilename=fh+\".hgdplabeled\")"
   ]
  }
 ],
 "metadata": {
  "kernelspec": {
   "display_name": "Python 2",
   "language": "python",
   "name": "python2"
  },
  "language_info": {
   "codemirror_mode": {
    "name": "ipython",
    "version": 2
   },
   "file_extension": ".py",
   "mimetype": "text/x-python",
   "name": "python",
   "nbconvert_exporter": "python",
   "pygments_lexer": "ipython2",
   "version": "2.7.6"
  }
 },
 "nbformat": 4,
 "nbformat_minor": 2
}
