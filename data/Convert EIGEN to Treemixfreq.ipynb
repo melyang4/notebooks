{
 "cells": [
  {
   "cell_type": "markdown",
   "metadata": {},
   "source": [
    "## Earlier steps\n",
    "\n",
    "1. Convert to plink format  -- mainly need fam file\n",
    "2. Qiaomei made this, but the individual IDs not population IDs listed in fam.\n",
    "3. Here, write script to change indIDs to popIDs"
   ]
  },
  {
   "cell_type": "code",
   "execution_count": 7,
   "metadata": {},
   "outputs": [],
   "source": [
    "##Replace ind with fam\n",
    "pd=\"/mnt/solexa/mel_yang/data/HO/\"\n",
    "fh=\"ind_A_v13_TBH6\"\n",
    "\n",
    "inddict={}\n",
    "indfile=open(pd+fh+\".ind\",'r')\n",
    "for line in indfile:\n",
    "    x=line.split()\n",
    "    inddict[x[0]]=x[2]\n",
    "indfile.close()\n",
    "\n",
    "famfile=open(pd+fh+\".fam\",'r')\n",
    "newfile=open(pd+fh+\".pop.fam\",'w')\n",
    "for line in famfile:\n",
    "    x=line.split()\n",
    "    newline=line.replace(x[1],inddict[x[1]])\n",
    "    newfile.write(newline)\n",
    "famfile.close()\n",
    "newfile.close()"
   ]
  },
  {
   "cell_type": "code",
   "execution_count": 21,
   "metadata": {},
   "outputs": [],
   "source": [
    "## Put fam into first column\n",
    "pd=\"/mnt/solexa/mel_yang/data/HO/\"\n",
    "fh=\"ind_A_v13_TBH6\"\n",
    "\n",
    "inddict={}\n",
    "indfile=open(pd+fh+\".ind\",'r')\n",
    "for line in indfile:\n",
    "    x=line.split()\n",
    "    inddict[x[0]]=x[2]\n",
    "indfile.close()\n",
    "mypops=list(set(inddict.values()))\n",
    "famfile=open(pd+fh+\".fam\",'r')\n",
    "newfile=open(pd+fh+\".clust\",'w')\n",
    "num=1\n",
    "mylst={}\n",
    "for ind,line in enumerate(famfile):\n",
    "    x=line.split()\n",
    "    if inddict[x[1]] in mylst: pass\n",
    "    else: mylst[inddict[x[1]]]=num; num+=1\n",
    "    newline=\"%i\\t%s\\t%i\\n\" % (ind+1,x[1],mylst[inddict[x[1]]]) #inddict[x[1]]) #mypops.index(inddict[x[1]]))\n",
    "    newfile.write(newline)\n",
    "famfile.close()\n",
    "newfile.close()"
   ]
  },
  {
   "cell_type": "markdown",
   "metadata": {},
   "source": [
    "```bash\n",
    "awk '{print $1,$2,$1}' ind_A_v13_TBH6.pop.fam > ind_A_v13_TBH6.clust\n",
    "mv ind_A_v13_TBH6.fam ind_A_v13_TBH6.ind.fam\n",
    "mv ind_A_v13_TBH6.pop.fam ind_A_v13_TBH6.fam\n",
    "```"
   ]
  },
  {
   "cell_type": "code",
   "execution_count": 5,
   "metadata": {},
   "outputs": [],
   "source": [
    "##Change SNP file so rsID knows chr_pos\n",
    "pd=\"/mnt/solexa/mel_yang/data/HO/\"\n",
    "fh=\"ind_A_v13_TBH6\"\n",
    "\n",
    "snpfile=open(pd+fh+\".snp\",'r')\n",
    "newsnpfile=open(pd+fh+\".chrpos.snp\",'w')\n",
    "for line in snpfile:\n",
    "    x=line.split()\n",
    "    newid=\"%s_%s_%s\" % (x[1],x[3],x[0])\n",
    "    newline=line.replace(x[0],newid)\n",
    "    newsnpfile.write(newline)\n",
    "newsnpfile.close()\n",
    "snpfile.close()"
   ]
  },
  {
   "cell_type": "code",
   "execution_count": null,
   "metadata": {
    "collapsed": true
   },
   "outputs": [],
   "source": []
  },
  {
   "cell_type": "code",
   "execution_count": 39,
   "metadata": {},
   "outputs": [],
   "source": [
    "##Convert treemix counts to freqs\n",
    "import gzip\n",
    "pd=\"/mnt/solexa/mel_yang/data/HO/\"\n",
    "bgipd=\"/mnt/solexa/mel_yang/BGI/\"\n",
    "fh=\"ind_A_v13_TBH6\"\n",
    "\n",
    "inddict={}\n",
    "indcount={}\n",
    "indfile=open(pd+fh+\".ind\",'r')\n",
    "for line in indfile:\n",
    "    x=line.split()\n",
    "    inddict[x[0]]=x[2]\n",
    "    if x[2] not in indcount: indcount[x[2]]=1\n",
    "    else: indcount[x[2]]+=1\n",
    "indfile.close()\n",
    "\n",
    "cluster={}\n",
    "clustfile=open(pd+fh+\".clust\",'r')\n",
    "for line in clustfile: \n",
    "    x=line.split()\n",
    "    if x[2] not in cluster: cluster[x[2]]=inddict[x[1]]\n",
    "\n",
    "snps=[0]\n",
    "snpfile=open(pd+fh+\".snp\",'r')\n",
    "for line in snpfile:\n",
    "    x=line.split()\n",
    "    snps.append(('chr'+x[1],x[3]))\n",
    "snpfile.close()\n",
    "\n",
    "\n",
    "newfreqfile=open(bgipd+fh+\".tmix_freqs.txt\",'w')\n",
    "treefile=gzip.open(pd+fh+\".treemix_kao.frq.gz\",'r')\n",
    "for ind1,line in enumerate(treefile):\n",
    "    if ind1==0: \n",
    "        header=[cluster[i] for i in line.split()]\n",
    "        newindfile=open(bgipd+fh+\".tmix_nind.txt\",'w')\n",
    "        for i in header: newindfile.write(i+'\\t'+str(indcount[i])+'\\n')\n",
    "        newindfile.close()\n",
    "        newfreqfile.write(\"#chr\\tpos\\t%s\\n\" % '\\t'.join(header))\n",
    "        continue\n",
    "    x=line.split()\n",
    "    myden,mynum,myfreqs=[],[],[]\n",
    "    for strcount in x: \n",
    "        lstcount=[float(i) for i in strcount.split(',')]\n",
    "        myden.append(sum(lstcount))\n",
    "        mynum.append(lstcount[-1])\n",
    "    for ind2,i in enumerate(myden):\n",
    "        if i==0:myfreqs.append(\"-nan\")\n",
    "        else: myfreqs.append(str(mynum[ind2]/i))\n",
    "    newfreqfile.write(\"%s\\t%s\\t%s\\n\" % (snps[ind1][0],snps[ind1][1],'\\t'.join(myfreqs)))\n",
    "    #if ind1==50: break\n",
    "newfreqfile.close()\n",
    "treefile.close()"
   ]
  },
  {
   "cell_type": "code",
   "execution_count": 2,
   "metadata": {},
   "outputs": [
    {
     "name": "stdout",
     "output_type": "stream",
     "text": [
      "Overwriting /mnt/solexa/mel_yang/BGI/checkfreq.py\n"
     ]
    }
   ],
   "source": [
    "%%writefile /mnt/solexa/mel_yang/BGI/checkfreq.py\n",
    "import numpy as np\n",
    "import sys\n",
    "\n",
    "#popiwant=\"Dai\"\n",
    "popiwant=sys.argv[1]\n",
    "\n",
    "bgipd=\"/mnt/solexa/mel_yang/BGI/\"\n",
    "fh1=\"ind_A_v13_TBH6\"\n",
    "\n",
    "##ORIGINAL\n",
    "indfile=open(bgipd+fh1+\"_nind.txt\",'r')\n",
    "tmixinds1={line.split()[0]:ind for ind,line in enumerate(indfile)}\n",
    "indfile.close()\n",
    "\n",
    "myindex1=tmixinds1[popiwant]+2\n",
    "chrsnps={}\n",
    "freqs1=[]\n",
    "freqfile=open(bgipd+fh1+\"_freqs.txt\",'r')\n",
    "for ind,line in enumerate(freqfile):\n",
    "    if line[0]==\"#\": continue\n",
    "    x=line.split()\n",
    "    if x[0] not in chrsnps: chrsnps[x[0]]=[x[1]]\n",
    "    else: chrsnps[x[0]].append(x[1])\n",
    "    freqs1.append(float(x[myindex1]))\n",
    "freqfile.close()\n",
    "\n",
    "##TREEMIX\n",
    "indfile=open(bgipd+fh1+\".tmix_nind.txt\",'r')\n",
    "tmixinds={line.split()[0]:ind for ind,line in enumerate(indfile)}\n",
    "indfile.close()\n",
    "\n",
    "myindex=tmixinds[popiwant]+2\n",
    "\n",
    "freqs=[]\n",
    "freqfile=open(bgipd+fh1+\".tmix_freqs.txt\",'r')\n",
    "for ind,line in enumerate(freqfile):\n",
    "    if line[0]==\"#\": continue\n",
    "    x=line.split()\n",
    "    if x[0] not in chrsnps: continue\n",
    "    if x[1] not in chrsnps[x[0]]: continue\n",
    "\n",
    "    freqs.append(float(x[myindex]))\n",
    "freqfile.close()\n",
    "\n",
    "print len(freqs)\n",
    "print len(freqs1)\n",
    "mydiffs=sum([i-freqs1[ind] for ind,i in enumerate(freqs)])\n",
    "print mydiffs"
   ]
  },
  {
   "cell_type": "code",
   "execution_count": null,
   "metadata": {
    "collapsed": true
   },
   "outputs": [],
   "source": []
  }
 ],
 "metadata": {
  "kernelspec": {
   "display_name": "Python 2",
   "language": "python",
   "name": "python2"
  },
  "language_info": {
   "codemirror_mode": {
    "name": "ipython",
    "version": 2
   },
   "file_extension": ".py",
   "mimetype": "text/x-python",
   "name": "python",
   "nbconvert_exporter": "python",
   "pygments_lexer": "ipython2",
   "version": "2.7.13"
  }
 },
 "nbformat": 4,
 "nbformat_minor": 2
}
