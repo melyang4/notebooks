{
 "cells": [
  {
   "cell_type": "code",
   "execution_count": 10,
   "metadata": {},
   "outputs": [
    {
     "name": "stdout",
     "output_type": "stream",
     "text": [
      "['Altai', 'Tianyuan', 'Chimp', 'Mbuti']\n",
      "[0.0, 9.0, 9.0, 0.0, 9.0, 0.0, 0.0]\n",
      "[0.0, 0.0, 9.0, 2.0, 1.0, 2.0, 1.0]\n",
      "[1.0, 9.0, 9.0, 0.0, 0.0, 0.0, 1.0]\n",
      "[2.0, 2.0, 9.0, 2.0, 2.0, 2.0, 2.0]\n",
      "[0.0, 9.0, 9.0, 2.0, 1.0, 1.0, 1.0]\n",
      "[0.0, 0.0, 9.0, 0.0, 1.0, 0.0, 1.0]\n",
      "[0.0, 0.0, 9.0, 0.0, 1.0, 0.0, 1.0]\n",
      "[0.0, 0.0, 9.0, 0.0, 1.0, 0.0, 1.0]\n",
      "[2.0, 0.0, 9.0, 0.0, 1.0, 1.0, 1.0]\n",
      "[2.0, 2.0, 9.0, 2.0, 1.0, 2.0, 1.0]\n",
      "[2.0, 9.0, 9.0, 1.0, 1.0, 1.0, 1.0]\n"
     ]
    }
   ],
   "source": [
    "import collections\n",
    "import numpy as np\n",
    "\n",
    "datpd=\"/mnt/solexa/mel_yang/data/2.2M/\"\n",
    "fh=\"UPA16\"\n",
    "myindfile=open(datpd+fh+\".ind\",'r')\n",
    "inds=collections.defaultdict(list)\n",
    "for ind,line in enumerate(myindfile):\n",
    "    if line.split()[2] in [\"Mbuti\",\"Altai\",\"Tianyuan\",\"Chimp\"]: inds[line.split()[2]].append(ind)\n",
    "myindfile.close()\n",
    "print inds.keys()\n",
    "mygenofile=open(datpd+fh+\".geno\",'r')\n",
    "for ind,line in enumerate(mygenofile):\n",
    "    x=[ float(line[j]) for i in inds for j in inds[i] ]\n",
    "    if ind==0: \n",
    "    print x\n",
    "    if ind==10: break"
   ]
  },
  {
   "cell_type": "code",
   "execution_count": null,
   "metadata": {
    "collapsed": true
   },
   "outputs": [],
   "source": []
  },
  {
   "cell_type": "code",
   "execution_count": 35,
   "metadata": {},
   "outputs": [],
   "source": [
    "import collections\n",
    "import numpy as np\n",
    "import random\n",
    "\n",
    "datpd=\"/mnt/solexa/mel_yang/data/2.2M/\"\n",
    "newpd=\"/mnt/solexa/mel_yang/splitf4ratio/\"\n",
    "fh=\"UPA16\"\n",
    "splitter=\"Mbuti\"\n",
    "myindfile=open(datpd+fh+\".ind\",'r')\n",
    "inds=collections.defaultdict(list)\n",
    "mynewindfile=open(newpd+fh+\".randomsplit%s.ind\" % splitter, 'w')\n",
    "for ind,line in enumerate(myindfile):\n",
    "    x=line.split()\n",
    "    if x[2] in [splitter]: \n",
    "        inds[x[2]].append(ind)\n",
    "        mynewindfile.write(x[0]+'_A\\t'+x[1]+'\\t'+x[0]+'_A\\n')\n",
    "        mynewindfile.write(x[0]+'_B\\t'+x[1]+'\\t'+x[0]+'_B\\n')\n",
    "myindfile.close()\n",
    "mynewindfile.close()\n",
    "\n",
    "mygc={}\n",
    "mygc['0']=['00']\n",
    "mygc['2']=['22']\n",
    "mygc['9']=['99']\n",
    "mygc['1']=['10','01']\n",
    "\n",
    "mygenofile=open(datpd+fh+\".geno\",'r')\n",
    "mynewgenofile=open(newpd+fh+\".randomsplit%s.geno\" % splitter,'w')\n",
    "for ind,line in enumerate(mygenofile):\n",
    "    x=[ line[j] for i in inds for j in inds[i] ]\n",
    "    myset=[random.sample(mygc[geno],1)[0] for geno in x]\n",
    "    #print myset\n",
    "    mynewgenofile.write(''.join(myset)+'\\n')\n",
    "    #if ind==10: break\n",
    "mygenofile.close()\n",
    "mynewgenofile.close()"
   ]
  },
  {
   "cell_type": "code",
   "execution_count": 34,
   "metadata": {},
   "outputs": [
    {
     "name": "stdout",
     "output_type": "stream",
     "text": [
      "Overwriting /mnt/solexa/mel_yang/splitf4ratio/merge.randomsplitMbuti.par\n"
     ]
    }
   ],
   "source": [
    "%%writefile /mnt/solexa/mel_yang/splitf4ratio/merge.randomsplitMbuti.par\n",
    "geno1: /mnt/solexa/mel_yang/data/2.2M/UPA16.geno\n",
    "snp1:  /mnt/solexa/mel_yang/data/2.2M/UPA16.snp\n",
    "ind1:  /mnt/solexa/mel_yang/data/2.2M/UPA16.ind\n",
    "geno2: /mnt/solexa/mel_yang/splitf4ratio/UPA16.randomsplitMbuti.geno\n",
    "snp2:  /mnt/solexa/mel_yang/data/2.2M/UPA16.snp\n",
    "ind2:  /mnt/solexa/mel_yang/splitf4ratio/UPA16.randomsplitMbuti.ind \n",
    "genooutfilename:   /mnt/solexa/mel_yang/splitf4ratio/UPA16.merged.randomsplitMbuti.geno\n",
    "snpoutfilename:    /mnt/solexa/mel_yang/splitf4ratio/UPA16.merged.randomsplitMbuti.snp\n",
    "indoutfilename:    /mnt/solexa/mel_yang/splitf4ratio/UPA16.merged.randomsplitMbuti.ind"
   ]
  },
  {
   "cell_type": "code",
   "execution_count": 37,
   "metadata": {},
   "outputs": [
    {
     "name": "stdout",
     "output_type": "stream",
     "text": [
      "Writing /mnt/solexa/mel_yang/splitf4ratio/f4ratio_randomsplitMbuti.par\n"
     ]
    }
   ],
   "source": [
    "%%writefile /mnt/solexa/mel_yang/splitf4ratio/f4ratio_randomsplitMbuti.par\n",
    "genotypename:\t/mnt/solexa/mel_yang/splitf4ratio/UPA16.merged.randomsplitMbuti.geno\n",
    "snpname:\t/mnt/solexa/mel_yang/splitf4ratio/UPA16.merged.randomsplitMbuti.snp\n",
    "indivname:\t/mnt/solexa/mel_yang/splitf4ratio/UPA16.merged.randomsplitMbuti.ind\n",
    "popfilename:\t/mnt/solexa/mel_yang/splitf4ratio/f4ratio_splitMbuti.pop\n",
    "printsd:\tYES"
   ]
  },
  {
   "cell_type": "code",
   "execution_count": 41,
   "metadata": {},
   "outputs": [
    {
     "name": "stdout",
     "output_type": "stream",
     "text": [
      "Overwriting /mnt/solexa/mel_yang/splitf4ratio/f4ratio_splitMbuti.pop\n"
     ]
    }
   ],
   "source": [
    "%%writefile /mnt/solexa/mel_yang/splitf4ratio/f4ratio_splitMbuti.pop\n",
    "Altai\tChimp\tHan\tS_Mbuti-1_A\tAltai\tChimp\tS_Mbuti-1_B\tS_Mbuti-1_A\n",
    "Altai\tChimp\tHan\tS_Mbuti-1_B\tAltai\tChimp\tS_Mbuti-1_A\tS_Mbuti-1_B\n",
    "Altai\tChimp\tHan\tS_Mbuti-2_A\tAltai\tChimp\tS_Mbuti-2_B\tS_Mbuti-2_A\n",
    "Altai\tChimp\tHan\tS_Mbuti-2_B\tAltai\tChimp\tS_Mbuti-2_A\tS_Mbuti-2_B\n",
    "Altai\tChimp\tHan\tS_Mbuti-3_A\tAltai\tChimp\tS_Mbuti-3_B\tS_Mbuti-3_A\n",
    "Altai\tChimp\tHan\tS_Mbuti-3_B\tAltai\tChimp\tS_Mbuti-3_A\tS_Mbuti-3_B\n",
    "Altai\tChimp\tHan\tB_Mbuti-4_A\tAltai\tChimp\tB_Mbuti-4_B\tB_Mbuti-4_A\n",
    "Altai\tChimp\tHan\tB_Mbuti-4_B\tAltai\tChimp\tB_Mbuti-4_A\tB_Mbuti-4_B\n",
    "Altai\tChimp\tTianyuan\tS_Mbuti-1_A\tAltai\tChimp\tS_Mbuti-1_B\tS_Mbuti-1_A\n",
    "Altai\tChimp\tTianyuan\tS_Mbuti-1_B\tAltai\tChimp\tS_Mbuti-1_A\tS_Mbuti-1_B\n",
    "Altai\tChimp\tTianyuan\tS_Mbuti-2_A\tAltai\tChimp\tS_Mbuti-2_B\tS_Mbuti-2_A\n",
    "Altai\tChimp\tTianyuan\tS_Mbuti-2_B\tAltai\tChimp\tS_Mbuti-2_A\tS_Mbuti-2_B\n",
    "Altai\tChimp\tTianyuan\tS_Mbuti-3_A\tAltai\tChimp\tS_Mbuti-3_B\tS_Mbuti-3_A\n",
    "Altai\tChimp\tTianyuan\tS_Mbuti-3_B\tAltai\tChimp\tS_Mbuti-3_A\tS_Mbuti-3_B\n",
    "Altai\tChimp\tTianyuan\tB_Mbuti-4_A\tAltai\tChimp\tB_Mbuti-4_B\tB_Mbuti-4_A\n",
    "Altai\tChimp\tTianyuan\tB_Mbuti-4_B\tAltai\tChimp\tB_Mbuti-4_A\tB_Mbuti-4_B\n",
    "Altai\tChimp\tUstIshim\tS_Mbuti-1_A\tAltai\tChimp\tS_Mbuti-1_B\tS_Mbuti-1_A\n",
    "Altai\tChimp\tUstIshim\tS_Mbuti-1_B\tAltai\tChimp\tS_Mbuti-1_A\tS_Mbuti-1_B\n",
    "Altai\tChimp\tUstIshim\tS_Mbuti-2_A\tAltai\tChimp\tS_Mbuti-2_B\tS_Mbuti-2_A\n",
    "Altai\tChimp\tUstIshim\tS_Mbuti-2_B\tAltai\tChimp\tS_Mbuti-2_A\tS_Mbuti-2_B\n",
    "Altai\tChimp\tUstIshim\tS_Mbuti-3_A\tAltai\tChimp\tS_Mbuti-3_B\tS_Mbuti-3_A\n",
    "Altai\tChimp\tUstIshim\tS_Mbuti-3_B\tAltai\tChimp\tS_Mbuti-3_A\tS_Mbuti-3_B\n",
    "Altai\tChimp\tUstIshim\tB_Mbuti-4_A\tAltai\tChimp\tB_Mbuti-4_B\tB_Mbuti-4_A\n",
    "Altai\tChimp\tUstIshim\tB_Mbuti-4_B\tAltai\tChimp\tB_Mbuti-4_A\tB_Mbuti-4_B\n",
    "Altai\tChimp\tUstIshim\tMbuti\tAltai\tChimp\tDinka\tMbuti"
   ]
  },
  {
   "cell_type": "code",
   "execution_count": null,
   "metadata": {
    "collapsed": true
   },
   "outputs": [],
   "source": [
    "A 0 : X C:: A 0 : B C"
   ]
  }
 ],
 "metadata": {
  "kernelspec": {
   "display_name": "Python 2",
   "language": "python",
   "name": "python2"
  },
  "language_info": {
   "codemirror_mode": {
    "name": "ipython",
    "version": 2
   },
   "file_extension": ".py",
   "mimetype": "text/x-python",
   "name": "python",
   "nbconvert_exporter": "python",
   "pygments_lexer": "ipython2",
   "version": "2.7.13"
  }
 },
 "nbformat": 4,
 "nbformat_minor": 2
}
