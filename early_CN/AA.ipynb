{
 "cells": [
  {
   "cell_type": "code",
   "execution_count": 3,
   "metadata": {},
   "outputs": [
    {
     "name": "stdout",
     "output_type": "stream",
     "text": [
      "Han\n"
     ]
    }
   ],
   "source": [
    "##Qihe_d\n",
    "\n",
    "import fstat_funcs as ff\n",
    "\n",
    "pD=\"/mnt/solexa/mel_yang/early_CN/\"\n",
    "outpd=\"/mnt/solexa/mel_yang/early_CN/D_South/\"\n",
    "fh=\"F4.list.F4\"\n",
    "#fh=\"F4.list.F4tv\"\n",
    "out=\"Mbuti\"        \n",
    "\n",
    "panel1=[\"Tianyuan\",\"NE_20\",\"La368_G1\",\"Onge\",\"Papuan\",\"JomonM\",\"Kolyma_River\",\"Shamanka_EN\",\n",
    "        \"ZongriM297\",\"Hejiatai\",\"Chokhopani\",\"Ma912_G2\",\"Man_Bac\",\"Ami\",\"Atayal\",\"Han\",\"Dai\",\n",
    "        \"Sherpa_Shigatse\",\"Tibetan_Shannan\",\"Daur\",\"Korean\"]\n",
    "\n",
    "south=[\"XJS\",\"XJS_F\",\"Dushan\",\"Man_Bac\",\"Nui_Nap\",\n",
    "       \"Suogang\",\"Qihe\",\"LiangDaoF\",\"LiangDaoM\",\n",
    "       \"Ma555_G6\",\"Ami\",\"Atayal\",\"Dai\",\"Lahu\",\"Kinh\",\"Han\"]\n",
    "south=[\"Suogang\",\"Qihe\",\"LiangDaoF\",\"LiangDaoM\",\"Xinyi\",\"Dushan\",\n",
    "       \"Ma555_G6\",\"Ami\",\"Atayal\",\"Dai\",\"Lahu\",\"Kinh\",\"Han\"]\n",
    "       #\"Ma555_G6\",\"Ami\",\"Atayal\",\"Dai\",\"Kinh\",\"Lahu\",\"Han\"]\n",
    "northern=[\"DevilsGate\",\"Boisman_MN\",\"Bbdong\",\"Boshan\",\"Xiaogao_d_Fu\",\n",
    "          \"HDYM1\",\"ZhaoguoM2\",\"Daxi\",\"Dashuitian\",\n",
    "          \"Jiahu_M52_I2_Fu\"]\n",
    "ns=[\"Qihe\",\"LiangDaoF\",\"LiangDaoM\",\"Suogang\",\"Dushan\",\"Xinyi\",\"Dashuitian\",\n",
    "    \"Bbdong\",\"Boshan\",\"XJS\",\"XJS_F\",\"Xiaogao\",\"HDYM1\",\"Shamanka_EN\",\n",
    "   \"ZongriM297\",\"Hejiatai\",\"Chokhopani\",\"Daxi\",\"Baojianshan\"]\n",
    "eeur=[\"Tianyuan\",\"Papuan\",\"Onge\",\"La368_G1\",\n",
    "      \"JomonM\",\"Jomon\",\"Longlin\",\"Baojianshan\"]\n",
    "mylst1=ns\n",
    "mylst2=eeur\n",
    "out=\"Mbuti\"\n",
    "for myind in [\"Han\"]:\n",
    "    print myind\n",
    "    pops=[out,mylst1,myind,mylst2]\n",
    "    ff.Dmat2xlsx(ff.Dmkary(pD,fh,pops,\"Z\"),outpd+\"Z.P2a_\"+myind+\".NSvHan_EEUR_oChimp.\"+fh,ff.Dmklabel(pops),mylst1,mylst2)\n",
    "    \n",
    "    pops=[out,mylst2,myind,mylst1]\n",
    "    ff.Dmat2xlsx(ff.Dmkary(pD,fh,pops,\"Z\"),outpd+\"Z.P2b_\"+myind+\".NSvHan_EEUR_oChimp.\"+fh,ff.Dmklabel(pops),mylst2,mylst1)\n",
    "\n",
    "    pops=[out,myind,mylst1,mylst2]\n",
    "    ff.Dmat2xlsx(ff.Dmkary(pD,fh,pops,\"Z\"),outpd+\"Z.P3_\"+myind+\".NSvHan_EEUR_oChimp.\"+fh,ff.Dmklabel(pops),mylst1,mylst2)\n"
   ]
  },
  {
   "cell_type": "code",
   "execution_count": 8,
   "metadata": {},
   "outputs": [
    {
     "name": "stdout",
     "output_type": "stream",
     "text": [
      "Kolyma_River\n",
      "DevilsGate\n",
      "Boisman_MN\n",
      "Shamanka_EN\n",
      "Mixe\n",
      "Surui\n"
     ]
    }
   ],
   "source": [
    "##Qihe_d\n",
    "\n",
    "import fstat_funcs as ff\n",
    "\n",
    "pD=\"/mnt/solexa/mel_yang/early_CN/\"\n",
    "outpd=\"/mnt/solexa/mel_yang/early_CN/D_South/\"\n",
    "fh=\"F4.list.F4\"\n",
    "fh=\"F4.list.F4tv\"\n",
    "out=\"Mbuti\"        \n",
    "\n",
    "ns=[\"Qihe\",\"LiangDaoF\",\"LiangDaoM\",\"Suogang\",\"Dushan\",\"Xinyi\",\"Dashuitian\",\n",
    "    \"Bbdong\",\"Boshan\",\"XJS\",\"XJS_F\",\"Xiaogao\",\"HDYM1\",\"Shamanka_EN\",\n",
    "   \"ZongriM297\",\"Hejiatai\",\"Chokhopani\",\"Daxi\",\"Baojianshan\"]\n",
    "eeur=[\"Tianyuan\",\"Papuan\",\"Onge\",\"La368_G1\",\n",
    "      \"JomonM\",\"Jomon\",\"Longlin\",\"Baojianshan\"]\n",
    "north=[\"Kolyma_River\",\"DevilsGate\",\"Boisman_MN\",\"Shamanka_EN\",\"Mixe\",\"Surui\"]\n",
    "#north=[\"Mixe\",\"Surui\"]\n",
    "mylst=ns\n",
    "varies=north\n",
    "for myind in varies:\n",
    "    print myind\n",
    "    pops=[out,mylst,myind,mylst]\n",
    "    ff.Dmat2xlsx(ff.Dmkary(pD,fh,pops,\"Z\"),outpd+\"Z.P2_\"+myind+\".NS_Zall_o%s.\" % (out)+fh,ff.Dmklabel(pops),mylst,mylst)\n",
    "\n",
    "    pops=[out,myind,mylst,mylst]\n",
    "    ff.Dmat2xlsx(ff.Dmkary(pD,fh,pops,\"Z\"),outpd+\"Z.P3_\"+myind+\".NS_Zall_o%s.\" % (out)+fh,ff.Dmklabel(pops),mylst,mylst)\n"
   ]
  },
  {
   "cell_type": "code",
   "execution_count": 10,
   "metadata": {},
   "outputs": [
    {
     "name": "stdout",
     "output_type": "stream",
     "text": [
      "Tianyuan\n",
      "La368_G1\n",
      "Baojianshan\n",
      "Onge\n",
      "Papuan\n",
      "JomonM\n",
      "Jomon\n",
      "Longlin\n"
     ]
    }
   ],
   "source": [
    "#%%writefile /mnt/solexa/mel_yang/early_CN/makeasymmetry_table.py\n",
    "\n",
    "import numpy as np\n",
    "import plateaumodules as pm\n",
    "#import matplotlib.pyplot as plt\n",
    "#import matplotlib\n",
    "#import matplotlib.colors\n",
    "pD=\"/mnt/solexa/mel_yang/early_CN/\"\n",
    "fh1,tv1,out1=(\"F4.list.F4\",\"\",'Mbuti')\n",
    "fh2,tv2,out2=(\"F4.list.F4tv\",\".tv\",'Mbuti')\n",
    "fh3,tv3,out3=(\"F4.list.F4\",\"\",'Chimp')\n",
    "fs=15\n",
    "\n",
    "ns=[\"Han\",\"Qihe\",\"LiangDaoF\",\"LiangDaoM\",\"Suogang\",\"Dushan\",\"Xinyi\",\"Dashuitian\",\n",
    "    \"Bbdong\",\"Boshan\",\"XJS\",\"XJS_F\",\"Xiaogao\",\"HDYM1\",\"Shamanka_EN\",\n",
    "   \"ZongriM297\",\"Hejiatai\",\"Chokhopani\",\"Daxi\",\"Baojianshan\"]\n",
    "\n",
    "allinds=ns\n",
    "header1,header2=allinds,allinds\n",
    "popA=allinds\n",
    "popB=allinds\n",
    "\n",
    "myinds=[\"Tianyuan\",\"La368_G1\",\"Baojianshan\",\"Onge\",\"Papuan\",\n",
    "       \"JomonM\",\"Jomon\",\"Longlin\"]\n",
    "newfile=open(\"/mnt/solexa/mel_yang/early_CN/NS1_asymmetric_positive_oMbuti_alltvchimp.txt\",'w')\n",
    "newfile.write(\"P1\\tP2\\tP3\\tP4\\tD1\\tZ1\\tD2\\tZ2\\tD3\\tZ3\\n\")\n",
    "for count,myind in enumerate(myinds):\n",
    "    print myind\n",
    "    mypops1=[out1,myind,popA,popB]\n",
    "    mypops2=[out2,myind,popA,popB]\n",
    "    mypops3=[out3,myind,popA,popB]\n",
    "    DorZ=\"Z\"\n",
    "    newname=\"D_EA_EA_%s_%s\" % (myind,\"MbuChimp\")\n",
    "    Zary1 = pm.mkDary(pD,fh1,mypops1,(0,1),(2,3),'Z')\n",
    "    Dary1 = pm.mkDary(pD,fh1,mypops1,(0,1),(2,3),'D')\n",
    "    Zary2 = pm.mkDary(pD,fh2,mypops2,(0,1),(2,3),'Z')\n",
    "    Dary2 = pm.mkDary(pD,fh2,mypops2,(0,1),(2,3),'D')\n",
    "    Zary3 = pm.mkDary(pD,fh3,mypops3,(0,1),(2,3),'Z')\n",
    "    Dary3 = pm.mkDary(pD,fh3,mypops3,(0,1),(2,3),'D')\n",
    "    #print Zary1\n",
    "    for row in range(Zary1.shape[0]):\n",
    "        for col in range(Zary1.shape[1]):\n",
    "            if Zary1[row,col]>3: # and Zary2[row,col]>3 and Zary3[row,col]>3:\n",
    "                newfile.write(popA[row]+'\\t'+popB[col]+'\\t'+myind+'\\t'+\"MbuChimp\"+\"\\t%.3f\\t%.3f\\t%.3f\\t%.3f\\t%.3f\\t%.3f\\n\" % (Dary1[row,col],Zary1[row,col],Dary2[row,col],Zary2[row,col],Dary3[row,col],Zary3[row,col]))\n",
    "newfile.close()"
   ]
  },
  {
   "cell_type": "code",
   "execution_count": null,
   "metadata": {
    "collapsed": true
   },
   "outputs": [],
   "source": []
  }
 ],
 "metadata": {
  "kernelspec": {
   "display_name": "Python 2",
   "language": "python",
   "name": "python2"
  },
  "language_info": {
   "codemirror_mode": {
    "name": "ipython",
    "version": 2
   },
   "file_extension": ".py",
   "mimetype": "text/x-python",
   "name": "python",
   "nbconvert_exporter": "python",
   "pygments_lexer": "ipython2",
   "version": "2.7.13"
  }
 },
 "nbformat": 4,
 "nbformat_minor": 2
}
