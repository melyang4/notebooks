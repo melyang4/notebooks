{
 "cells": [
  {
   "cell_type": "code",
   "execution_count": 3,
   "metadata": {},
   "outputs": [
    {
     "name": "stdout",
     "output_type": "stream",
     "text": [
      "Z>3\n",
      "Mbuti Qihe_d_Fu Qihe Qihe_Fu 0.002897 7.021 116637\n",
      "Z<-3\n",
      "Mbuti Qihe_d Qihe Qihe_Fu -0.002749 -7.015 106812\n"
     ]
    }
   ],
   "source": [
    "%%bash\n",
    "pd=\"/mnt/solexa/mel_yang/early_CN/\"\n",
    "echo \"Z>3\"\n",
    "cat ${pd}F4.list.F4 | awk '{ if ($2==\"Mbuti\" && $4==\"Qihe\" && $5==\"Qihe_Fu\" && $7>3) print $2,$3,$4,$5,$6,$7,$NF}' \n",
    "echo \"Z<-3\"\n",
    "cat ${pd}F4.list.F4 | awk '{ if ($2==\"Mbuti\" && $4==\"Qihe\" && $5==\"Qihe_Fu\" && $7<-3) print $2,$3,$4,$5,$6,$7,$NF}' "
   ]
  },
  {
   "cell_type": "code",
   "execution_count": 56,
   "metadata": {},
   "outputs": [
    {
     "name": "stdout",
     "output_type": "stream",
     "text": [
      "Mbuti Xinyi Jiahu_M52_I2 Jiahu_M52_I2_Fu 0.001053 3.027 49265\n",
      "Mbuti QijiapingM104-2 NE_20 NE_20_Fu 0.001886 3.153 60897\n",
      "Mbuti Jomon Qihe Qihe_Fu 0.004170 3.011 4047\n",
      "Mbuti Baojianshan_d Baojianshan Baojianshan_Fu -0.003572 -4.671 33887\n"
     ]
    }
   ],
   "source": [
    "%%bash\n",
    "pd=\"/mnt/solexa/mel_yang/early_CN/\"\n",
    "fh=\"F4.list.F4tv\"\n",
    "for x in $(cat ${pd}list_Fu); do \n",
    "orig=$(echo ${x} | rev | cut -c4- | rev)\n",
    "cat ${pd}${fh} | awk -v a=\"${orig}\" -v b=\"${x}\" '{ if ($2==\"Mbuti\" && $4==a && $5==b && $7>3) print $2,$3,$4,$5,$6,$7,$NF }' \n",
    "cat ${pd}${fh} | awk -v a=\"${orig}\" -v b=\"${x}\" '{ if ($2==\"Mbuti\" && $4==a && $5==b && $7<-3) print $2,$3,$4,$5,$6,$7,$NF }' \n",
    "done"
   ]
  },
  {
   "cell_type": "code",
   "execution_count": 54,
   "metadata": {},
   "outputs": [
    {
     "name": "stdout",
     "output_type": "stream",
     "text": [
      "Mbuti Qihe_d_Fu Qihe Qihe_Fu 0.002897 7.021 116637\n"
     ]
    }
   ],
   "source": [
    "%%bash\n",
    "pd=\"/mnt/solexa/mel_yang/early_CN/\"\n",
    "orig=\"Qihe\"\n",
    "x=\"Qihe_Fu\"\n",
    "cat ${pd}F4.list.F4 | awk -v a=\"${orig}\" -v b=\"${x}\" '{ if ($2==\"Mbuti\" && $4==a && $5==b && $7>3) print $2,$3,$4,$5,$6,$7,$NF }' "
   ]
  },
  {
   "cell_type": "code",
   "execution_count": null,
   "metadata": {
    "collapsed": true
   },
   "outputs": [],
   "source": [
    "Mbuti Qihe_d_Fu Qihe Qihe_Fu 0.002897 7.021 116637"
   ]
  }
 ],
 "metadata": {
  "kernelspec": {
   "display_name": "Python 2",
   "language": "python",
   "name": "python2"
  },
  "language_info": {
   "codemirror_mode": {
    "name": "ipython",
    "version": 2
   },
   "file_extension": ".py",
   "mimetype": "text/x-python",
   "name": "python",
   "nbconvert_exporter": "python",
   "pygments_lexer": "ipython2",
   "version": "2.7.13"
  }
 },
 "nbformat": 4,
 "nbformat_minor": 2
}
