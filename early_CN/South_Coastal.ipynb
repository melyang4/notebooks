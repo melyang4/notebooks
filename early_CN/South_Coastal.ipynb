{
 "cells": [
  {
   "cell_type": "code",
   "execution_count": 7,
   "metadata": {},
   "outputs": [
    {
     "name": "stdout",
     "output_type": "stream",
     "text": [
      "MainS Qihe\n"
     ]
    }
   ],
   "source": [
    "import fstat_funcs as ff\n",
    "\n",
    "pD=\"/mnt/solexa/mel_yang/early_CN/\"\n",
    "outpd=\"/mnt/solexa/mel_yang/early_CN/Dmorethan80kSNPs_xlsx/\"\n",
    "fh=\"F4.list.F42\"\n",
    "mylst=[line.strip() for line in open(pD+\"list\",\"r\")]\n",
    "out=\"Mbuti\"        \n",
    "\n",
    "other=[\"Tianyuan\",\"NE_20\",\"La368_G1\",\"Jomon\",\"JomonM\"] \n",
    "guangxi=[\"Longlin\",\"Dushan\",\"Baojianshan_d\",\"Xinyi\"] #\"Baojianshan\",\n",
    "yangtze=[\"ZhaoguoM2\",\"Daxi\",\"Dashuitian\"] #\"ZhaoguoM1\",\n",
    "island_S=[\"LiangDaoF\",\"LiangDaoM\",\"Suogang\"]\n",
    "mainland_S=[\"Qihe_d\",\"Tianluoshan\",\"Liangzhu_T4620\"] #\"Qihe\",\"Liangzhu_T2733\",\n",
    "yellow=[\"DonghulinM1\",\"Jiahu_M52_I2\",] #\"Jiahu_M52_I2_d\",\"Jiahu_M38_I2\",\"DonghulinM02\",\"DonghulinM2\",\n",
    "shandong=[\"Bbdong\",\"XJS\",\"XJS_F\",\"Boshan\",\"Xiaogao_d\",] #\"Bbdong_sg\",\"Xiaogao\",\n",
    "siberia=[\"Kolyma_River\",\"DevilsGate\",\"Boisman_MN\",]\n",
    "central_N=[\"HDYM1\",\"Shamanka_EN\"] \n",
    "plateau_E=[\"ZongriM297\",\"Hejiatai\",\"PukagongmaM5\",\"Jinchankou0\"] #\"Zrongri\",\n",
    "plateau_W=[\"Chokhopani\",\"Samdzong\"] \n",
    "aSEA_E=[\"Vt833_G2\",\"Vt880_G2\",\"Man_Bac\",\"Vt777_G3\",\"Nui_Nap\",\"Ma555_G6\",\"Vt719_G3_1\"]\n",
    "aSEA_W=[\"Oakaie1\",\"Ban_Chiang\",\"Ma912_G2\",\"La727_G2\",\"In662_G5\",\"Th521_G4\"] #\"Phl534_G6\",\"Vat_Komnou\",\n",
    "\n",
    "\n",
    "sea=[\"Burmese\",\"Cambodian\",\"Thai\",\"Onge\"]\n",
    "seas=[\"Ami\",\"Atayal\",\"Dai\",\"Kinh\",\"Lahu\"]\n",
    "ceas=[\"Han\",\"Japanese\",\"Korean\",\"Miao\",\"She\",\"Tujia\"]\n",
    "weas=[\"Tibetan_ShannanX\",\"Tibetan_ChamdoX\",\"Naxi\",\"Yi\"]\n",
    "neas=[\"Daur\",\"Hezhen\",\"Oroqen\",\"Xibo\"]\n",
    "eas=weas+neas+ceas+seas+sea\n",
    "\n",
    "mylst=other+guangxi+yangtze+island_S+mainland_S+yellow+shandong+siberia+central_N+plateau_E+plateau_W+aSEA_E+aSEA_W\n",
    "mylst=eas\n",
    "\n",
    "varieset=[other,guangxi,yangtze,island_S,mainland_S,yellow,shandong,siberia,\n",
    "          central_N,plateau_E,plateau_W,aSEA_E,aSEA_W]\n",
    "newlabs=[\"Other\",\"Guangxi\",\"Yangtze\",\"IslandS\",\"MainS\",\"Yellow\",\"Shandong\",\"Siberia\",\n",
    "         \"CentralN\",\"PlateauE\",\"PlateauW\",\"aSEAE\",\"aSEAW\"]\n",
    "varieset=[[\"Qihe\"]]\n",
    "newlabs=[\"MainS\"]\n",
    "for vind,varies in enumerate(varieset):\n",
    "    newlab=newlabs[vind]\n",
    "    for myind in varies:\n",
    "        print newlab,myind\n",
    "        pops=[out,mylst,myind,mylst]\n",
    "        ff.Dmat2xlsx(ff.Dmkary(pD,fh,pops,\"Z\"),outpd+newlab+\"Z.P2_\"+myind+\".PD_Z.\"+fh,ff.Dmklabel(pops),mylst,mylst)\n",
    "\n",
    "        pops=[out,myind,mylst,mylst]\n",
    "        ff.Dmat2xlsx(ff.Dmkary(pD,fh,pops,\"Z\"),outpd+newlab+\"_Z.P3_\"+myind+\".PD_Z.\"+fh,ff.Dmklabel(pops),mylst,mylst)\n"
   ]
  },
  {
   "cell_type": "code",
   "execution_count": 8,
   "metadata": {},
   "outputs": [
    {
     "name": "stdout",
     "output_type": "stream",
     "text": [
      "MainS Qihe\n"
     ]
    }
   ],
   "source": [
    "import fstat_funcs as ff\n",
    "\n",
    "pD=\"/mnt/solexa/mel_yang/early_CN/\"\n",
    "outpd=\"/mnt/solexa/mel_yang/early_CN/Dmorethan80kSNPs_xlsx/\"\n",
    "fh=\"F4.list.F42\"\n",
    "mylst=[line.strip() for line in open(pD+\"list\",\"r\")]\n",
    "out=\"Mbuti\"        \n",
    "\n",
    "other=[\"Tianyuan\",\"NE_20\",\"La368_G1\",\"Jomon\",\"JomonM\"] \n",
    "guangxi=[\"Longlin\",\"Dushan\",\"Baojianshan_d\",\"Xinyi\"] #\"Baojianshan\",\n",
    "yangtze=[\"ZhaoguoM2\",\"Daxi\",\"Dashuitian\"] #\"ZhaoguoM1\",\n",
    "island_S=[\"LiangDaoF\",\"LiangDaoM\",\"Suogang\"]\n",
    "mainland_S=[\"Qihe_d\",\"Tianluoshan\",\"Liangzhu_T4620\"] #\"Qihe\",\"Liangzhu_T2733\",\n",
    "yellow=[\"DonghulinM1\",\"Jiahu_M52_I2\",] #\"Jiahu_M52_I2_d\",\"Jiahu_M38_I2\",\"DonghulinM02\",\"DonghulinM2\",\n",
    "shandong=[\"Bbdong\",\"XJS\",\"XJS_F\",\"Boshan\",\"Xiaogao_d\",] #\"Bbdong_sg\",\"Xiaogao\",\n",
    "siberia=[\"Kolyma_River\",\"DevilsGate\",\"Boisman_MN\",]\n",
    "central_N=[\"HDYM1\",\"Shamanka_EN\"] \n",
    "plateau_E=[\"ZongriM297\",\"Hejiatai\",\"PukagongmaM5\",\"Jinchankou0\"] #\"Zrongri\",\n",
    "plateau_W=[\"Chokhopani\",\"Samdzong\"] \n",
    "aSEA_E=[\"Vt833_G2\",\"Vt880_G2\",\"Man_Bac\",\"Vt777_G3\",\"Nui_Nap\",\"Ma555_G6\",\"Vt719_G3_1\"]\n",
    "aSEA_W=[\"Oakaie1\",\"Ban_Chiang\",\"Ma912_G2\",\"La727_G2\",\"In662_G5\",\"Th521_G4\"] #\"Phl534_G6\",\"Vat_Komnou\",\n",
    "\n",
    "\n",
    "sea=[\"Burmese\",\"Cambodian\",\"Thai\",\"Onge\"]\n",
    "seas=[\"Ami\",\"Atayal\",\"Dai\",\"Kinh\",\"Lahu\"]\n",
    "ceas=[\"Han\",\"Japanese\",\"Korean\",\"Miao\",\"She\",\"Tujia\"]\n",
    "weas=[\"Tibetan_ShannanX\",\"Tibetan_ChamdoX\",\"Naxi\",\"Yi\"]\n",
    "neas=[\"Daur\",\"Hezhen\",\"Oroqen\",\"Xibo\"]\n",
    "eas=weas+neas+ceas+seas+sea\n",
    "\n",
    "mylst=other+guangxi+yangtze+island_S+mainland_S+yellow+shandong+siberia+central_N+plateau_E+plateau_W+aSEA_E+aSEA_W\n",
    "#mylst=eas\n",
    "\n",
    "varieset=[other,guangxi,yangtze,island_S,mainland_S,yellow,shandong,siberia,\n",
    "          central_N,plateau_E,plateau_W,aSEA_E,aSEA_W]\n",
    "newlabs=[\"Other\",\"Guangxi\",\"Yangtze\",\"IslandS\",\"MainS\",\"Yellow\",\"Shandong\",\"Siberia\",\n",
    "         \"CentralN\",\"PlateauE\",\"PlateauW\",\"aSEAE\",\"aSEAW\"]\n",
    "varieset=[[\"Qihe\"]]\n",
    "newlabs=[\"MainS\"]\n",
    "for vind,varies in enumerate(varieset):\n",
    "    newlab=newlabs[vind]\n",
    "    for myind in varies:\n",
    "        print newlab,myind\n",
    "        pops=[out,mylst,myind,mylst]\n",
    "        ff.Dmat2xlsx(ff.Dmkary(pD,fh,pops,\"Z\"),outpd+newlab+\"Z.P2_\"+myind+\".ANC_Z.\"+fh,ff.Dmklabel(pops),mylst,mylst)\n",
    "\n",
    "        pops=[out,myind,mylst,mylst]\n",
    "        ff.Dmat2xlsx(ff.Dmkary(pD,fh,pops,\"Z\"),outpd+newlab+\"_Z.P3_\"+myind+\".ANC_Z.\"+fh,ff.Dmklabel(pops),mylst,mylst)\n"
   ]
  },
  {
   "cell_type": "code",
   "execution_count": null,
   "metadata": {
    "collapsed": true
   },
   "outputs": [],
   "source": []
  }
 ],
 "metadata": {
  "kernelspec": {
   "display_name": "Python 2",
   "language": "python",
   "name": "python2"
  },
  "language_info": {
   "codemirror_mode": {
    "name": "ipython",
    "version": 2
   },
   "file_extension": ".py",
   "mimetype": "text/x-python",
   "name": "python",
   "nbconvert_exporter": "python",
   "pygments_lexer": "ipython2",
   "version": "2.7.13"
  }
 },
 "nbformat": 4,
 "nbformat_minor": 2
}
