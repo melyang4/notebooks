{
 "cells": [
  {
   "cell_type": "markdown",
   "metadata": {},
   "source": [
    "## Count number of SNPs available"
   ]
  },
  {
   "cell_type": "code",
   "execution_count": 1,
   "metadata": {},
   "outputs": [
    {
     "name": "stdout",
     "output_type": "stream",
     "text": [
      "Tianyuan 1474871\n",
      "La368_G1 828171\n",
      "JomonM 1612844\n",
      "Sanheyi11 697386\n",
      "ZhaoguoM1 54386\n",
      "ZhaoguoM2 89690\n",
      "Longlin 140851\n",
      "Dushan 324405\n",
      "Baojianshan 503321\n",
      "Baojianshan_d 168424\n",
      "Jiahu_M38_I2 59754\n",
      "Jiahu_M52_I2 261956\n",
      "Jiahu_M52_I2_d 50788\n",
      "Tianluoshan 117921\n",
      "Liangzhu_T2733 30270\n",
      "Liangzhu_T4620 84216\n",
      "Qihe 388977\n",
      "Qihe_d 109531\n",
      "LiangDaoF 1237867\n",
      "LiangDaoM 411263\n",
      "Suogang 123239\n",
      "Vt719_G3_1 455722\n",
      "Vt777_G3 251309\n",
      "Ma555_G6 853564\n",
      "Phl534_G6 35059\n",
      "In662_G5 180988\n",
      "Vat_Komnou 55215\n",
      "Vt833_G2 219501\n",
      "Vt880_G2 189076\n",
      "La727_G2 620012\n",
      "Ma912_G2 1654598\n",
      "Th521_G4 675745\n",
      "Kolyma_River 2138167\n",
      "NE_20 883040\n",
      "Bbdong 795013\n",
      "Bbdong_sg 614270\n",
      "Boshan 1349130\n",
      "XJS 403266\n",
      "HDYM1 1061512\n",
      "DonghulinM02 19718\n",
      "DonghulinM1 111066\n",
      "DonghulinM2 14245\n",
      "Xiaogao 765945\n",
      "Xiaogao_d 299728\n",
      "Zrongri 51683\n",
      "ZongriM297 619674\n",
      "Hejiatai 440937\n",
      "PukagongmaM5 407715\n",
      "Jinchankou0 602202\n",
      "Chokhopani 2130428\n"
     ]
    }
   ],
   "source": [
    "%%bash\n",
    "\n",
    "pd=\"/mnt/solexa/mel_yang/data/2.2M/\"\n",
    "fh=\"UPA19_2\"\n",
    "#head -n150 ${pd}${fh}.ind | tail -n50 | tr \"\\t\" \" \" | tr -s '[:space:]'\n",
    "#for i in Tianyuan La368_G1 Jomon JomonM Sanheyi11 ZhaoguoM1 ZhaoguoM2 Daxi Longlin Dushan Baojianshan Baojianshan_d Xinyi Dashuitian Jiahu_M38_I2 Jiahu_M52_I2 Jiahu_M52_I2_d Tianluoshan Liangzhu_T2733 Liangzhu_T4620 Qihe Qihe_d LiangDaoF LiangDaoM Suogang Nui_Nap Vt719_G3_1 Vt777_G3 Ma555_G6 Phl534_G6 In662_G5 Oakaie1 Man_Bac Ban_Chiang Vat_Komnou Vt833_G2 Vt880_G2 La727_G2 Ma912_G2 Th521_G4 Kolyma_River NE_20 DevilsGate Boisman_MN Bbdong Bbdong_sg Boshan XJS XJS_F HDYM1 DonghulinM02 DonghulinM1 DonghulinM2 Xiaogao Xiaogao_d Shamanka_EN Zrongri ZongriM297 Hejiatai PukagongmaM5 Jinchankou0 Chokhopani Samdzong; do\n",
    "for i in Tianyuan La368_G1 JomonM Sanheyi11 ZhaoguoM1 ZhaoguoM2 Longlin Dushan Baojianshan Baojianshan_d Jiahu_M38_I2 Jiahu_M52_I2 Jiahu_M52_I2_d Tianluoshan Liangzhu_T2733 Liangzhu_T4620 Qihe Qihe_d LiangDaoF LiangDaoM Suogang Vt719_G3_1 Vt777_G3 Ma555_G6 Phl534_G6 In662_G5 Vat_Komnou Vt833_G2 Vt880_G2 La727_G2 Ma912_G2 Th521_G4 Kolyma_River NE_20 Bbdong Bbdong_sg Boshan XJS HDYM1 DonghulinM02 DonghulinM1 DonghulinM2 Xiaogao Xiaogao_d Zrongri ZongriM297 Hejiatai PukagongmaM5 Jinchankou0 Chokhopani; do\n",
    "myind=$(grep -n ${i} ${pd}${fh}.ind | awk -F\":\" '{print $1,$2,$3}' | awk -v a=\"${i}\" '$4==a' | awk '{print $1}')\n",
    "#echo ${i} ${myind}\n",
    "mysnps=$(cut -c${myind} ${pd}${fh}.geno | grep -v 9 | wc -l)\n",
    "echo ${i} ${mysnps}\n",
    "done\n",
    "\n"
   ]
  },
  {
   "cell_type": "code",
   "execution_count": 3,
   "metadata": {},
   "outputs": [
    {
     "name": "stdout",
     "output_type": "stream",
     "text": [
      "233393\n"
     ]
    }
   ],
   "source": [
    "%%bash\n",
    "\n",
    "pd=\"/mnt/solexa/mel_yang/data/2.2M/\"\n",
    "fh=\"UPA19_2\"\n",
    "#Jomon Daxi Xinyi Dashuitian Nui_Nap Oakaie1 Man_Bac Ban_Chiang DevilsGate Boisman_MN XJS_F Samdzong Shamanka_EN \n",
    "for i in \"414 415 1215 12187\"; do # Baojianshan LiangDao Suogang Qihe Tianluoshan Jiahu Dashuitian XJS XJS_F Bbdong Boshan HDYM1 Donghulin Xiaogao Zhaoguo Dushandong Yahuai; do  \n",
    "#myind=$(grep -n ${i} ${pd}${fh}.ind | awk -v a=\"${i}\" '$3==a ' | awk -F\":\" '{print $1}')\n",
    "cut -c\"${i}\" ${pd}${fh}.geno | egrep \"0|1|2\" | wc -l\n",
    "#echo ${i} ${mysnps}\n",
    "#echo ${i} ${myind}\n",
    "#cut -c\"5 6 7\" ${pd}${fh}.geno | head\n",
    "done\n",
    "\n"
   ]
  },
  {
   "cell_type": "markdown",
   "metadata": {},
   "source": [
    "Longlin 937\n",
    "Baojianshan 2\n",
    "LiangDao 341\n",
    "Suogang 95\n",
    "Qihe 94\n",
    "Tianluoshan 97\n",
    "Jiahu 11\n",
    "Dashuitian 119 120 169 170 171 172 922 923\n",
    "XJS 100\n",
    "XJS_F 101 102\n",
    "Bbdong 871\n",
    "Boshan 339\n",
    "HDYM1 147\n",
    "Donghulin 5 6 7\n",
    "Xiaogao 98\n",
    "Zhaoguo 82 92\n",
    "Dushandong 75\n",
    "Yahuai 103 917"
   ]
  },
  {
   "cell_type": "code",
   "execution_count": 48,
   "metadata": {},
   "outputs": [
    {
     "name": "stdout",
     "output_type": "stream",
     "text": [
      "Tianyuan La368_G1 Jomon JomonM Sanheyi11 ZhaoguoM1 ZhaoguoM2 Daxi Longlin Dushan Baojianshan Baojianshan_d Xinyi Dashuitian Jiahu_M38_I2 Jiahu_M52_I2 Jiahu_M52_I2_d Tianluoshan Liangzhu_T2733 Liangzhu_T4620 Qihe Qihe_d LiangDaoF LiangDaoM Suogang Nui_Nap Vt719_G3_1 Vt777_G3 Ma555_G6 Phl534_G6 In662_G5 Oakaie1 Man_Bac Ban_Chiang Vat_Komnou Vt833_G2 Vt880_G2 La727_G2 Ma912_G2 Th521_G4 Kolyma_River NE_20 DevilsGate Boisman_MN Bbdong Bbdong_sg Boshan XJS XJS_F HDYM1 DonghulinM02 DonghulinM1 DonghulinM2 Xiaogao Xiaogao_d Shamanka_EN Zrongri ZongriM297 Hejiatai PukagongmaM5 Jinchankou0 Chokhopani Samdzong\n"
     ]
    }
   ],
   "source": [
    "other=[\"Tianyuan\",\"La368_G1\",\"Jomon\",\"JomonM\",\"Sanheyi11\",\"ZhaoguoM1\",\"ZhaoguoM2\",\"Daxi\"]\n",
    "guangxi=[\"Longlin\",\"Dushan\",\"Baojianshan\",\"Baojianshan_d\",\"Xinyi\"]\n",
    "southern=[\"Dashuitian\",\"Jiahu_M38_I2\",\"Jiahu_M52_I2\",\"Jiahu_M52_I2_d\",\"Tianluoshan\",\n",
    "          \"Liangzhu_T2733\",\"Liangzhu_T4620\",\"Qihe\",\"Qihe_d\",\"LiangDaoF\",\"LiangDaoM\",\"Suogang\"]\n",
    "aseas=[\"Nui_Nap\",\"Vt719_G3_1\",\"Vt777_G3\",\"Ma555_G6\",\"Phl534_G6\",\"In662_G5\",\"Oakaie1\",\"Man_Bac\",\"Ban_Chiang\",\"Vat_Komnou\",\n",
    "       \"Vt833_G2\",\"Vt880_G2\",\"La727_G2\",\"Ma912_G2\",\"Th521_G4\"]\n",
    "northern=[\"Kolyma_River\",\"NE_20\",\"DevilsGate\",\"Boisman_MN\",\"Bbdong\",\"Bbdong_sg\",\"Boshan\",\"XJS\",\"XJS_F\",\"HDYM1\",\n",
    "          \"DonghulinM02\",\"DonghulinM1\",\"DonghulinM2\",\"Xiaogao\",\"Xiaogao_d\",\"Shamanka_EN\"]\n",
    "western=[\"Zrongri\",\"ZongriM297\",\"Hejiatai\",\"PukagongmaM5\",\"Jinchankou0\",\"Chokhopani\",\"Samdzong\"]\n",
    "seas=[\"Ami\",\"Atayal\",\"Dai\",\"Kinh\",\"Lahu\"]\n",
    "ceas=[\"Han\",\"Japanese\",\"Korean\",\"Miao\",\"She\",\"Tujia\"]\n",
    "weas=[\"Tibetan_ShannanX\",\"Tibetan_ChamdoX\",\"Naxi\",\"Yi\"]\n",
    "neas=[\"Daur\",\"Hezhen\",\"Oroqen\",\"Xibo\"]\n",
    "eas=neas+ceas+seas+weas\n",
    "\n",
    "mylst=other+guangxi+southern+aseas+northern+western\n",
    "print ' '.join(mylst)"
   ]
  },
  {
   "cell_type": "code",
   "execution_count": null,
   "metadata": {
    "collapsed": true
   },
   "outputs": [],
   "source": []
  }
 ],
 "metadata": {
  "kernelspec": {
   "display_name": "Python 2",
   "language": "python",
   "name": "python2"
  },
  "language_info": {
   "codemirror_mode": {
    "name": "ipython",
    "version": 2
   },
   "file_extension": ".py",
   "mimetype": "text/x-python",
   "name": "python",
   "nbconvert_exporter": "python",
   "pygments_lexer": "ipython2",
   "version": "2.7.13"
  }
 },
 "nbformat": 4,
 "nbformat_minor": 2
}
