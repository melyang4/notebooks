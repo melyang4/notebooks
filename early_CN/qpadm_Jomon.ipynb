{
 "cells": [
  {
   "cell_type": "code",
   "execution_count": 6,
   "metadata": {},
   "outputs": [
    {
     "data": {
      "text/plain": [
       "'Made /mnt/solexa/mel_yang/early_CN/qpadm_Jomon/UPA19_2.out0 file'"
      ]
     },
     "execution_count": 6,
     "metadata": {},
     "output_type": "execute_result"
    }
   ],
   "source": [
    "import fstats_funcs as ff\n",
    "\n",
    "pD=\"/mnt/solexa/mel_yang/early_CN/qpadm_Jomon/\"\n",
    "\n",
    "outgroups=[\"UstIshim\",\"Mbuti\",\"Ju_hoan_North\",\"Papuan\",\"Kostenki14\",\"Onge\",\"Tianyuan\",\"Malta1\",\"Natufian\",\n",
    "          \"Kolyma_River\",\"Yana_old\",\"Yana_old2\",\"Shamanka_EN\",\"La368_G1\"]\n",
    "fh=\"UPA19_2\"\n",
    "ff.mklst(pD,fh,\"out0\",outgroups)"
   ]
  },
  {
   "cell_type": "code",
   "execution_count": 62,
   "metadata": {},
   "outputs": [
    {
     "name": "stdout",
     "output_type": "stream",
     "text": [
      "qpAdm -p UPA19_2.adm.A_Japanese_Linzi_Han_1.par > UPA19_2.adm.A_Japanese_Linzi_Han_1.log &\n",
      "qpAdm -p UPA19_2.adm.A_Japanese_Linzi_Korean_1.par > UPA19_2.adm.A_Japanese_Linzi_Korean_1.log &\n",
      "qpAdm -p UPA19_2.adm.A_Japanese_Linzi_Bbdong_1.par > UPA19_2.adm.A_Japanese_Linzi_Bbdong_1.log &\n",
      "qpAdm -p UPA19_2.adm.A_Japanese_Linzi_Boshan_1.par > UPA19_2.adm.A_Japanese_Linzi_Boshan_1.log &\n",
      "qpAdm -p UPA19_2.adm.A_Japanese_Linzi_Boisman_MN_1.par > UPA19_2.adm.A_Japanese_Linzi_Boisman_MN_1.log &\n",
      "qpAdm -p UPA19_2.adm.A_Japanese_Linzi_Ami_1.par > UPA19_2.adm.A_Japanese_Linzi_Ami_1.log &\n",
      "qpAdm -p UPA19_2.adm.A_Japanese_Linzi_Dai_1.par > UPA19_2.adm.A_Japanese_Linzi_Dai_1.log &\n"
     ]
    }
   ],
   "source": [
    "import fstats_funcs as ff\n",
    "\n",
    "pD=\"/mnt/solexa/mel_yang/data/2.2M/\" \n",
    "outpd=\"/mnt/solexa/mel_yang/early_CN/qpadm_Jomon/\"\n",
    "fh=\"UPA19_2\"\n",
    "pt=\"adm\"\n",
    "label=\"S_Jomon\"\n",
    "out=\"out0\"\n",
    "target=\"Japanese\"\n",
    "s1s=[\"JomonM\",\"Jomon\"]\n",
    "s2s=[\"Han\",\"Korean\",\"Bbdong\",\"Boshan\",\"Boisman_MN\",\"Ami\",\"Dai\"]\n",
    "#s2s=[\"DevilsGate\",\"HDYM1\",\"NE_20\",\"Linzi\",\"\"]\n",
    "s1s=[\"Boisman_MN\",\"Bbdong\",\"Boshan\"]\n",
    "s1s=[\"Linzi\"]\n",
    "for s1 in s1s:\n",
    "    for s2 in s2s:\n",
    "        if s1 == s2: continue\n",
    "        label=\"A_%s_%s_%s\" % (target,s1,s2)\n",
    "        ff.parfile(pD,fh,pt,label+\"_1\",outpd=outpd,outgroup=fh+\".\"+out)\n",
    "        ff.mklst(outpd,fh,pt+\".\"+label+\"_1\",[target,s1,s2],suffix=\"leftpop\")\n",
    "        mytuple=(fh,pt,label)\n",
    "        print \"qpAdm -p {0}.{1}.{2}_1.par > {0}.{1}.{2}_1.log &\".format(*mytuple) \n"
   ]
  },
  {
   "cell_type": "code",
   "execution_count": 58,
   "metadata": {},
   "outputs": [
    {
     "name": "stdout",
     "output_type": "stream",
     "text": [
      "JomonM Jomon\n",
      "Han Korean Bbdong Boshan Boisman_MN Ami Dai\n"
     ]
    }
   ],
   "source": [
    "s1s=[\"JomonM\",\"Jomon\"]\n",
    "s2s=[\"Han\",\"Korean\",\"Bbdong\",\"Boshan\",\"Boisman_MN\",\"Ami\",\"Dai\"]\n",
    "print \" \".join(s1s)\n",
    "print \" \".join(s2s)       "
   ]
  },
  {
   "cell_type": "code",
   "execution_count": 69,
   "metadata": {},
   "outputs": [
    {
     "name": "stdout",
     "output_type": "stream",
     "text": [
      "left pops:\n",
      "Japanese\n",
      "Boshan\n",
      "Han\n",
      "\n",
      "Jackknife mean:      0.226192179     0.773807821 \n",
      "      std. errors:     0.189     0.189 \n",
      "\n",
      "    fixed pat  wt  dof     chisq       tail prob\n",
      "           00  0    12    14.024        0.299163     0.197     0.803 \n",
      "           01  1    13    29.360       0.0058176     1.000    -0.000 \n",
      "           10  1    13    16.001        0.249065     0.000     1.000 \n",
      "best pat:           00         0.299163              -  -\n",
      "best pat:           10         0.249065  chi(nested):     1.977 p-value for nested model:        0.159711\n",
      "left pops:\n",
      "Japanese\n",
      "Boshan\n",
      "Korean\n",
      "\n",
      "Jackknife mean:     -0.400084152     1.400084152 \n",
      "      std. errors:     0.694     0.694 \n",
      "\n",
      "    fixed pat  wt  dof     chisq       tail prob\n",
      "           00  0    12    13.359         0.34353    -0.760     1.760  infeasible\n",
      "           01  1    13    29.123      0.00628782     1.000    -0.000 \n",
      "           10  1    13    20.259       0.0889414     0.000     1.000 \n",
      "best pat:           00                0              -  -\n",
      "best pat:           10        0.0889414  chi(nested):     6.900 p-value for nested model:      0.00861795\n",
      "left pops:\n",
      "Japanese\n",
      "Boshan\n",
      "Bbdong\n",
      "\n",
      "Jackknife mean:  -39006.098095349 39007.098095348 \n",
      "      std. errors: 33470.417 33470.417 \n",
      "\n",
      "    fixed pat  wt  dof     chisq       tail prob\n",
      "           00  0    12    16.813        0.156754    22.464   -21.464  infeasible\n",
      "           01  1    13    25.689       0.0187114     1.000    -0.000 \n",
      "           10  1    13    25.546       0.0195518     0.000     1.000 \n",
      "best pat:           00                0              -  -\n",
      "best pat:           10        0.0195518  chi(nested):     8.732 p-value for nested model:      0.00312634\n",
      "left pops:\n",
      "Japanese\n",
      "Boshan\n",
      "Ami\n",
      "\n",
      "Jackknife mean:      0.525567829     0.474432171 \n",
      "      std. errors:     0.127     0.127 \n",
      "\n",
      "    fixed pat  wt  dof     chisq       tail prob\n",
      "           00  0    12    17.064        0.147199     0.527     0.473 \n",
      "           01  1    13    29.128      0.00627802     1.000    -0.000 \n",
      "           10  1    13    41.404     8.19127e-05     0.000     1.000 \n",
      "best pat:           00         0.147199              -  -\n",
      "best pat:           01       0.00627802  chi(nested):    12.064 p-value for nested model:     0.000514149\n",
      "left pops:\n",
      "Japanese\n",
      "Boshan\n",
      "Dai\n",
      "\n",
      "Jackknife mean:      0.567622349     0.432377651 \n",
      "      std. errors:     0.087     0.087 \n",
      "\n",
      "    fixed pat  wt  dof     chisq       tail prob\n",
      "           00  0    12    15.138        0.233974     0.572     0.428 \n",
      "           01  1    13    29.309      0.00591591     1.000    -0.000 \n",
      "           10  1    13    80.638     8.36849e-12     0.000     1.000 \n",
      "best pat:           00         0.233974              -  -\n",
      "best pat:           01       0.00591591  chi(nested):    14.171 p-value for nested model:     0.000166921\n"
     ]
    },
    {
     "name": "stderr",
     "output_type": "stream",
     "text": [
      "wc: /mnt/solexa/mel_yang/early_CN/qpadm_Jomon/UPA19_2.adm.A_Japanese_Boshan_Boshan_1.log: No such file or directory\n",
      "cat: /mnt/solexa/mel_yang/early_CN/qpadm_Jomon/UPA19_2.adm.A_Japanese_Boshan_Boshan_1.log: No such file or directory\n",
      "expr: non-numeric argument\n",
      "tail: /mnt/solexa/mel_yang/early_CN/qpadm_Jomon/UPA19_2.adm.A_Japanese_Boshan_Boshan_1.log: invalid number of lines\n",
      "cat: /mnt/solexa/mel_yang/early_CN/qpadm_Jomon/UPA19_2.adm.A_Japanese_Boshan_Boshan_1.log: No such file or directory\n",
      "expr: non-numeric argument\n",
      "tail: /mnt/solexa/mel_yang/early_CN/qpadm_Jomon/UPA19_2.adm.A_Japanese_Boshan_Boshan_1.log: invalid number of lines\n",
      "cat: /mnt/solexa/mel_yang/early_CN/qpadm_Jomon/UPA19_2.adm.A_Japanese_Boshan_Boshan_1.log: No such file or directory\n",
      "cat: /mnt/solexa/mel_yang/early_CN/qpadm_Jomon/UPA19_2.adm.A_Japanese_Boshan_Boshan_1.log: No such file or directory\n",
      "expr: non-numeric argument\n",
      "tail: : invalid number of lines\n",
      "head: option requires an argument -- 'n'\n",
      "Try `head --help' for more information.\n"
     ]
    }
   ],
   "source": [
    "%%bash\n",
    "pd=\"/mnt/solexa/mel_yang/early_CN/qpadm_Jomon/\"\n",
    "fh=\"UPA19_2\"\n",
    "numsource=2\n",
    "#for i in Han Korean Bbdong Boshan Boisman_MN Ami Dai; do\n",
    "for i in Han Korean Boshan Bbdong Ami Dai; do\n",
    "    label=\"adm.A_Japanese_Boshan_${i}_1\"\n",
    "\n",
    "    numlines=$(wc -l ${pd}${fh}.${label}.log | cut -d\" \" -f1)\n",
    "\n",
    "    popind=$(cat ${pd}${fh}.${label}.log | grep -n \"left pops:\" | cut -d\":\" -f1)\n",
    "    diff1=`expr ${numlines} - ${popind} + 1`\n",
    "    tail -n ${diff1} ${pd}${fh}.${label}.log | head -n `expr ${numsource} + 3`\n",
    "\n",
    "    myind=$(cat ${pd}${fh}.${label}.log | grep -n \"std. errors:\" | cut -d\":\" -f1)\n",
    "    diff2=`expr ${numlines} - ${myind} + 2`\n",
    "    tail -n ${diff2} ${pd}${fh}.${label}.log | head -n2\n",
    "\n",
    "    tabind1=$(cat ${pd}${fh}.${label}.log | grep -n \"summ:\" | cut -d\":\" -f1)\n",
    "    tabind2=$(cat ${pd}${fh}.${label}.log | grep -n \"coeffs:\" | cut -d\":\" -f1)\n",
    "\n",
    "    diff3=`expr ${numlines} - ${tabind1}`\n",
    "    diff4=`expr ${tabind2} - ${tabind1} - 2`\n",
    "    tail -n ${diff3} ${pd}${fh}.${label}.log | head -n ${diff4}\n",
    "done"
   ]
  },
  {
   "cell_type": "code",
   "execution_count": null,
   "metadata": {
    "collapsed": true
   },
   "outputs": [],
   "source": []
  }
 ],
 "metadata": {
  "kernelspec": {
   "display_name": "Python 2",
   "language": "python",
   "name": "python2"
  },
  "language_info": {
   "codemirror_mode": {
    "name": "ipython",
    "version": 2
   },
   "file_extension": ".py",
   "mimetype": "text/x-python",
   "name": "python",
   "nbconvert_exporter": "python",
   "pygments_lexer": "ipython2",
   "version": "2.7.13"
  }
 },
 "nbformat": 4,
 "nbformat_minor": 2
}
