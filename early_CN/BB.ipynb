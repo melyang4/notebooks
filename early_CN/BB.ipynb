{
 "cells": [
  {
   "cell_type": "code",
   "execution_count": 4,
   "metadata": {},
   "outputs": [
    {
     "name": "stdout",
     "output_type": "stream",
     "text": [
      "Kolyma_River\n",
      "DevilsGate\n",
      "Boisman_MN\n",
      "Shamanka_EN\n"
     ]
    }
   ],
   "source": [
    "##Kolyma, DG, Shamanka\n",
    "\n",
    "import fstat_funcs as ff\n",
    "\n",
    "pD=\"/mnt/solexa/mel_yang/early_CN/\"\n",
    "outpd=\"/mnt/solexa/mel_yang/early_CN/D_North/\"\n",
    "fh=\"F4.list.F4\"\n",
    "#fh=\"F4.list.F4tv\"\n",
    "out=\"Chimp\"        \n",
    "\n",
    "north=[\"Dashuitian\",\"Bbdong\",\"Boshan\",\"XJS\",\"XJS_F\",\"Xiaogao\",\"HDYM1\",\n",
    "   \"ZongriM297\",\"Hejiatai\",\"Chokhopani\"]\n",
    "sib=[\"Kolyma_River\",\"DevilsGate\",\"Boisman_MN\",\"Shamanka_EN\"]\n",
    "mylst1=north+sib\n",
    "mylst2=sib\n",
    "varies=sib\n",
    "for myind in varies:\n",
    "    print myind\n",
    "    pops=[out,mylst1,myind,mylst2]\n",
    "    ff.Dmat2xlsx(ff.Dmkary(pD,fh,pops,\"Z\"),outpd+\"Z.P2_\"+myind+\".Sib1_ZCN_o%s.\" % (out)+fh,ff.Dmklabel(pops),mylst1,mylst2)\n",
    "    pops=[out,mylst2,myind,mylst1]\n",
    "    ff.Dmat2xlsx(ff.Dmkary(pD,fh,pops,\"Z\"),outpd+\"Z.P2_\"+myind+\".Sib2_ZCN_o%s.\" % (out)+fh,ff.Dmklabel(pops),mylst2,mylst1)\n",
    "    pops=[out,myind,mylst1,mylst2]\n",
    "    ff.Dmat2xlsx(ff.Dmkary(pD,fh,pops,\"Z\"),outpd+\"Z.P3_\"+myind+\".Sib3_ZCN_o%s.\" % (out)+fh,ff.Dmklabel(pops),mylst1,mylst2)\n"
   ]
  },
  {
   "cell_type": "code",
   "execution_count": 12,
   "metadata": {},
   "outputs": [
    {
     "name": "stdout",
     "output_type": "stream",
     "text": [
      "Oakaie1\n",
      "Man_Bac\n",
      "Nui_Nap\n",
      "Ma912_G2\n",
      "La727_G2\n",
      "Vt833_G2\n",
      "Vt880_G2\n"
     ]
    }
   ],
   "source": [
    "##Qihe_d\n",
    "\n",
    "import fstat_funcs as ff\n",
    "\n",
    "pD=\"/mnt/solexa/mel_yang/early_CN/\"\n",
    "outpd=\"/mnt/solexa/mel_yang/early_CN/D_South/\"\n",
    "fh=\"F4.list.F4\"\n",
    "#fh=\"F4.list.F4tv\"\n",
    "out=\"Mbuti\"        \n",
    "\n",
    "ns=[\"Qihe\",\"LiangDaoF\",\"LiangDaoM\",\"Suogang\",\"Dushan\",\"Xinyi\",\"Dashuitian\",\n",
    "    \"Bbdong\",\"Boshan\",\"XJS\",\"XJS_F\",\"Xiaogao\",\"HDYM1\",\"Shamanka_EN\",\n",
    "   \"ZongriM297\",\"Hejiatai\",\"Chokhopani\",\"Daxi\",\"Baojianshan\"]\n",
    "eeur=[\"Tianyuan\",\"Papuan\",\"Onge\",\"La368_G1\",\n",
    "      \"JomonM\",\"Jomon\",\"Longlin\",\"Baojianshan\"]\n",
    "north=[\"Kolyma_River\",\"DevilsGate\",\"Boisman_MN\",\"Shamanka_EN\",\"Mixe\",\"Surui\"]\n",
    "cnin=[\"Bbdong\",\"Boshan\",\"XJS\",\"XJS_F\",\"Xiaogao\",\"HDYM1\",\"ZongriM297\",\"Hejiatai\",\"Chokhopani\"]\n",
    "south=[\"Qihe\",\"LiangDaoF\",\"LiangDaoM\",\"Suogang\",\"Dushan\",\"Xinyi\",\"Dashuitian\",\"Daxi\",\"Ami\",\"Ma555_G6\"]\n",
    "seasia=[\"Oakaie1\",\"Man_Bac\",\"Nui_Nap\",\"Ma912_G2\",\"La727_G2\",\"Vt833_G2\",\"Vt880_G2\"]\n",
    "\n",
    "#north=[\"Mixe\",\"Surui\"]\n",
    "mylst=ns\n",
    "varies=seasia\n",
    "for myind in varies:\n",
    "    print myind\n",
    "    pops=[out,mylst,myind,mylst]\n",
    "    ff.Dmat2xlsx(ff.Dmkary(pD,fh,pops,\"Z\"),outpd+\"Z.P2_\"+myind+\".NS_ZSEA_o%s.\" % (out)+fh,ff.Dmklabel(pops),mylst,mylst)\n",
    "\n",
    "    pops=[out,myind,mylst,mylst]\n",
    "    ff.Dmat2xlsx(ff.Dmkary(pD,fh,pops,\"Z\"),outpd+\"Z.P3_\"+myind+\".NS_ZSEA_o%s.\" % (out)+fh,ff.Dmklabel(pops),mylst,mylst)\n"
   ]
  },
  {
   "cell_type": "code",
   "execution_count": 15,
   "metadata": {},
   "outputs": [
    {
     "name": "stdout",
     "output_type": "stream",
     "text": [
      "Oakaie1\n",
      "Man_Bac\n",
      "Nui_Nap\n",
      "Ma912_G2\n",
      "La727_G2\n",
      "Vt833_G2\n",
      "Vt880_G2\n",
      "Vt777_G3\n",
      "Vt719_G3_1\n"
     ]
    }
   ],
   "source": [
    "##Qihe_d\n",
    "\n",
    "import fstat_funcs as ff\n",
    "\n",
    "pD=\"/mnt/solexa/mel_yang/early_CN/\"\n",
    "outpd=\"/mnt/solexa/mel_yang/early_CN/D_South/\"\n",
    "fh=\"F4.list.F4\"\n",
    "fh=\"F4.list.F4tv\"\n",
    "out=\"Mbuti\"        \n",
    "\n",
    "ns=[\"Qihe\",\"LiangDaoF\",\"LiangDaoM\",\"Suogang\",\"Dushan\",\"Xinyi\",\"Dashuitian\",\n",
    "    \"Bbdong\",\"Boshan\",\"XJS\",\"XJS_F\",\"Xiaogao\",\"HDYM1\",\"Shamanka_EN\",\n",
    "   \"ZongriM297\",\"Hejiatai\",\"Chokhopani\",\"Daxi\",\"Baojianshan\"]\n",
    "eeur=[\"Tianyuan\",\"Papuan\",\"Onge\",\"La368_G1\",\n",
    "      \"JomonM\",\"Jomon\",\"Longlin\",\"Baojianshan\"]\n",
    "north=[\"Kolyma_River\",\"DevilsGate\",\"Boisman_MN\",\"Shamanka_EN\",\"Mixe\",\"Surui\"]\n",
    "cnin=[\"Bbdong\",\"Boshan\",\"XJS\",\"XJS_F\",\"Xiaogao\",\"HDYM1\",\"ZongriM297\",\"Hejiatai\",\"Chokhopani\"]\n",
    "south=[\"Qihe\",\"LiangDaoF\",\"LiangDaoM\",\"Suogang\",\"Dushan\",\"Xinyi\",\"Dashuitian\",\"Daxi\",\"Ami\",\"Ma555_G6\",\"Dai\"]\n",
    "seasia=[\"Oakaie1\",\"Man_Bac\",\"Nui_Nap\",\"Ma912_G2\",\"La727_G2\",\"Vt833_G2\",\"Vt880_G2\",\"Vt777_G3\",\"Vt719_G3_1\"]\n",
    "\n",
    "#north=[\"Mixe\",\"Surui\"]\n",
    "mylst=south\n",
    "varies=seasia\n",
    "for myind in varies:\n",
    "    print myind\n",
    "    pops=[out,mylst,myind,mylst]\n",
    "    ff.Dmat2xlsx(ff.Dmkary(pD,fh,pops,\"Z\"),outpd+\"Z.P2_\"+myind+\".S_ZSEA_o%s.\" % (out)+fh,ff.Dmklabel(pops),mylst,mylst)\n",
    "\n",
    "    pops=[out,myind,mylst,mylst]\n",
    "    ff.Dmat2xlsx(ff.Dmkary(pD,fh,pops,\"Z\"),outpd+\"Z.P3_\"+myind+\".S_ZSEA_o%s.\" % (out)+fh,ff.Dmklabel(pops),mylst,mylst)\n"
   ]
  },
  {
   "cell_type": "code",
   "execution_count": 9,
   "metadata": {},
   "outputs": [
    {
     "ename": "NameError",
     "evalue": "name 'mylabels' is not defined",
     "output_type": "error",
     "traceback": [
      "\u001b[0;31m---------------------------------------------------------------------------\u001b[0m",
      "\u001b[0;31mNameError\u001b[0m                                 Traceback (most recent call last)",
      "\u001b[0;32m<ipython-input-9-811facf11045>\u001b[0m in \u001b[0;36m<module>\u001b[0;34m()\u001b[0m\n\u001b[1;32m     31\u001b[0m \u001b[0mSEarytv\u001b[0m\u001b[0;34m=\u001b[0m\u001b[0mDarytv\u001b[0m\u001b[0;34m/\u001b[0m\u001b[0mZarytv\u001b[0m\u001b[0;34m\u001b[0m\u001b[0m\n\u001b[1;32m     32\u001b[0m \u001b[0;34m\u001b[0m\u001b[0m\n\u001b[0;32m---> 33\u001b[0;31m \u001b[0mmylabel\u001b[0m\u001b[0;34m=\u001b[0m\u001b[0mmylabels\u001b[0m\u001b[0;34m[\u001b[0m\u001b[0mcount\u001b[0m\u001b[0;34m]\u001b[0m\u001b[0;34m\u001b[0m\u001b[0m\n\u001b[0m\u001b[1;32m     34\u001b[0m \u001b[0mmynames\u001b[0m\u001b[0;34m=\u001b[0m\u001b[0mvlist\u001b[0m\u001b[0;34m\u001b[0m\u001b[0m\n\u001b[1;32m     35\u001b[0m \u001b[0;34m\u001b[0m\u001b[0m\n",
      "\u001b[0;31mNameError\u001b[0m: name 'mylabels' is not defined"
     ]
    }
   ],
   "source": [
    "import numpy as np\n",
    "import plateaumodules as pm\n",
    "import matplotlib.pyplot as plt\n",
    "import matplotlib\n",
    "\n",
    "south=[\"Qihe\",\"LiangDaoF\",\"LiangDaoM\",\"Suogang\",\"Dushan\",\"Xinyi\",\n",
    "       \"Dashuitian\",\"Daxi\",\"Ami\",\"Ma555_G6\",\"Dai\"]\n",
    "\n",
    "\n",
    "pD=\"/mnt/solexa/mel_yang/early_CN/\"\n",
    "fhall=\"F4.list.F4\"\n",
    "fhtv=\"F4.list.F4tv\"\n",
    "out=\"Mbuti\"\n",
    "xlims=(-0.05,0.08)\n",
    "sea=\"Man_Bac\"\n",
    "relto=\"Shamanka_EN\"\n",
    "vlist=south\n",
    "mynames=south\n",
    "wantedcolors=[\"blue\"]*len(vlist)\n",
    "mypops2=[[out,[sea],relto,south]]\n",
    "mytuples=[[(0,2),(1,3)]]\n",
    "\n",
    "fig = plt.figure() #figsize=(8,8))\n",
    "\n",
    "count=0\n",
    "Zaryall = pm.mkDary(pD,fhall,mypops2[count],mytuples[count][0],mytuples[count][1],'Z')\n",
    "Daryall = pm.mkDary(pD,fhall,mypops2[count],mytuples[count][0],mytuples[count][1],'D')\n",
    "SEaryall=Daryall/Zaryall \n",
    "Zarytv = pm.mkDary(pD,fhtv,mypops2[count],mytuples[count][0],mytuples[count][1],'Z')\n",
    "Darytv = pm.mkDary(pD,fhtv,mypops2[count],mytuples[count][0],mytuples[count][1],'D')\n",
    "SEarytv=Darytv/Zarytv\n",
    "    \n",
    "mylabel=mylabels[count]\n",
    "mynames=vlist\n",
    "\n",
    "ax1=fig.add_subplot(1,len(mypops2),count+1)\n",
    "for ind,i in enumerate(vlist):\n",
    "    ax1.errorbar(Darytv[ind][0],ind,xerr=SEarytv[ind][0],color=wantedcolors[ind],alpha=0.1,markeredgecolor=\"black\",markersize=10,ecolor='darkgrey',fmt='o',capthick=0,linewidth=7)\n",
    "    ax1.errorbar(Darytv[ind][0],ind,xerr=2*SEarytv[ind][0],color=wantedcolors[ind],alpha=0.1,markeredgecolor=\"black\",markersize=10,ecolor='darkgrey',fmt='o',capthick=0,linewidth=4)\n",
    "    ax1.plot(Darytv[ind],ind,'.',alpha=0.05)\n",
    "\n",
    "    ax1.errorbar(Daryall[ind][0],ind,xerr=SEaryall[ind][0],color=wantedcolors[ind],markeredgecolor=\"black\",markersize=10,ecolor='darkgrey',fmt='o',capthick=0,linewidth=7)\n",
    "    ax1.errorbar(Daryall[ind][0],ind,xerr=2*SEaryall[ind][0],color=wantedcolors[ind],markeredgecolor=\"black\",markersize=10,ecolor='darkgrey',fmt='o',capthick=0,linewidth=4)\n",
    "    ax1.plot(Daryall[ind],ind,'.')\n",
    "\n",
    "myys = np.array(range(len(mynames)))\n",
    "ax1.set_yticks(myys)\n",
    "if count==0:\n",
    "    ax1.set_yticklabels(mynames,fontsize=16)\n",
    "else: \n",
    "    ax1.set_yticklabels(['']*len(mynames),fontsize=3)\n",
    "\n",
    "ax1.set_ylim(-1,len(mynames))\n",
    "if count==0: ax1.set_xlim(xlims[0],xlims[1])\n",
    "else: ax1.set_xlim(-xlims[1],-xlims[0])\n",
    "\n",
    "xlabel = ax1.get_xticks().tolist()\n",
    "ax1.set_xticklabels(xlabel,rotation=45,fontsize=15)\n",
    "\n",
    "ax1.set_title(mylabel,fontsize=13)\n",
    "\n",
    "ax1.axvline(x=0, ls='dashed', c='black')\n",
    "for myline in [9.5]:\n",
    "    ax1.axhline(y=myline, ls='solid', c='black',alpha=0.5)\n",
    "ax1.set_xlabel(\"D\",fontsize=15)\n",
    "#ax1.set_xlabel(\"D, %s\" % tv,fontsize=15)\n",
    "\n",
    "plt.tight_layout()\n",
    "plt.show()"
   ]
  },
  {
   "cell_type": "code",
   "execution_count": null,
   "metadata": {
    "collapsed": true
   },
   "outputs": [],
   "source": []
  }
 ],
 "metadata": {
  "kernelspec": {
   "display_name": "Python 2",
   "language": "python",
   "name": "python2"
  },
  "language_info": {
   "codemirror_mode": {
    "name": "ipython",
    "version": 2
   },
   "file_extension": ".py",
   "mimetype": "text/x-python",
   "name": "python",
   "nbconvert_exporter": "python",
   "pygments_lexer": "ipython2",
   "version": "2.7.13"
  }
 },
 "nbformat": 4,
 "nbformat_minor": 2
}
