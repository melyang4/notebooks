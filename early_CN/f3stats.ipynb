{
 "cells": [
  {
   "cell_type": "markdown",
   "metadata": {},
   "source": [
    "## Using UPA19_3"
   ]
  },
  {
   "cell_type": "code",
   "execution_count": 5,
   "metadata": {},
   "outputs": [
    {
     "data": {
      "text/plain": [
       "'Made f3 PAR file /mnt/solexa/mel_yang/early_CN/UPA19_3.f3.tv.early_CN+EA.par'"
      ]
     },
     "execution_count": 5,
     "metadata": {},
     "output_type": "execute_result"
    }
   ],
   "source": [
    "import fstat_funcs as ff\n",
    "\n",
    "pd=\"/mnt/solexa/mel_yang/data/2.2M/\"\n",
    "outpd=\"/mnt/solexa/mel_yang/early_CN/\"\n",
    "fh=\"UPA19_3\"\n",
    "label=\"tv.early_CN+EA\"\n",
    "target=[\"Mbuti\"]\n",
    "mylst=[line.strip() for line in open(outpd+\"list3\",\"r\")]\n",
    "ff.f3pop(pd,fh,label,target,mylst,mylst,outpd=outpd,r_repeat=False)\n",
    "ff.parfile(pd,fh,\"f3\",label,outpd=outpd,badsnp=\"UPA_all15.transi.snp\")"
   ]
  },
  {
   "cell_type": "code",
   "execution_count": null,
   "metadata": {
    "collapsed": true
   },
   "outputs": [],
   "source": []
  },
  {
   "cell_type": "code",
   "execution_count": 37,
   "metadata": {
    "collapsed": true
   },
   "outputs": [],
   "source": [
    "ff.parfile??"
   ]
  },
  {
   "cell_type": "code",
   "execution_count": 6,
   "metadata": {},
   "outputs": [
    {
     "data": {
      "text/plain": [
       "'Made /mnt/solexa/mel_yang/early_CN/UPA19_3.tv.early_CN+EA.ANC1.outMbuti.csv'"
      ]
     },
     "execution_count": 6,
     "metadata": {},
     "output_type": "execute_result"
    }
   ],
   "source": [
    "import fstat_funcs as ff\n",
    "\n",
    "pd=\"/mnt/solexa/mel_yang/data/2.2M/\"\n",
    "outpd=\"/mnt/solexa/mel_yang/early_CN/\"\n",
    "fh=\"UPA19_3\"\n",
    "label=\"tv.early_CN+EA\"\n",
    "target=[\"Mbuti\"]\n",
    "\n",
    "panel1=[\"Tianyuan\",\"NE_20\",\"La368_G1\",\"Onge\",\"Papuan\",]\n",
    "panel1=[\"JomonM\",\"Kolyma_River\",\"Shamanka_EN\",\n",
    "        \"ZongriM297\",\"Hejiatai\",\"Chokhopani\",\"Ma912_G2\",\"Man_Bac\",\"Ami\",\"Atayal\",\"Han\",\"Dai\",\n",
    "        \"Sherpa_ShigatseX\",\"Tibetan_ShannanX\",\"Daur\",\"Korean\"]\n",
    "panel2=[\"Longlin\",\"Baojianshan\",\"Dushan\",\"Ma555_G6\",\"Nui_Nap\"] #\"Phl534_G6\",\n",
    "\n",
    "southern=[\"DonghulinM1\",\"Jiahu_M52_I2\",\"Tianluoshan\",\"Qihe\", #\"Jiahu_M52_I2_d\",\"Jiahu_M38_I2\",\n",
    "          \"LiangDaoF\",\"LiangDaoM\",\"Suogang\",\"Liangzhu_T4620\"] #\"Liangzhu_T2733\",\"Qihe_d\",\n",
    "northern=[\"DevilsGate\",\"Boisman_MN\",\"Bbdong\",\"Boshan\",\"XJS\",\"XJS_F\",\"Xiaogao_d\", #\n",
    "          \"HDYM1\",\"ZhaoguoM2\",\"Daxi\",\"Dashuitian\"]\n",
    "mylst=panel1+panel2+southern+northern\n",
    "pops=[mylst,mylst,\"Mbuti\"]\n",
    "f3ary=ff.f3mkary(outpd,\"%s.f3.%s.log\" % (fh,label),pops,forZ=\"f\")\n",
    "ff.f3mkcsv(f3ary,outpd,\"%s.%s.ANC1.outMbuti\" % (fh, label),pops[0],pops[1])"
   ]
  },
  {
   "cell_type": "code",
   "execution_count": null,
   "metadata": {
    "collapsed": true
   },
   "outputs": [],
   "source": []
  },
  {
   "cell_type": "code",
   "execution_count": 34,
   "metadata": {},
   "outputs": [
    {
     "data": {
      "text/plain": [
       "'Made /mnt/solexa/mel_yang/early_CN/UPA19_3.early_CN+EA.ANC2.outMbuti.csv'"
      ]
     },
     "execution_count": 34,
     "metadata": {},
     "output_type": "execute_result"
    }
   ],
   "source": [
    "import fstat_funcs as ff\n",
    "\n",
    "pd=\"/mnt/solexa/mel_yang/data/2.2M/\"\n",
    "outpd=\"/mnt/solexa/mel_yang/early_CN/\"\n",
    "fh=\"UPA19_3\"\n",
    "label=\"early_CN+EA\"\n",
    "target=[\"Mbuti\"]\n",
    "\n",
    "panel1=[\"Tianyuan\",\"NE_20\",\"La368_G1\",\"Onge\",\"Papuan\",]\n",
    "panel1=[\"JomonM\",\"Kolyma_River\",\"Shamanka_EN\",\n",
    "        \"ZongriM297\",\"Hejiatai\",\"Chokhopani\",\"Ma912_G2\",\"Man_Bac\",\"Ami\",\"Atayal\",\"Han\",\"Dai\",\n",
    "        \"Sherpa_ShigatseX\",\"Tibetan_ShannanX\",\"Daur\",\"Korean\"]\n",
    "panel2=[\"Longlin\",\"Baojianshan\",\"Dushan\",\"Ma555_G6\",\"Nui_Nap\"] #\"Phl534_G6\",\n",
    "\n",
    "southern=[\"DonghulinM1\",\"Jiahu_M52_I2\",\"Tianluoshan\",\"Qihe\", #\"Jiahu_M52_I2_d\",\"Jiahu_M38_I2\",\n",
    "          \"LiangDaoF\",\"LiangDaoM\",\"Suogang\",\"Liangzhu_T4620\"] #\"Liangzhu_T2733\",\"Qihe_d\",\n",
    "northern=[\"DevilsGate\",\"Boisman_MN\",\"Bbdong\",\"Boshan\",\"XJS_F\",\"Xiaogao_d\", #\"XJS\",\n",
    "          \"HDYM1\",\"ZhaoguoM2\",\"Daxi\",\"Dashuitian\"]\n",
    "mylst=panel1+panel2+southern+northern\n",
    "pops=[mylst,mylst,\"Mbuti\"]\n",
    "f3ary=ff.f3mkary(outpd,\"%s.f3.%s.log\" % (fh,label),pops,forZ=\"f\")\n",
    "ff.f3mkcsv(f3ary,outpd,\"%s.%s.ANC2.outMbuti\" % (fh, label),pops[0],pops[1])"
   ]
  },
  {
   "cell_type": "code",
   "execution_count": 4,
   "metadata": {},
   "outputs": [
    {
     "data": {
      "text/plain": [
       "'Made /mnt/solexa/mel_yang/early_CN/UPA19_3.early_CN+EA.ANC3+XY.outMbuti.csv'"
      ]
     },
     "execution_count": 4,
     "metadata": {},
     "output_type": "execute_result"
    }
   ],
   "source": [
    "import fstat_funcs as ff\n",
    "\n",
    "pd=\"/mnt/solexa/mel_yang/data/2.2M/\"\n",
    "outpd=\"/mnt/solexa/mel_yang/early_CN/\"\n",
    "fh=\"UPA19_3\"\n",
    "label=\"early_CN+EA\"\n",
    "target=[\"Mbuti\"]\n",
    "\n",
    "panel1=[\"Tianyuan\",\"NE_20\",\"La368_G1\",\"Onge\",\"Papuan\",]\n",
    "panel1=[\"Shamanka_EN\",\n",
    "        \"ZongriM297\",\"Hejiatai\",\"Chokhopani\",\"Man_Bac\",\"Ami\",\"Atayal\",\"Han\",\"Dai\",\n",
    "        \"Tibetan_ShannanX\",\"Daur\",\"Korean\"] #\"Ma912_G2\",\"Sherpa_ShigatseX\",\"JomonM\",\"Kolyma_River\",\n",
    "panel2=[\"Dushan\",\"Ma555_G6\",\"Nui_Nap\"] #\"Phl534_G6\",\"Longlin\",\"Baojianshan\",\n",
    "\n",
    "southern=[\"DonghulinM1\",\"Jiahu_M52_I2\",\"Tianluoshan\",\"Qihe\", #\"Jiahu_M52_I2_d\",\"Jiahu_M38_I2\",\n",
    "          \"LiangDaoF\",\"LiangDaoM\",\"Suogang\",\"Liangzhu_T4620\"] #\"Liangzhu_T2733\",\"Qihe_d\",\n",
    "northern=[\"DevilsGate\",\"Boisman_MN\",\"Bbdong\",\"Boshan\",\"XJS_F\",\"Xiaogao_d\", #\"XJS\",\n",
    "          \"HDYM1\",\"Daxi\",\"Dashuitian\"] #\"ZhaoguoM2\",\n",
    "mylst=panel1+panel2+southern+northern+[\"Xinyi\"]\n",
    "pops=[mylst,mylst,\"Mbuti\"]\n",
    "f3ary=ff.f3mkary(outpd,\"%s.f3.%s.log\" % (fh,label),pops,forZ=\"f\")\n",
    "ff.f3mkcsv(f3ary,outpd,\"%s.%s.ANC3+XY.outMbuti\" % (fh, label),pops[0],pops[1])"
   ]
  },
  {
   "cell_type": "code",
   "execution_count": 11,
   "metadata": {},
   "outputs": [
    {
     "data": {
      "text/plain": [
       "'Made /mnt/solexa/mel_yang/early_CN/UPA19_3.tv.early_CN+EA.ANC3.outMbuti_Fu.csv'"
      ]
     },
     "execution_count": 11,
     "metadata": {},
     "output_type": "execute_result"
    }
   ],
   "source": [
    "import fstat_funcs as ff\n",
    "\n",
    "pd=\"/mnt/solexa/mel_yang/data/2.2M/\"\n",
    "outpd=\"/mnt/solexa/mel_yang/early_CN/\"\n",
    "fh=\"UPA19_3\"\n",
    "label=\"tv.early_CN+EA\"\n",
    "target=[\"Mbuti\"]\n",
    "\n",
    "panel1=[\"Tianyuan\",\"NE_20_Fu\",\"La368_G1\",\"Onge\",\"Papuan\",]\n",
    "panel1=[\"Shamanka_EN\",\n",
    "        \"ZongriM297\",\"Hejiatai\",\"Chokhopani\",\"Man_Bac\",\"Ami\",\"Atayal\",\"Han\",\"Dai\",\n",
    "        \"Tibetan_ShannanX\",\"Daur\",\"Korean\"] #\"Ma912_G2\",\"Sherpa_ShigatseX\",\"JomonM\",\"Kolyma_River\",\n",
    "panel2=[\"Dushan_Fu\",\"Ma555_G6\",\"Nui_Nap\"] #\"Phl534_G6\",\"Longlin\",\"Baojianshan\",\n",
    "\n",
    "southern=[\"DonghulinM1\",\"Jiahu_M52_I2_Fu\",\"Tianluoshan\",\"Qihe_Fu\", #\"Jiahu_M52_I2_d\",\"Jiahu_M38_I2\",\n",
    "          \"LiangDaoF\",\"LiangDaoM\",\"Suogang\",\"Liangzhu_T4620\"] #\"Liangzhu_T2733\",\"Qihe_d\",\n",
    "northern=[\"DevilsGate\",\"Boisman_MN\",\"Bbdong\",\"Boshan\",\"XJS_F\",\"Xiaogao_d_Fu\", #\"XJS\",\n",
    "          \"HDYM1\",\"Daxi\",\"Dashuitian\"] #\"ZhaoguoM2\",\n",
    "mylst=panel1+panel2+southern+northern\n",
    "pops=[mylst,mylst,\"Mbuti\"]\n",
    "f3ary=ff.f3mkary(outpd,\"%s.f3.%s.log\" % (fh,label),pops,forZ=\"f\")\n",
    "ff.f3mkcsv(f3ary,outpd,\"%s.%s.ANC3.outMbuti_Fu\" % (fh, label),pops[0],pops[1])"
   ]
  },
  {
   "cell_type": "code",
   "execution_count": 9,
   "metadata": {
    "collapsed": true
   },
   "outputs": [],
   "source": [
    "%%bash\n",
    "outpd=\"/mnt/solexa/mel_yang/early_CN/\"\n",
    "maininds=\"Jiahu_M52_I2_d Jiahu_M52_I2 Jiahu_M38_I2 LiangDaoF LiangDaoM Liangzhu_T2733 Liangzhu_T4620 Qihe Qihe_d Tianluoshan Suogang\"\n",
    "maininds=\"Ami Atayal\"\n",
    "maininds=\"Ma555_G6\"\n",
    "for mainind in ${maininds}; do\n",
    "cat ${outpd}UPA19_3.f3.early_CN+EA.log | grep -v \"##cat\" | awk -vname=${mainind} '{ if ($2==name) print $3,$5,$6,$7 }' | sort -rk2 > ${outpd}${mainind}.UPA19_3.f3.early_CN+EA.txt\n",
    "done"
   ]
  },
  {
   "cell_type": "code",
   "execution_count": 10,
   "metadata": {},
   "outputs": [
    {
     "name": "stdout",
     "output_type": "stream",
     "text": [
      "~~~~~~~~~~~~~~~~~~~~~~~~\n",
      "Ma555_G6\n",
      "Nui_Nap 0.305025 0.004690 65.036\n",
      "Suogang 0.303591 0.006289 48.272\n",
      "Man_Bac 0.302466 0.004442 68.089\n",
      "Phl534_G6 0.302290 0.009474 31.908\n",
      "Ami 0.301813 0.003545 85.127\n",
      "LiangDaoM 0.300103 0.004557 65.861\n",
      "Atayal 0.297869 0.003731 79.837\n",
      "QijiapingM104-2 0.297456 0.004985 59.675\n",
      "DonghulinM02 0.297243 0.014416 20.618\n",
      "Bbdong 0.295743 0.004069 72.674\n"
     ]
    }
   ],
   "source": [
    "%%bash\n",
    "outpd=\"/mnt/solexa/mel_yang/early_CN/\"\n",
    "maininds=\"Jiahu_M52_I2_d Jiahu_M52_I2 Jiahu_M38_I2 LiangDaoF LiangDaoM Liangzhu_T2733 Liangzhu_T4620 Qihe Qihe_d Tianluoshan Suogang\"\n",
    "maininds=\"Ami Atayal\"\n",
    "maininds=\"Ma555_G6\"\n",
    "for mainind in ${maininds}; do\n",
    "echo \"~~~~~~~~~~~~~~~~~~~~~~~~\"\n",
    "echo ${mainind}\n",
    "head ${outpd}${mainind}.UPA19_3.f3.early_CN+EA.txt\n",
    "done"
   ]
  },
  {
   "cell_type": "code",
   "execution_count": null,
   "metadata": {
    "collapsed": true
   },
   "outputs": [],
   "source": []
  },
  {
   "cell_type": "code",
   "execution_count": null,
   "metadata": {
    "collapsed": true
   },
   "outputs": [],
   "source": []
  },
  {
   "cell_type": "code",
   "execution_count": null,
   "metadata": {
    "collapsed": true
   },
   "outputs": [],
   "source": []
  },
  {
   "cell_type": "code",
   "execution_count": null,
   "metadata": {
    "collapsed": true
   },
   "outputs": [],
   "source": []
  },
  {
   "cell_type": "markdown",
   "metadata": {},
   "source": [
    "## Using UPA16_3"
   ]
  },
  {
   "cell_type": "code",
   "execution_count": 6,
   "metadata": {},
   "outputs": [
    {
     "data": {
      "text/plain": [
       "'Made f3 PAR file /mnt/solexa/mel_yang/early_CN/UPA16_3.f3.early_CN+EA.par'"
      ]
     },
     "execution_count": 6,
     "metadata": {},
     "output_type": "execute_result"
    }
   ],
   "source": [
    "import fstat_funcs as ff\n",
    "\n",
    "pd=\"/mnt/solexa/mel_yang/data/2.2M/\"\n",
    "outpd=\"/mnt/solexa/mel_yang/early_CN/\"\n",
    "fh=\"UPA16_3\"\n",
    "label=\"early_CN+EA\"\n",
    "target=[\"Mbuti\"]\n",
    "mylst=[line.strip() for line in open(outpd+\"list\",\"r\")]\n",
    "ff.f3pop(pd,fh,label,target,mylst,mylst,outpd=outpd,r_repeat=False)\n",
    "ff.parfile(pd,fh,\"f3\",label,outpd=outpd)"
   ]
  },
  {
   "cell_type": "code",
   "execution_count": 8,
   "metadata": {},
   "outputs": [
    {
     "data": {
      "text/plain": [
       "'Made /mnt/solexa/mel_yang/early_CN/UPA16_3.early_CN+EA.ANC.outMbuti.csv'"
      ]
     },
     "execution_count": 8,
     "metadata": {},
     "output_type": "execute_result"
    }
   ],
   "source": [
    "import fstat_funcs as ff\n",
    "\n",
    "pd=\"/mnt/solexa/mel_yang/data/2.2M/\"\n",
    "outpd=\"/mnt/solexa/mel_yang/early_CN/\"\n",
    "fh=\"UPA16_3\"\n",
    "label=\"early_CN+EA\"\n",
    "target=[\"Mbuti\"]\n",
    "\n",
    "\n",
    "#other=[\"La368_G1\",\"JomonM\"]\n",
    "guangxi=[\"Dushandong\",\"Baojianshan\",\"Zhaoguo\",\"Longlin\"] #\"Baojianshan_d\",\n",
    "southern=[\"LiangDao\",\"Jiahu\",\"Tianluoshan\",\"Dashuitian\",\"Suogang\",\"Qihe\"] #\"Jiahu_d\",\"Qihe_d\"\n",
    "seas=[\"Oakaie1\",\"Man_Bac\",\"Ma912_G2\",\"Nui_Nap\",\"Vt719_G3_1\",\"Th521_G4\",\"Ma555_G6\"]\n",
    "northern=[\"Boisman_MN\",\"Bbdong\",\"Boshan\",\"XJS\",\"XJS_F\",\"HDYM1\",\"Donghulin\",\"Xiaogao\"] #\"Bbdong_sg\",\n",
    "western=[\"Zongri-a\",\"Chokhopani\"]\n",
    "mylst=southern+seas+northern+western #other+guangxi+\n",
    "pops=[mylst,mylst,\"Mbuti\"]\n",
    "f3ary=ff.f3mkary(outpd,\"%s.f3.%s.log\" % (fh,label),pops,forZ=\"f\")\n",
    "ff.f3mkcsv(f3ary,outpd,\"%s.%s.ANC.outMbuti\" % (fh, label),pops[0],pops[1])"
   ]
  },
  {
   "cell_type": "code",
   "execution_count": null,
   "metadata": {
    "collapsed": true
   },
   "outputs": [],
   "source": []
  },
  {
   "cell_type": "code",
   "execution_count": null,
   "metadata": {
    "collapsed": true
   },
   "outputs": [],
   "source": []
  },
  {
   "cell_type": "code",
   "execution_count": 11,
   "metadata": {
    "collapsed": true
   },
   "outputs": [],
   "source": [
    "%%bash\n",
    "pd=\"/mnt/solexa/mel_yang/early_CN/\"\n",
    "fh=\"UPA16_3.f3.early_CN+EA\"\n",
    "grep result ${pd}${fh}.log | awk '{print $2,$3,$4,$5}' > ${pd}${fh}.hmf.log"
   ]
  },
  {
   "cell_type": "code",
   "execution_count": 36,
   "metadata": {},
   "outputs": [
    {
     "name": "stdout",
     "output_type": "stream",
     "text": [
      "Overwriting /mnt/solexa/mel_yang/early_CN/f3stat_heatmap.R\n"
     ]
    }
   ],
   "source": [
    "%%writefile /mnt/solexa/mel_yang/early_CN/f3stat_heatmap.R \n",
    "#!/usr/bin/env Rscript\n",
    "args = commandArgs(trailingOnly=TRUE)\n",
    "print (args)\n",
    "\n",
    "library(gplots)\n",
    "#library(\"RColorBrewer\")\n",
    "#library(viridis)\n",
    "#Colors=rev(brewer.pal(9,\"RdPu\"))\n",
    "#Colors=brewer.pal(9,\"Heat\")\n",
    "#Colors=colorRampPalette(Colors)(100)\n",
    "myfile=read.csv(paste(args[1],\".csv\",sep=\"\"),sep=\"\\t\",header=T)\n",
    "\n",
    "mydat=subset(myfile, select = -c(X) )\n",
    "rownames(mydat)=colnames(mydat)\n",
    "pdf(paste(args[1],\".pdf\",sep=\"\"))\n",
    "#mydat[is.na(mydat)] <- 0\n",
    "mydat=data.matrix(mydat)\n",
    "v=heatmap.2(mydat,symkey=FALSE, trace=\"none\",dendrogram=\"row\",symm=TRUE,cexRow=1,cexCol=1,margins=c(7,7))#,col=Blues(9))\n",
    "x=rownames(mydat)[v$rowInd]\n",
    "mynames=data.frame(x)\n",
    "write.table(mynames,paste(args[1],\".sorted.txt\",sep=\"\"),sep=\"\\t\",row.names=F,quote=F)\n",
    "dev.off()"
   ]
  },
  {
   "cell_type": "code",
   "execution_count": 5,
   "metadata": {},
   "outputs": [
    {
     "ename": "NameError",
     "evalue": "name 'library' is not defined",
     "output_type": "error",
     "traceback": [
      "\u001b[0;31m---------------------------------------------------------------------------\u001b[0m",
      "\u001b[0;31mNameError\u001b[0m                                 Traceback (most recent call last)",
      "\u001b[0;32m<ipython-input-5-6db747ec5129>\u001b[0m in \u001b[0;36m<module>\u001b[0;34m()\u001b[0m\n\u001b[0;32m----> 1\u001b[0;31m \u001b[0mlibrary\u001b[0m\u001b[0;34m(\u001b[0m\u001b[0;34m\"RColorBrewer\"\u001b[0m\u001b[0;34m)\u001b[0m\u001b[0;34m\u001b[0m\u001b[0m\n\u001b[0m",
      "\u001b[0;31mNameError\u001b[0m: name 'library' is not defined"
     ]
    }
   ],
   "source": [
    "library(\"RColorBrewer\")"
   ]
  },
  {
   "cell_type": "code",
   "execution_count": null,
   "metadata": {
    "collapsed": true
   },
   "outputs": [],
   "source": []
  }
 ],
 "metadata": {
  "kernelspec": {
   "display_name": "Python 2",
   "language": "python",
   "name": "python2"
  },
  "language_info": {
   "codemirror_mode": {
    "name": "ipython",
    "version": 2
   },
   "file_extension": ".py",
   "mimetype": "text/x-python",
   "name": "python",
   "nbconvert_exporter": "python",
   "pygments_lexer": "ipython2",
   "version": "2.7.13"
  }
 },
 "nbformat": 4,
 "nbformat_minor": 2
}
