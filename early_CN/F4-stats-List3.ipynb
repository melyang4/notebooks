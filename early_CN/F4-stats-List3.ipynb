{
 "cells": [
  {
   "cell_type": "markdown",
   "metadata": {},
   "source": [
    "## Who is in southern group and above 100k?\n",
    "```\n",
    "South=[\"XJS\",\"XJS_F\",\"Dushan\",\"Man_Bac\",\"Nui_Nap\",\"Qihe\",\"LiangDaoF\",\"LiangDaoM\",\"Suogang\",\"Ma555_G6\",\"Ami\",\"Atayal\",\"Dai\"]\n",
    "```"
   ]
  },
  {
   "cell_type": "code",
   "execution_count": 33,
   "metadata": {},
   "outputs": [
    {
     "name": "stdout",
     "output_type": "stream",
     "text": [
      "['Suogang', 'Qihe_d', 'LiangDaoF', 'LiangDaoM', 'Ma555_G6', 'Ami', 'Atayal', 'Dai', 'Kinh', 'Lahu', 'Han']\n",
      "Boshan\n",
      "Bbdong\n",
      "ZongriM297\n",
      "Hejiatai\n",
      "Chokhopani\n",
      "Ma912_G2\n",
      "Korean\n",
      "Han\n",
      "Dai\n",
      "Miao\n",
      "She\n",
      "HDYM1\n",
      "Shamanka_EN\n",
      "ZhaoguoM2\n",
      "Xiaogao\n",
      "Xiaogao_d\n",
      "DonghulinM1\n",
      "Dashuitian\n",
      "Jiahu_M52_I2_Fu\n"
     ]
    }
   ],
   "source": [
    "##Qihe_d\n",
    "\n",
    "import fstat_funcs as ff\n",
    "\n",
    "pD=\"/mnt/solexa/mel_yang/early_CN/\"\n",
    "outpd=\"/mnt/solexa/mel_yang/early_CN/xlsx_groups/\"\n",
    "fh=\"F4.list.F4\"\n",
    "out=\"Mbuti\"        \n",
    "\n",
    "panel1=[\"Tianyuan\",\"NE_20\",\"La368_G1\",\"Onge\",\"Papuan\",\"JomonM\",\"Kolyma_River\",\"Shamanka_EN\",\n",
    "        \"ZongriM297\",\"Hejiatai\",\"Chokhopani\",\"Ma912_G2\",\"Man_Bac\",\"Ami\",\"Atayal\",\"Han\",\"Dai\",\n",
    "        \"Sherpa_Shigatse\",\"Tibetan_Shannan\",\"Daur\",\"Korean\"]\n",
    "\n",
    "south=[\"XJS\",\"XJS_F\",\"Dushan\",\"Man_Bac\",\"Nui_Nap\",\n",
    "       \"Suogang\",\"Qihe\",\"LiangDaoF\",\"LiangDaoM\",\n",
    "       \"Ma555_G6\",\"Ami\",\"Atayal\",\"Dai\"]\n",
    "south=[\"Suogang\",\"Qihe_d\",\"LiangDaoF\",\"LiangDaoM\",\n",
    "       \"Ma555_G6\",\"Ami\",\"Atayal\",\"Dai\",\"Kinh\",\"Lahu\",\"Han\"]\n",
    "northern=[\"DevilsGate\",\"Boisman_MN\",\"Bbdong\",\"Boshan\",\"Xiaogao_d_Fu\",\n",
    "          \"HDYM1\",\"ZhaoguoM2\",\"Daxi\",\"Dashuitian\",\n",
    "          \"Jiahu_M52_I2_Fu\"]\n",
    "mylst=south\n",
    "print mylst\n",
    "varies=[\"Boshan\",\"Bbdong\",\"ZongriM297\",\"Hejiatai\",\"Chokhopani\",\"Ma912_G2\",\n",
    "       \"Korean\",\"Han\",\"Dai\",\"Miao\",\"She\",\"HDYM1\",\"Shamanka_EN\",\"ZhaoguoM2\",\n",
    "        \"Xiaogao\",\"Xiaogao_d\",\"DonghulinM1\",\n",
    "       \"Dashuitian\",\"Jiahu_M52_I2_Fu\"]#+south\n",
    "for myind in varies:\n",
    "    print myind\n",
    "    pops=[out,mylst,myind,mylst]\n",
    "    ff.Dmat2xlsx(ff.Dmkary(pD,fh,pops,\"Z\"),outpd+\"Z.P2_\"+myind+\".S_Zd.\"+fh,ff.Dmklabel(pops),mylst,mylst)\n",
    "\n",
    "    pops=[out,myind,mylst,mylst]\n",
    "    ff.Dmat2xlsx(ff.Dmkary(pD,fh,pops,\"Z\"),outpd+\"Z.P3_\"+myind+\".S_Zd.\"+fh,ff.Dmklabel(pops),mylst,mylst)\n"
   ]
  },
  {
   "cell_type": "code",
   "execution_count": 32,
   "metadata": {},
   "outputs": [
    {
     "name": "stdout",
     "output_type": "stream",
     "text": [
      "['Suogang', 'Qihe_Fu', 'LiangDaoF', 'LiangDaoM', 'Ma555_G6', 'Ami', 'Atayal', 'Dai', 'Kinh', 'Lahu', 'Han']\n",
      "Boshan\n",
      "Bbdong\n",
      "ZongriM297\n",
      "Hejiatai\n",
      "Chokhopani\n",
      "Ma912_G2\n",
      "Korean\n",
      "Han\n",
      "Dai\n",
      "Miao\n",
      "She\n",
      "HDYM1\n",
      "Shamanka_EN\n",
      "ZhaoguoM2_Fu\n",
      "Xiaogao_Fu\n",
      "DonghulinM1\n",
      "Dashuitian\n",
      "Jiahu_M52_I2_Fu\n",
      "Suogang\n",
      "Qihe_Fu\n",
      "LiangDaoF\n",
      "LiangDaoM\n",
      "Ma555_G6\n",
      "Ami\n",
      "Atayal\n",
      "Dai\n",
      "Kinh\n",
      "Lahu\n",
      "Han\n"
     ]
    }
   ],
   "source": [
    "##Fu\n",
    "\n",
    "import fstat_funcs as ff\n",
    "\n",
    "pD=\"/mnt/solexa/mel_yang/early_CN/\"\n",
    "outpd=\"/mnt/solexa/mel_yang/early_CN/xlsx_groups/\"\n",
    "fh=\"F4.list.F4\"\n",
    "out=\"Mbuti\"        \n",
    "\n",
    "panel1=[\"Tianyuan\",\"NE_20\",\"La368_G1\",\"Onge\",\"Papuan\",\"JomonM\",\"Kolyma_River\",\"Shamanka_EN\",\n",
    "        \"ZongriM297\",\"Hejiatai\",\"Chokhopani\",\"Ma912_G2\",\"Man_Bac\",\"Ami\",\"Atayal\",\"Han\",\"Dai\",\n",
    "        \"Sherpa_Shigatse\",\"Tibetan_Shannan\",\"Daur\",\"Korean\"]\n",
    "\n",
    "south=[\"XJS\",\"XJS_F\",\"Dushan\",\"Man_Bac\",\"Nui_Nap\",\n",
    "       \"Suogang\",\"Qihe\",\"LiangDaoF\",\"LiangDaoM\",\n",
    "       \"Ma555_G6\",\"Ami\",\"Atayal\",\"Dai\"]\n",
    "south=[\"Suogang\",\"Qihe_Fu\",\"LiangDaoF\",\"LiangDaoM\",\n",
    "       \"Ma555_G6\",\"Ami\",\"Atayal\",\"Dai\",\"Kinh\",\"Lahu\",\"Han\"]\n",
    "northern=[\"DevilsGate\",\"Boisman_MN\",\"Bbdong\",\"Boshan\",\"Xiaogao_d_Fu\",\n",
    "          \"HDYM1\",\"ZhaoguoM2\",\"Daxi\",\"Dashuitian\",\n",
    "          \"Jiahu_M52_I2_Fu\"]\n",
    "mylst=south\n",
    "print mylst\n",
    "varies=[\"Boshan\",\"Bbdong\",\"ZongriM297\",\"Hejiatai\",\"Chokhopani\",\"Ma912_G2\",\n",
    "       \"Korean\",\"Han\",\"Dai\",\"Miao\",\"She\",\"HDYM1\",\"Shamanka_EN\",\"ZhaoguoM2_Fu\",\n",
    "        \"Xiaogao_Fu\",\"DonghulinM1\",\n",
    "       \"Dashuitian\",\"Jiahu_M52_I2_Fu\"]+south\n",
    "for myind in varies:\n",
    "    print myind\n",
    "    pops=[out,mylst,myind,mylst]\n",
    "    ff.Dmat2xlsx(ff.Dmkary(pD,fh,pops,\"Z\"),outpd+\"Z.P2_\"+myind+\".S_ZFu.\"+fh,ff.Dmklabel(pops),mylst,mylst)\n",
    "\n",
    "    pops=[out,myind,mylst,mylst]\n",
    "    ff.Dmat2xlsx(ff.Dmkary(pD,fh,pops,\"Z\"),outpd+\"Z.P3_\"+myind+\".S_ZFu.\"+fh,ff.Dmklabel(pops),mylst,mylst)\n"
   ]
  },
  {
   "cell_type": "code",
   "execution_count": 31,
   "metadata": {},
   "outputs": [
    {
     "name": "stdout",
     "output_type": "stream",
     "text": [
      "['Suogang', 'Qihe', 'LiangDaoF', 'LiangDaoM', 'Ma555_G6', 'Ami', 'Atayal', 'Dai', 'Kinh', 'Lahu', 'Han']\n",
      "Oakaie1\n"
     ]
    }
   ],
   "source": [
    "import fstat_funcs as ff\n",
    "\n",
    "pD=\"/mnt/solexa/mel_yang/early_CN/\"\n",
    "outpd=\"/mnt/solexa/mel_yang/early_CN/xlsx_groups/\"\n",
    "fh=\"F4.list.F4tv\"\n",
    "out=\"Mbuti\"        \n",
    "\n",
    "panel1=[\"Tianyuan\",\"NE_20\",\"La368_G1\",\"Onge\",\"Papuan\",\"JomonM\",\"Kolyma_River\",\"Shamanka_EN\",\n",
    "        \"ZongriM297\",\"Hejiatai\",\"Chokhopani\",\"Ma912_G2\",\"Man_Bac\",\"Ami\",\"Atayal\",\"Han\",\"Dai\",\n",
    "        \"Sherpa_Shigatse\",\"Tibetan_Shannan\",\"Daur\",\"Korean\"]\n",
    "\n",
    "south=[\"XJS\",\"XJS_F\",\"Dushan\",\"Man_Bac\",\"Nui_Nap\",\n",
    "       \"Suogang\",\"Qihe\",\"LiangDaoF\",\"LiangDaoM\",\n",
    "       \"Ma555_G6\",\"Ami\",\"Atayal\",\"Dai\"]\n",
    "south=[\"Suogang\",\"Qihe\",\"LiangDaoF\",\"LiangDaoM\",\n",
    "       \"Ma555_G6\",\"Ami\",\"Atayal\",\"Dai\",\"Kinh\",\"Lahu\",\"Han\"]\n",
    "northern=[\"DevilsGate\",\"Boisman_MN\",\"Bbdong\",\"Boshan\",\"Xiaogao_d\",\n",
    "          \"HDYM1\",\"ZhaoguoM2\",\"Daxi\",\"Dashuitian\",\n",
    "          \"Jiahu_M52_I2\"]\n",
    "sea=[\"Ma912_G2\",\"La727_G2\",\"Vt880_G2\",\"Vt833_G2\",\"Man_Bac\",\"Nui_Nap\",\n",
    "      \"Vt719_G3_1\",\"Vt777_G3\",\"Th521_G4\",\"Oakaie\"]\n",
    "mylst=south\n",
    "print mylst\n",
    "varies=[\"Boshan\",\"Bbdong\",\"ZongriM297\",\"Hejiatai\",\"Chokhopani\",\"Ma912_G2\",\n",
    "       \"Korean\",\"Han\",\"Dai\",\"Miao\",\"She\",\"HDYM1\",\"Shamanka_EN\",\"ZhaoguoM2\",\n",
    "        \"Xiaogao\",\"DonghulinM1\",\n",
    "       \"Dashuitian\",\"Jiahu_M52_I2\"]\n",
    "for myind in varies:\n",
    "    print myind\n",
    "    pops=[out,mylst,myind,mylst]\n",
    "    ff.Dmat2xlsx(ff.Dmkary(pD,fh,pops,\"Z\"),outpd+\"Z.P2_\"+myind+\".S_Ztv.\"+fh,ff.Dmklabel(pops),mylst,mylst)\n",
    "\n",
    "    pops=[out,myind,mylst,mylst]\n",
    "    ff.Dmat2xlsx(ff.Dmkary(pD,fh,pops,\"Z\"),outpd+\"Z.P3_\"+myind+\".S_Ztv.\"+fh,ff.Dmklabel(pops),mylst,mylst)\n"
   ]
  },
  {
   "cell_type": "code",
   "execution_count": null,
   "metadata": {
    "collapsed": true
   },
   "outputs": [],
   "source": []
  },
  {
   "cell_type": "code",
   "execution_count": 2,
   "metadata": {},
   "outputs": [
    {
     "name": "stdout",
     "output_type": "stream",
     "text": [
      "['JomonM', 'ZongriM297', 'Hejiatai', 'PukagongmaM5', 'Chokhopani', 'Kolyma_River', 'Shamanka_EN', 'HDYM1', 'DevilsGate', 'Boisman_MN', 'Bbdong', 'Boshan', 'Xiaogao', 'XJS', 'XJS_F', 'Suogang', 'Qihe', 'LiangDaoF', 'LiangDaoM', 'Ma555_G6', 'Ma912_G2', 'La727_G2', 'Vt880_G2', 'Vt833_G2', 'Man_Bac', 'Nui_Nap', 'Vt719_G3_1', 'Vt777_G3', 'Th521_G4', 'Oakaie1']\n",
      "Boshan\n"
     ]
    }
   ],
   "source": [
    "import fstat_funcs as ff\n",
    "\n",
    "pD=\"/mnt/solexa/mel_yang/early_CN/\"\n",
    "outpd=\"/mnt/solexa/mel_yang/early_CN/xlsx_groups/\"\n",
    "fh=\"F4.list.F4\"\n",
    "out=\"Mbuti\"        \n",
    "\n",
    "panel1=[\"Tianyuan\",\"NE_20\",\"La368_G1\",\"Onge\",\"Papuan\",\"JomonM\",\"Kolyma_River\",\"Shamanka_EN\",\n",
    "        \"ZongriM297\",\"Hejiatai\",\"Chokhopani\",\"Ma912_G2\",\"Man_Bac\",\"Ami\",\"Atayal\",\"Han\",\"Dai\",\n",
    "        \"Sherpa_Shigatse\",\"Tibetan_Shannan\",\"Daur\",\"Korean\"]\n",
    "\n",
    "south=[\"Suogang\",\"Qihe\",\"LiangDaoF\",\"LiangDaoM\",\"Ma555_G6\"]\n",
    "north=[\"JomonM\",\"ZongriM297\",\"Hejiatai\",\"PukagongmaM5\",\"Chokhopani\",\n",
    "       \"Kolyma_River\",\"Shamanka_EN\",\"HDYM1\",\n",
    "       \"DevilsGate\",\"Boisman_MN\",\"Bbdong\",\"Boshan\",\"Xiaogao\",\"XJS\",\"XJS_F\" ]        \n",
    "central=[\"Longlin\",\"Baojianshan\",\"Dushan\",\n",
    "         \"ZhaoguoM2\",\"Daxi\",\"Dashuitian\",\n",
    "         \"DonghulinM1\",\"Jiahu_M52_I2_d\",\"Tianluoshan\",\"Liangzhu_T4620\"]\n",
    "seas=[\"Ma912_G2\",\"La727_G2\",\"Vt880_G2\",\"Vt833_G2\",\"Man_Bac\",\"Nui_Nap\",\n",
    "      \"Vt719_G3_1\",\"Vt777_G3\",\"Th521_G4\",\"Oakaie1\"]\n",
    "pdeas=[\"Oroqen\",\"Daur\",\"Hezhen\",\"Xibo\",\"Japanese\",\"Korean\",\"Han\",\"Tujia\",\"She\",\"Miao\",\n",
    "      \"Naxi\",\"Yi\",\"Dai\",\"Kinh\",\"Lahu\",\"Ami\",\"Atayal\"]\n",
    "mylst=north+south+seas\n",
    "print mylst\n",
    "varies=[\"Boshan\",\"Bbdong\",\"ZongriM297\",\"Hejiatai\",\"Chokhopani\",\"Ma912_G2\",\n",
    "       \"Korean\",\"Han\",\"Dai\",\"Miao\",\"She\",\"HDYM1\",\"Shamanka_EN\",\"ZhaoguoM2\",\n",
    "        \"Xiaogao\",\"DonghulinM1\",\n",
    "       \"Dashuitian\",\"Jiahu_M52_I2\"]\n",
    "#varies=[\"DonghulinM1\"]\n",
    "varies=[\"Boshan\"]\n",
    "for myind in varies:\n",
    "    print myind\n",
    "    pops=[out,mylst,myind,mylst]\n",
    "    ff.Dmat2xlsx(ff.Dmkary(pD,fh,pops,\"Z\"),outpd+\"Z.P2_\"+myind+\".SE+sE_Z.\"+fh,ff.Dmklabel(pops),mylst,mylst)\n",
    "\n",
    "    pops=[out,myind,mylst,mylst]\n",
    "    ff.Dmat2xlsx(ff.Dmkary(pD,fh,pops,\"Z\"),outpd+\"Z.P3_\"+myind+\".SE+sE_Z.\"+fh,ff.Dmklabel(pops),mylst,mylst)\n"
   ]
  },
  {
   "cell_type": "markdown",
   "metadata": {},
   "source": [
    "## D(PD, X; PD, Mbuti) and D(PD, PD; X, Mbuti)"
   ]
  },
  {
   "cell_type": "code",
   "execution_count": 2,
   "metadata": {},
   "outputs": [
    {
     "name": "stdout",
     "output_type": "stream",
     "text": [
      "['Oroqen', 'Daur', 'Hezhen', 'Xibo', 'Japanese', 'Korean', 'Han', 'Tujia', 'She', 'Miao', 'Naxi', 'Yi', 'Dai', 'Kinh', 'Lahu', 'Ami', 'Atayal', 'Mlabri', 'Htin_Mal', 'Burmese', 'Cambodian', 'Thai', 'Tibetan', 'Sherpa', 'Tibetan_ChamdoX', 'Tibetan_LhasaX', 'Tibetan_NagquX', 'Tibetan_ShannanX', 'Tibetan_ShigatseX', 'Sherpa_ShigatseX']\n",
      "Xinyi\n"
     ]
    }
   ],
   "source": [
    "import fstat_funcs as ff\n",
    "\n",
    "pD=\"/mnt/solexa/mel_yang/early_CN/\"\n",
    "outpd=\"/mnt/solexa/mel_yang/early_CN/xlsx_seas/\"\n",
    "fh=\"F4.list.F4\"\n",
    "out=\"Mbuti\"        \n",
    "\n",
    "south=[\"Suogang\",\"Qihe\",\"LiangDaoF\",\"LiangDaoM\",\"Ma555_G6\"]\n",
    "north=[\"JomonM\",\"ZongriM297\",\"Hejiatai\",\"PukagongmaM5\",\"Chokhopani\",\n",
    "       \"Kolyma_River\",\"Shamanka_EN\",\"HDYM1\",\n",
    "       \"DevilsGate\",\"Boisman_MN\",\"Bbdong\",\"Boshan\",\"Xiaogao\",\"XJS\",\"XJS_F\" ]        \n",
    "central=[\"Longlin\",\"Baojianshan\",\"Dushan\",\n",
    "         \"ZhaoguoM2\",\"Daxi\",\"Dashuitian\",\n",
    "         \"DonghulinM1\",\"Jiahu_M52_I2\",\"Tianluoshan\",\"Liangzhu_T4620\"]\n",
    "seas=[\"Ma912_G2\",\"La727_G2\",\"Vt880_G2\",\"Vt833_G2\",\"Man_Bac\",\"Nui_Nap\",\n",
    "      \"Vt719_G3_1\",\"Vt777_G3\",\"Th521_G4\",\"Oakaie1\"]\n",
    "pdeas=[\"Oroqen\",\"Daur\",\"Hezhen\",\"Xibo\",\"Japanese\",\"Korean\",\"Han\",\"Tujia\",\"She\",\"Miao\",\n",
    "      \"Naxi\",\"Yi\",\"Dai\",\"Kinh\",\"Lahu\",\"Ami\",\"Atayal\",\"Mlabri\",\"Htin_Mal\",\n",
    "      \"Burmese\",\"Cambodian\",\"Thai\",\"Tibetan\",\"Sherpa\",\n",
    "       \"Tibetan_ChamdoX\",\"Tibetan_LhasaX\",\"Tibetan_NagquX\",\n",
    "     \"Tibetan_ShannanX\",\"Tibetan_ShigatseX\",\"Sherpa_ShigatseX\"]\n",
    "mylst=pdeas\n",
    "print mylst\n",
    "varies=[\"Ami\",\"Atayal\"] #south\n",
    "varies=[\"Xinyi\"]\n",
    "for myind in varies:\n",
    "    print myind\n",
    "    pops=[out,mylst,myind,mylst]\n",
    "    ff.Dmat2xlsx(ff.Dmkary(pD,fh,pops,\"Z\"),outpd+\"Z.P2_\"+myind+\".PDEA_Z.\"+fh,ff.Dmklabel(pops),mylst,mylst)\n",
    "\n",
    "    pops=[out,myind,mylst,mylst]\n",
    "    ff.Dmat2xlsx(ff.Dmkary(pD,fh,pops,\"Z\"),outpd+\"Z.P3_\"+myind+\".PDEA_Z.\"+fh,ff.Dmklabel(pops),mylst,mylst)\n"
   ]
  },
  {
   "cell_type": "markdown",
   "metadata": {
    "collapsed": true
   },
   "source": [
    "## Type of EA ancestry in SEA"
   ]
  },
  {
   "cell_type": "code",
   "execution_count": 36,
   "metadata": {},
   "outputs": [
    {
     "name": "stdout",
     "output_type": "stream",
     "text": [
      "['JomonM', 'ZongriM297', 'Hejiatai', 'PukagongmaM5', 'Chokhopani', 'Kolyma_River', 'Shamanka_EN', 'HDYM1', 'DevilsGate', 'Boisman_MN', 'Bbdong', 'Boshan', 'Xiaogao', 'XJS', 'XJS_F', 'Longlin', 'Baojianshan', 'Dushan', 'ZhaoguoM2', 'Daxi', 'Dashuitian', 'DonghulinM1', 'Jiahu_M52_I2', 'Tianluoshan', 'Liangzhu_T4620', 'Suogang', 'Qihe', 'LiangDaoF', 'LiangDaoM', 'Ma555_G6', 'Oroqen', 'Daur', 'Hezhen', 'Xibo', 'Japanese', 'Korean', 'Han', 'Tujia', 'She', 'Miao', 'Naxi', 'Yi', 'Dai', 'Kinh', 'Lahu', 'Ami', 'Atayal']\n",
      "Ma912_G2\n",
      "La727_G2\n",
      "Vt880_G2\n",
      "Vt833_G2\n",
      "Man_Bac\n",
      "Nui_Nap\n",
      "Vt719_G3_1\n",
      "Vt777_G3\n",
      "Th521_G4\n",
      "Oakaie1\n"
     ]
    }
   ],
   "source": [
    "import fstat_funcs as ff\n",
    "\n",
    "pD=\"/mnt/solexa/mel_yang/early_CN/\"\n",
    "outpd=\"/mnt/solexa/mel_yang/early_CN/xlsx_seas/\"\n",
    "fh=\"F4.list.F4\"\n",
    "out=\"Mbuti\"        \n",
    "\n",
    "south=[\"Suogang\",\"Qihe\",\"LiangDaoF\",\"LiangDaoM\",\"Ma555_G6\"]\n",
    "north=[\"JomonM\",\"ZongriM297\",\"Hejiatai\",\"PukagongmaM5\",\"Chokhopani\",\n",
    "       \"Kolyma_River\",\"Shamanka_EN\",\"HDYM1\",\n",
    "       \"DevilsGate\",\"Boisman_MN\",\"Bbdong\",\"Boshan\",\"Xiaogao\",\"XJS\",\"XJS_F\" ]        \n",
    "central=[\"Longlin\",\"Baojianshan\",\"Dushan\",\n",
    "         \"ZhaoguoM2\",\"Daxi\",\"Dashuitian\",\n",
    "         \"DonghulinM1\",\"Jiahu_M52_I2\",\"Tianluoshan\",\"Liangzhu_T4620\"]\n",
    "seas=[\"Ma912_G2\",\"La727_G2\",\"Vt880_G2\",\"Vt833_G2\",\"Man_Bac\",\"Nui_Nap\",\n",
    "      \"Vt719_G3_1\",\"Vt777_G3\",\"Th521_G4\",\"Oakaie1\"]\n",
    "pdeas=[\"Oroqen\",\"Daur\",\"Hezhen\",\"Xibo\",\"Japanese\",\"Korean\",\"Han\",\"Tujia\",\"She\",\"Miao\",\n",
    "      \"Naxi\",\"Yi\",\"Dai\",\"Kinh\",\"Lahu\",\"Ami\",\"Atayal\"]\n",
    "mylst=north+central+south+pdeas\n",
    "print mylst\n",
    "varies=seas\n",
    "for myind in varies:\n",
    "    print myind\n",
    "    pops=[out,mylst,myind,mylst]\n",
    "    ff.Dmat2xlsx(ff.Dmkary(pD,fh,pops,\"Z\"),outpd+\"Z.P2_\"+myind+\".EA_Z.\"+fh,ff.Dmklabel(pops),mylst,mylst)\n",
    "\n",
    "    pops=[out,myind,mylst,mylst]\n",
    "    ff.Dmat2xlsx(ff.Dmkary(pD,fh,pops,\"Z\"),outpd+\"Z.P3_\"+myind+\".EA_Z.\"+fh,ff.Dmklabel(pops),mylst,mylst)\n"
   ]
  },
  {
   "cell_type": "code",
   "execution_count": 2,
   "metadata": {},
   "outputs": [
    {
     "name": "stdout",
     "output_type": "stream",
     "text": [
      "['DevilsGate', 'Boisman_MN', 'Bbdong', 'Boshan', 'XJS', 'XJS_F', 'Xiaogao_d', 'HDYM1', 'ZhaoguoM2', 'Daxi', 'Dashuitian', 'DonghulinM1', 'Jiahu_M52_I2', 'Qihe', 'Tianluoshan', 'Liangzhu_T4620', 'LiangDaoF', 'LiangDaoM', 'Suogang']\n",
      "Tianyuan\n",
      "NE_20\n",
      "La368_G1\n",
      "Onge\n",
      "Papuan\n",
      "JomonM\n",
      "Kolyma_River\n",
      "Shamanka_EN\n",
      "ZongriM297\n",
      "Hejiatai\n",
      "Chokhopani\n",
      "Ma912_G2\n",
      "Man_Bac\n",
      "Ami\n",
      "Atayal\n",
      "Han\n",
      "Dai\n",
      "Sherpa_Shigatse\n",
      "Tibetan_Shannan\n",
      "Daur\n",
      "Korean\n"
     ]
    }
   ],
   "source": [
    "import fstat_funcs as ff\n",
    "\n",
    "pD=\"/mnt/solexa/mel_yang/early_CN/\"\n",
    "outpd=\"/mnt/solexa/mel_yang/early_CN/xlsx_D3/\"\n",
    "fh=\"F4.list.F4tv\"\n",
    "out=\"Mbuti\"        \n",
    "\n",
    "panel1=[\"Tianyuan\",\"NE_20\",\"La368_G1\",\"Onge\",\"Papuan\",\"JomonM\",\"Kolyma_River\",\"Shamanka_EN\",\n",
    "        \"ZongriM297\",\"Hejiatai\",\"Chokhopani\",\"Ma912_G2\",\"Man_Bac\",\"Ami\",\"Atayal\",\"Han\",\"Dai\",\n",
    "        \"Sherpa_Shigatse\",\"Tibetan_Shannan\",\"Daur\",\"Korean\"]\n",
    "\n",
    "southern=[\"DonghulinM1\",\"Jiahu_M52_I2\",\"Qihe\",\"Tianluoshan\", #\"Jiahu_M52_I2_d\",\"Jiahu_M38_I2\",\n",
    "          \"Liangzhu_T4620\",\"LiangDaoF\",\"LiangDaoM\",\"Suogang\"] #\"Liangzhu_T2733\",\"Qihe_d\",\n",
    "northern=[\"DevilsGate\",\"Boisman_MN\",\"Bbdong\",\"Boshan\",\"XJS\",\"XJS_F\",\"Xiaogao_d\",\n",
    "          \"HDYM1\",\"ZhaoguoM2\",\"Daxi\",\"Dashuitian\"]\n",
    "\n",
    "mylst=northern+southern\n",
    "print mylst\n",
    "varies=panel1\n",
    "\n",
    "for myind in varies:\n",
    "    print myind\n",
    "    pops=[out,mylst,myind,mylst]\n",
    "    ff.Dmat2xlsx(ff.Dmkary(pD,fh,pops,\"Z\"),outpd+\"Z.P2_\"+myind+\".NS_Z.\"+fh,ff.Dmklabel(pops),mylst,mylst)\n",
    "\n",
    "    pops=[out,myind,mylst,mylst]\n",
    "    ff.Dmat2xlsx(ff.Dmkary(pD,fh,pops,\"Z\"),outpd+\"Z.P3_\"+myind+\".NS_Z.\"+fh,ff.Dmklabel(pops),mylst,mylst)\n"
   ]
  },
  {
   "cell_type": "code",
   "execution_count": 5,
   "metadata": {},
   "outputs": [
    {
     "name": "stdout",
     "output_type": "stream",
     "text": [
      "DonghulinM1\n",
      "Jiahu_M52_I2\n",
      "Tianluoshan\n",
      "Qihe\n",
      "LiangDaoF\n",
      "LiangDaoM\n",
      "Suogang\n",
      "Liangzhu_T4620\n"
     ]
    }
   ],
   "source": [
    "import fstat_funcs as ff\n",
    "\n",
    "pD=\"/mnt/solexa/mel_yang/early_CN/\"\n",
    "outpd=\"/mnt/solexa/mel_yang/early_CN/xlsx_D3/\"\n",
    "fh=\"F4.list.F4\"\n",
    "out=\"Mbuti\"        \n",
    "\n",
    "panel1=[\"Tianyuan\",\"NE_20\",\"La368_G1\",\"Onge\",\"Papuan\",\"JomonM\",\"Kolyma_River\",\"Shamanka_EN\",\n",
    "        \"ZongriM297\",\"Hejiatai\",\"Chokhopani\",\"Ma912_G2\",\"Man_Bac\",\"Ami\",\"Atayal\",\"Han\",\"Dai\",\n",
    "        \"Sherpa_ShigatseX\",\"Tibetan_ShannanX\",\"Daur\",\"Korean\"]\n",
    "panel2=[\"Longlin\",\"Baojianshan\",\"Dushan\",\"Ma555_G6\",\"Phl534_G6\",\"Nui_Nap\"]\n",
    "\n",
    "southern=[\"DonghulinM1\",\"Jiahu_M52_I2\",\"Tianluoshan\",\"Qihe\", #\"Jiahu_M52_I2_d\",\"Jiahu_M38_I2\",\n",
    "          \"LiangDaoF\",\"LiangDaoM\",\"Suogang\",\"Liangzhu_T4620\"] #\"Liangzhu_T2733\",\"Qihe_d\",\n",
    "northern=[\"DevilsGate\",\"Boisman_MN\",\"Bbdong\",\"Boshan\",\"XJS\",\"XJS_F\",\"Xiaogao_d\",\n",
    "          \"HDYM1\",\"ZhaoguoM2\",\"Daxi\",\"Dashuitian\"]\n",
    "\n",
    "mylst1=southern\n",
    "mylst2=panel1+panel2+northern\n",
    "varies=southern\n",
    "\n",
    "for myind in varies:\n",
    "    print myind\n",
    "    pops=[out,mylst1,myind,mylst2]\n",
    "    ff.Dmat2xlsx(ff.Dmkary(pD,fh,pops,\"Z\"),outpd+\"Z.P2a_\"+myind+\".ASN_Z.\"+fh,ff.Dmklabel(pops),mylst1,mylst2)\n",
    "\n",
    "    pops=[out,myind,mylst1,mylst2]\n",
    "    ff.Dmat2xlsx(ff.Dmkary(pD,fh,pops,\"Z\"),outpd+\"Z.P3_\"+myind+\".ASN_Z.\"+fh,ff.Dmklabel(pops),mylst1,mylst2)\n",
    "\n",
    "    pops=[out,mylst2,myind,mylst1]\n",
    "    ff.Dmat2xlsx(ff.Dmkary(pD,fh,pops,\"Z\"),outpd+\"Z.P2b_\"+myind+\".ASN_Z.\"+fh,ff.Dmklabel(pops),mylst2,mylst1)\n"
   ]
  },
  {
   "cell_type": "code",
   "execution_count": null,
   "metadata": {
    "collapsed": true
   },
   "outputs": [],
   "source": []
  },
  {
   "cell_type": "code",
   "execution_count": null,
   "metadata": {
    "collapsed": true
   },
   "outputs": [],
   "source": []
  },
  {
   "cell_type": "code",
   "execution_count": null,
   "metadata": {
    "collapsed": true
   },
   "outputs": [],
   "source": []
  },
  {
   "cell_type": "code",
   "execution_count": 19,
   "metadata": {},
   "outputs": [
    {
     "name": "stdout",
     "output_type": "stream",
     "text": [
      "Boshan Suogang\n",
      "Z<-2.8 Onge\tNE_20_Fu\tTianyuan\tClovis\tCambodian\tPapuan\tJomonM\tNE_20\n",
      "|Z|<2.8 Lajigai3\tHan\tSherpa\tLiangDaoF\tMiao\tLierbao0\tHan_GuangdongX\tHedong6\tHan_HenanX\tTibetan_NagquX\tLiuwanQH-1\tZongri-c\tMebrak\tJinchankou0\tDashuitian\tHan_SichuanX\tHtin_Mal\tXibo\tZongriM1\tHan_JiangsuX\tDai\tButaxiongqu\tWuba\tXinyi\tThai\tTujia\tHupo-a\tYi\tLahu\tZongriM297\tDazhuang0\tHDYM1\tHejiatai\tHan_GansuX\tKinh\tChaxiutangJ2-13\tQihe\tShe\tOroqen\tZongriM32\tMan_Bac\tTibetan_ChamdoX\tDaur\tDaxi\tXiahaishiM9\tNaxi\tQihe_Fu\tTibetan_ShannanX\tJapanese\tSanheyi11\tHezhen\tJiahu_M52_I2_Fu\tRedilongM3\tMlabri\tYushuSGZ-1\tXiaoendaM2\tPukagongmaM5\tZongriM40\n",
      "Boshan Qihe\n",
      "Z<-2.8 La368_G1\tNE_20\tOnge\tNE_20_Fu\tTianyuan\tLonglin\tCambodian\tPapuan\tJomonM\tClovis\n",
      "|Z|<2.8 Lierbao0\tMa555_G6\tButaxiongqu\tDaxi\tZongriM32\tDadong_Fu\tHtin_Mal\tJiahu_M52_I2_Fu\tVt719_G3_1\tDushan\tLiangzhu_T4620\tTh521_G4\tXinyi\tThai\tMa912_G2\tJiahu_M52_I2\tSuogang\tTh530_G4\tHejiatai\tDonghulinM1\tPukagongmaM1\tMlabri\tDadong\tDushan_Fu\tHedong6\tMan_Bac\tZongriM297\tYushuSGZ-1\tXiahaishiM9\tLa727_G2\tLa364_G2\tOakaie1\tZhaoguoM2\tXiaoendaM2\n",
      "LiangDaoF Boshan\n",
      "Z<-2.8 Dadong_Fu\tLa368_G1\tOnge\tClovis\tIn662_G5\tTianyuan\tVt880_G2\tNE_20_Fu\tLonglin\tCambodian\tPapuan\tJomonM\tNE_20\n",
      "|Z|<2.8 Vt833_G2\tJiahu_M52_I2_d_Fu\tLierbao0\tLa727_G2\tDai\tDaxi\tZongriM32\tQihe_d_Fu\tJiahu_M38_I2\tHtin_Mal\tJiahu_M52_I2_Fu\tVt777_G3\tVt719_G3_1\tDushan\tQihe_d\tLiangzhu_T4620\tTh521_G4\tXinyi\tThai\tPukagongmaM5\tJiahu_M52_I2\tLahu\tTh530_G4\tHejiatai\tDonghulinM1\tPukagongmaM1\tMlabri\tKinh\tDushan_Fu\tHedong6\tMan_Bac\tYushuSGZ-1\tVt779_G3\tQihe_Fu\tMa555_G6\tLa364_G2\tOakaie1\tZhaoguoM2\tZhaoguoM1\tXiaoendaM2\tZongriM40\n",
      "Boshan Tianluoshan\n",
      "Z<-2.8 Onge\tNE_20_Fu\tSherpa_ShigatseX\tTianyuan\tClovis\tCambodian\tPapuan\tJomonM\tNE_20\n",
      "|Z|<2.8 Lajigai3\tLiangDaoM\tHan\tLiangDaoF\tMiao\tDashuitian\tLierbao0\tYushuSGZ-1\tHan_HenanX\tSanheyi11\tTibetan_NagquX\tKorean\tZongri-c\tMebrak\tJinchankou0\tYi\tHan_SichuanX\tHtin_Mal\tXibo\tZongriM1\tHan_JiangsuX\tDai\tButaxiongqu\tWuba\tXinyi\tThai\tTujia\tHupo-a\tXiaogao_d\tAmi\tJiahu_M52_I2\tLahu\tZongriM297\tLiuwanQH-1\tHDYM1\tHejiatai\tHan_GansuX\tKinh\tBoisman_MN\tChaxiutangJ2-13\tMlabri\tShe\tSamdzong\tDazhuang0\tOroqen\tHan_ShandongX\tMan_Bac\tDaur\tHan_GuangdongX\tXiahaishiM9\tNaxi\tXiaogao_d_Fu\tQihe_Fu\tJapanese\tLa364_G2\tHezhen\tJiahu_M52_I2_Fu\tRedilongM3\tQihe\tZongriM32\tXiaoendaM2\tPukagongmaM5\tXiaogao_Fu\tZongriM40\n",
      "Boshan Jiahu_M52_I2\n",
      "Z<-2.8 Baojianshan_d\tLa368_G1\tKolyma_River\tOnge\tClovis\tLa727_G2\tNE_20_Fu\tSherpa_ShigatseX\tTianyuan\tBurmese\tLonglin\tCambodian\tBaojianshan_Fu\tPapuan\tJomonM\tNE_20\tMa912_G2\tBaojianshan\n",
      "|Z|<2.8 QijiapingM89-2\tLajigai3\tLiangDaoM\tHan\tLiangDaoF\tMiao\tLierbao0\tYushuSGZ-1\tHedong6\tZongriM32\tQihe_d_Fu\tDushan\tZongri-c\tMebrak\tAmi\tHan_SichuanX\tXibo\tZongriM1\tVt719_G3_1\tHan_JiangsuX\tQihe_d\tButaxiongqu\tNui_Nap\tWuba\tXinyi\tPukagongmaM1\tTujia\tYi\tHuoshaogouM117\tZongriM297\tLiuwanQH-1\tHDYM1\tHejiatai\tHan_GansuX\tDonghulinM1\tQijiapingM108-2\tAtayal\tChaxiutangJ2-13\tQihe\tShe\tOroqen\tTibetan_ChamdoX\tDaur\tDazhuang0\tXiahaishiM9\tNaxi\tQihe_Fu\tMa555_G6\tJapanese\tSanheyi11\tOakaie1\tRedilongM3\tTianluoshan\tChokhopani\tXiaoendaM2\tPukagongmaM5\tHezhen\tZongriM40\n",
      "LiangDaoM Boshan\n",
      "Z<-2.8 Baojianshan_d\tLa368_G1\tNE_20\tOnge\tNE_20_Fu\tSherpa_ShigatseX\tTianyuan\tLa364_G2\tZhaoguoM2_Fu\tZhaoguoM2\tBurmese\tMlabri\tLonglin\tCambodian\tBaojianshan_Fu\tPapuan\tJomonM\tClovis\tMa912_G2\tBaojianshan\n",
      "|Z|<2.8 QijiapingM89-2\tLajigai3\tMa555_G6\tHan\tLa727_G2\tMiao\tLierbao0\tDai\tHan_GuangdongX\tQihe_d_Fu\tTujia\tDashuitian\tHan_SichuanX\tHtin_Mal\tVt719_G3_1\tDushan\tQihe_d\tLiangzhu_T4620\tTh521_G4\tXinyi\tTh530_G4\tHupo-a\tJiahu_M52_I2\tLahu\tHDYM1\tHan_GansuX\tDonghulinM1\tQijiapingM108-2\tAtayal\tQihe\tKinh\tDushan_Fu\tHedong6\tDaxi\tXiahaishiM9\tQihe_Fu\tNui_Nap\tJapanese\tOakaie1\tJiahu_M52_I2_Fu\tRedilongM3\tTianluoshan\tYushuSGZ-1\tXiaoendaM2\tShe\n",
      "LiangDaoF Suogang\n",
      "Z<-2.8 Kolyma_River\tOnge\tSherpa\tSherpa_ShigatseX\tTu\tButaxiongqu\tZongriM32\tClovis\tTibetan_NagquX\tKorean\tZongri-c\tMebrak\tYi\tHan_SichuanX\tHtin_Mal\tXibo\tZongriM1\tTianyuan\tWuba\tBaojianshan_Fu\tNE_20\tThai\tTibetan\tPukagongmaM5\tMa912_G2\tShamanka_EN\tZongriM297\tLahu\tHDYM1\tHejiatai\tHan_GansuX\tBurmese\tMlabri\tZongriM40\tPapuan\tOroqen\tHan_ShandongX\tTibetan_ChamdoX\tDaur\tTibetan_ShigatseX\tNaxi\tTibetan_LhasaX\tNE_20_Fu\tTibetan_ShannanX\tJapanese\tSanheyi11\tHezhen\tSamdzong\tChokhopani\tCambodian\tJomonM\n",
      "|Z|<2.8 Bbdong\tAmi\tLiangDaoM\tDushan_Fu\tHan\tXJS_Fu\tMiao\tDushan\tHan_GuangdongX\tNui_Nap\tAtayal\tRedilongM3\tQihe\tXJS\tMan_Bac\tQihe_Fu\n",
      "LiangDaoF Qihe\n",
      "Z<-2.8 Baojianshan_d\tQijiapingM89-2\tKolyma_River\tHan_JiangsuX\tLa368_G1\tTu\tLajigai3\tJapanese\tDaxi\tHedong6\tHan_HenanX\tLonglin\tSanheyi11\tLahu\tKorean\tZongri-c\tMebrak\tJinchankou0\tLierbao0\tBaojianshan\tYi\tXibo\tZongriM1\tTianyuan\tHDYM1\tButaxiongqu\tTh521_G4\tChaxiutangJ2-13\tWuba\tXinyi\tXiaogao\tOnge\tThai\tDadong_Fu\tTibetan\tSherpa_ShigatseX\tMa912_G2\tShamanka_EN\tDaur\tTibetan_NagquX\tBaojianshan_Fu\tLiuwanQH-1\tHuoshaogouM117\tTh530_G4\tHejiatai\tHan_GansuX\tDonghulinM1\tQijiapingM108-2\tZhaoguoM2_Fu\tBoisman_MN\tBurmese\tSamdzong\tDadong\tNE_20\tOroqen\tHan_ShandongX\tTibetan_ChamdoX\tZongriM297\tYushuSGZ-1\tCambodian\tXiahaishiM9\tTibetan_ShigatseX\tNaxi\tXiaogao_d_Fu\tNE_20_Fu\tTibetan_ShannanX\tSherpa\tZongriM32\tLa364_G2\tDazhuang0\tHezhen\tZhaoguoM2\tRedilongM3\tPukagongmaM1\tHupo-a\tPapuan\tTibetan_LhasaX\tJomonM\tClovis\tXiaoendaM2\tBoshan\tPukagongmaM5\tChokhopani\tXiaogao_Fu\tZongriM40\n",
      "|Z|<2.8 Ami\tXJS_Fu\tMa555_G6\tXJS_F\tSuogang\tOakaie1\tVt719_G3_1\tNui_Nap\tDushan_Fu\tLiangzhu_T4620\tAtayal\tQijiapingM104-2\tTianluoshan\tXJS\tDushan\tMan_Bac\n",
      "LiangDaoF Tianluoshan\n",
      "Z<-2.8 Kolyma_River\tOnge\tSherpa\tSherpa_ShigatseX\tTu\tButaxiongqu\tZongriM32\tClovis\tSanheyi11\tZongri-c\tYi\tHtin_Mal\tXibo\tZongriM1\tTianyuan\tWuba\tNE_20\tThai\tTibetan\tPukagongmaM5\tMa912_G2\tShamanka_EN\tZongriM297\tTibetan_NagquX\tHDYM1\tBurmese\tMlabri\tPapuan\tOroqen\tTibetan_ChamdoX\tDaur\tTibetan_ShigatseX\tNaxi\tTibetan_LhasaX\tNE_20_Fu\tTibetan_ShannanX\tJapanese\tLa364_G2\tHezhen\tSamdzong\tChokhopani\tCambodian\tJomonM\n",
      "|Z|<2.8 Bbdong\tAmi\tJiahu_M52_I2\tLiangDaoM\tXJS_Fu\tQihe_Fu\tAtayal\tQijiapingM104-2\tQihe\tXJS\tXJS_F\tMan_Bac\n",
      "LiangDaoF Jiahu_M52_I2\n",
      "Z<-2.8 La368_G1\tKolyma_River\tOnge\tNE_20_Fu\tSherpa_ShigatseX\tTianyuan\tBurmese\tClovis\tPapuan\tNE_20\n",
      "|Z|<2.8 Baojianshan_d\tDushan\tTibetan_ShannanX\tLa727_G2\tMiao\tTu\tHan_GuangdongX\tHedong6\tHan_HenanX\tQihe_d_Fu\tHuoshaogouM117\tMebrak\tYi\tHan_SichuanX\tHtin_Mal\tXibo\tZongriM1\tVt719_G3_1\tHan_JiangsuX\tQihe_d\tDai\tTh521_G4\tWuba\tXinyi\tShe\tThai\tTujia\tLahu\tHDYM1\tHejiatai\tHan_GansuX\tQijiapingM108-2\tKinh\tBoisman_MN\tChaxiutangJ2-13\tMlabri\tZongriM40\tDushan_Fu\tOroqen\tMan_Bac\tTibetan_ChamdoX\tDaur\tYushuSGZ-1\tMa555_G6\tNaxi\tXiaogao_d_Fu\tBbdong_sg\tQihe_Fu\tNui_Nap\tJapanese\tSanheyi11\tOakaie1\tRedilongM3\tSamdzong\tChokhopani\tZongriM32\tXiaoendaM2\tBoshan\tPukagongmaM5\tHezhen\tXiaogao_Fu\tTianluoshan\n",
      "LiangDaoM Suogang\n",
      "Z<-2.8 Kolyma_River\tTianyuan\tHan\tSherpa\tSherpa_ShigatseX\tTu\tPapuan\tButaxiongqu\tYushuSGZ-1\tHan_HenanX\tClovis\tSanheyi11\tTibetan_NagquX\tKorean\tZongri-c\tMebrak\tBaojianshan\tYi\tHan_SichuanX\tXibo\tZongriM1\tHan_JiangsuX\tWuba\tBaojianshan_Fu\tOnge\tThai\tTibetan\tPukagongmaM5\tMa912_G2\tShamanka_EN\tZongriM297\tLahu\tHDYM1\tHan_GansuX\tKinh\tBoisman_MN\tChaxiutangJ2-13\tSamdzong\tShe\tNE_20\tOroqen\tHan_ShandongX\tTibetan_ChamdoX\tDaur\tDazhuang0\tTibetan_ShigatseX\tNaxi\tTibetan_LhasaX\tNE_20_Fu\tTibetan_ShannanX\tJapanese\tLa364_G2\tHezhen\tRedilongM3\tBurmese\tCambodian\tZongriM32\tJomonM\tBoshan\tChokhopani\tZongriM40\n",
      "|Z|<2.8 Ami\tLiangDaoF\tQihe_Fu\tDushan\tAtayal\tQihe\tDushan_Fu\n",
      "LiangDaoM Qihe\n",
      "Z<-2.8 Baojianshan_d\tLa368_G1\tKolyma_River\tHan_JiangsuX\tTibetan_LhasaX\tQijiapingM89-2\tSherpa_ShigatseX\tTu\tLajigai3\tDaxi\tHan_HenanX\tLonglin\tLa364_G2\tZongriM297\tLahu\tKorean\tZongri-c\tMebrak\tSherpa\tLierbao0\tBaojianshan\tYi\tHan_SichuanX\tHtin_Mal\tXibo\tZongriM1\tOnge\tButaxiongqu\tTh521_G4\tWuba\tXinyi\tXiaogao\tNE_20\tThai\tTibetan\tTujia\tMa912_G2\tShamanka_EN\tXiaogao_d\tTianyuan\tJiahu_M52_I2\tTibetan_NagquX\tBaojianshan_Fu\tLiuwanQH-1\tHuoshaogouM117\tHDYM1\tHejiatai\tHan_GansuX\tPukagongmaM1\tBoisman_MN\tChaxiutangJ2-13\tMlabri\tZongriM40\tPapuan\tOroqen\tHan_ShandongX\tTibetan_ChamdoX\tDaur\tYushuSGZ-1\tXiahaishiM9\tTibetan_ShigatseX\tNaxi\tXiaogao_d_Fu\tNE_20_Fu\tTibetan_ShannanX\tJapanese\tSanheyi11\tDazhuang0\tHezhen\tJiahu_M52_I2_Fu\tRedilongM3\tSamdzong\tBurmese\tCambodian\tZongriM32\tHupo-a\tJomonM\tClovis\tXiaoendaM2\tPukagongmaM5\tChokhopani\n",
      "|Z|<2.8 Dashuitian\tAmi\tMa555_G6\tSuogang\tXJS_Fu\tMan_Bac\tLa727_G2\tDushan_Fu\tNui_Nap\tOakaie1\tQijiapingM104-2\tXJS_F\tXJS\tHedong6\tDushan\tAtayal\n",
      "LiangDaoM Tianluoshan\n",
      "Z<-2.8 Kolyma_River\tTianyuan\tSherpa\tSherpa_ShigatseX\tTu\tButaxiongqu\tYushuSGZ-1\tHan_HenanX\tClovis\tSanheyi11\tTibetan_NagquX\tKorean\tZongri-c\tYi\tHan_SichuanX\tXibo\tZongriM1\tHan_JiangsuX\tDai\tWuba\tXinyi\tOnge\tThai\tTibetan\tTujia\tMa912_G2\tShamanka_EN\tZongriM297\tLahu\tHDYM1\tHan_GansuX\tBoisman_MN\tChaxiutangJ2-13\tSamdzong\tNE_20\tOroqen\tHan_ShandongX\tTibetan_ChamdoX\tDaur\tTibetan_ShigatseX\tNaxi\tTibetan_LhasaX\tNE_20_Fu\tTibetan_ShannanX\tJapanese\tLa364_G2\tHezhen\tBurmese\tCambodian\tPapuan\tJomonM\tChokhopani\n",
      "|Z|<2.8 Dashuitian\tBbdong\tLajigai3\tXJS_F\tXJS_Fu\tLiangDaoF\tMiao\tAtayal\tRedilongM3\tBoshan\tQihe_Fu\tAmi\n"
     ]
    },
    {
     "name": "stdout",
     "output_type": "stream",
     "text": [
      "LiangDaoM Jiahu_M52_I2\n",
      "Z<-2.8 La368_G1\tKolyma_River\tOnge\tTibetan_LhasaX\tNE_20_Fu\tTibetan\tSherpa_ShigatseX\tTianyuan\tBurmese\tClovis\tCambodian\tPapuan\tJomonM\tNE_20\tMebrak\tShamanka_EN\n",
      "|Z|<2.8 Baojianshan_d\tQijiapingM89-2\tLajigai3\tDushan\tHan\tXJS_Fu\tMiao\tLierbao0\tHan_GuangdongX\tQijiapingM104-2\tYushuSGZ-1\tHedong6\tHan_HenanX\tSanheyi11\tXJS\tKorean\tJinchankou0\tYi\tHan_SichuanX\tZongriM1\tHan_JiangsuX\tDai\tButaxiongqu\tXinyi\tXiaogao\tTujia\tHupo-a\tXiaogao_d\tZongriM297\tLahu\tLiuwanQH-1\tHDYM1\tHejiatai\tHan_GansuX\tQijiapingM108-2\tAtayal\tBoisman_MN\tChaxiutangJ2-13\tKinh\tDushan_Fu\tOroqen\tHan_ShandongX\tMan_Bac\tDaur\tDaxi\tMa555_G6\tXiahaishiM9\tBbdong\tNaxi\tXiaogao_d_Fu\tQihe_Fu\tNui_Nap\tJapanese\tLa364_G2\tRedilongM3\tZongriM32\tXiaoendaM2\tBoshan\tXiaogao_Fu\tShe\n",
      "Suogang Tianluoshan\n",
      "Z<-2.8 \n",
      "|Z|<2.8 \n",
      "Suogang Jiahu_M52_I2\n",
      "Z<-2.8 Kolyma_River\tOnge\tSherpa\tTu\tButaxiongqu\tClovis\tXibo\tTianyuan\tNE_20\tThai\tTibetan\tSherpa_ShigatseX\tShamanka_EN\tTibetan_NagquX\tHDYM1\tBoisman_MN\tBurmese\tSamdzong\tPapuan\tOroqen\tTibetan_ChamdoX\tDaur\tTibetan_ShigatseX\tNaxi\tTibetan_LhasaX\tNE_20_Fu\tTibetan_ShannanX\tJapanese\tHezhen\tChokhopani\tCambodian\tBoshan\n",
      "|Z|<2.8 Dashuitian\tBbdong\tLajigai3\tXJS_F\tDazhuang0\tLiangDaoF\tTujia\tRedilongM3\tSanheyi11\tYushuSGZ-1\tChaxiutangJ2-13\tXiahaishiM9\tShe\tZongriM32\tXiaogao\tKorean\tHan_ShandongX\tJinchankou0\tXiaogao_Fu\n",
      "Tianluoshan Jiahu_M52_I2\n",
      "Z<-2.8 Kolyma_River\tTu\tTibetan_NagquX\tTibetan_ShigatseX\tTibetan_LhasaX\tNE_20_Fu\tSherpa_ShigatseX\tTianyuan\tBurmese\tSamdzong\tClovis\tCambodian\tPapuan\tOroqen\tOnge\tThai\tTibetan\n",
      "|Z|<2.8 Ami\tHan_SichuanX\tBoshan\tLahu\tHan\tLiangDaoF\tDaur\tMiao\tHan_JiangsuX\tHan_GansuX\tJapanese\tKinh\tHan_GuangdongX\tBoisman_MN\tHan_HenanX\tYi\tShe\tKorean\tHan_ShandongX\tAtayal\tTujia\n",
      "Qihe Suogang\n",
      "Z<-2.8 Kolyma_River\tOnge\tSherpa\tTu\tButaxiongqu\tZongriM32\tClovis\tZongri-c\tBaojianshan\tYi\tXibo\tZongriM1\tTianyuan\tBaojianshan_Fu\tNE_20\tThai\tTibetan\tSherpa_ShigatseX\tMa912_G2\tShamanka_EN\tZongriM297\tTibetan_NagquX\tHDYM1\tHan_GansuX\tBoisman_MN\tBurmese\tSamdzong\tZongriM40\tPapuan\tOroqen\tHan_ShandongX\tTibetan_ChamdoX\tDaur\tTibetan_ShigatseX\tNaxi\tTibetan_LhasaX\tNE_20_Fu\tTibetan_ShannanX\tJapanese\tHezhen\tChokhopani\tCambodian\tJomonM\n",
      "|Z|<2.8 Ami\tXJS_Fu\tLajigai3\tLiangDaoM\tDushan_Fu\tLiangDaoF\tDushan\tAtayal\tRedilongM3\tXJS_F\tXJS\tXiaogao\tBoshan\tXiaogao_Fu\n",
      "Qihe Tianluoshan\n",
      "Z<-2.8 Kolyma_River\tOnge\tTu\tClovis\tTianyuan\tWuba\tNE_20\tThai\tTibetan\tShamanka_EN\tSherpa_ShigatseX\tBurmese\tSamdzong\tPapuan\tTibetan_ChamdoX\tTibetan_ShigatseX\tTibetan_LhasaX\tNE_20_Fu\tTibetan_ShannanX\tChokhopani\tCambodian\tJomonM\n",
      "|Z|<2.8 XJS_Fu\tLajigai3\tLiangDaoF\tMiao\tHan_GuangdongX\tXJS\tJinchankou0\tDashuitian\tXJS_F\tXinyi\tXiaogao\tHupo-a\tBbdong\tAmi\tBaojianshan_Fu\tHejiatai\tKinh\tAtayal\tChaxiutangJ2-13\tShe\tZongriM297\tDazhuang0\tXiahaishiM9\tRedilongM3\tMa912_G2\tYushuSGZ-1\tXiaogao_Fu\n",
      "Qihe Jiahu_M52_I2\n",
      "Z<-2.8 La368_G1\tKolyma_River\tTianyuan\tNE_20_Fu\tSherpa_ShigatseX\tOnge\tTu\tLa364_G2\tBurmese\tClovis\tCambodian\tPapuan\tJomonM\tNE_20\tThai\tTibetan\tMa912_G2\tShamanka_EN\n",
      "|Z|<2.8 Baojianshan_d\tQijiapingM89-2\tLajigai3\tMa555_G6\tHan\tLiangDaoF\tMiao\tLierbao0\tHan_GuangdongX\tZongriM32\tKorean\tJinchankou0\tYi\tHan_SichuanX\tHtin_Mal\tXJS_F\tZongriM1\tDushan\tDai\tTh521_G4\tDazhuang0\tXinyi\tXiaogao\tPukagongmaM5\tHupo-a\tXiaogao_d\tAmi\tLahu\tLiuwanQH-1\tTujia\tHejiatai\tQijiapingM108-2\tAtayal\tBoisman_MN\tQijiapingM104-2\tMlabri\tKinh\tDushan_Fu\tHedong6\tMan_Bac\tZongriM297\tDaxi\tXiahaishiM9\tBbdong\tXiaogao_d_Fu\tNui_Nap\tSanheyi11\tRedilongM3\tPukagongmaM1\tXiaoendaM2\tBoshan\tXiaogao_Fu\tShe\n"
     ]
    }
   ],
   "source": [
    "pD=\"/mnt/solexa/mel_yang/early_CN/\"\n",
    "outpd=\"/mnt/solexa/mel_yang/early_CN/xlsx_D3/\"\n",
    "fh=\"F4.list.F4\"\n",
    "eur=['Shahr_I_Sokhta_BA3','Shahr_I_Sokhta_BA2','Gonur2_BA','French','West_Siberia_N',\n",
    "     'Anatolia_N','Kotias','Kostenki14','Natufian','Karelia','Uygur','Satsurblia','Loschbour',\n",
    "     'Ganj_Dareh_N','UstIshim','Surui','LaBrana1','Motala12','Iran_N','Levant_N',\n",
    "     'Malta1','Mixe','Anzick-1','Sardinian','Villabruna','Hajji_Firuz_C','Vestonice16']\n",
    "out=\"Mbuti\"\n",
    "main1,main2=\"LiangDaoF\",\"HDYM1\"\n",
    "mains=[(\"Boshan\",\"Suogang\"),(\"Boshan\",\"Qihe\"), (\"LiangDaoF\",\"Boshan\"),\n",
    "       (\"Boshan\",\"Tianluoshan\"),(\"Boshan\",\"Jiahu_M52_I2\"), (\"LiangDaoM\",\"Boshan\"),\n",
    "    (\"LiangDaoF\",\"Suogang\"),(\"LiangDaoF\",\"Qihe\"),\n",
    "       (\"LiangDaoF\",\"Tianluoshan\"),(\"LiangDaoF\",\"Jiahu_M52_I2\"),\n",
    "      (\"LiangDaoM\",\"Suogang\"),(\"LiangDaoM\",\"Qihe\"),\n",
    "       (\"LiangDaoM\",\"Tianluoshan\"),(\"LiangDaoM\",\"Jiahu_M52_I2\"),\n",
    "       (\"Suogang\",\"Tianluoshan\"),(\"Suogang\",\"Jiahu_M52_I2\"),\n",
    "       (\"Tianluoshan\",\"Jiahu_M52_I2\"),\n",
    "      (\"Qihe\",\"Suogang\"),(\"Qihe\",\"Tianluoshan\"),(\"Qihe\",\"Jiahu_M52_I2\")]\n",
    "co1=2.8\n",
    "co2=2.8\n",
    "mysigs,mynotsigs=[],[]\n",
    "for main1,main2 in mains:\n",
    "    sigp2s,sigp3s,notsigp2s,notsigp3s={},{},{},{}\n",
    "    myfile=open(pD+fh,'r')\n",
    "    for line in myfile:\n",
    "        x=line.split()\n",
    "        if x[1]!=out: continue\n",
    "        if x[4] in eur: continue\n",
    "        if float(x[-1]) < 50000: continue\n",
    "        D,Z=float(x[5]),float(x[6])\n",
    "        if x[2]==main1 and x[3]==main2 and Z>-co2 and Z<co2: notsigp3s[x[4]]=(D,Z)\n",
    "        elif x[3]==main1 and x[2]==main2 and Z>-co2 and Z<co2: notsigp2s[x[4]]=(D,Z)\n",
    "        elif x[2]==main1 and x[3]==main2 and Z<-co1: sigp3s[x[4]]=(D,Z)\n",
    "        elif x[3]==main1 and x[2]==main2 and Z<-co1: sigp2s[x[4]]=(D,Z)\n",
    "        else: continue\n",
    "    sigcommon=set(sigp3s.keys()).intersection(set(sigp2s.keys()))\n",
    "    notsigcommon=set(notsigp3s.keys()).intersection(set(notsigp2s.keys()))\n",
    "    mysigs.append(sigcommon)\n",
    "    mynotsigs.append(notsigcommon)\n",
    "    print main1,main2\n",
    "    print 'Z<%.1f' % -co1, '\\t'.join(list(sigcommon))\n",
    "    print '|Z|<%.1f' % co2, '\\t'.join(list(notsigcommon))"
   ]
  },
  {
   "cell_type": "code",
   "execution_count": 20,
   "metadata": {},
   "outputs": [
    {
     "name": "stdout",
     "output_type": "stream",
     "text": [
      "set([])\n"
     ]
    }
   ],
   "source": [
    "mains=[(\"Boshan\",\"Suogang\"),(\"Boshan\",\"Qihe\"), (\"LiangDaoF\",\"Boshan\"),\n",
    "       (\"Boshan\",\"Tianluoshan\"),(\"Boshan\",\"Jiahu_M52_I2\"), (\"LiangDaoM\",\"Boshan\"),\n",
    "    (\"LiangDaoF\",\"Suogang\"),(\"LiangDaoF\",\"Qihe\"),\n",
    "       (\"LiangDaoF\",\"Tianluoshan\"),(\"LiangDaoF\",\"Jiahu_M52_I2\"),\n",
    "      (\"LiangDaoM\",\"Suogang\"),(\"LiangDaoM\",\"Qihe\"),\n",
    "       (\"LiangDaoM\",\"Tianluoshan\"),(\"LiangDaoM\",\"Jiahu_M52_I2\"),\n",
    "       (\"Suogang\",\"Tianluoshan\"),(\"Suogang\",\"Jiahu_M52_I2\"),\n",
    "       (\"Tianluoshan\",\"Jiahu_M52_I2\"),\n",
    "      (\"Qihe\",\"Suogang\"),(\"Qihe\",\"Tianluoshan\"),(\"Qihe\",\"Jiahu_M52_I2\")]\n",
    "myset=\"\"\n",
    "for ind,i in enumerate(mains):\n",
    "    #if \"Boshan\" in i: continue\n",
    "    if \"Jiahu_M52_I2\" in i: continue\n",
    "    if i==(\"Suogang\",\"Tianluoshan\"): continue ##TOO LOW POWER!\n",
    "    if type(myset)==str: myset=mysigs[ind]; continue\n",
    "    else: \n",
    "        #print i, mysigs[ind], myset\n",
    "        myset=mysigs[ind].intersection(myset)\n",
    "print myset"
   ]
  },
  {
   "cell_type": "markdown",
   "metadata": {},
   "source": [
    "LiangDaoF vs Qihe\n",
    "\n",
    "Z<-2.5 for both\n",
    "\n",
    "Qihe: ['QijiapingM89-2', 'Kolyma_River', 'Daxi', 'Oroqen', 'Mebrak', 'Jinchankou0', 'Baojianshan', 'Xibo', 'Tianyuan', 'Tibetan_NagquX', 'LiuwanQH-1', 'In662_G5', 'HDYM1', 'QijiapingM108-2', 'Boisman_MN', 'Hedong6', 'YushuSGZ-1', 'Tibetan_ShannanX', 'La364_G2', 'RedilongM3', 'Hupo-a', 'XiaoendaM2', 'Baojianshan_d', 'Han_HenanX', 'Longlin', 'Zongri-c', 'Dashuitian', 'ZongriM1', 'Han_JiangsuX', 'Xinyi', 'Thai', 'Tibetan', 'Lahu', 'Sherpa_ShigatseX', 'Hejiatai', 'Han_GansuX', 'DonghulinM1', 'DonghulinM2', 'ZhaoguoM2_Fu', 'Bbdong_sg', 'Dadong', 'Han_ShandongX', 'ZongriM297', 'NE_20_Fu', 'La727_G2', 'Burmese', 'Hezhen', 'JomonM', 'ZongriM40', 'Lajigai3', 'Butaxiongqu', 'Clovis', 'Korean', 'Onge', 'Wuba', 'Xiaogao', 'Shamanka_EN', 'HuoshaogouM117', 'PukagongmaM5', 'PukagongmaM1', 'Samdzong', 'Daur', 'XiahaishiM9', 'Naxi', 'Xiaogao_d_Fu', 'ZongriM32', 'Boshan', 'Xiaogao_Fu', 'La368_G1', 'Lierbao0', 'Kinh', 'Sherpa', 'Tu', 'Yi', 'Th521_G4', 'Baojianshan_Fu', 'NE_20', 'Ban_Chiang', 'Th530_G4', 'Ma912_G2', 'Dadong_Fu', 'ChaxiutangJ2-13', 'Papuan', 'Tibetan_ChamdoX', 'Dazhuang0', 'Tibetan_ShigatseX', 'Tibetan_LhasaX', 'Japanese', 'Sanheyi11', 'ZhaoguoM2', 'Chokhopani', 'Cambodian']\n",
    "\n",
    "Suogang: ['Kolyma_River', 'Onge', 'Sherpa', 'Sherpa_ShigatseX', 'Tu', 'Butaxiongqu', 'Han_HenanX', 'Clovis', 'Sanheyi11', 'Tibetan_NagquX', 'Korean', 'Zongri-c', 'Mebrak', 'Baojianshan', 'Yi', 'Han_SichuanX', 'Htin_Mal', 'Xibo', 'ZongriM1', 'Tianyuan', 'Wuba', 'Baojianshan_Fu', 'NE_20', 'Thai', 'Tibetan', 'PukagongmaM5', 'Ma912_G2', 'Shamanka_EN', 'ZongriM297', 'Lahu', 'HDYM1', 'Hejiatai', 'Han_GansuX', 'Kinh', 'Boisman_MN', 'Burmese', 'Mlabri', 'ZongriM40', 'Papuan', 'Oroqen', 'Han_ShandongX', 'Tibetan_ChamdoX', 'Daur', 'Dazhuang0', 'Tibetan_ShigatseX', 'Naxi', 'Tibetan_LhasaX', 'NE_20_Fu', 'Tibetan_ShannanX', 'Japanese', 'La364_G2', 'Hezhen', 'Samdzong', 'Chokhopani', 'Cambodian', 'ZongriM32', 'JomonM', 'Boshan']\n",
    "\n",
    "Tianluoshan: ['Kolyma_River', 'Onge', 'Sherpa', 'Sherpa_ShigatseX', 'Tu', 'Butaxiongqu', 'YushuSGZ-1', 'ZongriM32', 'Clovis', 'Sanheyi11', 'Zongri-c', 'Yi', 'Htin_Mal', 'Xibo', 'ZongriM1', 'Tianyuan', 'Wuba', 'NE_20', 'Thai', 'Tibetan', 'PukagongmaM5', 'Ma912_G2', 'Shamanka_EN', 'ZongriM297', 'Tibetan_NagquX', 'HDYM1', 'Hejiatai', 'Boisman_MN', 'ChaxiutangJ2-13', 'Mlabri', 'ZongriM40', 'Papuan', 'Oroqen', 'Tibetan_ChamdoX', 'Daur', 'Tibetan_ShigatseX', 'Naxi', 'Tibetan_LhasaX', 'NE_20_Fu', 'Tibetan_ShannanX', 'Japanese', 'La364_G2', 'Hezhen', 'Samdzong', 'Burmese', 'Cambodian', 'JomonM', 'Chokhopani']\n",
    "\n",
    "HDYM1: ['La368_G1', 'Onge', 'In662_G5', 'Tianyuan', 'NE_20_Fu', 'Papuan', 'NE_20']\n",
    "\n",
    "|Z|<2.5 for both\n",
    "\n",
    "Qihe: ['XJS_Fu', 'Ma555_G6', 'Nui_Nap', 'Suogang', 'Man_Bac', 'Vt719_G3_1', 'Dushan', 'Dushan_Fu', 'Liangzhu_T4620', 'Oakaie1', 'Tianluoshan', 'XJS', 'XJS_F', 'Atayal']\n",
    "\n",
    "Suogang: ['Bbdong', 'Ami', 'LiangDaoM', 'XJS_Fu', 'Qihe_Fu', 'Dushan', 'Atayal', 'Nui_Nap', 'Han_GuangdongX', 'RedilongM3', 'Qihe', 'Dushan_Fu', 'Man_Bac']\n",
    "\n",
    "Tianluoshan: ['Bbdong', 'Ami', 'Jiahu_M52_I2', 'LiangDaoM', 'XJS_Fu', 'Qihe_Fu', 'Atayal', 'QijiapingM104-2', 'Qihe', 'XJS', 'XJS_F', 'Man_Bac']\n",
    "\n",
    "HDYM1: ['Vt833_G2', 'Th521_G4', 'Vt779_G3', 'Dushan_Fu', 'ZhaoguoM2', 'Oakaie1', 'Vt719_G3_1', 'Tu', 'ZhaoguoM2_Fu', 'Liangzhu_T4620', 'Vt880_G2', 'ZhaoguoM1_Fu', 'Daxi', 'La364_G2', 'Mlabri', 'Chokhopani', 'Dadong', 'Xinyi', 'Thai', 'Man_Bac', 'Th530_G4']"
   ]
  },
  {
   "cell_type": "code",
   "execution_count": null,
   "metadata": {
    "collapsed": true
   },
   "outputs": [],
   "source": []
  }
 ],
 "metadata": {
  "kernelspec": {
   "display_name": "Python 2",
   "language": "python",
   "name": "python2"
  },
  "language_info": {
   "codemirror_mode": {
    "name": "ipython",
    "version": 2
   },
   "file_extension": ".py",
   "mimetype": "text/x-python",
   "name": "python",
   "nbconvert_exporter": "python",
   "pygments_lexer": "ipython2",
   "version": "2.7.13"
  }
 },
 "nbformat": 4,
 "nbformat_minor": 2
}
