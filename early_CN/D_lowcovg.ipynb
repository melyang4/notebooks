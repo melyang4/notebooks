{
 "cells": [
  {
   "cell_type": "code",
   "execution_count": 2,
   "metadata": {},
   "outputs": [
    {
     "name": "stdout",
     "output_type": "stream",
     "text": [
      "Baojianshan_d\n",
      "Qihe_d\n",
      "Tianluoshan\n",
      "Liangzhu_T2733\n",
      "Liangzhu_T4620\n",
      "Jiahu_M38_I2\n",
      "Jiahu_M52_I2_d\n",
      "Jiahu_M52_I2\n",
      "DonghulinM1\n",
      "ZhaoguoM1\n",
      "ZhaoguoM2\n",
      "DevilsGate\n",
      "Dadong\n"
     ]
    }
   ],
   "source": [
    "##Qihe_d\n",
    "\n",
    "import fstat_funcs as ff\n",
    "\n",
    "pD=\"/mnt/solexa/mel_yang/early_CN/\"\n",
    "outpd=\"/mnt/solexa/mel_yang/early_CN/D_lowcovg/\"\n",
    "fh=\"F4.list.F4\"\n",
    "#fh=\"F4.list.F4tv\"\n",
    "out=\"Mbuti\"        \n",
    "\n",
    "ns=[\"Qihe\",\"LiangDaoF\",\"LiangDaoM\",\"Suogang\",\"Dushan\",\"Xinyi\",\"Dashuitian\",\n",
    "    \"Bbdong\",\"Boshan\",\"XJS\",\"XJS_F\",\"Xiaogao\",\"HDYM1\",\"Shamanka_EN\",\n",
    "   \"ZongriM297\",\"Hejiatai\",\"Chokhopani\",\"Daxi\",\"Baojianshan\"]\n",
    "loco=[\"Baojianshan_d\",\"Qihe_d\",\"Tianluoshan\",\"Liangzhu_T2733\",\"Liangzhu_T4620\",\n",
    "     \"Jiahu_M38_I2\",\"Jiahu_M52_I2_d\",\"Jiahu_M52_I2\",\"DonghulinM1\",\"ZhaoguoM1\",\"ZhaoguoM2\",\n",
    "     \"DevilsGate\",\"Dadong\"]\n",
    "eeur=[\"Tianyuan\",\"Papuan\",\"Onge\",\"La368_G1\",\n",
    "      \"JomonM\",\"Jomon\",\"Longlin\",\"Baojianshan\"]\n",
    "north=[\"Kolyma_River\",\"DevilsGate\",\"Boisman_MN\",\"Shamanka_EN\",\"Mixe\",\"Surui\"]\n",
    "cnin=[\"Bbdong\",\"Boshan\",\"XJS\",\"XJS_F\",\"Xiaogao\",\"HDYM1\",\"ZongriM297\",\"Hejiatai\",\"Chokhopani\"]\n",
    "south=[\"Qihe\",\"LiangDaoF\",\"LiangDaoM\",\"Suogang\",\"Dushan\",\"Xinyi\",\"Dashuitian\",\"Daxi\",\"Ami\",\"Ma555_G6\"]\n",
    "seasia=[\"Oakaie1\",\"Man_Bac\",\"Nui_Nap\",\"Ma912_G2\",\"La727_G2\",\"Vt833_G2\",\"Vt880_G2\"]\n",
    "\n",
    "#north=[\"Mixe\",\"Surui\"]\n",
    "mylst=ns\n",
    "varies=loco\n",
    "for myind in varies:\n",
    "    print myind\n",
    "    pops=[out,mylst,myind,mylst]\n",
    "    ff.Dmat2xlsx(ff.Dmkary(pD,fh,pops,\"Z\"),outpd+\"Z.P2_\"+myind+\".NS_Zlc_o%s.\" % (out)+fh,ff.Dmklabel(pops),mylst,mylst)\n",
    "\n",
    "    pops=[out,myind,mylst,mylst]\n",
    "    ff.Dmat2xlsx(ff.Dmkary(pD,fh,pops,\"Z\"),outpd+\"Z.P3_\"+myind+\".NS_Zlc_o%s.\" % (out)+fh,ff.Dmklabel(pops),mylst,mylst)\n"
   ]
  },
  {
   "cell_type": "code",
   "execution_count": null,
   "metadata": {
    "collapsed": true
   },
   "outputs": [],
   "source": []
  }
 ],
 "metadata": {
  "kernelspec": {
   "display_name": "Python 2",
   "language": "python",
   "name": "python2"
  },
  "language_info": {
   "codemirror_mode": {
    "name": "ipython",
    "version": 2
   },
   "file_extension": ".py",
   "mimetype": "text/x-python",
   "name": "python",
   "nbconvert_exporter": "python",
   "pygments_lexer": "ipython2",
   "version": "2.7.13"
  }
 },
 "nbformat": 4,
 "nbformat_minor": 2
}
