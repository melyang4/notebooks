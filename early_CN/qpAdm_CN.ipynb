{
 "cells": [
  {
   "cell_type": "code",
   "execution_count": 21,
   "metadata": {},
   "outputs": [
    {
     "data": {
      "text/plain": [
       "'Made /mnt/solexa/mel_yang/early_CN/firstdraft/qpadm_Laz2017/UPA19_3.o272 file'"
      ]
     },
     "execution_count": 21,
     "metadata": {},
     "output_type": "execute_result"
    }
   ],
   "source": [
    "import fstats_funcs as ff\n",
    "\n",
    "pD=\"/mnt/solexa/mel_yang/early_CN/firstdraft/qpadm_Laz2017/\"\n",
    "\n",
    "base=[\"Mota\",\"UstIshim\",\"Kostenki14\",\"Iran_N\",\n",
    "      \"Yana\",\"Karelia\",\"Okunevo_EMBA\",\"IndusPeriphery\",\n",
    "      \"Natufian\",\"Papuan\",\"Onge\",\"Clovis\", ##no USR\n",
    "      \"Tianyuan\",\"Group1\",\"Kolyma\"] \n",
    "fh=\"UPA19_3\"\n",
    "ff.mklst(pD,fh,\"o272\",base)"
   ]
  },
  {
   "cell_type": "code",
   "execution_count": 29,
   "metadata": {},
   "outputs": [
    {
     "name": "stdout",
     "output_type": "stream",
     "text": [
      "UPA19_3.adm.CN_DS_Boshan_HDYM1_Bbdong_o272.log: 0.159774964\n",
      "UPA19_3.adm.CN_DS_Boshan_HDYM1_Xiaogao_o272.log: 0.26825771\n",
      "UPA19_3.adm.CN_DS_Boshan_HDYM1_XJS_F_o272.log: 0.549508933\n",
      "UPA19_3.adm.CN_DS_Boshan_HDYM1_XJS_o272.log: 0.117197468\n",
      "UPA19_3.adm.CN_DS_Boshan_LiangDao_Bbdong_o272.log: 0.0618588806\n",
      "UPA19_3.adm.CN_DS_Boshan_LiangDao_Xiaogao_o272.log: 0.235991783\n",
      "UPA19_3.adm.CN_DS_Boshan_LiangDao_XJS_F_o272.log: 0.798224433\n",
      "UPA19_3.adm.CN_DS_Boshan_LiangDao_XJS_o272.log: 0.186390113\n",
      " ~~~~~~~~~~~~~~~~~~~~~~~ \n",
      "UPA19_3.adm.CN_DS_Boshan_HDYM1_Bbdong_o272.log\n",
      "\n",
      "    fixed pat  wt  dof     chisq       tail prob\n",
      "           00  0    13    17.941        0.159775    -5.791     6.791  infeasible\n",
      "           01  1    14    23.210       0.0569443     1.000     0.000 \n",
      "           10  1    14    22.929       0.0614383     0.000     1.000 \n",
      "best pat:           00                0              -  -\n",
      "best pat:           10        0.0614383  chi(nested):     4.988 p-value for nested model:       0.0255258\n",
      "\n",
      " ~~~~~~~~~~~~~~~~~~~~~~~ \n",
      "UPA19_3.adm.CN_DS_Boshan_HDYM1_Xiaogao_o272.log\n",
      "\n",
      "    fixed pat  wt  dof     chisq       tail prob\n",
      "           00  0    13    15.655        0.268258    -1.413     2.413  infeasible\n",
      "           01  1    14    22.467       0.0695075     1.000    -0.000 \n",
      "           10  1    14    17.803        0.215885     0.000     1.000 \n",
      "best pat:           00                0              -  -\n",
      "best pat:           10         0.215885  chi(nested):     2.148 p-value for nested model:        0.142733\n",
      "\n",
      " ~~~~~~~~~~~~~~~~~~~~~~~ \n",
      "UPA19_3.adm.CN_DS_Boshan_HDYM1_XJS_F_o272.log\n",
      "\n",
      "    fixed pat  wt  dof     chisq       tail prob\n",
      "           00  0    13    11.735        0.549509    -0.141     1.141  infeasible\n",
      "           01  1    14    28.075       0.0139044     1.000    -0.000 \n",
      "           10  1    14    11.902        0.614193     0.000     1.000 \n",
      "best pat:           00                0              -  -\n",
      "best pat:           10         0.614193  chi(nested):     0.167 p-value for nested model:        0.682755\n",
      "\n",
      " ~~~~~~~~~~~~~~~~~~~~~~~ \n",
      "UPA19_3.adm.CN_DS_Boshan_HDYM1_XJS_o272.log\n",
      "\n",
      "    fixed pat  wt  dof     chisq       tail prob\n",
      "           00  0    13    19.194        0.117197    -0.216     1.216  infeasible\n",
      "           01  1    14    22.716        0.065053     1.000    -0.000 \n",
      "           10  1    14    19.440        0.148802     0.000     1.000 \n",
      "best pat:           00                0              -  -\n",
      "best pat:           10         0.148802  chi(nested):     0.246 p-value for nested model:        0.620088\n",
      "\n",
      " ~~~~~~~~~~~~~~~~~~~~~~~ \n",
      "UPA19_3.adm.CN_DS_Boshan_LiangDao_Bbdong_o272.log\n",
      "\n",
      "    fixed pat  wt  dof     chisq       tail prob\n",
      "           00  0    13    21.601       0.0618589    -0.155     1.155  infeasible\n",
      "           01  1    14    58.154      2.4659e-07     1.000     0.000 \n",
      "           10  1    14    22.144       0.0757024     0.000     1.000 \n",
      "best pat:           00                0              -  -\n",
      "best pat:           10        0.0757024  chi(nested):     0.543 p-value for nested model:        0.461215\n",
      "\n",
      " ~~~~~~~~~~~~~~~~~~~~~~~ \n",
      "UPA19_3.adm.CN_DS_Boshan_LiangDao_Xiaogao_o272.log\n",
      "\n",
      "    fixed pat  wt  dof     chisq       tail prob\n",
      "           00  0    13    16.248        0.235992     0.197     0.803 \n",
      "           01  1    14    43.477     7.18583e-05     1.000     0.000 \n",
      "           10  1    14    17.574        0.226869     0.000     1.000 \n",
      "best pat:           00         0.235992              -  -\n",
      "best pat:           10         0.226869  chi(nested):     1.326 p-value for nested model:        0.249508\n",
      "\n",
      " ~~~~~~~~~~~~~~~~~~~~~~~ \n",
      "UPA19_3.adm.CN_DS_Boshan_LiangDao_XJS_F_o272.log\n",
      "\n",
      "    fixed pat  wt  dof     chisq       tail prob\n",
      "           00  0    13     8.658        0.798224    -0.264     1.264  infeasible\n",
      "           01  1    14    45.842     2.97485e-05     1.000     0.000 \n",
      "           10  1    14    10.525        0.722847     0.000     1.000 \n",
      "best pat:           00                0              -  -\n",
      "best pat:           10         0.722847  chi(nested):     1.867 p-value for nested model:        0.171815\n",
      "\n",
      " ~~~~~~~~~~~~~~~~~~~~~~~ \n",
      "UPA19_3.adm.CN_DS_Boshan_LiangDao_XJS_o272.log\n",
      "\n",
      "    fixed pat  wt  dof     chisq       tail prob\n",
      "           00  0    13    17.290         0.18639    -0.147     1.147  infeasible\n",
      "           01  1    14    36.912     0.000760591     1.000     0.000 \n",
      "           10  1    14    17.513        0.229847     0.000     1.000 \n",
      "best pat:           00                0              -  -\n",
      "best pat:           10         0.229847  chi(nested):     0.224 p-value for nested model:        0.636318\n",
      "\n"
     ]
    }
   ],
   "source": [
    "%%bash\n",
    "pd=\"/mnt/solexa/mel_yang/early_CN/firstdraft/qpadm_Laz2017/\"\n",
    "name=\"PDEAS\" #\n",
    "name=\"CN\" #\n",
    "target=\"Boshan\"\n",
    "suffix=\"_DS\"\n",
    "out=\"o272\"\n",
    "for target in ${target}; do \n",
    "    grep \"f4rank: 1\" ${pd}${name}/UPA19_3.adm.${name}${suffix}_${target}_*_${out}.log | awk '{ if ($8>0.05) print $1,$8}' | cut -d'/' -f9 | cut -d':' -f1,3\n",
    "    myfile=$(grep \"f4rank: 1\" ${pd}${name}/UPA19_3.adm.${name}${suffix}_${target}_*_${out}.log | awk '{ if ($8>0.05) print $1,$8}' | cut -d'/' -f9 | cut -d':' -f1)\n",
    "    for i in ${myfile}; do \n",
    "        echo \" ~~~~~~~~~~~~~~~~~~~~~~~ \"\n",
    "        echo ${i}\n",
    "        tail -n176 ${pd}${name}/${i} | head -n8\n",
    "        done\n",
    "    done"
   ]
  },
  {
   "cell_type": "code",
   "execution_count": null,
   "metadata": {
    "collapsed": true
   },
   "outputs": [],
   "source": []
  }
 ],
 "metadata": {
  "kernelspec": {
   "display_name": "Python 2",
   "language": "python",
   "name": "python2"
  },
  "language_info": {
   "codemirror_mode": {
    "name": "ipython",
    "version": 2
   },
   "file_extension": ".py",
   "mimetype": "text/x-python",
   "name": "python",
   "nbconvert_exporter": "python",
   "pygments_lexer": "ipython2",
   "version": "2.7.13"
  }
 },
 "nbformat": 4,
 "nbformat_minor": 2
}
