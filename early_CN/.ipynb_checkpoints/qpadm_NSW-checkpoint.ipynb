{
 "cells": [
  {
   "cell_type": "code",
   "execution_count": 2,
   "metadata": {},
   "outputs": [
    {
     "data": {
      "text/plain": [
       "'Made /mnt/solexa/mel_yang/early_CN/qpadm_all/UPA19_3.out0 file'"
      ]
     },
     "execution_count": 2,
     "metadata": {},
     "output_type": "execute_result"
    }
   ],
   "source": [
    "import fstats_funcs as ff\n",
    "\n",
    "pD=\"/mnt/solexa/mel_yang/early_CN/qpadm_all/\"\n",
    "\n",
    "outgroups=[\"UstIshim\",\"Ju_hoan_North\",\"Papuan\",\"Kostenki14\",\"Onge\",\"Tianyuan\",\"Natufian\",\n",
    "          \"Kolyma_River\",\"Yana_old\",\"La368_G1\"]\n",
    "fh=\"UPA19_3\"\n",
    "ff.mklst(pD,fh,\"out0\",outgroups)\n",
    "\n"
   ]
  }
 ],
 "metadata": {
  "kernelspec": {
   "display_name": "Python 2",
   "language": "python",
   "name": "python2"
  },
  "language_info": {
   "codemirror_mode": {
    "name": "ipython",
    "version": 2
   },
   "file_extension": ".py",
   "mimetype": "text/x-python",
   "name": "python",
   "nbconvert_exporter": "python",
   "pygments_lexer": "ipython2",
   "version": "2.7.13"
  }
 },
 "nbformat": 4,
 "nbformat_minor": 2
}
