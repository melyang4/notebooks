{
 "cells": [
  {
   "cell_type": "code",
   "execution_count": 16,
   "metadata": {},
   "outputs": [
    {
     "data": {
      "text/plain": [
       "'Made /mnt/solexa/mel_yang/early_CN/firstdraft/qpadm_Laz2017/UPA19_3.o21 file'"
      ]
     },
     "execution_count": 16,
     "metadata": {},
     "output_type": "execute_result"
    }
   ],
   "source": [
    "import fstats_funcs as ff\n",
    "\n",
    "pD=\"/mnt/solexa/mel_yang/early_CN/firstdraft/qpadm_Laz2017/\"\n",
    "\n",
    "base=[\"Mota\",\"UstIshim\",\"Kostenki14\",\"Iran_N\",\n",
    "      \"Okunevo_EMBA\",\"IndusPeriphery\",\"Yana\",\"Karelia\",\n",
    "      \"Papuan\",\"Onge\",\"Clovis\", ##no USR\n",
    "      \"Tianyuan\",\"Ma912_G2\",\"JomonM\"] \n",
    "fh=\"UPA19_3\"\n",
    "ff.mklst(pD,fh,\"o21\",base)"
   ]
  },
  {
   "cell_type": "code",
   "execution_count": 2,
   "metadata": {},
   "outputs": [
    {
     "data": {
      "text/plain": [
       "'Made wave PAR file /mnt/solexa/mel_yang/early_CN/firstdraft/qpadm_Laz2017/UPA19_3.wave.o213EAS.par'"
      ]
     },
     "execution_count": 2,
     "metadata": {},
     "output_type": "execute_result"
    }
   ],
   "source": [
    "import fstats_funcs as ff\n",
    "\n",
    "pD=\"/mnt/solexa/mel_yang/data/2.2M/\" \n",
    "outpd=\"/mnt/solexa/mel_yang/early_CN/firstdraft/qpadm_Laz2017/\"\n",
    "\n",
    "fh=\"UPA19_3\"\n",
    "ff.mklst(outpd,fh,\"wave.o213EAS.leftpop\",[\"Kolyma\",\"Qihe\",\"Bbdong\"])\n",
    "ff.parfile(pD,fh,\"wave\",\"o213EAS\",outpd=outpd,outgroup=fh+\".o21\",indfh='UPA19_3.qpadmmerge1')"
   ]
  },
  {
   "cell_type": "code",
   "execution_count": 17,
   "metadata": {},
   "outputs": [
    {
     "data": {
      "text/plain": [
       "'Made /mnt/solexa/mel_yang/early_CN/firstdraft/qpadm_Laz2017/UPA19_3.o21+KQB file'"
      ]
     },
     "execution_count": 17,
     "metadata": {},
     "output_type": "execute_result"
    }
   ],
   "source": [
    "import fstats_funcs as ff\n",
    "\n",
    "pD=\"/mnt/solexa/mel_yang/early_CN/firstdraft/qpadm_Laz2017/\"\n",
    "\n",
    "base=[\"Mota\",\"UstIshim\",\"Kostenki14\",\"Iran_N\",\n",
    "      \"Okunevo_EMBA\",\"IndusPeriphery\",\"Yana\",\"Karelia\",\n",
    "      \"Papuan\",\"Onge\",\"Clovis\", ##no USR\n",
    "      \"Tianyuan\",\"Ma912_G2\",\"JomonM\",\"Kolyma\",\"Qihe\",\"Bbdong\"] \n",
    "fh=\"UPA19_3\"\n",
    "ff.mklst(pD,fh,\"o21+KQB\",base)"
   ]
  },
  {
   "cell_type": "code",
   "execution_count": 1,
   "metadata": {},
   "outputs": [
    {
     "data": {
      "text/plain": [
       "'Made /mnt/solexa/mel_yang/early_CN/firstdraft/qpadm_Laz2017/UPA19_3.o22 file'"
      ]
     },
     "execution_count": 1,
     "metadata": {},
     "output_type": "execute_result"
    }
   ],
   "source": [
    "import fstats_funcs as ff\n",
    "\n",
    "pD=\"/mnt/solexa/mel_yang/early_CN/firstdraft/qpadm_Laz2017/\"\n",
    "\n",
    "base=[\"Mota\",\"UstIshim\",\"Kostenki14\",\"Iran_N\",\n",
    "      \"Okunevo_EMBA\",\"IndusPeriphery\",\"Yana\",\"Karelia\",\n",
    "      \"Papuan\",\"Onge\",\"Clovis\", ##no USR\n",
    "      \"Tianyuan\",\"Ma912_G2\",\"JomonM\",\"Kolyma\"] \n",
    "fh=\"UPA19_3\"\n",
    "ff.mklst(pD,fh,\"o22\",base)"
   ]
  },
  {
   "cell_type": "code",
   "execution_count": 46,
   "metadata": {},
   "outputs": [
    {
     "data": {
      "text/plain": [
       "'Made /mnt/solexa/mel_yang/early_CN/firstdraft/qpadm_Laz2017/UPA19_3.o21+KLB file'"
      ]
     },
     "execution_count": 46,
     "metadata": {},
     "output_type": "execute_result"
    }
   ],
   "source": [
    "import fstats_funcs as ff\n",
    "\n",
    "pD=\"/mnt/solexa/mel_yang/early_CN/firstdraft/qpadm_Laz2017/\"\n",
    "\n",
    "base=[\"Mota\",\"UstIshim\",\"Kostenki14\",\"Iran_N\",\n",
    "      \"Okunevo_EMBA\",\"IndusPeriphery\",\"Yana\",\"Karelia\",\n",
    "      \"Papuan\",\"Onge\",\"Clovis\", ##no USR\n",
    "      \"Tianyuan\",\"Ma912_G2\",\"JomonM\",\"Kolyma\",\"LiangDao\",\"Bbdong\"] \n",
    "fh=\"UPA19_3\"\n",
    "ff.mklst(pD,fh,\"o21+KLB\",base)"
   ]
  },
  {
   "cell_type": "code",
   "execution_count": 22,
   "metadata": {},
   "outputs": [
    {
     "data": {
      "text/plain": [
       "'Made wave PAR file /mnt/solexa/mel_yang/early_CN/firstdraft/qpadm_Laz2017/UPA19_3.wave.o215EASL.par'"
      ]
     },
     "execution_count": 22,
     "metadata": {},
     "output_type": "execute_result"
    }
   ],
   "source": [
    "import fstats_funcs as ff\n",
    "\n",
    "pD=\"/mnt/solexa/mel_yang/data/2.2M/\" \n",
    "outpd=\"/mnt/solexa/mel_yang/early_CN/firstdraft/qpadm_Laz2017/\"\n",
    "\n",
    "fh=\"UPA19_3\"\n",
    "ff.mklst(outpd,fh,\"wave.o215EASL.leftpop\",[\"Kolyma\",\"LiangDao\",\"Bbdong\",\"Chokhopani\",\"ZongriM297\"])\n",
    "ff.parfile(pD,fh,\"wave\",\"o215EASL\",outpd=outpd,outgroup=fh+\".o21\",indfh='UPA19_3.qpadmmerge1')"
   ]
  },
  {
   "cell_type": "code",
   "execution_count": 2,
   "metadata": {},
   "outputs": [
    {
     "data": {
      "text/plain": [
       "'Made wave PAR file /mnt/solexa/mel_yang/early_CN/firstdraft/qpadm_Laz2017/UPA19_3.wave.o224EASL.par'"
      ]
     },
     "execution_count": 2,
     "metadata": {},
     "output_type": "execute_result"
    }
   ],
   "source": [
    "import fstats_funcs as ff\n",
    "\n",
    "pD=\"/mnt/solexa/mel_yang/data/2.2M/\" \n",
    "outpd=\"/mnt/solexa/mel_yang/early_CN/firstdraft/qpadm_Laz2017/\"\n",
    "\n",
    "fh=\"UPA19_3\"\n",
    "ff.mklst(outpd,fh,\"wave.o224EASL.leftpop\",[\"LiangDao\",\"Bbdong\",\"Chokhopani\",\"ZongriM297\"])\n",
    "ff.parfile(pD,fh,\"wave\",\"o224EASL\",outpd=outpd,outgroup=fh+\".o22\",indfh='UPA19_3.qpadmmerge1')"
   ]
  },
  {
   "cell_type": "code",
   "execution_count": 4,
   "metadata": {},
   "outputs": [
    {
     "data": {
      "text/plain": [
       "'Made wave PAR file /mnt/solexa/mel_yang/early_CN/firstdraft/qpadm_Laz2017/UPA19_3.wave.o223EASLZ.par'"
      ]
     },
     "execution_count": 4,
     "metadata": {},
     "output_type": "execute_result"
    }
   ],
   "source": [
    "import fstats_funcs as ff\n",
    "\n",
    "pD=\"/mnt/solexa/mel_yang/data/2.2M/\" \n",
    "outpd=\"/mnt/solexa/mel_yang/early_CN/firstdraft/qpadm_Laz2017/\"\n",
    "\n",
    "fh=\"UPA19_3\"\n",
    "ff.mklst(outpd,fh,\"wave.o223EASLZ.leftpop\",[\"LiangDao\",\"Bbdong\",\"ZongriM297\"])\n",
    "ff.parfile(pD,fh,\"wave\",\"o223EASLZ\",outpd=outpd,outgroup=fh+\".o22\",indfh='UPA19_3.qpadmmerge1')"
   ]
  },
  {
   "cell_type": "code",
   "execution_count": 2,
   "metadata": {},
   "outputs": [
    {
     "data": {
      "text/plain": [
       "'Made wave PAR file /mnt/solexa/mel_yang/early_CN/firstdraft/qpadm_Laz2017/UPA19_3.wave.o223EASLH.par'"
      ]
     },
     "execution_count": 2,
     "metadata": {},
     "output_type": "execute_result"
    }
   ],
   "source": [
    "import fstats_funcs as ff\n",
    "\n",
    "pD=\"/mnt/solexa/mel_yang/data/2.2M/\" \n",
    "outpd=\"/mnt/solexa/mel_yang/early_CN/firstdraft/qpadm_Laz2017/\"\n",
    "\n",
    "fh=\"UPA19_3\"\n",
    "ff.mklst(outpd,fh,\"wave.o223EASLH.leftpop\",[\"LiangDao\",\"Bbdong\",\"HDYM1\"])\n",
    "ff.parfile(pD,fh,\"wave\",\"o223EASLH\",outpd=outpd,outgroup=fh+\".o22\",indfh='UPA19_3.qpadmmerge1')"
   ]
  },
  {
   "cell_type": "code",
   "execution_count": 2,
   "metadata": {},
   "outputs": [
    {
     "data": {
      "text/plain": [
       "'Made wave PAR file /mnt/solexa/mel_yang/early_CN/firstdraft/qpadm_Laz2017/UPA19_3.wave.o223EASLS.par'"
      ]
     },
     "execution_count": 2,
     "metadata": {},
     "output_type": "execute_result"
    }
   ],
   "source": [
    "import fstats_funcs as ff\n",
    "\n",
    "pD=\"/mnt/solexa/mel_yang/data/2.2M/\" \n",
    "outpd=\"/mnt/solexa/mel_yang/early_CN/firstdraft/qpadm_Laz2017/\"\n",
    "\n",
    "fh=\"UPA19_3\"\n",
    "ff.mklst(outpd,fh,\"wave.o223EASLS.leftpop\",[\"LiangDao\",\"Bbdong\",\"Shamanka_EN\"])\n",
    "ff.parfile(pD,fh,\"wave\",\"o223EASLS\",outpd=outpd,outgroup=fh+\".o22\",indfh='UPA19_3.qpadmmerge1')"
   ]
  },
  {
   "cell_type": "code",
   "execution_count": 3,
   "metadata": {},
   "outputs": [
    {
     "data": {
      "text/plain": [
       "'Made /mnt/solexa/mel_yang/early_CN/firstdraft/qpadm_Laz2017/UPA19_3.o22+LBZ file'"
      ]
     },
     "execution_count": 3,
     "metadata": {},
     "output_type": "execute_result"
    }
   ],
   "source": [
    "import fstats_funcs as ff\n",
    "\n",
    "pD=\"/mnt/solexa/mel_yang/early_CN/firstdraft/qpadm_Laz2017/\"\n",
    "\n",
    "base=[\"Mota\",\"UstIshim\",\"Kostenki14\",\"Iran_N\",\n",
    "      \"Okunevo_EMBA\",\"IndusPeriphery\",\"Yana\",\"Karelia\",\n",
    "      \"Papuan\",\"Onge\",\"Clovis\", ##no USR\n",
    "      \"Tianyuan\",\"Ma912_G2\",\"JomonM\",\"Kolyma\",\"LiangDao\",\"Bbdong\",\"ZongriM297\"] \n",
    "fh=\"UPA19_3\"\n",
    "ff.mklst(pD,fh,\"o22+LBZ\",base)"
   ]
  },
  {
   "cell_type": "code",
   "execution_count": 4,
   "metadata": {},
   "outputs": [
    {
     "data": {
      "text/plain": [
       "'Made /mnt/solexa/mel_yang/early_CN/firstdraft/qpadm_Laz2017/UPA19_3.o22+LBH file'"
      ]
     },
     "execution_count": 4,
     "metadata": {},
     "output_type": "execute_result"
    }
   ],
   "source": [
    "import fstats_funcs as ff\n",
    "\n",
    "pD=\"/mnt/solexa/mel_yang/early_CN/firstdraft/qpadm_Laz2017/\"\n",
    "\n",
    "base=[\"Mota\",\"UstIshim\",\"Kostenki14\",\"Iran_N\",\n",
    "      \"Okunevo_EMBA\",\"IndusPeriphery\",\"Yana\",\"Karelia\",\n",
    "      \"Papuan\",\"Onge\",\"Clovis\", ##no USR\n",
    "      \"Tianyuan\",\"Ma912_G2\",\"JomonM\",\"Kolyma\",\"LiangDao\",\"Bbdong\",\"HDYM1\"] \n",
    "fh=\"UPA19_3\"\n",
    "ff.mklst(pD,fh,\"o22+LBH\",base)"
   ]
  },
  {
   "cell_type": "code",
   "execution_count": 6,
   "metadata": {},
   "outputs": [
    {
     "data": {
      "text/plain": [
       "'Made /mnt/solexa/mel_yang/early_CN/firstdraft/qpadm_Laz2017/UPA19_3.o22+LBHCZ file'"
      ]
     },
     "execution_count": 6,
     "metadata": {},
     "output_type": "execute_result"
    }
   ],
   "source": [
    "import fstats_funcs as ff\n",
    "\n",
    "pD=\"/mnt/solexa/mel_yang/early_CN/firstdraft/qpadm_Laz2017/\"\n",
    "\n",
    "base=[\"Mota\",\"UstIshim\",\"Kostenki14\",\"Iran_N\",\n",
    "      \"Okunevo_EMBA\",\"IndusPeriphery\",\"Yana\",\"Karelia\",\n",
    "      \"Papuan\",\"Onge\",\"Clovis\", ##no USR\n",
    "      \"Tianyuan\",\"Ma912_G2\",\"JomonM\",\"Kolyma\",\"LiangDao\",\"Bbdong\",\"HDYM1\",\n",
    "     \"Chokhopani\",\"ZongriM297\"] \n",
    "fh=\"UPA19_3\"\n",
    "ff.mklst(pD,fh,\"o22+LBHCZ\",base)"
   ]
  },
  {
   "cell_type": "code",
   "execution_count": null,
   "metadata": {
    "collapsed": true
   },
   "outputs": [],
   "source": []
  },
  {
   "cell_type": "code",
   "execution_count": 3,
   "metadata": {},
   "outputs": [
    {
     "data": {
      "text/plain": [
       "'Made wave PAR file /mnt/solexa/mel_yang/early_CN/firstdraft/qpadm_Laz2017/UPA19_3.wave.o214EASLZ.par'"
      ]
     },
     "execution_count": 3,
     "metadata": {},
     "output_type": "execute_result"
    }
   ],
   "source": [
    "import fstats_funcs as ff\n",
    "\n",
    "pD=\"/mnt/solexa/mel_yang/data/2.2M/\" \n",
    "outpd=\"/mnt/solexa/mel_yang/early_CN/firstdraft/qpadm_Laz2017/\"\n",
    "\n",
    "fh=\"UPA19_3\"\n",
    "ff.mklst(outpd,fh,\"wave.o214EASLZ.leftpop\",[\"Kolyma\",\"LiangDao\",\"Bbdong\",\"ZongriM297\"])\n",
    "ff.parfile(pD,fh,\"wave\",\"o214EASLZ\",outpd=outpd,outgroup=fh+\".o21\",indfh='UPA19_3.qpadmmerge1')"
   ]
  },
  {
   "cell_type": "markdown",
   "metadata": {},
   "source": [
    "Using o20, we find that Kolyma, Qihe, and Bbdong require three streams of ancestry. We treat them as potential source populations in o20+KQB"
   ]
  },
  {
   "cell_type": "markdown",
   "metadata": {},
   "source": [
    "## Code run\n",
    "\n",
    "Run one source for all ANCASN (B1) and PDASN (PDEASB1).\n",
    "```\n",
    "for i in Samdzong Mebrak ZongriM297 Hejiatai HDYM1 Chokhopani Shamanka_EN LiangDao Man_Bac Suogang Boshan XJS_F Xiaogao LG2 Vt833_G2 Vt880_G2 Nui_Nap Ban_Chiang Oakaie1 MG6 Phl534_G6; do python generalSS.py 20 B1 o21+KLB ${i}; done\n",
    "\n",
    "for i in Han Ami Dai Atayal Lahu Daur Hezhen Tibetan_ShannanX Tibetan_ChamdoX Miao She Korean Japanese Tujia Naxi Yi Kinh Sherpa_ShigatseX Tibetan_ShigatseX Tibetan_LhasaX Tibetan_NagquX Ulchi Oroqen Xibo Uygur Tibetan Sherpa Han_HenanX Han_GansuX Han_XinjiangX Han_HenanX Han_ShandongX Han_JiangsuX Han_AnhuiX Han_SichuanX Han_HubeiX Han_GuangdongX Han_ChongqingX; do python generalSS.py 20 PDEASB1 o21+KLB ${i}; done\n",
    "\n",
    "for i in Samdzong Mebrak Chokhopani Hejiatai PukagongmaM5 RedilongM3 Butaxiongqu Shamanka_EN Qihe Man_Bac Suogang Boshan XJS_F Xiaogao LG2 Vt833_G2 Vt880_G2 Nui_Nap Ban_Chiang Oakaie1 MG6 Phl534_G6; do python generalSS.py 20 B1 o22+LBHCZ ${i}; done\n",
    "\n",
    "for i in Han Ami Dai Atayal Lahu Daur Hezhen Tibetan_ShannanX Tibetan_ChamdoX Miao She Korean Japanese Tujia Naxi Yi Kinh Sherpa_ShigatseX Tibetan_ShigatseX Tibetan_LhasaX Tibetan_NagquX Ulchi Oroqen Xibo Uygur Tibetan Sherpa Han_HenanX Han_GansuX Han_XinjiangX Han_HenanX Han_ShandongX Han_JiangsuX Han_AnhuiX Han_SichuanX Han_HubeiX Han_GuangdongX Han_ChongqingX; do python generalSS.py 20 PDEASB1 o22+LBHCZ ${i}; done\n",
    "\n",
    "for i in Samdzong Mebrak Chokhopani Hejiatai PukagongmaM5 ZongriM297 Chokhopani Shamanka_EN Qihe Man_Bac Suogang Boshan XJS_F Xiaogao LG2 Vt833_G2 Vt880_G2 Nui_Nap Ban_Chiang Oakaie1 MG6 Phl534_G6; do python generalSS.py 20 B1 o22+LBH ${i}; done\n",
    "\n",
    "for i in Han Ami Dai Atayal Lahu Daur Hezhen Tibetan_ShannanX Tibetan_ChamdoX Miao She Korean Japanese Tujia Naxi Yi Kinh Sherpa_ShigatseX Tibetan_ShigatseX Tibetan_LhasaX Tibetan_NagquX Ulchi Oroqen Xibo Uygur Tibetan Sherpa Han_HenanX Han_GansuX Han_XinjiangX Han_HenanX Han_ShandongX Han_JiangsuX Han_AnhuiX Han_SichuanX Han_HubeiX Han_GuangdongX Han_ChongqingX; do python generalSS.py 20 PDEASB1 o22+LBH ${i}; done\n",
    "\n",
    "```\n",
    "\n",
    "Mebrak, ZongriM297, Hejiatai, HDYM1, Chokhopani, XJS_F, Xiaogao can all be treated as one source with Bbdong.\n",
    "LiangDao, Suogang (mayeb MG6 and Phl534_G6) are treated as one source with Qihe. \n",
    "LG2 treated as source with Ma912_G2, Vt833_G2 as Ma912_G2 or Qihe, and Vt880_G2 and Ban_Chiang as those two or Bbdong. The highest p is always for Ma912_G2, followed by Qihe. \n",
    "Oakaie1 is always Ma912_G2 or Qihe. \n",
    "\n",
    "python generalDS.py 20 B1 o18+KQB Boshan 0 &\n",
    "\n"
   ]
  },
  {
   "cell_type": "code",
   "execution_count": 8,
   "metadata": {},
   "outputs": [
    {
     "name": "stdout",
     "output_type": "stream",
     "text": [
      "UPA19_3.adm.PDEASB1_SS_Ulchi_Iran_N_o21+KQB.log: 8.91694953e-309\n",
      "UPA19_3.adm.PDEASB1_SS_Oroqen_IndusPeriphery_o21+KQB.log: 3.2867275e-311\n",
      "UPA19_3.adm.PDEASB1_SS_Xibo_Iran_N_o21+KQB.log: 2.12448228e-322\n",
      "UPA19_3.adm.PDEASB1_SS_Tibetan_NagquX_Iran_N_o21+KQB.log: 1.47159133e-313\n",
      "UPA19_3.adm.PDEASB1_SS_Tibetan_Iran_N_o21+KQB.log: 2.20384898e-318\n",
      "UPA19_3.adm.PDEASB1_SS_Tibetan_NagquX_Iran_N_o21+KQB.log: 1.47159133e-313\n",
      "UPA19_3.adm.PDEASB1_SS_Tibetan_ShannanX_Okunevo_EMBA_o21+KQB.log: 9.88131292e-324\n",
      "UPA19_3.adm.PDEASB1_SS_Han_GansuX_Bbdong_o21+KQB.log: 0.152218892\n",
      "UPA19_3.adm.PDEASB1_SS_Han_XinjiangX_Bbdong_o21+KQB.log: 0.176370159\n",
      "UPA19_3.adm.PDEASB1_SS_Han_ShandongX_Bbdong_o21+KQB.log: 0.193622151\n",
      "UPA19_3.adm.PDEASB1_SS_Han_AnhuiX_Bbdong_o21+KQB.log: 0.155009621\n",
      "UPA19_3.adm.PDEASB1_SS_Han_HubeiX_Bbdong_o21+KQB.log: 0.0589356283\n",
      "UPA19_3.adm.PDEASB1_SS_Han_HubeiX_IndusPeriphery_o21+KQB.log: 1.7335124e-310\n",
      "UPA19_3.adm.PDEASB1_SS_Han_ChongqingX_Okunevo_EMBA_o21+KQB.log: 1.14206363e-312\n",
      "UPA19_3.adm.PDEASB1_SS_Kinh_Okunevo_EMBA_o21+KQB.log: 1.95384985e-311\n"
     ]
    }
   ],
   "source": [
    "%%bash\n",
    "pd=\"/mnt/solexa/mel_yang/early_CN/firstdraft/qpadm_Laz2017/\"\n",
    "name=\"A1\" #\n",
    "name=\"PDEASB1\"\n",
    "target=\"Shamanka_EN\"\n",
    "suffix=\"_SS\"\n",
    "out=\"o21+KQB\"\n",
    "ancset1=\"Hejiatai Shamanka_EN LiangDao Man_Bac Suogang Boshan XJS_F Xiaogao Ma912_G2 Vt833_G2 Vt880_G2\"\n",
    "ancset2=\"Hejiatai Shamanka_EN Qihe Man_Bac Suogang Boshan XJS_F Xiaogao Ma912_G2 Vt833_G2 Vt880_G2\"\n",
    "ancset9=\"Samdzong Mebrak ZongriM297 Hejiatai Shamanka_EN Qihe Man_Bac Suogang Boshan XJS_F Xiaogao LG2 Vt833_G2 Vt880_G2\"\n",
    "ancset10=\"Samdzong Mebrak ZongriM297 Hejiatai Shamanka_EN Qihe Man_Bac Suogang Boshan XJS_F Xiaogao Ma912_G2 Vt833_G2 Vt880_G2\"\n",
    "pdeas=\"Ulchi Oroqen Xibo Uygur Sherpa_ShigatseX Tibetan_ShigatseX Tibetan_LhasaX Tibetan_NagquX Tibetan Sherpa Han_HenanX Han_GansuX Han_XinjiangX Han_HenanX Han_ShandongX Han_JiangsuX Han_AnhuiX Han_SichuanX Han_HubeiX Han_GuangdongX Han_ChongqingX Kinh\"\n",
    "#for target in MG6 Phl534_G6 Samdzong Mebrak ZongriM297 Hejiatai HDYM1 Chokhopani JomonM Shamanka_EN LiangDao Man_Bac Suogang Boshan XJS_F Xiaogao LG2 Vt833_G2 Vt880_G2 Nui_Nap Ban_Chiang Oakaie1; do \n",
    "#for target in Han Ami Dai Atayal Lahu Daur Hezhen Tibetan_ShannanX Tibetan_ChamdoX Miao She Korean Japanese Tujia Naxi Yi; do\n",
    "for target in Ulchi Oroqen Xibo Uygur Sherpa_ShigatseX Tibetan_ShigatseX Tibetan_LhasaX Tibetan_NagquX Tibetan Sherpa Han_HenanX Han_GansuX Han_XinjiangX Han_HenanX Han_ShandongX Han_JiangsuX Han_AnhuiX Han_SichuanX Han_HubeiX Han_GuangdongX Han_ChongqingX Kinh; do\n",
    "    grep \"f4rank: 0\" ${pd}${name}/UPA19_3.adm.${name}${suffix}_${target}_*_${out}.log | awk '{ if ($8>0.05) print $1,$8}' | cut -d'/' -f9 | cut -d':' -f1,3\n",
    "    done"
   ]
  },
  {
   "cell_type": "code",
   "execution_count": 11,
   "metadata": {},
   "outputs": [
    {
     "name": "stdout",
     "output_type": "stream",
     "text": [
      "UPA19_3.adm.B1_SS_Phl534_G6_Bbdong_o21+KLB.log: 0.237615963\n",
      "UPA19_3.adm.B1_SS_Phl534_G6_JomonM_o21+KLB.log: 0.493831034\n",
      "UPA19_3.adm.B1_SS_Phl534_G6_LiangDao_o21+KLB.log: 0.946086811\n",
      "UPA19_3.adm.B1_SS_Phl534_G6_Ma912_G2_o21+KLB.log: 0.388794404\n",
      "UPA19_3.adm.B1_SS_Phl534_G6_Tianyuan_o21+KLB.log: 0.0517255701\n",
      "UPA19_3.adm.B1_SS_Chokhopani_Iran_N_o21+KLB.log: 2.96439388e-322\n",
      "UPA19_3.adm.B1_SS_Man_Bac_Ma912_G2_o21+KLB.log: 0.134636235\n",
      "UPA19_3.adm.B1_SS_XJS_F_Bbdong_o21+KLB.log: 0.17852834\n",
      "UPA19_3.adm.B1_SS_Xiaogao_Bbdong_o21+KLB.log: 0.402263772\n",
      "UPA19_3.adm.B1_SS_Xiaogao_Kostenki14_o21+KLB.log: 1.25492674e-321\n",
      "UPA19_3.adm.B1_SS_LG2_Ma912_G2_o21+KLB.log: 0.561850914\n",
      "UPA19_3.adm.B1_SS_Vt833_G2_Ma912_G2_o21+KLB.log: 0.060646245\n",
      "UPA19_3.adm.B1_SS_Vt880_G2_JomonM_o21+KLB.log: 0.185304291\n",
      "UPA19_3.adm.B1_SS_Vt880_G2_LiangDao_o21+KLB.log: 0.544091208\n",
      "UPA19_3.adm.B1_SS_Vt880_G2_Ma912_G2_o21+KLB.log: 0.59925646\n",
      "UPA19_3.adm.B1_SS_Ban_Chiang_LiangDao_o21+KLB.log: 0.0614346022\n",
      "UPA19_3.adm.B1_SS_Ban_Chiang_Ma912_G2_o21+KLB.log: 0.289686236\n",
      "UPA19_3.adm.B1_SS_Oakaie1_LiangDao_o21+KLB.log: 0.204464832\n",
      "UPA19_3.adm.B1_SS_Oakaie1_Ma912_G2_o21+KLB.log: 0.684022776\n"
     ]
    },
    {
     "name": "stderr",
     "output_type": "stream",
     "text": [
      "grep: /mnt/solexa/mel_yang/early_CN/firstdraft/qpadm_Laz2017/B1/UPA19_3.adm.B1_SS_JomonM_*_o21+KLB.log: No such file or directory\n"
     ]
    }
   ],
   "source": [
    "%%bash\n",
    "pd=\"/mnt/solexa/mel_yang/early_CN/firstdraft/qpadm_Laz2017/\"\n",
    "name=\"A1\" #\n",
    "name=\"B1\"\n",
    "target=\"Shamanka_EN\"\n",
    "suffix=\"_SS\"\n",
    "out=\"o21+KLB\"\n",
    "ancset1=\"Hejiatai Shamanka_EN LiangDao Man_Bac Suogang Boshan XJS_F Xiaogao Ma912_G2 Vt833_G2 Vt880_G2\"\n",
    "ancset2=\"Hejiatai Shamanka_EN Qihe Man_Bac Suogang Boshan XJS_F Xiaogao Ma912_G2 Vt833_G2 Vt880_G2\"\n",
    "ancset9=\"Samdzong Mebrak ZongriM297 Hejiatai Shamanka_EN Qihe Man_Bac Suogang Boshan XJS_F Xiaogao LG2 Vt833_G2 Vt880_G2\"\n",
    "ancset10=\"Samdzong Mebrak ZongriM297 Hejiatai Shamanka_EN Qihe Man_Bac Suogang Boshan XJS_F Xiaogao Ma912_G2 Vt833_G2 Vt880_G2\"\n",
    "pdeas=\"Ulchi Oroqen Xibo Uygur Sherpa_ShigatseX Tibetan_ShigatseX Tibetan_LhasaX Tibetan_NagquX Tibetan Sherpa Han_HenanX Han_GansuX Han_XinjiangX Han_HenanX Han_ShandongX Han_JiangsuX Han_AnhuiX Han_SichuanX Han_HubeiX Han_GuangdongX Han_ChongqingX Kinh\"\n",
    "for target in MG6 Phl534_G6 Samdzong Mebrak ZongriM297 Hejiatai HDYM1 Chokhopani JomonM Shamanka_EN Man_Bac Suogang Boshan XJS_F Xiaogao LG2 Vt833_G2 Vt880_G2 Nui_Nap Ban_Chiang Oakaie1; do \n",
    "#for target in Han Ami Dai Atayal Lahu Daur Hezhen Tibetan_ShannanX Tibetan_ChamdoX Miao She Korean Japanese Tujia Naxi Yi; do\n",
    "#for target in Ulchi Oroqen Xibo Uygur Sherpa_ShigatseX Tibetan_ShigatseX Tibetan_LhasaX Tibetan_NagquX Tibetan Sherpa Han_HenanX Han_GansuX Han_XinjiangX Han_HenanX Han_ShandongX Han_JiangsuX Han_AnhuiX Han_SichuanX Han_HubeiX Han_GuangdongX Han_ChongqingX Kinh; do\n",
    "    grep \"f4rank: 0\" ${pd}${name}/UPA19_3.adm.${name}${suffix}_${target}_*_${out}.log | awk '{ if ($8>0.05) print $1,$8}' | cut -d'/' -f9 | cut -d':' -f1,3\n",
    "    done"
   ]
  },
  {
   "cell_type": "code",
   "execution_count": 8,
   "metadata": {},
   "outputs": [
    {
     "name": "stdout",
     "output_type": "stream",
     "text": [
      "UPA19_3.adm.PDEASB1_DS_Miao_Bbdong_Ma912_G2_o21+KQB.log: 0.219879589\n",
      "UPA19_3.adm.PDEASB1_DS_Miao_JomonM_Ma912_G2_o21+KQB.log: 0.226437769\n",
      "UPA19_3.adm.PDEASB1_DS_Miao_JomonM_Mota_o21+KQB.log: 0.0595403698\n",
      "UPA19_3.adm.PDEASB1_DS_Miao_JomonM_Onge_o21+KQB.log: 0.162082953\n",
      "UPA19_3.adm.PDEASB1_DS_Miao_JomonM_Papuan_o21+KQB.log: 0.243394444\n",
      "UPA19_3.adm.PDEASB1_DS_Miao_JomonM_Tianyuan_o21+KQB.log: 0.137177498\n",
      "UPA19_3.adm.PDEASB1_DS_Miao_JomonM_UstIshim_o21+KQB.log: 0.127632331\n",
      "UPA19_3.adm.PDEASB1_DS_Miao_Kolyma_Clovis_o21+KQB.log: 0.802899514\n",
      "UPA19_3.adm.PDEASB1_DS_Miao_Onge_Papuan_o21+KQB.log: 0.387102585\n",
      "UPA19_3.adm.PDEASB1_DS_Miao_Qihe_Ma912_G2_o21+KQB.log: 0.0503638814\n",
      " ~~~~~~~~~~~~~~~~~~~~~~~ \n",
      "UPA19_3.adm.PDEASB1_DS_Miao_Bbdong_Ma912_G2_o21+KQB.log\n",
      "\n",
      "    fixed pat  wt  dof     chisq       tail prob\n",
      "           00  0    13    16.567         0.21988     0.688     0.312 \n",
      "           01  1    14    20.359        0.119237     1.000    -0.000 \n",
      "           10  1    14    38.111     0.000499669     0.000     1.000 \n",
      "best pat:           00          0.21988              -  -\n",
      "best pat:           01         0.119237  chi(nested):     3.792 p-value for nested model:       0.0515012\n",
      "\n",
      " ~~~~~~~~~~~~~~~~~~~~~~~ \n",
      "UPA19_3.adm.PDEASB1_DS_Miao_JomonM_Ma912_G2_o21+KQB.log\n",
      "\n",
      "    fixed pat  wt  dof     chisq       tail prob\n",
      "           00  0    13    16.435        0.226438    -1.916     2.916  infeasible\n",
      "           01  1    14   102.415     1.63102e-15     1.000    -0.000 \n",
      "           10  1    14    59.241      1.5931e-07     0.000     1.000 \n",
      "best pat:           00                0              -  -\n",
      "best pat:           10       1.5931e-07  chi(nested):    42.806 p-value for nested model:     6.04385e-11\n",
      "\n",
      " ~~~~~~~~~~~~~~~~~~~~~~~ \n",
      "UPA19_3.adm.PDEASB1_DS_Miao_JomonM_Mota_o21+KQB.log\n",
      "\n",
      "    fixed pat  wt  dof     chisq       tail prob\n",
      "           00  0    13    21.739       0.0595404     1.363    -0.363  infeasible\n",
      "           01  1    14   112.953     1.49387e-17     1.000    -0.000 \n",
      "           10  1    14   964.349               0     0.000     1.000 \n",
      "best pat:           00                0              -  -\n",
      "best pat:           01      1.49387e-17  chi(nested):    91.214 p-value for nested model:     1.28968e-21\n",
      "\n",
      " ~~~~~~~~~~~~~~~~~~~~~~~ \n",
      "UPA19_3.adm.PDEASB1_DS_Miao_JomonM_Onge_o21+KQB.log\n",
      "\n",
      "    fixed pat  wt  dof     chisq       tail prob\n",
      "           00  0    13    17.881        0.162083     1.702    -0.702  infeasible\n",
      "           01  1    14   111.102     3.41918e-17     1.000    -0.000 \n",
      "           10  1    14   716.680               0     0.000     1.000 \n",
      "best pat:           00                0              -  -\n",
      "best pat:           01      3.41918e-17  chi(nested):    93.221 p-value for nested model:     4.67703e-22\n",
      "\n",
      " ~~~~~~~~~~~~~~~~~~~~~~~ \n",
      "UPA19_3.adm.PDEASB1_DS_Miao_JomonM_Papuan_o21+KQB.log\n",
      "\n",
      "    fixed pat  wt  dof     chisq       tail prob\n",
      "           00  0    13    16.107        0.243394     1.637    -0.637  infeasible\n",
      "           01  1    14   117.049     2.37644e-18     1.000    -0.000 \n",
      "           10  1    14   804.702               0     0.000     1.000 \n",
      "best pat:           00                0              -  -\n",
      "best pat:           01      2.37644e-18  chi(nested):   100.942 p-value for nested model:     9.47295e-24\n",
      "\n",
      " ~~~~~~~~~~~~~~~~~~~~~~~ \n",
      "UPA19_3.adm.PDEASB1_DS_Miao_JomonM_Tianyuan_o21+KQB.log\n",
      "\n",
      "    fixed pat  wt  dof     chisq       tail prob\n",
      "           00  0    13    18.566        0.137177     1.872    -0.872  infeasible\n",
      "           01  1    14   119.509     7.84992e-19     1.000    -0.000 \n",
      "           10  1    14   422.751               0     0.000     1.000 \n",
      "best pat:           00                0              -  -\n",
      "best pat:           01      7.84992e-19  chi(nested):   100.943 p-value for nested model:     9.46658e-24\n",
      "\n",
      " ~~~~~~~~~~~~~~~~~~~~~~~ \n",
      "UPA19_3.adm.PDEASB1_DS_Miao_JomonM_UstIshim_o21+KQB.log\n",
      "\n",
      "    fixed pat  wt  dof     chisq       tail prob\n",
      "           00  0    13    18.856        0.127632     1.433    -0.433  infeasible\n",
      "           01  1    14   111.891     2.40247e-17     1.000    -0.000 \n",
      "           10  1    14   755.276               0     0.000     1.000 \n",
      "best pat:           00                0              -  -\n",
      "best pat:           01      2.40247e-17  chi(nested):    93.035 p-value for nested model:     5.13747e-22\n",
      "\n",
      " ~~~~~~~~~~~~~~~~~~~~~~~ \n",
      "UPA19_3.adm.PDEASB1_DS_Miao_Kolyma_Clovis_o21+KQB.log\n",
      "\n",
      "    fixed pat  wt  dof     chisq       tail prob\n",
      "           00  0    13     8.594          0.8029     6.146    -5.146  infeasible\n",
      "           01  1    14   335.520               0     1.000    -0.000 \n",
      "           10  1    14   447.488               0     0.000     1.000 \n",
      "best pat:           00                0              -  -\n",
      "best pat:           01      4.45961e-63  chi(nested):   326.926 p-value for nested model:     4.49003e-73\n",
      "\n",
      " ~~~~~~~~~~~~~~~~~~~~~~~ \n",
      "UPA19_3.adm.PDEASB1_DS_Miao_Onge_Papuan_o21+KQB.log\n",
      "\n",
      "    fixed pat  wt  dof     chisq       tail prob\n",
      "           00  0    13    13.814        0.387103     9.893    -8.893  infeasible\n",
      "           01  1    14   647.185               0     1.000    -0.000 \n",
      "           10  1    14   719.828               0     0.000     1.000 \n",
      "best pat:           00                0              -  -\n",
      "best pat:           01     4.74687e-129  chi(nested):   633.371 p-value for nested model:    9.25422e-140\n",
      "\n",
      " ~~~~~~~~~~~~~~~~~~~~~~~ \n",
      "UPA19_3.adm.PDEASB1_DS_Miao_Qihe_Ma912_G2_o21+KQB.log\n",
      "\n",
      "    fixed pat  wt  dof     chisq       tail prob\n",
      "           00  0    13    22.336       0.0503639   -88.323    89.323  infeasible\n",
      "           01  1    14    64.294     2.04434e-08     1.000    -0.000 \n",
      "           10  1    14    60.651     9.01603e-08     0.000     1.000 \n",
      "best pat:           00                0              -  -\n",
      "best pat:           10      9.01603e-08  chi(nested):    38.315 p-value for nested model:     6.02011e-10\n",
      "\n"
     ]
    }
   ],
   "source": [
    "%%bash\n",
    "pd=\"/mnt/solexa/mel_yang/early_CN/firstdraft/qpadm_Laz2017/\"\n",
    "name=\"PDEAS\" #\n",
    "name=\"B1\" #\n",
    "name=\"PDEASB1\"\n",
    "target=\"Miao\"\n",
    "suffix=\"_DS\"\n",
    "out=\"o21+KQB\"\n",
    "for target in ${target}; do \n",
    "    grep \"f4rank: 1\" ${pd}${name}/UPA19_3.adm.${name}${suffix}_${target}_*_${out}.log | awk '{ if ($8>0.05) print $1,$8}' | cut -d'/' -f9 | cut -d':' -f1,3\n",
    "    myfile=$(grep \"f4rank: 1\" ${pd}${name}/UPA19_3.adm.${name}${suffix}_${target}_*_${out}.log | awk '{ if ($8>0.05) print $1,$8}' | cut -d'/' -f9 | cut -d':' -f1)\n",
    "    for i in ${myfile}; do \n",
    "        echo \" ~~~~~~~~~~~~~~~~~~~~~~~ \"\n",
    "        echo ${i}\n",
    "        tail -n176 ${pd}${name}/${i} | head -n8\n",
    "        done\n",
    "    done"
   ]
  },
  {
   "cell_type": "code",
   "execution_count": 15,
   "metadata": {},
   "outputs": [
    {
     "name": "stdout",
     "output_type": "stream",
     "text": [
      " ~~~~~~~~~~~~~~~~~~~~~~~ \n",
      "f4rank\n"
     ]
    },
    {
     "name": "stderr",
     "output_type": "stream",
     "text": [
      "tail: cannot open `/mnt/solexa/mel_yang/early_CN/firstdraft/qpadm_Laz2017/B1/f4rank' for reading: No such file or directory\n"
     ]
    }
   ],
   "source": [
    "%%bash\n",
    "pd=\"/mnt/solexa/mel_yang/early_CN/firstdraft/qpadm_Laz2017/\"\n",
    "name=\"PDEAS\" #\n",
    "name=\"B1\" #\n",
    "target=\"Shamanka_EN_Bbdong_Kolyma\"\n",
    "suffix=\"_DS\"\n",
    "out=\"o18+KQB\"\n",
    "for target in ${target}; do \n",
    "    grep \"f4rank: 1\" ${pd}${name}/UPA19_3.adm.${name}${suffix}_${target}_*${out}.log | awk '{ if ($8>0.05) print $1,$8}' | cut -d'/' -f9 | cut -d':' -f1,3\n",
    "    myfile=$(grep \"f4rank: 1\" ${pd}${name}/UPA19_3.adm.${name}${suffix}_${target}_*${out}.log | awk '{ print $1,$8}' | cut -d'/' -f9 | cut -d':' -f1)\n",
    "    for i in ${myfile}; do \n",
    "        echo \" ~~~~~~~~~~~~~~~~~~~~~~~ \"\n",
    "        echo ${i}\n",
    "        tail -n176 ${pd}${name}/${i} | head -n8\n",
    "        done\n",
    "    done"
   ]
  },
  {
   "cell_type": "code",
   "execution_count": 45,
   "metadata": {},
   "outputs": [
    {
     "name": "stdout",
     "output_type": "stream",
     "text": [
      "UPA19_3.adm.B1_TS_Shamanka_EN_Bbdong_Clovis_Kolyma_o21+KQB.log: 0.887407448\n",
      "UPA19_3.adm.B1_TS_Shamanka_EN_Bbdong_IndusPeriphery_Kolyma_o21+KQB.log: 0.146239575\n",
      "UPA19_3.adm.B1_TS_Shamanka_EN_Bbdong_IndusPeriphery_Qihe_o21+KQB.log: 0.274767195\n",
      "UPA19_3.adm.B1_TS_Shamanka_EN_Bbdong_Karelia_Kolyma_o21+KQB.log: 0.16528109\n",
      "UPA19_3.adm.B1_TS_Shamanka_EN_Bbdong_Karelia_Qihe_o21+KQB.log: 0.293305839\n",
      "UPA19_3.adm.B1_TS_Shamanka_EN_Bbdong_Kolyma_Onge_o21+KQB.log: 0.449072905\n",
      "UPA19_3.adm.B1_TS_Shamanka_EN_Bbdong_Kolyma_Papuan_o21+KQB.log: 0.238700605\n",
      "UPA19_3.adm.B1_TS_Shamanka_EN_Bbdong_Kolyma_Qihe_o21+KQB.log: 0.232031581\n",
      "UPA19_3.adm.B1_TS_Shamanka_EN_Bbdong_Kolyma_Yana_o21+KQB.log: 0.135277722\n",
      "UPA19_3.adm.B1_TS_Shamanka_EN_Bbdong_Ma912_G2_Onge_o21+KQB.log: 0.06423248\n",
      "UPA19_3.adm.B1_TS_Shamanka_EN_Bbdong_Onge_Papuan_o21+KQB.log: 0.211179693\n",
      "UPA19_3.adm.B1_TS_Shamanka_EN_Bbdong_Qihe_Yana_o21+KQB.log: 0.155562774\n",
      "UPA19_3.adm.B1_TS_Shamanka_EN_Clovis_IndusPeriphery_Kolyma_o21+KQB.log: 0.674565411\n",
      "UPA19_3.adm.B1_TS_Shamanka_EN_Clovis_Karelia_Kolyma_o21+KQB.log: 0.663025726\n",
      "UPA19_3.adm.B1_TS_Shamanka_EN_Clovis_Kolyma_Onge_o21+KQB.log: 0.599010565\n",
      "UPA19_3.adm.B1_TS_Shamanka_EN_Clovis_Kolyma_Papuan_o21+KQB.log: 0.518036211\n",
      "UPA19_3.adm.B1_TS_Shamanka_EN_Clovis_Kolyma_Yana_o21+KQB.log: 0.505808917\n",
      "UPA19_3.adm.B1_TS_Shamanka_EN_Clovis_Onge_Papuan_o21+KQB.log: 0.298683965\n",
      "UPA19_3.adm.B1_TS_Shamanka_EN_IndusPeriphery_JomonM_Karelia_o21+KQB.log: 0.0696900775\n",
      "UPA19_3.adm.B1_TS_Shamanka_EN_IndusPeriphery_JomonM_Ma912_G2_o21+KQB.log: 0.606643316\n",
      "UPA19_3.adm.B1_TS_Shamanka_EN_IndusPeriphery_Karelia_Tianyuan_o21+KQB.log: 0.0674576287\n",
      "UPA19_3.adm.B1_TS_Shamanka_EN_IndusPeriphery_Ma912_G2_Qihe_o21+KQB.log: 0.367740126\n",
      "UPA19_3.adm.B1_TS_Shamanka_EN_IndusPeriphery_Onge_Papuan_o21+KQB.log: 0.279911299\n",
      "UPA19_3.adm.B1_TS_Shamanka_EN_JomonM_Karelia_Ma912_G2_o21+KQB.log: 0.547038492\n",
      "UPA19_3.adm.B1_TS_Shamanka_EN_JomonM_Kolyma_Ma912_G2_o21+KQB.log: 0.264121243\n",
      "UPA19_3.adm.B1_TS_Shamanka_EN_JomonM_Ma912_G2_Onge_o21+KQB.log: 0.895282784\n",
      "UPA19_3.adm.B1_TS_Shamanka_EN_JomonM_Ma912_G2_Papuan_o21+KQB.log: 0.871179117\n",
      "UPA19_3.adm.B1_TS_Shamanka_EN_JomonM_Ma912_G2_Yana_o21+KQB.log: 0.688168829\n",
      "UPA19_3.adm.B1_TS_Shamanka_EN_JomonM_Onge_Papuan_o21+KQB.log: 0.347661739\n",
      "UPA19_3.adm.B1_TS_Shamanka_EN_JomonM_Onge_Qihe_o21+KQB.log: 0.832745164\n",
      "UPA19_3.adm.B1_TS_Shamanka_EN_JomonM_Papuan_Qihe_o21+KQB.log: 0.366825679\n",
      "UPA19_3.adm.B1_TS_Shamanka_EN_Karelia_Onge_Papuan_o21+KQB.log: 0.191281646\n",
      "UPA19_3.adm.B1_TS_Shamanka_EN_Karelia_Papuan_Yana_o21+KQB.log: 0.0691088893\n",
      "UPA19_3.adm.B1_TS_Shamanka_EN_Karelia_Tianyuan_Yana_o21+KQB.log: 0.483836448\n",
      "UPA19_3.adm.B1_TS_Shamanka_EN_Kolyma_Onge_Papuan_o21+KQB.log: 0.222192822\n",
      "UPA19_3.adm.B1_TS_Shamanka_EN_Ma912_G2_Onge_Papuan_o21+KQB.log: 0.192244993\n",
      "UPA19_3.adm.B1_TS_Shamanka_EN_Ma912_G2_Onge_Qihe_o21+KQB.log: 0.261443067\n",
      "UPA19_3.adm.B1_TS_Shamanka_EN_Ma912_G2_Papuan_Qihe_o21+KQB.log: 0.206030968\n",
      "UPA19_3.adm.B1_TS_Shamanka_EN_Onge_Papuan_Qihe_o21+KQB.log: 0.285027327\n",
      "UPA19_3.adm.B1_TS_Shamanka_EN_Onge_Papuan_Tianyuan_o21+KQB.log: 0.889478587\n",
      "UPA19_3.adm.B1_TS_Shamanka_EN_Onge_Papuan_Yana_o21+KQB.log: 0.184871417\n",
      "UPA19_3.adm.B1_TS_Shamanka_EN_Onge_Tianyuan_Yana_o21+KQB.log: 0.0926541591\n",
      "UPA19_3.adm.B1_TS_Shamanka_EN_Papuan_Tianyuan_Yana_o21+KQB.log: 0.494780066\n",
      " ~~~~~~~~~~~~~~~~~~~~~~~ \n",
      "UPA19_3.adm.B1_TS_Shamanka_EN_Bbdong_Clovis_Kolyma_o21+KQB.log\n",
      "\n",
      "    fixed pat  wt  dof     chisq       tail prob\n",
      "          000  0     6     2.326        0.887407     0.411    -0.745     1.335  infeasible\n",
      "          001  1     7    17.105       0.0167293     0.682     0.318    -0.000 \n",
      "          010  1     7    10.030        0.186864     0.572    -0.000     0.428 \n",
      "          100  1     7     3.916        0.789385    -0.000    -2.223     3.223  infeasible\n",
      "          011  2     8    57.910      1.1959e-09     1.000    -0.000    -0.000 \n",
      "          101  2     8   148.218     4.61428e-28     0.000     1.000    -0.000 \n",
      "          110  2     8    74.094     7.48896e-13     0.000    -0.000     1.000 \n",
      "best pat:          000                0              -  -\n",
      "best pat:          010         0.186864  chi(nested):     7.704 p-value for nested model:       0.0055091\n",
      "best pat:          011       1.1959e-09  chi(nested):    47.880 p-value for nested model:     4.53128e-12\n",
      "\n",
      " ~~~~~~~~~~~~~~~~~~~~~~~ \n",
      "UPA19_3.adm.B1_TS_Shamanka_EN_Bbdong_IndusPeriphery_Kolyma_o21+KQB.log\n",
      "\n",
      "    fixed pat  wt  dof     chisq       tail prob\n",
      "          000  0     6     9.523         0.14624     0.578     0.027     0.395 \n",
      "          001  1     7    48.055     3.47362e-08     0.823     0.177    -0.000 \n",
      "          010  1     7     9.912        0.193631     0.576    -0.000     0.424 \n",
      "          100  1     7    73.964     2.32705e-13     0.000    -0.257     1.257  infeasible\n",
      "          011  2     8    68.209     1.11568e-11     1.000    -0.000    -0.000 \n",
      "          101  2     8   560.695               0     0.000     1.000     0.000 \n",
      "          110  2     8    88.030     1.16703e-15     0.000    -0.000     1.000 \n",
      "best pat:          000          0.14624              -  -\n",
      "best pat:          010         0.193631  chi(nested):     0.389 p-value for nested model:        0.532871\n",
      "best pat:          011      1.11568e-11  chi(nested):    58.298 p-value for nested model:     2.25313e-14\n",
      "\n",
      " ~~~~~~~~~~~~~~~~~~~~~~~ \n",
      "UPA19_3.adm.B1_TS_Shamanka_EN_Bbdong_IndusPeriphery_Qihe_o21+KQB.log\n",
      "\n",
      "    fixed pat  wt  dof     chisq       tail prob\n",
      "          000  0     6     7.528        0.274767     2.049     0.266    -1.315  infeasible\n",
      "          001  1     7    61.265     8.43297e-11     0.936     0.064    -0.000 \n",
      "          010  1     7    15.794       0.0270693     2.517    -0.000    -1.517  infeasible\n",
      "          100  1     7   145.800     3.09101e-28     0.000    -0.091     1.091  infeasible\n",
      "          011  2     8    63.505     9.52685e-11     1.000    -0.000    -0.000 \n",
      "          101  2     8   727.785               0     0.000     1.000     0.000 \n",
      "          110  2     8   148.928     3.28152e-28     0.000    -0.000     1.000 \n",
      "best pat:          000                0              -  -\n",
      "best pat:          001      8.43297e-11  chi(nested):    53.737 p-value for nested model:     2.29155e-13\n",
      "best pat:          011      9.52685e-11  chi(nested):     2.239 p-value for nested model:        0.134541\n",
      "\n",
      " ~~~~~~~~~~~~~~~~~~~~~~~ \n",
      "UPA19_3.adm.B1_TS_Shamanka_EN_Bbdong_Karelia_Kolyma_o21+KQB.log\n",
      "\n",
      "    fixed pat  wt  dof     chisq       tail prob\n",
      "          000  0     6     9.151        0.165281     0.516    -0.033     0.517  infeasible\n",
      "          001  1     7    28.965      0.00014685     0.884     0.116    -0.000 \n",
      "          010  1     7     9.861        0.196611     0.557    -0.000     0.443 \n",
      "          100  1     7    29.263     0.000129529     0.000    -0.225     1.225  infeasible\n",
      "          011  2     8    44.246     5.11128e-07     1.000    -0.000    -0.000 \n",
      "          101  2     8   686.794               0     0.000     1.000     0.000 \n",
      "          110  2     8    56.679     2.08024e-09     0.000    -0.000     1.000 \n",
      "best pat:          000                0              -  -\n",
      "best pat:          010         0.196611  chi(nested):     0.710 p-value for nested model:        0.399459\n",
      "best pat:          011      5.11128e-07  chi(nested):    34.386 p-value for nested model:     4.52036e-09\n",
      "\n",
      " ~~~~~~~~~~~~~~~~~~~~~~~ \n",
      "UPA19_3.adm.B1_TS_Shamanka_EN_Bbdong_Karelia_Qihe_o21+KQB.log\n",
      "\n",
      "    fixed pat  wt  dof     chisq       tail prob\n",
      "          000  0     6     7.308        0.293306     1.701     0.110    -0.811  infeasible\n",
      "          001  1     7    39.671     1.45515e-06     0.919     0.081    -0.000 \n",
      "          010  1     7    10.827        0.146334     1.998    -0.000    -0.998  infeasible\n",
      "          100  1     7   160.163               0     0.000     0.076     0.924 \n",
      "          011  2     8    45.372     3.12807e-07     1.000    -0.000    -0.000 \n",
      "          101  2     8   650.840               0     0.000     1.000    -0.000 \n",
      "          110  2     8   164.503               0     0.000    -0.000     1.000 \n",
      "best pat:          000                0              -  -\n",
      "best pat:          001      1.45515e-06  chi(nested):    32.363 p-value for nested model:     1.27902e-08\n",
      "best pat:          011      3.12807e-07  chi(nested):     5.701 p-value for nested model:       0.0169529\n",
      "\n",
      " ~~~~~~~~~~~~~~~~~~~~~~~ \n",
      "UPA19_3.adm.B1_TS_Shamanka_EN_Bbdong_Kolyma_Onge_o21+KQB.log\n",
      "\n",
      "    fixed pat  wt  dof     chisq       tail prob\n",
      "          000  0     6     5.773        0.449073     0.537     0.422     0.040 \n",
      "          001  1     7     7.109        0.417657     0.568     0.432    -0.000 \n",
      "          010  1     7    68.392     3.11987e-12     0.992     0.000     0.008 \n",
      "          100  1     7    80.377     1.15377e-14     0.000     0.887     0.113 \n",
      "          011  2     8    68.398     1.02354e-11     1.000     0.000    -0.000 \n",
      "          101  2     8    85.908     3.13965e-15     0.000     1.000    -0.000 \n",
      "          110  2     8   501.433               0     0.000     0.000     1.000 \n",
      "best pat:          000         0.449073              -  -\n",
      "best pat:          001         0.417657  chi(nested):     1.335 p-value for nested model:        0.247836\n",
      "best pat:          011      1.02354e-11  chi(nested):    61.289 p-value for nested model:     4.92776e-15\n",
      "\n",
      " ~~~~~~~~~~~~~~~~~~~~~~~ \n",
      "UPA19_3.adm.B1_TS_Shamanka_EN_Bbdong_Kolyma_Papuan_o21+KQB.log\n",
      "\n",
      "    fixed pat  wt  dof     chisq       tail prob\n",
      "          000  0     6     7.992        0.238701     0.540     0.417     0.043 \n",
      "          001  1     7     9.183        0.239757     0.572     0.428    -0.000 \n",
      "          010  1     7    68.760     2.62955e-12     0.991     0.000     0.009 \n",
      "          100  1     7    81.011     8.56725e-15    -0.000     0.856     0.144 \n",
      "          011  2     8    68.769     8.63494e-12     1.000     0.000    -0.000 \n",
      "          101  2     8    87.928     1.22395e-15     0.000     1.000    -0.000 \n",
      "          110  2     8   477.637               0     0.000    -0.000     1.000 \n",
      "best pat:          000         0.238701              -  -\n",
      "best pat:          001         0.239757  chi(nested):     1.192 p-value for nested model:        0.275022\n",
      "best pat:          011      8.63494e-12  chi(nested):    59.586 p-value for nested model:     1.17061e-14\n",
      "\n",
      " ~~~~~~~~~~~~~~~~~~~~~~~ \n",
      "UPA19_3.adm.B1_TS_Shamanka_EN_Bbdong_Kolyma_Qihe_o21+KQB.log\n",
      "\n",
      "    fixed pat  wt  dof     chisq       tail prob\n",
      "          000  0     6     8.084        0.232032     0.733     0.384    -0.117  infeasible\n",
      "          001  1     7     8.550        0.286601     0.598     0.402    -0.000 \n",
      "          010  1     7    16.584        0.020283     2.606     0.000    -1.606  infeasible\n",
      "          100  1     7    19.843      0.00591871     0.000     0.510     0.490 \n",
      "          011  2     8    50.679     3.02536e-08     1.000     0.000    -0.000 \n",
      "          101  2     8    83.098      1.1608e-14     0.000     1.000    -0.000 \n",
      "          110  2     8   105.365     3.40527e-19     0.000     0.000     1.000 \n",
      "best pat:          000                0              -  -\n",
      "best pat:          001         0.286601  chi(nested):     0.466 p-value for nested model:        0.494738\n",
      "best pat:          011      3.02536e-08  chi(nested):    42.129 p-value for nested model:     8.54422e-11\n",
      "\n",
      " ~~~~~~~~~~~~~~~~~~~~~~~ \n",
      "UPA19_3.adm.B1_TS_Shamanka_EN_Bbdong_Kolyma_Yana_o21+KQB.log\n",
      "\n",
      "    fixed pat  wt  dof     chisq       tail prob\n",
      "          000  0     6     9.757        0.135278     0.572     0.418     0.010 \n",
      "          001  1     7     9.820        0.198982     0.570     0.430    -0.000 \n",
      "          010  1     7    44.601     1.63431e-07     0.831    -0.000     0.169 \n",
      "          100  1     7    68.084     3.59953e-12    -0.000     1.206    -0.206  infeasible\n",
      "          011  2     8    67.511     1.53563e-11     1.000    -0.000    -0.000 \n",
      "          101  2     8    81.480     2.46153e-14     0.000     1.000    -0.000 \n",
      "          110  2     8   650.527               0     0.000    -0.000     1.000 \n",
      "best pat:          000         0.135278              -  -\n",
      "best pat:          001         0.198982  chi(nested):     0.064 p-value for nested model:        0.800799\n",
      "best pat:          011      1.53563e-11  chi(nested):    57.690 p-value for nested model:      3.0684e-14\n",
      "\n",
      " ~~~~~~~~~~~~~~~~~~~~~~~ \n",
      "UPA19_3.adm.B1_TS_Shamanka_EN_Bbdong_Ma912_G2_Onge_o21+KQB.log\n",
      "\n",
      "    fixed pat  wt  dof     chisq       tail prob\n",
      "          000  0     6    11.900       0.0642325     3.125    -2.884     0.758  infeasible\n",
      "          001  1     7    26.173      0.00046911     2.413    -1.413    -0.000  infeasible\n",
      "          010  1     7    70.673     1.07993e-12     1.088    -0.000    -0.088  infeasible\n",
      "          100  1     7    85.016     1.30089e-15    -0.000     1.690    -0.690  infeasible\n",
      "          011  2     8    74.465     6.31097e-13     1.000    -0.000    -0.000 \n",
      "          101  2     8   156.682     7.89737e-30     0.000     1.000    -0.000 \n",
      "          110  2     8   621.487               0     0.000    -0.000     1.000 \n",
      "best pat:          000                0              -  -\n",
      "best pat:          001                0  chi(nested):    14.272 p-value for nested model:     0.000158162\n",
      "best pat:          011      6.31097e-13  chi(nested):    48.293 p-value for nested model:     3.67102e-12\n",
      "\n",
      " ~~~~~~~~~~~~~~~~~~~~~~~ \n",
      "UPA19_3.adm.B1_TS_Shamanka_EN_Bbdong_Onge_Papuan_o21+KQB.log\n",
      "\n",
      "    fixed pat  wt  dof     chisq       tail prob\n",
      "          000  0     6     8.386         0.21118     0.653     8.567    -8.220  infeasible\n",
      "          001  1     7    82.411     4.43595e-15     1.124    -0.124    -0.000  infeasible\n",
      "          010  1     7    80.986     8.66685e-15     1.138    -0.000    -0.138  infeasible\n",
      "          100  1     7     8.831        0.265015     0.000    19.260   -18.260  infeasible\n",
      "          011  2     8    85.685     3.48249e-15     1.000    -0.000    -0.000 \n",
      "          101  2     8   417.590               0     0.000     1.000    -0.000 \n",
      "          110  2     8   488.440               0     0.000    -0.000     1.000 \n",
      "best pat:          000                0              -  -\n",
      "best pat:          001                0  chi(nested):    74.025 p-value for nested model:     7.71259e-18\n",
      "best pat:          011      3.48249e-15  chi(nested):     3.274 p-value for nested model:       0.0703706\n",
      "\n",
      " ~~~~~~~~~~~~~~~~~~~~~~~ \n",
      "UPA19_3.adm.B1_TS_Shamanka_EN_Bbdong_Qihe_Yana_o21+KQB.log\n",
      "\n",
      "    fixed pat  wt  dof     chisq       tail prob\n",
      "          000  0     6     9.336        0.155563     1.922    -1.161     0.239  infeasible\n",
      "          001  1     7    17.126       0.0165988     2.373    -1.373    -0.000  infeasible\n",
      "          010  1     7    62.755     4.24334e-11     0.926    -0.000     0.074 \n",
      "          100  1     7   166.797               0    -0.000     1.117    -0.117  infeasible\n",
      "          011  2     8    66.079     2.95142e-11     1.000    -0.000    -0.000 \n",
      "          101  2     8   171.401               0     0.000     1.000    -0.000 \n",
      "          110  2     8   709.653               0     0.000    -0.000     1.000 \n",
      "best pat:          000                0              -  -\n",
      "best pat:          010      4.24334e-11  chi(nested):    53.420 p-value for nested model:     2.69407e-13\n",
      "best pat:          011      2.95142e-11  chi(nested):     3.324 p-value for nested model:       0.0682741\n",
      "\n",
      " ~~~~~~~~~~~~~~~~~~~~~~~ \n",
      "UPA19_3.adm.B1_TS_Shamanka_EN_Clovis_IndusPeriphery_Kolyma_o21+KQB.log\n",
      "\n",
      "    fixed pat  wt  dof     chisq       tail prob\n",
      "          000  0     6     4.016        0.674565    -2.773    -0.077     3.850  infeasible\n",
      "          001  1     7    50.104     1.37793e-08     2.039    -1.039     0.000  infeasible\n",
      "          010  1     7     4.060        0.772798    -2.979    -0.000     3.979  infeasible\n",
      "          100  1     7    28.261     0.000197226     0.000    -0.693     1.693  infeasible\n",
      "          011  2     8   172.539               0     1.000    -0.000    -0.000 \n",
      "          101  2     8   744.834               0     0.000     1.000    -0.000 \n",
      "          110  2     8   103.367     8.73937e-19     0.000    -0.000     1.000 \n",
      "best pat:          000                0              -  -\n",
      "best pat:          001                0  chi(nested):    46.089 p-value for nested model:     1.13016e-11\n",
      "best pat:          110      8.73937e-19  chi(nested):    53.263 p-value for nested model:     2.91794e-13\n",
      "\n",
      " ~~~~~~~~~~~~~~~~~~~~~~~ \n",
      "UPA19_3.adm.B1_TS_Shamanka_EN_Clovis_Karelia_Kolyma_o21+KQB.log\n",
      "\n",
      "    fixed pat  wt  dof     chisq       tail prob\n",
      "          000  0     6     4.101        0.663026     4.332    -0.838    -2.493  infeasible\n",
      "          001  1     7     5.657        0.580339     1.476    -0.476     0.000  infeasible\n",
      "          010  1     7     8.630        0.280284    -2.241    -0.000     3.241  infeasible\n",
      "          100  1     7     9.080        0.246974     0.000    -0.277     1.277  infeasible\n",
      "          011  2     8   120.647      2.4372e-22     1.000    -0.000    -0.000 \n",
      "          101  2     8   879.018               0     0.000     1.000     0.000 \n",
      "          110  2     8    60.555      3.6274e-10     0.000    -0.000     1.000 \n",
      "best pat:          000                0              -  -\n",
      "best pat:          001                0  chi(nested):     1.556 p-value for nested model:        0.212258\n",
      "best pat:          110       3.6274e-10  chi(nested):    54.898 p-value for nested model:     1.26954e-13\n",
      "\n",
      " ~~~~~~~~~~~~~~~~~~~~~~~ \n",
      "UPA19_3.adm.B1_TS_Shamanka_EN_Clovis_Kolyma_Onge_o21+KQB.log\n",
      "\n",
      "    fixed pat  wt  dof     chisq       tail prob\n",
      "          000  0     6     4.578        0.599011    -2.989     3.943     0.046  infeasible\n",
      "          001  1     7     4.621        0.706128    -3.019     4.019    -0.000  infeasible\n",
      "          010  1     7   143.270     1.04872e-27     1.372     0.000    -0.372  infeasible\n",
      "          100  1     7    90.774     8.58075e-17    -0.000     1.215    -0.215  infeasible\n",
      "          011  2     8   167.610               0     1.000    -0.000    -0.000 \n",
      "          101  2     8   101.492     2.11462e-18     0.000     1.000    -0.000 \n",
      "          110  2     8   537.529               0     0.000     0.000     1.000 \n",
      "best pat:          000                0              -  -\n",
      "best pat:          001                0  chi(nested):     0.043 p-value for nested model:        0.835375\n",
      "best pat:          101      2.11462e-18  chi(nested):    96.871 p-value for nested model:     7.39811e-23\n",
      "\n",
      " ~~~~~~~~~~~~~~~~~~~~~~~ \n",
      "UPA19_3.adm.B1_TS_Shamanka_EN_Clovis_Kolyma_Papuan_o21+KQB.log\n",
      "\n",
      "    fixed pat  wt  dof     chisq       tail prob\n",
      "          000  0     6     5.203        0.518036    -2.873     3.968    -0.095  infeasible\n",
      "          001  1     7     5.367         0.61524    -2.818     3.818    -0.000  infeasible\n",
      "          010  1     7   150.289     3.53101e-29     1.355     0.000    -0.355  infeasible\n",
      "          100  1     7    89.144     1.85421e-16    -0.000     1.265    -0.265  infeasible\n",
      "          011  2     8   173.420               0     1.000    -0.000    -0.000 \n",
      "          101  2     8   103.397     8.61495e-19     0.000     1.000    -0.000 \n",
      "          110  2     8   608.803               0     0.000     0.000     1.000 \n",
      "best pat:          000                0              -  -\n",
      "best pat:          001                0  chi(nested):     0.164 p-value for nested model:        0.685391\n",
      "best pat:          101      8.61495e-19  chi(nested):    98.030 p-value for nested model:     4.12051e-23\n",
      "\n",
      " ~~~~~~~~~~~~~~~~~~~~~~~ \n",
      "UPA19_3.adm.B1_TS_Shamanka_EN_Clovis_Kolyma_Yana_o21+KQB.log\n",
      "\n",
      "    fixed pat  wt  dof     chisq       tail prob\n",
      "          000  0     6     5.301        0.505809    -3.218     4.061     0.157  infeasible\n",
      "          001  1     7     5.494        0.599918    -2.688     3.688    -0.000  infeasible\n",
      "          010  1     7    42.736     3.75011e-07     1.796     0.000    -0.796  infeasible\n",
      "          100  1     7    29.391     0.000122748     0.000     1.482    -0.482  infeasible\n",
      "          011  2     8   152.316     6.44399e-29     1.000    -0.000    -0.000 \n",
      "          101  2     8    91.341     2.48442e-16     0.000     1.000    -0.000 \n",
      "          110  2     8   844.107               0     0.000     0.000     1.000 \n",
      "best pat:          000                0              -  -\n",
      "best pat:          001                0  chi(nested):     0.193 p-value for nested model:        0.660623\n",
      "best pat:          101      2.48442e-16  chi(nested):    85.847 p-value for nested model:     1.94445e-20\n",
      "\n",
      " ~~~~~~~~~~~~~~~~~~~~~~~ \n",
      "UPA19_3.adm.B1_TS_Shamanka_EN_Clovis_Onge_Papuan_o21+KQB.log\n",
      "\n",
      "    fixed pat  wt  dof     chisq       tail prob\n",
      "          000  0     6     7.246        0.298684    -0.107    14.375   -13.268  infeasible\n",
      "          001  1     7   161.018               0     1.392    -0.392     0.000  infeasible\n",
      "          010  1     7   162.422               0     1.307    -0.000    -0.307  infeasible\n",
      "          100  1     7     7.232        0.405092     0.000    13.276   -12.276  infeasible\n",
      "          011  2     8   179.784               0     1.000    -0.000    -0.000 \n",
      "          101  2     8   523.253               0     0.000     1.000    -0.000 \n",
      "          110  2     8   624.714               0     0.000     0.000     1.000 \n",
      "best pat:          000                0              -  -\n",
      "best pat:          001                0  chi(nested):   153.772 p-value for nested model:     2.59709e-35\n",
      "best pat:          011      1.14293e-34  chi(nested):    18.765 p-value for nested model:     1.47826e-05\n",
      "\n",
      " ~~~~~~~~~~~~~~~~~~~~~~~ \n",
      "UPA19_3.adm.B1_TS_Shamanka_EN_IndusPeriphery_JomonM_Karelia_o21+KQB.log\n",
      "\n",
      "    fixed pat  wt  dof     chisq       tail prob\n",
      "          000  0     6    11.672       0.0696901    -1.345     1.669     0.676  infeasible\n",
      "          001  1     7    65.384      1.2587e-11    -0.697     1.697    -0.000  infeasible\n",
      "          010  1     7   222.228               0    11.325     0.000   -10.325  infeasible\n",
      "          100  1     7   137.586     1.62796e-26     0.000     1.082    -0.082  infeasible\n",
      "          011  2     8   831.944               0     1.000     0.000    -0.000 \n",
      "          101  2     8   141.816     9.94277e-27     0.000     1.000    -0.000 \n",
      "          110  2     8   673.960               0     0.000     0.000     1.000 \n",
      "best pat:          000                0              -  -\n",
      "best pat:          001                0  chi(nested):    53.712 p-value for nested model:     2.32134e-13\n",
      "best pat:          101      9.94277e-27  chi(nested):    76.431 p-value for nested model:     2.27991e-18\n",
      "\n",
      " ~~~~~~~~~~~~~~~~~~~~~~~ \n",
      "UPA19_3.adm.B1_TS_Shamanka_EN_IndusPeriphery_JomonM_Ma912_G2_o21+KQB.log\n",
      "\n",
      "    fixed pat  wt  dof     chisq       tail prob\n",
      "          000  0     6     4.520        0.606643    -4.389    28.160   -22.771  infeasible\n",
      "          001  1     7    85.170     1.20996e-15    -0.508     1.508     0.000  infeasible\n",
      "          010  1     7   150.747     2.82835e-29    -0.280     0.000     1.280  infeasible\n",
      "          100  1     7    13.702       0.0567347     0.000   196.817  -195.817  infeasible\n",
      "          011  2     8   948.867               0     1.000     0.000     0.000 \n",
      "          101  2     8   143.483     4.47302e-27     0.000     1.000     0.000 \n",
      "          110  2     8   177.570               0     0.000     0.000     1.000 \n",
      "best pat:          000                0              -  -\n",
      "best pat:          001                0  chi(nested):    80.650 p-value for nested model:     2.69486e-19\n",
      "best pat:          101      4.47302e-27  chi(nested):    58.313 p-value for nested model:     2.23613e-14\n",
      "\n",
      " ~~~~~~~~~~~~~~~~~~~~~~~ \n",
      "UPA19_3.adm.B1_TS_Shamanka_EN_IndusPeriphery_Karelia_Tianyuan_o21+KQB.log\n",
      "\n",
      "    fixed pat  wt  dof     chisq       tail prob\n",
      "          000  0     6    11.764       0.0674576    -6.327     1.245     6.082  infeasible\n",
      "          001  1     7   220.761               0    10.607    -9.607    -0.000  infeasible\n",
      "          010  1     7    21.170      0.00352701    -5.839    -0.000     6.839  infeasible\n",
      "          100  1     7   176.595               0    -0.000    -1.588     2.588  infeasible\n",
      "          011  2     8   849.449               0     1.000    -0.000    -0.000 \n",
      "          101  2     8   706.012               0     0.000     1.000    -0.000 \n",
      "          110  2     8   395.934               0     0.000    -0.000     1.000 \n",
      "best pat:          000                0              -  -\n",
      "best pat:          001                0  chi(nested):   208.998 p-value for nested model:     2.27253e-47\n",
      "best pat:          110      1.38741e-80  chi(nested):   175.173 p-value for nested model:     5.48856e-40\n",
      "\n",
      " ~~~~~~~~~~~~~~~~~~~~~~~ \n",
      "UPA19_3.adm.B1_TS_Shamanka_EN_IndusPeriphery_Ma912_G2_Qihe_o21+KQB.log\n",
      "\n",
      "    fixed pat  wt  dof     chisq       tail prob\n",
      "          000  0     6     6.518         0.36774     0.205    -4.459     5.254  infeasible\n",
      "          001  1     7   117.082     3.10156e-22    -0.326     1.326    -0.000  infeasible\n",
      "          010  1     7    78.415     2.89757e-14    -0.216     0.000     1.216  infeasible\n",
      "          100  1     7     7.128        0.415685     0.000    -4.059     5.059  infeasible\n",
      "          011  2     8   980.777               0     1.000     0.000     0.000 \n",
      "          101  2     8   153.480     3.68284e-29     0.000     1.000    -0.000 \n",
      "          110  2     8   100.291     3.72203e-18     0.000     0.000     1.000 \n",
      "best pat:          000                0              -  -\n",
      "best pat:          001                0  chi(nested):   110.565 p-value for nested model:     7.37071e-26\n",
      "best pat:          110      3.72203e-18  chi(nested):   -16.791 p-value for nested model:            -nan\n",
      "\n",
      " ~~~~~~~~~~~~~~~~~~~~~~~ \n",
      "UPA19_3.adm.B1_TS_Shamanka_EN_IndusPeriphery_Onge_Papuan_o21+KQB.log\n",
      "\n",
      "    fixed pat  wt  dof     chisq       tail prob\n",
      "          000  0     6     7.466        0.279911    -0.275    11.507   -10.232  infeasible\n",
      "          001  1     7   138.218     1.20059e-26    -1.864     2.864     0.000  infeasible\n",
      "          010  1     7   183.309               0    -3.697     0.000     4.697  infeasible\n",
      "          100  1     7     7.579        0.371172     0.000    11.681   -10.681  infeasible\n",
      "          011  2     8   874.521               0     1.000    -0.000    -0.000 \n",
      "          101  2     8   441.445               0     0.000     1.000    -0.000 \n",
      "          110  2     8   591.048               0     0.000     0.000     1.000 \n",
      "best pat:          000                0              -  -\n",
      "best pat:          001                0  chi(nested):   130.752 p-value for nested model:     2.80539e-30\n",
      "best pat:          101      2.51612e-90  chi(nested):   303.227 p-value for nested model:     6.52666e-68\n",
      "\n",
      " ~~~~~~~~~~~~~~~~~~~~~~~ \n",
      "UPA19_3.adm.B1_TS_Shamanka_EN_JomonM_Karelia_Ma912_G2_o21+KQB.log\n",
      "\n",
      "    fixed pat  wt  dof     chisq       tail prob\n",
      "          000  0     6     4.975        0.547038   -12.709     1.352    12.358  infeasible\n",
      "          001  1     7   130.686      4.5185e-25     1.111    -0.111    -0.000  infeasible\n",
      "          010  1     7    13.506       0.0607049   -36.160    -0.000    37.160  infeasible\n",
      "          100  1     7   164.367               0     0.000     0.018     0.982 \n",
      "          011  2     8   139.946      2.4351e-26     1.000    -0.000    -0.000 \n",
      "          101  2     8   836.429               0     0.000     1.000     0.000 \n",
      "          110  2     8   164.646               0     0.000    -0.000     1.000 \n",
      "best pat:          000                0              -  -\n",
      "best pat:          100      3.86172e-32  chi(nested):   159.392 p-value for nested model:     1.53621e-36\n",
      "best pat:          011       2.4351e-26  chi(nested):   -24.421 p-value for nested model:            -nan\n",
      "\n",
      " ~~~~~~~~~~~~~~~~~~~~~~~ \n",
      "UPA19_3.adm.B1_TS_Shamanka_EN_JomonM_Kolyma_Ma912_G2_o21+KQB.log\n",
      "\n",
      "    fixed pat  wt  dof     chisq       tail prob\n",
      "          000  0     6     7.660        0.264121    -2.404     0.711     2.693  infeasible\n",
      "          001  1     7    84.716     1.49846e-15     0.509     0.491     0.000 \n",
      "          010  1     7    14.131       0.0489013 -1227.964     0.000  1228.964  infeasible\n",
      "          100  1     7    63.239     3.39367e-11     0.000     0.477     0.523 \n",
      "          011  2     8   122.280     1.12088e-22     1.000    -0.000    -0.000 \n",
      "          101  2     8   119.750     3.73411e-22     0.000     1.000    -0.000 \n",
      "          110  2     8   136.890     1.05139e-25     0.000    -0.000     1.000 \n",
      "best pat:          000                0              -  -\n",
      "best pat:          100      3.39367e-11  chi(nested):    55.580 p-value for nested model:     8.97468e-14\n",
      "best pat:          101      3.73411e-22  chi(nested):    56.511 p-value for nested model:     5.58979e-14\n",
      "\n",
      " ~~~~~~~~~~~~~~~~~~~~~~~ \n",
      "UPA19_3.adm.B1_TS_Shamanka_EN_JomonM_Ma912_G2_Onge_o21+KQB.log\n",
      "\n",
      "    fixed pat  wt  dof     chisq       tail prob\n",
      "          000  0     6     2.250        0.895283     5.121    -2.944    -1.176  infeasible\n",
      "          001  1     7    13.593       0.0589218    56.060   -55.060    -0.000  infeasible\n",
      "          010  1     7    28.410     0.000185267     1.762     0.000    -0.762  infeasible\n",
      "          100  1     7    83.768      2.3418e-15    -0.000     1.617    -0.617  infeasible\n",
      "          011  2     8   129.981     2.85545e-24     1.000    -0.000    -0.000 \n",
      "          101  2     8   165.700               0     0.000     1.000    -0.000 \n",
      "          110  2     8   762.886               0     0.000     0.000     1.000 \n",
      "best pat:          000                0              -  -\n",
      "best pat:          001                0  chi(nested):    11.342 p-value for nested model:     0.000757712\n",
      "best pat:          011      2.85545e-24  chi(nested):   116.388 p-value for nested model:     3.90836e-27\n",
      "\n",
      " ~~~~~~~~~~~~~~~~~~~~~~~ \n",
      "UPA19_3.adm.B1_TS_Shamanka_EN_JomonM_Ma912_G2_Papuan_o21+KQB.log\n",
      "\n",
      "    fixed pat  wt  dof     chisq       tail prob\n",
      "          000  0     6     2.476        0.871179     5.859    -3.510    -1.349  infeasible\n",
      "          001  1     7    14.172       0.0481974   -58.572    59.572    -0.000  infeasible\n",
      "          010  1     7    29.900     9.90662e-05     1.715     0.000    -0.715  infeasible\n",
      "          100  1     7    82.637     3.98926e-15     0.000     1.473    -0.473  infeasible\n",
      "          011  2     8   130.500     2.22867e-24     1.000    -0.000    -0.000 \n",
      "          101  2     8   144.941     2.22309e-27     0.000     1.000    -0.000 \n",
      "          110  2     8   826.546               0     0.000    -0.000     1.000 \n",
      "best pat:          000                0              -  -\n",
      "best pat:          001                0  chi(nested):    11.697 p-value for nested model:     0.000626079\n",
      "best pat:          011      2.22867e-24  chi(nested):   116.327 p-value for nested model:     4.02995e-27\n",
      "\n",
      " ~~~~~~~~~~~~~~~~~~~~~~~ \n",
      "UPA19_3.adm.B1_TS_Shamanka_EN_JomonM_Ma912_G2_Yana_o21+KQB.log\n",
      "\n",
      "    fixed pat  wt  dof     chisq       tail prob\n",
      "          000  0     6     3.915        0.688169  -646.393   563.643    83.750  infeasible\n",
      "          001  1     7    11.032        0.137248   185.455  -184.455    -0.000  infeasible\n",
      "          010  1     7   110.721     6.50559e-21     1.307     0.000    -0.307  infeasible\n",
      "          100  1     7   168.543               0     0.000     1.122    -0.122  infeasible\n",
      "          011  2     8   142.705     6.49295e-27     1.000    -0.000    -0.000 \n",
      "          101  2     8   176.751               0     0.000     1.000    -0.000 \n",
      "          110  2     8   895.453               0     0.000     0.000     1.000 \n",
      "best pat:          000                0              -  -\n",
      "best pat:          001                0  chi(nested):     7.117 p-value for nested model:      0.00763773\n",
      "best pat:          011      6.49295e-27  chi(nested):   131.674 p-value for nested model:     1.76364e-30\n",
      "\n",
      " ~~~~~~~~~~~~~~~~~~~~~~~ \n",
      "UPA19_3.adm.B1_TS_Shamanka_EN_JomonM_Onge_Papuan_o21+KQB.log\n",
      "\n",
      "    fixed pat  wt  dof     chisq       tail prob\n",
      "          000  0     6     6.719        0.347662    28.858  -263.201   235.342  infeasible\n",
      "          001  1     7    35.732     8.14336e-06     1.817    -0.817    -0.000  infeasible\n",
      "          010  1     7    37.936     3.11607e-06     1.672    -0.000    -0.672  infeasible\n",
      "          100  1     7     7.223        0.406048     0.000    16.758   -15.758  infeasible\n",
      "          011  2     8   108.807     6.69441e-20     1.000    -0.000    -0.000 \n",
      "          101  2     8   563.428               0     0.000     1.000    -0.000 \n",
      "          110  2     8   685.587               0     0.000    -0.000     1.000 \n",
      "best pat:          000                0              -  -\n",
      "best pat:          001                0  chi(nested):    29.014 p-value for nested model:     7.18705e-08\n",
      "best pat:          011      6.69441e-20  chi(nested):    73.075 p-value for nested model:     1.24816e-17\n",
      "\n",
      " ~~~~~~~~~~~~~~~~~~~~~~~ \n",
      "UPA19_3.adm.B1_TS_Shamanka_EN_JomonM_Onge_Qihe_o21+KQB.log\n",
      "\n",
      "    fixed pat  wt  dof     chisq       tail prob\n",
      "          000  0     6     2.806        0.832745     3.757    -1.210    -1.547  infeasible\n",
      "          001  1     7    15.854       0.0264845     1.866    -0.866    -0.000  infeasible\n",
      "          010  1     7    26.347     0.000436552    24.346     0.000   -23.346  infeasible\n",
      "          100  1     7   103.119     2.44545e-19    -0.000    -0.475     1.475  infeasible\n",
      "          011  2     8   131.917     1.13303e-24     1.000    -0.000    -0.000 \n",
      "          101  2     8   757.391               0     0.000     1.000    -0.000 \n",
      "          110  2     8   173.737               0     0.000    -0.000     1.000 \n",
      "best pat:          000                0              -  -\n",
      "best pat:          001                0  chi(nested):    13.048 p-value for nested model:     0.000303649\n",
      "best pat:          011      1.13303e-24  chi(nested):   116.063 p-value for nested model:     4.60537e-27\n",
      "\n",
      " ~~~~~~~~~~~~~~~~~~~~~~~ \n",
      "UPA19_3.adm.B1_TS_Shamanka_EN_JomonM_Papuan_Qihe_o21+KQB.log\n",
      "\n",
      "    fixed pat  wt  dof     chisq       tail prob\n",
      "          000  0     6     6.527        0.366826     3.671    -1.204    -1.468  infeasible\n",
      "          001  1     7    20.144      0.00526695     1.779    -0.779    -0.000  infeasible\n",
      "          010  1     7    36.512     5.80126e-06   212.823    -0.000  -211.823  infeasible\n",
      "          100  1     7   109.859     9.82373e-21     0.000    -0.427     1.427  infeasible\n",
      "          011  2     8   128.003     7.33581e-24     1.000    -0.000    -0.000 \n",
      "          101  2     8   836.335               0     0.000     1.000    -0.000 \n",
      "          110  2     8   160.426       1.303e-30     0.000    -0.000     1.000 \n",
      "best pat:          000                0              -  -\n",
      "best pat:          001                0  chi(nested):    13.617 p-value for nested model:      0.00022413\n",
      "best pat:          011      7.33581e-24  chi(nested):   107.859 p-value for nested model:     2.88604e-25\n",
      "\n",
      " ~~~~~~~~~~~~~~~~~~~~~~~ \n",
      "UPA19_3.adm.B1_TS_Shamanka_EN_Karelia_Onge_Papuan_o21+KQB.log\n",
      "\n",
      "    fixed pat  wt  dof     chisq       tail prob\n",
      "          000  0     6     8.698        0.191282    -0.130    16.525   -15.395  infeasible\n",
      "          001  1     7   239.415               0    -1.112     2.112     0.000  infeasible\n",
      "          010  1     7   281.673               0    -1.846     0.000     2.846  infeasible\n",
      "          100  1     7     8.708        0.274268    -0.000    16.782   -15.782  infeasible\n",
      "          011  2     8   895.497               0     1.000    -0.000    -0.000 \n",
      "          101  2     8   556.752               0     0.000     1.000    -0.000 \n",
      "          110  2     8   681.488               0     0.000     0.000     1.000 \n",
      "best pat:          000                0              -  -\n",
      "best pat:          001                0  chi(nested):   230.717 p-value for nested model:     4.15934e-52\n",
      "best pat:          101     4.60647e-115  chi(nested):   317.337 p-value for nested model:     5.50862e-71\n",
      "\n",
      " ~~~~~~~~~~~~~~~~~~~~~~~ \n",
      "UPA19_3.adm.B1_TS_Shamanka_EN_Karelia_Papuan_Yana_o21+KQB.log\n",
      "\n",
      "    fixed pat  wt  dof     chisq       tail prob\n",
      "          000  0     6    11.696       0.0691089    19.563    22.861   -41.424  infeasible\n",
      "          001  1     7   374.811               0    21.539   -20.539    -0.000  infeasible\n",
      "          010  1     7   125.698      4.9729e-24    -6.717     0.000     7.717  infeasible\n",
      "          100  1     7   166.718               0     0.000   -41.386    42.386  infeasible\n",
      "          011  2     8   626.682               0     1.000    -0.000    -0.000 \n",
      "          101  2     8   770.681               0     0.000     1.000    -0.000 \n",
      "          110  2     8   728.020               0     0.000     0.000     1.000 \n",
      "best pat:          000                0              -  -\n",
      "best pat:          001                0  chi(nested):   363.116 p-value for nested model:     5.90441e-81\n",
      "best pat:          011     4.28391e-130  chi(nested):   251.870 p-value for nested model:     1.01552e-56\n",
      "\n",
      " ~~~~~~~~~~~~~~~~~~~~~~~ \n",
      "UPA19_3.adm.B1_TS_Shamanka_EN_Karelia_Tianyuan_Yana_o21+KQB.log\n",
      "\n",
      "    fixed pat  wt  dof     chisq       tail prob\n",
      "          000  0     6     5.480        0.483836     2.301     3.598    -4.899  infeasible\n",
      "          001  1     7   207.662               0    -0.892     1.892    -0.000  infeasible\n",
      "          010  1     7   121.594     3.56605e-23    -7.269     0.000     8.269  infeasible\n",
      "          100  1     7    67.836     4.04023e-12     0.000     3.562    -2.562  infeasible\n",
      "          011  2     8   640.695               0     1.000    -0.000    -0.000 \n",
      "          101  2     8   311.724               0     0.000     1.000    -0.000 \n",
      "          110  2     8   782.367               0     0.000     0.000     1.000 \n",
      "best pat:          000                0              -  -\n",
      "best pat:          001                0  chi(nested):   202.182 p-value for nested model:     6.97789e-46\n",
      "best pat:          101      1.31376e-62  chi(nested):   104.062 p-value for nested model:      1.9613e-24\n",
      "\n",
      " ~~~~~~~~~~~~~~~~~~~~~~~ \n",
      "UPA19_3.adm.B1_TS_Shamanka_EN_Kolyma_Onge_Papuan_o21+KQB.log\n",
      "\n",
      "    fixed pat  wt  dof     chisq       tail prob\n",
      "          000  0     6     8.223        0.222193     0.463    12.630   -12.092  infeasible\n",
      "          001  1     7   116.091     4.98644e-22     1.169    -0.169    -0.000  infeasible\n",
      "          010  1     7   114.769     9.38774e-22     1.170    -0.000    -0.170  infeasible\n",
      "          100  1     7     8.407         0.29808     0.000    20.516   -19.516  infeasible\n",
      "          011  2     8   120.720     2.35445e-22     1.000    -0.000    -0.000 \n",
      "          101  2     8   453.286               0     0.000     1.000    -0.000 \n",
      "          110  2     8   598.027               0     0.000    -0.000     1.000 \n",
      "best pat:          000                0              -  -\n",
      "best pat:          001                0  chi(nested):   107.868 p-value for nested model:     2.87342e-25\n",
      "best pat:          011      2.35445e-22  chi(nested):     4.629 p-value for nested model:       0.0314398\n",
      "\n",
      " ~~~~~~~~~~~~~~~~~~~~~~~ \n",
      "UPA19_3.adm.B1_TS_Shamanka_EN_Ma912_G2_Onge_Papuan_o21+KQB.log\n",
      "\n",
      "    fixed pat  wt  dof     chisq       tail prob\n",
      "          000  0     6     8.682        0.192245    -0.084    17.621   -16.537  infeasible\n",
      "          001  1     7    85.165     1.21283e-15     1.497    -0.497    -0.000  infeasible\n",
      "          010  1     7    85.288     1.14472e-15     1.392    -0.000    -0.392  infeasible\n",
      "          100  1     7     8.638        0.279726     0.000    16.684   -15.684  infeasible\n",
      "          011  2     8   120.400     2.74079e-22     1.000    -0.000    -0.000 \n",
      "          101  2     8   563.398               0     0.000     1.000    -0.000 \n",
      "          110  2     8   682.096               0     0.000    -0.000     1.000 \n",
      "best pat:          000                0              -  -\n",
      "best pat:          001                0  chi(nested):    76.483 p-value for nested model:     2.22164e-18\n",
      "best pat:          011      2.74079e-22  chi(nested):    35.235 p-value for nested model:      2.9218e-09\n",
      "\n",
      " ~~~~~~~~~~~~~~~~~~~~~~~ \n",
      "UPA19_3.adm.B1_TS_Shamanka_EN_Ma912_G2_Onge_Qihe_o21+KQB.log\n",
      "\n",
      "    fixed pat  wt  dof     chisq       tail prob\n",
      "          000  0     6     7.693        0.261443     9.101    -1.512    -6.590  infeasible\n",
      "          001  1     7    26.139     0.000475711     1.744    -0.744    -0.000  infeasible\n",
      "          010  1     7    11.302         0.12597   -11.184     0.000    12.184  infeasible\n",
      "          100  1     7    48.266     3.15835e-08     0.000    -0.512     1.512  infeasible\n",
      "          011  2     8   140.878     1.55837e-26     1.000    -0.000    -0.000 \n",
      "          101  2     8   759.841               0     0.000     1.000    -0.000 \n",
      "          110  2     8   131.086     1.68427e-24     0.000    -0.000     1.000 \n",
      "best pat:          000                0              -  -\n",
      "best pat:          001                0  chi(nested):    18.445 p-value for nested model:     1.74841e-05\n",
      "best pat:          110      1.68427e-24  chi(nested):   104.948 p-value for nested model:     1.25406e-24\n",
      "\n",
      " ~~~~~~~~~~~~~~~~~~~~~~~ \n",
      "UPA19_3.adm.B1_TS_Shamanka_EN_Ma912_G2_Papuan_Qihe_o21+KQB.log\n",
      "\n",
      "    fixed pat  wt  dof     chisq       tail prob\n",
      "          000  0     6     8.464        0.206031     7.091    -1.109    -4.982  infeasible\n",
      "          001  1     7    27.940     0.000225491     1.594    -0.594    -0.000  infeasible\n",
      "          010  1     7    12.770       0.0779266   -18.222     0.000    19.222  infeasible\n",
      "          100  1     7    58.031     3.72702e-10     0.000    -0.417     1.417  infeasible\n",
      "          011  2     8   112.029     1.45654e-20     1.000    -0.000    -0.000 \n",
      "          101  2     8   842.415               0     0.000     1.000    -0.000 \n",
      "          110  2     8   113.462     7.38906e-21     0.000    -0.000     1.000 \n",
      "best pat:          000                0              -  -\n",
      "best pat:          001                0  chi(nested):    19.476 p-value for nested model:     1.01894e-05\n",
      "best pat:          011      1.45654e-20  chi(nested):    84.090 p-value for nested model:     4.72816e-20\n",
      "\n",
      " ~~~~~~~~~~~~~~~~~~~~~~~ \n",
      "UPA19_3.adm.B1_TS_Shamanka_EN_Onge_Papuan_Qihe_o21+KQB.log\n",
      "\n",
      "    fixed pat  wt  dof     chisq       tail prob\n",
      "          000  0     6     7.405        0.285027  1062.338  -959.021  -102.317  infeasible\n",
      "          001  1     7     8.418         0.29717    16.492   -15.492    -0.000  infeasible\n",
      "          010  1     7   103.048     2.52905e-19    -0.643     0.000     1.643  infeasible\n",
      "          100  1     7   110.986     5.73202e-21    -0.000    -0.536     1.536  infeasible\n",
      "          011  2     8   570.681               0     1.000    -0.000    -0.000 \n",
      "          101  2     8   701.092               0     0.000     1.000    -0.000 \n",
      "          110  2     8   165.939               0     0.000    -0.000     1.000 \n",
      "best pat:          000                0              -  -\n",
      "best pat:          001                0  chi(nested):     1.013 p-value for nested model:        0.314105\n",
      "best pat:          110      9.14672e-32  chi(nested):   157.521 p-value for nested model:     3.93912e-36\n",
      "\n",
      " ~~~~~~~~~~~~~~~~~~~~~~~ \n",
      "UPA19_3.adm.B1_TS_Shamanka_EN_Onge_Papuan_Tianyuan_o21+KQB.log\n",
      "\n",
      "    fixed pat  wt  dof     chisq       tail prob\n",
      "          000  0     6     2.306        0.889479    13.382   -14.703     2.321  infeasible\n",
      "          001  1     7     3.390        0.846707    28.655   -27.655    -0.000  infeasible\n",
      "          010  1     7    30.314     8.31689e-05    -4.586     0.000     5.586  infeasible\n",
      "          100  1     7    23.340      0.00148725     0.000    -3.945     4.945  infeasible\n",
      "          011  2     8   545.471               0     1.000    -0.000    -0.000 \n",
      "          101  2     8   614.413               0     0.000     1.000    -0.000 \n",
      "          110  2     8   262.112               0     0.000     0.000     1.000 \n",
      "best pat:          000                0              -  -\n",
      "best pat:          001                0  chi(nested):     1.084 p-value for nested model:        0.297822\n",
      "best pat:          110      4.64822e-52  chi(nested):   258.722 p-value for nested model:     3.25941e-58\n",
      "\n",
      " ~~~~~~~~~~~~~~~~~~~~~~~ \n",
      "UPA19_3.adm.B1_TS_Shamanka_EN_Onge_Papuan_Yana_o21+KQB.log\n",
      "\n",
      "    fixed pat  wt  dof     chisq       tail prob\n",
      "          000  0     6     8.805        0.184871    17.132   -16.191     0.059  infeasible\n",
      "          001  1     7     8.860        0.262861    17.226   -16.226     0.000  infeasible\n",
      "          010  1     7   166.879               0     2.736    -0.000    -1.736  infeasible\n",
      "          100  1     7   188.256               0     0.000     3.494    -2.494  infeasible\n",
      "          011  2     8   478.358               0     1.000    -0.000    -0.000 \n",
      "          101  2     8   591.323               0     0.000     1.000    -0.000 \n",
      "          110  2     8   912.443               0     0.000     0.000     1.000 \n",
      "best pat:          000                0              -  -\n",
      "best pat:          001                0  chi(nested):     0.055 p-value for nested model:        0.813772\n",
      "best pat:          011      3.08527e-98  chi(nested):   469.498 p-value for nested model:    4.12928e-104\n",
      "\n",
      " ~~~~~~~~~~~~~~~~~~~~~~~ \n",
      "UPA19_3.adm.B1_TS_Shamanka_EN_Onge_Tianyuan_Yana_o21+KQB.log\n",
      "\n",
      "    fixed pat  wt  dof     chisq       tail prob\n",
      "          000  0     6    10.865       0.0926542    -2.846     4.003    -0.157  infeasible\n",
      "          001  1     7    11.217        0.129427    -2.952     3.952     0.000  infeasible\n",
      "          010  1     7   301.798               0     5.788     0.000    -4.788  infeasible\n",
      "          100  1     7   102.116     3.94221e-19     0.000     2.278    -1.278  infeasible\n",
      "          011  2     8   696.986               0     1.000    -0.000    -0.000 \n",
      "          101  2     8   293.985               0     0.000     1.000    -0.000 \n",
      "          110  2     8   981.159               0     0.000     0.000     1.000 \n",
      "best pat:          000                0              -  -\n",
      "best pat:          001                0  chi(nested):     0.353 p-value for nested model:        0.552685\n",
      "best pat:          101      7.84578e-59  chi(nested):   282.768 p-value for nested model:      1.8727e-63\n",
      "\n",
      " ~~~~~~~~~~~~~~~~~~~~~~~ \n",
      "UPA19_3.adm.B1_TS_Shamanka_EN_Papuan_Tianyuan_Yana_o21+KQB.log\n",
      "\n",
      "    fixed pat  wt  dof     chisq       tail prob\n",
      "          000  0     6     5.391         0.49478    -1.490     2.831    -0.341  infeasible\n",
      "          001  1     7     9.472        0.220518    -1.725     2.725     0.000  infeasible\n",
      "          010  1     7   319.816               0     4.638     0.000    -3.638  infeasible\n",
      "          100  1     7    65.106     1.43165e-11    -0.000     1.921    -0.921  infeasible\n",
      "          011  2     8   721.348               0     1.000    -0.000    -0.000 \n",
      "          101  2     8   208.597               0     0.000     1.000    -0.000 \n",
      "          110  2     8   920.217               0     0.000     0.000     1.000 \n",
      "best pat:          000                0              -  -\n",
      "best pat:          001                0  chi(nested):     4.081 p-value for nested model:       0.0433564\n",
      "best pat:          101      9.83998e-41  chi(nested):   199.125 p-value for nested model:     3.24196e-45\n",
      "\n"
     ]
    }
   ],
   "source": [
    "%%bash\n",
    "pd=\"/mnt/solexa/mel_yang/early_CN/firstdraft/qpadm_Laz2017/\"\n",
    "name=\"PDEAS\" #\n",
    "name=\"B1\" #\n",
    "target=\"Shamanka_EN\"\n",
    "suffix=\"_TS\"\n",
    "out=\"o21+KQB\"\n",
    "for target in ${target}; do \n",
    "    grep \"f4rank: 2\" ${pd}${name}/UPA19_3.adm.${name}${suffix}_${target}_*_${out}.log | awk '{ if ($8>0.05) print $1,$8}' | cut -d'/' -f9 | cut -d':' -f1,3\n",
    "    myfile=$(grep \"f4rank: 2\" ${pd}${name}/UPA19_3.adm.${name}${suffix}_${target}_*_${out}.log | awk '{ if ($8>0.05) print $1,$8}' | cut -d'/' -f9 | cut -d':' -f1)\n",
    "    for i in ${myfile}; do \n",
    "        echo \" ~~~~~~~~~~~~~~~~~~~~~~~ \"\n",
    "        echo ${i}\n",
    "        tail -n96 ${pd}${name}/${i} | head -n13\n",
    "        done\n",
    "    done"
   ]
  },
  {
   "cell_type": "code",
   "execution_count": null,
   "metadata": {
    "collapsed": true
   },
   "outputs": [],
   "source": []
  },
  {
   "cell_type": "code",
   "execution_count": 5,
   "metadata": {},
   "outputs": [
    {
     "name": "stdout",
     "output_type": "stream",
     "text": [
      "UPA19_3.adm.B1_SS_Samdzong_Karelia_o22+LBH.log: 3.50509828e-315\n",
      "UPA19_3.adm.B1_SS_Samdzong_Okunevo_EMBA_o22+LBH.log: 2.9289455e-310\n",
      "UPA19_3.adm.B1_SS_Shamanka_EN_Papuan_o22+LBH.log: 3.01875334e-312\n",
      "UPA19_3.adm.B1_SS_Qihe_LiangDao_o22+LBH.log: 0.115158757\n",
      "UPA19_3.adm.B1_SS_Man_Bac_Ma912_G2_o22+LBH.log: 0.0753844863\n",
      "UPA19_3.adm.B1_SS_Boshan_Okunevo_EMBA_o22+LBH.log: 7.25560792e-310\n",
      "UPA19_3.adm.B1_SS_XJS_F_Bbdong_o22+LBH.log: 0.152255253\n",
      "UPA19_3.adm.B1_SS_Xiaogao_Bbdong_o22+LBH.log: 0.28935434\n",
      "UPA19_3.adm.B1_SS_Xiaogao_Mota_o22+LBH.log: 4.87102601e-316\n",
      "UPA19_3.adm.B1_SS_Xiaogao_Yana_o22+LBH.log: 6.96984428e-310\n",
      "UPA19_3.adm.B1_SS_LG2_IndusPeriphery_o22+LBH.log: 9.65882644e-311\n",
      "UPA19_3.adm.B1_SS_LG2_Karelia_o22+LBH.log: 5.7360524e-316\n",
      "UPA19_3.adm.B1_SS_LG2_Ma912_G2_o22+LBH.log: 0.681102566\n",
      "UPA19_3.adm.B1_SS_Vt880_G2_JomonM_o22+LBH.log: 0.155200006\n",
      "UPA19_3.adm.B1_SS_Vt880_G2_LiangDao_o22+LBH.log: 0.353379441\n",
      "UPA19_3.adm.B1_SS_Vt880_G2_Ma912_G2_o22+LBH.log: 0.336305145\n",
      "UPA19_3.adm.B1_SS_Ban_Chiang_Ma912_G2_o22+LBH.log: 0.33862346\n",
      "UPA19_3.adm.B1_SS_Oakaie1_LiangDao_o22+LBH.log: 0.179292568\n",
      "UPA19_3.adm.B1_SS_Oakaie1_Ma912_G2_o22+LBH.log: 0.448379011\n"
     ]
    },
    {
     "name": "stderr",
     "output_type": "stream",
     "text": [
      "grep: /mnt/solexa/mel_yang/early_CN/firstdraft/qpadm_Laz2017/B1/UPA19_3.adm.B1_SS_JomonM_*_o22+LBH.log: No such file or directory\n"
     ]
    }
   ],
   "source": [
    "%%bash\n",
    "pd=\"/mnt/solexa/mel_yang/early_CN/firstdraft/qpadm_Laz2017/\"\n",
    "name=\"A1\" #\n",
    "name=\"B1\"\n",
    "target=\"Shamanka_EN\"\n",
    "suffix=\"_SS\"\n",
    "out=\"o22+LBH\"\n",
    "ancset1=\"Hejiatai Shamanka_EN LiangDao Man_Bac Suogang Boshan XJS_F Xiaogao Ma912_G2 Vt833_G2 Vt880_G2\"\n",
    "ancset2=\"Hejiatai Shamanka_EN Qihe Man_Bac Suogang Boshan XJS_F Xiaogao Ma912_G2 Vt833_G2 Vt880_G2\"\n",
    "ancset9=\"Samdzong Mebrak ZongriM297 Hejiatai Shamanka_EN Qihe Man_Bac Suogang Boshan XJS_F Xiaogao LG2 Vt833_G2 Vt880_G2\"\n",
    "ancset10=\"Samdzong Mebrak ZongriM297 Hejiatai Shamanka_EN Qihe Man_Bac Suogang Boshan XJS_F Xiaogao Ma912_G2 Vt833_G2 Vt880_G2\"\n",
    "pdeas=\"Ulchi Oroqen Xibo Uygur Sherpa_ShigatseX Tibetan_ShigatseX Tibetan_LhasaX Tibetan_NagquX Tibetan Sherpa Han_HenanX Han_GansuX Han_XinjiangX Han_HenanX Han_ShandongX Han_JiangsuX Han_AnhuiX Han_SichuanX Han_HubeiX Han_GuangdongX Han_ChongqingX Kinh\"\n",
    "for target in MG6 Chokhopani Samdzong Mebrak ZongriM297 Hejiatai Chokhopani JomonM Shamanka_EN Qihe Man_Bac Suogang Boshan XJS_F Xiaogao LG2 Vt833_G2 Vt880_G2 Nui_Nap Ban_Chiang Oakaie1; do \n",
    "#for target in Han Ami Dai Atayal Lahu Daur Hezhen Tibetan_ShannanX Tibetan_ChamdoX Miao She Korean Japanese Tujia Naxi Yi; do\n",
    "#for target in Ulchi Oroqen Xibo Uygur Sherpa_ShigatseX Tibetan_ShigatseX Tibetan_LhasaX Tibetan_NagquX Tibetan Sherpa Han_HenanX Han_GansuX Han_XinjiangX Han_HenanX Han_ShandongX Han_JiangsuX Han_AnhuiX Han_SichuanX Han_HubeiX Han_GuangdongX Han_ChongqingX Kinh; do\n",
    "    grep \"f4rank: 0\" ${pd}${name}/UPA19_3.adm.${name}${suffix}_${target}_*_${out}.log | awk '{ if ($8>0.05) print $1,$8}' | cut -d'/' -f9 | cut -d':' -f1,3\n",
    "    done"
   ]
  },
  {
   "cell_type": "code",
   "execution_count": null,
   "metadata": {
    "collapsed": true
   },
   "outputs": [],
   "source": []
  },
  {
   "cell_type": "markdown",
   "metadata": {
    "collapsed": true
   },
   "source": [
    "## Subregions - the North"
   ]
  },
  {
   "cell_type": "code",
   "execution_count": 21,
   "metadata": {},
   "outputs": [
    {
     "data": {
      "text/plain": [
       "'Made /mnt/solexa/mel_yang/early_CN/firstdraft/qpadm_Laz2017/UPA19_3.o21IN file'"
      ]
     },
     "execution_count": 21,
     "metadata": {},
     "output_type": "execute_result"
    }
   ],
   "source": [
    "import fstats_funcs as ff\n",
    "\n",
    "pD=\"/mnt/solexa/mel_yang/early_CN/firstdraft/qpadm_Laz2017/\"\n",
    "\n",
    "base=[\"Mota\",\"UstIshim\",\"Kostenki14\",\"Iran_N\",\n",
    "      \"Okunevo_EMBA\",\"IndusPeriphery\",\"Yana\",\"Karelia\",\n",
    "      \"Papuan\",\"Onge\",\"Clovis\", ##no USR\n",
    "      \"Tianyuan\",\"Ma912_G2\",\"JomonM\",\"Kolyma\",\"Qihe\"] \n",
    "fh=\"UPA19_3\"\n",
    "ff.mklst(pD,fh,\"o21IN\",base)"
   ]
  },
  {
   "cell_type": "code",
   "execution_count": 30,
   "metadata": {},
   "outputs": [
    {
     "data": {
      "text/plain": [
       "'Made /mnt/solexa/mel_yang/early_CN/firstdraft/qpadm_Laz2017/UPA19_3.o21INb file'"
      ]
     },
     "execution_count": 30,
     "metadata": {},
     "output_type": "execute_result"
    }
   ],
   "source": [
    "import fstats_funcs as ff\n",
    "\n",
    "pD=\"/mnt/solexa/mel_yang/early_CN/firstdraft/qpadm_Laz2017/\"\n",
    "\n",
    "base=[\"Mota\",\"UstIshim\",\"Kostenki14\",\"Iran_N\",\n",
    "      \"Okunevo_EMBA\",\"IndusPeriphery\",\"Yana\",\"Karelia\",\n",
    "      \"Papuan\",\"Onge\",\"Clovis\", ##no USR\n",
    "      \"Tianyuan\",\"Ma912_G2\",\"JomonM\",\"Kolyma\",\"LiangDao\"] \n",
    "fh=\"UPA19_3\"\n",
    "ff.mklst(pD,fh,\"o21INb\",base)"
   ]
  },
  {
   "cell_type": "code",
   "execution_count": 22,
   "metadata": {},
   "outputs": [
    {
     "data": {
      "text/plain": [
       "'Made wave PAR file /mnt/solexa/mel_yang/early_CN/firstdraft/qpadm_Laz2017/UPA19_3.wave.o21IN5EAS.par'"
      ]
     },
     "execution_count": 22,
     "metadata": {},
     "output_type": "execute_result"
    }
   ],
   "source": [
    "import fstats_funcs as ff\n",
    "\n",
    "pD=\"/mnt/solexa/mel_yang/data/2.2M/\" \n",
    "outpd=\"/mnt/solexa/mel_yang/early_CN/firstdraft/qpadm_Laz2017/\"\n",
    "\n",
    "fh=\"UPA19_3\"\n",
    "ff.mklst(outpd,fh,\"wave.o21IN5EAS.leftpop\",[\"Bbdong\",\"Chokhopani\",\"ZongriM297\",\"HDYM1\",\"Shamanka_EN\"])\n",
    "ff.parfile(pD,fh,\"wave\",\"o21IN5EAS\",outpd=outpd,outgroup=fh+\".o21IN\",indfh='UPA19_3.qpadmmerge1')"
   ]
  },
  {
   "cell_type": "code",
   "execution_count": 27,
   "metadata": {},
   "outputs": [
    {
     "data": {
      "text/plain": [
       "'Made wave PAR file /mnt/solexa/mel_yang/early_CN/firstdraft/qpadm_Laz2017/UPA19_3.wave.o21IN4EAS.par'"
      ]
     },
     "execution_count": 27,
     "metadata": {},
     "output_type": "execute_result"
    }
   ],
   "source": [
    "import fstats_funcs as ff\n",
    "\n",
    "pD=\"/mnt/solexa/mel_yang/data/2.2M/\" \n",
    "outpd=\"/mnt/solexa/mel_yang/early_CN/firstdraft/qpadm_Laz2017/\"\n",
    "\n",
    "fh=\"UPA19_3\"\n",
    "ff.mklst(outpd,fh,\"wave.o21IN4EAS.leftpop\",[\"Bbdong\",\"Chokhopani\",\"ZongriM297\",\"HDYM1\"])\n",
    "ff.parfile(pD,fh,\"wave\",\"o21IN4EAS\",outpd=outpd,outgroup=fh+\".o21IN\",indfh='UPA19_3.qpadmmerge1')"
   ]
  },
  {
   "cell_type": "code",
   "execution_count": 35,
   "metadata": {},
   "outputs": [
    {
     "data": {
      "text/plain": [
       "'Made wave PAR file /mnt/solexa/mel_yang/early_CN/firstdraft/qpadm_Laz2017/UPA19_3.wave.o21INb4EAS.par'"
      ]
     },
     "execution_count": 35,
     "metadata": {},
     "output_type": "execute_result"
    }
   ],
   "source": [
    "import fstats_funcs as ff\n",
    "\n",
    "pD=\"/mnt/solexa/mel_yang/data/2.2M/\" \n",
    "outpd=\"/mnt/solexa/mel_yang/early_CN/firstdraft/qpadm_Laz2017/\"\n",
    "\n",
    "fh=\"UPA19_3\"\n",
    "ff.mklst(outpd,fh,\"wave.o21INb4EAS.leftpop\",[\"Bbdong\",\"Chokhopani\",\"ZongriM297\",\"HDYM1\"])\n",
    "ff.parfile(pD,fh,\"wave\",\"o21INb4EAS\",outpd=outpd,outgroup=fh+\".o21INb\",indfh='UPA19_3.qpadmmerge1')"
   ]
  },
  {
   "cell_type": "code",
   "execution_count": 24,
   "metadata": {},
   "outputs": [
    {
     "data": {
      "text/plain": [
       "'Made wave PAR file /mnt/solexa/mel_yang/early_CN/firstdraft/qpadm_Laz2017/UPA19_3.wave.o21IN3EAS.par'"
      ]
     },
     "execution_count": 24,
     "metadata": {},
     "output_type": "execute_result"
    }
   ],
   "source": [
    "import fstats_funcs as ff\n",
    "\n",
    "pD=\"/mnt/solexa/mel_yang/data/2.2M/\" \n",
    "outpd=\"/mnt/solexa/mel_yang/early_CN/firstdraft/qpadm_Laz2017/\"\n",
    "\n",
    "fh=\"UPA19_3\"\n",
    "ff.mklst(outpd,fh,\"wave.o21IN3EAS.leftpop\",[\"Bbdong\",\"Chokhopani\",\"HDYM1\"])\n",
    "ff.parfile(pD,fh,\"wave\",\"o21IN3EAS\",outpd=outpd,outgroup=fh+\".o21IN\",indfh='UPA19_3.qpadmmerge1')"
   ]
  },
  {
   "cell_type": "code",
   "execution_count": 31,
   "metadata": {},
   "outputs": [
    {
     "data": {
      "text/plain": [
       "'Made wave PAR file /mnt/solexa/mel_yang/early_CN/firstdraft/qpadm_Laz2017/UPA19_3.wave.o21INb3EAS.par'"
      ]
     },
     "execution_count": 31,
     "metadata": {},
     "output_type": "execute_result"
    }
   ],
   "source": [
    "import fstats_funcs as ff\n",
    "\n",
    "pD=\"/mnt/solexa/mel_yang/data/2.2M/\" \n",
    "outpd=\"/mnt/solexa/mel_yang/early_CN/firstdraft/qpadm_Laz2017/\"\n",
    "\n",
    "fh=\"UPA19_3\"\n",
    "ff.mklst(outpd,fh,\"wave.o21INb3EAS.leftpop\",[\"Bbdong\",\"Chokhopani\",\"HDYM1\"])\n",
    "ff.parfile(pD,fh,\"wave\",\"o21INb3EAS\",outpd=outpd,outgroup=fh+\".o21INb\",indfh='UPA19_3.qpadmmerge1')"
   ]
  },
  {
   "cell_type": "code",
   "execution_count": 36,
   "metadata": {},
   "outputs": [
    {
     "data": {
      "text/plain": [
       "'Made /mnt/solexa/mel_yang/early_CN/firstdraft/qpadm_Laz2017/UPA19_3.o21INb+BCH file'"
      ]
     },
     "execution_count": 36,
     "metadata": {},
     "output_type": "execute_result"
    }
   ],
   "source": [
    "import fstats_funcs as ff\n",
    "\n",
    "pD=\"/mnt/solexa/mel_yang/early_CN/firstdraft/qpadm_Laz2017/\"\n",
    "\n",
    "base=[\"Mota\",\"UstIshim\",\"Kostenki14\",\"Iran_N\",\n",
    "      \"Okunevo_EMBA\",\"IndusPeriphery\",\"Yana\",\"Karelia\",\n",
    "      \"Papuan\",\"Onge\",\"Clovis\", ##no USR\n",
    "      \"Tianyuan\",\"Ma912_G2\",\"JomonM\",\"Kolyma\",\"LiangDao\",\n",
    "      \"Bbdong\",\"Chokhopani\",\"HDYM1\"] \n",
    "fh=\"UPA19_3\"\n",
    "ff.mklst(pD,fh,\"o21INb+BCH\",base)"
   ]
  },
  {
   "cell_type": "code",
   "execution_count": 34,
   "metadata": {},
   "outputs": [
    {
     "data": {
      "text/plain": [
       "'Made wave PAR file /mnt/solexa/mel_yang/early_CN/firstdraft/qpadm_Laz2017/UPA19_3.wave.o21IN2EASH.par'"
      ]
     },
     "execution_count": 34,
     "metadata": {},
     "output_type": "execute_result"
    }
   ],
   "source": [
    "import fstats_funcs as ff\n",
    "\n",
    "pD=\"/mnt/solexa/mel_yang/data/2.2M/\" \n",
    "outpd=\"/mnt/solexa/mel_yang/early_CN/firstdraft/qpadm_Laz2017/\"\n",
    "\n",
    "fh=\"UPA19_3\"\n",
    "ff.mklst(outpd,fh,\"wave.o21IN2EASH.leftpop\",[\"Bbdong\",\"HDYM1\"])\n",
    "ff.parfile(pD,fh,\"wave\",\"o21IN2EASH\",outpd=outpd,outgroup=fh+\".o21IN\",indfh='UPA19_3.qpadmmerge1')"
   ]
  },
  {
   "cell_type": "code",
   "execution_count": null,
   "metadata": {
    "collapsed": true
   },
   "outputs": [],
   "source": []
  },
  {
   "cell_type": "code",
   "execution_count": 25,
   "metadata": {},
   "outputs": [
    {
     "data": {
      "text/plain": [
       "'Made /mnt/solexa/mel_yang/early_CN/firstdraft/qpadm_Laz2017/UPA19_3.o21CS file'"
      ]
     },
     "execution_count": 25,
     "metadata": {},
     "output_type": "execute_result"
    }
   ],
   "source": [
    "import fstats_funcs as ff\n",
    "\n",
    "pD=\"/mnt/solexa/mel_yang/early_CN/firstdraft/qpadm_Laz2017/\"\n",
    "\n",
    "base=[\"Mota\",\"UstIshim\",\"Kostenki14\",\"Iran_N\",\n",
    "      \"Okunevo_EMBA\",\"IndusPeriphery\",\"Yana\",\"Karelia\",\n",
    "      \"Papuan\",\"Onge\",\"Clovis\", ##no USR\n",
    "      \"Tianyuan\",\"Ma912_G2\",\"JomonM\",\"Kolyma\",\"Bbdong\"] \n",
    "fh=\"UPA19_3\"\n",
    "ff.mklst(pD,fh,\"o21CS\",base)"
   ]
  },
  {
   "cell_type": "code",
   "execution_count": 28,
   "metadata": {},
   "outputs": [
    {
     "data": {
      "text/plain": [
       "'Made wave PAR file /mnt/solexa/mel_yang/early_CN/firstdraft/qpadm_Laz2017/UPA19_3.wave.o21CS4EAS.par'"
      ]
     },
     "execution_count": 28,
     "metadata": {},
     "output_type": "execute_result"
    }
   ],
   "source": [
    "import fstats_funcs as ff\n",
    "\n",
    "pD=\"/mnt/solexa/mel_yang/data/2.2M/\" \n",
    "outpd=\"/mnt/solexa/mel_yang/early_CN/firstdraft/qpadm_Laz2017/\"\n",
    "\n",
    "fh=\"UPA19_3\"\n",
    "ff.mklst(outpd,fh,\"wave.o21CS4EAS.leftpop\",[\"Qihe\",\"LiangDao\",\"Suogang\",\"MG6\"])\n",
    "ff.parfile(pD,fh,\"wave\",\"o21CS4EAS\",outpd=outpd,outgroup=fh+\".o21CS\",indfh='UPA19_3.qpadmmerge1')"
   ]
  },
  {
   "cell_type": "code",
   "execution_count": 32,
   "metadata": {},
   "outputs": [
    {
     "data": {
      "text/plain": [
       "'Made /mnt/solexa/mel_yang/early_CN/firstdraft/qpadm_Laz2017/UPA19_3.o21INc file'"
      ]
     },
     "execution_count": 32,
     "metadata": {},
     "output_type": "execute_result"
    }
   ],
   "source": [
    "import fstats_funcs as ff\n",
    "\n",
    "pD=\"/mnt/solexa/mel_yang/early_CN/firstdraft/qpadm_Laz2017/\"\n",
    "\n",
    "base=[\"Mota\",\"UstIshim\",\"Kostenki14\",\"Iran_N\",\n",
    "      \"Okunevo_EMBA\",\"IndusPeriphery\",\"Yana\",\"Karelia\",\n",
    "      \"Papuan\",\"Onge\",\"Clovis\", ##no USR\n",
    "      \"Tianyuan\",\"Ma912_G2\",\"JomonM\",\"Kolyma\",\"Bbdong\"] \n",
    "fh=\"UPA19_3\"\n",
    "ff.mklst(pD,fh,\"o21INc\",base)"
   ]
  },
  {
   "cell_type": "code",
   "execution_count": 33,
   "metadata": {},
   "outputs": [
    {
     "data": {
      "text/plain": [
       "'Made wave PAR file /mnt/solexa/mel_yang/early_CN/firstdraft/qpadm_Laz2017/UPA19_3.wave.o21INc4EAS.par'"
      ]
     },
     "execution_count": 33,
     "metadata": {},
     "output_type": "execute_result"
    }
   ],
   "source": [
    "import fstats_funcs as ff\n",
    "\n",
    "pD=\"/mnt/solexa/mel_yang/data/2.2M/\" \n",
    "outpd=\"/mnt/solexa/mel_yang/early_CN/firstdraft/qpadm_Laz2017/\"\n",
    "\n",
    "fh=\"UPA19_3\"\n",
    "ff.mklst(outpd,fh,\"wave.o21INc4EAS.leftpop\",[\"Chokhopani\",\"ZongriM297\",\"HDYM1\",\"Shamanka_EN\"])\n",
    "ff.parfile(pD,fh,\"wave\",\"o21INc4EAS\",outpd=outpd,outgroup=fh+\".o21INc\",indfh='UPA19_3.qpadmmerge1')"
   ]
  },
  {
   "cell_type": "markdown",
   "metadata": {},
   "source": [
    "\n",
    "for i in Samdzong Mebrak ZongriM297 Hejiatai Shamanka_EN Shamanka_EBA; do python generalSS.py 20 B1 o21INb+BCH ${i}; done\n",
    "\n",
    "Samdzong, Mebrak, ZongriM297 are all Chokhopani like. Others no SS.\n",
    "\n",
    "python generalDS.py 20 B1 o21INb+BCH Shamanka_EN 0\n",
    "\n",
    "Hejiatai works for doubles\n",
    "\n",
    "python generalTS.py 20 B1 o21INb+BCH Shamanka_EN 0 &"
   ]
  },
  {
   "cell_type": "code",
   "execution_count": 47,
   "metadata": {},
   "outputs": [
    {
     "name": "stdout",
     "output_type": "stream",
     "text": [
      "UPA19_3.adm.B1_SS_Samdzong_Chokhopani_o21INb+BCH.log: 0.169335591\n",
      "UPA19_3.adm.B1_SS_Samdzong_Kostenki14_o21INb+BCH.log: 1.21445731e-313\n",
      "UPA19_3.adm.B1_SS_Mebrak_Chokhopani_o21INb+BCH.log: 0.108587644\n",
      "UPA19_3.adm.B1_SS_ZongriM297_Chokhopani_o21INb+BCH.log: 0.0504729842\n",
      "UPA19_3.adm.B1_SS_Hejiatai_Karelia_o21INb+BCH.log: 7.46039125e-322\n",
      "UPA19_3.adm.B1_SS_Shamanka_EN_Papuan_o21INb+BCH.log: 1.33762038e-312\n",
      "UPA19_3.adm.B1_SS_Shamanka_EBA_Kostenki14_o21INb+BCH.log: 5.82253426e-309\n"
     ]
    }
   ],
   "source": [
    "%%bash\n",
    "pd=\"/mnt/solexa/mel_yang/early_CN/firstdraft/qpadm_Laz2017/\"\n",
    "name=\"A1\" #\n",
    "name=\"B1\"\n",
    "target=\"Shamanka_EN\"\n",
    "suffix=\"_SS\"\n",
    "out=\"o21INb+BCH\"\n",
    "for target in Samdzong Mebrak ZongriM297 Hejiatai Shamanka_EN Shamanka_EBA; do\n",
    "    grep \"f4rank: 0\" ${pd}${name}/UPA19_3.adm.${name}${suffix}_${target}_*_${out}.log | awk '{ if ($8>0.05) print $1,$8}' | cut -d'/' -f9 | cut -d':' -f1,3\n",
    "    done"
   ]
  },
  {
   "cell_type": "code",
   "execution_count": 20,
   "metadata": {},
   "outputs": [
    {
     "name": "stdout",
     "output_type": "stream",
     "text": [
      "UPA19_3.adm.B1_DS_Hejiatai_Bbdong_LiangDao_o21INb+BCH.log: 0.225378058\n",
      "UPA19_3.adm.B1_DS_Hejiatai_Bbdong_Ma912_G2_o21INb+BCH.log: 0.131707334\n",
      "UPA19_3.adm.B1_DS_Hejiatai_Chokhopani_Bbdong_o21INb+BCH.log: 0.0879873965\n",
      "UPA19_3.adm.B1_DS_Hejiatai_Chokhopani_LiangDao_o21INb+BCH.log: 0.0944087111\n",
      "UPA19_3.adm.B1_DS_Hejiatai_Chokhopani_Ma912_G2_o21INb+BCH.log: 0.568508919\n",
      "UPA19_3.adm.B1_DS_Hejiatai_HDYM1_Bbdong_o21INb+BCH.log: 0.0835976469\n",
      "UPA19_3.adm.B1_DS_Hejiatai_HDYM1_Clovis_o21INb+BCH.log: 0.0549928537\n",
      "UPA19_3.adm.B1_DS_Hejiatai_HDYM1_Kolyma_o21INb+BCH.log: 0.120124587\n",
      "UPA19_3.adm.B1_DS_Hejiatai_HDYM1_Kostenki14_o21INb+BCH.log: 0.104209706\n",
      "UPA19_3.adm.B1_DS_Hejiatai_HDYM1_LiangDao_o21INb+BCH.log: 0.0756515142\n",
      "UPA19_3.adm.B1_DS_Hejiatai_HDYM1_Okunevo_EMBA_o21INb+BCH.log: 0.100640271\n",
      "UPA19_3.adm.B1_DS_Hejiatai_Kolyma_Clovis_o21INb+BCH.log: 0.192857761\n",
      "UPA19_3.adm.B1_DS_Hejiatai_Onge_Papuan_o21INb+BCH.log: 0.188799333\n",
      " ~~~~~~~~~~~~~~~~~~~~~~~ \n",
      "UPA19_3.adm.B1_DS_Hejiatai_Bbdong_LiangDao_o21INb+BCH.log\n",
      "\n",
      "    fixed pat  wt  dof     chisq       tail prob\n",
      "           00  0    15    18.748        0.225378     1.726    -0.726  infeasible\n",
      "           01  1    16    37.107      0.00202561     1.000    -0.000 \n",
      "           10  1    16   134.403     8.93013e-21     0.000     1.000 \n",
      "best pat:           00                0              -  -\n",
      "best pat:           01       0.00202561  chi(nested):    18.359 p-value for nested model:     1.82968e-05\n",
      "\n",
      " ~~~~~~~~~~~~~~~~~~~~~~~ \n",
      "UPA19_3.adm.B1_DS_Hejiatai_Bbdong_Ma912_G2_o21INb+BCH.log\n",
      "\n",
      "    fixed pat  wt  dof     chisq       tail prob\n",
      "           00  0    15    21.163        0.131707     1.227    -0.227  infeasible\n",
      "           01  1    16    25.673        0.058803     1.000    -0.000 \n",
      "           10  1    16   153.707     1.44876e-24     0.000     1.000 \n",
      "best pat:           00                0              -  -\n",
      "best pat:           01         0.058803  chi(nested):     4.510 p-value for nested model:       0.0336891\n",
      "\n",
      " ~~~~~~~~~~~~~~~~~~~~~~~ \n",
      "UPA19_3.adm.B1_DS_Hejiatai_Chokhopani_Bbdong_o21INb+BCH.log\n",
      "\n",
      "    fixed pat  wt  dof     chisq       tail prob\n",
      "           00  0    15    22.822       0.0879874    -2.039     3.039  infeasible\n",
      "           01  1    16    53.863     5.45935e-06     1.000     0.000 \n",
      "           10  1    16    39.972     0.000785879     0.000     1.000 \n",
      "best pat:           00                0              -  -\n",
      "best pat:           10      0.000785879  chi(nested):    17.150 p-value for nested model:     3.45405e-05\n",
      "\n",
      " ~~~~~~~~~~~~~~~~~~~~~~~ \n",
      "UPA19_3.adm.B1_DS_Hejiatai_Chokhopani_LiangDao_o21INb+BCH.log\n",
      "\n",
      "    fixed pat  wt  dof     chisq       tail prob\n",
      "           00  0    15    22.540       0.0944087     2.668    -1.668  infeasible\n",
      "           01  1    16    55.061      3.4751e-06     1.000     0.000 \n",
      "           10  1    16   129.622     7.60017e-20     0.000     1.000 \n",
      "best pat:           00                0              -  -\n",
      "best pat:           01       3.4751e-06  chi(nested):    32.521 p-value for nested model:     1.17934e-08\n",
      "\n",
      " ~~~~~~~~~~~~~~~~~~~~~~~ \n",
      "UPA19_3.adm.B1_DS_Hejiatai_Chokhopani_Ma912_G2_o21INb+BCH.log\n",
      "\n",
      "    fixed pat  wt  dof     chisq       tail prob\n",
      "           00  0    15    13.438        0.568509     1.712    -0.712  infeasible\n",
      "           01  1    16    37.011       0.0020896     1.000    -0.000 \n",
      "           10  1    16   151.826     3.40819e-24     0.000     1.000 \n",
      "best pat:           00                0              -  -\n",
      "best pat:           01        0.0020896  chi(nested):    23.573 p-value for nested model:      1.2026e-06\n",
      "\n",
      " ~~~~~~~~~~~~~~~~~~~~~~~ \n",
      "UPA19_3.adm.B1_DS_Hejiatai_HDYM1_Bbdong_o21INb+BCH.log\n",
      "\n",
      "    fixed pat  wt  dof     chisq       tail prob\n",
      "           00  0    15    23.026       0.0835976     0.512     0.488 \n",
      "           01  1    16    31.292       0.0123466     1.000     0.000 \n",
      "           10  1    16    29.856       0.0187654     0.000     1.000 \n",
      "best pat:           00        0.0835976              -  -\n",
      "best pat:           10        0.0187654  chi(nested):     6.830 p-value for nested model:      0.00896385\n",
      "\n",
      " ~~~~~~~~~~~~~~~~~~~~~~~ \n",
      "UPA19_3.adm.B1_DS_Hejiatai_HDYM1_Clovis_o21INb+BCH.log\n",
      "\n",
      "    fixed pat  wt  dof     chisq       tail prob\n",
      "           00  0    15    24.640       0.0549929     1.158    -0.158  infeasible\n",
      "           01  1    16    31.417       0.0118968     1.000    -0.000 \n",
      "           10  1    16   294.078               0     0.000     1.000 \n",
      "best pat:           00                0              -  -\n",
      "best pat:           01        0.0118968  chi(nested):     6.777 p-value for nested model:      0.00923255\n",
      "\n",
      " ~~~~~~~~~~~~~~~~~~~~~~~ \n",
      "UPA19_3.adm.B1_DS_Hejiatai_HDYM1_Kolyma_o21INb+BCH.log\n",
      "\n",
      "    fixed pat  wt  dof     chisq       tail prob\n",
      "           00  0    15    21.551        0.120125     1.248    -0.248  infeasible\n",
      "           01  1    16    31.683       0.0109919     1.000     0.000 \n",
      "           10  1    16   260.363               0     0.000     1.000 \n",
      "best pat:           00                0              -  -\n",
      "best pat:           01        0.0109919  chi(nested):    10.132 p-value for nested model:      0.00145695\n",
      "\n",
      " ~~~~~~~~~~~~~~~~~~~~~~~ \n",
      "UPA19_3.adm.B1_DS_Hejiatai_HDYM1_Kostenki14_o21INb+BCH.log\n",
      "\n",
      "    fixed pat  wt  dof     chisq       tail prob\n",
      "           00  0    15    22.139         0.10421     0.984     0.016 \n",
      "           01  1    16    22.239        0.135634     1.000    -0.000 \n",
      "           10  1    16  1222.147               0     0.000     1.000 \n",
      "best pat:           00          0.10421              -  -\n",
      "best pat:           01         0.135634  chi(nested):     0.100 p-value for nested model:         0.75161\n",
      "\n",
      " ~~~~~~~~~~~~~~~~~~~~~~~ \n",
      "UPA19_3.adm.B1_DS_Hejiatai_HDYM1_LiangDao_o21INb+BCH.log\n",
      "\n",
      "    fixed pat  wt  dof     chisq       tail prob\n",
      "           00  0    15    23.418       0.0756515     0.735     0.265 \n",
      "           01  1    16    31.461       0.0117433     1.000    -0.000 \n",
      "           10  1    16    93.545     5.53539e-13     0.000     1.000 \n",
      "best pat:           00        0.0756515              -  -\n",
      "best pat:           01        0.0117433  chi(nested):     8.043 p-value for nested model:      0.00456894\n",
      "\n",
      " ~~~~~~~~~~~~~~~~~~~~~~~ \n",
      "UPA19_3.adm.B1_DS_Hejiatai_HDYM1_Okunevo_EMBA_o21INb+BCH.log\n",
      "\n",
      "    fixed pat  wt  dof     chisq       tail prob\n",
      "           00  0    15    22.281         0.10064     1.002    -0.002  infeasible\n",
      "           01  1    16    22.157        0.138201     1.000    -0.000 \n",
      "           10  1    16   854.641               0     0.000     1.000 \n",
      "best pat:           00                0              -  -\n",
      "best pat:           01         0.138201  chi(nested):    -0.124 p-value for nested model:            -nan\n",
      "\n",
      " ~~~~~~~~~~~~~~~~~~~~~~~ \n",
      "UPA19_3.adm.B1_DS_Hejiatai_Kolyma_Clovis_o21INb+BCH.log\n",
      "\n",
      "    fixed pat  wt  dof     chisq       tail prob\n",
      "           00  0    15    19.479        0.192858     7.250    -6.250  infeasible\n",
      "           01  1    16   282.423               0     1.000    -0.000 \n",
      "           10  1    16   309.245               0     0.000     1.000 \n",
      "best pat:           00                0              -  -\n",
      "best pat:           01      1.09962e-50  chi(nested):   262.944 p-value for nested model:     3.91537e-59\n",
      "\n",
      " ~~~~~~~~~~~~~~~~~~~~~~~ \n",
      "UPA19_3.adm.B1_DS_Hejiatai_Onge_Papuan_o21INb+BCH.log\n",
      "\n",
      "    fixed pat  wt  dof     chisq       tail prob\n",
      "           00  0    15    19.576        0.188799    12.207   -11.207  infeasible\n",
      "           01  1    16   541.685               0     1.000    -0.000 \n",
      "           10  1    16   664.489               0     0.000     1.000 \n",
      "best pat:           00                0              -  -\n",
      "best pat:           01     5.15876e-105  chi(nested):   522.109 p-value for nested model:    1.47438e-115\n",
      "\n"
     ]
    },
    {
     "name": "stderr",
     "output_type": "stream",
     "text": [
      "tail: write error\n"
     ]
    }
   ],
   "source": [
    "%%bash\n",
    "pd=\"/mnt/solexa/mel_yang/early_CN/firstdraft/qpadm_Laz2017/\"\n",
    "name=\"PDEAS\" #\n",
    "name=\"B1\" #\n",
    "#name=\"PDEASB1\"\n",
    "target=\"Hejiatai\"\n",
    "suffix=\"_DS\"\n",
    "out=\"o21INb+BCH\"\n",
    "for target in ${target}; do \n",
    "    grep \"f4rank: 1\" ${pd}${name}/UPA19_3.adm.${name}${suffix}_${target}_*_${out}.log | awk '{ if ($8>0.05) print $1,$8}' | cut -d'/' -f9 | cut -d':' -f1,3\n",
    "    myfile=$(grep \"f4rank: 1\" ${pd}${name}/UPA19_3.adm.${name}${suffix}_${target}_*_${out}.log | awk '{ if ($8>0.05) print $1,$8}' | cut -d'/' -f9 | cut -d':' -f1)\n",
    "    for i in ${myfile}; do \n",
    "        echo \" ~~~~~~~~~~~~~~~~~~~~~~~ \"\n",
    "        echo ${i}\n",
    "        tail -n215 ${pd}${name}/${i} | head -n8\n",
    "        done\n",
    "    done"
   ]
  },
  {
   "cell_type": "code",
   "execution_count": 21,
   "metadata": {},
   "outputs": [
    {
     "name": "stdout",
     "output_type": "stream",
     "text": [
      "UPA19_3.adm.B1_DS_Boshan_Bbdong_Clovis_o21+KLB.log: 0.0668336224\n",
      "UPA19_3.adm.B1_DS_Boshan_Bbdong_Kolyma_o21+KLB.log: 0.286341244\n",
      "UPA19_3.adm.B1_DS_Boshan_Bbdong_LiangDao_o21+KLB.log: 0.0658718402\n",
      "UPA19_3.adm.B1_DS_Boshan_JomonM_Ma912_G2_o21+KLB.log: 0.21783166\n",
      "UPA19_3.adm.B1_DS_Boshan_Kolyma_Clovis_o21+KLB.log: 0.205214461\n",
      " ~~~~~~~~~~~~~~~~~~~~~~~ \n",
      "UPA19_3.adm.B1_DS_Boshan_Bbdong_Clovis_o21+KLB.log\n",
      "\n",
      "    fixed pat  wt  dof     chisq       tail prob\n",
      "           00  0    13    21.320       0.0668336     0.891     0.109 \n",
      "           01  1    14    27.367       0.0172451     1.000    -0.000 \n",
      "           10  1    14   314.802               0     0.000     1.000 \n",
      "best pat:           00        0.0668336              -  -\n",
      "best pat:           01        0.0172451  chi(nested):     6.046 p-value for nested model:       0.0139339\n",
      "\n",
      " ~~~~~~~~~~~~~~~~~~~~~~~ \n",
      "UPA19_3.adm.B1_DS_Boshan_Bbdong_Kolyma_o21+KLB.log\n",
      "\n",
      "    fixed pat  wt  dof     chisq       tail prob\n",
      "           00  0    13    15.345        0.286341     0.891     0.109 \n",
      "           01  1    14    19.752        0.138152     1.000     0.000 \n",
      "           10  1    14   246.146               0     0.000     1.000 \n",
      "best pat:           00         0.286341              -  -\n",
      "best pat:           01         0.138152  chi(nested):     4.408 p-value for nested model:       0.0357794\n",
      "\n",
      " ~~~~~~~~~~~~~~~~~~~~~~~ \n",
      "UPA19_3.adm.B1_DS_Boshan_Bbdong_LiangDao_o21+KLB.log\n",
      "\n",
      "    fixed pat  wt  dof     chisq       tail prob\n",
      "           00  0    13    21.373       0.0658718     1.389    -0.389  infeasible\n",
      "           01  1    14    27.485        0.016641     1.000    -0.000 \n",
      "           10  1    14   102.150     1.83419e-15     0.000     1.000 \n",
      "best pat:           00                0              -  -\n",
      "best pat:           01         0.016641  chi(nested):     6.112 p-value for nested model:       0.0134288\n",
      "\n",
      " ~~~~~~~~~~~~~~~~~~~~~~~ \n",
      "UPA19_3.adm.B1_DS_Boshan_JomonM_Ma912_G2_o21+KLB.log\n",
      "\n",
      "    fixed pat  wt  dof     chisq       tail prob\n",
      "           00  0    13    16.608        0.217832    -7.227     8.227  infeasible\n",
      "           01  1    14   240.149               0     1.000    -0.000 \n",
      "           10  1    14   207.639               0     0.000     1.000 \n",
      "best pat:           00                0              -  -\n",
      "best pat:           10      1.50531e-36  chi(nested):   191.031 p-value for nested model:     1.89364e-43\n",
      "\n",
      " ~~~~~~~~~~~~~~~~~~~~~~~ \n",
      "UPA19_3.adm.B1_DS_Boshan_Kolyma_Clovis_o21+KLB.log\n",
      "\n",
      "    fixed pat  wt  dof     chisq       tail prob\n",
      "           00  0    13    16.872        0.205214     6.630    -5.630  infeasible\n",
      "           01  1    14   353.013               0     1.000    -0.000 \n",
      "           10  1    14   451.044               0     0.000     1.000 \n",
      "best pat:           00                0              -  -\n",
      "best pat:           01      9.60033e-67  chi(nested):   336.141 p-value for nested model:     4.41834e-75\n",
      "\n"
     ]
    }
   ],
   "source": [
    "%%bash\n",
    "pd=\"/mnt/solexa/mel_yang/early_CN/firstdraft/qpadm_Laz2017/\"\n",
    "name=\"PDEAS\" #\n",
    "name=\"B1\" #\n",
    "#name=\"PDEASB1\"\n",
    "target=\"Boshan\"\n",
    "suffix=\"_DS\"\n",
    "out=\"o21+KLB\"\n",
    "for target in ${target}; do \n",
    "    grep \"f4rank: 1\" ${pd}${name}/UPA19_3.adm.${name}${suffix}_${target}_*_${out}.log | awk '{ if ($8>0.05) print $1,$8}' | cut -d'/' -f9 | cut -d':' -f1,3\n",
    "    myfile=$(grep \"f4rank: 1\" ${pd}${name}/UPA19_3.adm.${name}${suffix}_${target}_*_${out}.log | awk '{ if ($8>0.05) print $1,$8}' | cut -d'/' -f9 | cut -d':' -f1)\n",
    "    for i in ${myfile}; do \n",
    "        echo \" ~~~~~~~~~~~~~~~~~~~~~~~ \"\n",
    "        echo ${i}\n",
    "        tail -n176 ${pd}${name}/${i} | head -n8\n",
    "        done\n",
    "    done"
   ]
  },
  {
   "cell_type": "code",
   "execution_count": null,
   "metadata": {
    "collapsed": true
   },
   "outputs": [],
   "source": []
  }
 ],
 "metadata": {
  "kernelspec": {
   "display_name": "Python 2",
   "language": "python",
   "name": "python2"
  },
  "language_info": {
   "codemirror_mode": {
    "name": "ipython",
    "version": 2
   },
   "file_extension": ".py",
   "mimetype": "text/x-python",
   "name": "python",
   "nbconvert_exporter": "python",
   "pygments_lexer": "ipython2",
   "version": "2.7.13"
  }
 },
 "nbformat": 4,
 "nbformat_minor": 2
}
