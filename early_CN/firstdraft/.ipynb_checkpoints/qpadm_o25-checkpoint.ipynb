{
 "cells": [
  {
   "cell_type": "code",
   "execution_count": null,
   "metadata": {
    "collapsed": true
   },
   "outputs": [],
   "source": [
    "import fstats_funcs as ff\n",
    "\n",
    "pD=\"/mnt/solexa/mel_yang/early_CN/firstdraft/qpadm_Laz2017/\"\n",
    "\n",
    "base=[\"Mota\",\"UstIshim\",\"Kostenki14\",\"Iran_N\",\n",
    "      \"Yana\",\"Karelia\",\"Okunevo_EMBA\",\"IndusPeriphery\",\n",
    "      \"Natufian\",\"Papuan\",\"Onge\",\"Clovis\", ##no USR\n",
    "      \"Tianyuan\",\"Group1\",\"Kolyma\"] \n",
    "fh=\"UPA19_3\"\n",
    "ff.mklst(pD,fh,\"o25\",base)"
   ]
  },
  {
   "cell_type": "code",
   "execution_count": 4,
   "metadata": {},
   "outputs": [
    {
     "data": {
      "text/plain": [
       "'Made wave PAR file /mnt/solexa/mel_yang/early_CN/firstdraft/qpadm_Laz2017/UPA19_3.wave.o253cEAS.par'"
      ]
     },
     "execution_count": 4,
     "metadata": {},
     "output_type": "execute_result"
    }
   ],
   "source": [
    "import fstats_funcs as ff\n",
    "\n",
    "pD=\"/mnt/solexa/mel_yang/data/2.2M/\" \n",
    "outpd=\"/mnt/solexa/mel_yang/early_CN/firstdraft/qpadm_Laz2017/\"\n",
    "\n",
    "fh=\"UPA19_3\"\n",
    "ff.mklst(outpd,fh,\"wave.o253cEAS.leftpop\",[\"LiangDao\",\"Bbdong\",\"Shamanka_EN\"])\n",
    "ff.parfile(pD,fh,\"wave\",\"o253cEAS\",outpd=outpd,outgroup=fh+\".o25\",indfh='UPA19_3.qpadmmerge1')"
   ]
  },
  {
   "cell_type": "code",
   "execution_count": 5,
   "metadata": {},
   "outputs": [
    {
     "data": {
      "text/plain": [
       "'Made /mnt/solexa/mel_yang/early_CN/firstdraft/qpadm_Laz2017/UPA19_3.o25+LBS file'"
      ]
     },
     "execution_count": 5,
     "metadata": {},
     "output_type": "execute_result"
    }
   ],
   "source": [
    "import fstats_funcs as ff\n",
    "\n",
    "pD=\"/mnt/solexa/mel_yang/early_CN/firstdraft/qpadm_Laz2017/\"\n",
    "\n",
    "base=[\"Mota\",\"UstIshim\",\"Kostenki14\",\"Iran_N\",\n",
    "      \"Yana\",\"Karelia\",\"Okunevo_EMBA\",\"IndusPeriphery\",\n",
    "      \"Natufian\",\"Papuan\",\"Onge\",\"Clovis\", ##no USR\n",
    "      \"Tianyuan\",\"Group1\",\"Kolyma\",\"LiangDao\",\"Bbdong\",\"Shamanka_EN\"] \n",
    "fh=\"UPA19_3\"\n",
    "ff.mklst(pD,fh,\"o25+LBS\",base)"
   ]
  },
  {
   "cell_type": "code",
   "execution_count": 8,
   "metadata": {},
   "outputs": [
    {
     "data": {
      "text/plain": [
       "'Made /mnt/solexa/mel_yang/early_CN/firstdraft/qpadm_Laz2017/UPA19_3.o25+LBH file'"
      ]
     },
     "execution_count": 8,
     "metadata": {},
     "output_type": "execute_result"
    }
   ],
   "source": [
    "import fstats_funcs as ff\n",
    "\n",
    "pD=\"/mnt/solexa/mel_yang/early_CN/firstdraft/qpadm_Laz2017/\"\n",
    "\n",
    "base=[\"Mota\",\"UstIshim\",\"Kostenki14\",\"Iran_N\",\n",
    "      \"Yana\",\"Karelia\",\"Okunevo_EMBA\",\"IndusPeriphery\",\n",
    "      \"Natufian\",\"Papuan\",\"Onge\",\"Clovis\", ##no USR\n",
    "      \"Tianyuan\",\"Group1\",\"Kolyma\",\"LiangDao\",\"Bbdong\",\"HDYM1\"] \n",
    "fh=\"UPA19_3\"\n",
    "ff.mklst(pD,fh,\"o25+LBH\",base)"
   ]
  },
  {
   "cell_type": "code",
   "execution_count": 1,
   "metadata": {},
   "outputs": [
    {
     "data": {
      "text/plain": [
       "'Made /mnt/solexa/mel_yang/early_CN/firstdraft/qpadm_Laz2017/UPA19_3.o25+LH file'"
      ]
     },
     "execution_count": 1,
     "metadata": {},
     "output_type": "execute_result"
    }
   ],
   "source": [
    "import fstats_funcs as ff\n",
    "\n",
    "pD=\"/mnt/solexa/mel_yang/early_CN/firstdraft/qpadm_Laz2017/\"\n",
    "\n",
    "base=[\"Mota\",\"UstIshim\",\"Kostenki14\",\"Iran_N\",\n",
    "      \"Yana\",\"Karelia\",\"Okunevo_EMBA\",\"IndusPeriphery\",\n",
    "      \"Natufian\",\"Papuan\",\"Onge\",\"Clovis\", ##no USR\n",
    "      \"Tianyuan\",\"Group1\",\"Kolyma\",\"LiangDao\",\"HDYM1\"] \n",
    "fh=\"UPA19_3\"\n",
    "ff.mklst(pD,fh,\"o25+LH\",base)"
   ]
  },
  {
   "cell_type": "code",
   "execution_count": null,
   "metadata": {
    "collapsed": true
   },
   "outputs": [],
   "source": []
  },
  {
   "cell_type": "code",
   "execution_count": null,
   "metadata": {
    "collapsed": true
   },
   "outputs": [],
   "source": []
  },
  {
   "cell_type": "markdown",
   "metadata": {},
   "source": [
    "for i in Shamanka_EN Samdzong Mebrak ZongriM297 Hejiatai Chokhopani; do python generalSS.py 20 C1 o25+LH ${i}; done\n",
    "\n",
    "for i in Qihe MG6 Man_Bac Suogang JomonM; do python generalSS.py 20 C1 o25+LH ${i}; done\n",
    "\n",
    "for i in Bbdong Boshan XJS_F Xiaogao LG2; do python generalSS.py 20 C1 o25+LH ${i}; done\n",
    "\n",
    "for i in Vt833_G2 Vt880_G2 Nui_Nap Ban_Chiang Oakaie1; do python generalSS.py 20 C1 o25+LH ${i}; done"
   ]
  },
  {
   "cell_type": "code",
   "execution_count": null,
   "metadata": {
    "collapsed": true
   },
   "outputs": [],
   "source": [
    "for i in Shamanka_EN Samdzong Mebrak ZongriM297 Hejiatai Chokhopani; do python generalSS.py 20 C1 o25+LH ${i}; done\n",
    "\n",
    "for i in Qihe MG6 Man_Bac Suogang JomonM; do python generalSS.py 20 C1 o25+LH ${i}; done\n",
    "\n",
    "for i in Bbdong Boshan XJS_F Xiaogao LG2; do python generalSS.py 20 C1 o25+LH ${i}; done\n",
    "\n",
    "for i in Vt833_G2 Vt880_G2 Nui_Nap Ban_Chiang Oakaie1; do python generalSS.py 20 C1 o25+LH ${i}; done\n",
    "\n",
    "UPA19_3.o25+LBS\n",
    "\n",
    "for i in Shamanka_EN Samdzong Mebrak ZongriM297 Hejiatai Chokhopani Qihe MG6 Man_Bac Suogang JomonM Boshan XJS_F Xiaogao LG2 Vt833_G2 Vt880_G2 Nui_Nap Ban_Chiang Oakaie1; do python generalSS.py 20 C1 o25+LBS ${i}; done\n",
    "\n",
    "for i in Han Ami Dai Atayal Lahu Daur Hezhen Tibetan_ShannanX Tibetan_ChamdoX Miao She Korean Japanese Tujia Naxi Yi Kinh; do python generalSS.py 20 C1 o25+LBS ${i}; done\n",
    "\n",
    "for i in Sherpa_ShigatseX Tibetan_ShigatseX Tibetan_LhasaX Tibetan_NagquX Ulchi Oroqen Xibo Uygur Tibetan Sherpa Han_HenanX Han_GansuX Han_XinjiangX Han_ShandongX Han_JiangsuX Han_AnhuiX Han_SichuanX Han_HubeiX Han_GuangdongX Han_ChongqingX; do python generalSS.py 20 C1 o25+LBS ${i}; done\n",
    "\n",
    "python generalDS.py 20 C1 o25+LBH Shamanka_EN 0 &"
   ]
  },
  {
   "cell_type": "code",
   "execution_count": 3,
   "metadata": {},
   "outputs": [
    {
     "name": "stdout",
     "output_type": "stream",
     "text": [
      "UPA19_3.adm.C1_SS_Qihe_LiangDao_o25+LBH.log: 0.318903131\n",
      "UPA19_3.adm.C1_SS_MG6_LiangDao_o25+LBH.log: 0.107382132\n",
      "UPA19_3.adm.C1_SS_Hejiatai_HDYM1_o25+LBH.log: 0.0956115806\n",
      "UPA19_3.adm.C1_SS_Man_Bac_LiangDao_o25+LBH.log: 0.209868736\n",
      "UPA19_3.adm.C1_SS_Suogang_LiangDao_o25+LBH.log: 0.0809150951\n",
      "UPA19_3.adm.C1_SS_Boshan_Bbdong_o25+LBH.log: 0.0960838041\n",
      "UPA19_3.adm.C1_SS_XJS_F_Bbdong_o25+LBH.log: 0.594742094\n",
      "UPA19_3.adm.C1_SS_Xiaogao_Bbdong_o25+LBH.log: 0.287395841\n"
     ]
    },
    {
     "name": "stderr",
     "output_type": "stream",
     "text": [
      "grep: /mnt/solexa/mel_yang/early_CN/firstdraft/qpadm_Laz2017/C1/UPA19_3.adm.C1_SS_Vt880_G2_*_o25+LBH.log: No such file or directory\n",
      "grep: /mnt/solexa/mel_yang/early_CN/firstdraft/qpadm_Laz2017/C1/UPA19_3.adm.C1_SS_Nui_Nap_*_o25+LBH.log: No such file or directory\n",
      "grep: /mnt/solexa/mel_yang/early_CN/firstdraft/qpadm_Laz2017/C1/UPA19_3.adm.C1_SS_Ban_Chiang_*_o25+LBH.log: No such file or directory\n",
      "grep: /mnt/solexa/mel_yang/early_CN/firstdraft/qpadm_Laz2017/C1/UPA19_3.adm.C1_SS_Oakaie1_*_o25+LBH.log: No such file or directory\n"
     ]
    }
   ],
   "source": [
    "%%bash\n",
    "pd=\"/mnt/solexa/mel_yang/early_CN/firstdraft/qpadm_Laz2017/\"\n",
    "name=\"A1\" #\n",
    "name=\"C1\"\n",
    "suffix=\"_SS\"\n",
    "out=\"o25+LBH\"\n",
    "ancset1=\"Hejiatai Shamanka_EN LiangDao Man_Bac Suogang Boshan XJS_F Xiaogao Ma912_G2 Vt833_G2 Vt880_G2\"\n",
    "ancset2=\"Hejiatai Shamanka_EN Qihe Man_Bac Suogang Boshan XJS_F Xiaogao Ma912_G2 Vt833_G2 Vt880_G2\"\n",
    "ancset9=\"Samdzong Mebrak ZongriM297 Hejiatai Shamanka_EN Qihe Man_Bac Suogang Boshan XJS_F Xiaogao LG2 Vt833_G2 Vt880_G2\"\n",
    "ancset10=\"Samdzong Mebrak ZongriM297 Hejiatai Shamanka_EN Qihe Man_Bac Suogang Boshan XJS_F Xiaogao Ma912_G2 Vt833_G2 Vt880_G2\"\n",
    "pdeas=\"Ulchi Oroqen Xibo Uygur Sherpa_ShigatseX Tibetan_ShigatseX Tibetan_LhasaX Tibetan_NagquX Tibetan Sherpa Han_HenanX Han_GansuX Han_XinjiangX Han_HenanX Han_ShandongX Han_JiangsuX Han_AnhuiX Han_SichuanX Han_HubeiX Han_GuangdongX Han_ChongqingX Kinh\"\n",
    "for target in Qihe MG6 Samdzong Mebrak ZongriM297 Hejiatai Chokhopani JomonM HDYM1 Man_Bac Suogang Boshan XJS_F Xiaogao LG2 Vt833_G2 Vt880_G2 Nui_Nap Ban_Chiang Oakaie1; do \n",
    "#for target in Han Ami Dai Atayal Lahu Daur Hezhen Tibetan_ShannanX Tibetan_ChamdoX Miao She Korean Japanese Tujia Naxi Yi; do\n",
    "#for target in Ulchi Oroqen Xibo Uygur Sherpa_ShigatseX Tibetan_ShigatseX Tibetan_LhasaX Tibetan_NagquX Tibetan Sherpa Han_HenanX Han_GansuX Han_XinjiangX Han_HenanX Han_ShandongX Han_JiangsuX Han_AnhuiX Han_SichuanX Han_HubeiX Han_GuangdongX Han_ChongqingX Kinh; do\n",
    "    grep \"f4rank: 0\" ${pd}${name}/UPA19_3.adm.${name}${suffix}_${target}_*_${out}.log | awk '{ if ($8>0.05) print $1,$8}' | cut -d'/' -f9 | cut -d':' -f1,3\n",
    "\n",
    "\n",
    "done"
   ]
  },
  {
   "cell_type": "code",
   "execution_count": null,
   "metadata": {
    "collapsed": true
   },
   "outputs": [],
   "source": []
  }
 ],
 "metadata": {
  "kernelspec": {
   "display_name": "Python 2",
   "language": "python",
   "name": "python2"
  },
  "language_info": {
   "codemirror_mode": {
    "name": "ipython",
    "version": 2
   },
   "file_extension": ".py",
   "mimetype": "text/x-python",
   "name": "python",
   "nbconvert_exporter": "python",
   "pygments_lexer": "ipython2",
   "version": "2.7.13"
  }
 },
 "nbformat": 4,
 "nbformat_minor": 2
}
