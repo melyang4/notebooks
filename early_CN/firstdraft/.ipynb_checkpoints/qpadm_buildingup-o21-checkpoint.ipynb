{
 "cells": [
  {
   "cell_type": "code",
   "execution_count": 3,
   "metadata": {},
   "outputs": [
    {
     "data": {
      "text/plain": [
       "'Made /mnt/solexa/mel_yang/early_CN/firstdraft/qpadm_Laz2017/UPA19_3.o19 file'"
      ]
     },
     "execution_count": 3,
     "metadata": {},
     "output_type": "execute_result"
    }
   ],
   "source": [
    "import fstats_funcs as ff\n",
    "\n",
    "pD=\"/mnt/solexa/mel_yang/early_CN/firstdraft/qpadm_Laz2017/\"\n",
    "\n",
    "base=[\"Mota\",\"UstIshim\",\"Kostenki14\",\"Iran_N\",\n",
    "      \"Yana\",\"Karelia\",\"Okunevo_EMBA\",\"IndusPeriphery\",\n",
    "      \"Natufian\",\"Papuan\",\"Onge\",\"Clovis\", ##no USR\n",
    "      \"Tianyuan\",\"Group1\"] \n",
    "fh=\"UPA19_3\"\n",
    "ff.mklst(pD,fh,\"o19\",base)"
   ]
  },
  {
   "cell_type": "code",
   "execution_count": 8,
   "metadata": {},
   "outputs": [
    {
     "data": {
      "text/plain": [
       "'Made /mnt/solexa/mel_yang/early_CN/firstdraft/qpadm_Laz2017/UPA19_3.o20 file'"
      ]
     },
     "execution_count": 8,
     "metadata": {},
     "output_type": "execute_result"
    }
   ],
   "source": [
    "import fstats_funcs as ff\n",
    "\n",
    "pD=\"/mnt/solexa/mel_yang/early_CN/firstdraft/qpadm_Laz2017/\"\n",
    "\n",
    "base=[\"Mota\",\"UstIshim\",\"Kostenki14\",\"Iran_N\",\n",
    "      \"Yana\",\"Karelia\",\"Okunevo_EMBA\",\"IndusPeriphery\",\n",
    "      \"Natufian\",\"Papuan\",\"Onge\",\"Clovis\", ##no USR\n",
    "      \"Tianyuan\",\"Ma912_G2\",\"JomonM\"] \n",
    "fh=\"UPA19_3\"\n",
    "ff.mklst(pD,fh,\"o20\",base)"
   ]
  },
  {
   "cell_type": "code",
   "execution_count": 9,
   "metadata": {},
   "outputs": [
    {
     "data": {
      "text/plain": [
       "'Made wave PAR file /mnt/solexa/mel_yang/early_CN/firstdraft/qpadm_Laz2017/UPA19_3.wave.o203EAS.par'"
      ]
     },
     "execution_count": 9,
     "metadata": {},
     "output_type": "execute_result"
    }
   ],
   "source": [
    "import fstats_funcs as ff\n",
    "\n",
    "pD=\"/mnt/solexa/mel_yang/data/2.2M/\" \n",
    "outpd=\"/mnt/solexa/mel_yang/early_CN/firstdraft/qpadm_Laz2017/\"\n",
    "\n",
    "fh=\"UPA19_3\"\n",
    "ff.mklst(outpd,fh,\"wave.o203EAS.leftpop\",[\"Kolyma\",\"Qihe\",\"Bbdong\"])\n",
    "ff.parfile(pD,fh,\"wave\",\"o203EAS\",outpd=outpd,outgroup=fh+\".o20\",indfh='UPA19_3.qpadmmerge1')"
   ]
  },
  {
   "cell_type": "code",
   "execution_count": 10,
   "metadata": {},
   "outputs": [
    {
     "data": {
      "text/plain": [
       "'Made /mnt/solexa/mel_yang/early_CN/firstdraft/qpadm_Laz2017/UPA19_3.o20+KQB file'"
      ]
     },
     "execution_count": 10,
     "metadata": {},
     "output_type": "execute_result"
    }
   ],
   "source": [
    "import fstats_funcs as ff\n",
    "\n",
    "pD=\"/mnt/solexa/mel_yang/early_CN/firstdraft/qpadm_Laz2017/\"\n",
    "\n",
    "base=[\"Mota\",\"UstIshim\",\"Kostenki14\",\"Iran_N\",\n",
    "      \"Yana\",\"Karelia\",\"Okunevo_EMBA\",\"IndusPeriphery\",\n",
    "      \"Natufian\",\"Papuan\",\"Onge\",\"Clovis\", ##no USR\n",
    "      \"Tianyuan\",\"Ma912_G2\",\"JomonM\",\"Kolyma\",\"Qihe\",\"Bbdong\"] \n",
    "fh=\"UPA19_3\"\n",
    "ff.mklst(pD,fh,\"o20+KQB\",base)"
   ]
  },
  {
   "cell_type": "markdown",
   "metadata": {},
   "source": [
    "Using o20, we find that Kolyma, Qihe, and Bbdong require three streams of ancestry. We treat them as potential source populations in o20+KQB"
   ]
  },
  {
   "cell_type": "markdown",
   "metadata": {},
   "source": [
    "## Code run\n",
    "\n",
    "Run one source for all ANCASN (B1) and PDASN (PDEASB1).\n",
    "```\n",
    "for i in Samdzong Mebrak ZongriM297 Hejiatai HDYM1 Chokhopani Shamanka_EN LiangDao Man_Bac Suogang Boshan XJS_F Xiaogao LG2 Vt833_G2 Vt880_G2 Nui_Nap Ban_Chiang Oakaie1 MG6 Phl534_G6; do python generalSS.py 20 B1 o20+KQB ${i}; done\n",
    "\n",
    "for i in Han Ami Dai Atayal Lahu Daur Hezhen Tibetan_ShannanX Tibetan_ChamdoX Miao She Korean Japanese Tujia Naxi Yi Kinh ; do python generalSS.py 20 PDEASB1 o20+KQB ${i}; done\n",
    "\n",
    "for i in Sherpa_ShigatseX Tibetan_ShigatseX Tibetan_LhasaX Tibetan_NagquX Ulchi Oroqen Xibo Uygur Tibetan Sherpa Han_HenanX Han_GansuX Han_XinjiangX Han_HenanX Han_ShandongX Han_JiangsuX Han_AnhuiX Han_SichuanX Han_HubeiX Han_GuangdongX Han_ChongqingX; do python generalSS.py 20 PDEASB1 o20+KQB ${i}; done\n",
    "```\n",
    "\n",
    "Mebrak, ZongriM297, Hejiatai, HDYM1, Chokhopani, XJS_F, Xiaogao can all be treated as one source with Bbdong.\n",
    "LiangDao, Suogang (mayeb MG6 and Phl534_G6) are treated as one source with Qihe. \n",
    "LG2 treated as source with Ma912_G2, Vt833_G2 as Ma912_G2 or Qihe, and Vt880_G2 and Ban_Chiang as those two or Bbdong. The highest p is always for Ma912_G2, followed by Qihe. \n",
    "Oakaie1 is always Ma912_G2 or Qihe. \n",
    "\n",
    "python generalDS.py 20 B1 o18+KQB Boshan 0 &\n",
    "\n"
   ]
  },
  {
   "cell_type": "code",
   "execution_count": 16,
   "metadata": {},
   "outputs": [
    {
     "name": "stdout",
     "output_type": "stream",
     "text": [
      "UPA19_3.adm.B1_DS_Samdzong_Bbdong_Tianyuan_o18+KQB.log: 0.0974143095\n",
      "UPA19_3.adm.B1_DS_Samdzong_Kolyma_Clovis_o18+KQB.log: 0.889284418\n",
      "UPA19_3.adm.B1_DS_Samdzong_Onge_Papuan_o18+KQB.log: 0.0770419464\n",
      "UPA19_3.adm.B1_DS_Samdzong_Qihe_Ma912_G2_o18+KQB.log: 0.102230699\n",
      " ~~~~~~~~~~~~~~~~~~~~~~~ \n",
      "UPA19_3.adm.B1_DS_Samdzong_Bbdong_Tianyuan_o18+KQB.log\n",
      "\n",
      "    fixed pat  wt  dof     chisq       tail prob\n",
      "           00  0    13    19.912       0.0974143     0.796     0.204 \n",
      "           01  1    14    36.821     0.000785232     1.000    -0.000 \n",
      "           10  1    14   197.956               0     0.000     1.000 \n",
      "best pat:           00        0.0974143              -  -\n",
      "best pat:           01      0.000785232  chi(nested):    16.908 p-value for nested model:     3.92275e-05\n",
      "\n",
      " ~~~~~~~~~~~~~~~~~~~~~~~ \n",
      "UPA19_3.adm.B1_DS_Samdzong_Kolyma_Clovis_o18+KQB.log\n",
      "\n",
      "    fixed pat  wt  dof     chisq       tail prob\n",
      "           00  0    13     7.241        0.889284     4.835    -3.835  infeasible\n",
      "           01  1    14   176.489     3.33376e-30     1.000    -0.000 \n",
      "           10  1    14   236.031               0     0.000     1.000 \n",
      "best pat:           00                0              -  -\n",
      "best pat:           01      3.33376e-30  chi(nested):   169.247 p-value for nested model:      1.0803e-38\n",
      "\n",
      " ~~~~~~~~~~~~~~~~~~~~~~~ \n",
      "UPA19_3.adm.B1_DS_Samdzong_Onge_Papuan_o18+KQB.log\n",
      "\n",
      "    fixed pat  wt  dof     chisq       tail prob\n",
      "           00  0    13    20.797       0.0770419     9.097    -8.097  infeasible\n",
      "           01  1    14   330.636               0     1.000    -0.000 \n",
      "           10  1    14   433.480               0     0.000     1.000 \n",
      "best pat:           00                0              -  -\n",
      "best pat:           01      4.69658e-62  chi(nested):   309.839 p-value for nested model:     2.36717e-69\n",
      "\n",
      " ~~~~~~~~~~~~~~~~~~~~~~~ \n",
      "UPA19_3.adm.B1_DS_Samdzong_Qihe_Ma912_G2_o18+KQB.log\n",
      "\n",
      "    fixed pat  wt  dof     chisq       tail prob\n",
      "           00  0    13    19.727        0.102231     3.240    -2.240  infeasible\n",
      "           01  1    14    34.875      0.00153412     1.000    -0.000 \n",
      "           10  1    14    40.070     0.000248754     0.000     1.000 \n",
      "best pat:           00                0              -  -\n",
      "best pat:           01       0.00153412  chi(nested):    15.148 p-value for nested model:      9.9421e-05\n",
      "\n"
     ]
    }
   ],
   "source": [
    "%%bash\n",
    "pd=\"/mnt/solexa/mel_yang/early_CN/firstdraft/qpadm_Laz2017/\"\n",
    "name=\"PDEAS\" #\n",
    "name=\"B1\" #\n",
    "target=\"Samdzong\"\n",
    "suffix=\"_DS\"\n",
    "out=\"o18+KQB\"\n",
    "for target in ${target}; do \n",
    "    grep \"f4rank: 1\" ${pd}${name}/UPA19_3.adm.${name}${suffix}_${target}_*_${out}.log | awk '{ if ($8>0.05) print $1,$8}' | cut -d'/' -f9 | cut -d':' -f1,3\n",
    "    myfile=$(grep \"f4rank: 1\" ${pd}${name}/UPA19_3.adm.${name}${suffix}_${target}_*_${out}.log | awk '{ if ($8>0.05) print $1,$8}' | cut -d'/' -f9 | cut -d':' -f1)\n",
    "    for i in ${myfile}; do \n",
    "        echo \" ~~~~~~~~~~~~~~~~~~~~~~~ \"\n",
    "        echo ${i}\n",
    "        tail -n176 ${pd}${name}/${i} | head -n8\n",
    "        done\n",
    "    done"
   ]
  },
  {
   "cell_type": "code",
   "execution_count": 15,
   "metadata": {},
   "outputs": [
    {
     "name": "stdout",
     "output_type": "stream",
     "text": [
      " ~~~~~~~~~~~~~~~~~~~~~~~ \n",
      "f4rank\n"
     ]
    },
    {
     "name": "stderr",
     "output_type": "stream",
     "text": [
      "tail: cannot open `/mnt/solexa/mel_yang/early_CN/firstdraft/qpadm_Laz2017/B1/f4rank' for reading: No such file or directory\n"
     ]
    }
   ],
   "source": [
    "%%bash\n",
    "pd=\"/mnt/solexa/mel_yang/early_CN/firstdraft/qpadm_Laz2017/\"\n",
    "name=\"PDEAS\" #\n",
    "name=\"B1\" #\n",
    "target=\"Shamanka_EN_Bbdong_Kolyma\"\n",
    "suffix=\"_DS\"\n",
    "out=\"o18+KQB\"\n",
    "for target in ${target}; do \n",
    "    grep \"f4rank: 1\" ${pd}${name}/UPA19_3.adm.${name}${suffix}_${target}_*${out}.log | awk '{ if ($8>0.05) print $1,$8}' | cut -d'/' -f9 | cut -d':' -f1,3\n",
    "    myfile=$(grep \"f4rank: 1\" ${pd}${name}/UPA19_3.adm.${name}${suffix}_${target}_*${out}.log | awk '{ print $1,$8}' | cut -d'/' -f9 | cut -d':' -f1)\n",
    "    for i in ${myfile}; do \n",
    "        echo \" ~~~~~~~~~~~~~~~~~~~~~~~ \"\n",
    "        echo ${i}\n",
    "        tail -n176 ${pd}${name}/${i} | head -n8\n",
    "        done\n",
    "    done"
   ]
  },
  {
   "cell_type": "code",
   "execution_count": null,
   "metadata": {
    "collapsed": true
   },
   "outputs": [],
   "source": []
  }
 ],
 "metadata": {
  "kernelspec": {
   "display_name": "Python 2",
   "language": "python",
   "name": "python2"
  },
  "language_info": {
   "codemirror_mode": {
    "name": "ipython",
    "version": 2
   },
   "file_extension": ".py",
   "mimetype": "text/x-python",
   "name": "python",
   "nbconvert_exporter": "python",
   "pygments_lexer": "ipython2",
   "version": "2.7.13"
  }
 },
 "nbformat": 4,
 "nbformat_minor": 2
}
