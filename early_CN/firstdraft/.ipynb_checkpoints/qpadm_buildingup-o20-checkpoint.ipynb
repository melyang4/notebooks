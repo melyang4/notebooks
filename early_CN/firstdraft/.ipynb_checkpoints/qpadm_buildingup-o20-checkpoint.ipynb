{
 "cells": [
  {
   "cell_type": "code",
   "execution_count": 1,
   "metadata": {},
   "outputs": [
    {
     "data": {
      "text/plain": [
       "'Made /mnt/solexa/mel_yang/early_CN/firstdraft/qpadm_Laz2017/UPA19_3.o18 file'"
      ]
     },
     "execution_count": 1,
     "metadata": {},
     "output_type": "execute_result"
    }
   ],
   "source": [
    "import fstats_funcs as ff\n",
    "\n",
    "pD=\"/mnt/solexa/mel_yang/early_CN/firstdraft/qpadm_Laz2017/\"\n",
    "\n",
    "base=[\"Mota\",\"UstIshim\",\"Kostenki14\",\"Iran_N\",\n",
    "      \"Yana\",\"Karelia\",\"Okunevo_EMBA\",\"IndusPeriphery\",\n",
    "      \"Natufian\",\"Papuan\",\"Onge\",\"Clovis\", ##no USR\n",
    "      \"Tianyuan\",\"Ma912_G2\"] \n",
    "fh=\"UPA19_3\"\n",
    "ff.mklst(pD,fh,\"o18\",base)"
   ]
  },
  {
   "cell_type": "code",
   "execution_count": null,
   "metadata": {
    "collapsed": true
   },
   "outputs": [],
   "source": [
    "import fstats_funcs as ff\n",
    "\n",
    "pD=\"/mnt/solexa/mel_yang/data/2.2M/\" \n",
    "outpd=\"/mnt/solexa/mel_yang/early_CN/firstdraft/qpadm_Laz2017/\"\n",
    "\n",
    "fh=\"UPA19_3\"\n",
    "ff.mklst(outpd,fh,\"wave.o183EAS.leftpop\",[\"Kolyma\",\"Qihe\",\"Bbdong\"])\n",
    "ff.parfile(pD,fh,\"wave\",\"o183EAS\",outpd=outpd,outgroup=fh+\".o18\",indfh='UPA19_3.qpadmmerge1')"
   ]
  },
  {
   "cell_type": "markdown",
   "metadata": {},
   "source": [
    "Using o18, we find that Kolyma, Qihe, and Bbdong require three streams of ancestry. We treat them as potential source populations in o18+KQB"
   ]
  },
  {
   "cell_type": "code",
   "execution_count": null,
   "metadata": {
    "collapsed": true
   },
   "outputs": [],
   "source": [
    "import fstats_funcs as ff\n",
    "\n",
    "pD=\"/mnt/solexa/mel_yang/early_CN/firstdraft/qpadm_Laz2017/\"\n",
    "\n",
    "base=[\"Mota\",\"UstIshim\",\"Kostenki14\",\"Iran_N\",\n",
    "      \"Yana\",\"Karelia\",\"Okunevo_EMBA\",\"IndusPeriphery\",\n",
    "      \"Natufian\",\"Papuan\",\"Onge\",\"Clovis\", ##no USR\n",
    "      \"Tianyuan\",\"Ma912_G2\",\"Kolyma\",\"Qihe\",\"Bbdong\"] \n",
    "fh=\"UPA19_3\"\n",
    "ff.mklst(pD,fh,\"o18+KQB\",base)"
   ]
  },
  {
   "cell_type": "markdown",
   "metadata": {},
   "source": [
    "## Code run\n",
    "\n",
    "Run one source for all ANCASN (B1) and PDASN (PDEASB1).\n",
    "```\n",
    "for i in Samdzong Mebrak ZongriM297 Hejiatai HDYM1 Chokhopani JomonM Shamanka_EN LiangDao Man_Bac Suogang Boshan XJS_F Xiaogao LG2 Vt833_G2 Vt880_G2 Nui_Nap Ban_Chiang Oakaie1; do python generalSS.py 20 B1 o18+KQB ${i}; done\n",
    "\n",
    "for i in MG6 Phl534_G6; do python generalSS.py 20 B1 o18+KQB ${i}; done\n",
    "\n",
    "for i in Han Ami Dai Atayal Lahu Daur Hezhen Tibetan_ShannanX Tibetan_ChamdoX Miao She Korean Japanese Tujia Naxi Yi Kinh ; do python generalSS.py 20 PDEASB1 o18+KQB ${i}; done\n",
    "\n",
    "for i in Sherpa_ShigatseX Tibetan_ShigatseX Tibetan_LhasaX Tibetan_NagquX Ulchi Oroqen Xibo Uygur Tibetan Sherpa Han_HenanX Han_GansuX Han_XinjiangX Han_HenanX Han_ShandongX Han_JiangsuX Han_AnhuiX Han_SichuanX Han_HubeiX Han_GuangdongX Han_ChongqingX; do python generalSS.py 20 PDEASB1 o18+KQB ${i}; done\n",
    "```\n",
    "\n",
    "Mebrak, ZongriM297, Hejiatai, HDYM1, Chokhopani, XJS_F, Xiaogao can all be treated as one source with Bbdong.\n",
    "LiangDao, Suogang (mayeb MG6 and Phl534_G6) are treated as one source with Qihe. \n",
    "LG2 treated as source with Ma912_G2, Vt833_G2 as Ma912_G2 or Qihe, and Vt880_G2 and Ban_Chiang as those two or Bbdong. The highest p is always for Ma912_G2, followed by Qihe. \n",
    "Oakaie1 is always Ma912_G2 or Qihe. \n",
    "\n",
    "python generalDS.py 20 B1 o18+KQB Boshan 0 &\n",
    "\n"
   ]
  },
  {
   "cell_type": "code",
   "execution_count": null,
   "metadata": {
    "collapsed": true
   },
   "outputs": [],
   "source": []
  },
  {
   "cell_type": "code",
   "execution_count": null,
   "metadata": {
    "collapsed": true
   },
   "outputs": [],
   "source": []
  }
 ],
 "metadata": {
  "kernelspec": {
   "display_name": "Python 2",
   "language": "python",
   "name": "python2"
  },
  "language_info": {
   "codemirror_mode": {
    "name": "ipython",
    "version": 2
   },
   "file_extension": ".py",
   "mimetype": "text/x-python",
   "name": "python",
   "nbconvert_exporter": "python",
   "pygments_lexer": "ipython2",
   "version": "2.7.13"
  }
 },
 "nbformat": 4,
 "nbformat_minor": 2
}
