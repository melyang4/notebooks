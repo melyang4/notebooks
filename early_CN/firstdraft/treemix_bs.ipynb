{
 "cells": [
  {
   "cell_type": "code",
   "execution_count": null,
   "metadata": {
    "collapsed": true
   },
   "outputs": [],
   "source": []
  },
  {
   "cell_type": "code",
   "execution_count": null,
   "metadata": {
    "collapsed": true
   },
   "outputs": [],
   "source": [
    "%%writefile /mnt/solexa/mel_yang/early_CN/treemix/maketreemixgraphALL_B.sh\n",
    "pd=\"/mnt/solexa/mel_yang/early_CN/treemix/\"\n",
    "tv=\"\"\n",
    "fh=\"UPA19_3\"\n",
    "k=\"500\"\n",
    "myk=\"_k\"${k}\n",
    "for j in 29; do #`seq 0 5`; do\n",
    "    subset=\"ALL_B\"${j}\n",
    "    echo ${j}\n",
    "    gzip ${pd}${fh}.${subset}.treemix.txt\n",
    "    for i in `seq 0 5`; do \n",
    "        treemix -i ${pd}${fh}.${subset}.treemix.txt.gz -root Mbuti -o ${pd}${tv}${subset}_m${i}${myk} -k ${k} -m ${i} > \\\n",
    "            ${pd}${tv}${subset}_m${i}${myk}.log\n",
    "    done\n",
    "done\n"
   ]
  },
  {
   "cell_type": "code",
   "execution_count": null,
   "metadata": {
    "collapsed": true
   },
   "outputs": [],
   "source": []
  },
  {
   "cell_type": "code",
   "execution_count": 8,
   "metadata": {},
   "outputs": [
    {
     "name": "stdout",
     "output_type": "stream",
     "text": [
      "Writing /mnt/solexa/mel_yang/early_CN/treemix/bootstrap.EN_ALL_B28_m3.sh\n"
     ]
    }
   ],
   "source": [
    "%%writefile /mnt/solexa/mel_yang/early_CN/treemix/bootstrap.EN_ALL_B28_m3.sh\n",
    "##BOOTSTRAP\n",
    "pd=\"/mnt/solexa/mel_yang/early_CN/treemix/\"\n",
    "#tv=\"transv.\"\n",
    "tv=\"\"\n",
    "fh=\"UPA19_3\"\n",
    "subset=\"ALL_B28\"\n",
    "mig=3\n",
    "reps=1000\n",
    "newdir=${tv}${subset}_m${mig}_reps/\n",
    "\n",
    "mkdir ${pd}${newdir}\n",
    "myk=500\n",
    "for rep in `seq 1 ${reps}`; do\n",
    "    #echo ${rep}\n",
    "    treemix -i ${pd}${fh}.${subset}.treemix.txt.gz -root Mbuti -bootstrap -k ${myk} -q -o ${pd}${newdir}${tv}${subset}_m${mig}_k${myk}_rep${rep} -m ${mig} > \\\n",
    "            ${pd}${newdir}${tv}${subset}_m${mig}_k${myk}_rep${rep}.log\n",
    "done"
   ]
  },
  {
   "cell_type": "code",
   "execution_count": null,
   "metadata": {
    "collapsed": true
   },
   "outputs": [],
   "source": []
  }
 ],
 "metadata": {
  "kernelspec": {
   "display_name": "Python 2",
   "language": "python",
   "name": "python2"
  },
  "language_info": {
   "codemirror_mode": {
    "name": "ipython",
    "version": 2
   },
   "file_extension": ".py",
   "mimetype": "text/x-python",
   "name": "python",
   "nbconvert_exporter": "python",
   "pygments_lexer": "ipython2",
   "version": "2.7.13"
  }
 },
 "nbformat": 4,
 "nbformat_minor": 2
}
