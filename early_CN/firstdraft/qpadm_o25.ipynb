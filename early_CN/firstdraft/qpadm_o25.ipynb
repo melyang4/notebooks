{
 "cells": [
  {
   "cell_type": "code",
   "execution_count": null,
   "metadata": {
    "collapsed": true
   },
   "outputs": [],
   "source": [
    "import fstats_funcs as ff\n",
    "\n",
    "pD=\"/mnt/solexa/mel_yang/early_CN/firstdraft/qpadm_Laz2017/\"\n",
    "\n",
    "base=[\"Mota\",\"UstIshim\",\"Kostenki14\",\"Iran_N\",\n",
    "      \"Yana\",\"Karelia\",\"Okunevo_EMBA\",\"IndusPeriphery\",\n",
    "      \"Natufian\",\"Papuan\",\"Onge\",\"Clovis\", ##no USR\n",
    "      \"Tianyuan\",\"Group1\",\"Kolyma\"] \n",
    "fh=\"UPA19_3\"\n",
    "ff.mklst(pD,fh,\"o25\",base)"
   ]
  },
  {
   "cell_type": "code",
   "execution_count": 12,
   "metadata": {},
   "outputs": [
    {
     "data": {
      "text/plain": [
       "'Made /mnt/solexa/mel_yang/early_CN/firstdraft/qpadm_Laz2017/UPA19_3.o25+Q file'"
      ]
     },
     "execution_count": 12,
     "metadata": {},
     "output_type": "execute_result"
    }
   ],
   "source": [
    "import fstats_funcs as ff\n",
    "\n",
    "pD=\"/mnt/solexa/mel_yang/early_CN/firstdraft/qpadm_Laz2017/\"\n",
    "\n",
    "base=[\"Mota\",\"UstIshim\",\"Kostenki14\",\"Iran_N\",\n",
    "      \"Yana\",\"Karelia\",\"Okunevo_EMBA\",\"IndusPeriphery\",\n",
    "      \"Natufian\",\"Papuan\",\"Onge\",\"Clovis\", ##no USR\n",
    "      \"Tianyuan\",\"Group1\",\"Kolyma\",\"Qihe\"] \n",
    "fh=\"UPA19_3\"\n",
    "ff.mklst(pD,fh,\"o25+Q\",base)"
   ]
  },
  {
   "cell_type": "code",
   "execution_count": 9,
   "metadata": {},
   "outputs": [
    {
     "data": {
      "text/plain": [
       "'Made wave PAR file /mnt/solexa/mel_yang/early_CN/firstdraft/qpadm_Laz2017/UPA19_3.wave.o252aEAS.par'"
      ]
     },
     "execution_count": 9,
     "metadata": {},
     "output_type": "execute_result"
    }
   ],
   "source": [
    "import fstats_funcs as ff\n",
    "##0.12\n",
    "pD=\"/mnt/solexa/mel_yang/data/2.2M/\" \n",
    "outpd=\"/mnt/solexa/mel_yang/early_CN/firstdraft/qpadm_Laz2017/\"\n",
    "\n",
    "fh=\"UPA19_3\"\n",
    "ff.mklst(outpd,fh,\"wave.o252aEAS.leftpop\",[\"Qihe\",\"Bbdong\"])\n",
    "ff.parfile(pD,fh,\"wave\",\"o252aEAS\",outpd=outpd,outgroup=fh+\".o25\",indfh='UPA19_3.qpadmmerge1')"
   ]
  },
  {
   "cell_type": "code",
   "execution_count": 10,
   "metadata": {},
   "outputs": [
    {
     "data": {
      "text/plain": [
       "'Made wave PAR file /mnt/solexa/mel_yang/early_CN/firstdraft/qpadm_Laz2017/UPA19_3.wave.o252bEAS.par'"
      ]
     },
     "execution_count": 10,
     "metadata": {},
     "output_type": "execute_result"
    }
   ],
   "source": [
    "import fstats_funcs as ff\n",
    "##6e-6\n",
    "pD=\"/mnt/solexa/mel_yang/data/2.2M/\" \n",
    "outpd=\"/mnt/solexa/mel_yang/early_CN/firstdraft/qpadm_Laz2017/\"\n",
    "\n",
    "fh=\"UPA19_3\"\n",
    "ff.mklst(outpd,fh,\"wave.o252bEAS.leftpop\",[\"Qihe\",\"HDYM1\"])\n",
    "ff.parfile(pD,fh,\"wave\",\"o252bEAS\",outpd=outpd,outgroup=fh+\".o25\",indfh='UPA19_3.qpadmmerge1')"
   ]
  },
  {
   "cell_type": "code",
   "execution_count": 11,
   "metadata": {},
   "outputs": [
    {
     "data": {
      "text/plain": [
       "'Made wave PAR file /mnt/solexa/mel_yang/early_CN/firstdraft/qpadm_Laz2017/UPA19_3.wave.o252cEAS.par'"
      ]
     },
     "execution_count": 11,
     "metadata": {},
     "output_type": "execute_result"
    }
   ],
   "source": [
    "import fstats_funcs as ff\n",
    "##0.186\n",
    "pD=\"/mnt/solexa/mel_yang/data/2.2M/\" \n",
    "outpd=\"/mnt/solexa/mel_yang/early_CN/firstdraft/qpadm_Laz2017/\"\n",
    "\n",
    "fh=\"UPA19_3\"\n",
    "ff.mklst(outpd,fh,\"wave.o252cEAS.leftpop\",[\"Bbdong\",\"HDYM1\"])\n",
    "ff.parfile(pD,fh,\"wave\",\"o252cEAS\",outpd=outpd,outgroup=fh+\".o25\",indfh='UPA19_3.qpadmmerge1')"
   ]
  },
  {
   "cell_type": "code",
   "execution_count": 16,
   "metadata": {},
   "outputs": [
    {
     "data": {
      "text/plain": [
       "'Made /mnt/solexa/mel_yang/early_CN/firstdraft/qpadm_Laz2017/UPA19_3.o25+QH file'"
      ]
     },
     "execution_count": 16,
     "metadata": {},
     "output_type": "execute_result"
    }
   ],
   "source": [
    "import fstats_funcs as ff\n",
    "\n",
    "pD=\"/mnt/solexa/mel_yang/early_CN/firstdraft/qpadm_Laz2017/\"\n",
    "\n",
    "base=[\"Mota\",\"UstIshim\",\"Kostenki14\",\"Iran_N\",\n",
    "      \"Yana\",\"Karelia\",\"Okunevo_EMBA\",\"IndusPeriphery\",\n",
    "      \"Natufian\",\"Papuan\",\"Onge\",\"Clovis\", ##no USR\n",
    "      \"Tianyuan\",\"Group1\",\"Kolyma\",\"Qihe\",\"HDYM1\"] \n",
    "fh=\"UPA19_3\"\n",
    "ff.mklst(pD,fh,\"o25+QH\",base)"
   ]
  },
  {
   "cell_type": "markdown",
   "metadata": {},
   "source": [
    "for i in Bbdong; do python generalSS.py 20 C1 o25+QH ${i}; done\n",
    "\n",
    "Because Bbdong is always one source with HDYM1 or Qihe, treat Bbdong as potential target of HDYM1 and Qihe. "
   ]
  },
  {
   "cell_type": "code",
   "execution_count": 18,
   "metadata": {},
   "outputs": [
    {
     "name": "stdout",
     "output_type": "stream",
     "text": [
      "UPA19_3.adm.C1_SS_Bbdong_HDYM1_o25+QH.log: 0.238537078\n"
     ]
    }
   ],
   "source": [
    "%%bash\n",
    "pd=\"/mnt/solexa/mel_yang/early_CN/firstdraft/qpadm_Laz2017/\"\n",
    "name=\"A1\" #\n",
    "name=\"C1\"\n",
    "suffix=\"_SS\"\n",
    "out=\"o25+QH\"\n",
    "ancset1=\"Hejiatai Shamanka_EN LiangDao Man_Bac Suogang Boshan XJS_F Xiaogao Ma912_G2 Vt833_G2 Vt880_G2\"\n",
    "ancset2=\"Hejiatai Shamanka_EN Qihe Man_Bac Suogang Boshan XJS_F Xiaogao Ma912_G2 Vt833_G2 Vt880_G2\"\n",
    "ancset9=\"Samdzong Mebrak ZongriM297 Hejiatai Shamanka_EN Qihe Man_Bac Suogang Boshan XJS_F Xiaogao LG2 Vt833_G2 Vt880_G2\"\n",
    "ancset10=\"Samdzong Mebrak ZongriM297 Hejiatai Shamanka_EN Qihe Man_Bac Suogang Boshan XJS_F Xiaogao Ma912_G2 Vt833_G2 Vt880_G2\"\n",
    "pdeas=\"Ulchi Oroqen Xibo Uygur Sherpa_ShigatseX Tibetan_ShigatseX Tibetan_LhasaX Tibetan_NagquX Tibetan Sherpa Han_HenanX Han_GansuX Han_XinjiangX Han_HenanX Han_ShandongX Han_JiangsuX Han_AnhuiX Han_SichuanX Han_HubeiX Han_GuangdongX Han_ChongqingX Kinh\"\n",
    "#for target in Qihe MG6 Samdzong Mebrak ZongriM297 Hejiatai Chokhopani JomonM HDYM1 Man_Bac Suogang Boshan XJS_F Xiaogao LG2 Ma912_G2 Vt833_G2 Vt880_G2 Nui_Nap Ban_Chiang Oakaie1; do \n",
    "#for target in Han Ami Dai Atayal Lahu Daur Hezhen Tibetan_ShannanX Tibetan_ChamdoX Miao She Korean Japanese Tujia Naxi Yi; do\n",
    "for target in Bbdong; do\n",
    "    grep \"f4rank: 0\" ${pd}${name}/UPA19_3.adm.${name}${suffix}_${target}_*_${out}.log | awk '{ if ($8>0.05) print $1,$8}' | cut -d'/' -f9 | cut -d':' -f1,3\n",
    "\n",
    "\n",
    "done"
   ]
  },
  {
   "cell_type": "code",
   "execution_count": null,
   "metadata": {
    "collapsed": true
   },
   "outputs": [],
   "source": []
  },
  {
   "cell_type": "code",
   "execution_count": null,
   "metadata": {
    "collapsed": true
   },
   "outputs": [],
   "source": []
  },
  {
   "cell_type": "code",
   "execution_count": null,
   "metadata": {
    "collapsed": true
   },
   "outputs": [],
   "source": []
  },
  {
   "cell_type": "code",
   "execution_count": 14,
   "metadata": {},
   "outputs": [
    {
     "data": {
      "text/plain": [
       "'Made wave PAR file /mnt/solexa/mel_yang/early_CN/firstdraft/qpadm_Laz2017/UPA19_3.wave.o25+Q2cEAS.par'"
      ]
     },
     "execution_count": 14,
     "metadata": {},
     "output_type": "execute_result"
    }
   ],
   "source": [
    "import fstats_funcs as ff\n",
    "\n",
    "pD=\"/mnt/solexa/mel_yang/data/2.2M/\" \n",
    "outpd=\"/mnt/solexa/mel_yang/early_CN/firstdraft/qpadm_Laz2017/\"\n",
    "\n",
    "fh=\"UPA19_3\"\n",
    "ff.mklst(outpd,fh,\"wave.o25+Q2cEAS.leftpop\",[\"Bbdong\",\"HDYM1\"])\n",
    "ff.parfile(pD,fh,\"wave\",\"o25+Q2cEAS\",outpd=outpd,outgroup=fh+\".o25+Q\",indfh='UPA19_3.qpadmmerge1')"
   ]
  },
  {
   "cell_type": "code",
   "execution_count": null,
   "metadata": {
    "collapsed": true
   },
   "outputs": [],
   "source": []
  },
  {
   "cell_type": "code",
   "execution_count": 4,
   "metadata": {},
   "outputs": [
    {
     "data": {
      "text/plain": [
       "'Made wave PAR file /mnt/solexa/mel_yang/early_CN/firstdraft/qpadm_Laz2017/UPA19_3.wave.o253cEAS.par'"
      ]
     },
     "execution_count": 4,
     "metadata": {},
     "output_type": "execute_result"
    }
   ],
   "source": [
    "import fstats_funcs as ff\n",
    "\n",
    "pD=\"/mnt/solexa/mel_yang/data/2.2M/\" \n",
    "outpd=\"/mnt/solexa/mel_yang/early_CN/firstdraft/qpadm_Laz2017/\"\n",
    "\n",
    "fh=\"UPA19_3\"\n",
    "ff.mklst(outpd,fh,\"wave.o253cEAS.leftpop\",[\"LiangDao\",\"Bbdong\",\"Shamanka_EN\"])\n",
    "ff.parfile(pD,fh,\"wave\",\"o253cEAS\",outpd=outpd,outgroup=fh+\".o25\",indfh='UPA19_3.qpadmmerge1')"
   ]
  },
  {
   "cell_type": "code",
   "execution_count": 2,
   "metadata": {},
   "outputs": [
    {
     "data": {
      "text/plain": [
       "'Made wave PAR file /mnt/solexa/mel_yang/early_CN/firstdraft/qpadm_Laz2017/UPA19_3.wave.o253dEAS.par'"
      ]
     },
     "execution_count": 2,
     "metadata": {},
     "output_type": "execute_result"
    }
   ],
   "source": [
    "import fstats_funcs as ff\n",
    "\n",
    "pD=\"/mnt/solexa/mel_yang/data/2.2M/\" \n",
    "outpd=\"/mnt/solexa/mel_yang/early_CN/firstdraft/qpadm_Laz2017/\"\n",
    "\n",
    "fh=\"UPA19_3\"\n",
    "ff.mklst(outpd,fh,\"wave.o253dEAS.leftpop\",[\"LiangDao\",\"Bbdong\",\"HDYM1\"])\n",
    "ff.parfile(pD,fh,\"wave\",\"o253dEAS\",outpd=outpd,outgroup=fh+\".o25\",indfh='UPA19_3.qpadmmerge1')"
   ]
  },
  {
   "cell_type": "code",
   "execution_count": 1,
   "metadata": {},
   "outputs": [
    {
     "data": {
      "text/plain": [
       "'Made wave PAR file /mnt/solexa/mel_yang/early_CN/firstdraft/qpadm_Laz2017/UPA19_3.wave.o253eEAS.par'"
      ]
     },
     "execution_count": 1,
     "metadata": {},
     "output_type": "execute_result"
    }
   ],
   "source": [
    "import fstats_funcs as ff\n",
    "\n",
    "pD=\"/mnt/solexa/mel_yang/data/2.2M/\" \n",
    "outpd=\"/mnt/solexa/mel_yang/early_CN/firstdraft/qpadm_Laz2017/\"\n",
    "\n",
    "fh=\"UPA19_3\"\n",
    "ff.mklst(outpd,fh,\"wave.o253eEAS.leftpop\",[\"Qihe\",\"Bbdong\",\"HDYM1\"])\n",
    "ff.parfile(pD,fh,\"wave\",\"o253eEAS\",outpd=outpd,outgroup=fh+\".o25\",indfh='UPA19_3.qpadmmerge1')"
   ]
  },
  {
   "cell_type": "code",
   "execution_count": 5,
   "metadata": {},
   "outputs": [
    {
     "data": {
      "text/plain": [
       "'Made /mnt/solexa/mel_yang/early_CN/firstdraft/qpadm_Laz2017/UPA19_3.o25+LBS file'"
      ]
     },
     "execution_count": 5,
     "metadata": {},
     "output_type": "execute_result"
    }
   ],
   "source": [
    "import fstats_funcs as ff\n",
    "\n",
    "pD=\"/mnt/solexa/mel_yang/early_CN/firstdraft/qpadm_Laz2017/\"\n",
    "\n",
    "base=[\"Mota\",\"UstIshim\",\"Kostenki14\",\"Iran_N\",\n",
    "      \"Yana\",\"Karelia\",\"Okunevo_EMBA\",\"IndusPeriphery\",\n",
    "      \"Natufian\",\"Papuan\",\"Onge\",\"Clovis\", ##no USR\n",
    "      \"Tianyuan\",\"Group1\",\"Kolyma\",\"LiangDao\",\"Bbdong\",\"Shamanka_EN\"] \n",
    "fh=\"UPA19_3\"\n",
    "ff.mklst(pD,fh,\"o25+LBS\",base)"
   ]
  },
  {
   "cell_type": "code",
   "execution_count": 8,
   "metadata": {},
   "outputs": [
    {
     "data": {
      "text/plain": [
       "'Made /mnt/solexa/mel_yang/early_CN/firstdraft/qpadm_Laz2017/UPA19_3.o25+LBH file'"
      ]
     },
     "execution_count": 8,
     "metadata": {},
     "output_type": "execute_result"
    }
   ],
   "source": [
    "import fstats_funcs as ff\n",
    "\n",
    "pD=\"/mnt/solexa/mel_yang/early_CN/firstdraft/qpadm_Laz2017/\"\n",
    "\n",
    "base=[\"Mota\",\"UstIshim\",\"Kostenki14\",\"Iran_N\",\n",
    "      \"Yana\",\"Karelia\",\"Okunevo_EMBA\",\"IndusPeriphery\",\n",
    "      \"Natufian\",\"Papuan\",\"Onge\",\"Clovis\", ##no USR\n",
    "      \"Tianyuan\",\"Group1\",\"Kolyma\",\"LiangDao\",\"Bbdong\",\"HDYM1\"] \n",
    "fh=\"UPA19_3\"\n",
    "ff.mklst(pD,fh,\"o25+LBH\",base)"
   ]
  },
  {
   "cell_type": "code",
   "execution_count": 3,
   "metadata": {},
   "outputs": [
    {
     "data": {
      "text/plain": [
       "'Made /mnt/solexa/mel_yang/early_CN/firstdraft/qpadm_Laz2017/UPA19_3.o25+QBH file'"
      ]
     },
     "execution_count": 3,
     "metadata": {},
     "output_type": "execute_result"
    }
   ],
   "source": [
    "import fstats_funcs as ff\n",
    "\n",
    "pD=\"/mnt/solexa/mel_yang/early_CN/firstdraft/qpadm_Laz2017/\"\n",
    "\n",
    "base=[\"Mota\",\"UstIshim\",\"Kostenki14\",\"Iran_N\",\n",
    "      \"Yana\",\"Karelia\",\"Okunevo_EMBA\",\"IndusPeriphery\",\n",
    "      \"Natufian\",\"Papuan\",\"Onge\",\"Clovis\", ##no USR\n",
    "      \"Tianyuan\",\"Group1\",\"Kolyma\",\"Qihe\",\"Bbdong\",\"HDYM1\"] \n",
    "fh=\"UPA19_3\"\n",
    "ff.mklst(pD,fh,\"o25+QBH\",base)"
   ]
  },
  {
   "cell_type": "code",
   "execution_count": 1,
   "metadata": {},
   "outputs": [
    {
     "data": {
      "text/plain": [
       "'Made /mnt/solexa/mel_yang/early_CN/firstdraft/qpadm_Laz2017/UPA19_3.o25+LH file'"
      ]
     },
     "execution_count": 1,
     "metadata": {},
     "output_type": "execute_result"
    }
   ],
   "source": [
    "import fstats_funcs as ff\n",
    "\n",
    "pD=\"/mnt/solexa/mel_yang/early_CN/firstdraft/qpadm_Laz2017/\"\n",
    "\n",
    "base=[\"Mota\",\"UstIshim\",\"Kostenki14\",\"Iran_N\",\n",
    "      \"Yana\",\"Karelia\",\"Okunevo_EMBA\",\"IndusPeriphery\",\n",
    "      \"Natufian\",\"Papuan\",\"Onge\",\"Clovis\", ##no USR\n",
    "      \"Tianyuan\",\"Group1\",\"Kolyma\",\"LiangDao\",\"HDYM1\"] \n",
    "fh=\"UPA19_3\"\n",
    "ff.mklst(pD,fh,\"o25+LH\",base)"
   ]
  },
  {
   "cell_type": "code",
   "execution_count": null,
   "metadata": {
    "collapsed": true
   },
   "outputs": [],
   "source": []
  },
  {
   "cell_type": "code",
   "execution_count": null,
   "metadata": {
    "collapsed": true
   },
   "outputs": [],
   "source": []
  },
  {
   "cell_type": "markdown",
   "metadata": {},
   "source": [
    "for i in Shamanka_EN Samdzong Mebrak ZongriM297 Hejiatai Chokhopani; do python generalSS.py 20 C1 o25+LH ${i}; done\n",
    "\n",
    "for i in Qihe MG6 Man_Bac Suogang JomonM; do python generalSS.py 20 C1 o25+LH ${i}; done\n",
    "\n",
    "for i in Bbdong Boshan XJS_F Xiaogao LG2; do python generalSS.py 20 C1 o25+LH ${i}; done\n",
    "\n",
    "for i in Vt833_G2 Vt880_G2 Nui_Nap Ban_Chiang Oakaie1; do python generalSS.py 20 C1 o25+LH ${i}; done"
   ]
  },
  {
   "cell_type": "code",
   "execution_count": null,
   "metadata": {
    "collapsed": true
   },
   "outputs": [],
   "source": [
    "for i in Shamanka_EN Samdzong Mebrak ZongriM297 Hejiatai Chokhopani; do python generalSS.py 20 C1 o25+LH ${i}; done\n",
    "\n",
    "for i in Qihe MG6 Man_Bac Suogang JomonM; do python generalSS.py 20 C1 o25+LH ${i}; done\n",
    "\n",
    "for i in Bbdong Boshan XJS_F Xiaogao LG2; do python generalSS.py 20 C1 o25+LH ${i}; done\n",
    "\n",
    "for i in Vt833_G2 Vt880_G2 Nui_Nap Ban_Chiang Oakaie1; do python generalSS.py 20 C1 o25+LH ${i}; done\n",
    "\n",
    "UPA19_3.o25+LBS\n",
    "\n",
    "for i in Shamanka_EN Samdzong Mebrak ZongriM297 Hejiatai Chokhopani LiangDao MG6 Man_Bac Suogang JomonM Boshan XJS_F Xiaogao LG2 Ma912_G2 Vt833_G2 Vt880_G2 Nui_Nap Ban_Chiang Oakaie1; do python generalSS.py 20 C1 o25+QBH ${i}; done\n",
    "for i in Ma912_G2; do python generalSS.py 20 C1 o25+QBH ${i}; done\n",
    "\n",
    "for i in Han Ami Dai Atayal Lahu Daur Hezhen Tibetan_ShannanX Tibetan_ChamdoX Miao She Korean Japanese Tujia Naxi Yi Kinh; do python generalSS.py 20 C1 o25+QBH ${i}; done\n",
    "\n",
    "for i in Sherpa_ShigatseX Tibetan_ShigatseX Tibetan_LhasaX Tibetan_NagquX Ulchi Oroqen Xibo Uygur Tibetan Sherpa Han_HenanX Han_GansuX Han_XinjiangX Han_ShandongX Han_JiangsuX Han_AnhuiX Han_SichuanX Han_HubeiX Han_GuangdongX Han_ChongqingX; do python generalSS.py 20 C1 o25+QBH ${i}; done\n",
    "\n",
    "python generalDS.py 20 C1 o25+LBH Shamanka_EN 0 &\n",
    "python generalDS.py 20 C1 o25+LBH Chokhopani 0 &\n",
    "python generalDS.py 20 C1 o25+LBH ZongriM297 0 &\n",
    "python generalDS.py 20 C1 o25+LBH LG2 0 &\n",
    "##Didn't do Mebrak/Samdzong, save for plateau specific section.\n",
    "python generalDS.py 10 C1 o25+LBH Ma912_G2 0 &\n",
    "python generalDS.py 10 C1 o25+LBH Nui_Nap 0 &\n",
    "\n",
    "python generalTS.py 20 C1 o25+LBH Shamanka_EN 0 &\n",
    "\n",
    "python generalDS.py 20 C1 o25+LBH Ami 0 &\n",
    "python generalDS.py 20 C1 o25+LBH Atayal 0 &\n",
    "python generalDS.py 20 C1 o25+LBH Dai 0 &\n",
    "python generalDS.py 5 C1 o25+LBH Han_GuangdongX 0 &\n",
    "python generalDS.py 5 C1 o25+LBH Han_JiangsuX 0 &\n",
    "python generalDS.py 5 C1 o25+LBH Kinh 0 &\n",
    "python generalDS.py 5 C1 o25+LBH Naxi 0 &\n",
    "python generalDS.py 5 C1 o25+LBH Japanese 0 &\n",
    "python generalDS.py 5 C1 o25+LBH Korean 0 &"
   ]
  },
  {
   "cell_type": "code",
   "execution_count": 5,
   "metadata": {},
   "outputs": [
    {
     "name": "stdout",
     "output_type": "stream",
     "text": [
      "UPA19_3.adm.C1_SS_Ulchi_Iran_N_o25+LBH.log: 2.92059099e-314\n",
      "UPA19_3.adm.C1_SS_Xibo_Iran_N_o25+LBH.log: 2.15832025e-310\n",
      "UPA19_3.adm.C1_SS_Tibetan_ChamdoX_IndusPeriphery_o25+LBH.log: 3.42387493e-321\n",
      "UPA19_3.adm.C1_SS_Tibetan_ChamdoX_Okunevo_EMBA_o25+LBH.log: 8.54733567e-322\n",
      "UPA19_3.adm.C1_SS_Tibetan_ShannanX_Okunevo_EMBA_o25+LBH.log: 4.1118439e-316\n",
      "UPA19_3.adm.C1_SS_Han_HenanX_Bbdong_o25+LBH.log: 0.0776530491\n",
      "UPA19_3.adm.C1_SS_Han_GansuX_Bbdong_o25+LBH.log: 0.0864302687\n",
      "UPA19_3.adm.C1_SS_Han_XinjiangX_Bbdong_o25+LBH.log: 0.171427249\n",
      "UPA19_3.adm.C1_SS_Han_HenanX_Bbdong_o25+LBH.log: 0.0776530491\n",
      "UPA19_3.adm.C1_SS_Han_ShandongX_Bbdong_o25+LBH.log: 0.198043968\n",
      "UPA19_3.adm.C1_SS_Han_AnhuiX_Bbdong_o25+LBH.log: 0.441871232\n",
      "UPA19_3.adm.C1_SS_Han_SichuanX_Bbdong_o25+LBH.log: 0.216028726\n",
      "UPA19_3.adm.C1_SS_Han_HubeiX_Bbdong_o25+LBH.log: 0.0521485535\n",
      "UPA19_3.adm.C1_SS_Han_ChongqingX_Bbdong_o25+LBH.log: 0.107823\n",
      "UPA19_3.adm.C1_SS_Han_ChongqingX_Iran_N_o25+LBH.log: 1.26368052e-315\n",
      "UPA19_3.adm.C1_SS_Kinh_Iran_N_o25+LBH.log: 1.19391688e-312\n"
     ]
    }
   ],
   "source": [
    "%%bash\n",
    "pd=\"/mnt/solexa/mel_yang/early_CN/firstdraft/qpadm_Laz2017/\"\n",
    "name=\"A1\" #\n",
    "name=\"C1\"\n",
    "suffix=\"_SS\"\n",
    "out=\"o25+LBH\"\n",
    "ancset1=\"Hejiatai Shamanka_EN LiangDao Man_Bac Suogang Boshan XJS_F Xiaogao Ma912_G2 Vt833_G2 Vt880_G2\"\n",
    "ancset2=\"Hejiatai Shamanka_EN Qihe Man_Bac Suogang Boshan XJS_F Xiaogao Ma912_G2 Vt833_G2 Vt880_G2\"\n",
    "ancset9=\"Samdzong Mebrak ZongriM297 Hejiatai Shamanka_EN Qihe Man_Bac Suogang Boshan XJS_F Xiaogao LG2 Vt833_G2 Vt880_G2\"\n",
    "ancset10=\"Samdzong Mebrak ZongriM297 Hejiatai Shamanka_EN Qihe Man_Bac Suogang Boshan XJS_F Xiaogao Ma912_G2 Vt833_G2 Vt880_G2\"\n",
    "pdeas=\"Ulchi Oroqen Xibo Uygur Sherpa_ShigatseX Tibetan_ShigatseX Tibetan_LhasaX Tibetan_NagquX Tibetan Sherpa Han_HenanX Han_GansuX Han_XinjiangX Han_HenanX Han_ShandongX Han_JiangsuX Han_AnhuiX Han_SichuanX Han_HubeiX Han_GuangdongX Han_ChongqingX Kinh\"\n",
    "#for target in Qihe MG6 Samdzong Mebrak ZongriM297 Hejiatai Chokhopani JomonM HDYM1 Man_Bac Suogang Boshan XJS_F Xiaogao LG2 Ma912_G2 Vt833_G2 Vt880_G2 Nui_Nap Ban_Chiang Oakaie1; do \n",
    "#for target in Han Ami Dai Atayal Lahu Daur Hezhen Tibetan_ShannanX Tibetan_ChamdoX Miao She Korean Japanese Tujia Naxi Yi; do\n",
    "for target in Ulchi Oroqen Xibo Uygur Sherpa_ShigatseX Tibetan_ShigatseX Tibetan_LhasaX Tibetan_NagquX Tibetan Sherpa Han_HenanX Han_GansuX Han_XinjiangX Han_HenanX Han_ShandongX Han_JiangsuX Han_AnhuiX Han_SichuanX Han_HubeiX Han_GuangdongX Han_ChongqingX Kinh; do\n",
    "    grep \"f4rank: 0\" ${pd}${name}/UPA19_3.adm.${name}${suffix}_${target}_*_${out}.log | awk '{ if ($8>0.05) print $1,$8}' | cut -d'/' -f9 | cut -d':' -f1,3\n",
    "\n",
    "\n",
    "done"
   ]
  },
  {
   "cell_type": "code",
   "execution_count": 1,
   "metadata": {},
   "outputs": [
    {
     "data": {
      "text/plain": [
       "'Made /mnt/solexa/mel_yang/early_CN/firstdraft/qpadm_Laz2017/C1/UPA19_3.adm.C1_SS_f4rank0_o25+QBH!'"
      ]
     },
     "execution_count": 1,
     "metadata": {},
     "output_type": "execute_result"
    }
   ],
   "source": [
    "import fstat_funcs as ff\n",
    "import numpy as np\n",
    "\n",
    "pd=\"/mnt/solexa/mel_yang/early_CN/firstdraft/qpadm_Laz2017/\"\n",
    "\n",
    "name=\"PDEASB1\"\n",
    "name=\"C1\"\n",
    "fh=\"UPA19_3\"\n",
    "anc=[\"Chokhopani\",\"Samdzong\",\"Mebrak\",\"ZongriM297\",\"Hejiatai\",\"HDYM1\",\n",
    "         \"Shamanka_EN\",\"Bbdong\",\"Boshan\",\"XJS_F\",\"Xiaogao\",\n",
    "         \"Qihe\",\"LiangDao\",\"Suogang\",\"MG6\",\"Man_Bac\",\"LG2\",\"Ma912_G2\",\n",
    "         \"Vt833_G2\",\"Vt880_G2\",\"Nui_Nap\",\"Ban_Chiang\",\"Oakaie1\"]\n",
    "pdeas=[\"Han_JiangsuX\",\"Han_AnhuiX\",\"Han_SichuanX\",\"Han_HubeiX\",\"Han_GuangdongX\",\"Han_ChongqingX\",\n",
    "         \"Han\",\"Han_HenanX\",\"Han_GansuX\",\"Han_XinjiangX\",\"Han_ShandongX\",\n",
    "         \"Ami\",\"Atayal\",\"Dai\",\"Lahu\",\"Kinh\",\n",
    "         \"She\",\"Miao\",\"Tujia\",\"Naxi\",\"Yi\",\n",
    "         \"Japanese\",\"Korean\",\"Daur\",\"Hezhen\",\"Xibo\",\"Uygur\",\n",
    "        \"Sherpa\",\"Sherpa_ShigatseX\",\"Tibetan\",\"Tibetan_ShannanX\",\n",
    "         \"Tibetan_ChamdoX\",\"Tibetan_ShigatseX\",\"Tibetan_LhasaX\",\"Tibetan_NagquX\",\"Ulchi\",\"Oroqen\"]\n",
    "targets=anc+pdeas\n",
    "out=\"o25+QBH\"\n",
    "\n",
    "myoutfile=open(pd+fh+\".\"+out,'r')\n",
    "myouts = [line.strip() for line in myoutfile]\n",
    "myoutfile\n",
    "\n",
    "for ind,target in enumerate(targets):\n",
    "    myp=[0 for i in myouts]\n",
    "    for myout in myouts: \n",
    "        try:\n",
    "            myfile=open(pd+name+\"/\"+fh+\".adm.\"+name+\"_SS_\"+target+\"_\"+myout+\"_\"+out+\".log\",'r')\n",
    "            for line in myfile:\n",
    "                if \"f4rank: 0\" not in line: continue\n",
    "                f4rank1=float(line.split()[7])\n",
    "                myp[myouts.index(myout)]=f4rank1\n",
    "            myfile.close()  \n",
    "        except IOError: \n",
    "            myp=[np.nan for i in myouts]\n",
    "    if ind==0: myary=np.array(myp)\n",
    "    else: myary=np.vstack((myary,np.array(myp)))\n",
    "#print myary\n",
    "        #break\n",
    "\n",
    "ff.Dmat2xlsx(myary,pd+name+\"/\"+fh+\".adm.\"+name+\"_SS_f4rank0_\"+out,out,targets,myouts)\n"
   ]
  },
  {
   "cell_type": "code",
   "execution_count": null,
   "metadata": {
    "collapsed": true
   },
   "outputs": [],
   "source": [
    "python generalDS.py 10 C1 o25+LBH Ma912_G2 0 & Bbdong+Onge\n",
    "python generalDS.py 10 C1 o25+LBH Nui_Nap 0 & infeasible\n",
    "\n",
    "python generalTS.py 20 C1 o25+LBH Shamanka_EN 0 &\n",
    "\n",
    "python generalDS.py 20 C1 o25+LBH Ami 0 &\n",
    "python generalDS.py 20 C1 o25+LBH Atayal 0 &\n",
    "python generalDS.py 20 C1 o25+LBH Dai 0 &\n",
    "python generalDS.py 5 C1 o25+LBH Han_GuangdongX 0 &\n",
    "python generalDS.py 5 C1 o25+LBH Han_JiangsuX 0 &\n",
    "python generalDS.py 5 C1 o25+LBH Kinh 0 &\n",
    "python generalDS.py 5 C1 o25+LBH Naxi 0 &\n",
    "python generalDS.py 5 C1 o25+LBH Japanese 0 &\n",
    "python generalDS.py 5 C1 o25+LBH Korean 0 &"
   ]
  },
  {
   "cell_type": "code",
   "execution_count": 20,
   "metadata": {},
   "outputs": [
    {
     "name": "stderr",
     "output_type": "stream",
     "text": [
      "grep: /mnt/solexa/mel_yang/early_CN/firstdraft/qpadm_Laz2017/C1/UPA19_3.adm.C1_DS_Korean_*_o25+QBH.log: No such file or directory\n",
      "grep: /mnt/solexa/mel_yang/early_CN/firstdraft/qpadm_Laz2017/C1/UPA19_3.adm.C1_DS_Korean_*_o25+QBH.log: No such file or directory\n"
     ]
    }
   ],
   "source": [
    "%%bash\n",
    "pd=\"/mnt/solexa/mel_yang/early_CN/firstdraft/qpadm_Laz2017/\"\n",
    "name=\"PDEAS\" #\n",
    "name=\"C1\" #\n",
    "target=\"Korean\"\n",
    "suffix=\"_DS\"\n",
    "out=\"o25+QBH\"\n",
    "for target in ${target}; do \n",
    "    grep \"f4rank: 1\" ${pd}${name}/UPA19_3.adm.${name}${suffix}_${target}_*_${out}.log | awk '{ if ($8>0.05) print $1,$8}' | cut -d'/' -f9 | cut -d':' -f1,3\n",
    "    myfile=$(grep \"f4rank: 1\" ${pd}${name}/UPA19_3.adm.${name}${suffix}_${target}_*_${out}.log | awk '{ if ($8>0.05) print $1,$8}' | cut -d'/' -f9 | cut -d':' -f1)\n",
    "    for i in ${myfile}; do \n",
    "        echo \" ~~~~~~~~~~~~~~~~~~~~~~~ \"\n",
    "        echo ${i}\n",
    "        tail -n195 ${pd}${name}/${i} | head -n8\n",
    "        done\n",
    "    done"
   ]
  },
  {
   "cell_type": "markdown",
   "metadata": {},
   "source": [
    "python generalDS.py 20 C1 o25+QBH Shamanka_EN 0 & infeasible\n",
    "python generalDS.py 10 C1 o25+QBH Samdzong 0 &\n",
    "python generalDS.py 10 C1 o25+QBH Oroqen 0 &\n",
    "python generalDS.py 10 C1 o25+QBH Daur 0 &\n",
    "python generalDS.py 10 C1 o25+QBH Uygur 0 &\n",
    "python generalDS.py 10 C1 o25+QBH Sherpa 0 &\n",
    "python generalDS.py 10 C1 o25+QBH Tibetan 0 &\n",
    "python generalDS.py 10 C1 o25+QBH Tibetan_ShannanX 0 &\n",
    "python generalDS.py 10 C1 o25+QBH Tibetan_NagquX 0 &"
   ]
  },
  {
   "cell_type": "code",
   "execution_count": 22,
   "metadata": {},
   "outputs": [
    {
     "name": "stdout",
     "output_type": "stream",
     "text": [
      "UPA19_3.adm.C1_DS_Samdzong_Bbdong_Group1_o25+QBH.log: 0.0912099742\n",
      "UPA19_3.adm.C1_DS_Samdzong_Bbdong_IndusPeriphery_o25+QBH.log: 0.223005754\n",
      "UPA19_3.adm.C1_DS_Samdzong_Bbdong_Iran_N_o25+QBH.log: 0.103844864\n",
      "UPA19_3.adm.C1_DS_Samdzong_Bbdong_Karelia_o25+QBH.log: 0.21723296\n",
      "UPA19_3.adm.C1_DS_Samdzong_Bbdong_Kostenki14_o25+QBH.log: 0.502756902\n",
      "UPA19_3.adm.C1_DS_Samdzong_Bbdong_Mota_o25+QBH.log: 0.235086354\n",
      "UPA19_3.adm.C1_DS_Samdzong_Bbdong_Natufian_o25+QBH.log: 0.273271286\n",
      "UPA19_3.adm.C1_DS_Samdzong_Bbdong_Papuan_o25+QBH.log: 0.0798621106\n",
      "UPA19_3.adm.C1_DS_Samdzong_Bbdong_Qihe_o25+QBH.log: 0.0640163935\n",
      "UPA19_3.adm.C1_DS_Samdzong_Bbdong_Tianyuan_o25+QBH.log: 0.273176992\n",
      "UPA19_3.adm.C1_DS_Samdzong_Bbdong_UstIshim_o25+QBH.log: 0.449384712\n",
      "UPA19_3.adm.C1_DS_Samdzong_Bbdong_Yana_o25+QBH.log: 0.354358899\n",
      "UPA19_3.adm.C1_DS_Samdzong_Group1_Onge_o25+QBH.log: 0.259485713\n",
      "UPA19_3.adm.C1_DS_Samdzong_HDYM1_Bbdong_o25+QBH.log: 0.393541437\n",
      "UPA19_3.adm.C1_DS_Samdzong_Kolyma_Clovis_o25+QBH.log: 0.93432708\n",
      "UPA19_3.adm.C1_DS_Samdzong_Qihe_Group1_o25+QBH.log: 0.0968836823\n",
      "UPA19_3.adm.C1_DS_Samdzong_Qihe_IndusPeriphery_o25+QBH.log: 0.0718676847\n",
      "UPA19_3.adm.C1_DS_Samdzong_Qihe_Okunevo_EMBA_o25+QBH.log: 0.0684866511\n",
      "UPA19_3.adm.C1_DS_Samdzong_Qihe_Onge_o25+QBH.log: 0.270699116\n",
      "UPA19_3.adm.C1_DS_Samdzong_Qihe_Papuan_o25+QBH.log: 0.135262476\n",
      "UPA19_3.adm.C1_DS_Samdzong_Qihe_Tianyuan_o25+QBH.log: 0.148606222\n",
      "UPA19_3.adm.C1_DS_Samdzong_Qihe_UstIshim_o25+QBH.log: 0.0662327493\n",
      " ~~~~~~~~~~~~~~~~~~~~~~~ \n",
      "UPA19_3.adm.C1_DS_Samdzong_Bbdong_Group1_o25+QBH.log\n",
      "\n",
      "    fixed pat  wt  dof     chisq       tail prob\n",
      "           00  0    14    21.426         0.09121     0.874     0.126 \n",
      "           01  1    15    27.264       0.0266541     1.000    -0.000 \n",
      "           10  1    15   257.338               0     0.000     1.000 \n",
      "best pat:           00          0.09121              -  -\n",
      "best pat:           01        0.0266541  chi(nested):     5.839 p-value for nested model:       0.0156771\n",
      "\n",
      " ~~~~~~~~~~~~~~~~~~~~~~~ \n",
      "UPA19_3.adm.C1_DS_Samdzong_Bbdong_IndusPeriphery_o25+QBH.log\n",
      "\n",
      "    fixed pat  wt  dof     chisq       tail prob\n",
      "           00  0    14    17.654        0.223006     0.882     0.118 \n",
      "           01  1    15    27.497       0.0249409     1.000    -0.000 \n",
      "           10  1    15   539.654               0     0.000     1.000 \n",
      "best pat:           00         0.223006              -  -\n",
      "best pat:           01        0.0249409  chi(nested):     9.843 p-value for nested model:      0.00170494\n",
      "\n",
      " ~~~~~~~~~~~~~~~~~~~~~~~ \n",
      "UPA19_3.adm.C1_DS_Samdzong_Bbdong_Iran_N_o25+QBH.log\n",
      "\n",
      "    fixed pat  wt  dof     chisq       tail prob\n",
      "           00  0    14    20.914        0.103845     0.907     0.093 \n",
      "           01  1    15    29.039       0.0159016     1.000    -0.000 \n",
      "           10  1    15   724.764               0     0.000     1.000 \n",
      "best pat:           00         0.103845              -  -\n",
      "best pat:           01        0.0159016  chi(nested):     8.124 p-value for nested model:      0.00436801\n",
      "\n",
      " ~~~~~~~~~~~~~~~~~~~~~~~ \n",
      "UPA19_3.adm.C1_DS_Samdzong_Bbdong_Karelia_o25+QBH.log\n",
      "\n",
      "    fixed pat  wt  dof     chisq       tail prob\n",
      "           00  0    14    17.775        0.217233     0.893     0.107 \n",
      "           01  1    15    29.089       0.0156659     1.000    -0.000 \n",
      "           10  1    15   599.167               0     0.000     1.000 \n",
      "best pat:           00         0.217233              -  -\n",
      "best pat:           01        0.0156659  chi(nested):    11.314 p-value for nested model:     0.000769194\n",
      "\n",
      " ~~~~~~~~~~~~~~~~~~~~~~~ \n",
      "UPA19_3.adm.C1_DS_Samdzong_Bbdong_Kostenki14_o25+QBH.log\n",
      "\n",
      "    fixed pat  wt  dof     chisq       tail prob\n",
      "           00  0    14    13.304        0.502757     0.918     0.082 \n",
      "           01  1    15    21.217        0.130033     1.000    -0.000 \n",
      "           10  1    15   684.123               0     0.000     1.000 \n",
      "best pat:           00         0.502757              -  -\n",
      "best pat:           01         0.130033  chi(nested):     7.913 p-value for nested model:        0.004907\n",
      "\n",
      " ~~~~~~~~~~~~~~~~~~~~~~~ \n",
      "UPA19_3.adm.C1_DS_Samdzong_Bbdong_Mota_o25+QBH.log\n",
      "\n",
      "    fixed pat  wt  dof     chisq       tail prob\n",
      "           00  0    14    17.408        0.235086     0.882     0.118 \n",
      "           01  1    15    28.734       0.0174001     1.000    -0.000 \n",
      "           10  1    15   542.608               0     0.000     1.000 \n",
      "best pat:           00         0.235086              -  -\n",
      "best pat:           01        0.0174001  chi(nested):    11.326 p-value for nested model:     0.000764232\n",
      "\n",
      " ~~~~~~~~~~~~~~~~~~~~~~~ \n",
      "UPA19_3.adm.C1_DS_Samdzong_Bbdong_Natufian_o25+QBH.log\n",
      "\n",
      "    fixed pat  wt  dof     chisq       tail prob\n",
      "           00  0    14    16.686        0.273271     0.890     0.110 \n",
      "           01  1    15    28.942       0.0163624     1.000    -0.000 \n",
      "           10  1    15   723.485               0     0.000     1.000 \n",
      "best pat:           00         0.273271              -  -\n",
      "best pat:           01        0.0163624  chi(nested):    12.256 p-value for nested model:     0.000463826\n",
      "\n",
      " ~~~~~~~~~~~~~~~~~~~~~~~ \n",
      "UPA19_3.adm.C1_DS_Samdzong_Bbdong_Papuan_o25+QBH.log\n",
      "\n",
      "    fixed pat  wt  dof     chisq       tail prob\n",
      "           00  0    14    21.940       0.0798621     0.855     0.145 \n",
      "           01  1    15    29.278       0.0148087     1.000    -0.000 \n",
      "           10  1    15   411.436               0     0.000     1.000 \n",
      "best pat:           00        0.0798621              -  -\n",
      "best pat:           01        0.0148087  chi(nested):     7.338 p-value for nested model:      0.00675021\n",
      "\n",
      " ~~~~~~~~~~~~~~~~~~~~~~~ \n",
      "UPA19_3.adm.C1_DS_Samdzong_Bbdong_Qihe_o25+QBH.log\n",
      "\n",
      "    fixed pat  wt  dof     chisq       tail prob\n",
      "           00  0    14    22.776       0.0640164     1.018    -0.018  infeasible\n",
      "           01  1    15    22.640       0.0920896     1.000    -0.000 \n",
      "           10  1    15    30.061       0.0117047     0.000     1.000 \n",
      "best pat:           00                0              -  -\n",
      "best pat:           01        0.0920896  chi(nested):    -0.136 p-value for nested model:            -nan\n",
      "\n",
      " ~~~~~~~~~~~~~~~~~~~~~~~ \n",
      "UPA19_3.adm.C1_DS_Samdzong_Bbdong_Tianyuan_o25+QBH.log\n",
      "\n",
      "    fixed pat  wt  dof     chisq       tail prob\n",
      "           00  0    14    16.688        0.273177     0.808     0.192 \n",
      "           01  1    15    26.781       0.0305699     1.000    -0.000 \n",
      "           10  1    15   166.892     1.02734e-27     0.000     1.000 \n",
      "best pat:           00         0.273177              -  -\n",
      "best pat:           01        0.0305699  chi(nested):    10.093 p-value for nested model:      0.00148825\n",
      "\n",
      " ~~~~~~~~~~~~~~~~~~~~~~~ \n",
      "UPA19_3.adm.C1_DS_Samdzong_Bbdong_UstIshim_o25+QBH.log\n",
      "\n",
      "    fixed pat  wt  dof     chisq       tail prob\n",
      "           00  0    14    14.004        0.449385     0.856     0.144 \n",
      "           01  1    15    26.760       0.0307494     1.000    -0.000 \n",
      "           10  1    15   424.001               0     0.000     1.000 \n",
      "best pat:           00         0.449385              -  -\n",
      "best pat:           01        0.0307494  chi(nested):    12.756 p-value for nested model:     0.000354847\n",
      "\n",
      " ~~~~~~~~~~~~~~~~~~~~~~~ \n",
      "UPA19_3.adm.C1_DS_Samdzong_Bbdong_Yana_o25+QBH.log\n",
      "\n",
      "    fixed pat  wt  dof     chisq       tail prob\n",
      "           00  0    14    15.355        0.354359     0.875     0.125 \n",
      "           01  1    15    27.464       0.0251756     1.000    -0.000 \n",
      "           10  1    15   561.400               0     0.000     1.000 \n",
      "best pat:           00         0.354359              -  -\n",
      "best pat:           01        0.0251756  chi(nested):    12.109 p-value for nested model:     0.000501659\n",
      "\n",
      " ~~~~~~~~~~~~~~~~~~~~~~~ \n",
      "UPA19_3.adm.C1_DS_Samdzong_Group1_Onge_o25+QBH.log\n",
      "\n",
      "    fixed pat  wt  dof     chisq       tail prob\n",
      "           00  0    14    16.938        0.259486   153.911  -152.911  infeasible\n",
      "           01  1    15   208.552               0     1.000    -0.000 \n",
      "           10  1    15   307.530               0     0.000     1.000 \n",
      "best pat:           00                0              -  -\n",
      "best pat:           01      3.86608e-36  chi(nested):   191.614 p-value for nested model:     1.41293e-43\n",
      "\n",
      " ~~~~~~~~~~~~~~~~~~~~~~~ \n",
      "UPA19_3.adm.C1_DS_Samdzong_HDYM1_Bbdong_o25+QBH.log\n",
      "\n",
      "    fixed pat  wt  dof     chisq       tail prob\n",
      "           00  0    14    14.777        0.393541    -2.006     3.006  infeasible\n",
      "           01  1    15    44.331     9.75869e-05     1.000    -0.000 \n",
      "           10  1    15    27.449       0.0252837     0.000     1.000 \n",
      "best pat:           00                0              -  -\n",
      "best pat:           10        0.0252837  chi(nested):    12.672 p-value for nested model:     0.000371237\n",
      "\n",
      " ~~~~~~~~~~~~~~~~~~~~~~~ \n",
      "UPA19_3.adm.C1_DS_Samdzong_Kolyma_Clovis_o25+QBH.log\n",
      "\n",
      "    fixed pat  wt  dof     chisq       tail prob\n",
      "           00  0    14     7.010        0.934327     4.745    -3.745  infeasible\n",
      "           01  1    15   129.246     2.98666e-20     1.000    -0.000 \n",
      "           10  1    15   177.122     9.03794e-30     0.000     1.000 \n",
      "best pat:           00                0              -  -\n",
      "best pat:           01      2.98666e-20  chi(nested):   122.236 p-value for nested model:     2.04936e-28\n",
      "\n",
      " ~~~~~~~~~~~~~~~~~~~~~~~ \n",
      "UPA19_3.adm.C1_DS_Samdzong_Qihe_Group1_o25+QBH.log\n",
      "\n",
      "    fixed pat  wt  dof     chisq       tail prob\n",
      "           00  0    14    21.189       0.0968837     1.165    -0.165  infeasible\n",
      "           01  1    15    26.936       0.0292629     1.000    -0.000 \n",
      "           10  1    15   285.022               0     0.000     1.000 \n",
      "best pat:           00                0              -  -\n",
      "best pat:           01        0.0292629  chi(nested):     5.747 p-value for nested model:       0.0165188\n",
      "\n",
      " ~~~~~~~~~~~~~~~~~~~~~~~ \n",
      "UPA19_3.adm.C1_DS_Samdzong_Qihe_IndusPeriphery_o25+QBH.log\n",
      "\n",
      "    fixed pat  wt  dof     chisq       tail prob\n",
      "           00  0    14    22.341       0.0718677     1.073    -0.073  infeasible\n",
      "           01  1    15    25.057        0.049178     1.000    -0.000 \n",
      "           10  1    15   616.679               0     0.000     1.000 \n",
      "best pat:           00                0              -  -\n",
      "best pat:           01         0.049178  chi(nested):     2.716 p-value for nested model:       0.0993428\n",
      "\n",
      " ~~~~~~~~~~~~~~~~~~~~~~~ \n",
      "UPA19_3.adm.C1_DS_Samdzong_Qihe_Okunevo_EMBA_o25+QBH.log\n",
      "\n",
      "    fixed pat  wt  dof     chisq       tail prob\n",
      "           00  0    14    22.523       0.0684867     1.110    -0.110  infeasible\n",
      "           01  1    15    26.068       0.0373101     1.000    -0.000 \n",
      "           10  1    15   573.350               0     0.000     1.000 \n",
      "best pat:           00                0              -  -\n",
      "best pat:           01        0.0373101  chi(nested):     3.545 p-value for nested model:       0.0597138\n",
      "\n",
      " ~~~~~~~~~~~~~~~~~~~~~~~ \n",
      "UPA19_3.adm.C1_DS_Samdzong_Qihe_Onge_o25+QBH.log\n",
      "\n",
      "    fixed pat  wt  dof     chisq       tail prob\n",
      "           00  0    14    16.733        0.270699     1.266    -0.266  infeasible\n",
      "           01  1    15    30.613      0.00989264     1.000    -0.000 \n",
      "           10  1    15   400.857               0     0.000     1.000 \n",
      "best pat:           00                0              -  -\n",
      "best pat:           01       0.00989264  chi(nested):    13.880 p-value for nested model:     0.000194815\n",
      "\n",
      " ~~~~~~~~~~~~~~~~~~~~~~~ \n",
      "UPA19_3.adm.C1_DS_Samdzong_Qihe_Papuan_o25+QBH.log\n",
      "\n",
      "    fixed pat  wt  dof     chisq       tail prob\n",
      "           00  0    14    19.840        0.135262     1.175    -0.175  infeasible\n",
      "           01  1    15    26.734       0.0309771     1.000    -0.000 \n",
      "           10  1    15   470.006               0     0.000     1.000 \n",
      "best pat:           00                0              -  -\n",
      "best pat:           01        0.0309771  chi(nested):     6.894 p-value for nested model:      0.00864769\n",
      "\n",
      " ~~~~~~~~~~~~~~~~~~~~~~~ \n",
      "UPA19_3.adm.C1_DS_Samdzong_Qihe_Tianyuan_o25+QBH.log\n",
      "\n",
      "    fixed pat  wt  dof     chisq       tail prob\n",
      "           00  0    14    19.446        0.148606     1.341    -0.341  infeasible\n",
      "           01  1    15    30.430       0.0104635     1.000    -0.000 \n",
      "           10  1    15   160.048     2.40507e-26     0.000     1.000 \n",
      "best pat:           00                0              -  -\n",
      "best pat:           01        0.0104635  chi(nested):    10.984 p-value for nested model:     0.000919127\n",
      "\n",
      " ~~~~~~~~~~~~~~~~~~~~~~~ \n",
      "UPA19_3.adm.C1_DS_Samdzong_Qihe_UstIshim_o25+QBH.log\n",
      "\n",
      "    fixed pat  wt  dof     chisq       tail prob\n",
      "           00  0    14    22.649       0.0662327     1.130    -0.130  infeasible\n",
      "           01  1    15    28.775       0.0171915     1.000    -0.000 \n",
      "           10  1    15   450.444               0     0.000     1.000 \n",
      "best pat:           00                0              -  -\n",
      "best pat:           01        0.0171915  chi(nested):     6.126 p-value for nested model:       0.0133178\n",
      "\n"
     ]
    }
   ],
   "source": [
    "%%bash\n",
    "pd=\"/mnt/solexa/mel_yang/early_CN/firstdraft/qpadm_Laz2017/\"\n",
    "name=\"PDEAS\" #\n",
    "name=\"C1\" #\n",
    "target=\"Samdzong\"\n",
    "suffix=\"_DS\"\n",
    "out=\"o25+QBH\"\n",
    "for target in ${target}; do \n",
    "    grep \"f4rank: 1\" ${pd}${name}/UPA19_3.adm.${name}${suffix}_${target}_*_${out}.log | awk '{ if ($8>0.05) print $1,$8}' | cut -d'/' -f9 | cut -d':' -f1,3\n",
    "    myfile=$(grep \"f4rank: 1\" ${pd}${name}/UPA19_3.adm.${name}${suffix}_${target}_*_${out}.log | awk '{ if ($8>0.05) print $1,$8}' | cut -d'/' -f9 | cut -d':' -f1)\n",
    "    for i in ${myfile}; do \n",
    "        echo \" ~~~~~~~~~~~~~~~~~~~~~~~ \"\n",
    "        echo ${i}\n",
    "        tail -n195 ${pd}${name}/${i} | head -n8\n",
    "        done\n",
    "    done"
   ]
  },
  {
   "cell_type": "code",
   "execution_count": 21,
   "metadata": {},
   "outputs": [
    {
     "name": "stderr",
     "output_type": "stream",
     "text": [
      "grep: /mnt/solexa/mel_yang/early_CN/firstdraft/qpadm_Laz2017/C1/UPA19_3.adm.C1_TS_Shamanka_EN_*_o25+QBH.log: No such file or directory\n",
      "grep: /mnt/solexa/mel_yang/early_CN/firstdraft/qpadm_Laz2017/C1/UPA19_3.adm.C1_TS_Shamanka_EN_*_o25+QBH.log: No such file or directory\n"
     ]
    }
   ],
   "source": [
    "%%bash\n",
    "pd=\"/mnt/solexa/mel_yang/early_CN/firstdraft/qpadm_Laz2017/\"\n",
    "name=\"PDEAS\" #\n",
    "name=\"C1\" #\n",
    "target=\"Shamanka_EN\"\n",
    "suffix=\"_TS\"\n",
    "out=\"o25+QBH\"\n",
    "for target in ${target}; do \n",
    "    grep \"f4rank: 1\" ${pd}${name}/UPA19_3.adm.${name}${suffix}_${target}_*_${out}.log | awk '{ if ($8>0.05) print $1,$8}' | cut -d'/' -f9 | cut -d':' -f1,3\n",
    "    myfile=$(grep \"f4rank: 1\" ${pd}${name}/UPA19_3.adm.${name}${suffix}_${target}_*_${out}.log | awk '{ if ($8>0.05) print $1,$8}' | cut -d'/' -f9 | cut -d':' -f1)\n",
    "    for i in ${myfile}; do \n",
    "        echo \" ~~~~~~~~~~~~~~~~~~~~~~~ \"\n",
    "        echo ${i}\n",
    "        tail -n195 ${pd}${name}/${i} | head -n8\n",
    "        done\n",
    "    done"
   ]
  },
  {
   "cell_type": "code",
   "execution_count": null,
   "metadata": {
    "collapsed": true
   },
   "outputs": [],
   "source": []
  }
 ],
 "metadata": {
  "kernelspec": {
   "display_name": "Python 2",
   "language": "python",
   "name": "python2"
  },
  "language_info": {
   "codemirror_mode": {
    "name": "ipython",
    "version": 2
   },
   "file_extension": ".py",
   "mimetype": "text/x-python",
   "name": "python",
   "nbconvert_exporter": "python",
   "pygments_lexer": "ipython2",
   "version": "2.7.13"
  }
 },
 "nbformat": 4,
 "nbformat_minor": 2
}
