{
 "cells": [
  {
   "cell_type": "code",
   "execution_count": 5,
   "metadata": {},
   "outputs": [
    {
     "name": "stdout",
     "output_type": "stream",
     "text": [
      "Han\n"
     ]
    }
   ],
   "source": [
    "##Qihe_d\n",
    "\n",
    "import fstat_funcs as ff\n",
    "import numpy as np\n",
    "pD=\"/mnt/solexa/mel_yang/early_CN/\"\n",
    "outpd=\"/mnt/solexa/mel_yang/early_CN/firstdraft/D_Supp/\"\n",
    "fh=\"F4.list.F4\"\n",
    "#fh=\"F4.list.F4tv\"\n",
    "out=\"Mbuti\"        \n",
    "\n",
    "anc=[\"HDYM1\",\"Bbdong\",\"Boshan\",\"XJS_F\",\"XJS\",\"Xiaogao\",\"Qihe\",\"LiangDaoF\",\"LiangDaoM\",\"Suogang\"]\n",
    "\n",
    "eeur=[\"Tianyuan\",\"La368_G1\",\"Onge\",\"Clovis\",\"Kolyma_River\",\n",
    "      \"Shamanka_EN\",\"JomonM\",\"Chokhopani\",\"ZongriM297\"]\n",
    "mylst1=anc\n",
    "mylst2=eeur\n",
    "out=\"Mbuti\"\n",
    "for myind in [\"Han\"]:\n",
    "    print myind\n",
    "    pops=[out,mylst1,myind,mylst2]\n",
    "    ff.Dmat2xlsx(ff.Dmkary(pD,fh,pops,\"Z\"),outpd+\"Z.P2a_\"+myind+\".NSvHancASN.\"+fh,ff.Dmklabel(pops),mylst1,mylst2)\n",
    "    \n",
    "    pops=[out,mylst2,myind,mylst1]\n",
    "    ff.Dmat2xlsx(np.transpose(ff.Dmkary(pD,fh,pops,\"Z\")),outpd+\"Z.P2b_\"+myind+\".NSvHancASN.\"+fh,ff.Dmklabel(pops),mylst1,mylst2)\n",
    "\n",
    "    pops=[out,myind,mylst1,mylst2]\n",
    "    ff.Dmat2xlsx(ff.Dmkary(pD,fh,pops,\"Z\"),outpd+\"Z.P3_\"+myind+\".NSvHancASN.\"+fh,ff.Dmklabel(pops),mylst1,mylst2)\n"
   ]
  },
  {
   "cell_type": "code",
   "execution_count": null,
   "metadata": {
    "collapsed": true
   },
   "outputs": [],
   "source": []
  }
 ],
 "metadata": {
  "kernelspec": {
   "display_name": "Python 2",
   "language": "python",
   "name": "python2"
  },
  "language_info": {
   "codemirror_mode": {
    "name": "ipython",
    "version": 2
   },
   "file_extension": ".py",
   "mimetype": "text/x-python",
   "name": "python",
   "nbconvert_exporter": "python",
   "pygments_lexer": "ipython2",
   "version": "2.7.13"
  }
 },
 "nbformat": 4,
 "nbformat_minor": 2
}
