{
 "cells": [
  {
   "cell_type": "code",
   "execution_count": 1,
   "metadata": {},
   "outputs": [
    {
     "data": {
      "text/plain": [
       "'Made f3 PAR file /mnt/solexa/mel_yang/early_CN/UPA19_3.f3.admix_AmiAta.par'"
      ]
     },
     "execution_count": 1,
     "metadata": {},
     "output_type": "execute_result"
    }
   ],
   "source": [
    "import fstat_funcs as ff\n",
    "\n",
    "pd=\"/mnt/solexa/mel_yang/data/2.2M/\"\n",
    "outpd=\"/mnt/solexa/mel_yang/early_CN/\"\n",
    "fh=\"UPA19_3\"\n",
    "label=\"admix_AmiAta\"\n",
    "\n",
    "panel1=[\"Tianyuan\",\"NE_20\",\"La368_G1\",\"Onge\",\"Papuan\",\"JomonM\",\"Kolyma_River\",\"Shamanka_EN\",\n",
    "        \"ZongriM297\",\"Hejiatai\",\"Chokhopani\",\"Ma912_G2\",\"Man_Bac\",\"Ami\",\"Atayal\",\"Han\",\"Dai\",\n",
    "        \"Sherpa_ShigatseX\",\"Tibetan_ShannanX\",\"Daur\",\"Korean\"]\n",
    "panel2=[\"Longlin\",\"Baojianshan\",\"Dushan\",\"Ma555_G6\",\"Phl534_G6\",\"Nui_Nap\"]\n",
    "\n",
    "southern=[\"DonghulinM1\",\"Jiahu_M52_I2\",\"Tianluoshan\",\"Qihe\", #\"Jiahu_M52_I2_d\",\"Jiahu_M38_I2\",\n",
    "          \"LiangDaoF\",\"LiangDaoM\",\"Suogang\",\"Liangzhu_T4620\"] #\"Liangzhu_T2733\",\"Qihe_d\",\n",
    "northern=[\"DevilsGate\",\"Boisman_MN\",\"Bbdong\",\"Boshan\",\"XJS\",\"XJS_F\",\"Xiaogao_d\",\n",
    "          \"HDYM1\",\"ZhaoguoM2\",\"Daxi\",\"Dashuitian\"]\n",
    "\n",
    "target=[\"Ami\",\"Atayal\"]\n",
    "mylst=panel1+panel2+southern+northern\n",
    "ff.f3pop(pd,fh,label,target,mylst,mylst,outpd=outpd,r_repeat=False)\n",
    "ff.parfile(pd,fh,\"f3\",label,outpd=outpd)"
   ]
  },
  {
   "cell_type": "code",
   "execution_count": null,
   "metadata": {
    "collapsed": true
   },
   "outputs": [],
   "source": []
  }
 ],
 "metadata": {
  "kernelspec": {
   "display_name": "Python 2",
   "language": "python",
   "name": "python2"
  },
  "language_info": {
   "codemirror_mode": {
    "name": "ipython",
    "version": 2
   },
   "file_extension": ".py",
   "mimetype": "text/x-python",
   "name": "python",
   "nbconvert_exporter": "python",
   "pygments_lexer": "ipython2",
   "version": "2.7.13"
  }
 },
 "nbformat": 4,
 "nbformat_minor": 2
}
