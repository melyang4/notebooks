{
 "cells": [
  {
   "cell_type": "code",
   "execution_count": 4,
   "metadata": {},
   "outputs": [
    {
     "name": "stdout",
     "output_type": "stream",
     "text": [
      "Overwriting /mnt/solexa/mel_yang/early_CN/firstdraft/qpadm_Laz2017/sp_qpadm_3s_s1.py\n"
     ]
    }
   ],
   "source": [
    "%%writefile /mnt/solexa/mel_yang/early_CN/firstdraft/qpadm_Laz2017/sp_qpadm_3s_s1.py\n",
    "\n",
    "import fstats_funcs as ff\n",
    "import subprocess\n",
    "import sys\n",
    "\n",
    "\"\"\"\n",
    "python sp_qpadm_3s_s1 15 CS o26 Bbdong CS_popns.txt \n",
    "\"\"\"\n",
    "\n",
    "name=\"SHK\"\n",
    "out=\"o1\"\n",
    "target=\"Shamanka_EN\"\n",
    "pool,name,out,pop,varyfile=tuple(sys.argv[1:])\n",
    "pD=\"/mnt/solexa/mel_yang/data/2.2M/\"\n",
    "outpd0=\"/mnt/solexa/mel_yang/early_CN/firstdraft/qpadm_Laz2017/\"\n",
    "outpd=outpd0+name+\"/\"\n",
    "fh=\"UPA19_3\"\n",
    "pt=\"adm\"\n",
    "\n",
    "basefile=open(varyfile,'r')\n",
    "base=[line.strip() for line in basefile]\n",
    "basefile.close()\n",
    "mysets=[[i,pop,j] for i in base for j in base]\n",
    "\n",
    "myinputs=[]\n",
    "for ind1,myset in enumerate(mysets):\n",
    "    target,s1,s2=tuple(myset)\n",
    "    if len(list(set(myset)))!=3: continue\n",
    "    label=\"%s_DS_%s_%s_%s_%s\" % (name,target,s1,s2,out)\n",
    "    ff.parfile(pD,fh,pt,label,outpd=outpd,outgroup=fh+\".\"+out,indfh='UPA19_3.qpadmmerge1')\n",
    "    #ff.mklst(outpd,fh,label,newbase)\n",
    "    ff.mklst(outpd,fh,pt+\".\"+label,myset,suffix=\"leftpop\")\n",
    "    myinputs.append(outpd+fh+\".adm.\"+label)\n",
    "\n",
    "print len(myinputs)\n",
    "\n",
    "def runqpadm(filehandle):\n",
    "    from subprocess import Popen, PIPE\n",
    "    parfilename=filehandle+\".par\"\n",
    "    logfilename=filehandle+\".log\"\n",
    "    logfile = open(logfilename,'w')\n",
    "    mycommand=\"qpAdm -p \"+parfilename\n",
    "    print mycommand\n",
    "    varfile = Popen(mycommand.split(), stdout = logfile)\n",
    "    varfile.communicate()\n",
    "    logfile.close()\n",
    "    return 'Running '+mycommand\n",
    "\n",
    "from multiprocessing import Pool\n",
    "mypool = Pool(int(pool))\n",
    "results = mypool.map(runqpadm, myinputs)\n"
   ]
  },
  {
   "cell_type": "code",
   "execution_count": null,
   "metadata": {
    "collapsed": true
   },
   "outputs": [],
   "source": []
  }
 ],
 "metadata": {
  "kernelspec": {
   "display_name": "Python 2",
   "language": "python",
   "name": "python2"
  },
  "language_info": {
   "codemirror_mode": {
    "name": "ipython",
    "version": 2
   },
   "file_extension": ".py",
   "mimetype": "text/x-python",
   "name": "python",
   "nbconvert_exporter": "python",
   "pygments_lexer": "ipython2",
   "version": "2.7.13"
  }
 },
 "nbformat": 4,
 "nbformat_minor": 2
}
