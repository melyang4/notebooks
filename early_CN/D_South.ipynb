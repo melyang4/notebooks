{
 "cells": [
  {
   "cell_type": "code",
   "execution_count": 2,
   "metadata": {},
   "outputs": [
    {
     "name": "stdout",
     "output_type": "stream",
     "text": [
      "['Suogang', 'Qihe', 'LiangDaoF', 'LiangDaoM', 'Xinyi', 'Dushan', 'Ma555_G6', 'Ami', 'Atayal', 'Dai', 'Lahu', 'Kinh', 'Han']\n",
      "Tianyuan\n",
      "La368_G1\n",
      "Shamanka_EN\n",
      "ZongriM297\n",
      "Chokhopani\n",
      "Longlin\n",
      "Baojianshan\n",
      "Ami\n",
      "Han\n",
      "Dai\n"
     ]
    }
   ],
   "source": [
    "##Qihe_d\n",
    "\n",
    "import fstat_funcs as ff\n",
    "\n",
    "pD=\"/mnt/solexa/mel_yang/early_CN/\"\n",
    "outpd=\"/mnt/solexa/mel_yang/early_CN/D_South/\"\n",
    "fh=\"F4.list.F4\"\n",
    "out=\"Mbuti\"        \n",
    "\n",
    "panel1=[\"Tianyuan\",\"NE_20\",\"La368_G1\",\"Onge\",\"Papuan\",\"JomonM\",\"Kolyma_River\",\"Shamanka_EN\",\n",
    "        \"ZongriM297\",\"Hejiatai\",\"Chokhopani\",\"Ma912_G2\",\"Man_Bac\",\"Ami\",\"Atayal\",\"Han\",\"Dai\",\n",
    "        \"Sherpa_Shigatse\",\"Tibetan_Shannan\",\"Daur\",\"Korean\"]\n",
    "\n",
    "south=[\"XJS\",\"XJS_F\",\"Dushan\",\"Man_Bac\",\"Nui_Nap\",\n",
    "       \"Suogang\",\"Qihe\",\"LiangDaoF\",\"LiangDaoM\",\n",
    "       \"Ma555_G6\",\"Ami\",\"Atayal\",\"Dai\",\"Lahu\",\"Kinh\",\"Han\"]\n",
    "south=[\"Suogang\",\"Qihe\",\"LiangDaoF\",\"LiangDaoM\",\"Xinyi\",\"Dushan\",\n",
    "       \"Ma555_G6\",\"Ami\",\"Atayal\",\"Dai\",\"Lahu\",\"Kinh\",\"Han\"]\n",
    "       #\"Ma555_G6\",\"Ami\",\"Atayal\",\"Dai\",\"Kinh\",\"Lahu\",\"Han\"]\n",
    "northern=[\"DevilsGate\",\"Boisman_MN\",\"Bbdong\",\"Boshan\",\"Xiaogao_d_Fu\",\n",
    "          \"HDYM1\",\"ZhaoguoM2\",\"Daxi\",\"Dashuitian\",\n",
    "          \"Jiahu_M52_I2_Fu\"]\n",
    "mylst=south\n",
    "print mylst\n",
    "varies=[\"Boshan\",\"Bbdong\",\"ZongriM297\",\"Hejiatai\",\"Chokhopani\",\"Ma912_G2\",\n",
    "       \"Korean\",\"Han\",\"Dai\",\"Miao\",\"She\",\"HDYM1\",\"Shamanka_EN\",\"ZhaoguoM2\",\n",
    "        \"Xiaogao\",\"Xiaogao_d\",\"DonghulinM1\",\n",
    "       \"Dashuitian\",\"Jiahu_M52_I2_Fu\"]#+south\n",
    "varies=[\"Tianyuan\",\"La368_G1\",\"Shamanka_EN\",\"ZongriM297\",\"Chokhopani\",\"Longlin\",\"Baojianshan\",\"Ami\",\"Han\",\"Dai\"]\n",
    "for myind in varies:\n",
    "    print myind\n",
    "    pops=[out,mylst,myind,mylst]\n",
    "    ff.Dmat2xlsx(ff.Dmkary(pD,fh,pops,\"Z\"),outpd+\"Z.P2_\"+myind+\".S_Zall.\"+fh,ff.Dmklabel(pops),mylst,mylst)\n",
    "\n",
    "    pops=[out,myind,mylst,mylst]\n",
    "    ff.Dmat2xlsx(ff.Dmkary(pD,fh,pops,\"Z\"),outpd+\"Z.P3_\"+myind+\".S_Zall.\"+fh,ff.Dmklabel(pops),mylst,mylst)\n"
   ]
  },
  {
   "cell_type": "code",
   "execution_count": null,
   "metadata": {
    "collapsed": true
   },
   "outputs": [],
   "source": []
  }
 ],
 "metadata": {
  "kernelspec": {
   "display_name": "Python 2",
   "language": "python",
   "name": "python2"
  },
  "language_info": {
   "codemirror_mode": {
    "name": "ipython",
    "version": 2
   },
   "file_extension": ".py",
   "mimetype": "text/x-python",
   "name": "python",
   "nbconvert_exporter": "python",
   "pygments_lexer": "ipython2",
   "version": "2.7.13"
  }
 },
 "nbformat": 4,
 "nbformat_minor": 2
}
