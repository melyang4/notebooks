{
 "cells": [
  {
   "cell_type": "code",
   "execution_count": 2,
   "metadata": {},
   "outputs": [
    {
     "data": {
      "text/plain": [
       "'Made /mnt/solexa/mel_yang/early_CN/firstdraft/qpadm_Laz2017/UPA19_3.o28 file'"
      ]
     },
     "execution_count": 2,
     "metadata": {},
     "output_type": "execute_result"
    }
   ],
   "source": [
    "import fstats_funcs as ff\n",
    "\n",
    "pD=\"/mnt/solexa/mel_yang/early_CN/firstdraft/qpadm_Laz2017/\"\n",
    "\n",
    "base=[\"Mota\",\"UstIshim\",\"Kostenki14\",\"Iran_N\",\n",
    "      \"Yana\",\"Karelia\",\"Okunevo_EMBA\",\"IndusPeriphery\",\n",
    "      \"Natufian\",\"Papuan\",\"Onge\",\"Clovis\", ##no USR\n",
    "      \"Tianyuan\",\"Group1\",\"Qihe\",\"LiangDao\",\"Bbdong\"] \n",
    "fh=\"UPA19_3\"\n",
    "ff.mklst(pD,fh,\"o28\",base)"
   ]
  },
  {
   "cell_type": "code",
   "execution_count": 2,
   "metadata": {},
   "outputs": [
    {
     "data": {
      "text/plain": [
       "'Made /mnt/solexa/mel_yang/early_CN/firstdraft/qpadm_Laz2017/UPA19_3.o282 file'"
      ]
     },
     "execution_count": 2,
     "metadata": {},
     "output_type": "execute_result"
    }
   ],
   "source": [
    "import fstats_funcs as ff\n",
    "\n",
    "pD=\"/mnt/solexa/mel_yang/early_CN/firstdraft/qpadm_Laz2017/\"\n",
    "\n",
    "base=[\"Mota\",\"UstIshim\",\"Kostenki14\",\"Iran_N\",\n",
    "      \"Yana\",\"Karelia\",\"Okunevo_EMBA\",\"IndusPeriphery\",\n",
    "      \"Natufian\",\"Papuan\",\"Onge\",\"Clovis\", ##no USR\n",
    "      \"Tianyuan\",\"Group1\",\"Qihe\",\"LiangDao\"] \n",
    "fh=\"UPA19_3\"\n",
    "ff.mklst(pD,fh,\"o282\",base)"
   ]
  },
  {
   "cell_type": "code",
   "execution_count": 16,
   "metadata": {},
   "outputs": [
    {
     "data": {
      "text/plain": [
       "'Made /mnt/solexa/mel_yang/early_CN/firstdraft/qpadm_Laz2017/UPA19_3.o281 file'"
      ]
     },
     "execution_count": 16,
     "metadata": {},
     "output_type": "execute_result"
    }
   ],
   "source": [
    "import fstats_funcs as ff\n",
    "\n",
    "pD=\"/mnt/solexa/mel_yang/early_CN/firstdraft/qpadm_Laz2017/\"\n",
    "\n",
    "base=[\"Mota\",\"UstIshim\",\"Kostenki14\",\"Iran_N\",\n",
    "      \"Yana\",\"Karelia\",\"Okunevo_EMBA\",\"IndusPeriphery\",\n",
    "      \"Natufian\",\"Papuan\",\"Onge\",\"Clovis\", ##no USR\n",
    "      \"Tianyuan\",\"Group1\",\"Qihe\",\"Bbdong\"] \n",
    "fh=\"UPA19_3\"\n",
    "ff.mklst(pD,fh,\"o281\",base)"
   ]
  },
  {
   "cell_type": "code",
   "execution_count": 3,
   "metadata": {},
   "outputs": [
    {
     "data": {
      "text/plain": [
       "'Made wave PAR file /mnt/solexa/mel_yang/early_CN/firstdraft/qpadm_Laz2017/UPA19_3.wave.o284aEAS.par'"
      ]
     },
     "execution_count": 3,
     "metadata": {},
     "output_type": "execute_result"
    }
   ],
   "source": [
    "import fstats_funcs as ff\n",
    "\n",
    "pD=\"/mnt/solexa/mel_yang/data/2.2M/\" \n",
    "outpd=\"/mnt/solexa/mel_yang/early_CN/firstdraft/qpadm_Laz2017/\"\n",
    "\n",
    "fh=\"UPA19_3\"\n",
    "ff.mklst(outpd,fh,\"wave.o284aEAS.leftpop\",[\"HDYM1\",\"Shamanka_EN\",\"ZongriM297\",\"Chokhopani\"])\n",
    "ff.parfile(pD,fh,\"wave\",\"o284aEAS\",outpd=outpd,outgroup=fh+\".o28\",indfh='UPA19_3.qpadmmerge1')"
   ]
  },
  {
   "cell_type": "code",
   "execution_count": 6,
   "metadata": {},
   "outputs": [
    {
     "name": "stdout",
     "output_type": "stream",
     "text": [
      "qpWave -p UPA19_3.wave.o282aEAS.par > UPA19_3.wave.o282aEAS.log &\n",
      "qpWave -p UPA19_3.wave.o282bEAS.par > UPA19_3.wave.o282bEAS.log &\n",
      "qpWave -p UPA19_3.wave.o282cEAS.par > UPA19_3.wave.o282cEAS.log &\n",
      "qpWave -p UPA19_3.wave.o282dEAS.par > UPA19_3.wave.o282dEAS.log &\n",
      "qpWave -p UPA19_3.wave.o282eEAS.par > UPA19_3.wave.o282eEAS.log &\n",
      "qpWave -p UPA19_3.wave.o282fEAS.par > UPA19_3.wave.o282fEAS.log &\n"
     ]
    }
   ],
   "source": [
    "import fstats_funcs as ff\n",
    "\n",
    "pD=\"/mnt/solexa/mel_yang/data/2.2M/\" \n",
    "outpd=\"/mnt/solexa/mel_yang/early_CN/firstdraft/qpadm_Laz2017/\"\n",
    "\n",
    "fh=\"UPA19_3\"\n",
    "innerN=[\"HDYM1\",\"Shamanka_EN\",\"ZongriM297\",\"Chokhopani\"]\n",
    "pairs=[[i,j] for ind,i in enumerate(innerN) for j in innerN[ind+1:]]\n",
    "letters=\"abcdefgh\"\n",
    "for ind,pair in enumerate(pairs):\n",
    "    ff.mklst(outpd,fh,\"wave.o282%sEAS.leftpop\" % letters[ind],pair)\n",
    "    ff.parfile(pD,fh,\"wave\",\"o282%sEAS\" % letters[ind],outpd=outpd,outgroup=fh+\".o28\",indfh='UPA19_3.qpadmmerge1')\n",
    "    print \"qpWave -p %s.wave.o282%sEAS.par > %s.wave.o282%sEAS.log &\" % (fh,letters[ind],fh,letters[ind])"
   ]
  },
  {
   "cell_type": "code",
   "execution_count": 25,
   "metadata": {},
   "outputs": [
    {
     "name": "stdout",
     "output_type": "stream",
     "text": [
      "a ['HDYM1', 'Shamanka_EN']\n",
      "b ['HDYM1', 'ZongriM297']\n",
      "c ['HDYM1', 'Chokhopani']\n",
      "d ['HDYM1', 'Hejiatai']\n",
      "e ['Shamanka_EN', 'ZongriM297']\n",
      "f ['Shamanka_EN', 'Chokhopani']\n",
      "g ['Shamanka_EN', 'Hejiatai']\n",
      "h ['ZongriM297', 'Chokhopani']\n",
      "i ['ZongriM297', 'Hejiatai']\n",
      "j ['Chokhopani', 'Hejiatai']\n"
     ]
    }
   ],
   "source": [
    "import fstats_funcs as ff\n",
    "\n",
    "pD=\"/mnt/solexa/mel_yang/data/2.2M/\" \n",
    "outpd=\"/mnt/solexa/mel_yang/early_CN/firstdraft/qpadm_Laz2017/\"\n",
    "\n",
    "fh=\"UPA19_3\"\n",
    "outnum=\"o2812\"\n",
    "popns=[\"HDYM1\",\"Shamanka_EN\",\"ZongriM297\",\"Chokhopani\",\"Hejiatai\"]\n",
    "pairs=[[i,j] for ind,i in enumerate(popns) for j in popns[ind+1:]]\n",
    "letters=\"abcdefghijklmnopq\"\n",
    "for ind,pair in enumerate(pairs):\n",
    "    print letters[ind],pair\n",
    "    ff.mklst(outpd,fh,\"wave.%s%sEAS.leftpop\" % (outnum,letters[ind]),pair)\n",
    "    ff.parfile(pD,fh,\"wave\",\"%s%sEAS\" % (outnum,letters[ind]),outpd=outpd,outgroup=fh+\".\"+outnum[:-1],indfh='UPA19_3.qpadmmerge1')\n",
    "    #print \"qpWave -p %s.wave.%s%sEAS.par > %s.wave.%s%sEAS.log &\" % (fh,outnum,letters[ind],fh,outnum,letters[ind])"
   ]
  },
  {
   "cell_type": "code",
   "execution_count": null,
   "metadata": {
    "collapsed": true
   },
   "outputs": [],
   "source": [
    "a ['HDYM1', 'Shamanka_EN']\n",
    "b ['HDYM1', 'ZongriM297'] >0.05\n",
    "c ['HDYM1', 'Chokhopani'] >0.05\n",
    "d ['Shamanka_EN', 'ZongriM297'] \n",
    "e ['Shamanka_EN', 'Chokhopani'] \n",
    "f ['ZongriM297', 'Chokhopani'] >0.05 (~)\n",
    "g ['HDYM1', 'Hejiatai'] >0.05\n",
    "h ['Shamanka_EN', 'Hejiatai'] \n",
    "i ['ZongriM297', 'Hejiatai'] >0.05\n",
    "j ['Chokhopani', 'Hejiatai'] ~0.01\n",
    "\n",
    "o281\n",
    "a ['HDYM1', 'Shamanka_EN'] \n",
    "b ['HDYM1', 'ZongriM297']\n",
    "c ['HDYM1', 'Chokhopani'] >0.05\n",
    "d ['HDYM1', 'Hejiatai'] >0.05\n",
    "e ['Shamanka_EN', 'ZongriM297'] \n",
    "f ['Shamanka_EN', 'Chokhopani']\n",
    "g ['Shamanka_EN', 'Hejiatai']\n",
    "h ['ZongriM297', 'Chokhopani'] \n",
    "i ['ZongriM297', 'Hejiatai'] >0.05\n",
    "j ['Chokhopani', 'Hejiatai']"
   ]
  },
  {
   "cell_type": "code",
   "execution_count": 23,
   "metadata": {},
   "outputs": [
    {
     "data": {
      "text/plain": [
       "'Made wave PAR file /mnt/solexa/mel_yang/early_CN/firstdraft/qpadm_Laz2017/UPA19_3.wave.o2813aEAS.par'"
      ]
     },
     "execution_count": 23,
     "metadata": {},
     "output_type": "execute_result"
    }
   ],
   "source": [
    "import fstats_funcs as ff\n",
    "\n",
    "pD=\"/mnt/solexa/mel_yang/data/2.2M/\" \n",
    "outpd=\"/mnt/solexa/mel_yang/early_CN/firstdraft/qpadm_Laz2017/\"\n",
    "\n",
    "fh=\"UPA19_3\"\n",
    "ff.mklst(outpd,fh,\"wave.o2813aEAS.leftpop\",[\"HDYM1\",\"Shamanka_EN\",\"Kolyma\"])\n",
    "ff.parfile(pD,fh,\"wave\",\"o2813aEAS\",outpd=outpd,outgroup=fh+\".o281\",indfh='UPA19_3.qpadmmerge1')"
   ]
  },
  {
   "cell_type": "code",
   "execution_count": 24,
   "metadata": {},
   "outputs": [
    {
     "data": {
      "text/plain": [
       "'Made wave PAR file /mnt/solexa/mel_yang/early_CN/firstdraft/qpadm_Laz2017/UPA19_3.wave.o2813bEAS.par'"
      ]
     },
     "execution_count": 24,
     "metadata": {},
     "output_type": "execute_result"
    }
   ],
   "source": [
    "import fstats_funcs as ff\n",
    "\n",
    "pD=\"/mnt/solexa/mel_yang/data/2.2M/\" \n",
    "outpd=\"/mnt/solexa/mel_yang/early_CN/firstdraft/qpadm_Laz2017/\"\n",
    "\n",
    "fh=\"UPA19_3\"\n",
    "ff.mklst(outpd,fh,\"wave.o2813bEAS.leftpop\",[\"HDYM1\",\"ZongriM297\",\"Chokhopani\"])\n",
    "ff.parfile(pD,fh,\"wave\",\"o2813bEAS\",outpd=outpd,outgroup=fh+\".o281\",indfh='UPA19_3.qpadmmerge1')"
   ]
  },
  {
   "cell_type": "code",
   "execution_count": 15,
   "metadata": {},
   "outputs": [
    {
     "name": "stdout",
     "output_type": "stream",
     "text": [
      "g ['HDYM1', 'Hejiatai']\n",
      "h ['Shamanka_EN', 'Hejiatai']\n",
      "i ['ZongriM297', 'Hejiatai']\n",
      "j ['Chokhopani', 'Hejiatai']\n"
     ]
    }
   ],
   "source": [
    "import fstats_funcs as ff\n",
    "\n",
    "pD=\"/mnt/solexa/mel_yang/data/2.2M/\" \n",
    "outpd=\"/mnt/solexa/mel_yang/early_CN/firstdraft/qpadm_Laz2017/\"\n",
    "\n",
    "fh=\"UPA19_3\"\n",
    "outnum=\"o282\"\n",
    "popns=[\"HDYM1\",\"Shamanka_EN\",\"ZongriM297\",\"Chokhopani\"]\n",
    "pairs=[[i,\"Hejiatai\"] for ind,i in enumerate(popns)]\n",
    "letters=\"ghijklmno\"\n",
    "for ind,pair in enumerate(pairs):\n",
    "    print letters[ind],pair\n",
    "    ff.mklst(outpd,fh,\"wave.%s%sEAS.leftpop\" % (outnum,letters[ind]),pair)\n",
    "    ff.parfile(pD,fh,\"wave\",\"%s%sEAS\" % (outnum,letters[ind]),outpd=outpd,outgroup=fh+\".\"+outnum[:-1],indfh='UPA19_3.qpadmmerge1')\n",
    "    #print \"qpWave -p %s.wave.%s%sEAS.par > %s.wave.%s%sEAS.log &\" % (fh,outnum,letters[ind],fh,outnum,letters[ind])"
   ]
  },
  {
   "cell_type": "code",
   "execution_count": 26,
   "metadata": {},
   "outputs": [
    {
     "data": {
      "text/plain": [
       "'Made /mnt/solexa/mel_yang/early_CN/firstdraft/qpadm_Laz2017/UPA19_3.o281+HC file'"
      ]
     },
     "execution_count": 26,
     "metadata": {},
     "output_type": "execute_result"
    }
   ],
   "source": [
    "import fstats_funcs as ff\n",
    "\n",
    "pD=\"/mnt/solexa/mel_yang/early_CN/firstdraft/qpadm_Laz2017/\"\n",
    "\n",
    "base=[\"Mota\",\"UstIshim\",\"Kostenki14\",\"Iran_N\",\n",
    "      \"Yana\",\"Karelia\",\"Okunevo_EMBA\",\"IndusPeriphery\",\n",
    "      \"Natufian\",\"Papuan\",\"Onge\",\"Clovis\", ##no USR\n",
    "      \"Tianyuan\",\"Group1\",\"Qihe\",\"Bbdong\",\"HDYM1\",\"Chokhopani\"] \n",
    "fh=\"UPA19_3\"\n",
    "ff.mklst(pD,fh,\"o281+HC\",base)"
   ]
  },
  {
   "cell_type": "code",
   "execution_count": null,
   "metadata": {
    "collapsed": true
   },
   "outputs": [],
   "source": [
    "import fstats_funcs as ff\n",
    "\n",
    "pD=\"/mnt/solexa/mel_yang/early_CN/firstdraft/qpadm_Laz2017/\"\n",
    "\n",
    "base=[\"Mota\",\"UstIshim\",\"Kostenki14\",\"Iran_N\",\n",
    "      \"Yana\",\"Karelia\",\"Okunevo_EMBA\",\"IndusPeriphery\",\n",
    "      \"Natufian\",\"Papuan\",\"Onge\",\"Clovis\", ##no USR\n",
    "      \"Tianyuan\",\"Group1\",\"Qihe\",\"Bbdong\",\"HDYM1\",\"ZongriM297\"] \n",
    "fh=\"UPA19_3\"\n",
    "ff.mklst(pD,fh,\"o281+HZ\",base)"
   ]
  },
  {
   "cell_type": "markdown",
   "metadata": {},
   "source": [
    "for i in ZongriM297 Hejiatai; do python generalSS.py 5 IN o281+HZ ${i}; done\n",
    "for i in ZongriM297 Hejiatai; do python generalDS.py 5 IN o281+HZ ${i} 0; done"
   ]
  },
  {
   "cell_type": "code",
   "execution_count": 28,
   "metadata": {},
   "outputs": [
    {
     "data": {
      "text/plain": [
       "'Made /mnt/solexa/mel_yang/early_CN/firstdraft/qpadm_Laz2017/UPA19_3.o281+HZ file'"
      ]
     },
     "execution_count": 28,
     "metadata": {},
     "output_type": "execute_result"
    }
   ],
   "source": [
    "import fstats_funcs as ff\n",
    "\n",
    "pD=\"/mnt/solexa/mel_yang/early_CN/firstdraft/qpadm_Laz2017/\"\n",
    "\n",
    "base=[\"Mota\",\"UstIshim\",\"Kostenki14\",\"Iran_N\",\n",
    "      \"Yana\",\"Karelia\",\"Okunevo_EMBA\",\"IndusPeriphery\",\n",
    "      \"Natufian\",\"Papuan\",\"Onge\",\"Clovis\", ##no USR\n",
    "      \"Tianyuan\",\"Group1\",\"Qihe\",\"Bbdong\",\"HDYM1\",\"ZongriM297\"] \n",
    "fh=\"UPA19_3\"\n",
    "ff.mklst(pD,fh,\"o281+HZ\",base)"
   ]
  },
  {
   "cell_type": "code",
   "execution_count": 29,
   "metadata": {},
   "outputs": [
    {
     "name": "stdout",
     "output_type": "stream",
     "text": [
      "UPA19_3.adm.IN_SS_Hejiatai_ZongriM297_o281+HZ.log: 0.171313172\n"
     ]
    }
   ],
   "source": [
    "%%bash\n",
    "pd=\"/mnt/solexa/mel_yang/early_CN/firstdraft/qpadm_Laz2017/\"\n",
    "name=\"A1\" #\n",
    "name=\"IN\"\n",
    "suffix=\"_SS\"\n",
    "out=\"o281+HZ\"\n",
    "ancset1=\"Hejiatai Shamanka_EN LiangDao Man_Bac Suogang Boshan XJS_F Xiaogao Ma912_G2 Vt833_G2 Vt880_G2\"\n",
    "ancset2=\"Hejiatai Shamanka_EN Qihe Man_Bac Suogang Boshan XJS_F Xiaogao Ma912_G2 Vt833_G2 Vt880_G2\"\n",
    "ancset9=\"Samdzong Mebrak ZongriM297 Hejiatai Shamanka_EN Qihe Man_Bac Suogang Boshan XJS_F Xiaogao LG2 Vt833_G2 Vt880_G2\"\n",
    "ancset10=\"Samdzong Mebrak ZongriM297 Hejiatai Shamanka_EN Qihe Man_Bac Suogang Boshan XJS_F Xiaogao Ma912_G2 Vt833_G2 Vt880_G2\"\n",
    "pdeas=\"Ulchi Oroqen Xibo Uygur Sherpa_ShigatseX Tibetan_ShigatseX Tibetan_LhasaX Tibetan_NagquX Tibetan Sherpa Han_HenanX Han_GansuX Han_XinjiangX Han_HenanX Han_ShandongX Han_JiangsuX Han_AnhuiX Han_SichuanX Han_HubeiX Han_GuangdongX Han_ChongqingX Kinh\"\n",
    "#for target in Qihe MG6 Samdzong Mebrak ZongriM297 Hejiatai Chokhopani JomonM HDYM1 Man_Bac Suogang Boshan XJS_F Xiaogao LG2 Ma912_G2 Vt833_G2 Vt880_G2 Nui_Nap Ban_Chiang Oakaie1; do \n",
    "#for target in Han Ami Dai Atayal Lahu Daur Hezhen Tibetan_ShannanX Tibetan_ChamdoX Miao She Korean Japanese Tujia Naxi Yi; do\n",
    "for target in ZongriM297 Hejiatai; do\n",
    "    grep \"f4rank: 0\" ${pd}${name}/UPA19_3.adm.${name}${suffix}_${target}_*_${out}.log | awk '{ if ($8>0.05) print $1,$8}' | cut -d'/' -f9 | cut -d':' -f1,3\n",
    "\n",
    "\n",
    "done"
   ]
  },
  {
   "cell_type": "code",
   "execution_count": 38,
   "metadata": {},
   "outputs": [
    {
     "name": "stdout",
     "output_type": "stream",
     "text": [
      "UPA19_3.adm.IN_DS_Hejiatai_Clovis_Okunevo_EMBA_o281+HZ.log: 0.0788064591\n",
      "UPA19_3.adm.IN_DS_Hejiatai_Group1_Onge_o281+HZ.log: 0.319227842\n",
      "UPA19_3.adm.IN_DS_Hejiatai_Qihe_Group1_o281+HZ.log: 0.147465617\n",
      "UPA19_3.adm.IN_DS_Hejiatai_Qihe_Papuan_o281+HZ.log: 0.0674929375\n",
      "UPA19_3.adm.IN_DS_Hejiatai_UstIshim_Mota_o281+HZ.log: 0.22260778\n",
      "UPA19_3.adm.IN_DS_Hejiatai_Yana_Kostenki14_o281+HZ.log: 0.252245375\n",
      " ~~~~~~~~~~~~~~~~~~~~~~~ \n",
      "UPA19_3.adm.IN_DS_Hejiatai_Clovis_Okunevo_EMBA_o281+HZ.log\n",
      "\n",
      "    fixed pat  wt  dof     chisq       tail prob\n",
      "           00  0    14    21.991       0.0788065     2.463    -1.463  infeasible\n",
      "           01  1    15   112.433     5.49223e-17     1.000    -0.000 \n",
      "           10  1    15   475.145               0     0.000     1.000 \n",
      "best pat:           00                0              -  -\n",
      "best pat:           01      5.49223e-17  chi(nested):    90.442 p-value for nested model:     1.90453e-21\n",
      "\n",
      " ~~~~~~~~~~~~~~~~~~~~~~~ \n",
      "UPA19_3.adm.IN_DS_Hejiatai_Group1_Onge_o281+HZ.log\n",
      "\n",
      "    fixed pat  wt  dof     chisq       tail prob\n",
      "           00  0    14    15.905        0.319228    22.993   -21.993  infeasible\n",
      "           01  1    15   199.903               0     1.000    -0.000 \n",
      "           10  1    15   277.988               0     0.000     1.000 \n",
      "best pat:           00                0              -  -\n",
      "best pat:           01      2.22382e-34  chi(nested):   183.998 p-value for nested model:     6.49519e-42\n",
      "\n",
      " ~~~~~~~~~~~~~~~~~~~~~~~ \n",
      "UPA19_3.adm.IN_DS_Hejiatai_Qihe_Group1_o281+HZ.log\n",
      "\n",
      "    fixed pat  wt  dof     chisq       tail prob\n",
      "           00  0    14    19.478        0.147466     1.603    -0.603  infeasible\n",
      "           01  1    15    53.812     2.82357e-06     1.000    -0.000 \n",
      "           10  1    15   247.428               0     0.000     1.000 \n",
      "best pat:           00                0              -  -\n",
      "best pat:           01      2.82357e-06  chi(nested):    34.334 p-value for nested model:     4.64269e-09\n",
      "\n",
      " ~~~~~~~~~~~~~~~~~~~~~~~ \n",
      "UPA19_3.adm.IN_DS_Hejiatai_Qihe_Papuan_o281+HZ.log\n",
      "\n",
      "    fixed pat  wt  dof     chisq       tail prob\n",
      "           00  0    14    22.578       0.0674929     1.540    -0.540  infeasible\n",
      "           01  1    15    56.027     1.19829e-06     1.000    -0.000 \n",
      "           10  1    15   402.361               0     0.000     1.000 \n",
      "best pat:           00                0              -  -\n",
      "best pat:           01      1.19829e-06  chi(nested):    33.449 p-value for nested model:     7.31663e-09\n",
      "\n",
      " ~~~~~~~~~~~~~~~~~~~~~~~ \n",
      "UPA19_3.adm.IN_DS_Hejiatai_UstIshim_Mota_o281+HZ.log\n",
      "\n",
      "    fixed pat  wt  dof     chisq       tail prob\n",
      "           00  0    14    17.662        0.222608     7.151    -6.151  infeasible\n",
      "           01  1    15   357.588               0     1.000    -0.000 \n",
      "           10  1    15   425.361               0     0.000     1.000 \n",
      "best pat:           00                0              -  -\n",
      "best pat:           01      5.43006e-67  chi(nested):   339.926 p-value for nested model:     6.62065e-76\n",
      "\n",
      " ~~~~~~~~~~~~~~~~~~~~~~~ \n",
      "UPA19_3.adm.IN_DS_Hejiatai_Yana_Kostenki14_o281+HZ.log\n",
      "\n",
      "    fixed pat  wt  dof     chisq       tail prob\n",
      "           00  0    14    17.074        0.252245     4.165    -3.165  infeasible\n",
      "           01  1    15   430.700               0     1.000    -0.000 \n",
      "           10  1    15   556.819               0     0.000     1.000 \n",
      "best pat:           00                0              -  -\n",
      "best pat:           01      2.40582e-82  chi(nested):   413.626 p-value for nested model:      5.9698e-92\n",
      "\n"
     ]
    }
   ],
   "source": [
    "%%bash\n",
    "pd=\"/mnt/solexa/mel_yang/early_CN/firstdraft/qpadm_Laz2017/\"\n",
    "name=\"PDEAS\" #\n",
    "name=\"IN\" #\n",
    "target=\"Hejiatai\"\n",
    "suffix=\"_DS\"\n",
    "out=\"o281+HZ\"\n",
    "for target in ${target}; do \n",
    "    grep \"f4rank: 1\" ${pd}${name}/UPA19_3.adm.${name}${suffix}_${target}_*_${out}.log | awk '{ if ($8>0.05) print $1,$8}' | cut -d'/' -f9 | cut -d':' -f1,3\n",
    "    myfile=$(grep \"f4rank: 1\" ${pd}${name}/UPA19_3.adm.${name}${suffix}_${target}_*_${out}.log | awk '{ if ($8>0.05) print $1,$8}' | cut -d'/' -f9 | cut -d':' -f1)\n",
    "    for i in ${myfile}; do \n",
    "        echo \" ~~~~~~~~~~~~~~~~~~~~~~~ \"\n",
    "        echo ${i}\n",
    "        tail -n195 ${pd}${name}/${i} | head -n8\n",
    "        done\n",
    "    done"
   ]
  },
  {
   "cell_type": "code",
   "execution_count": null,
   "metadata": {
    "collapsed": true
   },
   "outputs": [],
   "source": []
  }
 ],
 "metadata": {
  "kernelspec": {
   "display_name": "Python 2",
   "language": "python",
   "name": "python2"
  },
  "language_info": {
   "codemirror_mode": {
    "name": "ipython",
    "version": 2
   },
   "file_extension": ".py",
   "mimetype": "text/x-python",
   "name": "python",
   "nbconvert_exporter": "python",
   "pygments_lexer": "ipython2",
   "version": "2.7.13"
  }
 },
 "nbformat": 4,
 "nbformat_minor": 2
}
